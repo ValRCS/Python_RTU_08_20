{
 "cells": [
  {
   "attachments": {},
   "cell_type": "markdown",
   "metadata": {},
   "source": [
    "# Open Food Facts\n",
    "\n",
    "## Working with REST API\n",
    "\n",
    "Documentation: https://world.openfoodfacts.org/data"
   ]
  },
  {
   "cell_type": "code",
   "execution_count": 1,
   "metadata": {},
   "outputs": [],
   "source": [
    "# we will need requests library to get the data from the API\n",
    "import requests"
   ]
  },
  {
   "cell_type": "code",
   "execution_count": 3,
   "metadata": {},
   "outputs": [
    {
     "data": {
      "text/plain": [
       "'https://world.openfoodfacts.org/api/v0/product/5900951028502.json'"
      ]
     },
     "execution_count": 3,
     "metadata": {},
     "output_type": "execute_result"
    }
   ],
   "source": [
    "# product_id = 737628064502\n",
    "product_id = 5900951028502\n",
    "url = f\"https://world.openfoodfacts.org/api/v0/product/{product_id}.json\"\n",
    "url"
   ]
  },
  {
   "cell_type": "code",
   "execution_count": 4,
   "metadata": {},
   "outputs": [
    {
     "data": {
      "text/plain": [
       "200"
      ]
     },
     "execution_count": 4,
     "metadata": {},
     "output_type": "execute_result"
    }
   ],
   "source": [
    "# now we make GET request to the API\n",
    "response = requests.get(url)\n",
    "# check the status code\n",
    "response.status_code"
   ]
  },
  {
   "cell_type": "code",
   "execution_count": 5,
   "metadata": {},
   "outputs": [
    {
     "data": {
      "text/plain": [
       "dict"
      ]
     },
     "execution_count": 5,
     "metadata": {},
     "output_type": "execute_result"
    }
   ],
   "source": [
    "# convert response to json\n",
    "data = response.json()\n",
    "type(data)"
   ]
  },
  {
   "cell_type": "code",
   "execution_count": 6,
   "metadata": {},
   "outputs": [
    {
     "data": {
      "text/plain": [
       "dict_keys(['code', 'product', 'status', 'status_verbose'])"
      ]
     },
     "execution_count": 6,
     "metadata": {},
     "output_type": "execute_result"
    }
   ],
   "source": [
    "# let's check what keys we have in the data\n",
    "data.keys()"
   ]
  },
  {
   "cell_type": "code",
   "execution_count": 9,
   "metadata": {},
   "outputs": [
    {
     "data": {
      "text/plain": [
       "(230,\n",
       " dict_keys(['_id', '_keywords', 'added_countries_tags', 'additives_debug_tags', 'additives_n', 'additives_old_n', 'additives_old_tags', 'additives_original_tags', 'additives_prev_original_tags', 'additives_tags', 'allergens', 'allergens_from_ingredients', 'allergens_from_user', 'allergens_hierarchy', 'allergens_lc', 'allergens_tags', 'amino_acids_prev_tags', 'amino_acids_tags', 'brands', 'brands_tags', 'carbon_footprint_percent_of_known_ingredients', 'categories', 'categories_hierarchy', 'categories_lc', 'categories_old', 'categories_properties', 'categories_properties_tags', 'categories_tags', 'category_properties', 'checkers_tags', 'ciqual_food_name_tags', 'cities_tags', 'code', 'codes_tags', 'compared_to_category', 'complete', 'completeness', 'correctors_tags', 'countries', 'countries_beforescanbot', 'countries_hierarchy', 'countries_lc', 'countries_tags', 'created_t', 'creator', 'data_quality_bugs_tags', 'data_quality_errors_tags', 'data_quality_info_tags', 'data_quality_tags', 'data_quality_warnings_tags', 'data_sources', 'data_sources_tags', 'debug_param_sorted_langs', 'ecoscore_data', 'ecoscore_grade', 'ecoscore_tags', 'editors_tags', 'emb_codes', 'emb_codes_orig', 'emb_codes_tags', 'entry_dates_tags', 'expiration_date', 'food_groups', 'food_groups_tags', 'fruits-vegetables-nuts_100g_estimate', 'generic_name_de', 'generic_name_en', 'generic_name_fr', 'id', 'image_front_small_url', 'image_front_thumb_url', 'image_front_url', 'image_ingredients_small_url', 'image_ingredients_thumb_url', 'image_ingredients_url', 'image_nutrition_small_url', 'image_nutrition_thumb_url', 'image_nutrition_url', 'image_small_url', 'image_thumb_url', 'image_url', 'images', 'informers_tags', 'ingredients', 'ingredients_analysis', 'ingredients_analysis_tags', 'ingredients_debug', 'ingredients_from_or_that_may_be_from_palm_oil_n', 'ingredients_from_palm_oil_n', 'ingredients_from_palm_oil_tags', 'ingredients_hierarchy', 'ingredients_ids_debug', 'ingredients_n', 'ingredients_n_tags', 'ingredients_original_tags', 'ingredients_percent_analysis', 'ingredients_tags', 'ingredients_text', 'ingredients_text_de', 'ingredients_text_debug', 'ingredients_text_en', 'ingredients_text_fr', 'ingredients_text_with_allergens', 'ingredients_text_with_allergens_de', 'ingredients_text_with_allergens_en', 'ingredients_text_with_allergens_fr', 'ingredients_that_may_be_from_palm_oil_n', 'ingredients_that_may_be_from_palm_oil_tags', 'ingredients_with_specified_percent_n', 'ingredients_with_specified_percent_sum', 'ingredients_with_unspecified_percent_n', 'ingredients_with_unspecified_percent_sum', 'interface_version_created', 'interface_version_modified', 'known_ingredients_n', 'labels', 'labels_hierarchy', 'labels_lc', 'labels_old', 'labels_tags', 'lang', 'languages', 'languages_codes', 'languages_hierarchy', 'languages_tags', 'last_edit_dates_tags', 'last_editor', 'last_image_dates_tags', 'last_image_t', 'last_modified_by', 'last_modified_t', 'lc', 'link', 'main_countries_tags', 'manufacturing_places', 'manufacturing_places_tags', 'max_imgid', 'minerals_prev_tags', 'minerals_tags', 'misc_tags', 'no_nutrition_data', 'nova_group', 'nova_group_debug', 'nova_groups', 'nova_groups_markers', 'nova_groups_tags', 'nucleotides_prev_tags', 'nucleotides_tags', 'nutrient_levels', 'nutrient_levels_tags', 'nutriments', 'nutriscore_data', 'nutriscore_grade', 'nutriscore_score', 'nutriscore_score_opposite', 'nutrition_data', 'nutrition_data_per', 'nutrition_data_prepared', 'nutrition_data_prepared_per', 'nutrition_grade_fr', 'nutrition_grades', 'nutrition_grades_tags', 'nutrition_score_beverage', 'nutrition_score_debug', 'nutrition_score_warning_fruits_vegetables_nuts_estimate_from_ingredients', 'nutrition_score_warning_fruits_vegetables_nuts_estimate_from_ingredients_value', 'nutrition_score_warning_no_fiber', 'obsolete', 'obsolete_since_date', 'origins', 'origins_hierarchy', 'origins_lc', 'origins_old', 'origins_tags', 'other_nutritional_substances_tags', 'packaging', 'packaging_hierarchy', 'packaging_lc', 'packaging_old', 'packaging_old_before_taxonomization', 'packaging_tags', 'packaging_text_de', 'packaging_text_en', 'packaging_text_fr', 'packagings', 'photographers_tags', 'pnns_groups_1', 'pnns_groups_1_tags', 'pnns_groups_2', 'pnns_groups_2_tags', 'popularity_key', 'popularity_tags', 'product_name', 'product_name_de', 'product_name_en', 'product_name_fr', 'product_name_pl', 'product_quantity', 'purchase_places', 'purchase_places_tags', 'quantity', 'removed_countries_tags', 'rev', 'scans_n', 'selected_images', 'serving_quantity', 'serving_size', 'sortkey', 'sources', 'states', 'states_hierarchy', 'states_tags', 'stores', 'stores_tags', 'teams', 'teams_tags', 'traces', 'traces_from_ingredients', 'traces_from_user', 'traces_hierarchy', 'traces_lc', 'traces_tags', 'unique_scans_n', 'unknown_ingredients_n', 'unknown_nutrients_tags', 'update_key', 'vitamins_prev_tags', 'vitamins_tags', 'weighers_tags', 'weighters_tags']))"
      ]
     },
     "execution_count": 9,
     "metadata": {},
     "output_type": "execute_result"
    }
   ],
   "source": [
    "product = data[\"product\"] # get the product dictionary\n",
    "len(product.keys()), product.keys()"
   ]
  },
  {
   "cell_type": "code",
   "execution_count": 10,
   "metadata": {},
   "outputs": [
    {
     "data": {
      "text/plain": [
       "'Twix'"
      ]
     },
     "execution_count": 10,
     "metadata": {},
     "output_type": "execute_result"
    }
   ],
   "source": [
    "product['brands']"
   ]
  },
  {
   "cell_type": "code",
   "execution_count": 11,
   "metadata": {},
   "outputs": [
    {
     "data": {
      "text/plain": [
       "(dict,\n",
       " 61,\n",
       " dict_keys(['carbohydrates', 'carbohydrates_100g', 'carbohydrates_serving', 'carbohydrates_unit', 'carbohydrates_value', 'carbon-footprint-from-known-ingredients_product', 'carbon-footprint-from-known-ingredients_serving', 'energy', 'energy-kcal', 'energy-kcal_100g', 'energy-kcal_serving', 'energy-kcal_unit', 'energy-kcal_value', 'energy-kcal_value_computed', 'energy-kj', 'energy-kj_100g', 'energy-kj_serving', 'energy-kj_unit', 'energy-kj_value', 'energy-kj_value_computed', 'energy_100g', 'energy_serving', 'energy_unit', 'energy_value', 'fat', 'fat_100g', 'fat_serving', 'fat_unit', 'fat_value', 'fruits-vegetables-nuts-estimate-from-ingredients_100g', 'fruits-vegetables-nuts-estimate-from-ingredients_serving', 'nova-group', 'nova-group_100g', 'nova-group_serving', 'nutrition-score-fr', 'nutrition-score-fr_100g', 'proteins', 'proteins_100g', 'proteins_serving', 'proteins_unit', 'proteins_value', 'salt', 'salt_100g', 'salt_serving', 'salt_unit', 'salt_value', 'saturated-fat', 'saturated-fat_100g', 'saturated-fat_serving', 'saturated-fat_unit', 'saturated-fat_value', 'sodium', 'sodium_100g', 'sodium_serving', 'sodium_unit', 'sodium_value', 'sugars', 'sugars_100g', 'sugars_serving', 'sugars_unit', 'sugars_value']))"
      ]
     },
     "execution_count": 11,
     "metadata": {},
     "output_type": "execute_result"
    }
   ],
   "source": [
    "# lets get nutrition facts\n",
    "nutriments = product[\"nutriments\"] # so we are 3 dictionaries deep\n",
    "type(nutriments), len(nutriments.keys()), nutriments.keys()"
   ]
  },
  {
   "cell_type": "code",
   "execution_count": 12,
   "metadata": {},
   "outputs": [
    {
     "data": {
      "text/plain": [
       "['carbohydrates',\n",
       " 'carbohydrates_100g',\n",
       " 'carbohydrates_serving',\n",
       " 'carbohydrates_unit',\n",
       " 'carbohydrates_value',\n",
       " 'carbon-footprint-from-known-ingredients_product',\n",
       " 'carbon-footprint-from-known-ingredients_serving']"
      ]
     },
     "execution_count": 12,
     "metadata": {},
     "output_type": "execute_result"
    }
   ],
   "source": [
    "# lets get all keys in nutriments which deal with carbohydrates\n",
    "carbs = [key for key in nutriments.keys() if \"carbo\" in key]\n",
    "carbs"
   ]
  },
  {
   "cell_type": "code",
   "execution_count": 13,
   "metadata": {},
   "outputs": [
    {
     "name": "stdout",
     "output_type": "stream",
     "text": [
      "carbohydrates 65\n",
      "carbohydrates_100g 65\n",
      "carbohydrates_serving 24.7\n",
      "carbohydrates_unit g\n",
      "carbohydrates_value 65\n"
     ]
    }
   ],
   "source": [
    "# lets get first 5 key,values in nutriments which deal with carbohydrates\n",
    "for key in carbs[:5]:\n",
    "    print(key, nutriments[key])\n"
   ]
  },
  {
   "cell_type": "code",
   "execution_count": 14,
   "metadata": {},
   "outputs": [
    {
     "data": {
      "text/plain": [
       "['fat',\n",
       " 'fat_100g',\n",
       " 'fat_serving',\n",
       " 'fat_unit',\n",
       " 'fat_value',\n",
       " 'saturated-fat',\n",
       " 'saturated-fat_100g',\n",
       " 'saturated-fat_serving',\n",
       " 'saturated-fat_unit',\n",
       " 'saturated-fat_value']"
      ]
     },
     "execution_count": 14,
     "metadata": {},
     "output_type": "execute_result"
    }
   ],
   "source": [
    "fats = [key for key in nutriments.keys() if \"fat\" in key]\n",
    "fats"
   ]
  },
  {
   "cell_type": "code",
   "execution_count": 15,
   "metadata": {},
   "outputs": [
    {
     "name": "stdout",
     "output_type": "stream",
     "text": [
      "fat 24\n",
      "fat_100g 24\n",
      "fat_serving 9.12\n",
      "fat_unit g\n",
      "fat_value 24\n"
     ]
    }
   ],
   "source": [
    "# again lets print first 5 key,values in nutriments which deal with fats\n",
    "for key in fats[:5]:\n",
    "    print(key, nutriments[key])"
   ]
  },
  {
   "cell_type": "code",
   "execution_count": 16,
   "metadata": {},
   "outputs": [
    {
     "data": {
      "text/plain": [
       "['proteins',\n",
       " 'proteins_100g',\n",
       " 'proteins_serving',\n",
       " 'proteins_unit',\n",
       " 'proteins_value']"
      ]
     },
     "execution_count": 16,
     "metadata": {},
     "output_type": "execute_result"
    }
   ],
   "source": [
    "# lets get all keys in nutriments which deal with proteins\n",
    "proteins = [key for key in nutriments.keys() if \"proteins\" in key]\n",
    "proteins"
   ]
  },
  {
   "cell_type": "code",
   "execution_count": 17,
   "metadata": {},
   "outputs": [
    {
     "name": "stdout",
     "output_type": "stream",
     "text": [
      "proteins 4.4\n",
      "proteins_100g 4.4\n",
      "proteins_serving 1.67\n",
      "proteins_unit g\n",
      "proteins_value 4.4\n"
     ]
    }
   ],
   "source": [
    "# lets get first 5 key,values in nutriments which deal with proteins\n",
    "for key in proteins[:5]:\n",
    "    print(key, nutriments[key])"
   ]
  },
  {
   "cell_type": "code",
   "execution_count": 19,
   "metadata": {},
   "outputs": [
    {
     "data": {
      "text/plain": [
       "[]"
      ]
     },
     "execution_count": 19,
     "metadata": {},
     "output_type": "execute_result"
    }
   ],
   "source": [
    "# lets get all keys in nutriments which deal with vitamins\n",
    "vitamins = [key for key in nutriments.keys() if \"vitamin\" in key]\n",
    "vitamins"
   ]
  },
  {
   "cell_type": "code",
   "execution_count": 21,
   "metadata": {},
   "outputs": [
    {
     "data": {
      "text/plain": [
       "[]"
      ]
     },
     "execution_count": 21,
     "metadata": {},
     "output_type": "execute_result"
    }
   ],
   "source": [
    "# lets get all keys in nutriments which deal with minerals\n",
    "minerals = [key for key in nutriments.keys() if \"mineral\" in key]\n",
    "minerals"
   ]
  },
  {
   "cell_type": "code",
   "execution_count": 22,
   "metadata": {},
   "outputs": [
    {
     "data": {
      "text/plain": [
       "['energy',\n",
       " 'energy-kcal',\n",
       " 'energy-kcal_100g',\n",
       " 'energy-kcal_serving',\n",
       " 'energy-kcal_unit',\n",
       " 'energy-kcal_value',\n",
       " 'energy-kcal_value_computed',\n",
       " 'energy-kj',\n",
       " 'energy-kj_100g',\n",
       " 'energy-kj_serving',\n",
       " 'energy-kj_unit',\n",
       " 'energy-kj_value',\n",
       " 'energy-kj_value_computed',\n",
       " 'energy_100g',\n",
       " 'energy_serving',\n",
       " 'energy_unit',\n",
       " 'energy_value']"
      ]
     },
     "execution_count": 22,
     "metadata": {},
     "output_type": "execute_result"
    }
   ],
   "source": [
    "# lets get all keys in nutriments which deal with energy\n",
    "energy = [key for key in nutriments.keys() if \"energy\" in key]\n",
    "energy"
   ]
  },
  {
   "cell_type": "code",
   "execution_count": 23,
   "metadata": {},
   "outputs": [
    {
     "name": "stdout",
     "output_type": "stream",
     "text": [
      "energy 2068\n",
      "energy-kcal 494\n",
      "energy-kcal_100g 494\n",
      "energy-kcal_serving 188\n",
      "energy-kcal_unit kcal\n",
      "energy-kcal_value 494\n",
      "energy-kcal_value_computed 493.6\n",
      "energy-kj 2068\n",
      "energy-kj_100g 2068\n",
      "energy-kj_serving 786\n",
      "energy-kj_unit kJ\n",
      "energy-kj_value 2068\n",
      "energy-kj_value_computed 2067.8\n",
      "energy_100g 2068\n",
      "energy_serving 786\n",
      "energy_unit kJ\n",
      "energy_value 2068\n"
     ]
    }
   ],
   "source": [
    "# lets pring all key values in nutriments which deal with energy\n",
    "for key in energy:\n",
    "    print(key, nutriments[key])"
   ]
  },
  {
   "cell_type": "code",
   "execution_count": 34,
   "metadata": {},
   "outputs": [],
   "source": [
    "# lets write a function that given product code id will return dictionary with the followin\n",
    "# keys: product_name, brands,\n",
    "# nutriments: carbs, fats, proteins, energy in 100g\n",
    "\n",
    "def get_product(product_id):\n",
    "    url = f\"https://world.openfoodfacts.org/api/v0/product/{product_id}.json\"\n",
    "    response = requests.get(url)\n",
    "    # add if statement to check if response is ok\n",
    "    if response.status_code != 200:\n",
    "        print(f\"Error: {response.status_code}\")\n",
    "        return None\n",
    "    data = response.json() # we convert json to dictionary in this case\n",
    "    product = data[\"product\"]\n",
    "    nutriments = product[\"nutriments\"]\n",
    "    carbs = [key for key in nutriments.keys() if \"carbo\" in key]\n",
    "    fats = [key for key in nutriments.keys() if \"fat\" in key]\n",
    "    proteins = [key for key in nutriments.keys() if \"proteins\" in key]\n",
    "    energy = [key for key in nutriments.keys() if \"energy\" in key]\n",
    "    # we are returning new dictionary\n",
    "    # to make this code less error prone I would suggest using get method whenever possible\n",
    "    # since our carb, fats, proteins, energy lists can be empty\n",
    "    return {\"product_name\": product[\"product_name\"],\n",
    "            \"brands\": product[\"brands\"],\n",
    "            carbs[0]: round(nutriments[carbs[0]],2), # TODO: add round function to round to 2 decimal places\n",
    "            fats[0]: nutriments[fats[0]],\n",
    "            proteins[0]: nutriments[proteins[0]],\n",
    "            energy[0]: nutriments[energy[0]]}"
   ]
  },
  {
   "cell_type": "code",
   "execution_count": 27,
   "metadata": {},
   "outputs": [
    {
     "data": {
      "text/plain": [
       "{'product_name': 'Twix Xtra',\n",
       " 'brands': 'Twix',\n",
       " 'carbohydrates': 65,\n",
       " 'fat': 24,\n",
       " 'proteins': 4.4,\n",
       " 'energy': 2068}"
      ]
     },
     "execution_count": 27,
     "metadata": {},
     "output_type": "execute_result"
    }
   ],
   "source": [
    "twix_data = get_product(5900951028502)\n",
    "twix_data"
   ]
  },
  {
   "cell_type": "code",
   "execution_count": 29,
   "metadata": {},
   "outputs": [],
   "source": [
    "# lets write a function to save our data to csv file\n",
    "import csv # standard library for working with csv files\n",
    "def save_dict(file_name, food_dict, append=False):\n",
    "    # we need to open file in append mode if we want to append to existing file\n",
    "    # otherwise we will overwrite existing file\n",
    "    mode = \"a\" if append else \"w\"\n",
    "    with open(file_name, mode, newline='', encoding=\"utf-8\") as csv_file:\n",
    "        # we need to specify fieldnames\n",
    "        # fieldnames = [\"product_name\", \"brands\", \"carbohydrates_100g\", \"fat_100g\", \"proteins_100g\", \"energy_100g\"]\n",
    "        fieldnames = list(food_dict.keys())\n",
    "        writer = csv.DictWriter(csv_file, fieldnames=fieldnames)\n",
    "        # we need to write header only if we are creating new file\n",
    "        if not append:\n",
    "            writer.writeheader()\n",
    "        writer.writerow(food_dict)\n"
   ]
  },
  {
   "cell_type": "code",
   "execution_count": 30,
   "metadata": {},
   "outputs": [],
   "source": [
    "save_dict(\"food.csv\", twix_data)"
   ]
  },
  {
   "cell_type": "code",
   "execution_count": 32,
   "metadata": {},
   "outputs": [
    {
     "data": {
      "text/plain": [
       "{'product_name': 'Heinz Beanz',\n",
       " 'brands': 'Heinz',\n",
       " 'carbohydrates': 15.5,\n",
       " 'fat': 0.400000005960464,\n",
       " 'proteins': 3.90000009536743,\n",
       " 'energy': 339}"
      ]
     },
     "execution_count": 32,
     "metadata": {},
     "output_type": "execute_result"
    }
   ],
   "source": [
    "# some_food = get_product(475007212717)\n",
    "some_food = get_product(5000157145413)\n",
    "some_food"
   ]
  },
  {
   "cell_type": "code",
   "execution_count": 33,
   "metadata": {},
   "outputs": [],
   "source": [
    "save_dict(\"food.csv\", some_food, append=True)"
   ]
  },
  {
   "cell_type": "code",
   "execution_count": null,
   "metadata": {},
   "outputs": [],
   "source": [
    "# now we just need a list of product ids"
   ]
  },
  {
   "cell_type": "code",
   "execution_count": null,
   "metadata": {},
   "outputs": [],
   "source": [
    "# we could read product ids from regular text file"
   ]
  }
 ],
 "metadata": {
  "kernelspec": {
   "display_name": "Python 3",
   "language": "python",
   "name": "python3"
  },
  "language_info": {
   "codemirror_mode": {
    "name": "ipython",
    "version": 3
   },
   "file_extension": ".py",
   "mimetype": "text/x-python",
   "name": "python",
   "nbconvert_exporter": "python",
   "pygments_lexer": "ipython3",
   "version": "3.11.3"
  },
  "orig_nbformat": 4
 },
 "nbformat": 4,
 "nbformat_minor": 2
}
