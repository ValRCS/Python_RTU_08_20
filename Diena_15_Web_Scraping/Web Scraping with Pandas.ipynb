{
 "cells": [
  {
   "cell_type": "code",
   "execution_count": 2,
   "metadata": {},
   "outputs": [],
   "source": [
    "import pandas as pd"
   ]
  },
  {
   "cell_type": "markdown",
   "metadata": {},
   "source": [
    "![Lapsiņa](https://raw.githubusercontent.com/mdn/beginner-html-site/gh-pages/images/firefox-icon.png)"
   ]
  },
  {
   "cell_type": "code",
   "execution_count": 1,
   "metadata": {},
   "outputs": [
    {
     "data": {
      "text/plain": [
       "'https://www.ss.com/lv/real-estate/flats/riga/centre/sell/'"
      ]
     },
     "execution_count": 1,
     "metadata": {},
     "output_type": "execute_result"
    }
   ],
   "source": [
    "# url = \"https://www.ss.com/lv/real-estate/flats/riga/centre/sell/\" \n",
    "# url = \"https://www.ss.com/lv/real-estate/homes-summer-residences/riga-region/all/sell/\"\n",
    "url = \"https://www.ss.com/lv/real-estate/flats/riga/centre/sell/\"\n",
    "# notice how we can specify some parameters in the url\n",
    "url"
   ]
  },
  {
   "cell_type": "code",
   "execution_count": 3,
   "metadata": {},
   "outputs": [
    {
     "data": {
      "text/plain": [
       "list"
      ]
     },
     "execution_count": 3,
     "metadata": {},
     "output_type": "execute_result"
    }
   ],
   "source": [
    "# pandas can do some web scraping as long as there are tables\n",
    "dfs = pd.read_html(url, header=0) # i know that i want the first row to server for column names\n",
    "type(dfs)"
   ]
  },
  {
   "cell_type": "code",
   "execution_count": 4,
   "metadata": {},
   "outputs": [
    {
     "data": {
      "text/plain": [
       "7"
      ]
     },
     "execution_count": 4,
     "metadata": {},
     "output_type": "execute_result"
    }
   ],
   "source": [
    "len(dfs) # why list and why such length ?\n",
    "# well ss.com was made in early 2000s when tables were used for everything"
   ]
  },
  {
   "cell_type": "code",
   "execution_count": null,
   "metadata": {},
   "outputs": [],
   "source": [
    "# https://pandas.pydata.org/pandas-docs/stable/reference/api/pandas.read_html.html\n",
    "# pandas reads tables by default ALL tables on the page\n"
   ]
  },
  {
   "cell_type": "code",
   "execution_count": 4,
   "metadata": {
    "scrolled": true
   },
   "outputs": [
    {
     "data": {
      "text/html": [
       "<div>\n",
       "<style scoped>\n",
       "    .dataframe tbody tr th:only-of-type {\n",
       "        vertical-align: middle;\n",
       "    }\n",
       "\n",
       "    .dataframe tbody tr th {\n",
       "        vertical-align: top;\n",
       "    }\n",
       "\n",
       "    .dataframe thead th {\n",
       "        text-align: right;\n",
       "    }\n",
       "</style>\n",
       "<table border=\"1\" class=\"dataframe\">\n",
       "  <thead>\n",
       "    <tr style=\"text-align: right;\">\n",
       "      <th></th>\n",
       "      <th>Sludinājumi \\tdatums</th>\n",
       "      <th>Sludinājumi \\tdatums.1</th>\n",
       "      <th>Sludinājumi \\tdatums.2</th>\n",
       "      <th>Iela</th>\n",
       "      <th>Ist.</th>\n",
       "      <th>m2</th>\n",
       "      <th>Stāvs</th>\n",
       "      <th>Sērija</th>\n",
       "      <th>Cena, m2</th>\n",
       "      <th>Cena</th>\n",
       "    </tr>\n",
       "  </thead>\n",
       "  <tbody>\n",
       "    <tr>\n",
       "      <th>0</th>\n",
       "      <td>NaN</td>\n",
       "      <td>NaN</td>\n",
       "      <td>Augstvērtīgs 5 istabu dzīvoklis ar divām autos...</td>\n",
       "      <td>J. Daliņa 8</td>\n",
       "      <td>5</td>\n",
       "      <td>200</td>\n",
       "      <td>20/24</td>\n",
       "      <td>Jaun.</td>\n",
       "      <td>3,000 €</td>\n",
       "      <td>600,000 €</td>\n",
       "    </tr>\n",
       "    <tr>\n",
       "      <th>1</th>\n",
       "      <td>NaN</td>\n",
       "      <td>NaN</td>\n",
       "      <td>Dzīvoklis atrodas centrā , pretim LU Svešvalod...</td>\n",
       "      <td>Visvalža 3a</td>\n",
       "      <td>2</td>\n",
       "      <td>52</td>\n",
       "      <td>5/5</td>\n",
       "      <td>P. kara</td>\n",
       "      <td>1,471 €</td>\n",
       "      <td>76,500 €</td>\n",
       "    </tr>\n",
       "    <tr>\n",
       "      <th>2</th>\n",
       "      <td>NaN</td>\n",
       "      <td>NaN</td>\n",
       "      <td>Remontēts 2 - istabu dzīvoklis pirmskara pagal...</td>\n",
       "      <td>Miera 10</td>\n",
       "      <td>2</td>\n",
       "      <td>75</td>\n",
       "      <td>3/5</td>\n",
       "      <td>P. kara</td>\n",
       "      <td>1,700 €</td>\n",
       "      <td>127,500 €</td>\n",
       "    </tr>\n",
       "    <tr>\n",
       "      <th>3</th>\n",
       "      <td>NaN</td>\n",
       "      <td>NaN</td>\n",
       "      <td>Īpašnieks pārdod vienistabas dzīvokli 29 m2 pl...</td>\n",
       "      <td>Tomsona 25</td>\n",
       "      <td>1</td>\n",
       "      <td>29</td>\n",
       "      <td>3/5</td>\n",
       "      <td>Hrušč.</td>\n",
       "      <td>1,717 €</td>\n",
       "      <td>49,800 €</td>\n",
       "    </tr>\n",
       "    <tr>\n",
       "      <th>4</th>\n",
       "      <td>NaN</td>\n",
       "      <td>NaN</td>\n",
       "      <td>Pārdošanā pilnībā mēbelētu dzīvokli pilsētas c...</td>\n",
       "      <td>Tērbatas 26a</td>\n",
       "      <td>2</td>\n",
       "      <td>37</td>\n",
       "      <td>4/6</td>\n",
       "      <td>Renov.</td>\n",
       "      <td>3,108 €</td>\n",
       "      <td>115,000 €</td>\n",
       "    </tr>\n",
       "  </tbody>\n",
       "</table>\n",
       "</div>"
      ],
      "text/plain": [
       "   Sludinājumi \\tdatums  Sludinājumi \\tdatums.1  \\\n",
       "0                   NaN                     NaN   \n",
       "1                   NaN                     NaN   \n",
       "2                   NaN                     NaN   \n",
       "3                   NaN                     NaN   \n",
       "4                   NaN                     NaN   \n",
       "\n",
       "                              Sludinājumi \\tdatums.2          Iela  Ist.   m2  \\\n",
       "0  Augstvērtīgs 5 istabu dzīvoklis ar divām autos...   J. Daliņa 8     5  200   \n",
       "1  Dzīvoklis atrodas centrā , pretim LU Svešvalod...   Visvalža 3a     2   52   \n",
       "2  Remontēts 2 - istabu dzīvoklis pirmskara pagal...      Miera 10     2   75   \n",
       "3  Īpašnieks pārdod vienistabas dzīvokli 29 m2 pl...    Tomsona 25     1   29   \n",
       "4  Pārdošanā pilnībā mēbelētu dzīvokli pilsētas c...  Tērbatas 26a     2   37   \n",
       "\n",
       "   Stāvs   Sērija Cena, m2       Cena  \n",
       "0  20/24    Jaun.  3,000 €  600,000 €  \n",
       "1    5/5  P. kara  1,471 €   76,500 €  \n",
       "2    3/5  P. kara  1,700 €  127,500 €  \n",
       "3    3/5   Hrušč.  1,717 €   49,800 €  \n",
       "4    4/6   Renov.  3,108 €  115,000 €  "
      ]
     },
     "execution_count": 4,
     "metadata": {},
     "output_type": "execute_result"
    }
   ],
   "source": [
    "df = dfs[4] # the 5th table on our page has our info\n",
    "# df = dfs[8] # 9th table for our riga region houses\n",
    "df.head()"
   ]
  },
  {
   "cell_type": "markdown",
   "metadata": {},
   "source": [
    "### df.shape"
   ]
  },
  {
   "cell_type": "code",
   "execution_count": 6,
   "metadata": {},
   "outputs": [],
   "source": [
    "df.to_json(\"center_jun30.json\")"
   ]
  },
  {
   "cell_type": "code",
   "execution_count": 7,
   "metadata": {},
   "outputs": [],
   "source": [
    "df.to_excel(\"center_jun30.xlsx\")"
   ]
  },
  {
   "cell_type": "code",
   "execution_count": 8,
   "metadata": {},
   "outputs": [],
   "source": [
    "url2 = \"https://www.ss.com/lv/real-estate/flats/riga/centre/sell/page2.html\""
   ]
  },
  {
   "cell_type": "code",
   "execution_count": 9,
   "metadata": {},
   "outputs": [
    {
     "data": {
      "text/plain": [
       "7"
      ]
     },
     "execution_count": 9,
     "metadata": {},
     "output_type": "execute_result"
    }
   ],
   "source": [
    "dflist = pd.read_html(url2, header=0)\n",
    "len(dflist)"
   ]
  },
  {
   "cell_type": "code",
   "execution_count": 10,
   "metadata": {},
   "outputs": [
    {
     "data": {
      "text/html": [
       "<div>\n",
       "<style scoped>\n",
       "    .dataframe tbody tr th:only-of-type {\n",
       "        vertical-align: middle;\n",
       "    }\n",
       "\n",
       "    .dataframe tbody tr th {\n",
       "        vertical-align: top;\n",
       "    }\n",
       "\n",
       "    .dataframe thead th {\n",
       "        text-align: right;\n",
       "    }\n",
       "</style>\n",
       "<table border=\"1\" class=\"dataframe\">\n",
       "  <thead>\n",
       "    <tr style=\"text-align: right;\">\n",
       "      <th></th>\n",
       "      <th>Sludinājumi \\tdatums</th>\n",
       "      <th>Sludinājumi \\tdatums.1</th>\n",
       "      <th>Sludinājumi \\tdatums.2</th>\n",
       "      <th>Iela</th>\n",
       "      <th>Ist.</th>\n",
       "      <th>m2</th>\n",
       "      <th>Stāvs</th>\n",
       "      <th>Sērija</th>\n",
       "      <th>Cena, m2</th>\n",
       "      <th>Cena</th>\n",
       "    </tr>\n",
       "  </thead>\n",
       "  <tbody>\n",
       "    <tr>\n",
       "      <th>0</th>\n",
       "      <td>NaN</td>\n",
       "      <td>NaN</td>\n",
       "      <td>Pārdod 4-istabu dzīvokli jaunajā, elitārajā mā...</td>\n",
       "      <td>Alauksta 9</td>\n",
       "      <td>4</td>\n",
       "      <td>136</td>\n",
       "      <td>6/6</td>\n",
       "      <td>Jaun.</td>\n",
       "      <td>1,912 €</td>\n",
       "      <td>260,000 €</td>\n",
       "    </tr>\n",
       "    <tr>\n",
       "      <th>1</th>\n",
       "      <td>NaN</td>\n",
       "      <td>NaN</td>\n",
       "      <td>Pārdod mājīgu dzīvokli Rīgas centrā blakus Bal...</td>\n",
       "      <td>Elijas 20</td>\n",
       "      <td>3</td>\n",
       "      <td>70</td>\n",
       "      <td>5/5</td>\n",
       "      <td>P. kara</td>\n",
       "      <td>1,386 €</td>\n",
       "      <td>97,000 €</td>\n",
       "    </tr>\n",
       "    <tr>\n",
       "      <th>2</th>\n",
       "      <td>NaN</td>\n",
       "      <td>NaN</td>\n",
       "      <td>В доме всего 4 квартиры. Есть своя зона барбек...</td>\n",
       "      <td>Stabu 78</td>\n",
       "      <td>3</td>\n",
       "      <td>63</td>\n",
       "      <td>1/2</td>\n",
       "      <td>P. kara</td>\n",
       "      <td>1,000 €</td>\n",
       "      <td>63,000 €</td>\n",
       "    </tr>\n",
       "    <tr>\n",
       "      <th>3</th>\n",
       "      <td>NaN</td>\n",
       "      <td>NaN</td>\n",
       "      <td>Pārdodas gaišs, saulains un mājīgs, plašs dzīv...</td>\n",
       "      <td>Vīlandes 5</td>\n",
       "      <td>4</td>\n",
       "      <td>200</td>\n",
       "      <td>4/5</td>\n",
       "      <td>Renov.</td>\n",
       "      <td>2,400 €</td>\n",
       "      <td>480,000 €</td>\n",
       "    </tr>\n",
       "    <tr>\n",
       "      <th>4</th>\n",
       "      <td>NaN</td>\n",
       "      <td>NaN</td>\n",
       "      <td>Pārdodu skaistu un mājīgu 2 istabu dzīvokli Ce...</td>\n",
       "      <td>Tallinas 52</td>\n",
       "      <td>2</td>\n",
       "      <td>59</td>\n",
       "      <td>4/5</td>\n",
       "      <td>P. kara</td>\n",
       "      <td>2,364 €</td>\n",
       "      <td>139,500 €</td>\n",
       "    </tr>\n",
       "  </tbody>\n",
       "</table>\n",
       "</div>"
      ],
      "text/plain": [
       "   Sludinājumi \\tdatums  Sludinājumi \\tdatums.1  \\\n",
       "0                   NaN                     NaN   \n",
       "1                   NaN                     NaN   \n",
       "2                   NaN                     NaN   \n",
       "3                   NaN                     NaN   \n",
       "4                   NaN                     NaN   \n",
       "\n",
       "                              Sludinājumi \\tdatums.2         Iela Ist.   m2  \\\n",
       "0  Pārdod 4-istabu dzīvokli jaunajā, elitārajā mā...   Alauksta 9    4  136   \n",
       "1  Pārdod mājīgu dzīvokli Rīgas centrā blakus Bal...    Elijas 20    3   70   \n",
       "2  В доме всего 4 квартиры. Есть своя зона барбек...     Stabu 78    3   63   \n",
       "3  Pārdodas gaišs, saulains un mājīgs, plašs dzīv...   Vīlandes 5    4  200   \n",
       "4  Pārdodu skaistu un mājīgu 2 istabu dzīvokli Ce...  Tallinas 52    2   59   \n",
       "\n",
       "  Stāvs   Sērija Cena, m2       Cena  \n",
       "0   6/6    Jaun.  1,912 €  260,000 €  \n",
       "1   5/5  P. kara  1,386 €   97,000 €  \n",
       "2   1/2  P. kara  1,000 €   63,000 €  \n",
       "3   4/5   Renov.  2,400 €  480,000 €  \n",
       "4   4/5  P. kara  2,364 €  139,500 €  "
      ]
     },
     "execution_count": 10,
     "metadata": {},
     "output_type": "execute_result"
    }
   ],
   "source": [
    "dflist[4].head() # getting start of 5th table from our 2nd html page"
   ]
  },
  {
   "cell_type": "code",
   "execution_count": 11,
   "metadata": {},
   "outputs": [
    {
     "data": {
      "text/html": [
       "<div>\n",
       "<style scoped>\n",
       "    .dataframe tbody tr th:only-of-type {\n",
       "        vertical-align: middle;\n",
       "    }\n",
       "\n",
       "    .dataframe tbody tr th {\n",
       "        vertical-align: top;\n",
       "    }\n",
       "\n",
       "    .dataframe thead th {\n",
       "        text-align: right;\n",
       "    }\n",
       "</style>\n",
       "<table border=\"1\" class=\"dataframe\">\n",
       "  <thead>\n",
       "    <tr style=\"text-align: right;\">\n",
       "      <th></th>\n",
       "      <th>Sludinājumi \\tdatums</th>\n",
       "      <th>Sludinājumi \\tdatums.1</th>\n",
       "      <th>Sludinājumi \\tdatums.2</th>\n",
       "      <th>Iela</th>\n",
       "      <th>Ist.</th>\n",
       "      <th>m2</th>\n",
       "      <th>Stāvs</th>\n",
       "      <th>Sērija</th>\n",
       "      <th>Cena, m2</th>\n",
       "      <th>Cena</th>\n",
       "    </tr>\n",
       "  </thead>\n",
       "  <tbody>\n",
       "    <tr>\n",
       "      <th>0</th>\n",
       "      <td>NaN</td>\n",
       "      <td>NaN</td>\n",
       "      <td>Augstvērtīgs 5 istabu dzīvoklis ar divām autos...</td>\n",
       "      <td>J. Daliņa 8</td>\n",
       "      <td>5</td>\n",
       "      <td>200</td>\n",
       "      <td>20/24</td>\n",
       "      <td>Jaun.</td>\n",
       "      <td>3,000 €</td>\n",
       "      <td>600,000 €</td>\n",
       "    </tr>\n",
       "    <tr>\n",
       "      <th>1</th>\n",
       "      <td>NaN</td>\n",
       "      <td>NaN</td>\n",
       "      <td>Dzīvoklis atrodas centrā , pretim LU Svešvalod...</td>\n",
       "      <td>Visvalža 3a</td>\n",
       "      <td>2</td>\n",
       "      <td>52</td>\n",
       "      <td>5/5</td>\n",
       "      <td>P. kara</td>\n",
       "      <td>1,471 €</td>\n",
       "      <td>76,500 €</td>\n",
       "    </tr>\n",
       "    <tr>\n",
       "      <th>2</th>\n",
       "      <td>NaN</td>\n",
       "      <td>NaN</td>\n",
       "      <td>Remontēts 2 - istabu dzīvoklis pirmskara pagal...</td>\n",
       "      <td>Miera 10</td>\n",
       "      <td>2</td>\n",
       "      <td>75</td>\n",
       "      <td>3/5</td>\n",
       "      <td>P. kara</td>\n",
       "      <td>1,700 €</td>\n",
       "      <td>127,500 €</td>\n",
       "    </tr>\n",
       "    <tr>\n",
       "      <th>3</th>\n",
       "      <td>NaN</td>\n",
       "      <td>NaN</td>\n",
       "      <td>Īpašnieks pārdod vienistabas dzīvokli 29 m2 pl...</td>\n",
       "      <td>Tomsona 25</td>\n",
       "      <td>1</td>\n",
       "      <td>29</td>\n",
       "      <td>3/5</td>\n",
       "      <td>Hrušč.</td>\n",
       "      <td>1,717 €</td>\n",
       "      <td>49,800 €</td>\n",
       "    </tr>\n",
       "    <tr>\n",
       "      <th>4</th>\n",
       "      <td>NaN</td>\n",
       "      <td>NaN</td>\n",
       "      <td>Pārdošanā pilnībā mēbelētu dzīvokli pilsētas c...</td>\n",
       "      <td>Tērbatas 26a</td>\n",
       "      <td>2</td>\n",
       "      <td>37</td>\n",
       "      <td>4/6</td>\n",
       "      <td>Renov.</td>\n",
       "      <td>3,108 €</td>\n",
       "      <td>115,000 €</td>\n",
       "    </tr>\n",
       "  </tbody>\n",
       "</table>\n",
       "</div>"
      ],
      "text/plain": [
       "   Sludinājumi \\tdatums  Sludinājumi \\tdatums.1  \\\n",
       "0                   NaN                     NaN   \n",
       "1                   NaN                     NaN   \n",
       "2                   NaN                     NaN   \n",
       "3                   NaN                     NaN   \n",
       "4                   NaN                     NaN   \n",
       "\n",
       "                              Sludinājumi \\tdatums.2          Iela Ist.   m2  \\\n",
       "0  Augstvērtīgs 5 istabu dzīvoklis ar divām autos...   J. Daliņa 8    5  200   \n",
       "1  Dzīvoklis atrodas centrā , pretim LU Svešvalod...   Visvalža 3a    2   52   \n",
       "2  Remontēts 2 - istabu dzīvoklis pirmskara pagal...      Miera 10    2   75   \n",
       "3  Īpašnieks pārdod vienistabas dzīvokli 29 m2 pl...    Tomsona 25    1   29   \n",
       "4  Pārdošanā pilnībā mēbelētu dzīvokli pilsētas c...  Tērbatas 26a    2   37   \n",
       "\n",
       "   Stāvs   Sērija Cena, m2       Cena  \n",
       "0  20/24    Jaun.  3,000 €  600,000 €  \n",
       "1    5/5  P. kara  1,471 €   76,500 €  \n",
       "2    3/5  P. kara  1,700 €  127,500 €  \n",
       "3    3/5   Hrušč.  1,717 €   49,800 €  \n",
       "4    4/6   Renov.  3,108 €  115,000 €  "
      ]
     },
     "execution_count": 11,
     "metadata": {},
     "output_type": "execute_result"
    }
   ],
   "source": [
    "bigdf = pd.concat([df, dflist[4]]) # concat creates a new dataframe from an iterable! of dataframes\n",
    "# https://pandas.pydata.org/pandas-docs/stable/reference/api/pandas.concat.html\n",
    "bigdf.head()"
   ]
  },
  {
   "cell_type": "code",
   "execution_count": 12,
   "metadata": {},
   "outputs": [
    {
     "data": {
      "text/plain": [
       "((30, 10), (30, 10), (60, 10))"
      ]
     },
     "execution_count": 12,
     "metadata": {},
     "output_type": "execute_result"
    }
   ],
   "source": [
    "df.shape, dflist[4].shape, bigdf.shape"
   ]
  },
  {
   "cell_type": "code",
   "execution_count": 11,
   "metadata": {},
   "outputs": [],
   "source": [
    "bigdf.to_excel(\"riga_center_60.xlsx\")"
   ]
  },
  {
   "cell_type": "code",
   "execution_count": null,
   "metadata": {},
   "outputs": [],
   "source": [
    "# so if we know the last page of\n"
   ]
  },
  {
   "cell_type": "code",
   "execution_count": null,
   "metadata": {},
   "outputs": [],
   "source": [
    "# Challenge how to automatically get all pages no matter how many ads?\n",
    "# how to scrape web address for each ad (in case we want to look in to the ad more in depth)"
   ]
  },
  {
   "cell_type": "code",
   "execution_count": 9,
   "metadata": {},
   "outputs": [
    {
     "data": {
      "text/plain": [
       "8"
      ]
     },
     "execution_count": 9,
     "metadata": {},
     "output_type": "execute_result"
    }
   ],
   "source": [
    "wiki_url = \"https://en.wikipedia.org/wiki/List_of_cities_and_towns_in_Latvia\"\n",
    "wikis = pd.read_html(wiki_url, header=0)\n",
    "len(wikis)"
   ]
  },
  {
   "cell_type": "code",
   "execution_count": 10,
   "metadata": {},
   "outputs": [
    {
     "name": "stdout",
     "output_type": "stream",
     "text": [
      "                                   City  Population (2013)[2]  \\\n",
      "0  Daugavpils pronunciation (help·info)                 93312   \n",
      "\n",
      "   Population (2019)[3]  \n",
      "0                 82604  \n",
      "                               Town  Population (2010)[2]  \\\n",
      "0  Ainaži pronunciation (help·info)                  1008   \n",
      "\n",
      "   Population (2018)[3]       Municipality[1]  \n",
      "0                   787  Limbaži Municipality  \n",
      "Empty DataFrame\n",
      "Columns: [Unnamed: 0, Wikimedia Commons has media related to Cities in Latvia.]\n",
      "Index: []\n",
      "  .mw-parser-output .navbar{display:inline;font-size:88%;font-weight:normal}.mw-parser-output .navbar-collapse{float:left;text-align:left}.mw-parser-output .navbar-boxtext{word-spacing:0}.mw-parser-output .navbar ul{display:inline-block;white-space:nowrap;line-height:inherit}.mw-parser-output .navbar-brackets::before{margin-right:-0.125em;content:\"[ \"}.mw-parser-output .navbar-brackets::after{margin-left:-0.125em;content:\" ]\"}.mw-parser-output .navbar li{word-spacing:-0.125em}.mw-parser-output .navbar a>span,.mw-parser-output .navbar a>abbr{text-decoration:inherit}.mw-parser-output .navbar-mini abbr{font-variant:small-caps;border-bottom:none;text-decoration:none;cursor:inherit}.mw-parser-output .navbar-ct-full{font-size:114%;margin:0 7em}.mw-parser-output .navbar-ct-mini{font-size:114%;margin:0 4em}vteDefunct counties and districts of Latvia  \\\n",
      "0            Former counties (dissolved before 1949)                                                                                                                                                                                                                                                                                                                                                                                                                                                                                                                                                                                                                                                                                                                                                                                                                                    \n",
      "\n",
      "  .mw-parser-output .navbar{display:inline;font-size:88%;font-weight:normal}.mw-parser-output .navbar-collapse{float:left;text-align:left}.mw-parser-output .navbar-boxtext{word-spacing:0}.mw-parser-output .navbar ul{display:inline-block;white-space:nowrap;line-height:inherit}.mw-parser-output .navbar-brackets::before{margin-right:-0.125em;content:\"[ \"}.mw-parser-output .navbar-brackets::after{margin-left:-0.125em;content:\" ]\"}.mw-parser-output .navbar li{word-spacing:-0.125em}.mw-parser-output .navbar a>span,.mw-parser-output .navbar a>abbr{text-decoration:inherit}.mw-parser-output .navbar-mini abbr{font-variant:small-caps;border-bottom:none;text-decoration:none;cursor:inherit}.mw-parser-output .navbar-ct-full{font-size:114%;margin:0 7em}.mw-parser-output .navbar-ct-mini{font-size:114%;margin:0 4em}vteDefunct counties and districts of Latvia.1  \n",
      "0  Abrenes apriņķis‎ Aizputes apriņķis‎ Bauskas a...                                                                                                                                                                                                                                                                                                                                                                                                                                                                                                                                                                                                                                                                                                                                                                                                                                     \n",
      "                 vteTowns with town rights in Latvia  \\\n",
      "0  Ainaži Aizkraukle Aizpute Aknīste Aloja Alūksn...   \n",
      "\n",
      "               vteTowns with town rights in Latvia.1  \n",
      "0  Ainaži Aizkraukle Aizpute Aknīste Aloja Alūksn...  \n",
      "  vteList of places in Europe  \\\n",
      "0            Sovereign states   \n",
      "\n",
      "                       vteList of places in Europe.1  \n",
      "0  Albania Andorra Armenia Austria Azerbaijan Bel...  \n",
      "  vteLists of cities in Europe  \\\n",
      "0             Sovereign states   \n",
      "\n",
      "                      vteLists of cities in Europe.1  \n",
      "0  Albania Andorra Armenia Austria Azerbaijan Bel...  \n",
      "  vteList of towns in Europe  \\\n",
      "0           Sovereign states   \n",
      "\n",
      "                        vteList of towns in Europe.1  \n",
      "0  Albania Andorra Armenia Austria Azerbaijan Bel...  \n"
     ]
    }
   ],
   "source": [
    "for wiki in wikis:\n",
    "    print(wiki.head(1))"
   ]
  },
  {
   "cell_type": "code",
   "execution_count": 11,
   "metadata": {},
   "outputs": [
    {
     "data": {
      "text/html": [
       "<div>\n",
       "<style scoped>\n",
       "    .dataframe tbody tr th:only-of-type {\n",
       "        vertical-align: middle;\n",
       "    }\n",
       "\n",
       "    .dataframe tbody tr th {\n",
       "        vertical-align: top;\n",
       "    }\n",
       "\n",
       "    .dataframe thead th {\n",
       "        text-align: right;\n",
       "    }\n",
       "</style>\n",
       "<table border=\"1\" class=\"dataframe\">\n",
       "  <thead>\n",
       "    <tr style=\"text-align: right;\">\n",
       "      <th></th>\n",
       "      <th>City</th>\n",
       "      <th>Population (2013)[2]</th>\n",
       "      <th>Population (2019)[3]</th>\n",
       "    </tr>\n",
       "  </thead>\n",
       "  <tbody>\n",
       "    <tr>\n",
       "      <th>0</th>\n",
       "      <td>Daugavpils pronunciation (help·info)</td>\n",
       "      <td>93312</td>\n",
       "      <td>82604</td>\n",
       "    </tr>\n",
       "    <tr>\n",
       "      <th>1</th>\n",
       "      <td>Jelgava pronunciation (help·info)</td>\n",
       "      <td>59511</td>\n",
       "      <td>55972</td>\n",
       "    </tr>\n",
       "    <tr>\n",
       "      <th>2</th>\n",
       "      <td>Jūrmala pronunciation (help·info)</td>\n",
       "      <td>50840</td>\n",
       "      <td>49325</td>\n",
       "    </tr>\n",
       "    <tr>\n",
       "      <th>3</th>\n",
       "      <td>Liepāja pronunciation (help·info)</td>\n",
       "      <td>76731</td>\n",
       "      <td>68945</td>\n",
       "    </tr>\n",
       "    <tr>\n",
       "      <th>4</th>\n",
       "      <td>Rēzekne pronunciation (help·info)</td>\n",
       "      <td>32328</td>\n",
       "      <td>27820</td>\n",
       "    </tr>\n",
       "  </tbody>\n",
       "</table>\n",
       "</div>"
      ],
      "text/plain": [
       "                                   City  Population (2013)[2]  \\\n",
       "0  Daugavpils pronunciation (help·info)                 93312   \n",
       "1     Jelgava pronunciation (help·info)                 59511   \n",
       "2     Jūrmala pronunciation (help·info)                 50840   \n",
       "3     Liepāja pronunciation (help·info)                 76731   \n",
       "4     Rēzekne pronunciation (help·info)                 32328   \n",
       "\n",
       "   Population (2019)[3]  \n",
       "0                 82604  \n",
       "1                 55972  \n",
       "2                 49325  \n",
       "3                 68945  \n",
       "4                 27820  "
      ]
     },
     "execution_count": 11,
     "metadata": {},
     "output_type": "execute_result"
    }
   ],
   "source": [
    "wikis[0].head()"
   ]
  },
  {
   "cell_type": "code",
   "execution_count": 13,
   "metadata": {},
   "outputs": [
    {
     "data": {
      "text/html": [
       "<div>\n",
       "<style scoped>\n",
       "    .dataframe tbody tr th:only-of-type {\n",
       "        vertical-align: middle;\n",
       "    }\n",
       "\n",
       "    .dataframe tbody tr th {\n",
       "        vertical-align: top;\n",
       "    }\n",
       "\n",
       "    .dataframe thead th {\n",
       "        text-align: right;\n",
       "    }\n",
       "</style>\n",
       "<table border=\"1\" class=\"dataframe\">\n",
       "  <thead>\n",
       "    <tr style=\"text-align: right;\">\n",
       "      <th></th>\n",
       "      <th>Town</th>\n",
       "      <th>Population (2010)[2]</th>\n",
       "      <th>Population (2018)[3]</th>\n",
       "      <th>Municipality[1]</th>\n",
       "    </tr>\n",
       "  </thead>\n",
       "  <tbody>\n",
       "    <tr>\n",
       "      <th>0</th>\n",
       "      <td>Ainaži pronunciation (help·info)</td>\n",
       "      <td>1008</td>\n",
       "      <td>787</td>\n",
       "      <td>Limbaži Municipality</td>\n",
       "    </tr>\n",
       "    <tr>\n",
       "      <th>1</th>\n",
       "      <td>Aizkraukle pronunciation (help·info)</td>\n",
       "      <td>8709</td>\n",
       "      <td>7489</td>\n",
       "      <td>Aizkraukle Municipality</td>\n",
       "    </tr>\n",
       "    <tr>\n",
       "      <th>2</th>\n",
       "      <td>Aizpute pronunciation (help·info)</td>\n",
       "      <td>5104</td>\n",
       "      <td>4443</td>\n",
       "      <td>South Kurzeme Municipality</td>\n",
       "    </tr>\n",
       "    <tr>\n",
       "      <th>3</th>\n",
       "      <td>Aknīste pronunciation (help·info)</td>\n",
       "      <td>1224</td>\n",
       "      <td>1078</td>\n",
       "      <td>Jēkabpils Municipality</td>\n",
       "    </tr>\n",
       "    <tr>\n",
       "      <th>4</th>\n",
       "      <td>Aloja pronunciation (help·info)</td>\n",
       "      <td>1353</td>\n",
       "      <td>1197</td>\n",
       "      <td>Limbaži Municipality</td>\n",
       "    </tr>\n",
       "  </tbody>\n",
       "</table>\n",
       "</div>"
      ],
      "text/plain": [
       "                                   Town  Population (2010)[2]  \\\n",
       "0      Ainaži pronunciation (help·info)                  1008   \n",
       "1  Aizkraukle pronunciation (help·info)                  8709   \n",
       "2     Aizpute pronunciation (help·info)                  5104   \n",
       "3     Aknīste pronunciation (help·info)                  1224   \n",
       "4       Aloja pronunciation (help·info)                  1353   \n",
       "\n",
       "   Population (2018)[3]             Municipality[1]  \n",
       "0                   787        Limbaži Municipality  \n",
       "1                  7489     Aizkraukle Municipality  \n",
       "2                  4443  South Kurzeme Municipality  \n",
       "3                  1078      Jēkabpils Municipality  \n",
       "4                  1197        Limbaži Municipality  "
      ]
     },
     "execution_count": 13,
     "metadata": {},
     "output_type": "execute_result"
    }
   ],
   "source": [
    "wikis[1].head(5)"
   ]
  }
 ],
 "metadata": {
  "kernelspec": {
   "display_name": "Python 3 (ipykernel)",
   "language": "python",
   "name": "python3"
  },
  "language_info": {
   "codemirror_mode": {
    "name": "ipython",
    "version": 3
   },
   "file_extension": ".py",
   "mimetype": "text/x-python",
   "name": "python",
   "nbconvert_exporter": "python",
   "pygments_lexer": "ipython3",
   "version": "3.9.7"
  }
 },
 "nbformat": 4,
 "nbformat_minor": 4
}
