{
 "cells": [
  {
   "cell_type": "code",
   "execution_count": 1,
   "metadata": {},
   "outputs": [],
   "source": [
    "import pandas as pd"
   ]
  },
  {
   "cell_type": "code",
   "execution_count": 3,
   "metadata": {},
   "outputs": [
    {
     "data": {
      "text/plain": [
       "'2.0.1'"
      ]
     },
     "execution_count": 3,
     "metadata": {},
     "output_type": "execute_result"
    }
   ],
   "source": [
    "pd.__version__"
   ]
  },
  {
   "attachments": {},
   "cell_type": "markdown",
   "metadata": {},
   "source": [
    "![Lapsiņa](https://raw.githubusercontent.com/mdn/beginner-html-site/gh-pages/images/firefox-icon.png)"
   ]
  },
  {
   "cell_type": "code",
   "execution_count": 2,
   "metadata": {},
   "outputs": [
    {
     "data": {
      "text/plain": [
       "'https://www.ss.com/lv/real-estate/flats/riga/centre/sell/'"
      ]
     },
     "execution_count": 2,
     "metadata": {},
     "output_type": "execute_result"
    }
   ],
   "source": [
    "# url = \"https://www.ss.com/lv/real-estate/flats/riga/centre/sell/\" \n",
    "# url = \"https://www.ss.com/lv/real-estate/homes-summer-residences/riga-region/all/sell/\"\n",
    "url = \"https://www.ss.com/lv/real-estate/flats/riga/centre/sell/\"\n",
    "# notice how we can specify some parameters in the url\n",
    "url"
   ]
  },
  {
   "cell_type": "code",
   "execution_count": 3,
   "metadata": {},
   "outputs": [
    {
     "data": {
      "text/plain": [
       "list"
      ]
     },
     "execution_count": 3,
     "metadata": {},
     "output_type": "execute_result"
    }
   ],
   "source": [
    "# pandas can do some web scraping as long as there are tables\n",
    "dfs = pd.read_html(url, header=0) # i know that i want the first row to server for column names\n",
    "type(dfs)"
   ]
  },
  {
   "cell_type": "code",
   "execution_count": 4,
   "metadata": {},
   "outputs": [
    {
     "data": {
      "text/plain": [
       "6"
      ]
     },
     "execution_count": 4,
     "metadata": {},
     "output_type": "execute_result"
    }
   ],
   "source": [
    "len(dfs) # why list and why such length ?\n",
    "# well ss.com was made in early 2000s when tables were used for everything"
   ]
  },
  {
   "cell_type": "code",
   "execution_count": null,
   "metadata": {},
   "outputs": [],
   "source": [
    "# https://pandas.pydata.org/pandas-docs/stable/reference/api/pandas.read_html.html\n",
    "# pandas reads tables by default ALL tables on the page\n"
   ]
  },
  {
   "cell_type": "code",
   "execution_count": 5,
   "metadata": {
    "scrolled": true
   },
   "outputs": [
    {
     "data": {
      "text/html": [
       "<div>\n",
       "<style scoped>\n",
       "    .dataframe tbody tr th:only-of-type {\n",
       "        vertical-align: middle;\n",
       "    }\n",
       "\n",
       "    .dataframe tbody tr th {\n",
       "        vertical-align: top;\n",
       "    }\n",
       "\n",
       "    .dataframe thead th {\n",
       "        text-align: right;\n",
       "    }\n",
       "</style>\n",
       "<table border=\"1\" class=\"dataframe\">\n",
       "  <thead>\n",
       "    <tr style=\"text-align: right;\">\n",
       "      <th></th>\n",
       "      <th>Sludinājumi \\tdatums</th>\n",
       "      <th>Sludinājumi \\tdatums.1</th>\n",
       "      <th>Sludinājumi \\tdatums.2</th>\n",
       "      <th>Iela</th>\n",
       "      <th>Ist.</th>\n",
       "      <th>m2</th>\n",
       "      <th>Stāvs</th>\n",
       "      <th>Sērija</th>\n",
       "      <th>Cena, m2</th>\n",
       "      <th>Cena</th>\n",
       "    </tr>\n",
       "  </thead>\n",
       "  <tbody>\n",
       "    <tr>\n",
       "      <th>0</th>\n",
       "      <td>NaN</td>\n",
       "      <td>NaN</td>\n",
       "      <td>Kluss. Panorāmas skats no logiem. Laba plānoju...</td>\n",
       "      <td>Teātra 12</td>\n",
       "      <td>5</td>\n",
       "      <td>136</td>\n",
       "      <td>6/7</td>\n",
       "      <td>P. kara</td>\n",
       "      <td>2,000 €</td>\n",
       "      <td>272,000 €</td>\n",
       "    </tr>\n",
       "    <tr>\n",
       "      <th>1</th>\n",
       "      <td>NaN</td>\n",
       "      <td>NaN</td>\n",
       "      <td>Vairāki pakāpieni uz leju. Daļa maksas var būt...</td>\n",
       "      <td>Duntes 26</td>\n",
       "      <td>3</td>\n",
       "      <td>67</td>\n",
       "      <td>1/6</td>\n",
       "      <td>Specpr.</td>\n",
       "      <td>143 €</td>\n",
       "      <td>9,580 €</td>\n",
       "    </tr>\n",
       "    <tr>\n",
       "      <th>2</th>\n",
       "      <td>NaN</td>\n",
       "      <td>NaN</td>\n",
       "      <td>Pārdodam dzīvokļus ēkā ar vēstures garšu. Reno...</td>\n",
       "      <td>Tomsona 33</td>\n",
       "      <td>3</td>\n",
       "      <td>64</td>\n",
       "      <td>4/5</td>\n",
       "      <td>Renov.</td>\n",
       "      <td>2,180 €</td>\n",
       "      <td>139,500 €</td>\n",
       "    </tr>\n",
       "    <tr>\n",
       "      <th>3</th>\n",
       "      <td>NaN</td>\n",
       "      <td>NaN</td>\n",
       "      <td>Pasteidzies. 80% dzīvokļu jau izpārdoti. Pārdo...</td>\n",
       "      <td>Brīvības 95</td>\n",
       "      <td>4</td>\n",
       "      <td>86</td>\n",
       "      <td>5/7</td>\n",
       "      <td>Renov.</td>\n",
       "      <td>2,198 €</td>\n",
       "      <td>189,000 €</td>\n",
       "    </tr>\n",
       "    <tr>\n",
       "      <th>4</th>\n",
       "      <td>NaN</td>\n",
       "      <td>NaN</td>\n",
       "      <td>Piedāvājumā 3 istabu dzīvoklis 4.stāvā ar skat...</td>\n",
       "      <td>Brīvības 95</td>\n",
       "      <td>3</td>\n",
       "      <td>86</td>\n",
       "      <td>4/7</td>\n",
       "      <td>Renov.</td>\n",
       "      <td>2,198 €</td>\n",
       "      <td>189,000 €</td>\n",
       "    </tr>\n",
       "  </tbody>\n",
       "</table>\n",
       "</div>"
      ],
      "text/plain": [
       "   Sludinājumi \\tdatums  Sludinājumi \\tdatums.1   \n",
       "0                   NaN                     NaN  \\\n",
       "1                   NaN                     NaN   \n",
       "2                   NaN                     NaN   \n",
       "3                   NaN                     NaN   \n",
       "4                   NaN                     NaN   \n",
       "\n",
       "                              Sludinājumi \\tdatums.2         Iela  Ist.   m2   \n",
       "0  Kluss. Panorāmas skats no logiem. Laba plānoju...    Teātra 12     5  136  \\\n",
       "1  Vairāki pakāpieni uz leju. Daļa maksas var būt...    Duntes 26     3   67   \n",
       "2  Pārdodam dzīvokļus ēkā ar vēstures garšu. Reno...   Tomsona 33     3   64   \n",
       "3  Pasteidzies. 80% dzīvokļu jau izpārdoti. Pārdo...  Brīvības 95     4   86   \n",
       "4  Piedāvājumā 3 istabu dzīvoklis 4.stāvā ar skat...  Brīvības 95     3   86   \n",
       "\n",
       "  Stāvs   Sērija Cena, m2       Cena  \n",
       "0   6/7  P. kara  2,000 €  272,000 €  \n",
       "1   1/6  Specpr.    143 €    9,580 €  \n",
       "2   4/5   Renov.  2,180 €  139,500 €  \n",
       "3   5/7   Renov.  2,198 €  189,000 €  \n",
       "4   4/7   Renov.  2,198 €  189,000 €  "
      ]
     },
     "execution_count": 5,
     "metadata": {},
     "output_type": "execute_result"
    }
   ],
   "source": [
    "df = dfs[4] # the 5th table on our page has our info\n",
    "# df = dfs[8] # 9th table for our riga region houses\n",
    "df.head()"
   ]
  },
  {
   "attachments": {},
   "cell_type": "markdown",
   "metadata": {},
   "source": [
    "### df.shape"
   ]
  },
  {
   "cell_type": "code",
   "execution_count": 6,
   "metadata": {},
   "outputs": [],
   "source": [
    "df.to_json(\"center_may11.json\")"
   ]
  },
  {
   "cell_type": "code",
   "execution_count": 7,
   "metadata": {},
   "outputs": [
    {
     "ename": "ModuleNotFoundError",
     "evalue": "No module named 'openpyxl'",
     "output_type": "error",
     "traceback": [
      "\u001b[1;31m---------------------------------------------------------------------------\u001b[0m",
      "\u001b[1;31mModuleNotFoundError\u001b[0m                       Traceback (most recent call last)",
      "Cell \u001b[1;32mIn[7], line 1\u001b[0m\n\u001b[1;32m----> 1\u001b[0m df\u001b[39m.\u001b[39;49mto_excel(\u001b[39m\"\u001b[39;49m\u001b[39mcenter_may11.xlsx\u001b[39;49m\u001b[39m\"\u001b[39;49m)\n",
      "File \u001b[1;32mc:\\Users\\val-wd\\AppData\\Local\\Programs\\Python\\Python311\\Lib\\site-packages\\pandas\\core\\generic.py:2252\u001b[0m, in \u001b[0;36mNDFrame.to_excel\u001b[1;34m(self, excel_writer, sheet_name, na_rep, float_format, columns, header, index, index_label, startrow, startcol, engine, merge_cells, inf_rep, freeze_panes, storage_options)\u001b[0m\n\u001b[0;32m   2239\u001b[0m \u001b[39mfrom\u001b[39;00m \u001b[39mpandas\u001b[39;00m\u001b[39m.\u001b[39;00m\u001b[39mio\u001b[39;00m\u001b[39m.\u001b[39;00m\u001b[39mformats\u001b[39;00m\u001b[39m.\u001b[39;00m\u001b[39mexcel\u001b[39;00m \u001b[39mimport\u001b[39;00m ExcelFormatter\n\u001b[0;32m   2241\u001b[0m formatter \u001b[39m=\u001b[39m ExcelFormatter(\n\u001b[0;32m   2242\u001b[0m     df,\n\u001b[0;32m   2243\u001b[0m     na_rep\u001b[39m=\u001b[39mna_rep,\n\u001b[1;32m   (...)\u001b[0m\n\u001b[0;32m   2250\u001b[0m     inf_rep\u001b[39m=\u001b[39minf_rep,\n\u001b[0;32m   2251\u001b[0m )\n\u001b[1;32m-> 2252\u001b[0m formatter\u001b[39m.\u001b[39;49mwrite(\n\u001b[0;32m   2253\u001b[0m     excel_writer,\n\u001b[0;32m   2254\u001b[0m     sheet_name\u001b[39m=\u001b[39;49msheet_name,\n\u001b[0;32m   2255\u001b[0m     startrow\u001b[39m=\u001b[39;49mstartrow,\n\u001b[0;32m   2256\u001b[0m     startcol\u001b[39m=\u001b[39;49mstartcol,\n\u001b[0;32m   2257\u001b[0m     freeze_panes\u001b[39m=\u001b[39;49mfreeze_panes,\n\u001b[0;32m   2258\u001b[0m     engine\u001b[39m=\u001b[39;49mengine,\n\u001b[0;32m   2259\u001b[0m     storage_options\u001b[39m=\u001b[39;49mstorage_options,\n\u001b[0;32m   2260\u001b[0m )\n",
      "File \u001b[1;32mc:\\Users\\val-wd\\AppData\\Local\\Programs\\Python\\Python311\\Lib\\site-packages\\pandas\\io\\formats\\excel.py:934\u001b[0m, in \u001b[0;36mExcelFormatter.write\u001b[1;34m(self, writer, sheet_name, startrow, startcol, freeze_panes, engine, storage_options)\u001b[0m\n\u001b[0;32m    930\u001b[0m     need_save \u001b[39m=\u001b[39m \u001b[39mFalse\u001b[39;00m\n\u001b[0;32m    931\u001b[0m \u001b[39melse\u001b[39;00m:\n\u001b[0;32m    932\u001b[0m     \u001b[39m# error: Cannot instantiate abstract class 'ExcelWriter' with abstract\u001b[39;00m\n\u001b[0;32m    933\u001b[0m     \u001b[39m# attributes 'engine', 'save', 'supported_extensions' and 'write_cells'\u001b[39;00m\n\u001b[1;32m--> 934\u001b[0m     writer \u001b[39m=\u001b[39m ExcelWriter(  \u001b[39m# type: ignore[abstract]\u001b[39;49;00m\n\u001b[0;32m    935\u001b[0m         writer, engine\u001b[39m=\u001b[39;49mengine, storage_options\u001b[39m=\u001b[39;49mstorage_options\n\u001b[0;32m    936\u001b[0m     )\n\u001b[0;32m    937\u001b[0m     need_save \u001b[39m=\u001b[39m \u001b[39mTrue\u001b[39;00m\n\u001b[0;32m    939\u001b[0m \u001b[39mtry\u001b[39;00m:\n",
      "File \u001b[1;32mc:\\Users\\val-wd\\AppData\\Local\\Programs\\Python\\Python311\\Lib\\site-packages\\pandas\\io\\excel\\_openpyxl.py:56\u001b[0m, in \u001b[0;36mOpenpyxlWriter.__init__\u001b[1;34m(self, path, engine, date_format, datetime_format, mode, storage_options, if_sheet_exists, engine_kwargs, **kwargs)\u001b[0m\n\u001b[0;32m     43\u001b[0m \u001b[39mdef\u001b[39;00m \u001b[39m__init__\u001b[39m(\n\u001b[0;32m     44\u001b[0m     \u001b[39mself\u001b[39m,\n\u001b[0;32m     45\u001b[0m     path: FilePath \u001b[39m|\u001b[39m WriteExcelBuffer \u001b[39m|\u001b[39m ExcelWriter,\n\u001b[1;32m   (...)\u001b[0m\n\u001b[0;32m     54\u001b[0m ) \u001b[39m-\u001b[39m\u001b[39m>\u001b[39m \u001b[39mNone\u001b[39;00m:\n\u001b[0;32m     55\u001b[0m     \u001b[39m# Use the openpyxl module as the Excel writer.\u001b[39;00m\n\u001b[1;32m---> 56\u001b[0m     \u001b[39mfrom\u001b[39;00m \u001b[39mopenpyxl\u001b[39;00m\u001b[39m.\u001b[39;00m\u001b[39mworkbook\u001b[39;00m \u001b[39mimport\u001b[39;00m Workbook\n\u001b[0;32m     58\u001b[0m     engine_kwargs \u001b[39m=\u001b[39m combine_kwargs(engine_kwargs, kwargs)\n\u001b[0;32m     60\u001b[0m     \u001b[39msuper\u001b[39m()\u001b[39m.\u001b[39m\u001b[39m__init__\u001b[39m(\n\u001b[0;32m     61\u001b[0m         path,\n\u001b[0;32m     62\u001b[0m         mode\u001b[39m=\u001b[39mmode,\n\u001b[1;32m   (...)\u001b[0m\n\u001b[0;32m     65\u001b[0m         engine_kwargs\u001b[39m=\u001b[39mengine_kwargs,\n\u001b[0;32m     66\u001b[0m     )\n",
      "\u001b[1;31mModuleNotFoundError\u001b[0m: No module named 'openpyxl'"
     ]
    }
   ],
   "source": [
    "df.to_excel(\"center_may11.xlsx\")"
   ]
  },
  {
   "cell_type": "code",
   "execution_count": 8,
   "metadata": {},
   "outputs": [],
   "source": [
    "url2 = \"https://www.ss.com/lv/real-estate/flats/riga/centre/sell/page2.html\""
   ]
  },
  {
   "cell_type": "code",
   "execution_count": 9,
   "metadata": {},
   "outputs": [
    {
     "data": {
      "text/plain": [
       "6"
      ]
     },
     "execution_count": 9,
     "metadata": {},
     "output_type": "execute_result"
    }
   ],
   "source": [
    "dflist = pd.read_html(url2, header=0)\n",
    "len(dflist)"
   ]
  },
  {
   "cell_type": "code",
   "execution_count": 10,
   "metadata": {},
   "outputs": [
    {
     "data": {
      "text/html": [
       "<div>\n",
       "<style scoped>\n",
       "    .dataframe tbody tr th:only-of-type {\n",
       "        vertical-align: middle;\n",
       "    }\n",
       "\n",
       "    .dataframe tbody tr th {\n",
       "        vertical-align: top;\n",
       "    }\n",
       "\n",
       "    .dataframe thead th {\n",
       "        text-align: right;\n",
       "    }\n",
       "</style>\n",
       "<table border=\"1\" class=\"dataframe\">\n",
       "  <thead>\n",
       "    <tr style=\"text-align: right;\">\n",
       "      <th></th>\n",
       "      <th>Sludinājumi \\tdatums</th>\n",
       "      <th>Sludinājumi \\tdatums.1</th>\n",
       "      <th>Sludinājumi \\tdatums.2</th>\n",
       "      <th>Iela</th>\n",
       "      <th>Ist.</th>\n",
       "      <th>m2</th>\n",
       "      <th>Stāvs</th>\n",
       "      <th>Sērija</th>\n",
       "      <th>Cena, m2</th>\n",
       "      <th>Cena</th>\n",
       "    </tr>\n",
       "  </thead>\n",
       "  <tbody>\n",
       "    <tr>\n",
       "      <th>0</th>\n",
       "      <td>NaN</td>\n",
       "      <td>NaN</td>\n",
       "      <td>Klusā, skaistā, zaļā vietā tiek pārdots trīsis...</td>\n",
       "      <td>Katrīnas d. 24a</td>\n",
       "      <td>3</td>\n",
       "      <td>84</td>\n",
       "      <td>1/3</td>\n",
       "      <td>Staļina</td>\n",
       "      <td>1,048 €</td>\n",
       "      <td>88,000 €</td>\n",
       "    </tr>\n",
       "    <tr>\n",
       "      <th>1</th>\n",
       "      <td>NaN</td>\n",
       "      <td>NaN</td>\n",
       "      <td>Īpašnieks pārdod svaigi izremontētu dzīvokli. ...</td>\n",
       "      <td>Valdemāra 23</td>\n",
       "      <td>3</td>\n",
       "      <td>96</td>\n",
       "      <td>2/6</td>\n",
       "      <td>P. kara</td>\n",
       "      <td>2,500 €</td>\n",
       "      <td>240,000 €</td>\n",
       "    </tr>\n",
       "    <tr>\n",
       "      <th>2</th>\n",
       "      <td>NaN</td>\n",
       "      <td>NaN</td>\n",
       "      <td>Dzīvoklis tikko pēc remonta. Dzīvojamā istaba ...</td>\n",
       "      <td>Valdemāra 73</td>\n",
       "      <td>3</td>\n",
       "      <td>60</td>\n",
       "      <td>6/6</td>\n",
       "      <td>P. kara</td>\n",
       "      <td>2,417 €</td>\n",
       "      <td>145,000 €</td>\n",
       "    </tr>\n",
       "    <tr>\n",
       "      <th>3</th>\n",
       "      <td>NaN</td>\n",
       "      <td>NaN</td>\n",
       "      <td>2 konkrētas automašīnas vietas slēgtā pagalmā....</td>\n",
       "      <td>Brīvības 142</td>\n",
       "      <td>5</td>\n",
       "      <td>108</td>\n",
       "      <td>2/6</td>\n",
       "      <td>Renov.</td>\n",
       "      <td>1,759 €</td>\n",
       "      <td>190,000 €</td>\n",
       "    </tr>\n",
       "    <tr>\n",
       "      <th>4</th>\n",
       "      <td>NaN</td>\n",
       "      <td>NaN</td>\n",
       "      <td>Только после капитального ремонта-новая сантех...</td>\n",
       "      <td>Duntes 29</td>\n",
       "      <td>1</td>\n",
       "      <td>21</td>\n",
       "      <td>2/3</td>\n",
       "      <td>P. kara</td>\n",
       "      <td>819 €</td>\n",
       "      <td>17,200 €</td>\n",
       "    </tr>\n",
       "  </tbody>\n",
       "</table>\n",
       "</div>"
      ],
      "text/plain": [
       "   Sludinājumi \\tdatums  Sludinājumi \\tdatums.1   \n",
       "0                   NaN                     NaN  \\\n",
       "1                   NaN                     NaN   \n",
       "2                   NaN                     NaN   \n",
       "3                   NaN                     NaN   \n",
       "4                   NaN                     NaN   \n",
       "\n",
       "                              Sludinājumi \\tdatums.2             Iela  Ist.   \n",
       "0  Klusā, skaistā, zaļā vietā tiek pārdots trīsis...  Katrīnas d. 24a     3  \\\n",
       "1  Īpašnieks pārdod svaigi izremontētu dzīvokli. ...     Valdemāra 23     3   \n",
       "2  Dzīvoklis tikko pēc remonta. Dzīvojamā istaba ...     Valdemāra 73     3   \n",
       "3  2 konkrētas automašīnas vietas slēgtā pagalmā....     Brīvības 142     5   \n",
       "4  Только после капитального ремонта-новая сантех...        Duntes 29     1   \n",
       "\n",
       "    m2 Stāvs   Sērija Cena, m2       Cena  \n",
       "0   84   1/3  Staļina  1,048 €   88,000 €  \n",
       "1   96   2/6  P. kara  2,500 €  240,000 €  \n",
       "2   60   6/6  P. kara  2,417 €  145,000 €  \n",
       "3  108   2/6   Renov.  1,759 €  190,000 €  \n",
       "4   21   2/3  P. kara    819 €   17,200 €  "
      ]
     },
     "execution_count": 10,
     "metadata": {},
     "output_type": "execute_result"
    }
   ],
   "source": [
    "dflist[4].head() # getting start of 5th table from our 2nd html page"
   ]
  },
  {
   "cell_type": "code",
   "execution_count": 11,
   "metadata": {},
   "outputs": [
    {
     "data": {
      "text/html": [
       "<div>\n",
       "<style scoped>\n",
       "    .dataframe tbody tr th:only-of-type {\n",
       "        vertical-align: middle;\n",
       "    }\n",
       "\n",
       "    .dataframe tbody tr th {\n",
       "        vertical-align: top;\n",
       "    }\n",
       "\n",
       "    .dataframe thead th {\n",
       "        text-align: right;\n",
       "    }\n",
       "</style>\n",
       "<table border=\"1\" class=\"dataframe\">\n",
       "  <thead>\n",
       "    <tr style=\"text-align: right;\">\n",
       "      <th></th>\n",
       "      <th>Sludinājumi \\tdatums</th>\n",
       "      <th>Sludinājumi \\tdatums.1</th>\n",
       "      <th>Sludinājumi \\tdatums.2</th>\n",
       "      <th>Iela</th>\n",
       "      <th>Ist.</th>\n",
       "      <th>m2</th>\n",
       "      <th>Stāvs</th>\n",
       "      <th>Sērija</th>\n",
       "      <th>Cena, m2</th>\n",
       "      <th>Cena</th>\n",
       "    </tr>\n",
       "  </thead>\n",
       "  <tbody>\n",
       "    <tr>\n",
       "      <th>0</th>\n",
       "      <td>NaN</td>\n",
       "      <td>NaN</td>\n",
       "      <td>Kluss. Panorāmas skats no logiem. Laba plānoju...</td>\n",
       "      <td>Teātra 12</td>\n",
       "      <td>5</td>\n",
       "      <td>136</td>\n",
       "      <td>6/7</td>\n",
       "      <td>P. kara</td>\n",
       "      <td>2,000 €</td>\n",
       "      <td>272,000 €</td>\n",
       "    </tr>\n",
       "    <tr>\n",
       "      <th>1</th>\n",
       "      <td>NaN</td>\n",
       "      <td>NaN</td>\n",
       "      <td>Vairāki pakāpieni uz leju. Daļa maksas var būt...</td>\n",
       "      <td>Duntes 26</td>\n",
       "      <td>3</td>\n",
       "      <td>67</td>\n",
       "      <td>1/6</td>\n",
       "      <td>Specpr.</td>\n",
       "      <td>143 €</td>\n",
       "      <td>9,580 €</td>\n",
       "    </tr>\n",
       "    <tr>\n",
       "      <th>2</th>\n",
       "      <td>NaN</td>\n",
       "      <td>NaN</td>\n",
       "      <td>Pārdodam dzīvokļus ēkā ar vēstures garšu. Reno...</td>\n",
       "      <td>Tomsona 33</td>\n",
       "      <td>3</td>\n",
       "      <td>64</td>\n",
       "      <td>4/5</td>\n",
       "      <td>Renov.</td>\n",
       "      <td>2,180 €</td>\n",
       "      <td>139,500 €</td>\n",
       "    </tr>\n",
       "    <tr>\n",
       "      <th>3</th>\n",
       "      <td>NaN</td>\n",
       "      <td>NaN</td>\n",
       "      <td>Pasteidzies. 80% dzīvokļu jau izpārdoti. Pārdo...</td>\n",
       "      <td>Brīvības 95</td>\n",
       "      <td>4</td>\n",
       "      <td>86</td>\n",
       "      <td>5/7</td>\n",
       "      <td>Renov.</td>\n",
       "      <td>2,198 €</td>\n",
       "      <td>189,000 €</td>\n",
       "    </tr>\n",
       "    <tr>\n",
       "      <th>4</th>\n",
       "      <td>NaN</td>\n",
       "      <td>NaN</td>\n",
       "      <td>Piedāvājumā 3 istabu dzīvoklis 4.stāvā ar skat...</td>\n",
       "      <td>Brīvības 95</td>\n",
       "      <td>3</td>\n",
       "      <td>86</td>\n",
       "      <td>4/7</td>\n",
       "      <td>Renov.</td>\n",
       "      <td>2,198 €</td>\n",
       "      <td>189,000 €</td>\n",
       "    </tr>\n",
       "  </tbody>\n",
       "</table>\n",
       "</div>"
      ],
      "text/plain": [
       "   Sludinājumi \\tdatums  Sludinājumi \\tdatums.1   \n",
       "0                   NaN                     NaN  \\\n",
       "1                   NaN                     NaN   \n",
       "2                   NaN                     NaN   \n",
       "3                   NaN                     NaN   \n",
       "4                   NaN                     NaN   \n",
       "\n",
       "                              Sludinājumi \\tdatums.2         Iela  Ist.   m2   \n",
       "0  Kluss. Panorāmas skats no logiem. Laba plānoju...    Teātra 12     5  136  \\\n",
       "1  Vairāki pakāpieni uz leju. Daļa maksas var būt...    Duntes 26     3   67   \n",
       "2  Pārdodam dzīvokļus ēkā ar vēstures garšu. Reno...   Tomsona 33     3   64   \n",
       "3  Pasteidzies. 80% dzīvokļu jau izpārdoti. Pārdo...  Brīvības 95     4   86   \n",
       "4  Piedāvājumā 3 istabu dzīvoklis 4.stāvā ar skat...  Brīvības 95     3   86   \n",
       "\n",
       "  Stāvs   Sērija Cena, m2       Cena  \n",
       "0   6/7  P. kara  2,000 €  272,000 €  \n",
       "1   1/6  Specpr.    143 €    9,580 €  \n",
       "2   4/5   Renov.  2,180 €  139,500 €  \n",
       "3   5/7   Renov.  2,198 €  189,000 €  \n",
       "4   4/7   Renov.  2,198 €  189,000 €  "
      ]
     },
     "execution_count": 11,
     "metadata": {},
     "output_type": "execute_result"
    }
   ],
   "source": [
    "bigdf = pd.concat([df, dflist[4]]) # concat creates a new dataframe from an iterable! of dataframes\n",
    "# https://pandas.pydata.org/pandas-docs/stable/reference/api/pandas.concat.html\n",
    "bigdf.head()"
   ]
  },
  {
   "cell_type": "code",
   "execution_count": 12,
   "metadata": {},
   "outputs": [
    {
     "data": {
      "text/plain": [
       "((30, 10), (30, 10), (60, 10))"
      ]
     },
     "execution_count": 12,
     "metadata": {},
     "output_type": "execute_result"
    }
   ],
   "source": [
    "df.shape, dflist[4].shape, bigdf.shape"
   ]
  },
  {
   "cell_type": "code",
   "execution_count": 11,
   "metadata": {},
   "outputs": [],
   "source": [
    "bigdf.to_excel(\"riga_center_60.xlsx\")"
   ]
  },
  {
   "cell_type": "code",
   "execution_count": 13,
   "metadata": {},
   "outputs": [],
   "source": [
    "# i could also save to csv\n",
    "bigdf.to_csv(\"riga_center_60.csv\")"
   ]
  },
  {
   "cell_type": "code",
   "execution_count": null,
   "metadata": {},
   "outputs": [],
   "source": [
    "# so if we know the last page of\n"
   ]
  },
  {
   "cell_type": "code",
   "execution_count": null,
   "metadata": {},
   "outputs": [],
   "source": [
    "# Challenge how to automatically get all pages no matter how many ads?\n",
    "# how to scrape web address for each ad (in case we want to look in to the ad more in depth)"
   ]
  },
  {
   "cell_type": "code",
   "execution_count": 9,
   "metadata": {},
   "outputs": [
    {
     "data": {
      "text/plain": [
       "8"
      ]
     },
     "execution_count": 9,
     "metadata": {},
     "output_type": "execute_result"
    }
   ],
   "source": [
    "wiki_url = \"https://en.wikipedia.org/wiki/List_of_cities_and_towns_in_Latvia\"\n",
    "wikis = pd.read_html(wiki_url, header=0)\n",
    "len(wikis)"
   ]
  },
  {
   "cell_type": "code",
   "execution_count": 10,
   "metadata": {},
   "outputs": [
    {
     "name": "stdout",
     "output_type": "stream",
     "text": [
      "                                   City  Population (2013)[2]  \\\n",
      "0  Daugavpils pronunciation (help·info)                 93312   \n",
      "\n",
      "   Population (2019)[3]  \n",
      "0                 82604  \n",
      "                               Town  Population (2010)[2]  \\\n",
      "0  Ainaži pronunciation (help·info)                  1008   \n",
      "\n",
      "   Population (2018)[3]       Municipality[1]  \n",
      "0                   787  Limbaži Municipality  \n",
      "Empty DataFrame\n",
      "Columns: [Unnamed: 0, Wikimedia Commons has media related to Cities in Latvia.]\n",
      "Index: []\n",
      "  .mw-parser-output .navbar{display:inline;font-size:88%;font-weight:normal}.mw-parser-output .navbar-collapse{float:left;text-align:left}.mw-parser-output .navbar-boxtext{word-spacing:0}.mw-parser-output .navbar ul{display:inline-block;white-space:nowrap;line-height:inherit}.mw-parser-output .navbar-brackets::before{margin-right:-0.125em;content:\"[ \"}.mw-parser-output .navbar-brackets::after{margin-left:-0.125em;content:\" ]\"}.mw-parser-output .navbar li{word-spacing:-0.125em}.mw-parser-output .navbar a>span,.mw-parser-output .navbar a>abbr{text-decoration:inherit}.mw-parser-output .navbar-mini abbr{font-variant:small-caps;border-bottom:none;text-decoration:none;cursor:inherit}.mw-parser-output .navbar-ct-full{font-size:114%;margin:0 7em}.mw-parser-output .navbar-ct-mini{font-size:114%;margin:0 4em}vteDefunct counties and districts of Latvia  \\\n",
      "0            Former counties (dissolved before 1949)                                                                                                                                                                                                                                                                                                                                                                                                                                                                                                                                                                                                                                                                                                                                                                                                                                    \n",
      "\n",
      "  .mw-parser-output .navbar{display:inline;font-size:88%;font-weight:normal}.mw-parser-output .navbar-collapse{float:left;text-align:left}.mw-parser-output .navbar-boxtext{word-spacing:0}.mw-parser-output .navbar ul{display:inline-block;white-space:nowrap;line-height:inherit}.mw-parser-output .navbar-brackets::before{margin-right:-0.125em;content:\"[ \"}.mw-parser-output .navbar-brackets::after{margin-left:-0.125em;content:\" ]\"}.mw-parser-output .navbar li{word-spacing:-0.125em}.mw-parser-output .navbar a>span,.mw-parser-output .navbar a>abbr{text-decoration:inherit}.mw-parser-output .navbar-mini abbr{font-variant:small-caps;border-bottom:none;text-decoration:none;cursor:inherit}.mw-parser-output .navbar-ct-full{font-size:114%;margin:0 7em}.mw-parser-output .navbar-ct-mini{font-size:114%;margin:0 4em}vteDefunct counties and districts of Latvia.1  \n",
      "0  Abrenes apriņķis‎ Aizputes apriņķis‎ Bauskas a...                                                                                                                                                                                                                                                                                                                                                                                                                                                                                                                                                                                                                                                                                                                                                                                                                                     \n",
      "                 vteTowns with town rights in Latvia  \\\n",
      "0  Ainaži Aizkraukle Aizpute Aknīste Aloja Alūksn...   \n",
      "\n",
      "               vteTowns with town rights in Latvia.1  \n",
      "0  Ainaži Aizkraukle Aizpute Aknīste Aloja Alūksn...  \n",
      "  vteList of places in Europe  \\\n",
      "0            Sovereign states   \n",
      "\n",
      "                       vteList of places in Europe.1  \n",
      "0  Albania Andorra Armenia Austria Azerbaijan Bel...  \n",
      "  vteLists of cities in Europe  \\\n",
      "0             Sovereign states   \n",
      "\n",
      "                      vteLists of cities in Europe.1  \n",
      "0  Albania Andorra Armenia Austria Azerbaijan Bel...  \n",
      "  vteList of towns in Europe  \\\n",
      "0           Sovereign states   \n",
      "\n",
      "                        vteList of towns in Europe.1  \n",
      "0  Albania Andorra Armenia Austria Azerbaijan Bel...  \n"
     ]
    }
   ],
   "source": [
    "for wiki in wikis:\n",
    "    print(wiki.head(1))"
   ]
  },
  {
   "cell_type": "code",
   "execution_count": 11,
   "metadata": {},
   "outputs": [
    {
     "data": {
      "text/html": [
       "<div>\n",
       "<style scoped>\n",
       "    .dataframe tbody tr th:only-of-type {\n",
       "        vertical-align: middle;\n",
       "    }\n",
       "\n",
       "    .dataframe tbody tr th {\n",
       "        vertical-align: top;\n",
       "    }\n",
       "\n",
       "    .dataframe thead th {\n",
       "        text-align: right;\n",
       "    }\n",
       "</style>\n",
       "<table border=\"1\" class=\"dataframe\">\n",
       "  <thead>\n",
       "    <tr style=\"text-align: right;\">\n",
       "      <th></th>\n",
       "      <th>City</th>\n",
       "      <th>Population (2013)[2]</th>\n",
       "      <th>Population (2019)[3]</th>\n",
       "    </tr>\n",
       "  </thead>\n",
       "  <tbody>\n",
       "    <tr>\n",
       "      <th>0</th>\n",
       "      <td>Daugavpils pronunciation (help·info)</td>\n",
       "      <td>93312</td>\n",
       "      <td>82604</td>\n",
       "    </tr>\n",
       "    <tr>\n",
       "      <th>1</th>\n",
       "      <td>Jelgava pronunciation (help·info)</td>\n",
       "      <td>59511</td>\n",
       "      <td>55972</td>\n",
       "    </tr>\n",
       "    <tr>\n",
       "      <th>2</th>\n",
       "      <td>Jūrmala pronunciation (help·info)</td>\n",
       "      <td>50840</td>\n",
       "      <td>49325</td>\n",
       "    </tr>\n",
       "    <tr>\n",
       "      <th>3</th>\n",
       "      <td>Liepāja pronunciation (help·info)</td>\n",
       "      <td>76731</td>\n",
       "      <td>68945</td>\n",
       "    </tr>\n",
       "    <tr>\n",
       "      <th>4</th>\n",
       "      <td>Rēzekne pronunciation (help·info)</td>\n",
       "      <td>32328</td>\n",
       "      <td>27820</td>\n",
       "    </tr>\n",
       "  </tbody>\n",
       "</table>\n",
       "</div>"
      ],
      "text/plain": [
       "                                   City  Population (2013)[2]  \\\n",
       "0  Daugavpils pronunciation (help·info)                 93312   \n",
       "1     Jelgava pronunciation (help·info)                 59511   \n",
       "2     Jūrmala pronunciation (help·info)                 50840   \n",
       "3     Liepāja pronunciation (help·info)                 76731   \n",
       "4     Rēzekne pronunciation (help·info)                 32328   \n",
       "\n",
       "   Population (2019)[3]  \n",
       "0                 82604  \n",
       "1                 55972  \n",
       "2                 49325  \n",
       "3                 68945  \n",
       "4                 27820  "
      ]
     },
     "execution_count": 11,
     "metadata": {},
     "output_type": "execute_result"
    }
   ],
   "source": [
    "wikis[0].head()"
   ]
  },
  {
   "cell_type": "code",
   "execution_count": 13,
   "metadata": {},
   "outputs": [
    {
     "data": {
      "text/html": [
       "<div>\n",
       "<style scoped>\n",
       "    .dataframe tbody tr th:only-of-type {\n",
       "        vertical-align: middle;\n",
       "    }\n",
       "\n",
       "    .dataframe tbody tr th {\n",
       "        vertical-align: top;\n",
       "    }\n",
       "\n",
       "    .dataframe thead th {\n",
       "        text-align: right;\n",
       "    }\n",
       "</style>\n",
       "<table border=\"1\" class=\"dataframe\">\n",
       "  <thead>\n",
       "    <tr style=\"text-align: right;\">\n",
       "      <th></th>\n",
       "      <th>Town</th>\n",
       "      <th>Population (2010)[2]</th>\n",
       "      <th>Population (2018)[3]</th>\n",
       "      <th>Municipality[1]</th>\n",
       "    </tr>\n",
       "  </thead>\n",
       "  <tbody>\n",
       "    <tr>\n",
       "      <th>0</th>\n",
       "      <td>Ainaži pronunciation (help·info)</td>\n",
       "      <td>1008</td>\n",
       "      <td>787</td>\n",
       "      <td>Limbaži Municipality</td>\n",
       "    </tr>\n",
       "    <tr>\n",
       "      <th>1</th>\n",
       "      <td>Aizkraukle pronunciation (help·info)</td>\n",
       "      <td>8709</td>\n",
       "      <td>7489</td>\n",
       "      <td>Aizkraukle Municipality</td>\n",
       "    </tr>\n",
       "    <tr>\n",
       "      <th>2</th>\n",
       "      <td>Aizpute pronunciation (help·info)</td>\n",
       "      <td>5104</td>\n",
       "      <td>4443</td>\n",
       "      <td>South Kurzeme Municipality</td>\n",
       "    </tr>\n",
       "    <tr>\n",
       "      <th>3</th>\n",
       "      <td>Aknīste pronunciation (help·info)</td>\n",
       "      <td>1224</td>\n",
       "      <td>1078</td>\n",
       "      <td>Jēkabpils Municipality</td>\n",
       "    </tr>\n",
       "    <tr>\n",
       "      <th>4</th>\n",
       "      <td>Aloja pronunciation (help·info)</td>\n",
       "      <td>1353</td>\n",
       "      <td>1197</td>\n",
       "      <td>Limbaži Municipality</td>\n",
       "    </tr>\n",
       "  </tbody>\n",
       "</table>\n",
       "</div>"
      ],
      "text/plain": [
       "                                   Town  Population (2010)[2]  \\\n",
       "0      Ainaži pronunciation (help·info)                  1008   \n",
       "1  Aizkraukle pronunciation (help·info)                  8709   \n",
       "2     Aizpute pronunciation (help·info)                  5104   \n",
       "3     Aknīste pronunciation (help·info)                  1224   \n",
       "4       Aloja pronunciation (help·info)                  1353   \n",
       "\n",
       "   Population (2018)[3]             Municipality[1]  \n",
       "0                   787        Limbaži Municipality  \n",
       "1                  7489     Aizkraukle Municipality  \n",
       "2                  4443  South Kurzeme Municipality  \n",
       "3                  1078      Jēkabpils Municipality  \n",
       "4                  1197        Limbaži Municipality  "
      ]
     },
     "execution_count": 13,
     "metadata": {},
     "output_type": "execute_result"
    }
   ],
   "source": [
    "wikis[1].head(5)"
   ]
  }
 ],
 "metadata": {
  "kernelspec": {
   "display_name": "Python 3 (ipykernel)",
   "language": "python",
   "name": "python3"
  },
  "language_info": {
   "codemirror_mode": {
    "name": "ipython",
    "version": 3
   },
   "file_extension": ".py",
   "mimetype": "text/x-python",
   "name": "python",
   "nbconvert_exporter": "python",
   "pygments_lexer": "ipython3",
   "version": "3.11.3"
  }
 },
 "nbformat": 4,
 "nbformat_minor": 4
}
