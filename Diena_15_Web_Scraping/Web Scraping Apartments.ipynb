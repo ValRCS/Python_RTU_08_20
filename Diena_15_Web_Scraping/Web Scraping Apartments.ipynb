{
 "cells": [
  {
   "cell_type": "code",
   "execution_count": 1,
   "metadata": {},
   "outputs": [],
   "source": [
    "# Requests for handling HTTP get and other requests\n",
    "import requests\n",
    "import time # import for playing nice and not getting blocked\n",
    "import pandas as pd\n",
    "# from BeautifulSoup4 import BeatifulSoup if installed through pip install BeautifulSoup4\n",
    "# \n",
    "from bs4 import BeautifulSoup"
   ]
  },
  {
   "cell_type": "code",
   "execution_count": null,
   "metadata": {},
   "outputs": [],
   "source": [
    "# if bs4 not found install it with\n",
    "#  !pip install beatifulsoup4\n",
    "# https://www.crummy.com/software/BeautifulSoup/"
   ]
  },
  {
   "cell_type": "code",
   "execution_count": null,
   "metadata": {},
   "outputs": [],
   "source": [
    "!dir\n",
    "# ar ! i can run command line commands"
   ]
  },
  {
   "cell_type": "code",
   "execution_count": null,
   "metadata": {},
   "outputs": [],
   "source": []
  },
  {
   "cell_type": "code",
   "execution_count": 2,
   "metadata": {},
   "outputs": [],
   "source": [
    "# centrs = \"https://www.ss.com/lv/real-estate/flats/riga/centre/sell/\"\n",
    "# url = \"https://www.ss.com/lv/real-estate/homes-summer-residences/riga-region/all/sell/\"\n",
    "url = \"https://www.ss.com/lv/real-estate/flats/riga/centre/sell/\""
   ]
  },
  {
   "cell_type": "code",
   "execution_count": 3,
   "metadata": {},
   "outputs": [
    {
     "data": {
      "text/plain": [
       "200"
      ]
     },
     "execution_count": 3,
     "metadata": {},
     "output_type": "execute_result"
    }
   ],
   "source": [
    "req = requests.get(url) # so here we make a call to webpage via HTTP GET request and get something back\n",
    "req.status_code # we could add if to check for 200"
   ]
  },
  {
   "cell_type": "code",
   "execution_count": 4,
   "metadata": {},
   "outputs": [
    {
     "data": {
      "text/plain": [
       "'<!DOCTYPE html>\\r\\n<HTML><HEAD>\\r\\n<title>SS.COM Dzīvokļi - Rīga - Centrs, Cenas, Pārdod - Sludinājumi</title>\\r\\n<meta http-equiv=\"Content-Type\" CONTENT=\"text/html; charset=UTF-8\">\\r\\n<meta name=\"viewport\" c'"
      ]
     },
     "execution_count": 4,
     "metadata": {},
     "output_type": "execute_result"
    }
   ],
   "source": [
    "req.text[:200]"
   ]
  },
  {
   "cell_type": "code",
   "execution_count": 5,
   "metadata": {},
   "outputs": [
    {
     "data": {
      "text/plain": [
       "2"
      ]
     },
     "execution_count": 5,
     "metadata": {},
     "output_type": "execute_result"
    }
   ],
   "source": [
    "req.text.count(\"Stabu\")  # we could parse it ourselves but why bother when we have libraries ?"
   ]
  },
  {
   "cell_type": "code",
   "execution_count": 6,
   "metadata": {},
   "outputs": [
    {
     "data": {
      "text/plain": [
       "15720"
      ]
     },
     "execution_count": 6,
     "metadata": {},
     "output_type": "execute_result"
    }
   ],
   "source": [
    "req.text.index(\"Stabu\")"
   ]
  },
  {
   "cell_type": "code",
   "execution_count": 7,
   "metadata": {},
   "outputs": [
    {
     "data": {
      "text/plain": [
       "requests.models.Response"
      ]
     },
     "execution_count": 7,
     "metadata": {},
     "output_type": "execute_result"
    }
   ],
   "source": [
    "type(req)"
   ]
  },
  {
   "cell_type": "code",
   "execution_count": null,
   "metadata": {},
   "outputs": [],
   "source": [
    "# req.json() will not work since this page is not JSON!"
   ]
  },
  {
   "cell_type": "code",
   "execution_count": 8,
   "metadata": {},
   "outputs": [
    {
     "data": {
      "text/plain": [
       "'Stabu</option><option value=\"5312\">Strēlnieku</option><option value=\"5353\">Tallinas</option><option '"
      ]
     },
     "execution_count": 8,
     "metadata": {},
     "output_type": "execute_result"
    }
   ],
   "source": [
    "req.text[req.text.index(\"Stabu\"):req.text.index(\"Stabu\")+100] # we could do parsing by hand but usually we want to use a premade parser"
   ]
  },
  {
   "cell_type": "code",
   "execution_count": 9,
   "metadata": {},
   "outputs": [
    {
     "data": {
      "text/plain": [
       "<title>SS.COM Dzīvokļi - Rīga - Centrs, Cenas, Pārdod - Sludinājumi</title>"
      ]
     },
     "execution_count": 9,
     "metadata": {},
     "output_type": "execute_result"
    }
   ],
   "source": [
    "# parser means structuring your text into some structure\n",
    "soup = BeautifulSoup(req.text, 'lxml') # lxml is improved parser, a little bit more lenient\n",
    "# soup = BeautifulSoup(req.text) # could use Python's built in HTML parser\n",
    "soup.title"
   ]
  },
  {
   "cell_type": "code",
   "execution_count": 10,
   "metadata": {},
   "outputs": [
    {
     "data": {
      "text/plain": [
       "bs4.BeautifulSoup"
      ]
     },
     "execution_count": 10,
     "metadata": {},
     "output_type": "execute_result"
    }
   ],
   "source": [
    "type(soup)"
   ]
  },
  {
   "cell_type": "code",
   "execution_count": null,
   "metadata": {},
   "outputs": [],
   "source": []
  },
  {
   "cell_type": "code",
   "execution_count": 11,
   "metadata": {},
   "outputs": [
    {
     "data": {
      "text/plain": [
       "7"
      ]
     },
     "execution_count": 11,
     "metadata": {},
     "output_type": "execute_result"
    }
   ],
   "source": [
    "# https://www.crummy.com/software/BeautifulSoup/bs4/doc/#find-all\n",
    "# https://developer.mozilla.org/en-US/docs/Web/HTML/Element/table\n",
    "tables = soup.find_all(\"table\") # finds ALL elements matching our filter\n",
    "len(tables) "
   ]
  },
  {
   "cell_type": "code",
   "execution_count": 12,
   "metadata": {},
   "outputs": [
    {
     "data": {
      "text/plain": [
       "<tr id=\"head_line\">\n",
       "<td class=\"msg_column\" colspan=\"3\" width=\"70%\">\n",
       "<span style=\"float:left;\"> Sludinājumi\n",
       "</span>\n",
       "<span align=\"right\" class=\"msg_column\" style=\"float:right;text-align:right;padding-right:3px;\">\n",
       "<noindex>\n",
       "<a class=\"a19\" href=\"/lv/real-estate/flats/riga/centre/sell/fDgSeF4S.html\" rel=\"nofollow\">datums</a></noindex></span>\n",
       "</td>\n",
       "<td class=\"msg_column_td\" nowrap=\"\"><noindex><a class=\"a18\" href=\"/lv/real-estate/flats/riga/centre/sell/fDgSeF4SFDwT.html\" rel=\"nofollow\" title=\"\">Iela</a></noindex></td><td class=\"msg_column_td\" nowrap=\"\"><noindex><a class=\"a18\" href=\"/lv/real-estate/flats/riga/centre/sell/fDgSeF4SelM=.html\" rel=\"nofollow\" title=\"\">Ist.</a></noindex></td><td class=\"msg_column_td\" nowrap=\"\"><noindex><a class=\"a18\" href=\"/lv/real-estate/flats/riga/centre/sell/fDgSeF4QelM=.html\" rel=\"nofollow\" title=\"\">m2</a></noindex></td><td class=\"msg_column_td\" nowrap=\"\"><noindex><a class=\"a18\" href=\"/lv/real-estate/flats/riga/centre/sell/fDgSeF4XelM=.html\" rel=\"nofollow\" title=\"\">Stāvs</a></noindex></td><td class=\"msg_column_td\" nowrap=\"\"><noindex><a class=\"a18\" href=\"/lv/real-estate/flats/riga/centre/sell/fDgSeF4VelM=.html\" rel=\"nofollow\" title=\"\">Sērija</a></noindex></td><td background=\"https://i.ss.com/img/pl.gif\" class=\"msg_column\" nowrap=\"\" style=\"border-left:1px #FFFFFF solid;\"><noindex><a class=\"a18\" href=\"/lv/real-estate/flats/riga/centre/sell/fDgSeF4bRDwT.html\" rel=\"nofollow\">Cena, m2</a></noindex></td><td class=\"msg_column_td\" nowrap=\"\"><noindex><a class=\"a18\" href=\"/lv/real-estate/flats/riga/centre/sell/fDgSeF4belM=.html\" rel=\"nofollow\" title=\"\">Cena</a></noindex></td></tr>"
      ]
     },
     "execution_count": 12,
     "metadata": {},
     "output_type": "execute_result"
    }
   ],
   "source": [
    "# find finds just one match - first that matches\n",
    "# tr table row - https://developer.mozilla.org/en-US/docs/Web/HTML/Element/tr\n",
    "headline = soup.find(\"tr\", {\"id\":\"head_line\"}) # this is a shorter way of finding by tr AND this element having particular id\n",
    "headline"
   ]
  },
  {
   "cell_type": "code",
   "execution_count": 13,
   "metadata": {},
   "outputs": [
    {
     "data": {
      "text/plain": [
       "bs4.element.Tag"
      ]
     },
     "execution_count": 13,
     "metadata": {},
     "output_type": "execute_result"
    }
   ],
   "source": [
    "type(headline)"
   ]
  },
  {
   "cell_type": "code",
   "execution_count": 14,
   "metadata": {},
   "outputs": [
    {
     "data": {
      "text/plain": [
       "'\\n\\n\\xa0Sludinājumi\\r\\n\\n\\n\\ndatums\\n\\nIelaIst.m2StāvsSērijaCena, m2Cena'"
      ]
     },
     "execution_count": 14,
     "metadata": {},
     "output_type": "execute_result"
    }
   ],
   "source": [
    "headline.text  # i could use split here but we can go deeper!"
   ]
  },
  {
   "cell_type": "code",
   "execution_count": 15,
   "metadata": {},
   "outputs": [
    {
     "data": {
      "text/plain": [
       "['Sludinājumi', 'datums', 'IelaIst.m2StāvsSērijaCena,', 'm2Cena']"
      ]
     },
     "execution_count": 15,
     "metadata": {},
     "output_type": "execute_result"
    }
   ],
   "source": [
    "headline.text.split()"
   ]
  },
  {
   "cell_type": "code",
   "execution_count": 16,
   "metadata": {},
   "outputs": [
    {
     "data": {
      "text/plain": [
       "[<td class=\"msg_column\" colspan=\"3\" width=\"70%\">\n",
       " <span style=\"float:left;\"> Sludinājumi\n",
       " </span>\n",
       " <span align=\"right\" class=\"msg_column\" style=\"float:right;text-align:right;padding-right:3px;\">\n",
       " <noindex>\n",
       " <a class=\"a19\" href=\"/lv/real-estate/flats/riga/centre/sell/fDgSeF4S.html\" rel=\"nofollow\">datums</a></noindex></span>\n",
       " </td>,\n",
       " <td class=\"msg_column_td\" nowrap=\"\"><noindex><a class=\"a18\" href=\"/lv/real-estate/flats/riga/centre/sell/fDgSeF4SFDwT.html\" rel=\"nofollow\" title=\"\">Iela</a></noindex></td>,\n",
       " <td class=\"msg_column_td\" nowrap=\"\"><noindex><a class=\"a18\" href=\"/lv/real-estate/flats/riga/centre/sell/fDgSeF4SelM=.html\" rel=\"nofollow\" title=\"\">Ist.</a></noindex></td>,\n",
       " <td class=\"msg_column_td\" nowrap=\"\"><noindex><a class=\"a18\" href=\"/lv/real-estate/flats/riga/centre/sell/fDgSeF4QelM=.html\" rel=\"nofollow\" title=\"\">m2</a></noindex></td>,\n",
       " <td class=\"msg_column_td\" nowrap=\"\"><noindex><a class=\"a18\" href=\"/lv/real-estate/flats/riga/centre/sell/fDgSeF4XelM=.html\" rel=\"nofollow\" title=\"\">Stāvs</a></noindex></td>,\n",
       " <td class=\"msg_column_td\" nowrap=\"\"><noindex><a class=\"a18\" href=\"/lv/real-estate/flats/riga/centre/sell/fDgSeF4VelM=.html\" rel=\"nofollow\" title=\"\">Sērija</a></noindex></td>,\n",
       " <td background=\"https://i.ss.com/img/pl.gif\" class=\"msg_column\" nowrap=\"\" style=\"border-left:1px #FFFFFF solid;\"><noindex><a class=\"a18\" href=\"/lv/real-estate/flats/riga/centre/sell/fDgSeF4bRDwT.html\" rel=\"nofollow\">Cena, m2</a></noindex></td>,\n",
       " <td class=\"msg_column_td\" nowrap=\"\"><noindex><a class=\"a18\" href=\"/lv/real-estate/flats/riga/centre/sell/fDgSeF4belM=.html\" rel=\"nofollow\" title=\"\">Cena</a></noindex></td>]"
      ]
     },
     "execution_count": 16,
     "metadata": {},
     "output_type": "execute_result"
    }
   ],
   "source": [
    "headtds = headline.find_all(\"td\")  # get list of all td tags inside our headline tag only(not the whole document!)\n",
    "# td stands for table data\n",
    "# https://developer.mozilla.org/en-US/docs/Web/HTML/Element/td \n",
    "headtds"
   ]
  },
  {
   "cell_type": "code",
   "execution_count": 17,
   "metadata": {},
   "outputs": [
    {
     "data": {
      "text/plain": [
       "8"
      ]
     },
     "execution_count": 17,
     "metadata": {},
     "output_type": "execute_result"
    }
   ],
   "source": [
    "len(headtds) # so we have 8 table data elements"
   ]
  },
  {
   "cell_type": "code",
   "execution_count": 13,
   "metadata": {},
   "outputs": [
    {
     "data": {
      "text/plain": [
       "'\\n\\n\\xa0Sludinājumi\\r\\n\\n\\n\\ndatums\\n\\nIelaIst.m2StāvsSērijaCena, m2Cena'"
      ]
     },
     "execution_count": 13,
     "metadata": {},
     "output_type": "execute_result"
    }
   ],
   "source": [
    "headline.text # this returns ALL text in headline and its children and grandchildren"
   ]
  },
  {
   "cell_type": "code",
   "execution_count": 18,
   "metadata": {},
   "outputs": [
    {
     "data": {
      "text/plain": [
       "'\\n\\xa0Sludinājumi\\r\\n\\n\\n\\ndatums\\n'"
      ]
     },
     "execution_count": 18,
     "metadata": {},
     "output_type": "execute_result"
    }
   ],
   "source": [
    "headtds[0].text # we do not need the first one"
   ]
  },
  {
   "cell_type": "code",
   "execution_count": 19,
   "metadata": {},
   "outputs": [
    {
     "data": {
      "text/plain": [
       "['Iela', 'Ist.', 'm2', 'Stāvs', 'Sērija', 'Cena, m2', 'Cena']"
      ]
     },
     "execution_count": 19,
     "metadata": {},
     "output_type": "execute_result"
    }
   ],
   "source": [
    "headcolumns = [el.text for el in headtds[1:]] #.text gets us content even from children and grandchildren\n",
    "headcolumns"
   ]
  },
  {
   "cell_type": "code",
   "execution_count": 20,
   "metadata": {},
   "outputs": [],
   "source": [
    "# lets combine the above cells into a function which will always get us columns\n",
    "def getColList(soup):\n",
    "    column_list = [\"description\",\"url\"] # we decided to that we need these two column names no matter the html\n",
    "    headline = soup.find(\"tr\", {\"id\":\"head_line\"})\n",
    "    headtds = headline.find_all(\"td\")\n",
    "    headcolumns = [el.text for el in headtds[1:]] # this will get all column names starting with 2nd in HTML\n",
    "    column_list += headcolumns  # merge both lists, could use extend\n",
    "    return column_list"
   ]
  },
  {
   "cell_type": "code",
   "execution_count": 21,
   "metadata": {},
   "outputs": [
    {
     "data": {
      "text/plain": [
       "['description',\n",
       " 'url',\n",
       " 'Iela',\n",
       " 'Ist.',\n",
       " 'm2',\n",
       " 'Stāvs',\n",
       " 'Sērija',\n",
       " 'Cena, m2',\n",
       " 'Cena']"
      ]
     },
     "execution_count": 21,
     "metadata": {},
     "output_type": "execute_result"
    }
   ],
   "source": [
    "column_names = getColList(soup)\n",
    "column_names # to be used later when creating our table"
   ]
  },
  {
   "cell_type": "code",
   "execution_count": 22,
   "metadata": {},
   "outputs": [
    {
     "data": {
      "text/plain": [
       "40"
      ]
     },
     "execution_count": 22,
     "metadata": {},
     "output_type": "execute_result"
    }
   ],
   "source": [
    "trows = soup.find_all('tr') # tr stands for table row\n",
    "len(trows)\n"
   ]
  },
  {
   "cell_type": "code",
   "execution_count": null,
   "metadata": {},
   "outputs": [],
   "source": [
    "# if i had no other choices I could find starting and end index by hand and hard code it\n",
    "# but that is liable to change between pages"
   ]
  },
  {
   "cell_type": "code",
   "execution_count": 23,
   "metadata": {},
   "outputs": [
    {
     "data": {
      "text/plain": [
       "<tr id=\"tr_51168256\"><td class=\"msga2 pp0\"><input id=\"c51168256\" name=\"mid[]\" type=\"checkbox\" value=\"51168256_1106_0\"/></td><td class=\"msga2\"><a href=\"/msg/lv/real-estate/flats/riga/centre/cneim.html\" id=\"im51168256\"><img alt=\"\" class=\"isfoto foto_list\" src=\"https://i.ss.com/gallery/5/908/226879/45375682.th2.jpg\"/></a></td><td class=\"msg2\"><div class=\"d1\"><a class=\"am\" data=\"JTg4JUEzJUFFJTlBeSVGMXMlODElODglODIlQTglQjElOTR5JUFEdCU4MCU4OSU4QiVBMCVBRiU5MnUlQTU=|RpzbEuBKU\" href=\"/msg/lv/real-estate/flats/riga/centre/cneim.html\" id=\"dm_51168256\">Pārdodas 4 istabu dzīvoklis klusajā centrā. \n",
       "\n",
       "Dzīvoklis ar aug</a></div></td><td c=\"1\" class=\"msga2-o pp6\" nowrap=\"\">Vidus 11</td><td c=\"1\" class=\"msga2-o pp6\" nowrap=\"\">4</td><td c=\"1\" class=\"msga2-o pp6\" nowrap=\"\">134</td><td c=\"1\" class=\"msga2-o pp6\" nowrap=\"\">1/5</td><td c=\"1\" class=\"msga2-o pp6\" nowrap=\"\">Renov.</td><td c=\"1\" class=\"msga2-o pp6\" nowrap=\"\">2,537 €</td><td c=\"1\" class=\"msga2-o pp6\" nowrap=\"\">340,000  €</td></tr>"
      ]
     },
     "execution_count": 23,
     "metadata": {},
     "output_type": "execute_result"
    }
   ],
   "source": [
    "trows[9] # we coudl do it by hand"
   ]
  },
  {
   "cell_type": "code",
   "execution_count": 24,
   "metadata": {},
   "outputs": [
    {
     "data": {
      "text/plain": [
       "<tr id=\"tr_51720934\"><td class=\"msga2 pp0\"><input id=\"c51720934\" name=\"mid[]\" type=\"checkbox\" value=\"51720934_1106_0\"/></td><td class=\"msga2\"><a href=\"/msg/lv/real-estate/flats/riga/centre/ajcbf.html\" id=\"im51720934\"><img alt=\"\" class=\"isfoto foto_list\" src=\"https://i.ss.com/gallery/5/952/237988/47597527.th2.jpg\"/></a></td><td class=\"msg2\"><div class=\"d1\"><a class=\"am\" data=\"JTgwJUE3ZiU5RSU3Q3AlRTklN0UlQUJpJTk5JTgyaiVBMCU4NSVBOWQlOTclODJqJTlEJTgwJUE1ZCU5Ng==|Mu4fK8m\" href=\"/msg/lv/real-estate/flats/riga/centre/ajcbf.html\" id=\"dm_51720934\">Pārdodu skaistu un mājīgu 2 istabu dzīvokli Centrā. \n",
       "Dzīvoklis </a></div></td><td c=\"1\" class=\"msga2-o pp6\" nowrap=\"\">Tallinas 52</td><td c=\"1\" class=\"msga2-o pp6\" nowrap=\"\">2</td><td c=\"1\" class=\"msga2-o pp6\" nowrap=\"\">59</td><td c=\"1\" class=\"msga2-o pp6\" nowrap=\"\">4/5</td><td c=\"1\" class=\"msga2-o pp6\" nowrap=\"\">P. kara</td><td c=\"1\" class=\"msga2-o pp6\" nowrap=\"\">2,364 €</td><td c=\"1\" class=\"msga2-o pp6\" nowrap=\"\">139,500  €</td></tr>"
      ]
     },
     "execution_count": 24,
     "metadata": {},
     "output_type": "execute_result"
    }
   ],
   "source": [
    "trows[5] # so could take trows[6:35] downside is that this is fixed with magic numbers"
   ]
  },
  {
   "cell_type": "code",
   "execution_count": 25,
   "metadata": {},
   "outputs": [
    {
     "data": {
      "text/plain": [
       "('tr_51168256', 'tr_51720934')"
      ]
     },
     "execution_count": 25,
     "metadata": {},
     "output_type": "execute_result"
    }
   ],
   "source": [
    "trows[9][\"id\"], trows[5].get(\"id\") # get is safer since not all elements have ids"
   ]
  },
  {
   "cell_type": "code",
   "execution_count": 26,
   "metadata": {},
   "outputs": [
    {
     "data": {
      "text/plain": [
       "30"
      ]
     },
     "execution_count": 26,
     "metadata": {},
     "output_type": "execute_result"
    }
   ],
   "source": [
    "# hardest part in this \n",
    "# how to filter only specific rows\n",
    "# we need to find something that is unique to our apartment rows but not to the extra rows\n",
    "# remember we id is not guaranteed, so \"\" gives us default value when there is no id\n",
    "apt_rows = [row for row in trows if row.get('id',\"\").startswith(\"tr_\") and not row.get('id',\"\").startswith(\"tr_bnr\") ]\n",
    "len(apt_rows)"
   ]
  },
  {
   "cell_type": "code",
   "execution_count": 27,
   "metadata": {},
   "outputs": [
    {
     "data": {
      "text/plain": [
       "<tr id=\"tr_51604109\"><td class=\"msga2 pp0\"><input id=\"c51604109\" name=\"mid[]\" type=\"checkbox\" value=\"51604109_1106_0\"/></td><td class=\"msga2\"><a href=\"/msg/lv/real-estate/flats/riga/centre/hhbfi.html\" id=\"im51604109\"><img alt=\"\" class=\"isfoto foto_list\" src=\"https://i.ss.com/gallery/5/942/235401/47080123.th2.jpg\"/></a></td><td class=\"msg2\"><div class=\"d1\"><a class=\"am\" data=\"aSU4MSVBMiU4MiU5MyVCRCU5QyU3RSVBOWglODIlQTAlODMlOUJxJTlFJTgwJUFCZyU3RSVBMiU3RSU5MnE=|6NpNbAkHu\" href=\"/msg/lv/real-estate/flats/riga/centre/hhbfi.html\" id=\"dm_51604109\">Pārdodam lielisku dzīvokli klusā pilsētas centrā. Zaļš rajons. L</a></div></td><td c=\"1\" class=\"msga2-o pp6\" nowrap=\"\">Eksporta 10</td><td c=\"1\" class=\"msga2-o pp6\" nowrap=\"\">2</td><td c=\"1\" class=\"msga2-o pp6\" nowrap=\"\">48</td><td c=\"1\" class=\"msga2-o pp6\" nowrap=\"\">2/5</td><td c=\"1\" class=\"msga2-o pp6\" nowrap=\"\">Staļina</td><td c=\"1\" class=\"msga2-o pp6\" nowrap=\"\">1,563 €</td><td c=\"1\" class=\"msga2-o pp6\" nowrap=\"\">75,000  €</td></tr>"
      ]
     },
     "execution_count": 27,
     "metadata": {},
     "output_type": "execute_result"
    }
   ],
   "source": [
    "apt_rows[-1]"
   ]
  },
  {
   "cell_type": "code",
   "execution_count": 28,
   "metadata": {},
   "outputs": [
    {
     "data": {
      "text/plain": [
       "<tr id=\"tr_51720934\"><td class=\"msga2 pp0\"><input id=\"c51720934\" name=\"mid[]\" type=\"checkbox\" value=\"51720934_1106_0\"/></td><td class=\"msga2\"><a href=\"/msg/lv/real-estate/flats/riga/centre/ajcbf.html\" id=\"im51720934\"><img alt=\"\" class=\"isfoto foto_list\" src=\"https://i.ss.com/gallery/5/952/237988/47597527.th2.jpg\"/></a></td><td class=\"msg2\"><div class=\"d1\"><a class=\"am\" data=\"JTgwJUE3ZiU5RSU3Q3AlRTklN0UlQUJpJTk5JTgyaiVBMCU4NSVBOWQlOTclODJqJTlEJTgwJUE1ZCU5Ng==|Mu4fK8m\" href=\"/msg/lv/real-estate/flats/riga/centre/ajcbf.html\" id=\"dm_51720934\">Pārdodu skaistu un mājīgu 2 istabu dzīvokli Centrā. \n",
       "Dzīvoklis </a></div></td><td c=\"1\" class=\"msga2-o pp6\" nowrap=\"\">Tallinas 52</td><td c=\"1\" class=\"msga2-o pp6\" nowrap=\"\">2</td><td c=\"1\" class=\"msga2-o pp6\" nowrap=\"\">59</td><td c=\"1\" class=\"msga2-o pp6\" nowrap=\"\">4/5</td><td c=\"1\" class=\"msga2-o pp6\" nowrap=\"\">P. kara</td><td c=\"1\" class=\"msga2-o pp6\" nowrap=\"\">2,364 €</td><td c=\"1\" class=\"msga2-o pp6\" nowrap=\"\">139,500  €</td></tr>"
      ]
     },
     "execution_count": 28,
     "metadata": {},
     "output_type": "execute_result"
    }
   ],
   "source": [
    "apt_rows[0]"
   ]
  },
  {
   "cell_type": "code",
   "execution_count": 29,
   "metadata": {},
   "outputs": [],
   "source": [
    "# lets make a function from the above doodle and make it work on most pages on SS\n",
    "def getRowList(soup):\n",
    "    trows = soup.find_all('tr')\n",
    "    aprows = [row for row in trows if row.get('id',\"\").startswith(\"tr_\") and not row.get('id',\"\").startswith(\"tr_bnr\") ]\n",
    "    return aprows"
   ]
  },
  {
   "cell_type": "code",
   "execution_count": 30,
   "metadata": {},
   "outputs": [
    {
     "data": {
      "text/plain": [
       "30"
      ]
     },
     "execution_count": 30,
     "metadata": {},
     "output_type": "execute_result"
    }
   ],
   "source": [
    "apt_rows = getRowList(soup)\n",
    "len(apt_rows)"
   ]
  },
  {
   "cell_type": "code",
   "execution_count": 31,
   "metadata": {},
   "outputs": [
    {
     "data": {
      "text/plain": [
       "<tr id=\"tr_51720934\"><td class=\"msga2 pp0\"><input id=\"c51720934\" name=\"mid[]\" type=\"checkbox\" value=\"51720934_1106_0\"/></td><td class=\"msga2\"><a href=\"/msg/lv/real-estate/flats/riga/centre/ajcbf.html\" id=\"im51720934\"><img alt=\"\" class=\"isfoto foto_list\" src=\"https://i.ss.com/gallery/5/952/237988/47597527.th2.jpg\"/></a></td><td class=\"msg2\"><div class=\"d1\"><a class=\"am\" data=\"JTgwJUE3ZiU5RSU3Q3AlRTklN0UlQUJpJTk5JTgyaiVBMCU4NSVBOWQlOTclODJqJTlEJTgwJUE1ZCU5Ng==|Mu4fK8m\" href=\"/msg/lv/real-estate/flats/riga/centre/ajcbf.html\" id=\"dm_51720934\">Pārdodu skaistu un mājīgu 2 istabu dzīvokli Centrā. \n",
       "Dzīvoklis </a></div></td><td c=\"1\" class=\"msga2-o pp6\" nowrap=\"\">Tallinas 52</td><td c=\"1\" class=\"msga2-o pp6\" nowrap=\"\">2</td><td c=\"1\" class=\"msga2-o pp6\" nowrap=\"\">59</td><td c=\"1\" class=\"msga2-o pp6\" nowrap=\"\">4/5</td><td c=\"1\" class=\"msga2-o pp6\" nowrap=\"\">P. kara</td><td c=\"1\" class=\"msga2-o pp6\" nowrap=\"\">2,364 €</td><td c=\"1\" class=\"msga2-o pp6\" nowrap=\"\">139,500  €</td></tr>"
      ]
     },
     "execution_count": 31,
     "metadata": {},
     "output_type": "execute_result"
    }
   ],
   "source": [
    "first_ad = apt_rows[0]\n",
    "first_ad"
   ]
  },
  {
   "cell_type": "code",
   "execution_count": 32,
   "metadata": {},
   "outputs": [
    {
     "data": {
      "text/plain": [
       "10"
      ]
     },
     "execution_count": 32,
     "metadata": {},
     "output_type": "execute_result"
    }
   ],
   "source": [
    "row_tds = first_ad.find_all('td') # get all table data elements from first ad/row\n",
    "len(row_tds)"
   ]
  },
  {
   "cell_type": "code",
   "execution_count": 33,
   "metadata": {},
   "outputs": [
    {
     "data": {
      "text/plain": [
       "[<td class=\"msga2 pp0\"><input id=\"c51720934\" name=\"mid[]\" type=\"checkbox\" value=\"51720934_1106_0\"/></td>,\n",
       " <td class=\"msga2\"><a href=\"/msg/lv/real-estate/flats/riga/centre/ajcbf.html\" id=\"im51720934\"><img alt=\"\" class=\"isfoto foto_list\" src=\"https://i.ss.com/gallery/5/952/237988/47597527.th2.jpg\"/></a></td>,\n",
       " <td class=\"msg2\"><div class=\"d1\"><a class=\"am\" data=\"JTgwJUE3ZiU5RSU3Q3AlRTklN0UlQUJpJTk5JTgyaiVBMCU4NSVBOWQlOTclODJqJTlEJTgwJUE1ZCU5Ng==|Mu4fK8m\" href=\"/msg/lv/real-estate/flats/riga/centre/ajcbf.html\" id=\"dm_51720934\">Pārdodu skaistu un mājīgu 2 istabu dzīvokli Centrā. \n",
       " Dzīvoklis </a></div></td>,\n",
       " <td c=\"1\" class=\"msga2-o pp6\" nowrap=\"\">Tallinas 52</td>,\n",
       " <td c=\"1\" class=\"msga2-o pp6\" nowrap=\"\">2</td>,\n",
       " <td c=\"1\" class=\"msga2-o pp6\" nowrap=\"\">59</td>,\n",
       " <td c=\"1\" class=\"msga2-o pp6\" nowrap=\"\">4/5</td>,\n",
       " <td c=\"1\" class=\"msga2-o pp6\" nowrap=\"\">P. kara</td>,\n",
       " <td c=\"1\" class=\"msga2-o pp6\" nowrap=\"\">2,364 €</td>,\n",
       " <td c=\"1\" class=\"msga2-o pp6\" nowrap=\"\">139,500  €</td>]"
      ]
     },
     "execution_count": 33,
     "metadata": {},
     "output_type": "execute_result"
    }
   ],
   "source": [
    "row_tds"
   ]
  },
  {
   "cell_type": "code",
   "execution_count": 34,
   "metadata": {},
   "outputs": [
    {
     "data": {
      "text/plain": [
       "''"
      ]
     },
     "execution_count": 34,
     "metadata": {},
     "output_type": "execute_result"
    }
   ],
   "source": [
    "row_tds[0].text"
   ]
  },
  {
   "cell_type": "code",
   "execution_count": 35,
   "metadata": {},
   "outputs": [
    {
     "data": {
      "text/plain": [
       "''"
      ]
     },
     "execution_count": 35,
     "metadata": {},
     "output_type": "execute_result"
    }
   ],
   "source": [
    "row_tds[1].text"
   ]
  },
  {
   "cell_type": "code",
   "execution_count": 36,
   "metadata": {},
   "outputs": [
    {
     "data": {
      "text/plain": [
       "{'class': ['msga2']}"
      ]
     },
     "execution_count": 36,
     "metadata": {},
     "output_type": "execute_result"
    }
   ],
   "source": [
    "row_tds[1].attrs # we can see elements attributes"
   ]
  },
  {
   "cell_type": "code",
   "execution_count": 37,
   "metadata": {},
   "outputs": [
    {
     "data": {
      "text/plain": [
       "<img alt=\"\" class=\"isfoto foto_list\" src=\"https://i.ss.com/gallery/5/952/237988/47597527.th2.jpg\"/>"
      ]
     },
     "execution_count": 37,
     "metadata": {},
     "output_type": "execute_result"
    }
   ],
   "source": [
    "img = row_tds[1].find(\"img\")\n",
    "img"
   ]
  },
  {
   "cell_type": "code",
   "execution_count": 38,
   "metadata": {},
   "outputs": [
    {
     "data": {
      "text/plain": [
       "'https://i.ss.com/gallery/5/952/237988/47597527.th2.jpg'"
      ]
     },
     "execution_count": 38,
     "metadata": {},
     "output_type": "execute_result"
    }
   ],
   "source": [
    "img.get(\"src\")"
   ]
  },
  {
   "cell_type": "code",
   "execution_count": 39,
   "metadata": {},
   "outputs": [
    {
     "data": {
      "text/plain": [
       "<a href=\"/msg/lv/real-estate/flats/riga/centre/ajcbf.html\" id=\"im51720934\"><img alt=\"\" class=\"isfoto foto_list\" src=\"https://i.ss.com/gallery/5/952/237988/47597527.th2.jpg\"/></a>"
      ]
     },
     "execution_count": 39,
     "metadata": {},
     "output_type": "execute_result"
    }
   ],
   "source": [
    "a = row_tds[1].find('a') # a tag is called anchor tag\n",
    "a"
   ]
  },
  {
   "cell_type": "code",
   "execution_count": 40,
   "metadata": {},
   "outputs": [
    {
     "data": {
      "text/plain": [
       "{'href': '/msg/lv/real-estate/flats/riga/centre/ajcbf.html',\n",
       " 'id': 'im51720934'}"
      ]
     },
     "execution_count": 40,
     "metadata": {},
     "output_type": "execute_result"
    }
   ],
   "source": [
    "a.attrs"
   ]
  },
  {
   "cell_type": "code",
   "execution_count": 41,
   "metadata": {},
   "outputs": [
    {
     "data": {
      "text/plain": [
       "('/msg/lv/real-estate/flats/riga/centre/ajcbf.html',\n",
       " '/msg/lv/real-estate/flats/riga/centre/ajcbf.html')"
      ]
     },
     "execution_count": 41,
     "metadata": {},
     "output_type": "execute_result"
    }
   ],
   "source": [
    "a.get('href'), a['href']"
   ]
  },
  {
   "cell_type": "code",
   "execution_count": 42,
   "metadata": {},
   "outputs": [
    {
     "data": {
      "text/plain": [
       "'https://www.ss.com/msg/lv/real-estate/flats/riga/centre/ajcbf.html'"
      ]
     },
     "execution_count": 42,
     "metadata": {},
     "output_type": "execute_result"
    }
   ],
   "source": [
    "prefix = \"https://www.ss.com\"\n",
    "prefix + a.get('href')"
   ]
  },
  {
   "cell_type": "code",
   "execution_count": 43,
   "metadata": {},
   "outputs": [
    {
     "data": {
      "text/plain": [
       "'Pārdodu skaistu un mājīgu 2 istabu dzīvokli Centrā. \\r\\nDzīvoklis '"
      ]
     },
     "execution_count": 43,
     "metadata": {},
     "output_type": "execute_result"
    }
   ],
   "source": [
    "row_tds[2].text # 3rd element has the description"
   ]
  },
  {
   "cell_type": "code",
   "execution_count": 44,
   "metadata": {},
   "outputs": [
    {
     "data": {
      "text/plain": [
       "'139,500  €'"
      ]
     },
     "execution_count": 44,
     "metadata": {},
     "output_type": "execute_result"
    }
   ],
   "source": [
    "row_tds[-1].text # last element has the price"
   ]
  },
  {
   "cell_type": "code",
   "execution_count": 45,
   "metadata": {},
   "outputs": [
    {
     "data": {
      "text/plain": [
       "['description',\n",
       " 'url',\n",
       " 'Iela',\n",
       " 'Ist.',\n",
       " 'm2',\n",
       " 'Stāvs',\n",
       " 'Sērija',\n",
       " 'Cena, m2',\n",
       " 'Cena']"
      ]
     },
     "execution_count": 45,
     "metadata": {},
     "output_type": "execute_result"
    }
   ],
   "source": [
    "column_names # we got these first"
   ]
  },
  {
   "cell_type": "code",
   "execution_count": 46,
   "metadata": {},
   "outputs": [],
   "source": [
    "# from row get dictionary with values \n",
    "def getRow(row, colist=column_names):\n",
    "    row_tds = row.find_all('td')\n",
    "    rowDict = {}\n",
    "    if len(row_tds) < 3: # a little sanity check\n",
    "        print(\"Hmm bad row\")\n",
    "        return rowDict\n",
    "    \n",
    "    # we start with description\n",
    "    rowDict[colist[0]] = row_tds[2].text # so the big assumption is that we always get description in 3rd column\n",
    "    # then url\n",
    "    rowDict[colist[1]] = \"https://ss.com\" + row_tds[1].find('a').get('href')\n",
    "    for td,key in zip(row_tds[3:],colist[2:]): \n",
    "        rowDict[key] = td.text\n",
    "    return rowDict"
   ]
  },
  {
   "cell_type": "code",
   "execution_count": 47,
   "metadata": {},
   "outputs": [
    {
     "data": {
      "text/plain": [
       "<tr id=\"tr_51720934\"><td class=\"msga2 pp0\"><input id=\"c51720934\" name=\"mid[]\" type=\"checkbox\" value=\"51720934_1106_0\"/></td><td class=\"msga2\"><a href=\"/msg/lv/real-estate/flats/riga/centre/ajcbf.html\" id=\"im51720934\"><img alt=\"\" class=\"isfoto foto_list\" src=\"https://i.ss.com/gallery/5/952/237988/47597527.th2.jpg\"/></a></td><td class=\"msg2\"><div class=\"d1\"><a class=\"am\" data=\"JTgwJUE3ZiU5RSU3Q3AlRTklN0UlQUJpJTk5JTgyaiVBMCU4NSVBOWQlOTclODJqJTlEJTgwJUE1ZCU5Ng==|Mu4fK8m\" href=\"/msg/lv/real-estate/flats/riga/centre/ajcbf.html\" id=\"dm_51720934\">Pārdodu skaistu un mājīgu 2 istabu dzīvokli Centrā. \n",
       "Dzīvoklis </a></div></td><td c=\"1\" class=\"msga2-o pp6\" nowrap=\"\">Tallinas 52</td><td c=\"1\" class=\"msga2-o pp6\" nowrap=\"\">2</td><td c=\"1\" class=\"msga2-o pp6\" nowrap=\"\">59</td><td c=\"1\" class=\"msga2-o pp6\" nowrap=\"\">4/5</td><td c=\"1\" class=\"msga2-o pp6\" nowrap=\"\">P. kara</td><td c=\"1\" class=\"msga2-o pp6\" nowrap=\"\">2,364 €</td><td c=\"1\" class=\"msga2-o pp6\" nowrap=\"\">139,500  €</td></tr>"
      ]
     },
     "execution_count": 47,
     "metadata": {},
     "output_type": "execute_result"
    }
   ],
   "source": [
    "apt_rows[0] # first row of ads"
   ]
  },
  {
   "cell_type": "code",
   "execution_count": 48,
   "metadata": {},
   "outputs": [
    {
     "data": {
      "text/plain": [
       "{'description': 'Pārdodu skaistu un mājīgu 2 istabu dzīvokli Centrā. \\r\\nDzīvoklis ',\n",
       " 'url': 'https://ss.com/msg/lv/real-estate/flats/riga/centre/ajcbf.html',\n",
       " 'Iela': 'Tallinas 52',\n",
       " 'Ist.': '2',\n",
       " 'm2': '59',\n",
       " 'Stāvs': '4/5',\n",
       " 'Sērija': 'P. kara',\n",
       " 'Cena, m2': '2,364 €',\n",
       " 'Cena': '139,500  €'}"
      ]
     },
     "execution_count": 48,
     "metadata": {},
     "output_type": "execute_result"
    }
   ],
   "source": [
    "getRow(apt_rows[0])"
   ]
  },
  {
   "cell_type": "code",
   "execution_count": 48,
   "metadata": {},
   "outputs": [
    {
     "data": {
      "text/plain": [
       "{'description': 'Unikāls, pilnībā aprīkots 4-istabu dzīvoklis fasādes ēkā Rīgas c',\n",
       " 'url': 'https://ss.com/msg/lv/real-estate/flats/riga/centre/fdebl.html',\n",
       " 'Iela': 'Skolas 14',\n",
       " 'Ist.': '4',\n",
       " 'm2': '169',\n",
       " 'Stāvs': '6/6',\n",
       " 'Sērija': 'Renov.',\n",
       " 'Cena, m2': '1,953 €',\n",
       " 'Cena': '330,000  €'}"
      ]
     },
     "execution_count": 48,
     "metadata": {},
     "output_type": "execute_result"
    }
   ],
   "source": [
    "getRow(first_ad)"
   ]
  },
  {
   "cell_type": "code",
   "execution_count": 49,
   "metadata": {},
   "outputs": [],
   "source": [
    "# so if we know how to work on single row then we can do process multiple rows\n",
    "def getRows(rowlist, colist=column_names):\n",
    "    return [getRow(row, colist=colist) for row in rowlist] # so return a list of dictionaries\n"
   ]
  },
  {
   "cell_type": "code",
   "execution_count": 50,
   "metadata": {},
   "outputs": [
    {
     "data": {
      "text/plain": [
       "[{'description': 'Attīstītājs piedāvā trīs istabu dzīvokli pilnībā rekonstruētā ēk',\n",
       "  'url': 'https://ss.com/msg/lv/real-estate/flats/riga/centre/adixk.html',\n",
       "  'Iela': 'Birznieka-Upīša 10..',\n",
       "  'Ist.': '3',\n",
       "  'm2': '64',\n",
       "  'Stāvs': '1/6',\n",
       "  'Sērija': 'Renov.',\n",
       "  'Cena, m2': '2,157 €',\n",
       "  'Cena': '138,030  €'},\n",
       " {'description': 'Īpašnieks pārdod unikālu mansarda dzīvokli ar panorāmas logiem u',\n",
       "  'url': 'https://ss.com/msg/lv/real-estate/flats/riga/centre/flgxe.html',\n",
       "  'Iela': 'Cēsu 43',\n",
       "  'Ist.': '2',\n",
       "  'm2': '83',\n",
       "  'Stāvs': '6/6',\n",
       "  'Sērija': 'P. kara',\n",
       "  'Cena, m2': '1,916 €',\n",
       "  'Cena': '159,000  €'},\n",
       " {'description': 'Pārdodam lielisku dzīvokli klusā pilsētas centrā. Zaļš rajons. L',\n",
       "  'url': 'https://ss.com/msg/lv/real-estate/flats/riga/centre/hhbfi.html',\n",
       "  'Iela': 'Eksporta 10',\n",
       "  'Ist.': '2',\n",
       "  'm2': '48',\n",
       "  'Stāvs': '2/5',\n",
       "  'Sērija': 'Staļina',\n",
       "  'Cena, m2': '1,563 €',\n",
       "  'Cena': '75,000  €'}]"
      ]
     },
     "execution_count": 50,
     "metadata": {},
     "output_type": "execute_result"
    }
   ],
   "source": [
    "row_ads = getRows(apt_rows)\n",
    "row_ads[-3:] # last 3 ads"
   ]
  },
  {
   "cell_type": "code",
   "execution_count": 51,
   "metadata": {},
   "outputs": [
    {
     "data": {
      "text/plain": [
       "list"
      ]
     },
     "execution_count": 51,
     "metadata": {},
     "output_type": "execute_result"
    }
   ],
   "source": [
    "type(row_ads)  # list of dictionaries for each ad"
   ]
  },
  {
   "cell_type": "code",
   "execution_count": null,
   "metadata": {},
   "outputs": [],
   "source": [
    "# such a list of dictionaries is easy to convert into a DataFrame in pandas"
   ]
  },
  {
   "cell_type": "code",
   "execution_count": 52,
   "metadata": {},
   "outputs": [
    {
     "data": {
      "text/plain": [
       "(30, 9)"
      ]
     },
     "execution_count": 52,
     "metadata": {},
     "output_type": "execute_result"
    }
   ],
   "source": [
    "dtemp = pd.DataFrame(row_ads, columns=column_names)\n",
    "dtemp.shape"
   ]
  },
  {
   "cell_type": "code",
   "execution_count": 53,
   "metadata": {},
   "outputs": [
    {
     "data": {
      "text/html": [
       "<div>\n",
       "<style scoped>\n",
       "    .dataframe tbody tr th:only-of-type {\n",
       "        vertical-align: middle;\n",
       "    }\n",
       "\n",
       "    .dataframe tbody tr th {\n",
       "        vertical-align: top;\n",
       "    }\n",
       "\n",
       "    .dataframe thead th {\n",
       "        text-align: right;\n",
       "    }\n",
       "</style>\n",
       "<table border=\"1\" class=\"dataframe\">\n",
       "  <thead>\n",
       "    <tr style=\"text-align: right;\">\n",
       "      <th></th>\n",
       "      <th>description</th>\n",
       "      <th>url</th>\n",
       "      <th>Iela</th>\n",
       "      <th>Ist.</th>\n",
       "      <th>m2</th>\n",
       "      <th>Stāvs</th>\n",
       "      <th>Sērija</th>\n",
       "      <th>Cena, m2</th>\n",
       "      <th>Cena</th>\n",
       "    </tr>\n",
       "  </thead>\n",
       "  <tbody>\n",
       "    <tr>\n",
       "      <th>0</th>\n",
       "      <td>Pārdodu skaistu un mājīgu 2 istabu dzīvokli Ce...</td>\n",
       "      <td>https://ss.com/msg/lv/real-estate/flats/riga/c...</td>\n",
       "      <td>Tallinas 52</td>\n",
       "      <td>2</td>\n",
       "      <td>59</td>\n",
       "      <td>4/5</td>\n",
       "      <td>P. kara</td>\n",
       "      <td>2,364 €</td>\n",
       "      <td>139,500  €</td>\n",
       "    </tr>\n",
       "    <tr>\n",
       "      <th>1</th>\n",
       "      <td>Pārdošanā tikko izremontēts lielisks, gaišs 2i...</td>\n",
       "      <td>https://ss.com/msg/lv/real-estate/flats/riga/c...</td>\n",
       "      <td>Matīsa 89a</td>\n",
       "      <td>2</td>\n",
       "      <td>41</td>\n",
       "      <td>3/5</td>\n",
       "      <td>P. kara</td>\n",
       "      <td>1,902 €</td>\n",
       "      <td>78,000  €</td>\n",
       "    </tr>\n",
       "    <tr>\n",
       "      <th>2</th>\n",
       "      <td>Pārdodas plašs dzīvoklis Rīgā. \\r\\n\\r\\nDzīvokl...</td>\n",
       "      <td>https://ss.com/msg/lv/real-estate/flats/riga/c...</td>\n",
       "      <td>Čaka 70</td>\n",
       "      <td>6</td>\n",
       "      <td>180</td>\n",
       "      <td>3/6</td>\n",
       "      <td>P. kara</td>\n",
       "      <td>1,389 €</td>\n",
       "      <td>250,000  €</td>\n",
       "    </tr>\n",
       "    <tr>\n",
       "      <th>3</th>\n",
       "      <td>Pārdodu divistabu dzīvokli Maskavas ielā 108\\r...</td>\n",
       "      <td>https://ss.com/msg/lv/real-estate/flats/riga/c...</td>\n",
       "      <td>Maskavas 108</td>\n",
       "      <td>2</td>\n",
       "      <td>50</td>\n",
       "      <td>6/6</td>\n",
       "      <td>P. kara</td>\n",
       "      <td>1,700 €</td>\n",
       "      <td>85,000  €</td>\n",
       "    </tr>\n",
       "    <tr>\n",
       "      <th>4</th>\n",
       "      <td>Pārdodas 4 istabu dzīvoklis klusajā centrā. \\r...</td>\n",
       "      <td>https://ss.com/msg/lv/real-estate/flats/riga/c...</td>\n",
       "      <td>Vidus 11</td>\n",
       "      <td>4</td>\n",
       "      <td>134</td>\n",
       "      <td>1/5</td>\n",
       "      <td>Renov.</td>\n",
       "      <td>2,537 €</td>\n",
       "      <td>340,000  €</td>\n",
       "    </tr>\n",
       "  </tbody>\n",
       "</table>\n",
       "</div>"
      ],
      "text/plain": [
       "                                         description  \\\n",
       "0  Pārdodu skaistu un mājīgu 2 istabu dzīvokli Ce...   \n",
       "1  Pārdošanā tikko izremontēts lielisks, gaišs 2i...   \n",
       "2  Pārdodas plašs dzīvoklis Rīgā. \\r\\n\\r\\nDzīvokl...   \n",
       "3  Pārdodu divistabu dzīvokli Maskavas ielā 108\\r...   \n",
       "4  Pārdodas 4 istabu dzīvoklis klusajā centrā. \\r...   \n",
       "\n",
       "                                                 url          Iela Ist.   m2  \\\n",
       "0  https://ss.com/msg/lv/real-estate/flats/riga/c...   Tallinas 52    2   59   \n",
       "1  https://ss.com/msg/lv/real-estate/flats/riga/c...    Matīsa 89a    2   41   \n",
       "2  https://ss.com/msg/lv/real-estate/flats/riga/c...       Čaka 70    6  180   \n",
       "3  https://ss.com/msg/lv/real-estate/flats/riga/c...  Maskavas 108    2   50   \n",
       "4  https://ss.com/msg/lv/real-estate/flats/riga/c...      Vidus 11    4  134   \n",
       "\n",
       "  Stāvs   Sērija Cena, m2        Cena  \n",
       "0   4/5  P. kara  2,364 €  139,500  €  \n",
       "1   3/5  P. kara  1,902 €   78,000  €  \n",
       "2   3/6  P. kara  1,389 €  250,000  €  \n",
       "3   6/6  P. kara  1,700 €   85,000  €  \n",
       "4   1/5   Renov.  2,537 €  340,000  €  "
      ]
     },
     "execution_count": 53,
     "metadata": {},
     "output_type": "execute_result"
    }
   ],
   "source": [
    "dtemp.head()"
   ]
  },
  {
   "cell_type": "code",
   "execution_count": 54,
   "metadata": {},
   "outputs": [],
   "source": [
    "dtemp.to_excel(\"rigas_rajons_jun29.xlsx\")"
   ]
  },
  {
   "cell_type": "code",
   "execution_count": 55,
   "metadata": {},
   "outputs": [],
   "source": [
    "# so with this function I can get full dataframe from a single page on ss.com not only apartments\n",
    "def getDFfromURL(url):\n",
    "    # print(\"getting data from\", url)\n",
    "    req = requests.get(url)\n",
    "    if req.status_code != 200:\n",
    "        print(\"Request Fail with\", req.status_code)\n",
    "        return None # maybe return empty dataframe here\n",
    "    soup = BeautifulSoup(req.text, 'lxml')\n",
    "    column_names = getColList(soup)\n",
    "    rowlist = getRowList(soup)\n",
    "    rows_dict = getRows(rowlist,colist=column_names)\n",
    "    return pd.DataFrame(rows_dict, columns=column_names)\n",
    "    "
   ]
  },
  {
   "cell_type": "code",
   "execution_count": 56,
   "metadata": {},
   "outputs": [
    {
     "data": {
      "text/plain": [
       "'https://www.ss.com/lv/real-estate/flats/riga/centre/sell/'"
      ]
     },
     "execution_count": 56,
     "metadata": {},
     "output_type": "execute_result"
    }
   ],
   "source": [
    "centrs = url\n",
    "centrs"
   ]
  },
  {
   "cell_type": "code",
   "execution_count": 57,
   "metadata": {},
   "outputs": [
    {
     "data": {
      "text/html": [
       "<div>\n",
       "<style scoped>\n",
       "    .dataframe tbody tr th:only-of-type {\n",
       "        vertical-align: middle;\n",
       "    }\n",
       "\n",
       "    .dataframe tbody tr th {\n",
       "        vertical-align: top;\n",
       "    }\n",
       "\n",
       "    .dataframe thead th {\n",
       "        text-align: right;\n",
       "    }\n",
       "</style>\n",
       "<table border=\"1\" class=\"dataframe\">\n",
       "  <thead>\n",
       "    <tr style=\"text-align: right;\">\n",
       "      <th></th>\n",
       "      <th>description</th>\n",
       "      <th>url</th>\n",
       "      <th>Iela</th>\n",
       "      <th>Ist.</th>\n",
       "      <th>m2</th>\n",
       "      <th>Stāvs</th>\n",
       "      <th>Sērija</th>\n",
       "      <th>Cena, m2</th>\n",
       "      <th>Cena</th>\n",
       "    </tr>\n",
       "  </thead>\n",
       "  <tbody>\n",
       "    <tr>\n",
       "      <th>0</th>\n",
       "      <td>Владелец без посредников продаёт квартиру. Ква...</td>\n",
       "      <td>https://ss.com/msg/lv/real-estate/flats/riga/i...</td>\n",
       "      <td>Kurzemes pr. 108</td>\n",
       "      <td>2</td>\n",
       "      <td>48</td>\n",
       "      <td>5/5</td>\n",
       "      <td>LT proj.</td>\n",
       "      <td>1,081 €</td>\n",
       "      <td>51,900  €</td>\n",
       "    </tr>\n",
       "    <tr>\n",
       "      <th>1</th>\n",
       "      <td>Владелец продаёт трёхкомнатную квартиру в ново...</td>\n",
       "      <td>https://ss.com/msg/lv/real-estate/flats/riga/i...</td>\n",
       "      <td>Kleistu 11k1</td>\n",
       "      <td>3</td>\n",
       "      <td>75</td>\n",
       "      <td>11/12</td>\n",
       "      <td>Jaun.</td>\n",
       "      <td>1,880 €</td>\n",
       "      <td>141,000  €</td>\n",
       "    </tr>\n",
       "    <tr>\n",
       "      <th>2</th>\n",
       "      <td>Pārdodam gaišu un koptu 3- istabu dzīvokli Ima...</td>\n",
       "      <td>https://ss.com/msg/lv/real-estate/flats/riga/i...</td>\n",
       "      <td>Rigondas g. 6</td>\n",
       "      <td>3</td>\n",
       "      <td>64</td>\n",
       "      <td>9/9</td>\n",
       "      <td>602.</td>\n",
       "      <td>1,559 €</td>\n",
       "      <td>99,750  €</td>\n",
       "    </tr>\n",
       "    <tr>\n",
       "      <th>3</th>\n",
       "      <td>Продаётся дизайнерская трёх комнатная квартира...</td>\n",
       "      <td>https://ss.com/msg/lv/real-estate/flats/riga/i...</td>\n",
       "      <td>Dumbrāja 18</td>\n",
       "      <td>3</td>\n",
       "      <td>80</td>\n",
       "      <td>4/5</td>\n",
       "      <td>Jaun.</td>\n",
       "      <td>2,750 €</td>\n",
       "      <td>220,000  €</td>\n",
       "    </tr>\n",
       "    <tr>\n",
       "      <th>4</th>\n",
       "      <td>Продается светлая, теплая, неугловая квартира ...</td>\n",
       "      <td>https://ss.com/msg/lv/real-estate/flats/riga/i...</td>\n",
       "      <td>Kurzemes pr. 98</td>\n",
       "      <td>2</td>\n",
       "      <td>53</td>\n",
       "      <td>6/9</td>\n",
       "      <td>602.</td>\n",
       "      <td>1,557 €</td>\n",
       "      <td>82,500  €</td>\n",
       "    </tr>\n",
       "  </tbody>\n",
       "</table>\n",
       "</div>"
      ],
      "text/plain": [
       "                                         description  \\\n",
       "0  Владелец без посредников продаёт квартиру. Ква...   \n",
       "1  Владелец продаёт трёхкомнатную квартиру в ново...   \n",
       "2  Pārdodam gaišu un koptu 3- istabu dzīvokli Ima...   \n",
       "3  Продаётся дизайнерская трёх комнатная квартира...   \n",
       "4  Продается светлая, теплая, неугловая квартира ...   \n",
       "\n",
       "                                                 url              Iela Ist.  \\\n",
       "0  https://ss.com/msg/lv/real-estate/flats/riga/i...  Kurzemes pr. 108    2   \n",
       "1  https://ss.com/msg/lv/real-estate/flats/riga/i...      Kleistu 11k1    3   \n",
       "2  https://ss.com/msg/lv/real-estate/flats/riga/i...     Rigondas g. 6    3   \n",
       "3  https://ss.com/msg/lv/real-estate/flats/riga/i...       Dumbrāja 18    3   \n",
       "4  https://ss.com/msg/lv/real-estate/flats/riga/i...   Kurzemes pr. 98    2   \n",
       "\n",
       "   m2  Stāvs    Sērija Cena, m2        Cena  \n",
       "0  48    5/5  LT proj.  1,081 €   51,900  €  \n",
       "1  75  11/12     Jaun.  1,880 €  141,000  €  \n",
       "2  64    9/9      602.  1,559 €   99,750  €  \n",
       "3  80    4/5     Jaun.  2,750 €  220,000  €  \n",
       "4  53    6/9      602.  1,557 €   82,500  €  "
      ]
     },
     "execution_count": 57,
     "metadata": {},
     "output_type": "execute_result"
    }
   ],
   "source": [
    "imanta = \"https://www.ss.com/lv/real-estate/flats/riga/imanta/sell/\"\n",
    "idf = getDFfromURL(imanta)\n",
    "idf.head()"
   ]
  },
  {
   "cell_type": "code",
   "execution_count": 50,
   "metadata": {},
   "outputs": [],
   "source": [
    "df = getDFfromURL(centrs) # this will involve calling web page"
   ]
  },
  {
   "cell_type": "code",
   "execution_count": 55,
   "metadata": {},
   "outputs": [
    {
     "data": {
      "text/plain": [
       "'https://www.ss.com/lv/real-estate/homes-summer-residences/riga-region/all/sell/'"
      ]
     },
     "execution_count": 55,
     "metadata": {},
     "output_type": "execute_result"
    }
   ],
   "source": [
    "url"
   ]
  },
  {
   "cell_type": "code",
   "execution_count": 53,
   "metadata": {},
   "outputs": [
    {
     "data": {
      "text/plain": [
       "(30, 9)"
      ]
     },
     "execution_count": 53,
     "metadata": {},
     "output_type": "execute_result"
    }
   ],
   "source": [
    "df = getDFfromURL(url)\n",
    "df.shape"
   ]
  },
  {
   "cell_type": "code",
   "execution_count": 51,
   "metadata": {},
   "outputs": [
    {
     "data": {
      "text/plain": [
       "(30, 9)"
      ]
     },
     "execution_count": 51,
     "metadata": {},
     "output_type": "execute_result"
    }
   ],
   "source": [
    "df.shape"
   ]
  },
  {
   "cell_type": "code",
   "execution_count": 57,
   "metadata": {},
   "outputs": [
    {
     "data": {
      "text/html": [
       "<div>\n",
       "<style scoped>\n",
       "    .dataframe tbody tr th:only-of-type {\n",
       "        vertical-align: middle;\n",
       "    }\n",
       "\n",
       "    .dataframe tbody tr th {\n",
       "        vertical-align: top;\n",
       "    }\n",
       "\n",
       "    .dataframe thead th {\n",
       "        text-align: right;\n",
       "    }\n",
       "</style>\n",
       "<table border=\"1\" class=\"dataframe\">\n",
       "  <thead>\n",
       "    <tr style=\"text-align: right;\">\n",
       "      <th></th>\n",
       "      <th>description</th>\n",
       "      <th>url</th>\n",
       "      <th>Pagasts</th>\n",
       "      <th>m2</th>\n",
       "      <th>Stāvi</th>\n",
       "      <th>Zem. pl.</th>\n",
       "      <th>Cena</th>\n",
       "    </tr>\n",
       "  </thead>\n",
       "  <tbody>\n",
       "    <tr>\n",
       "      <th>0</th>\n",
       "      <td>Pārdošanā plaša un mājīga divu stāvu māja ļoti...</td>\n",
       "      <td>https://ss.com/msg/lv/real-estate/homes-summer...</td>\n",
       "      <td>Sigulda</td>\n",
       "      <td>480</td>\n",
       "      <td>3</td>\n",
       "      <td>1928 m²</td>\n",
       "      <td>250,000  €</td>\n",
       "    </tr>\n",
       "    <tr>\n",
       "      <th>1</th>\n",
       "      <td>Tiek pārdota omulīga privātmāja Gaujā. Ir veik...</td>\n",
       "      <td>https://ss.com/msg/lv/real-estate/homes-summer...</td>\n",
       "      <td>Carnikavas nov.Gauja</td>\n",
       "      <td>210</td>\n",
       "      <td>2</td>\n",
       "      <td>1000 m²</td>\n",
       "      <td>160,000  €</td>\n",
       "    </tr>\n",
       "    <tr>\n",
       "      <th>2</th>\n",
       "      <td>Pārdodu zemes gabala domājamo daļu 750 kv. m. ...</td>\n",
       "      <td>https://ss.com/msg/lv/real-estate/homes-summer...</td>\n",
       "      <td>Mārupes pag.Mārupe</td>\n",
       "      <td>203</td>\n",
       "      <td>2</td>\n",
       "      <td>750 m²</td>\n",
       "      <td>135,000  €</td>\n",
       "    </tr>\n",
       "    <tr>\n",
       "      <th>3</th>\n",
       "      <td>Kārtīgi celta māja ar sakoptu dārzu un siltumn...</td>\n",
       "      <td>https://ss.com/msg/lv/real-estate/homes-summer...</td>\n",
       "      <td>Saulkrasti</td>\n",
       "      <td>85</td>\n",
       "      <td>2</td>\n",
       "      <td>580 m²</td>\n",
       "      <td>46,800  €</td>\n",
       "    </tr>\n",
       "    <tr>\n",
       "      <th>4</th>\n",
       "      <td>Pārdod māju Katlakalnā. Māja atrodas lieliskā ...</td>\n",
       "      <td>https://ss.com/msg/lv/real-estate/homes-summer...</td>\n",
       "      <td>Ķekavas pag.Katlakalns</td>\n",
       "      <td>278</td>\n",
       "      <td>2</td>\n",
       "      <td>1200 m²</td>\n",
       "      <td>265,000  €</td>\n",
       "    </tr>\n",
       "  </tbody>\n",
       "</table>\n",
       "</div>"
      ],
      "text/plain": [
       "                                         description  \\\n",
       "0  Pārdošanā plaša un mājīga divu stāvu māja ļoti...   \n",
       "1  Tiek pārdota omulīga privātmāja Gaujā. Ir veik...   \n",
       "2  Pārdodu zemes gabala domājamo daļu 750 kv. m. ...   \n",
       "3  Kārtīgi celta māja ar sakoptu dārzu un siltumn...   \n",
       "4  Pārdod māju Katlakalnā. Māja atrodas lieliskā ...   \n",
       "\n",
       "                                                 url                 Pagasts  \\\n",
       "0  https://ss.com/msg/lv/real-estate/homes-summer...                 Sigulda   \n",
       "1  https://ss.com/msg/lv/real-estate/homes-summer...    Carnikavas nov.Gauja   \n",
       "2  https://ss.com/msg/lv/real-estate/homes-summer...      Mārupes pag.Mārupe   \n",
       "3  https://ss.com/msg/lv/real-estate/homes-summer...              Saulkrasti   \n",
       "4  https://ss.com/msg/lv/real-estate/homes-summer...  Ķekavas pag.Katlakalns   \n",
       "\n",
       "    m2 Stāvi Zem. pl.        Cena  \n",
       "0  480     3  1928 m²  250,000  €  \n",
       "1  210     2  1000 m²  160,000  €  \n",
       "2  203     2   750 m²  135,000  €  \n",
       "3   85     2   580 m²   46,800  €  \n",
       "4  278     2  1200 m²  265,000  €  "
      ]
     },
     "execution_count": 57,
     "metadata": {},
     "output_type": "execute_result"
    }
   ],
   "source": [
    "df.head()"
   ]
  },
  {
   "cell_type": "code",
   "execution_count": 58,
   "metadata": {},
   "outputs": [
    {
     "data": {
      "text/plain": [
       "99"
      ]
     },
     "execution_count": 58,
     "metadata": {},
     "output_type": "execute_result"
    }
   ],
   "source": [
    "\n",
    "# https://developer.mozilla.org/en-US/docs/Web/HTML/Element/a\n",
    "anchors = soup.find_all(\"a\")\n",
    "len(anchors) # anchors are popular in pages"
   ]
  },
  {
   "cell_type": "code",
   "execution_count": 59,
   "metadata": {},
   "outputs": [
    {
     "data": {
      "text/plain": [
       "[<a href=\"/\" title=\"Sludinājumi\"><img alt=\"Sludinājumi\" border=\"0\" class=\"page_header_logo\" src=\"https://i.ss.com/img/p.gif\"/></a>,\n",
       " <a class=\"a_menu\" href=\"/lv/real-estate/homes-summer-residences/new/\" title=\"Iesniegt Sludinājumu\">Iesniegt Sludinājumu</a>,\n",
       " <a class=\"a_menu\" href=\"/lv/login/\" title=\"Mani Sludinājumi\">Mani Sludinājumi</a>,\n",
       " <a class=\"a_menu\" href=\"/lv/real-estate/homes-summer-residences/riga-region/search/\" title=\"Meklēt sludinājumus\">Meklēšana</a>,\n",
       " <a class=\"a_menu\" href=\"/lv/favorites/\" title=\"Memo\">Memo</a>]"
      ]
     },
     "execution_count": 59,
     "metadata": {},
     "output_type": "execute_result"
    }
   ],
   "source": [
    "anchors[:5]"
   ]
  },
  {
   "cell_type": "code",
   "execution_count": 59,
   "metadata": {},
   "outputs": [
    {
     "data": {
      "text/plain": [
       "10"
      ]
     },
     "execution_count": 59,
     "metadata": {},
     "output_type": "execute_result"
    }
   ],
   "source": [
    "navs = [anchor for anchor in anchors if anchor.get(\"name\") == \"nav_id\"] # get will get us None if no \"name\" exists\n",
    "len(navs)"
   ]
  },
  {
   "cell_type": "code",
   "execution_count": 60,
   "metadata": {},
   "outputs": [
    {
     "data": {
      "text/plain": [
       "[<a class=\"navi\" href=\"/lv/real-estate/flats/riga/centre/sell/page23.html\" name=\"nav_id\" rel=\"prev\"><img border=\"0\" height=\"5\" src=\"https://i.ss.com/img/s_left.png\" style=\"padding-bottom:2px;\" width=\"9\"/> Iepriekšējie</a>,\n",
       " <a class=\"navi\" href=\"/lv/real-estate/flats/riga/centre/sell/page2.html\" name=\"nav_id\" rel=\"next\">2</a>,\n",
       " <a class=\"navi\" href=\"/lv/real-estate/flats/riga/centre/sell/page3.html\" name=\"nav_id\" rel=\"next\">3</a>,\n",
       " <a class=\"navi\" href=\"/lv/real-estate/flats/riga/centre/sell/page4.html\" name=\"nav_id\" rel=\"next\">4</a>,\n",
       " <a class=\"navi\" href=\"/lv/real-estate/flats/riga/centre/sell/page5.html\" name=\"nav_id\" rel=\"next\">5</a>,\n",
       " <a class=\"navi\" href=\"/lv/real-estate/flats/riga/centre/sell/page6.html\" name=\"nav_id\" rel=\"next\">6</a>,\n",
       " <a class=\"navi\" href=\"/lv/real-estate/flats/riga/centre/sell/page7.html\" name=\"nav_id\" rel=\"next\">7</a>,\n",
       " <a class=\"navi\" href=\"/lv/real-estate/flats/riga/centre/sell/page8.html\" name=\"nav_id\" rel=\"next\">8</a>,\n",
       " <a class=\"navi\" href=\"/lv/real-estate/flats/riga/centre/sell/page9.html\" name=\"nav_id\" rel=\"next\">9</a>,\n",
       " <a class=\"navi\" href=\"/lv/real-estate/flats/riga/centre/sell/page2.html\" name=\"nav_id\" rel=\"next\">Nākamie <img border=\"0\" height=\"5\" src=\"https://i.ss.com/img/s_right.png\" style=\"padding-bottom:2px;\" width=\"9\"/></a>]"
      ]
     },
     "execution_count": 60,
     "metadata": {},
     "output_type": "execute_result"
    }
   ],
   "source": [
    "navs"
   ]
  },
  {
   "cell_type": "code",
   "execution_count": 61,
   "metadata": {},
   "outputs": [
    {
     "data": {
      "text/plain": [
       "<a class=\"navi\" href=\"/lv/real-estate/flats/riga/centre/sell/page23.html\" name=\"nav_id\" rel=\"prev\"><img border=\"0\" height=\"5\" src=\"https://i.ss.com/img/s_left.png\" style=\"padding-bottom:2px;\" width=\"9\"/> Iepriekšējie</a>"
      ]
     },
     "execution_count": 61,
     "metadata": {},
     "output_type": "execute_result"
    }
   ],
   "source": [
    "navs[0]"
   ]
  },
  {
   "cell_type": "code",
   "execution_count": 62,
   "metadata": {},
   "outputs": [
    {
     "data": {
      "text/plain": [
       "{'name': 'nav_id',\n",
       " 'rel': ['prev'],\n",
       " 'class': ['navi'],\n",
       " 'href': '/lv/real-estate/flats/riga/centre/sell/page23.html'}"
      ]
     },
     "execution_count": 62,
     "metadata": {},
     "output_type": "execute_result"
    }
   ],
   "source": [
    "navs[0].attrs"
   ]
  },
  {
   "cell_type": "code",
   "execution_count": 63,
   "metadata": {},
   "outputs": [
    {
     "data": {
      "text/plain": [
       "'/lv/real-estate/flats/riga/centre/sell/page23.html'"
      ]
     },
     "execution_count": 63,
     "metadata": {},
     "output_type": "execute_result"
    }
   ],
   "source": [
    "navs[0]['href']"
   ]
  },
  {
   "cell_type": "code",
   "execution_count": 64,
   "metadata": {},
   "outputs": [
    {
     "data": {
      "text/plain": [
       "'23.html'"
      ]
     },
     "execution_count": 64,
     "metadata": {},
     "output_type": "execute_result"
    }
   ],
   "source": [
    "# could use regular expression here but we can use split \n",
    "afterpage = navs[0]['href'].split(\"/page\")[-1] # -1 might be safer than 1 in case there is region with name page\n",
    "afterpage"
   ]
  },
  {
   "cell_type": "code",
   "execution_count": 65,
   "metadata": {},
   "outputs": [
    {
     "data": {
      "text/plain": [
       "'23'"
      ]
     },
     "execution_count": 65,
     "metadata": {},
     "output_type": "execute_result"
    }
   ],
   "source": [
    "beforedot = afterpage.split(\".html\")[0]\n",
    "beforedot"
   ]
  },
  {
   "cell_type": "code",
   "execution_count": 66,
   "metadata": {},
   "outputs": [
    {
     "data": {
      "text/plain": [
       "23"
      ]
     },
     "execution_count": 66,
     "metadata": {},
     "output_type": "execute_result"
    }
   ],
   "source": [
    "lastpage = int(beforedot)\n",
    "lastpage"
   ]
  },
  {
   "cell_type": "code",
   "execution_count": null,
   "metadata": {},
   "outputs": [],
   "source": [
    "# so now wbe put everything we just did in a single function"
   ]
  },
  {
   "cell_type": "code",
   "execution_count": 67,
   "metadata": {},
   "outputs": [
    {
     "data": {
      "text/plain": [
       "<a class=\"navi\" href=\"/lv/real-estate/flats/riga/centre/sell/page23.html\" name=\"nav_id\" rel=\"prev\"><img border=\"0\" height=\"5\" src=\"https://i.ss.com/img/s_left.png\" style=\"padding-bottom:2px;\" width=\"9\"/> Iepriekšējie</a>"
      ]
     },
     "execution_count": 67,
     "metadata": {},
     "output_type": "execute_result"
    }
   ],
   "source": [
    "prevanchor = soup.find('a', {\"rel\":\"prev\"})\n",
    "prevanchor"
   ]
  },
  {
   "cell_type": "code",
   "execution_count": 68,
   "metadata": {},
   "outputs": [],
   "source": [
    "def getAllLocalUrls(url):\n",
    "    \"\"\"Get a list of all urls including paginated pages\"\"\"\n",
    "    results = [url] # default is just the url if no extra pages found, teiksim Bolderājai...\n",
    "    req = requests.get(url)\n",
    "    if req.status_code != 200:\n",
    "        print(f\"Bad response! {req.status_code}\")\n",
    "        return []\n",
    "    soup = BeautifulSoup(req.text, 'lxml')\n",
    "    # we just need a one element\n",
    "    prevanchor = soup.find('a', {\"rel\":\"prev\"}) # find finds first match only\n",
    "    if prevanchor == None: # means there is only one page of ads\n",
    "        return results\n",
    "    href = prevanchor.attrs.get('href')\n",
    "    lastPageNum = int(href.split('/page')[-1].split('.html')[0])\n",
    "    print(\"Last page is\",lastPageNum)\n",
    "    nurls = [f\"{url}page{n}.html\" for n in range(2,lastPageNum+1)]\n",
    "    results += nurls\n",
    "    return results"
   ]
  },
  {
   "cell_type": "code",
   "execution_count": 69,
   "metadata": {},
   "outputs": [
    {
     "data": {
      "text/plain": [
       "'https://www.ss.com/lv/real-estate/flats/riga/centre/sell/'"
      ]
     },
     "execution_count": 69,
     "metadata": {},
     "output_type": "execute_result"
    }
   ],
   "source": [
    "url"
   ]
  },
  {
   "cell_type": "code",
   "execution_count": 70,
   "metadata": {},
   "outputs": [],
   "source": [
    "centrs = url"
   ]
  },
  {
   "cell_type": "code",
   "execution_count": 71,
   "metadata": {},
   "outputs": [
    {
     "data": {
      "text/plain": [
       "'https://www.ss.com/lv/real-estate/flats/riga/centre/sell/'"
      ]
     },
     "execution_count": 71,
     "metadata": {},
     "output_type": "execute_result"
    }
   ],
   "source": [
    "url"
   ]
  },
  {
   "cell_type": "code",
   "execution_count": 71,
   "metadata": {},
   "outputs": [
    {
     "name": "stdout",
     "output_type": "stream",
     "text": [
      "Last page is 22\n"
     ]
    },
    {
     "data": {
      "text/plain": [
       "(22,\n",
       " ['https://www.ss.com/lv/real-estate/flats/riga/centre/sell/',\n",
       "  'https://www.ss.com/lv/real-estate/flats/riga/centre/sell/page2.html',\n",
       "  'https://www.ss.com/lv/real-estate/flats/riga/centre/sell/page3.html'],\n",
       " 'https://www.ss.com/lv/real-estate/flats/riga/centre/sell/page22.html')"
      ]
     },
     "execution_count": 71,
     "metadata": {},
     "output_type": "execute_result"
    }
   ],
   "source": [
    "local_urls = getAllLocalUrls(url)\n",
    "len(local_urls),local_urls[:3],local_urls[-1]"
   ]
  },
  {
   "cell_type": "code",
   "execution_count": 72,
   "metadata": {},
   "outputs": [
    {
     "data": {
      "text/plain": [
       "['https://www.ss.com/lv/real-estate/flats/riga/centre/sell/',\n",
       " 'https://www.ss.com/lv/real-estate/flats/riga/centre/sell/page2.html',\n",
       " 'https://www.ss.com/lv/real-estate/flats/riga/centre/sell/page3.html',\n",
       " 'https://www.ss.com/lv/real-estate/flats/riga/centre/sell/page4.html',\n",
       " 'https://www.ss.com/lv/real-estate/flats/riga/centre/sell/page5.html',\n",
       " 'https://www.ss.com/lv/real-estate/flats/riga/centre/sell/page6.html',\n",
       " 'https://www.ss.com/lv/real-estate/flats/riga/centre/sell/page7.html',\n",
       " 'https://www.ss.com/lv/real-estate/flats/riga/centre/sell/page8.html',\n",
       " 'https://www.ss.com/lv/real-estate/flats/riga/centre/sell/page9.html',\n",
       " 'https://www.ss.com/lv/real-estate/flats/riga/centre/sell/page10.html',\n",
       " 'https://www.ss.com/lv/real-estate/flats/riga/centre/sell/page11.html',\n",
       " 'https://www.ss.com/lv/real-estate/flats/riga/centre/sell/page12.html',\n",
       " 'https://www.ss.com/lv/real-estate/flats/riga/centre/sell/page13.html',\n",
       " 'https://www.ss.com/lv/real-estate/flats/riga/centre/sell/page14.html',\n",
       " 'https://www.ss.com/lv/real-estate/flats/riga/centre/sell/page15.html',\n",
       " 'https://www.ss.com/lv/real-estate/flats/riga/centre/sell/page16.html',\n",
       " 'https://www.ss.com/lv/real-estate/flats/riga/centre/sell/page17.html',\n",
       " 'https://www.ss.com/lv/real-estate/flats/riga/centre/sell/page18.html',\n",
       " 'https://www.ss.com/lv/real-estate/flats/riga/centre/sell/page19.html',\n",
       " 'https://www.ss.com/lv/real-estate/flats/riga/centre/sell/page20.html',\n",
       " 'https://www.ss.com/lv/real-estate/flats/riga/centre/sell/page21.html',\n",
       " 'https://www.ss.com/lv/real-estate/flats/riga/centre/sell/page22.html']"
      ]
     },
     "execution_count": 72,
     "metadata": {},
     "output_type": "execute_result"
    }
   ],
   "source": [
    "local_urls"
   ]
  },
  {
   "cell_type": "code",
   "execution_count": 73,
   "metadata": {},
   "outputs": [
    {
     "data": {
      "text/plain": [
       "(30, 9)"
      ]
     },
     "execution_count": 73,
     "metadata": {},
     "output_type": "execute_result"
    }
   ],
   "source": [
    "dlast = getDFfromURL(local_urls[-1])\n",
    "dlast.shape"
   ]
  },
  {
   "cell_type": "code",
   "execution_count": 74,
   "metadata": {
    "scrolled": true
   },
   "outputs": [
    {
     "data": {
      "text/html": [
       "<div>\n",
       "<style scoped>\n",
       "    .dataframe tbody tr th:only-of-type {\n",
       "        vertical-align: middle;\n",
       "    }\n",
       "\n",
       "    .dataframe tbody tr th {\n",
       "        vertical-align: top;\n",
       "    }\n",
       "\n",
       "    .dataframe thead th {\n",
       "        text-align: right;\n",
       "    }\n",
       "</style>\n",
       "<table border=\"1\" class=\"dataframe\">\n",
       "  <thead>\n",
       "    <tr style=\"text-align: right;\">\n",
       "      <th></th>\n",
       "      <th>description</th>\n",
       "      <th>url</th>\n",
       "      <th>Iela</th>\n",
       "      <th>Ist.</th>\n",
       "      <th>m2</th>\n",
       "      <th>Stāvs</th>\n",
       "      <th>Sērija</th>\n",
       "      <th>Cena, m2</th>\n",
       "      <th>Cena</th>\n",
       "    </tr>\n",
       "  </thead>\n",
       "  <tbody>\n",
       "    <tr>\n",
       "      <th>0</th>\n",
       "      <td>Tiek pārdots pilnībā mēbelēts studijas tipa dz...</td>\n",
       "      <td>https://ss.com/msg/lv/real-estate/flats/riga/c...</td>\n",
       "      <td>Klijānu 10</td>\n",
       "      <td>1</td>\n",
       "      <td>37</td>\n",
       "      <td>1/3</td>\n",
       "      <td>Renov.</td>\n",
       "      <td>1,189 €</td>\n",
       "      <td>44,000  €</td>\n",
       "    </tr>\n",
       "    <tr>\n",
       "      <th>1</th>\n",
       "      <td>Gaumīgi iekārtots dzīvoklis, ļoti labā stāvokl...</td>\n",
       "      <td>https://ss.com/msg/lv/real-estate/flats/riga/c...</td>\n",
       "      <td>Vidus 11</td>\n",
       "      <td>3</td>\n",
       "      <td>118</td>\n",
       "      <td>1/5</td>\n",
       "      <td>P. kara</td>\n",
       "      <td>3,127 €</td>\n",
       "      <td>369,000  €</td>\n",
       "    </tr>\n",
       "    <tr>\n",
       "      <th>2</th>\n",
       "      <td>Pārdod siltu 2 - istabu dzīvokli lieliskā atra...</td>\n",
       "      <td>https://ss.com/msg/lv/real-estate/flats/riga/c...</td>\n",
       "      <td>Visvalža 3b</td>\n",
       "      <td>2</td>\n",
       "      <td>49</td>\n",
       "      <td>5/5</td>\n",
       "      <td>P. kara</td>\n",
       "      <td>1,561 €</td>\n",
       "      <td>76,500  €</td>\n",
       "    </tr>\n",
       "    <tr>\n",
       "      <th>3</th>\n",
       "      <td>Autostāvvieta ēkas pagalmā. Dzīvoklis Rīgas ce...</td>\n",
       "      <td>https://ss.com/msg/lv/real-estate/flats/riga/c...</td>\n",
       "      <td>Pērnavas 10</td>\n",
       "      <td>3</td>\n",
       "      <td>80</td>\n",
       "      <td>5/5</td>\n",
       "      <td>Staļina</td>\n",
       "      <td>1,813 €</td>\n",
       "      <td>145,000  €</td>\n",
       "    </tr>\n",
       "    <tr>\n",
       "      <th>4</th>\n",
       "      <td>Хорошая возможность устроить 3х комнатную квар...</td>\n",
       "      <td>https://ss.com/msg/lv/real-estate/flats/riga/c...</td>\n",
       "      <td>Matīsa 89</td>\n",
       "      <td>3</td>\n",
       "      <td>59</td>\n",
       "      <td>1/2</td>\n",
       "      <td>P. kara</td>\n",
       "      <td>958 €</td>\n",
       "      <td>56,500  €</td>\n",
       "    </tr>\n",
       "    <tr>\n",
       "      <th>5</th>\n",
       "      <td>Pārdodam modernu dzīvokli klusā ielā Rīgas cen...</td>\n",
       "      <td>https://ss.com/msg/lv/real-estate/flats/riga/c...</td>\n",
       "      <td>Ieroču 4</td>\n",
       "      <td>1</td>\n",
       "      <td>61</td>\n",
       "      <td>3/3</td>\n",
       "      <td>P. kara</td>\n",
       "      <td>1,623 €</td>\n",
       "      <td>99,000  €</td>\n",
       "    </tr>\n",
       "    <tr>\n",
       "      <th>6</th>\n",
       "      <td>Tiek pārdots dzīvokli Dzirnavu ielā 6 A. Dzīvo...</td>\n",
       "      <td>https://ss.com/msg/lv/real-estate/flats/riga/c...</td>\n",
       "      <td>Dzirnavu 6</td>\n",
       "      <td>3</td>\n",
       "      <td>100</td>\n",
       "      <td>1/5</td>\n",
       "      <td>Renov.</td>\n",
       "      <td>2,680 €</td>\n",
       "      <td>268,000  €</td>\n",
       "    </tr>\n",
       "    <tr>\n",
       "      <th>7</th>\n",
       "      <td>Pārdodam 3-ist. dzīvokli otrajā stāvā pašā Rīg...</td>\n",
       "      <td>https://ss.com/msg/lv/real-estate/flats/riga/c...</td>\n",
       "      <td>Dzirnavu 89</td>\n",
       "      <td>3</td>\n",
       "      <td>75</td>\n",
       "      <td>2/4</td>\n",
       "      <td>P. kara</td>\n",
       "      <td>1,599 €</td>\n",
       "      <td>119,950  €</td>\n",
       "    </tr>\n",
       "    <tr>\n",
       "      <th>8</th>\n",
       "      <td>Renovēta pirmskara māja Rīgas centrā, 4 istabu...</td>\n",
       "      <td>https://ss.com/msg/lv/real-estate/flats/riga/c...</td>\n",
       "      <td>Čaka 143</td>\n",
       "      <td>4</td>\n",
       "      <td>97</td>\n",
       "      <td>5/6</td>\n",
       "      <td>Renov.</td>\n",
       "      <td>1,588 €</td>\n",
       "      <td>154,000  €</td>\n",
       "    </tr>\n",
       "    <tr>\n",
       "      <th>9</th>\n",
       "      <td>Remontēts 2 - istabu dzīvoklis pirmskara pagal...</td>\n",
       "      <td>https://ss.com/msg/lv/real-estate/flats/riga/c...</td>\n",
       "      <td>Miera 10</td>\n",
       "      <td>2</td>\n",
       "      <td>75</td>\n",
       "      <td>3/5</td>\n",
       "      <td>P. kara</td>\n",
       "      <td>1,700 €</td>\n",
       "      <td>127,500  €</td>\n",
       "    </tr>\n",
       "    <tr>\n",
       "      <th>10</th>\n",
       "      <td>Īpašnieks pārdod 2 istabu dzīvokli Staļina lai...</td>\n",
       "      <td>https://ss.com/msg/lv/real-estate/flats/riga/c...</td>\n",
       "      <td>Katrīnas d. 22</td>\n",
       "      <td>2</td>\n",
       "      <td>50</td>\n",
       "      <td>2/4</td>\n",
       "      <td>Staļina</td>\n",
       "      <td>1,600 €</td>\n",
       "      <td>80,000  €</td>\n",
       "    </tr>\n",
       "    <tr>\n",
       "      <th>11</th>\n",
       "      <td>Jūgendstila pērle Rīgas vēsturiskajā centrā, a...</td>\n",
       "      <td>https://ss.com/msg/lv/real-estate/flats/riga/c...</td>\n",
       "      <td>Lāčplēša 23</td>\n",
       "      <td>6</td>\n",
       "      <td>152</td>\n",
       "      <td>3/5</td>\n",
       "      <td>P. kara</td>\n",
       "      <td>2,296 €</td>\n",
       "      <td>349,000  €</td>\n",
       "    </tr>\n",
       "    <tr>\n",
       "      <th>12</th>\n",
       "      <td>Mājīgs, divu līmeņu trīsistabu dzīvoklis pašā ...</td>\n",
       "      <td>https://ss.com/msg/lv/real-estate/flats/riga/c...</td>\n",
       "      <td>Barona 39</td>\n",
       "      <td>3</td>\n",
       "      <td>90</td>\n",
       "      <td>2/4</td>\n",
       "      <td>P. kara</td>\n",
       "      <td>1,500 €</td>\n",
       "      <td>135,000  €</td>\n",
       "    </tr>\n",
       "    <tr>\n",
       "      <th>13</th>\n",
       "      <td>Prestižajā Rīgas centrā tiek pārdots 3 istabu ...</td>\n",
       "      <td>https://ss.com/msg/lv/real-estate/flats/riga/c...</td>\n",
       "      <td>Vesetas 32</td>\n",
       "      <td>3</td>\n",
       "      <td>81</td>\n",
       "      <td>10/12</td>\n",
       "      <td>Čehu pr.</td>\n",
       "      <td>1,667 €</td>\n",
       "      <td>135,000  €</td>\n",
       "    </tr>\n",
       "    <tr>\n",
       "      <th>14</th>\n",
       "      <td>Beautiful apartment for sale in city centre. \\...</td>\n",
       "      <td>https://ss.com/msg/lv/real-estate/flats/riga/c...</td>\n",
       "      <td>Pērnavas 15A</td>\n",
       "      <td>1</td>\n",
       "      <td>41</td>\n",
       "      <td>2/5</td>\n",
       "      <td>Renov.</td>\n",
       "      <td>2,951 €</td>\n",
       "      <td>121,000  €</td>\n",
       "    </tr>\n",
       "    <tr>\n",
       "      <th>15</th>\n",
       "      <td>Pārdošanā trīsistabu dzīvoklis pilnībā rekonst...</td>\n",
       "      <td>https://ss.com/msg/lv/real-estate/flats/riga/c...</td>\n",
       "      <td>Antonijas 26A</td>\n",
       "      <td>3</td>\n",
       "      <td>82</td>\n",
       "      <td>6/6</td>\n",
       "      <td>Renov.</td>\n",
       "      <td>3,902 €</td>\n",
       "      <td>320,000  €</td>\n",
       "    </tr>\n",
       "    <tr>\n",
       "      <th>16</th>\n",
       "      <td>Īpašnieks pārdod 2 istabu dzīvokli Vārnu ielā....</td>\n",
       "      <td>https://ss.com/msg/lv/real-estate/flats/riga/c...</td>\n",
       "      <td>Vārnu 8B</td>\n",
       "      <td>2</td>\n",
       "      <td>51</td>\n",
       "      <td>3/4</td>\n",
       "      <td>P. kara</td>\n",
       "      <td>1,353 €</td>\n",
       "      <td>69,000  €</td>\n",
       "    </tr>\n",
       "    <tr>\n",
       "      <th>17</th>\n",
       "      <td>Augstvērtīgs 5 istabu dzīvoklis ar divām autos...</td>\n",
       "      <td>https://ss.com/msg/lv/real-estate/flats/riga/c...</td>\n",
       "      <td>J. Daliņa 8</td>\n",
       "      <td>5</td>\n",
       "      <td>200</td>\n",
       "      <td>20/24</td>\n",
       "      <td>Jaun.</td>\n",
       "      <td>3,000 €</td>\n",
       "      <td>600,000  €</td>\n",
       "    </tr>\n",
       "    <tr>\n",
       "      <th>18</th>\n",
       "      <td>Gaišas plašas biroju telpas 1 un 2 stāvā dzīvo...</td>\n",
       "      <td>https://ss.com/msg/lv/real-estate/flats/riga/c...</td>\n",
       "      <td>Katrīnas d. 17</td>\n",
       "      <td>5</td>\n",
       "      <td>203</td>\n",
       "      <td>1/6</td>\n",
       "      <td>Jaun.</td>\n",
       "      <td>1,182 €</td>\n",
       "      <td>240,000  €</td>\n",
       "    </tr>\n",
       "    <tr>\n",
       "      <th>19</th>\n",
       "      <td>Atīsttīstītājs pārdod divistabu dzīvokli jauna...</td>\n",
       "      <td>https://ss.com/msg/lv/real-estate/flats/riga/c...</td>\n",
       "      <td>Stabu 87</td>\n",
       "      <td>2</td>\n",
       "      <td>45</td>\n",
       "      <td>2/5</td>\n",
       "      <td>Renov.</td>\n",
       "      <td>1,405 €</td>\n",
       "      <td>63,224  €</td>\n",
       "    </tr>\n",
       "    <tr>\n",
       "      <th>20</th>\n",
       "      <td>Atīsttīstītājs pārdod trīsistabu dzīvokli jaun...</td>\n",
       "      <td>https://ss.com/msg/lv/real-estate/flats/riga/c...</td>\n",
       "      <td>Stabu 87</td>\n",
       "      <td>3</td>\n",
       "      <td>65</td>\n",
       "      <td>2/5</td>\n",
       "      <td>Renov.</td>\n",
       "      <td>1,584 €</td>\n",
       "      <td>102,974  €</td>\n",
       "    </tr>\n",
       "    <tr>\n",
       "      <th>21</th>\n",
       "      <td>Vienas istabas dzīvoklis ar pelēko apdari reno...</td>\n",
       "      <td>https://ss.com/msg/lv/real-estate/flats/riga/c...</td>\n",
       "      <td>Čaka 33</td>\n",
       "      <td>1</td>\n",
       "      <td>25</td>\n",
       "      <td>3/7</td>\n",
       "      <td>P. kara</td>\n",
       "      <td>2,195 €</td>\n",
       "      <td>54,880  €</td>\n",
       "    </tr>\n",
       "    <tr>\n",
       "      <th>22</th>\n",
       "      <td>Ekskluzīvs 4-istabu dzīvoklis vēstniecību rajo...</td>\n",
       "      <td>https://ss.com/msg/lv/real-estate/flats/riga/c...</td>\n",
       "      <td>Kalpaka bulv. 10</td>\n",
       "      <td>4</td>\n",
       "      <td>123</td>\n",
       "      <td>3/5</td>\n",
       "      <td>P. kara</td>\n",
       "      <td>2,358 €</td>\n",
       "      <td>290,000  €</td>\n",
       "    </tr>\n",
       "    <tr>\n",
       "      <th>23</th>\n",
       "      <td>Pārdod plašu un saulainu 3 istabu dzīvokli pil...</td>\n",
       "      <td>https://ss.com/msg/lv/real-estate/flats/riga/c...</td>\n",
       "      <td>Baznīcas 45</td>\n",
       "      <td>3</td>\n",
       "      <td>84</td>\n",
       "      <td>4/6</td>\n",
       "      <td>P. kara</td>\n",
       "      <td>2,083 €</td>\n",
       "      <td>175,000  €</td>\n",
       "    </tr>\n",
       "    <tr>\n",
       "      <th>24</th>\n",
       "      <td>Dzīvoklis prestižā vietā - pretī Latvijas Naci...</td>\n",
       "      <td>https://ss.com/msg/lv/real-estate/flats/riga/c...</td>\n",
       "      <td>Raiņa bulv. 21</td>\n",
       "      <td>2</td>\n",
       "      <td>59</td>\n",
       "      <td>2/5</td>\n",
       "      <td>Renov.</td>\n",
       "      <td>2,847 €</td>\n",
       "      <td>168,000  €</td>\n",
       "    </tr>\n",
       "    <tr>\n",
       "      <th>25</th>\n",
       "      <td>Pārdod 1-istabu dzīvokli ar labu plānojumu Maz...</td>\n",
       "      <td>https://ss.com/msg/lv/real-estate/flats/riga/c...</td>\n",
       "      <td>M. Matīsa 3</td>\n",
       "      <td>1</td>\n",
       "      <td>29</td>\n",
       "      <td>4/5</td>\n",
       "      <td>P. kara</td>\n",
       "      <td>1,103 €</td>\n",
       "      <td>32,000  €</td>\n",
       "    </tr>\n",
       "    <tr>\n",
       "      <th>26</th>\n",
       "      <td>Brīnišķīgs plašs un kvalitatīvs trīsistabu dzī...</td>\n",
       "      <td>https://ss.com/msg/lv/real-estate/flats/riga/c...</td>\n",
       "      <td>Grostonas 25</td>\n",
       "      <td>3</td>\n",
       "      <td>99</td>\n",
       "      <td>18/24</td>\n",
       "      <td>Jaun.</td>\n",
       "      <td>3,475 €</td>\n",
       "      <td>344,000  €</td>\n",
       "    </tr>\n",
       "    <tr>\n",
       "      <th>27</th>\n",
       "      <td>Dažu minūšu gājiena attālumā no Vecrīgas pārdo...</td>\n",
       "      <td>https://ss.com/msg/lv/real-estate/flats/riga/c...</td>\n",
       "      <td>Eksporta 16</td>\n",
       "      <td>1</td>\n",
       "      <td>31</td>\n",
       "      <td>3/5</td>\n",
       "      <td>Hrušč.</td>\n",
       "      <td>1,645 €</td>\n",
       "      <td>51,000  €</td>\n",
       "    </tr>\n",
       "    <tr>\n",
       "      <th>28</th>\n",
       "      <td>Fasādes māja, balkons, autostāvvieta. \\r\\n\\r\\n...</td>\n",
       "      <td>https://ss.com/msg/lv/real-estate/flats/riga/c...</td>\n",
       "      <td>Ausekļa 3</td>\n",
       "      <td>4</td>\n",
       "      <td>108</td>\n",
       "      <td>5/5</td>\n",
       "      <td>P. kara</td>\n",
       "      <td>2,407 €</td>\n",
       "      <td>260,000  €</td>\n",
       "    </tr>\n",
       "    <tr>\n",
       "      <th>29</th>\n",
       "      <td>4 bedroom apartment for sale in Embassy area\\r...</td>\n",
       "      <td>https://ss.com/msg/lv/real-estate/flats/riga/c...</td>\n",
       "      <td>Rūpniecības 5</td>\n",
       "      <td>4</td>\n",
       "      <td>142</td>\n",
       "      <td>2/6</td>\n",
       "      <td>P. kara</td>\n",
       "      <td>2,500 €</td>\n",
       "      <td>355,000  €</td>\n",
       "    </tr>\n",
       "  </tbody>\n",
       "</table>\n",
       "</div>"
      ],
      "text/plain": [
       "                                          description  \\\n",
       "0   Tiek pārdots pilnībā mēbelēts studijas tipa dz...   \n",
       "1   Gaumīgi iekārtots dzīvoklis, ļoti labā stāvokl...   \n",
       "2   Pārdod siltu 2 - istabu dzīvokli lieliskā atra...   \n",
       "3   Autostāvvieta ēkas pagalmā. Dzīvoklis Rīgas ce...   \n",
       "4   Хорошая возможность устроить 3х комнатную квар...   \n",
       "5   Pārdodam modernu dzīvokli klusā ielā Rīgas cen...   \n",
       "6   Tiek pārdots dzīvokli Dzirnavu ielā 6 A. Dzīvo...   \n",
       "7   Pārdodam 3-ist. dzīvokli otrajā stāvā pašā Rīg...   \n",
       "8   Renovēta pirmskara māja Rīgas centrā, 4 istabu...   \n",
       "9   Remontēts 2 - istabu dzīvoklis pirmskara pagal...   \n",
       "10  Īpašnieks pārdod 2 istabu dzīvokli Staļina lai...   \n",
       "11  Jūgendstila pērle Rīgas vēsturiskajā centrā, a...   \n",
       "12  Mājīgs, divu līmeņu trīsistabu dzīvoklis pašā ...   \n",
       "13  Prestižajā Rīgas centrā tiek pārdots 3 istabu ...   \n",
       "14  Beautiful apartment for sale in city centre. \\...   \n",
       "15  Pārdošanā trīsistabu dzīvoklis pilnībā rekonst...   \n",
       "16  Īpašnieks pārdod 2 istabu dzīvokli Vārnu ielā....   \n",
       "17  Augstvērtīgs 5 istabu dzīvoklis ar divām autos...   \n",
       "18  Gaišas plašas biroju telpas 1 un 2 stāvā dzīvo...   \n",
       "19  Atīsttīstītājs pārdod divistabu dzīvokli jauna...   \n",
       "20  Atīsttīstītājs pārdod trīsistabu dzīvokli jaun...   \n",
       "21  Vienas istabas dzīvoklis ar pelēko apdari reno...   \n",
       "22  Ekskluzīvs 4-istabu dzīvoklis vēstniecību rajo...   \n",
       "23  Pārdod plašu un saulainu 3 istabu dzīvokli pil...   \n",
       "24  Dzīvoklis prestižā vietā - pretī Latvijas Naci...   \n",
       "25  Pārdod 1-istabu dzīvokli ar labu plānojumu Maz...   \n",
       "26  Brīnišķīgs plašs un kvalitatīvs trīsistabu dzī...   \n",
       "27  Dažu minūšu gājiena attālumā no Vecrīgas pārdo...   \n",
       "28  Fasādes māja, balkons, autostāvvieta. \\r\\n\\r\\n...   \n",
       "29  4 bedroom apartment for sale in Embassy area\\r...   \n",
       "\n",
       "                                                  url              Iela Ist.  \\\n",
       "0   https://ss.com/msg/lv/real-estate/flats/riga/c...        Klijānu 10    1   \n",
       "1   https://ss.com/msg/lv/real-estate/flats/riga/c...          Vidus 11    3   \n",
       "2   https://ss.com/msg/lv/real-estate/flats/riga/c...       Visvalža 3b    2   \n",
       "3   https://ss.com/msg/lv/real-estate/flats/riga/c...       Pērnavas 10    3   \n",
       "4   https://ss.com/msg/lv/real-estate/flats/riga/c...         Matīsa 89    3   \n",
       "5   https://ss.com/msg/lv/real-estate/flats/riga/c...          Ieroču 4    1   \n",
       "6   https://ss.com/msg/lv/real-estate/flats/riga/c...        Dzirnavu 6    3   \n",
       "7   https://ss.com/msg/lv/real-estate/flats/riga/c...       Dzirnavu 89    3   \n",
       "8   https://ss.com/msg/lv/real-estate/flats/riga/c...          Čaka 143    4   \n",
       "9   https://ss.com/msg/lv/real-estate/flats/riga/c...          Miera 10    2   \n",
       "10  https://ss.com/msg/lv/real-estate/flats/riga/c...    Katrīnas d. 22    2   \n",
       "11  https://ss.com/msg/lv/real-estate/flats/riga/c...       Lāčplēša 23    6   \n",
       "12  https://ss.com/msg/lv/real-estate/flats/riga/c...         Barona 39    3   \n",
       "13  https://ss.com/msg/lv/real-estate/flats/riga/c...        Vesetas 32    3   \n",
       "14  https://ss.com/msg/lv/real-estate/flats/riga/c...      Pērnavas 15A    1   \n",
       "15  https://ss.com/msg/lv/real-estate/flats/riga/c...     Antonijas 26A    3   \n",
       "16  https://ss.com/msg/lv/real-estate/flats/riga/c...          Vārnu 8B    2   \n",
       "17  https://ss.com/msg/lv/real-estate/flats/riga/c...       J. Daliņa 8    5   \n",
       "18  https://ss.com/msg/lv/real-estate/flats/riga/c...    Katrīnas d. 17    5   \n",
       "19  https://ss.com/msg/lv/real-estate/flats/riga/c...          Stabu 87    2   \n",
       "20  https://ss.com/msg/lv/real-estate/flats/riga/c...          Stabu 87    3   \n",
       "21  https://ss.com/msg/lv/real-estate/flats/riga/c...           Čaka 33    1   \n",
       "22  https://ss.com/msg/lv/real-estate/flats/riga/c...  Kalpaka bulv. 10    4   \n",
       "23  https://ss.com/msg/lv/real-estate/flats/riga/c...       Baznīcas 45    3   \n",
       "24  https://ss.com/msg/lv/real-estate/flats/riga/c...    Raiņa bulv. 21    2   \n",
       "25  https://ss.com/msg/lv/real-estate/flats/riga/c...       M. Matīsa 3    1   \n",
       "26  https://ss.com/msg/lv/real-estate/flats/riga/c...      Grostonas 25    3   \n",
       "27  https://ss.com/msg/lv/real-estate/flats/riga/c...       Eksporta 16    1   \n",
       "28  https://ss.com/msg/lv/real-estate/flats/riga/c...         Ausekļa 3    4   \n",
       "29  https://ss.com/msg/lv/real-estate/flats/riga/c...     Rūpniecības 5    4   \n",
       "\n",
       "     m2  Stāvs    Sērija Cena, m2        Cena  \n",
       "0    37    1/3    Renov.  1,189 €   44,000  €  \n",
       "1   118    1/5   P. kara  3,127 €  369,000  €  \n",
       "2    49    5/5   P. kara  1,561 €   76,500  €  \n",
       "3    80    5/5   Staļina  1,813 €  145,000  €  \n",
       "4    59    1/2   P. kara    958 €   56,500  €  \n",
       "5    61    3/3   P. kara  1,623 €   99,000  €  \n",
       "6   100    1/5    Renov.  2,680 €  268,000  €  \n",
       "7    75    2/4   P. kara  1,599 €  119,950  €  \n",
       "8    97    5/6    Renov.  1,588 €  154,000  €  \n",
       "9    75    3/5   P. kara  1,700 €  127,500  €  \n",
       "10   50    2/4   Staļina  1,600 €   80,000  €  \n",
       "11  152    3/5   P. kara  2,296 €  349,000  €  \n",
       "12   90    2/4   P. kara  1,500 €  135,000  €  \n",
       "13   81  10/12  Čehu pr.  1,667 €  135,000  €  \n",
       "14   41    2/5    Renov.  2,951 €  121,000  €  \n",
       "15   82    6/6    Renov.  3,902 €  320,000  €  \n",
       "16   51    3/4   P. kara  1,353 €   69,000  €  \n",
       "17  200  20/24     Jaun.  3,000 €  600,000  €  \n",
       "18  203    1/6     Jaun.  1,182 €  240,000  €  \n",
       "19   45    2/5    Renov.  1,405 €   63,224  €  \n",
       "20   65    2/5    Renov.  1,584 €  102,974  €  \n",
       "21   25    3/7   P. kara  2,195 €   54,880  €  \n",
       "22  123    3/5   P. kara  2,358 €  290,000  €  \n",
       "23   84    4/6   P. kara  2,083 €  175,000  €  \n",
       "24   59    2/5    Renov.  2,847 €  168,000  €  \n",
       "25   29    4/5   P. kara  1,103 €   32,000  €  \n",
       "26   99  18/24     Jaun.  3,475 €  344,000  €  \n",
       "27   31    3/5    Hrušč.  1,645 €   51,000  €  \n",
       "28  108    5/5   P. kara  2,407 €  260,000  €  \n",
       "29  142    2/6   P. kara  2,500 €  355,000  €  "
      ]
     },
     "execution_count": 74,
     "metadata": {},
     "output_type": "execute_result"
    }
   ],
   "source": [
    "dlast"
   ]
  },
  {
   "cell_type": "code",
   "execution_count": 75,
   "metadata": {},
   "outputs": [],
   "source": [
    "def get_all_ads_df(start_url, save_excel_path=None):\n",
    "    df_list=[] # so we will save our dataframes in a list\n",
    "    local_urls = getAllLocalUrls(start_url)\n",
    "    for url in local_urls:\n",
    "        print(f\"Gathering data from {url}\")\n",
    "        df_list.append(getDFfromURL(url))\n",
    "        time.sleep(0.3) # we need this to play nice! to avoid rate limit or IP ban!!\n",
    "    # https://pandas.pydata.org/pandas-docs/stable/reference/api/pandas.concat.html\n",
    "    big_df = pd.concat(df_list, ignore_index=True) # then make a big dataframe from all the small dataframes\n",
    "    if save_excel_path:\n",
    "        big_df.to_excel(save_excel_path)\n",
    "    return big_df\n",
    "    "
   ]
  },
  {
   "cell_type": "code",
   "execution_count": 77,
   "metadata": {},
   "outputs": [
    {
     "data": {
      "text/plain": [
       "'https://www.ss.com/lv/real-estate/flats/riga/centre/sell/'"
      ]
     },
     "execution_count": 77,
     "metadata": {},
     "output_type": "execute_result"
    }
   ],
   "source": [
    "centrs = url\n",
    "centrs"
   ]
  },
  {
   "cell_type": "code",
   "execution_count": 76,
   "metadata": {
    "scrolled": true
   },
   "outputs": [
    {
     "name": "stdout",
     "output_type": "stream",
     "text": [
      "Last page is 22\n",
      "Gathering data from https://www.ss.com/lv/real-estate/flats/riga/centre/sell/\n",
      "Gathering data from https://www.ss.com/lv/real-estate/flats/riga/centre/sell/page2.html\n",
      "Gathering data from https://www.ss.com/lv/real-estate/flats/riga/centre/sell/page3.html\n",
      "Gathering data from https://www.ss.com/lv/real-estate/flats/riga/centre/sell/page4.html\n",
      "Gathering data from https://www.ss.com/lv/real-estate/flats/riga/centre/sell/page5.html\n",
      "Gathering data from https://www.ss.com/lv/real-estate/flats/riga/centre/sell/page6.html\n",
      "Gathering data from https://www.ss.com/lv/real-estate/flats/riga/centre/sell/page7.html\n",
      "Gathering data from https://www.ss.com/lv/real-estate/flats/riga/centre/sell/page8.html\n",
      "Gathering data from https://www.ss.com/lv/real-estate/flats/riga/centre/sell/page9.html\n",
      "Gathering data from https://www.ss.com/lv/real-estate/flats/riga/centre/sell/page10.html\n",
      "Gathering data from https://www.ss.com/lv/real-estate/flats/riga/centre/sell/page11.html\n",
      "Gathering data from https://www.ss.com/lv/real-estate/flats/riga/centre/sell/page12.html\n",
      "Gathering data from https://www.ss.com/lv/real-estate/flats/riga/centre/sell/page13.html\n",
      "Gathering data from https://www.ss.com/lv/real-estate/flats/riga/centre/sell/page14.html\n",
      "Gathering data from https://www.ss.com/lv/real-estate/flats/riga/centre/sell/page15.html\n",
      "Gathering data from https://www.ss.com/lv/real-estate/flats/riga/centre/sell/page16.html\n",
      "Gathering data from https://www.ss.com/lv/real-estate/flats/riga/centre/sell/page17.html\n",
      "Gathering data from https://www.ss.com/lv/real-estate/flats/riga/centre/sell/page18.html\n",
      "Gathering data from https://www.ss.com/lv/real-estate/flats/riga/centre/sell/page19.html\n",
      "Gathering data from https://www.ss.com/lv/real-estate/flats/riga/centre/sell/page20.html\n",
      "Gathering data from https://www.ss.com/lv/real-estate/flats/riga/centre/sell/page21.html\n",
      "Gathering data from https://www.ss.com/lv/real-estate/flats/riga/centre/sell/page22.html\n"
     ]
    }
   ],
   "source": [
    "centra_df = get_all_ads_df(centrs, save_excel_path=\"centrs_dzivokli_junijs29.xlsx\")"
   ]
  },
  {
   "cell_type": "code",
   "execution_count": 77,
   "metadata": {},
   "outputs": [
    {
     "data": {
      "text/html": [
       "<div>\n",
       "<style scoped>\n",
       "    .dataframe tbody tr th:only-of-type {\n",
       "        vertical-align: middle;\n",
       "    }\n",
       "\n",
       "    .dataframe tbody tr th {\n",
       "        vertical-align: top;\n",
       "    }\n",
       "\n",
       "    .dataframe thead th {\n",
       "        text-align: right;\n",
       "    }\n",
       "</style>\n",
       "<table border=\"1\" class=\"dataframe\">\n",
       "  <thead>\n",
       "    <tr style=\"text-align: right;\">\n",
       "      <th></th>\n",
       "      <th>description</th>\n",
       "      <th>url</th>\n",
       "      <th>Iela</th>\n",
       "      <th>Ist.</th>\n",
       "      <th>m2</th>\n",
       "      <th>Stāvs</th>\n",
       "      <th>Sērija</th>\n",
       "      <th>Cena, m2</th>\n",
       "      <th>Cena</th>\n",
       "    </tr>\n",
       "  </thead>\n",
       "  <tbody>\n",
       "    <tr>\n",
       "      <th>0</th>\n",
       "      <td>Pārdodu skaistu un mājīgu 2 istabu dzīvokli Ce...</td>\n",
       "      <td>https://ss.com/msg/lv/real-estate/flats/riga/c...</td>\n",
       "      <td>Tallinas 52</td>\n",
       "      <td>2</td>\n",
       "      <td>59</td>\n",
       "      <td>4/5</td>\n",
       "      <td>P. kara</td>\n",
       "      <td>2,364 €</td>\n",
       "      <td>139,500  €</td>\n",
       "    </tr>\n",
       "    <tr>\n",
       "      <th>1</th>\n",
       "      <td>Pārdošanā tikko izremontēts lielisks, gaišs 2i...</td>\n",
       "      <td>https://ss.com/msg/lv/real-estate/flats/riga/c...</td>\n",
       "      <td>Matīsa 89a</td>\n",
       "      <td>2</td>\n",
       "      <td>41</td>\n",
       "      <td>3/5</td>\n",
       "      <td>P. kara</td>\n",
       "      <td>1,902 €</td>\n",
       "      <td>78,000  €</td>\n",
       "    </tr>\n",
       "    <tr>\n",
       "      <th>2</th>\n",
       "      <td>Pārdodas plašs dzīvoklis Rīgā. \\r\\n\\r\\nDzīvokl...</td>\n",
       "      <td>https://ss.com/msg/lv/real-estate/flats/riga/c...</td>\n",
       "      <td>Čaka 70</td>\n",
       "      <td>6</td>\n",
       "      <td>180</td>\n",
       "      <td>3/6</td>\n",
       "      <td>P. kara</td>\n",
       "      <td>1,389 €</td>\n",
       "      <td>250,000  €</td>\n",
       "    </tr>\n",
       "    <tr>\n",
       "      <th>3</th>\n",
       "      <td>Pārdodu divistabu dzīvokli Maskavas ielā 108\\r...</td>\n",
       "      <td>https://ss.com/msg/lv/real-estate/flats/riga/c...</td>\n",
       "      <td>Maskavas 108</td>\n",
       "      <td>2</td>\n",
       "      <td>50</td>\n",
       "      <td>6/6</td>\n",
       "      <td>P. kara</td>\n",
       "      <td>1,700 €</td>\n",
       "      <td>85,000  €</td>\n",
       "    </tr>\n",
       "    <tr>\n",
       "      <th>4</th>\n",
       "      <td>Pārdodas 4 istabu dzīvoklis klusajā centrā. \\r...</td>\n",
       "      <td>https://ss.com/msg/lv/real-estate/flats/riga/c...</td>\n",
       "      <td>Vidus 11</td>\n",
       "      <td>4</td>\n",
       "      <td>134</td>\n",
       "      <td>1/5</td>\n",
       "      <td>Renov.</td>\n",
       "      <td>2,537 €</td>\n",
       "      <td>340,000  €</td>\n",
       "    </tr>\n",
       "    <tr>\n",
       "      <th>5</th>\n",
       "      <td>Продается хорошая квартира со всем душ туалет ...</td>\n",
       "      <td>https://ss.com/msg/lv/real-estate/flats/riga/c...</td>\n",
       "      <td>Lienes 6a</td>\n",
       "      <td>1</td>\n",
       "      <td>25</td>\n",
       "      <td>1/1</td>\n",
       "      <td>Renov.</td>\n",
       "      <td>1,000 €</td>\n",
       "      <td>25,000  €</td>\n",
       "    </tr>\n",
       "    <tr>\n",
       "      <th>6</th>\n",
       "      <td>Pārdod plašu un elegantu dzīvokli klusā pagalm...</td>\n",
       "      <td>https://ss.com/msg/lv/real-estate/flats/riga/c...</td>\n",
       "      <td>Maiznīcas 10</td>\n",
       "      <td>4</td>\n",
       "      <td>105</td>\n",
       "      <td>3/5</td>\n",
       "      <td>P. kara</td>\n",
       "      <td>2,076 €</td>\n",
       "      <td>218,000  €</td>\n",
       "    </tr>\n",
       "    <tr>\n",
       "      <th>7</th>\n",
       "      <td>Mājīgs, silts un kluss picis istabu dzīvoklis ...</td>\n",
       "      <td>https://ss.com/msg/lv/real-estate/flats/riga/c...</td>\n",
       "      <td>Valdemāra 39</td>\n",
       "      <td>5</td>\n",
       "      <td>109</td>\n",
       "      <td>2/6</td>\n",
       "      <td>P. kara</td>\n",
       "      <td>1,651 €</td>\n",
       "      <td>180,000  €</td>\n",
       "    </tr>\n",
       "    <tr>\n",
       "      <th>8</th>\n",
       "      <td>Steidzami. Оriģināls divu līmeņu dzīvoklis, kl...</td>\n",
       "      <td>https://ss.com/msg/lv/real-estate/flats/riga/c...</td>\n",
       "      <td>Čaka 44</td>\n",
       "      <td>2</td>\n",
       "      <td>97</td>\n",
       "      <td>2/5</td>\n",
       "      <td>P. kara</td>\n",
       "      <td>1,031 €</td>\n",
       "      <td>100,000  €</td>\n",
       "    </tr>\n",
       "    <tr>\n",
       "      <th>9</th>\n",
       "      <td>Pārdod plašu dzīvokli Rīgas Klusajā centrā Pul...</td>\n",
       "      <td>https://ss.com/msg/lv/real-estate/flats/riga/c...</td>\n",
       "      <td>Pulkv. Brieža 8</td>\n",
       "      <td>5</td>\n",
       "      <td>163</td>\n",
       "      <td>3/6</td>\n",
       "      <td>P. kara</td>\n",
       "      <td>2,362 €</td>\n",
       "      <td>385,000  €</td>\n",
       "    </tr>\n",
       "  </tbody>\n",
       "</table>\n",
       "</div>"
      ],
      "text/plain": [
       "                                         description  \\\n",
       "0  Pārdodu skaistu un mājīgu 2 istabu dzīvokli Ce...   \n",
       "1  Pārdošanā tikko izremontēts lielisks, gaišs 2i...   \n",
       "2  Pārdodas plašs dzīvoklis Rīgā. \\r\\n\\r\\nDzīvokl...   \n",
       "3  Pārdodu divistabu dzīvokli Maskavas ielā 108\\r...   \n",
       "4  Pārdodas 4 istabu dzīvoklis klusajā centrā. \\r...   \n",
       "5  Продается хорошая квартира со всем душ туалет ...   \n",
       "6  Pārdod plašu un elegantu dzīvokli klusā pagalm...   \n",
       "7  Mājīgs, silts un kluss picis istabu dzīvoklis ...   \n",
       "8  Steidzami. Оriģināls divu līmeņu dzīvoklis, kl...   \n",
       "9  Pārdod plašu dzīvokli Rīgas Klusajā centrā Pul...   \n",
       "\n",
       "                                                 url             Iela Ist.  \\\n",
       "0  https://ss.com/msg/lv/real-estate/flats/riga/c...      Tallinas 52    2   \n",
       "1  https://ss.com/msg/lv/real-estate/flats/riga/c...       Matīsa 89a    2   \n",
       "2  https://ss.com/msg/lv/real-estate/flats/riga/c...          Čaka 70    6   \n",
       "3  https://ss.com/msg/lv/real-estate/flats/riga/c...     Maskavas 108    2   \n",
       "4  https://ss.com/msg/lv/real-estate/flats/riga/c...         Vidus 11    4   \n",
       "5  https://ss.com/msg/lv/real-estate/flats/riga/c...        Lienes 6a    1   \n",
       "6  https://ss.com/msg/lv/real-estate/flats/riga/c...     Maiznīcas 10    4   \n",
       "7  https://ss.com/msg/lv/real-estate/flats/riga/c...     Valdemāra 39    5   \n",
       "8  https://ss.com/msg/lv/real-estate/flats/riga/c...          Čaka 44    2   \n",
       "9  https://ss.com/msg/lv/real-estate/flats/riga/c...  Pulkv. Brieža 8    5   \n",
       "\n",
       "    m2 Stāvs   Sērija Cena, m2        Cena  \n",
       "0   59   4/5  P. kara  2,364 €  139,500  €  \n",
       "1   41   3/5  P. kara  1,902 €   78,000  €  \n",
       "2  180   3/6  P. kara  1,389 €  250,000  €  \n",
       "3   50   6/6  P. kara  1,700 €   85,000  €  \n",
       "4  134   1/5   Renov.  2,537 €  340,000  €  \n",
       "5   25   1/1   Renov.  1,000 €   25,000  €  \n",
       "6  105   3/5  P. kara  2,076 €  218,000  €  \n",
       "7  109   2/6  P. kara  1,651 €  180,000  €  \n",
       "8   97   2/5  P. kara  1,031 €  100,000  €  \n",
       "9  163   3/6  P. kara  2,362 €  385,000  €  "
      ]
     },
     "execution_count": 77,
     "metadata": {},
     "output_type": "execute_result"
    }
   ],
   "source": [
    "centra_df.head(10)"
   ]
  },
  {
   "cell_type": "code",
   "execution_count": 72,
   "metadata": {},
   "outputs": [
    {
     "data": {
      "text/plain": [
       "'https://www.ss.com/lv/real-estate/homes-summer-residences/riga-region/all/sell/'"
      ]
     },
     "execution_count": 72,
     "metadata": {},
     "output_type": "execute_result"
    }
   ],
   "source": [
    "url"
   ]
  },
  {
   "cell_type": "code",
   "execution_count": 74,
   "metadata": {},
   "outputs": [
    {
     "name": "stdout",
     "output_type": "stream",
     "text": [
      "Last page is 17\n",
      "Gathering data from https://www.ss.com/lv/real-estate/homes-summer-residences/riga-region/all/sell/\n",
      "Gathering data from https://www.ss.com/lv/real-estate/homes-summer-residences/riga-region/all/sell/page2.html\n",
      "Gathering data from https://www.ss.com/lv/real-estate/homes-summer-residences/riga-region/all/sell/page3.html\n",
      "Gathering data from https://www.ss.com/lv/real-estate/homes-summer-residences/riga-region/all/sell/page4.html\n",
      "Gathering data from https://www.ss.com/lv/real-estate/homes-summer-residences/riga-region/all/sell/page5.html\n",
      "Gathering data from https://www.ss.com/lv/real-estate/homes-summer-residences/riga-region/all/sell/page6.html\n",
      "Gathering data from https://www.ss.com/lv/real-estate/homes-summer-residences/riga-region/all/sell/page7.html\n",
      "Gathering data from https://www.ss.com/lv/real-estate/homes-summer-residences/riga-region/all/sell/page8.html\n",
      "Gathering data from https://www.ss.com/lv/real-estate/homes-summer-residences/riga-region/all/sell/page9.html\n",
      "Gathering data from https://www.ss.com/lv/real-estate/homes-summer-residences/riga-region/all/sell/page10.html\n",
      "Gathering data from https://www.ss.com/lv/real-estate/homes-summer-residences/riga-region/all/sell/page11.html\n",
      "Gathering data from https://www.ss.com/lv/real-estate/homes-summer-residences/riga-region/all/sell/page12.html\n",
      "Gathering data from https://www.ss.com/lv/real-estate/homes-summer-residences/riga-region/all/sell/page13.html\n",
      "Gathering data from https://www.ss.com/lv/real-estate/homes-summer-residences/riga-region/all/sell/page14.html\n",
      "Gathering data from https://www.ss.com/lv/real-estate/homes-summer-residences/riga-region/all/sell/page15.html\n",
      "Gathering data from https://www.ss.com/lv/real-estate/homes-summer-residences/riga-region/all/sell/page16.html\n",
      "Gathering data from https://www.ss.com/lv/real-estate/homes-summer-residences/riga-region/all/sell/page17.html\n"
     ]
    }
   ],
   "source": [
    "riga_region = get_all_ads_df(url, \"riga_region_sep28.xlsx\")"
   ]
  },
  {
   "cell_type": "code",
   "execution_count": 75,
   "metadata": {},
   "outputs": [
    {
     "data": {
      "text/plain": [
       "(506, 7)"
      ]
     },
     "execution_count": 75,
     "metadata": {},
     "output_type": "execute_result"
    }
   ],
   "source": [
    "riga_region.shape"
   ]
  },
  {
   "cell_type": "code",
   "execution_count": 76,
   "metadata": {},
   "outputs": [
    {
     "data": {
      "text/html": [
       "<div>\n",
       "<style scoped>\n",
       "    .dataframe tbody tr th:only-of-type {\n",
       "        vertical-align: middle;\n",
       "    }\n",
       "\n",
       "    .dataframe tbody tr th {\n",
       "        vertical-align: top;\n",
       "    }\n",
       "\n",
       "    .dataframe thead th {\n",
       "        text-align: right;\n",
       "    }\n",
       "</style>\n",
       "<table border=\"1\" class=\"dataframe\">\n",
       "  <thead>\n",
       "    <tr style=\"text-align: right;\">\n",
       "      <th></th>\n",
       "      <th>description</th>\n",
       "      <th>url</th>\n",
       "      <th>Pagasts</th>\n",
       "      <th>m2</th>\n",
       "      <th>Stāvi</th>\n",
       "      <th>Zem. pl.</th>\n",
       "      <th>Cena</th>\n",
       "    </tr>\n",
       "  </thead>\n",
       "  <tbody>\n",
       "    <tr>\n",
       "      <th>0</th>\n",
       "      <td>Pārdošanā plaša un mājīga divu stāvu māja ļoti...</td>\n",
       "      <td>https://ss.com/msg/lv/real-estate/homes-summer...</td>\n",
       "      <td>Sigulda</td>\n",
       "      <td>480</td>\n",
       "      <td>3</td>\n",
       "      <td>1928 m²</td>\n",
       "      <td>250,000  €</td>\n",
       "    </tr>\n",
       "    <tr>\n",
       "      <th>1</th>\n",
       "      <td>Tiek pārdota omulīga privātmāja Gaujā. Ir veik...</td>\n",
       "      <td>https://ss.com/msg/lv/real-estate/homes-summer...</td>\n",
       "      <td>Carnikavas nov.Gauja</td>\n",
       "      <td>210</td>\n",
       "      <td>2</td>\n",
       "      <td>1000 m²</td>\n",
       "      <td>160,000  €</td>\n",
       "    </tr>\n",
       "    <tr>\n",
       "      <th>2</th>\n",
       "      <td>Pārdodu zemes gabala domājamo daļu 750 kv. m. ...</td>\n",
       "      <td>https://ss.com/msg/lv/real-estate/homes-summer...</td>\n",
       "      <td>Mārupes pag.Mārupe</td>\n",
       "      <td>203</td>\n",
       "      <td>2</td>\n",
       "      <td>750 m²</td>\n",
       "      <td>135,000  €</td>\n",
       "    </tr>\n",
       "    <tr>\n",
       "      <th>3</th>\n",
       "      <td>Kārtīgi celta māja ar sakoptu dārzu un siltumn...</td>\n",
       "      <td>https://ss.com/msg/lv/real-estate/homes-summer...</td>\n",
       "      <td>Saulkrasti</td>\n",
       "      <td>85</td>\n",
       "      <td>2</td>\n",
       "      <td>580 m²</td>\n",
       "      <td>46,800  €</td>\n",
       "    </tr>\n",
       "    <tr>\n",
       "      <th>4</th>\n",
       "      <td>Pārdod māju Katlakalnā. Māja atrodas lieliskā ...</td>\n",
       "      <td>https://ss.com/msg/lv/real-estate/homes-summer...</td>\n",
       "      <td>Ķekavas pag.Katlakalns</td>\n",
       "      <td>278</td>\n",
       "      <td>2</td>\n",
       "      <td>1200 m²</td>\n",
       "      <td>265,000  €</td>\n",
       "    </tr>\n",
       "    <tr>\n",
       "      <th>5</th>\n",
       "      <td>Дом у озера в Букулты на продажу\\r\\n\\r\\nПланир...</td>\n",
       "      <td>https://ss.com/msg/lv/real-estate/homes-summer...</td>\n",
       "      <td>Garkalnes nov.Bukulti</td>\n",
       "      <td>590</td>\n",
       "      <td>3</td>\n",
       "      <td>1900 m²</td>\n",
       "      <td>349,000  €</td>\n",
       "    </tr>\n",
       "    <tr>\n",
       "      <th>6</th>\n",
       "      <td>Дом в Суниши. \\r\\nНаходится в частной, закрыто...</td>\n",
       "      <td>https://ss.com/msg/lv/real-estate/homes-summer...</td>\n",
       "      <td>Garkalnes nov.Sunīši</td>\n",
       "      <td>192</td>\n",
       "      <td>2</td>\n",
       "      <td>1346 m²</td>\n",
       "      <td>315,000  €</td>\n",
       "    </tr>\n",
       "    <tr>\n",
       "      <th>7</th>\n",
       "      <td>Brīnišķīgs īpašums, pašā Mārupes sirdī, grezna...</td>\n",
       "      <td>https://ss.com/msg/lv/real-estate/homes-summer...</td>\n",
       "      <td>Mārupes pag.Mārupe</td>\n",
       "      <td>226</td>\n",
       "      <td>2</td>\n",
       "      <td>1352 m²</td>\n",
       "      <td>490,000  €</td>\n",
       "    </tr>\n",
       "    <tr>\n",
       "      <th>8</th>\n",
       "      <td>Tiek pārdota kapitāli un rūpīgi būvēta privātm...</td>\n",
       "      <td>https://ss.com/msg/lv/real-estate/homes-summer...</td>\n",
       "      <td>Babītes pag.Spilve</td>\n",
       "      <td>199</td>\n",
       "      <td>1</td>\n",
       "      <td>1573 m²</td>\n",
       "      <td>300,000  €</td>\n",
       "    </tr>\n",
       "    <tr>\n",
       "      <th>9</th>\n",
       "      <td>Mājīgs īpašums Dreiliņos - rindu mājā, kas noz...</td>\n",
       "      <td>https://ss.com/msg/lv/real-estate/homes-summer...</td>\n",
       "      <td>Stopiņu nov.Dreiliņi</td>\n",
       "      <td>221</td>\n",
       "      <td>2</td>\n",
       "      <td>626 m²</td>\n",
       "      <td>230,000  €</td>\n",
       "    </tr>\n",
       "  </tbody>\n",
       "</table>\n",
       "</div>"
      ],
      "text/plain": [
       "                                         description  \\\n",
       "0  Pārdošanā plaša un mājīga divu stāvu māja ļoti...   \n",
       "1  Tiek pārdota omulīga privātmāja Gaujā. Ir veik...   \n",
       "2  Pārdodu zemes gabala domājamo daļu 750 kv. m. ...   \n",
       "3  Kārtīgi celta māja ar sakoptu dārzu un siltumn...   \n",
       "4  Pārdod māju Katlakalnā. Māja atrodas lieliskā ...   \n",
       "5  Дом у озера в Букулты на продажу\\r\\n\\r\\nПланир...   \n",
       "6  Дом в Суниши. \\r\\nНаходится в частной, закрыто...   \n",
       "7  Brīnišķīgs īpašums, pašā Mārupes sirdī, grezna...   \n",
       "8  Tiek pārdota kapitāli un rūpīgi būvēta privātm...   \n",
       "9  Mājīgs īpašums Dreiliņos - rindu mājā, kas noz...   \n",
       "\n",
       "                                                 url                 Pagasts  \\\n",
       "0  https://ss.com/msg/lv/real-estate/homes-summer...                 Sigulda   \n",
       "1  https://ss.com/msg/lv/real-estate/homes-summer...    Carnikavas nov.Gauja   \n",
       "2  https://ss.com/msg/lv/real-estate/homes-summer...      Mārupes pag.Mārupe   \n",
       "3  https://ss.com/msg/lv/real-estate/homes-summer...              Saulkrasti   \n",
       "4  https://ss.com/msg/lv/real-estate/homes-summer...  Ķekavas pag.Katlakalns   \n",
       "5  https://ss.com/msg/lv/real-estate/homes-summer...   Garkalnes nov.Bukulti   \n",
       "6  https://ss.com/msg/lv/real-estate/homes-summer...    Garkalnes nov.Sunīši   \n",
       "7  https://ss.com/msg/lv/real-estate/homes-summer...      Mārupes pag.Mārupe   \n",
       "8  https://ss.com/msg/lv/real-estate/homes-summer...      Babītes pag.Spilve   \n",
       "9  https://ss.com/msg/lv/real-estate/homes-summer...    Stopiņu nov.Dreiliņi   \n",
       "\n",
       "    m2 Stāvi Zem. pl.        Cena  \n",
       "0  480     3  1928 m²  250,000  €  \n",
       "1  210     2  1000 m²  160,000  €  \n",
       "2  203     2   750 m²  135,000  €  \n",
       "3   85     2   580 m²   46,800  €  \n",
       "4  278     2  1200 m²  265,000  €  \n",
       "5  590     3  1900 m²  349,000  €  \n",
       "6  192     2  1346 m²  315,000  €  \n",
       "7  226     2  1352 m²  490,000  €  \n",
       "8  199     1  1573 m²  300,000  €  \n",
       "9  221     2   626 m²  230,000  €  "
      ]
     },
     "execution_count": 76,
     "metadata": {},
     "output_type": "execute_result"
    }
   ],
   "source": [
    "riga_region.head(10)"
   ]
  },
  {
   "cell_type": "code",
   "execution_count": 77,
   "metadata": {},
   "outputs": [
    {
     "data": {
      "text/html": [
       "<div>\n",
       "<style scoped>\n",
       "    .dataframe tbody tr th:only-of-type {\n",
       "        vertical-align: middle;\n",
       "    }\n",
       "\n",
       "    .dataframe tbody tr th {\n",
       "        vertical-align: top;\n",
       "    }\n",
       "\n",
       "    .dataframe thead th {\n",
       "        text-align: right;\n",
       "    }\n",
       "</style>\n",
       "<table border=\"1\" class=\"dataframe\">\n",
       "  <thead>\n",
       "    <tr style=\"text-align: right;\">\n",
       "      <th></th>\n",
       "      <th>description</th>\n",
       "      <th>url</th>\n",
       "      <th>Pagasts</th>\n",
       "      <th>m2</th>\n",
       "      <th>Stāvi</th>\n",
       "      <th>Zem. pl.</th>\n",
       "      <th>Cena</th>\n",
       "    </tr>\n",
       "  </thead>\n",
       "  <tbody>\n",
       "    <tr>\n",
       "      <th>16</th>\n",
       "      <td>Продается двухэтажный кирпичный дом с ухоженны...</td>\n",
       "      <td>https://ss.com/msg/lv/real-estate/homes-summer...</td>\n",
       "      <td>Inčukalna nov.Egļupe</td>\n",
       "      <td>112</td>\n",
       "      <td>2</td>\n",
       "      <td>643 m²</td>\n",
       "      <td>36,000  €</td>\n",
       "    </tr>\n",
       "    <tr>\n",
       "      <th>17</th>\n",
       "      <td>Pārdodu kvalitatīvu, skaistu un ļoti siltu māj...</td>\n",
       "      <td>https://ss.com/msg/lv/real-estate/homes-summer...</td>\n",
       "      <td>Olaines pag.Jaunolaine</td>\n",
       "      <td>240</td>\n",
       "      <td>2</td>\n",
       "      <td>900 m²</td>\n",
       "      <td>239,000  €</td>\n",
       "    </tr>\n",
       "    <tr>\n",
       "      <th>18</th>\n",
       "      <td>Продается новостройка в стадии строительства -...</td>\n",
       "      <td>https://ss.com/msg/lv/real-estate/homes-summer...</td>\n",
       "      <td>Salaspils l. t.Piķurgas</td>\n",
       "      <td>78</td>\n",
       "      <td>1</td>\n",
       "      <td>1200 m²</td>\n",
       "      <td>78,000  €</td>\n",
       "    </tr>\n",
       "    <tr>\n",
       "      <th>19</th>\n",
       "      <td>Pārdošanā mājīgs īpašums privātmāju ciematā \"P...</td>\n",
       "      <td>https://ss.com/msg/lv/real-estate/homes-summer...</td>\n",
       "      <td>Garkalnes nov.Upesciems</td>\n",
       "      <td>153</td>\n",
       "      <td>1</td>\n",
       "      <td>1045 m²</td>\n",
       "      <td>261,700  €</td>\n",
       "    </tr>\n",
       "    <tr>\n",
       "      <th>20</th>\n",
       "      <td>Pārdod mūsdienīgu energoefektīvu privātmāju ar...</td>\n",
       "      <td>https://ss.com/msg/lv/real-estate/homes-summer...</td>\n",
       "      <td>Stopiņu nov.Vālodzes</td>\n",
       "      <td>235</td>\n",
       "      <td>2</td>\n",
       "      <td>1000 m²</td>\n",
       "      <td>390,000  €</td>\n",
       "    </tr>\n",
       "    <tr>\n",
       "      <th>21</th>\n",
       "      <td>Lat: Laba vasarnīca labā vietā, netālu no Rīga...</td>\n",
       "      <td>https://ss.com/msg/lv/real-estate/homes-summer...</td>\n",
       "      <td>Saulkrastu l. t.Priedes</td>\n",
       "      <td>100</td>\n",
       "      <td>2</td>\n",
       "      <td>600 m²</td>\n",
       "      <td>28,000  €</td>\n",
       "    </tr>\n",
       "    <tr>\n",
       "      <th>22</th>\n",
       "      <td>Расположен в 10 км от Юрмалы, 7 км от аэропорт...</td>\n",
       "      <td>https://ss.com/msg/lv/real-estate/homes-summer...</td>\n",
       "      <td>Babītes pag.Liberi</td>\n",
       "      <td>520</td>\n",
       "      <td>4</td>\n",
       "      <td>1861 m²</td>\n",
       "      <td>440,000  €</td>\n",
       "    </tr>\n",
       "    <tr>\n",
       "      <th>23</th>\n",
       "      <td>Īpašnieks pārdod privātmāju ar kopējo platību ...</td>\n",
       "      <td>https://ss.com/msg/lv/real-estate/homes-summer...</td>\n",
       "      <td>Salaspils l. t.Pikalne</td>\n",
       "      <td>99</td>\n",
       "      <td>1</td>\n",
       "      <td>352 m²</td>\n",
       "      <td>77,000  €</td>\n",
       "    </tr>\n",
       "    <tr>\n",
       "      <th>24</th>\n",
       "      <td>Pārdod zemi ar mājiņu, kurā ir ievikts ūdens, ...</td>\n",
       "      <td>https://ss.com/msg/lv/real-estate/homes-summer...</td>\n",
       "      <td>Inčukalna nov.Egļupe</td>\n",
       "      <td>25</td>\n",
       "      <td>1</td>\n",
       "      <td>16000 m²</td>\n",
       "      <td>35,000  €</td>\n",
       "    </tr>\n",
       "    <tr>\n",
       "      <th>25</th>\n",
       "      <td>Dzīvojamā māja ar baseinu un savu dīķi klusā v...</td>\n",
       "      <td>https://ss.com/msg/lv/real-estate/homes-summer...</td>\n",
       "      <td>Carnikavas nov.Kalngale</td>\n",
       "      <td>494</td>\n",
       "      <td>3</td>\n",
       "      <td>2400 m²</td>\n",
       "      <td>290,000  €</td>\n",
       "    </tr>\n",
       "  </tbody>\n",
       "</table>\n",
       "</div>"
      ],
      "text/plain": [
       "                                          description  \\\n",
       "16  Продается двухэтажный кирпичный дом с ухоженны...   \n",
       "17  Pārdodu kvalitatīvu, skaistu un ļoti siltu māj...   \n",
       "18  Продается новостройка в стадии строительства -...   \n",
       "19  Pārdošanā mājīgs īpašums privātmāju ciematā \"P...   \n",
       "20  Pārdod mūsdienīgu energoefektīvu privātmāju ar...   \n",
       "21  Lat: Laba vasarnīca labā vietā, netālu no Rīga...   \n",
       "22  Расположен в 10 км от Юрмалы, 7 км от аэропорт...   \n",
       "23  Īpašnieks pārdod privātmāju ar kopējo platību ...   \n",
       "24  Pārdod zemi ar mājiņu, kurā ir ievikts ūdens, ...   \n",
       "25  Dzīvojamā māja ar baseinu un savu dīķi klusā v...   \n",
       "\n",
       "                                                  url  \\\n",
       "16  https://ss.com/msg/lv/real-estate/homes-summer...   \n",
       "17  https://ss.com/msg/lv/real-estate/homes-summer...   \n",
       "18  https://ss.com/msg/lv/real-estate/homes-summer...   \n",
       "19  https://ss.com/msg/lv/real-estate/homes-summer...   \n",
       "20  https://ss.com/msg/lv/real-estate/homes-summer...   \n",
       "21  https://ss.com/msg/lv/real-estate/homes-summer...   \n",
       "22  https://ss.com/msg/lv/real-estate/homes-summer...   \n",
       "23  https://ss.com/msg/lv/real-estate/homes-summer...   \n",
       "24  https://ss.com/msg/lv/real-estate/homes-summer...   \n",
       "25  https://ss.com/msg/lv/real-estate/homes-summer...   \n",
       "\n",
       "                    Pagasts   m2 Stāvi  Zem. pl.        Cena  \n",
       "16     Inčukalna nov.Egļupe  112     2    643 m²   36,000  €  \n",
       "17   Olaines pag.Jaunolaine  240     2    900 m²  239,000  €  \n",
       "18  Salaspils l. t.Piķurgas   78     1   1200 m²   78,000  €  \n",
       "19  Garkalnes nov.Upesciems  153     1   1045 m²  261,700  €  \n",
       "20     Stopiņu nov.Vālodzes  235     2   1000 m²  390,000  €  \n",
       "21  Saulkrastu l. t.Priedes  100     2    600 m²   28,000  €  \n",
       "22       Babītes pag.Liberi  520     4   1861 m²  440,000  €  \n",
       "23   Salaspils l. t.Pikalne   99     1    352 m²   77,000  €  \n",
       "24     Inčukalna nov.Egļupe   25     1  16000 m²   35,000  €  \n",
       "25  Carnikavas nov.Kalngale  494     3   2400 m²  290,000  €  "
      ]
     },
     "execution_count": 77,
     "metadata": {},
     "output_type": "execute_result"
    }
   ],
   "source": [
    "riga_region.tail(10)"
   ]
  },
  {
   "cell_type": "code",
   "execution_count": 73,
   "metadata": {},
   "outputs": [
    {
     "name": "stdout",
     "output_type": "stream",
     "text": [
      "Last page is 3\n",
      "Gathering data from https://www.ss.com/lv/real-estate/flats/riga/agenskalns/sell/\n",
      "Gathering data from https://www.ss.com/lv/real-estate/flats/riga/agenskalns/sell/page2.html\n",
      "Gathering data from https://www.ss.com/lv/real-estate/flats/riga/agenskalns/sell/page3.html\n"
     ]
    },
    {
     "data": {
      "text/html": [
       "<div>\n",
       "<style scoped>\n",
       "    .dataframe tbody tr th:only-of-type {\n",
       "        vertical-align: middle;\n",
       "    }\n",
       "\n",
       "    .dataframe tbody tr th {\n",
       "        vertical-align: top;\n",
       "    }\n",
       "\n",
       "    .dataframe thead th {\n",
       "        text-align: right;\n",
       "    }\n",
       "</style>\n",
       "<table border=\"1\" class=\"dataframe\">\n",
       "  <thead>\n",
       "    <tr style=\"text-align: right;\">\n",
       "      <th></th>\n",
       "      <th>description</th>\n",
       "      <th>url</th>\n",
       "      <th>Iela</th>\n",
       "      <th>Ist.</th>\n",
       "      <th>m2</th>\n",
       "      <th>Stāvs</th>\n",
       "      <th>Sērija</th>\n",
       "      <th>Cena, m2</th>\n",
       "      <th>Cena</th>\n",
       "    </tr>\n",
       "  </thead>\n",
       "  <tbody>\n",
       "    <tr>\n",
       "      <th>0</th>\n",
       "      <td>In a prestigious new building, with an excelle...</td>\n",
       "      <td>https://ss.com/msg/lv/real-estate/flats/riga/a...</td>\n",
       "      <td>Kalnciema 9a</td>\n",
       "      <td>3</td>\n",
       "      <td>84</td>\n",
       "      <td>4/10</td>\n",
       "      <td>Jaun.</td>\n",
       "      <td>2,101 €</td>\n",
       "      <td>176,500  €</td>\n",
       "    </tr>\n",
       "    <tr>\n",
       "      <th>1</th>\n",
       "      <td>Pārdod divistabu dzīvokli Āgenskalnā. Pie māja...</td>\n",
       "      <td>https://ss.com/msg/lv/real-estate/flats/riga/a...</td>\n",
       "      <td>Raņķa d. 7/3</td>\n",
       "      <td>2</td>\n",
       "      <td>42</td>\n",
       "      <td>1/5</td>\n",
       "      <td>Hrušč.</td>\n",
       "      <td>1,512 €</td>\n",
       "      <td>63,500  €</td>\n",
       "    </tr>\n",
       "    <tr>\n",
       "      <th>2</th>\n",
       "      <td>Pārdod vienistabas dzīvokli Āgenskalnā, pretīm...</td>\n",
       "      <td>https://ss.com/msg/lv/real-estate/flats/riga/a...</td>\n",
       "      <td>Ventspils 25</td>\n",
       "      <td>1</td>\n",
       "      <td>24</td>\n",
       "      <td>2/2</td>\n",
       "      <td>P. kara</td>\n",
       "      <td>496 €</td>\n",
       "      <td>11,900  €</td>\n",
       "    </tr>\n",
       "    <tr>\n",
       "      <th>3</th>\n",
       "      <td>Steidzami tiek pārdots 2-istabas dzīvoklis. \\r...</td>\n",
       "      <td>https://ss.com/msg/lv/real-estate/flats/riga/a...</td>\n",
       "      <td>Auces 3</td>\n",
       "      <td>2</td>\n",
       "      <td>47</td>\n",
       "      <td>3/3</td>\n",
       "      <td>P. kara</td>\n",
       "      <td>2,085 €</td>\n",
       "      <td>98,000  €</td>\n",
       "    </tr>\n",
       "    <tr>\n",
       "      <th>4</th>\n",
       "      <td>Pārdod jauku un mājīgu 2 istabu dzīvokli Āgens...</td>\n",
       "      <td>https://ss.com/msg/lv/real-estate/flats/riga/a...</td>\n",
       "      <td>Ventspils 13</td>\n",
       "      <td>2</td>\n",
       "      <td>50</td>\n",
       "      <td>1/5</td>\n",
       "      <td>P. kara</td>\n",
       "      <td>800 €</td>\n",
       "      <td>40,000  €</td>\n",
       "    </tr>\n",
       "  </tbody>\n",
       "</table>\n",
       "</div>"
      ],
      "text/plain": [
       "                                         description  \\\n",
       "0  In a prestigious new building, with an excelle...   \n",
       "1  Pārdod divistabu dzīvokli Āgenskalnā. Pie māja...   \n",
       "2  Pārdod vienistabas dzīvokli Āgenskalnā, pretīm...   \n",
       "3  Steidzami tiek pārdots 2-istabas dzīvoklis. \\r...   \n",
       "4  Pārdod jauku un mājīgu 2 istabu dzīvokli Āgens...   \n",
       "\n",
       "                                                 url          Iela Ist.  m2  \\\n",
       "0  https://ss.com/msg/lv/real-estate/flats/riga/a...  Kalnciema 9a    3  84   \n",
       "1  https://ss.com/msg/lv/real-estate/flats/riga/a...  Raņķa d. 7/3    2  42   \n",
       "2  https://ss.com/msg/lv/real-estate/flats/riga/a...  Ventspils 25    1  24   \n",
       "3  https://ss.com/msg/lv/real-estate/flats/riga/a...       Auces 3    2  47   \n",
       "4  https://ss.com/msg/lv/real-estate/flats/riga/a...  Ventspils 13    2  50   \n",
       "\n",
       "  Stāvs   Sērija Cena, m2        Cena  \n",
       "0  4/10    Jaun.  2,101 €  176,500  €  \n",
       "1   1/5   Hrušč.  1,512 €   63,500  €  \n",
       "2   2/2  P. kara    496 €   11,900  €  \n",
       "3   3/3  P. kara  2,085 €   98,000  €  \n",
       "4   1/5  P. kara    800 €   40,000  €  "
      ]
     },
     "execution_count": 73,
     "metadata": {},
     "output_type": "execute_result"
    }
   ],
   "source": [
    "agens = \"https://www.ss.com/lv/real-estate/flats/riga/agenskalns/sell/\"\n",
    "df = get_all_ads_df(agens, \"agens_27_09.xlsx\")\n",
    "df.head()"
   ]
  },
  {
   "cell_type": "code",
   "execution_count": 80,
   "metadata": {},
   "outputs": [
    {
     "data": {
      "text/plain": [
       "(715, 9)"
      ]
     },
     "execution_count": 80,
     "metadata": {},
     "output_type": "execute_result"
    }
   ],
   "source": [
    "centra_df.shape"
   ]
  },
  {
   "cell_type": "code",
   "execution_count": 78,
   "metadata": {},
   "outputs": [
    {
     "data": {
      "text/plain": [
       "(660, 9)"
      ]
     },
     "execution_count": 78,
     "metadata": {},
     "output_type": "execute_result"
    }
   ],
   "source": [
    "df = centra_df  # alias\n",
    "df.shape"
   ]
  },
  {
   "cell_type": "code",
   "execution_count": 79,
   "metadata": {},
   "outputs": [
    {
     "data": {
      "text/plain": [
       "(660, 9)"
      ]
     },
     "execution_count": 79,
     "metadata": {},
     "output_type": "execute_result"
    }
   ],
   "source": [
    "df.shape"
   ]
  },
  {
   "cell_type": "code",
   "execution_count": 80,
   "metadata": {},
   "outputs": [
    {
     "data": {
      "text/plain": [
       "Index(['description', 'url', 'Iela', 'Ist.', 'm2', 'Stāvs', 'Sērija',\n",
       "       'Cena, m2', 'Cena'],\n",
       "      dtype='object')"
      ]
     },
     "execution_count": 80,
     "metadata": {},
     "output_type": "execute_result"
    }
   ],
   "source": [
    "df.columns"
   ]
  },
  {
   "cell_type": "code",
   "execution_count": 81,
   "metadata": {},
   "outputs": [
    {
     "name": "stdout",
     "output_type": "stream",
     "text": [
      "<class 'pandas.core.frame.DataFrame'>\n",
      "RangeIndex: 660 entries, 0 to 659\n",
      "Data columns (total 9 columns):\n",
      " #   Column       Non-Null Count  Dtype \n",
      "---  ------       --------------  ----- \n",
      " 0   description  660 non-null    object\n",
      " 1   url          660 non-null    object\n",
      " 2   Iela         660 non-null    object\n",
      " 3   Ist.         660 non-null    object\n",
      " 4   m2           660 non-null    object\n",
      " 5   Stāvs        660 non-null    object\n",
      " 6   Sērija       660 non-null    object\n",
      " 7   Cena, m2     660 non-null    object\n",
      " 8   Cena         660 non-null    object\n",
      "dtypes: object(9)\n",
      "memory usage: 46.5+ KB\n"
     ]
    }
   ],
   "source": [
    "df.info()"
   ]
  },
  {
   "cell_type": "code",
   "execution_count": 75,
   "metadata": {},
   "outputs": [
    {
     "name": "stdout",
     "output_type": "stream",
     "text": [
      "Last page is 21\n",
      "Gathering data from https://www.ss.com/lv/real-estate/flats/riga/centre/sell/\n",
      "Gathering data from https://www.ss.com/lv/real-estate/flats/riga/centre/sell/page2.html\n",
      "Gathering data from https://www.ss.com/lv/real-estate/flats/riga/centre/sell/page3.html\n",
      "Gathering data from https://www.ss.com/lv/real-estate/flats/riga/centre/sell/page4.html\n",
      "Gathering data from https://www.ss.com/lv/real-estate/flats/riga/centre/sell/page5.html\n",
      "Gathering data from https://www.ss.com/lv/real-estate/flats/riga/centre/sell/page6.html\n",
      "Gathering data from https://www.ss.com/lv/real-estate/flats/riga/centre/sell/page7.html\n",
      "Gathering data from https://www.ss.com/lv/real-estate/flats/riga/centre/sell/page8.html\n",
      "Gathering data from https://www.ss.com/lv/real-estate/flats/riga/centre/sell/page9.html\n",
      "Gathering data from https://www.ss.com/lv/real-estate/flats/riga/centre/sell/page10.html\n",
      "Gathering data from https://www.ss.com/lv/real-estate/flats/riga/centre/sell/page11.html\n",
      "Gathering data from https://www.ss.com/lv/real-estate/flats/riga/centre/sell/page12.html\n",
      "Gathering data from https://www.ss.com/lv/real-estate/flats/riga/centre/sell/page13.html\n",
      "Gathering data from https://www.ss.com/lv/real-estate/flats/riga/centre/sell/page14.html\n",
      "Gathering data from https://www.ss.com/lv/real-estate/flats/riga/centre/sell/page15.html\n",
      "Gathering data from https://www.ss.com/lv/real-estate/flats/riga/centre/sell/page16.html\n",
      "Gathering data from https://www.ss.com/lv/real-estate/flats/riga/centre/sell/page17.html\n",
      "Gathering data from https://www.ss.com/lv/real-estate/flats/riga/centre/sell/page18.html\n",
      "Gathering data from https://www.ss.com/lv/real-estate/flats/riga/centre/sell/page19.html\n",
      "Gathering data from https://www.ss.com/lv/real-estate/flats/riga/centre/sell/page20.html\n",
      "Gathering data from https://www.ss.com/lv/real-estate/flats/riga/centre/sell/page21.html\n"
     ]
    }
   ],
   "source": [
    "df = get_all_ads_df(centrs, \"centrs_27_09.xlsx\")"
   ]
  },
  {
   "cell_type": "code",
   "execution_count": 67,
   "metadata": {},
   "outputs": [],
   "source": [
    "df = centra_df"
   ]
  },
  {
   "cell_type": "code",
   "execution_count": 68,
   "metadata": {},
   "outputs": [
    {
     "data": {
      "text/plain": [
       "(596, 9)"
      ]
     },
     "execution_count": 68,
     "metadata": {},
     "output_type": "execute_result"
    }
   ],
   "source": [
    "df.shape"
   ]
  },
  {
   "cell_type": "code",
   "execution_count": 85,
   "metadata": {},
   "outputs": [
    {
     "data": {
      "text/html": [
       "<div>\n",
       "<style scoped>\n",
       "    .dataframe tbody tr th:only-of-type {\n",
       "        vertical-align: middle;\n",
       "    }\n",
       "\n",
       "    .dataframe tbody tr th {\n",
       "        vertical-align: top;\n",
       "    }\n",
       "\n",
       "    .dataframe thead th {\n",
       "        text-align: right;\n",
       "    }\n",
       "</style>\n",
       "<table border=\"1\" class=\"dataframe\">\n",
       "  <thead>\n",
       "    <tr style=\"text-align: right;\">\n",
       "      <th></th>\n",
       "      <th>description</th>\n",
       "      <th>url</th>\n",
       "      <th>Iela</th>\n",
       "      <th>Ist.</th>\n",
       "      <th>m2</th>\n",
       "      <th>Stāvs</th>\n",
       "      <th>Sērija</th>\n",
       "      <th>Cena, m2</th>\n",
       "      <th>Cena</th>\n",
       "    </tr>\n",
       "  </thead>\n",
       "  <tbody>\n",
       "    <tr>\n",
       "      <th>0</th>\n",
       "      <td>Tiek pārdots gaumīgs dzīvoklis centrā ar savu ...</td>\n",
       "      <td>https://ss.com/msg/lv/real-estate/flats/riga/c...</td>\n",
       "      <td>Bruņinieku 28</td>\n",
       "      <td>4</td>\n",
       "      <td>120</td>\n",
       "      <td>3/5</td>\n",
       "      <td>P. kara</td>\n",
       "      <td>2,417 €</td>\n",
       "      <td>290,000  €</td>\n",
       "    </tr>\n",
       "    <tr>\n",
       "      <th>1</th>\n",
       "      <td>Unikāls, pilnībā aprīkots 4-istabu dzīvoklis f...</td>\n",
       "      <td>https://ss.com/msg/lv/real-estate/flats/riga/c...</td>\n",
       "      <td>Skolas 14</td>\n",
       "      <td>4</td>\n",
       "      <td>169</td>\n",
       "      <td>6/6</td>\n",
       "      <td>Renov.</td>\n",
       "      <td>1,953 €</td>\n",
       "      <td>330,000  €</td>\n",
       "    </tr>\n",
       "    <tr>\n",
       "      <th>2</th>\n",
       "      <td>Pārdod 4-istabu dzīvokli Klusajā centrā ar aut...</td>\n",
       "      <td>https://ss.com/msg/lv/real-estate/flats/riga/c...</td>\n",
       "      <td>Rūpniecības 34A</td>\n",
       "      <td>4</td>\n",
       "      <td>141</td>\n",
       "      <td>6/6</td>\n",
       "      <td>Jaun.</td>\n",
       "      <td>2,376 €</td>\n",
       "      <td>335,000  €</td>\n",
       "    </tr>\n",
       "    <tr>\n",
       "      <th>3</th>\n",
       "      <td>Komfortabls dzīvoklis . Atjaunota renovēta māj...</td>\n",
       "      <td>https://ss.com/msg/lv/real-estate/flats/riga/c...</td>\n",
       "      <td>Miera 105</td>\n",
       "      <td>2</td>\n",
       "      <td>42</td>\n",
       "      <td>1/6</td>\n",
       "      <td>Renov.</td>\n",
       "      <td>1,857 €</td>\n",
       "      <td>78,000  €</td>\n",
       "    </tr>\n",
       "    <tr>\n",
       "      <th>4</th>\n",
       "      <td>Plašs, renovējams 6 istabu dzīvoklis iekšpagal...</td>\n",
       "      <td>https://ss.com/msg/lv/real-estate/flats/riga/c...</td>\n",
       "      <td>Brīvības 72</td>\n",
       "      <td>6</td>\n",
       "      <td>173</td>\n",
       "      <td>3/6</td>\n",
       "      <td>P. kara</td>\n",
       "      <td>1,179 €</td>\n",
       "      <td>204,000  €</td>\n",
       "    </tr>\n",
       "  </tbody>\n",
       "</table>\n",
       "</div>"
      ],
      "text/plain": [
       "                                         description  \\\n",
       "0  Tiek pārdots gaumīgs dzīvoklis centrā ar savu ...   \n",
       "1  Unikāls, pilnībā aprīkots 4-istabu dzīvoklis f...   \n",
       "2  Pārdod 4-istabu dzīvokli Klusajā centrā ar aut...   \n",
       "3  Komfortabls dzīvoklis . Atjaunota renovēta māj...   \n",
       "4  Plašs, renovējams 6 istabu dzīvoklis iekšpagal...   \n",
       "\n",
       "                                                 url             Iela Ist.  \\\n",
       "0  https://ss.com/msg/lv/real-estate/flats/riga/c...    Bruņinieku 28    4   \n",
       "1  https://ss.com/msg/lv/real-estate/flats/riga/c...        Skolas 14    4   \n",
       "2  https://ss.com/msg/lv/real-estate/flats/riga/c...  Rūpniecības 34A    4   \n",
       "3  https://ss.com/msg/lv/real-estate/flats/riga/c...        Miera 105    2   \n",
       "4  https://ss.com/msg/lv/real-estate/flats/riga/c...      Brīvības 72    6   \n",
       "\n",
       "    m2 Stāvs   Sērija Cena, m2        Cena  \n",
       "0  120   3/5  P. kara  2,417 €  290,000  €  \n",
       "1  169   6/6   Renov.  1,953 €  330,000  €  \n",
       "2  141   6/6    Jaun.  2,376 €  335,000  €  \n",
       "3   42   1/6   Renov.  1,857 €   78,000  €  \n",
       "4  173   3/6  P. kara  1,179 €  204,000  €  "
      ]
     },
     "execution_count": 85,
     "metadata": {},
     "output_type": "execute_result"
    }
   ],
   "source": [
    "df.head()"
   ]
  },
  {
   "cell_type": "code",
   "execution_count": 78,
   "metadata": {},
   "outputs": [
    {
     "data": {
      "text/html": [
       "<div>\n",
       "<style scoped>\n",
       "    .dataframe tbody tr th:only-of-type {\n",
       "        vertical-align: middle;\n",
       "    }\n",
       "\n",
       "    .dataframe tbody tr th {\n",
       "        vertical-align: top;\n",
       "    }\n",
       "\n",
       "    .dataframe thead th {\n",
       "        text-align: right;\n",
       "    }\n",
       "</style>\n",
       "<table border=\"1\" class=\"dataframe\">\n",
       "  <thead>\n",
       "    <tr style=\"text-align: right;\">\n",
       "      <th></th>\n",
       "      <th>description</th>\n",
       "      <th>url</th>\n",
       "      <th>Iela</th>\n",
       "      <th>Ist.</th>\n",
       "      <th>m2</th>\n",
       "      <th>Stāvs</th>\n",
       "      <th>Sērija</th>\n",
       "      <th>Cena, m2</th>\n",
       "      <th>Cena</th>\n",
       "    </tr>\n",
       "  </thead>\n",
       "  <tbody>\n",
       "    <tr>\n",
       "      <th>25</th>\n",
       "      <td>Супер предложение Продает хозяин самая дешёвая...</td>\n",
       "      <td>https://ss.com/msg/lv/real-estate/flats/riga/c...</td>\n",
       "      <td>Ausekļa 5</td>\n",
       "      <td>5</td>\n",
       "      <td>162</td>\n",
       "      <td>2/6</td>\n",
       "      <td>Renov.</td>\n",
       "      <td>2,222 €</td>\n",
       "      <td>360,000  €</td>\n",
       "    </tr>\n",
       "    <tr>\n",
       "      <th>26</th>\n",
       "      <td>Tiek pārdots 3 - istabu dzīvoklis renovētā māj...</td>\n",
       "      <td>https://ss.com/msg/lv/real-estate/flats/riga/c...</td>\n",
       "      <td>Elizabetes 22</td>\n",
       "      <td>3</td>\n",
       "      <td>72</td>\n",
       "      <td>4/6</td>\n",
       "      <td>Renov.</td>\n",
       "      <td>2,486 €</td>\n",
       "      <td>179,000  €</td>\n",
       "    </tr>\n",
       "    <tr>\n",
       "      <th>27</th>\n",
       "      <td>Pārdod gaišu studijas tipa vienistabas dzīvokl...</td>\n",
       "      <td>https://ss.com/msg/lv/real-estate/flats/riga/c...</td>\n",
       "      <td>Vagonu 24</td>\n",
       "      <td>1</td>\n",
       "      <td>29</td>\n",
       "      <td>2/2</td>\n",
       "      <td>P. kara</td>\n",
       "      <td>931 €</td>\n",
       "      <td>27,000  €</td>\n",
       "    </tr>\n",
       "    <tr>\n",
       "      <th>28</th>\n",
       "      <td>Продается светлая, солнечная 3 комнатная кварт...</td>\n",
       "      <td>https://ss.com/msg/lv/real-estate/flats/riga/c...</td>\n",
       "      <td>Miera 93</td>\n",
       "      <td>3</td>\n",
       "      <td>65</td>\n",
       "      <td>5/7</td>\n",
       "      <td>Jaun.</td>\n",
       "      <td>2,262 €</td>\n",
       "      <td>147,000  €</td>\n",
       "    </tr>\n",
       "    <tr>\n",
       "      <th>29</th>\n",
       "      <td>Pārdodu nevis stūra, sausu un siltu 2 istabu d...</td>\n",
       "      <td>https://ss.com/msg/lv/real-estate/flats/riga/c...</td>\n",
       "      <td>Lāčplēša 62/66</td>\n",
       "      <td>2</td>\n",
       "      <td>50</td>\n",
       "      <td>3/5</td>\n",
       "      <td>P. kara</td>\n",
       "      <td>1,220 €</td>\n",
       "      <td>60,980  €</td>\n",
       "    </tr>\n",
       "  </tbody>\n",
       "</table>\n",
       "</div>"
      ],
      "text/plain": [
       "                                          description  \\\n",
       "25  Супер предложение Продает хозяин самая дешёвая...   \n",
       "26  Tiek pārdots 3 - istabu dzīvoklis renovētā māj...   \n",
       "27  Pārdod gaišu studijas tipa vienistabas dzīvokl...   \n",
       "28  Продается светлая, солнечная 3 комнатная кварт...   \n",
       "29  Pārdodu nevis stūra, sausu un siltu 2 istabu d...   \n",
       "\n",
       "                                                  url            Iela Ist.  \\\n",
       "25  https://ss.com/msg/lv/real-estate/flats/riga/c...       Ausekļa 5    5   \n",
       "26  https://ss.com/msg/lv/real-estate/flats/riga/c...   Elizabetes 22    3   \n",
       "27  https://ss.com/msg/lv/real-estate/flats/riga/c...       Vagonu 24    1   \n",
       "28  https://ss.com/msg/lv/real-estate/flats/riga/c...        Miera 93    3   \n",
       "29  https://ss.com/msg/lv/real-estate/flats/riga/c...  Lāčplēša 62/66    2   \n",
       "\n",
       "     m2 Stāvs   Sērija Cena, m2        Cena  \n",
       "25  162   2/6   Renov.  2,222 €  360,000  €  \n",
       "26   72   4/6   Renov.  2,486 €  179,000  €  \n",
       "27   29   2/2  P. kara    931 €   27,000  €  \n",
       "28   65   5/7    Jaun.  2,262 €  147,000  €  \n",
       "29   50   3/5  P. kara  1,220 €   60,980  €  "
      ]
     },
     "execution_count": 78,
     "metadata": {},
     "output_type": "execute_result"
    }
   ],
   "source": [
    "df.tail()"
   ]
  },
  {
   "cell_type": "code",
   "execution_count": null,
   "metadata": {},
   "outputs": [],
   "source": [
    "df.shape"
   ]
  },
  {
   "cell_type": "code",
   "execution_count": 82,
   "metadata": {},
   "outputs": [
    {
     "data": {
      "text/html": [
       "<div>\n",
       "<style scoped>\n",
       "    .dataframe tbody tr th:only-of-type {\n",
       "        vertical-align: middle;\n",
       "    }\n",
       "\n",
       "    .dataframe tbody tr th {\n",
       "        vertical-align: top;\n",
       "    }\n",
       "\n",
       "    .dataframe thead th {\n",
       "        text-align: right;\n",
       "    }\n",
       "</style>\n",
       "<table border=\"1\" class=\"dataframe\">\n",
       "  <thead>\n",
       "    <tr style=\"text-align: right;\">\n",
       "      <th></th>\n",
       "      <th>description</th>\n",
       "      <th>url</th>\n",
       "      <th>Iela</th>\n",
       "      <th>Ist.</th>\n",
       "      <th>m2</th>\n",
       "      <th>Stāvs</th>\n",
       "      <th>Sērija</th>\n",
       "      <th>Cena, m2</th>\n",
       "      <th>Cena</th>\n",
       "      <th>Floor</th>\n",
       "      <th>MaxFloor</th>\n",
       "    </tr>\n",
       "  </thead>\n",
       "  <tbody>\n",
       "    <tr>\n",
       "      <th>0</th>\n",
       "      <td>Pārdodu skaistu un mājīgu 2 istabu dzīvokli Ce...</td>\n",
       "      <td>https://ss.com/msg/lv/real-estate/flats/riga/c...</td>\n",
       "      <td>Tallinas 52</td>\n",
       "      <td>2</td>\n",
       "      <td>59</td>\n",
       "      <td>4/5</td>\n",
       "      <td>P. kara</td>\n",
       "      <td>2,364 €</td>\n",
       "      <td>139,500  €</td>\n",
       "      <td>4</td>\n",
       "      <td>5</td>\n",
       "    </tr>\n",
       "    <tr>\n",
       "      <th>1</th>\n",
       "      <td>Pārdošanā tikko izremontēts lielisks, gaišs 2i...</td>\n",
       "      <td>https://ss.com/msg/lv/real-estate/flats/riga/c...</td>\n",
       "      <td>Matīsa 89a</td>\n",
       "      <td>2</td>\n",
       "      <td>41</td>\n",
       "      <td>3/5</td>\n",
       "      <td>P. kara</td>\n",
       "      <td>1,902 €</td>\n",
       "      <td>78,000  €</td>\n",
       "      <td>3</td>\n",
       "      <td>5</td>\n",
       "    </tr>\n",
       "    <tr>\n",
       "      <th>2</th>\n",
       "      <td>Pārdodas plašs dzīvoklis Rīgā. \\r\\n\\r\\nDzīvokl...</td>\n",
       "      <td>https://ss.com/msg/lv/real-estate/flats/riga/c...</td>\n",
       "      <td>Čaka 70</td>\n",
       "      <td>6</td>\n",
       "      <td>180</td>\n",
       "      <td>3/6</td>\n",
       "      <td>P. kara</td>\n",
       "      <td>1,389 €</td>\n",
       "      <td>250,000  €</td>\n",
       "      <td>3</td>\n",
       "      <td>6</td>\n",
       "    </tr>\n",
       "    <tr>\n",
       "      <th>3</th>\n",
       "      <td>Pārdodu divistabu dzīvokli Maskavas ielā 108\\r...</td>\n",
       "      <td>https://ss.com/msg/lv/real-estate/flats/riga/c...</td>\n",
       "      <td>Maskavas 108</td>\n",
       "      <td>2</td>\n",
       "      <td>50</td>\n",
       "      <td>6/6</td>\n",
       "      <td>P. kara</td>\n",
       "      <td>1,700 €</td>\n",
       "      <td>85,000  €</td>\n",
       "      <td>6</td>\n",
       "      <td>6</td>\n",
       "    </tr>\n",
       "    <tr>\n",
       "      <th>4</th>\n",
       "      <td>Pārdodas 4 istabu dzīvoklis klusajā centrā. \\r...</td>\n",
       "      <td>https://ss.com/msg/lv/real-estate/flats/riga/c...</td>\n",
       "      <td>Vidus 11</td>\n",
       "      <td>4</td>\n",
       "      <td>134</td>\n",
       "      <td>1/5</td>\n",
       "      <td>Renov.</td>\n",
       "      <td>2,537 €</td>\n",
       "      <td>340,000  €</td>\n",
       "      <td>1</td>\n",
       "      <td>5</td>\n",
       "    </tr>\n",
       "  </tbody>\n",
       "</table>\n",
       "</div>"
      ],
      "text/plain": [
       "                                         description  \\\n",
       "0  Pārdodu skaistu un mājīgu 2 istabu dzīvokli Ce...   \n",
       "1  Pārdošanā tikko izremontēts lielisks, gaišs 2i...   \n",
       "2  Pārdodas plašs dzīvoklis Rīgā. \\r\\n\\r\\nDzīvokl...   \n",
       "3  Pārdodu divistabu dzīvokli Maskavas ielā 108\\r...   \n",
       "4  Pārdodas 4 istabu dzīvoklis klusajā centrā. \\r...   \n",
       "\n",
       "                                                 url          Iela Ist.   m2  \\\n",
       "0  https://ss.com/msg/lv/real-estate/flats/riga/c...   Tallinas 52    2   59   \n",
       "1  https://ss.com/msg/lv/real-estate/flats/riga/c...    Matīsa 89a    2   41   \n",
       "2  https://ss.com/msg/lv/real-estate/flats/riga/c...       Čaka 70    6  180   \n",
       "3  https://ss.com/msg/lv/real-estate/flats/riga/c...  Maskavas 108    2   50   \n",
       "4  https://ss.com/msg/lv/real-estate/flats/riga/c...      Vidus 11    4  134   \n",
       "\n",
       "  Stāvs   Sērija Cena, m2        Cena Floor MaxFloor  \n",
       "0   4/5  P. kara  2,364 €  139,500  €     4        5  \n",
       "1   3/5  P. kara  1,902 €   78,000  €     3        5  \n",
       "2   3/6  P. kara  1,389 €  250,000  €     3        6  \n",
       "3   6/6  P. kara  1,700 €   85,000  €     6        6  \n",
       "4   1/5   Renov.  2,537 €  340,000  €     1        5  "
      ]
     },
     "execution_count": 82,
     "metadata": {},
     "output_type": "execute_result"
    }
   ],
   "source": [
    "#we can do more post processing - feature engineering using existing columns\n",
    "df[['Floor','MaxFloor']] = df.Stāvs.str.split(\"/\",expand=True) \n",
    "df.head()"
   ]
  },
  {
   "cell_type": "code",
   "execution_count": 78,
   "metadata": {},
   "outputs": [],
   "source": [
    "df = riga_region # just a shortcut"
   ]
  },
  {
   "cell_type": "code",
   "execution_count": 82,
   "metadata": {},
   "outputs": [
    {
     "name": "stdout",
     "output_type": "stream",
     "text": [
      "<class 'pandas.core.frame.DataFrame'>\n",
      "Int64Index: 693 entries, 0 to 2\n",
      "Data columns (total 11 columns):\n",
      " #   Column       Non-Null Count  Dtype \n",
      "---  ------       --------------  ----- \n",
      " 0   description  693 non-null    object\n",
      " 1   url          693 non-null    object\n",
      " 2   Iela         693 non-null    object\n",
      " 3   Ist.         693 non-null    object\n",
      " 4   m2           693 non-null    object\n",
      " 5   Stāvs        693 non-null    object\n",
      " 6   Sērija       693 non-null    object\n",
      " 7   Cena, m2     693 non-null    object\n",
      " 8   Cena         693 non-null    object\n",
      " 9   Floor        693 non-null    object\n",
      " 10  MaxFloor     693 non-null    object\n",
      "dtypes: object(11)\n",
      "memory usage: 65.0+ KB\n"
     ]
    }
   ],
   "source": [
    "df.info()"
   ]
  },
  {
   "cell_type": "code",
   "execution_count": 87,
   "metadata": {},
   "outputs": [
    {
     "data": {
      "text/html": [
       "<div>\n",
       "<style scoped>\n",
       "    .dataframe tbody tr th:only-of-type {\n",
       "        vertical-align: middle;\n",
       "    }\n",
       "\n",
       "    .dataframe tbody tr th {\n",
       "        vertical-align: top;\n",
       "    }\n",
       "\n",
       "    .dataframe thead th {\n",
       "        text-align: right;\n",
       "    }\n",
       "</style>\n",
       "<table border=\"1\" class=\"dataframe\">\n",
       "  <thead>\n",
       "    <tr style=\"text-align: right;\">\n",
       "      <th></th>\n",
       "      <th>description</th>\n",
       "      <th>url</th>\n",
       "      <th>Iela</th>\n",
       "      <th>Ist.</th>\n",
       "      <th>m2</th>\n",
       "      <th>Stāvs</th>\n",
       "      <th>Sērija</th>\n",
       "      <th>Cena, m2</th>\n",
       "      <th>Cena</th>\n",
       "      <th>Floor</th>\n",
       "      <th>MaxFloor</th>\n",
       "    </tr>\n",
       "  </thead>\n",
       "  <tbody>\n",
       "    <tr>\n",
       "      <th>0</th>\n",
       "      <td>Tiek pārdots gaumīgs dzīvoklis centrā ar savu ...</td>\n",
       "      <td>https://ss.com/msg/lv/real-estate/flats/riga/c...</td>\n",
       "      <td>Bruņinieku 28</td>\n",
       "      <td>4</td>\n",
       "      <td>120</td>\n",
       "      <td>3/5</td>\n",
       "      <td>P. kara</td>\n",
       "      <td>2,417 €</td>\n",
       "      <td>290,000  €</td>\n",
       "      <td>3</td>\n",
       "      <td>5</td>\n",
       "    </tr>\n",
       "    <tr>\n",
       "      <th>1</th>\n",
       "      <td>Unikāls, pilnībā aprīkots 4-istabu dzīvoklis f...</td>\n",
       "      <td>https://ss.com/msg/lv/real-estate/flats/riga/c...</td>\n",
       "      <td>Skolas 14</td>\n",
       "      <td>4</td>\n",
       "      <td>169</td>\n",
       "      <td>6/6</td>\n",
       "      <td>Renov.</td>\n",
       "      <td>1,953 €</td>\n",
       "      <td>330,000  €</td>\n",
       "      <td>6</td>\n",
       "      <td>6</td>\n",
       "    </tr>\n",
       "    <tr>\n",
       "      <th>2</th>\n",
       "      <td>Pārdod 4-istabu dzīvokli Klusajā centrā ar aut...</td>\n",
       "      <td>https://ss.com/msg/lv/real-estate/flats/riga/c...</td>\n",
       "      <td>Rūpniecības 34A</td>\n",
       "      <td>4</td>\n",
       "      <td>141</td>\n",
       "      <td>6/6</td>\n",
       "      <td>Jaun.</td>\n",
       "      <td>2,376 €</td>\n",
       "      <td>335,000  €</td>\n",
       "      <td>6</td>\n",
       "      <td>6</td>\n",
       "    </tr>\n",
       "    <tr>\n",
       "      <th>3</th>\n",
       "      <td>Komfortabls dzīvoklis . Atjaunota renovēta māj...</td>\n",
       "      <td>https://ss.com/msg/lv/real-estate/flats/riga/c...</td>\n",
       "      <td>Miera 105</td>\n",
       "      <td>2</td>\n",
       "      <td>42</td>\n",
       "      <td>1/6</td>\n",
       "      <td>Renov.</td>\n",
       "      <td>1,857 €</td>\n",
       "      <td>78,000  €</td>\n",
       "      <td>1</td>\n",
       "      <td>6</td>\n",
       "    </tr>\n",
       "    <tr>\n",
       "      <th>4</th>\n",
       "      <td>Plašs, renovējams 6 istabu dzīvoklis iekšpagal...</td>\n",
       "      <td>https://ss.com/msg/lv/real-estate/flats/riga/c...</td>\n",
       "      <td>Brīvības 72</td>\n",
       "      <td>6</td>\n",
       "      <td>173</td>\n",
       "      <td>3/6</td>\n",
       "      <td>P. kara</td>\n",
       "      <td>1,179 €</td>\n",
       "      <td>204,000  €</td>\n",
       "      <td>3</td>\n",
       "      <td>6</td>\n",
       "    </tr>\n",
       "  </tbody>\n",
       "</table>\n",
       "</div>"
      ],
      "text/plain": [
       "                                         description  \\\n",
       "0  Tiek pārdots gaumīgs dzīvoklis centrā ar savu ...   \n",
       "1  Unikāls, pilnībā aprīkots 4-istabu dzīvoklis f...   \n",
       "2  Pārdod 4-istabu dzīvokli Klusajā centrā ar aut...   \n",
       "3  Komfortabls dzīvoklis . Atjaunota renovēta māj...   \n",
       "4  Plašs, renovējams 6 istabu dzīvoklis iekšpagal...   \n",
       "\n",
       "                                                 url             Iela Ist.  \\\n",
       "0  https://ss.com/msg/lv/real-estate/flats/riga/c...    Bruņinieku 28    4   \n",
       "1  https://ss.com/msg/lv/real-estate/flats/riga/c...        Skolas 14    4   \n",
       "2  https://ss.com/msg/lv/real-estate/flats/riga/c...  Rūpniecības 34A    4   \n",
       "3  https://ss.com/msg/lv/real-estate/flats/riga/c...        Miera 105    2   \n",
       "4  https://ss.com/msg/lv/real-estate/flats/riga/c...      Brīvības 72    6   \n",
       "\n",
       "    m2 Stāvs   Sērija Cena, m2        Cena Floor MaxFloor  \n",
       "0  120   3/5  P. kara  2,417 €  290,000  €     3        5  \n",
       "1  169   6/6   Renov.  1,953 €  330,000  €     6        6  \n",
       "2  141   6/6    Jaun.  2,376 €  335,000  €     6        6  \n",
       "3   42   1/6   Renov.  1,857 €   78,000  €     1        6  \n",
       "4  173   3/6  P. kara  1,179 €  204,000  €     3        6  "
      ]
     },
     "execution_count": 87,
     "metadata": {},
     "output_type": "execute_result"
    }
   ],
   "source": [
    "df.head()"
   ]
  },
  {
   "cell_type": "code",
   "execution_count": 88,
   "metadata": {},
   "outputs": [
    {
     "name": "stdout",
     "output_type": "stream",
     "text": [
      "<class 'pandas.core.frame.DataFrame'>\n",
      "RangeIndex: 715 entries, 0 to 714\n",
      "Data columns (total 11 columns):\n",
      " #   Column       Non-Null Count  Dtype \n",
      "---  ------       --------------  ----- \n",
      " 0   description  715 non-null    object\n",
      " 1   url          715 non-null    object\n",
      " 2   Iela         715 non-null    object\n",
      " 3   Ist.         715 non-null    object\n",
      " 4   m2           715 non-null    object\n",
      " 5   Stāvs        715 non-null    object\n",
      " 6   Sērija       715 non-null    object\n",
      " 7   Cena, m2     715 non-null    object\n",
      " 8   Cena         715 non-null    object\n",
      " 9   Floor        715 non-null    object\n",
      " 10  MaxFloor     715 non-null    object\n",
      "dtypes: object(11)\n",
      "memory usage: 61.6+ KB\n"
     ]
    }
   ],
   "source": [
    "df.info()"
   ]
  },
  {
   "cell_type": "code",
   "execution_count": 83,
   "metadata": {
    "scrolled": true
   },
   "outputs": [
    {
     "data": {
      "text/html": [
       "<div>\n",
       "<style scoped>\n",
       "    .dataframe tbody tr th:only-of-type {\n",
       "        vertical-align: middle;\n",
       "    }\n",
       "\n",
       "    .dataframe tbody tr th {\n",
       "        vertical-align: top;\n",
       "    }\n",
       "\n",
       "    .dataframe thead th {\n",
       "        text-align: right;\n",
       "    }\n",
       "</style>\n",
       "<table border=\"1\" class=\"dataframe\">\n",
       "  <thead>\n",
       "    <tr style=\"text-align: right;\">\n",
       "      <th></th>\n",
       "      <th>description</th>\n",
       "      <th>url</th>\n",
       "      <th>Iela</th>\n",
       "      <th>Ist.</th>\n",
       "      <th>m2</th>\n",
       "      <th>Stāvs</th>\n",
       "      <th>Sērija</th>\n",
       "      <th>Cena, m2</th>\n",
       "      <th>Cena</th>\n",
       "      <th>Floor</th>\n",
       "      <th>MaxFloor</th>\n",
       "      <th>price</th>\n",
       "    </tr>\n",
       "  </thead>\n",
       "  <tbody>\n",
       "    <tr>\n",
       "      <th>0</th>\n",
       "      <td>Pārdodu skaistu un mājīgu 2 istabu dzīvokli Ce...</td>\n",
       "      <td>https://ss.com/msg/lv/real-estate/flats/riga/c...</td>\n",
       "      <td>Tallinas 52</td>\n",
       "      <td>2</td>\n",
       "      <td>59</td>\n",
       "      <td>4/5</td>\n",
       "      <td>P. kara</td>\n",
       "      <td>2,364 €</td>\n",
       "      <td>139,500  €</td>\n",
       "      <td>4</td>\n",
       "      <td>5</td>\n",
       "      <td>139,500</td>\n",
       "    </tr>\n",
       "    <tr>\n",
       "      <th>1</th>\n",
       "      <td>Pārdošanā tikko izremontēts lielisks, gaišs 2i...</td>\n",
       "      <td>https://ss.com/msg/lv/real-estate/flats/riga/c...</td>\n",
       "      <td>Matīsa 89a</td>\n",
       "      <td>2</td>\n",
       "      <td>41</td>\n",
       "      <td>3/5</td>\n",
       "      <td>P. kara</td>\n",
       "      <td>1,902 €</td>\n",
       "      <td>78,000  €</td>\n",
       "      <td>3</td>\n",
       "      <td>5</td>\n",
       "      <td>78,000</td>\n",
       "    </tr>\n",
       "    <tr>\n",
       "      <th>2</th>\n",
       "      <td>Pārdodas plašs dzīvoklis Rīgā. \\r\\n\\r\\nDzīvokl...</td>\n",
       "      <td>https://ss.com/msg/lv/real-estate/flats/riga/c...</td>\n",
       "      <td>Čaka 70</td>\n",
       "      <td>6</td>\n",
       "      <td>180</td>\n",
       "      <td>3/6</td>\n",
       "      <td>P. kara</td>\n",
       "      <td>1,389 €</td>\n",
       "      <td>250,000  €</td>\n",
       "      <td>3</td>\n",
       "      <td>6</td>\n",
       "      <td>250,000</td>\n",
       "    </tr>\n",
       "    <tr>\n",
       "      <th>3</th>\n",
       "      <td>Pārdodu divistabu dzīvokli Maskavas ielā 108\\r...</td>\n",
       "      <td>https://ss.com/msg/lv/real-estate/flats/riga/c...</td>\n",
       "      <td>Maskavas 108</td>\n",
       "      <td>2</td>\n",
       "      <td>50</td>\n",
       "      <td>6/6</td>\n",
       "      <td>P. kara</td>\n",
       "      <td>1,700 €</td>\n",
       "      <td>85,000  €</td>\n",
       "      <td>6</td>\n",
       "      <td>6</td>\n",
       "      <td>85,000</td>\n",
       "    </tr>\n",
       "    <tr>\n",
       "      <th>4</th>\n",
       "      <td>Pārdodas 4 istabu dzīvoklis klusajā centrā. \\r...</td>\n",
       "      <td>https://ss.com/msg/lv/real-estate/flats/riga/c...</td>\n",
       "      <td>Vidus 11</td>\n",
       "      <td>4</td>\n",
       "      <td>134</td>\n",
       "      <td>1/5</td>\n",
       "      <td>Renov.</td>\n",
       "      <td>2,537 €</td>\n",
       "      <td>340,000  €</td>\n",
       "      <td>1</td>\n",
       "      <td>5</td>\n",
       "      <td>340,000</td>\n",
       "    </tr>\n",
       "  </tbody>\n",
       "</table>\n",
       "</div>"
      ],
      "text/plain": [
       "                                         description  \\\n",
       "0  Pārdodu skaistu un mājīgu 2 istabu dzīvokli Ce...   \n",
       "1  Pārdošanā tikko izremontēts lielisks, gaišs 2i...   \n",
       "2  Pārdodas plašs dzīvoklis Rīgā. \\r\\n\\r\\nDzīvokl...   \n",
       "3  Pārdodu divistabu dzīvokli Maskavas ielā 108\\r...   \n",
       "4  Pārdodas 4 istabu dzīvoklis klusajā centrā. \\r...   \n",
       "\n",
       "                                                 url          Iela Ist.   m2  \\\n",
       "0  https://ss.com/msg/lv/real-estate/flats/riga/c...   Tallinas 52    2   59   \n",
       "1  https://ss.com/msg/lv/real-estate/flats/riga/c...    Matīsa 89a    2   41   \n",
       "2  https://ss.com/msg/lv/real-estate/flats/riga/c...       Čaka 70    6  180   \n",
       "3  https://ss.com/msg/lv/real-estate/flats/riga/c...  Maskavas 108    2   50   \n",
       "4  https://ss.com/msg/lv/real-estate/flats/riga/c...      Vidus 11    4  134   \n",
       "\n",
       "  Stāvs   Sērija Cena, m2        Cena Floor MaxFloor    price  \n",
       "0   4/5  P. kara  2,364 €  139,500  €     4        5  139,500  \n",
       "1   3/5  P. kara  1,902 €   78,000  €     3        5   78,000  \n",
       "2   3/6  P. kara  1,389 €  250,000  €     3        6  250,000  \n",
       "3   6/6  P. kara  1,700 €   85,000  €     6        6   85,000  \n",
       "4   1/5   Renov.  2,537 €  340,000  €     1        5  340,000  "
      ]
     },
     "execution_count": 83,
     "metadata": {},
     "output_type": "execute_result"
    }
   ],
   "source": [
    "df[\"price\"] = df.Cena.str.split(' ').str[0]  # create a new column from price\n",
    "df.head()"
   ]
  },
  {
   "cell_type": "code",
   "execution_count": 84,
   "metadata": {},
   "outputs": [
    {
     "data": {
      "text/html": [
       "<div>\n",
       "<style scoped>\n",
       "    .dataframe tbody tr th:only-of-type {\n",
       "        vertical-align: middle;\n",
       "    }\n",
       "\n",
       "    .dataframe tbody tr th {\n",
       "        vertical-align: top;\n",
       "    }\n",
       "\n",
       "    .dataframe thead th {\n",
       "        text-align: right;\n",
       "    }\n",
       "</style>\n",
       "<table border=\"1\" class=\"dataframe\">\n",
       "  <thead>\n",
       "    <tr style=\"text-align: right;\">\n",
       "      <th></th>\n",
       "      <th>description</th>\n",
       "      <th>url</th>\n",
       "      <th>Iela</th>\n",
       "      <th>Ist.</th>\n",
       "      <th>m2</th>\n",
       "      <th>Stāvs</th>\n",
       "      <th>Sērija</th>\n",
       "      <th>Cena, m2</th>\n",
       "      <th>Cena</th>\n",
       "      <th>Floor</th>\n",
       "      <th>MaxFloor</th>\n",
       "      <th>price</th>\n",
       "    </tr>\n",
       "  </thead>\n",
       "  <tbody>\n",
       "    <tr>\n",
       "      <th>0</th>\n",
       "      <td>Pārdodu skaistu un mājīgu 2 istabu dzīvokli Ce...</td>\n",
       "      <td>https://ss.com/msg/lv/real-estate/flats/riga/c...</td>\n",
       "      <td>Tallinas 52</td>\n",
       "      <td>2</td>\n",
       "      <td>59</td>\n",
       "      <td>4/5</td>\n",
       "      <td>P. kara</td>\n",
       "      <td>2,364 €</td>\n",
       "      <td>139,500  €</td>\n",
       "      <td>4</td>\n",
       "      <td>5</td>\n",
       "      <td>139500</td>\n",
       "    </tr>\n",
       "    <tr>\n",
       "      <th>1</th>\n",
       "      <td>Pārdošanā tikko izremontēts lielisks, gaišs 2i...</td>\n",
       "      <td>https://ss.com/msg/lv/real-estate/flats/riga/c...</td>\n",
       "      <td>Matīsa 89a</td>\n",
       "      <td>2</td>\n",
       "      <td>41</td>\n",
       "      <td>3/5</td>\n",
       "      <td>P. kara</td>\n",
       "      <td>1,902 €</td>\n",
       "      <td>78,000  €</td>\n",
       "      <td>3</td>\n",
       "      <td>5</td>\n",
       "      <td>78000</td>\n",
       "    </tr>\n",
       "    <tr>\n",
       "      <th>2</th>\n",
       "      <td>Pārdodas plašs dzīvoklis Rīgā. \\r\\n\\r\\nDzīvokl...</td>\n",
       "      <td>https://ss.com/msg/lv/real-estate/flats/riga/c...</td>\n",
       "      <td>Čaka 70</td>\n",
       "      <td>6</td>\n",
       "      <td>180</td>\n",
       "      <td>3/6</td>\n",
       "      <td>P. kara</td>\n",
       "      <td>1,389 €</td>\n",
       "      <td>250,000  €</td>\n",
       "      <td>3</td>\n",
       "      <td>6</td>\n",
       "      <td>250000</td>\n",
       "    </tr>\n",
       "    <tr>\n",
       "      <th>3</th>\n",
       "      <td>Pārdodu divistabu dzīvokli Maskavas ielā 108\\r...</td>\n",
       "      <td>https://ss.com/msg/lv/real-estate/flats/riga/c...</td>\n",
       "      <td>Maskavas 108</td>\n",
       "      <td>2</td>\n",
       "      <td>50</td>\n",
       "      <td>6/6</td>\n",
       "      <td>P. kara</td>\n",
       "      <td>1,700 €</td>\n",
       "      <td>85,000  €</td>\n",
       "      <td>6</td>\n",
       "      <td>6</td>\n",
       "      <td>85000</td>\n",
       "    </tr>\n",
       "    <tr>\n",
       "      <th>4</th>\n",
       "      <td>Pārdodas 4 istabu dzīvoklis klusajā centrā. \\r...</td>\n",
       "      <td>https://ss.com/msg/lv/real-estate/flats/riga/c...</td>\n",
       "      <td>Vidus 11</td>\n",
       "      <td>4</td>\n",
       "      <td>134</td>\n",
       "      <td>1/5</td>\n",
       "      <td>Renov.</td>\n",
       "      <td>2,537 €</td>\n",
       "      <td>340,000  €</td>\n",
       "      <td>1</td>\n",
       "      <td>5</td>\n",
       "      <td>340000</td>\n",
       "    </tr>\n",
       "  </tbody>\n",
       "</table>\n",
       "</div>"
      ],
      "text/plain": [
       "                                         description  \\\n",
       "0  Pārdodu skaistu un mājīgu 2 istabu dzīvokli Ce...   \n",
       "1  Pārdošanā tikko izremontēts lielisks, gaišs 2i...   \n",
       "2  Pārdodas plašs dzīvoklis Rīgā. \\r\\n\\r\\nDzīvokl...   \n",
       "3  Pārdodu divistabu dzīvokli Maskavas ielā 108\\r...   \n",
       "4  Pārdodas 4 istabu dzīvoklis klusajā centrā. \\r...   \n",
       "\n",
       "                                                 url          Iela Ist.   m2  \\\n",
       "0  https://ss.com/msg/lv/real-estate/flats/riga/c...   Tallinas 52    2   59   \n",
       "1  https://ss.com/msg/lv/real-estate/flats/riga/c...    Matīsa 89a    2   41   \n",
       "2  https://ss.com/msg/lv/real-estate/flats/riga/c...       Čaka 70    6  180   \n",
       "3  https://ss.com/msg/lv/real-estate/flats/riga/c...  Maskavas 108    2   50   \n",
       "4  https://ss.com/msg/lv/real-estate/flats/riga/c...      Vidus 11    4  134   \n",
       "\n",
       "  Stāvs   Sērija Cena, m2        Cena Floor MaxFloor   price  \n",
       "0   4/5  P. kara  2,364 €  139,500  €     4        5  139500  \n",
       "1   3/5  P. kara  1,902 €   78,000  €     3        5   78000  \n",
       "2   3/6  P. kara  1,389 €  250,000  €     3        6  250000  \n",
       "3   6/6  P. kara  1,700 €   85,000  €     6        6   85000  \n",
       "4   1/5   Renov.  2,537 €  340,000  €     1        5  340000  "
      ]
     },
     "execution_count": 84,
     "metadata": {},
     "output_type": "execute_result"
    }
   ],
   "source": [
    "df.price = df.price.str.replace(\",\",\"\").astype('int32') # so clean string of , and then convert to integer int64 for larger\n",
    "df.head()"
   ]
  },
  {
   "cell_type": "code",
   "execution_count": 85,
   "metadata": {},
   "outputs": [
    {
     "name": "stdout",
     "output_type": "stream",
     "text": [
      "<class 'pandas.core.frame.DataFrame'>\n",
      "RangeIndex: 660 entries, 0 to 659\n",
      "Data columns (total 12 columns):\n",
      " #   Column       Non-Null Count  Dtype \n",
      "---  ------       --------------  ----- \n",
      " 0   description  660 non-null    object\n",
      " 1   url          660 non-null    object\n",
      " 2   Iela         660 non-null    object\n",
      " 3   Ist.         660 non-null    object\n",
      " 4   m2           660 non-null    object\n",
      " 5   Stāvs        660 non-null    object\n",
      " 6   Sērija       660 non-null    object\n",
      " 7   Cena, m2     660 non-null    object\n",
      " 8   Cena         660 non-null    object\n",
      " 9   Floor        660 non-null    object\n",
      " 10  MaxFloor     660 non-null    object\n",
      " 11  price        660 non-null    int32 \n",
      "dtypes: int32(1), object(11)\n",
      "memory usage: 59.4+ KB\n"
     ]
    }
   ],
   "source": [
    "df.info()"
   ]
  },
  {
   "cell_type": "code",
   "execution_count": 86,
   "metadata": {},
   "outputs": [],
   "source": [
    "df[\"floor\"] = df.Floor.astype('int32')"
   ]
  },
  {
   "cell_type": "code",
   "execution_count": 87,
   "metadata": {},
   "outputs": [],
   "source": [
    "df.m2 = df.m2.astype('int32')"
   ]
  },
  {
   "cell_type": "code",
   "execution_count": 88,
   "metadata": {},
   "outputs": [
    {
     "name": "stdout",
     "output_type": "stream",
     "text": [
      "<class 'pandas.core.frame.DataFrame'>\n",
      "RangeIndex: 660 entries, 0 to 659\n",
      "Data columns (total 13 columns):\n",
      " #   Column       Non-Null Count  Dtype \n",
      "---  ------       --------------  ----- \n",
      " 0   description  660 non-null    object\n",
      " 1   url          660 non-null    object\n",
      " 2   Iela         660 non-null    object\n",
      " 3   Ist.         660 non-null    object\n",
      " 4   m2           660 non-null    int32 \n",
      " 5   Stāvs        660 non-null    object\n",
      " 6   Sērija       660 non-null    object\n",
      " 7   Cena, m2     660 non-null    object\n",
      " 8   Cena         660 non-null    object\n",
      " 9   Floor        660 non-null    object\n",
      " 10  MaxFloor     660 non-null    object\n",
      " 11  price        660 non-null    int32 \n",
      " 12  floor        660 non-null    int32 \n",
      "dtypes: int32(3), object(10)\n",
      "memory usage: 59.4+ KB\n"
     ]
    }
   ],
   "source": [
    "df.info()"
   ]
  },
  {
   "cell_type": "code",
   "execution_count": 89,
   "metadata": {},
   "outputs": [
    {
     "data": {
      "text/html": [
       "<div>\n",
       "<style scoped>\n",
       "    .dataframe tbody tr th:only-of-type {\n",
       "        vertical-align: middle;\n",
       "    }\n",
       "\n",
       "    .dataframe tbody tr th {\n",
       "        vertical-align: top;\n",
       "    }\n",
       "\n",
       "    .dataframe thead th {\n",
       "        text-align: right;\n",
       "    }\n",
       "</style>\n",
       "<table border=\"1\" class=\"dataframe\">\n",
       "  <thead>\n",
       "    <tr style=\"text-align: right;\">\n",
       "      <th></th>\n",
       "      <th>description</th>\n",
       "      <th>url</th>\n",
       "      <th>Iela</th>\n",
       "      <th>Ist.</th>\n",
       "      <th>m2</th>\n",
       "      <th>Stāvs</th>\n",
       "      <th>Sērija</th>\n",
       "      <th>Cena, m2</th>\n",
       "      <th>Cena</th>\n",
       "      <th>Floor</th>\n",
       "      <th>MaxFloor</th>\n",
       "      <th>price</th>\n",
       "      <th>floor</th>\n",
       "    </tr>\n",
       "  </thead>\n",
       "  <tbody>\n",
       "    <tr>\n",
       "      <th>0</th>\n",
       "      <td>Pārdodu skaistu un mājīgu 2 istabu dzīvokli Ce...</td>\n",
       "      <td>https://ss.com/msg/lv/real-estate/flats/riga/c...</td>\n",
       "      <td>Tallinas 52</td>\n",
       "      <td>2</td>\n",
       "      <td>59</td>\n",
       "      <td>4/5</td>\n",
       "      <td>P. kara</td>\n",
       "      <td>2,364 €</td>\n",
       "      <td>139,500  €</td>\n",
       "      <td>4</td>\n",
       "      <td>5</td>\n",
       "      <td>139500</td>\n",
       "      <td>4</td>\n",
       "    </tr>\n",
       "    <tr>\n",
       "      <th>1</th>\n",
       "      <td>Pārdošanā tikko izremontēts lielisks, gaišs 2i...</td>\n",
       "      <td>https://ss.com/msg/lv/real-estate/flats/riga/c...</td>\n",
       "      <td>Matīsa 89a</td>\n",
       "      <td>2</td>\n",
       "      <td>41</td>\n",
       "      <td>3/5</td>\n",
       "      <td>P. kara</td>\n",
       "      <td>1,902 €</td>\n",
       "      <td>78,000  €</td>\n",
       "      <td>3</td>\n",
       "      <td>5</td>\n",
       "      <td>78000</td>\n",
       "      <td>3</td>\n",
       "    </tr>\n",
       "    <tr>\n",
       "      <th>2</th>\n",
       "      <td>Pārdodas plašs dzīvoklis Rīgā. \\r\\n\\r\\nDzīvokl...</td>\n",
       "      <td>https://ss.com/msg/lv/real-estate/flats/riga/c...</td>\n",
       "      <td>Čaka 70</td>\n",
       "      <td>6</td>\n",
       "      <td>180</td>\n",
       "      <td>3/6</td>\n",
       "      <td>P. kara</td>\n",
       "      <td>1,389 €</td>\n",
       "      <td>250,000  €</td>\n",
       "      <td>3</td>\n",
       "      <td>6</td>\n",
       "      <td>250000</td>\n",
       "      <td>3</td>\n",
       "    </tr>\n",
       "    <tr>\n",
       "      <th>3</th>\n",
       "      <td>Pārdodu divistabu dzīvokli Maskavas ielā 108\\r...</td>\n",
       "      <td>https://ss.com/msg/lv/real-estate/flats/riga/c...</td>\n",
       "      <td>Maskavas 108</td>\n",
       "      <td>2</td>\n",
       "      <td>50</td>\n",
       "      <td>6/6</td>\n",
       "      <td>P. kara</td>\n",
       "      <td>1,700 €</td>\n",
       "      <td>85,000  €</td>\n",
       "      <td>6</td>\n",
       "      <td>6</td>\n",
       "      <td>85000</td>\n",
       "      <td>6</td>\n",
       "    </tr>\n",
       "    <tr>\n",
       "      <th>4</th>\n",
       "      <td>Pārdodas 4 istabu dzīvoklis klusajā centrā. \\r...</td>\n",
       "      <td>https://ss.com/msg/lv/real-estate/flats/riga/c...</td>\n",
       "      <td>Vidus 11</td>\n",
       "      <td>4</td>\n",
       "      <td>134</td>\n",
       "      <td>1/5</td>\n",
       "      <td>Renov.</td>\n",
       "      <td>2,537 €</td>\n",
       "      <td>340,000  €</td>\n",
       "      <td>1</td>\n",
       "      <td>5</td>\n",
       "      <td>340000</td>\n",
       "      <td>1</td>\n",
       "    </tr>\n",
       "  </tbody>\n",
       "</table>\n",
       "</div>"
      ],
      "text/plain": [
       "                                         description  \\\n",
       "0  Pārdodu skaistu un mājīgu 2 istabu dzīvokli Ce...   \n",
       "1  Pārdošanā tikko izremontēts lielisks, gaišs 2i...   \n",
       "2  Pārdodas plašs dzīvoklis Rīgā. \\r\\n\\r\\nDzīvokl...   \n",
       "3  Pārdodu divistabu dzīvokli Maskavas ielā 108\\r...   \n",
       "4  Pārdodas 4 istabu dzīvoklis klusajā centrā. \\r...   \n",
       "\n",
       "                                                 url          Iela Ist.   m2  \\\n",
       "0  https://ss.com/msg/lv/real-estate/flats/riga/c...   Tallinas 52    2   59   \n",
       "1  https://ss.com/msg/lv/real-estate/flats/riga/c...    Matīsa 89a    2   41   \n",
       "2  https://ss.com/msg/lv/real-estate/flats/riga/c...       Čaka 70    6  180   \n",
       "3  https://ss.com/msg/lv/real-estate/flats/riga/c...  Maskavas 108    2   50   \n",
       "4  https://ss.com/msg/lv/real-estate/flats/riga/c...      Vidus 11    4  134   \n",
       "\n",
       "  Stāvs   Sērija Cena, m2        Cena Floor  MaxFloor   price  floor  \n",
       "0   4/5  P. kara  2,364 €  139,500  €     4         5  139500      4  \n",
       "1   3/5  P. kara  1,902 €   78,000  €     3         5   78000      3  \n",
       "2   3/6  P. kara  1,389 €  250,000  €     3         6  250000      3  \n",
       "3   6/6  P. kara  1,700 €   85,000  €     6         6   85000      6  \n",
       "4   1/5   Renov.  2,537 €  340,000  €     1         5  340000      1  "
      ]
     },
     "execution_count": 89,
     "metadata": {},
     "output_type": "execute_result"
    }
   ],
   "source": [
    "df.MaxFloor = df.MaxFloor.astype('int32')\n",
    "df.head()"
   ]
  },
  {
   "cell_type": "code",
   "execution_count": 96,
   "metadata": {},
   "outputs": [
    {
     "data": {
      "text/html": [
       "<div>\n",
       "<style scoped>\n",
       "    .dataframe tbody tr th:only-of-type {\n",
       "        vertical-align: middle;\n",
       "    }\n",
       "\n",
       "    .dataframe tbody tr th {\n",
       "        vertical-align: top;\n",
       "    }\n",
       "\n",
       "    .dataframe thead th {\n",
       "        text-align: right;\n",
       "    }\n",
       "</style>\n",
       "<table border=\"1\" class=\"dataframe\">\n",
       "  <thead>\n",
       "    <tr style=\"text-align: right;\">\n",
       "      <th></th>\n",
       "      <th>description</th>\n",
       "      <th>url</th>\n",
       "      <th>Iela</th>\n",
       "      <th>Ist.</th>\n",
       "      <th>m2</th>\n",
       "      <th>Stāvs</th>\n",
       "      <th>Sērija</th>\n",
       "      <th>Cena, m2</th>\n",
       "      <th>Cena</th>\n",
       "      <th>Floor</th>\n",
       "      <th>MaxFloor</th>\n",
       "      <th>price</th>\n",
       "      <th>floor</th>\n",
       "    </tr>\n",
       "  </thead>\n",
       "  <tbody>\n",
       "    <tr>\n",
       "      <th>0</th>\n",
       "      <td>Tiek pārdots gaumīgs dzīvoklis centrā ar savu ...</td>\n",
       "      <td>https://ss.com/msg/lv/real-estate/flats/riga/c...</td>\n",
       "      <td>Bruņinieku 28</td>\n",
       "      <td>4</td>\n",
       "      <td>120</td>\n",
       "      <td>3/5</td>\n",
       "      <td>P. kara</td>\n",
       "      <td>2,417 €</td>\n",
       "      <td>290,000  €</td>\n",
       "      <td>3</td>\n",
       "      <td>5</td>\n",
       "      <td>290000</td>\n",
       "      <td>3</td>\n",
       "    </tr>\n",
       "    <tr>\n",
       "      <th>1</th>\n",
       "      <td>Unikāls, pilnībā aprīkots 4-istabu dzīvoklis f...</td>\n",
       "      <td>https://ss.com/msg/lv/real-estate/flats/riga/c...</td>\n",
       "      <td>Skolas 14</td>\n",
       "      <td>4</td>\n",
       "      <td>169</td>\n",
       "      <td>6/6</td>\n",
       "      <td>Renov.</td>\n",
       "      <td>1,953 €</td>\n",
       "      <td>330,000  €</td>\n",
       "      <td>6</td>\n",
       "      <td>6</td>\n",
       "      <td>330000</td>\n",
       "      <td>6</td>\n",
       "    </tr>\n",
       "    <tr>\n",
       "      <th>2</th>\n",
       "      <td>Pārdod 4-istabu dzīvokli Klusajā centrā ar aut...</td>\n",
       "      <td>https://ss.com/msg/lv/real-estate/flats/riga/c...</td>\n",
       "      <td>Rūpniecības 34A</td>\n",
       "      <td>4</td>\n",
       "      <td>141</td>\n",
       "      <td>6/6</td>\n",
       "      <td>Jaun.</td>\n",
       "      <td>2,376 €</td>\n",
       "      <td>335,000  €</td>\n",
       "      <td>6</td>\n",
       "      <td>6</td>\n",
       "      <td>335000</td>\n",
       "      <td>6</td>\n",
       "    </tr>\n",
       "    <tr>\n",
       "      <th>3</th>\n",
       "      <td>Komfortabls dzīvoklis . Atjaunota renovēta māj...</td>\n",
       "      <td>https://ss.com/msg/lv/real-estate/flats/riga/c...</td>\n",
       "      <td>Miera 105</td>\n",
       "      <td>2</td>\n",
       "      <td>42</td>\n",
       "      <td>1/6</td>\n",
       "      <td>Renov.</td>\n",
       "      <td>1,857 €</td>\n",
       "      <td>78,000  €</td>\n",
       "      <td>1</td>\n",
       "      <td>6</td>\n",
       "      <td>78000</td>\n",
       "      <td>1</td>\n",
       "    </tr>\n",
       "    <tr>\n",
       "      <th>4</th>\n",
       "      <td>Plašs, renovējams 6 istabu dzīvoklis iekšpagal...</td>\n",
       "      <td>https://ss.com/msg/lv/real-estate/flats/riga/c...</td>\n",
       "      <td>Brīvības 72</td>\n",
       "      <td>6</td>\n",
       "      <td>173</td>\n",
       "      <td>3/6</td>\n",
       "      <td>P. kara</td>\n",
       "      <td>1,179 €</td>\n",
       "      <td>204,000  €</td>\n",
       "      <td>3</td>\n",
       "      <td>6</td>\n",
       "      <td>204000</td>\n",
       "      <td>3</td>\n",
       "    </tr>\n",
       "  </tbody>\n",
       "</table>\n",
       "</div>"
      ],
      "text/plain": [
       "                                         description  \\\n",
       "0  Tiek pārdots gaumīgs dzīvoklis centrā ar savu ...   \n",
       "1  Unikāls, pilnībā aprīkots 4-istabu dzīvoklis f...   \n",
       "2  Pārdod 4-istabu dzīvokli Klusajā centrā ar aut...   \n",
       "3  Komfortabls dzīvoklis . Atjaunota renovēta māj...   \n",
       "4  Plašs, renovējams 6 istabu dzīvoklis iekšpagal...   \n",
       "\n",
       "                                                 url             Iela Ist.  \\\n",
       "0  https://ss.com/msg/lv/real-estate/flats/riga/c...    Bruņinieku 28    4   \n",
       "1  https://ss.com/msg/lv/real-estate/flats/riga/c...        Skolas 14    4   \n",
       "2  https://ss.com/msg/lv/real-estate/flats/riga/c...  Rūpniecības 34A    4   \n",
       "3  https://ss.com/msg/lv/real-estate/flats/riga/c...        Miera 105    2   \n",
       "4  https://ss.com/msg/lv/real-estate/flats/riga/c...      Brīvības 72    6   \n",
       "\n",
       "    m2 Stāvs   Sērija Cena, m2        Cena Floor  MaxFloor   price  floor  \n",
       "0  120   3/5  P. kara  2,417 €  290,000  €     3         5  290000      3  \n",
       "1  169   6/6   Renov.  1,953 €  330,000  €     6         6  330000      6  \n",
       "2  141   6/6    Jaun.  2,376 €  335,000  €     6         6  335000      6  \n",
       "3   42   1/6   Renov.  1,857 €   78,000  €     1         6   78000      1  \n",
       "4  173   3/6  P. kara  1,179 €  204,000  €     3         6  204000      3  "
      ]
     },
     "execution_count": 96,
     "metadata": {},
     "output_type": "execute_result"
    }
   ],
   "source": [
    "df.head()"
   ]
  },
  {
   "cell_type": "code",
   "execution_count": 90,
   "metadata": {
    "scrolled": true
   },
   "outputs": [
    {
     "data": {
      "text/html": [
       "<div>\n",
       "<style scoped>\n",
       "    .dataframe tbody tr th:only-of-type {\n",
       "        vertical-align: middle;\n",
       "    }\n",
       "\n",
       "    .dataframe tbody tr th {\n",
       "        vertical-align: top;\n",
       "    }\n",
       "\n",
       "    .dataframe thead th {\n",
       "        text-align: right;\n",
       "    }\n",
       "</style>\n",
       "<table border=\"1\" class=\"dataframe\">\n",
       "  <thead>\n",
       "    <tr style=\"text-align: right;\">\n",
       "      <th></th>\n",
       "      <th>description</th>\n",
       "      <th>url</th>\n",
       "      <th>Iela</th>\n",
       "      <th>Ist.</th>\n",
       "      <th>m2</th>\n",
       "      <th>Stāvs</th>\n",
       "      <th>Sērija</th>\n",
       "      <th>Cena, m2</th>\n",
       "      <th>Cena</th>\n",
       "      <th>Floor</th>\n",
       "      <th>MaxFloor</th>\n",
       "      <th>price</th>\n",
       "      <th>floor</th>\n",
       "    </tr>\n",
       "  </thead>\n",
       "  <tbody>\n",
       "    <tr>\n",
       "      <th>249</th>\n",
       "      <td>Ekskluzīvs dzīvoklis vienā no nozīmīgākajiem a...</td>\n",
       "      <td>https://ss.com/msg/lv/real-estate/flats/riga/c...</td>\n",
       "      <td>Elizabetes 3</td>\n",
       "      <td>6</td>\n",
       "      <td>145</td>\n",
       "      <td>2/5</td>\n",
       "      <td>Renov.</td>\n",
       "      <td>10,172 €</td>\n",
       "      <td>1,475,000  €</td>\n",
       "      <td>2</td>\n",
       "      <td>5</td>\n",
       "      <td>1475000</td>\n",
       "      <td>2</td>\n",
       "    </tr>\n",
       "    <tr>\n",
       "      <th>314</th>\n",
       "      <td>Piedāvājam iegādei plašu un mūsdienīgu 4-istab...</td>\n",
       "      <td>https://ss.com/msg/lv/real-estate/flats/riga/c...</td>\n",
       "      <td>Lāčplēša 11</td>\n",
       "      <td>4</td>\n",
       "      <td>197</td>\n",
       "      <td>6/7</td>\n",
       "      <td>Jaun.</td>\n",
       "      <td>4,076 €</td>\n",
       "      <td>802,880  €</td>\n",
       "      <td>6</td>\n",
       "      <td>7</td>\n",
       "      <td>802880</td>\n",
       "      <td>6</td>\n",
       "    </tr>\n",
       "    <tr>\n",
       "      <th>106</th>\n",
       "      <td>Pārdod gaišu un plašu četru istabu dzīvokli Rī...</td>\n",
       "      <td>https://ss.com/msg/lv/real-estate/flats/riga/c...</td>\n",
       "      <td>Elizabetes 12</td>\n",
       "      <td>4</td>\n",
       "      <td>181</td>\n",
       "      <td>4/5</td>\n",
       "      <td>Renov.</td>\n",
       "      <td>4,004 €</td>\n",
       "      <td>724,800  €</td>\n",
       "      <td>4</td>\n",
       "      <td>5</td>\n",
       "      <td>724800</td>\n",
       "      <td>4</td>\n",
       "    </tr>\n",
       "    <tr>\n",
       "      <th>239</th>\n",
       "      <td>Pārdošanā ir ļoti plašs 4 istabu dzīvoklis ska...</td>\n",
       "      <td>https://ss.com/msg/lv/real-estate/flats/riga/c...</td>\n",
       "      <td>Pumpura 5</td>\n",
       "      <td>4</td>\n",
       "      <td>280</td>\n",
       "      <td>2/6</td>\n",
       "      <td>Renov.</td>\n",
       "      <td>2,500 €</td>\n",
       "      <td>700,000  €</td>\n",
       "      <td>2</td>\n",
       "      <td>6</td>\n",
       "      <td>700000</td>\n",
       "      <td>2</td>\n",
       "    </tr>\n",
       "    <tr>\n",
       "      <th>192</th>\n",
       "      <td>6 istabu dzīvoklis elitārākajā Rīgas pilsētas ...</td>\n",
       "      <td>https://ss.com/msg/lv/real-estate/flats/riga/c...</td>\n",
       "      <td>Elizabetes 4</td>\n",
       "      <td>6</td>\n",
       "      <td>212</td>\n",
       "      <td>2/5</td>\n",
       "      <td>Renov.</td>\n",
       "      <td>3,278 €</td>\n",
       "      <td>695,000  €</td>\n",
       "      <td>2</td>\n",
       "      <td>5</td>\n",
       "      <td>695000</td>\n",
       "      <td>2</td>\n",
       "    </tr>\n",
       "  </tbody>\n",
       "</table>\n",
       "</div>"
      ],
      "text/plain": [
       "                                           description  \\\n",
       "249  Ekskluzīvs dzīvoklis vienā no nozīmīgākajiem a...   \n",
       "314  Piedāvājam iegādei plašu un mūsdienīgu 4-istab...   \n",
       "106  Pārdod gaišu un plašu četru istabu dzīvokli Rī...   \n",
       "239  Pārdošanā ir ļoti plašs 4 istabu dzīvoklis ska...   \n",
       "192  6 istabu dzīvoklis elitārākajā Rīgas pilsētas ...   \n",
       "\n",
       "                                                   url           Iela Ist.  \\\n",
       "249  https://ss.com/msg/lv/real-estate/flats/riga/c...   Elizabetes 3    6   \n",
       "314  https://ss.com/msg/lv/real-estate/flats/riga/c...    Lāčplēša 11    4   \n",
       "106  https://ss.com/msg/lv/real-estate/flats/riga/c...  Elizabetes 12    4   \n",
       "239  https://ss.com/msg/lv/real-estate/flats/riga/c...      Pumpura 5    4   \n",
       "192  https://ss.com/msg/lv/real-estate/flats/riga/c...   Elizabetes 4    6   \n",
       "\n",
       "      m2 Stāvs  Sērija  Cena, m2          Cena Floor  MaxFloor    price  floor  \n",
       "249  145   2/5  Renov.  10,172 €  1,475,000  €     2         5  1475000      2  \n",
       "314  197   6/7   Jaun.   4,076 €    802,880  €     6         7   802880      6  \n",
       "106  181   4/5  Renov.   4,004 €    724,800  €     4         5   724800      4  \n",
       "239  280   2/6  Renov.   2,500 €    700,000  €     2         6   700000      2  \n",
       "192  212   2/5  Renov.   3,278 €    695,000  €     2         5   695000      2  "
      ]
     },
     "execution_count": 90,
     "metadata": {},
     "output_type": "execute_result"
    }
   ],
   "source": [
    "sorted_df = df.sort_values(by=\"price\",ascending=False)\n",
    "sorted_df.head()"
   ]
  },
  {
   "cell_type": "code",
   "execution_count": 91,
   "metadata": {},
   "outputs": [
    {
     "data": {
      "text/html": [
       "<div>\n",
       "<style scoped>\n",
       "    .dataframe tbody tr th:only-of-type {\n",
       "        vertical-align: middle;\n",
       "    }\n",
       "\n",
       "    .dataframe tbody tr th {\n",
       "        vertical-align: top;\n",
       "    }\n",
       "\n",
       "    .dataframe thead th {\n",
       "        text-align: right;\n",
       "    }\n",
       "</style>\n",
       "<table border=\"1\" class=\"dataframe\">\n",
       "  <thead>\n",
       "    <tr style=\"text-align: right;\">\n",
       "      <th></th>\n",
       "      <th>description</th>\n",
       "      <th>url</th>\n",
       "      <th>Iela</th>\n",
       "      <th>Ist.</th>\n",
       "      <th>m2</th>\n",
       "      <th>Stāvs</th>\n",
       "      <th>Sērija</th>\n",
       "      <th>Cena, m2</th>\n",
       "      <th>Cena</th>\n",
       "      <th>Floor</th>\n",
       "      <th>MaxFloor</th>\n",
       "      <th>price</th>\n",
       "      <th>floor</th>\n",
       "    </tr>\n",
       "  </thead>\n",
       "  <tbody>\n",
       "    <tr>\n",
       "      <th>383</th>\n",
       "      <td>Bildes vairāk what upā, katru dienu nebraucam ...</td>\n",
       "      <td>https://ss.com/msg/lv/real-estate/flats/riga/c...</td>\n",
       "      <td>Duntes 26</td>\n",
       "      <td>3</td>\n",
       "      <td>67</td>\n",
       "      <td>2/2</td>\n",
       "      <td>Specpr.</td>\n",
       "      <td>177 €</td>\n",
       "      <td>11,890  €</td>\n",
       "      <td>2</td>\n",
       "      <td>2</td>\n",
       "      <td>11890</td>\n",
       "      <td>2</td>\n",
       "    </tr>\n",
       "    <tr>\n",
       "      <th>331</th>\n",
       "      <td>Zemes nomas maksa 10 Eur/mēnesī, koka māja, pa...</td>\n",
       "      <td>https://ss.com/msg/lv/real-estate/flats/riga/c...</td>\n",
       "      <td>Zvaigžņu 15</td>\n",
       "      <td>1</td>\n",
       "      <td>19</td>\n",
       "      <td>2/2</td>\n",
       "      <td>P. kara</td>\n",
       "      <td>832 €</td>\n",
       "      <td>15,800  €</td>\n",
       "      <td>2</td>\n",
       "      <td>2</td>\n",
       "      <td>15800</td>\n",
       "      <td>2</td>\n",
       "    </tr>\n",
       "    <tr>\n",
       "      <th>115</th>\n",
       "      <td>Продается квартира со свежим ремонтом. \\r\\n\\r\\...</td>\n",
       "      <td>https://ss.com/msg/lv/real-estate/flats/riga/c...</td>\n",
       "      <td>Zvaigžņu 31</td>\n",
       "      <td>1</td>\n",
       "      <td>22</td>\n",
       "      <td>2/3</td>\n",
       "      <td>P. kara</td>\n",
       "      <td>805 €</td>\n",
       "      <td>17,700  €</td>\n",
       "      <td>2</td>\n",
       "      <td>3</td>\n",
       "      <td>17700</td>\n",
       "      <td>2</td>\n",
       "    </tr>\n",
       "    <tr>\n",
       "      <th>439</th>\n",
       "      <td>Pārdod kompaktu dzīvokli Grīziņkalnā. Platība ...</td>\n",
       "      <td>https://ss.com/msg/lv/real-estate/flats/riga/c...</td>\n",
       "      <td>Vārnu 4</td>\n",
       "      <td>1</td>\n",
       "      <td>18</td>\n",
       "      <td>2/2</td>\n",
       "      <td>P. kara</td>\n",
       "      <td>1,000 €</td>\n",
       "      <td>18,000  €</td>\n",
       "      <td>2</td>\n",
       "      <td>2</td>\n",
       "      <td>18000</td>\n",
       "      <td>2</td>\n",
       "    </tr>\n",
       "    <tr>\n",
       "      <th>306</th>\n",
       "      <td>Продается квартира со свежим ремонтом. \\r\\n\\r\\...</td>\n",
       "      <td>https://ss.com/msg/lv/real-estate/flats/riga/c...</td>\n",
       "      <td>Zvaigžņu 31</td>\n",
       "      <td>1</td>\n",
       "      <td>22</td>\n",
       "      <td>2/3</td>\n",
       "      <td>P. kara</td>\n",
       "      <td>818 €</td>\n",
       "      <td>18,000  €</td>\n",
       "      <td>2</td>\n",
       "      <td>3</td>\n",
       "      <td>18000</td>\n",
       "      <td>2</td>\n",
       "    </tr>\n",
       "  </tbody>\n",
       "</table>\n",
       "</div>"
      ],
      "text/plain": [
       "                                           description  \\\n",
       "383  Bildes vairāk what upā, katru dienu nebraucam ...   \n",
       "331  Zemes nomas maksa 10 Eur/mēnesī, koka māja, pa...   \n",
       "115  Продается квартира со свежим ремонтом. \\r\\n\\r\\...   \n",
       "439  Pārdod kompaktu dzīvokli Grīziņkalnā. Platība ...   \n",
       "306  Продается квартира со свежим ремонтом. \\r\\n\\r\\...   \n",
       "\n",
       "                                                   url         Iela Ist.  m2  \\\n",
       "383  https://ss.com/msg/lv/real-estate/flats/riga/c...    Duntes 26    3  67   \n",
       "331  https://ss.com/msg/lv/real-estate/flats/riga/c...  Zvaigžņu 15    1  19   \n",
       "115  https://ss.com/msg/lv/real-estate/flats/riga/c...  Zvaigžņu 31    1  22   \n",
       "439  https://ss.com/msg/lv/real-estate/flats/riga/c...      Vārnu 4    1  18   \n",
       "306  https://ss.com/msg/lv/real-estate/flats/riga/c...  Zvaigžņu 31    1  22   \n",
       "\n",
       "    Stāvs   Sērija Cena, m2       Cena Floor  MaxFloor  price  floor  \n",
       "383   2/2  Specpr.    177 €  11,890  €     2         2  11890      2  \n",
       "331   2/2  P. kara    832 €  15,800  €     2         2  15800      2  \n",
       "115   2/3  P. kara    805 €  17,700  €     2         3  17700      2  \n",
       "439   2/2  P. kara  1,000 €  18,000  €     2         2  18000      2  \n",
       "306   2/3  P. kara    818 €  18,000  €     2         3  18000      2  "
      ]
     },
     "execution_count": 91,
     "metadata": {},
     "output_type": "execute_result"
    }
   ],
   "source": [
    "df.sort_values(by=\"price\",ascending=True).head()"
   ]
  },
  {
   "cell_type": "code",
   "execution_count": 92,
   "metadata": {},
   "outputs": [
    {
     "data": {
      "text/html": [
       "<div>\n",
       "<style scoped>\n",
       "    .dataframe tbody tr th:only-of-type {\n",
       "        vertical-align: middle;\n",
       "    }\n",
       "\n",
       "    .dataframe tbody tr th {\n",
       "        vertical-align: top;\n",
       "    }\n",
       "\n",
       "    .dataframe thead th {\n",
       "        text-align: right;\n",
       "    }\n",
       "</style>\n",
       "<table border=\"1\" class=\"dataframe\">\n",
       "  <thead>\n",
       "    <tr style=\"text-align: right;\">\n",
       "      <th></th>\n",
       "      <th>m2</th>\n",
       "      <th>MaxFloor</th>\n",
       "      <th>price</th>\n",
       "      <th>floor</th>\n",
       "    </tr>\n",
       "  </thead>\n",
       "  <tbody>\n",
       "    <tr>\n",
       "      <th>count</th>\n",
       "      <td>660.000000</td>\n",
       "      <td>660.000000</td>\n",
       "      <td>6.600000e+02</td>\n",
       "      <td>660.000000</td>\n",
       "    </tr>\n",
       "    <tr>\n",
       "      <th>mean</th>\n",
       "      <td>80.309091</td>\n",
       "      <td>5.589394</td>\n",
       "      <td>1.651072e+05</td>\n",
       "      <td>3.289394</td>\n",
       "    </tr>\n",
       "    <tr>\n",
       "      <th>std</th>\n",
       "      <td>61.597141</td>\n",
       "      <td>2.420112</td>\n",
       "      <td>1.295011e+05</td>\n",
       "      <td>2.220653</td>\n",
       "    </tr>\n",
       "    <tr>\n",
       "      <th>min</th>\n",
       "      <td>10.000000</td>\n",
       "      <td>1.000000</td>\n",
       "      <td>1.189000e+04</td>\n",
       "      <td>1.000000</td>\n",
       "    </tr>\n",
       "    <tr>\n",
       "      <th>25%</th>\n",
       "      <td>47.000000</td>\n",
       "      <td>5.000000</td>\n",
       "      <td>8.130000e+04</td>\n",
       "      <td>2.000000</td>\n",
       "    </tr>\n",
       "    <tr>\n",
       "      <th>50%</th>\n",
       "      <td>66.000000</td>\n",
       "      <td>5.000000</td>\n",
       "      <td>1.300000e+05</td>\n",
       "      <td>3.000000</td>\n",
       "    </tr>\n",
       "    <tr>\n",
       "      <th>75%</th>\n",
       "      <td>100.000000</td>\n",
       "      <td>6.000000</td>\n",
       "      <td>2.107250e+05</td>\n",
       "      <td>5.000000</td>\n",
       "    </tr>\n",
       "    <tr>\n",
       "      <th>max</th>\n",
       "      <td>1000.000000</td>\n",
       "      <td>24.000000</td>\n",
       "      <td>1.475000e+06</td>\n",
       "      <td>20.000000</td>\n",
       "    </tr>\n",
       "  </tbody>\n",
       "</table>\n",
       "</div>"
      ],
      "text/plain": [
       "                m2    MaxFloor         price       floor\n",
       "count   660.000000  660.000000  6.600000e+02  660.000000\n",
       "mean     80.309091    5.589394  1.651072e+05    3.289394\n",
       "std      61.597141    2.420112  1.295011e+05    2.220653\n",
       "min      10.000000    1.000000  1.189000e+04    1.000000\n",
       "25%      47.000000    5.000000  8.130000e+04    2.000000\n",
       "50%      66.000000    5.000000  1.300000e+05    3.000000\n",
       "75%     100.000000    6.000000  2.107250e+05    5.000000\n",
       "max    1000.000000   24.000000  1.475000e+06   20.000000"
      ]
     },
     "execution_count": 92,
     "metadata": {},
     "output_type": "execute_result"
    }
   ],
   "source": [
    "df.describe()"
   ]
  },
  {
   "cell_type": "code",
   "execution_count": 93,
   "metadata": {},
   "outputs": [
    {
     "data": {
      "text/html": [
       "<div>\n",
       "<style scoped>\n",
       "    .dataframe tbody tr th:only-of-type {\n",
       "        vertical-align: middle;\n",
       "    }\n",
       "\n",
       "    .dataframe tbody tr th {\n",
       "        vertical-align: top;\n",
       "    }\n",
       "\n",
       "    .dataframe thead th {\n",
       "        text-align: right;\n",
       "    }\n",
       "</style>\n",
       "<table border=\"1\" class=\"dataframe\">\n",
       "  <thead>\n",
       "    <tr style=\"text-align: right;\">\n",
       "      <th></th>\n",
       "      <th>description</th>\n",
       "      <th>url</th>\n",
       "      <th>Iela</th>\n",
       "      <th>Ist.</th>\n",
       "      <th>m2</th>\n",
       "      <th>Stāvs</th>\n",
       "      <th>Sērija</th>\n",
       "      <th>Cena, m2</th>\n",
       "      <th>Cena</th>\n",
       "      <th>Floor</th>\n",
       "      <th>MaxFloor</th>\n",
       "      <th>price</th>\n",
       "      <th>floor</th>\n",
       "    </tr>\n",
       "  </thead>\n",
       "  <tbody>\n",
       "    <tr>\n",
       "      <th>0</th>\n",
       "      <td>Pārdodu skaistu un mājīgu 2 istabu dzīvokli Ce...</td>\n",
       "      <td>https://ss.com/msg/lv/real-estate/flats/riga/c...</td>\n",
       "      <td>Tallinas 52</td>\n",
       "      <td>2</td>\n",
       "      <td>59</td>\n",
       "      <td>4/5</td>\n",
       "      <td>P. kara</td>\n",
       "      <td>2,364 €</td>\n",
       "      <td>139,500  €</td>\n",
       "      <td>4</td>\n",
       "      <td>5</td>\n",
       "      <td>139500</td>\n",
       "      <td>4</td>\n",
       "    </tr>\n",
       "    <tr>\n",
       "      <th>1</th>\n",
       "      <td>Pārdošanā tikko izremontēts lielisks, gaišs 2i...</td>\n",
       "      <td>https://ss.com/msg/lv/real-estate/flats/riga/c...</td>\n",
       "      <td>Matīsa 89a</td>\n",
       "      <td>2</td>\n",
       "      <td>41</td>\n",
       "      <td>3/5</td>\n",
       "      <td>P. kara</td>\n",
       "      <td>1,902 €</td>\n",
       "      <td>78,000  €</td>\n",
       "      <td>3</td>\n",
       "      <td>5</td>\n",
       "      <td>78000</td>\n",
       "      <td>3</td>\n",
       "    </tr>\n",
       "    <tr>\n",
       "      <th>2</th>\n",
       "      <td>Pārdodas plašs dzīvoklis Rīgā. \\r\\n\\r\\nDzīvokl...</td>\n",
       "      <td>https://ss.com/msg/lv/real-estate/flats/riga/c...</td>\n",
       "      <td>Čaka 70</td>\n",
       "      <td>6</td>\n",
       "      <td>180</td>\n",
       "      <td>3/6</td>\n",
       "      <td>P. kara</td>\n",
       "      <td>1,389 €</td>\n",
       "      <td>250,000  €</td>\n",
       "      <td>3</td>\n",
       "      <td>6</td>\n",
       "      <td>250000</td>\n",
       "      <td>3</td>\n",
       "    </tr>\n",
       "    <tr>\n",
       "      <th>3</th>\n",
       "      <td>Pārdodu divistabu dzīvokli Maskavas ielā 108\\r...</td>\n",
       "      <td>https://ss.com/msg/lv/real-estate/flats/riga/c...</td>\n",
       "      <td>Maskavas 108</td>\n",
       "      <td>2</td>\n",
       "      <td>50</td>\n",
       "      <td>6/6</td>\n",
       "      <td>P. kara</td>\n",
       "      <td>1,700 €</td>\n",
       "      <td>85,000  €</td>\n",
       "      <td>6</td>\n",
       "      <td>6</td>\n",
       "      <td>85000</td>\n",
       "      <td>6</td>\n",
       "    </tr>\n",
       "    <tr>\n",
       "      <th>6</th>\n",
       "      <td>Pārdod plašu un elegantu dzīvokli klusā pagalm...</td>\n",
       "      <td>https://ss.com/msg/lv/real-estate/flats/riga/c...</td>\n",
       "      <td>Maiznīcas 10</td>\n",
       "      <td>4</td>\n",
       "      <td>105</td>\n",
       "      <td>3/5</td>\n",
       "      <td>P. kara</td>\n",
       "      <td>2,076 €</td>\n",
       "      <td>218,000  €</td>\n",
       "      <td>3</td>\n",
       "      <td>5</td>\n",
       "      <td>218000</td>\n",
       "      <td>3</td>\n",
       "    </tr>\n",
       "    <tr>\n",
       "      <th>...</th>\n",
       "      <td>...</td>\n",
       "      <td>...</td>\n",
       "      <td>...</td>\n",
       "      <td>...</td>\n",
       "      <td>...</td>\n",
       "      <td>...</td>\n",
       "      <td>...</td>\n",
       "      <td>...</td>\n",
       "      <td>...</td>\n",
       "      <td>...</td>\n",
       "      <td>...</td>\n",
       "      <td>...</td>\n",
       "      <td>...</td>\n",
       "    </tr>\n",
       "    <tr>\n",
       "      <th>653</th>\n",
       "      <td>Pārdod plašu un saulainu 3 istabu dzīvokli pil...</td>\n",
       "      <td>https://ss.com/msg/lv/real-estate/flats/riga/c...</td>\n",
       "      <td>Baznīcas 45</td>\n",
       "      <td>3</td>\n",
       "      <td>84</td>\n",
       "      <td>4/6</td>\n",
       "      <td>P. kara</td>\n",
       "      <td>2,083 €</td>\n",
       "      <td>175,000  €</td>\n",
       "      <td>4</td>\n",
       "      <td>6</td>\n",
       "      <td>175000</td>\n",
       "      <td>4</td>\n",
       "    </tr>\n",
       "    <tr>\n",
       "      <th>655</th>\n",
       "      <td>Pārdod 1-istabu dzīvokli ar labu plānojumu Maz...</td>\n",
       "      <td>https://ss.com/msg/lv/real-estate/flats/riga/c...</td>\n",
       "      <td>M. Matīsa 3</td>\n",
       "      <td>1</td>\n",
       "      <td>29</td>\n",
       "      <td>4/5</td>\n",
       "      <td>P. kara</td>\n",
       "      <td>1,103 €</td>\n",
       "      <td>32,000  €</td>\n",
       "      <td>4</td>\n",
       "      <td>5</td>\n",
       "      <td>32000</td>\n",
       "      <td>4</td>\n",
       "    </tr>\n",
       "    <tr>\n",
       "      <th>656</th>\n",
       "      <td>Brīnišķīgs plašs un kvalitatīvs trīsistabu dzī...</td>\n",
       "      <td>https://ss.com/msg/lv/real-estate/flats/riga/c...</td>\n",
       "      <td>Grostonas 25</td>\n",
       "      <td>3</td>\n",
       "      <td>99</td>\n",
       "      <td>18/24</td>\n",
       "      <td>Jaun.</td>\n",
       "      <td>3,475 €</td>\n",
       "      <td>344,000  €</td>\n",
       "      <td>18</td>\n",
       "      <td>24</td>\n",
       "      <td>344000</td>\n",
       "      <td>18</td>\n",
       "    </tr>\n",
       "    <tr>\n",
       "      <th>657</th>\n",
       "      <td>Dažu minūšu gājiena attālumā no Vecrīgas pārdo...</td>\n",
       "      <td>https://ss.com/msg/lv/real-estate/flats/riga/c...</td>\n",
       "      <td>Eksporta 16</td>\n",
       "      <td>1</td>\n",
       "      <td>31</td>\n",
       "      <td>3/5</td>\n",
       "      <td>Hrušč.</td>\n",
       "      <td>1,645 €</td>\n",
       "      <td>51,000  €</td>\n",
       "      <td>3</td>\n",
       "      <td>5</td>\n",
       "      <td>51000</td>\n",
       "      <td>3</td>\n",
       "    </tr>\n",
       "    <tr>\n",
       "      <th>658</th>\n",
       "      <td>Fasādes māja, balkons, autostāvvieta. \\r\\n\\r\\n...</td>\n",
       "      <td>https://ss.com/msg/lv/real-estate/flats/riga/c...</td>\n",
       "      <td>Ausekļa 3</td>\n",
       "      <td>4</td>\n",
       "      <td>108</td>\n",
       "      <td>5/5</td>\n",
       "      <td>P. kara</td>\n",
       "      <td>2,407 €</td>\n",
       "      <td>260,000  €</td>\n",
       "      <td>5</td>\n",
       "      <td>5</td>\n",
       "      <td>260000</td>\n",
       "      <td>5</td>\n",
       "    </tr>\n",
       "  </tbody>\n",
       "</table>\n",
       "<p>375 rows × 13 columns</p>\n",
       "</div>"
      ],
      "text/plain": [
       "                                           description  \\\n",
       "0    Pārdodu skaistu un mājīgu 2 istabu dzīvokli Ce...   \n",
       "1    Pārdošanā tikko izremontēts lielisks, gaišs 2i...   \n",
       "2    Pārdodas plašs dzīvoklis Rīgā. \\r\\n\\r\\nDzīvokl...   \n",
       "3    Pārdodu divistabu dzīvokli Maskavas ielā 108\\r...   \n",
       "6    Pārdod plašu un elegantu dzīvokli klusā pagalm...   \n",
       "..                                                 ...   \n",
       "653  Pārdod plašu un saulainu 3 istabu dzīvokli pil...   \n",
       "655  Pārdod 1-istabu dzīvokli ar labu plānojumu Maz...   \n",
       "656  Brīnišķīgs plašs un kvalitatīvs trīsistabu dzī...   \n",
       "657  Dažu minūšu gājiena attālumā no Vecrīgas pārdo...   \n",
       "658  Fasādes māja, balkons, autostāvvieta. \\r\\n\\r\\n...   \n",
       "\n",
       "                                                   url          Iela Ist.  \\\n",
       "0    https://ss.com/msg/lv/real-estate/flats/riga/c...   Tallinas 52    2   \n",
       "1    https://ss.com/msg/lv/real-estate/flats/riga/c...    Matīsa 89a    2   \n",
       "2    https://ss.com/msg/lv/real-estate/flats/riga/c...       Čaka 70    6   \n",
       "3    https://ss.com/msg/lv/real-estate/flats/riga/c...  Maskavas 108    2   \n",
       "6    https://ss.com/msg/lv/real-estate/flats/riga/c...  Maiznīcas 10    4   \n",
       "..                                                 ...           ...  ...   \n",
       "653  https://ss.com/msg/lv/real-estate/flats/riga/c...   Baznīcas 45    3   \n",
       "655  https://ss.com/msg/lv/real-estate/flats/riga/c...   M. Matīsa 3    1   \n",
       "656  https://ss.com/msg/lv/real-estate/flats/riga/c...  Grostonas 25    3   \n",
       "657  https://ss.com/msg/lv/real-estate/flats/riga/c...   Eksporta 16    1   \n",
       "658  https://ss.com/msg/lv/real-estate/flats/riga/c...     Ausekļa 3    4   \n",
       "\n",
       "      m2  Stāvs   Sērija Cena, m2        Cena Floor  MaxFloor   price  floor  \n",
       "0     59    4/5  P. kara  2,364 €  139,500  €     4         5  139500      4  \n",
       "1     41    3/5  P. kara  1,902 €   78,000  €     3         5   78000      3  \n",
       "2    180    3/6  P. kara  1,389 €  250,000  €     3         6  250000      3  \n",
       "3     50    6/6  P. kara  1,700 €   85,000  €     6         6   85000      6  \n",
       "6    105    3/5  P. kara  2,076 €  218,000  €     3         5  218000      3  \n",
       "..   ...    ...      ...      ...         ...   ...       ...     ...    ...  \n",
       "653   84    4/6  P. kara  2,083 €  175,000  €     4         6  175000      4  \n",
       "655   29    4/5  P. kara  1,103 €   32,000  €     4         5   32000      4  \n",
       "656   99  18/24    Jaun.  3,475 €  344,000  €    18        24  344000     18  \n",
       "657   31    3/5   Hrušč.  1,645 €   51,000  €     3         5   51000      3  \n",
       "658  108    5/5  P. kara  2,407 €  260,000  €     5         5  260000      5  \n",
       "\n",
       "[375 rows x 13 columns]"
      ]
     },
     "execution_count": 93,
     "metadata": {},
     "output_type": "execute_result"
    }
   ],
   "source": [
    "df[df.floor > 2]"
   ]
  },
  {
   "cell_type": "code",
   "execution_count": 94,
   "metadata": {},
   "outputs": [
    {
     "data": {
      "text/html": [
       "<div>\n",
       "<style scoped>\n",
       "    .dataframe tbody tr th:only-of-type {\n",
       "        vertical-align: middle;\n",
       "    }\n",
       "\n",
       "    .dataframe tbody tr th {\n",
       "        vertical-align: top;\n",
       "    }\n",
       "\n",
       "    .dataframe thead th {\n",
       "        text-align: right;\n",
       "    }\n",
       "</style>\n",
       "<table border=\"1\" class=\"dataframe\">\n",
       "  <thead>\n",
       "    <tr style=\"text-align: right;\">\n",
       "      <th></th>\n",
       "      <th>description</th>\n",
       "      <th>url</th>\n",
       "      <th>Iela</th>\n",
       "      <th>Ist.</th>\n",
       "      <th>m2</th>\n",
       "      <th>Stāvs</th>\n",
       "      <th>Sērija</th>\n",
       "      <th>Cena, m2</th>\n",
       "      <th>Cena</th>\n",
       "      <th>Floor</th>\n",
       "      <th>MaxFloor</th>\n",
       "      <th>price</th>\n",
       "      <th>floor</th>\n",
       "    </tr>\n",
       "  </thead>\n",
       "  <tbody>\n",
       "    <tr>\n",
       "      <th>473</th>\n",
       "      <td>Прекрасная просторная и качественная трехкомна...</td>\n",
       "      <td>https://ss.com/msg/lv/real-estate/flats/riga/c...</td>\n",
       "      <td>J. Daliņa 8</td>\n",
       "      <td>3</td>\n",
       "      <td>125</td>\n",
       "      <td>3/24</td>\n",
       "      <td>Jaun.</td>\n",
       "      <td>1,744 €</td>\n",
       "      <td>218,000  €</td>\n",
       "      <td>3</td>\n",
       "      <td>24</td>\n",
       "      <td>218000</td>\n",
       "      <td>3</td>\n",
       "    </tr>\n",
       "    <tr>\n",
       "      <th>656</th>\n",
       "      <td>Brīnišķīgs plašs un kvalitatīvs trīsistabu dzī...</td>\n",
       "      <td>https://ss.com/msg/lv/real-estate/flats/riga/c...</td>\n",
       "      <td>Grostonas 25</td>\n",
       "      <td>3</td>\n",
       "      <td>99</td>\n",
       "      <td>18/24</td>\n",
       "      <td>Jaun.</td>\n",
       "      <td>3,475 €</td>\n",
       "      <td>344,000  €</td>\n",
       "      <td>18</td>\n",
       "      <td>24</td>\n",
       "      <td>344000</td>\n",
       "      <td>18</td>\n",
       "    </tr>\n",
       "    <tr>\n",
       "      <th>89</th>\n",
       "      <td>Unikāls īpašums pilsētvides, lieliska skata un...</td>\n",
       "      <td>https://ss.com/msg/lv/real-estate/flats/riga/c...</td>\n",
       "      <td>J. Daliņa 8</td>\n",
       "      <td>3</td>\n",
       "      <td>137</td>\n",
       "      <td>18/24</td>\n",
       "      <td>Jaun.</td>\n",
       "      <td>2,956 €</td>\n",
       "      <td>405,000  €</td>\n",
       "      <td>18</td>\n",
       "      <td>24</td>\n",
       "      <td>405000</td>\n",
       "      <td>18</td>\n",
       "    </tr>\n",
       "    <tr>\n",
       "      <th>647</th>\n",
       "      <td>Augstvērtīgs 5 istabu dzīvoklis ar divām autos...</td>\n",
       "      <td>https://ss.com/msg/lv/real-estate/flats/riga/c...</td>\n",
       "      <td>J. Daliņa 8</td>\n",
       "      <td>5</td>\n",
       "      <td>200</td>\n",
       "      <td>20/24</td>\n",
       "      <td>Jaun.</td>\n",
       "      <td>3,000 €</td>\n",
       "      <td>600,000  €</td>\n",
       "      <td>20</td>\n",
       "      <td>24</td>\n",
       "      <td>600000</td>\n",
       "      <td>20</td>\n",
       "    </tr>\n",
       "    <tr>\n",
       "      <th>260</th>\n",
       "      <td>Квартира по индивидуальной планировке(изменени...</td>\n",
       "      <td>https://ss.com/msg/lv/real-estate/flats/riga/c...</td>\n",
       "      <td>J. Daliņa 8</td>\n",
       "      <td>4</td>\n",
       "      <td>130</td>\n",
       "      <td>15/24</td>\n",
       "      <td>Jaun.</td>\n",
       "      <td>2,846 €</td>\n",
       "      <td>370,000  €</td>\n",
       "      <td>15</td>\n",
       "      <td>24</td>\n",
       "      <td>370000</td>\n",
       "      <td>15</td>\n",
       "    </tr>\n",
       "  </tbody>\n",
       "</table>\n",
       "</div>"
      ],
      "text/plain": [
       "                                           description  \\\n",
       "473  Прекрасная просторная и качественная трехкомна...   \n",
       "656  Brīnišķīgs plašs un kvalitatīvs trīsistabu dzī...   \n",
       "89   Unikāls īpašums pilsētvides, lieliska skata un...   \n",
       "647  Augstvērtīgs 5 istabu dzīvoklis ar divām autos...   \n",
       "260  Квартира по индивидуальной планировке(изменени...   \n",
       "\n",
       "                                                   url          Iela Ist.  \\\n",
       "473  https://ss.com/msg/lv/real-estate/flats/riga/c...   J. Daliņa 8    3   \n",
       "656  https://ss.com/msg/lv/real-estate/flats/riga/c...  Grostonas 25    3   \n",
       "89   https://ss.com/msg/lv/real-estate/flats/riga/c...   J. Daliņa 8    3   \n",
       "647  https://ss.com/msg/lv/real-estate/flats/riga/c...   J. Daliņa 8    5   \n",
       "260  https://ss.com/msg/lv/real-estate/flats/riga/c...   J. Daliņa 8    4   \n",
       "\n",
       "      m2  Stāvs Sērija Cena, m2        Cena Floor  MaxFloor   price  floor  \n",
       "473  125   3/24  Jaun.  1,744 €  218,000  €     3        24  218000      3  \n",
       "656   99  18/24  Jaun.  3,475 €  344,000  €    18        24  344000     18  \n",
       "89   137  18/24  Jaun.  2,956 €  405,000  €    18        24  405000     18  \n",
       "647  200  20/24  Jaun.  3,000 €  600,000  €    20        24  600000     20  \n",
       "260  130  15/24  Jaun.  2,846 €  370,000  €    15        24  370000     15  "
      ]
     },
     "execution_count": 94,
     "metadata": {},
     "output_type": "execute_result"
    }
   ],
   "source": [
    "df.sort_values(by=\"MaxFloor\",ascending=False).head()"
   ]
  },
  {
   "cell_type": "code",
   "execution_count": 95,
   "metadata": {},
   "outputs": [
    {
     "data": {
      "text/html": [
       "<div>\n",
       "<style scoped>\n",
       "    .dataframe tbody tr th:only-of-type {\n",
       "        vertical-align: middle;\n",
       "    }\n",
       "\n",
       "    .dataframe tbody tr th {\n",
       "        vertical-align: top;\n",
       "    }\n",
       "\n",
       "    .dataframe thead th {\n",
       "        text-align: right;\n",
       "    }\n",
       "</style>\n",
       "<table border=\"1\" class=\"dataframe\">\n",
       "  <thead>\n",
       "    <tr style=\"text-align: right;\">\n",
       "      <th></th>\n",
       "      <th>description</th>\n",
       "      <th>url</th>\n",
       "      <th>Pagasts</th>\n",
       "      <th>m2</th>\n",
       "      <th>Stāvi</th>\n",
       "      <th>Zem. pl.</th>\n",
       "      <th>Cena</th>\n",
       "      <th>price</th>\n",
       "      <th>floor</th>\n",
       "    </tr>\n",
       "  </thead>\n",
       "  <tbody>\n",
       "    <tr>\n",
       "      <th>0</th>\n",
       "      <td>Pārdošanā plaša un mājīga divu stāvu māja ļoti...</td>\n",
       "      <td>https://ss.com/msg/lv/real-estate/homes-summer...</td>\n",
       "      <td>Sigulda</td>\n",
       "      <td>480</td>\n",
       "      <td>3</td>\n",
       "      <td>1928 m²</td>\n",
       "      <td>250,000  €</td>\n",
       "      <td>250000</td>\n",
       "      <td>3</td>\n",
       "    </tr>\n",
       "    <tr>\n",
       "      <th>1</th>\n",
       "      <td>Tiek pārdota omulīga privātmāja Gaujā. Ir veik...</td>\n",
       "      <td>https://ss.com/msg/lv/real-estate/homes-summer...</td>\n",
       "      <td>Carnikavas nov.Gauja</td>\n",
       "      <td>210</td>\n",
       "      <td>2</td>\n",
       "      <td>1000 m²</td>\n",
       "      <td>160,000  €</td>\n",
       "      <td>160000</td>\n",
       "      <td>2</td>\n",
       "    </tr>\n",
       "    <tr>\n",
       "      <th>2</th>\n",
       "      <td>Pārdodu zemes gabala domājamo daļu 750 kv. m. ...</td>\n",
       "      <td>https://ss.com/msg/lv/real-estate/homes-summer...</td>\n",
       "      <td>Mārupes pag.Mārupe</td>\n",
       "      <td>203</td>\n",
       "      <td>2</td>\n",
       "      <td>750 m²</td>\n",
       "      <td>135,000  €</td>\n",
       "      <td>135000</td>\n",
       "      <td>2</td>\n",
       "    </tr>\n",
       "    <tr>\n",
       "      <th>3</th>\n",
       "      <td>Kārtīgi celta māja ar sakoptu dārzu un siltumn...</td>\n",
       "      <td>https://ss.com/msg/lv/real-estate/homes-summer...</td>\n",
       "      <td>Saulkrasti</td>\n",
       "      <td>85</td>\n",
       "      <td>2</td>\n",
       "      <td>580 m²</td>\n",
       "      <td>46,800  €</td>\n",
       "      <td>46800</td>\n",
       "      <td>2</td>\n",
       "    </tr>\n",
       "    <tr>\n",
       "      <th>4</th>\n",
       "      <td>Pārdod māju Katlakalnā. Māja atrodas lieliskā ...</td>\n",
       "      <td>https://ss.com/msg/lv/real-estate/homes-summer...</td>\n",
       "      <td>Ķekavas pag.Katlakalns</td>\n",
       "      <td>278</td>\n",
       "      <td>2</td>\n",
       "      <td>1200 m²</td>\n",
       "      <td>265,000  €</td>\n",
       "      <td>265000</td>\n",
       "      <td>2</td>\n",
       "    </tr>\n",
       "  </tbody>\n",
       "</table>\n",
       "</div>"
      ],
      "text/plain": [
       "                                         description  \\\n",
       "0  Pārdošanā plaša un mājīga divu stāvu māja ļoti...   \n",
       "1  Tiek pārdota omulīga privātmāja Gaujā. Ir veik...   \n",
       "2  Pārdodu zemes gabala domājamo daļu 750 kv. m. ...   \n",
       "3  Kārtīgi celta māja ar sakoptu dārzu un siltumn...   \n",
       "4  Pārdod māju Katlakalnā. Māja atrodas lieliskā ...   \n",
       "\n",
       "                                                 url                 Pagasts  \\\n",
       "0  https://ss.com/msg/lv/real-estate/homes-summer...                 Sigulda   \n",
       "1  https://ss.com/msg/lv/real-estate/homes-summer...    Carnikavas nov.Gauja   \n",
       "2  https://ss.com/msg/lv/real-estate/homes-summer...      Mārupes pag.Mārupe   \n",
       "3  https://ss.com/msg/lv/real-estate/homes-summer...              Saulkrasti   \n",
       "4  https://ss.com/msg/lv/real-estate/homes-summer...  Ķekavas pag.Katlakalns   \n",
       "\n",
       "    m2 Stāvi Zem. pl.        Cena   price  floor  \n",
       "0  480     3  1928 m²  250,000  €  250000      3  \n",
       "1  210     2  1000 m²  160,000  €  160000      2  \n",
       "2  203     2   750 m²  135,000  €  135000      2  \n",
       "3   85     2   580 m²   46,800  €   46800      2  \n",
       "4  278     2  1200 m²  265,000  €  265000      2  "
      ]
     },
     "execution_count": 95,
     "metadata": {},
     "output_type": "execute_result"
    }
   ],
   "source": [
    "df.head()"
   ]
  },
  {
   "cell_type": "code",
   "execution_count": 95,
   "metadata": {},
   "outputs": [
    {
     "data": {
      "text/plain": [
       "Index(['description', 'url', 'Iela', 'Ist.', 'm2', 'Stāvs', 'Sērija',\n",
       "       'Cena, m2', 'Cena', 'Floor', 'MaxFloor', 'price', 'floor'],\n",
       "      dtype='object')"
      ]
     },
     "execution_count": 95,
     "metadata": {},
     "output_type": "execute_result"
    }
   ],
   "source": [
    "df.columns"
   ]
  },
  {
   "cell_type": "code",
   "execution_count": 96,
   "metadata": {},
   "outputs": [
    {
     "data": {
      "text/html": [
       "<div>\n",
       "<style scoped>\n",
       "    .dataframe tbody tr th:only-of-type {\n",
       "        vertical-align: middle;\n",
       "    }\n",
       "\n",
       "    .dataframe tbody tr th {\n",
       "        vertical-align: top;\n",
       "    }\n",
       "\n",
       "    .dataframe thead th {\n",
       "        text-align: right;\n",
       "    }\n",
       "</style>\n",
       "<table border=\"1\" class=\"dataframe\">\n",
       "  <thead>\n",
       "    <tr style=\"text-align: right;\">\n",
       "      <th></th>\n",
       "      <th>count</th>\n",
       "      <th>min</th>\n",
       "      <th>max</th>\n",
       "      <th>mean</th>\n",
       "    </tr>\n",
       "    <tr>\n",
       "      <th>Iela</th>\n",
       "      <th></th>\n",
       "      <th></th>\n",
       "      <th></th>\n",
       "      <th></th>\n",
       "    </tr>\n",
       "  </thead>\n",
       "  <tbody>\n",
       "    <tr>\n",
       "      <th>13. janvāra 21</th>\n",
       "      <td>1</td>\n",
       "      <td>195000</td>\n",
       "      <td>195000</td>\n",
       "      <td>195000.0</td>\n",
       "    </tr>\n",
       "    <tr>\n",
       "      <th>Alauksta 12</th>\n",
       "      <td>1</td>\n",
       "      <td>34900</td>\n",
       "      <td>34900</td>\n",
       "      <td>34900.0</td>\n",
       "    </tr>\n",
       "    <tr>\n",
       "      <th>Alauksta 9</th>\n",
       "      <td>1</td>\n",
       "      <td>149500</td>\n",
       "      <td>149500</td>\n",
       "      <td>149500.0</td>\n",
       "    </tr>\n",
       "    <tr>\n",
       "      <th>Alunāna 6</th>\n",
       "      <td>1</td>\n",
       "      <td>320000</td>\n",
       "      <td>320000</td>\n",
       "      <td>320000.0</td>\n",
       "    </tr>\n",
       "    <tr>\n",
       "      <th>Alūksnes 3</th>\n",
       "      <td>1</td>\n",
       "      <td>197000</td>\n",
       "      <td>197000</td>\n",
       "      <td>197000.0</td>\n",
       "    </tr>\n",
       "    <tr>\n",
       "      <th>...</th>\n",
       "      <td>...</td>\n",
       "      <td>...</td>\n",
       "      <td>...</td>\n",
       "      <td>...</td>\n",
       "    </tr>\n",
       "    <tr>\n",
       "      <th>Ģertrūdes 78</th>\n",
       "      <td>1</td>\n",
       "      <td>105000</td>\n",
       "      <td>105000</td>\n",
       "      <td>105000.0</td>\n",
       "    </tr>\n",
       "    <tr>\n",
       "      <th>Ģertrūdes 9</th>\n",
       "      <td>1</td>\n",
       "      <td>565000</td>\n",
       "      <td>565000</td>\n",
       "      <td>565000.0</td>\n",
       "    </tr>\n",
       "    <tr>\n",
       "      <th>Ģertrūdes 91</th>\n",
       "      <td>1</td>\n",
       "      <td>25000</td>\n",
       "      <td>25000</td>\n",
       "      <td>25000.0</td>\n",
       "    </tr>\n",
       "    <tr>\n",
       "      <th>Ģertrūdes 99</th>\n",
       "      <td>1</td>\n",
       "      <td>55000</td>\n",
       "      <td>55000</td>\n",
       "      <td>55000.0</td>\n",
       "    </tr>\n",
       "    <tr>\n",
       "      <th>Ģertrūdes 99 k-2</th>\n",
       "      <td>1</td>\n",
       "      <td>45579</td>\n",
       "      <td>45579</td>\n",
       "      <td>45579.0</td>\n",
       "    </tr>\n",
       "  </tbody>\n",
       "</table>\n",
       "<p>435 rows × 4 columns</p>\n",
       "</div>"
      ],
      "text/plain": [
       "                  count     min     max      mean\n",
       "Iela                                             \n",
       "13. janvāra 21        1  195000  195000  195000.0\n",
       "Alauksta 12           1   34900   34900   34900.0\n",
       "Alauksta 9            1  149500  149500  149500.0\n",
       "Alunāna 6             1  320000  320000  320000.0\n",
       "Alūksnes 3            1  197000  197000  197000.0\n",
       "...                 ...     ...     ...       ...\n",
       "Ģertrūdes 78          1  105000  105000  105000.0\n",
       "Ģertrūdes 9           1  565000  565000  565000.0\n",
       "Ģertrūdes 91          1   25000   25000   25000.0\n",
       "Ģertrūdes 99          1   55000   55000   55000.0\n",
       "Ģertrūdes 99 k-2      1   45579   45579   45579.0\n",
       "\n",
       "[435 rows x 4 columns]"
      ]
     },
     "execution_count": 96,
     "metadata": {},
     "output_type": "execute_result"
    }
   ],
   "source": [
    "grouped_by_street = df.groupby(by=\"Iela\")['price'].agg([\"count\", \"min\", \"max\", \"mean\", ])\n",
    "grouped_by_street"
   ]
  },
  {
   "cell_type": "code",
   "execution_count": 97,
   "metadata": {},
   "outputs": [
    {
     "data": {
      "text/html": [
       "<div>\n",
       "<style scoped>\n",
       "    .dataframe tbody tr th:only-of-type {\n",
       "        vertical-align: middle;\n",
       "    }\n",
       "\n",
       "    .dataframe tbody tr th {\n",
       "        vertical-align: top;\n",
       "    }\n",
       "\n",
       "    .dataframe thead th {\n",
       "        text-align: right;\n",
       "    }\n",
       "</style>\n",
       "<table border=\"1\" class=\"dataframe\">\n",
       "  <thead>\n",
       "    <tr style=\"text-align: right;\">\n",
       "      <th></th>\n",
       "      <th>count</th>\n",
       "      <th>min</th>\n",
       "      <th>max</th>\n",
       "      <th>mean</th>\n",
       "    </tr>\n",
       "    <tr>\n",
       "      <th>floor</th>\n",
       "      <th></th>\n",
       "      <th></th>\n",
       "      <th></th>\n",
       "      <th></th>\n",
       "    </tr>\n",
       "  </thead>\n",
       "  <tbody>\n",
       "    <tr>\n",
       "      <th>1</th>\n",
       "      <td>120</td>\n",
       "      <td>19000</td>\n",
       "      <td>369000</td>\n",
       "      <td>106966.058333</td>\n",
       "    </tr>\n",
       "    <tr>\n",
       "      <th>2</th>\n",
       "      <td>165</td>\n",
       "      <td>11890</td>\n",
       "      <td>1475000</td>\n",
       "      <td>177266.551515</td>\n",
       "    </tr>\n",
       "    <tr>\n",
       "      <th>3</th>\n",
       "      <td>126</td>\n",
       "      <td>27500</td>\n",
       "      <td>463000</td>\n",
       "      <td>154161.753968</td>\n",
       "    </tr>\n",
       "    <tr>\n",
       "      <th>4</th>\n",
       "      <td>77</td>\n",
       "      <td>32000</td>\n",
       "      <td>724800</td>\n",
       "      <td>196743.103896</td>\n",
       "    </tr>\n",
       "    <tr>\n",
       "      <th>5</th>\n",
       "      <td>95</td>\n",
       "      <td>25000</td>\n",
       "      <td>439000</td>\n",
       "      <td>159828.547368</td>\n",
       "    </tr>\n",
       "    <tr>\n",
       "      <th>6</th>\n",
       "      <td>59</td>\n",
       "      <td>36000</td>\n",
       "      <td>802880</td>\n",
       "      <td>209719.610169</td>\n",
       "    </tr>\n",
       "    <tr>\n",
       "      <th>7</th>\n",
       "      <td>6</td>\n",
       "      <td>67000</td>\n",
       "      <td>595000</td>\n",
       "      <td>239783.333333</td>\n",
       "    </tr>\n",
       "    <tr>\n",
       "      <th>8</th>\n",
       "      <td>2</td>\n",
       "      <td>99000</td>\n",
       "      <td>99000</td>\n",
       "      <td>99000.000000</td>\n",
       "    </tr>\n",
       "    <tr>\n",
       "      <th>10</th>\n",
       "      <td>2</td>\n",
       "      <td>135000</td>\n",
       "      <td>142300</td>\n",
       "      <td>138650.000000</td>\n",
       "    </tr>\n",
       "    <tr>\n",
       "      <th>11</th>\n",
       "      <td>1</td>\n",
       "      <td>92000</td>\n",
       "      <td>92000</td>\n",
       "      <td>92000.000000</td>\n",
       "    </tr>\n",
       "    <tr>\n",
       "      <th>12</th>\n",
       "      <td>1</td>\n",
       "      <td>129700</td>\n",
       "      <td>129700</td>\n",
       "      <td>129700.000000</td>\n",
       "    </tr>\n",
       "    <tr>\n",
       "      <th>15</th>\n",
       "      <td>2</td>\n",
       "      <td>370000</td>\n",
       "      <td>420390</td>\n",
       "      <td>395195.000000</td>\n",
       "    </tr>\n",
       "    <tr>\n",
       "      <th>18</th>\n",
       "      <td>2</td>\n",
       "      <td>344000</td>\n",
       "      <td>405000</td>\n",
       "      <td>374500.000000</td>\n",
       "    </tr>\n",
       "    <tr>\n",
       "      <th>19</th>\n",
       "      <td>1</td>\n",
       "      <td>480000</td>\n",
       "      <td>480000</td>\n",
       "      <td>480000.000000</td>\n",
       "    </tr>\n",
       "    <tr>\n",
       "      <th>20</th>\n",
       "      <td>1</td>\n",
       "      <td>600000</td>\n",
       "      <td>600000</td>\n",
       "      <td>600000.000000</td>\n",
       "    </tr>\n",
       "  </tbody>\n",
       "</table>\n",
       "</div>"
      ],
      "text/plain": [
       "       count     min      max           mean\n",
       "floor                                       \n",
       "1        120   19000   369000  106966.058333\n",
       "2        165   11890  1475000  177266.551515\n",
       "3        126   27500   463000  154161.753968\n",
       "4         77   32000   724800  196743.103896\n",
       "5         95   25000   439000  159828.547368\n",
       "6         59   36000   802880  209719.610169\n",
       "7          6   67000   595000  239783.333333\n",
       "8          2   99000    99000   99000.000000\n",
       "10         2  135000   142300  138650.000000\n",
       "11         1   92000    92000   92000.000000\n",
       "12         1  129700   129700  129700.000000\n",
       "15         2  370000   420390  395195.000000\n",
       "18         2  344000   405000  374500.000000\n",
       "19         1  480000   480000  480000.000000\n",
       "20         1  600000   600000  600000.000000"
      ]
     },
     "execution_count": 97,
     "metadata": {},
     "output_type": "execute_result"
    }
   ],
   "source": [
    "grouped_by_floor = df.groupby(by=\"floor\")['price'].agg([\"count\", \"min\", \"max\", \"mean\", ])\n",
    "grouped_by_floor"
   ]
  },
  {
   "cell_type": "code",
   "execution_count": 87,
   "metadata": {},
   "outputs": [
    {
     "data": {
      "text/plain": [
       "14"
      ]
     },
     "execution_count": 87,
     "metadata": {},
     "output_type": "execute_result"
    }
   ],
   "source": [
    "len(grouped_by_floor)"
   ]
  },
  {
   "cell_type": "code",
   "execution_count": 98,
   "metadata": {},
   "outputs": [
    {
     "data": {
      "text/plain": [
       "array([[<AxesSubplot:title={'center':'count'}>,\n",
       "        <AxesSubplot:title={'center':'min'}>],\n",
       "       [<AxesSubplot:title={'center':'max'}>,\n",
       "        <AxesSubplot:title={'center':'mean'}>]], dtype=object)"
      ]
     },
     "execution_count": 98,
     "metadata": {},
     "output_type": "execute_result"
    },
    {
     "data": {
      "image/png": "[encoded data removed]",
      "text/plain": [
       "<Figure size 432x288 with 4 Axes>"
      ]
     },
     "metadata": {
      "needs_background": "light"
     },
     "output_type": "display_data"
    }
   ],
   "source": [
    "grouped_by_floor.hist(bins=len(grouped_by_floor))"
   ]
  },
  {
   "cell_type": "code",
   "execution_count": 96,
   "metadata": {},
   "outputs": [
    {
     "data": {
      "text/html": [
       "<div>\n",
       "<style scoped>\n",
       "    .dataframe tbody tr th:only-of-type {\n",
       "        vertical-align: middle;\n",
       "    }\n",
       "\n",
       "    .dataframe tbody tr th {\n",
       "        vertical-align: top;\n",
       "    }\n",
       "\n",
       "    .dataframe thead th {\n",
       "        text-align: right;\n",
       "    }\n",
       "</style>\n",
       "<table border=\"1\" class=\"dataframe\">\n",
       "  <thead>\n",
       "    <tr style=\"text-align: right;\">\n",
       "      <th></th>\n",
       "      <th>count</th>\n",
       "      <th>min</th>\n",
       "      <th>max</th>\n",
       "      <th>mean</th>\n",
       "    </tr>\n",
       "    <tr>\n",
       "      <th>Pagasts</th>\n",
       "      <th></th>\n",
       "      <th></th>\n",
       "      <th></th>\n",
       "      <th></th>\n",
       "    </tr>\n",
       "  </thead>\n",
       "  <tbody>\n",
       "    <tr>\n",
       "      <th>-</th>\n",
       "      <td>1</td>\n",
       "      <td>144000</td>\n",
       "      <td>144000</td>\n",
       "      <td>144000.000000</td>\n",
       "    </tr>\n",
       "    <tr>\n",
       "      <th>Allažu pag.Allažmuiža</th>\n",
       "      <td>1</td>\n",
       "      <td>90000</td>\n",
       "      <td>90000</td>\n",
       "      <td>90000.000000</td>\n",
       "    </tr>\n",
       "    <tr>\n",
       "      <th>Allažu pag.Egļupe</th>\n",
       "      <td>1</td>\n",
       "      <td>18500</td>\n",
       "      <td>18500</td>\n",
       "      <td>18500.000000</td>\n",
       "    </tr>\n",
       "    <tr>\n",
       "      <th>Babītes pag.Babīte</th>\n",
       "      <td>3</td>\n",
       "      <td>140000</td>\n",
       "      <td>500000</td>\n",
       "      <td>330000.000000</td>\n",
       "    </tr>\n",
       "    <tr>\n",
       "      <th>Babītes pag.Brīvkalni</th>\n",
       "      <td>1</td>\n",
       "      <td>301000</td>\n",
       "      <td>301000</td>\n",
       "      <td>301000.000000</td>\n",
       "    </tr>\n",
       "    <tr>\n",
       "      <th>...</th>\n",
       "      <td>...</td>\n",
       "      <td>...</td>\n",
       "      <td>...</td>\n",
       "      <td>...</td>\n",
       "    </tr>\n",
       "    <tr>\n",
       "      <th>Ķekavas pag.Odukalns</th>\n",
       "      <td>2</td>\n",
       "      <td>134000</td>\n",
       "      <td>250000</td>\n",
       "      <td>192000.000000</td>\n",
       "    </tr>\n",
       "    <tr>\n",
       "      <th>Ķekavas pag.Plakanciems</th>\n",
       "      <td>2</td>\n",
       "      <td>35000</td>\n",
       "      <td>55000</td>\n",
       "      <td>45000.000000</td>\n",
       "    </tr>\n",
       "    <tr>\n",
       "      <th>Ķekavas pag.Rāmava</th>\n",
       "      <td>3</td>\n",
       "      <td>215000</td>\n",
       "      <td>300000</td>\n",
       "      <td>253333.333333</td>\n",
       "    </tr>\n",
       "    <tr>\n",
       "      <th>Ķekavas pag.Vimbukrogs</th>\n",
       "      <td>1</td>\n",
       "      <td>235000</td>\n",
       "      <td>235000</td>\n",
       "      <td>235000.000000</td>\n",
       "    </tr>\n",
       "    <tr>\n",
       "      <th>Ķekavas pag.Ķekava</th>\n",
       "      <td>5</td>\n",
       "      <td>69900</td>\n",
       "      <td>299000</td>\n",
       "      <td>207280.000000</td>\n",
       "    </tr>\n",
       "  </tbody>\n",
       "</table>\n",
       "<p>113 rows × 4 columns</p>\n",
       "</div>"
      ],
      "text/plain": [
       "                         count     min     max           mean\n",
       "Pagasts                                                      \n",
       "-                            1  144000  144000  144000.000000\n",
       "Allažu pag.Allažmuiža        1   90000   90000   90000.000000\n",
       "Allažu pag.Egļupe            1   18500   18500   18500.000000\n",
       "Babītes pag.Babīte           3  140000  500000  330000.000000\n",
       "Babītes pag.Brīvkalni        1  301000  301000  301000.000000\n",
       "...                        ...     ...     ...            ...\n",
       "Ķekavas pag.Odukalns         2  134000  250000  192000.000000\n",
       "Ķekavas pag.Plakanciems      2   35000   55000   45000.000000\n",
       "Ķekavas pag.Rāmava           3  215000  300000  253333.333333\n",
       "Ķekavas pag.Vimbukrogs       1  235000  235000  235000.000000\n",
       "Ķekavas pag.Ķekava           5   69900  299000  207280.000000\n",
       "\n",
       "[113 rows x 4 columns]"
      ]
     },
     "execution_count": 96,
     "metadata": {},
     "output_type": "execute_result"
    }
   ],
   "source": [
    "grouped_by_pag = df.groupby(by=\"Pagasts\")['price'].agg([\"count\", \"min\", \"max\", \"mean\", ])\n",
    "grouped_by_pag"
   ]
  },
  {
   "cell_type": "code",
   "execution_count": 100,
   "metadata": {},
   "outputs": [
    {
     "data": {
      "text/plain": [
       "array([[<matplotlib.axes._subplots.AxesSubplot object at 0x000001BD3AEB59A0>,\n",
       "        <matplotlib.axes._subplots.AxesSubplot object at 0x000001BD3AF0AE20>],\n",
       "       [<matplotlib.axes._subplots.AxesSubplot object at 0x000001BD3AF332B0>,\n",
       "        <matplotlib.axes._subplots.AxesSubplot object at 0x000001BD3AF4F700>]],\n",
       "      dtype=object)"
      ]
     },
     "execution_count": 100,
     "metadata": {},
     "output_type": "execute_result"
    },
    {
     "data": {
      "image/png": "[encoded data removed]",
      "text/plain": [
       "<Figure size 432x288 with 4 Axes>"
      ]
     },
     "metadata": {
      "needs_background": "light"
     },
     "output_type": "display_data"
    }
   ],
   "source": [
    "grouped_by_pag.hist()"
   ]
  },
  {
   "cell_type": "code",
   "execution_count": 101,
   "metadata": {},
   "outputs": [
    {
     "ename": "KeyError",
     "evalue": "'Pagasts'",
     "output_type": "error",
     "traceback": [
      "\u001b[1;31m---------------------------------------------------------------------------\u001b[0m",
      "\u001b[1;31mKeyError\u001b[0m                                  Traceback (most recent call last)",
      "\u001b[1;32m~\\anaconda3\\lib\\site-packages\\pandas\\core\\indexes\\base.py\u001b[0m in \u001b[0;36mget_loc\u001b[1;34m(self, key, method, tolerance)\u001b[0m\n\u001b[0;32m   2645\u001b[0m             \u001b[1;32mtry\u001b[0m\u001b[1;33m:\u001b[0m\u001b[1;33m\u001b[0m\u001b[1;33m\u001b[0m\u001b[0m\n\u001b[1;32m-> 2646\u001b[1;33m                 \u001b[1;32mreturn\u001b[0m \u001b[0mself\u001b[0m\u001b[1;33m.\u001b[0m\u001b[0m_engine\u001b[0m\u001b[1;33m.\u001b[0m\u001b[0mget_loc\u001b[0m\u001b[1;33m(\u001b[0m\u001b[0mkey\u001b[0m\u001b[1;33m)\u001b[0m\u001b[1;33m\u001b[0m\u001b[1;33m\u001b[0m\u001b[0m\n\u001b[0m\u001b[0;32m   2647\u001b[0m             \u001b[1;32mexcept\u001b[0m \u001b[0mKeyError\u001b[0m\u001b[1;33m:\u001b[0m\u001b[1;33m\u001b[0m\u001b[1;33m\u001b[0m\u001b[0m\n",
      "\u001b[1;32mpandas\\_libs\\index.pyx\u001b[0m in \u001b[0;36mpandas._libs.index.IndexEngine.get_loc\u001b[1;34m()\u001b[0m\n",
      "\u001b[1;32mpandas\\_libs\\index.pyx\u001b[0m in \u001b[0;36mpandas._libs.index.IndexEngine.get_loc\u001b[1;34m()\u001b[0m\n",
      "\u001b[1;32mpandas\\_libs\\hashtable_class_helper.pxi\u001b[0m in \u001b[0;36mpandas._libs.hashtable.PyObjectHashTable.get_item\u001b[1;34m()\u001b[0m\n",
      "\u001b[1;32mpandas\\_libs\\hashtable_class_helper.pxi\u001b[0m in \u001b[0;36mpandas._libs.hashtable.PyObjectHashTable.get_item\u001b[1;34m()\u001b[0m\n",
      "\u001b[1;31mKeyError\u001b[0m: 'Pagasts'",
      "\nDuring handling of the above exception, another exception occurred:\n",
      "\u001b[1;31mKeyError\u001b[0m                                  Traceback (most recent call last)",
      "\u001b[1;32m<ipython-input-101-0f8b4786a57f>\u001b[0m in \u001b[0;36m<module>\u001b[1;34m\u001b[0m\n\u001b[1;32m----> 1\u001b[1;33m \u001b[0mgrouped_by_pag\u001b[0m\u001b[1;33m.\u001b[0m\u001b[0mplot\u001b[0m\u001b[1;33m(\u001b[0m\u001b[0mx\u001b[0m\u001b[1;33m=\u001b[0m\u001b[1;34m\"Pagasts\"\u001b[0m\u001b[1;33m,\u001b[0m \u001b[0my\u001b[0m\u001b[1;33m=\u001b[0m\u001b[1;34m\"mean\"\u001b[0m\u001b[1;33m)\u001b[0m\u001b[1;33m\u001b[0m\u001b[1;33m\u001b[0m\u001b[0m\n\u001b[0m",
      "\u001b[1;32m~\\anaconda3\\lib\\site-packages\\pandas\\plotting\\_core.py\u001b[0m in \u001b[0;36m__call__\u001b[1;34m(self, *args, **kwargs)\u001b[0m\n\u001b[0;32m    810\u001b[0m                 \u001b[1;32mif\u001b[0m \u001b[0mis_integer\u001b[0m\u001b[1;33m(\u001b[0m\u001b[0mx\u001b[0m\u001b[1;33m)\u001b[0m \u001b[1;32mand\u001b[0m \u001b[1;32mnot\u001b[0m \u001b[0mdata\u001b[0m\u001b[1;33m.\u001b[0m\u001b[0mcolumns\u001b[0m\u001b[1;33m.\u001b[0m\u001b[0mholds_integer\u001b[0m\u001b[1;33m(\u001b[0m\u001b[1;33m)\u001b[0m\u001b[1;33m:\u001b[0m\u001b[1;33m\u001b[0m\u001b[1;33m\u001b[0m\u001b[0m\n\u001b[0;32m    811\u001b[0m                     \u001b[0mx\u001b[0m \u001b[1;33m=\u001b[0m \u001b[0mdata_cols\u001b[0m\u001b[1;33m[\u001b[0m\u001b[0mx\u001b[0m\u001b[1;33m]\u001b[0m\u001b[1;33m\u001b[0m\u001b[1;33m\u001b[0m\u001b[0m\n\u001b[1;32m--> 812\u001b[1;33m                 \u001b[1;32melif\u001b[0m \u001b[1;32mnot\u001b[0m \u001b[0misinstance\u001b[0m\u001b[1;33m(\u001b[0m\u001b[0mdata\u001b[0m\u001b[1;33m[\u001b[0m\u001b[0mx\u001b[0m\u001b[1;33m]\u001b[0m\u001b[1;33m,\u001b[0m \u001b[0mABCSeries\u001b[0m\u001b[1;33m)\u001b[0m\u001b[1;33m:\u001b[0m\u001b[1;33m\u001b[0m\u001b[1;33m\u001b[0m\u001b[0m\n\u001b[0m\u001b[0;32m    813\u001b[0m                     \u001b[1;32mraise\u001b[0m \u001b[0mValueError\u001b[0m\u001b[1;33m(\u001b[0m\u001b[1;34m\"x must be a label or position\"\u001b[0m\u001b[1;33m)\u001b[0m\u001b[1;33m\u001b[0m\u001b[1;33m\u001b[0m\u001b[0m\n\u001b[0;32m    814\u001b[0m                 \u001b[0mdata\u001b[0m \u001b[1;33m=\u001b[0m \u001b[0mdata\u001b[0m\u001b[1;33m.\u001b[0m\u001b[0mset_index\u001b[0m\u001b[1;33m(\u001b[0m\u001b[0mx\u001b[0m\u001b[1;33m)\u001b[0m\u001b[1;33m\u001b[0m\u001b[1;33m\u001b[0m\u001b[0m\n",
      "\u001b[1;32m~\\anaconda3\\lib\\site-packages\\pandas\\core\\frame.py\u001b[0m in \u001b[0;36m__getitem__\u001b[1;34m(self, key)\u001b[0m\n\u001b[0;32m   2798\u001b[0m             \u001b[1;32mif\u001b[0m \u001b[0mself\u001b[0m\u001b[1;33m.\u001b[0m\u001b[0mcolumns\u001b[0m\u001b[1;33m.\u001b[0m\u001b[0mnlevels\u001b[0m \u001b[1;33m>\u001b[0m \u001b[1;36m1\u001b[0m\u001b[1;33m:\u001b[0m\u001b[1;33m\u001b[0m\u001b[1;33m\u001b[0m\u001b[0m\n\u001b[0;32m   2799\u001b[0m                 \u001b[1;32mreturn\u001b[0m \u001b[0mself\u001b[0m\u001b[1;33m.\u001b[0m\u001b[0m_getitem_multilevel\u001b[0m\u001b[1;33m(\u001b[0m\u001b[0mkey\u001b[0m\u001b[1;33m)\u001b[0m\u001b[1;33m\u001b[0m\u001b[1;33m\u001b[0m\u001b[0m\n\u001b[1;32m-> 2800\u001b[1;33m             \u001b[0mindexer\u001b[0m \u001b[1;33m=\u001b[0m \u001b[0mself\u001b[0m\u001b[1;33m.\u001b[0m\u001b[0mcolumns\u001b[0m\u001b[1;33m.\u001b[0m\u001b[0mget_loc\u001b[0m\u001b[1;33m(\u001b[0m\u001b[0mkey\u001b[0m\u001b[1;33m)\u001b[0m\u001b[1;33m\u001b[0m\u001b[1;33m\u001b[0m\u001b[0m\n\u001b[0m\u001b[0;32m   2801\u001b[0m             \u001b[1;32mif\u001b[0m \u001b[0mis_integer\u001b[0m\u001b[1;33m(\u001b[0m\u001b[0mindexer\u001b[0m\u001b[1;33m)\u001b[0m\u001b[1;33m:\u001b[0m\u001b[1;33m\u001b[0m\u001b[1;33m\u001b[0m\u001b[0m\n\u001b[0;32m   2802\u001b[0m                 \u001b[0mindexer\u001b[0m \u001b[1;33m=\u001b[0m \u001b[1;33m[\u001b[0m\u001b[0mindexer\u001b[0m\u001b[1;33m]\u001b[0m\u001b[1;33m\u001b[0m\u001b[1;33m\u001b[0m\u001b[0m\n",
      "\u001b[1;32m~\\anaconda3\\lib\\site-packages\\pandas\\core\\indexes\\base.py\u001b[0m in \u001b[0;36mget_loc\u001b[1;34m(self, key, method, tolerance)\u001b[0m\n\u001b[0;32m   2646\u001b[0m                 \u001b[1;32mreturn\u001b[0m \u001b[0mself\u001b[0m\u001b[1;33m.\u001b[0m\u001b[0m_engine\u001b[0m\u001b[1;33m.\u001b[0m\u001b[0mget_loc\u001b[0m\u001b[1;33m(\u001b[0m\u001b[0mkey\u001b[0m\u001b[1;33m)\u001b[0m\u001b[1;33m\u001b[0m\u001b[1;33m\u001b[0m\u001b[0m\n\u001b[0;32m   2647\u001b[0m             \u001b[1;32mexcept\u001b[0m \u001b[0mKeyError\u001b[0m\u001b[1;33m:\u001b[0m\u001b[1;33m\u001b[0m\u001b[1;33m\u001b[0m\u001b[0m\n\u001b[1;32m-> 2648\u001b[1;33m                 \u001b[1;32mreturn\u001b[0m \u001b[0mself\u001b[0m\u001b[1;33m.\u001b[0m\u001b[0m_engine\u001b[0m\u001b[1;33m.\u001b[0m\u001b[0mget_loc\u001b[0m\u001b[1;33m(\u001b[0m\u001b[0mself\u001b[0m\u001b[1;33m.\u001b[0m\u001b[0m_maybe_cast_indexer\u001b[0m\u001b[1;33m(\u001b[0m\u001b[0mkey\u001b[0m\u001b[1;33m)\u001b[0m\u001b[1;33m)\u001b[0m\u001b[1;33m\u001b[0m\u001b[1;33m\u001b[0m\u001b[0m\n\u001b[0m\u001b[0;32m   2649\u001b[0m         \u001b[0mindexer\u001b[0m \u001b[1;33m=\u001b[0m \u001b[0mself\u001b[0m\u001b[1;33m.\u001b[0m\u001b[0mget_indexer\u001b[0m\u001b[1;33m(\u001b[0m\u001b[1;33m[\u001b[0m\u001b[0mkey\u001b[0m\u001b[1;33m]\u001b[0m\u001b[1;33m,\u001b[0m \u001b[0mmethod\u001b[0m\u001b[1;33m=\u001b[0m\u001b[0mmethod\u001b[0m\u001b[1;33m,\u001b[0m \u001b[0mtolerance\u001b[0m\u001b[1;33m=\u001b[0m\u001b[0mtolerance\u001b[0m\u001b[1;33m)\u001b[0m\u001b[1;33m\u001b[0m\u001b[1;33m\u001b[0m\u001b[0m\n\u001b[0;32m   2650\u001b[0m         \u001b[1;32mif\u001b[0m \u001b[0mindexer\u001b[0m\u001b[1;33m.\u001b[0m\u001b[0mndim\u001b[0m \u001b[1;33m>\u001b[0m \u001b[1;36m1\u001b[0m \u001b[1;32mor\u001b[0m \u001b[0mindexer\u001b[0m\u001b[1;33m.\u001b[0m\u001b[0msize\u001b[0m \u001b[1;33m>\u001b[0m \u001b[1;36m1\u001b[0m\u001b[1;33m:\u001b[0m\u001b[1;33m\u001b[0m\u001b[1;33m\u001b[0m\u001b[0m\n",
      "\u001b[1;32mpandas\\_libs\\index.pyx\u001b[0m in \u001b[0;36mpandas._libs.index.IndexEngine.get_loc\u001b[1;34m()\u001b[0m\n",
      "\u001b[1;32mpandas\\_libs\\index.pyx\u001b[0m in \u001b[0;36mpandas._libs.index.IndexEngine.get_loc\u001b[1;34m()\u001b[0m\n",
      "\u001b[1;32mpandas\\_libs\\hashtable_class_helper.pxi\u001b[0m in \u001b[0;36mpandas._libs.hashtable.PyObjectHashTable.get_item\u001b[1;34m()\u001b[0m\n",
      "\u001b[1;32mpandas\\_libs\\hashtable_class_helper.pxi\u001b[0m in \u001b[0;36mpandas._libs.hashtable.PyObjectHashTable.get_item\u001b[1;34m()\u001b[0m\n",
      "\u001b[1;31mKeyError\u001b[0m: 'Pagasts'"
     ]
    }
   ],
   "source": [
    "grouped_by_pag.plot(x=\"Pagasts\", y=\"mean\")"
   ]
  },
  {
   "cell_type": "code",
   "execution_count": null,
   "metadata": {},
   "outputs": [],
   "source": [
    "df.to_excel(\"c:/temp/my_apartments.xlsx\") # i could this with absolute path"
   ]
  },
  {
   "cell_type": "code",
   "execution_count": null,
   "metadata": {},
   "outputs": [],
   "source": [
    "from datetime import datetime as dt\n",
    "now = dt.now()\n",
    "now.month, now.day, now.hour, now.second"
   ]
  },
  {
   "cell_type": "code",
   "execution_count": null,
   "metadata": {},
   "outputs": [],
   "source": [
    "# url = \"https://www.ss.com/lv/real-estate/flats/riga/sarkandaugava/hand_over/\"\n",
    "url = centrs\n",
    "region = url.split(\"riga/\")[-1].split(\"/\")[0]\n",
    "now = dt.now()\n",
    "save_path = f\"../data/{region}_{now.day}_{now.month}__{now.hour}_{now.second}.xlsx\"\n",
    "save_path"
   ]
  },
  {
   "cell_type": "code",
   "execution_count": null,
   "metadata": {},
   "outputs": [],
   "source": [
    "url = \"https://www.ss.com/lv/real-estate/flats/riga/sarkandaugava/hand_over/\"\n",
    "region = url.split(\"riga/\")[-1].split(\"/\")[0]\n",
    "now = dt.now()\n",
    "save_path = f\"../data/{region}_{now.day}_{now.month}__{now.hour}_{now.second}.xlsx\"\n",
    "\n",
    "df = get_all_ads_df(url, save_path)"
   ]
  },
  {
   "cell_type": "code",
   "execution_count": null,
   "metadata": {},
   "outputs": [],
   "source": [
    "url = \"https://www.ss.com/lv/transport/cars/vaz/riga_f/\"\n",
    "df = get_all_ads_df(url, \"../data/vaz_18_03.xlsx\")"
   ]
  },
  {
   "cell_type": "markdown",
   "metadata": {},
   "source": [
    "# TODO \n",
    "# Try with different starting address not only centrs\n",
    "## Maybe combine regions\n",
    "## See how it would work with maybe cars\n",
    "## Data engineering make new columns based on existing ones, clean some columns\n",
    "### Changing floors 2/6 to columns 2 and 6, clean up Euro signs\n",
    "## Sorting, Describing, Grouping by regions etc"
   ]
  },
  {
   "cell_type": "code",
   "execution_count": null,
   "metadata": {},
   "outputs": [],
   "source": [
    "df = pd.read_excel(\"centrs_10_03.xlsx\")\n",
    "df.head()"
   ]
  },
  {
   "cell_type": "code",
   "execution_count": 83,
   "metadata": {},
   "outputs": [
    {
     "data": {
      "text/plain": [
       "(630, 11)"
      ]
     },
     "execution_count": 83,
     "metadata": {},
     "output_type": "execute_result"
    }
   ],
   "source": [
    "df.shape"
   ]
  },
  {
   "cell_type": "code",
   "execution_count": 84,
   "metadata": {},
   "outputs": [
    {
     "data": {
      "text/html": [
       "<div>\n",
       "<style scoped>\n",
       "    .dataframe tbody tr th:only-of-type {\n",
       "        vertical-align: middle;\n",
       "    }\n",
       "\n",
       "    .dataframe tbody tr th {\n",
       "        vertical-align: top;\n",
       "    }\n",
       "\n",
       "    .dataframe thead th {\n",
       "        text-align: right;\n",
       "    }\n",
       "</style>\n",
       "<table border=\"1\" class=\"dataframe\">\n",
       "  <thead>\n",
       "    <tr style=\"text-align: right;\">\n",
       "      <th></th>\n",
       "      <th>description</th>\n",
       "      <th>url</th>\n",
       "      <th>Iela</th>\n",
       "      <th>Ist.</th>\n",
       "      <th>m2</th>\n",
       "      <th>Stāvs</th>\n",
       "      <th>Sērija</th>\n",
       "      <th>Cena, m2</th>\n",
       "      <th>Cena</th>\n",
       "      <th>Floor</th>\n",
       "      <th>MaxFloor</th>\n",
       "      <th>price</th>\n",
       "    </tr>\n",
       "  </thead>\n",
       "  <tbody>\n",
       "    <tr>\n",
       "      <th>0</th>\n",
       "      <td>Augstas kvalitātes Jūgendstila dizaina dzīvokl...</td>\n",
       "      <td>https://ss.com/msg/lv/real-estate/flats/riga/c...</td>\n",
       "      <td>Pulkv. Brieža 11</td>\n",
       "      <td>3</td>\n",
       "      <td>90</td>\n",
       "      <td>3/5</td>\n",
       "      <td>P. kara</td>\n",
       "      <td>2,889 €</td>\n",
       "      <td>260,000  €</td>\n",
       "      <td>3</td>\n",
       "      <td>5</td>\n",
       "      <td>260,000</td>\n",
       "    </tr>\n",
       "    <tr>\n",
       "      <th>1</th>\n",
       "      <td>Balkons, panorāmas skats. \\r\\nBrīnišķīgs, plaš...</td>\n",
       "      <td>https://ss.com/msg/lv/real-estate/flats/riga/c...</td>\n",
       "      <td>Baznīcas 13</td>\n",
       "      <td>3</td>\n",
       "      <td>126</td>\n",
       "      <td>5/6</td>\n",
       "      <td>P. kara</td>\n",
       "      <td>2,302 €</td>\n",
       "      <td>290,000  €</td>\n",
       "      <td>5</td>\n",
       "      <td>6</td>\n",
       "      <td>290,000</td>\n",
       "    </tr>\n",
       "    <tr>\n",
       "      <th>2</th>\n",
       "      <td>Par samazinātu cenu, ar apgrūtinājumiem, īpašn...</td>\n",
       "      <td>https://ss.com/msg/lv/real-estate/flats/riga/c...</td>\n",
       "      <td>Ganību d. 13</td>\n",
       "      <td>2</td>\n",
       "      <td>39</td>\n",
       "      <td>2/6</td>\n",
       "      <td>Jaun.</td>\n",
       "      <td>1,603 €</td>\n",
       "      <td>62,500  €</td>\n",
       "      <td>2</td>\n",
       "      <td>6</td>\n",
       "      <td>62,500</td>\n",
       "    </tr>\n",
       "    <tr>\n",
       "      <th>3</th>\n",
       "      <td>Продаю отремонтированную, полностью меблирован...</td>\n",
       "      <td>https://ss.com/msg/lv/real-estate/flats/riga/c...</td>\n",
       "      <td>Hospitāļu 7</td>\n",
       "      <td>3</td>\n",
       "      <td>69</td>\n",
       "      <td>1/5</td>\n",
       "      <td>Specpr.</td>\n",
       "      <td>1,348 €</td>\n",
       "      <td>93,000  €</td>\n",
       "      <td>1</td>\n",
       "      <td>5</td>\n",
       "      <td>93,000</td>\n",
       "    </tr>\n",
       "    <tr>\n",
       "      <th>4</th>\n",
       "      <td>Plašs, pārdomāts studijas tipa dzīvoklis Vecrī...</td>\n",
       "      <td>https://ss.com/msg/lv/real-estate/flats/riga/c...</td>\n",
       "      <td>Jēkaba 26/28</td>\n",
       "      <td>1</td>\n",
       "      <td>54</td>\n",
       "      <td>4/5</td>\n",
       "      <td>Renov.</td>\n",
       "      <td>1,667 €</td>\n",
       "      <td>90,000  €</td>\n",
       "      <td>4</td>\n",
       "      <td>5</td>\n",
       "      <td>90,000</td>\n",
       "    </tr>\n",
       "  </tbody>\n",
       "</table>\n",
       "</div>"
      ],
      "text/plain": [
       "                                         description  \\\n",
       "0  Augstas kvalitātes Jūgendstila dizaina dzīvokl...   \n",
       "1  Balkons, panorāmas skats. \\r\\nBrīnišķīgs, plaš...   \n",
       "2  Par samazinātu cenu, ar apgrūtinājumiem, īpašn...   \n",
       "3  Продаю отремонтированную, полностью меблирован...   \n",
       "4  Plašs, pārdomāts studijas tipa dzīvoklis Vecrī...   \n",
       "\n",
       "                                                 url              Iela Ist.  \\\n",
       "0  https://ss.com/msg/lv/real-estate/flats/riga/c...  Pulkv. Brieža 11    3   \n",
       "1  https://ss.com/msg/lv/real-estate/flats/riga/c...       Baznīcas 13    3   \n",
       "2  https://ss.com/msg/lv/real-estate/flats/riga/c...      Ganību d. 13    2   \n",
       "3  https://ss.com/msg/lv/real-estate/flats/riga/c...       Hospitāļu 7    3   \n",
       "4  https://ss.com/msg/lv/real-estate/flats/riga/c...      Jēkaba 26/28    1   \n",
       "\n",
       "    m2 Stāvs   Sērija Cena, m2        Cena Floor MaxFloor    price  \n",
       "0   90   3/5  P. kara  2,889 €  260,000  €     3        5  260,000  \n",
       "1  126   5/6  P. kara  2,302 €  290,000  €     5        6  290,000  \n",
       "2   39   2/6    Jaun.  1,603 €   62,500  €     2        6   62,500  \n",
       "3   69   1/5  Specpr.  1,348 €   93,000  €     1        5   93,000  \n",
       "4   54   4/5   Renov.  1,667 €   90,000  €     4        5   90,000  "
      ]
     },
     "execution_count": 84,
     "metadata": {},
     "output_type": "execute_result"
    }
   ],
   "source": [
    "df[\"price\"] = df.Cena.str.split(' ').str[0]\n",
    "df.head()"
   ]
  },
  {
   "cell_type": "code",
   "execution_count": 85,
   "metadata": {},
   "outputs": [
    {
     "data": {
      "text/html": [
       "<div>\n",
       "<style scoped>\n",
       "    .dataframe tbody tr th:only-of-type {\n",
       "        vertical-align: middle;\n",
       "    }\n",
       "\n",
       "    .dataframe tbody tr th {\n",
       "        vertical-align: top;\n",
       "    }\n",
       "\n",
       "    .dataframe thead th {\n",
       "        text-align: right;\n",
       "    }\n",
       "</style>\n",
       "<table border=\"1\" class=\"dataframe\">\n",
       "  <thead>\n",
       "    <tr style=\"text-align: right;\">\n",
       "      <th></th>\n",
       "      <th>description</th>\n",
       "      <th>url</th>\n",
       "      <th>Iela</th>\n",
       "      <th>Ist.</th>\n",
       "      <th>m2</th>\n",
       "      <th>Stāvs</th>\n",
       "      <th>Sērija</th>\n",
       "      <th>Cena, m2</th>\n",
       "      <th>Cena</th>\n",
       "      <th>Floor</th>\n",
       "      <th>MaxFloor</th>\n",
       "      <th>price</th>\n",
       "    </tr>\n",
       "  </thead>\n",
       "  <tbody>\n",
       "    <tr>\n",
       "      <th>0</th>\n",
       "      <td>Augstas kvalitātes Jūgendstila dizaina dzīvokl...</td>\n",
       "      <td>https://ss.com/msg/lv/real-estate/flats/riga/c...</td>\n",
       "      <td>Pulkv. Brieža 11</td>\n",
       "      <td>3</td>\n",
       "      <td>90</td>\n",
       "      <td>3/5</td>\n",
       "      <td>P. kara</td>\n",
       "      <td>2,889 €</td>\n",
       "      <td>260,000  €</td>\n",
       "      <td>3</td>\n",
       "      <td>5</td>\n",
       "      <td>260000</td>\n",
       "    </tr>\n",
       "    <tr>\n",
       "      <th>1</th>\n",
       "      <td>Balkons, panorāmas skats. \\r\\nBrīnišķīgs, plaš...</td>\n",
       "      <td>https://ss.com/msg/lv/real-estate/flats/riga/c...</td>\n",
       "      <td>Baznīcas 13</td>\n",
       "      <td>3</td>\n",
       "      <td>126</td>\n",
       "      <td>5/6</td>\n",
       "      <td>P. kara</td>\n",
       "      <td>2,302 €</td>\n",
       "      <td>290,000  €</td>\n",
       "      <td>5</td>\n",
       "      <td>6</td>\n",
       "      <td>290000</td>\n",
       "    </tr>\n",
       "    <tr>\n",
       "      <th>2</th>\n",
       "      <td>Par samazinātu cenu, ar apgrūtinājumiem, īpašn...</td>\n",
       "      <td>https://ss.com/msg/lv/real-estate/flats/riga/c...</td>\n",
       "      <td>Ganību d. 13</td>\n",
       "      <td>2</td>\n",
       "      <td>39</td>\n",
       "      <td>2/6</td>\n",
       "      <td>Jaun.</td>\n",
       "      <td>1,603 €</td>\n",
       "      <td>62,500  €</td>\n",
       "      <td>2</td>\n",
       "      <td>6</td>\n",
       "      <td>62500</td>\n",
       "    </tr>\n",
       "    <tr>\n",
       "      <th>3</th>\n",
       "      <td>Продаю отремонтированную, полностью меблирован...</td>\n",
       "      <td>https://ss.com/msg/lv/real-estate/flats/riga/c...</td>\n",
       "      <td>Hospitāļu 7</td>\n",
       "      <td>3</td>\n",
       "      <td>69</td>\n",
       "      <td>1/5</td>\n",
       "      <td>Specpr.</td>\n",
       "      <td>1,348 €</td>\n",
       "      <td>93,000  €</td>\n",
       "      <td>1</td>\n",
       "      <td>5</td>\n",
       "      <td>93000</td>\n",
       "    </tr>\n",
       "    <tr>\n",
       "      <th>4</th>\n",
       "      <td>Plašs, pārdomāts studijas tipa dzīvoklis Vecrī...</td>\n",
       "      <td>https://ss.com/msg/lv/real-estate/flats/riga/c...</td>\n",
       "      <td>Jēkaba 26/28</td>\n",
       "      <td>1</td>\n",
       "      <td>54</td>\n",
       "      <td>4/5</td>\n",
       "      <td>Renov.</td>\n",
       "      <td>1,667 €</td>\n",
       "      <td>90,000  €</td>\n",
       "      <td>4</td>\n",
       "      <td>5</td>\n",
       "      <td>90000</td>\n",
       "    </tr>\n",
       "  </tbody>\n",
       "</table>\n",
       "</div>"
      ],
      "text/plain": [
       "                                         description  \\\n",
       "0  Augstas kvalitātes Jūgendstila dizaina dzīvokl...   \n",
       "1  Balkons, panorāmas skats. \\r\\nBrīnišķīgs, plaš...   \n",
       "2  Par samazinātu cenu, ar apgrūtinājumiem, īpašn...   \n",
       "3  Продаю отремонтированную, полностью меблирован...   \n",
       "4  Plašs, pārdomāts studijas tipa dzīvoklis Vecrī...   \n",
       "\n",
       "                                                 url              Iela Ist.  \\\n",
       "0  https://ss.com/msg/lv/real-estate/flats/riga/c...  Pulkv. Brieža 11    3   \n",
       "1  https://ss.com/msg/lv/real-estate/flats/riga/c...       Baznīcas 13    3   \n",
       "2  https://ss.com/msg/lv/real-estate/flats/riga/c...      Ganību d. 13    2   \n",
       "3  https://ss.com/msg/lv/real-estate/flats/riga/c...       Hospitāļu 7    3   \n",
       "4  https://ss.com/msg/lv/real-estate/flats/riga/c...      Jēkaba 26/28    1   \n",
       "\n",
       "    m2 Stāvs   Sērija Cena, m2        Cena Floor MaxFloor   price  \n",
       "0   90   3/5  P. kara  2,889 €  260,000  €     3        5  260000  \n",
       "1  126   5/6  P. kara  2,302 €  290,000  €     5        6  290000  \n",
       "2   39   2/6    Jaun.  1,603 €   62,500  €     2        6   62500  \n",
       "3   69   1/5  Specpr.  1,348 €   93,000  €     1        5   93000  \n",
       "4   54   4/5   Renov.  1,667 €   90,000  €     4        5   90000  "
      ]
     },
     "execution_count": 85,
     "metadata": {},
     "output_type": "execute_result"
    }
   ],
   "source": [
    "df.price = df.price.str.replace(\",\",\"\").astype('int32') # so clean string of , and then convert to integer\n",
    "df.head()"
   ]
  },
  {
   "cell_type": "code",
   "execution_count": 86,
   "metadata": {},
   "outputs": [
    {
     "data": {
      "text/plain": [
       "<matplotlib.axes._subplots.AxesSubplot at 0x1a68d45ac10>"
      ]
     },
     "execution_count": 86,
     "metadata": {},
     "output_type": "execute_result"
    },
    {
     "data": {
      "image/png": "[encoded data removed]",
      "text/plain": [
       "<Figure size 432x288 with 1 Axes>"
      ]
     },
     "metadata": {
      "needs_background": "light"
     },
     "output_type": "display_data"
    }
   ],
   "source": [
    "df.price.hist()"
   ]
  },
  {
   "cell_type": "code",
   "execution_count": null,
   "metadata": {},
   "outputs": [],
   "source": [
    "df[['Floor','MaxFloor']] = df.Stāvs.str.split(\"/\",expand=True) \n",
    "df.info()"
   ]
  },
  {
   "cell_type": "code",
   "execution_count": 87,
   "metadata": {},
   "outputs": [],
   "source": [
    "#typecasting example\n",
    "df.Floor = df.Floor.astype('int32')\n",
    "df.MaxFloor = df.MaxFloor.astype('int32')"
   ]
  },
  {
   "cell_type": "code",
   "execution_count": 88,
   "metadata": {},
   "outputs": [
    {
     "data": {
      "text/html": [
       "<div>\n",
       "<style scoped>\n",
       "    .dataframe tbody tr th:only-of-type {\n",
       "        vertical-align: middle;\n",
       "    }\n",
       "\n",
       "    .dataframe tbody tr th {\n",
       "        vertical-align: top;\n",
       "    }\n",
       "\n",
       "    .dataframe thead th {\n",
       "        text-align: right;\n",
       "    }\n",
       "</style>\n",
       "<table border=\"1\" class=\"dataframe\">\n",
       "  <thead>\n",
       "    <tr style=\"text-align: right;\">\n",
       "      <th></th>\n",
       "      <th>description</th>\n",
       "      <th>url</th>\n",
       "      <th>Iela</th>\n",
       "      <th>Ist.</th>\n",
       "      <th>m2</th>\n",
       "      <th>Stāvs</th>\n",
       "      <th>Sērija</th>\n",
       "      <th>Cena, m2</th>\n",
       "      <th>Cena</th>\n",
       "      <th>Floor</th>\n",
       "      <th>MaxFloor</th>\n",
       "      <th>price</th>\n",
       "    </tr>\n",
       "  </thead>\n",
       "  <tbody>\n",
       "    <tr>\n",
       "      <th>0</th>\n",
       "      <td>Augstas kvalitātes Jūgendstila dizaina dzīvokl...</td>\n",
       "      <td>https://ss.com/msg/lv/real-estate/flats/riga/c...</td>\n",
       "      <td>Pulkv. Brieža 11</td>\n",
       "      <td>3</td>\n",
       "      <td>90</td>\n",
       "      <td>3/5</td>\n",
       "      <td>P. kara</td>\n",
       "      <td>2,889 €</td>\n",
       "      <td>260,000  €</td>\n",
       "      <td>3</td>\n",
       "      <td>5</td>\n",
       "      <td>260000</td>\n",
       "    </tr>\n",
       "    <tr>\n",
       "      <th>1</th>\n",
       "      <td>Balkons, panorāmas skats. \\r\\nBrīnišķīgs, plaš...</td>\n",
       "      <td>https://ss.com/msg/lv/real-estate/flats/riga/c...</td>\n",
       "      <td>Baznīcas 13</td>\n",
       "      <td>3</td>\n",
       "      <td>126</td>\n",
       "      <td>5/6</td>\n",
       "      <td>P. kara</td>\n",
       "      <td>2,302 €</td>\n",
       "      <td>290,000  €</td>\n",
       "      <td>5</td>\n",
       "      <td>6</td>\n",
       "      <td>290000</td>\n",
       "    </tr>\n",
       "    <tr>\n",
       "      <th>2</th>\n",
       "      <td>Par samazinātu cenu, ar apgrūtinājumiem, īpašn...</td>\n",
       "      <td>https://ss.com/msg/lv/real-estate/flats/riga/c...</td>\n",
       "      <td>Ganību d. 13</td>\n",
       "      <td>2</td>\n",
       "      <td>39</td>\n",
       "      <td>2/6</td>\n",
       "      <td>Jaun.</td>\n",
       "      <td>1,603 €</td>\n",
       "      <td>62,500  €</td>\n",
       "      <td>2</td>\n",
       "      <td>6</td>\n",
       "      <td>62500</td>\n",
       "    </tr>\n",
       "    <tr>\n",
       "      <th>3</th>\n",
       "      <td>Продаю отремонтированную, полностью меблирован...</td>\n",
       "      <td>https://ss.com/msg/lv/real-estate/flats/riga/c...</td>\n",
       "      <td>Hospitāļu 7</td>\n",
       "      <td>3</td>\n",
       "      <td>69</td>\n",
       "      <td>1/5</td>\n",
       "      <td>Specpr.</td>\n",
       "      <td>1,348 €</td>\n",
       "      <td>93,000  €</td>\n",
       "      <td>1</td>\n",
       "      <td>5</td>\n",
       "      <td>93000</td>\n",
       "    </tr>\n",
       "    <tr>\n",
       "      <th>4</th>\n",
       "      <td>Plašs, pārdomāts studijas tipa dzīvoklis Vecrī...</td>\n",
       "      <td>https://ss.com/msg/lv/real-estate/flats/riga/c...</td>\n",
       "      <td>Jēkaba 26/28</td>\n",
       "      <td>1</td>\n",
       "      <td>54</td>\n",
       "      <td>4/5</td>\n",
       "      <td>Renov.</td>\n",
       "      <td>1,667 €</td>\n",
       "      <td>90,000  €</td>\n",
       "      <td>4</td>\n",
       "      <td>5</td>\n",
       "      <td>90000</td>\n",
       "    </tr>\n",
       "  </tbody>\n",
       "</table>\n",
       "</div>"
      ],
      "text/plain": [
       "                                         description  \\\n",
       "0  Augstas kvalitātes Jūgendstila dizaina dzīvokl...   \n",
       "1  Balkons, panorāmas skats. \\r\\nBrīnišķīgs, plaš...   \n",
       "2  Par samazinātu cenu, ar apgrūtinājumiem, īpašn...   \n",
       "3  Продаю отремонтированную, полностью меблирован...   \n",
       "4  Plašs, pārdomāts studijas tipa dzīvoklis Vecrī...   \n",
       "\n",
       "                                                 url              Iela Ist.  \\\n",
       "0  https://ss.com/msg/lv/real-estate/flats/riga/c...  Pulkv. Brieža 11    3   \n",
       "1  https://ss.com/msg/lv/real-estate/flats/riga/c...       Baznīcas 13    3   \n",
       "2  https://ss.com/msg/lv/real-estate/flats/riga/c...      Ganību d. 13    2   \n",
       "3  https://ss.com/msg/lv/real-estate/flats/riga/c...       Hospitāļu 7    3   \n",
       "4  https://ss.com/msg/lv/real-estate/flats/riga/c...      Jēkaba 26/28    1   \n",
       "\n",
       "    m2 Stāvs   Sērija Cena, m2        Cena  Floor  MaxFloor   price  \n",
       "0   90   3/5  P. kara  2,889 €  260,000  €      3         5  260000  \n",
       "1  126   5/6  P. kara  2,302 €  290,000  €      5         6  290000  \n",
       "2   39   2/6    Jaun.  1,603 €   62,500  €      2         6   62500  \n",
       "3   69   1/5  Specpr.  1,348 €   93,000  €      1         5   93000  \n",
       "4   54   4/5   Renov.  1,667 €   90,000  €      4         5   90000  "
      ]
     },
     "execution_count": 88,
     "metadata": {},
     "output_type": "execute_result"
    }
   ],
   "source": [
    "df.head()"
   ]
  },
  {
   "cell_type": "code",
   "execution_count": 89,
   "metadata": {},
   "outputs": [
    {
     "data": {
      "text/html": [
       "<div>\n",
       "<style scoped>\n",
       "    .dataframe tbody tr th:only-of-type {\n",
       "        vertical-align: middle;\n",
       "    }\n",
       "\n",
       "    .dataframe tbody tr th {\n",
       "        vertical-align: top;\n",
       "    }\n",
       "\n",
       "    .dataframe thead th {\n",
       "        text-align: right;\n",
       "    }\n",
       "</style>\n",
       "<table border=\"1\" class=\"dataframe\">\n",
       "  <thead>\n",
       "    <tr style=\"text-align: right;\">\n",
       "      <th></th>\n",
       "      <th>description</th>\n",
       "      <th>url</th>\n",
       "      <th>Iela</th>\n",
       "      <th>Ist.</th>\n",
       "      <th>m2</th>\n",
       "      <th>Stāvs</th>\n",
       "      <th>Sērija</th>\n",
       "      <th>Cena, m2</th>\n",
       "      <th>Cena</th>\n",
       "      <th>Floor</th>\n",
       "      <th>MaxFloor</th>\n",
       "      <th>price</th>\n",
       "    </tr>\n",
       "  </thead>\n",
       "  <tbody>\n",
       "    <tr>\n",
       "      <th>26</th>\n",
       "      <td>Pārdodas plašs, ekskluzīvs dzīvoklis ar unikāl...</td>\n",
       "      <td>https://ss.com/msg/lv/real-estate/flats/riga/c...</td>\n",
       "      <td>J. Daliņa 8</td>\n",
       "      <td>3</td>\n",
       "      <td>167</td>\n",
       "      <td>20/22</td>\n",
       "      <td>Jaun.</td>\n",
       "      <td>4,491 €</td>\n",
       "      <td>750,000  €</td>\n",
       "      <td>20</td>\n",
       "      <td>22</td>\n",
       "      <td>750000</td>\n",
       "    </tr>\n",
       "    <tr>\n",
       "      <th>3</th>\n",
       "      <td>Divistabu dzīvoklis projektā “Skanstes virsotn...</td>\n",
       "      <td>https://ss.com/msg/lv/real-estate/flats/riga/c...</td>\n",
       "      <td>Skanstes 29</td>\n",
       "      <td>2</td>\n",
       "      <td>68</td>\n",
       "      <td>12/24</td>\n",
       "      <td>Jaun.</td>\n",
       "      <td>2,147 €</td>\n",
       "      <td>145,999  €</td>\n",
       "      <td>12</td>\n",
       "      <td>24</td>\n",
       "      <td>145999</td>\n",
       "    </tr>\n",
       "    <tr>\n",
       "      <th>29</th>\n",
       "      <td>Для ценителей просторного жилья, предлагается ...</td>\n",
       "      <td>https://ss.com/msg/lv/real-estate/flats/riga/c...</td>\n",
       "      <td>J. Daliņa 8</td>\n",
       "      <td>4</td>\n",
       "      <td>170</td>\n",
       "      <td>20/24</td>\n",
       "      <td>Jaun.</td>\n",
       "      <td>4,412 €</td>\n",
       "      <td>750,000  €</td>\n",
       "      <td>20</td>\n",
       "      <td>24</td>\n",
       "      <td>750000</td>\n",
       "    </tr>\n",
       "    <tr>\n",
       "      <th>25</th>\n",
       "      <td>Tiek pārdots gaišs un mājīgs 3 istabu dzīvokli...</td>\n",
       "      <td>https://ss.com/msg/lv/real-estate/flats/riga/c...</td>\n",
       "      <td>Grostonas 25</td>\n",
       "      <td>3</td>\n",
       "      <td>109</td>\n",
       "      <td>14/24</td>\n",
       "      <td>Jaun.</td>\n",
       "      <td>2,339 €</td>\n",
       "      <td>255,000  €</td>\n",
       "      <td>14</td>\n",
       "      <td>24</td>\n",
       "      <td>255000</td>\n",
       "    </tr>\n",
       "    <tr>\n",
       "      <th>12</th>\n",
       "      <td>Īpašnieks pārdod siltu, gaišu un plašu dzīvokl...</td>\n",
       "      <td>https://ss.com/msg/lv/real-estate/flats/riga/c...</td>\n",
       "      <td>J. Daliņa 8</td>\n",
       "      <td>4</td>\n",
       "      <td>130</td>\n",
       "      <td>15/24</td>\n",
       "      <td>Jaun.</td>\n",
       "      <td>2,692 €</td>\n",
       "      <td>350,000  €</td>\n",
       "      <td>15</td>\n",
       "      <td>24</td>\n",
       "      <td>350000</td>\n",
       "    </tr>\n",
       "    <tr>\n",
       "      <th>20</th>\n",
       "      <td>Tiek pārdots gaišs un mājīgs 3 istabu dzīvokli...</td>\n",
       "      <td>https://ss.com/msg/lv/real-estate/flats/riga/c...</td>\n",
       "      <td>Grostonas 25</td>\n",
       "      <td>3</td>\n",
       "      <td>109</td>\n",
       "      <td>14/24</td>\n",
       "      <td>Jaun.</td>\n",
       "      <td>2,477 €</td>\n",
       "      <td>270,000  €</td>\n",
       "      <td>14</td>\n",
       "      <td>24</td>\n",
       "      <td>270000</td>\n",
       "    </tr>\n",
       "    <tr>\n",
       "      <th>8</th>\n",
       "      <td>Ideālais dzīvoklis Tev un tavai ģimenei. Mūsdi...</td>\n",
       "      <td>https://ss.com/msg/lv/real-estate/flats/riga/c...</td>\n",
       "      <td>Grostonas 25</td>\n",
       "      <td>4</td>\n",
       "      <td>112</td>\n",
       "      <td>11/23</td>\n",
       "      <td>Jaun.</td>\n",
       "      <td>2,850 €</td>\n",
       "      <td>319,200  €</td>\n",
       "      <td>11</td>\n",
       "      <td>23</td>\n",
       "      <td>319200</td>\n",
       "    </tr>\n",
       "    <tr>\n",
       "      <th>6</th>\n",
       "      <td>Pārdod plašu 4 istabu dzīvokli Skankstes kvart...</td>\n",
       "      <td>https://ss.com/msg/lv/real-estate/flats/riga/c...</td>\n",
       "      <td>Grostonas 25</td>\n",
       "      <td>4</td>\n",
       "      <td>112</td>\n",
       "      <td>11/23</td>\n",
       "      <td>Jaun.</td>\n",
       "      <td>2,850 €</td>\n",
       "      <td>319,200  €</td>\n",
       "      <td>11</td>\n",
       "      <td>23</td>\n",
       "      <td>319200</td>\n",
       "    </tr>\n",
       "  </tbody>\n",
       "</table>\n",
       "</div>"
      ],
      "text/plain": [
       "                                          description  \\\n",
       "26  Pārdodas plašs, ekskluzīvs dzīvoklis ar unikāl...   \n",
       "3   Divistabu dzīvoklis projektā “Skanstes virsotn...   \n",
       "29  Для ценителей просторного жилья, предлагается ...   \n",
       "25  Tiek pārdots gaišs un mājīgs 3 istabu dzīvokli...   \n",
       "12  Īpašnieks pārdod siltu, gaišu un plašu dzīvokl...   \n",
       "20  Tiek pārdots gaišs un mājīgs 3 istabu dzīvokli...   \n",
       "8   Ideālais dzīvoklis Tev un tavai ģimenei. Mūsdi...   \n",
       "6   Pārdod plašu 4 istabu dzīvokli Skankstes kvart...   \n",
       "\n",
       "                                                  url          Iela Ist.   m2  \\\n",
       "26  https://ss.com/msg/lv/real-estate/flats/riga/c...   J. Daliņa 8    3  167   \n",
       "3   https://ss.com/msg/lv/real-estate/flats/riga/c...   Skanstes 29    2   68   \n",
       "29  https://ss.com/msg/lv/real-estate/flats/riga/c...   J. Daliņa 8    4  170   \n",
       "25  https://ss.com/msg/lv/real-estate/flats/riga/c...  Grostonas 25    3  109   \n",
       "12  https://ss.com/msg/lv/real-estate/flats/riga/c...   J. Daliņa 8    4  130   \n",
       "20  https://ss.com/msg/lv/real-estate/flats/riga/c...  Grostonas 25    3  109   \n",
       "8   https://ss.com/msg/lv/real-estate/flats/riga/c...  Grostonas 25    4  112   \n",
       "6   https://ss.com/msg/lv/real-estate/flats/riga/c...  Grostonas 25    4  112   \n",
       "\n",
       "    Stāvs Sērija Cena, m2        Cena  Floor  MaxFloor   price  \n",
       "26  20/22  Jaun.  4,491 €  750,000  €     20        22  750000  \n",
       "3   12/24  Jaun.  2,147 €  145,999  €     12        24  145999  \n",
       "29  20/24  Jaun.  4,412 €  750,000  €     20        24  750000  \n",
       "25  14/24  Jaun.  2,339 €  255,000  €     14        24  255000  \n",
       "12  15/24  Jaun.  2,692 €  350,000  €     15        24  350000  \n",
       "20  14/24  Jaun.  2,477 €  270,000  €     14        24  270000  \n",
       "8   11/23  Jaun.  2,850 €  319,200  €     11        23  319200  \n",
       "6   11/23  Jaun.  2,850 €  319,200  €     11        23  319200  "
      ]
     },
     "execution_count": 89,
     "metadata": {},
     "output_type": "execute_result"
    }
   ],
   "source": [
    "d23 = df[df.MaxFloor > 20]\n",
    "d23"
   ]
  },
  {
   "cell_type": "code",
   "execution_count": 90,
   "metadata": {},
   "outputs": [
    {
     "data": {
      "text/html": [
       "<div>\n",
       "<style scoped>\n",
       "    .dataframe tbody tr th:only-of-type {\n",
       "        vertical-align: middle;\n",
       "    }\n",
       "\n",
       "    .dataframe tbody tr th {\n",
       "        vertical-align: top;\n",
       "    }\n",
       "\n",
       "    .dataframe thead th {\n",
       "        text-align: right;\n",
       "    }\n",
       "</style>\n",
       "<table border=\"1\" class=\"dataframe\">\n",
       "  <thead>\n",
       "    <tr style=\"text-align: right;\">\n",
       "      <th></th>\n",
       "      <th>count</th>\n",
       "      <th>mean</th>\n",
       "      <th>std</th>\n",
       "      <th>min</th>\n",
       "      <th>25%</th>\n",
       "      <th>50%</th>\n",
       "      <th>75%</th>\n",
       "      <th>max</th>\n",
       "    </tr>\n",
       "  </thead>\n",
       "  <tbody>\n",
       "    <tr>\n",
       "      <th>Floor</th>\n",
       "      <td>630.0</td>\n",
       "      <td>3.446032</td>\n",
       "      <td>2.242694</td>\n",
       "      <td>1.0</td>\n",
       "      <td>2.0</td>\n",
       "      <td>3.0</td>\n",
       "      <td>5.0</td>\n",
       "      <td>20.0</td>\n",
       "    </tr>\n",
       "    <tr>\n",
       "      <th>MaxFloor</th>\n",
       "      <td>630.0</td>\n",
       "      <td>5.688889</td>\n",
       "      <td>2.505645</td>\n",
       "      <td>1.0</td>\n",
       "      <td>5.0</td>\n",
       "      <td>5.0</td>\n",
       "      <td>6.0</td>\n",
       "      <td>24.0</td>\n",
       "    </tr>\n",
       "    <tr>\n",
       "      <th>price</th>\n",
       "      <td>630.0</td>\n",
       "      <td>167000.236508</td>\n",
       "      <td>150570.766354</td>\n",
       "      <td>8701.0</td>\n",
       "      <td>78000.0</td>\n",
       "      <td>135000.0</td>\n",
       "      <td>219810.0</td>\n",
       "      <td>2500000.0</td>\n",
       "    </tr>\n",
       "  </tbody>\n",
       "</table>\n",
       "</div>"
      ],
      "text/plain": [
       "          count           mean            std     min      25%       50%  \\\n",
       "Floor     630.0       3.446032       2.242694     1.0      2.0       3.0   \n",
       "MaxFloor  630.0       5.688889       2.505645     1.0      5.0       5.0   \n",
       "price     630.0  167000.236508  150570.766354  8701.0  78000.0  135000.0   \n",
       "\n",
       "               75%        max  \n",
       "Floor          5.0       20.0  \n",
       "MaxFloor       6.0       24.0  \n",
       "price     219810.0  2500000.0  "
      ]
     },
     "execution_count": 90,
     "metadata": {},
     "output_type": "execute_result"
    }
   ],
   "source": [
    "df.describe().T # T is for transposing rows and columns"
   ]
  },
  {
   "cell_type": "code",
   "execution_count": 91,
   "metadata": {},
   "outputs": [],
   "source": [
    "df.describe().T.to_csv(\"center_stats.csv\")"
   ]
  },
  {
   "cell_type": "code",
   "execution_count": 102,
   "metadata": {},
   "outputs": [],
   "source": [
    "import plotly.express as px"
   ]
  },
  {
   "cell_type": "code",
   "execution_count": 105,
   "metadata": {},
   "outputs": [
    {
     "data": {
      "application/vnd.plotly.v1+json": {
       "config": {
        "plotlyServerURL": "https://plot.ly"
       },
       "data": [
        {
         "alignmentgroup": "True",
         "bingroup": "x",
         "hovertemplate": "price=%{x}<br>count=%{y}<extra></extra>",
         "legendgroup": "",
         "marker": {
          "color": "#636efa"
         },
         "name": "",
         "nbinsx": 100,
         "offsetgroup": "",
         "orientation": "v",
         "showlegend": false,
         "type": "histogram",
         "x": [
          250000,
          160000,
          135000,
          46800,
          265000,
          349000,
          315000,
          490000,
          300000,
          230000,
          235000,
          212000,
          212000,
          330000,
          365000,
          15000,
          245000,
          190000,
          197000,
          25000,
          489000,
          64000,
          24000,
          224900,
          480000,
          58000,
          205000,
          45000,
          245000,
          64800,
          115000,
          280000,
          90000,
          155000,
          100000,
          225000,
          225000,
          179000,
          40000,
          107000,
          210000,
          278000,
          25900,
          42000,
          14000,
          300000,
          133500,
          160000,
          130000,
          85000,
          100000,
          48000,
          90000,
          250000,
          215000,
          59000,
          247000,
          181000,
          216000,
          207000,
          350000,
          55000,
          118000,
          19000,
          167500,
          191000,
          24999,
          285000,
          31000,
          23000,
          210000,
          167000,
          189000,
          175000,
          95000,
          245000,
          292000,
          222000,
          69999,
          30000,
          370000,
          80000,
          124000,
          295000,
          175000,
          198000,
          73000,
          51000,
          170000,
          96000,
          599000,
          40000,
          64000,
          22666,
          144000,
          49000,
          106000,
          165000,
          103000,
          129000,
          129000,
          122000,
          64900,
          125900,
          209500,
          115000,
          7500,
          195000,
          167000,
          55000,
          169000,
          60000,
          290000,
          238000,
          20000,
          31000,
          250000,
          42000,
          430000,
          23500,
          295000,
          360000,
          154000,
          255000,
          100000,
          420000,
          11000,
          185000,
          140000,
          38000,
          346000,
          23000,
          1499000,
          42000,
          210000,
          143000,
          195000,
          65000,
          35000,
          29000,
          1499000,
          248000,
          250000,
          70000,
          190000,
          144800,
          315000,
          139000,
          18500,
          105000,
          390000,
          59000,
          220000,
          35000,
          47000,
          165000,
          140000,
          210000,
          43000,
          11900,
          210000,
          319000,
          270000,
          239000,
          239000,
          315000,
          60000,
          210000,
          240000,
          184000,
          159000,
          22500,
          18500,
          300000,
          129000,
          80000,
          143000,
          52000,
          285000,
          225000,
          225500,
          379900,
          88000,
          275000,
          68000,
          299000,
          107000,
          134000,
          75000,
          16800,
          70000,
          216000,
          185000,
          140000,
          395000,
          130000,
          301000,
          31500,
          70000,
          200000,
          22900,
          490000,
          60000,
          254000,
          390000,
          395000,
          210000,
          42000,
          219000,
          295000,
          18888,
          165000,
          390000,
          195000,
          62000,
          179000,
          390000,
          189000,
          255000,
          70000,
          31000,
          110000,
          36000,
          175000,
          239000,
          470000,
          89000,
          40000,
          217000,
          39000,
          250000,
          299000,
          300000,
          11900,
          30000,
          320000,
          24500,
          45000,
          300000,
          300000,
          39000,
          285000,
          245000,
          99000,
          135000,
          98000,
          255000,
          285000,
          275000,
          295000,
          38000,
          301000,
          56000,
          30000,
          52000,
          350000,
          25450,
          66000,
          86850,
          216000,
          650000,
          138000,
          77000,
          199900,
          269000,
          17000,
          220000,
          14000,
          90000,
          124000,
          45000,
          250000,
          220000,
          950000,
          285000,
          315000,
          295000,
          67600,
          35000,
          170000,
          250000,
          76000,
          207000,
          28000,
          207000,
          248500,
          58500,
          22500,
          50000,
          575000,
          350000,
          349440,
          174000,
          187000,
          175000,
          420000,
          79999,
          34900,
          900000,
          460000,
          189000,
          51000,
          69900,
          290000,
          45000,
          169000,
          15000,
          30000,
          20000,
          320000,
          235000,
          100000,
          250000,
          290000,
          209000,
          70000,
          350000,
          299000,
          285000,
          115000,
          32000,
          280000,
          220000,
          352000,
          79000,
          298000,
          285000,
          130000,
          170000,
          47000,
          130000,
          150000,
          67000,
          30000,
          285000,
          250000,
          167000,
          120000,
          205000,
          264000,
          129000,
          65000,
          27000,
          49900,
          12750,
          238000,
          219500,
          17500,
          124000,
          80000,
          19800,
          79000,
          81000,
          225000,
          850000,
          35000,
          55000,
          310000,
          32000,
          177000,
          230000,
          96000,
          29000,
          139900,
          345000,
          600000,
          550000,
          310000,
          25000,
          28500,
          460000,
          450000,
          120000,
          212000,
          265000,
          253000,
          139000,
          176000,
          12340,
          100000,
          145000,
          250000,
          198000,
          169000,
          239900,
          45000,
          185000,
          235000,
          58000,
          235000,
          199000,
          87000,
          59900,
          48500,
          365000,
          160000,
          90000,
          210000,
          195000,
          330000,
          175000,
          68000,
          30000,
          60000,
          500000,
          198000,
          514800,
          220000,
          82000,
          285000,
          298000,
          92300,
          10500,
          38000,
          190000,
          80000,
          108000,
          250000,
          300000,
          250000,
          50000,
          89000,
          555000,
          188000,
          275000,
          250000,
          248000,
          92000,
          41500,
          96000,
          290000,
          220000,
          22499,
          280000,
          37000,
          105000,
          127000,
          280000,
          117000,
          239800,
          475000,
          236000,
          214000,
          140000,
          169000,
          395000,
          35000,
          225000,
          430000,
          225000,
          48000,
          350000,
          29000,
          18500,
          365000,
          59000,
          239000,
          245000,
          210000,
          80000,
          12500,
          20000,
          138000,
          39600,
          345000,
          96000,
          98000,
          50000,
          349900,
          270000,
          125000,
          69500,
          320000,
          185000,
          35000,
          26000,
          185000,
          46000,
          215000,
          265000,
          16000,
          40000,
          26000,
          395000,
          420000,
          35000,
          32000,
          235000,
          90000,
          230000,
          230000,
          550000,
          550000,
          690000,
          90000,
          220000,
          36000,
          239000,
          78000,
          261700,
          390000,
          28000,
          440000,
          77000,
          35000,
          290000
         ],
         "xaxis": "x",
         "yaxis": "y"
        }
       ],
       "layout": {
        "barmode": "relative",
        "legend": {
         "tracegroupgap": 0
        },
        "margin": {
         "t": 60
        },
        "template": {
         "data": {
          "bar": [
           {
            "error_x": {
             "color": "#2a3f5f"
            },
            "error_y": {
             "color": "#2a3f5f"
            },
            "marker": {
             "line": {
              "color": "#E5ECF6",
              "width": 0.5
             }
            },
            "type": "bar"
           }
          ],
          "barpolar": [
           {
            "marker": {
             "line": {
              "color": "#E5ECF6",
              "width": 0.5
             }
            },
            "type": "barpolar"
           }
          ],
          "carpet": [
           {
            "aaxis": {
             "endlinecolor": "#2a3f5f",
             "gridcolor": "white",
             "linecolor": "white",
             "minorgridcolor": "white",
             "startlinecolor": "#2a3f5f"
            },
            "baxis": {
             "endlinecolor": "#2a3f5f",
             "gridcolor": "white",
             "linecolor": "white",
             "minorgridcolor": "white",
             "startlinecolor": "#2a3f5f"
            },
            "type": "carpet"
           }
          ],
          "choropleth": [
           {
            "colorbar": {
             "outlinewidth": 0,
             "ticks": ""
            },
            "type": "choropleth"
           }
          ],
          "contour": [
           {
            "colorbar": {
             "outlinewidth": 0,
             "ticks": ""
            },
            "colorscale": [
             [
              0,
              "#0d0887"
             ],
             [
              0.1111111111111111,
              "#46039f"
             ],
             [
              0.2222222222222222,
              "#7201a8"
             ],
             [
              0.3333333333333333,
              "#9c179e"
             ],
             [
              0.4444444444444444,
              "#bd3786"
             ],
             [
              0.5555555555555556,
              "#d8576b"
             ],
             [
              0.6666666666666666,
              "#ed7953"
             ],
             [
              0.7777777777777778,
              "#fb9f3a"
             ],
             [
              0.8888888888888888,
              "#fdca26"
             ],
             [
              1,
              "#f0f921"
             ]
            ],
            "type": "contour"
           }
          ],
          "contourcarpet": [
           {
            "colorbar": {
             "outlinewidth": 0,
             "ticks": ""
            },
            "type": "contourcarpet"
           }
          ],
          "heatmap": [
           {
            "colorbar": {
             "outlinewidth": 0,
             "ticks": ""
            },
            "colorscale": [
             [
              0,
              "#0d0887"
             ],
             [
              0.1111111111111111,
              "#46039f"
             ],
             [
              0.2222222222222222,
              "#7201a8"
             ],
             [
              0.3333333333333333,
              "#9c179e"
             ],
             [
              0.4444444444444444,
              "#bd3786"
             ],
             [
              0.5555555555555556,
              "#d8576b"
             ],
             [
              0.6666666666666666,
              "#ed7953"
             ],
             [
              0.7777777777777778,
              "#fb9f3a"
             ],
             [
              0.8888888888888888,
              "#fdca26"
             ],
             [
              1,
              "#f0f921"
             ]
            ],
            "type": "heatmap"
           }
          ],
          "heatmapgl": [
           {
            "colorbar": {
             "outlinewidth": 0,
             "ticks": ""
            },
            "colorscale": [
             [
              0,
              "#0d0887"
             ],
             [
              0.1111111111111111,
              "#46039f"
             ],
             [
              0.2222222222222222,
              "#7201a8"
             ],
             [
              0.3333333333333333,
              "#9c179e"
             ],
             [
              0.4444444444444444,
              "#bd3786"
             ],
             [
              0.5555555555555556,
              "#d8576b"
             ],
             [
              0.6666666666666666,
              "#ed7953"
             ],
             [
              0.7777777777777778,
              "#fb9f3a"
             ],
             [
              0.8888888888888888,
              "#fdca26"
             ],
             [
              1,
              "#f0f921"
             ]
            ],
            "type": "heatmapgl"
           }
          ],
          "histogram": [
           {
            "marker": {
             "colorbar": {
              "outlinewidth": 0,
              "ticks": ""
             }
            },
            "type": "histogram"
           }
          ],
          "histogram2d": [
           {
            "colorbar": {
             "outlinewidth": 0,
             "ticks": ""
            },
            "colorscale": [
             [
              0,
              "#0d0887"
             ],
             [
              0.1111111111111111,
              "#46039f"
             ],
             [
              0.2222222222222222,
              "#7201a8"
             ],
             [
              0.3333333333333333,
              "#9c179e"
             ],
             [
              0.4444444444444444,
              "#bd3786"
             ],
             [
              0.5555555555555556,
              "#d8576b"
             ],
             [
              0.6666666666666666,
              "#ed7953"
             ],
             [
              0.7777777777777778,
              "#fb9f3a"
             ],
             [
              0.8888888888888888,
              "#fdca26"
             ],
             [
              1,
              "#f0f921"
             ]
            ],
            "type": "histogram2d"
           }
          ],
          "histogram2dcontour": [
           {
            "colorbar": {
             "outlinewidth": 0,
             "ticks": ""
            },
            "colorscale": [
             [
              0,
              "#0d0887"
             ],
             [
              0.1111111111111111,
              "#46039f"
             ],
             [
              0.2222222222222222,
              "#7201a8"
             ],
             [
              0.3333333333333333,
              "#9c179e"
             ],
             [
              0.4444444444444444,
              "#bd3786"
             ],
             [
              0.5555555555555556,
              "#d8576b"
             ],
             [
              0.6666666666666666,
              "#ed7953"
             ],
             [
              0.7777777777777778,
              "#fb9f3a"
             ],
             [
              0.8888888888888888,
              "#fdca26"
             ],
             [
              1,
              "#f0f921"
             ]
            ],
            "type": "histogram2dcontour"
           }
          ],
          "mesh3d": [
           {
            "colorbar": {
             "outlinewidth": 0,
             "ticks": ""
            },
            "type": "mesh3d"
           }
          ],
          "parcoords": [
           {
            "line": {
             "colorbar": {
              "outlinewidth": 0,
              "ticks": ""
             }
            },
            "type": "parcoords"
           }
          ],
          "pie": [
           {
            "automargin": true,
            "type": "pie"
           }
          ],
          "scatter": [
           {
            "marker": {
             "colorbar": {
              "outlinewidth": 0,
              "ticks": ""
             }
            },
            "type": "scatter"
           }
          ],
          "scatter3d": [
           {
            "line": {
             "colorbar": {
              "outlinewidth": 0,
              "ticks": ""
             }
            },
            "marker": {
             "colorbar": {
              "outlinewidth": 0,
              "ticks": ""
             }
            },
            "type": "scatter3d"
           }
          ],
          "scattercarpet": [
           {
            "marker": {
             "colorbar": {
              "outlinewidth": 0,
              "ticks": ""
             }
            },
            "type": "scattercarpet"
           }
          ],
          "scattergeo": [
           {
            "marker": {
             "colorbar": {
              "outlinewidth": 0,
              "ticks": ""
             }
            },
            "type": "scattergeo"
           }
          ],
          "scattergl": [
           {
            "marker": {
             "colorbar": {
              "outlinewidth": 0,
              "ticks": ""
             }
            },
            "type": "scattergl"
           }
          ],
          "scattermapbox": [
           {
            "marker": {
             "colorbar": {
              "outlinewidth": 0,
              "ticks": ""
             }
            },
            "type": "scattermapbox"
           }
          ],
          "scatterpolar": [
           {
            "marker": {
             "colorbar": {
              "outlinewidth": 0,
              "ticks": ""
             }
            },
            "type": "scatterpolar"
           }
          ],
          "scatterpolargl": [
           {
            "marker": {
             "colorbar": {
              "outlinewidth": 0,
              "ticks": ""
             }
            },
            "type": "scatterpolargl"
           }
          ],
          "scatterternary": [
           {
            "marker": {
             "colorbar": {
              "outlinewidth": 0,
              "ticks": ""
             }
            },
            "type": "scatterternary"
           }
          ],
          "surface": [
           {
            "colorbar": {
             "outlinewidth": 0,
             "ticks": ""
            },
            "colorscale": [
             [
              0,
              "#0d0887"
             ],
             [
              0.1111111111111111,
              "#46039f"
             ],
             [
              0.2222222222222222,
              "#7201a8"
             ],
             [
              0.3333333333333333,
              "#9c179e"
             ],
             [
              0.4444444444444444,
              "#bd3786"
             ],
             [
              0.5555555555555556,
              "#d8576b"
             ],
             [
              0.6666666666666666,
              "#ed7953"
             ],
             [
              0.7777777777777778,
              "#fb9f3a"
             ],
             [
              0.8888888888888888,
              "#fdca26"
             ],
             [
              1,
              "#f0f921"
             ]
            ],
            "type": "surface"
           }
          ],
          "table": [
           {
            "cells": {
             "fill": {
              "color": "#EBF0F8"
             },
             "line": {
              "color": "white"
             }
            },
            "header": {
             "fill": {
              "color": "#C8D4E3"
             },
             "line": {
              "color": "white"
             }
            },
            "type": "table"
           }
          ]
         },
         "layout": {
          "annotationdefaults": {
           "arrowcolor": "#2a3f5f",
           "arrowhead": 0,
           "arrowwidth": 1
          },
          "autotypenumbers": "strict",
          "coloraxis": {
           "colorbar": {
            "outlinewidth": 0,
            "ticks": ""
           }
          },
          "colorscale": {
           "diverging": [
            [
             0,
             "#8e0152"
            ],
            [
             0.1,
             "#c51b7d"
            ],
            [
             0.2,
             "#de77ae"
            ],
            [
             0.3,
             "#f1b6da"
            ],
            [
             0.4,
             "#fde0ef"
            ],
            [
             0.5,
             "#f7f7f7"
            ],
            [
             0.6,
             "#e6f5d0"
            ],
            [
             0.7,
             "#b8e186"
            ],
            [
             0.8,
             "#7fbc41"
            ],
            [
             0.9,
             "#4d9221"
            ],
            [
             1,
             "#276419"
            ]
           ],
           "sequential": [
            [
             0,
             "#0d0887"
            ],
            [
             0.1111111111111111,
             "#46039f"
            ],
            [
             0.2222222222222222,
             "#7201a8"
            ],
            [
             0.3333333333333333,
             "#9c179e"
            ],
            [
             0.4444444444444444,
             "#bd3786"
            ],
            [
             0.5555555555555556,
             "#d8576b"
            ],
            [
             0.6666666666666666,
             "#ed7953"
            ],
            [
             0.7777777777777778,
             "#fb9f3a"
            ],
            [
             0.8888888888888888,
             "#fdca26"
            ],
            [
             1,
             "#f0f921"
            ]
           ],
           "sequentialminus": [
            [
             0,
             "#0d0887"
            ],
            [
             0.1111111111111111,
             "#46039f"
            ],
            [
             0.2222222222222222,
             "#7201a8"
            ],
            [
             0.3333333333333333,
             "#9c179e"
            ],
            [
             0.4444444444444444,
             "#bd3786"
            ],
            [
             0.5555555555555556,
             "#d8576b"
            ],
            [
             0.6666666666666666,
             "#ed7953"
            ],
            [
             0.7777777777777778,
             "#fb9f3a"
            ],
            [
             0.8888888888888888,
             "#fdca26"
            ],
            [
             1,
             "#f0f921"
            ]
           ]
          },
          "colorway": [
           "#636efa",
           "#EF553B",
           "#00cc96",
           "#ab63fa",
           "#FFA15A",
           "#19d3f3",
           "#FF6692",
           "#B6E880",
           "#FF97FF",
           "#FECB52"
          ],
          "font": {
           "color": "#2a3f5f"
          },
          "geo": {
           "bgcolor": "white",
           "lakecolor": "white",
           "landcolor": "#E5ECF6",
           "showlakes": true,
           "showland": true,
           "subunitcolor": "white"
          },
          "hoverlabel": {
           "align": "left"
          },
          "hovermode": "closest",
          "mapbox": {
           "style": "light"
          },
          "paper_bgcolor": "white",
          "plot_bgcolor": "#E5ECF6",
          "polar": {
           "angularaxis": {
            "gridcolor": "white",
            "linecolor": "white",
            "ticks": ""
           },
           "bgcolor": "#E5ECF6",
           "radialaxis": {
            "gridcolor": "white",
            "linecolor": "white",
            "ticks": ""
           }
          },
          "scene": {
           "xaxis": {
            "backgroundcolor": "#E5ECF6",
            "gridcolor": "white",
            "gridwidth": 2,
            "linecolor": "white",
            "showbackground": true,
            "ticks": "",
            "zerolinecolor": "white"
           },
           "yaxis": {
            "backgroundcolor": "#E5ECF6",
            "gridcolor": "white",
            "gridwidth": 2,
            "linecolor": "white",
            "showbackground": true,
            "ticks": "",
            "zerolinecolor": "white"
           },
           "zaxis": {
            "backgroundcolor": "#E5ECF6",
            "gridcolor": "white",
            "gridwidth": 2,
            "linecolor": "white",
            "showbackground": true,
            "ticks": "",
            "zerolinecolor": "white"
           }
          },
          "shapedefaults": {
           "line": {
            "color": "#2a3f5f"
           }
          },
          "ternary": {
           "aaxis": {
            "gridcolor": "white",
            "linecolor": "white",
            "ticks": ""
           },
           "baxis": {
            "gridcolor": "white",
            "linecolor": "white",
            "ticks": ""
           },
           "bgcolor": "#E5ECF6",
           "caxis": {
            "gridcolor": "white",
            "linecolor": "white",
            "ticks": ""
           }
          },
          "title": {
           "x": 0.05
          },
          "xaxis": {
           "automargin": true,
           "gridcolor": "white",
           "linecolor": "white",
           "ticks": "",
           "title": {
            "standoff": 15
           },
           "zerolinecolor": "white",
           "zerolinewidth": 2
          },
          "yaxis": {
           "automargin": true,
           "gridcolor": "white",
           "linecolor": "white",
           "ticks": "",
           "title": {
            "standoff": 15
           },
           "zerolinecolor": "white",
           "zerolinewidth": 2
          }
         }
        },
        "xaxis": {
         "anchor": "y",
         "domain": [
          0,
          1
         ],
         "title": {
          "text": "price"
         }
        },
        "yaxis": {
         "anchor": "x",
         "domain": [
          0,
          1
         ],
         "title": {
          "text": "count"
         }
        }
       }
      },
      "text/html": [
       "<div>                            <div id=\"04e346f2-f3aa-4ad1-9609-09648f092514\" class=\"plotly-graph-div\" style=\"height:525px; width:100%;\"></div>            <script type=\"text/javascript\">                require([\"plotly\"], function(Plotly) {                    window.PLOTLYENV=window.PLOTLYENV || {};                                    if (document.getElementById(\"04e346f2-f3aa-4ad1-9609-09648f092514\")) {                    Plotly.newPlot(                        \"04e346f2-f3aa-4ad1-9609-09648f092514\",                        [{\"alignmentgroup\": \"True\", \"bingroup\": \"x\", \"hovertemplate\": \"price=%{x}<br>count=%{y}<extra></extra>\", \"legendgroup\": \"\", \"marker\": {\"color\": \"#636efa\"}, \"name\": \"\", \"nbinsx\": 100, \"offsetgroup\": \"\", \"orientation\": \"v\", \"showlegend\": false, \"type\": \"histogram\", \"x\": [250000, 160000, 135000, 46800, 265000, 349000, 315000, 490000, 300000, 230000, 235000, 212000, 212000, 330000, 365000, 15000, 245000, 190000, 197000, 25000, 489000, 64000, 24000, 224900, 480000, 58000, 205000, 45000, 245000, 64800, 115000, 280000, 90000, 155000, 100000, 225000, 225000, 179000, 40000, 107000, 210000, 278000, 25900, 42000, 14000, 300000, 133500, 160000, 130000, 85000, 100000, 48000, 90000, 250000, 215000, 59000, 247000, 181000, 216000, 207000, 350000, 55000, 118000, 19000, 167500, 191000, 24999, 285000, 31000, 23000, 210000, 167000, 189000, 175000, 95000, 245000, 292000, 222000, 69999, 30000, 370000, 80000, 124000, 295000, 175000, 198000, 73000, 51000, 170000, 96000, 599000, 40000, 64000, 22666, 144000, 49000, 106000, 165000, 103000, 129000, 129000, 122000, 64900, 125900, 209500, 115000, 7500, 195000, 167000, 55000, 169000, 60000, 290000, 238000, 20000, 31000, 250000, 42000, 430000, 23500, 295000, 360000, 154000, 255000, 100000, 420000, 11000, 185000, 140000, 38000, 346000, 23000, 1499000, 42000, 210000, 143000, 195000, 65000, 35000, 29000, 1499000, 248000, 250000, 70000, 190000, 144800, 315000, 139000, 18500, 105000, 390000, 59000, 220000, 35000, 47000, 165000, 140000, 210000, 43000, 11900, 210000, 319000, 270000, 239000, 239000, 315000, 60000, 210000, 240000, 184000, 159000, 22500, 18500, 300000, 129000, 80000, 143000, 52000, 285000, 225000, 225500, 379900, 88000, 275000, 68000, 299000, 107000, 134000, 75000, 16800, 70000, 216000, 185000, 140000, 395000, 130000, 301000, 31500, 70000, 200000, 22900, 490000, 60000, 254000, 390000, 395000, 210000, 42000, 219000, 295000, 18888, 165000, 390000, 195000, 62000, 179000, 390000, 189000, 255000, 70000, 31000, 110000, 36000, 175000, 239000, 470000, 89000, 40000, 217000, 39000, 250000, 299000, 300000, 11900, 30000, 320000, 24500, 45000, 300000, 300000, 39000, 285000, 245000, 99000, 135000, 98000, 255000, 285000, 275000, 295000, 38000, 301000, 56000, 30000, 52000, 350000, 25450, 66000, 86850, 216000, 650000, 138000, 77000, 199900, 269000, 17000, 220000, 14000, 90000, 124000, 45000, 250000, 220000, 950000, 285000, 315000, 295000, 67600, 35000, 170000, 250000, 76000, 207000, 28000, 207000, 248500, 58500, 22500, 50000, 575000, 350000, 349440, 174000, 187000, 175000, 420000, 79999, 34900, 900000, 460000, 189000, 51000, 69900, 290000, 45000, 169000, 15000, 30000, 20000, 320000, 235000, 100000, 250000, 290000, 209000, 70000, 350000, 299000, 285000, 115000, 32000, 280000, 220000, 352000, 79000, 298000, 285000, 130000, 170000, 47000, 130000, 150000, 67000, 30000, 285000, 250000, 167000, 120000, 205000, 264000, 129000, 65000, 27000, 49900, 12750, 238000, 219500, 17500, 124000, 80000, 19800, 79000, 81000, 225000, 850000, 35000, 55000, 310000, 32000, 177000, 230000, 96000, 29000, 139900, 345000, 600000, 550000, 310000, 25000, 28500, 460000, 450000, 120000, 212000, 265000, 253000, 139000, 176000, 12340, 100000, 145000, 250000, 198000, 169000, 239900, 45000, 185000, 235000, 58000, 235000, 199000, 87000, 59900, 48500, 365000, 160000, 90000, 210000, 195000, 330000, 175000, 68000, 30000, 60000, 500000, 198000, 514800, 220000, 82000, 285000, 298000, 92300, 10500, 38000, 190000, 80000, 108000, 250000, 300000, 250000, 50000, 89000, 555000, 188000, 275000, 250000, 248000, 92000, 41500, 96000, 290000, 220000, 22499, 280000, 37000, 105000, 127000, 280000, 117000, 239800, 475000, 236000, 214000, 140000, 169000, 395000, 35000, 225000, 430000, 225000, 48000, 350000, 29000, 18500, 365000, 59000, 239000, 245000, 210000, 80000, 12500, 20000, 138000, 39600, 345000, 96000, 98000, 50000, 349900, 270000, 125000, 69500, 320000, 185000, 35000, 26000, 185000, 46000, 215000, 265000, 16000, 40000, 26000, 395000, 420000, 35000, 32000, 235000, 90000, 230000, 230000, 550000, 550000, 690000, 90000, 220000, 36000, 239000, 78000, 261700, 390000, 28000, 440000, 77000, 35000, 290000], \"xaxis\": \"x\", \"yaxis\": \"y\"}],                        {\"barmode\": \"relative\", \"legend\": {\"tracegroupgap\": 0}, \"margin\": {\"t\": 60}, \"template\": {\"data\": {\"bar\": [{\"error_x\": {\"color\": \"#2a3f5f\"}, \"error_y\": {\"color\": \"#2a3f5f\"}, \"marker\": {\"line\": {\"color\": \"#E5ECF6\", \"width\": 0.5}}, \"type\": \"bar\"}], \"barpolar\": [{\"marker\": {\"line\": {\"color\": \"#E5ECF6\", \"width\": 0.5}}, \"type\": \"barpolar\"}], \"carpet\": [{\"aaxis\": {\"endlinecolor\": \"#2a3f5f\", \"gridcolor\": \"white\", \"linecolor\": \"white\", \"minorgridcolor\": \"white\", \"startlinecolor\": \"#2a3f5f\"}, \"baxis\": {\"endlinecolor\": \"#2a3f5f\", \"gridcolor\": \"white\", \"linecolor\": \"white\", \"minorgridcolor\": \"white\", \"startlinecolor\": \"#2a3f5f\"}, \"type\": \"carpet\"}], \"choropleth\": [{\"colorbar\": {\"outlinewidth\": 0, \"ticks\": \"\"}, \"type\": \"choropleth\"}], \"contour\": [{\"colorbar\": {\"outlinewidth\": 0, \"ticks\": \"\"}, \"colorscale\": [[0.0, \"#0d0887\"], [0.1111111111111111, \"#46039f\"], [0.2222222222222222, \"#7201a8\"], [0.3333333333333333, \"#9c179e\"], [0.4444444444444444, \"#bd3786\"], [0.5555555555555556, \"#d8576b\"], [0.6666666666666666, \"#ed7953\"], [0.7777777777777778, \"#fb9f3a\"], [0.8888888888888888, \"#fdca26\"], [1.0, \"#f0f921\"]], \"type\": \"contour\"}], \"contourcarpet\": [{\"colorbar\": {\"outlinewidth\": 0, \"ticks\": \"\"}, \"type\": \"contourcarpet\"}], \"heatmap\": [{\"colorbar\": {\"outlinewidth\": 0, \"ticks\": \"\"}, \"colorscale\": [[0.0, \"#0d0887\"], [0.1111111111111111, \"#46039f\"], [0.2222222222222222, \"#7201a8\"], [0.3333333333333333, \"#9c179e\"], [0.4444444444444444, \"#bd3786\"], [0.5555555555555556, \"#d8576b\"], [0.6666666666666666, \"#ed7953\"], [0.7777777777777778, \"#fb9f3a\"], [0.8888888888888888, \"#fdca26\"], [1.0, \"#f0f921\"]], \"type\": \"heatmap\"}], \"heatmapgl\": [{\"colorbar\": {\"outlinewidth\": 0, \"ticks\": \"\"}, \"colorscale\": [[0.0, \"#0d0887\"], [0.1111111111111111, \"#46039f\"], [0.2222222222222222, \"#7201a8\"], [0.3333333333333333, \"#9c179e\"], [0.4444444444444444, \"#bd3786\"], [0.5555555555555556, \"#d8576b\"], [0.6666666666666666, \"#ed7953\"], [0.7777777777777778, \"#fb9f3a\"], [0.8888888888888888, \"#fdca26\"], [1.0, \"#f0f921\"]], \"type\": \"heatmapgl\"}], \"histogram\": [{\"marker\": {\"colorbar\": {\"outlinewidth\": 0, \"ticks\": \"\"}}, \"type\": \"histogram\"}], \"histogram2d\": [{\"colorbar\": {\"outlinewidth\": 0, \"ticks\": \"\"}, \"colorscale\": [[0.0, \"#0d0887\"], [0.1111111111111111, \"#46039f\"], [0.2222222222222222, \"#7201a8\"], [0.3333333333333333, \"#9c179e\"], [0.4444444444444444, \"#bd3786\"], [0.5555555555555556, \"#d8576b\"], [0.6666666666666666, \"#ed7953\"], [0.7777777777777778, \"#fb9f3a\"], [0.8888888888888888, \"#fdca26\"], [1.0, \"#f0f921\"]], \"type\": \"histogram2d\"}], \"histogram2dcontour\": [{\"colorbar\": {\"outlinewidth\": 0, \"ticks\": \"\"}, \"colorscale\": [[0.0, \"#0d0887\"], [0.1111111111111111, \"#46039f\"], [0.2222222222222222, \"#7201a8\"], [0.3333333333333333, \"#9c179e\"], [0.4444444444444444, \"#bd3786\"], [0.5555555555555556, \"#d8576b\"], [0.6666666666666666, \"#ed7953\"], [0.7777777777777778, \"#fb9f3a\"], [0.8888888888888888, \"#fdca26\"], [1.0, \"#f0f921\"]], \"type\": \"histogram2dcontour\"}], \"mesh3d\": [{\"colorbar\": {\"outlinewidth\": 0, \"ticks\": \"\"}, \"type\": \"mesh3d\"}], \"parcoords\": [{\"line\": {\"colorbar\": {\"outlinewidth\": 0, \"ticks\": \"\"}}, \"type\": \"parcoords\"}], \"pie\": [{\"automargin\": true, \"type\": \"pie\"}], \"scatter\": [{\"marker\": {\"colorbar\": {\"outlinewidth\": 0, \"ticks\": \"\"}}, \"type\": \"scatter\"}], \"scatter3d\": [{\"line\": {\"colorbar\": {\"outlinewidth\": 0, \"ticks\": \"\"}}, \"marker\": {\"colorbar\": {\"outlinewidth\": 0, \"ticks\": \"\"}}, \"type\": \"scatter3d\"}], \"scattercarpet\": [{\"marker\": {\"colorbar\": {\"outlinewidth\": 0, \"ticks\": \"\"}}, \"type\": \"scattercarpet\"}], \"scattergeo\": [{\"marker\": {\"colorbar\": {\"outlinewidth\": 0, \"ticks\": \"\"}}, \"type\": \"scattergeo\"}], \"scattergl\": [{\"marker\": {\"colorbar\": {\"outlinewidth\": 0, \"ticks\": \"\"}}, \"type\": \"scattergl\"}], \"scattermapbox\": [{\"marker\": {\"colorbar\": {\"outlinewidth\": 0, \"ticks\": \"\"}}, \"type\": \"scattermapbox\"}], \"scatterpolar\": [{\"marker\": {\"colorbar\": {\"outlinewidth\": 0, \"ticks\": \"\"}}, \"type\": \"scatterpolar\"}], \"scatterpolargl\": [{\"marker\": {\"colorbar\": {\"outlinewidth\": 0, \"ticks\": \"\"}}, \"type\": \"scatterpolargl\"}], \"scatterternary\": [{\"marker\": {\"colorbar\": {\"outlinewidth\": 0, \"ticks\": \"\"}}, \"type\": \"scatterternary\"}], \"surface\": [{\"colorbar\": {\"outlinewidth\": 0, \"ticks\": \"\"}, \"colorscale\": [[0.0, \"#0d0887\"], [0.1111111111111111, \"#46039f\"], [0.2222222222222222, \"#7201a8\"], [0.3333333333333333, \"#9c179e\"], [0.4444444444444444, \"#bd3786\"], [0.5555555555555556, \"#d8576b\"], [0.6666666666666666, \"#ed7953\"], [0.7777777777777778, \"#fb9f3a\"], [0.8888888888888888, \"#fdca26\"], [1.0, \"#f0f921\"]], \"type\": \"surface\"}], \"table\": [{\"cells\": {\"fill\": {\"color\": \"#EBF0F8\"}, \"line\": {\"color\": \"white\"}}, \"header\": {\"fill\": {\"color\": \"#C8D4E3\"}, \"line\": {\"color\": \"white\"}}, \"type\": \"table\"}]}, \"layout\": {\"annotationdefaults\": {\"arrowcolor\": \"#2a3f5f\", \"arrowhead\": 0, \"arrowwidth\": 1}, \"autotypenumbers\": \"strict\", \"coloraxis\": {\"colorbar\": {\"outlinewidth\": 0, \"ticks\": \"\"}}, \"colorscale\": {\"diverging\": [[0, \"#8e0152\"], [0.1, \"#c51b7d\"], [0.2, \"#de77ae\"], [0.3, \"#f1b6da\"], [0.4, \"#fde0ef\"], [0.5, \"#f7f7f7\"], [0.6, \"#e6f5d0\"], [0.7, \"#b8e186\"], [0.8, \"#7fbc41\"], [0.9, \"#4d9221\"], [1, \"#276419\"]], \"sequential\": [[0.0, \"#0d0887\"], [0.1111111111111111, \"#46039f\"], [0.2222222222222222, \"#7201a8\"], [0.3333333333333333, \"#9c179e\"], [0.4444444444444444, \"#bd3786\"], [0.5555555555555556, \"#d8576b\"], [0.6666666666666666, \"#ed7953\"], [0.7777777777777778, \"#fb9f3a\"], [0.8888888888888888, \"#fdca26\"], [1.0, \"#f0f921\"]], \"sequentialminus\": [[0.0, \"#0d0887\"], [0.1111111111111111, \"#46039f\"], [0.2222222222222222, \"#7201a8\"], [0.3333333333333333, \"#9c179e\"], [0.4444444444444444, \"#bd3786\"], [0.5555555555555556, \"#d8576b\"], [0.6666666666666666, \"#ed7953\"], [0.7777777777777778, \"#fb9f3a\"], [0.8888888888888888, \"#fdca26\"], [1.0, \"#f0f921\"]]}, \"colorway\": [\"#636efa\", \"#EF553B\", \"#00cc96\", \"#ab63fa\", \"#FFA15A\", \"#19d3f3\", \"#FF6692\", \"#B6E880\", \"#FF97FF\", \"#FECB52\"], \"font\": {\"color\": \"#2a3f5f\"}, \"geo\": {\"bgcolor\": \"white\", \"lakecolor\": \"white\", \"landcolor\": \"#E5ECF6\", \"showlakes\": true, \"showland\": true, \"subunitcolor\": \"white\"}, \"hoverlabel\": {\"align\": \"left\"}, \"hovermode\": \"closest\", \"mapbox\": {\"style\": \"light\"}, \"paper_bgcolor\": \"white\", \"plot_bgcolor\": \"#E5ECF6\", \"polar\": {\"angularaxis\": {\"gridcolor\": \"white\", \"linecolor\": \"white\", \"ticks\": \"\"}, \"bgcolor\": \"#E5ECF6\", \"radialaxis\": {\"gridcolor\": \"white\", \"linecolor\": \"white\", \"ticks\": \"\"}}, \"scene\": {\"xaxis\": {\"backgroundcolor\": \"#E5ECF6\", \"gridcolor\": \"white\", \"gridwidth\": 2, \"linecolor\": \"white\", \"showbackground\": true, \"ticks\": \"\", \"zerolinecolor\": \"white\"}, \"yaxis\": {\"backgroundcolor\": \"#E5ECF6\", \"gridcolor\": \"white\", \"gridwidth\": 2, \"linecolor\": \"white\", \"showbackground\": true, \"ticks\": \"\", \"zerolinecolor\": \"white\"}, \"zaxis\": {\"backgroundcolor\": \"#E5ECF6\", \"gridcolor\": \"white\", \"gridwidth\": 2, \"linecolor\": \"white\", \"showbackground\": true, \"ticks\": \"\", \"zerolinecolor\": \"white\"}}, \"shapedefaults\": {\"line\": {\"color\": \"#2a3f5f\"}}, \"ternary\": {\"aaxis\": {\"gridcolor\": \"white\", \"linecolor\": \"white\", \"ticks\": \"\"}, \"baxis\": {\"gridcolor\": \"white\", \"linecolor\": \"white\", \"ticks\": \"\"}, \"bgcolor\": \"#E5ECF6\", \"caxis\": {\"gridcolor\": \"white\", \"linecolor\": \"white\", \"ticks\": \"\"}}, \"title\": {\"x\": 0.05}, \"xaxis\": {\"automargin\": true, \"gridcolor\": \"white\", \"linecolor\": \"white\", \"ticks\": \"\", \"title\": {\"standoff\": 15}, \"zerolinecolor\": \"white\", \"zerolinewidth\": 2}, \"yaxis\": {\"automargin\": true, \"gridcolor\": \"white\", \"linecolor\": \"white\", \"ticks\": \"\", \"title\": {\"standoff\": 15}, \"zerolinecolor\": \"white\", \"zerolinewidth\": 2}}}, \"xaxis\": {\"anchor\": \"y\", \"domain\": [0.0, 1.0], \"title\": {\"text\": \"price\"}}, \"yaxis\": {\"anchor\": \"x\", \"domain\": [0.0, 1.0], \"title\": {\"text\": \"count\"}}},                        {\"responsive\": true}                    ).then(function(){\n",
       "                            \n",
       "var gd = document.getElementById('04e346f2-f3aa-4ad1-9609-09648f092514');\n",
       "var x = new MutationObserver(function (mutations, observer) {{\n",
       "        var display = window.getComputedStyle(gd).display;\n",
       "        if (!display || display === 'none') {{\n",
       "            console.log([gd, 'removed!']);\n",
       "            Plotly.purge(gd);\n",
       "            observer.disconnect();\n",
       "        }}\n",
       "}});\n",
       "\n",
       "// Listen for the removal of the full notebook cells\n",
       "var notebookContainer = gd.closest('#notebook-container');\n",
       "if (notebookContainer) {{\n",
       "    x.observe(notebookContainer, {childList: true});\n",
       "}}\n",
       "\n",
       "// Listen for the clearing of the current output cell\n",
       "var outputEl = gd.closest('.output');\n",
       "if (outputEl) {{\n",
       "    x.observe(outputEl, {childList: true});\n",
       "}}\n",
       "\n",
       "                        })                };                });            </script>        </div>"
      ]
     },
     "metadata": {},
     "output_type": "display_data"
    }
   ],
   "source": [
    "fig = px.histogram(df, x=\"price\", nbins=100)\n",
    "fig.show()"
   ]
  },
  {
   "cell_type": "code",
   "execution_count": 94,
   "metadata": {},
   "outputs": [],
   "source": [
    "import seaborn as sns # seaborn sits on top of matplotlib with better defaults\n",
    "import matplotlib.pyplot as plt\n"
   ]
  },
  {
   "cell_type": "code",
   "execution_count": 95,
   "metadata": {},
   "outputs": [
    {
     "name": "stdout",
     "output_type": "stream",
     "text": [
      "<class 'pandas.core.frame.DataFrame'>\n",
      "Int64Index: 630 entries, 0 to 29\n",
      "Data columns (total 12 columns):\n",
      " #   Column       Non-Null Count  Dtype \n",
      "---  ------       --------------  ----- \n",
      " 0   description  630 non-null    object\n",
      " 1   url          630 non-null    object\n",
      " 2   Iela         630 non-null    object\n",
      " 3   Ist.         630 non-null    object\n",
      " 4   m2           630 non-null    object\n",
      " 5   Stāvs        630 non-null    object\n",
      " 6   Sērija       630 non-null    object\n",
      " 7   Cena, m2     630 non-null    object\n",
      " 8   Cena         630 non-null    object\n",
      " 9   Floor        630 non-null    int32 \n",
      " 10  MaxFloor     630 non-null    int32 \n",
      " 11  price        630 non-null    int32 \n",
      "dtypes: int32(3), object(9)\n",
      "memory usage: 56.6+ KB\n"
     ]
    }
   ],
   "source": [
    "df.info()"
   ]
  },
  {
   "cell_type": "code",
   "execution_count": 96,
   "metadata": {},
   "outputs": [
    {
     "data": {
      "text/plain": [
       "<seaborn.axisgrid.PairGrid at 0x1a68f70de50>"
      ]
     },
     "execution_count": 96,
     "metadata": {},
     "output_type": "execute_result"
    },
    {
     "data": {
      "image/png": "[encoded data removed]",
      "text/plain": [
       "<Figure size 720x720 with 20 Axes>"
      ]
     },
     "metadata": {
      "needs_background": "light"
     },
     "output_type": "display_data"
    }
   ],
   "source": [
    "# Basic correlogram\n",
    "sns.pairplot(df)\n",
    "\n"
   ]
  },
  {
   "cell_type": "code",
   "execution_count": null,
   "metadata": {},
   "outputs": [],
   "source": [
    "# Basic correlogram\n",
    "sns.pairplot(df)\n",
    "\n"
   ]
  },
  {
   "cell_type": "code",
   "execution_count": null,
   "metadata": {},
   "outputs": [],
   "source": [
    "volvo_url = \"https://www.ss.com/lv/transport/cars/volvo/sell/\"\n",
    "volvos = get_all_ads_df(volvo_url, \"../data/volvo_03_18.xlsx\")"
   ]
  },
  {
   "cell_type": "code",
   "execution_count": 97,
   "metadata": {},
   "outputs": [
    {
     "data": {
      "text/html": [
       "<div>\n",
       "<style scoped>\n",
       "    .dataframe tbody tr th:only-of-type {\n",
       "        vertical-align: middle;\n",
       "    }\n",
       "\n",
       "    .dataframe tbody tr th {\n",
       "        vertical-align: top;\n",
       "    }\n",
       "\n",
       "    .dataframe thead th {\n",
       "        text-align: right;\n",
       "    }\n",
       "</style>\n",
       "<table border=\"1\" class=\"dataframe\">\n",
       "  <thead>\n",
       "    <tr style=\"text-align: right;\">\n",
       "      <th></th>\n",
       "      <th>Unnamed: 0</th>\n",
       "      <th>description</th>\n",
       "      <th>url</th>\n",
       "      <th>Modelis</th>\n",
       "      <th>Gads</th>\n",
       "      <th>Tilp.</th>\n",
       "      <th>Nobrauk.</th>\n",
       "      <th>Cena</th>\n",
       "    </tr>\n",
       "  </thead>\n",
       "  <tbody>\n",
       "    <tr>\n",
       "      <th>0</th>\n",
       "      <td>0</td>\n",
       "      <td>Auto arī dzīvē tāds kā bildēs. Virsbūve ļoti l...</td>\n",
       "      <td>https://ss.com/msg/lv/transport/cars/volvo/v70...</td>\n",
       "      <td>V70</td>\n",
       "      <td>2002</td>\n",
       "      <td>2.4D</td>\n",
       "      <td>330 tūkst.</td>\n",
       "      <td>2,300  €</td>\n",
       "    </tr>\n",
       "    <tr>\n",
       "      <th>1</th>\n",
       "      <td>1</td>\n",
       "      <td>Auto labā tehniskā un vizuālā stāvoklī, auto i...</td>\n",
       "      <td>https://ss.com/msg/lv/transport/cars/volvo/v70...</td>\n",
       "      <td>V70</td>\n",
       "      <td>2003</td>\n",
       "      <td>2.4D</td>\n",
       "      <td>390 tūkst.</td>\n",
       "      <td>2,600  €</td>\n",
       "    </tr>\n",
       "    <tr>\n",
       "      <th>2</th>\n",
       "      <td>2</td>\n",
       "      <td>Volvo XC 90 2.4 D5 Edition 147 KW / Webasto / ...</td>\n",
       "      <td>https://ss.com/msg/lv/transport/cars/volvo/xc9...</td>\n",
       "      <td>XC 90</td>\n",
       "      <td>2011</td>\n",
       "      <td>2.0D</td>\n",
       "      <td>235 tūkst.</td>\n",
       "      <td>12,490  €</td>\n",
       "    </tr>\n",
       "    <tr>\n",
       "      <th>3</th>\n",
       "      <td>3</td>\n",
       "      <td>Tikko No Vacijas. Facelift Modelis. Mehaniska ...</td>\n",
       "      <td>https://ss.com/msg/lv/transport/cars/volvo/xc9...</td>\n",
       "      <td>XC 90</td>\n",
       "      <td>2010</td>\n",
       "      <td>2.4D</td>\n",
       "      <td>-</td>\n",
       "      <td>11,650  €</td>\n",
       "    </tr>\n",
       "    <tr>\n",
       "      <th>4</th>\n",
       "      <td>4</td>\n",
       "      <td>Volvo V70 Facelift, viens no labākajiem un jau...</td>\n",
       "      <td>https://ss.com/msg/lv/transport/cars/volvo/v70...</td>\n",
       "      <td>V70</td>\n",
       "      <td>2007</td>\n",
       "      <td>2.4D</td>\n",
       "      <td>300 tūkst.</td>\n",
       "      <td>3,500  €</td>\n",
       "    </tr>\n",
       "  </tbody>\n",
       "</table>\n",
       "</div>"
      ],
      "text/plain": [
       "   Unnamed: 0                                        description  \\\n",
       "0           0  Auto arī dzīvē tāds kā bildēs. Virsbūve ļoti l...   \n",
       "1           1  Auto labā tehniskā un vizuālā stāvoklī, auto i...   \n",
       "2           2  Volvo XC 90 2.4 D5 Edition 147 KW / Webasto / ...   \n",
       "3           3  Tikko No Vacijas. Facelift Modelis. Mehaniska ...   \n",
       "4           4  Volvo V70 Facelift, viens no labākajiem un jau...   \n",
       "\n",
       "                                                 url Modelis  Gads Tilp.  \\\n",
       "0  https://ss.com/msg/lv/transport/cars/volvo/v70...     V70  2002  2.4D   \n",
       "1  https://ss.com/msg/lv/transport/cars/volvo/v70...     V70  2003  2.4D   \n",
       "2  https://ss.com/msg/lv/transport/cars/volvo/xc9...   XC 90  2011  2.0D   \n",
       "3  https://ss.com/msg/lv/transport/cars/volvo/xc9...   XC 90  2010  2.4D   \n",
       "4  https://ss.com/msg/lv/transport/cars/volvo/v70...     V70  2007  2.4D   \n",
       "\n",
       "     Nobrauk.       Cena  \n",
       "0  330 tūkst.   2,300  €  \n",
       "1  390 tūkst.   2,600  €  \n",
       "2  235 tūkst.  12,490  €  \n",
       "3           -  11,650  €  \n",
       "4  300 tūkst.   3,500  €  "
      ]
     },
     "execution_count": 97,
     "metadata": {},
     "output_type": "execute_result"
    }
   ],
   "source": [
    "volvos = pd.read_excel(\"volvo_270921.xlsx\")\n",
    "volvos.head()"
   ]
  },
  {
   "cell_type": "code",
   "execution_count": null,
   "metadata": {},
   "outputs": [],
   "source": [
    "volvos.shape"
   ]
  },
  {
   "cell_type": "code",
   "execution_count": null,
   "metadata": {},
   "outputs": [],
   "source": [
    "volvos.head(10)"
   ]
  },
  {
   "cell_type": "code",
   "execution_count": null,
   "metadata": {},
   "outputs": [],
   "source": [
    "gr_auto['Price'] = "
   ]
  },
  {
   "cell_type": "code",
   "execution_count": 98,
   "metadata": {},
   "outputs": [
    {
     "data": {
      "text/html": [
       "<div>\n",
       "<style scoped>\n",
       "    .dataframe tbody tr th:only-of-type {\n",
       "        vertical-align: middle;\n",
       "    }\n",
       "\n",
       "    .dataframe tbody tr th {\n",
       "        vertical-align: top;\n",
       "    }\n",
       "\n",
       "    .dataframe thead th {\n",
       "        text-align: right;\n",
       "    }\n",
       "</style>\n",
       "<table border=\"1\" class=\"dataframe\">\n",
       "  <thead>\n",
       "    <tr style=\"text-align: right;\">\n",
       "      <th></th>\n",
       "      <th>Unnamed: 0</th>\n",
       "      <th>description</th>\n",
       "      <th>url</th>\n",
       "      <th>Modelis</th>\n",
       "      <th>Gads</th>\n",
       "      <th>Tilp.</th>\n",
       "      <th>Nobrauk.</th>\n",
       "      <th>Cena</th>\n",
       "      <th>price</th>\n",
       "    </tr>\n",
       "  </thead>\n",
       "  <tbody>\n",
       "    <tr>\n",
       "      <th>0</th>\n",
       "      <td>0</td>\n",
       "      <td>Auto arī dzīvē tāds kā bildēs. Virsbūve ļoti l...</td>\n",
       "      <td>https://ss.com/msg/lv/transport/cars/volvo/v70...</td>\n",
       "      <td>V70</td>\n",
       "      <td>2002</td>\n",
       "      <td>2.4D</td>\n",
       "      <td>330 tūkst.</td>\n",
       "      <td>2,300  €</td>\n",
       "      <td>2300</td>\n",
       "    </tr>\n",
       "    <tr>\n",
       "      <th>1</th>\n",
       "      <td>1</td>\n",
       "      <td>Auto labā tehniskā un vizuālā stāvoklī, auto i...</td>\n",
       "      <td>https://ss.com/msg/lv/transport/cars/volvo/v70...</td>\n",
       "      <td>V70</td>\n",
       "      <td>2003</td>\n",
       "      <td>2.4D</td>\n",
       "      <td>390 tūkst.</td>\n",
       "      <td>2,600  €</td>\n",
       "      <td>2600</td>\n",
       "    </tr>\n",
       "    <tr>\n",
       "      <th>2</th>\n",
       "      <td>2</td>\n",
       "      <td>Volvo XC 90 2.4 D5 Edition 147 KW / Webasto / ...</td>\n",
       "      <td>https://ss.com/msg/lv/transport/cars/volvo/xc9...</td>\n",
       "      <td>XC 90</td>\n",
       "      <td>2011</td>\n",
       "      <td>2.0D</td>\n",
       "      <td>235 tūkst.</td>\n",
       "      <td>12,490  €</td>\n",
       "      <td>12490</td>\n",
       "    </tr>\n",
       "    <tr>\n",
       "      <th>3</th>\n",
       "      <td>3</td>\n",
       "      <td>Tikko No Vacijas. Facelift Modelis. Mehaniska ...</td>\n",
       "      <td>https://ss.com/msg/lv/transport/cars/volvo/xc9...</td>\n",
       "      <td>XC 90</td>\n",
       "      <td>2010</td>\n",
       "      <td>2.4D</td>\n",
       "      <td>-</td>\n",
       "      <td>11,650  €</td>\n",
       "      <td>11650</td>\n",
       "    </tr>\n",
       "    <tr>\n",
       "      <th>4</th>\n",
       "      <td>4</td>\n",
       "      <td>Volvo V70 Facelift, viens no labākajiem un jau...</td>\n",
       "      <td>https://ss.com/msg/lv/transport/cars/volvo/v70...</td>\n",
       "      <td>V70</td>\n",
       "      <td>2007</td>\n",
       "      <td>2.4D</td>\n",
       "      <td>300 tūkst.</td>\n",
       "      <td>3,500  €</td>\n",
       "      <td>3500</td>\n",
       "    </tr>\n",
       "  </tbody>\n",
       "</table>\n",
       "</div>"
      ],
      "text/plain": [
       "   Unnamed: 0                                        description  \\\n",
       "0           0  Auto arī dzīvē tāds kā bildēs. Virsbūve ļoti l...   \n",
       "1           1  Auto labā tehniskā un vizuālā stāvoklī, auto i...   \n",
       "2           2  Volvo XC 90 2.4 D5 Edition 147 KW / Webasto / ...   \n",
       "3           3  Tikko No Vacijas. Facelift Modelis. Mehaniska ...   \n",
       "4           4  Volvo V70 Facelift, viens no labākajiem un jau...   \n",
       "\n",
       "                                                 url Modelis  Gads Tilp.  \\\n",
       "0  https://ss.com/msg/lv/transport/cars/volvo/v70...     V70  2002  2.4D   \n",
       "1  https://ss.com/msg/lv/transport/cars/volvo/v70...     V70  2003  2.4D   \n",
       "2  https://ss.com/msg/lv/transport/cars/volvo/xc9...   XC 90  2011  2.0D   \n",
       "3  https://ss.com/msg/lv/transport/cars/volvo/xc9...   XC 90  2010  2.4D   \n",
       "4  https://ss.com/msg/lv/transport/cars/volvo/v70...     V70  2007  2.4D   \n",
       "\n",
       "     Nobrauk.       Cena  price  \n",
       "0  330 tūkst.   2,300  €   2300  \n",
       "1  390 tūkst.   2,600  €   2600  \n",
       "2  235 tūkst.  12,490  €  12490  \n",
       "3           -  11,650  €  11650  \n",
       "4  300 tūkst.   3,500  €   3500  "
      ]
     },
     "execution_count": 98,
     "metadata": {},
     "output_type": "execute_result"
    }
   ],
   "source": [
    "volvos[\"price\"] = volvos.Cena.str.split(' ').str[0]\n",
    "volvos.price = volvos.price.str.replace(\",\",\"\").astype('int32')\n",
    "volvos.head()"
   ]
  },
  {
   "cell_type": "code",
   "execution_count": 99,
   "metadata": {},
   "outputs": [
    {
     "data": {
      "text/html": [
       "<div>\n",
       "<style scoped>\n",
       "    .dataframe tbody tr th:only-of-type {\n",
       "        vertical-align: middle;\n",
       "    }\n",
       "\n",
       "    .dataframe tbody tr th {\n",
       "        vertical-align: top;\n",
       "    }\n",
       "\n",
       "    .dataframe thead th {\n",
       "        text-align: right;\n",
       "    }\n",
       "</style>\n",
       "<table border=\"1\" class=\"dataframe\">\n",
       "  <thead>\n",
       "    <tr style=\"text-align: right;\">\n",
       "      <th></th>\n",
       "      <th></th>\n",
       "      <th>count</th>\n",
       "      <th>min</th>\n",
       "      <th>max</th>\n",
       "      <th>mean</th>\n",
       "    </tr>\n",
       "    <tr>\n",
       "      <th>Gads</th>\n",
       "      <th>Modelis</th>\n",
       "      <th></th>\n",
       "      <th></th>\n",
       "      <th></th>\n",
       "      <th></th>\n",
       "    </tr>\n",
       "  </thead>\n",
       "  <tbody>\n",
       "    <tr>\n",
       "      <th>1987</th>\n",
       "      <th>240</th>\n",
       "      <td>1</td>\n",
       "      <td>4700</td>\n",
       "      <td>4700</td>\n",
       "      <td>4700.0</td>\n",
       "    </tr>\n",
       "    <tr>\n",
       "      <th>1989</th>\n",
       "      <th>740</th>\n",
       "      <td>1</td>\n",
       "      <td>4499</td>\n",
       "      <td>4499</td>\n",
       "      <td>4499.0</td>\n",
       "    </tr>\n",
       "    <tr>\n",
       "      <th rowspan=\"2\" valign=\"top\">1990</th>\n",
       "      <th>460</th>\n",
       "      <td>1</td>\n",
       "      <td>1500</td>\n",
       "      <td>1500</td>\n",
       "      <td>1500.0</td>\n",
       "    </tr>\n",
       "    <tr>\n",
       "      <th>740</th>\n",
       "      <td>1</td>\n",
       "      <td>3250</td>\n",
       "      <td>3250</td>\n",
       "      <td>3250.0</td>\n",
       "    </tr>\n",
       "    <tr>\n",
       "      <th>1992</th>\n",
       "      <th>740</th>\n",
       "      <td>1</td>\n",
       "      <td>1300</td>\n",
       "      <td>1300</td>\n",
       "      <td>1300.0</td>\n",
       "    </tr>\n",
       "    <tr>\n",
       "      <th>...</th>\n",
       "      <th>...</th>\n",
       "      <td>...</td>\n",
       "      <td>...</td>\n",
       "      <td>...</td>\n",
       "      <td>...</td>\n",
       "    </tr>\n",
       "    <tr>\n",
       "      <th rowspan=\"3\" valign=\"top\">2019</th>\n",
       "      <th>XC 40</th>\n",
       "      <td>3</td>\n",
       "      <td>29900</td>\n",
       "      <td>34590</td>\n",
       "      <td>32560.0</td>\n",
       "    </tr>\n",
       "    <tr>\n",
       "      <th>XC 60</th>\n",
       "      <td>3</td>\n",
       "      <td>28880</td>\n",
       "      <td>37500</td>\n",
       "      <td>33760.0</td>\n",
       "    </tr>\n",
       "    <tr>\n",
       "      <th>XC 90</th>\n",
       "      <td>1</td>\n",
       "      <td>47990</td>\n",
       "      <td>47990</td>\n",
       "      <td>47990.0</td>\n",
       "    </tr>\n",
       "    <tr>\n",
       "      <th rowspan=\"2\" valign=\"top\">2020</th>\n",
       "      <th>S60</th>\n",
       "      <td>1</td>\n",
       "      <td>27900</td>\n",
       "      <td>27900</td>\n",
       "      <td>27900.0</td>\n",
       "    </tr>\n",
       "    <tr>\n",
       "      <th>S90</th>\n",
       "      <td>1</td>\n",
       "      <td>40490</td>\n",
       "      <td>40490</td>\n",
       "      <td>40490.0</td>\n",
       "    </tr>\n",
       "  </tbody>\n",
       "</table>\n",
       "<p>178 rows × 4 columns</p>\n",
       "</div>"
      ],
      "text/plain": [
       "              count    min    max     mean\n",
       "Gads Modelis                              \n",
       "1987 240          1   4700   4700   4700.0\n",
       "1989 740          1   4499   4499   4499.0\n",
       "1990 460          1   1500   1500   1500.0\n",
       "     740          1   3250   3250   3250.0\n",
       "1992 740          1   1300   1300   1300.0\n",
       "...             ...    ...    ...      ...\n",
       "2019 XC 40        3  29900  34590  32560.0\n",
       "     XC 60        3  28880  37500  33760.0\n",
       "     XC 90        1  47990  47990  47990.0\n",
       "2020 S60          1  27900  27900  27900.0\n",
       "     S90          1  40490  40490  40490.0\n",
       "\n",
       "[178 rows x 4 columns]"
      ]
     },
     "execution_count": 99,
     "metadata": {},
     "output_type": "execute_result"
    }
   ],
   "source": [
    "\n",
    "gr_auto = volvos.groupby([\"Gads\",\"Modelis\"])[\"price\"].agg([\"count\", \"min\", \"max\", \"mean\", ])  #.head(n = 10)\n",
    "gr_auto"
   ]
  },
  {
   "cell_type": "code",
   "execution_count": null,
   "metadata": {},
   "outputs": [],
   "source": [
    "gr_auto.loc[gr_auto.index.get_level_values(0).str.contains(\"2015\")] # how to filter multi level index"
   ]
  },
  {
   "cell_type": "code",
   "execution_count": null,
   "metadata": {},
   "outputs": [],
   "source": [
    "gr_auto.loc[gr_auto.index.get_level_values(1).str.contains(\"S60\")]"
   ]
  },
  {
   "cell_type": "code",
   "execution_count": null,
   "metadata": {},
   "outputs": [],
   "source": [
    "gr_auto.loc[gr_auto.index.get_level_values(1).str.contains(\"S60\")].to_excel(\"S60.xlsx\")"
   ]
  },
  {
   "cell_type": "code",
   "execution_count": null,
   "metadata": {},
   "outputs": [],
   "source": [
    "print(dt.today())"
   ]
  },
  {
   "cell_type": "code",
   "execution_count": null,
   "metadata": {},
   "outputs": [],
   "source": [
    "suzuki_url = \"https://www.ss.com/lv/transport/cars/suzuki/\"\n",
    "# sdf = get_all_ads_df(suzuki_url, f\"suzuki_{dt.today()}.xlsx\")\n",
    "sdf = get_all_ads_df(suzuki_url, f\"suzuki.xlsx\")\n",
    "sdf.head()"
   ]
  },
  {
   "cell_type": "code",
   "execution_count": null,
   "metadata": {},
   "outputs": [],
   "source": [
    "sdf.info()"
   ]
  },
  {
   "cell_type": "code",
   "execution_count": null,
   "metadata": {},
   "outputs": [],
   "source": [
    "sdf[\"Tilp.\"] = sdf[\"Tilp.\"].str.replace(\"\\w\",\"\", regex=True)\n",
    "sdf.head()"
   ]
  },
  {
   "cell_type": "code",
   "execution_count": null,
   "metadata": {},
   "outputs": [],
   "source": [
    "sdf[\"Nobrauk.\"] = sdf[\"Nobrauk.\"].str.replace(\"\\D\",\"\", regex=True) # so no digits removed\n",
    "sdf.head()"
   ]
  },
  {
   "cell_type": "code",
   "execution_count": null,
   "metadata": {},
   "outputs": [],
   "source": [
    "sdf[\"Cena\"] = sdf[\"Cena\"].str.replace(\"\\D\",\"\", regex=True) # so no digits removed\n",
    "sdf.head()"
   ]
  },
  {
   "cell_type": "code",
   "execution_count": null,
   "metadata": {},
   "outputs": [],
   "source": [
    "sdf = sdf.dropna(how=\"any\", axis=0)\n",
    "sdf"
   ]
  },
  {
   "cell_type": "code",
   "execution_count": null,
   "metadata": {},
   "outputs": [],
   "source": [
    "sdf = sdf[sdf[\"Nobrauk.\"].str.len() > 0] # got rid of those empty rows finally\n",
    "sdf"
   ]
  },
  {
   "cell_type": "code",
   "execution_count": null,
   "metadata": {},
   "outputs": [],
   "source": []
  },
  {
   "cell_type": "code",
   "execution_count": null,
   "metadata": {},
   "outputs": [],
   "source": [
    "sdf[\"Cena\"] = sdf[\"Cena\"].astype(\"float32\")"
   ]
  },
  {
   "cell_type": "code",
   "execution_count": null,
   "metadata": {},
   "outputs": [],
   "source": [
    "gr_auto = sdf.groupby([\"Gads\",\"Modelis\"])[\"Cena\"].agg([\"count\",\"min\", \"max\", \"mean\"]) \n",
    "gr_auto"
   ]
  },
  {
   "cell_type": "code",
   "execution_count": null,
   "metadata": {},
   "outputs": [],
   "source": []
  }
 ],
 "metadata": {
  "kernelspec": {
   "display_name": "Python 3 (ipykernel)",
   "language": "python",
   "name": "python3"
  },
  "language_info": {
   "codemirror_mode": {
    "name": "ipython",
    "version": 3
   },
   "file_extension": ".py",
   "mimetype": "text/x-python",
   "name": "python",
   "nbconvert_exporter": "python",
   "pygments_lexer": "ipython3",
   "version": "3.9.7"
  }
 },
 "nbformat": 4,
 "nbformat_minor": 4
}
