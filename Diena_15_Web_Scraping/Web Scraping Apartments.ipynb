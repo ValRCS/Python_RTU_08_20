{
 "cells": [
  {
   "cell_type": "code",
   "execution_count": 1,
   "metadata": {},
   "outputs": [],
   "source": [
    "# Requests for handling HTTP get and other requests\n",
    "import requests\n",
    "import time # import from standard library for playing nice and not getting blocked\n",
    "import pandas as pd\n",
    "# from BeautifulSoup4 import BeatifulSoup if installed through pip install BeautifulSoup4\n",
    "# \n",
    "from bs4 import BeautifulSoup"
   ]
  },
  {
   "cell_type": "code",
   "execution_count": 2,
   "metadata": {},
   "outputs": [
    {
     "data": {
      "text/plain": [
       "'2.0.1'"
      ]
     },
     "execution_count": 2,
     "metadata": {},
     "output_type": "execute_result"
    }
   ],
   "source": [
    "pd.__version__"
   ]
  },
  {
   "cell_type": "code",
   "execution_count": null,
   "metadata": {},
   "outputs": [],
   "source": [
    "# if bs4 not found install it with\n",
    "#  !pip install beatifulsoup4\n",
    "# https://www.crummy.com/software/BeautifulSoup/"
   ]
  },
  {
   "cell_type": "code",
   "execution_count": null,
   "metadata": {},
   "outputs": [],
   "source": [
    "!dir\n",
    "# ar ! i can run command line commands"
   ]
  },
  {
   "cell_type": "code",
   "execution_count": null,
   "metadata": {},
   "outputs": [],
   "source": []
  },
  {
   "cell_type": "code",
   "execution_count": 3,
   "metadata": {},
   "outputs": [],
   "source": [
    "# centrs = \"https://www.ss.com/lv/real-estate/flats/riga/centre/sell/\"\n",
    "# url = \"https://www.ss.com/lv/real-estate/homes-summer-residences/riga-region/all/sell/\"\n",
    "url = \"https://www.ss.com/lv/real-estate/flats/riga/centre/sell/\""
   ]
  },
  {
   "cell_type": "code",
   "execution_count": 4,
   "metadata": {},
   "outputs": [
    {
     "data": {
      "text/plain": [
       "200"
      ]
     },
     "execution_count": 4,
     "metadata": {},
     "output_type": "execute_result"
    }
   ],
   "source": [
    "req = requests.get(url) # so here we make a call to webpage via HTTP GET request and get something back\n",
    "req.status_code # we could add if to check for 200"
   ]
  },
  {
   "cell_type": "code",
   "execution_count": 5,
   "metadata": {},
   "outputs": [
    {
     "data": {
      "text/plain": [
       "'<!DOCTYPE html>\\r\\n<HTML><HEAD>\\r\\n<title>SS.COM Dzīvokļi - Rīga - Centrs, Cenas, Pārdod - Sludinājumi</title>\\r\\n<meta http-equiv=\"Content-Type\" CONTENT=\"text/html; charset=UTF-8\">\\r\\n<meta name=\"viewport\" c'"
      ]
     },
     "execution_count": 5,
     "metadata": {},
     "output_type": "execute_result"
    }
   ],
   "source": [
    "# response is just text - HTML\n",
    "req.text[:200]"
   ]
  },
  {
   "cell_type": "code",
   "execution_count": 6,
   "metadata": {},
   "outputs": [
    {
     "data": {
      "text/plain": [
       "1"
      ]
     },
     "execution_count": 6,
     "metadata": {},
     "output_type": "execute_result"
    }
   ],
   "source": [
    "req.text.count(\"Stabu\")  # we could parse it ourselves but why bother when we have libraries ?"
   ]
  },
  {
   "cell_type": "code",
   "execution_count": 7,
   "metadata": {},
   "outputs": [
    {
     "data": {
      "text/plain": [
       "16952"
      ]
     },
     "execution_count": 7,
     "metadata": {},
     "output_type": "execute_result"
    }
   ],
   "source": [
    "req.text.index(\"Stabu\")"
   ]
  },
  {
   "cell_type": "code",
   "execution_count": null,
   "metadata": {},
   "outputs": [],
   "source": [
    "type(req)"
   ]
  },
  {
   "cell_type": "code",
   "execution_count": null,
   "metadata": {},
   "outputs": [],
   "source": [
    "# req.json() will not work since this page is not JSON!"
   ]
  },
  {
   "cell_type": "code",
   "execution_count": 8,
   "metadata": {},
   "outputs": [
    {
     "data": {
      "text/plain": [
       "'Stabu</option><option value=\"5312\">Strēlnieku</option><option value=\"5353\">Tallinas</option><option '"
      ]
     },
     "execution_count": 8,
     "metadata": {},
     "output_type": "execute_result"
    }
   ],
   "source": [
    "req.text[req.text.index(\"Stabu\"):req.text.index(\"Stabu\")+100] # we could do parsing by hand but usually we want to use a premade parser"
   ]
  },
  {
   "cell_type": "code",
   "execution_count": 9,
   "metadata": {},
   "outputs": [
    {
     "data": {
      "text/plain": [
       "20873"
      ]
     },
     "execution_count": 9,
     "metadata": {},
     "output_type": "execute_result"
    }
   ],
   "source": [
    "req.text.index(\"Kluss\")"
   ]
  },
  {
   "cell_type": "code",
   "execution_count": 10,
   "metadata": {},
   "outputs": [
    {
     "data": {
      "text/plain": [
       "'Kluss. Panorāmas skats no logiem. \\r\\nLaba plānojuma 5 istabu dzīv</a></div></td><td class=\"msga2-o pp'"
      ]
     },
     "execution_count": 10,
     "metadata": {},
     "output_type": "execute_result"
    }
   ],
   "source": [
    "req.text[req.text.index(\"Kluss\"):req.text.index(\"Kluss\")+100]"
   ]
  },
  {
   "cell_type": "code",
   "execution_count": 11,
   "metadata": {},
   "outputs": [
    {
     "data": {
      "text/plain": [
       "<title>SS.COM Dzīvokļi - Rīga - Centrs, Cenas, Pārdod - Sludinājumi</title>"
      ]
     },
     "execution_count": 11,
     "metadata": {},
     "output_type": "execute_result"
    }
   ],
   "source": [
    "# parser means structuring your text into some structure\n",
    "soup = BeautifulSoup(req.text, 'lxml') # lxml is improved parser, a little bit more lenient\n",
    "# soup = BeautifulSoup(req.text) # could use Python's built in HTML parser\n",
    "soup.title"
   ]
  },
  {
   "cell_type": "code",
   "execution_count": 13,
   "metadata": {},
   "outputs": [
    {
     "data": {
      "text/plain": [
       "bs4.BeautifulSoup"
      ]
     },
     "execution_count": 13,
     "metadata": {},
     "output_type": "execute_result"
    }
   ],
   "source": [
    "type(soup)"
   ]
  },
  {
   "cell_type": "code",
   "execution_count": null,
   "metadata": {},
   "outputs": [],
   "source": []
  },
  {
   "cell_type": "code",
   "execution_count": 14,
   "metadata": {},
   "outputs": [
    {
     "data": {
      "text/plain": [
       "6"
      ]
     },
     "execution_count": 14,
     "metadata": {},
     "output_type": "execute_result"
    }
   ],
   "source": [
    "# https://www.crummy.com/software/BeautifulSoup/bs4/doc/#find-all\n",
    "# https://developer.mozilla.org/en-US/docs/Web/HTML/Element/table\n",
    "tables = soup.find_all(\"table\") # finds ALL elements matching our filter\n",
    "len(tables) "
   ]
  },
  {
   "cell_type": "code",
   "execution_count": 15,
   "metadata": {},
   "outputs": [
    {
     "data": {
      "text/plain": [
       "<tr id=\"head_line\">\n",
       "<td class=\"msg_column\" colspan=\"3\" width=\"70%\">\n",
       "<span style=\"float:left;\"> Sludinājumi\n",
       "</span>\n",
       "<span align=\"right\" class=\"msg_column\" style=\"float:right;text-align:right;padding-right:3px;\">\n",
       "<noindex>\n",
       "<a class=\"a19\" href=\"/lv/real-estate/flats/riga/centre/sell/fDgSeF4S.html\" rel=\"nofollow\">datums</a></noindex></span>\n",
       "</td>\n",
       "<td class=\"msg_column_td\" nowrap=\"\"><noindex><a class=\"a18\" href=\"/lv/real-estate/flats/riga/centre/sell/fDgSeF4SFDwT.html\" rel=\"nofollow\" title=\"\">Iela</a></noindex></td><td class=\"msg_column_td\" nowrap=\"\"><noindex><a class=\"a18\" href=\"/lv/real-estate/flats/riga/centre/sell/fDgSeF4SelM=.html\" rel=\"nofollow\" title=\"\">Ist.</a></noindex></td><td class=\"msg_column_td\" nowrap=\"\"><noindex><a class=\"a18\" href=\"/lv/real-estate/flats/riga/centre/sell/fDgSeF4QelM=.html\" rel=\"nofollow\" title=\"\">m2</a></noindex></td><td class=\"msg_column_td\" nowrap=\"\"><noindex><a class=\"a18\" href=\"/lv/real-estate/flats/riga/centre/sell/fDgSeF4XelM=.html\" rel=\"nofollow\" title=\"\">Stāvs</a></noindex></td><td class=\"msg_column_td\" nowrap=\"\"><noindex><a class=\"a18\" href=\"/lv/real-estate/flats/riga/centre/sell/fDgSeF4VelM=.html\" rel=\"nofollow\" title=\"\">Sērija</a></noindex></td><td background=\"https://i.ss.com/img/pl.gif\" class=\"msg_column\" nowrap=\"\" style=\"border-left:1px #FFFFFF solid;\"><noindex><a class=\"a18\" href=\"/lv/real-estate/flats/riga/centre/sell/fDgSeF4bRDwT.html\" rel=\"nofollow\">Cena, m2</a></noindex></td><td class=\"msg_column_td\" nowrap=\"\"><noindex><a class=\"a18\" href=\"/lv/real-estate/flats/riga/centre/sell/fDgSeF4belM=.html\" rel=\"nofollow\" title=\"\">Cena</a></noindex></td></tr>"
      ]
     },
     "execution_count": 15,
     "metadata": {},
     "output_type": "execute_result"
    }
   ],
   "source": [
    "# find finds just one match - first that matches\n",
    "# tr table row - https://developer.mozilla.org/en-US/docs/Web/HTML/Element/tr\n",
    "headline = soup.find(\"tr\", {\"id\":\"head_line\"}) # this is a shorter way of finding by tr AND this element having particular id\n",
    "headline"
   ]
  },
  {
   "cell_type": "code",
   "execution_count": 16,
   "metadata": {},
   "outputs": [
    {
     "data": {
      "text/plain": [
       "bs4.element.Tag"
      ]
     },
     "execution_count": 16,
     "metadata": {},
     "output_type": "execute_result"
    }
   ],
   "source": [
    "type(headline)"
   ]
  },
  {
   "cell_type": "code",
   "execution_count": 17,
   "metadata": {},
   "outputs": [
    {
     "data": {
      "text/plain": [
       "'\\n\\n\\xa0Sludinājumi\\r\\n\\n\\n\\ndatums\\n\\nIelaIst.m2StāvsSērijaCena, m2Cena'"
      ]
     },
     "execution_count": 17,
     "metadata": {},
     "output_type": "execute_result"
    }
   ],
   "source": [
    "headline.text  # i could use split here but we can go deeper!"
   ]
  },
  {
   "cell_type": "code",
   "execution_count": 18,
   "metadata": {},
   "outputs": [
    {
     "data": {
      "text/plain": [
       "['Sludinājumi', 'datums', 'IelaIst.m2StāvsSērijaCena,', 'm2Cena']"
      ]
     },
     "execution_count": 18,
     "metadata": {},
     "output_type": "execute_result"
    }
   ],
   "source": [
    "headline.text.split()"
   ]
  },
  {
   "cell_type": "code",
   "execution_count": 19,
   "metadata": {},
   "outputs": [
    {
     "data": {
      "text/plain": [
       "[<td class=\"msg_column\" colspan=\"3\" width=\"70%\">\n",
       " <span style=\"float:left;\"> Sludinājumi\n",
       " </span>\n",
       " <span align=\"right\" class=\"msg_column\" style=\"float:right;text-align:right;padding-right:3px;\">\n",
       " <noindex>\n",
       " <a class=\"a19\" href=\"/lv/real-estate/flats/riga/centre/sell/fDgSeF4S.html\" rel=\"nofollow\">datums</a></noindex></span>\n",
       " </td>,\n",
       " <td class=\"msg_column_td\" nowrap=\"\"><noindex><a class=\"a18\" href=\"/lv/real-estate/flats/riga/centre/sell/fDgSeF4SFDwT.html\" rel=\"nofollow\" title=\"\">Iela</a></noindex></td>,\n",
       " <td class=\"msg_column_td\" nowrap=\"\"><noindex><a class=\"a18\" href=\"/lv/real-estate/flats/riga/centre/sell/fDgSeF4SelM=.html\" rel=\"nofollow\" title=\"\">Ist.</a></noindex></td>,\n",
       " <td class=\"msg_column_td\" nowrap=\"\"><noindex><a class=\"a18\" href=\"/lv/real-estate/flats/riga/centre/sell/fDgSeF4QelM=.html\" rel=\"nofollow\" title=\"\">m2</a></noindex></td>,\n",
       " <td class=\"msg_column_td\" nowrap=\"\"><noindex><a class=\"a18\" href=\"/lv/real-estate/flats/riga/centre/sell/fDgSeF4XelM=.html\" rel=\"nofollow\" title=\"\">Stāvs</a></noindex></td>,\n",
       " <td class=\"msg_column_td\" nowrap=\"\"><noindex><a class=\"a18\" href=\"/lv/real-estate/flats/riga/centre/sell/fDgSeF4VelM=.html\" rel=\"nofollow\" title=\"\">Sērija</a></noindex></td>,\n",
       " <td background=\"https://i.ss.com/img/pl.gif\" class=\"msg_column\" nowrap=\"\" style=\"border-left:1px #FFFFFF solid;\"><noindex><a class=\"a18\" href=\"/lv/real-estate/flats/riga/centre/sell/fDgSeF4bRDwT.html\" rel=\"nofollow\">Cena, m2</a></noindex></td>,\n",
       " <td class=\"msg_column_td\" nowrap=\"\"><noindex><a class=\"a18\" href=\"/lv/real-estate/flats/riga/centre/sell/fDgSeF4belM=.html\" rel=\"nofollow\" title=\"\">Cena</a></noindex></td>]"
      ]
     },
     "execution_count": 19,
     "metadata": {},
     "output_type": "execute_result"
    }
   ],
   "source": [
    "headtds = headline.find_all(\"td\")  # get list of all td tags inside our headline tag only(not the whole document!)\n",
    "# td stands for table data\n",
    "# https://developer.mozilla.org/en-US/docs/Web/HTML/Element/td \n",
    "headtds"
   ]
  },
  {
   "cell_type": "code",
   "execution_count": 20,
   "metadata": {},
   "outputs": [
    {
     "data": {
      "text/plain": [
       "8"
      ]
     },
     "execution_count": 20,
     "metadata": {},
     "output_type": "execute_result"
    }
   ],
   "source": [
    "len(headtds) # so we have 8 table data elements"
   ]
  },
  {
   "cell_type": "code",
   "execution_count": null,
   "metadata": {},
   "outputs": [],
   "source": [
    "headline.text # this returns ALL text in headline and its children and grandchildren"
   ]
  },
  {
   "cell_type": "code",
   "execution_count": 21,
   "metadata": {},
   "outputs": [
    {
     "data": {
      "text/plain": [
       "'\\n\\xa0Sludinājumi\\r\\n\\n\\n\\ndatums\\n'"
      ]
     },
     "execution_count": 21,
     "metadata": {},
     "output_type": "execute_result"
    }
   ],
   "source": [
    "headtds[0].text # we do not need the first one"
   ]
  },
  {
   "cell_type": "code",
   "execution_count": 22,
   "metadata": {},
   "outputs": [
    {
     "data": {
      "text/plain": [
       "['Iela', 'Ist.', 'm2', 'Stāvs', 'Sērija', 'Cena, m2', 'Cena']"
      ]
     },
     "execution_count": 22,
     "metadata": {},
     "output_type": "execute_result"
    }
   ],
   "source": [
    "headcolumns = [el.text for el in headtds[1:]] #.text gets us content even from children and grandchildren\n",
    "headcolumns"
   ]
  },
  {
   "cell_type": "code",
   "execution_count": 23,
   "metadata": {},
   "outputs": [],
   "source": [
    "# lets combine the above cells into a function which will always get us columns\n",
    "def getColList(soup, default_cols=(\"description\",\"url\")):\n",
    "    column_list = list(default_cols) # we decided to that we need these two column names no matter the html\n",
    "    headline = soup.find(\"tr\", {\"id\":\"head_line\"})\n",
    "    headtds = headline.find_all(\"td\")\n",
    "    headcolumns = [el.text for el in headtds[1:]] # this will get all column names starting with 2nd in HTML\n",
    "    column_list += headcolumns  # merge both lists, could use extend\n",
    "    return column_list"
   ]
  },
  {
   "cell_type": "code",
   "execution_count": 24,
   "metadata": {},
   "outputs": [
    {
     "data": {
      "text/plain": [
       "['description',\n",
       " 'url',\n",
       " 'Iela',\n",
       " 'Ist.',\n",
       " 'm2',\n",
       " 'Stāvs',\n",
       " 'Sērija',\n",
       " 'Cena, m2',\n",
       " 'Cena']"
      ]
     },
     "execution_count": 24,
     "metadata": {},
     "output_type": "execute_result"
    }
   ],
   "source": [
    "column_names = getColList(soup)\n",
    "column_names # to be used later when creating our table"
   ]
  },
  {
   "cell_type": "code",
   "execution_count": 25,
   "metadata": {},
   "outputs": [
    {
     "data": {
      "text/plain": [
       "39"
      ]
     },
     "execution_count": 25,
     "metadata": {},
     "output_type": "execute_result"
    }
   ],
   "source": [
    "trows = soup.find_all('tr') # tr stands for table row\n",
    "len(trows)\n"
   ]
  },
  {
   "cell_type": "code",
   "execution_count": null,
   "metadata": {},
   "outputs": [],
   "source": [
    "# if i had no other choices I could find starting and end index by hand and hard code it\n",
    "# but that is liable to change between pages"
   ]
  },
  {
   "cell_type": "code",
   "execution_count": 26,
   "metadata": {},
   "outputs": [
    {
     "data": {
      "text/plain": [
       "<tr id=\"tr_52066253\"><td class=\"msga2 pp0\"><input id=\"c52066253\" name=\"mid[]\" type=\"checkbox\" value=\"52066253_1106_0\"/></td><td class=\"msga2\"><a href=\"/msg/lv/real-estate/flats/riga/centre/bhdmp.html\" id=\"im52066253\"><img alt=\"\" class=\"isfoto foto_list\" src=\"https://i.ss.com/gallery/6/1074/268461/53692041.th2.jpg\"/></a></td><td class=\"msg2\"><div class=\"d1\"><a class=\"am\" data=\"eSU4QSU4RCU5OCU5QSU4MyVEMWolQTR6JTg5JThBJTlEJTlCJTgzJTg3bCVBNSU3RiU4QSU4OSU5OCU5NiU3QiU4NQ==|GYYffKU9n\" href=\"/msg/lv/real-estate/flats/riga/centre/bhdmp.html\" id=\"dm_52066253\">Pasteidzies. 80% dzīvokļu jau izpārdoti. \n",
       "\n",
       "Pārdodam dzīvokļus </a></div></td><td c=\"1\" class=\"msga2-o pp6\" nowrap=\"\">Brīvības 95</td><td c=\"1\" class=\"msga2-o pp6\" nowrap=\"\">4</td><td c=\"1\" class=\"msga2-o pp6\" nowrap=\"\">86</td><td c=\"1\" class=\"msga2-o pp6\" nowrap=\"\">5/7</td><td c=\"1\" class=\"msga2-o pp6\" nowrap=\"\">Renov.</td><td c=\"1\" class=\"msga2-o pp6\" nowrap=\"\">2,198 €</td><td c=\"1\" class=\"msga2-o pp6\" nowrap=\"\">189,000  €</td></tr>"
      ]
     },
     "execution_count": 26,
     "metadata": {},
     "output_type": "execute_result"
    }
   ],
   "source": [
    "trows[9] # we coudl do it by hand"
   ]
  },
  {
   "cell_type": "code",
   "execution_count": null,
   "metadata": {},
   "outputs": [],
   "source": [
    "trows[5] # so could take trows[6:35] downside is that this is fixed with magic numbers"
   ]
  },
  {
   "cell_type": "code",
   "execution_count": 27,
   "metadata": {},
   "outputs": [
    {
     "data": {
      "text/plain": [
       "('tr_52066253', 'tr_52709345')"
      ]
     },
     "execution_count": 27,
     "metadata": {},
     "output_type": "execute_result"
    }
   ],
   "source": [
    "trows[9][\"id\"], trows[5].get(\"id\") # get is safer since not all elements have ids"
   ]
  },
  {
   "cell_type": "code",
   "execution_count": 28,
   "metadata": {},
   "outputs": [
    {
     "data": {
      "text/plain": [
       "30"
      ]
     },
     "execution_count": 28,
     "metadata": {},
     "output_type": "execute_result"
    }
   ],
   "source": [
    "# hardest part in this \n",
    "# how to filter only specific rows\n",
    "# we need to find something that is unique to our apartment rows but not to the extra rows\n",
    "# remember we id is not guaranteed, so \"\" gives us default value when there is no id\n",
    "apt_rows = [row for row in trows if row.get('id',\"\").startswith(\"tr_\") and not row.get('id',\"\").startswith(\"tr_bnr\") ]\n",
    "len(apt_rows)"
   ]
  },
  {
   "cell_type": "code",
   "execution_count": 29,
   "metadata": {},
   "outputs": [
    {
     "data": {
      "text/plain": [
       "<tr id=\"tr_53200772\"><td class=\"msga2 pp0\"><input id=\"c53200772\" name=\"mid[]\" type=\"checkbox\" value=\"53200772_1106_0\"/></td><td class=\"msga2\"><a href=\"/msg/lv/real-estate/flats/riga/centre/aekcp.html\" id=\"im53200772\"><img alt=\"\" class=\"isfoto foto_list\" src=\"https://i.ss.com/gallery/6/1002/250349/50069772.th2.jpg\"/></a></td><td class=\"msg2\"><div class=\"d1\"><a class=\"am\" data=\"eGljJTkyJThCJTlBJUFGJTkzJThGJTlFJTdEamolOTUlOEElOTVnJTkyJThEJUE0dmpiJTkxJTg4|F52aXb3bYk\" href=\"/msg/lv/real-estate/flats/riga/centre/aekcp.html\" id=\"dm_53200772\">Jauns Jūgendstila 3 guļamistabu pilnas apdares dzīvoklis ar 3 va</a></div></td><td c=\"1\" class=\"msga2-o pp6\" nowrap=\"\">Ausekļa 14</td><td c=\"1\" class=\"msga2-o pp6\" nowrap=\"\">4</td><td c=\"1\" class=\"msga2-o pp6\" nowrap=\"\">154</td><td c=\"1\" class=\"msga2-o pp6\" nowrap=\"\">5/6</td><td c=\"1\" class=\"msga2-o pp6\" nowrap=\"\">Renov.</td><td c=\"1\" class=\"msga2-o pp6\" nowrap=\"\">3,506 €</td><td c=\"1\" class=\"msga2-o pp6\" nowrap=\"\">540,000  €</td></tr>"
      ]
     },
     "execution_count": 29,
     "metadata": {},
     "output_type": "execute_result"
    }
   ],
   "source": [
    "apt_rows[-1] # last ad"
   ]
  },
  {
   "cell_type": "code",
   "execution_count": 30,
   "metadata": {},
   "outputs": [
    {
     "data": {
      "text/plain": [
       "<tr id=\"tr_52709345\"><td class=\"msga2 pp0\"><input id=\"c52709345\" name=\"mid[]\" type=\"checkbox\" value=\"52709345_1106_0\"/></td><td class=\"msga2\"><a href=\"/msg/lv/real-estate/flats/riga/centre/ecikp.html\" id=\"im52709345\"><img alt=\"\" class=\"isfoto foto_list\" src=\"https://i.ss.com/gallery/6/1033/258153/51630566.th2.jpg\"/></a></td><td class=\"msg2\"><div class=\"d1\"><a class=\"am\" data=\"JUE1eiVBNSU4NiU4OSU5OCU5QyVDQSVBNXolQTYlODklODQlOTUlOUUlN0UlQTglN0IlQTElOEElODYlOTElOUMlN0UlQTR1|tEmRRahN\" href=\"/msg/lv/real-estate/flats/riga/centre/ecikp.html\" id=\"dm_52709345\"> Tikko pēc kapitāla remonta. Augstais stāvs, kā otrais. \n",
       "Daļa m</a></div></td><td c=\"1\" class=\"msga2-o pp6\" nowrap=\"\">Katrīnas d. 22</td><td c=\"1\" class=\"msga2-o pp6\" nowrap=\"\">3</td><td c=\"1\" class=\"msga2-o pp6\" nowrap=\"\">66</td><td c=\"1\" class=\"msga2-o pp6\" nowrap=\"\">1/4</td><td c=\"1\" class=\"msga2-o pp6\" nowrap=\"\">Specpr.</td><td c=\"1\" class=\"msga2-o pp6\" nowrap=\"\">1,423 €</td><td c=\"1\" class=\"msga2-o pp6\" nowrap=\"\">93,900  €</td></tr>"
      ]
     },
     "execution_count": 30,
     "metadata": {},
     "output_type": "execute_result"
    }
   ],
   "source": [
    "apt_rows[0] # first ad"
   ]
  },
  {
   "cell_type": "code",
   "execution_count": 31,
   "metadata": {},
   "outputs": [],
   "source": [
    "# lets make a function from the above doodle and make it work on most pages on SS\n",
    "def getRowList(soup):\n",
    "    trows = soup.find_all('tr')\n",
    "    aprows = [row for row in trows if row.get('id',\"\").startswith(\"tr_\") and not row.get('id',\"\").startswith(\"tr_bnr\") ]\n",
    "    return aprows"
   ]
  },
  {
   "cell_type": "code",
   "execution_count": 32,
   "metadata": {},
   "outputs": [
    {
     "data": {
      "text/plain": [
       "30"
      ]
     },
     "execution_count": 32,
     "metadata": {},
     "output_type": "execute_result"
    }
   ],
   "source": [
    "apt_rows = getRowList(soup)\n",
    "len(apt_rows)"
   ]
  },
  {
   "cell_type": "code",
   "execution_count": 33,
   "metadata": {},
   "outputs": [
    {
     "data": {
      "text/plain": [
       "<tr id=\"tr_52709345\"><td class=\"msga2 pp0\"><input id=\"c52709345\" name=\"mid[]\" type=\"checkbox\" value=\"52709345_1106_0\"/></td><td class=\"msga2\"><a href=\"/msg/lv/real-estate/flats/riga/centre/ecikp.html\" id=\"im52709345\"><img alt=\"\" class=\"isfoto foto_list\" src=\"https://i.ss.com/gallery/6/1033/258153/51630566.th2.jpg\"/></a></td><td class=\"msg2\"><div class=\"d1\"><a class=\"am\" data=\"JUE1eiVBNSU4NiU4OSU5OCU5QyVDQSVBNXolQTYlODklODQlOTUlOUUlN0UlQTglN0IlQTElOEElODYlOTElOUMlN0UlQTR1|tEmRRahN\" href=\"/msg/lv/real-estate/flats/riga/centre/ecikp.html\" id=\"dm_52709345\"> Tikko pēc kapitāla remonta. Augstais stāvs, kā otrais. \n",
       "Daļa m</a></div></td><td c=\"1\" class=\"msga2-o pp6\" nowrap=\"\">Katrīnas d. 22</td><td c=\"1\" class=\"msga2-o pp6\" nowrap=\"\">3</td><td c=\"1\" class=\"msga2-o pp6\" nowrap=\"\">66</td><td c=\"1\" class=\"msga2-o pp6\" nowrap=\"\">1/4</td><td c=\"1\" class=\"msga2-o pp6\" nowrap=\"\">Specpr.</td><td c=\"1\" class=\"msga2-o pp6\" nowrap=\"\">1,423 €</td><td c=\"1\" class=\"msga2-o pp6\" nowrap=\"\">93,900  €</td></tr>"
      ]
     },
     "execution_count": 33,
     "metadata": {},
     "output_type": "execute_result"
    }
   ],
   "source": [
    "first_ad = apt_rows[0]\n",
    "first_ad"
   ]
  },
  {
   "cell_type": "code",
   "execution_count": 34,
   "metadata": {},
   "outputs": [
    {
     "data": {
      "text/plain": [
       "10"
      ]
     },
     "execution_count": 34,
     "metadata": {},
     "output_type": "execute_result"
    }
   ],
   "source": [
    "row_tds = first_ad.find_all('td') # get all table data elements from first ad/row\n",
    "len(row_tds)"
   ]
  },
  {
   "cell_type": "code",
   "execution_count": 35,
   "metadata": {},
   "outputs": [
    {
     "data": {
      "text/plain": [
       "[<td class=\"msga2 pp0\"><input id=\"c52709345\" name=\"mid[]\" type=\"checkbox\" value=\"52709345_1106_0\"/></td>,\n",
       " <td class=\"msga2\"><a href=\"/msg/lv/real-estate/flats/riga/centre/ecikp.html\" id=\"im52709345\"><img alt=\"\" class=\"isfoto foto_list\" src=\"https://i.ss.com/gallery/6/1033/258153/51630566.th2.jpg\"/></a></td>,\n",
       " <td class=\"msg2\"><div class=\"d1\"><a class=\"am\" data=\"JUE1eiVBNSU4NiU4OSU5OCU5QyVDQSVBNXolQTYlODklODQlOTUlOUUlN0UlQTglN0IlQTElOEElODYlOTElOUMlN0UlQTR1|tEmRRahN\" href=\"/msg/lv/real-estate/flats/riga/centre/ecikp.html\" id=\"dm_52709345\"> Tikko pēc kapitāla remonta. Augstais stāvs, kā otrais. \n",
       " Daļa m</a></div></td>,\n",
       " <td c=\"1\" class=\"msga2-o pp6\" nowrap=\"\">Katrīnas d. 22</td>,\n",
       " <td c=\"1\" class=\"msga2-o pp6\" nowrap=\"\">3</td>,\n",
       " <td c=\"1\" class=\"msga2-o pp6\" nowrap=\"\">66</td>,\n",
       " <td c=\"1\" class=\"msga2-o pp6\" nowrap=\"\">1/4</td>,\n",
       " <td c=\"1\" class=\"msga2-o pp6\" nowrap=\"\">Specpr.</td>,\n",
       " <td c=\"1\" class=\"msga2-o pp6\" nowrap=\"\">1,423 €</td>,\n",
       " <td c=\"1\" class=\"msga2-o pp6\" nowrap=\"\">93,900  €</td>]"
      ]
     },
     "execution_count": 35,
     "metadata": {},
     "output_type": "execute_result"
    }
   ],
   "source": [
    "# look at all the data we have\n",
    "row_tds"
   ]
  },
  {
   "cell_type": "code",
   "execution_count": 36,
   "metadata": {},
   "outputs": [
    {
     "data": {
      "text/plain": [
       "''"
      ]
     },
     "execution_count": 36,
     "metadata": {},
     "output_type": "execute_result"
    }
   ],
   "source": [
    "row_tds[0].text"
   ]
  },
  {
   "cell_type": "code",
   "execution_count": 38,
   "metadata": {},
   "outputs": [
    {
     "data": {
      "text/plain": [
       "''"
      ]
     },
     "execution_count": 38,
     "metadata": {},
     "output_type": "execute_result"
    }
   ],
   "source": [
    "row_tds[1].text"
   ]
  },
  {
   "cell_type": "code",
   "execution_count": 39,
   "metadata": {},
   "outputs": [
    {
     "data": {
      "text/plain": [
       "{'class': ['msga2']}"
      ]
     },
     "execution_count": 39,
     "metadata": {},
     "output_type": "execute_result"
    }
   ],
   "source": [
    "row_tds[1].attrs # we can see elements attributes"
   ]
  },
  {
   "cell_type": "code",
   "execution_count": 41,
   "metadata": {},
   "outputs": [
    {
     "data": {
      "text/plain": [
       "<img alt=\"\" class=\"isfoto foto_list\" src=\"https://i.ss.com/gallery/6/1033/258153/51630566.th2.jpg\"/>"
      ]
     },
     "execution_count": 41,
     "metadata": {},
     "output_type": "execute_result"
    }
   ],
   "source": [
    "# we can find elements inside our element\n",
    "img = row_tds[1].find(\"img\") # first img element inside our td element\n",
    "img"
   ]
  },
  {
   "cell_type": "code",
   "execution_count": 42,
   "metadata": {},
   "outputs": [
    {
     "data": {
      "text/plain": [
       "'https://i.ss.com/gallery/6/1033/258153/51630566.th2.jpg'"
      ]
     },
     "execution_count": 42,
     "metadata": {},
     "output_type": "execute_result"
    }
   ],
   "source": [
    "img.get(\"src\")"
   ]
  },
  {
   "cell_type": "code",
   "execution_count": 43,
   "metadata": {},
   "outputs": [
    {
     "data": {
      "text/plain": [
       "<a href=\"/msg/lv/real-estate/flats/riga/centre/ecikp.html\" id=\"im52709345\"><img alt=\"\" class=\"isfoto foto_list\" src=\"https://i.ss.com/gallery/6/1033/258153/51630566.th2.jpg\"/></a>"
      ]
     },
     "execution_count": 43,
     "metadata": {},
     "output_type": "execute_result"
    }
   ],
   "source": [
    "a = row_tds[1].find('a') # a tag is called anchor tag\n",
    "a"
   ]
  },
  {
   "cell_type": "code",
   "execution_count": 44,
   "metadata": {},
   "outputs": [
    {
     "data": {
      "text/plain": [
       "{'href': '/msg/lv/real-estate/flats/riga/centre/ecikp.html',\n",
       " 'id': 'im52709345'}"
      ]
     },
     "execution_count": 44,
     "metadata": {},
     "output_type": "execute_result"
    }
   ],
   "source": [
    "a.attrs"
   ]
  },
  {
   "cell_type": "code",
   "execution_count": 45,
   "metadata": {},
   "outputs": [
    {
     "data": {
      "text/plain": [
       "('/msg/lv/real-estate/flats/riga/centre/ecikp.html',\n",
       " '/msg/lv/real-estate/flats/riga/centre/ecikp.html')"
      ]
     },
     "execution_count": 45,
     "metadata": {},
     "output_type": "execute_result"
    }
   ],
   "source": [
    "a.get('href'), a['href']"
   ]
  },
  {
   "cell_type": "code",
   "execution_count": 46,
   "metadata": {},
   "outputs": [
    {
     "data": {
      "text/plain": [
       "'https://www.ss.com/msg/lv/real-estate/flats/riga/centre/ecikp.html'"
      ]
     },
     "execution_count": 46,
     "metadata": {},
     "output_type": "execute_result"
    }
   ],
   "source": [
    "prefix = \"https://www.ss.com\"\n",
    "prefix + a.get('href')"
   ]
  },
  {
   "cell_type": "code",
   "execution_count": 47,
   "metadata": {},
   "outputs": [
    {
     "data": {
      "text/plain": [
       "'\\xa0Tikko pēc kapitāla remonta. Augstais stāvs, kā otrais. \\r\\nDaļa m'"
      ]
     },
     "execution_count": 47,
     "metadata": {},
     "output_type": "execute_result"
    }
   ],
   "source": [
    "row_tds[2].text # 3rd element has the description"
   ]
  },
  {
   "cell_type": "code",
   "execution_count": 48,
   "metadata": {},
   "outputs": [
    {
     "data": {
      "text/plain": [
       "'93,900  €'"
      ]
     },
     "execution_count": 48,
     "metadata": {},
     "output_type": "execute_result"
    }
   ],
   "source": [
    "row_tds[-1].text # last element has the price"
   ]
  },
  {
   "cell_type": "code",
   "execution_count": 49,
   "metadata": {},
   "outputs": [
    {
     "data": {
      "text/plain": [
       "['description',\n",
       " 'url',\n",
       " 'Iela',\n",
       " 'Ist.',\n",
       " 'm2',\n",
       " 'Stāvs',\n",
       " 'Sērija',\n",
       " 'Cena, m2',\n",
       " 'Cena']"
      ]
     },
     "execution_count": 49,
     "metadata": {},
     "output_type": "execute_result"
    }
   ],
   "source": [
    "column_names # we got these first"
   ]
  },
  {
   "cell_type": "code",
   "execution_count": 50,
   "metadata": {},
   "outputs": [],
   "source": [
    "# from row get dictionary with values \n",
    "def getRow(row, colist=column_names):\n",
    "    row_tds = row.find_all('td')\n",
    "    rowDict = {}\n",
    "    if len(row_tds) < 3: # a little sanity check\n",
    "        print(\"Hmm bad row\")\n",
    "        return rowDict\n",
    "    \n",
    "    # we start with description\n",
    "    rowDict[colist[0]] = row_tds[2].text # so the big assumption is that we always get description in 3rd column\n",
    "    # then url\n",
    "    rowDict[colist[1]] = \"https://ss.com\" + row_tds[1].find('a').get('href')\n",
    "    # rest of columns can vary depending on type of ad\n",
    "    for key,td in zip(colist[2:],row_tds[3:]): \n",
    "        rowDict[key] = td.text\n",
    "    return rowDict"
   ]
  },
  {
   "cell_type": "code",
   "execution_count": 51,
   "metadata": {},
   "outputs": [
    {
     "data": {
      "text/plain": [
       "<tr id=\"tr_52709345\"><td class=\"msga2 pp0\"><input id=\"c52709345\" name=\"mid[]\" type=\"checkbox\" value=\"52709345_1106_0\"/></td><td class=\"msga2\"><a href=\"/msg/lv/real-estate/flats/riga/centre/ecikp.html\" id=\"im52709345\"><img alt=\"\" class=\"isfoto foto_list\" src=\"https://i.ss.com/gallery/6/1033/258153/51630566.th2.jpg\"/></a></td><td class=\"msg2\"><div class=\"d1\"><a class=\"am\" data=\"JUE1eiVBNSU4NiU4OSU5OCU5QyVDQSVBNXolQTYlODklODQlOTUlOUUlN0UlQTglN0IlQTElOEElODYlOTElOUMlN0UlQTR1|tEmRRahN\" href=\"/msg/lv/real-estate/flats/riga/centre/ecikp.html\" id=\"dm_52709345\"> Tikko pēc kapitāla remonta. Augstais stāvs, kā otrais. \n",
       "Daļa m</a></div></td><td c=\"1\" class=\"msga2-o pp6\" nowrap=\"\">Katrīnas d. 22</td><td c=\"1\" class=\"msga2-o pp6\" nowrap=\"\">3</td><td c=\"1\" class=\"msga2-o pp6\" nowrap=\"\">66</td><td c=\"1\" class=\"msga2-o pp6\" nowrap=\"\">1/4</td><td c=\"1\" class=\"msga2-o pp6\" nowrap=\"\">Specpr.</td><td c=\"1\" class=\"msga2-o pp6\" nowrap=\"\">1,423 €</td><td c=\"1\" class=\"msga2-o pp6\" nowrap=\"\">93,900  €</td></tr>"
      ]
     },
     "execution_count": 51,
     "metadata": {},
     "output_type": "execute_result"
    }
   ],
   "source": [
    "apt_rows[0] # first row of ads"
   ]
  },
  {
   "cell_type": "code",
   "execution_count": 52,
   "metadata": {},
   "outputs": [
    {
     "data": {
      "text/plain": [
       "{'description': '\\xa0Tikko pēc kapitāla remonta. Augstais stāvs, kā otrais. \\r\\nDaļa m',\n",
       " 'url': 'https://ss.com/msg/lv/real-estate/flats/riga/centre/ecikp.html',\n",
       " 'Iela': 'Katrīnas d. 22',\n",
       " 'Ist.': '3',\n",
       " 'm2': '66',\n",
       " 'Stāvs': '1/4',\n",
       " 'Sērija': 'Specpr.',\n",
       " 'Cena, m2': '1,423 €',\n",
       " 'Cena': '93,900  €'}"
      ]
     },
     "execution_count": 52,
     "metadata": {},
     "output_type": "execute_result"
    }
   ],
   "source": [
    "getRow(apt_rows[0])"
   ]
  },
  {
   "cell_type": "code",
   "execution_count": 53,
   "metadata": {},
   "outputs": [
    {
     "data": {
      "text/plain": [
       "{'description': '\\xa0Tikko pēc kapitāla remonta. Augstais stāvs, kā otrais. \\r\\nDaļa m',\n",
       " 'url': 'https://ss.com/msg/lv/real-estate/flats/riga/centre/ecikp.html',\n",
       " 'Iela': 'Katrīnas d. 22',\n",
       " 'Ist.': '3',\n",
       " 'm2': '66',\n",
       " 'Stāvs': '1/4',\n",
       " 'Sērija': 'Specpr.',\n",
       " 'Cena, m2': '1,423 €',\n",
       " 'Cena': '93,900  €'}"
      ]
     },
     "execution_count": 53,
     "metadata": {},
     "output_type": "execute_result"
    }
   ],
   "source": [
    "getRow(first_ad)"
   ]
  },
  {
   "cell_type": "code",
   "execution_count": 55,
   "metadata": {},
   "outputs": [],
   "source": [
    "# so if we know how to work on single row then we can do process multiple rows\n",
    "def getRows(rowlist, colist=column_names):\n",
    "    return [getRow(row, colist=colist) for row in rowlist] # so return a list of dictionaries\n"
   ]
  },
  {
   "cell_type": "code",
   "execution_count": 56,
   "metadata": {},
   "outputs": [
    {
     "data": {
      "text/plain": [
       "[{'description': 'Pārdošanā 4-istabu dzīvoklis, ko iespējams sadalīt divos dzīvokļ',\n",
       "  'url': 'https://ss.com/msg/lv/real-estate/flats/riga/centre/fexeo.html',\n",
       "  'Iela': 'Brīvības 150',\n",
       "  'Ist.': '4',\n",
       "  'm2': '104',\n",
       "  'Stāvs': '3/6',\n",
       "  'Sērija': 'P. kara',\n",
       "  'Cena, m2': '1,240 €',\n",
       "  'Cena': '129,000  €'},\n",
       " {'description': 'Silts, saulains dzīvoklis centrā, svaigi remontēts ar pilnībā ap',\n",
       "  'url': 'https://ss.com/msg/lv/real-estate/flats/riga/centre/ebjkm.html',\n",
       "  'Iela': 'Ģertrūdes 100',\n",
       "  'Ist.': '2',\n",
       "  'm2': '42',\n",
       "  'Stāvs': '2/5',\n",
       "  'Sērija': 'P. kara',\n",
       "  'Cena, m2': '2,119 €',\n",
       "  'Cena': '89,000  €'},\n",
       " {'description': 'Jauns Jūgendstila 3 guļamistabu pilnas apdares dzīvoklis ar 3 va',\n",
       "  'url': 'https://ss.com/msg/lv/real-estate/flats/riga/centre/aekcp.html',\n",
       "  'Iela': 'Ausekļa 14',\n",
       "  'Ist.': '4',\n",
       "  'm2': '154',\n",
       "  'Stāvs': '5/6',\n",
       "  'Sērija': 'Renov.',\n",
       "  'Cena, m2': '3,506 €',\n",
       "  'Cena': '540,000  €'}]"
      ]
     },
     "execution_count": 56,
     "metadata": {},
     "output_type": "execute_result"
    }
   ],
   "source": [
    "row_ads = getRows(apt_rows)\n",
    "row_ads[-3:] # last 3 ads"
   ]
  },
  {
   "cell_type": "code",
   "execution_count": 57,
   "metadata": {},
   "outputs": [
    {
     "data": {
      "text/plain": [
       "(list, 30)"
      ]
     },
     "execution_count": 57,
     "metadata": {},
     "output_type": "execute_result"
    }
   ],
   "source": [
    "type(row_ads), len(row_ads) # list of dictionaries for each ad"
   ]
  },
  {
   "cell_type": "code",
   "execution_count": null,
   "metadata": {},
   "outputs": [],
   "source": [
    "# such a list of dictionaries is easy to convert into a DataFrame in pandas"
   ]
  },
  {
   "cell_type": "code",
   "execution_count": 58,
   "metadata": {},
   "outputs": [
    {
     "data": {
      "text/plain": [
       "(30, 9)"
      ]
     },
     "execution_count": 58,
     "metadata": {},
     "output_type": "execute_result"
    }
   ],
   "source": [
    "# i am converting my list of dictionaries into a DataFrame\n",
    "dtemp = pd.DataFrame(row_ads, columns=column_names)\n",
    "dtemp.shape"
   ]
  },
  {
   "cell_type": "code",
   "execution_count": 59,
   "metadata": {},
   "outputs": [
    {
     "data": {
      "text/html": [
       "<div>\n",
       "<style scoped>\n",
       "    .dataframe tbody tr th:only-of-type {\n",
       "        vertical-align: middle;\n",
       "    }\n",
       "\n",
       "    .dataframe tbody tr th {\n",
       "        vertical-align: top;\n",
       "    }\n",
       "\n",
       "    .dataframe thead th {\n",
       "        text-align: right;\n",
       "    }\n",
       "</style>\n",
       "<table border=\"1\" class=\"dataframe\">\n",
       "  <thead>\n",
       "    <tr style=\"text-align: right;\">\n",
       "      <th></th>\n",
       "      <th>description</th>\n",
       "      <th>url</th>\n",
       "      <th>Iela</th>\n",
       "      <th>Ist.</th>\n",
       "      <th>m2</th>\n",
       "      <th>Stāvs</th>\n",
       "      <th>Sērija</th>\n",
       "      <th>Cena, m2</th>\n",
       "      <th>Cena</th>\n",
       "    </tr>\n",
       "  </thead>\n",
       "  <tbody>\n",
       "    <tr>\n",
       "      <th>0</th>\n",
       "      <td>Tikko pēc kapitāla remonta. Augstais stāvs, k...</td>\n",
       "      <td>https://ss.com/msg/lv/real-estate/flats/riga/c...</td>\n",
       "      <td>Katrīnas d. 22</td>\n",
       "      <td>3</td>\n",
       "      <td>66</td>\n",
       "      <td>1/4</td>\n",
       "      <td>Specpr.</td>\n",
       "      <td>1,423 €</td>\n",
       "      <td>93,900  €</td>\n",
       "    </tr>\n",
       "    <tr>\n",
       "      <th>1</th>\n",
       "      <td>Kluss. Panorāmas skats no logiem. \\r\\nLaba plā...</td>\n",
       "      <td>https://ss.com/msg/lv/real-estate/flats/riga/c...</td>\n",
       "      <td>Teātra 12</td>\n",
       "      <td>5</td>\n",
       "      <td>136</td>\n",
       "      <td>6/7</td>\n",
       "      <td>P. kara</td>\n",
       "      <td>2,000 €</td>\n",
       "      <td>272,000  €</td>\n",
       "    </tr>\n",
       "    <tr>\n",
       "      <th>2</th>\n",
       "      <td>Vairāki pakāpieni uz leju. \\r\\nDaļa maksas var...</td>\n",
       "      <td>https://ss.com/msg/lv/real-estate/flats/riga/c...</td>\n",
       "      <td>Duntes 26</td>\n",
       "      <td>3</td>\n",
       "      <td>67</td>\n",
       "      <td>1/6</td>\n",
       "      <td>Specpr.</td>\n",
       "      <td>143 €</td>\n",
       "      <td>9,580  €</td>\n",
       "    </tr>\n",
       "    <tr>\n",
       "      <th>3</th>\n",
       "      <td>Pārdodam dzīvokļus ēkā ar vēstures garšu. Reno...</td>\n",
       "      <td>https://ss.com/msg/lv/real-estate/flats/riga/c...</td>\n",
       "      <td>Tomsona 33</td>\n",
       "      <td>3</td>\n",
       "      <td>64</td>\n",
       "      <td>4/5</td>\n",
       "      <td>Renov.</td>\n",
       "      <td>2,180 €</td>\n",
       "      <td>139,500  €</td>\n",
       "    </tr>\n",
       "    <tr>\n",
       "      <th>4</th>\n",
       "      <td>Pasteidzies. 80% dzīvokļu jau izpārdoti. \\r\\n\\...</td>\n",
       "      <td>https://ss.com/msg/lv/real-estate/flats/riga/c...</td>\n",
       "      <td>Brīvības 95</td>\n",
       "      <td>4</td>\n",
       "      <td>86</td>\n",
       "      <td>5/7</td>\n",
       "      <td>Renov.</td>\n",
       "      <td>2,198 €</td>\n",
       "      <td>189,000  €</td>\n",
       "    </tr>\n",
       "  </tbody>\n",
       "</table>\n",
       "</div>"
      ],
      "text/plain": [
       "                                         description   \n",
       "0   Tikko pēc kapitāla remonta. Augstais stāvs, k...  \\\n",
       "1  Kluss. Panorāmas skats no logiem. \\r\\nLaba plā...   \n",
       "2  Vairāki pakāpieni uz leju. \\r\\nDaļa maksas var...   \n",
       "3  Pārdodam dzīvokļus ēkā ar vēstures garšu. Reno...   \n",
       "4  Pasteidzies. 80% dzīvokļu jau izpārdoti. \\r\\n\\...   \n",
       "\n",
       "                                                 url            Iela Ist.   \n",
       "0  https://ss.com/msg/lv/real-estate/flats/riga/c...  Katrīnas d. 22    3  \\\n",
       "1  https://ss.com/msg/lv/real-estate/flats/riga/c...       Teātra 12    5   \n",
       "2  https://ss.com/msg/lv/real-estate/flats/riga/c...       Duntes 26    3   \n",
       "3  https://ss.com/msg/lv/real-estate/flats/riga/c...      Tomsona 33    3   \n",
       "4  https://ss.com/msg/lv/real-estate/flats/riga/c...     Brīvības 95    4   \n",
       "\n",
       "    m2 Stāvs   Sērija Cena, m2        Cena  \n",
       "0   66   1/4  Specpr.  1,423 €   93,900  €  \n",
       "1  136   6/7  P. kara  2,000 €  272,000  €  \n",
       "2   67   1/6  Specpr.    143 €    9,580  €  \n",
       "3   64   4/5   Renov.  2,180 €  139,500  €  \n",
       "4   86   5/7   Renov.  2,198 €  189,000  €  "
      ]
     },
     "execution_count": 59,
     "metadata": {},
     "output_type": "execute_result"
    }
   ],
   "source": [
    "dtemp.head() # first 5 rows"
   ]
  },
  {
   "cell_type": "code",
   "execution_count": 60,
   "metadata": {},
   "outputs": [],
   "source": [
    "dtemp.to_excel(\"rigas_rajons_may11.xlsx\")"
   ]
  },
  {
   "cell_type": "code",
   "execution_count": 61,
   "metadata": {},
   "outputs": [],
   "source": [
    "# so with this function I can get full dataframe from a single page on ss.com not only apartments\n",
    "def getDFfromURL(url):\n",
    "    # print(\"getting data from\", url)\n",
    "    req = requests.get(url) # here we make a request to a server\n",
    "    if req.status_code != 200:\n",
    "        print(\"Request Fail with\", req.status_code)\n",
    "        return None # maybe return empty dataframe here\n",
    "    soup = BeautifulSoup(req.text, 'lxml')\n",
    "    column_names = getColList(soup)\n",
    "    rowlist = getRowList(soup)\n",
    "    rows_dict = getRows(rowlist,colist=column_names)\n",
    "    return pd.DataFrame(rows_dict, columns=column_names)\n",
    "    "
   ]
  },
  {
   "cell_type": "code",
   "execution_count": 62,
   "metadata": {},
   "outputs": [
    {
     "data": {
      "text/plain": [
       "'https://www.ss.com/lv/real-estate/flats/riga/centre/sell/'"
      ]
     },
     "execution_count": 62,
     "metadata": {},
     "output_type": "execute_result"
    }
   ],
   "source": [
    "centrs = url\n",
    "centrs"
   ]
  },
  {
   "cell_type": "code",
   "execution_count": 63,
   "metadata": {},
   "outputs": [
    {
     "data": {
      "text/html": [
       "<div>\n",
       "<style scoped>\n",
       "    .dataframe tbody tr th:only-of-type {\n",
       "        vertical-align: middle;\n",
       "    }\n",
       "\n",
       "    .dataframe tbody tr th {\n",
       "        vertical-align: top;\n",
       "    }\n",
       "\n",
       "    .dataframe thead th {\n",
       "        text-align: right;\n",
       "    }\n",
       "</style>\n",
       "<table border=\"1\" class=\"dataframe\">\n",
       "  <thead>\n",
       "    <tr style=\"text-align: right;\">\n",
       "      <th></th>\n",
       "      <th>description</th>\n",
       "      <th>url</th>\n",
       "      <th>Iela</th>\n",
       "      <th>Ist.</th>\n",
       "      <th>m2</th>\n",
       "      <th>Stāvs</th>\n",
       "      <th>Sērija</th>\n",
       "      <th>Cena, m2</th>\n",
       "      <th>Cena</th>\n",
       "    </tr>\n",
       "  </thead>\n",
       "  <tbody>\n",
       "    <tr>\n",
       "      <th>0</th>\n",
       "      <td>Pārdošanā 3 istabu dzīvoklis Imantā, jaunajā l...</td>\n",
       "      <td>https://ss.com/msg/lv/real-estate/flats/riga/i...</td>\n",
       "      <td>M. Krūmu 1</td>\n",
       "      <td>3</td>\n",
       "      <td>68</td>\n",
       "      <td>3/5</td>\n",
       "      <td>LT proj.</td>\n",
       "      <td>1,015 €</td>\n",
       "      <td>69,000  €</td>\n",
       "    </tr>\n",
       "    <tr>\n",
       "      <th>1</th>\n",
       "      <td>Pārdodu dzīvokli Imantā. Dzīvoklis atrodas māj...</td>\n",
       "      <td>https://ss.com/msg/lv/real-estate/flats/riga/i...</td>\n",
       "      <td>Dubultu 18</td>\n",
       "      <td>3</td>\n",
       "      <td>62</td>\n",
       "      <td>4/9</td>\n",
       "      <td>602.</td>\n",
       "      <td>1,000 €</td>\n",
       "      <td>62,000  €</td>\n",
       "    </tr>\n",
       "    <tr>\n",
       "      <th>2</th>\n",
       "      <td>Saulains dzīvoklis lieliskā lokācijā. \\r\\n\\r\\n...</td>\n",
       "      <td>https://ss.com/msg/lv/real-estate/flats/riga/i...</td>\n",
       "      <td>Jūrmalas g. 91</td>\n",
       "      <td>2</td>\n",
       "      <td>51</td>\n",
       "      <td>2/5</td>\n",
       "      <td>LT proj.</td>\n",
       "      <td>902 €</td>\n",
       "      <td>46,000  €</td>\n",
       "    </tr>\n",
       "    <tr>\n",
       "      <th>3</th>\n",
       "      <td>Красивая 2-х этажная квартира с удобной , прод...</td>\n",
       "      <td>https://ss.com/msg/lv/real-estate/flats/riga/i...</td>\n",
       "      <td>Anniņmuižas 13</td>\n",
       "      <td>5</td>\n",
       "      <td>183</td>\n",
       "      <td>11/12</td>\n",
       "      <td>Jaun.</td>\n",
       "      <td>1,639 €</td>\n",
       "      <td>299,900  €</td>\n",
       "    </tr>\n",
       "    <tr>\n",
       "      <th>4</th>\n",
       "      <td>Продаём очень светлую квартиру(окна на три сто...</td>\n",
       "      <td>https://ss.com/msg/lv/real-estate/flats/riga/i...</td>\n",
       "      <td>Kurzemes pr. 164</td>\n",
       "      <td>3</td>\n",
       "      <td>62</td>\n",
       "      <td>4/9</td>\n",
       "      <td>602.</td>\n",
       "      <td>895 €</td>\n",
       "      <td>55,500  €</td>\n",
       "    </tr>\n",
       "  </tbody>\n",
       "</table>\n",
       "</div>"
      ],
      "text/plain": [
       "                                         description   \n",
       "0  Pārdošanā 3 istabu dzīvoklis Imantā, jaunajā l...  \\\n",
       "1  Pārdodu dzīvokli Imantā. Dzīvoklis atrodas māj...   \n",
       "2  Saulains dzīvoklis lieliskā lokācijā. \\r\\n\\r\\n...   \n",
       "3  Красивая 2-х этажная квартира с удобной , прод...   \n",
       "4  Продаём очень светлую квартиру(окна на три сто...   \n",
       "\n",
       "                                                 url              Iela Ist.   \n",
       "0  https://ss.com/msg/lv/real-estate/flats/riga/i...        M. Krūmu 1    3  \\\n",
       "1  https://ss.com/msg/lv/real-estate/flats/riga/i...        Dubultu 18    3   \n",
       "2  https://ss.com/msg/lv/real-estate/flats/riga/i...    Jūrmalas g. 91    2   \n",
       "3  https://ss.com/msg/lv/real-estate/flats/riga/i...    Anniņmuižas 13    5   \n",
       "4  https://ss.com/msg/lv/real-estate/flats/riga/i...  Kurzemes pr. 164    3   \n",
       "\n",
       "    m2  Stāvs    Sērija Cena, m2        Cena  \n",
       "0   68    3/5  LT proj.  1,015 €   69,000  €  \n",
       "1   62    4/9      602.  1,000 €   62,000  €  \n",
       "2   51    2/5  LT proj.    902 €   46,000  €  \n",
       "3  183  11/12     Jaun.  1,639 €  299,900  €  \n",
       "4   62    4/9      602.    895 €   55,500  €  "
      ]
     },
     "execution_count": 63,
     "metadata": {},
     "output_type": "execute_result"
    }
   ],
   "source": [
    "imanta = \"https://www.ss.com/lv/real-estate/flats/riga/imanta/sell/\"\n",
    "idf = getDFfromURL(imanta)\n",
    "idf.head()"
   ]
  },
  {
   "cell_type": "code",
   "execution_count": 64,
   "metadata": {},
   "outputs": [],
   "source": [
    "df = getDFfromURL(centrs) # this will involve calling web page"
   ]
  },
  {
   "cell_type": "code",
   "execution_count": 65,
   "metadata": {},
   "outputs": [
    {
     "data": {
      "text/plain": [
       "'https://www.ss.com/lv/real-estate/flats/riga/centre/sell/'"
      ]
     },
     "execution_count": 65,
     "metadata": {},
     "output_type": "execute_result"
    }
   ],
   "source": [
    "url"
   ]
  },
  {
   "cell_type": "code",
   "execution_count": null,
   "metadata": {},
   "outputs": [],
   "source": [
    "df = getDFfromURL(url)\n",
    "df.shape"
   ]
  },
  {
   "cell_type": "code",
   "execution_count": 66,
   "metadata": {},
   "outputs": [
    {
     "data": {
      "text/plain": [
       "(30, 9)"
      ]
     },
     "execution_count": 66,
     "metadata": {},
     "output_type": "execute_result"
    }
   ],
   "source": [
    "df.shape"
   ]
  },
  {
   "cell_type": "code",
   "execution_count": 67,
   "metadata": {},
   "outputs": [
    {
     "data": {
      "text/html": [
       "<div>\n",
       "<style scoped>\n",
       "    .dataframe tbody tr th:only-of-type {\n",
       "        vertical-align: middle;\n",
       "    }\n",
       "\n",
       "    .dataframe tbody tr th {\n",
       "        vertical-align: top;\n",
       "    }\n",
       "\n",
       "    .dataframe thead th {\n",
       "        text-align: right;\n",
       "    }\n",
       "</style>\n",
       "<table border=\"1\" class=\"dataframe\">\n",
       "  <thead>\n",
       "    <tr style=\"text-align: right;\">\n",
       "      <th></th>\n",
       "      <th>description</th>\n",
       "      <th>url</th>\n",
       "      <th>Iela</th>\n",
       "      <th>Ist.</th>\n",
       "      <th>m2</th>\n",
       "      <th>Stāvs</th>\n",
       "      <th>Sērija</th>\n",
       "      <th>Cena, m2</th>\n",
       "      <th>Cena</th>\n",
       "    </tr>\n",
       "  </thead>\n",
       "  <tbody>\n",
       "    <tr>\n",
       "      <th>0</th>\n",
       "      <td>Dzīvoklis tikko pēc remonta. \\r\\nDzīvojamā ist...</td>\n",
       "      <td>https://ss.com/msg/lv/real-estate/flats/riga/c...</td>\n",
       "      <td>Valdemāra 73</td>\n",
       "      <td>3</td>\n",
       "      <td>66</td>\n",
       "      <td>6/6</td>\n",
       "      <td>P. kara</td>\n",
       "      <td>2,500 €</td>\n",
       "      <td>165,000  €</td>\n",
       "    </tr>\n",
       "    <tr>\n",
       "      <th>1</th>\n",
       "      <td>Tikko pēc kapitāla remonta. Augstais stāvs, k...</td>\n",
       "      <td>https://ss.com/msg/lv/real-estate/flats/riga/c...</td>\n",
       "      <td>Katrīnas d. 22</td>\n",
       "      <td>3</td>\n",
       "      <td>66</td>\n",
       "      <td>1/4</td>\n",
       "      <td>Specpr.</td>\n",
       "      <td>1,423 €</td>\n",
       "      <td>93,900  €</td>\n",
       "    </tr>\n",
       "    <tr>\n",
       "      <th>2</th>\n",
       "      <td>Kluss. Panorāmas skats no logiem. \\r\\nLaba plā...</td>\n",
       "      <td>https://ss.com/msg/lv/real-estate/flats/riga/c...</td>\n",
       "      <td>Teātra 12</td>\n",
       "      <td>5</td>\n",
       "      <td>136</td>\n",
       "      <td>6/7</td>\n",
       "      <td>P. kara</td>\n",
       "      <td>2,000 €</td>\n",
       "      <td>272,000  €</td>\n",
       "    </tr>\n",
       "    <tr>\n",
       "      <th>3</th>\n",
       "      <td>Vairāki pakāpieni uz leju. \\r\\nDaļa maksas var...</td>\n",
       "      <td>https://ss.com/msg/lv/real-estate/flats/riga/c...</td>\n",
       "      <td>Duntes 26</td>\n",
       "      <td>3</td>\n",
       "      <td>67</td>\n",
       "      <td>1/6</td>\n",
       "      <td>Specpr.</td>\n",
       "      <td>143 €</td>\n",
       "      <td>9,580  €</td>\n",
       "    </tr>\n",
       "    <tr>\n",
       "      <th>4</th>\n",
       "      <td>Pārdodam dzīvokļus ēkā ar vēstures garšu. Reno...</td>\n",
       "      <td>https://ss.com/msg/lv/real-estate/flats/riga/c...</td>\n",
       "      <td>Tomsona 33</td>\n",
       "      <td>3</td>\n",
       "      <td>64</td>\n",
       "      <td>4/5</td>\n",
       "      <td>Renov.</td>\n",
       "      <td>2,180 €</td>\n",
       "      <td>139,500  €</td>\n",
       "    </tr>\n",
       "  </tbody>\n",
       "</table>\n",
       "</div>"
      ],
      "text/plain": [
       "                                         description   \n",
       "0  Dzīvoklis tikko pēc remonta. \\r\\nDzīvojamā ist...  \\\n",
       "1   Tikko pēc kapitāla remonta. Augstais stāvs, k...   \n",
       "2  Kluss. Panorāmas skats no logiem. \\r\\nLaba plā...   \n",
       "3  Vairāki pakāpieni uz leju. \\r\\nDaļa maksas var...   \n",
       "4  Pārdodam dzīvokļus ēkā ar vēstures garšu. Reno...   \n",
       "\n",
       "                                                 url            Iela Ist.   \n",
       "0  https://ss.com/msg/lv/real-estate/flats/riga/c...    Valdemāra 73    3  \\\n",
       "1  https://ss.com/msg/lv/real-estate/flats/riga/c...  Katrīnas d. 22    3   \n",
       "2  https://ss.com/msg/lv/real-estate/flats/riga/c...       Teātra 12    5   \n",
       "3  https://ss.com/msg/lv/real-estate/flats/riga/c...       Duntes 26    3   \n",
       "4  https://ss.com/msg/lv/real-estate/flats/riga/c...      Tomsona 33    3   \n",
       "\n",
       "    m2 Stāvs   Sērija Cena, m2        Cena  \n",
       "0   66   6/6  P. kara  2,500 €  165,000  €  \n",
       "1   66   1/4  Specpr.  1,423 €   93,900  €  \n",
       "2  136   6/7  P. kara  2,000 €  272,000  €  \n",
       "3   67   1/6  Specpr.    143 €    9,580  €  \n",
       "4   64   4/5   Renov.  2,180 €  139,500  €  "
      ]
     },
     "execution_count": 67,
     "metadata": {},
     "output_type": "execute_result"
    }
   ],
   "source": [
    "df.head()"
   ]
  },
  {
   "cell_type": "code",
   "execution_count": 68,
   "metadata": {},
   "outputs": [
    {
     "data": {
      "text/plain": [
       "99"
      ]
     },
     "execution_count": 68,
     "metadata": {},
     "output_type": "execute_result"
    }
   ],
   "source": [
    "# anchors are our friends - the basic building blocks of HTML - linking to other pages\n",
    "# https://developer.mozilla.org/en-US/docs/Web/HTML/Element/a\n",
    "anchors = soup.find_all(\"a\")\n",
    "len(anchors) # anchors are popular in pages"
   ]
  },
  {
   "cell_type": "code",
   "execution_count": 69,
   "metadata": {},
   "outputs": [
    {
     "data": {
      "text/plain": [
       "[<a href=\"/lv/\" title=\"Sludinājumi\"><img alt=\"Sludinājumi\" border=\"0\" class=\"page_header_logo\" src=\"https://i.ss.com/img/p.gif\"/></a>,\n",
       " <a class=\"a_menu\" href=\"/lv/real-estate/flats/new/\" title=\"Iesniegt Sludinājumu\">Iesniegt Sludinājumu</a>,\n",
       " <a class=\"a_menu\" href=\"/lv/login/\" title=\"Mani Sludinājumi\">Mani Sludinājumi</a>,\n",
       " <a class=\"a_menu\" href=\"/lv/real-estate/flats/riga/centre/search/\" title=\"Meklēt sludinājumus\">Meklēšana</a>,\n",
       " <a class=\"a_menu\" href=\"/lv/favorites/\" title=\"Memo\">Memo</a>]"
      ]
     },
     "execution_count": 69,
     "metadata": {},
     "output_type": "execute_result"
    }
   ],
   "source": [
    "anchors[:5]"
   ]
  },
  {
   "cell_type": "code",
   "execution_count": 70,
   "metadata": {},
   "outputs": [
    {
     "data": {
      "text/plain": [
       "10"
      ]
     },
     "execution_count": 70,
     "metadata": {},
     "output_type": "execute_result"
    }
   ],
   "source": [
    "navs = [anchor for anchor in anchors if anchor.get(\"name\") == \"nav_id\"] # get will get us None if no \"name\" exists\n",
    "len(navs)"
   ]
  },
  {
   "cell_type": "code",
   "execution_count": null,
   "metadata": {},
   "outputs": [],
   "source": [
    "navs"
   ]
  },
  {
   "cell_type": "code",
   "execution_count": 71,
   "metadata": {},
   "outputs": [
    {
     "data": {
      "text/plain": [
       "<a class=\"navi\" href=\"/lv/real-estate/flats/riga/centre/sell/page27.html\" name=\"nav_id\" rel=\"prev\"><img border=\"0\" height=\"5\" src=\"https://i.ss.com/img/s_left.png\" style=\"padding-bottom:2px;\" width=\"9\"/> Iepriekšējie</a>"
      ]
     },
     "execution_count": 71,
     "metadata": {},
     "output_type": "execute_result"
    }
   ],
   "source": [
    "navs[0]"
   ]
  },
  {
   "cell_type": "code",
   "execution_count": 72,
   "metadata": {},
   "outputs": [
    {
     "data": {
      "text/plain": [
       "{'name': 'nav_id',\n",
       " 'rel': ['prev'],\n",
       " 'class': ['navi'],\n",
       " 'href': '/lv/real-estate/flats/riga/centre/sell/page27.html'}"
      ]
     },
     "execution_count": 72,
     "metadata": {},
     "output_type": "execute_result"
    }
   ],
   "source": [
    "navs[0].attrs"
   ]
  },
  {
   "cell_type": "code",
   "execution_count": 73,
   "metadata": {},
   "outputs": [
    {
     "data": {
      "text/plain": [
       "'/lv/real-estate/flats/riga/centre/sell/page27.html'"
      ]
     },
     "execution_count": 73,
     "metadata": {},
     "output_type": "execute_result"
    }
   ],
   "source": [
    "navs[0]['href']"
   ]
  },
  {
   "cell_type": "code",
   "execution_count": 74,
   "metadata": {},
   "outputs": [
    {
     "data": {
      "text/plain": [
       "'27.html'"
      ]
     },
     "execution_count": 74,
     "metadata": {},
     "output_type": "execute_result"
    }
   ],
   "source": [
    "# could use regular expression here but we can use split \n",
    "afterpage = navs[0]['href'].split(\"/page\")[-1] # -1 might be safer than 1 in case there is region with name page\n",
    "afterpage"
   ]
  },
  {
   "cell_type": "code",
   "execution_count": 75,
   "metadata": {},
   "outputs": [
    {
     "data": {
      "text/plain": [
       "'27'"
      ]
     },
     "execution_count": 75,
     "metadata": {},
     "output_type": "execute_result"
    }
   ],
   "source": [
    "beforedot = afterpage.split(\".html\")[0]\n",
    "beforedot"
   ]
  },
  {
   "cell_type": "code",
   "execution_count": 76,
   "metadata": {},
   "outputs": [
    {
     "data": {
      "text/plain": [
       "27"
      ]
     },
     "execution_count": 76,
     "metadata": {},
     "output_type": "execute_result"
    }
   ],
   "source": [
    "# finally we need to convert string to integer\n",
    "lastpage = int(beforedot)\n",
    "lastpage"
   ]
  },
  {
   "cell_type": "code",
   "execution_count": null,
   "metadata": {},
   "outputs": [],
   "source": [
    "# so now wbe put everything we just did in a single function"
   ]
  },
  {
   "cell_type": "code",
   "execution_count": 77,
   "metadata": {},
   "outputs": [
    {
     "data": {
      "text/plain": [
       "<a class=\"navi\" href=\"/lv/real-estate/flats/riga/centre/sell/page27.html\" name=\"nav_id\" rel=\"prev\"><img border=\"0\" height=\"5\" src=\"https://i.ss.com/img/s_left.png\" style=\"padding-bottom:2px;\" width=\"9\"/> Iepriekšējie</a>"
      ]
     },
     "execution_count": 77,
     "metadata": {},
     "output_type": "execute_result"
    }
   ],
   "source": [
    "# instead of getting first element from list we can use find\n",
    "prevanchor = soup.find('a', {\"rel\":\"prev\"})\n",
    "prevanchor"
   ]
  },
  {
   "cell_type": "code",
   "execution_count": 78,
   "metadata": {},
   "outputs": [],
   "source": [
    "def getAllLocalUrls(url):\n",
    "    \"\"\"Get a list of all urls including paginated pages\"\"\"\n",
    "    results = [url] # default is just the url if no extra pages found, teiksim Bolderājai...\n",
    "    req = requests.get(url)\n",
    "    if req.status_code != 200:\n",
    "        print(f\"Bad response! {req.status_code}\")\n",
    "        return []\n",
    "    soup = BeautifulSoup(req.text, 'lxml')\n",
    "    # we just need a one element\n",
    "    prevanchor = soup.find('a', {\"rel\":\"prev\"}) # find finds first match only\n",
    "    if prevanchor == None: # means there is only one page of ads\n",
    "        return results\n",
    "    href = prevanchor.attrs.get('href')\n",
    "    # so split by /page and then take last element and split by .html and take first element\n",
    "    # finally convert to integer\n",
    "    lastPageNum = int(href.split('/page')[-1].split('.html')[0])\n",
    "    print(\"Last page is\",lastPageNum)\n",
    "    nurls = [f\"{url}page{n}.html\" for n in range(2,lastPageNum+1)]\n",
    "    results += nurls # add new urls to our list\n",
    "    return results"
   ]
  },
  {
   "cell_type": "code",
   "execution_count": 79,
   "metadata": {},
   "outputs": [
    {
     "data": {
      "text/plain": [
       "'https://www.ss.com/lv/real-estate/flats/riga/centre/sell/'"
      ]
     },
     "execution_count": 79,
     "metadata": {},
     "output_type": "execute_result"
    }
   ],
   "source": [
    "url"
   ]
  },
  {
   "cell_type": "code",
   "execution_count": 80,
   "metadata": {},
   "outputs": [],
   "source": [
    "centrs = url # alias"
   ]
  },
  {
   "cell_type": "code",
   "execution_count": null,
   "metadata": {},
   "outputs": [],
   "source": [
    "url"
   ]
  },
  {
   "cell_type": "code",
   "execution_count": 81,
   "metadata": {},
   "outputs": [
    {
     "name": "stdout",
     "output_type": "stream",
     "text": [
      "Last page is 27\n"
     ]
    },
    {
     "data": {
      "text/plain": [
       "(27,\n",
       " ['https://www.ss.com/lv/real-estate/flats/riga/centre/sell/',\n",
       "  'https://www.ss.com/lv/real-estate/flats/riga/centre/sell/page2.html',\n",
       "  'https://www.ss.com/lv/real-estate/flats/riga/centre/sell/page3.html'],\n",
       " 'https://www.ss.com/lv/real-estate/flats/riga/centre/sell/page27.html')"
      ]
     },
     "execution_count": 81,
     "metadata": {},
     "output_type": "execute_result"
    }
   ],
   "source": [
    "local_urls = getAllLocalUrls(url)\n",
    "len(local_urls),local_urls[:3],local_urls[-1]"
   ]
  },
  {
   "cell_type": "code",
   "execution_count": 71,
   "metadata": {},
   "outputs": [
    {
     "data": {
      "text/plain": [
       "['https://www.ss.com/lv/real-estate/flats/riga/centre/sell/',\n",
       " 'https://www.ss.com/lv/real-estate/flats/riga/centre/sell/page2.html',\n",
       " 'https://www.ss.com/lv/real-estate/flats/riga/centre/sell/page3.html',\n",
       " 'https://www.ss.com/lv/real-estate/flats/riga/centre/sell/page4.html',\n",
       " 'https://www.ss.com/lv/real-estate/flats/riga/centre/sell/page5.html',\n",
       " 'https://www.ss.com/lv/real-estate/flats/riga/centre/sell/page6.html',\n",
       " 'https://www.ss.com/lv/real-estate/flats/riga/centre/sell/page7.html',\n",
       " 'https://www.ss.com/lv/real-estate/flats/riga/centre/sell/page8.html',\n",
       " 'https://www.ss.com/lv/real-estate/flats/riga/centre/sell/page9.html',\n",
       " 'https://www.ss.com/lv/real-estate/flats/riga/centre/sell/page10.html',\n",
       " 'https://www.ss.com/lv/real-estate/flats/riga/centre/sell/page11.html',\n",
       " 'https://www.ss.com/lv/real-estate/flats/riga/centre/sell/page12.html',\n",
       " 'https://www.ss.com/lv/real-estate/flats/riga/centre/sell/page13.html',\n",
       " 'https://www.ss.com/lv/real-estate/flats/riga/centre/sell/page14.html',\n",
       " 'https://www.ss.com/lv/real-estate/flats/riga/centre/sell/page15.html',\n",
       " 'https://www.ss.com/lv/real-estate/flats/riga/centre/sell/page16.html',\n",
       " 'https://www.ss.com/lv/real-estate/flats/riga/centre/sell/page17.html',\n",
       " 'https://www.ss.com/lv/real-estate/flats/riga/centre/sell/page18.html',\n",
       " 'https://www.ss.com/lv/real-estate/flats/riga/centre/sell/page19.html',\n",
       " 'https://www.ss.com/lv/real-estate/flats/riga/centre/sell/page20.html',\n",
       " 'https://www.ss.com/lv/real-estate/flats/riga/centre/sell/page21.html',\n",
       " 'https://www.ss.com/lv/real-estate/flats/riga/centre/sell/page22.html',\n",
       " 'https://www.ss.com/lv/real-estate/flats/riga/centre/sell/page23.html']"
      ]
     },
     "execution_count": 71,
     "metadata": {},
     "output_type": "execute_result"
    }
   ],
   "source": [
    "local_urls"
   ]
  },
  {
   "cell_type": "code",
   "execution_count": 82,
   "metadata": {},
   "outputs": [
    {
     "data": {
      "text/plain": [
       "(30, 9)"
      ]
     },
     "execution_count": 82,
     "metadata": {},
     "output_type": "execute_result"
    }
   ],
   "source": [
    "dlast = getDFfromURL(local_urls[-1])\n",
    "dlast.shape"
   ]
  },
  {
   "cell_type": "code",
   "execution_count": 83,
   "metadata": {
    "scrolled": true
   },
   "outputs": [
    {
     "data": {
      "text/html": [
       "<div>\n",
       "<style scoped>\n",
       "    .dataframe tbody tr th:only-of-type {\n",
       "        vertical-align: middle;\n",
       "    }\n",
       "\n",
       "    .dataframe tbody tr th {\n",
       "        vertical-align: top;\n",
       "    }\n",
       "\n",
       "    .dataframe thead th {\n",
       "        text-align: right;\n",
       "    }\n",
       "</style>\n",
       "<table border=\"1\" class=\"dataframe\">\n",
       "  <thead>\n",
       "    <tr style=\"text-align: right;\">\n",
       "      <th></th>\n",
       "      <th>description</th>\n",
       "      <th>url</th>\n",
       "      <th>Iela</th>\n",
       "      <th>Ist.</th>\n",
       "      <th>m2</th>\n",
       "      <th>Stāvs</th>\n",
       "      <th>Sērija</th>\n",
       "      <th>Cena, m2</th>\n",
       "      <th>Cena</th>\n",
       "    </tr>\n",
       "  </thead>\n",
       "  <tbody>\n",
       "    <tr>\n",
       "      <th>0</th>\n",
       "      <td>Miera ielas šarms. \\r\\nĒka Miera ielā 5 ir jūg...</td>\n",
       "      <td>https://ss.com/msg/lv/real-estate/flats/riga/c...</td>\n",
       "      <td>Miera 5</td>\n",
       "      <td>3</td>\n",
       "      <td>73</td>\n",
       "      <td>2/6</td>\n",
       "      <td>P. kara</td>\n",
       "      <td>2,322 €</td>\n",
       "      <td>169,500  €</td>\n",
       "    </tr>\n",
       "    <tr>\n",
       "      <th>1</th>\n",
       "      <td>Pārdodam 5 istabu dzīvokli Rīgas centrā. Mājā ...</td>\n",
       "      <td>https://ss.com/msg/lv/real-estate/flats/riga/c...</td>\n",
       "      <td>Brīvības 39A</td>\n",
       "      <td>5</td>\n",
       "      <td>118</td>\n",
       "      <td>2/6</td>\n",
       "      <td>P. kara</td>\n",
       "      <td>2,271 €</td>\n",
       "      <td>268,000  €</td>\n",
       "    </tr>\n",
       "    <tr>\n",
       "      <th>2</th>\n",
       "      <td>Piedāvājam iegādāties labiekārtotu 3 istabu dz...</td>\n",
       "      <td>https://ss.com/msg/lv/real-estate/flats/riga/c...</td>\n",
       "      <td>Republikas laukums..</td>\n",
       "      <td>3</td>\n",
       "      <td>104</td>\n",
       "      <td>4/7</td>\n",
       "      <td>Jaun.</td>\n",
       "      <td>3,173 €</td>\n",
       "      <td>330,000  €</td>\n",
       "    </tr>\n",
       "    <tr>\n",
       "      <th>3</th>\n",
       "      <td>Pārdod plašu dzīvokli vienā no skaistākajām Rī...</td>\n",
       "      <td>https://ss.com/msg/lv/real-estate/flats/riga/c...</td>\n",
       "      <td>Barona 3</td>\n",
       "      <td>6</td>\n",
       "      <td>176</td>\n",
       "      <td>4/5</td>\n",
       "      <td>P. kara</td>\n",
       "      <td>1,841 €</td>\n",
       "      <td>324,000  €</td>\n",
       "    </tr>\n",
       "    <tr>\n",
       "      <th>4</th>\n",
       "      <td>Piedāvājam iegādāties studio dzīvokli, logi vē...</td>\n",
       "      <td>https://ss.com/msg/lv/real-estate/flats/riga/c...</td>\n",
       "      <td>Marijas 14a</td>\n",
       "      <td>1</td>\n",
       "      <td>18</td>\n",
       "      <td>3/6</td>\n",
       "      <td>Renov.</td>\n",
       "      <td>2,670 €</td>\n",
       "      <td>48,060  €</td>\n",
       "    </tr>\n",
       "    <tr>\n",
       "      <th>5</th>\n",
       "      <td>Pārdodu saulainu 2-istabu dzīvokli Centrā. \\r\\...</td>\n",
       "      <td>https://ss.com/msg/lv/real-estate/flats/riga/c...</td>\n",
       "      <td>Vesetas 32</td>\n",
       "      <td>2</td>\n",
       "      <td>47</td>\n",
       "      <td>10/12</td>\n",
       "      <td>Čehu pr.</td>\n",
       "      <td>1,489 €</td>\n",
       "      <td>70,000  €</td>\n",
       "    </tr>\n",
       "    <tr>\n",
       "      <th>6</th>\n",
       "      <td>Pārdodam dzīvokļus Kr. Valdemāra ielā 72, kas ...</td>\n",
       "      <td>https://ss.com/msg/lv/real-estate/flats/riga/c...</td>\n",
       "      <td>Valdemāra 72</td>\n",
       "      <td>4</td>\n",
       "      <td>91</td>\n",
       "      <td>4/4</td>\n",
       "      <td>P. kara</td>\n",
       "      <td>1,516 €</td>\n",
       "      <td>138,000  €</td>\n",
       "    </tr>\n",
       "    <tr>\n",
       "      <th>7</th>\n",
       "      <td>Silts 1-istabu dzīvoklis 5 min no Rīgas paša c...</td>\n",
       "      <td>https://ss.com/msg/lv/real-estate/flats/riga/c...</td>\n",
       "      <td>Pētersalas 17</td>\n",
       "      <td>1</td>\n",
       "      <td>30</td>\n",
       "      <td>2/2</td>\n",
       "      <td>P. kara</td>\n",
       "      <td>599 €</td>\n",
       "      <td>17,980  €</td>\n",
       "    </tr>\n",
       "    <tr>\n",
       "      <th>8</th>\n",
       "      <td>Kā mājas daļa. Pagalma māja. Mājas pirmā stāva...</td>\n",
       "      <td>https://ss.com/msg/lv/real-estate/flats/riga/c...</td>\n",
       "      <td>Maskavas 108</td>\n",
       "      <td>3</td>\n",
       "      <td>57</td>\n",
       "      <td>1/2</td>\n",
       "      <td>Priv. m.</td>\n",
       "      <td>468 €</td>\n",
       "      <td>26,680  €</td>\n",
       "    </tr>\n",
       "    <tr>\n",
       "      <th>9</th>\n",
       "      <td>Investīciju objekts , var piepirkt, klāt otro ...</td>\n",
       "      <td>https://ss.com/msg/lv/real-estate/flats/riga/c...</td>\n",
       "      <td>Maskavas 108</td>\n",
       "      <td>Citi</td>\n",
       "      <td>400</td>\n",
       "      <td>1/3</td>\n",
       "      <td>Priv. m.</td>\n",
       "      <td>217 €</td>\n",
       "      <td>86,900  €</td>\n",
       "    </tr>\n",
       "    <tr>\n",
       "      <th>10</th>\n",
       "      <td>Dzīvokļi kapitāli renovētā projektā - gaišs un...</td>\n",
       "      <td>https://ss.com/msg/lv/real-estate/flats/riga/c...</td>\n",
       "      <td>Sadovņikova 21</td>\n",
       "      <td>4</td>\n",
       "      <td>92</td>\n",
       "      <td>4/4</td>\n",
       "      <td>Renov.</td>\n",
       "      <td>1,413 €</td>\n",
       "      <td>130,000  €</td>\n",
       "    </tr>\n",
       "    <tr>\n",
       "      <th>11</th>\n",
       "      <td>Dzīvoklis atrodas pagalma mājas daļā, no kura ...</td>\n",
       "      <td>https://ss.com/msg/lv/real-estate/flats/riga/c...</td>\n",
       "      <td>Lāčplēša 43/45</td>\n",
       "      <td>3</td>\n",
       "      <td>54</td>\n",
       "      <td>3/5</td>\n",
       "      <td>P. kara</td>\n",
       "      <td>1,519 €</td>\n",
       "      <td>82,000  €</td>\n",
       "    </tr>\n",
       "    <tr>\n",
       "      <th>12</th>\n",
       "      <td>Pārdodas 3 istabu dzīvoklis centrā ( 2 istabas...</td>\n",
       "      <td>https://ss.com/msg/lv/real-estate/flats/riga/c...</td>\n",
       "      <td>Barona 60</td>\n",
       "      <td>3</td>\n",
       "      <td>59</td>\n",
       "      <td>2/3</td>\n",
       "      <td>P. kara</td>\n",
       "      <td>1,949 €</td>\n",
       "      <td>115,000  €</td>\n",
       "    </tr>\n",
       "    <tr>\n",
       "      <th>13</th>\n",
       "      <td>Dzīvoklis atbrīvots, bez apgrūtinājumiem. \\r\\n...</td>\n",
       "      <td>https://ss.com/msg/lv/real-estate/flats/riga/c...</td>\n",
       "      <td>Katrīnas d. 22c</td>\n",
       "      <td>2</td>\n",
       "      <td>49</td>\n",
       "      <td>1/3</td>\n",
       "      <td>Staļina</td>\n",
       "      <td>815 €</td>\n",
       "      <td>39,950  €</td>\n",
       "    </tr>\n",
       "    <tr>\n",
       "      <th>14</th>\n",
       "      <td>Tiek pārdots ekskluzīvs, gaišs un saulains dzī...</td>\n",
       "      <td>https://ss.com/msg/lv/real-estate/flats/riga/c...</td>\n",
       "      <td>Stabu 19</td>\n",
       "      <td>4</td>\n",
       "      <td>215</td>\n",
       "      <td>2/7</td>\n",
       "      <td>Renov.</td>\n",
       "      <td>1,372 €</td>\n",
       "      <td>295,000  €</td>\n",
       "    </tr>\n",
       "    <tr>\n",
       "      <th>15</th>\n",
       "      <td>Piedāvājumā kompakts, bet funkcionāls un ērts ...</td>\n",
       "      <td>https://ss.com/msg/lv/real-estate/flats/riga/c...</td>\n",
       "      <td>Bruņinieku 93</td>\n",
       "      <td>3</td>\n",
       "      <td>59</td>\n",
       "      <td>2/2</td>\n",
       "      <td>Renov.</td>\n",
       "      <td>2,542 €</td>\n",
       "      <td>150,000  €</td>\n",
       "    </tr>\n",
       "    <tr>\n",
       "      <th>16</th>\n",
       "      <td>Dzīvojamā ēka Kazarmu ielā 7, Rīgā celta pēc H...</td>\n",
       "      <td>https://ss.com/msg/lv/real-estate/flats/riga/c...</td>\n",
       "      <td>Kazarmu 7</td>\n",
       "      <td>5</td>\n",
       "      <td>137</td>\n",
       "      <td>3/4</td>\n",
       "      <td>P. kara</td>\n",
       "      <td>2,300 €</td>\n",
       "      <td>315,100  €</td>\n",
       "    </tr>\n",
       "    <tr>\n",
       "      <th>17</th>\n",
       "      <td>Dzīvoklis vienā no prestižākajām Rīgas pilsēta...</td>\n",
       "      <td>https://ss.com/msg/lv/real-estate/flats/riga/c...</td>\n",
       "      <td>Vīlandes 7</td>\n",
       "      <td>5</td>\n",
       "      <td>155</td>\n",
       "      <td>5/5</td>\n",
       "      <td>Renov.</td>\n",
       "      <td>2,419 €</td>\n",
       "      <td>375,000  €</td>\n",
       "    </tr>\n",
       "    <tr>\n",
       "      <th>18</th>\n",
       "      <td>Квартира студио типа 28.6 м2 в каменном доме, ...</td>\n",
       "      <td>https://ss.com/msg/lv/real-estate/flats/riga/c...</td>\n",
       "      <td>Piena 2</td>\n",
       "      <td>1</td>\n",
       "      <td>29</td>\n",
       "      <td>1/4</td>\n",
       "      <td>Renov.</td>\n",
       "      <td>1,923 €</td>\n",
       "      <td>55,770  €</td>\n",
       "    </tr>\n",
       "    <tr>\n",
       "      <th>19</th>\n",
       "      <td>Īpašnieks pārdod kompaktu 1 istabas dzīvokli J...</td>\n",
       "      <td>https://ss.com/msg/lv/real-estate/flats/riga/c...</td>\n",
       "      <td>Ganību d. 13</td>\n",
       "      <td>1</td>\n",
       "      <td>21</td>\n",
       "      <td>4/6</td>\n",
       "      <td>Jaun.</td>\n",
       "      <td>1,419 €</td>\n",
       "      <td>29,800  €</td>\n",
       "    </tr>\n",
       "    <tr>\n",
       "      <th>20</th>\n",
       "      <td>Īpašnieks pārdod pilnīgi renovētu dzīvokli. Dz...</td>\n",
       "      <td>https://ss.com/msg/lv/real-estate/flats/riga/c...</td>\n",
       "      <td>Barona 80</td>\n",
       "      <td>2</td>\n",
       "      <td>45</td>\n",
       "      <td>1/5</td>\n",
       "      <td>P. kara</td>\n",
       "      <td>1,622 €</td>\n",
       "      <td>73,000  €</td>\n",
       "    </tr>\n",
       "    <tr>\n",
       "      <th>21</th>\n",
       "      <td>Jauns 4-istabu dzīvoklis renovētā projektā Rīg...</td>\n",
       "      <td>https://ss.com/msg/lv/real-estate/flats/riga/c...</td>\n",
       "      <td>Pļavas 4</td>\n",
       "      <td>4</td>\n",
       "      <td>74</td>\n",
       "      <td>3/3</td>\n",
       "      <td>Renov.</td>\n",
       "      <td>2,303 €</td>\n",
       "      <td>170,430  €</td>\n",
       "    </tr>\n",
       "    <tr>\n",
       "      <th>22</th>\n",
       "      <td>Jauks dzīvoklis ar četrām izolētam istabām\\r\\n...</td>\n",
       "      <td>https://ss.com/msg/lv/real-estate/flats/riga/c...</td>\n",
       "      <td>Birznieka-Upīša 13</td>\n",
       "      <td>4</td>\n",
       "      <td>97</td>\n",
       "      <td>2/7</td>\n",
       "      <td>Jaun.</td>\n",
       "      <td>3,093 €</td>\n",
       "      <td>300,000  €</td>\n",
       "    </tr>\n",
       "    <tr>\n",
       "      <th>23</th>\n",
       "      <td>Дом обслуживает Dzīks Dīķi. \\r\\nПоменяны: крыш...</td>\n",
       "      <td>https://ss.com/msg/lv/real-estate/flats/riga/c...</td>\n",
       "      <td>Zirņu 6</td>\n",
       "      <td>2</td>\n",
       "      <td>42</td>\n",
       "      <td>6/6</td>\n",
       "      <td>Hrušč.</td>\n",
       "      <td>1,167 €</td>\n",
       "      <td>49,000  €</td>\n",
       "    </tr>\n",
       "    <tr>\n",
       "      <th>24</th>\n",
       "      <td>Pārdod dzīvokli ar labu investīciju potenciālu...</td>\n",
       "      <td>https://ss.com/msg/lv/real-estate/flats/riga/c...</td>\n",
       "      <td>Ģertrūdes 37</td>\n",
       "      <td>2</td>\n",
       "      <td>37</td>\n",
       "      <td>5/6</td>\n",
       "      <td>P. kara</td>\n",
       "      <td>784 €</td>\n",
       "      <td>29,000  €</td>\n",
       "    </tr>\n",
       "    <tr>\n",
       "      <th>25</th>\n",
       "      <td>Dzīvoklis atrodas klusā Rīgas centra nostūrī. ...</td>\n",
       "      <td>https://ss.com/msg/lv/real-estate/flats/riga/c...</td>\n",
       "      <td>Ieroču 6</td>\n",
       "      <td>3</td>\n",
       "      <td>52</td>\n",
       "      <td>1/2</td>\n",
       "      <td>P. kara</td>\n",
       "      <td>500 €</td>\n",
       "      <td>26,000  €</td>\n",
       "    </tr>\n",
       "    <tr>\n",
       "      <th>26</th>\n",
       "      <td>Tiek pārdots trīsistabu dzīvoklis centrā. Visa...</td>\n",
       "      <td>https://ss.com/msg/lv/real-estate/flats/riga/c...</td>\n",
       "      <td>Birznieka-Upīša 29</td>\n",
       "      <td>3</td>\n",
       "      <td>77</td>\n",
       "      <td>2/5</td>\n",
       "      <td>Renov.</td>\n",
       "      <td>1,688 €</td>\n",
       "      <td>130,000  €</td>\n",
       "    </tr>\n",
       "    <tr>\n",
       "      <th>27</th>\n",
       "      <td>Plašs dzīvoklis pašā Rīgas centrā gaida jaunu ...</td>\n",
       "      <td>https://ss.com/msg/lv/real-estate/flats/riga/c...</td>\n",
       "      <td>Elijas 5</td>\n",
       "      <td>5</td>\n",
       "      <td>109</td>\n",
       "      <td>4/5</td>\n",
       "      <td>P. kara</td>\n",
       "      <td>1,239 €</td>\n",
       "      <td>135,000  €</td>\n",
       "    </tr>\n",
       "    <tr>\n",
       "      <th>28</th>\n",
       "      <td>Pārdod 2 istabas un virtuvi (pēc Zemesgrāmatas...</td>\n",
       "      <td>https://ss.com/msg/lv/real-estate/flats/riga/c...</td>\n",
       "      <td>Krāsotāju 15</td>\n",
       "      <td>2</td>\n",
       "      <td>35</td>\n",
       "      <td>2/2</td>\n",
       "      <td>P. kara</td>\n",
       "      <td>600 €</td>\n",
       "      <td>21,000  €</td>\n",
       "    </tr>\n",
       "    <tr>\n",
       "      <th>29</th>\n",
       "      <td>Pārdodu ļoti mājīgu, siltu, pilnībā mēbelētu 2...</td>\n",
       "      <td>https://ss.com/msg/lv/real-estate/flats/riga/c...</td>\n",
       "      <td>Miera 93</td>\n",
       "      <td>2</td>\n",
       "      <td>45</td>\n",
       "      <td>2/7</td>\n",
       "      <td>Jaun.</td>\n",
       "      <td>2,667 €</td>\n",
       "      <td>120,000  €</td>\n",
       "    </tr>\n",
       "  </tbody>\n",
       "</table>\n",
       "</div>"
      ],
      "text/plain": [
       "                                          description   \n",
       "0   Miera ielas šarms. \\r\\nĒka Miera ielā 5 ir jūg...  \\\n",
       "1   Pārdodam 5 istabu dzīvokli Rīgas centrā. Mājā ...   \n",
       "2   Piedāvājam iegādāties labiekārtotu 3 istabu dz...   \n",
       "3   Pārdod plašu dzīvokli vienā no skaistākajām Rī...   \n",
       "4   Piedāvājam iegādāties studio dzīvokli, logi vē...   \n",
       "5   Pārdodu saulainu 2-istabu dzīvokli Centrā. \\r\\...   \n",
       "6   Pārdodam dzīvokļus Kr. Valdemāra ielā 72, kas ...   \n",
       "7   Silts 1-istabu dzīvoklis 5 min no Rīgas paša c...   \n",
       "8   Kā mājas daļa. Pagalma māja. Mājas pirmā stāva...   \n",
       "9   Investīciju objekts , var piepirkt, klāt otro ...   \n",
       "10  Dzīvokļi kapitāli renovētā projektā - gaišs un...   \n",
       "11  Dzīvoklis atrodas pagalma mājas daļā, no kura ...   \n",
       "12  Pārdodas 3 istabu dzīvoklis centrā ( 2 istabas...   \n",
       "13  Dzīvoklis atbrīvots, bez apgrūtinājumiem. \\r\\n...   \n",
       "14  Tiek pārdots ekskluzīvs, gaišs un saulains dzī...   \n",
       "15  Piedāvājumā kompakts, bet funkcionāls un ērts ...   \n",
       "16  Dzīvojamā ēka Kazarmu ielā 7, Rīgā celta pēc H...   \n",
       "17  Dzīvoklis vienā no prestižākajām Rīgas pilsēta...   \n",
       "18  Квартира студио типа 28.6 м2 в каменном доме, ...   \n",
       "19  Īpašnieks pārdod kompaktu 1 istabas dzīvokli J...   \n",
       "20  Īpašnieks pārdod pilnīgi renovētu dzīvokli. Dz...   \n",
       "21  Jauns 4-istabu dzīvoklis renovētā projektā Rīg...   \n",
       "22  Jauks dzīvoklis ar četrām izolētam istabām\\r\\n...   \n",
       "23  Дом обслуживает Dzīks Dīķi. \\r\\nПоменяны: крыш...   \n",
       "24  Pārdod dzīvokli ar labu investīciju potenciālu...   \n",
       "25  Dzīvoklis atrodas klusā Rīgas centra nostūrī. ...   \n",
       "26  Tiek pārdots trīsistabu dzīvoklis centrā. Visa...   \n",
       "27  Plašs dzīvoklis pašā Rīgas centrā gaida jaunu ...   \n",
       "28  Pārdod 2 istabas un virtuvi (pēc Zemesgrāmatas...   \n",
       "29  Pārdodu ļoti mājīgu, siltu, pilnībā mēbelētu 2...   \n",
       "\n",
       "                                                  url                  Iela   \n",
       "0   https://ss.com/msg/lv/real-estate/flats/riga/c...               Miera 5  \\\n",
       "1   https://ss.com/msg/lv/real-estate/flats/riga/c...          Brīvības 39A   \n",
       "2   https://ss.com/msg/lv/real-estate/flats/riga/c...  Republikas laukums..   \n",
       "3   https://ss.com/msg/lv/real-estate/flats/riga/c...              Barona 3   \n",
       "4   https://ss.com/msg/lv/real-estate/flats/riga/c...           Marijas 14a   \n",
       "5   https://ss.com/msg/lv/real-estate/flats/riga/c...            Vesetas 32   \n",
       "6   https://ss.com/msg/lv/real-estate/flats/riga/c...          Valdemāra 72   \n",
       "7   https://ss.com/msg/lv/real-estate/flats/riga/c...         Pētersalas 17   \n",
       "8   https://ss.com/msg/lv/real-estate/flats/riga/c...          Maskavas 108   \n",
       "9   https://ss.com/msg/lv/real-estate/flats/riga/c...          Maskavas 108   \n",
       "10  https://ss.com/msg/lv/real-estate/flats/riga/c...        Sadovņikova 21   \n",
       "11  https://ss.com/msg/lv/real-estate/flats/riga/c...        Lāčplēša 43/45   \n",
       "12  https://ss.com/msg/lv/real-estate/flats/riga/c...             Barona 60   \n",
       "13  https://ss.com/msg/lv/real-estate/flats/riga/c...       Katrīnas d. 22c   \n",
       "14  https://ss.com/msg/lv/real-estate/flats/riga/c...              Stabu 19   \n",
       "15  https://ss.com/msg/lv/real-estate/flats/riga/c...         Bruņinieku 93   \n",
       "16  https://ss.com/msg/lv/real-estate/flats/riga/c...             Kazarmu 7   \n",
       "17  https://ss.com/msg/lv/real-estate/flats/riga/c...            Vīlandes 7   \n",
       "18  https://ss.com/msg/lv/real-estate/flats/riga/c...               Piena 2   \n",
       "19  https://ss.com/msg/lv/real-estate/flats/riga/c...          Ganību d. 13   \n",
       "20  https://ss.com/msg/lv/real-estate/flats/riga/c...             Barona 80   \n",
       "21  https://ss.com/msg/lv/real-estate/flats/riga/c...              Pļavas 4   \n",
       "22  https://ss.com/msg/lv/real-estate/flats/riga/c...    Birznieka-Upīša 13   \n",
       "23  https://ss.com/msg/lv/real-estate/flats/riga/c...               Zirņu 6   \n",
       "24  https://ss.com/msg/lv/real-estate/flats/riga/c...          Ģertrūdes 37   \n",
       "25  https://ss.com/msg/lv/real-estate/flats/riga/c...              Ieroču 6   \n",
       "26  https://ss.com/msg/lv/real-estate/flats/riga/c...    Birznieka-Upīša 29   \n",
       "27  https://ss.com/msg/lv/real-estate/flats/riga/c...              Elijas 5   \n",
       "28  https://ss.com/msg/lv/real-estate/flats/riga/c...          Krāsotāju 15   \n",
       "29  https://ss.com/msg/lv/real-estate/flats/riga/c...              Miera 93   \n",
       "\n",
       "    Ist.   m2  Stāvs    Sērija Cena, m2        Cena  \n",
       "0      3   73    2/6   P. kara  2,322 €  169,500  €  \n",
       "1      5  118    2/6   P. kara  2,271 €  268,000  €  \n",
       "2      3  104    4/7     Jaun.  3,173 €  330,000  €  \n",
       "3      6  176    4/5   P. kara  1,841 €  324,000  €  \n",
       "4      1   18    3/6    Renov.  2,670 €   48,060  €  \n",
       "5      2   47  10/12  Čehu pr.  1,489 €   70,000  €  \n",
       "6      4   91    4/4   P. kara  1,516 €  138,000  €  \n",
       "7      1   30    2/2   P. kara    599 €   17,980  €  \n",
       "8      3   57    1/2  Priv. m.    468 €   26,680  €  \n",
       "9   Citi  400    1/3  Priv. m.    217 €   86,900  €  \n",
       "10     4   92    4/4    Renov.  1,413 €  130,000  €  \n",
       "11     3   54    3/5   P. kara  1,519 €   82,000  €  \n",
       "12     3   59    2/3   P. kara  1,949 €  115,000  €  \n",
       "13     2   49    1/3   Staļina    815 €   39,950  €  \n",
       "14     4  215    2/7    Renov.  1,372 €  295,000  €  \n",
       "15     3   59    2/2    Renov.  2,542 €  150,000  €  \n",
       "16     5  137    3/4   P. kara  2,300 €  315,100  €  \n",
       "17     5  155    5/5    Renov.  2,419 €  375,000  €  \n",
       "18     1   29    1/4    Renov.  1,923 €   55,770  €  \n",
       "19     1   21    4/6     Jaun.  1,419 €   29,800  €  \n",
       "20     2   45    1/5   P. kara  1,622 €   73,000  €  \n",
       "21     4   74    3/3    Renov.  2,303 €  170,430  €  \n",
       "22     4   97    2/7     Jaun.  3,093 €  300,000  €  \n",
       "23     2   42    6/6    Hrušč.  1,167 €   49,000  €  \n",
       "24     2   37    5/6   P. kara    784 €   29,000  €  \n",
       "25     3   52    1/2   P. kara    500 €   26,000  €  \n",
       "26     3   77    2/5    Renov.  1,688 €  130,000  €  \n",
       "27     5  109    4/5   P. kara  1,239 €  135,000  €  \n",
       "28     2   35    2/2   P. kara    600 €   21,000  €  \n",
       "29     2   45    2/7     Jaun.  2,667 €  120,000  €  "
      ]
     },
     "execution_count": 83,
     "metadata": {},
     "output_type": "execute_result"
    }
   ],
   "source": [
    "dlast"
   ]
  },
  {
   "cell_type": "code",
   "execution_count": 84,
   "metadata": {},
   "outputs": [],
   "source": [
    "def get_all_ads_df(start_url, save_excel_path=None):\n",
    "    df_list=[] # so we will save our dataframes in a list\n",
    "    local_urls = getAllLocalUrls(start_url)\n",
    "    for url in local_urls:\n",
    "        print(f\"Gathering data from {url}\")\n",
    "        df_list.append(getDFfromURL(url))\n",
    "        time.sleep(0.3) # we need this to play nice! to avoid rate limit or IP ban!!\n",
    "    # https://pandas.pydata.org/pandas-docs/stable/reference/api/pandas.concat.html\n",
    "    big_df = pd.concat(df_list, ignore_index=True) # then make a big dataframe from all the small dataframes\n",
    "    if save_excel_path:\n",
    "        print(f\"Saving to {save_excel_path}\")\n",
    "        big_df.to_excel(save_excel_path)\n",
    "    return big_df\n",
    "    "
   ]
  },
  {
   "cell_type": "code",
   "execution_count": 85,
   "metadata": {},
   "outputs": [
    {
     "data": {
      "text/plain": [
       "'https://www.ss.com/lv/real-estate/flats/riga/centre/sell/'"
      ]
     },
     "execution_count": 85,
     "metadata": {},
     "output_type": "execute_result"
    }
   ],
   "source": [
    "centrs = url\n",
    "centrs"
   ]
  },
  {
   "cell_type": "code",
   "execution_count": 86,
   "metadata": {
    "scrolled": true
   },
   "outputs": [
    {
     "name": "stdout",
     "output_type": "stream",
     "text": [
      "Last page is 27\n",
      "Gathering data from https://www.ss.com/lv/real-estate/flats/riga/centre/sell/\n",
      "Gathering data from https://www.ss.com/lv/real-estate/flats/riga/centre/sell/page2.html\n",
      "Gathering data from https://www.ss.com/lv/real-estate/flats/riga/centre/sell/page3.html\n",
      "Gathering data from https://www.ss.com/lv/real-estate/flats/riga/centre/sell/page4.html\n",
      "Gathering data from https://www.ss.com/lv/real-estate/flats/riga/centre/sell/page5.html\n",
      "Gathering data from https://www.ss.com/lv/real-estate/flats/riga/centre/sell/page6.html\n",
      "Gathering data from https://www.ss.com/lv/real-estate/flats/riga/centre/sell/page7.html\n",
      "Gathering data from https://www.ss.com/lv/real-estate/flats/riga/centre/sell/page8.html\n",
      "Gathering data from https://www.ss.com/lv/real-estate/flats/riga/centre/sell/page9.html\n",
      "Gathering data from https://www.ss.com/lv/real-estate/flats/riga/centre/sell/page10.html\n",
      "Gathering data from https://www.ss.com/lv/real-estate/flats/riga/centre/sell/page11.html\n",
      "Gathering data from https://www.ss.com/lv/real-estate/flats/riga/centre/sell/page12.html\n",
      "Gathering data from https://www.ss.com/lv/real-estate/flats/riga/centre/sell/page13.html\n",
      "Gathering data from https://www.ss.com/lv/real-estate/flats/riga/centre/sell/page14.html\n",
      "Gathering data from https://www.ss.com/lv/real-estate/flats/riga/centre/sell/page15.html\n",
      "Gathering data from https://www.ss.com/lv/real-estate/flats/riga/centre/sell/page16.html\n",
      "Gathering data from https://www.ss.com/lv/real-estate/flats/riga/centre/sell/page17.html\n",
      "Gathering data from https://www.ss.com/lv/real-estate/flats/riga/centre/sell/page18.html\n",
      "Gathering data from https://www.ss.com/lv/real-estate/flats/riga/centre/sell/page19.html\n",
      "Gathering data from https://www.ss.com/lv/real-estate/flats/riga/centre/sell/page20.html\n",
      "Gathering data from https://www.ss.com/lv/real-estate/flats/riga/centre/sell/page21.html\n",
      "Gathering data from https://www.ss.com/lv/real-estate/flats/riga/centre/sell/page22.html\n",
      "Gathering data from https://www.ss.com/lv/real-estate/flats/riga/centre/sell/page23.html\n",
      "Gathering data from https://www.ss.com/lv/real-estate/flats/riga/centre/sell/page24.html\n",
      "Gathering data from https://www.ss.com/lv/real-estate/flats/riga/centre/sell/page25.html\n",
      "Gathering data from https://www.ss.com/lv/real-estate/flats/riga/centre/sell/page26.html\n",
      "Gathering data from https://www.ss.com/lv/real-estate/flats/riga/centre/sell/page27.html\n",
      "Saving to centrs_dzivokli_may11.xlsx\n"
     ]
    }
   ],
   "source": [
    "centra_df = get_all_ads_df(centrs, save_excel_path=\"centrs_dzivokli_may11.xlsx\")"
   ]
  },
  {
   "cell_type": "code",
   "execution_count": 87,
   "metadata": {},
   "outputs": [
    {
     "data": {
      "text/html": [
       "<div>\n",
       "<style scoped>\n",
       "    .dataframe tbody tr th:only-of-type {\n",
       "        vertical-align: middle;\n",
       "    }\n",
       "\n",
       "    .dataframe tbody tr th {\n",
       "        vertical-align: top;\n",
       "    }\n",
       "\n",
       "    .dataframe thead th {\n",
       "        text-align: right;\n",
       "    }\n",
       "</style>\n",
       "<table border=\"1\" class=\"dataframe\">\n",
       "  <thead>\n",
       "    <tr style=\"text-align: right;\">\n",
       "      <th></th>\n",
       "      <th>description</th>\n",
       "      <th>url</th>\n",
       "      <th>Iela</th>\n",
       "      <th>Ist.</th>\n",
       "      <th>m2</th>\n",
       "      <th>Stāvs</th>\n",
       "      <th>Sērija</th>\n",
       "      <th>Cena, m2</th>\n",
       "      <th>Cena</th>\n",
       "    </tr>\n",
       "  </thead>\n",
       "  <tbody>\n",
       "    <tr>\n",
       "      <th>0</th>\n",
       "      <td>Dzīvoklis tikko pēc remonta. \\r\\nDzīvojamā ist...</td>\n",
       "      <td>https://ss.com/msg/lv/real-estate/flats/riga/c...</td>\n",
       "      <td>Valdemāra 73</td>\n",
       "      <td>3</td>\n",
       "      <td>66</td>\n",
       "      <td>6/6</td>\n",
       "      <td>P. kara</td>\n",
       "      <td>2,500 €</td>\n",
       "      <td>165,000  €</td>\n",
       "    </tr>\n",
       "    <tr>\n",
       "      <th>1</th>\n",
       "      <td>Tikko pēc kapitāla remonta. Augstais stāvs, k...</td>\n",
       "      <td>https://ss.com/msg/lv/real-estate/flats/riga/c...</td>\n",
       "      <td>Katrīnas d. 22</td>\n",
       "      <td>3</td>\n",
       "      <td>66</td>\n",
       "      <td>1/4</td>\n",
       "      <td>Specpr.</td>\n",
       "      <td>1,423 €</td>\n",
       "      <td>93,900  €</td>\n",
       "    </tr>\n",
       "    <tr>\n",
       "      <th>2</th>\n",
       "      <td>Kluss. Panorāmas skats no logiem. \\r\\nLaba plā...</td>\n",
       "      <td>https://ss.com/msg/lv/real-estate/flats/riga/c...</td>\n",
       "      <td>Teātra 12</td>\n",
       "      <td>5</td>\n",
       "      <td>136</td>\n",
       "      <td>6/7</td>\n",
       "      <td>P. kara</td>\n",
       "      <td>2,000 €</td>\n",
       "      <td>272,000  €</td>\n",
       "    </tr>\n",
       "    <tr>\n",
       "      <th>3</th>\n",
       "      <td>Vairāki pakāpieni uz leju. \\r\\nDaļa maksas var...</td>\n",
       "      <td>https://ss.com/msg/lv/real-estate/flats/riga/c...</td>\n",
       "      <td>Duntes 26</td>\n",
       "      <td>3</td>\n",
       "      <td>67</td>\n",
       "      <td>1/6</td>\n",
       "      <td>Specpr.</td>\n",
       "      <td>143 €</td>\n",
       "      <td>9,580  €</td>\n",
       "    </tr>\n",
       "    <tr>\n",
       "      <th>4</th>\n",
       "      <td>Pārdodam dzīvokļus ēkā ar vēstures garšu. Reno...</td>\n",
       "      <td>https://ss.com/msg/lv/real-estate/flats/riga/c...</td>\n",
       "      <td>Tomsona 33</td>\n",
       "      <td>3</td>\n",
       "      <td>64</td>\n",
       "      <td>4/5</td>\n",
       "      <td>Renov.</td>\n",
       "      <td>2,180 €</td>\n",
       "      <td>139,500  €</td>\n",
       "    </tr>\n",
       "    <tr>\n",
       "      <th>5</th>\n",
       "      <td>Pasteidzies. 80% dzīvokļu jau izpārdoti. \\r\\n\\...</td>\n",
       "      <td>https://ss.com/msg/lv/real-estate/flats/riga/c...</td>\n",
       "      <td>Brīvības 95</td>\n",
       "      <td>4</td>\n",
       "      <td>86</td>\n",
       "      <td>5/7</td>\n",
       "      <td>Renov.</td>\n",
       "      <td>2,198 €</td>\n",
       "      <td>189,000  €</td>\n",
       "    </tr>\n",
       "    <tr>\n",
       "      <th>6</th>\n",
       "      <td>Piedāvājumā 3 istabu dzīvoklis 4.stāvā ar skat...</td>\n",
       "      <td>https://ss.com/msg/lv/real-estate/flats/riga/c...</td>\n",
       "      <td>Brīvības 95</td>\n",
       "      <td>3</td>\n",
       "      <td>86</td>\n",
       "      <td>4/7</td>\n",
       "      <td>Renov.</td>\n",
       "      <td>2,198 €</td>\n",
       "      <td>189,000  €</td>\n",
       "    </tr>\n",
       "    <tr>\n",
       "      <th>7</th>\n",
       "      <td>Projekta Parker's attīstītājs pārdod dzīvokli ...</td>\n",
       "      <td>https://ss.com/msg/lv/real-estate/flats/riga/c...</td>\n",
       "      <td>Valdemāra 41A</td>\n",
       "      <td>4</td>\n",
       "      <td>320</td>\n",
       "      <td>7/7</td>\n",
       "      <td>Jaun.</td>\n",
       "      <td>2,022 €</td>\n",
       "      <td>647,000  €</td>\n",
       "    </tr>\n",
       "    <tr>\n",
       "      <th>8</th>\n",
       "      <td>Samazināta cena līdz 1.maijam\\r\\n\\r\\nJauns pro...</td>\n",
       "      <td>https://ss.com/msg/lv/real-estate/flats/riga/c...</td>\n",
       "      <td>Matīsa 63</td>\n",
       "      <td>2</td>\n",
       "      <td>43</td>\n",
       "      <td>3/7</td>\n",
       "      <td>Renov.</td>\n",
       "      <td>2,207 €</td>\n",
       "      <td>94,905  €</td>\n",
       "    </tr>\n",
       "    <tr>\n",
       "      <th>9</th>\n",
       "      <td>Īpašnieks piedāvā iegādāties skaistu un gaišu ...</td>\n",
       "      <td>https://ss.com/msg/lv/real-estate/flats/riga/c...</td>\n",
       "      <td>Marijas 23</td>\n",
       "      <td>4</td>\n",
       "      <td>116</td>\n",
       "      <td>2/6</td>\n",
       "      <td>P. kara</td>\n",
       "      <td>1,681 €</td>\n",
       "      <td>195,000  €</td>\n",
       "    </tr>\n",
       "  </tbody>\n",
       "</table>\n",
       "</div>"
      ],
      "text/plain": [
       "                                         description   \n",
       "0  Dzīvoklis tikko pēc remonta. \\r\\nDzīvojamā ist...  \\\n",
       "1   Tikko pēc kapitāla remonta. Augstais stāvs, k...   \n",
       "2  Kluss. Panorāmas skats no logiem. \\r\\nLaba plā...   \n",
       "3  Vairāki pakāpieni uz leju. \\r\\nDaļa maksas var...   \n",
       "4  Pārdodam dzīvokļus ēkā ar vēstures garšu. Reno...   \n",
       "5  Pasteidzies. 80% dzīvokļu jau izpārdoti. \\r\\n\\...   \n",
       "6  Piedāvājumā 3 istabu dzīvoklis 4.stāvā ar skat...   \n",
       "7  Projekta Parker's attīstītājs pārdod dzīvokli ...   \n",
       "8  Samazināta cena līdz 1.maijam\\r\\n\\r\\nJauns pro...   \n",
       "9  Īpašnieks piedāvā iegādāties skaistu un gaišu ...   \n",
       "\n",
       "                                                 url            Iela Ist.   \n",
       "0  https://ss.com/msg/lv/real-estate/flats/riga/c...    Valdemāra 73    3  \\\n",
       "1  https://ss.com/msg/lv/real-estate/flats/riga/c...  Katrīnas d. 22    3   \n",
       "2  https://ss.com/msg/lv/real-estate/flats/riga/c...       Teātra 12    5   \n",
       "3  https://ss.com/msg/lv/real-estate/flats/riga/c...       Duntes 26    3   \n",
       "4  https://ss.com/msg/lv/real-estate/flats/riga/c...      Tomsona 33    3   \n",
       "5  https://ss.com/msg/lv/real-estate/flats/riga/c...     Brīvības 95    4   \n",
       "6  https://ss.com/msg/lv/real-estate/flats/riga/c...     Brīvības 95    3   \n",
       "7  https://ss.com/msg/lv/real-estate/flats/riga/c...   Valdemāra 41A    4   \n",
       "8  https://ss.com/msg/lv/real-estate/flats/riga/c...       Matīsa 63    2   \n",
       "9  https://ss.com/msg/lv/real-estate/flats/riga/c...      Marijas 23    4   \n",
       "\n",
       "    m2 Stāvs   Sērija Cena, m2        Cena  \n",
       "0   66   6/6  P. kara  2,500 €  165,000  €  \n",
       "1   66   1/4  Specpr.  1,423 €   93,900  €  \n",
       "2  136   6/7  P. kara  2,000 €  272,000  €  \n",
       "3   67   1/6  Specpr.    143 €    9,580  €  \n",
       "4   64   4/5   Renov.  2,180 €  139,500  €  \n",
       "5   86   5/7   Renov.  2,198 €  189,000  €  \n",
       "6   86   4/7   Renov.  2,198 €  189,000  €  \n",
       "7  320   7/7    Jaun.  2,022 €  647,000  €  \n",
       "8   43   3/7   Renov.  2,207 €   94,905  €  \n",
       "9  116   2/6  P. kara  1,681 €  195,000  €  "
      ]
     },
     "execution_count": 87,
     "metadata": {},
     "output_type": "execute_result"
    }
   ],
   "source": [
    "centra_df.head(10)"
   ]
  },
  {
   "cell_type": "code",
   "execution_count": null,
   "metadata": {},
   "outputs": [],
   "source": [
    "url"
   ]
  },
  {
   "cell_type": "code",
   "execution_count": null,
   "metadata": {},
   "outputs": [],
   "source": [
    "riga_region = get_all_ads_df(url, \"riga_region_sep28.xlsx\")"
   ]
  },
  {
   "cell_type": "code",
   "execution_count": null,
   "metadata": {},
   "outputs": [],
   "source": [
    "riga_region.shape"
   ]
  },
  {
   "cell_type": "code",
   "execution_count": null,
   "metadata": {},
   "outputs": [],
   "source": [
    "riga_region.head(10)"
   ]
  },
  {
   "cell_type": "code",
   "execution_count": null,
   "metadata": {},
   "outputs": [],
   "source": [
    "riga_region.tail(10)"
   ]
  },
  {
   "cell_type": "code",
   "execution_count": 76,
   "metadata": {},
   "outputs": [
    {
     "name": "stdout",
     "output_type": "stream",
     "text": [
      "Last page is 5\n",
      "Gathering data from https://www.ss.com/lv/real-estate/flats/riga/agenskalns/sell/\n",
      "Gathering data from https://www.ss.com/lv/real-estate/flats/riga/agenskalns/sell/page2.html\n",
      "Gathering data from https://www.ss.com/lv/real-estate/flats/riga/agenskalns/sell/page3.html\n",
      "Gathering data from https://www.ss.com/lv/real-estate/flats/riga/agenskalns/sell/page4.html\n",
      "Gathering data from https://www.ss.com/lv/real-estate/flats/riga/agenskalns/sell/page5.html\n"
     ]
    },
    {
     "data": {
      "text/html": [
       "<div>\n",
       "<style scoped>\n",
       "    .dataframe tbody tr th:only-of-type {\n",
       "        vertical-align: middle;\n",
       "    }\n",
       "\n",
       "    .dataframe tbody tr th {\n",
       "        vertical-align: top;\n",
       "    }\n",
       "\n",
       "    .dataframe thead th {\n",
       "        text-align: right;\n",
       "    }\n",
       "</style>\n",
       "<table border=\"1\" class=\"dataframe\">\n",
       "  <thead>\n",
       "    <tr style=\"text-align: right;\">\n",
       "      <th></th>\n",
       "      <th>description</th>\n",
       "      <th>url</th>\n",
       "      <th>Iela</th>\n",
       "      <th>Ist.</th>\n",
       "      <th>m2</th>\n",
       "      <th>Stāvs</th>\n",
       "      <th>Sērija</th>\n",
       "      <th>Cena, m2</th>\n",
       "      <th>Cena</th>\n",
       "    </tr>\n",
       "  </thead>\n",
       "  <tbody>\n",
       "    <tr>\n",
       "      <th>0</th>\n",
       "      <td>Dzīvoklis vēsturiskā mājā ar stāvvietu un zaļo...</td>\n",
       "      <td>https://ss.com/msg/lv/real-estate/flats/riga/a...</td>\n",
       "      <td>Tukuma 3</td>\n",
       "      <td>1</td>\n",
       "      <td>27</td>\n",
       "      <td>3/3</td>\n",
       "      <td>P. kara</td>\n",
       "      <td>1,741 €</td>\n",
       "      <td>47,000  €</td>\n",
       "    </tr>\n",
       "    <tr>\n",
       "      <th>1</th>\n",
       "      <td>В продаже просторная, светлая, теплая, квартир...</td>\n",
       "      <td>https://ss.com/msg/lv/real-estate/flats/riga/a...</td>\n",
       "      <td>Nometņu 57</td>\n",
       "      <td>1</td>\n",
       "      <td>37</td>\n",
       "      <td>1/2</td>\n",
       "      <td>P. kara</td>\n",
       "      <td>673 €</td>\n",
       "      <td>24,900  €</td>\n",
       "    </tr>\n",
       "    <tr>\n",
       "      <th>2</th>\n",
       "      <td>Pārdodu plašu, gaišu, siltu dzīvokli. Privatiz...</td>\n",
       "      <td>https://ss.com/msg/lv/real-estate/flats/riga/a...</td>\n",
       "      <td>Daugavgrīvas 55</td>\n",
       "      <td>2</td>\n",
       "      <td>48</td>\n",
       "      <td>1/2</td>\n",
       "      <td>P. kara</td>\n",
       "      <td>913 €</td>\n",
       "      <td>43,800  €</td>\n",
       "    </tr>\n",
       "    <tr>\n",
       "      <th>3</th>\n",
       "      <td>Tiek piedāvāts dzīvoklis labā stāvoklī, bez pā...</td>\n",
       "      <td>https://ss.com/msg/lv/real-estate/flats/riga/a...</td>\n",
       "      <td>Mērsraga 13</td>\n",
       "      <td>2</td>\n",
       "      <td>41</td>\n",
       "      <td>1/4</td>\n",
       "      <td>Hrušč.</td>\n",
       "      <td>1,146 €</td>\n",
       "      <td>47,000  €</td>\n",
       "    </tr>\n",
       "    <tr>\n",
       "      <th>4</th>\n",
       "      <td>Pārdošanā dzīvoklis unikālā projektā Filozofu ...</td>\n",
       "      <td>https://ss.com/msg/lv/real-estate/flats/riga/a...</td>\n",
       "      <td>Raņķa d. 34</td>\n",
       "      <td>3</td>\n",
       "      <td>95</td>\n",
       "      <td>7/22</td>\n",
       "      <td>Jaun.</td>\n",
       "      <td>2,222 €</td>\n",
       "      <td>211,100  €</td>\n",
       "    </tr>\n",
       "  </tbody>\n",
       "</table>\n",
       "</div>"
      ],
      "text/plain": [
       "                                         description  \\\n",
       "0  Dzīvoklis vēsturiskā mājā ar stāvvietu un zaļo...   \n",
       "1  В продаже просторная, светлая, теплая, квартир...   \n",
       "2  Pārdodu plašu, gaišu, siltu dzīvokli. Privatiz...   \n",
       "3  Tiek piedāvāts dzīvoklis labā stāvoklī, bez pā...   \n",
       "4  Pārdošanā dzīvoklis unikālā projektā Filozofu ...   \n",
       "\n",
       "                                                 url             Iela Ist.  \\\n",
       "0  https://ss.com/msg/lv/real-estate/flats/riga/a...         Tukuma 3    1   \n",
       "1  https://ss.com/msg/lv/real-estate/flats/riga/a...       Nometņu 57    1   \n",
       "2  https://ss.com/msg/lv/real-estate/flats/riga/a...  Daugavgrīvas 55    2   \n",
       "3  https://ss.com/msg/lv/real-estate/flats/riga/a...      Mērsraga 13    2   \n",
       "4  https://ss.com/msg/lv/real-estate/flats/riga/a...      Raņķa d. 34    3   \n",
       "\n",
       "   m2 Stāvs   Sērija Cena, m2        Cena  \n",
       "0  27   3/3  P. kara  1,741 €   47,000  €  \n",
       "1  37   1/2  P. kara    673 €   24,900  €  \n",
       "2  48   1/2  P. kara    913 €   43,800  €  \n",
       "3  41   1/4   Hrušč.  1,146 €   47,000  €  \n",
       "4  95  7/22    Jaun.  2,222 €  211,100  €  "
      ]
     },
     "execution_count": 76,
     "metadata": {},
     "output_type": "execute_result"
    }
   ],
   "source": [
    "agens = \"https://www.ss.com/lv/real-estate/flats/riga/agenskalns/sell/\"\n",
    "df = get_all_ads_df(agens, \"agens_30_06.xlsx\")\n",
    "df.head()"
   ]
  },
  {
   "cell_type": "code",
   "execution_count": 88,
   "metadata": {},
   "outputs": [
    {
     "data": {
      "text/plain": [
       "(810, 9)"
      ]
     },
     "execution_count": 88,
     "metadata": {},
     "output_type": "execute_result"
    }
   ],
   "source": [
    "centra_df.shape"
   ]
  },
  {
   "cell_type": "code",
   "execution_count": 89,
   "metadata": {},
   "outputs": [
    {
     "data": {
      "text/plain": [
       "(810, 9)"
      ]
     },
     "execution_count": 89,
     "metadata": {},
     "output_type": "execute_result"
    }
   ],
   "source": [
    "df = centra_df  # alias it is common to use df as a variable name for a dataframe\n",
    "df.shape"
   ]
  },
  {
   "cell_type": "code",
   "execution_count": null,
   "metadata": {},
   "outputs": [],
   "source": [
    "df.shape"
   ]
  },
  {
   "cell_type": "code",
   "execution_count": null,
   "metadata": {},
   "outputs": [],
   "source": [
    "df.columns"
   ]
  },
  {
   "cell_type": "code",
   "execution_count": 90,
   "metadata": {},
   "outputs": [
    {
     "name": "stdout",
     "output_type": "stream",
     "text": [
      "<class 'pandas.core.frame.DataFrame'>\n",
      "RangeIndex: 810 entries, 0 to 809\n",
      "Data columns (total 9 columns):\n",
      " #   Column       Non-Null Count  Dtype \n",
      "---  ------       --------------  ----- \n",
      " 0   description  810 non-null    object\n",
      " 1   url          810 non-null    object\n",
      " 2   Iela         810 non-null    object\n",
      " 3   Ist.         810 non-null    object\n",
      " 4   m2           810 non-null    object\n",
      " 5   Stāvs        810 non-null    object\n",
      " 6   Sērija       810 non-null    object\n",
      " 7   Cena, m2     810 non-null    object\n",
      " 8   Cena         810 non-null    object\n",
      "dtypes: object(9)\n",
      "memory usage: 57.1+ KB\n"
     ]
    }
   ],
   "source": [
    "# we can get basic info about our dataframe\n",
    "df.info()\n",
    "# objects mean strings"
   ]
  },
  {
   "cell_type": "code",
   "execution_count": null,
   "metadata": {},
   "outputs": [],
   "source": [
    "df = get_all_ads_df(centrs, \"centrs_27_09.xlsx\")"
   ]
  },
  {
   "cell_type": "code",
   "execution_count": null,
   "metadata": {},
   "outputs": [],
   "source": [
    "df = centra_df"
   ]
  },
  {
   "cell_type": "code",
   "execution_count": null,
   "metadata": {},
   "outputs": [],
   "source": [
    "df.shape"
   ]
  },
  {
   "cell_type": "code",
   "execution_count": null,
   "metadata": {},
   "outputs": [],
   "source": [
    "df.head()"
   ]
  },
  {
   "cell_type": "code",
   "execution_count": null,
   "metadata": {},
   "outputs": [],
   "source": [
    "df.tail()"
   ]
  },
  {
   "cell_type": "code",
   "execution_count": null,
   "metadata": {},
   "outputs": [],
   "source": [
    "df.shape"
   ]
  },
  {
   "cell_type": "code",
   "execution_count": 91,
   "metadata": {},
   "outputs": [
    {
     "data": {
      "text/html": [
       "<div>\n",
       "<style scoped>\n",
       "    .dataframe tbody tr th:only-of-type {\n",
       "        vertical-align: middle;\n",
       "    }\n",
       "\n",
       "    .dataframe tbody tr th {\n",
       "        vertical-align: top;\n",
       "    }\n",
       "\n",
       "    .dataframe thead th {\n",
       "        text-align: right;\n",
       "    }\n",
       "</style>\n",
       "<table border=\"1\" class=\"dataframe\">\n",
       "  <thead>\n",
       "    <tr style=\"text-align: right;\">\n",
       "      <th></th>\n",
       "      <th>description</th>\n",
       "      <th>url</th>\n",
       "      <th>Iela</th>\n",
       "      <th>Ist.</th>\n",
       "      <th>m2</th>\n",
       "      <th>Stāvs</th>\n",
       "      <th>Sērija</th>\n",
       "      <th>Cena, m2</th>\n",
       "      <th>Cena</th>\n",
       "      <th>Floor</th>\n",
       "      <th>MaxFloor</th>\n",
       "    </tr>\n",
       "  </thead>\n",
       "  <tbody>\n",
       "    <tr>\n",
       "      <th>0</th>\n",
       "      <td>Dzīvoklis tikko pēc remonta. \\r\\nDzīvojamā ist...</td>\n",
       "      <td>https://ss.com/msg/lv/real-estate/flats/riga/c...</td>\n",
       "      <td>Valdemāra 73</td>\n",
       "      <td>3</td>\n",
       "      <td>66</td>\n",
       "      <td>6/6</td>\n",
       "      <td>P. kara</td>\n",
       "      <td>2,500 €</td>\n",
       "      <td>165,000  €</td>\n",
       "      <td>6</td>\n",
       "      <td>6</td>\n",
       "    </tr>\n",
       "    <tr>\n",
       "      <th>1</th>\n",
       "      <td>Tikko pēc kapitāla remonta. Augstais stāvs, k...</td>\n",
       "      <td>https://ss.com/msg/lv/real-estate/flats/riga/c...</td>\n",
       "      <td>Katrīnas d. 22</td>\n",
       "      <td>3</td>\n",
       "      <td>66</td>\n",
       "      <td>1/4</td>\n",
       "      <td>Specpr.</td>\n",
       "      <td>1,423 €</td>\n",
       "      <td>93,900  €</td>\n",
       "      <td>1</td>\n",
       "      <td>4</td>\n",
       "    </tr>\n",
       "    <tr>\n",
       "      <th>2</th>\n",
       "      <td>Kluss. Panorāmas skats no logiem. \\r\\nLaba plā...</td>\n",
       "      <td>https://ss.com/msg/lv/real-estate/flats/riga/c...</td>\n",
       "      <td>Teātra 12</td>\n",
       "      <td>5</td>\n",
       "      <td>136</td>\n",
       "      <td>6/7</td>\n",
       "      <td>P. kara</td>\n",
       "      <td>2,000 €</td>\n",
       "      <td>272,000  €</td>\n",
       "      <td>6</td>\n",
       "      <td>7</td>\n",
       "    </tr>\n",
       "    <tr>\n",
       "      <th>3</th>\n",
       "      <td>Vairāki pakāpieni uz leju. \\r\\nDaļa maksas var...</td>\n",
       "      <td>https://ss.com/msg/lv/real-estate/flats/riga/c...</td>\n",
       "      <td>Duntes 26</td>\n",
       "      <td>3</td>\n",
       "      <td>67</td>\n",
       "      <td>1/6</td>\n",
       "      <td>Specpr.</td>\n",
       "      <td>143 €</td>\n",
       "      <td>9,580  €</td>\n",
       "      <td>1</td>\n",
       "      <td>6</td>\n",
       "    </tr>\n",
       "    <tr>\n",
       "      <th>4</th>\n",
       "      <td>Pārdodam dzīvokļus ēkā ar vēstures garšu. Reno...</td>\n",
       "      <td>https://ss.com/msg/lv/real-estate/flats/riga/c...</td>\n",
       "      <td>Tomsona 33</td>\n",
       "      <td>3</td>\n",
       "      <td>64</td>\n",
       "      <td>4/5</td>\n",
       "      <td>Renov.</td>\n",
       "      <td>2,180 €</td>\n",
       "      <td>139,500  €</td>\n",
       "      <td>4</td>\n",
       "      <td>5</td>\n",
       "    </tr>\n",
       "  </tbody>\n",
       "</table>\n",
       "</div>"
      ],
      "text/plain": [
       "                                         description   \n",
       "0  Dzīvoklis tikko pēc remonta. \\r\\nDzīvojamā ist...  \\\n",
       "1   Tikko pēc kapitāla remonta. Augstais stāvs, k...   \n",
       "2  Kluss. Panorāmas skats no logiem. \\r\\nLaba plā...   \n",
       "3  Vairāki pakāpieni uz leju. \\r\\nDaļa maksas var...   \n",
       "4  Pārdodam dzīvokļus ēkā ar vēstures garšu. Reno...   \n",
       "\n",
       "                                                 url            Iela Ist.   \n",
       "0  https://ss.com/msg/lv/real-estate/flats/riga/c...    Valdemāra 73    3  \\\n",
       "1  https://ss.com/msg/lv/real-estate/flats/riga/c...  Katrīnas d. 22    3   \n",
       "2  https://ss.com/msg/lv/real-estate/flats/riga/c...       Teātra 12    5   \n",
       "3  https://ss.com/msg/lv/real-estate/flats/riga/c...       Duntes 26    3   \n",
       "4  https://ss.com/msg/lv/real-estate/flats/riga/c...      Tomsona 33    3   \n",
       "\n",
       "    m2 Stāvs   Sērija Cena, m2        Cena Floor MaxFloor  \n",
       "0   66   6/6  P. kara  2,500 €  165,000  €     6        6  \n",
       "1   66   1/4  Specpr.  1,423 €   93,900  €     1        4  \n",
       "2  136   6/7  P. kara  2,000 €  272,000  €     6        7  \n",
       "3   67   1/6  Specpr.    143 €    9,580  €     1        6  \n",
       "4   64   4/5   Renov.  2,180 €  139,500  €     4        5  "
      ]
     },
     "execution_count": 91,
     "metadata": {},
     "output_type": "execute_result"
    }
   ],
   "source": [
    "#we can do more post processing - feature engineering using existing columns\n",
    "df[['Floor','MaxFloor']] = df.Stāvs.str.split(\"/\",expand=True) \n",
    "df.head()"
   ]
  },
  {
   "cell_type": "code",
   "execution_count": null,
   "metadata": {},
   "outputs": [],
   "source": [
    "df = riga_region # just a shortcut"
   ]
  },
  {
   "cell_type": "code",
   "execution_count": null,
   "metadata": {},
   "outputs": [],
   "source": [
    "df.info()"
   ]
  },
  {
   "cell_type": "code",
   "execution_count": null,
   "metadata": {},
   "outputs": [],
   "source": [
    "df.head()"
   ]
  },
  {
   "cell_type": "code",
   "execution_count": null,
   "metadata": {},
   "outputs": [],
   "source": [
    "df.info()"
   ]
  },
  {
   "cell_type": "code",
   "execution_count": 92,
   "metadata": {
    "scrolled": true
   },
   "outputs": [
    {
     "data": {
      "text/html": [
       "<div>\n",
       "<style scoped>\n",
       "    .dataframe tbody tr th:only-of-type {\n",
       "        vertical-align: middle;\n",
       "    }\n",
       "\n",
       "    .dataframe tbody tr th {\n",
       "        vertical-align: top;\n",
       "    }\n",
       "\n",
       "    .dataframe thead th {\n",
       "        text-align: right;\n",
       "    }\n",
       "</style>\n",
       "<table border=\"1\" class=\"dataframe\">\n",
       "  <thead>\n",
       "    <tr style=\"text-align: right;\">\n",
       "      <th></th>\n",
       "      <th>description</th>\n",
       "      <th>url</th>\n",
       "      <th>Iela</th>\n",
       "      <th>Ist.</th>\n",
       "      <th>m2</th>\n",
       "      <th>Stāvs</th>\n",
       "      <th>Sērija</th>\n",
       "      <th>Cena, m2</th>\n",
       "      <th>Cena</th>\n",
       "      <th>Floor</th>\n",
       "      <th>MaxFloor</th>\n",
       "      <th>price</th>\n",
       "    </tr>\n",
       "  </thead>\n",
       "  <tbody>\n",
       "    <tr>\n",
       "      <th>0</th>\n",
       "      <td>Dzīvoklis tikko pēc remonta. \\r\\nDzīvojamā ist...</td>\n",
       "      <td>https://ss.com/msg/lv/real-estate/flats/riga/c...</td>\n",
       "      <td>Valdemāra 73</td>\n",
       "      <td>3</td>\n",
       "      <td>66</td>\n",
       "      <td>6/6</td>\n",
       "      <td>P. kara</td>\n",
       "      <td>2,500 €</td>\n",
       "      <td>165,000  €</td>\n",
       "      <td>6</td>\n",
       "      <td>6</td>\n",
       "      <td>165,000</td>\n",
       "    </tr>\n",
       "    <tr>\n",
       "      <th>1</th>\n",
       "      <td>Tikko pēc kapitāla remonta. Augstais stāvs, k...</td>\n",
       "      <td>https://ss.com/msg/lv/real-estate/flats/riga/c...</td>\n",
       "      <td>Katrīnas d. 22</td>\n",
       "      <td>3</td>\n",
       "      <td>66</td>\n",
       "      <td>1/4</td>\n",
       "      <td>Specpr.</td>\n",
       "      <td>1,423 €</td>\n",
       "      <td>93,900  €</td>\n",
       "      <td>1</td>\n",
       "      <td>4</td>\n",
       "      <td>93,900</td>\n",
       "    </tr>\n",
       "    <tr>\n",
       "      <th>2</th>\n",
       "      <td>Kluss. Panorāmas skats no logiem. \\r\\nLaba plā...</td>\n",
       "      <td>https://ss.com/msg/lv/real-estate/flats/riga/c...</td>\n",
       "      <td>Teātra 12</td>\n",
       "      <td>5</td>\n",
       "      <td>136</td>\n",
       "      <td>6/7</td>\n",
       "      <td>P. kara</td>\n",
       "      <td>2,000 €</td>\n",
       "      <td>272,000  €</td>\n",
       "      <td>6</td>\n",
       "      <td>7</td>\n",
       "      <td>272,000</td>\n",
       "    </tr>\n",
       "    <tr>\n",
       "      <th>3</th>\n",
       "      <td>Vairāki pakāpieni uz leju. \\r\\nDaļa maksas var...</td>\n",
       "      <td>https://ss.com/msg/lv/real-estate/flats/riga/c...</td>\n",
       "      <td>Duntes 26</td>\n",
       "      <td>3</td>\n",
       "      <td>67</td>\n",
       "      <td>1/6</td>\n",
       "      <td>Specpr.</td>\n",
       "      <td>143 €</td>\n",
       "      <td>9,580  €</td>\n",
       "      <td>1</td>\n",
       "      <td>6</td>\n",
       "      <td>9,580</td>\n",
       "    </tr>\n",
       "    <tr>\n",
       "      <th>4</th>\n",
       "      <td>Pārdodam dzīvokļus ēkā ar vēstures garšu. Reno...</td>\n",
       "      <td>https://ss.com/msg/lv/real-estate/flats/riga/c...</td>\n",
       "      <td>Tomsona 33</td>\n",
       "      <td>3</td>\n",
       "      <td>64</td>\n",
       "      <td>4/5</td>\n",
       "      <td>Renov.</td>\n",
       "      <td>2,180 €</td>\n",
       "      <td>139,500  €</td>\n",
       "      <td>4</td>\n",
       "      <td>5</td>\n",
       "      <td>139,500</td>\n",
       "    </tr>\n",
       "  </tbody>\n",
       "</table>\n",
       "</div>"
      ],
      "text/plain": [
       "                                         description   \n",
       "0  Dzīvoklis tikko pēc remonta. \\r\\nDzīvojamā ist...  \\\n",
       "1   Tikko pēc kapitāla remonta. Augstais stāvs, k...   \n",
       "2  Kluss. Panorāmas skats no logiem. \\r\\nLaba plā...   \n",
       "3  Vairāki pakāpieni uz leju. \\r\\nDaļa maksas var...   \n",
       "4  Pārdodam dzīvokļus ēkā ar vēstures garšu. Reno...   \n",
       "\n",
       "                                                 url            Iela Ist.   \n",
       "0  https://ss.com/msg/lv/real-estate/flats/riga/c...    Valdemāra 73    3  \\\n",
       "1  https://ss.com/msg/lv/real-estate/flats/riga/c...  Katrīnas d. 22    3   \n",
       "2  https://ss.com/msg/lv/real-estate/flats/riga/c...       Teātra 12    5   \n",
       "3  https://ss.com/msg/lv/real-estate/flats/riga/c...       Duntes 26    3   \n",
       "4  https://ss.com/msg/lv/real-estate/flats/riga/c...      Tomsona 33    3   \n",
       "\n",
       "    m2 Stāvs   Sērija Cena, m2        Cena Floor MaxFloor    price  \n",
       "0   66   6/6  P. kara  2,500 €  165,000  €     6        6  165,000  \n",
       "1   66   1/4  Specpr.  1,423 €   93,900  €     1        4   93,900  \n",
       "2  136   6/7  P. kara  2,000 €  272,000  €     6        7  272,000  \n",
       "3   67   1/6  Specpr.    143 €    9,580  €     1        6    9,580  \n",
       "4   64   4/5   Renov.  2,180 €  139,500  €     4        5  139,500  "
      ]
     },
     "execution_count": 92,
     "metadata": {},
     "output_type": "execute_result"
    }
   ],
   "source": [
    "df[\"price\"] = df.Cena.str.split(' ').str[0]  # create a new column from price\n",
    "df.head()"
   ]
  },
  {
   "cell_type": "code",
   "execution_count": 93,
   "metadata": {},
   "outputs": [
    {
     "data": {
      "text/html": [
       "<div>\n",
       "<style scoped>\n",
       "    .dataframe tbody tr th:only-of-type {\n",
       "        vertical-align: middle;\n",
       "    }\n",
       "\n",
       "    .dataframe tbody tr th {\n",
       "        vertical-align: top;\n",
       "    }\n",
       "\n",
       "    .dataframe thead th {\n",
       "        text-align: right;\n",
       "    }\n",
       "</style>\n",
       "<table border=\"1\" class=\"dataframe\">\n",
       "  <thead>\n",
       "    <tr style=\"text-align: right;\">\n",
       "      <th></th>\n",
       "      <th>description</th>\n",
       "      <th>url</th>\n",
       "      <th>Iela</th>\n",
       "      <th>Ist.</th>\n",
       "      <th>m2</th>\n",
       "      <th>Stāvs</th>\n",
       "      <th>Sērija</th>\n",
       "      <th>Cena, m2</th>\n",
       "      <th>Cena</th>\n",
       "      <th>Floor</th>\n",
       "      <th>MaxFloor</th>\n",
       "      <th>price</th>\n",
       "    </tr>\n",
       "  </thead>\n",
       "  <tbody>\n",
       "    <tr>\n",
       "      <th>0</th>\n",
       "      <td>Dzīvoklis tikko pēc remonta. \\r\\nDzīvojamā ist...</td>\n",
       "      <td>https://ss.com/msg/lv/real-estate/flats/riga/c...</td>\n",
       "      <td>Valdemāra 73</td>\n",
       "      <td>3</td>\n",
       "      <td>66</td>\n",
       "      <td>6/6</td>\n",
       "      <td>P. kara</td>\n",
       "      <td>2,500 €</td>\n",
       "      <td>165,000  €</td>\n",
       "      <td>6</td>\n",
       "      <td>6</td>\n",
       "      <td>165000</td>\n",
       "    </tr>\n",
       "    <tr>\n",
       "      <th>1</th>\n",
       "      <td>Tikko pēc kapitāla remonta. Augstais stāvs, k...</td>\n",
       "      <td>https://ss.com/msg/lv/real-estate/flats/riga/c...</td>\n",
       "      <td>Katrīnas d. 22</td>\n",
       "      <td>3</td>\n",
       "      <td>66</td>\n",
       "      <td>1/4</td>\n",
       "      <td>Specpr.</td>\n",
       "      <td>1,423 €</td>\n",
       "      <td>93,900  €</td>\n",
       "      <td>1</td>\n",
       "      <td>4</td>\n",
       "      <td>93900</td>\n",
       "    </tr>\n",
       "    <tr>\n",
       "      <th>2</th>\n",
       "      <td>Kluss. Panorāmas skats no logiem. \\r\\nLaba plā...</td>\n",
       "      <td>https://ss.com/msg/lv/real-estate/flats/riga/c...</td>\n",
       "      <td>Teātra 12</td>\n",
       "      <td>5</td>\n",
       "      <td>136</td>\n",
       "      <td>6/7</td>\n",
       "      <td>P. kara</td>\n",
       "      <td>2,000 €</td>\n",
       "      <td>272,000  €</td>\n",
       "      <td>6</td>\n",
       "      <td>7</td>\n",
       "      <td>272000</td>\n",
       "    </tr>\n",
       "    <tr>\n",
       "      <th>3</th>\n",
       "      <td>Vairāki pakāpieni uz leju. \\r\\nDaļa maksas var...</td>\n",
       "      <td>https://ss.com/msg/lv/real-estate/flats/riga/c...</td>\n",
       "      <td>Duntes 26</td>\n",
       "      <td>3</td>\n",
       "      <td>67</td>\n",
       "      <td>1/6</td>\n",
       "      <td>Specpr.</td>\n",
       "      <td>143 €</td>\n",
       "      <td>9,580  €</td>\n",
       "      <td>1</td>\n",
       "      <td>6</td>\n",
       "      <td>9580</td>\n",
       "    </tr>\n",
       "    <tr>\n",
       "      <th>4</th>\n",
       "      <td>Pārdodam dzīvokļus ēkā ar vēstures garšu. Reno...</td>\n",
       "      <td>https://ss.com/msg/lv/real-estate/flats/riga/c...</td>\n",
       "      <td>Tomsona 33</td>\n",
       "      <td>3</td>\n",
       "      <td>64</td>\n",
       "      <td>4/5</td>\n",
       "      <td>Renov.</td>\n",
       "      <td>2,180 €</td>\n",
       "      <td>139,500  €</td>\n",
       "      <td>4</td>\n",
       "      <td>5</td>\n",
       "      <td>139500</td>\n",
       "    </tr>\n",
       "  </tbody>\n",
       "</table>\n",
       "</div>"
      ],
      "text/plain": [
       "                                         description   \n",
       "0  Dzīvoklis tikko pēc remonta. \\r\\nDzīvojamā ist...  \\\n",
       "1   Tikko pēc kapitāla remonta. Augstais stāvs, k...   \n",
       "2  Kluss. Panorāmas skats no logiem. \\r\\nLaba plā...   \n",
       "3  Vairāki pakāpieni uz leju. \\r\\nDaļa maksas var...   \n",
       "4  Pārdodam dzīvokļus ēkā ar vēstures garšu. Reno...   \n",
       "\n",
       "                                                 url            Iela Ist.   \n",
       "0  https://ss.com/msg/lv/real-estate/flats/riga/c...    Valdemāra 73    3  \\\n",
       "1  https://ss.com/msg/lv/real-estate/flats/riga/c...  Katrīnas d. 22    3   \n",
       "2  https://ss.com/msg/lv/real-estate/flats/riga/c...       Teātra 12    5   \n",
       "3  https://ss.com/msg/lv/real-estate/flats/riga/c...       Duntes 26    3   \n",
       "4  https://ss.com/msg/lv/real-estate/flats/riga/c...      Tomsona 33    3   \n",
       "\n",
       "    m2 Stāvs   Sērija Cena, m2        Cena Floor MaxFloor   price  \n",
       "0   66   6/6  P. kara  2,500 €  165,000  €     6        6  165000  \n",
       "1   66   1/4  Specpr.  1,423 €   93,900  €     1        4   93900  \n",
       "2  136   6/7  P. kara  2,000 €  272,000  €     6        7  272000  \n",
       "3   67   1/6  Specpr.    143 €    9,580  €     1        6    9580  \n",
       "4   64   4/5   Renov.  2,180 €  139,500  €     4        5  139500  "
      ]
     },
     "execution_count": 93,
     "metadata": {},
     "output_type": "execute_result"
    }
   ],
   "source": [
    "df.price = df.price.str.replace(\",\",\"\").astype('int32') # so clean string of , and then convert to integer int64 for larger\n",
    "df.head()"
   ]
  },
  {
   "cell_type": "code",
   "execution_count": 94,
   "metadata": {},
   "outputs": [
    {
     "name": "stdout",
     "output_type": "stream",
     "text": [
      "<class 'pandas.core.frame.DataFrame'>\n",
      "RangeIndex: 810 entries, 0 to 809\n",
      "Data columns (total 12 columns):\n",
      " #   Column       Non-Null Count  Dtype \n",
      "---  ------       --------------  ----- \n",
      " 0   description  810 non-null    object\n",
      " 1   url          810 non-null    object\n",
      " 2   Iela         810 non-null    object\n",
      " 3   Ist.         810 non-null    object\n",
      " 4   m2           810 non-null    object\n",
      " 5   Stāvs        810 non-null    object\n",
      " 6   Sērija       810 non-null    object\n",
      " 7   Cena, m2     810 non-null    object\n",
      " 8   Cena         810 non-null    object\n",
      " 9   Floor        810 non-null    object\n",
      " 10  MaxFloor     810 non-null    object\n",
      " 11  price        810 non-null    int32 \n",
      "dtypes: int32(1), object(11)\n",
      "memory usage: 72.9+ KB\n"
     ]
    }
   ],
   "source": [
    "df.info()"
   ]
  },
  {
   "cell_type": "code",
   "execution_count": 95,
   "metadata": {},
   "outputs": [],
   "source": [
    "# convert to integer\n",
    "# we will createa a new column called floor - column names are case sensitive\n",
    "df[\"floor\"] = df.Floor.astype('int32')\n",
    "# in Pandas we can use df.column_name or df[\"column_name\"]\n",
    "# df[\"column_name\"] is more flexible as we can use variables \n",
    "# also df.column_name will not work if column name has spaces or special characters\n",
    "# also df.column_name will not work if column name is a number\n",
    "# finally df.column_name will not work if column name is a reserved word in Python or in Pandas"
   ]
  },
  {
   "cell_type": "code",
   "execution_count": 96,
   "metadata": {},
   "outputs": [],
   "source": [
    "df.m2 = df.m2.astype('int32')"
   ]
  },
  {
   "cell_type": "code",
   "execution_count": 97,
   "metadata": {},
   "outputs": [
    {
     "name": "stdout",
     "output_type": "stream",
     "text": [
      "<class 'pandas.core.frame.DataFrame'>\n",
      "RangeIndex: 810 entries, 0 to 809\n",
      "Data columns (total 13 columns):\n",
      " #   Column       Non-Null Count  Dtype \n",
      "---  ------       --------------  ----- \n",
      " 0   description  810 non-null    object\n",
      " 1   url          810 non-null    object\n",
      " 2   Iela         810 non-null    object\n",
      " 3   Ist.         810 non-null    object\n",
      " 4   m2           810 non-null    int32 \n",
      " 5   Stāvs        810 non-null    object\n",
      " 6   Sērija       810 non-null    object\n",
      " 7   Cena, m2     810 non-null    object\n",
      " 8   Cena         810 non-null    object\n",
      " 9   Floor        810 non-null    object\n",
      " 10  MaxFloor     810 non-null    object\n",
      " 11  price        810 non-null    int32 \n",
      " 12  floor        810 non-null    int32 \n",
      "dtypes: int32(3), object(10)\n",
      "memory usage: 72.9+ KB\n"
     ]
    }
   ],
   "source": [
    "df.info()"
   ]
  },
  {
   "cell_type": "code",
   "execution_count": 98,
   "metadata": {},
   "outputs": [
    {
     "data": {
      "text/html": [
       "<div>\n",
       "<style scoped>\n",
       "    .dataframe tbody tr th:only-of-type {\n",
       "        vertical-align: middle;\n",
       "    }\n",
       "\n",
       "    .dataframe tbody tr th {\n",
       "        vertical-align: top;\n",
       "    }\n",
       "\n",
       "    .dataframe thead th {\n",
       "        text-align: right;\n",
       "    }\n",
       "</style>\n",
       "<table border=\"1\" class=\"dataframe\">\n",
       "  <thead>\n",
       "    <tr style=\"text-align: right;\">\n",
       "      <th></th>\n",
       "      <th>description</th>\n",
       "      <th>url</th>\n",
       "      <th>Iela</th>\n",
       "      <th>Ist.</th>\n",
       "      <th>m2</th>\n",
       "      <th>Stāvs</th>\n",
       "      <th>Sērija</th>\n",
       "      <th>Cena, m2</th>\n",
       "      <th>Cena</th>\n",
       "      <th>Floor</th>\n",
       "      <th>MaxFloor</th>\n",
       "      <th>price</th>\n",
       "      <th>floor</th>\n",
       "    </tr>\n",
       "  </thead>\n",
       "  <tbody>\n",
       "    <tr>\n",
       "      <th>0</th>\n",
       "      <td>Dzīvoklis tikko pēc remonta. \\r\\nDzīvojamā ist...</td>\n",
       "      <td>https://ss.com/msg/lv/real-estate/flats/riga/c...</td>\n",
       "      <td>Valdemāra 73</td>\n",
       "      <td>3</td>\n",
       "      <td>66</td>\n",
       "      <td>6/6</td>\n",
       "      <td>P. kara</td>\n",
       "      <td>2,500 €</td>\n",
       "      <td>165,000  €</td>\n",
       "      <td>6</td>\n",
       "      <td>6</td>\n",
       "      <td>165000</td>\n",
       "      <td>6</td>\n",
       "    </tr>\n",
       "    <tr>\n",
       "      <th>1</th>\n",
       "      <td>Tikko pēc kapitāla remonta. Augstais stāvs, k...</td>\n",
       "      <td>https://ss.com/msg/lv/real-estate/flats/riga/c...</td>\n",
       "      <td>Katrīnas d. 22</td>\n",
       "      <td>3</td>\n",
       "      <td>66</td>\n",
       "      <td>1/4</td>\n",
       "      <td>Specpr.</td>\n",
       "      <td>1,423 €</td>\n",
       "      <td>93,900  €</td>\n",
       "      <td>1</td>\n",
       "      <td>4</td>\n",
       "      <td>93900</td>\n",
       "      <td>1</td>\n",
       "    </tr>\n",
       "    <tr>\n",
       "      <th>2</th>\n",
       "      <td>Kluss. Panorāmas skats no logiem. \\r\\nLaba plā...</td>\n",
       "      <td>https://ss.com/msg/lv/real-estate/flats/riga/c...</td>\n",
       "      <td>Teātra 12</td>\n",
       "      <td>5</td>\n",
       "      <td>136</td>\n",
       "      <td>6/7</td>\n",
       "      <td>P. kara</td>\n",
       "      <td>2,000 €</td>\n",
       "      <td>272,000  €</td>\n",
       "      <td>6</td>\n",
       "      <td>7</td>\n",
       "      <td>272000</td>\n",
       "      <td>6</td>\n",
       "    </tr>\n",
       "    <tr>\n",
       "      <th>3</th>\n",
       "      <td>Vairāki pakāpieni uz leju. \\r\\nDaļa maksas var...</td>\n",
       "      <td>https://ss.com/msg/lv/real-estate/flats/riga/c...</td>\n",
       "      <td>Duntes 26</td>\n",
       "      <td>3</td>\n",
       "      <td>67</td>\n",
       "      <td>1/6</td>\n",
       "      <td>Specpr.</td>\n",
       "      <td>143 €</td>\n",
       "      <td>9,580  €</td>\n",
       "      <td>1</td>\n",
       "      <td>6</td>\n",
       "      <td>9580</td>\n",
       "      <td>1</td>\n",
       "    </tr>\n",
       "    <tr>\n",
       "      <th>4</th>\n",
       "      <td>Pārdodam dzīvokļus ēkā ar vēstures garšu. Reno...</td>\n",
       "      <td>https://ss.com/msg/lv/real-estate/flats/riga/c...</td>\n",
       "      <td>Tomsona 33</td>\n",
       "      <td>3</td>\n",
       "      <td>64</td>\n",
       "      <td>4/5</td>\n",
       "      <td>Renov.</td>\n",
       "      <td>2,180 €</td>\n",
       "      <td>139,500  €</td>\n",
       "      <td>4</td>\n",
       "      <td>5</td>\n",
       "      <td>139500</td>\n",
       "      <td>4</td>\n",
       "    </tr>\n",
       "  </tbody>\n",
       "</table>\n",
       "</div>"
      ],
      "text/plain": [
       "                                         description   \n",
       "0  Dzīvoklis tikko pēc remonta. \\r\\nDzīvojamā ist...  \\\n",
       "1   Tikko pēc kapitāla remonta. Augstais stāvs, k...   \n",
       "2  Kluss. Panorāmas skats no logiem. \\r\\nLaba plā...   \n",
       "3  Vairāki pakāpieni uz leju. \\r\\nDaļa maksas var...   \n",
       "4  Pārdodam dzīvokļus ēkā ar vēstures garšu. Reno...   \n",
       "\n",
       "                                                 url            Iela Ist.   \n",
       "0  https://ss.com/msg/lv/real-estate/flats/riga/c...    Valdemāra 73    3  \\\n",
       "1  https://ss.com/msg/lv/real-estate/flats/riga/c...  Katrīnas d. 22    3   \n",
       "2  https://ss.com/msg/lv/real-estate/flats/riga/c...       Teātra 12    5   \n",
       "3  https://ss.com/msg/lv/real-estate/flats/riga/c...       Duntes 26    3   \n",
       "4  https://ss.com/msg/lv/real-estate/flats/riga/c...      Tomsona 33    3   \n",
       "\n",
       "    m2 Stāvs   Sērija Cena, m2        Cena Floor  MaxFloor   price  floor  \n",
       "0   66   6/6  P. kara  2,500 €  165,000  €     6         6  165000      6  \n",
       "1   66   1/4  Specpr.  1,423 €   93,900  €     1         4   93900      1  \n",
       "2  136   6/7  P. kara  2,000 €  272,000  €     6         7  272000      6  \n",
       "3   67   1/6  Specpr.    143 €    9,580  €     1         6    9580      1  \n",
       "4   64   4/5   Renov.  2,180 €  139,500  €     4         5  139500      4  "
      ]
     },
     "execution_count": 98,
     "metadata": {},
     "output_type": "execute_result"
    }
   ],
   "source": [
    "df.MaxFloor = df.MaxFloor.astype('int32')\n",
    "df.head()"
   ]
  },
  {
   "cell_type": "code",
   "execution_count": null,
   "metadata": {},
   "outputs": [],
   "source": [
    "df.head()"
   ]
  },
  {
   "cell_type": "code",
   "execution_count": 99,
   "metadata": {
    "scrolled": true
   },
   "outputs": [
    {
     "data": {
      "text/html": [
       "<div>\n",
       "<style scoped>\n",
       "    .dataframe tbody tr th:only-of-type {\n",
       "        vertical-align: middle;\n",
       "    }\n",
       "\n",
       "    .dataframe tbody tr th {\n",
       "        vertical-align: top;\n",
       "    }\n",
       "\n",
       "    .dataframe thead th {\n",
       "        text-align: right;\n",
       "    }\n",
       "</style>\n",
       "<table border=\"1\" class=\"dataframe\">\n",
       "  <thead>\n",
       "    <tr style=\"text-align: right;\">\n",
       "      <th></th>\n",
       "      <th>description</th>\n",
       "      <th>url</th>\n",
       "      <th>Iela</th>\n",
       "      <th>Ist.</th>\n",
       "      <th>m2</th>\n",
       "      <th>Stāvs</th>\n",
       "      <th>Sērija</th>\n",
       "      <th>Cena, m2</th>\n",
       "      <th>Cena</th>\n",
       "      <th>Floor</th>\n",
       "      <th>MaxFloor</th>\n",
       "      <th>price</th>\n",
       "      <th>floor</th>\n",
       "    </tr>\n",
       "  </thead>\n",
       "  <tbody>\n",
       "    <tr>\n",
       "      <th>730</th>\n",
       "      <td>Pārdod mūsdienīgas 1791 kv. m. plašas biroja t...</td>\n",
       "      <td>https://ss.com/msg/lv/real-estate/flats/riga/c...</td>\n",
       "      <td>Dzirnavu 37</td>\n",
       "      <td>Citi</td>\n",
       "      <td>1791</td>\n",
       "      <td>3/7</td>\n",
       "      <td>Jaun.</td>\n",
       "      <td>1,383 €</td>\n",
       "      <td>2,476,650  €</td>\n",
       "      <td>3</td>\n",
       "      <td>7</td>\n",
       "      <td>2476650</td>\n",
       "      <td>3</td>\n",
       "    </tr>\n",
       "    <tr>\n",
       "      <th>451</th>\n",
       "      <td>Visaugstākajām prasībām atbilstošs dzīvoklis v...</td>\n",
       "      <td>https://ss.com/msg/lv/real-estate/flats/riga/c...</td>\n",
       "      <td>Lāčplēša 11</td>\n",
       "      <td>4</td>\n",
       "      <td>279</td>\n",
       "      <td>7/7</td>\n",
       "      <td>Jaun.</td>\n",
       "      <td>6,989 €</td>\n",
       "      <td>1,950,000  €</td>\n",
       "      <td>7</td>\n",
       "      <td>7</td>\n",
       "      <td>1950000</td>\n",
       "      <td>7</td>\n",
       "    </tr>\n",
       "    <tr>\n",
       "      <th>321</th>\n",
       "      <td>Ekskluzīvs dzīvoklis vienā no nozīmīgākajiem a...</td>\n",
       "      <td>https://ss.com/msg/lv/real-estate/flats/riga/c...</td>\n",
       "      <td>Elizabetes 3</td>\n",
       "      <td>6</td>\n",
       "      <td>145</td>\n",
       "      <td>2/5</td>\n",
       "      <td>Renov.</td>\n",
       "      <td>10,172 €</td>\n",
       "      <td>1,475,000  €</td>\n",
       "      <td>2</td>\n",
       "      <td>5</td>\n",
       "      <td>1475000</td>\n",
       "      <td>2</td>\n",
       "    </tr>\n",
       "    <tr>\n",
       "      <th>407</th>\n",
       "      <td>Pārdod unikālu dzīvokli- penthausu ar iespējam...</td>\n",
       "      <td>https://ss.com/msg/lv/real-estate/flats/riga/c...</td>\n",
       "      <td>J. Daliņa 8</td>\n",
       "      <td>5</td>\n",
       "      <td>410</td>\n",
       "      <td>23/24</td>\n",
       "      <td>Jaun.</td>\n",
       "      <td>3,171 €</td>\n",
       "      <td>1,300,000  €</td>\n",
       "      <td>23</td>\n",
       "      <td>24</td>\n",
       "      <td>1300000</td>\n",
       "      <td>23</td>\n",
       "    </tr>\n",
       "    <tr>\n",
       "      <th>198</th>\n",
       "      <td>Rīgas klusajā Jūgendstila arhitektūras pērļu c...</td>\n",
       "      <td>https://ss.com/msg/lv/real-estate/flats/riga/c...</td>\n",
       "      <td>Elizabetes 31a</td>\n",
       "      <td>6</td>\n",
       "      <td>213</td>\n",
       "      <td>5/5</td>\n",
       "      <td>P. kara</td>\n",
       "      <td>3,282 €</td>\n",
       "      <td>699,000  €</td>\n",
       "      <td>5</td>\n",
       "      <td>5</td>\n",
       "      <td>699000</td>\n",
       "      <td>5</td>\n",
       "    </tr>\n",
       "  </tbody>\n",
       "</table>\n",
       "</div>"
      ],
      "text/plain": [
       "                                           description   \n",
       "730  Pārdod mūsdienīgas 1791 kv. m. plašas biroja t...  \\\n",
       "451  Visaugstākajām prasībām atbilstošs dzīvoklis v...   \n",
       "321  Ekskluzīvs dzīvoklis vienā no nozīmīgākajiem a...   \n",
       "407  Pārdod unikālu dzīvokli- penthausu ar iespējam...   \n",
       "198  Rīgas klusajā Jūgendstila arhitektūras pērļu c...   \n",
       "\n",
       "                                                   url            Iela  Ist.   \n",
       "730  https://ss.com/msg/lv/real-estate/flats/riga/c...     Dzirnavu 37  Citi  \\\n",
       "451  https://ss.com/msg/lv/real-estate/flats/riga/c...     Lāčplēša 11     4   \n",
       "321  https://ss.com/msg/lv/real-estate/flats/riga/c...    Elizabetes 3     6   \n",
       "407  https://ss.com/msg/lv/real-estate/flats/riga/c...     J. Daliņa 8     5   \n",
       "198  https://ss.com/msg/lv/real-estate/flats/riga/c...  Elizabetes 31a     6   \n",
       "\n",
       "       m2  Stāvs   Sērija  Cena, m2          Cena Floor  MaxFloor    price   \n",
       "730  1791    3/7    Jaun.   1,383 €  2,476,650  €     3         7  2476650  \\\n",
       "451   279    7/7    Jaun.   6,989 €  1,950,000  €     7         7  1950000   \n",
       "321   145    2/5   Renov.  10,172 €  1,475,000  €     2         5  1475000   \n",
       "407   410  23/24    Jaun.   3,171 €  1,300,000  €    23        24  1300000   \n",
       "198   213    5/5  P. kara   3,282 €    699,000  €     5         5   699000   \n",
       "\n",
       "     floor  \n",
       "730      3  \n",
       "451      7  \n",
       "321      2  \n",
       "407     23  \n",
       "198      5  "
      ]
     },
     "execution_count": 99,
     "metadata": {},
     "output_type": "execute_result"
    }
   ],
   "source": [
    "# I can sort by column name\n",
    "sorted_df = df.sort_values(by=\"price\",ascending=False)\n",
    "sorted_df.head()"
   ]
  },
  {
   "cell_type": "code",
   "execution_count": 89,
   "metadata": {},
   "outputs": [
    {
     "data": {
      "text/html": [
       "<div>\n",
       "<style scoped>\n",
       "    .dataframe tbody tr th:only-of-type {\n",
       "        vertical-align: middle;\n",
       "    }\n",
       "\n",
       "    .dataframe tbody tr th {\n",
       "        vertical-align: top;\n",
       "    }\n",
       "\n",
       "    .dataframe thead th {\n",
       "        text-align: right;\n",
       "    }\n",
       "</style>\n",
       "<table border=\"1\" class=\"dataframe\">\n",
       "  <thead>\n",
       "    <tr style=\"text-align: right;\">\n",
       "      <th></th>\n",
       "      <th>description</th>\n",
       "      <th>url</th>\n",
       "      <th>Iela</th>\n",
       "      <th>Ist.</th>\n",
       "      <th>m2</th>\n",
       "      <th>Stāvs</th>\n",
       "      <th>Sērija</th>\n",
       "      <th>Cena, m2</th>\n",
       "      <th>Cena</th>\n",
       "      <th>Floor</th>\n",
       "      <th>MaxFloor</th>\n",
       "      <th>price</th>\n",
       "      <th>floor</th>\n",
       "    </tr>\n",
       "  </thead>\n",
       "  <tbody>\n",
       "    <tr>\n",
       "      <th>417</th>\n",
       "      <td>Bildes vairāk what upā, katru dienu nebraucam ...</td>\n",
       "      <td>https://ss.com/msg/lv/real-estate/flats/riga/c...</td>\n",
       "      <td>Duntes 26</td>\n",
       "      <td>3</td>\n",
       "      <td>67</td>\n",
       "      <td>2/2</td>\n",
       "      <td>Specpr.</td>\n",
       "      <td>177 €</td>\n",
       "      <td>11,890  €</td>\n",
       "      <td>2</td>\n",
       "      <td>2</td>\n",
       "      <td>11890</td>\n",
       "      <td>2</td>\n",
       "    </tr>\n",
       "    <tr>\n",
       "      <th>365</th>\n",
       "      <td>Zemes nomas maksa 10 Eur/mēnesī, koka māja, pa...</td>\n",
       "      <td>https://ss.com/msg/lv/real-estate/flats/riga/c...</td>\n",
       "      <td>Zvaigžņu 15</td>\n",
       "      <td>1</td>\n",
       "      <td>19</td>\n",
       "      <td>2/2</td>\n",
       "      <td>P. kara</td>\n",
       "      <td>832 €</td>\n",
       "      <td>15,800  €</td>\n",
       "      <td>2</td>\n",
       "      <td>2</td>\n",
       "      <td>15800</td>\n",
       "      <td>2</td>\n",
       "    </tr>\n",
       "    <tr>\n",
       "      <th>150</th>\n",
       "      <td>Продается квартира со свежим ремонтом. \\r\\n\\r\\...</td>\n",
       "      <td>https://ss.com/msg/lv/real-estate/flats/riga/c...</td>\n",
       "      <td>Zvaigžņu 31</td>\n",
       "      <td>1</td>\n",
       "      <td>22</td>\n",
       "      <td>2/3</td>\n",
       "      <td>P. kara</td>\n",
       "      <td>805 €</td>\n",
       "      <td>17,700  €</td>\n",
       "      <td>2</td>\n",
       "      <td>3</td>\n",
       "      <td>17700</td>\n",
       "      <td>2</td>\n",
       "    </tr>\n",
       "    <tr>\n",
       "      <th>340</th>\n",
       "      <td>Продается квартира со свежим ремонтом. \\r\\n\\r\\...</td>\n",
       "      <td>https://ss.com/msg/lv/real-estate/flats/riga/c...</td>\n",
       "      <td>Zvaigžņu 31</td>\n",
       "      <td>1</td>\n",
       "      <td>22</td>\n",
       "      <td>2/3</td>\n",
       "      <td>P. kara</td>\n",
       "      <td>818 €</td>\n",
       "      <td>18,000  €</td>\n",
       "      <td>2</td>\n",
       "      <td>3</td>\n",
       "      <td>18000</td>\n",
       "      <td>2</td>\n",
       "    </tr>\n",
       "    <tr>\n",
       "      <th>473</th>\n",
       "      <td>Pārdod kompaktu dzīvokli Grīziņkalnā. Platība ...</td>\n",
       "      <td>https://ss.com/msg/lv/real-estate/flats/riga/c...</td>\n",
       "      <td>Vārnu 4</td>\n",
       "      <td>1</td>\n",
       "      <td>18</td>\n",
       "      <td>2/2</td>\n",
       "      <td>P. kara</td>\n",
       "      <td>1,000 €</td>\n",
       "      <td>18,000  €</td>\n",
       "      <td>2</td>\n",
       "      <td>2</td>\n",
       "      <td>18000</td>\n",
       "      <td>2</td>\n",
       "    </tr>\n",
       "  </tbody>\n",
       "</table>\n",
       "</div>"
      ],
      "text/plain": [
       "                                           description  \\\n",
       "417  Bildes vairāk what upā, katru dienu nebraucam ...   \n",
       "365  Zemes nomas maksa 10 Eur/mēnesī, koka māja, pa...   \n",
       "150  Продается квартира со свежим ремонтом. \\r\\n\\r\\...   \n",
       "340  Продается квартира со свежим ремонтом. \\r\\n\\r\\...   \n",
       "473  Pārdod kompaktu dzīvokli Grīziņkalnā. Platība ...   \n",
       "\n",
       "                                                   url         Iela Ist.  m2  \\\n",
       "417  https://ss.com/msg/lv/real-estate/flats/riga/c...    Duntes 26    3  67   \n",
       "365  https://ss.com/msg/lv/real-estate/flats/riga/c...  Zvaigžņu 15    1  19   \n",
       "150  https://ss.com/msg/lv/real-estate/flats/riga/c...  Zvaigžņu 31    1  22   \n",
       "340  https://ss.com/msg/lv/real-estate/flats/riga/c...  Zvaigžņu 31    1  22   \n",
       "473  https://ss.com/msg/lv/real-estate/flats/riga/c...      Vārnu 4    1  18   \n",
       "\n",
       "    Stāvs   Sērija Cena, m2       Cena Floor  MaxFloor  price  floor  \n",
       "417   2/2  Specpr.    177 €  11,890  €     2         2  11890      2  \n",
       "365   2/2  P. kara    832 €  15,800  €     2         2  15800      2  \n",
       "150   2/3  P. kara    805 €  17,700  €     2         3  17700      2  \n",
       "340   2/3  P. kara    818 €  18,000  €     2         3  18000      2  \n",
       "473   2/2  P. kara  1,000 €  18,000  €     2         2  18000      2  "
      ]
     },
     "execution_count": 89,
     "metadata": {},
     "output_type": "execute_result"
    }
   ],
   "source": [
    "df.sort_values(by=\"price\",ascending=True).head()"
   ]
  },
  {
   "cell_type": "code",
   "execution_count": 100,
   "metadata": {},
   "outputs": [
    {
     "data": {
      "text/html": [
       "<div>\n",
       "<style scoped>\n",
       "    .dataframe tbody tr th:only-of-type {\n",
       "        vertical-align: middle;\n",
       "    }\n",
       "\n",
       "    .dataframe tbody tr th {\n",
       "        vertical-align: top;\n",
       "    }\n",
       "\n",
       "    .dataframe thead th {\n",
       "        text-align: right;\n",
       "    }\n",
       "</style>\n",
       "<table border=\"1\" class=\"dataframe\">\n",
       "  <thead>\n",
       "    <tr style=\"text-align: right;\">\n",
       "      <th></th>\n",
       "      <th>m2</th>\n",
       "      <th>MaxFloor</th>\n",
       "      <th>price</th>\n",
       "      <th>floor</th>\n",
       "    </tr>\n",
       "  </thead>\n",
       "  <tbody>\n",
       "    <tr>\n",
       "      <th>count</th>\n",
       "      <td>810.000000</td>\n",
       "      <td>810.000000</td>\n",
       "      <td>8.100000e+02</td>\n",
       "      <td>810.000000</td>\n",
       "    </tr>\n",
       "    <tr>\n",
       "      <th>mean</th>\n",
       "      <td>79.774074</td>\n",
       "      <td>5.404938</td>\n",
       "      <td>1.607078e+05</td>\n",
       "      <td>3.196296</td>\n",
       "    </tr>\n",
       "    <tr>\n",
       "      <th>std</th>\n",
       "      <td>79.729655</td>\n",
       "      <td>2.270676</td>\n",
       "      <td>1.636467e+05</td>\n",
       "      <td>2.149479</td>\n",
       "    </tr>\n",
       "    <tr>\n",
       "      <th>min</th>\n",
       "      <td>15.000000</td>\n",
       "      <td>1.000000</td>\n",
       "      <td>9.580000e+03</td>\n",
       "      <td>1.000000</td>\n",
       "    </tr>\n",
       "    <tr>\n",
       "      <th>25%</th>\n",
       "      <td>46.000000</td>\n",
       "      <td>5.000000</td>\n",
       "      <td>7.957500e+04</td>\n",
       "      <td>2.000000</td>\n",
       "    </tr>\n",
       "    <tr>\n",
       "      <th>50%</th>\n",
       "      <td>62.000000</td>\n",
       "      <td>5.000000</td>\n",
       "      <td>1.240000e+05</td>\n",
       "      <td>3.000000</td>\n",
       "    </tr>\n",
       "    <tr>\n",
       "      <th>75%</th>\n",
       "      <td>96.000000</td>\n",
       "      <td>6.000000</td>\n",
       "      <td>1.900000e+05</td>\n",
       "      <td>4.000000</td>\n",
       "    </tr>\n",
       "    <tr>\n",
       "      <th>max</th>\n",
       "      <td>1791.000000</td>\n",
       "      <td>24.000000</td>\n",
       "      <td>2.476650e+06</td>\n",
       "      <td>23.000000</td>\n",
       "    </tr>\n",
       "  </tbody>\n",
       "</table>\n",
       "</div>"
      ],
      "text/plain": [
       "                m2    MaxFloor         price       floor\n",
       "count   810.000000  810.000000  8.100000e+02  810.000000\n",
       "mean     79.774074    5.404938  1.607078e+05    3.196296\n",
       "std      79.729655    2.270676  1.636467e+05    2.149479\n",
       "min      15.000000    1.000000  9.580000e+03    1.000000\n",
       "25%      46.000000    5.000000  7.957500e+04    2.000000\n",
       "50%      62.000000    5.000000  1.240000e+05    3.000000\n",
       "75%      96.000000    6.000000  1.900000e+05    4.000000\n",
       "max    1791.000000   24.000000  2.476650e+06   23.000000"
      ]
     },
     "execution_count": 100,
     "metadata": {},
     "output_type": "execute_result"
    }
   ],
   "source": [
    "df.describe() # describe will give us basic statistics for all numeric columns"
   ]
  },
  {
   "cell_type": "code",
   "execution_count": 101,
   "metadata": {},
   "outputs": [
    {
     "data": {
      "text/html": [
       "<div>\n",
       "<style scoped>\n",
       "    .dataframe tbody tr th:only-of-type {\n",
       "        vertical-align: middle;\n",
       "    }\n",
       "\n",
       "    .dataframe tbody tr th {\n",
       "        vertical-align: top;\n",
       "    }\n",
       "\n",
       "    .dataframe thead th {\n",
       "        text-align: right;\n",
       "    }\n",
       "</style>\n",
       "<table border=\"1\" class=\"dataframe\">\n",
       "  <thead>\n",
       "    <tr style=\"text-align: right;\">\n",
       "      <th></th>\n",
       "      <th>description</th>\n",
       "      <th>url</th>\n",
       "      <th>Iela</th>\n",
       "      <th>Ist.</th>\n",
       "      <th>m2</th>\n",
       "      <th>Stāvs</th>\n",
       "      <th>Sērija</th>\n",
       "      <th>Cena, m2</th>\n",
       "      <th>Cena</th>\n",
       "      <th>Floor</th>\n",
       "      <th>MaxFloor</th>\n",
       "      <th>price</th>\n",
       "      <th>floor</th>\n",
       "    </tr>\n",
       "  </thead>\n",
       "  <tbody>\n",
       "    <tr>\n",
       "      <th>0</th>\n",
       "      <td>Dzīvoklis tikko pēc remonta. \\r\\nDzīvojamā ist...</td>\n",
       "      <td>https://ss.com/msg/lv/real-estate/flats/riga/c...</td>\n",
       "      <td>Valdemāra 73</td>\n",
       "      <td>3</td>\n",
       "      <td>66</td>\n",
       "      <td>6/6</td>\n",
       "      <td>P. kara</td>\n",
       "      <td>2,500 €</td>\n",
       "      <td>165,000  €</td>\n",
       "      <td>6</td>\n",
       "      <td>6</td>\n",
       "      <td>165000</td>\n",
       "      <td>6</td>\n",
       "    </tr>\n",
       "    <tr>\n",
       "      <th>2</th>\n",
       "      <td>Kluss. Panorāmas skats no logiem. \\r\\nLaba plā...</td>\n",
       "      <td>https://ss.com/msg/lv/real-estate/flats/riga/c...</td>\n",
       "      <td>Teātra 12</td>\n",
       "      <td>5</td>\n",
       "      <td>136</td>\n",
       "      <td>6/7</td>\n",
       "      <td>P. kara</td>\n",
       "      <td>2,000 €</td>\n",
       "      <td>272,000  €</td>\n",
       "      <td>6</td>\n",
       "      <td>7</td>\n",
       "      <td>272000</td>\n",
       "      <td>6</td>\n",
       "    </tr>\n",
       "    <tr>\n",
       "      <th>4</th>\n",
       "      <td>Pārdodam dzīvokļus ēkā ar vēstures garšu. Reno...</td>\n",
       "      <td>https://ss.com/msg/lv/real-estate/flats/riga/c...</td>\n",
       "      <td>Tomsona 33</td>\n",
       "      <td>3</td>\n",
       "      <td>64</td>\n",
       "      <td>4/5</td>\n",
       "      <td>Renov.</td>\n",
       "      <td>2,180 €</td>\n",
       "      <td>139,500  €</td>\n",
       "      <td>4</td>\n",
       "      <td>5</td>\n",
       "      <td>139500</td>\n",
       "      <td>4</td>\n",
       "    </tr>\n",
       "    <tr>\n",
       "      <th>5</th>\n",
       "      <td>Pasteidzies. 80% dzīvokļu jau izpārdoti. \\r\\n\\...</td>\n",
       "      <td>https://ss.com/msg/lv/real-estate/flats/riga/c...</td>\n",
       "      <td>Brīvības 95</td>\n",
       "      <td>4</td>\n",
       "      <td>86</td>\n",
       "      <td>5/7</td>\n",
       "      <td>Renov.</td>\n",
       "      <td>2,198 €</td>\n",
       "      <td>189,000  €</td>\n",
       "      <td>5</td>\n",
       "      <td>7</td>\n",
       "      <td>189000</td>\n",
       "      <td>5</td>\n",
       "    </tr>\n",
       "    <tr>\n",
       "      <th>6</th>\n",
       "      <td>Piedāvājumā 3 istabu dzīvoklis 4.stāvā ar skat...</td>\n",
       "      <td>https://ss.com/msg/lv/real-estate/flats/riga/c...</td>\n",
       "      <td>Brīvības 95</td>\n",
       "      <td>3</td>\n",
       "      <td>86</td>\n",
       "      <td>4/7</td>\n",
       "      <td>Renov.</td>\n",
       "      <td>2,198 €</td>\n",
       "      <td>189,000  €</td>\n",
       "      <td>4</td>\n",
       "      <td>7</td>\n",
       "      <td>189000</td>\n",
       "      <td>4</td>\n",
       "    </tr>\n",
       "    <tr>\n",
       "      <th>...</th>\n",
       "      <td>...</td>\n",
       "      <td>...</td>\n",
       "      <td>...</td>\n",
       "      <td>...</td>\n",
       "      <td>...</td>\n",
       "      <td>...</td>\n",
       "      <td>...</td>\n",
       "      <td>...</td>\n",
       "      <td>...</td>\n",
       "      <td>...</td>\n",
       "      <td>...</td>\n",
       "      <td>...</td>\n",
       "      <td>...</td>\n",
       "    </tr>\n",
       "    <tr>\n",
       "      <th>799</th>\n",
       "      <td>Īpašnieks pārdod kompaktu 1 istabas dzīvokli J...</td>\n",
       "      <td>https://ss.com/msg/lv/real-estate/flats/riga/c...</td>\n",
       "      <td>Ganību d. 13</td>\n",
       "      <td>1</td>\n",
       "      <td>21</td>\n",
       "      <td>4/6</td>\n",
       "      <td>Jaun.</td>\n",
       "      <td>1,419 €</td>\n",
       "      <td>29,800  €</td>\n",
       "      <td>4</td>\n",
       "      <td>6</td>\n",
       "      <td>29800</td>\n",
       "      <td>4</td>\n",
       "    </tr>\n",
       "    <tr>\n",
       "      <th>801</th>\n",
       "      <td>Jauns 4-istabu dzīvoklis renovētā projektā Rīg...</td>\n",
       "      <td>https://ss.com/msg/lv/real-estate/flats/riga/c...</td>\n",
       "      <td>Pļavas 4</td>\n",
       "      <td>4</td>\n",
       "      <td>74</td>\n",
       "      <td>3/3</td>\n",
       "      <td>Renov.</td>\n",
       "      <td>2,303 €</td>\n",
       "      <td>170,430  €</td>\n",
       "      <td>3</td>\n",
       "      <td>3</td>\n",
       "      <td>170430</td>\n",
       "      <td>3</td>\n",
       "    </tr>\n",
       "    <tr>\n",
       "      <th>803</th>\n",
       "      <td>Дом обслуживает Dzīks Dīķi. \\r\\nПоменяны: крыш...</td>\n",
       "      <td>https://ss.com/msg/lv/real-estate/flats/riga/c...</td>\n",
       "      <td>Zirņu 6</td>\n",
       "      <td>2</td>\n",
       "      <td>42</td>\n",
       "      <td>6/6</td>\n",
       "      <td>Hrušč.</td>\n",
       "      <td>1,167 €</td>\n",
       "      <td>49,000  €</td>\n",
       "      <td>6</td>\n",
       "      <td>6</td>\n",
       "      <td>49000</td>\n",
       "      <td>6</td>\n",
       "    </tr>\n",
       "    <tr>\n",
       "      <th>804</th>\n",
       "      <td>Pārdod dzīvokli ar labu investīciju potenciālu...</td>\n",
       "      <td>https://ss.com/msg/lv/real-estate/flats/riga/c...</td>\n",
       "      <td>Ģertrūdes 37</td>\n",
       "      <td>2</td>\n",
       "      <td>37</td>\n",
       "      <td>5/6</td>\n",
       "      <td>P. kara</td>\n",
       "      <td>784 €</td>\n",
       "      <td>29,000  €</td>\n",
       "      <td>5</td>\n",
       "      <td>6</td>\n",
       "      <td>29000</td>\n",
       "      <td>5</td>\n",
       "    </tr>\n",
       "    <tr>\n",
       "      <th>807</th>\n",
       "      <td>Plašs dzīvoklis pašā Rīgas centrā gaida jaunu ...</td>\n",
       "      <td>https://ss.com/msg/lv/real-estate/flats/riga/c...</td>\n",
       "      <td>Elijas 5</td>\n",
       "      <td>5</td>\n",
       "      <td>109</td>\n",
       "      <td>4/5</td>\n",
       "      <td>P. kara</td>\n",
       "      <td>1,239 €</td>\n",
       "      <td>135,000  €</td>\n",
       "      <td>4</td>\n",
       "      <td>5</td>\n",
       "      <td>135000</td>\n",
       "      <td>4</td>\n",
       "    </tr>\n",
       "  </tbody>\n",
       "</table>\n",
       "<p>446 rows × 13 columns</p>\n",
       "</div>"
      ],
      "text/plain": [
       "                                           description   \n",
       "0    Dzīvoklis tikko pēc remonta. \\r\\nDzīvojamā ist...  \\\n",
       "2    Kluss. Panorāmas skats no logiem. \\r\\nLaba plā...   \n",
       "4    Pārdodam dzīvokļus ēkā ar vēstures garšu. Reno...   \n",
       "5    Pasteidzies. 80% dzīvokļu jau izpārdoti. \\r\\n\\...   \n",
       "6    Piedāvājumā 3 istabu dzīvoklis 4.stāvā ar skat...   \n",
       "..                                                 ...   \n",
       "799  Īpašnieks pārdod kompaktu 1 istabas dzīvokli J...   \n",
       "801  Jauns 4-istabu dzīvoklis renovētā projektā Rīg...   \n",
       "803  Дом обслуживает Dzīks Dīķi. \\r\\nПоменяны: крыш...   \n",
       "804  Pārdod dzīvokli ar labu investīciju potenciālu...   \n",
       "807  Plašs dzīvoklis pašā Rīgas centrā gaida jaunu ...   \n",
       "\n",
       "                                                   url          Iela Ist.   \n",
       "0    https://ss.com/msg/lv/real-estate/flats/riga/c...  Valdemāra 73    3  \\\n",
       "2    https://ss.com/msg/lv/real-estate/flats/riga/c...     Teātra 12    5   \n",
       "4    https://ss.com/msg/lv/real-estate/flats/riga/c...    Tomsona 33    3   \n",
       "5    https://ss.com/msg/lv/real-estate/flats/riga/c...   Brīvības 95    4   \n",
       "6    https://ss.com/msg/lv/real-estate/flats/riga/c...   Brīvības 95    3   \n",
       "..                                                 ...           ...  ...   \n",
       "799  https://ss.com/msg/lv/real-estate/flats/riga/c...  Ganību d. 13    1   \n",
       "801  https://ss.com/msg/lv/real-estate/flats/riga/c...      Pļavas 4    4   \n",
       "803  https://ss.com/msg/lv/real-estate/flats/riga/c...       Zirņu 6    2   \n",
       "804  https://ss.com/msg/lv/real-estate/flats/riga/c...  Ģertrūdes 37    2   \n",
       "807  https://ss.com/msg/lv/real-estate/flats/riga/c...      Elijas 5    5   \n",
       "\n",
       "      m2 Stāvs   Sērija Cena, m2        Cena Floor  MaxFloor   price  floor  \n",
       "0     66   6/6  P. kara  2,500 €  165,000  €     6         6  165000      6  \n",
       "2    136   6/7  P. kara  2,000 €  272,000  €     6         7  272000      6  \n",
       "4     64   4/5   Renov.  2,180 €  139,500  €     4         5  139500      4  \n",
       "5     86   5/7   Renov.  2,198 €  189,000  €     5         7  189000      5  \n",
       "6     86   4/7   Renov.  2,198 €  189,000  €     4         7  189000      4  \n",
       "..   ...   ...      ...      ...         ...   ...       ...     ...    ...  \n",
       "799   21   4/6    Jaun.  1,419 €   29,800  €     4         6   29800      4  \n",
       "801   74   3/3   Renov.  2,303 €  170,430  €     3         3  170430      3  \n",
       "803   42   6/6   Hrušč.  1,167 €   49,000  €     6         6   49000      6  \n",
       "804   37   5/6  P. kara    784 €   29,000  €     5         6   29000      5  \n",
       "807  109   4/5  P. kara  1,239 €  135,000  €     4         5  135000      4  \n",
       "\n",
       "[446 rows x 13 columns]"
      ]
     },
     "execution_count": 101,
     "metadata": {},
     "output_type": "execute_result"
    }
   ],
   "source": [
    "# i can filter by column value\n",
    "# so here we will get all rows where floor is greater than 2\n",
    "df[df.floor > 2]"
   ]
  },
  {
   "cell_type": "code",
   "execution_count": 102,
   "metadata": {},
   "outputs": [
    {
     "data": {
      "text/html": [
       "<div>\n",
       "<style scoped>\n",
       "    .dataframe tbody tr th:only-of-type {\n",
       "        vertical-align: middle;\n",
       "    }\n",
       "\n",
       "    .dataframe tbody tr th {\n",
       "        vertical-align: top;\n",
       "    }\n",
       "\n",
       "    .dataframe thead th {\n",
       "        text-align: right;\n",
       "    }\n",
       "</style>\n",
       "<table border=\"1\" class=\"dataframe\">\n",
       "  <thead>\n",
       "    <tr style=\"text-align: right;\">\n",
       "      <th></th>\n",
       "      <th>description</th>\n",
       "      <th>url</th>\n",
       "      <th>Iela</th>\n",
       "      <th>Ist.</th>\n",
       "      <th>m2</th>\n",
       "      <th>Stāvs</th>\n",
       "      <th>Sērija</th>\n",
       "      <th>Cena, m2</th>\n",
       "      <th>Cena</th>\n",
       "      <th>Floor</th>\n",
       "      <th>MaxFloor</th>\n",
       "      <th>price</th>\n",
       "      <th>floor</th>\n",
       "    </tr>\n",
       "  </thead>\n",
       "  <tbody>\n",
       "    <tr>\n",
       "      <th>407</th>\n",
       "      <td>Pārdod unikālu dzīvokli- penthausu ar iespējam...</td>\n",
       "      <td>https://ss.com/msg/lv/real-estate/flats/riga/c...</td>\n",
       "      <td>J. Daliņa 8</td>\n",
       "      <td>5</td>\n",
       "      <td>410</td>\n",
       "      <td>23/24</td>\n",
       "      <td>Jaun.</td>\n",
       "      <td>3,171 €</td>\n",
       "      <td>1,300,000  €</td>\n",
       "      <td>23</td>\n",
       "      <td>24</td>\n",
       "      <td>1300000</td>\n",
       "      <td>23</td>\n",
       "    </tr>\n",
       "    <tr>\n",
       "      <th>138</th>\n",
       "      <td>Dzīvojamais projekts, kurā vienkopus mājas ērt...</td>\n",
       "      <td>https://ss.com/msg/lv/real-estate/flats/riga/c...</td>\n",
       "      <td>J. Daliņa 8</td>\n",
       "      <td>3</td>\n",
       "      <td>108</td>\n",
       "      <td>11/24</td>\n",
       "      <td>Jaun.</td>\n",
       "      <td>2,546 €</td>\n",
       "      <td>275,000  €</td>\n",
       "      <td>11</td>\n",
       "      <td>24</td>\n",
       "      <td>275000</td>\n",
       "      <td>11</td>\n",
       "    </tr>\n",
       "    <tr>\n",
       "      <th>632</th>\n",
       "      <td>Augstvērtīgs 5 istabu dzīvoklis ar divām autos...</td>\n",
       "      <td>https://ss.com/msg/lv/real-estate/flats/riga/c...</td>\n",
       "      <td>J. Daliņa 8</td>\n",
       "      <td>5</td>\n",
       "      <td>200</td>\n",
       "      <td>20/24</td>\n",
       "      <td>Jaun.</td>\n",
       "      <td>2,875 €</td>\n",
       "      <td>575,000  €</td>\n",
       "      <td>20</td>\n",
       "      <td>24</td>\n",
       "      <td>575000</td>\n",
       "      <td>20</td>\n",
       "    </tr>\n",
       "    <tr>\n",
       "      <th>582</th>\n",
       "      <td>Ideāls dzīvoklis topošam Rīgas studentam vai v...</td>\n",
       "      <td>https://ss.com/msg/lv/real-estate/flats/riga/c...</td>\n",
       "      <td>Skanstes 29</td>\n",
       "      <td>1</td>\n",
       "      <td>54</td>\n",
       "      <td>4/24</td>\n",
       "      <td>Jaun.</td>\n",
       "      <td>2,315 €</td>\n",
       "      <td>125,000  €</td>\n",
       "      <td>4</td>\n",
       "      <td>24</td>\n",
       "      <td>125000</td>\n",
       "      <td>4</td>\n",
       "    </tr>\n",
       "    <tr>\n",
       "      <th>588</th>\n",
       "      <td>Продаётся двухкомнатная квартира (70м2, см. пл...</td>\n",
       "      <td>https://ss.com/msg/lv/real-estate/flats/riga/c...</td>\n",
       "      <td>Skanstes 29</td>\n",
       "      <td>2</td>\n",
       "      <td>70</td>\n",
       "      <td>11/24</td>\n",
       "      <td>Jaun.</td>\n",
       "      <td>2,143 €</td>\n",
       "      <td>150,000  €</td>\n",
       "      <td>11</td>\n",
       "      <td>24</td>\n",
       "      <td>150000</td>\n",
       "      <td>11</td>\n",
       "    </tr>\n",
       "  </tbody>\n",
       "</table>\n",
       "</div>"
      ],
      "text/plain": [
       "                                           description   \n",
       "407  Pārdod unikālu dzīvokli- penthausu ar iespējam...  \\\n",
       "138  Dzīvojamais projekts, kurā vienkopus mājas ērt...   \n",
       "632  Augstvērtīgs 5 istabu dzīvoklis ar divām autos...   \n",
       "582  Ideāls dzīvoklis topošam Rīgas studentam vai v...   \n",
       "588  Продаётся двухкомнатная квартира (70м2, см. пл...   \n",
       "\n",
       "                                                   url         Iela Ist.   m2   \n",
       "407  https://ss.com/msg/lv/real-estate/flats/riga/c...  J. Daliņa 8    5  410  \\\n",
       "138  https://ss.com/msg/lv/real-estate/flats/riga/c...  J. Daliņa 8    3  108   \n",
       "632  https://ss.com/msg/lv/real-estate/flats/riga/c...  J. Daliņa 8    5  200   \n",
       "582  https://ss.com/msg/lv/real-estate/flats/riga/c...  Skanstes 29    1   54   \n",
       "588  https://ss.com/msg/lv/real-estate/flats/riga/c...  Skanstes 29    2   70   \n",
       "\n",
       "     Stāvs Sērija Cena, m2          Cena Floor  MaxFloor    price  floor  \n",
       "407  23/24  Jaun.  3,171 €  1,300,000  €    23        24  1300000     23  \n",
       "138  11/24  Jaun.  2,546 €    275,000  €    11        24   275000     11  \n",
       "632  20/24  Jaun.  2,875 €    575,000  €    20        24   575000     20  \n",
       "582   4/24  Jaun.  2,315 €    125,000  €     4        24   125000      4  \n",
       "588  11/24  Jaun.  2,143 €    150,000  €    11        24   150000     11  "
      ]
     },
     "execution_count": 102,
     "metadata": {},
     "output_type": "execute_result"
    }
   ],
   "source": [
    "df.sort_values(by=\"MaxFloor\",ascending=False).head()"
   ]
  },
  {
   "cell_type": "code",
   "execution_count": null,
   "metadata": {},
   "outputs": [],
   "source": [
    "df.head()"
   ]
  },
  {
   "cell_type": "code",
   "execution_count": null,
   "metadata": {},
   "outputs": [],
   "source": [
    "df.columns"
   ]
  },
  {
   "cell_type": "code",
   "execution_count": 103,
   "metadata": {},
   "outputs": [
    {
     "data": {
      "text/html": [
       "<div>\n",
       "<style scoped>\n",
       "    .dataframe tbody tr th:only-of-type {\n",
       "        vertical-align: middle;\n",
       "    }\n",
       "\n",
       "    .dataframe tbody tr th {\n",
       "        vertical-align: top;\n",
       "    }\n",
       "\n",
       "    .dataframe thead th {\n",
       "        text-align: right;\n",
       "    }\n",
       "</style>\n",
       "<table border=\"1\" class=\"dataframe\">\n",
       "  <thead>\n",
       "    <tr style=\"text-align: right;\">\n",
       "      <th></th>\n",
       "      <th>count</th>\n",
       "      <th>min</th>\n",
       "      <th>max</th>\n",
       "      <th>mean</th>\n",
       "    </tr>\n",
       "    <tr>\n",
       "      <th>Iela</th>\n",
       "      <th></th>\n",
       "      <th></th>\n",
       "      <th></th>\n",
       "      <th></th>\n",
       "    </tr>\n",
       "  </thead>\n",
       "  <tbody>\n",
       "    <tr>\n",
       "      <th>11. novembra krast..</th>\n",
       "      <td>1</td>\n",
       "      <td>127000</td>\n",
       "      <td>127000</td>\n",
       "      <td>127000.0</td>\n",
       "    </tr>\n",
       "    <tr>\n",
       "      <th>Akas 2</th>\n",
       "      <td>1</td>\n",
       "      <td>95000</td>\n",
       "      <td>95000</td>\n",
       "      <td>95000.0</td>\n",
       "    </tr>\n",
       "    <tr>\n",
       "      <th>Akas 8</th>\n",
       "      <td>1</td>\n",
       "      <td>260000</td>\n",
       "      <td>260000</td>\n",
       "      <td>260000.0</td>\n",
       "    </tr>\n",
       "    <tr>\n",
       "      <th>Alauksta 16</th>\n",
       "      <td>1</td>\n",
       "      <td>43000</td>\n",
       "      <td>43000</td>\n",
       "      <td>43000.0</td>\n",
       "    </tr>\n",
       "    <tr>\n",
       "      <th>Alberta 2</th>\n",
       "      <td>1</td>\n",
       "      <td>680000</td>\n",
       "      <td>680000</td>\n",
       "      <td>680000.0</td>\n",
       "    </tr>\n",
       "    <tr>\n",
       "      <th>...</th>\n",
       "      <td>...</td>\n",
       "      <td>...</td>\n",
       "      <td>...</td>\n",
       "      <td>...</td>\n",
       "    </tr>\n",
       "    <tr>\n",
       "      <th>Ģertrūdes 71</th>\n",
       "      <td>1</td>\n",
       "      <td>169000</td>\n",
       "      <td>169000</td>\n",
       "      <td>169000.0</td>\n",
       "    </tr>\n",
       "    <tr>\n",
       "      <th>Ģertrūdes 78</th>\n",
       "      <td>1</td>\n",
       "      <td>71900</td>\n",
       "      <td>71900</td>\n",
       "      <td>71900.0</td>\n",
       "    </tr>\n",
       "    <tr>\n",
       "      <th>Ģertrūdes 91a</th>\n",
       "      <td>1</td>\n",
       "      <td>30000</td>\n",
       "      <td>30000</td>\n",
       "      <td>30000.0</td>\n",
       "    </tr>\n",
       "    <tr>\n",
       "      <th>Ģertrūdes 99</th>\n",
       "      <td>1</td>\n",
       "      <td>105000</td>\n",
       "      <td>105000</td>\n",
       "      <td>105000.0</td>\n",
       "    </tr>\n",
       "    <tr>\n",
       "      <th>Šarlotes 5</th>\n",
       "      <td>1</td>\n",
       "      <td>180000</td>\n",
       "      <td>180000</td>\n",
       "      <td>180000.0</td>\n",
       "    </tr>\n",
       "  </tbody>\n",
       "</table>\n",
       "<p>504 rows × 4 columns</p>\n",
       "</div>"
      ],
      "text/plain": [
       "                      count     min     max      mean\n",
       "Iela                                                 \n",
       "11. novembra krast..      1  127000  127000  127000.0\n",
       "Akas 2                    1   95000   95000   95000.0\n",
       "Akas 8                    1  260000  260000  260000.0\n",
       "Alauksta 16               1   43000   43000   43000.0\n",
       "Alberta 2                 1  680000  680000  680000.0\n",
       "...                     ...     ...     ...       ...\n",
       "Ģertrūdes 71              1  169000  169000  169000.0\n",
       "Ģertrūdes 78              1   71900   71900   71900.0\n",
       "Ģertrūdes 91a             1   30000   30000   30000.0\n",
       "Ģertrūdes 99              1  105000  105000  105000.0\n",
       "Šarlotes 5                1  180000  180000  180000.0\n",
       "\n",
       "[504 rows x 4 columns]"
      ]
     },
     "execution_count": 103,
     "metadata": {},
     "output_type": "execute_result"
    }
   ],
   "source": [
    "grouped_by_street = df.groupby(by=\"Iela\")['price'].agg([\"count\", \"min\", \"max\", \"mean\", ])\n",
    "grouped_by_street"
   ]
  },
  {
   "cell_type": "code",
   "execution_count": 104,
   "metadata": {},
   "outputs": [
    {
     "data": {
      "text/html": [
       "<div>\n",
       "<style scoped>\n",
       "    .dataframe tbody tr th:only-of-type {\n",
       "        vertical-align: middle;\n",
       "    }\n",
       "\n",
       "    .dataframe tbody tr th {\n",
       "        vertical-align: top;\n",
       "    }\n",
       "\n",
       "    .dataframe thead th {\n",
       "        text-align: right;\n",
       "    }\n",
       "</style>\n",
       "<table border=\"1\" class=\"dataframe\">\n",
       "  <thead>\n",
       "    <tr style=\"text-align: right;\">\n",
       "      <th></th>\n",
       "      <th>count</th>\n",
       "      <th>min</th>\n",
       "      <th>max</th>\n",
       "      <th>mean</th>\n",
       "    </tr>\n",
       "    <tr>\n",
       "      <th>Sērija</th>\n",
       "      <th></th>\n",
       "      <th></th>\n",
       "      <th></th>\n",
       "      <th></th>\n",
       "    </tr>\n",
       "  </thead>\n",
       "  <tbody>\n",
       "    <tr>\n",
       "      <th>103.</th>\n",
       "      <td>4</td>\n",
       "      <td>43000</td>\n",
       "      <td>120000</td>\n",
       "      <td>74475.000000</td>\n",
       "    </tr>\n",
       "    <tr>\n",
       "      <th>467.</th>\n",
       "      <td>2</td>\n",
       "      <td>85000</td>\n",
       "      <td>89500</td>\n",
       "      <td>87250.000000</td>\n",
       "    </tr>\n",
       "    <tr>\n",
       "      <th>Hrušč.</th>\n",
       "      <td>24</td>\n",
       "      <td>41500</td>\n",
       "      <td>96000</td>\n",
       "      <td>62191.666667</td>\n",
       "    </tr>\n",
       "    <tr>\n",
       "      <th>Jaun.</th>\n",
       "      <td>103</td>\n",
       "      <td>29800</td>\n",
       "      <td>2476650</td>\n",
       "      <td>292482.038835</td>\n",
       "    </tr>\n",
       "    <tr>\n",
       "      <th>LT proj.</th>\n",
       "      <td>2</td>\n",
       "      <td>66000</td>\n",
       "      <td>87500</td>\n",
       "      <td>76750.000000</td>\n",
       "    </tr>\n",
       "    <tr>\n",
       "      <th>P. kara</th>\n",
       "      <td>352</td>\n",
       "      <td>11800</td>\n",
       "      <td>699000</td>\n",
       "      <td>140001.474432</td>\n",
       "    </tr>\n",
       "    <tr>\n",
       "      <th>Priv. m.</th>\n",
       "      <td>2</td>\n",
       "      <td>26680</td>\n",
       "      <td>86900</td>\n",
       "      <td>56790.000000</td>\n",
       "    </tr>\n",
       "    <tr>\n",
       "      <th>Renov.</th>\n",
       "      <td>258</td>\n",
       "      <td>34970</td>\n",
       "      <td>1475000</td>\n",
       "      <td>158956.441860</td>\n",
       "    </tr>\n",
       "    <tr>\n",
       "      <th>Specpr.</th>\n",
       "      <td>31</td>\n",
       "      <td>9580</td>\n",
       "      <td>600000</td>\n",
       "      <td>126202.741935</td>\n",
       "    </tr>\n",
       "    <tr>\n",
       "      <th>Staļina</th>\n",
       "      <td>30</td>\n",
       "      <td>22800</td>\n",
       "      <td>330000</td>\n",
       "      <td>116385.000000</td>\n",
       "    </tr>\n",
       "    <tr>\n",
       "      <th>Čehu pr.</th>\n",
       "      <td>2</td>\n",
       "      <td>50490</td>\n",
       "      <td>70000</td>\n",
       "      <td>60245.000000</td>\n",
       "    </tr>\n",
       "  </tbody>\n",
       "</table>\n",
       "</div>"
      ],
      "text/plain": [
       "          count    min      max           mean\n",
       "Sērija                                        \n",
       "103.          4  43000   120000   74475.000000\n",
       "467.          2  85000    89500   87250.000000\n",
       "Hrušč.       24  41500    96000   62191.666667\n",
       "Jaun.       103  29800  2476650  292482.038835\n",
       "LT proj.      2  66000    87500   76750.000000\n",
       "P. kara     352  11800   699000  140001.474432\n",
       "Priv. m.      2  26680    86900   56790.000000\n",
       "Renov.      258  34970  1475000  158956.441860\n",
       "Specpr.      31   9580   600000  126202.741935\n",
       "Staļina      30  22800   330000  116385.000000\n",
       "Čehu pr.      2  50490    70000   60245.000000"
      ]
     },
     "execution_count": 104,
     "metadata": {},
     "output_type": "execute_result"
    }
   ],
   "source": [
    "grouped_by_series = df.groupby(by=\"Sērija\")['price'].agg([\"count\", \"min\", \"max\", \"mean\", ])\n",
    "grouped_by_series"
   ]
  },
  {
   "cell_type": "code",
   "execution_count": null,
   "metadata": {},
   "outputs": [],
   "source": []
  },
  {
   "cell_type": "code",
   "execution_count": 95,
   "metadata": {},
   "outputs": [
    {
     "data": {
      "text/html": [
       "<div>\n",
       "<style scoped>\n",
       "    .dataframe tbody tr th:only-of-type {\n",
       "        vertical-align: middle;\n",
       "    }\n",
       "\n",
       "    .dataframe tbody tr th {\n",
       "        vertical-align: top;\n",
       "    }\n",
       "\n",
       "    .dataframe thead th {\n",
       "        text-align: right;\n",
       "    }\n",
       "</style>\n",
       "<table border=\"1\" class=\"dataframe\">\n",
       "  <thead>\n",
       "    <tr style=\"text-align: right;\">\n",
       "      <th></th>\n",
       "      <th>count</th>\n",
       "      <th>min</th>\n",
       "      <th>max</th>\n",
       "      <th>mean</th>\n",
       "    </tr>\n",
       "    <tr>\n",
       "      <th>floor</th>\n",
       "      <th></th>\n",
       "      <th></th>\n",
       "      <th></th>\n",
       "      <th></th>\n",
       "    </tr>\n",
       "  </thead>\n",
       "  <tbody>\n",
       "    <tr>\n",
       "      <th>1</th>\n",
       "      <td>119</td>\n",
       "      <td>19000</td>\n",
       "      <td>369000</td>\n",
       "      <td>104977.537815</td>\n",
       "    </tr>\n",
       "    <tr>\n",
       "      <th>2</th>\n",
       "      <td>168</td>\n",
       "      <td>11890</td>\n",
       "      <td>1750000</td>\n",
       "      <td>189899.696429</td>\n",
       "    </tr>\n",
       "    <tr>\n",
       "      <th>3</th>\n",
       "      <td>126</td>\n",
       "      <td>27500</td>\n",
       "      <td>463000</td>\n",
       "      <td>153661.119048</td>\n",
       "    </tr>\n",
       "    <tr>\n",
       "      <th>4</th>\n",
       "      <td>79</td>\n",
       "      <td>45579</td>\n",
       "      <td>724800</td>\n",
       "      <td>198776.822785</td>\n",
       "    </tr>\n",
       "    <tr>\n",
       "      <th>5</th>\n",
       "      <td>97</td>\n",
       "      <td>25000</td>\n",
       "      <td>439000</td>\n",
       "      <td>156083.938144</td>\n",
       "    </tr>\n",
       "    <tr>\n",
       "      <th>6</th>\n",
       "      <td>62</td>\n",
       "      <td>36000</td>\n",
       "      <td>802880</td>\n",
       "      <td>215051.387097</td>\n",
       "    </tr>\n",
       "    <tr>\n",
       "      <th>7</th>\n",
       "      <td>6</td>\n",
       "      <td>67000</td>\n",
       "      <td>595000</td>\n",
       "      <td>239783.333333</td>\n",
       "    </tr>\n",
       "    <tr>\n",
       "      <th>8</th>\n",
       "      <td>2</td>\n",
       "      <td>99000</td>\n",
       "      <td>99000</td>\n",
       "      <td>99000.000000</td>\n",
       "    </tr>\n",
       "    <tr>\n",
       "      <th>10</th>\n",
       "      <td>1</td>\n",
       "      <td>142300</td>\n",
       "      <td>142300</td>\n",
       "      <td>142300.000000</td>\n",
       "    </tr>\n",
       "    <tr>\n",
       "      <th>11</th>\n",
       "      <td>1</td>\n",
       "      <td>92000</td>\n",
       "      <td>92000</td>\n",
       "      <td>92000.000000</td>\n",
       "    </tr>\n",
       "    <tr>\n",
       "      <th>12</th>\n",
       "      <td>1</td>\n",
       "      <td>129700</td>\n",
       "      <td>129700</td>\n",
       "      <td>129700.000000</td>\n",
       "    </tr>\n",
       "    <tr>\n",
       "      <th>15</th>\n",
       "      <td>2</td>\n",
       "      <td>370000</td>\n",
       "      <td>420390</td>\n",
       "      <td>395195.000000</td>\n",
       "    </tr>\n",
       "    <tr>\n",
       "      <th>18</th>\n",
       "      <td>2</td>\n",
       "      <td>344000</td>\n",
       "      <td>405000</td>\n",
       "      <td>374500.000000</td>\n",
       "    </tr>\n",
       "    <tr>\n",
       "      <th>19</th>\n",
       "      <td>1</td>\n",
       "      <td>480000</td>\n",
       "      <td>480000</td>\n",
       "      <td>480000.000000</td>\n",
       "    </tr>\n",
       "    <tr>\n",
       "      <th>20</th>\n",
       "      <td>1</td>\n",
       "      <td>600000</td>\n",
       "      <td>600000</td>\n",
       "      <td>600000.000000</td>\n",
       "    </tr>\n",
       "  </tbody>\n",
       "</table>\n",
       "</div>"
      ],
      "text/plain": [
       "       count     min      max           mean\n",
       "floor                                       \n",
       "1        119   19000   369000  104977.537815\n",
       "2        168   11890  1750000  189899.696429\n",
       "3        126   27500   463000  153661.119048\n",
       "4         79   45579   724800  198776.822785\n",
       "5         97   25000   439000  156083.938144\n",
       "6         62   36000   802880  215051.387097\n",
       "7          6   67000   595000  239783.333333\n",
       "8          2   99000    99000   99000.000000\n",
       "10         1  142300   142300  142300.000000\n",
       "11         1   92000    92000   92000.000000\n",
       "12         1  129700   129700  129700.000000\n",
       "15         2  370000   420390  395195.000000\n",
       "18         2  344000   405000  374500.000000\n",
       "19         1  480000   480000  480000.000000\n",
       "20         1  600000   600000  600000.000000"
      ]
     },
     "execution_count": 95,
     "metadata": {},
     "output_type": "execute_result"
    }
   ],
   "source": [
    "grouped_by_floor = df.groupby(by=\"floor\")['price'].agg([\"count\", \"min\", \"max\", \"mean\", ])\n",
    "grouped_by_floor"
   ]
  },
  {
   "cell_type": "code",
   "execution_count": null,
   "metadata": {},
   "outputs": [],
   "source": [
    "len(grouped_by_floor)"
   ]
  },
  {
   "cell_type": "code",
   "execution_count": null,
   "metadata": {},
   "outputs": [],
   "source": [
    "grouped_by_floor.hist(bins=len(grouped_by_floor))"
   ]
  },
  {
   "cell_type": "code",
   "execution_count": null,
   "metadata": {},
   "outputs": [],
   "source": [
    "grouped_by_pag = df.groupby(by=\"Pagasts\")['price'].agg([\"count\", \"min\", \"max\", \"mean\", ])\n",
    "grouped_by_pag"
   ]
  },
  {
   "cell_type": "code",
   "execution_count": null,
   "metadata": {},
   "outputs": [],
   "source": [
    "grouped_by_pag.hist()"
   ]
  },
  {
   "cell_type": "code",
   "execution_count": null,
   "metadata": {},
   "outputs": [],
   "source": [
    "grouped_by_pag.plot(x=\"Pagasts\", y=\"mean\")"
   ]
  },
  {
   "cell_type": "code",
   "execution_count": null,
   "metadata": {},
   "outputs": [],
   "source": [
    "df.to_excel(\"c:/temp/my_apartments.xlsx\") # i could this with absolute path"
   ]
  },
  {
   "cell_type": "code",
   "execution_count": 105,
   "metadata": {},
   "outputs": [
    {
     "data": {
      "text/plain": [
       "(5, 11, 20, 16)"
      ]
     },
     "execution_count": 105,
     "metadata": {},
     "output_type": "execute_result"
    }
   ],
   "source": [
    "from datetime import datetime as dt\n",
    "now = dt.now()\n",
    "now.month, now.day, now.hour, now.second"
   ]
  },
  {
   "cell_type": "code",
   "execution_count": null,
   "metadata": {},
   "outputs": [],
   "source": [
    "# url = \"https://www.ss.com/lv/real-estate/flats/riga/sarkandaugava/hand_over/\"\n",
    "url = centrs\n",
    "region = url.split(\"riga/\")[-1].split(\"/\")[0]\n",
    "now = dt.now()\n",
    "save_path = f\"../data/{region}_{now.day}_{now.month}__{now.hour}_{now.second}.xlsx\"\n",
    "save_path"
   ]
  },
  {
   "cell_type": "code",
   "execution_count": 106,
   "metadata": {},
   "outputs": [
    {
     "name": "stdout",
     "output_type": "stream",
     "text": [
      "Gathering data from https://www.ss.com/lv/real-estate/flats/riga/sarkandaugava/hand_over/\n",
      "Saving to ../data/sarkandaugava_11_5__20_28.xlsx\n"
     ]
    }
   ],
   "source": [
    "url = \"https://www.ss.com/lv/real-estate/flats/riga/sarkandaugava/hand_over/\"\n",
    "region = url.split(\"riga/\")[-1].split(\"/\")[0] # to automate the region name\n",
    "now = dt.now()\n",
    "save_path = f\"../data/{region}_{now.day}_{now.month}__{now.hour}_{now.second}.xlsx\"\n",
    "\n",
    "df = get_all_ads_df(url, save_path)"
   ]
  },
  {
   "cell_type": "code",
   "execution_count": null,
   "metadata": {},
   "outputs": [],
   "source": [
    "url = \"https://www.ss.com/lv/transport/cars/vaz/riga_f/\"\n",
    "df = get_all_ads_df(url, \"../data/vaz_18_03.xlsx\")"
   ]
  },
  {
   "attachments": {},
   "cell_type": "markdown",
   "metadata": {},
   "source": [
    "# TODO \n",
    "# Try with different starting address not only centrs\n",
    "## Maybe combine regions\n",
    "## See how it would work with maybe cars\n",
    "## Data engineering make new columns based on existing ones, clean some columns\n",
    "### Changing floors 2/6 to columns 2 and 6, clean up Euro signs\n",
    "## Sorting, Describing, Grouping by regions etc"
   ]
  },
  {
   "cell_type": "code",
   "execution_count": null,
   "metadata": {},
   "outputs": [],
   "source": [
    "df = pd.read_excel(\"centrs_10_03.xlsx\")\n",
    "df.head()"
   ]
  },
  {
   "cell_type": "code",
   "execution_count": null,
   "metadata": {},
   "outputs": [],
   "source": [
    "df.shape"
   ]
  },
  {
   "cell_type": "code",
   "execution_count": null,
   "metadata": {},
   "outputs": [],
   "source": [
    "df[\"price\"] = df.Cena.str.split(' ').str[0]\n",
    "df.head()"
   ]
  },
  {
   "cell_type": "code",
   "execution_count": null,
   "metadata": {},
   "outputs": [],
   "source": [
    "df.price = df.price.str.replace(\",\",\"\").astype('int32') # so clean string of , and then convert to integer\n",
    "df.head()"
   ]
  },
  {
   "cell_type": "code",
   "execution_count": null,
   "metadata": {},
   "outputs": [],
   "source": [
    "df.price.hist()"
   ]
  },
  {
   "cell_type": "code",
   "execution_count": null,
   "metadata": {},
   "outputs": [],
   "source": [
    "df[['Floor','MaxFloor']] = df.Stāvs.str.split(\"/\",expand=True) \n",
    "df.info()"
   ]
  },
  {
   "cell_type": "code",
   "execution_count": null,
   "metadata": {},
   "outputs": [],
   "source": [
    "#typecasting example\n",
    "df.Floor = df.Floor.astype('int32')\n",
    "df.MaxFloor = df.MaxFloor.astype('int32')"
   ]
  },
  {
   "cell_type": "code",
   "execution_count": null,
   "metadata": {},
   "outputs": [],
   "source": [
    "df.head()"
   ]
  },
  {
   "cell_type": "code",
   "execution_count": null,
   "metadata": {},
   "outputs": [],
   "source": [
    "d23 = df[df.MaxFloor > 20]\n",
    "d23"
   ]
  },
  {
   "cell_type": "code",
   "execution_count": null,
   "metadata": {},
   "outputs": [],
   "source": [
    "df.describe().T # T is for transposing rows and columns"
   ]
  },
  {
   "cell_type": "code",
   "execution_count": null,
   "metadata": {},
   "outputs": [],
   "source": [
    "df.describe().T.to_csv(\"center_stats.csv\")"
   ]
  },
  {
   "cell_type": "code",
   "execution_count": null,
   "metadata": {},
   "outputs": [],
   "source": [
    "import plotly.express as px"
   ]
  },
  {
   "cell_type": "code",
   "execution_count": null,
   "metadata": {},
   "outputs": [],
   "source": [
    "fig = px.histogram(df, x=\"price\", nbins=100)\n",
    "fig.show()"
   ]
  },
  {
   "cell_type": "code",
   "execution_count": null,
   "metadata": {},
   "outputs": [],
   "source": [
    "import seaborn as sns # seaborn sits on top of matplotlib with better defaults\n",
    "import matplotlib.pyplot as plt\n"
   ]
  },
  {
   "cell_type": "code",
   "execution_count": null,
   "metadata": {},
   "outputs": [],
   "source": [
    "df.info()"
   ]
  },
  {
   "cell_type": "code",
   "execution_count": null,
   "metadata": {},
   "outputs": [],
   "source": [
    "# Basic correlogram\n",
    "sns.pairplot(df)\n",
    "\n"
   ]
  },
  {
   "cell_type": "code",
   "execution_count": null,
   "metadata": {},
   "outputs": [],
   "source": [
    "# Basic correlogram\n",
    "sns.pairplot(df)\n",
    "\n"
   ]
  },
  {
   "cell_type": "code",
   "execution_count": null,
   "metadata": {},
   "outputs": [],
   "source": [
    "volvo_url = \"https://www.ss.com/lv/transport/cars/volvo/sell/\"\n",
    "volvos = get_all_ads_df(volvo_url, \"../data/volvo_03_18.xlsx\")"
   ]
  },
  {
   "cell_type": "code",
   "execution_count": null,
   "metadata": {},
   "outputs": [],
   "source": [
    "volvos = pd.read_excel(\"volvo_270921.xlsx\")\n",
    "volvos.head()"
   ]
  },
  {
   "cell_type": "code",
   "execution_count": null,
   "metadata": {},
   "outputs": [],
   "source": [
    "volvos.shape"
   ]
  },
  {
   "cell_type": "code",
   "execution_count": null,
   "metadata": {},
   "outputs": [],
   "source": [
    "volvos.head(10)"
   ]
  },
  {
   "cell_type": "code",
   "execution_count": null,
   "metadata": {},
   "outputs": [],
   "source": [
    "gr_auto['Price'] = "
   ]
  },
  {
   "cell_type": "code",
   "execution_count": null,
   "metadata": {},
   "outputs": [],
   "source": [
    "volvos[\"price\"] = volvos.Cena.str.split(' ').str[0]\n",
    "volvos.price = volvos.price.str.replace(\",\",\"\").astype('int32')\n",
    "volvos.head()"
   ]
  },
  {
   "cell_type": "code",
   "execution_count": null,
   "metadata": {},
   "outputs": [],
   "source": [
    "\n",
    "gr_auto = volvos.groupby([\"Gads\",\"Modelis\"])[\"price\"].agg([\"count\", \"min\", \"max\", \"mean\", ])  #.head(n = 10)\n",
    "gr_auto"
   ]
  },
  {
   "cell_type": "code",
   "execution_count": null,
   "metadata": {},
   "outputs": [],
   "source": [
    "gr_auto.loc[gr_auto.index.get_level_values(0).str.contains(\"2015\")] # how to filter multi level index"
   ]
  },
  {
   "cell_type": "code",
   "execution_count": null,
   "metadata": {},
   "outputs": [],
   "source": [
    "gr_auto.loc[gr_auto.index.get_level_values(1).str.contains(\"S60\")]"
   ]
  },
  {
   "cell_type": "code",
   "execution_count": null,
   "metadata": {},
   "outputs": [],
   "source": [
    "gr_auto.loc[gr_auto.index.get_level_values(1).str.contains(\"S60\")].to_excel(\"S60.xlsx\")"
   ]
  },
  {
   "cell_type": "code",
   "execution_count": null,
   "metadata": {},
   "outputs": [],
   "source": [
    "print(dt.today())"
   ]
  },
  {
   "cell_type": "code",
   "execution_count": null,
   "metadata": {},
   "outputs": [],
   "source": [
    "suzuki_url = \"https://www.ss.com/lv/transport/cars/suzuki/\"\n",
    "# sdf = get_all_ads_df(suzuki_url, f\"suzuki_{dt.today()}.xlsx\")\n",
    "sdf = get_all_ads_df(suzuki_url, f\"suzuki.xlsx\")\n",
    "sdf.head()"
   ]
  },
  {
   "cell_type": "code",
   "execution_count": null,
   "metadata": {},
   "outputs": [],
   "source": [
    "sdf.info()"
   ]
  },
  {
   "cell_type": "code",
   "execution_count": null,
   "metadata": {},
   "outputs": [],
   "source": [
    "sdf[\"Tilp.\"] = sdf[\"Tilp.\"].str.replace(\"\\w\",\"\", regex=True)\n",
    "sdf.head()"
   ]
  },
  {
   "cell_type": "code",
   "execution_count": null,
   "metadata": {},
   "outputs": [],
   "source": [
    "sdf[\"Nobrauk.\"] = sdf[\"Nobrauk.\"].str.replace(\"\\D\",\"\", regex=True) # so no digits removed\n",
    "sdf.head()"
   ]
  },
  {
   "cell_type": "code",
   "execution_count": null,
   "metadata": {},
   "outputs": [],
   "source": [
    "sdf[\"Cena\"] = sdf[\"Cena\"].str.replace(\"\\D\",\"\", regex=True) # so no digits removed\n",
    "sdf.head()"
   ]
  },
  {
   "cell_type": "code",
   "execution_count": null,
   "metadata": {},
   "outputs": [],
   "source": [
    "sdf = sdf.dropna(how=\"any\", axis=0)\n",
    "sdf"
   ]
  },
  {
   "cell_type": "code",
   "execution_count": null,
   "metadata": {},
   "outputs": [],
   "source": [
    "sdf = sdf[sdf[\"Nobrauk.\"].str.len() > 0] # got rid of those empty rows finally\n",
    "sdf"
   ]
  },
  {
   "cell_type": "code",
   "execution_count": null,
   "metadata": {},
   "outputs": [],
   "source": []
  },
  {
   "cell_type": "code",
   "execution_count": null,
   "metadata": {},
   "outputs": [],
   "source": [
    "sdf[\"Cena\"] = sdf[\"Cena\"].astype(\"float32\")"
   ]
  },
  {
   "cell_type": "code",
   "execution_count": null,
   "metadata": {},
   "outputs": [],
   "source": [
    "gr_auto = sdf.groupby([\"Gads\",\"Modelis\"])[\"Cena\"].agg([\"count\",\"min\", \"max\", \"mean\"]) \n",
    "gr_auto"
   ]
  },
  {
   "cell_type": "code",
   "execution_count": null,
   "metadata": {},
   "outputs": [],
   "source": []
  }
 ],
 "metadata": {
  "kernelspec": {
   "display_name": "Python 3 (ipykernel)",
   "language": "python",
   "name": "python3"
  },
  "language_info": {
   "codemirror_mode": {
    "name": "ipython",
    "version": 3
   },
   "file_extension": ".py",
   "mimetype": "text/x-python",
   "name": "python",
   "nbconvert_exporter": "python",
   "pygments_lexer": "ipython3",
   "version": "3.11.3"
  }
 },
 "nbformat": 4,
 "nbformat_minor": 4
}
