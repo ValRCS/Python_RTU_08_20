{
 "cells": [
  {
   "cell_type": "code",
   "execution_count": 1,
   "metadata": {},
   "outputs": [],
   "source": [
    "# Requests for handling HTTP get and other requests\n",
    "import requests\n",
    "import time # import for playing nice and not getting blocked\n",
    "import pandas as pd\n",
    "# from BeautifulSoup4 import BeatifulSoup if installed through pip install BeautifulSoup4\n",
    "# \n",
    "from bs4 import BeautifulSoup"
   ]
  },
  {
   "cell_type": "code",
   "execution_count": null,
   "metadata": {},
   "outputs": [],
   "source": [
    "# if bs4 not found install it with\n",
    "#  !pip install beatifulsoup4\n",
    "# https://www.crummy.com/software/BeautifulSoup/"
   ]
  },
  {
   "cell_type": "code",
   "execution_count": null,
   "metadata": {},
   "outputs": [],
   "source": [
    "!dir\n",
    "# ar ! i can run command line commands"
   ]
  },
  {
   "cell_type": "code",
   "execution_count": null,
   "metadata": {},
   "outputs": [],
   "source": []
  },
  {
   "cell_type": "code",
   "execution_count": 2,
   "metadata": {},
   "outputs": [],
   "source": [
    "# centrs = \"https://www.ss.com/lv/real-estate/flats/riga/centre/sell/\"\n",
    "# url = \"https://www.ss.com/lv/real-estate/homes-summer-residences/riga-region/all/sell/\"\n",
    "url = \"https://www.ss.com/lv/real-estate/flats/riga/centre/sell/\""
   ]
  },
  {
   "cell_type": "code",
   "execution_count": 3,
   "metadata": {},
   "outputs": [
    {
     "data": {
      "text/plain": [
       "200"
      ]
     },
     "execution_count": 3,
     "metadata": {},
     "output_type": "execute_result"
    }
   ],
   "source": [
    "req = requests.get(url) # so here we make a call to webpage via HTTP GET request and get something back\n",
    "req.status_code # we could add if to check for 200"
   ]
  },
  {
   "cell_type": "code",
   "execution_count": 4,
   "metadata": {},
   "outputs": [
    {
     "data": {
      "text/plain": [
       "'<!DOCTYPE html>\\r\\n<HTML><HEAD>\\r\\n<title>SS.COM Dzīvokļi - Rīga - Centrs, Cenas, Pārdod - Sludinājumi</title>\\r\\n<meta http-equiv=\"Content-Type\" CONTENT=\"text/html; charset=UTF-8\">\\r\\n<meta name=\"viewport\" c'"
      ]
     },
     "execution_count": 4,
     "metadata": {},
     "output_type": "execute_result"
    }
   ],
   "source": [
    "req.text[:200]"
   ]
  },
  {
   "cell_type": "code",
   "execution_count": 5,
   "metadata": {},
   "outputs": [
    {
     "data": {
      "text/plain": [
       "2"
      ]
     },
     "execution_count": 5,
     "metadata": {},
     "output_type": "execute_result"
    }
   ],
   "source": [
    "req.text.count(\"Stabu\")  # we could parse it ourselves but why bother when we have libraries ?"
   ]
  },
  {
   "cell_type": "code",
   "execution_count": 6,
   "metadata": {},
   "outputs": [
    {
     "data": {
      "text/plain": [
       "16051"
      ]
     },
     "execution_count": 6,
     "metadata": {},
     "output_type": "execute_result"
    }
   ],
   "source": [
    "req.text.index(\"Stabu\")"
   ]
  },
  {
   "cell_type": "code",
   "execution_count": null,
   "metadata": {},
   "outputs": [],
   "source": [
    "type(req)"
   ]
  },
  {
   "cell_type": "code",
   "execution_count": null,
   "metadata": {},
   "outputs": [],
   "source": [
    "# req.json() will not work since this page is not JSON!"
   ]
  },
  {
   "cell_type": "code",
   "execution_count": 7,
   "metadata": {},
   "outputs": [
    {
     "data": {
      "text/plain": [
       "'Stabu</option><option value=\"5312\">Strēlnieku</option><option value=\"5353\">Tallinas</option><option '"
      ]
     },
     "execution_count": 7,
     "metadata": {},
     "output_type": "execute_result"
    }
   ],
   "source": [
    "req.text[req.text.index(\"Stabu\"):req.text.index(\"Stabu\")+100] # we could do parsing by hand but usually we want to use a premade parser"
   ]
  },
  {
   "cell_type": "code",
   "execution_count": 8,
   "metadata": {},
   "outputs": [
    {
     "data": {
      "text/plain": [
       "<title>SS.COM Dzīvokļi - Rīga - Centrs, Cenas, Pārdod - Sludinājumi</title>"
      ]
     },
     "execution_count": 8,
     "metadata": {},
     "output_type": "execute_result"
    }
   ],
   "source": [
    "# parser means structuring your text into some structure\n",
    "soup = BeautifulSoup(req.text, 'lxml') # lxml is improved parser, a little bit more lenient\n",
    "# soup = BeautifulSoup(req.text) # could use Python's built in HTML parser\n",
    "soup.title"
   ]
  },
  {
   "cell_type": "code",
   "execution_count": 10,
   "metadata": {},
   "outputs": [
    {
     "data": {
      "text/plain": [
       "bs4.BeautifulSoup"
      ]
     },
     "execution_count": 10,
     "metadata": {},
     "output_type": "execute_result"
    }
   ],
   "source": [
    "type(soup)"
   ]
  },
  {
   "cell_type": "code",
   "execution_count": 11,
   "metadata": {},
   "outputs": [
    {
     "data": {
      "text/plain": [
       "7"
      ]
     },
     "execution_count": 11,
     "metadata": {},
     "output_type": "execute_result"
    }
   ],
   "source": [
    "# https://www.crummy.com/software/BeautifulSoup/bs4/doc/#find-all\n",
    "# https://developer.mozilla.org/en-US/docs/Web/HTML/Element/table\n",
    "tables = soup.find_all(\"table\") # finds ALL elements matching our filter\n",
    "len(tables) "
   ]
  },
  {
   "cell_type": "code",
   "execution_count": 12,
   "metadata": {},
   "outputs": [
    {
     "data": {
      "text/plain": [
       "<tr id=\"head_line\">\n",
       "<td class=\"msg_column\" colspan=\"3\" width=\"70%\">\n",
       "<span style=\"float:left;\"> Sludinājumi\n",
       "</span>\n",
       "<span align=\"right\" class=\"msg_column\" style=\"float:right;text-align:right;padding-right:3px;\">\n",
       "<noindex>\n",
       "<a class=\"a19\" href=\"/lv/real-estate/flats/riga/centre/sell/fDgSeF4S.html\" rel=\"nofollow\">datums</a></noindex></span>\n",
       "</td>\n",
       "<td class=\"msg_column_td\" nowrap=\"\"><noindex><a class=\"a18\" href=\"/lv/real-estate/flats/riga/centre/sell/fDgSeF4SFDwT.html\" rel=\"nofollow\" title=\"\">Iela</a></noindex></td><td class=\"msg_column_td\" nowrap=\"\"><noindex><a class=\"a18\" href=\"/lv/real-estate/flats/riga/centre/sell/fDgSeF4SelM=.html\" rel=\"nofollow\" title=\"\">Ist.</a></noindex></td><td class=\"msg_column_td\" nowrap=\"\"><noindex><a class=\"a18\" href=\"/lv/real-estate/flats/riga/centre/sell/fDgSeF4QelM=.html\" rel=\"nofollow\" title=\"\">m2</a></noindex></td><td class=\"msg_column_td\" nowrap=\"\"><noindex><a class=\"a18\" href=\"/lv/real-estate/flats/riga/centre/sell/fDgSeF4XelM=.html\" rel=\"nofollow\" title=\"\">Stāvs</a></noindex></td><td class=\"msg_column_td\" nowrap=\"\"><noindex><a class=\"a18\" href=\"/lv/real-estate/flats/riga/centre/sell/fDgSeF4VelM=.html\" rel=\"nofollow\" title=\"\">Sērija</a></noindex></td><td background=\"https://i.ss.com/img/pl.gif\" class=\"msg_column\" nowrap=\"\" style=\"border-left:1px #FFFFFF solid;\"><noindex><a class=\"a18\" href=\"/lv/real-estate/flats/riga/centre/sell/fDgSeF4bRDwT.html\" rel=\"nofollow\">Cena, m2</a></noindex></td><td class=\"msg_column_td\" nowrap=\"\"><noindex><a class=\"a18\" href=\"/lv/real-estate/flats/riga/centre/sell/fDgSeF4belM=.html\" rel=\"nofollow\" title=\"\">Cena</a></noindex></td></tr>"
      ]
     },
     "execution_count": 12,
     "metadata": {},
     "output_type": "execute_result"
    }
   ],
   "source": [
    "# find finds just one match - first that matches\n",
    "# tr table row - https://developer.mozilla.org/en-US/docs/Web/HTML/Element/tr\n",
    "headline = soup.find(\"tr\", {\"id\":\"head_line\"}) # this is a shorter way of finding by tr AND this element having particular id\n",
    "headline"
   ]
  },
  {
   "cell_type": "code",
   "execution_count": 13,
   "metadata": {},
   "outputs": [
    {
     "data": {
      "text/plain": [
       "bs4.element.Tag"
      ]
     },
     "execution_count": 13,
     "metadata": {},
     "output_type": "execute_result"
    }
   ],
   "source": [
    "type(headline)"
   ]
  },
  {
   "cell_type": "code",
   "execution_count": 14,
   "metadata": {},
   "outputs": [
    {
     "data": {
      "text/plain": [
       "'\\n\\n\\xa0Sludinājumi\\r\\n\\n\\n\\ndatums\\n\\nIelaIst.m2StāvsSērijaCena, m2Cena'"
      ]
     },
     "execution_count": 14,
     "metadata": {},
     "output_type": "execute_result"
    }
   ],
   "source": [
    "headline.text  # i could use split here but we can go deeper!"
   ]
  },
  {
   "cell_type": "code",
   "execution_count": 15,
   "metadata": {},
   "outputs": [
    {
     "data": {
      "text/plain": [
       "['Sludinājumi', 'datums', 'IelaIst.m2StāvsSērijaCena,', 'm2Cena']"
      ]
     },
     "execution_count": 15,
     "metadata": {},
     "output_type": "execute_result"
    }
   ],
   "source": [
    "headline.text.split()"
   ]
  },
  {
   "cell_type": "code",
   "execution_count": 16,
   "metadata": {},
   "outputs": [
    {
     "data": {
      "text/plain": [
       "[<td class=\"msg_column\" colspan=\"3\" width=\"70%\">\n",
       " <span style=\"float:left;\"> Sludinājumi\n",
       " </span>\n",
       " <span align=\"right\" class=\"msg_column\" style=\"float:right;text-align:right;padding-right:3px;\">\n",
       " <noindex>\n",
       " <a class=\"a19\" href=\"/lv/real-estate/flats/riga/centre/sell/fDgSeF4S.html\" rel=\"nofollow\">datums</a></noindex></span>\n",
       " </td>,\n",
       " <td class=\"msg_column_td\" nowrap=\"\"><noindex><a class=\"a18\" href=\"/lv/real-estate/flats/riga/centre/sell/fDgSeF4SFDwT.html\" rel=\"nofollow\" title=\"\">Iela</a></noindex></td>,\n",
       " <td class=\"msg_column_td\" nowrap=\"\"><noindex><a class=\"a18\" href=\"/lv/real-estate/flats/riga/centre/sell/fDgSeF4SelM=.html\" rel=\"nofollow\" title=\"\">Ist.</a></noindex></td>,\n",
       " <td class=\"msg_column_td\" nowrap=\"\"><noindex><a class=\"a18\" href=\"/lv/real-estate/flats/riga/centre/sell/fDgSeF4QelM=.html\" rel=\"nofollow\" title=\"\">m2</a></noindex></td>,\n",
       " <td class=\"msg_column_td\" nowrap=\"\"><noindex><a class=\"a18\" href=\"/lv/real-estate/flats/riga/centre/sell/fDgSeF4XelM=.html\" rel=\"nofollow\" title=\"\">Stāvs</a></noindex></td>,\n",
       " <td class=\"msg_column_td\" nowrap=\"\"><noindex><a class=\"a18\" href=\"/lv/real-estate/flats/riga/centre/sell/fDgSeF4VelM=.html\" rel=\"nofollow\" title=\"\">Sērija</a></noindex></td>,\n",
       " <td background=\"https://i.ss.com/img/pl.gif\" class=\"msg_column\" nowrap=\"\" style=\"border-left:1px #FFFFFF solid;\"><noindex><a class=\"a18\" href=\"/lv/real-estate/flats/riga/centre/sell/fDgSeF4bRDwT.html\" rel=\"nofollow\">Cena, m2</a></noindex></td>,\n",
       " <td class=\"msg_column_td\" nowrap=\"\"><noindex><a class=\"a18\" href=\"/lv/real-estate/flats/riga/centre/sell/fDgSeF4belM=.html\" rel=\"nofollow\" title=\"\">Cena</a></noindex></td>]"
      ]
     },
     "execution_count": 16,
     "metadata": {},
     "output_type": "execute_result"
    }
   ],
   "source": [
    "headtds = headline.find_all(\"td\")  # get list of all td tags inside our headline tag only(not the whole document!)\n",
    "# td stands for table data\n",
    "# https://developer.mozilla.org/en-US/docs/Web/HTML/Element/td \n",
    "headtds"
   ]
  },
  {
   "cell_type": "code",
   "execution_count": 17,
   "metadata": {},
   "outputs": [
    {
     "data": {
      "text/plain": [
       "8"
      ]
     },
     "execution_count": 17,
     "metadata": {},
     "output_type": "execute_result"
    }
   ],
   "source": [
    "len(headtds) # so we have 8 table data elements"
   ]
  },
  {
   "cell_type": "code",
   "execution_count": 13,
   "metadata": {},
   "outputs": [
    {
     "data": {
      "text/plain": [
       "'\\n\\n\\xa0Sludinājumi\\r\\n\\n\\n\\ndatums\\n\\nIelaIst.m2StāvsSērijaCena, m2Cena'"
      ]
     },
     "execution_count": 13,
     "metadata": {},
     "output_type": "execute_result"
    }
   ],
   "source": [
    "headline.text # this returns ALL text in headline and its children and grandchildren"
   ]
  },
  {
   "cell_type": "code",
   "execution_count": 18,
   "metadata": {},
   "outputs": [
    {
     "data": {
      "text/plain": [
       "'\\n\\xa0Sludinājumi\\r\\n\\n\\n\\ndatums\\n'"
      ]
     },
     "execution_count": 18,
     "metadata": {},
     "output_type": "execute_result"
    }
   ],
   "source": [
    "headtds[0].text # we do not need the first one"
   ]
  },
  {
   "cell_type": "code",
   "execution_count": 19,
   "metadata": {},
   "outputs": [
    {
     "data": {
      "text/plain": [
       "['Iela', 'Ist.', 'm2', 'Stāvs', 'Sērija', 'Cena, m2', 'Cena']"
      ]
     },
     "execution_count": 19,
     "metadata": {},
     "output_type": "execute_result"
    }
   ],
   "source": [
    "headcolumns = [el.text for el in headtds[1:]] #.text gets us content even from children and grandchildren\n",
    "headcolumns"
   ]
  },
  {
   "cell_type": "code",
   "execution_count": 20,
   "metadata": {},
   "outputs": [],
   "source": [
    "# lets combine the above cells into a function which will always get us columns\n",
    "def getColList(soup):\n",
    "    column_list = [\"description\",\"url\"] # we decided to that we need these two column names no matter the html\n",
    "    headline = soup.find(\"tr\", {\"id\":\"head_line\"})\n",
    "    headtds = headline.find_all(\"td\")\n",
    "    headcolumns = [el.text for el in headtds[1:]] # this will get all column names starting with 2nd in HTML\n",
    "    column_list += headcolumns  # merge both lists, could use extend\n",
    "    return column_list"
   ]
  },
  {
   "cell_type": "code",
   "execution_count": 21,
   "metadata": {},
   "outputs": [
    {
     "data": {
      "text/plain": [
       "['description',\n",
       " 'url',\n",
       " 'Iela',\n",
       " 'Ist.',\n",
       " 'm2',\n",
       " 'Stāvs',\n",
       " 'Sērija',\n",
       " 'Cena, m2',\n",
       " 'Cena']"
      ]
     },
     "execution_count": 21,
     "metadata": {},
     "output_type": "execute_result"
    }
   ],
   "source": [
    "column_names = getColList(soup)\n",
    "column_names # to be used later when creating our table"
   ]
  },
  {
   "cell_type": "code",
   "execution_count": 22,
   "metadata": {},
   "outputs": [
    {
     "data": {
      "text/plain": [
       "40"
      ]
     },
     "execution_count": 22,
     "metadata": {},
     "output_type": "execute_result"
    }
   ],
   "source": [
    "trows = soup.find_all('tr') # tr stands for table row\n",
    "len(trows)\n"
   ]
  },
  {
   "cell_type": "code",
   "execution_count": null,
   "metadata": {},
   "outputs": [],
   "source": [
    "# if i had no other choices I could find starting and end index by hand and hard code it\n",
    "# but that is liable to change between pages"
   ]
  },
  {
   "cell_type": "code",
   "execution_count": 22,
   "metadata": {},
   "outputs": [
    {
     "data": {
      "text/plain": [
       "<tr id=\"tr_49981550\"><td class=\"msga2 pp0\"><input id=\"c49981550\" name=\"mid[]\" type=\"checkbox\" value=\"49981550_1106_0\"/></td><td class=\"msga2\"><a href=\"/msg/lv/real-estate/flats/riga/centre/cijbo.html\" id=\"im49981550\"><img alt=\"\" class=\"isfoto foto_list\" src=\"https://i.ss.com/gallery/5/896/223801/44760022.th2.jpg\"/></a></td><td class=\"msg2\"><div class=\"d1\"><a class=\"am\" data=\"JTk1JTdFJThFJUEwJTlDJUEwJTlDJUNBJThBJUE1JTk2JUEzJTlCJTg1JTkyJUEyJTk1JUE2JTlEJTgwJTkxJUE4JTkzJTlG|dNYpcm\" href=\"/msg/lv/real-estate/flats/riga/centre/cijbo.html\" id=\"dm_49981550\">Pašā Rīgas centrā pārdod plašu dzīvokli. \n",
       "-Dzīvoklis atrodas pa</a></div></td><td c=\"1\" class=\"msga2-o pp6\" nowrap=\"\">Blaumaņa 27</td><td c=\"1\" class=\"msga2-o pp6\" nowrap=\"\">5</td><td c=\"1\" class=\"msga2-o pp6\" nowrap=\"\">132</td><td c=\"1\" class=\"msga2-o pp6\" nowrap=\"\">1/5</td><td c=\"1\" class=\"msga2-o pp6\" nowrap=\"\">P. kara</td><td c=\"1\" class=\"msga2-o pp6\" nowrap=\"\">1,200 €</td><td c=\"1\" class=\"msga2-o pp6\" nowrap=\"\">158,400  €</td></tr>"
      ]
     },
     "execution_count": 22,
     "metadata": {},
     "output_type": "execute_result"
    }
   ],
   "source": [
    "trows[9] # we coudl do it by hand"
   ]
  },
  {
   "cell_type": "code",
   "execution_count": 23,
   "metadata": {},
   "outputs": [
    {
     "data": {
      "text/plain": [
       "<tr id=\"tr_51246825\"><td class=\"msga2 pp0\"><input id=\"c51246825\" name=\"mid[]\" type=\"checkbox\" value=\"51246825_1106_0\"/></td><td class=\"msga2\"><a href=\"/msg/lv/real-estate/flats/riga/centre/fdebl.html\" id=\"im51246825\"><img alt=\"\" class=\"isfoto foto_list\" src=\"https://i.ss.com/gallery/5/914/228430/45685976.th2.jpg\"/></a></td><td class=\"msg2\"><div class=\"d1\"><a class=\"am\" data=\"JTkyJUFCJThCJTg1anclQTglRERnJTlFJTk0JUFGJTg3JThBbCU3QyVBRiU5OWYlOUIlOTMlQUElODklODRodg==|azTT8Fxa6h\" href=\"/msg/lv/real-estate/flats/riga/centre/fdebl.html\" id=\"dm_51246825\">Unikāls, pilnībā aprīkots 4-istabu dzīvoklis fasādes ēkā Rīgas c</a></div></td><td c=\"1\" class=\"msga2-o pp6\" nowrap=\"\">Skolas 14</td><td c=\"1\" class=\"msga2-o pp6\" nowrap=\"\">4</td><td c=\"1\" class=\"msga2-o pp6\" nowrap=\"\">169</td><td c=\"1\" class=\"msga2-o pp6\" nowrap=\"\">6/6</td><td c=\"1\" class=\"msga2-o pp6\" nowrap=\"\">Renov.</td><td c=\"1\" class=\"msga2-o pp6\" nowrap=\"\">1,953 €</td><td c=\"1\" class=\"msga2-o pp6\" nowrap=\"\">330,000  €</td></tr>"
      ]
     },
     "execution_count": 23,
     "metadata": {},
     "output_type": "execute_result"
    }
   ],
   "source": [
    "trows[5] # so could take trows[6:35] downside is that this is fixed with magic numbers"
   ]
  },
  {
   "cell_type": "code",
   "execution_count": 24,
   "metadata": {},
   "outputs": [
    {
     "data": {
      "text/plain": [
       "('tr_51513927', 'tr_51246825')"
      ]
     },
     "execution_count": 24,
     "metadata": {},
     "output_type": "execute_result"
    }
   ],
   "source": [
    "trows[9][\"id\"], trows[5].get(\"id\") # get is safer since not all elements have ids"
   ]
  },
  {
   "cell_type": "code",
   "execution_count": 25,
   "metadata": {},
   "outputs": [
    {
     "data": {
      "text/plain": [
       "30"
      ]
     },
     "execution_count": 25,
     "metadata": {},
     "output_type": "execute_result"
    }
   ],
   "source": [
    "# hardest part in this \n",
    "# how to filter only specific rows\n",
    "# we need to find something that is unique to our apartment rows but not to the extra rows\n",
    "# remember we id is not guaranteed, so \"\" gives us default value when there is no id\n",
    "apt_rows = [row for row in trows if row.get('id',\"\").startswith(\"tr_\") and not row.get('id',\"\").startswith(\"tr_bnr\") ]\n",
    "len(apt_rows)"
   ]
  },
  {
   "cell_type": "code",
   "execution_count": 26,
   "metadata": {},
   "outputs": [
    {
     "data": {
      "text/plain": [
       "<tr id=\"tr_51447061\"><td class=\"msga2 pp0\"><input id=\"c51447061\" name=\"mid[]\" type=\"checkbox\" value=\"51447061_1106_0\"/></td><td class=\"msga2\"><a href=\"/msg/lv/real-estate/flats/riga/centre/aehjp.html\" id=\"im51447061\"><img alt=\"\" class=\"isfoto foto_list\" src=\"https://i.ss.com/gallery/5/920/229894/45978602.th2.jpg\"/></a></td><td class=\"msg2\"><div class=\"d1\"><a class=\"am\" data=\"JUEyJTk1JTk4JUEyJUE0JUNFYmolQTElOTQlOUMlQTUlQUIlODRiaSVBNiU5NSU5QyVBMSVBOSU4NQ==|pcfmrR15\" href=\"/msg/lv/real-estate/flats/riga/centre/aehjp.html\" id=\"dm_51447061\">Pārdod 2 istabu dzīvokli ar ļoti labu atrašanās vietu Rīgas cent</a></div></td><td c=\"1\" class=\"msga2-o pp6\" nowrap=\"\">Kurbada 1</td><td c=\"1\" class=\"msga2-o pp6\" nowrap=\"\">2</td><td c=\"1\" class=\"msga2-o pp6\" nowrap=\"\">54</td><td c=\"1\" class=\"msga2-o pp6\" nowrap=\"\">2/5</td><td c=\"1\" class=\"msga2-o pp6\" nowrap=\"\">P. kara</td><td c=\"1\" class=\"msga2-o pp6\" nowrap=\"\">1,500 €</td><td c=\"1\" class=\"msga2-o pp6\" nowrap=\"\">81,000  €</td></tr>"
      ]
     },
     "execution_count": 26,
     "metadata": {},
     "output_type": "execute_result"
    }
   ],
   "source": [
    "apt_rows[-1]"
   ]
  },
  {
   "cell_type": "code",
   "execution_count": 27,
   "metadata": {},
   "outputs": [
    {
     "data": {
      "text/plain": [
       "<tr id=\"tr_51246825\"><td class=\"msga2 pp0\"><input id=\"c51246825\" name=\"mid[]\" type=\"checkbox\" value=\"51246825_1106_0\"/></td><td class=\"msga2\"><a href=\"/msg/lv/real-estate/flats/riga/centre/fdebl.html\" id=\"im51246825\"><img alt=\"\" class=\"isfoto foto_list\" src=\"https://i.ss.com/gallery/5/914/228430/45685976.th2.jpg\"/></a></td><td class=\"msg2\"><div class=\"d1\"><a class=\"am\" data=\"JTkyJUFCJThCJTg1anclQTglRERnJTlFJTk0JUFGJTg3JThBbCU3QyVBRiU5OWYlOUIlOTMlQUElODklODRodg==|azTT8Fxa6h\" href=\"/msg/lv/real-estate/flats/riga/centre/fdebl.html\" id=\"dm_51246825\">Unikāls, pilnībā aprīkots 4-istabu dzīvoklis fasādes ēkā Rīgas c</a></div></td><td c=\"1\" class=\"msga2-o pp6\" nowrap=\"\">Skolas 14</td><td c=\"1\" class=\"msga2-o pp6\" nowrap=\"\">4</td><td c=\"1\" class=\"msga2-o pp6\" nowrap=\"\">169</td><td c=\"1\" class=\"msga2-o pp6\" nowrap=\"\">6/6</td><td c=\"1\" class=\"msga2-o pp6\" nowrap=\"\">Renov.</td><td c=\"1\" class=\"msga2-o pp6\" nowrap=\"\">1,953 €</td><td c=\"1\" class=\"msga2-o pp6\" nowrap=\"\">330,000  €</td></tr>"
      ]
     },
     "execution_count": 27,
     "metadata": {},
     "output_type": "execute_result"
    }
   ],
   "source": [
    "apt_rows[0]"
   ]
  },
  {
   "cell_type": "code",
   "execution_count": 28,
   "metadata": {},
   "outputs": [],
   "source": [
    "# lets make a function from the above doodle and make it work on most pages on SS\n",
    "def getRowList(soup):\n",
    "    trows = soup.find_all('tr')\n",
    "    aprows = [row for row in trows if row.get('id',\"\").startswith(\"tr_\") and not row.get('id',\"\").startswith(\"tr_bnr\") ]\n",
    "    return aprows"
   ]
  },
  {
   "cell_type": "code",
   "execution_count": 29,
   "metadata": {},
   "outputs": [
    {
     "data": {
      "text/plain": [
       "30"
      ]
     },
     "execution_count": 29,
     "metadata": {},
     "output_type": "execute_result"
    }
   ],
   "source": [
    "apt_rows = getRowList(soup)\n",
    "len(apt_rows)"
   ]
  },
  {
   "cell_type": "code",
   "execution_count": 30,
   "metadata": {},
   "outputs": [
    {
     "data": {
      "text/plain": [
       "<tr id=\"tr_51246825\"><td class=\"msga2 pp0\"><input id=\"c51246825\" name=\"mid[]\" type=\"checkbox\" value=\"51246825_1106_0\"/></td><td class=\"msga2\"><a href=\"/msg/lv/real-estate/flats/riga/centre/fdebl.html\" id=\"im51246825\"><img alt=\"\" class=\"isfoto foto_list\" src=\"https://i.ss.com/gallery/5/914/228430/45685976.th2.jpg\"/></a></td><td class=\"msg2\"><div class=\"d1\"><a class=\"am\" data=\"JTkyJUFCJThCJTg1anclQTglRERnJTlFJTk0JUFGJTg3JThBbCU3QyVBRiU5OWYlOUIlOTMlQUElODklODRodg==|azTT8Fxa6h\" href=\"/msg/lv/real-estate/flats/riga/centre/fdebl.html\" id=\"dm_51246825\">Unikāls, pilnībā aprīkots 4-istabu dzīvoklis fasādes ēkā Rīgas c</a></div></td><td c=\"1\" class=\"msga2-o pp6\" nowrap=\"\">Skolas 14</td><td c=\"1\" class=\"msga2-o pp6\" nowrap=\"\">4</td><td c=\"1\" class=\"msga2-o pp6\" nowrap=\"\">169</td><td c=\"1\" class=\"msga2-o pp6\" nowrap=\"\">6/6</td><td c=\"1\" class=\"msga2-o pp6\" nowrap=\"\">Renov.</td><td c=\"1\" class=\"msga2-o pp6\" nowrap=\"\">1,953 €</td><td c=\"1\" class=\"msga2-o pp6\" nowrap=\"\">330,000  €</td></tr>"
      ]
     },
     "execution_count": 30,
     "metadata": {},
     "output_type": "execute_result"
    }
   ],
   "source": [
    "first_ad = apt_rows[0]\n",
    "first_ad"
   ]
  },
  {
   "cell_type": "code",
   "execution_count": 31,
   "metadata": {},
   "outputs": [
    {
     "data": {
      "text/plain": [
       "10"
      ]
     },
     "execution_count": 31,
     "metadata": {},
     "output_type": "execute_result"
    }
   ],
   "source": [
    "row_tds = first_ad.find_all('td') # get all table data elements from first ad/row\n",
    "len(row_tds)"
   ]
  },
  {
   "cell_type": "code",
   "execution_count": 32,
   "metadata": {},
   "outputs": [
    {
     "data": {
      "text/plain": [
       "[<td class=\"msga2 pp0\"><input id=\"c51246825\" name=\"mid[]\" type=\"checkbox\" value=\"51246825_1106_0\"/></td>,\n",
       " <td class=\"msga2\"><a href=\"/msg/lv/real-estate/flats/riga/centre/fdebl.html\" id=\"im51246825\"><img alt=\"\" class=\"isfoto foto_list\" src=\"https://i.ss.com/gallery/5/914/228430/45685976.th2.jpg\"/></a></td>,\n",
       " <td class=\"msg2\"><div class=\"d1\"><a class=\"am\" data=\"JTkyJUFCJThCJTg1anclQTglRERnJTlFJTk0JUFGJTg3JThBbCU3QyVBRiU5OWYlOUIlOTMlQUElODklODRodg==|azTT8Fxa6h\" href=\"/msg/lv/real-estate/flats/riga/centre/fdebl.html\" id=\"dm_51246825\">Unikāls, pilnībā aprīkots 4-istabu dzīvoklis fasādes ēkā Rīgas c</a></div></td>,\n",
       " <td c=\"1\" class=\"msga2-o pp6\" nowrap=\"\">Skolas 14</td>,\n",
       " <td c=\"1\" class=\"msga2-o pp6\" nowrap=\"\">4</td>,\n",
       " <td c=\"1\" class=\"msga2-o pp6\" nowrap=\"\">169</td>,\n",
       " <td c=\"1\" class=\"msga2-o pp6\" nowrap=\"\">6/6</td>,\n",
       " <td c=\"1\" class=\"msga2-o pp6\" nowrap=\"\">Renov.</td>,\n",
       " <td c=\"1\" class=\"msga2-o pp6\" nowrap=\"\">1,953 €</td>,\n",
       " <td c=\"1\" class=\"msga2-o pp6\" nowrap=\"\">330,000  €</td>]"
      ]
     },
     "execution_count": 32,
     "metadata": {},
     "output_type": "execute_result"
    }
   ],
   "source": [
    "row_tds"
   ]
  },
  {
   "cell_type": "code",
   "execution_count": 33,
   "metadata": {},
   "outputs": [
    {
     "data": {
      "text/plain": [
       "''"
      ]
     },
     "execution_count": 33,
     "metadata": {},
     "output_type": "execute_result"
    }
   ],
   "source": [
    "row_tds[0].text"
   ]
  },
  {
   "cell_type": "code",
   "execution_count": 34,
   "metadata": {},
   "outputs": [
    {
     "data": {
      "text/plain": [
       "''"
      ]
     },
     "execution_count": 34,
     "metadata": {},
     "output_type": "execute_result"
    }
   ],
   "source": [
    "row_tds[1].text"
   ]
  },
  {
   "cell_type": "code",
   "execution_count": 35,
   "metadata": {},
   "outputs": [
    {
     "data": {
      "text/plain": [
       "{'class': ['msga2']}"
      ]
     },
     "execution_count": 35,
     "metadata": {},
     "output_type": "execute_result"
    }
   ],
   "source": [
    "row_tds[1].attrs # we can see elements attributes"
   ]
  },
  {
   "cell_type": "code",
   "execution_count": 36,
   "metadata": {},
   "outputs": [
    {
     "data": {
      "text/plain": [
       "<img alt=\"\" class=\"isfoto foto_list\" src=\"https://i.ss.com/gallery/5/914/228430/45685976.th2.jpg\"/>"
      ]
     },
     "execution_count": 36,
     "metadata": {},
     "output_type": "execute_result"
    }
   ],
   "source": [
    "img = row_tds[1].find(\"img\")\n",
    "img"
   ]
  },
  {
   "cell_type": "code",
   "execution_count": 37,
   "metadata": {},
   "outputs": [
    {
     "data": {
      "text/plain": [
       "'https://i.ss.com/gallery/5/914/228430/45685976.th2.jpg'"
      ]
     },
     "execution_count": 37,
     "metadata": {},
     "output_type": "execute_result"
    }
   ],
   "source": [
    "img.get(\"src\")"
   ]
  },
  {
   "cell_type": "code",
   "execution_count": 38,
   "metadata": {},
   "outputs": [
    {
     "data": {
      "text/plain": [
       "<a href=\"/msg/lv/real-estate/flats/riga/centre/fdebl.html\" id=\"im51246825\"><img alt=\"\" class=\"isfoto foto_list\" src=\"https://i.ss.com/gallery/5/914/228430/45685976.th2.jpg\"/></a>"
      ]
     },
     "execution_count": 38,
     "metadata": {},
     "output_type": "execute_result"
    }
   ],
   "source": [
    "a = row_tds[1].find('a') # a tag is called anchor tag\n",
    "a"
   ]
  },
  {
   "cell_type": "code",
   "execution_count": 39,
   "metadata": {},
   "outputs": [
    {
     "data": {
      "text/plain": [
       "{'href': '/msg/lv/real-estate/flats/riga/centre/fdebl.html',\n",
       " 'id': 'im51246825'}"
      ]
     },
     "execution_count": 39,
     "metadata": {},
     "output_type": "execute_result"
    }
   ],
   "source": [
    "a.attrs"
   ]
  },
  {
   "cell_type": "code",
   "execution_count": 40,
   "metadata": {},
   "outputs": [
    {
     "data": {
      "text/plain": [
       "('/msg/lv/real-estate/flats/riga/centre/fdebl.html',\n",
       " '/msg/lv/real-estate/flats/riga/centre/fdebl.html')"
      ]
     },
     "execution_count": 40,
     "metadata": {},
     "output_type": "execute_result"
    }
   ],
   "source": [
    "a.get('href'), a['href']"
   ]
  },
  {
   "cell_type": "code",
   "execution_count": 41,
   "metadata": {},
   "outputs": [
    {
     "data": {
      "text/plain": [
       "'https://www.ss.com/msg/lv/real-estate/flats/riga/centre/fdebl.html'"
      ]
     },
     "execution_count": 41,
     "metadata": {},
     "output_type": "execute_result"
    }
   ],
   "source": [
    "prefix = \"https://www.ss.com\"\n",
    "prefix + a.get('href')"
   ]
  },
  {
   "cell_type": "code",
   "execution_count": 42,
   "metadata": {},
   "outputs": [
    {
     "data": {
      "text/plain": [
       "'Unikāls, pilnībā aprīkots 4-istabu dzīvoklis fasādes ēkā Rīgas c'"
      ]
     },
     "execution_count": 42,
     "metadata": {},
     "output_type": "execute_result"
    }
   ],
   "source": [
    "row_tds[2].text # 3rd element has the description"
   ]
  },
  {
   "cell_type": "code",
   "execution_count": 43,
   "metadata": {},
   "outputs": [
    {
     "data": {
      "text/plain": [
       "'330,000  €'"
      ]
     },
     "execution_count": 43,
     "metadata": {},
     "output_type": "execute_result"
    }
   ],
   "source": [
    "row_tds[-1].text # last element has the price"
   ]
  },
  {
   "cell_type": "code",
   "execution_count": 44,
   "metadata": {},
   "outputs": [
    {
     "data": {
      "text/plain": [
       "['description',\n",
       " 'url',\n",
       " 'Iela',\n",
       " 'Ist.',\n",
       " 'm2',\n",
       " 'Stāvs',\n",
       " 'Sērija',\n",
       " 'Cena, m2',\n",
       " 'Cena']"
      ]
     },
     "execution_count": 44,
     "metadata": {},
     "output_type": "execute_result"
    }
   ],
   "source": [
    "column_names # we got these first"
   ]
  },
  {
   "cell_type": "code",
   "execution_count": 45,
   "metadata": {},
   "outputs": [],
   "source": [
    "# from row get dictionary with values \n",
    "def getRow(row, colist=column_names):\n",
    "    row_tds = row.find_all('td')\n",
    "    rowDict = {}\n",
    "    if len(row_tds) < 3: # a little sanity check\n",
    "        print(\"Hmm bad row\")\n",
    "        return rowDict\n",
    "    \n",
    "    # we start with description\n",
    "    rowDict[colist[0]] = row_tds[2].text # so the big assumption is that we always get description in 3rd column\n",
    "    # then url\n",
    "    rowDict[colist[1]] = \"https://ss.com\" + row_tds[1].find('a').get('href')\n",
    "    for td,key in zip(row_tds[3:],colist[2:]): \n",
    "        rowDict[key] = td.text\n",
    "    return rowDict"
   ]
  },
  {
   "cell_type": "code",
   "execution_count": 46,
   "metadata": {},
   "outputs": [
    {
     "data": {
      "text/plain": [
       "<tr id=\"tr_51246825\"><td class=\"msga2 pp0\"><input id=\"c51246825\" name=\"mid[]\" type=\"checkbox\" value=\"51246825_1106_0\"/></td><td class=\"msga2\"><a href=\"/msg/lv/real-estate/flats/riga/centre/fdebl.html\" id=\"im51246825\"><img alt=\"\" class=\"isfoto foto_list\" src=\"https://i.ss.com/gallery/5/914/228430/45685976.th2.jpg\"/></a></td><td class=\"msg2\"><div class=\"d1\"><a class=\"am\" data=\"JTkyJUFCJThCJTg1anclQTglRERnJTlFJTk0JUFGJTg3JThBbCU3QyVBRiU5OWYlOUIlOTMlQUElODklODRodg==|azTT8Fxa6h\" href=\"/msg/lv/real-estate/flats/riga/centre/fdebl.html\" id=\"dm_51246825\">Unikāls, pilnībā aprīkots 4-istabu dzīvoklis fasādes ēkā Rīgas c</a></div></td><td c=\"1\" class=\"msga2-o pp6\" nowrap=\"\">Skolas 14</td><td c=\"1\" class=\"msga2-o pp6\" nowrap=\"\">4</td><td c=\"1\" class=\"msga2-o pp6\" nowrap=\"\">169</td><td c=\"1\" class=\"msga2-o pp6\" nowrap=\"\">6/6</td><td c=\"1\" class=\"msga2-o pp6\" nowrap=\"\">Renov.</td><td c=\"1\" class=\"msga2-o pp6\" nowrap=\"\">1,953 €</td><td c=\"1\" class=\"msga2-o pp6\" nowrap=\"\">330,000  €</td></tr>"
      ]
     },
     "execution_count": 46,
     "metadata": {},
     "output_type": "execute_result"
    }
   ],
   "source": [
    "apt_rows[0] # first row of ads"
   ]
  },
  {
   "cell_type": "code",
   "execution_count": 47,
   "metadata": {},
   "outputs": [
    {
     "data": {
      "text/plain": [
       "{'description': 'Unikāls, pilnībā aprīkots 4-istabu dzīvoklis fasādes ēkā Rīgas c',\n",
       " 'url': 'https://ss.com/msg/lv/real-estate/flats/riga/centre/fdebl.html',\n",
       " 'Iela': 'Skolas 14',\n",
       " 'Ist.': '4',\n",
       " 'm2': '169',\n",
       " 'Stāvs': '6/6',\n",
       " 'Sērija': 'Renov.',\n",
       " 'Cena, m2': '1,953 €',\n",
       " 'Cena': '330,000  €'}"
      ]
     },
     "execution_count": 47,
     "metadata": {},
     "output_type": "execute_result"
    }
   ],
   "source": [
    "getRow(apt_rows[0])"
   ]
  },
  {
   "cell_type": "code",
   "execution_count": 48,
   "metadata": {},
   "outputs": [
    {
     "data": {
      "text/plain": [
       "{'description': 'Unikāls, pilnībā aprīkots 4-istabu dzīvoklis fasādes ēkā Rīgas c',\n",
       " 'url': 'https://ss.com/msg/lv/real-estate/flats/riga/centre/fdebl.html',\n",
       " 'Iela': 'Skolas 14',\n",
       " 'Ist.': '4',\n",
       " 'm2': '169',\n",
       " 'Stāvs': '6/6',\n",
       " 'Sērija': 'Renov.',\n",
       " 'Cena, m2': '1,953 €',\n",
       " 'Cena': '330,000  €'}"
      ]
     },
     "execution_count": 48,
     "metadata": {},
     "output_type": "execute_result"
    }
   ],
   "source": [
    "getRow(first_ad)"
   ]
  },
  {
   "cell_type": "code",
   "execution_count": 50,
   "metadata": {},
   "outputs": [],
   "source": [
    "# so if we know how to work on single row then we can do process multiple rows\n",
    "def getRows(rowlist, colist=column_names):\n",
    "    return [getRow(row, colist=colist) for row in rowlist] # so return a list of dictionaries\n"
   ]
  },
  {
   "cell_type": "code",
   "execution_count": 51,
   "metadata": {},
   "outputs": [
    {
     "data": {
      "text/plain": [
       "[{'description': 'Īpašnieks pārdod divistabu dzīvokli. Var uztaisīt par mini trisi',\n",
       "  'url': 'https://ss.com/msg/lv/real-estate/flats/riga/centre/hdoon.html',\n",
       "  'Iela': 'Cēsu 41',\n",
       "  'Ist.': '2',\n",
       "  'm2': '33',\n",
       "  'Stāvs': '2/2',\n",
       "  'Sērija': 'P. kara',\n",
       "  'Cena, m2': '689 €',\n",
       "  'Cena': '22,750  €'},\n",
       " {'description': 'Īpašnieks pārdod dzīvokli lieliskā atrašanās vietā ar ļoti zemie',\n",
       "  'url': 'https://ss.com/msg/lv/real-estate/flats/riga/centre/abiie.html',\n",
       "  'Iela': 'Mēness 14',\n",
       "  'Ist.': '3',\n",
       "  'm2': '62',\n",
       "  'Stāvs': '3/3',\n",
       "  'Sērija': 'P. kara',\n",
       "  'Cena, m2': '968 €',\n",
       "  'Cena': '60,000  €'},\n",
       " {'description': 'Pārdod 2 istabu dzīvokli ar ļoti labu atrašanās vietu Rīgas cent',\n",
       "  'url': 'https://ss.com/msg/lv/real-estate/flats/riga/centre/aehjp.html',\n",
       "  'Iela': 'Kurbada 1',\n",
       "  'Ist.': '2',\n",
       "  'm2': '54',\n",
       "  'Stāvs': '2/5',\n",
       "  'Sērija': 'P. kara',\n",
       "  'Cena, m2': '1,500 €',\n",
       "  'Cena': '81,000  €'}]"
      ]
     },
     "execution_count": 51,
     "metadata": {},
     "output_type": "execute_result"
    }
   ],
   "source": [
    "row_ads = getRows(apt_rows)\n",
    "row_ads[-3:] # last 3 ads"
   ]
  },
  {
   "cell_type": "code",
   "execution_count": 52,
   "metadata": {},
   "outputs": [
    {
     "data": {
      "text/plain": [
       "list"
      ]
     },
     "execution_count": 52,
     "metadata": {},
     "output_type": "execute_result"
    }
   ],
   "source": [
    "type(row_ads)  # list of dictionaries for each ad"
   ]
  },
  {
   "cell_type": "code",
   "execution_count": null,
   "metadata": {},
   "outputs": [],
   "source": [
    "# such a list of dictionaries is easy to convert into a DataFrame in pandas"
   ]
  },
  {
   "cell_type": "code",
   "execution_count": 53,
   "metadata": {},
   "outputs": [
    {
     "data": {
      "text/plain": [
       "(30, 9)"
      ]
     },
     "execution_count": 53,
     "metadata": {},
     "output_type": "execute_result"
    }
   ],
   "source": [
    "dtemp = pd.DataFrame(row_ads, columns=column_names)\n",
    "dtemp.shape"
   ]
  },
  {
   "cell_type": "code",
   "execution_count": 54,
   "metadata": {},
   "outputs": [
    {
     "data": {
      "text/html": [
       "<div>\n",
       "<style scoped>\n",
       "    .dataframe tbody tr th:only-of-type {\n",
       "        vertical-align: middle;\n",
       "    }\n",
       "\n",
       "    .dataframe tbody tr th {\n",
       "        vertical-align: top;\n",
       "    }\n",
       "\n",
       "    .dataframe thead th {\n",
       "        text-align: right;\n",
       "    }\n",
       "</style>\n",
       "<table border=\"1\" class=\"dataframe\">\n",
       "  <thead>\n",
       "    <tr style=\"text-align: right;\">\n",
       "      <th></th>\n",
       "      <th>description</th>\n",
       "      <th>url</th>\n",
       "      <th>Iela</th>\n",
       "      <th>Ist.</th>\n",
       "      <th>m2</th>\n",
       "      <th>Stāvs</th>\n",
       "      <th>Sērija</th>\n",
       "      <th>Cena, m2</th>\n",
       "      <th>Cena</th>\n",
       "    </tr>\n",
       "  </thead>\n",
       "  <tbody>\n",
       "    <tr>\n",
       "      <th>0</th>\n",
       "      <td>Unikāls, pilnībā aprīkots 4-istabu dzīvoklis f...</td>\n",
       "      <td>https://ss.com/msg/lv/real-estate/flats/riga/c...</td>\n",
       "      <td>Skolas 14</td>\n",
       "      <td>4</td>\n",
       "      <td>169</td>\n",
       "      <td>6/6</td>\n",
       "      <td>Renov.</td>\n",
       "      <td>1,953 €</td>\n",
       "      <td>330,000  €</td>\n",
       "    </tr>\n",
       "    <tr>\n",
       "      <th>1</th>\n",
       "      <td>Pārdod 4-istabu dzīvokli Klusajā centrā ar aut...</td>\n",
       "      <td>https://ss.com/msg/lv/real-estate/flats/riga/c...</td>\n",
       "      <td>Rūpniecības 34A</td>\n",
       "      <td>4</td>\n",
       "      <td>141</td>\n",
       "      <td>6/6</td>\n",
       "      <td>Jaun.</td>\n",
       "      <td>2,376 €</td>\n",
       "      <td>335,000  €</td>\n",
       "    </tr>\n",
       "    <tr>\n",
       "      <th>2</th>\n",
       "      <td>Komfortabls dzīvoklis . Atjaunota renovēta māj...</td>\n",
       "      <td>https://ss.com/msg/lv/real-estate/flats/riga/c...</td>\n",
       "      <td>Miera 105</td>\n",
       "      <td>2</td>\n",
       "      <td>42</td>\n",
       "      <td>1/6</td>\n",
       "      <td>Renov.</td>\n",
       "      <td>1,857 €</td>\n",
       "      <td>78,000  €</td>\n",
       "    </tr>\n",
       "    <tr>\n",
       "      <th>3</th>\n",
       "      <td>Plašs, renovējams 6 istabu dzīvoklis iekšpagal...</td>\n",
       "      <td>https://ss.com/msg/lv/real-estate/flats/riga/c...</td>\n",
       "      <td>Brīvības 72</td>\n",
       "      <td>6</td>\n",
       "      <td>173</td>\n",
       "      <td>3/6</td>\n",
       "      <td>P. kara</td>\n",
       "      <td>1,179 €</td>\n",
       "      <td>204,000  €</td>\n",
       "    </tr>\n",
       "    <tr>\n",
       "      <th>4</th>\n",
       "      <td>Ērts dzīvošanai un darbam trīsistabu dzīvoklis...</td>\n",
       "      <td>https://ss.com/msg/lv/real-estate/flats/riga/c...</td>\n",
       "      <td>Valdemāra 106</td>\n",
       "      <td>3</td>\n",
       "      <td>72</td>\n",
       "      <td>1/5</td>\n",
       "      <td>Staļina</td>\n",
       "      <td>1,400 €</td>\n",
       "      <td>100,800  €</td>\n",
       "    </tr>\n",
       "  </tbody>\n",
       "</table>\n",
       "</div>"
      ],
      "text/plain": [
       "                                         description  \\\n",
       "0  Unikāls, pilnībā aprīkots 4-istabu dzīvoklis f...   \n",
       "1  Pārdod 4-istabu dzīvokli Klusajā centrā ar aut...   \n",
       "2  Komfortabls dzīvoklis . Atjaunota renovēta māj...   \n",
       "3  Plašs, renovējams 6 istabu dzīvoklis iekšpagal...   \n",
       "4  Ērts dzīvošanai un darbam trīsistabu dzīvoklis...   \n",
       "\n",
       "                                                 url             Iela Ist.  \\\n",
       "0  https://ss.com/msg/lv/real-estate/flats/riga/c...        Skolas 14    4   \n",
       "1  https://ss.com/msg/lv/real-estate/flats/riga/c...  Rūpniecības 34A    4   \n",
       "2  https://ss.com/msg/lv/real-estate/flats/riga/c...        Miera 105    2   \n",
       "3  https://ss.com/msg/lv/real-estate/flats/riga/c...      Brīvības 72    6   \n",
       "4  https://ss.com/msg/lv/real-estate/flats/riga/c...    Valdemāra 106    3   \n",
       "\n",
       "    m2 Stāvs   Sērija Cena, m2        Cena  \n",
       "0  169   6/6   Renov.  1,953 €  330,000  €  \n",
       "1  141   6/6    Jaun.  2,376 €  335,000  €  \n",
       "2   42   1/6   Renov.  1,857 €   78,000  €  \n",
       "3  173   3/6  P. kara  1,179 €  204,000  €  \n",
       "4   72   1/5  Staļina  1,400 €  100,800  €  "
      ]
     },
     "execution_count": 54,
     "metadata": {},
     "output_type": "execute_result"
    }
   ],
   "source": [
    "dtemp.head()"
   ]
  },
  {
   "cell_type": "code",
   "execution_count": 55,
   "metadata": {},
   "outputs": [],
   "source": [
    "dtemp.to_excel(\"rigas_rajons30.xlsx\")"
   ]
  },
  {
   "cell_type": "code",
   "execution_count": 56,
   "metadata": {},
   "outputs": [],
   "source": [
    "# so with this function I can get full dataframe from a single page on ss.com not only apartments\n",
    "def getDFfromURL(url):\n",
    "    # print(\"getting data from\", url)\n",
    "    req = requests.get(url)\n",
    "    if req.status_code != 200:\n",
    "        print(\"Request Fail with\", req.status_code)\n",
    "        return None # maybe return empty dataframe here\n",
    "    soup = BeautifulSoup(req.text, 'lxml')\n",
    "    column_names = getColList(soup)\n",
    "    rowlist = getRowList(soup)\n",
    "    rows = getRows(rowlist,colist=column_names)\n",
    "    return pd.DataFrame(rows, columns=column_names)\n",
    "    "
   ]
  },
  {
   "cell_type": "code",
   "execution_count": 57,
   "metadata": {},
   "outputs": [
    {
     "data": {
      "text/plain": [
       "'https://www.ss.com/lv/real-estate/flats/riga/centre/sell/'"
      ]
     },
     "execution_count": 57,
     "metadata": {},
     "output_type": "execute_result"
    }
   ],
   "source": [
    "centrs = url\n",
    "centrs"
   ]
  },
  {
   "cell_type": "code",
   "execution_count": 58,
   "metadata": {},
   "outputs": [
    {
     "data": {
      "text/html": [
       "<div>\n",
       "<style scoped>\n",
       "    .dataframe tbody tr th:only-of-type {\n",
       "        vertical-align: middle;\n",
       "    }\n",
       "\n",
       "    .dataframe tbody tr th {\n",
       "        vertical-align: top;\n",
       "    }\n",
       "\n",
       "    .dataframe thead th {\n",
       "        text-align: right;\n",
       "    }\n",
       "</style>\n",
       "<table border=\"1\" class=\"dataframe\">\n",
       "  <thead>\n",
       "    <tr style=\"text-align: right;\">\n",
       "      <th></th>\n",
       "      <th>description</th>\n",
       "      <th>url</th>\n",
       "      <th>Iela</th>\n",
       "      <th>Ist.</th>\n",
       "      <th>m2</th>\n",
       "      <th>Stāvs</th>\n",
       "      <th>Sērija</th>\n",
       "      <th>Cena, m2</th>\n",
       "      <th>Cena</th>\n",
       "    </tr>\n",
       "  </thead>\n",
       "  <tbody>\n",
       "    <tr>\n",
       "      <th>0</th>\n",
       "      <td>Pārdodu mājīgu 2-istabu dzīvokli 602. sērijas:...</td>\n",
       "      <td>https://ss.com/msg/lv/real-estate/flats/riga/i...</td>\n",
       "      <td>Slokas 183</td>\n",
       "      <td>2</td>\n",
       "      <td>49</td>\n",
       "      <td>3/9</td>\n",
       "      <td>602.</td>\n",
       "      <td>1,265 €</td>\n",
       "      <td>62,000  €</td>\n",
       "    </tr>\n",
       "    <tr>\n",
       "      <th>1</th>\n",
       "      <td>Jauks, ērts divistabu dzīvoklis Imantā ar balk...</td>\n",
       "      <td>https://ss.com/msg/lv/real-estate/flats/riga/i...</td>\n",
       "      <td>Dammes 36</td>\n",
       "      <td>2</td>\n",
       "      <td>50</td>\n",
       "      <td>2/9</td>\n",
       "      <td>602.</td>\n",
       "      <td>1,460 €</td>\n",
       "      <td>73,000  €</td>\n",
       "    </tr>\n",
       "    <tr>\n",
       "      <th>2</th>\n",
       "      <td>Zaļš pagalms, lieliski ģimenēm ar bērniem un d...</td>\n",
       "      <td>https://ss.com/msg/lv/real-estate/flats/riga/i...</td>\n",
       "      <td>Kurzemes pr. 42</td>\n",
       "      <td>2</td>\n",
       "      <td>39</td>\n",
       "      <td>4/5</td>\n",
       "      <td>LT proj.</td>\n",
       "      <td>1,102 €</td>\n",
       "      <td>42,980  €</td>\n",
       "    </tr>\n",
       "    <tr>\n",
       "      <th>3</th>\n",
       "      <td>Pārdod remontējamu divistabu dzīvokli 602. sēr...</td>\n",
       "      <td>https://ss.com/msg/lv/real-estate/flats/riga/i...</td>\n",
       "      <td>Zentenes 3</td>\n",
       "      <td>2</td>\n",
       "      <td>52</td>\n",
       "      <td>9/9</td>\n",
       "      <td>602.</td>\n",
       "      <td>1,058 €</td>\n",
       "      <td>55,000  €</td>\n",
       "    </tr>\n",
       "    <tr>\n",
       "      <th>4</th>\n",
       "      <td>Продаём квартиру на Курземес проспекте 138, 5-...</td>\n",
       "      <td>https://ss.com/msg/lv/real-estate/flats/riga/i...</td>\n",
       "      <td>Kurzemes pr. 138</td>\n",
       "      <td>3</td>\n",
       "      <td>62</td>\n",
       "      <td>5/9</td>\n",
       "      <td>602.</td>\n",
       "      <td>1,316 €</td>\n",
       "      <td>81,600  €</td>\n",
       "    </tr>\n",
       "  </tbody>\n",
       "</table>\n",
       "</div>"
      ],
      "text/plain": [
       "                                         description  \\\n",
       "0  Pārdodu mājīgu 2-istabu dzīvokli 602. sērijas:...   \n",
       "1  Jauks, ērts divistabu dzīvoklis Imantā ar balk...   \n",
       "2  Zaļš pagalms, lieliski ģimenēm ar bērniem un d...   \n",
       "3  Pārdod remontējamu divistabu dzīvokli 602. sēr...   \n",
       "4  Продаём квартиру на Курземес проспекте 138, 5-...   \n",
       "\n",
       "                                                 url              Iela Ist.  \\\n",
       "0  https://ss.com/msg/lv/real-estate/flats/riga/i...        Slokas 183    2   \n",
       "1  https://ss.com/msg/lv/real-estate/flats/riga/i...         Dammes 36    2   \n",
       "2  https://ss.com/msg/lv/real-estate/flats/riga/i...   Kurzemes pr. 42    2   \n",
       "3  https://ss.com/msg/lv/real-estate/flats/riga/i...        Zentenes 3    2   \n",
       "4  https://ss.com/msg/lv/real-estate/flats/riga/i...  Kurzemes pr. 138    3   \n",
       "\n",
       "   m2 Stāvs    Sērija Cena, m2       Cena  \n",
       "0  49   3/9      602.  1,265 €  62,000  €  \n",
       "1  50   2/9      602.  1,460 €  73,000  €  \n",
       "2  39   4/5  LT proj.  1,102 €  42,980  €  \n",
       "3  52   9/9      602.  1,058 €  55,000  €  \n",
       "4  62   5/9      602.  1,316 €  81,600  €  "
      ]
     },
     "execution_count": 58,
     "metadata": {},
     "output_type": "execute_result"
    }
   ],
   "source": [
    "imanta = \"https://www.ss.com/lv/real-estate/flats/riga/imanta/sell/\"\n",
    "idf = getDFfromURL(imanta)\n",
    "idf.head()"
   ]
  },
  {
   "cell_type": "code",
   "execution_count": 50,
   "metadata": {},
   "outputs": [],
   "source": [
    "df = getDFfromURL(centrs) # this will involve calling web page"
   ]
  },
  {
   "cell_type": "code",
   "execution_count": 55,
   "metadata": {},
   "outputs": [
    {
     "data": {
      "text/plain": [
       "'https://www.ss.com/lv/real-estate/homes-summer-residences/riga-region/all/sell/'"
      ]
     },
     "execution_count": 55,
     "metadata": {},
     "output_type": "execute_result"
    }
   ],
   "source": [
    "url"
   ]
  },
  {
   "cell_type": "code",
   "execution_count": 53,
   "metadata": {},
   "outputs": [
    {
     "data": {
      "text/plain": [
       "(30, 9)"
      ]
     },
     "execution_count": 53,
     "metadata": {},
     "output_type": "execute_result"
    }
   ],
   "source": [
    "df = getDFfromURL(url)\n",
    "df.shape"
   ]
  },
  {
   "cell_type": "code",
   "execution_count": 51,
   "metadata": {},
   "outputs": [
    {
     "data": {
      "text/plain": [
       "(30, 9)"
      ]
     },
     "execution_count": 51,
     "metadata": {},
     "output_type": "execute_result"
    }
   ],
   "source": [
    "df.shape"
   ]
  },
  {
   "cell_type": "code",
   "execution_count": 57,
   "metadata": {},
   "outputs": [
    {
     "data": {
      "text/html": [
       "<div>\n",
       "<style scoped>\n",
       "    .dataframe tbody tr th:only-of-type {\n",
       "        vertical-align: middle;\n",
       "    }\n",
       "\n",
       "    .dataframe tbody tr th {\n",
       "        vertical-align: top;\n",
       "    }\n",
       "\n",
       "    .dataframe thead th {\n",
       "        text-align: right;\n",
       "    }\n",
       "</style>\n",
       "<table border=\"1\" class=\"dataframe\">\n",
       "  <thead>\n",
       "    <tr style=\"text-align: right;\">\n",
       "      <th></th>\n",
       "      <th>description</th>\n",
       "      <th>url</th>\n",
       "      <th>Pagasts</th>\n",
       "      <th>m2</th>\n",
       "      <th>Stāvi</th>\n",
       "      <th>Zem. pl.</th>\n",
       "      <th>Cena</th>\n",
       "    </tr>\n",
       "  </thead>\n",
       "  <tbody>\n",
       "    <tr>\n",
       "      <th>0</th>\n",
       "      <td>Pārdošanā plaša un mājīga divu stāvu māja ļoti...</td>\n",
       "      <td>https://ss.com/msg/lv/real-estate/homes-summer...</td>\n",
       "      <td>Sigulda</td>\n",
       "      <td>480</td>\n",
       "      <td>3</td>\n",
       "      <td>1928 m²</td>\n",
       "      <td>250,000  €</td>\n",
       "    </tr>\n",
       "    <tr>\n",
       "      <th>1</th>\n",
       "      <td>Tiek pārdota omulīga privātmāja Gaujā. Ir veik...</td>\n",
       "      <td>https://ss.com/msg/lv/real-estate/homes-summer...</td>\n",
       "      <td>Carnikavas nov.Gauja</td>\n",
       "      <td>210</td>\n",
       "      <td>2</td>\n",
       "      <td>1000 m²</td>\n",
       "      <td>160,000  €</td>\n",
       "    </tr>\n",
       "    <tr>\n",
       "      <th>2</th>\n",
       "      <td>Pārdodu zemes gabala domājamo daļu 750 kv. m. ...</td>\n",
       "      <td>https://ss.com/msg/lv/real-estate/homes-summer...</td>\n",
       "      <td>Mārupes pag.Mārupe</td>\n",
       "      <td>203</td>\n",
       "      <td>2</td>\n",
       "      <td>750 m²</td>\n",
       "      <td>135,000  €</td>\n",
       "    </tr>\n",
       "    <tr>\n",
       "      <th>3</th>\n",
       "      <td>Kārtīgi celta māja ar sakoptu dārzu un siltumn...</td>\n",
       "      <td>https://ss.com/msg/lv/real-estate/homes-summer...</td>\n",
       "      <td>Saulkrasti</td>\n",
       "      <td>85</td>\n",
       "      <td>2</td>\n",
       "      <td>580 m²</td>\n",
       "      <td>46,800  €</td>\n",
       "    </tr>\n",
       "    <tr>\n",
       "      <th>4</th>\n",
       "      <td>Pārdod māju Katlakalnā. Māja atrodas lieliskā ...</td>\n",
       "      <td>https://ss.com/msg/lv/real-estate/homes-summer...</td>\n",
       "      <td>Ķekavas pag.Katlakalns</td>\n",
       "      <td>278</td>\n",
       "      <td>2</td>\n",
       "      <td>1200 m²</td>\n",
       "      <td>265,000  €</td>\n",
       "    </tr>\n",
       "  </tbody>\n",
       "</table>\n",
       "</div>"
      ],
      "text/plain": [
       "                                         description  \\\n",
       "0  Pārdošanā plaša un mājīga divu stāvu māja ļoti...   \n",
       "1  Tiek pārdota omulīga privātmāja Gaujā. Ir veik...   \n",
       "2  Pārdodu zemes gabala domājamo daļu 750 kv. m. ...   \n",
       "3  Kārtīgi celta māja ar sakoptu dārzu un siltumn...   \n",
       "4  Pārdod māju Katlakalnā. Māja atrodas lieliskā ...   \n",
       "\n",
       "                                                 url                 Pagasts  \\\n",
       "0  https://ss.com/msg/lv/real-estate/homes-summer...                 Sigulda   \n",
       "1  https://ss.com/msg/lv/real-estate/homes-summer...    Carnikavas nov.Gauja   \n",
       "2  https://ss.com/msg/lv/real-estate/homes-summer...      Mārupes pag.Mārupe   \n",
       "3  https://ss.com/msg/lv/real-estate/homes-summer...              Saulkrasti   \n",
       "4  https://ss.com/msg/lv/real-estate/homes-summer...  Ķekavas pag.Katlakalns   \n",
       "\n",
       "    m2 Stāvi Zem. pl.        Cena  \n",
       "0  480     3  1928 m²  250,000  €  \n",
       "1  210     2  1000 m²  160,000  €  \n",
       "2  203     2   750 m²  135,000  €  \n",
       "3   85     2   580 m²   46,800  €  \n",
       "4  278     2  1200 m²  265,000  €  "
      ]
     },
     "execution_count": 57,
     "metadata": {},
     "output_type": "execute_result"
    }
   ],
   "source": [
    "df.head()"
   ]
  },
  {
   "cell_type": "code",
   "execution_count": 59,
   "metadata": {},
   "outputs": [
    {
     "data": {
      "text/plain": [
       "99"
      ]
     },
     "execution_count": 59,
     "metadata": {},
     "output_type": "execute_result"
    }
   ],
   "source": [
    "\n",
    "# https://developer.mozilla.org/en-US/docs/Web/HTML/Element/a\n",
    "anchors = soup.find_all(\"a\")\n",
    "len(anchors) # anchors are popular in pages"
   ]
  },
  {
   "cell_type": "code",
   "execution_count": 59,
   "metadata": {},
   "outputs": [
    {
     "data": {
      "text/plain": [
       "[<a href=\"/\" title=\"Sludinājumi\"><img alt=\"Sludinājumi\" border=\"0\" class=\"page_header_logo\" src=\"https://i.ss.com/img/p.gif\"/></a>,\n",
       " <a class=\"a_menu\" href=\"/lv/real-estate/homes-summer-residences/new/\" title=\"Iesniegt Sludinājumu\">Iesniegt Sludinājumu</a>,\n",
       " <a class=\"a_menu\" href=\"/lv/login/\" title=\"Mani Sludinājumi\">Mani Sludinājumi</a>,\n",
       " <a class=\"a_menu\" href=\"/lv/real-estate/homes-summer-residences/riga-region/search/\" title=\"Meklēt sludinājumus\">Meklēšana</a>,\n",
       " <a class=\"a_menu\" href=\"/lv/favorites/\" title=\"Memo\">Memo</a>]"
      ]
     },
     "execution_count": 59,
     "metadata": {},
     "output_type": "execute_result"
    }
   ],
   "source": [
    "anchors[:5]"
   ]
  },
  {
   "cell_type": "code",
   "execution_count": 60,
   "metadata": {},
   "outputs": [
    {
     "data": {
      "text/plain": [
       "10"
      ]
     },
     "execution_count": 60,
     "metadata": {},
     "output_type": "execute_result"
    }
   ],
   "source": [
    "navs = [anchor for anchor in anchors if anchor.get(\"name\") == \"nav_id\"] # get will get us None if no \"name\" exists\n",
    "len(navs)"
   ]
  },
  {
   "cell_type": "code",
   "execution_count": 61,
   "metadata": {},
   "outputs": [
    {
     "data": {
      "text/plain": [
       "[<a class=\"navi\" href=\"/lv/real-estate/flats/riga/centre/sell/page24.html\" name=\"nav_id\" rel=\"prev\"><img border=\"0\" height=\"5\" src=\"https://i.ss.com/img/s_left.png\" style=\"padding-bottom:2px;\" width=\"9\"/> Iepriekšējie</a>,\n",
       " <a class=\"navi\" href=\"/lv/real-estate/flats/riga/centre/sell/page2.html\" name=\"nav_id\" rel=\"next\">2</a>,\n",
       " <a class=\"navi\" href=\"/lv/real-estate/flats/riga/centre/sell/page3.html\" name=\"nav_id\" rel=\"next\">3</a>,\n",
       " <a class=\"navi\" href=\"/lv/real-estate/flats/riga/centre/sell/page4.html\" name=\"nav_id\" rel=\"next\">4</a>,\n",
       " <a class=\"navi\" href=\"/lv/real-estate/flats/riga/centre/sell/page5.html\" name=\"nav_id\" rel=\"next\">5</a>,\n",
       " <a class=\"navi\" href=\"/lv/real-estate/flats/riga/centre/sell/page6.html\" name=\"nav_id\" rel=\"next\">6</a>,\n",
       " <a class=\"navi\" href=\"/lv/real-estate/flats/riga/centre/sell/page7.html\" name=\"nav_id\" rel=\"next\">7</a>,\n",
       " <a class=\"navi\" href=\"/lv/real-estate/flats/riga/centre/sell/page8.html\" name=\"nav_id\" rel=\"next\">8</a>,\n",
       " <a class=\"navi\" href=\"/lv/real-estate/flats/riga/centre/sell/page9.html\" name=\"nav_id\" rel=\"next\">9</a>,\n",
       " <a class=\"navi\" href=\"/lv/real-estate/flats/riga/centre/sell/page2.html\" name=\"nav_id\" rel=\"next\">Nākamie <img border=\"0\" height=\"5\" src=\"https://i.ss.com/img/s_right.png\" style=\"padding-bottom:2px;\" width=\"9\"/></a>]"
      ]
     },
     "execution_count": 61,
     "metadata": {},
     "output_type": "execute_result"
    }
   ],
   "source": [
    "navs"
   ]
  },
  {
   "cell_type": "code",
   "execution_count": 62,
   "metadata": {},
   "outputs": [
    {
     "data": {
      "text/plain": [
       "<a class=\"navi\" href=\"/lv/real-estate/flats/riga/centre/sell/page24.html\" name=\"nav_id\" rel=\"prev\"><img border=\"0\" height=\"5\" src=\"https://i.ss.com/img/s_left.png\" style=\"padding-bottom:2px;\" width=\"9\"/> Iepriekšējie</a>"
      ]
     },
     "execution_count": 62,
     "metadata": {},
     "output_type": "execute_result"
    }
   ],
   "source": [
    "navs[0]"
   ]
  },
  {
   "cell_type": "code",
   "execution_count": 63,
   "metadata": {},
   "outputs": [
    {
     "data": {
      "text/plain": [
       "{'name': 'nav_id',\n",
       " 'rel': ['prev'],\n",
       " 'class': ['navi'],\n",
       " 'href': '/lv/real-estate/flats/riga/centre/sell/page24.html'}"
      ]
     },
     "execution_count": 63,
     "metadata": {},
     "output_type": "execute_result"
    }
   ],
   "source": [
    "navs[0].attrs"
   ]
  },
  {
   "cell_type": "code",
   "execution_count": 64,
   "metadata": {},
   "outputs": [
    {
     "data": {
      "text/plain": [
       "'/lv/real-estate/flats/riga/centre/sell/page24.html'"
      ]
     },
     "execution_count": 64,
     "metadata": {},
     "output_type": "execute_result"
    }
   ],
   "source": [
    "navs[0]['href']"
   ]
  },
  {
   "cell_type": "code",
   "execution_count": 65,
   "metadata": {},
   "outputs": [
    {
     "data": {
      "text/plain": [
       "'24.html'"
      ]
     },
     "execution_count": 65,
     "metadata": {},
     "output_type": "execute_result"
    }
   ],
   "source": [
    "# could use regular expression here but we can use split \n",
    "afterpage = navs[0]['href'].split(\"/page\")[-1] # -1 might be safer than 1 in case there is region with name page\n",
    "afterpage"
   ]
  },
  {
   "cell_type": "code",
   "execution_count": 66,
   "metadata": {},
   "outputs": [
    {
     "data": {
      "text/plain": [
       "'24'"
      ]
     },
     "execution_count": 66,
     "metadata": {},
     "output_type": "execute_result"
    }
   ],
   "source": [
    "beforedot = afterpage.split(\".html\")[0]\n",
    "beforedot"
   ]
  },
  {
   "cell_type": "code",
   "execution_count": 67,
   "metadata": {},
   "outputs": [
    {
     "data": {
      "text/plain": [
       "24"
      ]
     },
     "execution_count": 67,
     "metadata": {},
     "output_type": "execute_result"
    }
   ],
   "source": [
    "lastpage = int(beforedot)\n",
    "lastpage"
   ]
  },
  {
   "cell_type": "code",
   "execution_count": null,
   "metadata": {},
   "outputs": [],
   "source": [
    "# so now we put everything we just did in a single function"
   ]
  },
  {
   "cell_type": "code",
   "execution_count": 68,
   "metadata": {},
   "outputs": [],
   "source": [
    "def getAllLocalUrls(url):\n",
    "    \"\"\"Get a list of all urls including paginated pages\"\"\"\n",
    "    results = [url] # default is just the url if no extra pages found, teiksim Bolderājai...\n",
    "    req = requests.get(url)\n",
    "    if req.status_code != 200:\n",
    "        print(f\"Bad response! {req.status_code}\")\n",
    "        return []\n",
    "    soup = BeautifulSoup(req.text, 'lxml')\n",
    "    # we just need a one element\n",
    "    prevanchor = soup.find('a', {\"rel\":\"prev\"}) # find finds first match only\n",
    "    if prevanchor == None: # means there is only one page of ads\n",
    "        return results\n",
    "    href = prevanchor.attrs.get('href')\n",
    "    lastPageNum = int(href.split('/page')[-1].split('.html')[0])\n",
    "    print(\"Last page is\",lastPageNum)\n",
    "    nurls = [f\"{url}page{n}.html\" for n in range(2,lastPageNum+1)]\n",
    "    results += nurls\n",
    "    return results"
   ]
  },
  {
   "cell_type": "code",
   "execution_count": 69,
   "metadata": {},
   "outputs": [
    {
     "data": {
      "text/plain": [
       "'https://www.ss.com/lv/real-estate/flats/riga/centre/sell/'"
      ]
     },
     "execution_count": 69,
     "metadata": {},
     "output_type": "execute_result"
    }
   ],
   "source": [
    "url"
   ]
  },
  {
   "cell_type": "code",
   "execution_count": 70,
   "metadata": {},
   "outputs": [],
   "source": [
    "centrs = url"
   ]
  },
  {
   "cell_type": "code",
   "execution_count": 71,
   "metadata": {},
   "outputs": [
    {
     "data": {
      "text/plain": [
       "'https://www.ss.com/lv/real-estate/flats/riga/centre/sell/'"
      ]
     },
     "execution_count": 71,
     "metadata": {},
     "output_type": "execute_result"
    }
   ],
   "source": [
    "url"
   ]
  },
  {
   "cell_type": "code",
   "execution_count": 72,
   "metadata": {},
   "outputs": [
    {
     "name": "stdout",
     "output_type": "stream",
     "text": [
      "Last page is 24\n"
     ]
    },
    {
     "data": {
      "text/plain": [
       "(24,\n",
       " ['https://www.ss.com/lv/real-estate/flats/riga/centre/sell/',\n",
       "  'https://www.ss.com/lv/real-estate/flats/riga/centre/sell/page2.html',\n",
       "  'https://www.ss.com/lv/real-estate/flats/riga/centre/sell/page3.html'],\n",
       " 'https://www.ss.com/lv/real-estate/flats/riga/centre/sell/page24.html')"
      ]
     },
     "execution_count": 72,
     "metadata": {},
     "output_type": "execute_result"
    }
   ],
   "source": [
    "local_urls = getAllLocalUrls(url)\n",
    "len(local_urls),local_urls[:3],local_urls[-1]"
   ]
  },
  {
   "cell_type": "code",
   "execution_count": 73,
   "metadata": {},
   "outputs": [
    {
     "data": {
      "text/plain": [
       "['https://www.ss.com/lv/real-estate/flats/riga/centre/sell/',\n",
       " 'https://www.ss.com/lv/real-estate/flats/riga/centre/sell/page2.html',\n",
       " 'https://www.ss.com/lv/real-estate/flats/riga/centre/sell/page3.html',\n",
       " 'https://www.ss.com/lv/real-estate/flats/riga/centre/sell/page4.html',\n",
       " 'https://www.ss.com/lv/real-estate/flats/riga/centre/sell/page5.html',\n",
       " 'https://www.ss.com/lv/real-estate/flats/riga/centre/sell/page6.html',\n",
       " 'https://www.ss.com/lv/real-estate/flats/riga/centre/sell/page7.html',\n",
       " 'https://www.ss.com/lv/real-estate/flats/riga/centre/sell/page8.html',\n",
       " 'https://www.ss.com/lv/real-estate/flats/riga/centre/sell/page9.html',\n",
       " 'https://www.ss.com/lv/real-estate/flats/riga/centre/sell/page10.html',\n",
       " 'https://www.ss.com/lv/real-estate/flats/riga/centre/sell/page11.html',\n",
       " 'https://www.ss.com/lv/real-estate/flats/riga/centre/sell/page12.html',\n",
       " 'https://www.ss.com/lv/real-estate/flats/riga/centre/sell/page13.html',\n",
       " 'https://www.ss.com/lv/real-estate/flats/riga/centre/sell/page14.html',\n",
       " 'https://www.ss.com/lv/real-estate/flats/riga/centre/sell/page15.html',\n",
       " 'https://www.ss.com/lv/real-estate/flats/riga/centre/sell/page16.html',\n",
       " 'https://www.ss.com/lv/real-estate/flats/riga/centre/sell/page17.html',\n",
       " 'https://www.ss.com/lv/real-estate/flats/riga/centre/sell/page18.html',\n",
       " 'https://www.ss.com/lv/real-estate/flats/riga/centre/sell/page19.html',\n",
       " 'https://www.ss.com/lv/real-estate/flats/riga/centre/sell/page20.html',\n",
       " 'https://www.ss.com/lv/real-estate/flats/riga/centre/sell/page21.html',\n",
       " 'https://www.ss.com/lv/real-estate/flats/riga/centre/sell/page22.html',\n",
       " 'https://www.ss.com/lv/real-estate/flats/riga/centre/sell/page23.html',\n",
       " 'https://www.ss.com/lv/real-estate/flats/riga/centre/sell/page24.html']"
      ]
     },
     "execution_count": 73,
     "metadata": {},
     "output_type": "execute_result"
    }
   ],
   "source": [
    "local_urls"
   ]
  },
  {
   "cell_type": "code",
   "execution_count": 74,
   "metadata": {},
   "outputs": [
    {
     "data": {
      "text/plain": [
       "(25, 9)"
      ]
     },
     "execution_count": 74,
     "metadata": {},
     "output_type": "execute_result"
    }
   ],
   "source": [
    "dlast = getDFfromURL(local_urls[-1])\n",
    "dlast.shape"
   ]
  },
  {
   "cell_type": "code",
   "execution_count": 75,
   "metadata": {
    "scrolled": true
   },
   "outputs": [
    {
     "data": {
      "text/html": [
       "<div>\n",
       "<style scoped>\n",
       "    .dataframe tbody tr th:only-of-type {\n",
       "        vertical-align: middle;\n",
       "    }\n",
       "\n",
       "    .dataframe tbody tr th {\n",
       "        vertical-align: top;\n",
       "    }\n",
       "\n",
       "    .dataframe thead th {\n",
       "        text-align: right;\n",
       "    }\n",
       "</style>\n",
       "<table border=\"1\" class=\"dataframe\">\n",
       "  <thead>\n",
       "    <tr style=\"text-align: right;\">\n",
       "      <th></th>\n",
       "      <th>description</th>\n",
       "      <th>url</th>\n",
       "      <th>Iela</th>\n",
       "      <th>Ist.</th>\n",
       "      <th>m2</th>\n",
       "      <th>Stāvs</th>\n",
       "      <th>Sērija</th>\n",
       "      <th>Cena, m2</th>\n",
       "      <th>Cena</th>\n",
       "    </tr>\n",
       "  </thead>\n",
       "  <tbody>\n",
       "    <tr>\n",
       "      <th>0</th>\n",
       "      <td>Elegants 3 istabu dzīvoklis ar balkonu otrajā ...</td>\n",
       "      <td>https://ss.com/msg/lv/real-estate/flats/riga/c...</td>\n",
       "      <td>Lāčplēša 7</td>\n",
       "      <td>3</td>\n",
       "      <td>82</td>\n",
       "      <td>2/6</td>\n",
       "      <td>Renov.</td>\n",
       "      <td>3,280 €</td>\n",
       "      <td>269,000  €</td>\n",
       "    </tr>\n",
       "    <tr>\n",
       "      <th>1</th>\n",
       "      <td>Pārdošanā 3 istabu dzīvoklis jaunajā projektā ...</td>\n",
       "      <td>https://ss.com/msg/lv/real-estate/flats/riga/c...</td>\n",
       "      <td>Antonijas 16A</td>\n",
       "      <td>3</td>\n",
       "      <td>114</td>\n",
       "      <td>3/7</td>\n",
       "      <td>Jaun.</td>\n",
       "      <td>2,939 €</td>\n",
       "      <td>335,000  €</td>\n",
       "    </tr>\n",
       "    <tr>\n",
       "      <th>2</th>\n",
       "      <td>Pārdod vienas guļamistabas dzīvokli ar atseviš...</td>\n",
       "      <td>https://ss.com/msg/lv/real-estate/flats/riga/c...</td>\n",
       "      <td>Bruņinieku 121B</td>\n",
       "      <td>1</td>\n",
       "      <td>35</td>\n",
       "      <td>5/5</td>\n",
       "      <td>Renov.</td>\n",
       "      <td>1,900 €</td>\n",
       "      <td>66,500  €</td>\n",
       "    </tr>\n",
       "    <tr>\n",
       "      <th>3</th>\n",
       "      <td>Investīcijas objekts\\r\\nPārdod vienistabas dzī...</td>\n",
       "      <td>https://ss.com/msg/lv/real-estate/flats/riga/c...</td>\n",
       "      <td>Tallinas 90A</td>\n",
       "      <td>1</td>\n",
       "      <td>33</td>\n",
       "      <td>4/5</td>\n",
       "      <td>Renov.</td>\n",
       "      <td>2,121 €</td>\n",
       "      <td>70,000  €</td>\n",
       "    </tr>\n",
       "    <tr>\n",
       "      <th>4</th>\n",
       "      <td>Ekskluzīvs 4-istabu dzīvoklis vēstniecību rajo...</td>\n",
       "      <td>https://ss.com/msg/lv/real-estate/flats/riga/c...</td>\n",
       "      <td>Kalpaka bulv. 10</td>\n",
       "      <td>4</td>\n",
       "      <td>123</td>\n",
       "      <td>3/5</td>\n",
       "      <td>P. kara</td>\n",
       "      <td>2,602 €</td>\n",
       "      <td>320,000  €</td>\n",
       "    </tr>\n",
       "    <tr>\n",
       "      <th>5</th>\n",
       "      <td>Продаётся 4-комнатная квартира в новостройке. ...</td>\n",
       "      <td>https://ss.com/msg/lv/real-estate/flats/riga/c...</td>\n",
       "      <td>Alauksta 9</td>\n",
       "      <td>4</td>\n",
       "      <td>136</td>\n",
       "      <td>6/6</td>\n",
       "      <td>Jaun.</td>\n",
       "      <td>1,912 €</td>\n",
       "      <td>260,000  €</td>\n",
       "    </tr>\n",
       "    <tr>\n",
       "      <th>6</th>\n",
       "      <td>Skaists dzīvoklis ar erkeri, tikko pēc kapitāl...</td>\n",
       "      <td>https://ss.com/msg/lv/real-estate/flats/riga/c...</td>\n",
       "      <td>Brīvības 103</td>\n",
       "      <td>2</td>\n",
       "      <td>45</td>\n",
       "      <td>3/6</td>\n",
       "      <td>P. kara</td>\n",
       "      <td>2,400 €</td>\n",
       "      <td>108,000  €</td>\n",
       "    </tr>\n",
       "    <tr>\n",
       "      <th>7</th>\n",
       "      <td>Gaumīgi izremontēts 4-istabu dzīvoklis Klusajā...</td>\n",
       "      <td>https://ss.com/msg/lv/real-estate/flats/riga/c...</td>\n",
       "      <td>Eksporta 2</td>\n",
       "      <td>4</td>\n",
       "      <td>100</td>\n",
       "      <td>2/5</td>\n",
       "      <td>Staļina</td>\n",
       "      <td>1,999 €</td>\n",
       "      <td>199,900  €</td>\n",
       "    </tr>\n",
       "    <tr>\n",
       "      <th>8</th>\n",
       "      <td>Pārdod gaišu divu istabu dzīvokli ar stāvvietu...</td>\n",
       "      <td>https://ss.com/msg/lv/real-estate/flats/riga/c...</td>\n",
       "      <td>Visvalža 3B</td>\n",
       "      <td>2</td>\n",
       "      <td>51</td>\n",
       "      <td>2/5</td>\n",
       "      <td>P. kara</td>\n",
       "      <td>1,371 €</td>\n",
       "      <td>69,900  €</td>\n",
       "    </tr>\n",
       "    <tr>\n",
       "      <th>9</th>\n",
       "      <td>Pārdodam 3-istabu dzīvokli pašā Rīgas centrā, ...</td>\n",
       "      <td>https://ss.com/msg/lv/real-estate/flats/riga/c...</td>\n",
       "      <td>Merķeļa 6</td>\n",
       "      <td>3</td>\n",
       "      <td>102</td>\n",
       "      <td>5/5</td>\n",
       "      <td>Renov.</td>\n",
       "      <td>1,598 €</td>\n",
       "      <td>163,000  €</td>\n",
       "    </tr>\n",
       "    <tr>\n",
       "      <th>10</th>\n",
       "      <td>Mājīgs, silts un kluss trīs istabu dzīvoklis p...</td>\n",
       "      <td>https://ss.com/msg/lv/real-estate/flats/riga/c...</td>\n",
       "      <td>Bruņinieku 28</td>\n",
       "      <td>3</td>\n",
       "      <td>85</td>\n",
       "      <td>4/6</td>\n",
       "      <td>P. kara</td>\n",
       "      <td>1,941 €</td>\n",
       "      <td>165,000  €</td>\n",
       "    </tr>\n",
       "    <tr>\n",
       "      <th>11</th>\n",
       "      <td>3D tūres links pievienots zemāk - izstaigā dzī...</td>\n",
       "      <td>https://ss.com/msg/lv/real-estate/flats/riga/c...</td>\n",
       "      <td>Artilērijas 26</td>\n",
       "      <td>2</td>\n",
       "      <td>46</td>\n",
       "      <td>1/3</td>\n",
       "      <td>Renov.</td>\n",
       "      <td>2,421 €</td>\n",
       "      <td>111,360  €</td>\n",
       "    </tr>\n",
       "    <tr>\n",
       "      <th>12</th>\n",
       "      <td>Pārdod trīsistabas dzīvokli. Divas izolētas is...</td>\n",
       "      <td>https://ss.com/msg/lv/real-estate/flats/riga/c...</td>\n",
       "      <td>Pētersalas 7</td>\n",
       "      <td>3</td>\n",
       "      <td>95</td>\n",
       "      <td>1/5</td>\n",
       "      <td>P. kara</td>\n",
       "      <td>1,526 €</td>\n",
       "      <td>145,000  €</td>\n",
       "    </tr>\n",
       "    <tr>\n",
       "      <th>13</th>\n",
       "      <td>Pārdod 1 istabas dzīvokli Rīgas centrā renovēt...</td>\n",
       "      <td>https://ss.com/msg/lv/real-estate/flats/riga/c...</td>\n",
       "      <td>Bruņinieku 121B</td>\n",
       "      <td>1</td>\n",
       "      <td>21</td>\n",
       "      <td>2/5</td>\n",
       "      <td>Renov.</td>\n",
       "      <td>2,095 €</td>\n",
       "      <td>44,000  €</td>\n",
       "    </tr>\n",
       "    <tr>\n",
       "      <th>14</th>\n",
       "      <td>Ērts plānojums četru istabu iekšpagalma dzīvok...</td>\n",
       "      <td>https://ss.com/msg/lv/real-estate/flats/riga/c...</td>\n",
       "      <td>Valdemāra 57/59</td>\n",
       "      <td>4</td>\n",
       "      <td>109</td>\n",
       "      <td>4/7</td>\n",
       "      <td>P. kara</td>\n",
       "      <td>1,253 €</td>\n",
       "      <td>136,625  €</td>\n",
       "    </tr>\n",
       "    <tr>\n",
       "      <th>15</th>\n",
       "      <td>Ērts plānojums četru istabu iekšpagalma dzīvok...</td>\n",
       "      <td>https://ss.com/msg/lv/real-estate/flats/riga/c...</td>\n",
       "      <td>Valdemāra 57/59</td>\n",
       "      <td>4</td>\n",
       "      <td>109</td>\n",
       "      <td>5/7</td>\n",
       "      <td>P. kara</td>\n",
       "      <td>1,253 €</td>\n",
       "      <td>136,625  €</td>\n",
       "    </tr>\n",
       "    <tr>\n",
       "      <th>16</th>\n",
       "      <td>Dzīvoklis mājā, kas atrodās klusā pagalmā Brīv...</td>\n",
       "      <td>https://ss.com/msg/lv/real-estate/flats/riga/c...</td>\n",
       "      <td>Brīvības 156</td>\n",
       "      <td>3</td>\n",
       "      <td>57</td>\n",
       "      <td>2/5</td>\n",
       "      <td>Hrušč.</td>\n",
       "      <td>1,281 €</td>\n",
       "      <td>73,000  €</td>\n",
       "    </tr>\n",
       "    <tr>\n",
       "      <th>17</th>\n",
       "      <td>Īpašums ar ērtībām un atsevišķu ieeju no slēgt...</td>\n",
       "      <td>https://ss.com/msg/lv/real-estate/flats/riga/c...</td>\n",
       "      <td>Elijas 20</td>\n",
       "      <td>1</td>\n",
       "      <td>10</td>\n",
       "      <td>1/1</td>\n",
       "      <td>P. kara</td>\n",
       "      <td>1,690 €</td>\n",
       "      <td>16,900  €</td>\n",
       "    </tr>\n",
       "    <tr>\n",
       "      <th>18</th>\n",
       "      <td>Silts dzīvoklis. Ļoti laba lokācija. Pilna apd...</td>\n",
       "      <td>https://ss.com/msg/lv/real-estate/flats/riga/c...</td>\n",
       "      <td>Stabu 116</td>\n",
       "      <td>4</td>\n",
       "      <td>69</td>\n",
       "      <td>2/6</td>\n",
       "      <td>P. kara</td>\n",
       "      <td>1,196 €</td>\n",
       "      <td>82,500  €</td>\n",
       "    </tr>\n",
       "    <tr>\n",
       "      <th>19</th>\n",
       "      <td>Последняя квартира. Парковка входит в стоимост...</td>\n",
       "      <td>https://ss.com/msg/lv/real-estate/flats/riga/c...</td>\n",
       "      <td>Valdemāra 37</td>\n",
       "      <td>3</td>\n",
       "      <td>110</td>\n",
       "      <td>6/6</td>\n",
       "      <td>Renov.</td>\n",
       "      <td>2,682 €</td>\n",
       "      <td>295,000  €</td>\n",
       "    </tr>\n",
       "    <tr>\n",
       "      <th>20</th>\n",
       "      <td>Prestižs dzīvoklis klusajā centrā - vēstniecīb...</td>\n",
       "      <td>https://ss.com/msg/lv/real-estate/flats/riga/c...</td>\n",
       "      <td>Ausekļa 5</td>\n",
       "      <td>5</td>\n",
       "      <td>162</td>\n",
       "      <td>2/5</td>\n",
       "      <td>Renov.</td>\n",
       "      <td>2,160 €</td>\n",
       "      <td>350,000  €</td>\n",
       "    </tr>\n",
       "    <tr>\n",
       "      <th>21</th>\n",
       "      <td>Labs investīciju projekts - var sadalīt 2 dzīv...</td>\n",
       "      <td>https://ss.com/msg/lv/real-estate/flats/riga/c...</td>\n",
       "      <td>Stabu 47</td>\n",
       "      <td>5</td>\n",
       "      <td>143</td>\n",
       "      <td>2/5</td>\n",
       "      <td>P. kara</td>\n",
       "      <td>1,538 €</td>\n",
       "      <td>220,000  €</td>\n",
       "    </tr>\n",
       "    <tr>\n",
       "      <th>22</th>\n",
       "      <td>Pārdodu gaišu dzīvokli, mūra mājā, 5.stāvā, sl...</td>\n",
       "      <td>https://ss.com/msg/lv/real-estate/flats/riga/c...</td>\n",
       "      <td>Brīvības 134</td>\n",
       "      <td>2</td>\n",
       "      <td>45</td>\n",
       "      <td>5/6</td>\n",
       "      <td>P. kara</td>\n",
       "      <td>1,644 €</td>\n",
       "      <td>74,000  €</td>\n",
       "    </tr>\n",
       "    <tr>\n",
       "      <th>23</th>\n",
       "      <td>Двухэтажная квартира (также возможна аренда ил...</td>\n",
       "      <td>https://ss.com/msg/lv/real-estate/flats/riga/c...</td>\n",
       "      <td>Maskavas 29</td>\n",
       "      <td>5</td>\n",
       "      <td>180</td>\n",
       "      <td>4/4</td>\n",
       "      <td>Priv. m.</td>\n",
       "      <td>778 €</td>\n",
       "      <td>140,000  €</td>\n",
       "    </tr>\n",
       "    <tr>\n",
       "      <th>24</th>\n",
       "      <td>Ekskluzīvs dzīvoklis Rīgas centrā- mājā, kuru ...</td>\n",
       "      <td>https://ss.com/msg/lv/real-estate/flats/riga/c...</td>\n",
       "      <td>Tērbatas 4</td>\n",
       "      <td>2</td>\n",
       "      <td>73</td>\n",
       "      <td>6/7</td>\n",
       "      <td>P. kara</td>\n",
       "      <td>3,932 €</td>\n",
       "      <td>287,000  €</td>\n",
       "    </tr>\n",
       "  </tbody>\n",
       "</table>\n",
       "</div>"
      ],
      "text/plain": [
       "                                          description  \\\n",
       "0   Elegants 3 istabu dzīvoklis ar balkonu otrajā ...   \n",
       "1   Pārdošanā 3 istabu dzīvoklis jaunajā projektā ...   \n",
       "2   Pārdod vienas guļamistabas dzīvokli ar atseviš...   \n",
       "3   Investīcijas objekts\\r\\nPārdod vienistabas dzī...   \n",
       "4   Ekskluzīvs 4-istabu dzīvoklis vēstniecību rajo...   \n",
       "5   Продаётся 4-комнатная квартира в новостройке. ...   \n",
       "6   Skaists dzīvoklis ar erkeri, tikko pēc kapitāl...   \n",
       "7   Gaumīgi izremontēts 4-istabu dzīvoklis Klusajā...   \n",
       "8   Pārdod gaišu divu istabu dzīvokli ar stāvvietu...   \n",
       "9   Pārdodam 3-istabu dzīvokli pašā Rīgas centrā, ...   \n",
       "10  Mājīgs, silts un kluss trīs istabu dzīvoklis p...   \n",
       "11  3D tūres links pievienots zemāk - izstaigā dzī...   \n",
       "12  Pārdod trīsistabas dzīvokli. Divas izolētas is...   \n",
       "13  Pārdod 1 istabas dzīvokli Rīgas centrā renovēt...   \n",
       "14  Ērts plānojums četru istabu iekšpagalma dzīvok...   \n",
       "15  Ērts plānojums četru istabu iekšpagalma dzīvok...   \n",
       "16  Dzīvoklis mājā, kas atrodās klusā pagalmā Brīv...   \n",
       "17  Īpašums ar ērtībām un atsevišķu ieeju no slēgt...   \n",
       "18  Silts dzīvoklis. Ļoti laba lokācija. Pilna apd...   \n",
       "19  Последняя квартира. Парковка входит в стоимост...   \n",
       "20  Prestižs dzīvoklis klusajā centrā - vēstniecīb...   \n",
       "21  Labs investīciju projekts - var sadalīt 2 dzīv...   \n",
       "22  Pārdodu gaišu dzīvokli, mūra mājā, 5.stāvā, sl...   \n",
       "23  Двухэтажная квартира (также возможна аренда ил...   \n",
       "24  Ekskluzīvs dzīvoklis Rīgas centrā- mājā, kuru ...   \n",
       "\n",
       "                                                  url              Iela Ist.  \\\n",
       "0   https://ss.com/msg/lv/real-estate/flats/riga/c...        Lāčplēša 7    3   \n",
       "1   https://ss.com/msg/lv/real-estate/flats/riga/c...     Antonijas 16A    3   \n",
       "2   https://ss.com/msg/lv/real-estate/flats/riga/c...   Bruņinieku 121B    1   \n",
       "3   https://ss.com/msg/lv/real-estate/flats/riga/c...      Tallinas 90A    1   \n",
       "4   https://ss.com/msg/lv/real-estate/flats/riga/c...  Kalpaka bulv. 10    4   \n",
       "5   https://ss.com/msg/lv/real-estate/flats/riga/c...        Alauksta 9    4   \n",
       "6   https://ss.com/msg/lv/real-estate/flats/riga/c...      Brīvības 103    2   \n",
       "7   https://ss.com/msg/lv/real-estate/flats/riga/c...        Eksporta 2    4   \n",
       "8   https://ss.com/msg/lv/real-estate/flats/riga/c...       Visvalža 3B    2   \n",
       "9   https://ss.com/msg/lv/real-estate/flats/riga/c...         Merķeļa 6    3   \n",
       "10  https://ss.com/msg/lv/real-estate/flats/riga/c...     Bruņinieku 28    3   \n",
       "11  https://ss.com/msg/lv/real-estate/flats/riga/c...    Artilērijas 26    2   \n",
       "12  https://ss.com/msg/lv/real-estate/flats/riga/c...      Pētersalas 7    3   \n",
       "13  https://ss.com/msg/lv/real-estate/flats/riga/c...   Bruņinieku 121B    1   \n",
       "14  https://ss.com/msg/lv/real-estate/flats/riga/c...   Valdemāra 57/59    4   \n",
       "15  https://ss.com/msg/lv/real-estate/flats/riga/c...   Valdemāra 57/59    4   \n",
       "16  https://ss.com/msg/lv/real-estate/flats/riga/c...      Brīvības 156    3   \n",
       "17  https://ss.com/msg/lv/real-estate/flats/riga/c...         Elijas 20    1   \n",
       "18  https://ss.com/msg/lv/real-estate/flats/riga/c...         Stabu 116    4   \n",
       "19  https://ss.com/msg/lv/real-estate/flats/riga/c...      Valdemāra 37    3   \n",
       "20  https://ss.com/msg/lv/real-estate/flats/riga/c...         Ausekļa 5    5   \n",
       "21  https://ss.com/msg/lv/real-estate/flats/riga/c...          Stabu 47    5   \n",
       "22  https://ss.com/msg/lv/real-estate/flats/riga/c...      Brīvības 134    2   \n",
       "23  https://ss.com/msg/lv/real-estate/flats/riga/c...       Maskavas 29    5   \n",
       "24  https://ss.com/msg/lv/real-estate/flats/riga/c...        Tērbatas 4    2   \n",
       "\n",
       "     m2 Stāvs    Sērija Cena, m2        Cena  \n",
       "0    82   2/6    Renov.  3,280 €  269,000  €  \n",
       "1   114   3/7     Jaun.  2,939 €  335,000  €  \n",
       "2    35   5/5    Renov.  1,900 €   66,500  €  \n",
       "3    33   4/5    Renov.  2,121 €   70,000  €  \n",
       "4   123   3/5   P. kara  2,602 €  320,000  €  \n",
       "5   136   6/6     Jaun.  1,912 €  260,000  €  \n",
       "6    45   3/6   P. kara  2,400 €  108,000  €  \n",
       "7   100   2/5   Staļina  1,999 €  199,900  €  \n",
       "8    51   2/5   P. kara  1,371 €   69,900  €  \n",
       "9   102   5/5    Renov.  1,598 €  163,000  €  \n",
       "10   85   4/6   P. kara  1,941 €  165,000  €  \n",
       "11   46   1/3    Renov.  2,421 €  111,360  €  \n",
       "12   95   1/5   P. kara  1,526 €  145,000  €  \n",
       "13   21   2/5    Renov.  2,095 €   44,000  €  \n",
       "14  109   4/7   P. kara  1,253 €  136,625  €  \n",
       "15  109   5/7   P. kara  1,253 €  136,625  €  \n",
       "16   57   2/5    Hrušč.  1,281 €   73,000  €  \n",
       "17   10   1/1   P. kara  1,690 €   16,900  €  \n",
       "18   69   2/6   P. kara  1,196 €   82,500  €  \n",
       "19  110   6/6    Renov.  2,682 €  295,000  €  \n",
       "20  162   2/5    Renov.  2,160 €  350,000  €  \n",
       "21  143   2/5   P. kara  1,538 €  220,000  €  \n",
       "22   45   5/6   P. kara  1,644 €   74,000  €  \n",
       "23  180   4/4  Priv. m.    778 €  140,000  €  \n",
       "24   73   6/7   P. kara  3,932 €  287,000  €  "
      ]
     },
     "execution_count": 75,
     "metadata": {},
     "output_type": "execute_result"
    }
   ],
   "source": [
    "dlast"
   ]
  },
  {
   "cell_type": "code",
   "execution_count": 76,
   "metadata": {},
   "outputs": [],
   "source": [
    "def get_all_ads_df(start_url, save_excel_path=None):\n",
    "    df_list=[] # so we will save our dataframes in a list\n",
    "    local_urls = getAllLocalUrls(start_url)\n",
    "    for url in local_urls:\n",
    "        print(f\"Gathering data from {url}\")\n",
    "        df_list.append(getDFfromURL(url))\n",
    "        time.sleep(0.3) # we need this to play nice! to avoid rate limit or IP ban!!\n",
    "    # https://pandas.pydata.org/pandas-docs/stable/reference/api/pandas.concat.html\n",
    "    big_df = pd.concat(df_list, ignore_index=True) # then make a big dataframe from all the small dataframes\n",
    "    if save_excel_path:\n",
    "        big_df.to_excel(save_excel_path)\n",
    "    return big_df\n",
    "    "
   ]
  },
  {
   "cell_type": "code",
   "execution_count": 77,
   "metadata": {},
   "outputs": [
    {
     "data": {
      "text/plain": [
       "'https://www.ss.com/lv/real-estate/flats/riga/centre/sell/'"
      ]
     },
     "execution_count": 77,
     "metadata": {},
     "output_type": "execute_result"
    }
   ],
   "source": [
    "centrs = url\n",
    "centrs"
   ]
  },
  {
   "cell_type": "code",
   "execution_count": 78,
   "metadata": {
    "scrolled": true
   },
   "outputs": [
    {
     "name": "stdout",
     "output_type": "stream",
     "text": [
      "Last page is 24\n",
      "Gathering data from https://www.ss.com/lv/real-estate/flats/riga/centre/sell/\n",
      "Gathering data from https://www.ss.com/lv/real-estate/flats/riga/centre/sell/page2.html\n",
      "Gathering data from https://www.ss.com/lv/real-estate/flats/riga/centre/sell/page3.html\n",
      "Gathering data from https://www.ss.com/lv/real-estate/flats/riga/centre/sell/page4.html\n",
      "Gathering data from https://www.ss.com/lv/real-estate/flats/riga/centre/sell/page5.html\n",
      "Gathering data from https://www.ss.com/lv/real-estate/flats/riga/centre/sell/page6.html\n",
      "Gathering data from https://www.ss.com/lv/real-estate/flats/riga/centre/sell/page7.html\n",
      "Gathering data from https://www.ss.com/lv/real-estate/flats/riga/centre/sell/page8.html\n",
      "Gathering data from https://www.ss.com/lv/real-estate/flats/riga/centre/sell/page9.html\n",
      "Gathering data from https://www.ss.com/lv/real-estate/flats/riga/centre/sell/page10.html\n",
      "Gathering data from https://www.ss.com/lv/real-estate/flats/riga/centre/sell/page11.html\n",
      "Gathering data from https://www.ss.com/lv/real-estate/flats/riga/centre/sell/page12.html\n",
      "Gathering data from https://www.ss.com/lv/real-estate/flats/riga/centre/sell/page13.html\n",
      "Gathering data from https://www.ss.com/lv/real-estate/flats/riga/centre/sell/page14.html\n",
      "Gathering data from https://www.ss.com/lv/real-estate/flats/riga/centre/sell/page15.html\n",
      "Gathering data from https://www.ss.com/lv/real-estate/flats/riga/centre/sell/page16.html\n",
      "Gathering data from https://www.ss.com/lv/real-estate/flats/riga/centre/sell/page17.html\n",
      "Gathering data from https://www.ss.com/lv/real-estate/flats/riga/centre/sell/page18.html\n",
      "Gathering data from https://www.ss.com/lv/real-estate/flats/riga/centre/sell/page19.html\n",
      "Gathering data from https://www.ss.com/lv/real-estate/flats/riga/centre/sell/page20.html\n",
      "Gathering data from https://www.ss.com/lv/real-estate/flats/riga/centre/sell/page21.html\n",
      "Gathering data from https://www.ss.com/lv/real-estate/flats/riga/centre/sell/page22.html\n",
      "Gathering data from https://www.ss.com/lv/real-estate/flats/riga/centre/sell/page23.html\n",
      "Gathering data from https://www.ss.com/lv/real-estate/flats/riga/centre/sell/page24.html\n"
     ]
    }
   ],
   "source": [
    "centra_df = get_all_ads_df(centrs, save_excel_path=\"centrs_dzivokli_maijs13.xlsx\")"
   ]
  },
  {
   "cell_type": "code",
   "execution_count": 79,
   "metadata": {},
   "outputs": [
    {
     "data": {
      "text/html": [
       "<div>\n",
       "<style scoped>\n",
       "    .dataframe tbody tr th:only-of-type {\n",
       "        vertical-align: middle;\n",
       "    }\n",
       "\n",
       "    .dataframe tbody tr th {\n",
       "        vertical-align: top;\n",
       "    }\n",
       "\n",
       "    .dataframe thead th {\n",
       "        text-align: right;\n",
       "    }\n",
       "</style>\n",
       "<table border=\"1\" class=\"dataframe\">\n",
       "  <thead>\n",
       "    <tr style=\"text-align: right;\">\n",
       "      <th></th>\n",
       "      <th>description</th>\n",
       "      <th>url</th>\n",
       "      <th>Iela</th>\n",
       "      <th>Ist.</th>\n",
       "      <th>m2</th>\n",
       "      <th>Stāvs</th>\n",
       "      <th>Sērija</th>\n",
       "      <th>Cena, m2</th>\n",
       "      <th>Cena</th>\n",
       "    </tr>\n",
       "  </thead>\n",
       "  <tbody>\n",
       "    <tr>\n",
       "      <th>0</th>\n",
       "      <td>Tiek pārdots gaumīgs dzīvoklis centrā ar savu ...</td>\n",
       "      <td>https://ss.com/msg/lv/real-estate/flats/riga/c...</td>\n",
       "      <td>Bruņinieku 28</td>\n",
       "      <td>4</td>\n",
       "      <td>120</td>\n",
       "      <td>3/5</td>\n",
       "      <td>P. kara</td>\n",
       "      <td>2,417 €</td>\n",
       "      <td>290,000  €</td>\n",
       "    </tr>\n",
       "    <tr>\n",
       "      <th>1</th>\n",
       "      <td>Unikāls, pilnībā aprīkots 4-istabu dzīvoklis f...</td>\n",
       "      <td>https://ss.com/msg/lv/real-estate/flats/riga/c...</td>\n",
       "      <td>Skolas 14</td>\n",
       "      <td>4</td>\n",
       "      <td>169</td>\n",
       "      <td>6/6</td>\n",
       "      <td>Renov.</td>\n",
       "      <td>1,953 €</td>\n",
       "      <td>330,000  €</td>\n",
       "    </tr>\n",
       "    <tr>\n",
       "      <th>2</th>\n",
       "      <td>Pārdod 4-istabu dzīvokli Klusajā centrā ar aut...</td>\n",
       "      <td>https://ss.com/msg/lv/real-estate/flats/riga/c...</td>\n",
       "      <td>Rūpniecības 34A</td>\n",
       "      <td>4</td>\n",
       "      <td>141</td>\n",
       "      <td>6/6</td>\n",
       "      <td>Jaun.</td>\n",
       "      <td>2,376 €</td>\n",
       "      <td>335,000  €</td>\n",
       "    </tr>\n",
       "    <tr>\n",
       "      <th>3</th>\n",
       "      <td>Komfortabls dzīvoklis . Atjaunota renovēta māj...</td>\n",
       "      <td>https://ss.com/msg/lv/real-estate/flats/riga/c...</td>\n",
       "      <td>Miera 105</td>\n",
       "      <td>2</td>\n",
       "      <td>42</td>\n",
       "      <td>1/6</td>\n",
       "      <td>Renov.</td>\n",
       "      <td>1,857 €</td>\n",
       "      <td>78,000  €</td>\n",
       "    </tr>\n",
       "    <tr>\n",
       "      <th>4</th>\n",
       "      <td>Plašs, renovējams 6 istabu dzīvoklis iekšpagal...</td>\n",
       "      <td>https://ss.com/msg/lv/real-estate/flats/riga/c...</td>\n",
       "      <td>Brīvības 72</td>\n",
       "      <td>6</td>\n",
       "      <td>173</td>\n",
       "      <td>3/6</td>\n",
       "      <td>P. kara</td>\n",
       "      <td>1,179 €</td>\n",
       "      <td>204,000  €</td>\n",
       "    </tr>\n",
       "    <tr>\n",
       "      <th>5</th>\n",
       "      <td>Ērts dzīvošanai un darbam trīsistabu dzīvoklis...</td>\n",
       "      <td>https://ss.com/msg/lv/real-estate/flats/riga/c...</td>\n",
       "      <td>Valdemāra 106</td>\n",
       "      <td>3</td>\n",
       "      <td>72</td>\n",
       "      <td>1/5</td>\n",
       "      <td>Staļina</td>\n",
       "      <td>1,400 €</td>\n",
       "      <td>100,800  €</td>\n",
       "    </tr>\n",
       "    <tr>\n",
       "      <th>6</th>\n",
       "      <td>Pārdodu plašu 3 istabu dzīvokli Rīgas centrā -...</td>\n",
       "      <td>https://ss.com/msg/lv/real-estate/flats/riga/c...</td>\n",
       "      <td>Brīvības 162</td>\n",
       "      <td>3</td>\n",
       "      <td>122</td>\n",
       "      <td>6/6</td>\n",
       "      <td>Renov.</td>\n",
       "      <td>1,516 €</td>\n",
       "      <td>185,000  €</td>\n",
       "    </tr>\n",
       "    <tr>\n",
       "      <th>7</th>\n",
       "      <td>Pārdodu skaistu, pārdomāti un kvalitatīvi remo...</td>\n",
       "      <td>https://ss.com/msg/lv/real-estate/flats/riga/c...</td>\n",
       "      <td>Brīvības 39A</td>\n",
       "      <td>3</td>\n",
       "      <td>105</td>\n",
       "      <td>5/6</td>\n",
       "      <td>Renov.</td>\n",
       "      <td>2,381 €</td>\n",
       "      <td>250,000  €</td>\n",
       "    </tr>\n",
       "    <tr>\n",
       "      <th>8</th>\n",
       "      <td>Оriģināls divu līmeņu dzīvoklis, kluss, silts ...</td>\n",
       "      <td>https://ss.com/msg/lv/real-estate/flats/riga/c...</td>\n",
       "      <td>Čaka 44</td>\n",
       "      <td>2</td>\n",
       "      <td>97</td>\n",
       "      <td>2/5</td>\n",
       "      <td>P. kara</td>\n",
       "      <td>1,103 €</td>\n",
       "      <td>107,000  €</td>\n",
       "    </tr>\n",
       "    <tr>\n",
       "      <th>9</th>\n",
       "      <td>Tiek pārdots 3 istabu studiotipa dzīvoklis, pi...</td>\n",
       "      <td>https://ss.com/msg/lv/real-estate/flats/riga/c...</td>\n",
       "      <td>Brīvības 133</td>\n",
       "      <td>3</td>\n",
       "      <td>53</td>\n",
       "      <td>3/4</td>\n",
       "      <td>P. kara</td>\n",
       "      <td>1,660 €</td>\n",
       "      <td>88,000  €</td>\n",
       "    </tr>\n",
       "  </tbody>\n",
       "</table>\n",
       "</div>"
      ],
      "text/plain": [
       "                                         description  \\\n",
       "0  Tiek pārdots gaumīgs dzīvoklis centrā ar savu ...   \n",
       "1  Unikāls, pilnībā aprīkots 4-istabu dzīvoklis f...   \n",
       "2  Pārdod 4-istabu dzīvokli Klusajā centrā ar aut...   \n",
       "3  Komfortabls dzīvoklis . Atjaunota renovēta māj...   \n",
       "4  Plašs, renovējams 6 istabu dzīvoklis iekšpagal...   \n",
       "5  Ērts dzīvošanai un darbam trīsistabu dzīvoklis...   \n",
       "6  Pārdodu plašu 3 istabu dzīvokli Rīgas centrā -...   \n",
       "7  Pārdodu skaistu, pārdomāti un kvalitatīvi remo...   \n",
       "8  Оriģināls divu līmeņu dzīvoklis, kluss, silts ...   \n",
       "9  Tiek pārdots 3 istabu studiotipa dzīvoklis, pi...   \n",
       "\n",
       "                                                 url             Iela Ist.  \\\n",
       "0  https://ss.com/msg/lv/real-estate/flats/riga/c...    Bruņinieku 28    4   \n",
       "1  https://ss.com/msg/lv/real-estate/flats/riga/c...        Skolas 14    4   \n",
       "2  https://ss.com/msg/lv/real-estate/flats/riga/c...  Rūpniecības 34A    4   \n",
       "3  https://ss.com/msg/lv/real-estate/flats/riga/c...        Miera 105    2   \n",
       "4  https://ss.com/msg/lv/real-estate/flats/riga/c...      Brīvības 72    6   \n",
       "5  https://ss.com/msg/lv/real-estate/flats/riga/c...    Valdemāra 106    3   \n",
       "6  https://ss.com/msg/lv/real-estate/flats/riga/c...     Brīvības 162    3   \n",
       "7  https://ss.com/msg/lv/real-estate/flats/riga/c...     Brīvības 39A    3   \n",
       "8  https://ss.com/msg/lv/real-estate/flats/riga/c...          Čaka 44    2   \n",
       "9  https://ss.com/msg/lv/real-estate/flats/riga/c...     Brīvības 133    3   \n",
       "\n",
       "    m2 Stāvs   Sērija Cena, m2        Cena  \n",
       "0  120   3/5  P. kara  2,417 €  290,000  €  \n",
       "1  169   6/6   Renov.  1,953 €  330,000  €  \n",
       "2  141   6/6    Jaun.  2,376 €  335,000  €  \n",
       "3   42   1/6   Renov.  1,857 €   78,000  €  \n",
       "4  173   3/6  P. kara  1,179 €  204,000  €  \n",
       "5   72   1/5  Staļina  1,400 €  100,800  €  \n",
       "6  122   6/6   Renov.  1,516 €  185,000  €  \n",
       "7  105   5/6   Renov.  2,381 €  250,000  €  \n",
       "8   97   2/5  P. kara  1,103 €  107,000  €  \n",
       "9   53   3/4  P. kara  1,660 €   88,000  €  "
      ]
     },
     "execution_count": 79,
     "metadata": {},
     "output_type": "execute_result"
    }
   ],
   "source": [
    "centra_df.head(10)"
   ]
  },
  {
   "cell_type": "code",
   "execution_count": 72,
   "metadata": {},
   "outputs": [
    {
     "data": {
      "text/plain": [
       "'https://www.ss.com/lv/real-estate/homes-summer-residences/riga-region/all/sell/'"
      ]
     },
     "execution_count": 72,
     "metadata": {},
     "output_type": "execute_result"
    }
   ],
   "source": [
    "url"
   ]
  },
  {
   "cell_type": "code",
   "execution_count": 74,
   "metadata": {},
   "outputs": [
    {
     "name": "stdout",
     "output_type": "stream",
     "text": [
      "Last page is 17\n",
      "Gathering data from https://www.ss.com/lv/real-estate/homes-summer-residences/riga-region/all/sell/\n",
      "Gathering data from https://www.ss.com/lv/real-estate/homes-summer-residences/riga-region/all/sell/page2.html\n",
      "Gathering data from https://www.ss.com/lv/real-estate/homes-summer-residences/riga-region/all/sell/page3.html\n",
      "Gathering data from https://www.ss.com/lv/real-estate/homes-summer-residences/riga-region/all/sell/page4.html\n",
      "Gathering data from https://www.ss.com/lv/real-estate/homes-summer-residences/riga-region/all/sell/page5.html\n",
      "Gathering data from https://www.ss.com/lv/real-estate/homes-summer-residences/riga-region/all/sell/page6.html\n",
      "Gathering data from https://www.ss.com/lv/real-estate/homes-summer-residences/riga-region/all/sell/page7.html\n",
      "Gathering data from https://www.ss.com/lv/real-estate/homes-summer-residences/riga-region/all/sell/page8.html\n",
      "Gathering data from https://www.ss.com/lv/real-estate/homes-summer-residences/riga-region/all/sell/page9.html\n",
      "Gathering data from https://www.ss.com/lv/real-estate/homes-summer-residences/riga-region/all/sell/page10.html\n",
      "Gathering data from https://www.ss.com/lv/real-estate/homes-summer-residences/riga-region/all/sell/page11.html\n",
      "Gathering data from https://www.ss.com/lv/real-estate/homes-summer-residences/riga-region/all/sell/page12.html\n",
      "Gathering data from https://www.ss.com/lv/real-estate/homes-summer-residences/riga-region/all/sell/page13.html\n",
      "Gathering data from https://www.ss.com/lv/real-estate/homes-summer-residences/riga-region/all/sell/page14.html\n",
      "Gathering data from https://www.ss.com/lv/real-estate/homes-summer-residences/riga-region/all/sell/page15.html\n",
      "Gathering data from https://www.ss.com/lv/real-estate/homes-summer-residences/riga-region/all/sell/page16.html\n",
      "Gathering data from https://www.ss.com/lv/real-estate/homes-summer-residences/riga-region/all/sell/page17.html\n"
     ]
    }
   ],
   "source": [
    "riga_region = get_all_ads_df(url, \"riga_region_sep28.xlsx\")"
   ]
  },
  {
   "cell_type": "code",
   "execution_count": 75,
   "metadata": {},
   "outputs": [
    {
     "data": {
      "text/plain": [
       "(506, 7)"
      ]
     },
     "execution_count": 75,
     "metadata": {},
     "output_type": "execute_result"
    }
   ],
   "source": [
    "riga_region.shape"
   ]
  },
  {
   "cell_type": "code",
   "execution_count": 76,
   "metadata": {},
   "outputs": [
    {
     "data": {
      "text/html": [
       "<div>\n",
       "<style scoped>\n",
       "    .dataframe tbody tr th:only-of-type {\n",
       "        vertical-align: middle;\n",
       "    }\n",
       "\n",
       "    .dataframe tbody tr th {\n",
       "        vertical-align: top;\n",
       "    }\n",
       "\n",
       "    .dataframe thead th {\n",
       "        text-align: right;\n",
       "    }\n",
       "</style>\n",
       "<table border=\"1\" class=\"dataframe\">\n",
       "  <thead>\n",
       "    <tr style=\"text-align: right;\">\n",
       "      <th></th>\n",
       "      <th>description</th>\n",
       "      <th>url</th>\n",
       "      <th>Pagasts</th>\n",
       "      <th>m2</th>\n",
       "      <th>Stāvi</th>\n",
       "      <th>Zem. pl.</th>\n",
       "      <th>Cena</th>\n",
       "    </tr>\n",
       "  </thead>\n",
       "  <tbody>\n",
       "    <tr>\n",
       "      <th>0</th>\n",
       "      <td>Pārdošanā plaša un mājīga divu stāvu māja ļoti...</td>\n",
       "      <td>https://ss.com/msg/lv/real-estate/homes-summer...</td>\n",
       "      <td>Sigulda</td>\n",
       "      <td>480</td>\n",
       "      <td>3</td>\n",
       "      <td>1928 m²</td>\n",
       "      <td>250,000  €</td>\n",
       "    </tr>\n",
       "    <tr>\n",
       "      <th>1</th>\n",
       "      <td>Tiek pārdota omulīga privātmāja Gaujā. Ir veik...</td>\n",
       "      <td>https://ss.com/msg/lv/real-estate/homes-summer...</td>\n",
       "      <td>Carnikavas nov.Gauja</td>\n",
       "      <td>210</td>\n",
       "      <td>2</td>\n",
       "      <td>1000 m²</td>\n",
       "      <td>160,000  €</td>\n",
       "    </tr>\n",
       "    <tr>\n",
       "      <th>2</th>\n",
       "      <td>Pārdodu zemes gabala domājamo daļu 750 kv. m. ...</td>\n",
       "      <td>https://ss.com/msg/lv/real-estate/homes-summer...</td>\n",
       "      <td>Mārupes pag.Mārupe</td>\n",
       "      <td>203</td>\n",
       "      <td>2</td>\n",
       "      <td>750 m²</td>\n",
       "      <td>135,000  €</td>\n",
       "    </tr>\n",
       "    <tr>\n",
       "      <th>3</th>\n",
       "      <td>Kārtīgi celta māja ar sakoptu dārzu un siltumn...</td>\n",
       "      <td>https://ss.com/msg/lv/real-estate/homes-summer...</td>\n",
       "      <td>Saulkrasti</td>\n",
       "      <td>85</td>\n",
       "      <td>2</td>\n",
       "      <td>580 m²</td>\n",
       "      <td>46,800  €</td>\n",
       "    </tr>\n",
       "    <tr>\n",
       "      <th>4</th>\n",
       "      <td>Pārdod māju Katlakalnā. Māja atrodas lieliskā ...</td>\n",
       "      <td>https://ss.com/msg/lv/real-estate/homes-summer...</td>\n",
       "      <td>Ķekavas pag.Katlakalns</td>\n",
       "      <td>278</td>\n",
       "      <td>2</td>\n",
       "      <td>1200 m²</td>\n",
       "      <td>265,000  €</td>\n",
       "    </tr>\n",
       "    <tr>\n",
       "      <th>5</th>\n",
       "      <td>Дом у озера в Букулты на продажу\\r\\n\\r\\nПланир...</td>\n",
       "      <td>https://ss.com/msg/lv/real-estate/homes-summer...</td>\n",
       "      <td>Garkalnes nov.Bukulti</td>\n",
       "      <td>590</td>\n",
       "      <td>3</td>\n",
       "      <td>1900 m²</td>\n",
       "      <td>349,000  €</td>\n",
       "    </tr>\n",
       "    <tr>\n",
       "      <th>6</th>\n",
       "      <td>Дом в Суниши. \\r\\nНаходится в частной, закрыто...</td>\n",
       "      <td>https://ss.com/msg/lv/real-estate/homes-summer...</td>\n",
       "      <td>Garkalnes nov.Sunīši</td>\n",
       "      <td>192</td>\n",
       "      <td>2</td>\n",
       "      <td>1346 m²</td>\n",
       "      <td>315,000  €</td>\n",
       "    </tr>\n",
       "    <tr>\n",
       "      <th>7</th>\n",
       "      <td>Brīnišķīgs īpašums, pašā Mārupes sirdī, grezna...</td>\n",
       "      <td>https://ss.com/msg/lv/real-estate/homes-summer...</td>\n",
       "      <td>Mārupes pag.Mārupe</td>\n",
       "      <td>226</td>\n",
       "      <td>2</td>\n",
       "      <td>1352 m²</td>\n",
       "      <td>490,000  €</td>\n",
       "    </tr>\n",
       "    <tr>\n",
       "      <th>8</th>\n",
       "      <td>Tiek pārdota kapitāli un rūpīgi būvēta privātm...</td>\n",
       "      <td>https://ss.com/msg/lv/real-estate/homes-summer...</td>\n",
       "      <td>Babītes pag.Spilve</td>\n",
       "      <td>199</td>\n",
       "      <td>1</td>\n",
       "      <td>1573 m²</td>\n",
       "      <td>300,000  €</td>\n",
       "    </tr>\n",
       "    <tr>\n",
       "      <th>9</th>\n",
       "      <td>Mājīgs īpašums Dreiliņos - rindu mājā, kas noz...</td>\n",
       "      <td>https://ss.com/msg/lv/real-estate/homes-summer...</td>\n",
       "      <td>Stopiņu nov.Dreiliņi</td>\n",
       "      <td>221</td>\n",
       "      <td>2</td>\n",
       "      <td>626 m²</td>\n",
       "      <td>230,000  €</td>\n",
       "    </tr>\n",
       "  </tbody>\n",
       "</table>\n",
       "</div>"
      ],
      "text/plain": [
       "                                         description  \\\n",
       "0  Pārdošanā plaša un mājīga divu stāvu māja ļoti...   \n",
       "1  Tiek pārdota omulīga privātmāja Gaujā. Ir veik...   \n",
       "2  Pārdodu zemes gabala domājamo daļu 750 kv. m. ...   \n",
       "3  Kārtīgi celta māja ar sakoptu dārzu un siltumn...   \n",
       "4  Pārdod māju Katlakalnā. Māja atrodas lieliskā ...   \n",
       "5  Дом у озера в Букулты на продажу\\r\\n\\r\\nПланир...   \n",
       "6  Дом в Суниши. \\r\\nНаходится в частной, закрыто...   \n",
       "7  Brīnišķīgs īpašums, pašā Mārupes sirdī, grezna...   \n",
       "8  Tiek pārdota kapitāli un rūpīgi būvēta privātm...   \n",
       "9  Mājīgs īpašums Dreiliņos - rindu mājā, kas noz...   \n",
       "\n",
       "                                                 url                 Pagasts  \\\n",
       "0  https://ss.com/msg/lv/real-estate/homes-summer...                 Sigulda   \n",
       "1  https://ss.com/msg/lv/real-estate/homes-summer...    Carnikavas nov.Gauja   \n",
       "2  https://ss.com/msg/lv/real-estate/homes-summer...      Mārupes pag.Mārupe   \n",
       "3  https://ss.com/msg/lv/real-estate/homes-summer...              Saulkrasti   \n",
       "4  https://ss.com/msg/lv/real-estate/homes-summer...  Ķekavas pag.Katlakalns   \n",
       "5  https://ss.com/msg/lv/real-estate/homes-summer...   Garkalnes nov.Bukulti   \n",
       "6  https://ss.com/msg/lv/real-estate/homes-summer...    Garkalnes nov.Sunīši   \n",
       "7  https://ss.com/msg/lv/real-estate/homes-summer...      Mārupes pag.Mārupe   \n",
       "8  https://ss.com/msg/lv/real-estate/homes-summer...      Babītes pag.Spilve   \n",
       "9  https://ss.com/msg/lv/real-estate/homes-summer...    Stopiņu nov.Dreiliņi   \n",
       "\n",
       "    m2 Stāvi Zem. pl.        Cena  \n",
       "0  480     3  1928 m²  250,000  €  \n",
       "1  210     2  1000 m²  160,000  €  \n",
       "2  203     2   750 m²  135,000  €  \n",
       "3   85     2   580 m²   46,800  €  \n",
       "4  278     2  1200 m²  265,000  €  \n",
       "5  590     3  1900 m²  349,000  €  \n",
       "6  192     2  1346 m²  315,000  €  \n",
       "7  226     2  1352 m²  490,000  €  \n",
       "8  199     1  1573 m²  300,000  €  \n",
       "9  221     2   626 m²  230,000  €  "
      ]
     },
     "execution_count": 76,
     "metadata": {},
     "output_type": "execute_result"
    }
   ],
   "source": [
    "riga_region.head(10)"
   ]
  },
  {
   "cell_type": "code",
   "execution_count": 77,
   "metadata": {},
   "outputs": [
    {
     "data": {
      "text/html": [
       "<div>\n",
       "<style scoped>\n",
       "    .dataframe tbody tr th:only-of-type {\n",
       "        vertical-align: middle;\n",
       "    }\n",
       "\n",
       "    .dataframe tbody tr th {\n",
       "        vertical-align: top;\n",
       "    }\n",
       "\n",
       "    .dataframe thead th {\n",
       "        text-align: right;\n",
       "    }\n",
       "</style>\n",
       "<table border=\"1\" class=\"dataframe\">\n",
       "  <thead>\n",
       "    <tr style=\"text-align: right;\">\n",
       "      <th></th>\n",
       "      <th>description</th>\n",
       "      <th>url</th>\n",
       "      <th>Pagasts</th>\n",
       "      <th>m2</th>\n",
       "      <th>Stāvi</th>\n",
       "      <th>Zem. pl.</th>\n",
       "      <th>Cena</th>\n",
       "    </tr>\n",
       "  </thead>\n",
       "  <tbody>\n",
       "    <tr>\n",
       "      <th>16</th>\n",
       "      <td>Продается двухэтажный кирпичный дом с ухоженны...</td>\n",
       "      <td>https://ss.com/msg/lv/real-estate/homes-summer...</td>\n",
       "      <td>Inčukalna nov.Egļupe</td>\n",
       "      <td>112</td>\n",
       "      <td>2</td>\n",
       "      <td>643 m²</td>\n",
       "      <td>36,000  €</td>\n",
       "    </tr>\n",
       "    <tr>\n",
       "      <th>17</th>\n",
       "      <td>Pārdodu kvalitatīvu, skaistu un ļoti siltu māj...</td>\n",
       "      <td>https://ss.com/msg/lv/real-estate/homes-summer...</td>\n",
       "      <td>Olaines pag.Jaunolaine</td>\n",
       "      <td>240</td>\n",
       "      <td>2</td>\n",
       "      <td>900 m²</td>\n",
       "      <td>239,000  €</td>\n",
       "    </tr>\n",
       "    <tr>\n",
       "      <th>18</th>\n",
       "      <td>Продается новостройка в стадии строительства -...</td>\n",
       "      <td>https://ss.com/msg/lv/real-estate/homes-summer...</td>\n",
       "      <td>Salaspils l. t.Piķurgas</td>\n",
       "      <td>78</td>\n",
       "      <td>1</td>\n",
       "      <td>1200 m²</td>\n",
       "      <td>78,000  €</td>\n",
       "    </tr>\n",
       "    <tr>\n",
       "      <th>19</th>\n",
       "      <td>Pārdošanā mājīgs īpašums privātmāju ciematā \"P...</td>\n",
       "      <td>https://ss.com/msg/lv/real-estate/homes-summer...</td>\n",
       "      <td>Garkalnes nov.Upesciems</td>\n",
       "      <td>153</td>\n",
       "      <td>1</td>\n",
       "      <td>1045 m²</td>\n",
       "      <td>261,700  €</td>\n",
       "    </tr>\n",
       "    <tr>\n",
       "      <th>20</th>\n",
       "      <td>Pārdod mūsdienīgu energoefektīvu privātmāju ar...</td>\n",
       "      <td>https://ss.com/msg/lv/real-estate/homes-summer...</td>\n",
       "      <td>Stopiņu nov.Vālodzes</td>\n",
       "      <td>235</td>\n",
       "      <td>2</td>\n",
       "      <td>1000 m²</td>\n",
       "      <td>390,000  €</td>\n",
       "    </tr>\n",
       "    <tr>\n",
       "      <th>21</th>\n",
       "      <td>Lat: Laba vasarnīca labā vietā, netālu no Rīga...</td>\n",
       "      <td>https://ss.com/msg/lv/real-estate/homes-summer...</td>\n",
       "      <td>Saulkrastu l. t.Priedes</td>\n",
       "      <td>100</td>\n",
       "      <td>2</td>\n",
       "      <td>600 m²</td>\n",
       "      <td>28,000  €</td>\n",
       "    </tr>\n",
       "    <tr>\n",
       "      <th>22</th>\n",
       "      <td>Расположен в 10 км от Юрмалы, 7 км от аэропорт...</td>\n",
       "      <td>https://ss.com/msg/lv/real-estate/homes-summer...</td>\n",
       "      <td>Babītes pag.Liberi</td>\n",
       "      <td>520</td>\n",
       "      <td>4</td>\n",
       "      <td>1861 m²</td>\n",
       "      <td>440,000  €</td>\n",
       "    </tr>\n",
       "    <tr>\n",
       "      <th>23</th>\n",
       "      <td>Īpašnieks pārdod privātmāju ar kopējo platību ...</td>\n",
       "      <td>https://ss.com/msg/lv/real-estate/homes-summer...</td>\n",
       "      <td>Salaspils l. t.Pikalne</td>\n",
       "      <td>99</td>\n",
       "      <td>1</td>\n",
       "      <td>352 m²</td>\n",
       "      <td>77,000  €</td>\n",
       "    </tr>\n",
       "    <tr>\n",
       "      <th>24</th>\n",
       "      <td>Pārdod zemi ar mājiņu, kurā ir ievikts ūdens, ...</td>\n",
       "      <td>https://ss.com/msg/lv/real-estate/homes-summer...</td>\n",
       "      <td>Inčukalna nov.Egļupe</td>\n",
       "      <td>25</td>\n",
       "      <td>1</td>\n",
       "      <td>16000 m²</td>\n",
       "      <td>35,000  €</td>\n",
       "    </tr>\n",
       "    <tr>\n",
       "      <th>25</th>\n",
       "      <td>Dzīvojamā māja ar baseinu un savu dīķi klusā v...</td>\n",
       "      <td>https://ss.com/msg/lv/real-estate/homes-summer...</td>\n",
       "      <td>Carnikavas nov.Kalngale</td>\n",
       "      <td>494</td>\n",
       "      <td>3</td>\n",
       "      <td>2400 m²</td>\n",
       "      <td>290,000  €</td>\n",
       "    </tr>\n",
       "  </tbody>\n",
       "</table>\n",
       "</div>"
      ],
      "text/plain": [
       "                                          description  \\\n",
       "16  Продается двухэтажный кирпичный дом с ухоженны...   \n",
       "17  Pārdodu kvalitatīvu, skaistu un ļoti siltu māj...   \n",
       "18  Продается новостройка в стадии строительства -...   \n",
       "19  Pārdošanā mājīgs īpašums privātmāju ciematā \"P...   \n",
       "20  Pārdod mūsdienīgu energoefektīvu privātmāju ar...   \n",
       "21  Lat: Laba vasarnīca labā vietā, netālu no Rīga...   \n",
       "22  Расположен в 10 км от Юрмалы, 7 км от аэропорт...   \n",
       "23  Īpašnieks pārdod privātmāju ar kopējo platību ...   \n",
       "24  Pārdod zemi ar mājiņu, kurā ir ievikts ūdens, ...   \n",
       "25  Dzīvojamā māja ar baseinu un savu dīķi klusā v...   \n",
       "\n",
       "                                                  url  \\\n",
       "16  https://ss.com/msg/lv/real-estate/homes-summer...   \n",
       "17  https://ss.com/msg/lv/real-estate/homes-summer...   \n",
       "18  https://ss.com/msg/lv/real-estate/homes-summer...   \n",
       "19  https://ss.com/msg/lv/real-estate/homes-summer...   \n",
       "20  https://ss.com/msg/lv/real-estate/homes-summer...   \n",
       "21  https://ss.com/msg/lv/real-estate/homes-summer...   \n",
       "22  https://ss.com/msg/lv/real-estate/homes-summer...   \n",
       "23  https://ss.com/msg/lv/real-estate/homes-summer...   \n",
       "24  https://ss.com/msg/lv/real-estate/homes-summer...   \n",
       "25  https://ss.com/msg/lv/real-estate/homes-summer...   \n",
       "\n",
       "                    Pagasts   m2 Stāvi  Zem. pl.        Cena  \n",
       "16     Inčukalna nov.Egļupe  112     2    643 m²   36,000  €  \n",
       "17   Olaines pag.Jaunolaine  240     2    900 m²  239,000  €  \n",
       "18  Salaspils l. t.Piķurgas   78     1   1200 m²   78,000  €  \n",
       "19  Garkalnes nov.Upesciems  153     1   1045 m²  261,700  €  \n",
       "20     Stopiņu nov.Vālodzes  235     2   1000 m²  390,000  €  \n",
       "21  Saulkrastu l. t.Priedes  100     2    600 m²   28,000  €  \n",
       "22       Babītes pag.Liberi  520     4   1861 m²  440,000  €  \n",
       "23   Salaspils l. t.Pikalne   99     1    352 m²   77,000  €  \n",
       "24     Inčukalna nov.Egļupe   25     1  16000 m²   35,000  €  \n",
       "25  Carnikavas nov.Kalngale  494     3   2400 m²  290,000  €  "
      ]
     },
     "execution_count": 77,
     "metadata": {},
     "output_type": "execute_result"
    }
   ],
   "source": [
    "riga_region.tail(10)"
   ]
  },
  {
   "cell_type": "code",
   "execution_count": 73,
   "metadata": {},
   "outputs": [
    {
     "name": "stdout",
     "output_type": "stream",
     "text": [
      "Last page is 3\n",
      "Gathering data from https://www.ss.com/lv/real-estate/flats/riga/agenskalns/sell/\n",
      "Gathering data from https://www.ss.com/lv/real-estate/flats/riga/agenskalns/sell/page2.html\n",
      "Gathering data from https://www.ss.com/lv/real-estate/flats/riga/agenskalns/sell/page3.html\n"
     ]
    },
    {
     "data": {
      "text/html": [
       "<div>\n",
       "<style scoped>\n",
       "    .dataframe tbody tr th:only-of-type {\n",
       "        vertical-align: middle;\n",
       "    }\n",
       "\n",
       "    .dataframe tbody tr th {\n",
       "        vertical-align: top;\n",
       "    }\n",
       "\n",
       "    .dataframe thead th {\n",
       "        text-align: right;\n",
       "    }\n",
       "</style>\n",
       "<table border=\"1\" class=\"dataframe\">\n",
       "  <thead>\n",
       "    <tr style=\"text-align: right;\">\n",
       "      <th></th>\n",
       "      <th>description</th>\n",
       "      <th>url</th>\n",
       "      <th>Iela</th>\n",
       "      <th>Ist.</th>\n",
       "      <th>m2</th>\n",
       "      <th>Stāvs</th>\n",
       "      <th>Sērija</th>\n",
       "      <th>Cena, m2</th>\n",
       "      <th>Cena</th>\n",
       "    </tr>\n",
       "  </thead>\n",
       "  <tbody>\n",
       "    <tr>\n",
       "      <th>0</th>\n",
       "      <td>In a prestigious new building, with an excelle...</td>\n",
       "      <td>https://ss.com/msg/lv/real-estate/flats/riga/a...</td>\n",
       "      <td>Kalnciema 9a</td>\n",
       "      <td>3</td>\n",
       "      <td>84</td>\n",
       "      <td>4/10</td>\n",
       "      <td>Jaun.</td>\n",
       "      <td>2,101 €</td>\n",
       "      <td>176,500  €</td>\n",
       "    </tr>\n",
       "    <tr>\n",
       "      <th>1</th>\n",
       "      <td>Pārdod divistabu dzīvokli Āgenskalnā. Pie māja...</td>\n",
       "      <td>https://ss.com/msg/lv/real-estate/flats/riga/a...</td>\n",
       "      <td>Raņķa d. 7/3</td>\n",
       "      <td>2</td>\n",
       "      <td>42</td>\n",
       "      <td>1/5</td>\n",
       "      <td>Hrušč.</td>\n",
       "      <td>1,512 €</td>\n",
       "      <td>63,500  €</td>\n",
       "    </tr>\n",
       "    <tr>\n",
       "      <th>2</th>\n",
       "      <td>Pārdod vienistabas dzīvokli Āgenskalnā, pretīm...</td>\n",
       "      <td>https://ss.com/msg/lv/real-estate/flats/riga/a...</td>\n",
       "      <td>Ventspils 25</td>\n",
       "      <td>1</td>\n",
       "      <td>24</td>\n",
       "      <td>2/2</td>\n",
       "      <td>P. kara</td>\n",
       "      <td>496 €</td>\n",
       "      <td>11,900  €</td>\n",
       "    </tr>\n",
       "    <tr>\n",
       "      <th>3</th>\n",
       "      <td>Steidzami tiek pārdots 2-istabas dzīvoklis. \\r...</td>\n",
       "      <td>https://ss.com/msg/lv/real-estate/flats/riga/a...</td>\n",
       "      <td>Auces 3</td>\n",
       "      <td>2</td>\n",
       "      <td>47</td>\n",
       "      <td>3/3</td>\n",
       "      <td>P. kara</td>\n",
       "      <td>2,085 €</td>\n",
       "      <td>98,000  €</td>\n",
       "    </tr>\n",
       "    <tr>\n",
       "      <th>4</th>\n",
       "      <td>Pārdod jauku un mājīgu 2 istabu dzīvokli Āgens...</td>\n",
       "      <td>https://ss.com/msg/lv/real-estate/flats/riga/a...</td>\n",
       "      <td>Ventspils 13</td>\n",
       "      <td>2</td>\n",
       "      <td>50</td>\n",
       "      <td>1/5</td>\n",
       "      <td>P. kara</td>\n",
       "      <td>800 €</td>\n",
       "      <td>40,000  €</td>\n",
       "    </tr>\n",
       "  </tbody>\n",
       "</table>\n",
       "</div>"
      ],
      "text/plain": [
       "                                         description  \\\n",
       "0  In a prestigious new building, with an excelle...   \n",
       "1  Pārdod divistabu dzīvokli Āgenskalnā. Pie māja...   \n",
       "2  Pārdod vienistabas dzīvokli Āgenskalnā, pretīm...   \n",
       "3  Steidzami tiek pārdots 2-istabas dzīvoklis. \\r...   \n",
       "4  Pārdod jauku un mājīgu 2 istabu dzīvokli Āgens...   \n",
       "\n",
       "                                                 url          Iela Ist.  m2  \\\n",
       "0  https://ss.com/msg/lv/real-estate/flats/riga/a...  Kalnciema 9a    3  84   \n",
       "1  https://ss.com/msg/lv/real-estate/flats/riga/a...  Raņķa d. 7/3    2  42   \n",
       "2  https://ss.com/msg/lv/real-estate/flats/riga/a...  Ventspils 25    1  24   \n",
       "3  https://ss.com/msg/lv/real-estate/flats/riga/a...       Auces 3    2  47   \n",
       "4  https://ss.com/msg/lv/real-estate/flats/riga/a...  Ventspils 13    2  50   \n",
       "\n",
       "  Stāvs   Sērija Cena, m2        Cena  \n",
       "0  4/10    Jaun.  2,101 €  176,500  €  \n",
       "1   1/5   Hrušč.  1,512 €   63,500  €  \n",
       "2   2/2  P. kara    496 €   11,900  €  \n",
       "3   3/3  P. kara  2,085 €   98,000  €  \n",
       "4   1/5  P. kara    800 €   40,000  €  "
      ]
     },
     "execution_count": 73,
     "metadata": {},
     "output_type": "execute_result"
    }
   ],
   "source": [
    "agens = \"https://www.ss.com/lv/real-estate/flats/riga/agenskalns/sell/\"\n",
    "df = get_all_ads_df(agens, \"agens_27_09.xlsx\")\n",
    "df.head()"
   ]
  },
  {
   "cell_type": "code",
   "execution_count": 80,
   "metadata": {},
   "outputs": [
    {
     "data": {
      "text/plain": [
       "(715, 9)"
      ]
     },
     "execution_count": 80,
     "metadata": {},
     "output_type": "execute_result"
    }
   ],
   "source": [
    "centra_df.shape"
   ]
  },
  {
   "cell_type": "code",
   "execution_count": 81,
   "metadata": {},
   "outputs": [
    {
     "data": {
      "text/plain": [
       "(715, 9)"
      ]
     },
     "execution_count": 81,
     "metadata": {},
     "output_type": "execute_result"
    }
   ],
   "source": [
    "df = centra_df  # alias\n",
    "df.shape"
   ]
  },
  {
   "cell_type": "code",
   "execution_count": 82,
   "metadata": {},
   "outputs": [
    {
     "data": {
      "text/plain": [
       "(715, 9)"
      ]
     },
     "execution_count": 82,
     "metadata": {},
     "output_type": "execute_result"
    }
   ],
   "source": [
    "df.shape"
   ]
  },
  {
   "cell_type": "code",
   "execution_count": 83,
   "metadata": {},
   "outputs": [
    {
     "data": {
      "text/plain": [
       "Index(['description', 'url', 'Iela', 'Ist.', 'm2', 'Stāvs', 'Sērija',\n",
       "       'Cena, m2', 'Cena'],\n",
       "      dtype='object')"
      ]
     },
     "execution_count": 83,
     "metadata": {},
     "output_type": "execute_result"
    }
   ],
   "source": [
    "df.columns"
   ]
  },
  {
   "cell_type": "code",
   "execution_count": 84,
   "metadata": {},
   "outputs": [
    {
     "name": "stdout",
     "output_type": "stream",
     "text": [
      "<class 'pandas.core.frame.DataFrame'>\n",
      "RangeIndex: 715 entries, 0 to 714\n",
      "Data columns (total 9 columns):\n",
      " #   Column       Non-Null Count  Dtype \n",
      "---  ------       --------------  ----- \n",
      " 0   description  715 non-null    object\n",
      " 1   url          715 non-null    object\n",
      " 2   Iela         715 non-null    object\n",
      " 3   Ist.         715 non-null    object\n",
      " 4   m2           715 non-null    object\n",
      " 5   Stāvs        715 non-null    object\n",
      " 6   Sērija       715 non-null    object\n",
      " 7   Cena, m2     715 non-null    object\n",
      " 8   Cena         715 non-null    object\n",
      "dtypes: object(9)\n",
      "memory usage: 50.4+ KB\n"
     ]
    }
   ],
   "source": [
    "df.info()"
   ]
  },
  {
   "cell_type": "code",
   "execution_count": 75,
   "metadata": {},
   "outputs": [
    {
     "name": "stdout",
     "output_type": "stream",
     "text": [
      "Last page is 21\n",
      "Gathering data from https://www.ss.com/lv/real-estate/flats/riga/centre/sell/\n",
      "Gathering data from https://www.ss.com/lv/real-estate/flats/riga/centre/sell/page2.html\n",
      "Gathering data from https://www.ss.com/lv/real-estate/flats/riga/centre/sell/page3.html\n",
      "Gathering data from https://www.ss.com/lv/real-estate/flats/riga/centre/sell/page4.html\n",
      "Gathering data from https://www.ss.com/lv/real-estate/flats/riga/centre/sell/page5.html\n",
      "Gathering data from https://www.ss.com/lv/real-estate/flats/riga/centre/sell/page6.html\n",
      "Gathering data from https://www.ss.com/lv/real-estate/flats/riga/centre/sell/page7.html\n",
      "Gathering data from https://www.ss.com/lv/real-estate/flats/riga/centre/sell/page8.html\n",
      "Gathering data from https://www.ss.com/lv/real-estate/flats/riga/centre/sell/page9.html\n",
      "Gathering data from https://www.ss.com/lv/real-estate/flats/riga/centre/sell/page10.html\n",
      "Gathering data from https://www.ss.com/lv/real-estate/flats/riga/centre/sell/page11.html\n",
      "Gathering data from https://www.ss.com/lv/real-estate/flats/riga/centre/sell/page12.html\n",
      "Gathering data from https://www.ss.com/lv/real-estate/flats/riga/centre/sell/page13.html\n",
      "Gathering data from https://www.ss.com/lv/real-estate/flats/riga/centre/sell/page14.html\n",
      "Gathering data from https://www.ss.com/lv/real-estate/flats/riga/centre/sell/page15.html\n",
      "Gathering data from https://www.ss.com/lv/real-estate/flats/riga/centre/sell/page16.html\n",
      "Gathering data from https://www.ss.com/lv/real-estate/flats/riga/centre/sell/page17.html\n",
      "Gathering data from https://www.ss.com/lv/real-estate/flats/riga/centre/sell/page18.html\n",
      "Gathering data from https://www.ss.com/lv/real-estate/flats/riga/centre/sell/page19.html\n",
      "Gathering data from https://www.ss.com/lv/real-estate/flats/riga/centre/sell/page20.html\n",
      "Gathering data from https://www.ss.com/lv/real-estate/flats/riga/centre/sell/page21.html\n"
     ]
    }
   ],
   "source": [
    "df = get_all_ads_df(centrs, \"centrs_27_09.xlsx\")"
   ]
  },
  {
   "cell_type": "code",
   "execution_count": 67,
   "metadata": {},
   "outputs": [],
   "source": [
    "df = centra_df"
   ]
  },
  {
   "cell_type": "code",
   "execution_count": 68,
   "metadata": {},
   "outputs": [
    {
     "data": {
      "text/plain": [
       "(596, 9)"
      ]
     },
     "execution_count": 68,
     "metadata": {},
     "output_type": "execute_result"
    }
   ],
   "source": [
    "df.shape"
   ]
  },
  {
   "cell_type": "code",
   "execution_count": 85,
   "metadata": {},
   "outputs": [
    {
     "data": {
      "text/html": [
       "<div>\n",
       "<style scoped>\n",
       "    .dataframe tbody tr th:only-of-type {\n",
       "        vertical-align: middle;\n",
       "    }\n",
       "\n",
       "    .dataframe tbody tr th {\n",
       "        vertical-align: top;\n",
       "    }\n",
       "\n",
       "    .dataframe thead th {\n",
       "        text-align: right;\n",
       "    }\n",
       "</style>\n",
       "<table border=\"1\" class=\"dataframe\">\n",
       "  <thead>\n",
       "    <tr style=\"text-align: right;\">\n",
       "      <th></th>\n",
       "      <th>description</th>\n",
       "      <th>url</th>\n",
       "      <th>Iela</th>\n",
       "      <th>Ist.</th>\n",
       "      <th>m2</th>\n",
       "      <th>Stāvs</th>\n",
       "      <th>Sērija</th>\n",
       "      <th>Cena, m2</th>\n",
       "      <th>Cena</th>\n",
       "    </tr>\n",
       "  </thead>\n",
       "  <tbody>\n",
       "    <tr>\n",
       "      <th>0</th>\n",
       "      <td>Tiek pārdots gaumīgs dzīvoklis centrā ar savu ...</td>\n",
       "      <td>https://ss.com/msg/lv/real-estate/flats/riga/c...</td>\n",
       "      <td>Bruņinieku 28</td>\n",
       "      <td>4</td>\n",
       "      <td>120</td>\n",
       "      <td>3/5</td>\n",
       "      <td>P. kara</td>\n",
       "      <td>2,417 €</td>\n",
       "      <td>290,000  €</td>\n",
       "    </tr>\n",
       "    <tr>\n",
       "      <th>1</th>\n",
       "      <td>Unikāls, pilnībā aprīkots 4-istabu dzīvoklis f...</td>\n",
       "      <td>https://ss.com/msg/lv/real-estate/flats/riga/c...</td>\n",
       "      <td>Skolas 14</td>\n",
       "      <td>4</td>\n",
       "      <td>169</td>\n",
       "      <td>6/6</td>\n",
       "      <td>Renov.</td>\n",
       "      <td>1,953 €</td>\n",
       "      <td>330,000  €</td>\n",
       "    </tr>\n",
       "    <tr>\n",
       "      <th>2</th>\n",
       "      <td>Pārdod 4-istabu dzīvokli Klusajā centrā ar aut...</td>\n",
       "      <td>https://ss.com/msg/lv/real-estate/flats/riga/c...</td>\n",
       "      <td>Rūpniecības 34A</td>\n",
       "      <td>4</td>\n",
       "      <td>141</td>\n",
       "      <td>6/6</td>\n",
       "      <td>Jaun.</td>\n",
       "      <td>2,376 €</td>\n",
       "      <td>335,000  €</td>\n",
       "    </tr>\n",
       "    <tr>\n",
       "      <th>3</th>\n",
       "      <td>Komfortabls dzīvoklis . Atjaunota renovēta māj...</td>\n",
       "      <td>https://ss.com/msg/lv/real-estate/flats/riga/c...</td>\n",
       "      <td>Miera 105</td>\n",
       "      <td>2</td>\n",
       "      <td>42</td>\n",
       "      <td>1/6</td>\n",
       "      <td>Renov.</td>\n",
       "      <td>1,857 €</td>\n",
       "      <td>78,000  €</td>\n",
       "    </tr>\n",
       "    <tr>\n",
       "      <th>4</th>\n",
       "      <td>Plašs, renovējams 6 istabu dzīvoklis iekšpagal...</td>\n",
       "      <td>https://ss.com/msg/lv/real-estate/flats/riga/c...</td>\n",
       "      <td>Brīvības 72</td>\n",
       "      <td>6</td>\n",
       "      <td>173</td>\n",
       "      <td>3/6</td>\n",
       "      <td>P. kara</td>\n",
       "      <td>1,179 €</td>\n",
       "      <td>204,000  €</td>\n",
       "    </tr>\n",
       "  </tbody>\n",
       "</table>\n",
       "</div>"
      ],
      "text/plain": [
       "                                         description  \\\n",
       "0  Tiek pārdots gaumīgs dzīvoklis centrā ar savu ...   \n",
       "1  Unikāls, pilnībā aprīkots 4-istabu dzīvoklis f...   \n",
       "2  Pārdod 4-istabu dzīvokli Klusajā centrā ar aut...   \n",
       "3  Komfortabls dzīvoklis . Atjaunota renovēta māj...   \n",
       "4  Plašs, renovējams 6 istabu dzīvoklis iekšpagal...   \n",
       "\n",
       "                                                 url             Iela Ist.  \\\n",
       "0  https://ss.com/msg/lv/real-estate/flats/riga/c...    Bruņinieku 28    4   \n",
       "1  https://ss.com/msg/lv/real-estate/flats/riga/c...        Skolas 14    4   \n",
       "2  https://ss.com/msg/lv/real-estate/flats/riga/c...  Rūpniecības 34A    4   \n",
       "3  https://ss.com/msg/lv/real-estate/flats/riga/c...        Miera 105    2   \n",
       "4  https://ss.com/msg/lv/real-estate/flats/riga/c...      Brīvības 72    6   \n",
       "\n",
       "    m2 Stāvs   Sērija Cena, m2        Cena  \n",
       "0  120   3/5  P. kara  2,417 €  290,000  €  \n",
       "1  169   6/6   Renov.  1,953 €  330,000  €  \n",
       "2  141   6/6    Jaun.  2,376 €  335,000  €  \n",
       "3   42   1/6   Renov.  1,857 €   78,000  €  \n",
       "4  173   3/6  P. kara  1,179 €  204,000  €  "
      ]
     },
     "execution_count": 85,
     "metadata": {},
     "output_type": "execute_result"
    }
   ],
   "source": [
    "df.head()"
   ]
  },
  {
   "cell_type": "code",
   "execution_count": 78,
   "metadata": {},
   "outputs": [
    {
     "data": {
      "text/html": [
       "<div>\n",
       "<style scoped>\n",
       "    .dataframe tbody tr th:only-of-type {\n",
       "        vertical-align: middle;\n",
       "    }\n",
       "\n",
       "    .dataframe tbody tr th {\n",
       "        vertical-align: top;\n",
       "    }\n",
       "\n",
       "    .dataframe thead th {\n",
       "        text-align: right;\n",
       "    }\n",
       "</style>\n",
       "<table border=\"1\" class=\"dataframe\">\n",
       "  <thead>\n",
       "    <tr style=\"text-align: right;\">\n",
       "      <th></th>\n",
       "      <th>description</th>\n",
       "      <th>url</th>\n",
       "      <th>Iela</th>\n",
       "      <th>Ist.</th>\n",
       "      <th>m2</th>\n",
       "      <th>Stāvs</th>\n",
       "      <th>Sērija</th>\n",
       "      <th>Cena, m2</th>\n",
       "      <th>Cena</th>\n",
       "    </tr>\n",
       "  </thead>\n",
       "  <tbody>\n",
       "    <tr>\n",
       "      <th>25</th>\n",
       "      <td>Супер предложение Продает хозяин самая дешёвая...</td>\n",
       "      <td>https://ss.com/msg/lv/real-estate/flats/riga/c...</td>\n",
       "      <td>Ausekļa 5</td>\n",
       "      <td>5</td>\n",
       "      <td>162</td>\n",
       "      <td>2/6</td>\n",
       "      <td>Renov.</td>\n",
       "      <td>2,222 €</td>\n",
       "      <td>360,000  €</td>\n",
       "    </tr>\n",
       "    <tr>\n",
       "      <th>26</th>\n",
       "      <td>Tiek pārdots 3 - istabu dzīvoklis renovētā māj...</td>\n",
       "      <td>https://ss.com/msg/lv/real-estate/flats/riga/c...</td>\n",
       "      <td>Elizabetes 22</td>\n",
       "      <td>3</td>\n",
       "      <td>72</td>\n",
       "      <td>4/6</td>\n",
       "      <td>Renov.</td>\n",
       "      <td>2,486 €</td>\n",
       "      <td>179,000  €</td>\n",
       "    </tr>\n",
       "    <tr>\n",
       "      <th>27</th>\n",
       "      <td>Pārdod gaišu studijas tipa vienistabas dzīvokl...</td>\n",
       "      <td>https://ss.com/msg/lv/real-estate/flats/riga/c...</td>\n",
       "      <td>Vagonu 24</td>\n",
       "      <td>1</td>\n",
       "      <td>29</td>\n",
       "      <td>2/2</td>\n",
       "      <td>P. kara</td>\n",
       "      <td>931 €</td>\n",
       "      <td>27,000  €</td>\n",
       "    </tr>\n",
       "    <tr>\n",
       "      <th>28</th>\n",
       "      <td>Продается светлая, солнечная 3 комнатная кварт...</td>\n",
       "      <td>https://ss.com/msg/lv/real-estate/flats/riga/c...</td>\n",
       "      <td>Miera 93</td>\n",
       "      <td>3</td>\n",
       "      <td>65</td>\n",
       "      <td>5/7</td>\n",
       "      <td>Jaun.</td>\n",
       "      <td>2,262 €</td>\n",
       "      <td>147,000  €</td>\n",
       "    </tr>\n",
       "    <tr>\n",
       "      <th>29</th>\n",
       "      <td>Pārdodu nevis stūra, sausu un siltu 2 istabu d...</td>\n",
       "      <td>https://ss.com/msg/lv/real-estate/flats/riga/c...</td>\n",
       "      <td>Lāčplēša 62/66</td>\n",
       "      <td>2</td>\n",
       "      <td>50</td>\n",
       "      <td>3/5</td>\n",
       "      <td>P. kara</td>\n",
       "      <td>1,220 €</td>\n",
       "      <td>60,980  €</td>\n",
       "    </tr>\n",
       "  </tbody>\n",
       "</table>\n",
       "</div>"
      ],
      "text/plain": [
       "                                          description  \\\n",
       "25  Супер предложение Продает хозяин самая дешёвая...   \n",
       "26  Tiek pārdots 3 - istabu dzīvoklis renovētā māj...   \n",
       "27  Pārdod gaišu studijas tipa vienistabas dzīvokl...   \n",
       "28  Продается светлая, солнечная 3 комнатная кварт...   \n",
       "29  Pārdodu nevis stūra, sausu un siltu 2 istabu d...   \n",
       "\n",
       "                                                  url            Iela Ist.  \\\n",
       "25  https://ss.com/msg/lv/real-estate/flats/riga/c...       Ausekļa 5    5   \n",
       "26  https://ss.com/msg/lv/real-estate/flats/riga/c...   Elizabetes 22    3   \n",
       "27  https://ss.com/msg/lv/real-estate/flats/riga/c...       Vagonu 24    1   \n",
       "28  https://ss.com/msg/lv/real-estate/flats/riga/c...        Miera 93    3   \n",
       "29  https://ss.com/msg/lv/real-estate/flats/riga/c...  Lāčplēša 62/66    2   \n",
       "\n",
       "     m2 Stāvs   Sērija Cena, m2        Cena  \n",
       "25  162   2/6   Renov.  2,222 €  360,000  €  \n",
       "26   72   4/6   Renov.  2,486 €  179,000  €  \n",
       "27   29   2/2  P. kara    931 €   27,000  €  \n",
       "28   65   5/7    Jaun.  2,262 €  147,000  €  \n",
       "29   50   3/5  P. kara  1,220 €   60,980  €  "
      ]
     },
     "execution_count": 78,
     "metadata": {},
     "output_type": "execute_result"
    }
   ],
   "source": [
    "df.tail()"
   ]
  },
  {
   "cell_type": "code",
   "execution_count": null,
   "metadata": {},
   "outputs": [],
   "source": [
    "df.shape"
   ]
  },
  {
   "cell_type": "code",
   "execution_count": 86,
   "metadata": {},
   "outputs": [
    {
     "data": {
      "text/html": [
       "<div>\n",
       "<style scoped>\n",
       "    .dataframe tbody tr th:only-of-type {\n",
       "        vertical-align: middle;\n",
       "    }\n",
       "\n",
       "    .dataframe tbody tr th {\n",
       "        vertical-align: top;\n",
       "    }\n",
       "\n",
       "    .dataframe thead th {\n",
       "        text-align: right;\n",
       "    }\n",
       "</style>\n",
       "<table border=\"1\" class=\"dataframe\">\n",
       "  <thead>\n",
       "    <tr style=\"text-align: right;\">\n",
       "      <th></th>\n",
       "      <th>description</th>\n",
       "      <th>url</th>\n",
       "      <th>Iela</th>\n",
       "      <th>Ist.</th>\n",
       "      <th>m2</th>\n",
       "      <th>Stāvs</th>\n",
       "      <th>Sērija</th>\n",
       "      <th>Cena, m2</th>\n",
       "      <th>Cena</th>\n",
       "      <th>Floor</th>\n",
       "      <th>MaxFloor</th>\n",
       "    </tr>\n",
       "  </thead>\n",
       "  <tbody>\n",
       "    <tr>\n",
       "      <th>0</th>\n",
       "      <td>Tiek pārdots gaumīgs dzīvoklis centrā ar savu ...</td>\n",
       "      <td>https://ss.com/msg/lv/real-estate/flats/riga/c...</td>\n",
       "      <td>Bruņinieku 28</td>\n",
       "      <td>4</td>\n",
       "      <td>120</td>\n",
       "      <td>3/5</td>\n",
       "      <td>P. kara</td>\n",
       "      <td>2,417 €</td>\n",
       "      <td>290,000  €</td>\n",
       "      <td>3</td>\n",
       "      <td>5</td>\n",
       "    </tr>\n",
       "    <tr>\n",
       "      <th>1</th>\n",
       "      <td>Unikāls, pilnībā aprīkots 4-istabu dzīvoklis f...</td>\n",
       "      <td>https://ss.com/msg/lv/real-estate/flats/riga/c...</td>\n",
       "      <td>Skolas 14</td>\n",
       "      <td>4</td>\n",
       "      <td>169</td>\n",
       "      <td>6/6</td>\n",
       "      <td>Renov.</td>\n",
       "      <td>1,953 €</td>\n",
       "      <td>330,000  €</td>\n",
       "      <td>6</td>\n",
       "      <td>6</td>\n",
       "    </tr>\n",
       "    <tr>\n",
       "      <th>2</th>\n",
       "      <td>Pārdod 4-istabu dzīvokli Klusajā centrā ar aut...</td>\n",
       "      <td>https://ss.com/msg/lv/real-estate/flats/riga/c...</td>\n",
       "      <td>Rūpniecības 34A</td>\n",
       "      <td>4</td>\n",
       "      <td>141</td>\n",
       "      <td>6/6</td>\n",
       "      <td>Jaun.</td>\n",
       "      <td>2,376 €</td>\n",
       "      <td>335,000  €</td>\n",
       "      <td>6</td>\n",
       "      <td>6</td>\n",
       "    </tr>\n",
       "    <tr>\n",
       "      <th>3</th>\n",
       "      <td>Komfortabls dzīvoklis . Atjaunota renovēta māj...</td>\n",
       "      <td>https://ss.com/msg/lv/real-estate/flats/riga/c...</td>\n",
       "      <td>Miera 105</td>\n",
       "      <td>2</td>\n",
       "      <td>42</td>\n",
       "      <td>1/6</td>\n",
       "      <td>Renov.</td>\n",
       "      <td>1,857 €</td>\n",
       "      <td>78,000  €</td>\n",
       "      <td>1</td>\n",
       "      <td>6</td>\n",
       "    </tr>\n",
       "    <tr>\n",
       "      <th>4</th>\n",
       "      <td>Plašs, renovējams 6 istabu dzīvoklis iekšpagal...</td>\n",
       "      <td>https://ss.com/msg/lv/real-estate/flats/riga/c...</td>\n",
       "      <td>Brīvības 72</td>\n",
       "      <td>6</td>\n",
       "      <td>173</td>\n",
       "      <td>3/6</td>\n",
       "      <td>P. kara</td>\n",
       "      <td>1,179 €</td>\n",
       "      <td>204,000  €</td>\n",
       "      <td>3</td>\n",
       "      <td>6</td>\n",
       "    </tr>\n",
       "  </tbody>\n",
       "</table>\n",
       "</div>"
      ],
      "text/plain": [
       "                                         description  \\\n",
       "0  Tiek pārdots gaumīgs dzīvoklis centrā ar savu ...   \n",
       "1  Unikāls, pilnībā aprīkots 4-istabu dzīvoklis f...   \n",
       "2  Pārdod 4-istabu dzīvokli Klusajā centrā ar aut...   \n",
       "3  Komfortabls dzīvoklis . Atjaunota renovēta māj...   \n",
       "4  Plašs, renovējams 6 istabu dzīvoklis iekšpagal...   \n",
       "\n",
       "                                                 url             Iela Ist.  \\\n",
       "0  https://ss.com/msg/lv/real-estate/flats/riga/c...    Bruņinieku 28    4   \n",
       "1  https://ss.com/msg/lv/real-estate/flats/riga/c...        Skolas 14    4   \n",
       "2  https://ss.com/msg/lv/real-estate/flats/riga/c...  Rūpniecības 34A    4   \n",
       "3  https://ss.com/msg/lv/real-estate/flats/riga/c...        Miera 105    2   \n",
       "4  https://ss.com/msg/lv/real-estate/flats/riga/c...      Brīvības 72    6   \n",
       "\n",
       "    m2 Stāvs   Sērija Cena, m2        Cena Floor MaxFloor  \n",
       "0  120   3/5  P. kara  2,417 €  290,000  €     3        5  \n",
       "1  169   6/6   Renov.  1,953 €  330,000  €     6        6  \n",
       "2  141   6/6    Jaun.  2,376 €  335,000  €     6        6  \n",
       "3   42   1/6   Renov.  1,857 €   78,000  €     1        6  \n",
       "4  173   3/6  P. kara  1,179 €  204,000  €     3        6  "
      ]
     },
     "execution_count": 86,
     "metadata": {},
     "output_type": "execute_result"
    }
   ],
   "source": [
    "#we can do more post processing - feature engineering using existing columns\n",
    "df[['Floor','MaxFloor']] = df.Stāvs.str.split(\"/\",expand=True) \n",
    "df.head()"
   ]
  },
  {
   "cell_type": "code",
   "execution_count": 78,
   "metadata": {},
   "outputs": [],
   "source": [
    "df = riga_region # just a shortcut"
   ]
  },
  {
   "cell_type": "code",
   "execution_count": 82,
   "metadata": {},
   "outputs": [
    {
     "name": "stdout",
     "output_type": "stream",
     "text": [
      "<class 'pandas.core.frame.DataFrame'>\n",
      "Int64Index: 693 entries, 0 to 2\n",
      "Data columns (total 11 columns):\n",
      " #   Column       Non-Null Count  Dtype \n",
      "---  ------       --------------  ----- \n",
      " 0   description  693 non-null    object\n",
      " 1   url          693 non-null    object\n",
      " 2   Iela         693 non-null    object\n",
      " 3   Ist.         693 non-null    object\n",
      " 4   m2           693 non-null    object\n",
      " 5   Stāvs        693 non-null    object\n",
      " 6   Sērija       693 non-null    object\n",
      " 7   Cena, m2     693 non-null    object\n",
      " 8   Cena         693 non-null    object\n",
      " 9   Floor        693 non-null    object\n",
      " 10  MaxFloor     693 non-null    object\n",
      "dtypes: object(11)\n",
      "memory usage: 65.0+ KB\n"
     ]
    }
   ],
   "source": [
    "df.info()"
   ]
  },
  {
   "cell_type": "code",
   "execution_count": 87,
   "metadata": {},
   "outputs": [
    {
     "data": {
      "text/html": [
       "<div>\n",
       "<style scoped>\n",
       "    .dataframe tbody tr th:only-of-type {\n",
       "        vertical-align: middle;\n",
       "    }\n",
       "\n",
       "    .dataframe tbody tr th {\n",
       "        vertical-align: top;\n",
       "    }\n",
       "\n",
       "    .dataframe thead th {\n",
       "        text-align: right;\n",
       "    }\n",
       "</style>\n",
       "<table border=\"1\" class=\"dataframe\">\n",
       "  <thead>\n",
       "    <tr style=\"text-align: right;\">\n",
       "      <th></th>\n",
       "      <th>description</th>\n",
       "      <th>url</th>\n",
       "      <th>Iela</th>\n",
       "      <th>Ist.</th>\n",
       "      <th>m2</th>\n",
       "      <th>Stāvs</th>\n",
       "      <th>Sērija</th>\n",
       "      <th>Cena, m2</th>\n",
       "      <th>Cena</th>\n",
       "      <th>Floor</th>\n",
       "      <th>MaxFloor</th>\n",
       "    </tr>\n",
       "  </thead>\n",
       "  <tbody>\n",
       "    <tr>\n",
       "      <th>0</th>\n",
       "      <td>Tiek pārdots gaumīgs dzīvoklis centrā ar savu ...</td>\n",
       "      <td>https://ss.com/msg/lv/real-estate/flats/riga/c...</td>\n",
       "      <td>Bruņinieku 28</td>\n",
       "      <td>4</td>\n",
       "      <td>120</td>\n",
       "      <td>3/5</td>\n",
       "      <td>P. kara</td>\n",
       "      <td>2,417 €</td>\n",
       "      <td>290,000  €</td>\n",
       "      <td>3</td>\n",
       "      <td>5</td>\n",
       "    </tr>\n",
       "    <tr>\n",
       "      <th>1</th>\n",
       "      <td>Unikāls, pilnībā aprīkots 4-istabu dzīvoklis f...</td>\n",
       "      <td>https://ss.com/msg/lv/real-estate/flats/riga/c...</td>\n",
       "      <td>Skolas 14</td>\n",
       "      <td>4</td>\n",
       "      <td>169</td>\n",
       "      <td>6/6</td>\n",
       "      <td>Renov.</td>\n",
       "      <td>1,953 €</td>\n",
       "      <td>330,000  €</td>\n",
       "      <td>6</td>\n",
       "      <td>6</td>\n",
       "    </tr>\n",
       "    <tr>\n",
       "      <th>2</th>\n",
       "      <td>Pārdod 4-istabu dzīvokli Klusajā centrā ar aut...</td>\n",
       "      <td>https://ss.com/msg/lv/real-estate/flats/riga/c...</td>\n",
       "      <td>Rūpniecības 34A</td>\n",
       "      <td>4</td>\n",
       "      <td>141</td>\n",
       "      <td>6/6</td>\n",
       "      <td>Jaun.</td>\n",
       "      <td>2,376 €</td>\n",
       "      <td>335,000  €</td>\n",
       "      <td>6</td>\n",
       "      <td>6</td>\n",
       "    </tr>\n",
       "    <tr>\n",
       "      <th>3</th>\n",
       "      <td>Komfortabls dzīvoklis . Atjaunota renovēta māj...</td>\n",
       "      <td>https://ss.com/msg/lv/real-estate/flats/riga/c...</td>\n",
       "      <td>Miera 105</td>\n",
       "      <td>2</td>\n",
       "      <td>42</td>\n",
       "      <td>1/6</td>\n",
       "      <td>Renov.</td>\n",
       "      <td>1,857 €</td>\n",
       "      <td>78,000  €</td>\n",
       "      <td>1</td>\n",
       "      <td>6</td>\n",
       "    </tr>\n",
       "    <tr>\n",
       "      <th>4</th>\n",
       "      <td>Plašs, renovējams 6 istabu dzīvoklis iekšpagal...</td>\n",
       "      <td>https://ss.com/msg/lv/real-estate/flats/riga/c...</td>\n",
       "      <td>Brīvības 72</td>\n",
       "      <td>6</td>\n",
       "      <td>173</td>\n",
       "      <td>3/6</td>\n",
       "      <td>P. kara</td>\n",
       "      <td>1,179 €</td>\n",
       "      <td>204,000  €</td>\n",
       "      <td>3</td>\n",
       "      <td>6</td>\n",
       "    </tr>\n",
       "  </tbody>\n",
       "</table>\n",
       "</div>"
      ],
      "text/plain": [
       "                                         description  \\\n",
       "0  Tiek pārdots gaumīgs dzīvoklis centrā ar savu ...   \n",
       "1  Unikāls, pilnībā aprīkots 4-istabu dzīvoklis f...   \n",
       "2  Pārdod 4-istabu dzīvokli Klusajā centrā ar aut...   \n",
       "3  Komfortabls dzīvoklis . Atjaunota renovēta māj...   \n",
       "4  Plašs, renovējams 6 istabu dzīvoklis iekšpagal...   \n",
       "\n",
       "                                                 url             Iela Ist.  \\\n",
       "0  https://ss.com/msg/lv/real-estate/flats/riga/c...    Bruņinieku 28    4   \n",
       "1  https://ss.com/msg/lv/real-estate/flats/riga/c...        Skolas 14    4   \n",
       "2  https://ss.com/msg/lv/real-estate/flats/riga/c...  Rūpniecības 34A    4   \n",
       "3  https://ss.com/msg/lv/real-estate/flats/riga/c...        Miera 105    2   \n",
       "4  https://ss.com/msg/lv/real-estate/flats/riga/c...      Brīvības 72    6   \n",
       "\n",
       "    m2 Stāvs   Sērija Cena, m2        Cena Floor MaxFloor  \n",
       "0  120   3/5  P. kara  2,417 €  290,000  €     3        5  \n",
       "1  169   6/6   Renov.  1,953 €  330,000  €     6        6  \n",
       "2  141   6/6    Jaun.  2,376 €  335,000  €     6        6  \n",
       "3   42   1/6   Renov.  1,857 €   78,000  €     1        6  \n",
       "4  173   3/6  P. kara  1,179 €  204,000  €     3        6  "
      ]
     },
     "execution_count": 87,
     "metadata": {},
     "output_type": "execute_result"
    }
   ],
   "source": [
    "df.head()"
   ]
  },
  {
   "cell_type": "code",
   "execution_count": 88,
   "metadata": {},
   "outputs": [
    {
     "name": "stdout",
     "output_type": "stream",
     "text": [
      "<class 'pandas.core.frame.DataFrame'>\n",
      "RangeIndex: 715 entries, 0 to 714\n",
      "Data columns (total 11 columns):\n",
      " #   Column       Non-Null Count  Dtype \n",
      "---  ------       --------------  ----- \n",
      " 0   description  715 non-null    object\n",
      " 1   url          715 non-null    object\n",
      " 2   Iela         715 non-null    object\n",
      " 3   Ist.         715 non-null    object\n",
      " 4   m2           715 non-null    object\n",
      " 5   Stāvs        715 non-null    object\n",
      " 6   Sērija       715 non-null    object\n",
      " 7   Cena, m2     715 non-null    object\n",
      " 8   Cena         715 non-null    object\n",
      " 9   Floor        715 non-null    object\n",
      " 10  MaxFloor     715 non-null    object\n",
      "dtypes: object(11)\n",
      "memory usage: 61.6+ KB\n"
     ]
    }
   ],
   "source": [
    "df.info()"
   ]
  },
  {
   "cell_type": "code",
   "execution_count": 89,
   "metadata": {
    "scrolled": true
   },
   "outputs": [
    {
     "data": {
      "text/html": [
       "<div>\n",
       "<style scoped>\n",
       "    .dataframe tbody tr th:only-of-type {\n",
       "        vertical-align: middle;\n",
       "    }\n",
       "\n",
       "    .dataframe tbody tr th {\n",
       "        vertical-align: top;\n",
       "    }\n",
       "\n",
       "    .dataframe thead th {\n",
       "        text-align: right;\n",
       "    }\n",
       "</style>\n",
       "<table border=\"1\" class=\"dataframe\">\n",
       "  <thead>\n",
       "    <tr style=\"text-align: right;\">\n",
       "      <th></th>\n",
       "      <th>description</th>\n",
       "      <th>url</th>\n",
       "      <th>Iela</th>\n",
       "      <th>Ist.</th>\n",
       "      <th>m2</th>\n",
       "      <th>Stāvs</th>\n",
       "      <th>Sērija</th>\n",
       "      <th>Cena, m2</th>\n",
       "      <th>Cena</th>\n",
       "      <th>Floor</th>\n",
       "      <th>MaxFloor</th>\n",
       "      <th>price</th>\n",
       "    </tr>\n",
       "  </thead>\n",
       "  <tbody>\n",
       "    <tr>\n",
       "      <th>0</th>\n",
       "      <td>Tiek pārdots gaumīgs dzīvoklis centrā ar savu ...</td>\n",
       "      <td>https://ss.com/msg/lv/real-estate/flats/riga/c...</td>\n",
       "      <td>Bruņinieku 28</td>\n",
       "      <td>4</td>\n",
       "      <td>120</td>\n",
       "      <td>3/5</td>\n",
       "      <td>P. kara</td>\n",
       "      <td>2,417 €</td>\n",
       "      <td>290,000  €</td>\n",
       "      <td>3</td>\n",
       "      <td>5</td>\n",
       "      <td>290,000</td>\n",
       "    </tr>\n",
       "    <tr>\n",
       "      <th>1</th>\n",
       "      <td>Unikāls, pilnībā aprīkots 4-istabu dzīvoklis f...</td>\n",
       "      <td>https://ss.com/msg/lv/real-estate/flats/riga/c...</td>\n",
       "      <td>Skolas 14</td>\n",
       "      <td>4</td>\n",
       "      <td>169</td>\n",
       "      <td>6/6</td>\n",
       "      <td>Renov.</td>\n",
       "      <td>1,953 €</td>\n",
       "      <td>330,000  €</td>\n",
       "      <td>6</td>\n",
       "      <td>6</td>\n",
       "      <td>330,000</td>\n",
       "    </tr>\n",
       "    <tr>\n",
       "      <th>2</th>\n",
       "      <td>Pārdod 4-istabu dzīvokli Klusajā centrā ar aut...</td>\n",
       "      <td>https://ss.com/msg/lv/real-estate/flats/riga/c...</td>\n",
       "      <td>Rūpniecības 34A</td>\n",
       "      <td>4</td>\n",
       "      <td>141</td>\n",
       "      <td>6/6</td>\n",
       "      <td>Jaun.</td>\n",
       "      <td>2,376 €</td>\n",
       "      <td>335,000  €</td>\n",
       "      <td>6</td>\n",
       "      <td>6</td>\n",
       "      <td>335,000</td>\n",
       "    </tr>\n",
       "    <tr>\n",
       "      <th>3</th>\n",
       "      <td>Komfortabls dzīvoklis . Atjaunota renovēta māj...</td>\n",
       "      <td>https://ss.com/msg/lv/real-estate/flats/riga/c...</td>\n",
       "      <td>Miera 105</td>\n",
       "      <td>2</td>\n",
       "      <td>42</td>\n",
       "      <td>1/6</td>\n",
       "      <td>Renov.</td>\n",
       "      <td>1,857 €</td>\n",
       "      <td>78,000  €</td>\n",
       "      <td>1</td>\n",
       "      <td>6</td>\n",
       "      <td>78,000</td>\n",
       "    </tr>\n",
       "    <tr>\n",
       "      <th>4</th>\n",
       "      <td>Plašs, renovējams 6 istabu dzīvoklis iekšpagal...</td>\n",
       "      <td>https://ss.com/msg/lv/real-estate/flats/riga/c...</td>\n",
       "      <td>Brīvības 72</td>\n",
       "      <td>6</td>\n",
       "      <td>173</td>\n",
       "      <td>3/6</td>\n",
       "      <td>P. kara</td>\n",
       "      <td>1,179 €</td>\n",
       "      <td>204,000  €</td>\n",
       "      <td>3</td>\n",
       "      <td>6</td>\n",
       "      <td>204,000</td>\n",
       "    </tr>\n",
       "  </tbody>\n",
       "</table>\n",
       "</div>"
      ],
      "text/plain": [
       "                                         description  \\\n",
       "0  Tiek pārdots gaumīgs dzīvoklis centrā ar savu ...   \n",
       "1  Unikāls, pilnībā aprīkots 4-istabu dzīvoklis f...   \n",
       "2  Pārdod 4-istabu dzīvokli Klusajā centrā ar aut...   \n",
       "3  Komfortabls dzīvoklis . Atjaunota renovēta māj...   \n",
       "4  Plašs, renovējams 6 istabu dzīvoklis iekšpagal...   \n",
       "\n",
       "                                                 url             Iela Ist.  \\\n",
       "0  https://ss.com/msg/lv/real-estate/flats/riga/c...    Bruņinieku 28    4   \n",
       "1  https://ss.com/msg/lv/real-estate/flats/riga/c...        Skolas 14    4   \n",
       "2  https://ss.com/msg/lv/real-estate/flats/riga/c...  Rūpniecības 34A    4   \n",
       "3  https://ss.com/msg/lv/real-estate/flats/riga/c...        Miera 105    2   \n",
       "4  https://ss.com/msg/lv/real-estate/flats/riga/c...      Brīvības 72    6   \n",
       "\n",
       "    m2 Stāvs   Sērija Cena, m2        Cena Floor MaxFloor    price  \n",
       "0  120   3/5  P. kara  2,417 €  290,000  €     3        5  290,000  \n",
       "1  169   6/6   Renov.  1,953 €  330,000  €     6        6  330,000  \n",
       "2  141   6/6    Jaun.  2,376 €  335,000  €     6        6  335,000  \n",
       "3   42   1/6   Renov.  1,857 €   78,000  €     1        6   78,000  \n",
       "4  173   3/6  P. kara  1,179 €  204,000  €     3        6  204,000  "
      ]
     },
     "execution_count": 89,
     "metadata": {},
     "output_type": "execute_result"
    }
   ],
   "source": [
    "df[\"price\"] = df.Cena.str.split(' ').str[0]  # create a new column from price\n",
    "df.head()"
   ]
  },
  {
   "cell_type": "code",
   "execution_count": 90,
   "metadata": {},
   "outputs": [
    {
     "data": {
      "text/html": [
       "<div>\n",
       "<style scoped>\n",
       "    .dataframe tbody tr th:only-of-type {\n",
       "        vertical-align: middle;\n",
       "    }\n",
       "\n",
       "    .dataframe tbody tr th {\n",
       "        vertical-align: top;\n",
       "    }\n",
       "\n",
       "    .dataframe thead th {\n",
       "        text-align: right;\n",
       "    }\n",
       "</style>\n",
       "<table border=\"1\" class=\"dataframe\">\n",
       "  <thead>\n",
       "    <tr style=\"text-align: right;\">\n",
       "      <th></th>\n",
       "      <th>description</th>\n",
       "      <th>url</th>\n",
       "      <th>Iela</th>\n",
       "      <th>Ist.</th>\n",
       "      <th>m2</th>\n",
       "      <th>Stāvs</th>\n",
       "      <th>Sērija</th>\n",
       "      <th>Cena, m2</th>\n",
       "      <th>Cena</th>\n",
       "      <th>Floor</th>\n",
       "      <th>MaxFloor</th>\n",
       "      <th>price</th>\n",
       "    </tr>\n",
       "  </thead>\n",
       "  <tbody>\n",
       "    <tr>\n",
       "      <th>0</th>\n",
       "      <td>Tiek pārdots gaumīgs dzīvoklis centrā ar savu ...</td>\n",
       "      <td>https://ss.com/msg/lv/real-estate/flats/riga/c...</td>\n",
       "      <td>Bruņinieku 28</td>\n",
       "      <td>4</td>\n",
       "      <td>120</td>\n",
       "      <td>3/5</td>\n",
       "      <td>P. kara</td>\n",
       "      <td>2,417 €</td>\n",
       "      <td>290,000  €</td>\n",
       "      <td>3</td>\n",
       "      <td>5</td>\n",
       "      <td>290000</td>\n",
       "    </tr>\n",
       "    <tr>\n",
       "      <th>1</th>\n",
       "      <td>Unikāls, pilnībā aprīkots 4-istabu dzīvoklis f...</td>\n",
       "      <td>https://ss.com/msg/lv/real-estate/flats/riga/c...</td>\n",
       "      <td>Skolas 14</td>\n",
       "      <td>4</td>\n",
       "      <td>169</td>\n",
       "      <td>6/6</td>\n",
       "      <td>Renov.</td>\n",
       "      <td>1,953 €</td>\n",
       "      <td>330,000  €</td>\n",
       "      <td>6</td>\n",
       "      <td>6</td>\n",
       "      <td>330000</td>\n",
       "    </tr>\n",
       "    <tr>\n",
       "      <th>2</th>\n",
       "      <td>Pārdod 4-istabu dzīvokli Klusajā centrā ar aut...</td>\n",
       "      <td>https://ss.com/msg/lv/real-estate/flats/riga/c...</td>\n",
       "      <td>Rūpniecības 34A</td>\n",
       "      <td>4</td>\n",
       "      <td>141</td>\n",
       "      <td>6/6</td>\n",
       "      <td>Jaun.</td>\n",
       "      <td>2,376 €</td>\n",
       "      <td>335,000  €</td>\n",
       "      <td>6</td>\n",
       "      <td>6</td>\n",
       "      <td>335000</td>\n",
       "    </tr>\n",
       "    <tr>\n",
       "      <th>3</th>\n",
       "      <td>Komfortabls dzīvoklis . Atjaunota renovēta māj...</td>\n",
       "      <td>https://ss.com/msg/lv/real-estate/flats/riga/c...</td>\n",
       "      <td>Miera 105</td>\n",
       "      <td>2</td>\n",
       "      <td>42</td>\n",
       "      <td>1/6</td>\n",
       "      <td>Renov.</td>\n",
       "      <td>1,857 €</td>\n",
       "      <td>78,000  €</td>\n",
       "      <td>1</td>\n",
       "      <td>6</td>\n",
       "      <td>78000</td>\n",
       "    </tr>\n",
       "    <tr>\n",
       "      <th>4</th>\n",
       "      <td>Plašs, renovējams 6 istabu dzīvoklis iekšpagal...</td>\n",
       "      <td>https://ss.com/msg/lv/real-estate/flats/riga/c...</td>\n",
       "      <td>Brīvības 72</td>\n",
       "      <td>6</td>\n",
       "      <td>173</td>\n",
       "      <td>3/6</td>\n",
       "      <td>P. kara</td>\n",
       "      <td>1,179 €</td>\n",
       "      <td>204,000  €</td>\n",
       "      <td>3</td>\n",
       "      <td>6</td>\n",
       "      <td>204000</td>\n",
       "    </tr>\n",
       "  </tbody>\n",
       "</table>\n",
       "</div>"
      ],
      "text/plain": [
       "                                         description  \\\n",
       "0  Tiek pārdots gaumīgs dzīvoklis centrā ar savu ...   \n",
       "1  Unikāls, pilnībā aprīkots 4-istabu dzīvoklis f...   \n",
       "2  Pārdod 4-istabu dzīvokli Klusajā centrā ar aut...   \n",
       "3  Komfortabls dzīvoklis . Atjaunota renovēta māj...   \n",
       "4  Plašs, renovējams 6 istabu dzīvoklis iekšpagal...   \n",
       "\n",
       "                                                 url             Iela Ist.  \\\n",
       "0  https://ss.com/msg/lv/real-estate/flats/riga/c...    Bruņinieku 28    4   \n",
       "1  https://ss.com/msg/lv/real-estate/flats/riga/c...        Skolas 14    4   \n",
       "2  https://ss.com/msg/lv/real-estate/flats/riga/c...  Rūpniecības 34A    4   \n",
       "3  https://ss.com/msg/lv/real-estate/flats/riga/c...        Miera 105    2   \n",
       "4  https://ss.com/msg/lv/real-estate/flats/riga/c...      Brīvības 72    6   \n",
       "\n",
       "    m2 Stāvs   Sērija Cena, m2        Cena Floor MaxFloor   price  \n",
       "0  120   3/5  P. kara  2,417 €  290,000  €     3        5  290000  \n",
       "1  169   6/6   Renov.  1,953 €  330,000  €     6        6  330000  \n",
       "2  141   6/6    Jaun.  2,376 €  335,000  €     6        6  335000  \n",
       "3   42   1/6   Renov.  1,857 €   78,000  €     1        6   78000  \n",
       "4  173   3/6  P. kara  1,179 €  204,000  €     3        6  204000  "
      ]
     },
     "execution_count": 90,
     "metadata": {},
     "output_type": "execute_result"
    }
   ],
   "source": [
    "df.price = df.price.str.replace(\",\",\"\").astype('int32') # so clean string of , and then convert to integer int64 for larger\n",
    "df.head()"
   ]
  },
  {
   "cell_type": "code",
   "execution_count": 91,
   "metadata": {},
   "outputs": [
    {
     "name": "stdout",
     "output_type": "stream",
     "text": [
      "<class 'pandas.core.frame.DataFrame'>\n",
      "RangeIndex: 715 entries, 0 to 714\n",
      "Data columns (total 12 columns):\n",
      " #   Column       Non-Null Count  Dtype \n",
      "---  ------       --------------  ----- \n",
      " 0   description  715 non-null    object\n",
      " 1   url          715 non-null    object\n",
      " 2   Iela         715 non-null    object\n",
      " 3   Ist.         715 non-null    object\n",
      " 4   m2           715 non-null    object\n",
      " 5   Stāvs        715 non-null    object\n",
      " 6   Sērija       715 non-null    object\n",
      " 7   Cena, m2     715 non-null    object\n",
      " 8   Cena         715 non-null    object\n",
      " 9   Floor        715 non-null    object\n",
      " 10  MaxFloor     715 non-null    object\n",
      " 11  price        715 non-null    int32 \n",
      "dtypes: int32(1), object(11)\n",
      "memory usage: 64.4+ KB\n"
     ]
    }
   ],
   "source": [
    "df.info()"
   ]
  },
  {
   "cell_type": "code",
   "execution_count": 92,
   "metadata": {},
   "outputs": [],
   "source": [
    "df[\"floor\"] = df.Floor.astype('int32')"
   ]
  },
  {
   "cell_type": "code",
   "execution_count": 93,
   "metadata": {},
   "outputs": [],
   "source": [
    "df.m2 = df.m2.astype('int32')"
   ]
  },
  {
   "cell_type": "code",
   "execution_count": 94,
   "metadata": {},
   "outputs": [
    {
     "name": "stdout",
     "output_type": "stream",
     "text": [
      "<class 'pandas.core.frame.DataFrame'>\n",
      "RangeIndex: 715 entries, 0 to 714\n",
      "Data columns (total 13 columns):\n",
      " #   Column       Non-Null Count  Dtype \n",
      "---  ------       --------------  ----- \n",
      " 0   description  715 non-null    object\n",
      " 1   url          715 non-null    object\n",
      " 2   Iela         715 non-null    object\n",
      " 3   Ist.         715 non-null    object\n",
      " 4   m2           715 non-null    int32 \n",
      " 5   Stāvs        715 non-null    object\n",
      " 6   Sērija       715 non-null    object\n",
      " 7   Cena, m2     715 non-null    object\n",
      " 8   Cena         715 non-null    object\n",
      " 9   Floor        715 non-null    object\n",
      " 10  MaxFloor     715 non-null    object\n",
      " 11  price        715 non-null    int32 \n",
      " 12  floor        715 non-null    int32 \n",
      "dtypes: int32(3), object(10)\n",
      "memory usage: 64.4+ KB\n"
     ]
    }
   ],
   "source": [
    "df.info()"
   ]
  },
  {
   "cell_type": "code",
   "execution_count": 95,
   "metadata": {},
   "outputs": [
    {
     "data": {
      "text/html": [
       "<div>\n",
       "<style scoped>\n",
       "    .dataframe tbody tr th:only-of-type {\n",
       "        vertical-align: middle;\n",
       "    }\n",
       "\n",
       "    .dataframe tbody tr th {\n",
       "        vertical-align: top;\n",
       "    }\n",
       "\n",
       "    .dataframe thead th {\n",
       "        text-align: right;\n",
       "    }\n",
       "</style>\n",
       "<table border=\"1\" class=\"dataframe\">\n",
       "  <thead>\n",
       "    <tr style=\"text-align: right;\">\n",
       "      <th></th>\n",
       "      <th>description</th>\n",
       "      <th>url</th>\n",
       "      <th>Iela</th>\n",
       "      <th>Ist.</th>\n",
       "      <th>m2</th>\n",
       "      <th>Stāvs</th>\n",
       "      <th>Sērija</th>\n",
       "      <th>Cena, m2</th>\n",
       "      <th>Cena</th>\n",
       "      <th>Floor</th>\n",
       "      <th>MaxFloor</th>\n",
       "      <th>price</th>\n",
       "      <th>floor</th>\n",
       "    </tr>\n",
       "  </thead>\n",
       "  <tbody>\n",
       "    <tr>\n",
       "      <th>0</th>\n",
       "      <td>Tiek pārdots gaumīgs dzīvoklis centrā ar savu ...</td>\n",
       "      <td>https://ss.com/msg/lv/real-estate/flats/riga/c...</td>\n",
       "      <td>Bruņinieku 28</td>\n",
       "      <td>4</td>\n",
       "      <td>120</td>\n",
       "      <td>3/5</td>\n",
       "      <td>P. kara</td>\n",
       "      <td>2,417 €</td>\n",
       "      <td>290,000  €</td>\n",
       "      <td>3</td>\n",
       "      <td>5</td>\n",
       "      <td>290000</td>\n",
       "      <td>3</td>\n",
       "    </tr>\n",
       "    <tr>\n",
       "      <th>1</th>\n",
       "      <td>Unikāls, pilnībā aprīkots 4-istabu dzīvoklis f...</td>\n",
       "      <td>https://ss.com/msg/lv/real-estate/flats/riga/c...</td>\n",
       "      <td>Skolas 14</td>\n",
       "      <td>4</td>\n",
       "      <td>169</td>\n",
       "      <td>6/6</td>\n",
       "      <td>Renov.</td>\n",
       "      <td>1,953 €</td>\n",
       "      <td>330,000  €</td>\n",
       "      <td>6</td>\n",
       "      <td>6</td>\n",
       "      <td>330000</td>\n",
       "      <td>6</td>\n",
       "    </tr>\n",
       "    <tr>\n",
       "      <th>2</th>\n",
       "      <td>Pārdod 4-istabu dzīvokli Klusajā centrā ar aut...</td>\n",
       "      <td>https://ss.com/msg/lv/real-estate/flats/riga/c...</td>\n",
       "      <td>Rūpniecības 34A</td>\n",
       "      <td>4</td>\n",
       "      <td>141</td>\n",
       "      <td>6/6</td>\n",
       "      <td>Jaun.</td>\n",
       "      <td>2,376 €</td>\n",
       "      <td>335,000  €</td>\n",
       "      <td>6</td>\n",
       "      <td>6</td>\n",
       "      <td>335000</td>\n",
       "      <td>6</td>\n",
       "    </tr>\n",
       "    <tr>\n",
       "      <th>3</th>\n",
       "      <td>Komfortabls dzīvoklis . Atjaunota renovēta māj...</td>\n",
       "      <td>https://ss.com/msg/lv/real-estate/flats/riga/c...</td>\n",
       "      <td>Miera 105</td>\n",
       "      <td>2</td>\n",
       "      <td>42</td>\n",
       "      <td>1/6</td>\n",
       "      <td>Renov.</td>\n",
       "      <td>1,857 €</td>\n",
       "      <td>78,000  €</td>\n",
       "      <td>1</td>\n",
       "      <td>6</td>\n",
       "      <td>78000</td>\n",
       "      <td>1</td>\n",
       "    </tr>\n",
       "    <tr>\n",
       "      <th>4</th>\n",
       "      <td>Plašs, renovējams 6 istabu dzīvoklis iekšpagal...</td>\n",
       "      <td>https://ss.com/msg/lv/real-estate/flats/riga/c...</td>\n",
       "      <td>Brīvības 72</td>\n",
       "      <td>6</td>\n",
       "      <td>173</td>\n",
       "      <td>3/6</td>\n",
       "      <td>P. kara</td>\n",
       "      <td>1,179 €</td>\n",
       "      <td>204,000  €</td>\n",
       "      <td>3</td>\n",
       "      <td>6</td>\n",
       "      <td>204000</td>\n",
       "      <td>3</td>\n",
       "    </tr>\n",
       "  </tbody>\n",
       "</table>\n",
       "</div>"
      ],
      "text/plain": [
       "                                         description  \\\n",
       "0  Tiek pārdots gaumīgs dzīvoklis centrā ar savu ...   \n",
       "1  Unikāls, pilnībā aprīkots 4-istabu dzīvoklis f...   \n",
       "2  Pārdod 4-istabu dzīvokli Klusajā centrā ar aut...   \n",
       "3  Komfortabls dzīvoklis . Atjaunota renovēta māj...   \n",
       "4  Plašs, renovējams 6 istabu dzīvoklis iekšpagal...   \n",
       "\n",
       "                                                 url             Iela Ist.  \\\n",
       "0  https://ss.com/msg/lv/real-estate/flats/riga/c...    Bruņinieku 28    4   \n",
       "1  https://ss.com/msg/lv/real-estate/flats/riga/c...        Skolas 14    4   \n",
       "2  https://ss.com/msg/lv/real-estate/flats/riga/c...  Rūpniecības 34A    4   \n",
       "3  https://ss.com/msg/lv/real-estate/flats/riga/c...        Miera 105    2   \n",
       "4  https://ss.com/msg/lv/real-estate/flats/riga/c...      Brīvības 72    6   \n",
       "\n",
       "    m2 Stāvs   Sērija Cena, m2        Cena Floor  MaxFloor   price  floor  \n",
       "0  120   3/5  P. kara  2,417 €  290,000  €     3         5  290000      3  \n",
       "1  169   6/6   Renov.  1,953 €  330,000  €     6         6  330000      6  \n",
       "2  141   6/6    Jaun.  2,376 €  335,000  €     6         6  335000      6  \n",
       "3   42   1/6   Renov.  1,857 €   78,000  €     1         6   78000      1  \n",
       "4  173   3/6  P. kara  1,179 €  204,000  €     3         6  204000      3  "
      ]
     },
     "execution_count": 95,
     "metadata": {},
     "output_type": "execute_result"
    }
   ],
   "source": [
    "df.MaxFloor = df.MaxFloor.astype('int32')\n",
    "df.head()"
   ]
  },
  {
   "cell_type": "code",
   "execution_count": 96,
   "metadata": {},
   "outputs": [
    {
     "data": {
      "text/html": [
       "<div>\n",
       "<style scoped>\n",
       "    .dataframe tbody tr th:only-of-type {\n",
       "        vertical-align: middle;\n",
       "    }\n",
       "\n",
       "    .dataframe tbody tr th {\n",
       "        vertical-align: top;\n",
       "    }\n",
       "\n",
       "    .dataframe thead th {\n",
       "        text-align: right;\n",
       "    }\n",
       "</style>\n",
       "<table border=\"1\" class=\"dataframe\">\n",
       "  <thead>\n",
       "    <tr style=\"text-align: right;\">\n",
       "      <th></th>\n",
       "      <th>description</th>\n",
       "      <th>url</th>\n",
       "      <th>Iela</th>\n",
       "      <th>Ist.</th>\n",
       "      <th>m2</th>\n",
       "      <th>Stāvs</th>\n",
       "      <th>Sērija</th>\n",
       "      <th>Cena, m2</th>\n",
       "      <th>Cena</th>\n",
       "      <th>Floor</th>\n",
       "      <th>MaxFloor</th>\n",
       "      <th>price</th>\n",
       "      <th>floor</th>\n",
       "    </tr>\n",
       "  </thead>\n",
       "  <tbody>\n",
       "    <tr>\n",
       "      <th>0</th>\n",
       "      <td>Tiek pārdots gaumīgs dzīvoklis centrā ar savu ...</td>\n",
       "      <td>https://ss.com/msg/lv/real-estate/flats/riga/c...</td>\n",
       "      <td>Bruņinieku 28</td>\n",
       "      <td>4</td>\n",
       "      <td>120</td>\n",
       "      <td>3/5</td>\n",
       "      <td>P. kara</td>\n",
       "      <td>2,417 €</td>\n",
       "      <td>290,000  €</td>\n",
       "      <td>3</td>\n",
       "      <td>5</td>\n",
       "      <td>290000</td>\n",
       "      <td>3</td>\n",
       "    </tr>\n",
       "    <tr>\n",
       "      <th>1</th>\n",
       "      <td>Unikāls, pilnībā aprīkots 4-istabu dzīvoklis f...</td>\n",
       "      <td>https://ss.com/msg/lv/real-estate/flats/riga/c...</td>\n",
       "      <td>Skolas 14</td>\n",
       "      <td>4</td>\n",
       "      <td>169</td>\n",
       "      <td>6/6</td>\n",
       "      <td>Renov.</td>\n",
       "      <td>1,953 €</td>\n",
       "      <td>330,000  €</td>\n",
       "      <td>6</td>\n",
       "      <td>6</td>\n",
       "      <td>330000</td>\n",
       "      <td>6</td>\n",
       "    </tr>\n",
       "    <tr>\n",
       "      <th>2</th>\n",
       "      <td>Pārdod 4-istabu dzīvokli Klusajā centrā ar aut...</td>\n",
       "      <td>https://ss.com/msg/lv/real-estate/flats/riga/c...</td>\n",
       "      <td>Rūpniecības 34A</td>\n",
       "      <td>4</td>\n",
       "      <td>141</td>\n",
       "      <td>6/6</td>\n",
       "      <td>Jaun.</td>\n",
       "      <td>2,376 €</td>\n",
       "      <td>335,000  €</td>\n",
       "      <td>6</td>\n",
       "      <td>6</td>\n",
       "      <td>335000</td>\n",
       "      <td>6</td>\n",
       "    </tr>\n",
       "    <tr>\n",
       "      <th>3</th>\n",
       "      <td>Komfortabls dzīvoklis . Atjaunota renovēta māj...</td>\n",
       "      <td>https://ss.com/msg/lv/real-estate/flats/riga/c...</td>\n",
       "      <td>Miera 105</td>\n",
       "      <td>2</td>\n",
       "      <td>42</td>\n",
       "      <td>1/6</td>\n",
       "      <td>Renov.</td>\n",
       "      <td>1,857 €</td>\n",
       "      <td>78,000  €</td>\n",
       "      <td>1</td>\n",
       "      <td>6</td>\n",
       "      <td>78000</td>\n",
       "      <td>1</td>\n",
       "    </tr>\n",
       "    <tr>\n",
       "      <th>4</th>\n",
       "      <td>Plašs, renovējams 6 istabu dzīvoklis iekšpagal...</td>\n",
       "      <td>https://ss.com/msg/lv/real-estate/flats/riga/c...</td>\n",
       "      <td>Brīvības 72</td>\n",
       "      <td>6</td>\n",
       "      <td>173</td>\n",
       "      <td>3/6</td>\n",
       "      <td>P. kara</td>\n",
       "      <td>1,179 €</td>\n",
       "      <td>204,000  €</td>\n",
       "      <td>3</td>\n",
       "      <td>6</td>\n",
       "      <td>204000</td>\n",
       "      <td>3</td>\n",
       "    </tr>\n",
       "  </tbody>\n",
       "</table>\n",
       "</div>"
      ],
      "text/plain": [
       "                                         description  \\\n",
       "0  Tiek pārdots gaumīgs dzīvoklis centrā ar savu ...   \n",
       "1  Unikāls, pilnībā aprīkots 4-istabu dzīvoklis f...   \n",
       "2  Pārdod 4-istabu dzīvokli Klusajā centrā ar aut...   \n",
       "3  Komfortabls dzīvoklis . Atjaunota renovēta māj...   \n",
       "4  Plašs, renovējams 6 istabu dzīvoklis iekšpagal...   \n",
       "\n",
       "                                                 url             Iela Ist.  \\\n",
       "0  https://ss.com/msg/lv/real-estate/flats/riga/c...    Bruņinieku 28    4   \n",
       "1  https://ss.com/msg/lv/real-estate/flats/riga/c...        Skolas 14    4   \n",
       "2  https://ss.com/msg/lv/real-estate/flats/riga/c...  Rūpniecības 34A    4   \n",
       "3  https://ss.com/msg/lv/real-estate/flats/riga/c...        Miera 105    2   \n",
       "4  https://ss.com/msg/lv/real-estate/flats/riga/c...      Brīvības 72    6   \n",
       "\n",
       "    m2 Stāvs   Sērija Cena, m2        Cena Floor  MaxFloor   price  floor  \n",
       "0  120   3/5  P. kara  2,417 €  290,000  €     3         5  290000      3  \n",
       "1  169   6/6   Renov.  1,953 €  330,000  €     6         6  330000      6  \n",
       "2  141   6/6    Jaun.  2,376 €  335,000  €     6         6  335000      6  \n",
       "3   42   1/6   Renov.  1,857 €   78,000  €     1         6   78000      1  \n",
       "4  173   3/6  P. kara  1,179 €  204,000  €     3         6  204000      3  "
      ]
     },
     "execution_count": 96,
     "metadata": {},
     "output_type": "execute_result"
    }
   ],
   "source": [
    "df.head()"
   ]
  },
  {
   "cell_type": "code",
   "execution_count": 97,
   "metadata": {
    "scrolled": true
   },
   "outputs": [
    {
     "data": {
      "text/html": [
       "<div>\n",
       "<style scoped>\n",
       "    .dataframe tbody tr th:only-of-type {\n",
       "        vertical-align: middle;\n",
       "    }\n",
       "\n",
       "    .dataframe tbody tr th {\n",
       "        vertical-align: top;\n",
       "    }\n",
       "\n",
       "    .dataframe thead th {\n",
       "        text-align: right;\n",
       "    }\n",
       "</style>\n",
       "<table border=\"1\" class=\"dataframe\">\n",
       "  <thead>\n",
       "    <tr style=\"text-align: right;\">\n",
       "      <th></th>\n",
       "      <th>description</th>\n",
       "      <th>url</th>\n",
       "      <th>Iela</th>\n",
       "      <th>Ist.</th>\n",
       "      <th>m2</th>\n",
       "      <th>Stāvs</th>\n",
       "      <th>Sērija</th>\n",
       "      <th>Cena, m2</th>\n",
       "      <th>Cena</th>\n",
       "      <th>Floor</th>\n",
       "      <th>MaxFloor</th>\n",
       "      <th>price</th>\n",
       "      <th>floor</th>\n",
       "    </tr>\n",
       "  </thead>\n",
       "  <tbody>\n",
       "    <tr>\n",
       "      <th>645</th>\n",
       "      <td>Ekskluzīvs dzīvoklis vienā no nozīmīgākajiem a...</td>\n",
       "      <td>https://ss.com/msg/lv/real-estate/flats/riga/c...</td>\n",
       "      <td>Elizabetes 3</td>\n",
       "      <td>6</td>\n",
       "      <td>145</td>\n",
       "      <td>2/5</td>\n",
       "      <td>Renov.</td>\n",
       "      <td>10,172 €</td>\n",
       "      <td>1,475,000  €</td>\n",
       "      <td>2</td>\n",
       "      <td>5</td>\n",
       "      <td>1475000</td>\n",
       "      <td>2</td>\n",
       "    </tr>\n",
       "    <tr>\n",
       "      <th>481</th>\n",
       "      <td>Piedāvājam iegādei plašu un mūsdienīgu 4-istab...</td>\n",
       "      <td>https://ss.com/msg/lv/real-estate/flats/riga/c...</td>\n",
       "      <td>Lāčplēša 11</td>\n",
       "      <td>4</td>\n",
       "      <td>197</td>\n",
       "      <td>6/7</td>\n",
       "      <td>Jaun.</td>\n",
       "      <td>4,076 €</td>\n",
       "      <td>802,880  €</td>\n",
       "      <td>6</td>\n",
       "      <td>7</td>\n",
       "      <td>802880</td>\n",
       "      <td>6</td>\n",
       "    </tr>\n",
       "    <tr>\n",
       "      <th>221</th>\n",
       "      <td>Arhitektonisko šedevru un dzīves kvalitātes ba...</td>\n",
       "      <td>https://ss.com/msg/lv/real-estate/flats/riga/c...</td>\n",
       "      <td>Lāčplēša 11</td>\n",
       "      <td>4</td>\n",
       "      <td>197</td>\n",
       "      <td>6/7</td>\n",
       "      <td>Jaun.</td>\n",
       "      <td>4,076 €</td>\n",
       "      <td>802,880  €</td>\n",
       "      <td>6</td>\n",
       "      <td>7</td>\n",
       "      <td>802880</td>\n",
       "      <td>6</td>\n",
       "    </tr>\n",
       "    <tr>\n",
       "      <th>550</th>\n",
       "      <td>Piedāvājam iegādāties plašu, gaišu un izsmalci...</td>\n",
       "      <td>https://ss.com/msg/lv/real-estate/flats/riga/c...</td>\n",
       "      <td>Ausekļa 5</td>\n",
       "      <td>5</td>\n",
       "      <td>266</td>\n",
       "      <td>6/7</td>\n",
       "      <td>P. kara</td>\n",
       "      <td>3,008 €</td>\n",
       "      <td>800,000  €</td>\n",
       "      <td>6</td>\n",
       "      <td>7</td>\n",
       "      <td>800000</td>\n",
       "      <td>6</td>\n",
       "    </tr>\n",
       "    <tr>\n",
       "      <th>546</th>\n",
       "      <td>Pārdod gaišu un plašu piecu istabu mansarda dz...</td>\n",
       "      <td>https://ss.com/msg/lv/real-estate/flats/riga/c...</td>\n",
       "      <td>Elizabetes 12</td>\n",
       "      <td>5</td>\n",
       "      <td>235</td>\n",
       "      <td>5/5</td>\n",
       "      <td>Renov.</td>\n",
       "      <td>3,394 €</td>\n",
       "      <td>797,640  €</td>\n",
       "      <td>5</td>\n",
       "      <td>5</td>\n",
       "      <td>797640</td>\n",
       "      <td>5</td>\n",
       "    </tr>\n",
       "  </tbody>\n",
       "</table>\n",
       "</div>"
      ],
      "text/plain": [
       "                                           description  \\\n",
       "645  Ekskluzīvs dzīvoklis vienā no nozīmīgākajiem a...   \n",
       "481  Piedāvājam iegādei plašu un mūsdienīgu 4-istab...   \n",
       "221  Arhitektonisko šedevru un dzīves kvalitātes ba...   \n",
       "550  Piedāvājam iegādāties plašu, gaišu un izsmalci...   \n",
       "546  Pārdod gaišu un plašu piecu istabu mansarda dz...   \n",
       "\n",
       "                                                   url           Iela Ist.  \\\n",
       "645  https://ss.com/msg/lv/real-estate/flats/riga/c...   Elizabetes 3    6   \n",
       "481  https://ss.com/msg/lv/real-estate/flats/riga/c...    Lāčplēša 11    4   \n",
       "221  https://ss.com/msg/lv/real-estate/flats/riga/c...    Lāčplēša 11    4   \n",
       "550  https://ss.com/msg/lv/real-estate/flats/riga/c...      Ausekļa 5    5   \n",
       "546  https://ss.com/msg/lv/real-estate/flats/riga/c...  Elizabetes 12    5   \n",
       "\n",
       "      m2 Stāvs   Sērija  Cena, m2          Cena Floor  MaxFloor    price  \\\n",
       "645  145   2/5   Renov.  10,172 €  1,475,000  €     2         5  1475000   \n",
       "481  197   6/7    Jaun.   4,076 €    802,880  €     6         7   802880   \n",
       "221  197   6/7    Jaun.   4,076 €    802,880  €     6         7   802880   \n",
       "550  266   6/7  P. kara   3,008 €    800,000  €     6         7   800000   \n",
       "546  235   5/5   Renov.   3,394 €    797,640  €     5         5   797640   \n",
       "\n",
       "     floor  \n",
       "645      2  \n",
       "481      6  \n",
       "221      6  \n",
       "550      6  \n",
       "546      5  "
      ]
     },
     "execution_count": 97,
     "metadata": {},
     "output_type": "execute_result"
    }
   ],
   "source": [
    "sorted_df = df.sort_values(by=\"price\",ascending=False)\n",
    "sorted_df.head()"
   ]
  },
  {
   "cell_type": "code",
   "execution_count": 98,
   "metadata": {},
   "outputs": [
    {
     "data": {
      "text/html": [
       "<div>\n",
       "<style scoped>\n",
       "    .dataframe tbody tr th:only-of-type {\n",
       "        vertical-align: middle;\n",
       "    }\n",
       "\n",
       "    .dataframe tbody tr th {\n",
       "        vertical-align: top;\n",
       "    }\n",
       "\n",
       "    .dataframe thead th {\n",
       "        text-align: right;\n",
       "    }\n",
       "</style>\n",
       "<table border=\"1\" class=\"dataframe\">\n",
       "  <thead>\n",
       "    <tr style=\"text-align: right;\">\n",
       "      <th></th>\n",
       "      <th>description</th>\n",
       "      <th>url</th>\n",
       "      <th>Iela</th>\n",
       "      <th>Ist.</th>\n",
       "      <th>m2</th>\n",
       "      <th>Stāvs</th>\n",
       "      <th>Sērija</th>\n",
       "      <th>Cena, m2</th>\n",
       "      <th>Cena</th>\n",
       "      <th>Floor</th>\n",
       "      <th>MaxFloor</th>\n",
       "      <th>price</th>\n",
       "      <th>floor</th>\n",
       "    </tr>\n",
       "  </thead>\n",
       "  <tbody>\n",
       "    <tr>\n",
       "      <th>112</th>\n",
       "      <td>Studio tipa - istaba ar virtuvi kopā. Liels, j...</td>\n",
       "      <td>https://ss.com/msg/lv/real-estate/flats/riga/c...</td>\n",
       "      <td>Maskavas 104</td>\n",
       "      <td>1</td>\n",
       "      <td>11</td>\n",
       "      <td>2/2</td>\n",
       "      <td>P. kara</td>\n",
       "      <td>858 €</td>\n",
       "      <td>9,440  €</td>\n",
       "      <td>2</td>\n",
       "      <td>2</td>\n",
       "      <td>9440</td>\n",
       "      <td>2</td>\n",
       "    </tr>\n",
       "    <tr>\n",
       "      <th>515</th>\n",
       "      <td>Pašā centrā, renovēta skaista māja un lieliska...</td>\n",
       "      <td>https://ss.com/msg/lv/real-estate/flats/riga/c...</td>\n",
       "      <td>Merķeļa 7</td>\n",
       "      <td>1</td>\n",
       "      <td>11</td>\n",
       "      <td>1/6</td>\n",
       "      <td>Renov.</td>\n",
       "      <td>955 €</td>\n",
       "      <td>10,500  €</td>\n",
       "      <td>1</td>\n",
       "      <td>6</td>\n",
       "      <td>10500</td>\n",
       "      <td>1</td>\n",
       "    </tr>\n",
       "    <tr>\n",
       "      <th>76</th>\n",
       "      <td>Bildes vairāk what upā, katru dienu nebraucam ...</td>\n",
       "      <td>https://ss.com/msg/lv/real-estate/flats/riga/c...</td>\n",
       "      <td>Duntes 26</td>\n",
       "      <td>3</td>\n",
       "      <td>67</td>\n",
       "      <td>2/2</td>\n",
       "      <td>Specpr.</td>\n",
       "      <td>194 €</td>\n",
       "      <td>12,980  €</td>\n",
       "      <td>2</td>\n",
       "      <td>2</td>\n",
       "      <td>12980</td>\n",
       "      <td>2</td>\n",
       "    </tr>\n",
       "    <tr>\n",
       "      <th>565</th>\n",
       "      <td>Zemes nomas maksa 10 Eur/mēnesī, koka māja, pa...</td>\n",
       "      <td>https://ss.com/msg/lv/real-estate/flats/riga/c...</td>\n",
       "      <td>Zvaigžņu 15</td>\n",
       "      <td>1</td>\n",
       "      <td>19</td>\n",
       "      <td>2/2</td>\n",
       "      <td>P. kara</td>\n",
       "      <td>832 €</td>\n",
       "      <td>15,800  €</td>\n",
       "      <td>2</td>\n",
       "      <td>2</td>\n",
       "      <td>15800</td>\n",
       "      <td>2</td>\n",
       "    </tr>\n",
       "    <tr>\n",
       "      <th>81</th>\n",
       "      <td>Īpašums ar ērtībām un atsevišķu ieeju no slēgt...</td>\n",
       "      <td>https://ss.com/msg/lv/real-estate/flats/riga/c...</td>\n",
       "      <td>Elijas 20</td>\n",
       "      <td>1</td>\n",
       "      <td>10</td>\n",
       "      <td>1/1</td>\n",
       "      <td>P. kara</td>\n",
       "      <td>1,590 €</td>\n",
       "      <td>15,900  €</td>\n",
       "      <td>1</td>\n",
       "      <td>1</td>\n",
       "      <td>15900</td>\n",
       "      <td>1</td>\n",
       "    </tr>\n",
       "  </tbody>\n",
       "</table>\n",
       "</div>"
      ],
      "text/plain": [
       "                                           description  \\\n",
       "112  Studio tipa - istaba ar virtuvi kopā. Liels, j...   \n",
       "515  Pašā centrā, renovēta skaista māja un lieliska...   \n",
       "76   Bildes vairāk what upā, katru dienu nebraucam ...   \n",
       "565  Zemes nomas maksa 10 Eur/mēnesī, koka māja, pa...   \n",
       "81   Īpašums ar ērtībām un atsevišķu ieeju no slēgt...   \n",
       "\n",
       "                                                   url          Iela Ist.  m2  \\\n",
       "112  https://ss.com/msg/lv/real-estate/flats/riga/c...  Maskavas 104    1  11   \n",
       "515  https://ss.com/msg/lv/real-estate/flats/riga/c...     Merķeļa 7    1  11   \n",
       "76   https://ss.com/msg/lv/real-estate/flats/riga/c...     Duntes 26    3  67   \n",
       "565  https://ss.com/msg/lv/real-estate/flats/riga/c...   Zvaigžņu 15    1  19   \n",
       "81   https://ss.com/msg/lv/real-estate/flats/riga/c...     Elijas 20    1  10   \n",
       "\n",
       "    Stāvs   Sērija Cena, m2       Cena Floor  MaxFloor  price  floor  \n",
       "112   2/2  P. kara    858 €   9,440  €     2         2   9440      2  \n",
       "515   1/6   Renov.    955 €  10,500  €     1         6  10500      1  \n",
       "76    2/2  Specpr.    194 €  12,980  €     2         2  12980      2  \n",
       "565   2/2  P. kara    832 €  15,800  €     2         2  15800      2  \n",
       "81    1/1  P. kara  1,590 €  15,900  €     1         1  15900      1  "
      ]
     },
     "execution_count": 98,
     "metadata": {},
     "output_type": "execute_result"
    }
   ],
   "source": [
    "df.sort_values(by=\"price\",ascending=True).head()"
   ]
  },
  {
   "cell_type": "code",
   "execution_count": 99,
   "metadata": {},
   "outputs": [
    {
     "data": {
      "text/html": [
       "<div>\n",
       "<style scoped>\n",
       "    .dataframe tbody tr th:only-of-type {\n",
       "        vertical-align: middle;\n",
       "    }\n",
       "\n",
       "    .dataframe tbody tr th {\n",
       "        vertical-align: top;\n",
       "    }\n",
       "\n",
       "    .dataframe thead th {\n",
       "        text-align: right;\n",
       "    }\n",
       "</style>\n",
       "<table border=\"1\" class=\"dataframe\">\n",
       "  <thead>\n",
       "    <tr style=\"text-align: right;\">\n",
       "      <th></th>\n",
       "      <th>m2</th>\n",
       "      <th>MaxFloor</th>\n",
       "      <th>price</th>\n",
       "      <th>floor</th>\n",
       "    </tr>\n",
       "  </thead>\n",
       "  <tbody>\n",
       "    <tr>\n",
       "      <th>count</th>\n",
       "      <td>715.000000</td>\n",
       "      <td>715.000000</td>\n",
       "      <td>7.150000e+02</td>\n",
       "      <td>715.000000</td>\n",
       "    </tr>\n",
       "    <tr>\n",
       "      <th>mean</th>\n",
       "      <td>79.349650</td>\n",
       "      <td>5.425175</td>\n",
       "      <td>1.638140e+05</td>\n",
       "      <td>3.229371</td>\n",
       "    </tr>\n",
       "    <tr>\n",
       "      <th>std</th>\n",
       "      <td>46.127891</td>\n",
       "      <td>2.089304</td>\n",
       "      <td>1.289169e+05</td>\n",
       "      <td>2.014785</td>\n",
       "    </tr>\n",
       "    <tr>\n",
       "      <th>min</th>\n",
       "      <td>1.000000</td>\n",
       "      <td>1.000000</td>\n",
       "      <td>9.440000e+03</td>\n",
       "      <td>1.000000</td>\n",
       "    </tr>\n",
       "    <tr>\n",
       "      <th>25%</th>\n",
       "      <td>48.000000</td>\n",
       "      <td>5.000000</td>\n",
       "      <td>7.962500e+04</td>\n",
       "      <td>2.000000</td>\n",
       "    </tr>\n",
       "    <tr>\n",
       "      <th>50%</th>\n",
       "      <td>68.000000</td>\n",
       "      <td>5.000000</td>\n",
       "      <td>1.330000e+05</td>\n",
       "      <td>3.000000</td>\n",
       "    </tr>\n",
       "    <tr>\n",
       "      <th>75%</th>\n",
       "      <td>104.500000</td>\n",
       "      <td>6.000000</td>\n",
       "      <td>2.173650e+05</td>\n",
       "      <td>5.000000</td>\n",
       "    </tr>\n",
       "    <tr>\n",
       "      <th>max</th>\n",
       "      <td>331.000000</td>\n",
       "      <td>24.000000</td>\n",
       "      <td>1.475000e+06</td>\n",
       "      <td>19.000000</td>\n",
       "    </tr>\n",
       "  </tbody>\n",
       "</table>\n",
       "</div>"
      ],
      "text/plain": [
       "               m2    MaxFloor         price       floor\n",
       "count  715.000000  715.000000  7.150000e+02  715.000000\n",
       "mean    79.349650    5.425175  1.638140e+05    3.229371\n",
       "std     46.127891    2.089304  1.289169e+05    2.014785\n",
       "min      1.000000    1.000000  9.440000e+03    1.000000\n",
       "25%     48.000000    5.000000  7.962500e+04    2.000000\n",
       "50%     68.000000    5.000000  1.330000e+05    3.000000\n",
       "75%    104.500000    6.000000  2.173650e+05    5.000000\n",
       "max    331.000000   24.000000  1.475000e+06   19.000000"
      ]
     },
     "execution_count": 99,
     "metadata": {},
     "output_type": "execute_result"
    }
   ],
   "source": [
    "df.describe()"
   ]
  },
  {
   "cell_type": "code",
   "execution_count": 100,
   "metadata": {},
   "outputs": [
    {
     "data": {
      "text/html": [
       "<div>\n",
       "<style scoped>\n",
       "    .dataframe tbody tr th:only-of-type {\n",
       "        vertical-align: middle;\n",
       "    }\n",
       "\n",
       "    .dataframe tbody tr th {\n",
       "        vertical-align: top;\n",
       "    }\n",
       "\n",
       "    .dataframe thead th {\n",
       "        text-align: right;\n",
       "    }\n",
       "</style>\n",
       "<table border=\"1\" class=\"dataframe\">\n",
       "  <thead>\n",
       "    <tr style=\"text-align: right;\">\n",
       "      <th></th>\n",
       "      <th>description</th>\n",
       "      <th>url</th>\n",
       "      <th>Iela</th>\n",
       "      <th>Ist.</th>\n",
       "      <th>m2</th>\n",
       "      <th>Stāvs</th>\n",
       "      <th>Sērija</th>\n",
       "      <th>Cena, m2</th>\n",
       "      <th>Cena</th>\n",
       "      <th>Floor</th>\n",
       "      <th>MaxFloor</th>\n",
       "      <th>price</th>\n",
       "      <th>floor</th>\n",
       "    </tr>\n",
       "  </thead>\n",
       "  <tbody>\n",
       "    <tr>\n",
       "      <th>0</th>\n",
       "      <td>Tiek pārdots gaumīgs dzīvoklis centrā ar savu ...</td>\n",
       "      <td>https://ss.com/msg/lv/real-estate/flats/riga/c...</td>\n",
       "      <td>Bruņinieku 28</td>\n",
       "      <td>4</td>\n",
       "      <td>120</td>\n",
       "      <td>3/5</td>\n",
       "      <td>P. kara</td>\n",
       "      <td>2,417 €</td>\n",
       "      <td>290,000  €</td>\n",
       "      <td>3</td>\n",
       "      <td>5</td>\n",
       "      <td>290000</td>\n",
       "      <td>3</td>\n",
       "    </tr>\n",
       "    <tr>\n",
       "      <th>1</th>\n",
       "      <td>Unikāls, pilnībā aprīkots 4-istabu dzīvoklis f...</td>\n",
       "      <td>https://ss.com/msg/lv/real-estate/flats/riga/c...</td>\n",
       "      <td>Skolas 14</td>\n",
       "      <td>4</td>\n",
       "      <td>169</td>\n",
       "      <td>6/6</td>\n",
       "      <td>Renov.</td>\n",
       "      <td>1,953 €</td>\n",
       "      <td>330,000  €</td>\n",
       "      <td>6</td>\n",
       "      <td>6</td>\n",
       "      <td>330000</td>\n",
       "      <td>6</td>\n",
       "    </tr>\n",
       "    <tr>\n",
       "      <th>2</th>\n",
       "      <td>Pārdod 4-istabu dzīvokli Klusajā centrā ar aut...</td>\n",
       "      <td>https://ss.com/msg/lv/real-estate/flats/riga/c...</td>\n",
       "      <td>Rūpniecības 34A</td>\n",
       "      <td>4</td>\n",
       "      <td>141</td>\n",
       "      <td>6/6</td>\n",
       "      <td>Jaun.</td>\n",
       "      <td>2,376 €</td>\n",
       "      <td>335,000  €</td>\n",
       "      <td>6</td>\n",
       "      <td>6</td>\n",
       "      <td>335000</td>\n",
       "      <td>6</td>\n",
       "    </tr>\n",
       "    <tr>\n",
       "      <th>4</th>\n",
       "      <td>Plašs, renovējams 6 istabu dzīvoklis iekšpagal...</td>\n",
       "      <td>https://ss.com/msg/lv/real-estate/flats/riga/c...</td>\n",
       "      <td>Brīvības 72</td>\n",
       "      <td>6</td>\n",
       "      <td>173</td>\n",
       "      <td>3/6</td>\n",
       "      <td>P. kara</td>\n",
       "      <td>1,179 €</td>\n",
       "      <td>204,000  €</td>\n",
       "      <td>3</td>\n",
       "      <td>6</td>\n",
       "      <td>204000</td>\n",
       "      <td>3</td>\n",
       "    </tr>\n",
       "    <tr>\n",
       "      <th>6</th>\n",
       "      <td>Pārdodu plašu 3 istabu dzīvokli Rīgas centrā -...</td>\n",
       "      <td>https://ss.com/msg/lv/real-estate/flats/riga/c...</td>\n",
       "      <td>Brīvības 162</td>\n",
       "      <td>3</td>\n",
       "      <td>122</td>\n",
       "      <td>6/6</td>\n",
       "      <td>Renov.</td>\n",
       "      <td>1,516 €</td>\n",
       "      <td>185,000  €</td>\n",
       "      <td>6</td>\n",
       "      <td>6</td>\n",
       "      <td>185000</td>\n",
       "      <td>6</td>\n",
       "    </tr>\n",
       "    <tr>\n",
       "      <th>...</th>\n",
       "      <td>...</td>\n",
       "      <td>...</td>\n",
       "      <td>...</td>\n",
       "      <td>...</td>\n",
       "      <td>...</td>\n",
       "      <td>...</td>\n",
       "      <td>...</td>\n",
       "      <td>...</td>\n",
       "      <td>...</td>\n",
       "      <td>...</td>\n",
       "      <td>...</td>\n",
       "      <td>...</td>\n",
       "      <td>...</td>\n",
       "    </tr>\n",
       "    <tr>\n",
       "      <th>705</th>\n",
       "      <td>Ērts plānojums četru istabu iekšpagalma dzīvok...</td>\n",
       "      <td>https://ss.com/msg/lv/real-estate/flats/riga/c...</td>\n",
       "      <td>Valdemāra 57/59</td>\n",
       "      <td>4</td>\n",
       "      <td>109</td>\n",
       "      <td>5/7</td>\n",
       "      <td>P. kara</td>\n",
       "      <td>1,253 €</td>\n",
       "      <td>136,625  €</td>\n",
       "      <td>5</td>\n",
       "      <td>7</td>\n",
       "      <td>136625</td>\n",
       "      <td>5</td>\n",
       "    </tr>\n",
       "    <tr>\n",
       "      <th>709</th>\n",
       "      <td>Последняя квартира. Парковка входит в стоимост...</td>\n",
       "      <td>https://ss.com/msg/lv/real-estate/flats/riga/c...</td>\n",
       "      <td>Valdemāra 37</td>\n",
       "      <td>3</td>\n",
       "      <td>110</td>\n",
       "      <td>6/6</td>\n",
       "      <td>Renov.</td>\n",
       "      <td>2,682 €</td>\n",
       "      <td>295,000  €</td>\n",
       "      <td>6</td>\n",
       "      <td>6</td>\n",
       "      <td>295000</td>\n",
       "      <td>6</td>\n",
       "    </tr>\n",
       "    <tr>\n",
       "      <th>712</th>\n",
       "      <td>Pārdodu gaišu dzīvokli, mūra mājā, 5.stāvā, sl...</td>\n",
       "      <td>https://ss.com/msg/lv/real-estate/flats/riga/c...</td>\n",
       "      <td>Brīvības 134</td>\n",
       "      <td>2</td>\n",
       "      <td>45</td>\n",
       "      <td>5/6</td>\n",
       "      <td>P. kara</td>\n",
       "      <td>1,644 €</td>\n",
       "      <td>74,000  €</td>\n",
       "      <td>5</td>\n",
       "      <td>6</td>\n",
       "      <td>74000</td>\n",
       "      <td>5</td>\n",
       "    </tr>\n",
       "    <tr>\n",
       "      <th>713</th>\n",
       "      <td>Двухэтажная квартира (также возможна аренда ил...</td>\n",
       "      <td>https://ss.com/msg/lv/real-estate/flats/riga/c...</td>\n",
       "      <td>Maskavas 29</td>\n",
       "      <td>5</td>\n",
       "      <td>180</td>\n",
       "      <td>4/4</td>\n",
       "      <td>Priv. m.</td>\n",
       "      <td>778 €</td>\n",
       "      <td>140,000  €</td>\n",
       "      <td>4</td>\n",
       "      <td>4</td>\n",
       "      <td>140000</td>\n",
       "      <td>4</td>\n",
       "    </tr>\n",
       "    <tr>\n",
       "      <th>714</th>\n",
       "      <td>Ekskluzīvs dzīvoklis Rīgas centrā- mājā, kuru ...</td>\n",
       "      <td>https://ss.com/msg/lv/real-estate/flats/riga/c...</td>\n",
       "      <td>Tērbatas 4</td>\n",
       "      <td>2</td>\n",
       "      <td>73</td>\n",
       "      <td>6/7</td>\n",
       "      <td>P. kara</td>\n",
       "      <td>3,932 €</td>\n",
       "      <td>287,000  €</td>\n",
       "      <td>6</td>\n",
       "      <td>7</td>\n",
       "      <td>287000</td>\n",
       "      <td>6</td>\n",
       "    </tr>\n",
       "  </tbody>\n",
       "</table>\n",
       "<p>406 rows × 13 columns</p>\n",
       "</div>"
      ],
      "text/plain": [
       "                                           description  \\\n",
       "0    Tiek pārdots gaumīgs dzīvoklis centrā ar savu ...   \n",
       "1    Unikāls, pilnībā aprīkots 4-istabu dzīvoklis f...   \n",
       "2    Pārdod 4-istabu dzīvokli Klusajā centrā ar aut...   \n",
       "4    Plašs, renovējams 6 istabu dzīvoklis iekšpagal...   \n",
       "6    Pārdodu plašu 3 istabu dzīvokli Rīgas centrā -...   \n",
       "..                                                 ...   \n",
       "705  Ērts plānojums četru istabu iekšpagalma dzīvok...   \n",
       "709  Последняя квартира. Парковка входит в стоимост...   \n",
       "712  Pārdodu gaišu dzīvokli, mūra mājā, 5.stāvā, sl...   \n",
       "713  Двухэтажная квартира (также возможна аренда ил...   \n",
       "714  Ekskluzīvs dzīvoklis Rīgas centrā- mājā, kuru ...   \n",
       "\n",
       "                                                   url             Iela Ist.  \\\n",
       "0    https://ss.com/msg/lv/real-estate/flats/riga/c...    Bruņinieku 28    4   \n",
       "1    https://ss.com/msg/lv/real-estate/flats/riga/c...        Skolas 14    4   \n",
       "2    https://ss.com/msg/lv/real-estate/flats/riga/c...  Rūpniecības 34A    4   \n",
       "4    https://ss.com/msg/lv/real-estate/flats/riga/c...      Brīvības 72    6   \n",
       "6    https://ss.com/msg/lv/real-estate/flats/riga/c...     Brīvības 162    3   \n",
       "..                                                 ...              ...  ...   \n",
       "705  https://ss.com/msg/lv/real-estate/flats/riga/c...  Valdemāra 57/59    4   \n",
       "709  https://ss.com/msg/lv/real-estate/flats/riga/c...     Valdemāra 37    3   \n",
       "712  https://ss.com/msg/lv/real-estate/flats/riga/c...     Brīvības 134    2   \n",
       "713  https://ss.com/msg/lv/real-estate/flats/riga/c...      Maskavas 29    5   \n",
       "714  https://ss.com/msg/lv/real-estate/flats/riga/c...       Tērbatas 4    2   \n",
       "\n",
       "      m2 Stāvs    Sērija Cena, m2        Cena Floor  MaxFloor   price  floor  \n",
       "0    120   3/5   P. kara  2,417 €  290,000  €     3         5  290000      3  \n",
       "1    169   6/6    Renov.  1,953 €  330,000  €     6         6  330000      6  \n",
       "2    141   6/6     Jaun.  2,376 €  335,000  €     6         6  335000      6  \n",
       "4    173   3/6   P. kara  1,179 €  204,000  €     3         6  204000      3  \n",
       "6    122   6/6    Renov.  1,516 €  185,000  €     6         6  185000      6  \n",
       "..   ...   ...       ...      ...         ...   ...       ...     ...    ...  \n",
       "705  109   5/7   P. kara  1,253 €  136,625  €     5         7  136625      5  \n",
       "709  110   6/6    Renov.  2,682 €  295,000  €     6         6  295000      6  \n",
       "712   45   5/6   P. kara  1,644 €   74,000  €     5         6   74000      5  \n",
       "713  180   4/4  Priv. m.    778 €  140,000  €     4         4  140000      4  \n",
       "714   73   6/7   P. kara  3,932 €  287,000  €     6         7  287000      6  \n",
       "\n",
       "[406 rows x 13 columns]"
      ]
     },
     "execution_count": 100,
     "metadata": {},
     "output_type": "execute_result"
    }
   ],
   "source": [
    "df[df.floor > 2]"
   ]
  },
  {
   "cell_type": "code",
   "execution_count": 101,
   "metadata": {},
   "outputs": [
    {
     "data": {
      "text/html": [
       "<div>\n",
       "<style scoped>\n",
       "    .dataframe tbody tr th:only-of-type {\n",
       "        vertical-align: middle;\n",
       "    }\n",
       "\n",
       "    .dataframe tbody tr th {\n",
       "        vertical-align: top;\n",
       "    }\n",
       "\n",
       "    .dataframe thead th {\n",
       "        text-align: right;\n",
       "    }\n",
       "</style>\n",
       "<table border=\"1\" class=\"dataframe\">\n",
       "  <thead>\n",
       "    <tr style=\"text-align: right;\">\n",
       "      <th></th>\n",
       "      <th>description</th>\n",
       "      <th>url</th>\n",
       "      <th>Iela</th>\n",
       "      <th>Ist.</th>\n",
       "      <th>m2</th>\n",
       "      <th>Stāvs</th>\n",
       "      <th>Sērija</th>\n",
       "      <th>Cena, m2</th>\n",
       "      <th>Cena</th>\n",
       "      <th>Floor</th>\n",
       "      <th>MaxFloor</th>\n",
       "      <th>price</th>\n",
       "      <th>floor</th>\n",
       "    </tr>\n",
       "  </thead>\n",
       "  <tbody>\n",
       "    <tr>\n",
       "      <th>209</th>\n",
       "      <td>Квартира по индивидуальной планировке(изменени...</td>\n",
       "      <td>https://ss.com/msg/lv/real-estate/flats/riga/c...</td>\n",
       "      <td>Skanstes X</td>\n",
       "      <td>4</td>\n",
       "      <td>130</td>\n",
       "      <td>15/24</td>\n",
       "      <td>Jaun.</td>\n",
       "      <td>3,231 €</td>\n",
       "      <td>420,000  €</td>\n",
       "      <td>15</td>\n",
       "      <td>24</td>\n",
       "      <td>420000</td>\n",
       "      <td>15</td>\n",
       "    </tr>\n",
       "    <tr>\n",
       "      <th>178</th>\n",
       "      <td>Pārdod modernu dzīvokli dzīvojamo māju komplek...</td>\n",
       "      <td>https://ss.com/msg/lv/real-estate/flats/riga/c...</td>\n",
       "      <td>J. Daliņa 8</td>\n",
       "      <td>4</td>\n",
       "      <td>159</td>\n",
       "      <td>19/24</td>\n",
       "      <td>Jaun.</td>\n",
       "      <td>3,459 €</td>\n",
       "      <td>550,000  €</td>\n",
       "      <td>19</td>\n",
       "      <td>24</td>\n",
       "      <td>550000</td>\n",
       "      <td>19</td>\n",
       "    </tr>\n",
       "    <tr>\n",
       "      <th>407</th>\n",
       "      <td>Īpašnieks pārdod skaistu un plašu 2guļamistabu...</td>\n",
       "      <td>https://ss.com/msg/lv/real-estate/flats/riga/c...</td>\n",
       "      <td>Grostonas 25</td>\n",
       "      <td>3</td>\n",
       "      <td>92</td>\n",
       "      <td>18/24</td>\n",
       "      <td>Jaun.</td>\n",
       "      <td>4,120 €</td>\n",
       "      <td>379,000  €</td>\n",
       "      <td>18</td>\n",
       "      <td>24</td>\n",
       "      <td>379000</td>\n",
       "      <td>18</td>\n",
       "    </tr>\n",
       "    <tr>\n",
       "      <th>458</th>\n",
       "      <td>Pārdod skaistu un plašu 3 stabu dzīvoklis Skan...</td>\n",
       "      <td>https://ss.com/msg/lv/real-estate/flats/riga/c...</td>\n",
       "      <td>Grostonas 25</td>\n",
       "      <td>3</td>\n",
       "      <td>109</td>\n",
       "      <td>14/23</td>\n",
       "      <td>Jaun.</td>\n",
       "      <td>2,936 €</td>\n",
       "      <td>320,000  €</td>\n",
       "      <td>14</td>\n",
       "      <td>23</td>\n",
       "      <td>320000</td>\n",
       "      <td>14</td>\n",
       "    </tr>\n",
       "    <tr>\n",
       "      <th>410</th>\n",
       "      <td>Gaišs, mājīgs un ļoti silts divistabu dzīvokli...</td>\n",
       "      <td>https://ss.com/msg/lv/real-estate/flats/riga/c...</td>\n",
       "      <td>Duntes 28</td>\n",
       "      <td>2</td>\n",
       "      <td>52</td>\n",
       "      <td>6/16</td>\n",
       "      <td>Jaun.</td>\n",
       "      <td>1,923 €</td>\n",
       "      <td>100,000  €</td>\n",
       "      <td>6</td>\n",
       "      <td>16</td>\n",
       "      <td>100000</td>\n",
       "      <td>6</td>\n",
       "    </tr>\n",
       "  </tbody>\n",
       "</table>\n",
       "</div>"
      ],
      "text/plain": [
       "                                           description  \\\n",
       "209  Квартира по индивидуальной планировке(изменени...   \n",
       "178  Pārdod modernu dzīvokli dzīvojamo māju komplek...   \n",
       "407  Īpašnieks pārdod skaistu un plašu 2guļamistabu...   \n",
       "458  Pārdod skaistu un plašu 3 stabu dzīvoklis Skan...   \n",
       "410  Gaišs, mājīgs un ļoti silts divistabu dzīvokli...   \n",
       "\n",
       "                                                   url          Iela Ist.  \\\n",
       "209  https://ss.com/msg/lv/real-estate/flats/riga/c...    Skanstes X    4   \n",
       "178  https://ss.com/msg/lv/real-estate/flats/riga/c...   J. Daliņa 8    4   \n",
       "407  https://ss.com/msg/lv/real-estate/flats/riga/c...  Grostonas 25    3   \n",
       "458  https://ss.com/msg/lv/real-estate/flats/riga/c...  Grostonas 25    3   \n",
       "410  https://ss.com/msg/lv/real-estate/flats/riga/c...     Duntes 28    2   \n",
       "\n",
       "      m2  Stāvs Sērija Cena, m2        Cena Floor  MaxFloor   price  floor  \n",
       "209  130  15/24  Jaun.  3,231 €  420,000  €    15        24  420000     15  \n",
       "178  159  19/24  Jaun.  3,459 €  550,000  €    19        24  550000     19  \n",
       "407   92  18/24  Jaun.  4,120 €  379,000  €    18        24  379000     18  \n",
       "458  109  14/23  Jaun.  2,936 €  320,000  €    14        23  320000     14  \n",
       "410   52   6/16  Jaun.  1,923 €  100,000  €     6        16  100000      6  "
      ]
     },
     "execution_count": 101,
     "metadata": {},
     "output_type": "execute_result"
    }
   ],
   "source": [
    "df.sort_values(by=\"MaxFloor\",ascending=False).head()"
   ]
  },
  {
   "cell_type": "code",
   "execution_count": 95,
   "metadata": {},
   "outputs": [
    {
     "data": {
      "text/html": [
       "<div>\n",
       "<style scoped>\n",
       "    .dataframe tbody tr th:only-of-type {\n",
       "        vertical-align: middle;\n",
       "    }\n",
       "\n",
       "    .dataframe tbody tr th {\n",
       "        vertical-align: top;\n",
       "    }\n",
       "\n",
       "    .dataframe thead th {\n",
       "        text-align: right;\n",
       "    }\n",
       "</style>\n",
       "<table border=\"1\" class=\"dataframe\">\n",
       "  <thead>\n",
       "    <tr style=\"text-align: right;\">\n",
       "      <th></th>\n",
       "      <th>description</th>\n",
       "      <th>url</th>\n",
       "      <th>Pagasts</th>\n",
       "      <th>m2</th>\n",
       "      <th>Stāvi</th>\n",
       "      <th>Zem. pl.</th>\n",
       "      <th>Cena</th>\n",
       "      <th>price</th>\n",
       "      <th>floor</th>\n",
       "    </tr>\n",
       "  </thead>\n",
       "  <tbody>\n",
       "    <tr>\n",
       "      <th>0</th>\n",
       "      <td>Pārdošanā plaša un mājīga divu stāvu māja ļoti...</td>\n",
       "      <td>https://ss.com/msg/lv/real-estate/homes-summer...</td>\n",
       "      <td>Sigulda</td>\n",
       "      <td>480</td>\n",
       "      <td>3</td>\n",
       "      <td>1928 m²</td>\n",
       "      <td>250,000  €</td>\n",
       "      <td>250000</td>\n",
       "      <td>3</td>\n",
       "    </tr>\n",
       "    <tr>\n",
       "      <th>1</th>\n",
       "      <td>Tiek pārdota omulīga privātmāja Gaujā. Ir veik...</td>\n",
       "      <td>https://ss.com/msg/lv/real-estate/homes-summer...</td>\n",
       "      <td>Carnikavas nov.Gauja</td>\n",
       "      <td>210</td>\n",
       "      <td>2</td>\n",
       "      <td>1000 m²</td>\n",
       "      <td>160,000  €</td>\n",
       "      <td>160000</td>\n",
       "      <td>2</td>\n",
       "    </tr>\n",
       "    <tr>\n",
       "      <th>2</th>\n",
       "      <td>Pārdodu zemes gabala domājamo daļu 750 kv. m. ...</td>\n",
       "      <td>https://ss.com/msg/lv/real-estate/homes-summer...</td>\n",
       "      <td>Mārupes pag.Mārupe</td>\n",
       "      <td>203</td>\n",
       "      <td>2</td>\n",
       "      <td>750 m²</td>\n",
       "      <td>135,000  €</td>\n",
       "      <td>135000</td>\n",
       "      <td>2</td>\n",
       "    </tr>\n",
       "    <tr>\n",
       "      <th>3</th>\n",
       "      <td>Kārtīgi celta māja ar sakoptu dārzu un siltumn...</td>\n",
       "      <td>https://ss.com/msg/lv/real-estate/homes-summer...</td>\n",
       "      <td>Saulkrasti</td>\n",
       "      <td>85</td>\n",
       "      <td>2</td>\n",
       "      <td>580 m²</td>\n",
       "      <td>46,800  €</td>\n",
       "      <td>46800</td>\n",
       "      <td>2</td>\n",
       "    </tr>\n",
       "    <tr>\n",
       "      <th>4</th>\n",
       "      <td>Pārdod māju Katlakalnā. Māja atrodas lieliskā ...</td>\n",
       "      <td>https://ss.com/msg/lv/real-estate/homes-summer...</td>\n",
       "      <td>Ķekavas pag.Katlakalns</td>\n",
       "      <td>278</td>\n",
       "      <td>2</td>\n",
       "      <td>1200 m²</td>\n",
       "      <td>265,000  €</td>\n",
       "      <td>265000</td>\n",
       "      <td>2</td>\n",
       "    </tr>\n",
       "  </tbody>\n",
       "</table>\n",
       "</div>"
      ],
      "text/plain": [
       "                                         description  \\\n",
       "0  Pārdošanā plaša un mājīga divu stāvu māja ļoti...   \n",
       "1  Tiek pārdota omulīga privātmāja Gaujā. Ir veik...   \n",
       "2  Pārdodu zemes gabala domājamo daļu 750 kv. m. ...   \n",
       "3  Kārtīgi celta māja ar sakoptu dārzu un siltumn...   \n",
       "4  Pārdod māju Katlakalnā. Māja atrodas lieliskā ...   \n",
       "\n",
       "                                                 url                 Pagasts  \\\n",
       "0  https://ss.com/msg/lv/real-estate/homes-summer...                 Sigulda   \n",
       "1  https://ss.com/msg/lv/real-estate/homes-summer...    Carnikavas nov.Gauja   \n",
       "2  https://ss.com/msg/lv/real-estate/homes-summer...      Mārupes pag.Mārupe   \n",
       "3  https://ss.com/msg/lv/real-estate/homes-summer...              Saulkrasti   \n",
       "4  https://ss.com/msg/lv/real-estate/homes-summer...  Ķekavas pag.Katlakalns   \n",
       "\n",
       "    m2 Stāvi Zem. pl.        Cena   price  floor  \n",
       "0  480     3  1928 m²  250,000  €  250000      3  \n",
       "1  210     2  1000 m²  160,000  €  160000      2  \n",
       "2  203     2   750 m²  135,000  €  135000      2  \n",
       "3   85     2   580 m²   46,800  €   46800      2  \n",
       "4  278     2  1200 m²  265,000  €  265000      2  "
      ]
     },
     "execution_count": 95,
     "metadata": {},
     "output_type": "execute_result"
    }
   ],
   "source": [
    "df.head()"
   ]
  },
  {
   "cell_type": "code",
   "execution_count": 83,
   "metadata": {},
   "outputs": [
    {
     "data": {
      "text/plain": [
       "Index(['description', 'url', 'Iela', 'Ist.', 'm2', 'Stāvs', 'Sērija',\n",
       "       'Cena, m2', 'Cena', 'Floor', 'MaxFloor', 'price', 'floor'],\n",
       "      dtype='object')"
      ]
     },
     "execution_count": 83,
     "metadata": {},
     "output_type": "execute_result"
    }
   ],
   "source": [
    "df.columns"
   ]
  },
  {
   "cell_type": "code",
   "execution_count": 102,
   "metadata": {},
   "outputs": [
    {
     "data": {
      "text/html": [
       "<div>\n",
       "<style scoped>\n",
       "    .dataframe tbody tr th:only-of-type {\n",
       "        vertical-align: middle;\n",
       "    }\n",
       "\n",
       "    .dataframe tbody tr th {\n",
       "        vertical-align: top;\n",
       "    }\n",
       "\n",
       "    .dataframe thead th {\n",
       "        text-align: right;\n",
       "    }\n",
       "</style>\n",
       "<table border=\"1\" class=\"dataframe\">\n",
       "  <thead>\n",
       "    <tr style=\"text-align: right;\">\n",
       "      <th></th>\n",
       "      <th>count</th>\n",
       "      <th>min</th>\n",
       "      <th>max</th>\n",
       "      <th>mean</th>\n",
       "    </tr>\n",
       "    <tr>\n",
       "      <th>Iela</th>\n",
       "      <th></th>\n",
       "      <th></th>\n",
       "      <th></th>\n",
       "      <th></th>\n",
       "    </tr>\n",
       "  </thead>\n",
       "  <tbody>\n",
       "    <tr>\n",
       "      <th>11. novembra krast..</th>\n",
       "      <td>1</td>\n",
       "      <td>215000</td>\n",
       "      <td>215000</td>\n",
       "      <td>215000.0</td>\n",
       "    </tr>\n",
       "    <tr>\n",
       "      <th>13. janvāra 21</th>\n",
       "      <td>2</td>\n",
       "      <td>195000</td>\n",
       "      <td>195000</td>\n",
       "      <td>195000.0</td>\n",
       "    </tr>\n",
       "    <tr>\n",
       "      <th>Akas 8</th>\n",
       "      <td>1</td>\n",
       "      <td>170000</td>\n",
       "      <td>170000</td>\n",
       "      <td>170000.0</td>\n",
       "    </tr>\n",
       "    <tr>\n",
       "      <th>Alauksta 12</th>\n",
       "      <td>1</td>\n",
       "      <td>43500</td>\n",
       "      <td>43500</td>\n",
       "      <td>43500.0</td>\n",
       "    </tr>\n",
       "    <tr>\n",
       "      <th>Alauksta 16</th>\n",
       "      <td>1</td>\n",
       "      <td>43000</td>\n",
       "      <td>43000</td>\n",
       "      <td>43000.0</td>\n",
       "    </tr>\n",
       "    <tr>\n",
       "      <th>...</th>\n",
       "      <td>...</td>\n",
       "      <td>...</td>\n",
       "      <td>...</td>\n",
       "      <td>...</td>\n",
       "    </tr>\n",
       "    <tr>\n",
       "      <th>Ģertrūdes 77</th>\n",
       "      <td>2</td>\n",
       "      <td>154000</td>\n",
       "      <td>157000</td>\n",
       "      <td>155500.0</td>\n",
       "    </tr>\n",
       "    <tr>\n",
       "      <th>Ģertrūdes 91a</th>\n",
       "      <td>1</td>\n",
       "      <td>28600</td>\n",
       "      <td>28600</td>\n",
       "      <td>28600.0</td>\n",
       "    </tr>\n",
       "    <tr>\n",
       "      <th>Ģertrūdes 93</th>\n",
       "      <td>1</td>\n",
       "      <td>111200</td>\n",
       "      <td>111200</td>\n",
       "      <td>111200.0</td>\n",
       "    </tr>\n",
       "    <tr>\n",
       "      <th>Ģertrūdes 98</th>\n",
       "      <td>1</td>\n",
       "      <td>25000</td>\n",
       "      <td>25000</td>\n",
       "      <td>25000.0</td>\n",
       "    </tr>\n",
       "    <tr>\n",
       "      <th>Ģertrūdes 99</th>\n",
       "      <td>3</td>\n",
       "      <td>44500</td>\n",
       "      <td>86000</td>\n",
       "      <td>64500.0</td>\n",
       "    </tr>\n",
       "  </tbody>\n",
       "</table>\n",
       "<p>449 rows × 4 columns</p>\n",
       "</div>"
      ],
      "text/plain": [
       "                      count     min     max      mean\n",
       "Iela                                                 \n",
       "11. novembra krast..      1  215000  215000  215000.0\n",
       "13. janvāra 21            2  195000  195000  195000.0\n",
       "Akas 8                    1  170000  170000  170000.0\n",
       "Alauksta 12               1   43500   43500   43500.0\n",
       "Alauksta 16               1   43000   43000   43000.0\n",
       "...                     ...     ...     ...       ...\n",
       "Ģertrūdes 77              2  154000  157000  155500.0\n",
       "Ģertrūdes 91a             1   28600   28600   28600.0\n",
       "Ģertrūdes 93              1  111200  111200  111200.0\n",
       "Ģertrūdes 98              1   25000   25000   25000.0\n",
       "Ģertrūdes 99              3   44500   86000   64500.0\n",
       "\n",
       "[449 rows x 4 columns]"
      ]
     },
     "execution_count": 102,
     "metadata": {},
     "output_type": "execute_result"
    }
   ],
   "source": [
    "grouped_by_street = df.groupby(by=\"Iela\")['price'].agg([\"count\", \"min\", \"max\", \"mean\", ])\n",
    "grouped_by_street"
   ]
  },
  {
   "cell_type": "code",
   "execution_count": 103,
   "metadata": {},
   "outputs": [
    {
     "data": {
      "text/html": [
       "<div>\n",
       "<style scoped>\n",
       "    .dataframe tbody tr th:only-of-type {\n",
       "        vertical-align: middle;\n",
       "    }\n",
       "\n",
       "    .dataframe tbody tr th {\n",
       "        vertical-align: top;\n",
       "    }\n",
       "\n",
       "    .dataframe thead th {\n",
       "        text-align: right;\n",
       "    }\n",
       "</style>\n",
       "<table border=\"1\" class=\"dataframe\">\n",
       "  <thead>\n",
       "    <tr style=\"text-align: right;\">\n",
       "      <th></th>\n",
       "      <th>count</th>\n",
       "      <th>min</th>\n",
       "      <th>max</th>\n",
       "      <th>mean</th>\n",
       "    </tr>\n",
       "    <tr>\n",
       "      <th>floor</th>\n",
       "      <th></th>\n",
       "      <th></th>\n",
       "      <th></th>\n",
       "      <th></th>\n",
       "    </tr>\n",
       "  </thead>\n",
       "  <tbody>\n",
       "    <tr>\n",
       "      <th>1</th>\n",
       "      <td>147</td>\n",
       "      <td>10500</td>\n",
       "      <td>369000</td>\n",
       "      <td>105170.925170</td>\n",
       "    </tr>\n",
       "    <tr>\n",
       "      <th>2</th>\n",
       "      <td>162</td>\n",
       "      <td>9440</td>\n",
       "      <td>1475000</td>\n",
       "      <td>167445.580247</td>\n",
       "    </tr>\n",
       "    <tr>\n",
       "      <th>3</th>\n",
       "      <td>127</td>\n",
       "      <td>29600</td>\n",
       "      <td>697000</td>\n",
       "      <td>171502.850394</td>\n",
       "    </tr>\n",
       "    <tr>\n",
       "      <th>4</th>\n",
       "      <td>93</td>\n",
       "      <td>28600</td>\n",
       "      <td>724800</td>\n",
       "      <td>177304.182796</td>\n",
       "    </tr>\n",
       "    <tr>\n",
       "      <th>5</th>\n",
       "      <td>95</td>\n",
       "      <td>25000</td>\n",
       "      <td>797640</td>\n",
       "      <td>172902.094737</td>\n",
       "    </tr>\n",
       "    <tr>\n",
       "      <th>6</th>\n",
       "      <td>74</td>\n",
       "      <td>44000</td>\n",
       "      <td>802880</td>\n",
       "      <td>220807.702703</td>\n",
       "    </tr>\n",
       "    <tr>\n",
       "      <th>7</th>\n",
       "      <td>8</td>\n",
       "      <td>32500</td>\n",
       "      <td>385000</td>\n",
       "      <td>136337.500000</td>\n",
       "    </tr>\n",
       "    <tr>\n",
       "      <th>8</th>\n",
       "      <td>3</td>\n",
       "      <td>99000</td>\n",
       "      <td>275000</td>\n",
       "      <td>157833.333333</td>\n",
       "    </tr>\n",
       "    <tr>\n",
       "      <th>10</th>\n",
       "      <td>2</td>\n",
       "      <td>128700</td>\n",
       "      <td>143200</td>\n",
       "      <td>135950.000000</td>\n",
       "    </tr>\n",
       "    <tr>\n",
       "      <th>14</th>\n",
       "      <td>1</td>\n",
       "      <td>320000</td>\n",
       "      <td>320000</td>\n",
       "      <td>320000.000000</td>\n",
       "    </tr>\n",
       "    <tr>\n",
       "      <th>15</th>\n",
       "      <td>1</td>\n",
       "      <td>420000</td>\n",
       "      <td>420000</td>\n",
       "      <td>420000.000000</td>\n",
       "    </tr>\n",
       "    <tr>\n",
       "      <th>18</th>\n",
       "      <td>1</td>\n",
       "      <td>379000</td>\n",
       "      <td>379000</td>\n",
       "      <td>379000.000000</td>\n",
       "    </tr>\n",
       "    <tr>\n",
       "      <th>19</th>\n",
       "      <td>1</td>\n",
       "      <td>550000</td>\n",
       "      <td>550000</td>\n",
       "      <td>550000.000000</td>\n",
       "    </tr>\n",
       "  </tbody>\n",
       "</table>\n",
       "</div>"
      ],
      "text/plain": [
       "       count     min      max           mean\n",
       "floor                                       \n",
       "1        147   10500   369000  105170.925170\n",
       "2        162    9440  1475000  167445.580247\n",
       "3        127   29600   697000  171502.850394\n",
       "4         93   28600   724800  177304.182796\n",
       "5         95   25000   797640  172902.094737\n",
       "6         74   44000   802880  220807.702703\n",
       "7          8   32500   385000  136337.500000\n",
       "8          3   99000   275000  157833.333333\n",
       "10         2  128700   143200  135950.000000\n",
       "14         1  320000   320000  320000.000000\n",
       "15         1  420000   420000  420000.000000\n",
       "18         1  379000   379000  379000.000000\n",
       "19         1  550000   550000  550000.000000"
      ]
     },
     "execution_count": 103,
     "metadata": {},
     "output_type": "execute_result"
    }
   ],
   "source": [
    "grouped_by_floor = df.groupby(by=\"floor\")['price'].agg([\"count\", \"min\", \"max\", \"mean\", ])\n",
    "grouped_by_floor"
   ]
  },
  {
   "cell_type": "code",
   "execution_count": 87,
   "metadata": {},
   "outputs": [
    {
     "data": {
      "text/plain": [
       "14"
      ]
     },
     "execution_count": 87,
     "metadata": {},
     "output_type": "execute_result"
    }
   ],
   "source": [
    "len(grouped_by_floor)"
   ]
  },
  {
   "cell_type": "code",
   "execution_count": 104,
   "metadata": {},
   "outputs": [
    {
     "data": {
      "text/plain": [
       "array([[<AxesSubplot:title={'center':'count'}>,\n",
       "        <AxesSubplot:title={'center':'min'}>],\n",
       "       [<AxesSubplot:title={'center':'max'}>,\n",
       "        <AxesSubplot:title={'center':'mean'}>]], dtype=object)"
      ]
     },
     "execution_count": 104,
     "metadata": {},
     "output_type": "execute_result"
    },
    {
     "data": {
      "image/png": "[encoded data removed]",
      "text/plain": [
       "<Figure size 432x288 with 4 Axes>"
      ]
     },
     "metadata": {
      "needs_background": "light"
     },
     "output_type": "display_data"
    }
   ],
   "source": [
    "grouped_by_floor.hist(bins=len(grouped_by_floor))"
   ]
  },
  {
   "cell_type": "code",
   "execution_count": 96,
   "metadata": {},
   "outputs": [
    {
     "data": {
      "text/html": [
       "<div>\n",
       "<style scoped>\n",
       "    .dataframe tbody tr th:only-of-type {\n",
       "        vertical-align: middle;\n",
       "    }\n",
       "\n",
       "    .dataframe tbody tr th {\n",
       "        vertical-align: top;\n",
       "    }\n",
       "\n",
       "    .dataframe thead th {\n",
       "        text-align: right;\n",
       "    }\n",
       "</style>\n",
       "<table border=\"1\" class=\"dataframe\">\n",
       "  <thead>\n",
       "    <tr style=\"text-align: right;\">\n",
       "      <th></th>\n",
       "      <th>count</th>\n",
       "      <th>min</th>\n",
       "      <th>max</th>\n",
       "      <th>mean</th>\n",
       "    </tr>\n",
       "    <tr>\n",
       "      <th>Pagasts</th>\n",
       "      <th></th>\n",
       "      <th></th>\n",
       "      <th></th>\n",
       "      <th></th>\n",
       "    </tr>\n",
       "  </thead>\n",
       "  <tbody>\n",
       "    <tr>\n",
       "      <th>-</th>\n",
       "      <td>1</td>\n",
       "      <td>144000</td>\n",
       "      <td>144000</td>\n",
       "      <td>144000.000000</td>\n",
       "    </tr>\n",
       "    <tr>\n",
       "      <th>Allažu pag.Allažmuiža</th>\n",
       "      <td>1</td>\n",
       "      <td>90000</td>\n",
       "      <td>90000</td>\n",
       "      <td>90000.000000</td>\n",
       "    </tr>\n",
       "    <tr>\n",
       "      <th>Allažu pag.Egļupe</th>\n",
       "      <td>1</td>\n",
       "      <td>18500</td>\n",
       "      <td>18500</td>\n",
       "      <td>18500.000000</td>\n",
       "    </tr>\n",
       "    <tr>\n",
       "      <th>Babītes pag.Babīte</th>\n",
       "      <td>3</td>\n",
       "      <td>140000</td>\n",
       "      <td>500000</td>\n",
       "      <td>330000.000000</td>\n",
       "    </tr>\n",
       "    <tr>\n",
       "      <th>Babītes pag.Brīvkalni</th>\n",
       "      <td>1</td>\n",
       "      <td>301000</td>\n",
       "      <td>301000</td>\n",
       "      <td>301000.000000</td>\n",
       "    </tr>\n",
       "    <tr>\n",
       "      <th>...</th>\n",
       "      <td>...</td>\n",
       "      <td>...</td>\n",
       "      <td>...</td>\n",
       "      <td>...</td>\n",
       "    </tr>\n",
       "    <tr>\n",
       "      <th>Ķekavas pag.Odukalns</th>\n",
       "      <td>2</td>\n",
       "      <td>134000</td>\n",
       "      <td>250000</td>\n",
       "      <td>192000.000000</td>\n",
       "    </tr>\n",
       "    <tr>\n",
       "      <th>Ķekavas pag.Plakanciems</th>\n",
       "      <td>2</td>\n",
       "      <td>35000</td>\n",
       "      <td>55000</td>\n",
       "      <td>45000.000000</td>\n",
       "    </tr>\n",
       "    <tr>\n",
       "      <th>Ķekavas pag.Rāmava</th>\n",
       "      <td>3</td>\n",
       "      <td>215000</td>\n",
       "      <td>300000</td>\n",
       "      <td>253333.333333</td>\n",
       "    </tr>\n",
       "    <tr>\n",
       "      <th>Ķekavas pag.Vimbukrogs</th>\n",
       "      <td>1</td>\n",
       "      <td>235000</td>\n",
       "      <td>235000</td>\n",
       "      <td>235000.000000</td>\n",
       "    </tr>\n",
       "    <tr>\n",
       "      <th>Ķekavas pag.Ķekava</th>\n",
       "      <td>5</td>\n",
       "      <td>69900</td>\n",
       "      <td>299000</td>\n",
       "      <td>207280.000000</td>\n",
       "    </tr>\n",
       "  </tbody>\n",
       "</table>\n",
       "<p>113 rows × 4 columns</p>\n",
       "</div>"
      ],
      "text/plain": [
       "                         count     min     max           mean\n",
       "Pagasts                                                      \n",
       "-                            1  144000  144000  144000.000000\n",
       "Allažu pag.Allažmuiža        1   90000   90000   90000.000000\n",
       "Allažu pag.Egļupe            1   18500   18500   18500.000000\n",
       "Babītes pag.Babīte           3  140000  500000  330000.000000\n",
       "Babītes pag.Brīvkalni        1  301000  301000  301000.000000\n",
       "...                        ...     ...     ...            ...\n",
       "Ķekavas pag.Odukalns         2  134000  250000  192000.000000\n",
       "Ķekavas pag.Plakanciems      2   35000   55000   45000.000000\n",
       "Ķekavas pag.Rāmava           3  215000  300000  253333.333333\n",
       "Ķekavas pag.Vimbukrogs       1  235000  235000  235000.000000\n",
       "Ķekavas pag.Ķekava           5   69900  299000  207280.000000\n",
       "\n",
       "[113 rows x 4 columns]"
      ]
     },
     "execution_count": 96,
     "metadata": {},
     "output_type": "execute_result"
    }
   ],
   "source": [
    "grouped_by_pag = df.groupby(by=\"Pagasts\")['price'].agg([\"count\", \"min\", \"max\", \"mean\", ])\n",
    "grouped_by_pag"
   ]
  },
  {
   "cell_type": "code",
   "execution_count": 100,
   "metadata": {},
   "outputs": [
    {
     "data": {
      "text/plain": [
       "array([[<matplotlib.axes._subplots.AxesSubplot object at 0x000001BD3AEB59A0>,\n",
       "        <matplotlib.axes._subplots.AxesSubplot object at 0x000001BD3AF0AE20>],\n",
       "       [<matplotlib.axes._subplots.AxesSubplot object at 0x000001BD3AF332B0>,\n",
       "        <matplotlib.axes._subplots.AxesSubplot object at 0x000001BD3AF4F700>]],\n",
       "      dtype=object)"
      ]
     },
     "execution_count": 100,
     "metadata": {},
     "output_type": "execute_result"
    },
    {
     "data": {
      "image/png": "[encoded data removed]",
      "text/plain": [
       "<Figure size 432x288 with 4 Axes>"
      ]
     },
     "metadata": {
      "needs_background": "light"
     },
     "output_type": "display_data"
    }
   ],
   "source": [
    "grouped_by_pag.hist()"
   ]
  },
  {
   "cell_type": "code",
   "execution_count": 101,
   "metadata": {},
   "outputs": [
    {
     "ename": "KeyError",
     "evalue": "'Pagasts'",
     "output_type": "error",
     "traceback": [
      "\u001b[1;31m---------------------------------------------------------------------------\u001b[0m",
      "\u001b[1;31mKeyError\u001b[0m                                  Traceback (most recent call last)",
      "\u001b[1;32m~\\anaconda3\\lib\\site-packages\\pandas\\core\\indexes\\base.py\u001b[0m in \u001b[0;36mget_loc\u001b[1;34m(self, key, method, tolerance)\u001b[0m\n\u001b[0;32m   2645\u001b[0m             \u001b[1;32mtry\u001b[0m\u001b[1;33m:\u001b[0m\u001b[1;33m\u001b[0m\u001b[1;33m\u001b[0m\u001b[0m\n\u001b[1;32m-> 2646\u001b[1;33m                 \u001b[1;32mreturn\u001b[0m \u001b[0mself\u001b[0m\u001b[1;33m.\u001b[0m\u001b[0m_engine\u001b[0m\u001b[1;33m.\u001b[0m\u001b[0mget_loc\u001b[0m\u001b[1;33m(\u001b[0m\u001b[0mkey\u001b[0m\u001b[1;33m)\u001b[0m\u001b[1;33m\u001b[0m\u001b[1;33m\u001b[0m\u001b[0m\n\u001b[0m\u001b[0;32m   2647\u001b[0m             \u001b[1;32mexcept\u001b[0m \u001b[0mKeyError\u001b[0m\u001b[1;33m:\u001b[0m\u001b[1;33m\u001b[0m\u001b[1;33m\u001b[0m\u001b[0m\n",
      "\u001b[1;32mpandas\\_libs\\index.pyx\u001b[0m in \u001b[0;36mpandas._libs.index.IndexEngine.get_loc\u001b[1;34m()\u001b[0m\n",
      "\u001b[1;32mpandas\\_libs\\index.pyx\u001b[0m in \u001b[0;36mpandas._libs.index.IndexEngine.get_loc\u001b[1;34m()\u001b[0m\n",
      "\u001b[1;32mpandas\\_libs\\hashtable_class_helper.pxi\u001b[0m in \u001b[0;36mpandas._libs.hashtable.PyObjectHashTable.get_item\u001b[1;34m()\u001b[0m\n",
      "\u001b[1;32mpandas\\_libs\\hashtable_class_helper.pxi\u001b[0m in \u001b[0;36mpandas._libs.hashtable.PyObjectHashTable.get_item\u001b[1;34m()\u001b[0m\n",
      "\u001b[1;31mKeyError\u001b[0m: 'Pagasts'",
      "\nDuring handling of the above exception, another exception occurred:\n",
      "\u001b[1;31mKeyError\u001b[0m                                  Traceback (most recent call last)",
      "\u001b[1;32m<ipython-input-101-0f8b4786a57f>\u001b[0m in \u001b[0;36m<module>\u001b[1;34m\u001b[0m\n\u001b[1;32m----> 1\u001b[1;33m \u001b[0mgrouped_by_pag\u001b[0m\u001b[1;33m.\u001b[0m\u001b[0mplot\u001b[0m\u001b[1;33m(\u001b[0m\u001b[0mx\u001b[0m\u001b[1;33m=\u001b[0m\u001b[1;34m\"Pagasts\"\u001b[0m\u001b[1;33m,\u001b[0m \u001b[0my\u001b[0m\u001b[1;33m=\u001b[0m\u001b[1;34m\"mean\"\u001b[0m\u001b[1;33m)\u001b[0m\u001b[1;33m\u001b[0m\u001b[1;33m\u001b[0m\u001b[0m\n\u001b[0m",
      "\u001b[1;32m~\\anaconda3\\lib\\site-packages\\pandas\\plotting\\_core.py\u001b[0m in \u001b[0;36m__call__\u001b[1;34m(self, *args, **kwargs)\u001b[0m\n\u001b[0;32m    810\u001b[0m                 \u001b[1;32mif\u001b[0m \u001b[0mis_integer\u001b[0m\u001b[1;33m(\u001b[0m\u001b[0mx\u001b[0m\u001b[1;33m)\u001b[0m \u001b[1;32mand\u001b[0m \u001b[1;32mnot\u001b[0m \u001b[0mdata\u001b[0m\u001b[1;33m.\u001b[0m\u001b[0mcolumns\u001b[0m\u001b[1;33m.\u001b[0m\u001b[0mholds_integer\u001b[0m\u001b[1;33m(\u001b[0m\u001b[1;33m)\u001b[0m\u001b[1;33m:\u001b[0m\u001b[1;33m\u001b[0m\u001b[1;33m\u001b[0m\u001b[0m\n\u001b[0;32m    811\u001b[0m                     \u001b[0mx\u001b[0m \u001b[1;33m=\u001b[0m \u001b[0mdata_cols\u001b[0m\u001b[1;33m[\u001b[0m\u001b[0mx\u001b[0m\u001b[1;33m]\u001b[0m\u001b[1;33m\u001b[0m\u001b[1;33m\u001b[0m\u001b[0m\n\u001b[1;32m--> 812\u001b[1;33m                 \u001b[1;32melif\u001b[0m \u001b[1;32mnot\u001b[0m \u001b[0misinstance\u001b[0m\u001b[1;33m(\u001b[0m\u001b[0mdata\u001b[0m\u001b[1;33m[\u001b[0m\u001b[0mx\u001b[0m\u001b[1;33m]\u001b[0m\u001b[1;33m,\u001b[0m \u001b[0mABCSeries\u001b[0m\u001b[1;33m)\u001b[0m\u001b[1;33m:\u001b[0m\u001b[1;33m\u001b[0m\u001b[1;33m\u001b[0m\u001b[0m\n\u001b[0m\u001b[0;32m    813\u001b[0m                     \u001b[1;32mraise\u001b[0m \u001b[0mValueError\u001b[0m\u001b[1;33m(\u001b[0m\u001b[1;34m\"x must be a label or position\"\u001b[0m\u001b[1;33m)\u001b[0m\u001b[1;33m\u001b[0m\u001b[1;33m\u001b[0m\u001b[0m\n\u001b[0;32m    814\u001b[0m                 \u001b[0mdata\u001b[0m \u001b[1;33m=\u001b[0m \u001b[0mdata\u001b[0m\u001b[1;33m.\u001b[0m\u001b[0mset_index\u001b[0m\u001b[1;33m(\u001b[0m\u001b[0mx\u001b[0m\u001b[1;33m)\u001b[0m\u001b[1;33m\u001b[0m\u001b[1;33m\u001b[0m\u001b[0m\n",
      "\u001b[1;32m~\\anaconda3\\lib\\site-packages\\pandas\\core\\frame.py\u001b[0m in \u001b[0;36m__getitem__\u001b[1;34m(self, key)\u001b[0m\n\u001b[0;32m   2798\u001b[0m             \u001b[1;32mif\u001b[0m \u001b[0mself\u001b[0m\u001b[1;33m.\u001b[0m\u001b[0mcolumns\u001b[0m\u001b[1;33m.\u001b[0m\u001b[0mnlevels\u001b[0m \u001b[1;33m>\u001b[0m \u001b[1;36m1\u001b[0m\u001b[1;33m:\u001b[0m\u001b[1;33m\u001b[0m\u001b[1;33m\u001b[0m\u001b[0m\n\u001b[0;32m   2799\u001b[0m                 \u001b[1;32mreturn\u001b[0m \u001b[0mself\u001b[0m\u001b[1;33m.\u001b[0m\u001b[0m_getitem_multilevel\u001b[0m\u001b[1;33m(\u001b[0m\u001b[0mkey\u001b[0m\u001b[1;33m)\u001b[0m\u001b[1;33m\u001b[0m\u001b[1;33m\u001b[0m\u001b[0m\n\u001b[1;32m-> 2800\u001b[1;33m             \u001b[0mindexer\u001b[0m \u001b[1;33m=\u001b[0m \u001b[0mself\u001b[0m\u001b[1;33m.\u001b[0m\u001b[0mcolumns\u001b[0m\u001b[1;33m.\u001b[0m\u001b[0mget_loc\u001b[0m\u001b[1;33m(\u001b[0m\u001b[0mkey\u001b[0m\u001b[1;33m)\u001b[0m\u001b[1;33m\u001b[0m\u001b[1;33m\u001b[0m\u001b[0m\n\u001b[0m\u001b[0;32m   2801\u001b[0m             \u001b[1;32mif\u001b[0m \u001b[0mis_integer\u001b[0m\u001b[1;33m(\u001b[0m\u001b[0mindexer\u001b[0m\u001b[1;33m)\u001b[0m\u001b[1;33m:\u001b[0m\u001b[1;33m\u001b[0m\u001b[1;33m\u001b[0m\u001b[0m\n\u001b[0;32m   2802\u001b[0m                 \u001b[0mindexer\u001b[0m \u001b[1;33m=\u001b[0m \u001b[1;33m[\u001b[0m\u001b[0mindexer\u001b[0m\u001b[1;33m]\u001b[0m\u001b[1;33m\u001b[0m\u001b[1;33m\u001b[0m\u001b[0m\n",
      "\u001b[1;32m~\\anaconda3\\lib\\site-packages\\pandas\\core\\indexes\\base.py\u001b[0m in \u001b[0;36mget_loc\u001b[1;34m(self, key, method, tolerance)\u001b[0m\n\u001b[0;32m   2646\u001b[0m                 \u001b[1;32mreturn\u001b[0m \u001b[0mself\u001b[0m\u001b[1;33m.\u001b[0m\u001b[0m_engine\u001b[0m\u001b[1;33m.\u001b[0m\u001b[0mget_loc\u001b[0m\u001b[1;33m(\u001b[0m\u001b[0mkey\u001b[0m\u001b[1;33m)\u001b[0m\u001b[1;33m\u001b[0m\u001b[1;33m\u001b[0m\u001b[0m\n\u001b[0;32m   2647\u001b[0m             \u001b[1;32mexcept\u001b[0m \u001b[0mKeyError\u001b[0m\u001b[1;33m:\u001b[0m\u001b[1;33m\u001b[0m\u001b[1;33m\u001b[0m\u001b[0m\n\u001b[1;32m-> 2648\u001b[1;33m                 \u001b[1;32mreturn\u001b[0m \u001b[0mself\u001b[0m\u001b[1;33m.\u001b[0m\u001b[0m_engine\u001b[0m\u001b[1;33m.\u001b[0m\u001b[0mget_loc\u001b[0m\u001b[1;33m(\u001b[0m\u001b[0mself\u001b[0m\u001b[1;33m.\u001b[0m\u001b[0m_maybe_cast_indexer\u001b[0m\u001b[1;33m(\u001b[0m\u001b[0mkey\u001b[0m\u001b[1;33m)\u001b[0m\u001b[1;33m)\u001b[0m\u001b[1;33m\u001b[0m\u001b[1;33m\u001b[0m\u001b[0m\n\u001b[0m\u001b[0;32m   2649\u001b[0m         \u001b[0mindexer\u001b[0m \u001b[1;33m=\u001b[0m \u001b[0mself\u001b[0m\u001b[1;33m.\u001b[0m\u001b[0mget_indexer\u001b[0m\u001b[1;33m(\u001b[0m\u001b[1;33m[\u001b[0m\u001b[0mkey\u001b[0m\u001b[1;33m]\u001b[0m\u001b[1;33m,\u001b[0m \u001b[0mmethod\u001b[0m\u001b[1;33m=\u001b[0m\u001b[0mmethod\u001b[0m\u001b[1;33m,\u001b[0m \u001b[0mtolerance\u001b[0m\u001b[1;33m=\u001b[0m\u001b[0mtolerance\u001b[0m\u001b[1;33m)\u001b[0m\u001b[1;33m\u001b[0m\u001b[1;33m\u001b[0m\u001b[0m\n\u001b[0;32m   2650\u001b[0m         \u001b[1;32mif\u001b[0m \u001b[0mindexer\u001b[0m\u001b[1;33m.\u001b[0m\u001b[0mndim\u001b[0m \u001b[1;33m>\u001b[0m \u001b[1;36m1\u001b[0m \u001b[1;32mor\u001b[0m \u001b[0mindexer\u001b[0m\u001b[1;33m.\u001b[0m\u001b[0msize\u001b[0m \u001b[1;33m>\u001b[0m \u001b[1;36m1\u001b[0m\u001b[1;33m:\u001b[0m\u001b[1;33m\u001b[0m\u001b[1;33m\u001b[0m\u001b[0m\n",
      "\u001b[1;32mpandas\\_libs\\index.pyx\u001b[0m in \u001b[0;36mpandas._libs.index.IndexEngine.get_loc\u001b[1;34m()\u001b[0m\n",
      "\u001b[1;32mpandas\\_libs\\index.pyx\u001b[0m in \u001b[0;36mpandas._libs.index.IndexEngine.get_loc\u001b[1;34m()\u001b[0m\n",
      "\u001b[1;32mpandas\\_libs\\hashtable_class_helper.pxi\u001b[0m in \u001b[0;36mpandas._libs.hashtable.PyObjectHashTable.get_item\u001b[1;34m()\u001b[0m\n",
      "\u001b[1;32mpandas\\_libs\\hashtable_class_helper.pxi\u001b[0m in \u001b[0;36mpandas._libs.hashtable.PyObjectHashTable.get_item\u001b[1;34m()\u001b[0m\n",
      "\u001b[1;31mKeyError\u001b[0m: 'Pagasts'"
     ]
    }
   ],
   "source": [
    "grouped_by_pag.plot(x=\"Pagasts\", y=\"mean\")"
   ]
  },
  {
   "cell_type": "code",
   "execution_count": null,
   "metadata": {},
   "outputs": [],
   "source": [
    "df.to_excel(\"c:/temp/my_apartments.xlsx\") # i could this with absolute path"
   ]
  },
  {
   "cell_type": "code",
   "execution_count": null,
   "metadata": {},
   "outputs": [],
   "source": [
    "from datetime import datetime as dt\n",
    "now = dt.now()\n",
    "now.month, now.day, now.hour, now.second"
   ]
  },
  {
   "cell_type": "code",
   "execution_count": null,
   "metadata": {},
   "outputs": [],
   "source": [
    "# url = \"https://www.ss.com/lv/real-estate/flats/riga/sarkandaugava/hand_over/\"\n",
    "url = centrs\n",
    "region = url.split(\"riga/\")[-1].split(\"/\")[0]\n",
    "now = dt.now()\n",
    "save_path = f\"../data/{region}_{now.day}_{now.month}__{now.hour}_{now.second}.xlsx\"\n",
    "save_path"
   ]
  },
  {
   "cell_type": "code",
   "execution_count": null,
   "metadata": {},
   "outputs": [],
   "source": [
    "url = \"https://www.ss.com/lv/real-estate/flats/riga/sarkandaugava/hand_over/\"\n",
    "region = url.split(\"riga/\")[-1].split(\"/\")[0]\n",
    "now = dt.now()\n",
    "save_path = f\"../data/{region}_{now.day}_{now.month}__{now.hour}_{now.second}.xlsx\"\n",
    "\n",
    "df = get_all_ads_df(url, save_path)"
   ]
  },
  {
   "cell_type": "code",
   "execution_count": null,
   "metadata": {},
   "outputs": [],
   "source": [
    "url = \"https://www.ss.com/lv/transport/cars/vaz/riga_f/\"\n",
    "df = get_all_ads_df(url, \"../data/vaz_18_03.xlsx\")"
   ]
  },
  {
   "cell_type": "markdown",
   "metadata": {},
   "source": [
    "# TODO \n",
    "# Try with different starting address not only centrs\n",
    "## Maybe combine regions\n",
    "## See how it would work with maybe cars\n",
    "## Data engineering make new columns based on existing ones, clean some columns\n",
    "### Changing floors 2/6 to columns 2 and 6, clean up Euro signs\n",
    "## Sorting, Describing, Grouping by regions etc"
   ]
  },
  {
   "cell_type": "code",
   "execution_count": null,
   "metadata": {},
   "outputs": [],
   "source": [
    "df = pd.read_excel(\"centrs_10_03.xlsx\")\n",
    "df.head()"
   ]
  },
  {
   "cell_type": "code",
   "execution_count": 83,
   "metadata": {},
   "outputs": [
    {
     "data": {
      "text/plain": [
       "(630, 11)"
      ]
     },
     "execution_count": 83,
     "metadata": {},
     "output_type": "execute_result"
    }
   ],
   "source": [
    "df.shape"
   ]
  },
  {
   "cell_type": "code",
   "execution_count": 84,
   "metadata": {},
   "outputs": [
    {
     "data": {
      "text/html": [
       "<div>\n",
       "<style scoped>\n",
       "    .dataframe tbody tr th:only-of-type {\n",
       "        vertical-align: middle;\n",
       "    }\n",
       "\n",
       "    .dataframe tbody tr th {\n",
       "        vertical-align: top;\n",
       "    }\n",
       "\n",
       "    .dataframe thead th {\n",
       "        text-align: right;\n",
       "    }\n",
       "</style>\n",
       "<table border=\"1\" class=\"dataframe\">\n",
       "  <thead>\n",
       "    <tr style=\"text-align: right;\">\n",
       "      <th></th>\n",
       "      <th>description</th>\n",
       "      <th>url</th>\n",
       "      <th>Iela</th>\n",
       "      <th>Ist.</th>\n",
       "      <th>m2</th>\n",
       "      <th>Stāvs</th>\n",
       "      <th>Sērija</th>\n",
       "      <th>Cena, m2</th>\n",
       "      <th>Cena</th>\n",
       "      <th>Floor</th>\n",
       "      <th>MaxFloor</th>\n",
       "      <th>price</th>\n",
       "    </tr>\n",
       "  </thead>\n",
       "  <tbody>\n",
       "    <tr>\n",
       "      <th>0</th>\n",
       "      <td>Augstas kvalitātes Jūgendstila dizaina dzīvokl...</td>\n",
       "      <td>https://ss.com/msg/lv/real-estate/flats/riga/c...</td>\n",
       "      <td>Pulkv. Brieža 11</td>\n",
       "      <td>3</td>\n",
       "      <td>90</td>\n",
       "      <td>3/5</td>\n",
       "      <td>P. kara</td>\n",
       "      <td>2,889 €</td>\n",
       "      <td>260,000  €</td>\n",
       "      <td>3</td>\n",
       "      <td>5</td>\n",
       "      <td>260,000</td>\n",
       "    </tr>\n",
       "    <tr>\n",
       "      <th>1</th>\n",
       "      <td>Balkons, panorāmas skats. \\r\\nBrīnišķīgs, plaš...</td>\n",
       "      <td>https://ss.com/msg/lv/real-estate/flats/riga/c...</td>\n",
       "      <td>Baznīcas 13</td>\n",
       "      <td>3</td>\n",
       "      <td>126</td>\n",
       "      <td>5/6</td>\n",
       "      <td>P. kara</td>\n",
       "      <td>2,302 €</td>\n",
       "      <td>290,000  €</td>\n",
       "      <td>5</td>\n",
       "      <td>6</td>\n",
       "      <td>290,000</td>\n",
       "    </tr>\n",
       "    <tr>\n",
       "      <th>2</th>\n",
       "      <td>Par samazinātu cenu, ar apgrūtinājumiem, īpašn...</td>\n",
       "      <td>https://ss.com/msg/lv/real-estate/flats/riga/c...</td>\n",
       "      <td>Ganību d. 13</td>\n",
       "      <td>2</td>\n",
       "      <td>39</td>\n",
       "      <td>2/6</td>\n",
       "      <td>Jaun.</td>\n",
       "      <td>1,603 €</td>\n",
       "      <td>62,500  €</td>\n",
       "      <td>2</td>\n",
       "      <td>6</td>\n",
       "      <td>62,500</td>\n",
       "    </tr>\n",
       "    <tr>\n",
       "      <th>3</th>\n",
       "      <td>Продаю отремонтированную, полностью меблирован...</td>\n",
       "      <td>https://ss.com/msg/lv/real-estate/flats/riga/c...</td>\n",
       "      <td>Hospitāļu 7</td>\n",
       "      <td>3</td>\n",
       "      <td>69</td>\n",
       "      <td>1/5</td>\n",
       "      <td>Specpr.</td>\n",
       "      <td>1,348 €</td>\n",
       "      <td>93,000  €</td>\n",
       "      <td>1</td>\n",
       "      <td>5</td>\n",
       "      <td>93,000</td>\n",
       "    </tr>\n",
       "    <tr>\n",
       "      <th>4</th>\n",
       "      <td>Plašs, pārdomāts studijas tipa dzīvoklis Vecrī...</td>\n",
       "      <td>https://ss.com/msg/lv/real-estate/flats/riga/c...</td>\n",
       "      <td>Jēkaba 26/28</td>\n",
       "      <td>1</td>\n",
       "      <td>54</td>\n",
       "      <td>4/5</td>\n",
       "      <td>Renov.</td>\n",
       "      <td>1,667 €</td>\n",
       "      <td>90,000  €</td>\n",
       "      <td>4</td>\n",
       "      <td>5</td>\n",
       "      <td>90,000</td>\n",
       "    </tr>\n",
       "  </tbody>\n",
       "</table>\n",
       "</div>"
      ],
      "text/plain": [
       "                                         description  \\\n",
       "0  Augstas kvalitātes Jūgendstila dizaina dzīvokl...   \n",
       "1  Balkons, panorāmas skats. \\r\\nBrīnišķīgs, plaš...   \n",
       "2  Par samazinātu cenu, ar apgrūtinājumiem, īpašn...   \n",
       "3  Продаю отремонтированную, полностью меблирован...   \n",
       "4  Plašs, pārdomāts studijas tipa dzīvoklis Vecrī...   \n",
       "\n",
       "                                                 url              Iela Ist.  \\\n",
       "0  https://ss.com/msg/lv/real-estate/flats/riga/c...  Pulkv. Brieža 11    3   \n",
       "1  https://ss.com/msg/lv/real-estate/flats/riga/c...       Baznīcas 13    3   \n",
       "2  https://ss.com/msg/lv/real-estate/flats/riga/c...      Ganību d. 13    2   \n",
       "3  https://ss.com/msg/lv/real-estate/flats/riga/c...       Hospitāļu 7    3   \n",
       "4  https://ss.com/msg/lv/real-estate/flats/riga/c...      Jēkaba 26/28    1   \n",
       "\n",
       "    m2 Stāvs   Sērija Cena, m2        Cena Floor MaxFloor    price  \n",
       "0   90   3/5  P. kara  2,889 €  260,000  €     3        5  260,000  \n",
       "1  126   5/6  P. kara  2,302 €  290,000  €     5        6  290,000  \n",
       "2   39   2/6    Jaun.  1,603 €   62,500  €     2        6   62,500  \n",
       "3   69   1/5  Specpr.  1,348 €   93,000  €     1        5   93,000  \n",
       "4   54   4/5   Renov.  1,667 €   90,000  €     4        5   90,000  "
      ]
     },
     "execution_count": 84,
     "metadata": {},
     "output_type": "execute_result"
    }
   ],
   "source": [
    "df[\"price\"] = df.Cena.str.split(' ').str[0]\n",
    "df.head()"
   ]
  },
  {
   "cell_type": "code",
   "execution_count": 85,
   "metadata": {},
   "outputs": [
    {
     "data": {
      "text/html": [
       "<div>\n",
       "<style scoped>\n",
       "    .dataframe tbody tr th:only-of-type {\n",
       "        vertical-align: middle;\n",
       "    }\n",
       "\n",
       "    .dataframe tbody tr th {\n",
       "        vertical-align: top;\n",
       "    }\n",
       "\n",
       "    .dataframe thead th {\n",
       "        text-align: right;\n",
       "    }\n",
       "</style>\n",
       "<table border=\"1\" class=\"dataframe\">\n",
       "  <thead>\n",
       "    <tr style=\"text-align: right;\">\n",
       "      <th></th>\n",
       "      <th>description</th>\n",
       "      <th>url</th>\n",
       "      <th>Iela</th>\n",
       "      <th>Ist.</th>\n",
       "      <th>m2</th>\n",
       "      <th>Stāvs</th>\n",
       "      <th>Sērija</th>\n",
       "      <th>Cena, m2</th>\n",
       "      <th>Cena</th>\n",
       "      <th>Floor</th>\n",
       "      <th>MaxFloor</th>\n",
       "      <th>price</th>\n",
       "    </tr>\n",
       "  </thead>\n",
       "  <tbody>\n",
       "    <tr>\n",
       "      <th>0</th>\n",
       "      <td>Augstas kvalitātes Jūgendstila dizaina dzīvokl...</td>\n",
       "      <td>https://ss.com/msg/lv/real-estate/flats/riga/c...</td>\n",
       "      <td>Pulkv. Brieža 11</td>\n",
       "      <td>3</td>\n",
       "      <td>90</td>\n",
       "      <td>3/5</td>\n",
       "      <td>P. kara</td>\n",
       "      <td>2,889 €</td>\n",
       "      <td>260,000  €</td>\n",
       "      <td>3</td>\n",
       "      <td>5</td>\n",
       "      <td>260000</td>\n",
       "    </tr>\n",
       "    <tr>\n",
       "      <th>1</th>\n",
       "      <td>Balkons, panorāmas skats. \\r\\nBrīnišķīgs, plaš...</td>\n",
       "      <td>https://ss.com/msg/lv/real-estate/flats/riga/c...</td>\n",
       "      <td>Baznīcas 13</td>\n",
       "      <td>3</td>\n",
       "      <td>126</td>\n",
       "      <td>5/6</td>\n",
       "      <td>P. kara</td>\n",
       "      <td>2,302 €</td>\n",
       "      <td>290,000  €</td>\n",
       "      <td>5</td>\n",
       "      <td>6</td>\n",
       "      <td>290000</td>\n",
       "    </tr>\n",
       "    <tr>\n",
       "      <th>2</th>\n",
       "      <td>Par samazinātu cenu, ar apgrūtinājumiem, īpašn...</td>\n",
       "      <td>https://ss.com/msg/lv/real-estate/flats/riga/c...</td>\n",
       "      <td>Ganību d. 13</td>\n",
       "      <td>2</td>\n",
       "      <td>39</td>\n",
       "      <td>2/6</td>\n",
       "      <td>Jaun.</td>\n",
       "      <td>1,603 €</td>\n",
       "      <td>62,500  €</td>\n",
       "      <td>2</td>\n",
       "      <td>6</td>\n",
       "      <td>62500</td>\n",
       "    </tr>\n",
       "    <tr>\n",
       "      <th>3</th>\n",
       "      <td>Продаю отремонтированную, полностью меблирован...</td>\n",
       "      <td>https://ss.com/msg/lv/real-estate/flats/riga/c...</td>\n",
       "      <td>Hospitāļu 7</td>\n",
       "      <td>3</td>\n",
       "      <td>69</td>\n",
       "      <td>1/5</td>\n",
       "      <td>Specpr.</td>\n",
       "      <td>1,348 €</td>\n",
       "      <td>93,000  €</td>\n",
       "      <td>1</td>\n",
       "      <td>5</td>\n",
       "      <td>93000</td>\n",
       "    </tr>\n",
       "    <tr>\n",
       "      <th>4</th>\n",
       "      <td>Plašs, pārdomāts studijas tipa dzīvoklis Vecrī...</td>\n",
       "      <td>https://ss.com/msg/lv/real-estate/flats/riga/c...</td>\n",
       "      <td>Jēkaba 26/28</td>\n",
       "      <td>1</td>\n",
       "      <td>54</td>\n",
       "      <td>4/5</td>\n",
       "      <td>Renov.</td>\n",
       "      <td>1,667 €</td>\n",
       "      <td>90,000  €</td>\n",
       "      <td>4</td>\n",
       "      <td>5</td>\n",
       "      <td>90000</td>\n",
       "    </tr>\n",
       "  </tbody>\n",
       "</table>\n",
       "</div>"
      ],
      "text/plain": [
       "                                         description  \\\n",
       "0  Augstas kvalitātes Jūgendstila dizaina dzīvokl...   \n",
       "1  Balkons, panorāmas skats. \\r\\nBrīnišķīgs, plaš...   \n",
       "2  Par samazinātu cenu, ar apgrūtinājumiem, īpašn...   \n",
       "3  Продаю отремонтированную, полностью меблирован...   \n",
       "4  Plašs, pārdomāts studijas tipa dzīvoklis Vecrī...   \n",
       "\n",
       "                                                 url              Iela Ist.  \\\n",
       "0  https://ss.com/msg/lv/real-estate/flats/riga/c...  Pulkv. Brieža 11    3   \n",
       "1  https://ss.com/msg/lv/real-estate/flats/riga/c...       Baznīcas 13    3   \n",
       "2  https://ss.com/msg/lv/real-estate/flats/riga/c...      Ganību d. 13    2   \n",
       "3  https://ss.com/msg/lv/real-estate/flats/riga/c...       Hospitāļu 7    3   \n",
       "4  https://ss.com/msg/lv/real-estate/flats/riga/c...      Jēkaba 26/28    1   \n",
       "\n",
       "    m2 Stāvs   Sērija Cena, m2        Cena Floor MaxFloor   price  \n",
       "0   90   3/5  P. kara  2,889 €  260,000  €     3        5  260000  \n",
       "1  126   5/6  P. kara  2,302 €  290,000  €     5        6  290000  \n",
       "2   39   2/6    Jaun.  1,603 €   62,500  €     2        6   62500  \n",
       "3   69   1/5  Specpr.  1,348 €   93,000  €     1        5   93000  \n",
       "4   54   4/5   Renov.  1,667 €   90,000  €     4        5   90000  "
      ]
     },
     "execution_count": 85,
     "metadata": {},
     "output_type": "execute_result"
    }
   ],
   "source": [
    "df.price = df.price.str.replace(\",\",\"\").astype('int32') # so clean string of , and then convert to integer\n",
    "df.head()"
   ]
  },
  {
   "cell_type": "code",
   "execution_count": 86,
   "metadata": {},
   "outputs": [
    {
     "data": {
      "text/plain": [
       "<matplotlib.axes._subplots.AxesSubplot at 0x1a68d45ac10>"
      ]
     },
     "execution_count": 86,
     "metadata": {},
     "output_type": "execute_result"
    },
    {
     "data": {
      "image/png": "[encoded data removed]",
      "text/plain": [
       "<Figure size 432x288 with 1 Axes>"
      ]
     },
     "metadata": {
      "needs_background": "light"
     },
     "output_type": "display_data"
    }
   ],
   "source": [
    "df.price.hist()"
   ]
  },
  {
   "cell_type": "code",
   "execution_count": null,
   "metadata": {},
   "outputs": [],
   "source": [
    "df[['Floor','MaxFloor']] = df.Stāvs.str.split(\"/\",expand=True) \n",
    "df.info()"
   ]
  },
  {
   "cell_type": "code",
   "execution_count": 87,
   "metadata": {},
   "outputs": [],
   "source": [
    "#typecasting example\n",
    "df.Floor = df.Floor.astype('int32')\n",
    "df.MaxFloor = df.MaxFloor.astype('int32')"
   ]
  },
  {
   "cell_type": "code",
   "execution_count": 88,
   "metadata": {},
   "outputs": [
    {
     "data": {
      "text/html": [
       "<div>\n",
       "<style scoped>\n",
       "    .dataframe tbody tr th:only-of-type {\n",
       "        vertical-align: middle;\n",
       "    }\n",
       "\n",
       "    .dataframe tbody tr th {\n",
       "        vertical-align: top;\n",
       "    }\n",
       "\n",
       "    .dataframe thead th {\n",
       "        text-align: right;\n",
       "    }\n",
       "</style>\n",
       "<table border=\"1\" class=\"dataframe\">\n",
       "  <thead>\n",
       "    <tr style=\"text-align: right;\">\n",
       "      <th></th>\n",
       "      <th>description</th>\n",
       "      <th>url</th>\n",
       "      <th>Iela</th>\n",
       "      <th>Ist.</th>\n",
       "      <th>m2</th>\n",
       "      <th>Stāvs</th>\n",
       "      <th>Sērija</th>\n",
       "      <th>Cena, m2</th>\n",
       "      <th>Cena</th>\n",
       "      <th>Floor</th>\n",
       "      <th>MaxFloor</th>\n",
       "      <th>price</th>\n",
       "    </tr>\n",
       "  </thead>\n",
       "  <tbody>\n",
       "    <tr>\n",
       "      <th>0</th>\n",
       "      <td>Augstas kvalitātes Jūgendstila dizaina dzīvokl...</td>\n",
       "      <td>https://ss.com/msg/lv/real-estate/flats/riga/c...</td>\n",
       "      <td>Pulkv. Brieža 11</td>\n",
       "      <td>3</td>\n",
       "      <td>90</td>\n",
       "      <td>3/5</td>\n",
       "      <td>P. kara</td>\n",
       "      <td>2,889 €</td>\n",
       "      <td>260,000  €</td>\n",
       "      <td>3</td>\n",
       "      <td>5</td>\n",
       "      <td>260000</td>\n",
       "    </tr>\n",
       "    <tr>\n",
       "      <th>1</th>\n",
       "      <td>Balkons, panorāmas skats. \\r\\nBrīnišķīgs, plaš...</td>\n",
       "      <td>https://ss.com/msg/lv/real-estate/flats/riga/c...</td>\n",
       "      <td>Baznīcas 13</td>\n",
       "      <td>3</td>\n",
       "      <td>126</td>\n",
       "      <td>5/6</td>\n",
       "      <td>P. kara</td>\n",
       "      <td>2,302 €</td>\n",
       "      <td>290,000  €</td>\n",
       "      <td>5</td>\n",
       "      <td>6</td>\n",
       "      <td>290000</td>\n",
       "    </tr>\n",
       "    <tr>\n",
       "      <th>2</th>\n",
       "      <td>Par samazinātu cenu, ar apgrūtinājumiem, īpašn...</td>\n",
       "      <td>https://ss.com/msg/lv/real-estate/flats/riga/c...</td>\n",
       "      <td>Ganību d. 13</td>\n",
       "      <td>2</td>\n",
       "      <td>39</td>\n",
       "      <td>2/6</td>\n",
       "      <td>Jaun.</td>\n",
       "      <td>1,603 €</td>\n",
       "      <td>62,500  €</td>\n",
       "      <td>2</td>\n",
       "      <td>6</td>\n",
       "      <td>62500</td>\n",
       "    </tr>\n",
       "    <tr>\n",
       "      <th>3</th>\n",
       "      <td>Продаю отремонтированную, полностью меблирован...</td>\n",
       "      <td>https://ss.com/msg/lv/real-estate/flats/riga/c...</td>\n",
       "      <td>Hospitāļu 7</td>\n",
       "      <td>3</td>\n",
       "      <td>69</td>\n",
       "      <td>1/5</td>\n",
       "      <td>Specpr.</td>\n",
       "      <td>1,348 €</td>\n",
       "      <td>93,000  €</td>\n",
       "      <td>1</td>\n",
       "      <td>5</td>\n",
       "      <td>93000</td>\n",
       "    </tr>\n",
       "    <tr>\n",
       "      <th>4</th>\n",
       "      <td>Plašs, pārdomāts studijas tipa dzīvoklis Vecrī...</td>\n",
       "      <td>https://ss.com/msg/lv/real-estate/flats/riga/c...</td>\n",
       "      <td>Jēkaba 26/28</td>\n",
       "      <td>1</td>\n",
       "      <td>54</td>\n",
       "      <td>4/5</td>\n",
       "      <td>Renov.</td>\n",
       "      <td>1,667 €</td>\n",
       "      <td>90,000  €</td>\n",
       "      <td>4</td>\n",
       "      <td>5</td>\n",
       "      <td>90000</td>\n",
       "    </tr>\n",
       "  </tbody>\n",
       "</table>\n",
       "</div>"
      ],
      "text/plain": [
       "                                         description  \\\n",
       "0  Augstas kvalitātes Jūgendstila dizaina dzīvokl...   \n",
       "1  Balkons, panorāmas skats. \\r\\nBrīnišķīgs, plaš...   \n",
       "2  Par samazinātu cenu, ar apgrūtinājumiem, īpašn...   \n",
       "3  Продаю отремонтированную, полностью меблирован...   \n",
       "4  Plašs, pārdomāts studijas tipa dzīvoklis Vecrī...   \n",
       "\n",
       "                                                 url              Iela Ist.  \\\n",
       "0  https://ss.com/msg/lv/real-estate/flats/riga/c...  Pulkv. Brieža 11    3   \n",
       "1  https://ss.com/msg/lv/real-estate/flats/riga/c...       Baznīcas 13    3   \n",
       "2  https://ss.com/msg/lv/real-estate/flats/riga/c...      Ganību d. 13    2   \n",
       "3  https://ss.com/msg/lv/real-estate/flats/riga/c...       Hospitāļu 7    3   \n",
       "4  https://ss.com/msg/lv/real-estate/flats/riga/c...      Jēkaba 26/28    1   \n",
       "\n",
       "    m2 Stāvs   Sērija Cena, m2        Cena  Floor  MaxFloor   price  \n",
       "0   90   3/5  P. kara  2,889 €  260,000  €      3         5  260000  \n",
       "1  126   5/6  P. kara  2,302 €  290,000  €      5         6  290000  \n",
       "2   39   2/6    Jaun.  1,603 €   62,500  €      2         6   62500  \n",
       "3   69   1/5  Specpr.  1,348 €   93,000  €      1         5   93000  \n",
       "4   54   4/5   Renov.  1,667 €   90,000  €      4         5   90000  "
      ]
     },
     "execution_count": 88,
     "metadata": {},
     "output_type": "execute_result"
    }
   ],
   "source": [
    "df.head()"
   ]
  },
  {
   "cell_type": "code",
   "execution_count": 89,
   "metadata": {},
   "outputs": [
    {
     "data": {
      "text/html": [
       "<div>\n",
       "<style scoped>\n",
       "    .dataframe tbody tr th:only-of-type {\n",
       "        vertical-align: middle;\n",
       "    }\n",
       "\n",
       "    .dataframe tbody tr th {\n",
       "        vertical-align: top;\n",
       "    }\n",
       "\n",
       "    .dataframe thead th {\n",
       "        text-align: right;\n",
       "    }\n",
       "</style>\n",
       "<table border=\"1\" class=\"dataframe\">\n",
       "  <thead>\n",
       "    <tr style=\"text-align: right;\">\n",
       "      <th></th>\n",
       "      <th>description</th>\n",
       "      <th>url</th>\n",
       "      <th>Iela</th>\n",
       "      <th>Ist.</th>\n",
       "      <th>m2</th>\n",
       "      <th>Stāvs</th>\n",
       "      <th>Sērija</th>\n",
       "      <th>Cena, m2</th>\n",
       "      <th>Cena</th>\n",
       "      <th>Floor</th>\n",
       "      <th>MaxFloor</th>\n",
       "      <th>price</th>\n",
       "    </tr>\n",
       "  </thead>\n",
       "  <tbody>\n",
       "    <tr>\n",
       "      <th>26</th>\n",
       "      <td>Pārdodas plašs, ekskluzīvs dzīvoklis ar unikāl...</td>\n",
       "      <td>https://ss.com/msg/lv/real-estate/flats/riga/c...</td>\n",
       "      <td>J. Daliņa 8</td>\n",
       "      <td>3</td>\n",
       "      <td>167</td>\n",
       "      <td>20/22</td>\n",
       "      <td>Jaun.</td>\n",
       "      <td>4,491 €</td>\n",
       "      <td>750,000  €</td>\n",
       "      <td>20</td>\n",
       "      <td>22</td>\n",
       "      <td>750000</td>\n",
       "    </tr>\n",
       "    <tr>\n",
       "      <th>3</th>\n",
       "      <td>Divistabu dzīvoklis projektā “Skanstes virsotn...</td>\n",
       "      <td>https://ss.com/msg/lv/real-estate/flats/riga/c...</td>\n",
       "      <td>Skanstes 29</td>\n",
       "      <td>2</td>\n",
       "      <td>68</td>\n",
       "      <td>12/24</td>\n",
       "      <td>Jaun.</td>\n",
       "      <td>2,147 €</td>\n",
       "      <td>145,999  €</td>\n",
       "      <td>12</td>\n",
       "      <td>24</td>\n",
       "      <td>145999</td>\n",
       "    </tr>\n",
       "    <tr>\n",
       "      <th>29</th>\n",
       "      <td>Для ценителей просторного жилья, предлагается ...</td>\n",
       "      <td>https://ss.com/msg/lv/real-estate/flats/riga/c...</td>\n",
       "      <td>J. Daliņa 8</td>\n",
       "      <td>4</td>\n",
       "      <td>170</td>\n",
       "      <td>20/24</td>\n",
       "      <td>Jaun.</td>\n",
       "      <td>4,412 €</td>\n",
       "      <td>750,000  €</td>\n",
       "      <td>20</td>\n",
       "      <td>24</td>\n",
       "      <td>750000</td>\n",
       "    </tr>\n",
       "    <tr>\n",
       "      <th>25</th>\n",
       "      <td>Tiek pārdots gaišs un mājīgs 3 istabu dzīvokli...</td>\n",
       "      <td>https://ss.com/msg/lv/real-estate/flats/riga/c...</td>\n",
       "      <td>Grostonas 25</td>\n",
       "      <td>3</td>\n",
       "      <td>109</td>\n",
       "      <td>14/24</td>\n",
       "      <td>Jaun.</td>\n",
       "      <td>2,339 €</td>\n",
       "      <td>255,000  €</td>\n",
       "      <td>14</td>\n",
       "      <td>24</td>\n",
       "      <td>255000</td>\n",
       "    </tr>\n",
       "    <tr>\n",
       "      <th>12</th>\n",
       "      <td>Īpašnieks pārdod siltu, gaišu un plašu dzīvokl...</td>\n",
       "      <td>https://ss.com/msg/lv/real-estate/flats/riga/c...</td>\n",
       "      <td>J. Daliņa 8</td>\n",
       "      <td>4</td>\n",
       "      <td>130</td>\n",
       "      <td>15/24</td>\n",
       "      <td>Jaun.</td>\n",
       "      <td>2,692 €</td>\n",
       "      <td>350,000  €</td>\n",
       "      <td>15</td>\n",
       "      <td>24</td>\n",
       "      <td>350000</td>\n",
       "    </tr>\n",
       "    <tr>\n",
       "      <th>20</th>\n",
       "      <td>Tiek pārdots gaišs un mājīgs 3 istabu dzīvokli...</td>\n",
       "      <td>https://ss.com/msg/lv/real-estate/flats/riga/c...</td>\n",
       "      <td>Grostonas 25</td>\n",
       "      <td>3</td>\n",
       "      <td>109</td>\n",
       "      <td>14/24</td>\n",
       "      <td>Jaun.</td>\n",
       "      <td>2,477 €</td>\n",
       "      <td>270,000  €</td>\n",
       "      <td>14</td>\n",
       "      <td>24</td>\n",
       "      <td>270000</td>\n",
       "    </tr>\n",
       "    <tr>\n",
       "      <th>8</th>\n",
       "      <td>Ideālais dzīvoklis Tev un tavai ģimenei. Mūsdi...</td>\n",
       "      <td>https://ss.com/msg/lv/real-estate/flats/riga/c...</td>\n",
       "      <td>Grostonas 25</td>\n",
       "      <td>4</td>\n",
       "      <td>112</td>\n",
       "      <td>11/23</td>\n",
       "      <td>Jaun.</td>\n",
       "      <td>2,850 €</td>\n",
       "      <td>319,200  €</td>\n",
       "      <td>11</td>\n",
       "      <td>23</td>\n",
       "      <td>319200</td>\n",
       "    </tr>\n",
       "    <tr>\n",
       "      <th>6</th>\n",
       "      <td>Pārdod plašu 4 istabu dzīvokli Skankstes kvart...</td>\n",
       "      <td>https://ss.com/msg/lv/real-estate/flats/riga/c...</td>\n",
       "      <td>Grostonas 25</td>\n",
       "      <td>4</td>\n",
       "      <td>112</td>\n",
       "      <td>11/23</td>\n",
       "      <td>Jaun.</td>\n",
       "      <td>2,850 €</td>\n",
       "      <td>319,200  €</td>\n",
       "      <td>11</td>\n",
       "      <td>23</td>\n",
       "      <td>319200</td>\n",
       "    </tr>\n",
       "  </tbody>\n",
       "</table>\n",
       "</div>"
      ],
      "text/plain": [
       "                                          description  \\\n",
       "26  Pārdodas plašs, ekskluzīvs dzīvoklis ar unikāl...   \n",
       "3   Divistabu dzīvoklis projektā “Skanstes virsotn...   \n",
       "29  Для ценителей просторного жилья, предлагается ...   \n",
       "25  Tiek pārdots gaišs un mājīgs 3 istabu dzīvokli...   \n",
       "12  Īpašnieks pārdod siltu, gaišu un plašu dzīvokl...   \n",
       "20  Tiek pārdots gaišs un mājīgs 3 istabu dzīvokli...   \n",
       "8   Ideālais dzīvoklis Tev un tavai ģimenei. Mūsdi...   \n",
       "6   Pārdod plašu 4 istabu dzīvokli Skankstes kvart...   \n",
       "\n",
       "                                                  url          Iela Ist.   m2  \\\n",
       "26  https://ss.com/msg/lv/real-estate/flats/riga/c...   J. Daliņa 8    3  167   \n",
       "3   https://ss.com/msg/lv/real-estate/flats/riga/c...   Skanstes 29    2   68   \n",
       "29  https://ss.com/msg/lv/real-estate/flats/riga/c...   J. Daliņa 8    4  170   \n",
       "25  https://ss.com/msg/lv/real-estate/flats/riga/c...  Grostonas 25    3  109   \n",
       "12  https://ss.com/msg/lv/real-estate/flats/riga/c...   J. Daliņa 8    4  130   \n",
       "20  https://ss.com/msg/lv/real-estate/flats/riga/c...  Grostonas 25    3  109   \n",
       "8   https://ss.com/msg/lv/real-estate/flats/riga/c...  Grostonas 25    4  112   \n",
       "6   https://ss.com/msg/lv/real-estate/flats/riga/c...  Grostonas 25    4  112   \n",
       "\n",
       "    Stāvs Sērija Cena, m2        Cena  Floor  MaxFloor   price  \n",
       "26  20/22  Jaun.  4,491 €  750,000  €     20        22  750000  \n",
       "3   12/24  Jaun.  2,147 €  145,999  €     12        24  145999  \n",
       "29  20/24  Jaun.  4,412 €  750,000  €     20        24  750000  \n",
       "25  14/24  Jaun.  2,339 €  255,000  €     14        24  255000  \n",
       "12  15/24  Jaun.  2,692 €  350,000  €     15        24  350000  \n",
       "20  14/24  Jaun.  2,477 €  270,000  €     14        24  270000  \n",
       "8   11/23  Jaun.  2,850 €  319,200  €     11        23  319200  \n",
       "6   11/23  Jaun.  2,850 €  319,200  €     11        23  319200  "
      ]
     },
     "execution_count": 89,
     "metadata": {},
     "output_type": "execute_result"
    }
   ],
   "source": [
    "d23 = df[df.MaxFloor > 20]\n",
    "d23"
   ]
  },
  {
   "cell_type": "code",
   "execution_count": 90,
   "metadata": {},
   "outputs": [
    {
     "data": {
      "text/html": [
       "<div>\n",
       "<style scoped>\n",
       "    .dataframe tbody tr th:only-of-type {\n",
       "        vertical-align: middle;\n",
       "    }\n",
       "\n",
       "    .dataframe tbody tr th {\n",
       "        vertical-align: top;\n",
       "    }\n",
       "\n",
       "    .dataframe thead th {\n",
       "        text-align: right;\n",
       "    }\n",
       "</style>\n",
       "<table border=\"1\" class=\"dataframe\">\n",
       "  <thead>\n",
       "    <tr style=\"text-align: right;\">\n",
       "      <th></th>\n",
       "      <th>count</th>\n",
       "      <th>mean</th>\n",
       "      <th>std</th>\n",
       "      <th>min</th>\n",
       "      <th>25%</th>\n",
       "      <th>50%</th>\n",
       "      <th>75%</th>\n",
       "      <th>max</th>\n",
       "    </tr>\n",
       "  </thead>\n",
       "  <tbody>\n",
       "    <tr>\n",
       "      <th>Floor</th>\n",
       "      <td>630.0</td>\n",
       "      <td>3.446032</td>\n",
       "      <td>2.242694</td>\n",
       "      <td>1.0</td>\n",
       "      <td>2.0</td>\n",
       "      <td>3.0</td>\n",
       "      <td>5.0</td>\n",
       "      <td>20.0</td>\n",
       "    </tr>\n",
       "    <tr>\n",
       "      <th>MaxFloor</th>\n",
       "      <td>630.0</td>\n",
       "      <td>5.688889</td>\n",
       "      <td>2.505645</td>\n",
       "      <td>1.0</td>\n",
       "      <td>5.0</td>\n",
       "      <td>5.0</td>\n",
       "      <td>6.0</td>\n",
       "      <td>24.0</td>\n",
       "    </tr>\n",
       "    <tr>\n",
       "      <th>price</th>\n",
       "      <td>630.0</td>\n",
       "      <td>167000.236508</td>\n",
       "      <td>150570.766354</td>\n",
       "      <td>8701.0</td>\n",
       "      <td>78000.0</td>\n",
       "      <td>135000.0</td>\n",
       "      <td>219810.0</td>\n",
       "      <td>2500000.0</td>\n",
       "    </tr>\n",
       "  </tbody>\n",
       "</table>\n",
       "</div>"
      ],
      "text/plain": [
       "          count           mean            std     min      25%       50%  \\\n",
       "Floor     630.0       3.446032       2.242694     1.0      2.0       3.0   \n",
       "MaxFloor  630.0       5.688889       2.505645     1.0      5.0       5.0   \n",
       "price     630.0  167000.236508  150570.766354  8701.0  78000.0  135000.0   \n",
       "\n",
       "               75%        max  \n",
       "Floor          5.0       20.0  \n",
       "MaxFloor       6.0       24.0  \n",
       "price     219810.0  2500000.0  "
      ]
     },
     "execution_count": 90,
     "metadata": {},
     "output_type": "execute_result"
    }
   ],
   "source": [
    "df.describe().T # T is for transposing rows and columns"
   ]
  },
  {
   "cell_type": "code",
   "execution_count": 91,
   "metadata": {},
   "outputs": [],
   "source": [
    "df.describe().T.to_csv(\"center_stats.csv\")"
   ]
  },
  {
   "cell_type": "code",
   "execution_count": 102,
   "metadata": {},
   "outputs": [],
   "source": [
    "import plotly.express as px"
   ]
  },
  {
   "cell_type": "code",
   "execution_count": 105,
   "metadata": {},
   "outputs": [
    {
     "data": {
      "application/vnd.plotly.v1+json": {
       "config": {
        "plotlyServerURL": "https://plot.ly"
       },
       "data": [
        {
         "alignmentgroup": "True",
         "bingroup": "x",
         "hovertemplate": "price=%{x}<br>count=%{y}<extra></extra>",
         "legendgroup": "",
         "marker": {
          "color": "#636efa"
         },
         "name": "",
         "nbinsx": 100,
         "offsetgroup": "",
         "orientation": "v",
         "showlegend": false,
         "type": "histogram",
         "x": [
          250000,
          160000,
          135000,
          46800,
          265000,
          349000,
          315000,
          490000,
          300000,
          230000,
          235000,
          212000,
          212000,
          330000,
          365000,
          15000,
          245000,
          190000,
          197000,
          25000,
          489000,
          64000,
          24000,
          224900,
          480000,
          58000,
          205000,
          45000,
          245000,
          64800,
          115000,
          280000,
          90000,
          155000,
          100000,
          225000,
          225000,
          179000,
          40000,
          107000,
          210000,
          278000,
          25900,
          42000,
          14000,
          300000,
          133500,
          160000,
          130000,
          85000,
          100000,
          48000,
          90000,
          250000,
          215000,
          59000,
          247000,
          181000,
          216000,
          207000,
          350000,
          55000,
          118000,
          19000,
          167500,
          191000,
          24999,
          285000,
          31000,
          23000,
          210000,
          167000,
          189000,
          175000,
          95000,
          245000,
          292000,
          222000,
          69999,
          30000,
          370000,
          80000,
          124000,
          295000,
          175000,
          198000,
          73000,
          51000,
          170000,
          96000,
          599000,
          40000,
          64000,
          22666,
          144000,
          49000,
          106000,
          165000,
          103000,
          129000,
          129000,
          122000,
          64900,
          125900,
          209500,
          115000,
          7500,
          195000,
          167000,
          55000,
          169000,
          60000,
          290000,
          238000,
          20000,
          31000,
          250000,
          42000,
          430000,
          23500,
          295000,
          360000,
          154000,
          255000,
          100000,
          420000,
          11000,
          185000,
          140000,
          38000,
          346000,
          23000,
          1499000,
          42000,
          210000,
          143000,
          195000,
          65000,
          35000,
          29000,
          1499000,
          248000,
          250000,
          70000,
          190000,
          144800,
          315000,
          139000,
          18500,
          105000,
          390000,
          59000,
          220000,
          35000,
          47000,
          165000,
          140000,
          210000,
          43000,
          11900,
          210000,
          319000,
          270000,
          239000,
          239000,
          315000,
          60000,
          210000,
          240000,
          184000,
          159000,
          22500,
          18500,
          300000,
          129000,
          80000,
          143000,
          52000,
          285000,
          225000,
          225500,
          379900,
          88000,
          275000,
          68000,
          299000,
          107000,
          134000,
          75000,
          16800,
          70000,
          216000,
          185000,
          140000,
          395000,
          130000,
          301000,
          31500,
          70000,
          200000,
          22900,
          490000,
          60000,
          254000,
          390000,
          395000,
          210000,
          42000,
          219000,
          295000,
          18888,
          165000,
          390000,
          195000,
          62000,
          179000,
          390000,
          189000,
          255000,
          70000,
          31000,
          110000,
          36000,
          175000,
          239000,
          470000,
          89000,
          40000,
          217000,
          39000,
          250000,
          299000,
          300000,
          11900,
          30000,
          320000,
          24500,
          45000,
          300000,
          300000,
          39000,
          285000,
          245000,
          99000,
          135000,
          98000,
          255000,
          285000,
          275000,
          295000,
          38000,
          301000,
          56000,
          30000,
          52000,
          350000,
          25450,
          66000,
          86850,
          216000,
          650000,
          138000,
          77000,
          199900,
          269000,
          17000,
          220000,
          14000,
          90000,
          124000,
          45000,
          250000,
          220000,
          950000,
          285000,
          315000,
          295000,
          67600,
          35000,
          170000,
          250000,
          76000,
          207000,
          28000,
          207000,
          248500,
          58500,
          22500,
          50000,
          575000,
          350000,
          349440,
          174000,
          187000,
          175000,
          420000,
          79999,
          34900,
          900000,
          460000,
          189000,
          51000,
          69900,
          290000,
          45000,
          169000,
          15000,
          30000,
          20000,
          320000,
          235000,
          100000,
          250000,
          290000,
          209000,
          70000,
          350000,
          299000,
          285000,
          115000,
          32000,
          280000,
          220000,
          352000,
          79000,
          298000,
          285000,
          130000,
          170000,
          47000,
          130000,
          150000,
          67000,
          30000,
          285000,
          250000,
          167000,
          120000,
          205000,
          264000,
          129000,
          65000,
          27000,
          49900,
          12750,
          238000,
          219500,
          17500,
          124000,
          80000,
          19800,
          79000,
          81000,
          225000,
          850000,
          35000,
          55000,
          310000,
          32000,
          177000,
          230000,
          96000,
          29000,
          139900,
          345000,
          600000,
          550000,
          310000,
          25000,
          28500,
          460000,
          450000,
          120000,
          212000,
          265000,
          253000,
          139000,
          176000,
          12340,
          100000,
          145000,
          250000,
          198000,
          169000,
          239900,
          45000,
          185000,
          235000,
          58000,
          235000,
          199000,
          87000,
          59900,
          48500,
          365000,
          160000,
          90000,
          210000,
          195000,
          330000,
          175000,
          68000,
          30000,
          60000,
          500000,
          198000,
          514800,
          220000,
          82000,
          285000,
          298000,
          92300,
          10500,
          38000,
          190000,
          80000,
          108000,
          250000,
          300000,
          250000,
          50000,
          89000,
          555000,
          188000,
          275000,
          250000,
          248000,
          92000,
          41500,
          96000,
          290000,
          220000,
          22499,
          280000,
          37000,
          105000,
          127000,
          280000,
          117000,
          239800,
          475000,
          236000,
          214000,
          140000,
          169000,
          395000,
          35000,
          225000,
          430000,
          225000,
          48000,
          350000,
          29000,
          18500,
          365000,
          59000,
          239000,
          245000,
          210000,
          80000,
          12500,
          20000,
          138000,
          39600,
          345000,
          96000,
          98000,
          50000,
          349900,
          270000,
          125000,
          69500,
          320000,
          185000,
          35000,
          26000,
          185000,
          46000,
          215000,
          265000,
          16000,
          40000,
          26000,
          395000,
          420000,
          35000,
          32000,
          235000,
          90000,
          230000,
          230000,
          550000,
          550000,
          690000,
          90000,
          220000,
          36000,
          239000,
          78000,
          261700,
          390000,
          28000,
          440000,
          77000,
          35000,
          290000
         ],
         "xaxis": "x",
         "yaxis": "y"
        }
       ],
       "layout": {
        "barmode": "relative",
        "legend": {
         "tracegroupgap": 0
        },
        "margin": {
         "t": 60
        },
        "template": {
         "data": {
          "bar": [
           {
            "error_x": {
             "color": "#2a3f5f"
            },
            "error_y": {
             "color": "#2a3f5f"
            },
            "marker": {
             "line": {
              "color": "#E5ECF6",
              "width": 0.5
             }
            },
            "type": "bar"
           }
          ],
          "barpolar": [
           {
            "marker": {
             "line": {
              "color": "#E5ECF6",
              "width": 0.5
             }
            },
            "type": "barpolar"
           }
          ],
          "carpet": [
           {
            "aaxis": {
             "endlinecolor": "#2a3f5f",
             "gridcolor": "white",
             "linecolor": "white",
             "minorgridcolor": "white",
             "startlinecolor": "#2a3f5f"
            },
            "baxis": {
             "endlinecolor": "#2a3f5f",
             "gridcolor": "white",
             "linecolor": "white",
             "minorgridcolor": "white",
             "startlinecolor": "#2a3f5f"
            },
            "type": "carpet"
           }
          ],
          "choropleth": [
           {
            "colorbar": {
             "outlinewidth": 0,
             "ticks": ""
            },
            "type": "choropleth"
           }
          ],
          "contour": [
           {
            "colorbar": {
             "outlinewidth": 0,
             "ticks": ""
            },
            "colorscale": [
             [
              0,
              "#0d0887"
             ],
             [
              0.1111111111111111,
              "#46039f"
             ],
             [
              0.2222222222222222,
              "#7201a8"
             ],
             [
              0.3333333333333333,
              "#9c179e"
             ],
             [
              0.4444444444444444,
              "#bd3786"
             ],
             [
              0.5555555555555556,
              "#d8576b"
             ],
             [
              0.6666666666666666,
              "#ed7953"
             ],
             [
              0.7777777777777778,
              "#fb9f3a"
             ],
             [
              0.8888888888888888,
              "#fdca26"
             ],
             [
              1,
              "#f0f921"
             ]
            ],
            "type": "contour"
           }
          ],
          "contourcarpet": [
           {
            "colorbar": {
             "outlinewidth": 0,
             "ticks": ""
            },
            "type": "contourcarpet"
           }
          ],
          "heatmap": [
           {
            "colorbar": {
             "outlinewidth": 0,
             "ticks": ""
            },
            "colorscale": [
             [
              0,
              "#0d0887"
             ],
             [
              0.1111111111111111,
              "#46039f"
             ],
             [
              0.2222222222222222,
              "#7201a8"
             ],
             [
              0.3333333333333333,
              "#9c179e"
             ],
             [
              0.4444444444444444,
              "#bd3786"
             ],
             [
              0.5555555555555556,
              "#d8576b"
             ],
             [
              0.6666666666666666,
              "#ed7953"
             ],
             [
              0.7777777777777778,
              "#fb9f3a"
             ],
             [
              0.8888888888888888,
              "#fdca26"
             ],
             [
              1,
              "#f0f921"
             ]
            ],
            "type": "heatmap"
           }
          ],
          "heatmapgl": [
           {
            "colorbar": {
             "outlinewidth": 0,
             "ticks": ""
            },
            "colorscale": [
             [
              0,
              "#0d0887"
             ],
             [
              0.1111111111111111,
              "#46039f"
             ],
             [
              0.2222222222222222,
              "#7201a8"
             ],
             [
              0.3333333333333333,
              "#9c179e"
             ],
             [
              0.4444444444444444,
              "#bd3786"
             ],
             [
              0.5555555555555556,
              "#d8576b"
             ],
             [
              0.6666666666666666,
              "#ed7953"
             ],
             [
              0.7777777777777778,
              "#fb9f3a"
             ],
             [
              0.8888888888888888,
              "#fdca26"
             ],
             [
              1,
              "#f0f921"
             ]
            ],
            "type": "heatmapgl"
           }
          ],
          "histogram": [
           {
            "marker": {
             "colorbar": {
              "outlinewidth": 0,
              "ticks": ""
             }
            },
            "type": "histogram"
           }
          ],
          "histogram2d": [
           {
            "colorbar": {
             "outlinewidth": 0,
             "ticks": ""
            },
            "colorscale": [
             [
              0,
              "#0d0887"
             ],
             [
              0.1111111111111111,
              "#46039f"
             ],
             [
              0.2222222222222222,
              "#7201a8"
             ],
             [
              0.3333333333333333,
              "#9c179e"
             ],
             [
              0.4444444444444444,
              "#bd3786"
             ],
             [
              0.5555555555555556,
              "#d8576b"
             ],
             [
              0.6666666666666666,
              "#ed7953"
             ],
             [
              0.7777777777777778,
              "#fb9f3a"
             ],
             [
              0.8888888888888888,
              "#fdca26"
             ],
             [
              1,
              "#f0f921"
             ]
            ],
            "type": "histogram2d"
           }
          ],
          "histogram2dcontour": [
           {
            "colorbar": {
             "outlinewidth": 0,
             "ticks": ""
            },
            "colorscale": [
             [
              0,
              "#0d0887"
             ],
             [
              0.1111111111111111,
              "#46039f"
             ],
             [
              0.2222222222222222,
              "#7201a8"
             ],
             [
              0.3333333333333333,
              "#9c179e"
             ],
             [
              0.4444444444444444,
              "#bd3786"
             ],
             [
              0.5555555555555556,
              "#d8576b"
             ],
             [
              0.6666666666666666,
              "#ed7953"
             ],
             [
              0.7777777777777778,
              "#fb9f3a"
             ],
             [
              0.8888888888888888,
              "#fdca26"
             ],
             [
              1,
              "#f0f921"
             ]
            ],
            "type": "histogram2dcontour"
           }
          ],
          "mesh3d": [
           {
            "colorbar": {
             "outlinewidth": 0,
             "ticks": ""
            },
            "type": "mesh3d"
           }
          ],
          "parcoords": [
           {
            "line": {
             "colorbar": {
              "outlinewidth": 0,
              "ticks": ""
             }
            },
            "type": "parcoords"
           }
          ],
          "pie": [
           {
            "automargin": true,
            "type": "pie"
           }
          ],
          "scatter": [
           {
            "marker": {
             "colorbar": {
              "outlinewidth": 0,
              "ticks": ""
             }
            },
            "type": "scatter"
           }
          ],
          "scatter3d": [
           {
            "line": {
             "colorbar": {
              "outlinewidth": 0,
              "ticks": ""
             }
            },
            "marker": {
             "colorbar": {
              "outlinewidth": 0,
              "ticks": ""
             }
            },
            "type": "scatter3d"
           }
          ],
          "scattercarpet": [
           {
            "marker": {
             "colorbar": {
              "outlinewidth": 0,
              "ticks": ""
             }
            },
            "type": "scattercarpet"
           }
          ],
          "scattergeo": [
           {
            "marker": {
             "colorbar": {
              "outlinewidth": 0,
              "ticks": ""
             }
            },
            "type": "scattergeo"
           }
          ],
          "scattergl": [
           {
            "marker": {
             "colorbar": {
              "outlinewidth": 0,
              "ticks": ""
             }
            },
            "type": "scattergl"
           }
          ],
          "scattermapbox": [
           {
            "marker": {
             "colorbar": {
              "outlinewidth": 0,
              "ticks": ""
             }
            },
            "type": "scattermapbox"
           }
          ],
          "scatterpolar": [
           {
            "marker": {
             "colorbar": {
              "outlinewidth": 0,
              "ticks": ""
             }
            },
            "type": "scatterpolar"
           }
          ],
          "scatterpolargl": [
           {
            "marker": {
             "colorbar": {
              "outlinewidth": 0,
              "ticks": ""
             }
            },
            "type": "scatterpolargl"
           }
          ],
          "scatterternary": [
           {
            "marker": {
             "colorbar": {
              "outlinewidth": 0,
              "ticks": ""
             }
            },
            "type": "scatterternary"
           }
          ],
          "surface": [
           {
            "colorbar": {
             "outlinewidth": 0,
             "ticks": ""
            },
            "colorscale": [
             [
              0,
              "#0d0887"
             ],
             [
              0.1111111111111111,
              "#46039f"
             ],
             [
              0.2222222222222222,
              "#7201a8"
             ],
             [
              0.3333333333333333,
              "#9c179e"
             ],
             [
              0.4444444444444444,
              "#bd3786"
             ],
             [
              0.5555555555555556,
              "#d8576b"
             ],
             [
              0.6666666666666666,
              "#ed7953"
             ],
             [
              0.7777777777777778,
              "#fb9f3a"
             ],
             [
              0.8888888888888888,
              "#fdca26"
             ],
             [
              1,
              "#f0f921"
             ]
            ],
            "type": "surface"
           }
          ],
          "table": [
           {
            "cells": {
             "fill": {
              "color": "#EBF0F8"
             },
             "line": {
              "color": "white"
             }
            },
            "header": {
             "fill": {
              "color": "#C8D4E3"
             },
             "line": {
              "color": "white"
             }
            },
            "type": "table"
           }
          ]
         },
         "layout": {
          "annotationdefaults": {
           "arrowcolor": "#2a3f5f",
           "arrowhead": 0,
           "arrowwidth": 1
          },
          "autotypenumbers": "strict",
          "coloraxis": {
           "colorbar": {
            "outlinewidth": 0,
            "ticks": ""
           }
          },
          "colorscale": {
           "diverging": [
            [
             0,
             "#8e0152"
            ],
            [
             0.1,
             "#c51b7d"
            ],
            [
             0.2,
             "#de77ae"
            ],
            [
             0.3,
             "#f1b6da"
            ],
            [
             0.4,
             "#fde0ef"
            ],
            [
             0.5,
             "#f7f7f7"
            ],
            [
             0.6,
             "#e6f5d0"
            ],
            [
             0.7,
             "#b8e186"
            ],
            [
             0.8,
             "#7fbc41"
            ],
            [
             0.9,
             "#4d9221"
            ],
            [
             1,
             "#276419"
            ]
           ],
           "sequential": [
            [
             0,
             "#0d0887"
            ],
            [
             0.1111111111111111,
             "#46039f"
            ],
            [
             0.2222222222222222,
             "#7201a8"
            ],
            [
             0.3333333333333333,
             "#9c179e"
            ],
            [
             0.4444444444444444,
             "#bd3786"
            ],
            [
             0.5555555555555556,
             "#d8576b"
            ],
            [
             0.6666666666666666,
             "#ed7953"
            ],
            [
             0.7777777777777778,
             "#fb9f3a"
            ],
            [
             0.8888888888888888,
             "#fdca26"
            ],
            [
             1,
             "#f0f921"
            ]
           ],
           "sequentialminus": [
            [
             0,
             "#0d0887"
            ],
            [
             0.1111111111111111,
             "#46039f"
            ],
            [
             0.2222222222222222,
             "#7201a8"
            ],
            [
             0.3333333333333333,
             "#9c179e"
            ],
            [
             0.4444444444444444,
             "#bd3786"
            ],
            [
             0.5555555555555556,
             "#d8576b"
            ],
            [
             0.6666666666666666,
             "#ed7953"
            ],
            [
             0.7777777777777778,
             "#fb9f3a"
            ],
            [
             0.8888888888888888,
             "#fdca26"
            ],
            [
             1,
             "#f0f921"
            ]
           ]
          },
          "colorway": [
           "#636efa",
           "#EF553B",
           "#00cc96",
           "#ab63fa",
           "#FFA15A",
           "#19d3f3",
           "#FF6692",
           "#B6E880",
           "#FF97FF",
           "#FECB52"
          ],
          "font": {
           "color": "#2a3f5f"
          },
          "geo": {
           "bgcolor": "white",
           "lakecolor": "white",
           "landcolor": "#E5ECF6",
           "showlakes": true,
           "showland": true,
           "subunitcolor": "white"
          },
          "hoverlabel": {
           "align": "left"
          },
          "hovermode": "closest",
          "mapbox": {
           "style": "light"
          },
          "paper_bgcolor": "white",
          "plot_bgcolor": "#E5ECF6",
          "polar": {
           "angularaxis": {
            "gridcolor": "white",
            "linecolor": "white",
            "ticks": ""
           },
           "bgcolor": "#E5ECF6",
           "radialaxis": {
            "gridcolor": "white",
            "linecolor": "white",
            "ticks": ""
           }
          },
          "scene": {
           "xaxis": {
            "backgroundcolor": "#E5ECF6",
            "gridcolor": "white",
            "gridwidth": 2,
            "linecolor": "white",
            "showbackground": true,
            "ticks": "",
            "zerolinecolor": "white"
           },
           "yaxis": {
            "backgroundcolor": "#E5ECF6",
            "gridcolor": "white",
            "gridwidth": 2,
            "linecolor": "white",
            "showbackground": true,
            "ticks": "",
            "zerolinecolor": "white"
           },
           "zaxis": {
            "backgroundcolor": "#E5ECF6",
            "gridcolor": "white",
            "gridwidth": 2,
            "linecolor": "white",
            "showbackground": true,
            "ticks": "",
            "zerolinecolor": "white"
           }
          },
          "shapedefaults": {
           "line": {
            "color": "#2a3f5f"
           }
          },
          "ternary": {
           "aaxis": {
            "gridcolor": "white",
            "linecolor": "white",
            "ticks": ""
           },
           "baxis": {
            "gridcolor": "white",
            "linecolor": "white",
            "ticks": ""
           },
           "bgcolor": "#E5ECF6",
           "caxis": {
            "gridcolor": "white",
            "linecolor": "white",
            "ticks": ""
           }
          },
          "title": {
           "x": 0.05
          },
          "xaxis": {
           "automargin": true,
           "gridcolor": "white",
           "linecolor": "white",
           "ticks": "",
           "title": {
            "standoff": 15
           },
           "zerolinecolor": "white",
           "zerolinewidth": 2
          },
          "yaxis": {
           "automargin": true,
           "gridcolor": "white",
           "linecolor": "white",
           "ticks": "",
           "title": {
            "standoff": 15
           },
           "zerolinecolor": "white",
           "zerolinewidth": 2
          }
         }
        },
        "xaxis": {
         "anchor": "y",
         "domain": [
          0,
          1
         ],
         "title": {
          "text": "price"
         }
        },
        "yaxis": {
         "anchor": "x",
         "domain": [
          0,
          1
         ],
         "title": {
          "text": "count"
         }
        }
       }
      },
      "text/html": [
       "<div>                            <div id=\"04e346f2-f3aa-4ad1-9609-09648f092514\" class=\"plotly-graph-div\" style=\"height:525px; width:100%;\"></div>            <script type=\"text/javascript\">                require([\"plotly\"], function(Plotly) {                    window.PLOTLYENV=window.PLOTLYENV || {};                                    if (document.getElementById(\"04e346f2-f3aa-4ad1-9609-09648f092514\")) {                    Plotly.newPlot(                        \"04e346f2-f3aa-4ad1-9609-09648f092514\",                        [{\"alignmentgroup\": \"True\", \"bingroup\": \"x\", \"hovertemplate\": \"price=%{x}<br>count=%{y}<extra></extra>\", \"legendgroup\": \"\", \"marker\": {\"color\": \"#636efa\"}, \"name\": \"\", \"nbinsx\": 100, \"offsetgroup\": \"\", \"orientation\": \"v\", \"showlegend\": false, \"type\": \"histogram\", \"x\": [250000, 160000, 135000, 46800, 265000, 349000, 315000, 490000, 300000, 230000, 235000, 212000, 212000, 330000, 365000, 15000, 245000, 190000, 197000, 25000, 489000, 64000, 24000, 224900, 480000, 58000, 205000, 45000, 245000, 64800, 115000, 280000, 90000, 155000, 100000, 225000, 225000, 179000, 40000, 107000, 210000, 278000, 25900, 42000, 14000, 300000, 133500, 160000, 130000, 85000, 100000, 48000, 90000, 250000, 215000, 59000, 247000, 181000, 216000, 207000, 350000, 55000, 118000, 19000, 167500, 191000, 24999, 285000, 31000, 23000, 210000, 167000, 189000, 175000, 95000, 245000, 292000, 222000, 69999, 30000, 370000, 80000, 124000, 295000, 175000, 198000, 73000, 51000, 170000, 96000, 599000, 40000, 64000, 22666, 144000, 49000, 106000, 165000, 103000, 129000, 129000, 122000, 64900, 125900, 209500, 115000, 7500, 195000, 167000, 55000, 169000, 60000, 290000, 238000, 20000, 31000, 250000, 42000, 430000, 23500, 295000, 360000, 154000, 255000, 100000, 420000, 11000, 185000, 140000, 38000, 346000, 23000, 1499000, 42000, 210000, 143000, 195000, 65000, 35000, 29000, 1499000, 248000, 250000, 70000, 190000, 144800, 315000, 139000, 18500, 105000, 390000, 59000, 220000, 35000, 47000, 165000, 140000, 210000, 43000, 11900, 210000, 319000, 270000, 239000, 239000, 315000, 60000, 210000, 240000, 184000, 159000, 22500, 18500, 300000, 129000, 80000, 143000, 52000, 285000, 225000, 225500, 379900, 88000, 275000, 68000, 299000, 107000, 134000, 75000, 16800, 70000, 216000, 185000, 140000, 395000, 130000, 301000, 31500, 70000, 200000, 22900, 490000, 60000, 254000, 390000, 395000, 210000, 42000, 219000, 295000, 18888, 165000, 390000, 195000, 62000, 179000, 390000, 189000, 255000, 70000, 31000, 110000, 36000, 175000, 239000, 470000, 89000, 40000, 217000, 39000, 250000, 299000, 300000, 11900, 30000, 320000, 24500, 45000, 300000, 300000, 39000, 285000, 245000, 99000, 135000, 98000, 255000, 285000, 275000, 295000, 38000, 301000, 56000, 30000, 52000, 350000, 25450, 66000, 86850, 216000, 650000, 138000, 77000, 199900, 269000, 17000, 220000, 14000, 90000, 124000, 45000, 250000, 220000, 950000, 285000, 315000, 295000, 67600, 35000, 170000, 250000, 76000, 207000, 28000, 207000, 248500, 58500, 22500, 50000, 575000, 350000, 349440, 174000, 187000, 175000, 420000, 79999, 34900, 900000, 460000, 189000, 51000, 69900, 290000, 45000, 169000, 15000, 30000, 20000, 320000, 235000, 100000, 250000, 290000, 209000, 70000, 350000, 299000, 285000, 115000, 32000, 280000, 220000, 352000, 79000, 298000, 285000, 130000, 170000, 47000, 130000, 150000, 67000, 30000, 285000, 250000, 167000, 120000, 205000, 264000, 129000, 65000, 27000, 49900, 12750, 238000, 219500, 17500, 124000, 80000, 19800, 79000, 81000, 225000, 850000, 35000, 55000, 310000, 32000, 177000, 230000, 96000, 29000, 139900, 345000, 600000, 550000, 310000, 25000, 28500, 460000, 450000, 120000, 212000, 265000, 253000, 139000, 176000, 12340, 100000, 145000, 250000, 198000, 169000, 239900, 45000, 185000, 235000, 58000, 235000, 199000, 87000, 59900, 48500, 365000, 160000, 90000, 210000, 195000, 330000, 175000, 68000, 30000, 60000, 500000, 198000, 514800, 220000, 82000, 285000, 298000, 92300, 10500, 38000, 190000, 80000, 108000, 250000, 300000, 250000, 50000, 89000, 555000, 188000, 275000, 250000, 248000, 92000, 41500, 96000, 290000, 220000, 22499, 280000, 37000, 105000, 127000, 280000, 117000, 239800, 475000, 236000, 214000, 140000, 169000, 395000, 35000, 225000, 430000, 225000, 48000, 350000, 29000, 18500, 365000, 59000, 239000, 245000, 210000, 80000, 12500, 20000, 138000, 39600, 345000, 96000, 98000, 50000, 349900, 270000, 125000, 69500, 320000, 185000, 35000, 26000, 185000, 46000, 215000, 265000, 16000, 40000, 26000, 395000, 420000, 35000, 32000, 235000, 90000, 230000, 230000, 550000, 550000, 690000, 90000, 220000, 36000, 239000, 78000, 261700, 390000, 28000, 440000, 77000, 35000, 290000], \"xaxis\": \"x\", \"yaxis\": \"y\"}],                        {\"barmode\": \"relative\", \"legend\": {\"tracegroupgap\": 0}, \"margin\": {\"t\": 60}, \"template\": {\"data\": {\"bar\": [{\"error_x\": {\"color\": \"#2a3f5f\"}, \"error_y\": {\"color\": \"#2a3f5f\"}, \"marker\": {\"line\": {\"color\": \"#E5ECF6\", \"width\": 0.5}}, \"type\": \"bar\"}], \"barpolar\": [{\"marker\": {\"line\": {\"color\": \"#E5ECF6\", \"width\": 0.5}}, \"type\": \"barpolar\"}], \"carpet\": [{\"aaxis\": {\"endlinecolor\": \"#2a3f5f\", \"gridcolor\": \"white\", \"linecolor\": \"white\", \"minorgridcolor\": \"white\", \"startlinecolor\": \"#2a3f5f\"}, \"baxis\": {\"endlinecolor\": \"#2a3f5f\", \"gridcolor\": \"white\", \"linecolor\": \"white\", \"minorgridcolor\": \"white\", \"startlinecolor\": \"#2a3f5f\"}, \"type\": \"carpet\"}], \"choropleth\": [{\"colorbar\": {\"outlinewidth\": 0, \"ticks\": \"\"}, \"type\": \"choropleth\"}], \"contour\": [{\"colorbar\": {\"outlinewidth\": 0, \"ticks\": \"\"}, \"colorscale\": [[0.0, \"#0d0887\"], [0.1111111111111111, \"#46039f\"], [0.2222222222222222, \"#7201a8\"], [0.3333333333333333, \"#9c179e\"], [0.4444444444444444, \"#bd3786\"], [0.5555555555555556, \"#d8576b\"], [0.6666666666666666, \"#ed7953\"], [0.7777777777777778, \"#fb9f3a\"], [0.8888888888888888, \"#fdca26\"], [1.0, \"#f0f921\"]], \"type\": \"contour\"}], \"contourcarpet\": [{\"colorbar\": {\"outlinewidth\": 0, \"ticks\": \"\"}, \"type\": \"contourcarpet\"}], \"heatmap\": [{\"colorbar\": {\"outlinewidth\": 0, \"ticks\": \"\"}, \"colorscale\": [[0.0, \"#0d0887\"], [0.1111111111111111, \"#46039f\"], [0.2222222222222222, \"#7201a8\"], [0.3333333333333333, \"#9c179e\"], [0.4444444444444444, \"#bd3786\"], [0.5555555555555556, \"#d8576b\"], [0.6666666666666666, \"#ed7953\"], [0.7777777777777778, \"#fb9f3a\"], [0.8888888888888888, \"#fdca26\"], [1.0, \"#f0f921\"]], \"type\": \"heatmap\"}], \"heatmapgl\": [{\"colorbar\": {\"outlinewidth\": 0, \"ticks\": \"\"}, \"colorscale\": [[0.0, \"#0d0887\"], [0.1111111111111111, \"#46039f\"], [0.2222222222222222, \"#7201a8\"], [0.3333333333333333, \"#9c179e\"], [0.4444444444444444, \"#bd3786\"], [0.5555555555555556, \"#d8576b\"], [0.6666666666666666, \"#ed7953\"], [0.7777777777777778, \"#fb9f3a\"], [0.8888888888888888, \"#fdca26\"], [1.0, \"#f0f921\"]], \"type\": \"heatmapgl\"}], \"histogram\": [{\"marker\": {\"colorbar\": {\"outlinewidth\": 0, \"ticks\": \"\"}}, \"type\": \"histogram\"}], \"histogram2d\": [{\"colorbar\": {\"outlinewidth\": 0, \"ticks\": \"\"}, \"colorscale\": [[0.0, \"#0d0887\"], [0.1111111111111111, \"#46039f\"], [0.2222222222222222, \"#7201a8\"], [0.3333333333333333, \"#9c179e\"], [0.4444444444444444, \"#bd3786\"], [0.5555555555555556, \"#d8576b\"], [0.6666666666666666, \"#ed7953\"], [0.7777777777777778, \"#fb9f3a\"], [0.8888888888888888, \"#fdca26\"], [1.0, \"#f0f921\"]], \"type\": \"histogram2d\"}], \"histogram2dcontour\": [{\"colorbar\": {\"outlinewidth\": 0, \"ticks\": \"\"}, \"colorscale\": [[0.0, \"#0d0887\"], [0.1111111111111111, \"#46039f\"], [0.2222222222222222, \"#7201a8\"], [0.3333333333333333, \"#9c179e\"], [0.4444444444444444, \"#bd3786\"], [0.5555555555555556, \"#d8576b\"], [0.6666666666666666, \"#ed7953\"], [0.7777777777777778, \"#fb9f3a\"], [0.8888888888888888, \"#fdca26\"], [1.0, \"#f0f921\"]], \"type\": \"histogram2dcontour\"}], \"mesh3d\": [{\"colorbar\": {\"outlinewidth\": 0, \"ticks\": \"\"}, \"type\": \"mesh3d\"}], \"parcoords\": [{\"line\": {\"colorbar\": {\"outlinewidth\": 0, \"ticks\": \"\"}}, \"type\": \"parcoords\"}], \"pie\": [{\"automargin\": true, \"type\": \"pie\"}], \"scatter\": [{\"marker\": {\"colorbar\": {\"outlinewidth\": 0, \"ticks\": \"\"}}, \"type\": \"scatter\"}], \"scatter3d\": [{\"line\": {\"colorbar\": {\"outlinewidth\": 0, \"ticks\": \"\"}}, \"marker\": {\"colorbar\": {\"outlinewidth\": 0, \"ticks\": \"\"}}, \"type\": \"scatter3d\"}], \"scattercarpet\": [{\"marker\": {\"colorbar\": {\"outlinewidth\": 0, \"ticks\": \"\"}}, \"type\": \"scattercarpet\"}], \"scattergeo\": [{\"marker\": {\"colorbar\": {\"outlinewidth\": 0, \"ticks\": \"\"}}, \"type\": \"scattergeo\"}], \"scattergl\": [{\"marker\": {\"colorbar\": {\"outlinewidth\": 0, \"ticks\": \"\"}}, \"type\": \"scattergl\"}], \"scattermapbox\": [{\"marker\": {\"colorbar\": {\"outlinewidth\": 0, \"ticks\": \"\"}}, \"type\": \"scattermapbox\"}], \"scatterpolar\": [{\"marker\": {\"colorbar\": {\"outlinewidth\": 0, \"ticks\": \"\"}}, \"type\": \"scatterpolar\"}], \"scatterpolargl\": [{\"marker\": {\"colorbar\": {\"outlinewidth\": 0, \"ticks\": \"\"}}, \"type\": \"scatterpolargl\"}], \"scatterternary\": [{\"marker\": {\"colorbar\": {\"outlinewidth\": 0, \"ticks\": \"\"}}, \"type\": \"scatterternary\"}], \"surface\": [{\"colorbar\": {\"outlinewidth\": 0, \"ticks\": \"\"}, \"colorscale\": [[0.0, \"#0d0887\"], [0.1111111111111111, \"#46039f\"], [0.2222222222222222, \"#7201a8\"], [0.3333333333333333, \"#9c179e\"], [0.4444444444444444, \"#bd3786\"], [0.5555555555555556, \"#d8576b\"], [0.6666666666666666, \"#ed7953\"], [0.7777777777777778, \"#fb9f3a\"], [0.8888888888888888, \"#fdca26\"], [1.0, \"#f0f921\"]], \"type\": \"surface\"}], \"table\": [{\"cells\": {\"fill\": {\"color\": \"#EBF0F8\"}, \"line\": {\"color\": \"white\"}}, \"header\": {\"fill\": {\"color\": \"#C8D4E3\"}, \"line\": {\"color\": \"white\"}}, \"type\": \"table\"}]}, \"layout\": {\"annotationdefaults\": {\"arrowcolor\": \"#2a3f5f\", \"arrowhead\": 0, \"arrowwidth\": 1}, \"autotypenumbers\": \"strict\", \"coloraxis\": {\"colorbar\": {\"outlinewidth\": 0, \"ticks\": \"\"}}, \"colorscale\": {\"diverging\": [[0, \"#8e0152\"], [0.1, \"#c51b7d\"], [0.2, \"#de77ae\"], [0.3, \"#f1b6da\"], [0.4, \"#fde0ef\"], [0.5, \"#f7f7f7\"], [0.6, \"#e6f5d0\"], [0.7, \"#b8e186\"], [0.8, \"#7fbc41\"], [0.9, \"#4d9221\"], [1, \"#276419\"]], \"sequential\": [[0.0, \"#0d0887\"], [0.1111111111111111, \"#46039f\"], [0.2222222222222222, \"#7201a8\"], [0.3333333333333333, \"#9c179e\"], [0.4444444444444444, \"#bd3786\"], [0.5555555555555556, \"#d8576b\"], [0.6666666666666666, \"#ed7953\"], [0.7777777777777778, \"#fb9f3a\"], [0.8888888888888888, \"#fdca26\"], [1.0, \"#f0f921\"]], \"sequentialminus\": [[0.0, \"#0d0887\"], [0.1111111111111111, \"#46039f\"], [0.2222222222222222, \"#7201a8\"], [0.3333333333333333, \"#9c179e\"], [0.4444444444444444, \"#bd3786\"], [0.5555555555555556, \"#d8576b\"], [0.6666666666666666, \"#ed7953\"], [0.7777777777777778, \"#fb9f3a\"], [0.8888888888888888, \"#fdca26\"], [1.0, \"#f0f921\"]]}, \"colorway\": [\"#636efa\", \"#EF553B\", \"#00cc96\", \"#ab63fa\", \"#FFA15A\", \"#19d3f3\", \"#FF6692\", \"#B6E880\", \"#FF97FF\", \"#FECB52\"], \"font\": {\"color\": \"#2a3f5f\"}, \"geo\": {\"bgcolor\": \"white\", \"lakecolor\": \"white\", \"landcolor\": \"#E5ECF6\", \"showlakes\": true, \"showland\": true, \"subunitcolor\": \"white\"}, \"hoverlabel\": {\"align\": \"left\"}, \"hovermode\": \"closest\", \"mapbox\": {\"style\": \"light\"}, \"paper_bgcolor\": \"white\", \"plot_bgcolor\": \"#E5ECF6\", \"polar\": {\"angularaxis\": {\"gridcolor\": \"white\", \"linecolor\": \"white\", \"ticks\": \"\"}, \"bgcolor\": \"#E5ECF6\", \"radialaxis\": {\"gridcolor\": \"white\", \"linecolor\": \"white\", \"ticks\": \"\"}}, \"scene\": {\"xaxis\": {\"backgroundcolor\": \"#E5ECF6\", \"gridcolor\": \"white\", \"gridwidth\": 2, \"linecolor\": \"white\", \"showbackground\": true, \"ticks\": \"\", \"zerolinecolor\": \"white\"}, \"yaxis\": {\"backgroundcolor\": \"#E5ECF6\", \"gridcolor\": \"white\", \"gridwidth\": 2, \"linecolor\": \"white\", \"showbackground\": true, \"ticks\": \"\", \"zerolinecolor\": \"white\"}, \"zaxis\": {\"backgroundcolor\": \"#E5ECF6\", \"gridcolor\": \"white\", \"gridwidth\": 2, \"linecolor\": \"white\", \"showbackground\": true, \"ticks\": \"\", \"zerolinecolor\": \"white\"}}, \"shapedefaults\": {\"line\": {\"color\": \"#2a3f5f\"}}, \"ternary\": {\"aaxis\": {\"gridcolor\": \"white\", \"linecolor\": \"white\", \"ticks\": \"\"}, \"baxis\": {\"gridcolor\": \"white\", \"linecolor\": \"white\", \"ticks\": \"\"}, \"bgcolor\": \"#E5ECF6\", \"caxis\": {\"gridcolor\": \"white\", \"linecolor\": \"white\", \"ticks\": \"\"}}, \"title\": {\"x\": 0.05}, \"xaxis\": {\"automargin\": true, \"gridcolor\": \"white\", \"linecolor\": \"white\", \"ticks\": \"\", \"title\": {\"standoff\": 15}, \"zerolinecolor\": \"white\", \"zerolinewidth\": 2}, \"yaxis\": {\"automargin\": true, \"gridcolor\": \"white\", \"linecolor\": \"white\", \"ticks\": \"\", \"title\": {\"standoff\": 15}, \"zerolinecolor\": \"white\", \"zerolinewidth\": 2}}}, \"xaxis\": {\"anchor\": \"y\", \"domain\": [0.0, 1.0], \"title\": {\"text\": \"price\"}}, \"yaxis\": {\"anchor\": \"x\", \"domain\": [0.0, 1.0], \"title\": {\"text\": \"count\"}}},                        {\"responsive\": true}                    ).then(function(){\n",
       "                            \n",
       "var gd = document.getElementById('04e346f2-f3aa-4ad1-9609-09648f092514');\n",
       "var x = new MutationObserver(function (mutations, observer) {{\n",
       "        var display = window.getComputedStyle(gd).display;\n",
       "        if (!display || display === 'none') {{\n",
       "            console.log([gd, 'removed!']);\n",
       "            Plotly.purge(gd);\n",
       "            observer.disconnect();\n",
       "        }}\n",
       "}});\n",
       "\n",
       "// Listen for the removal of the full notebook cells\n",
       "var notebookContainer = gd.closest('#notebook-container');\n",
       "if (notebookContainer) {{\n",
       "    x.observe(notebookContainer, {childList: true});\n",
       "}}\n",
       "\n",
       "// Listen for the clearing of the current output cell\n",
       "var outputEl = gd.closest('.output');\n",
       "if (outputEl) {{\n",
       "    x.observe(outputEl, {childList: true});\n",
       "}}\n",
       "\n",
       "                        })                };                });            </script>        </div>"
      ]
     },
     "metadata": {},
     "output_type": "display_data"
    }
   ],
   "source": [
    "fig = px.histogram(df, x=\"price\", nbins=100)\n",
    "fig.show()"
   ]
  },
  {
   "cell_type": "code",
   "execution_count": 94,
   "metadata": {},
   "outputs": [],
   "source": [
    "import seaborn as sns # seaborn sits on top of matplotlib with better defaults\n",
    "import matplotlib.pyplot as plt\n"
   ]
  },
  {
   "cell_type": "code",
   "execution_count": 95,
   "metadata": {},
   "outputs": [
    {
     "name": "stdout",
     "output_type": "stream",
     "text": [
      "<class 'pandas.core.frame.DataFrame'>\n",
      "Int64Index: 630 entries, 0 to 29\n",
      "Data columns (total 12 columns):\n",
      " #   Column       Non-Null Count  Dtype \n",
      "---  ------       --------------  ----- \n",
      " 0   description  630 non-null    object\n",
      " 1   url          630 non-null    object\n",
      " 2   Iela         630 non-null    object\n",
      " 3   Ist.         630 non-null    object\n",
      " 4   m2           630 non-null    object\n",
      " 5   Stāvs        630 non-null    object\n",
      " 6   Sērija       630 non-null    object\n",
      " 7   Cena, m2     630 non-null    object\n",
      " 8   Cena         630 non-null    object\n",
      " 9   Floor        630 non-null    int32 \n",
      " 10  MaxFloor     630 non-null    int32 \n",
      " 11  price        630 non-null    int32 \n",
      "dtypes: int32(3), object(9)\n",
      "memory usage: 56.6+ KB\n"
     ]
    }
   ],
   "source": [
    "df.info()"
   ]
  },
  {
   "cell_type": "code",
   "execution_count": 96,
   "metadata": {},
   "outputs": [
    {
     "data": {
      "text/plain": [
       "<seaborn.axisgrid.PairGrid at 0x1a68f70de50>"
      ]
     },
     "execution_count": 96,
     "metadata": {},
     "output_type": "execute_result"
    },
    {
     "data": {
      "image/png": "[encoded data removed]",
      "text/plain": [
       "<Figure size 720x720 with 20 Axes>"
      ]
     },
     "metadata": {
      "needs_background": "light"
     },
     "output_type": "display_data"
    }
   ],
   "source": [
    "# Basic correlogram\n",
    "sns.pairplot(df)\n",
    "\n"
   ]
  },
  {
   "cell_type": "code",
   "execution_count": null,
   "metadata": {},
   "outputs": [],
   "source": [
    "# Basic correlogram\n",
    "sns.pairplot(df)\n",
    "\n"
   ]
  },
  {
   "cell_type": "code",
   "execution_count": null,
   "metadata": {},
   "outputs": [],
   "source": [
    "volvo_url = \"https://www.ss.com/lv/transport/cars/volvo/sell/\"\n",
    "volvos = get_all_ads_df(volvo_url, \"../data/volvo_03_18.xlsx\")"
   ]
  },
  {
   "cell_type": "code",
   "execution_count": 97,
   "metadata": {},
   "outputs": [
    {
     "data": {
      "text/html": [
       "<div>\n",
       "<style scoped>\n",
       "    .dataframe tbody tr th:only-of-type {\n",
       "        vertical-align: middle;\n",
       "    }\n",
       "\n",
       "    .dataframe tbody tr th {\n",
       "        vertical-align: top;\n",
       "    }\n",
       "\n",
       "    .dataframe thead th {\n",
       "        text-align: right;\n",
       "    }\n",
       "</style>\n",
       "<table border=\"1\" class=\"dataframe\">\n",
       "  <thead>\n",
       "    <tr style=\"text-align: right;\">\n",
       "      <th></th>\n",
       "      <th>Unnamed: 0</th>\n",
       "      <th>description</th>\n",
       "      <th>url</th>\n",
       "      <th>Modelis</th>\n",
       "      <th>Gads</th>\n",
       "      <th>Tilp.</th>\n",
       "      <th>Nobrauk.</th>\n",
       "      <th>Cena</th>\n",
       "    </tr>\n",
       "  </thead>\n",
       "  <tbody>\n",
       "    <tr>\n",
       "      <th>0</th>\n",
       "      <td>0</td>\n",
       "      <td>Auto arī dzīvē tāds kā bildēs. Virsbūve ļoti l...</td>\n",
       "      <td>https://ss.com/msg/lv/transport/cars/volvo/v70...</td>\n",
       "      <td>V70</td>\n",
       "      <td>2002</td>\n",
       "      <td>2.4D</td>\n",
       "      <td>330 tūkst.</td>\n",
       "      <td>2,300  €</td>\n",
       "    </tr>\n",
       "    <tr>\n",
       "      <th>1</th>\n",
       "      <td>1</td>\n",
       "      <td>Auto labā tehniskā un vizuālā stāvoklī, auto i...</td>\n",
       "      <td>https://ss.com/msg/lv/transport/cars/volvo/v70...</td>\n",
       "      <td>V70</td>\n",
       "      <td>2003</td>\n",
       "      <td>2.4D</td>\n",
       "      <td>390 tūkst.</td>\n",
       "      <td>2,600  €</td>\n",
       "    </tr>\n",
       "    <tr>\n",
       "      <th>2</th>\n",
       "      <td>2</td>\n",
       "      <td>Volvo XC 90 2.4 D5 Edition 147 KW / Webasto / ...</td>\n",
       "      <td>https://ss.com/msg/lv/transport/cars/volvo/xc9...</td>\n",
       "      <td>XC 90</td>\n",
       "      <td>2011</td>\n",
       "      <td>2.0D</td>\n",
       "      <td>235 tūkst.</td>\n",
       "      <td>12,490  €</td>\n",
       "    </tr>\n",
       "    <tr>\n",
       "      <th>3</th>\n",
       "      <td>3</td>\n",
       "      <td>Tikko No Vacijas. Facelift Modelis. Mehaniska ...</td>\n",
       "      <td>https://ss.com/msg/lv/transport/cars/volvo/xc9...</td>\n",
       "      <td>XC 90</td>\n",
       "      <td>2010</td>\n",
       "      <td>2.4D</td>\n",
       "      <td>-</td>\n",
       "      <td>11,650  €</td>\n",
       "    </tr>\n",
       "    <tr>\n",
       "      <th>4</th>\n",
       "      <td>4</td>\n",
       "      <td>Volvo V70 Facelift, viens no labākajiem un jau...</td>\n",
       "      <td>https://ss.com/msg/lv/transport/cars/volvo/v70...</td>\n",
       "      <td>V70</td>\n",
       "      <td>2007</td>\n",
       "      <td>2.4D</td>\n",
       "      <td>300 tūkst.</td>\n",
       "      <td>3,500  €</td>\n",
       "    </tr>\n",
       "  </tbody>\n",
       "</table>\n",
       "</div>"
      ],
      "text/plain": [
       "   Unnamed: 0                                        description  \\\n",
       "0           0  Auto arī dzīvē tāds kā bildēs. Virsbūve ļoti l...   \n",
       "1           1  Auto labā tehniskā un vizuālā stāvoklī, auto i...   \n",
       "2           2  Volvo XC 90 2.4 D5 Edition 147 KW / Webasto / ...   \n",
       "3           3  Tikko No Vacijas. Facelift Modelis. Mehaniska ...   \n",
       "4           4  Volvo V70 Facelift, viens no labākajiem un jau...   \n",
       "\n",
       "                                                 url Modelis  Gads Tilp.  \\\n",
       "0  https://ss.com/msg/lv/transport/cars/volvo/v70...     V70  2002  2.4D   \n",
       "1  https://ss.com/msg/lv/transport/cars/volvo/v70...     V70  2003  2.4D   \n",
       "2  https://ss.com/msg/lv/transport/cars/volvo/xc9...   XC 90  2011  2.0D   \n",
       "3  https://ss.com/msg/lv/transport/cars/volvo/xc9...   XC 90  2010  2.4D   \n",
       "4  https://ss.com/msg/lv/transport/cars/volvo/v70...     V70  2007  2.4D   \n",
       "\n",
       "     Nobrauk.       Cena  \n",
       "0  330 tūkst.   2,300  €  \n",
       "1  390 tūkst.   2,600  €  \n",
       "2  235 tūkst.  12,490  €  \n",
       "3           -  11,650  €  \n",
       "4  300 tūkst.   3,500  €  "
      ]
     },
     "execution_count": 97,
     "metadata": {},
     "output_type": "execute_result"
    }
   ],
   "source": [
    "volvos = pd.read_excel(\"volvo_270921.xlsx\")\n",
    "volvos.head()"
   ]
  },
  {
   "cell_type": "code",
   "execution_count": null,
   "metadata": {},
   "outputs": [],
   "source": [
    "volvos.shape"
   ]
  },
  {
   "cell_type": "code",
   "execution_count": null,
   "metadata": {},
   "outputs": [],
   "source": [
    "volvos.head(10)"
   ]
  },
  {
   "cell_type": "code",
   "execution_count": null,
   "metadata": {},
   "outputs": [],
   "source": [
    "gr_auto['Price'] = "
   ]
  },
  {
   "cell_type": "code",
   "execution_count": 98,
   "metadata": {},
   "outputs": [
    {
     "data": {
      "text/html": [
       "<div>\n",
       "<style scoped>\n",
       "    .dataframe tbody tr th:only-of-type {\n",
       "        vertical-align: middle;\n",
       "    }\n",
       "\n",
       "    .dataframe tbody tr th {\n",
       "        vertical-align: top;\n",
       "    }\n",
       "\n",
       "    .dataframe thead th {\n",
       "        text-align: right;\n",
       "    }\n",
       "</style>\n",
       "<table border=\"1\" class=\"dataframe\">\n",
       "  <thead>\n",
       "    <tr style=\"text-align: right;\">\n",
       "      <th></th>\n",
       "      <th>Unnamed: 0</th>\n",
       "      <th>description</th>\n",
       "      <th>url</th>\n",
       "      <th>Modelis</th>\n",
       "      <th>Gads</th>\n",
       "      <th>Tilp.</th>\n",
       "      <th>Nobrauk.</th>\n",
       "      <th>Cena</th>\n",
       "      <th>price</th>\n",
       "    </tr>\n",
       "  </thead>\n",
       "  <tbody>\n",
       "    <tr>\n",
       "      <th>0</th>\n",
       "      <td>0</td>\n",
       "      <td>Auto arī dzīvē tāds kā bildēs. Virsbūve ļoti l...</td>\n",
       "      <td>https://ss.com/msg/lv/transport/cars/volvo/v70...</td>\n",
       "      <td>V70</td>\n",
       "      <td>2002</td>\n",
       "      <td>2.4D</td>\n",
       "      <td>330 tūkst.</td>\n",
       "      <td>2,300  €</td>\n",
       "      <td>2300</td>\n",
       "    </tr>\n",
       "    <tr>\n",
       "      <th>1</th>\n",
       "      <td>1</td>\n",
       "      <td>Auto labā tehniskā un vizuālā stāvoklī, auto i...</td>\n",
       "      <td>https://ss.com/msg/lv/transport/cars/volvo/v70...</td>\n",
       "      <td>V70</td>\n",
       "      <td>2003</td>\n",
       "      <td>2.4D</td>\n",
       "      <td>390 tūkst.</td>\n",
       "      <td>2,600  €</td>\n",
       "      <td>2600</td>\n",
       "    </tr>\n",
       "    <tr>\n",
       "      <th>2</th>\n",
       "      <td>2</td>\n",
       "      <td>Volvo XC 90 2.4 D5 Edition 147 KW / Webasto / ...</td>\n",
       "      <td>https://ss.com/msg/lv/transport/cars/volvo/xc9...</td>\n",
       "      <td>XC 90</td>\n",
       "      <td>2011</td>\n",
       "      <td>2.0D</td>\n",
       "      <td>235 tūkst.</td>\n",
       "      <td>12,490  €</td>\n",
       "      <td>12490</td>\n",
       "    </tr>\n",
       "    <tr>\n",
       "      <th>3</th>\n",
       "      <td>3</td>\n",
       "      <td>Tikko No Vacijas. Facelift Modelis. Mehaniska ...</td>\n",
       "      <td>https://ss.com/msg/lv/transport/cars/volvo/xc9...</td>\n",
       "      <td>XC 90</td>\n",
       "      <td>2010</td>\n",
       "      <td>2.4D</td>\n",
       "      <td>-</td>\n",
       "      <td>11,650  €</td>\n",
       "      <td>11650</td>\n",
       "    </tr>\n",
       "    <tr>\n",
       "      <th>4</th>\n",
       "      <td>4</td>\n",
       "      <td>Volvo V70 Facelift, viens no labākajiem un jau...</td>\n",
       "      <td>https://ss.com/msg/lv/transport/cars/volvo/v70...</td>\n",
       "      <td>V70</td>\n",
       "      <td>2007</td>\n",
       "      <td>2.4D</td>\n",
       "      <td>300 tūkst.</td>\n",
       "      <td>3,500  €</td>\n",
       "      <td>3500</td>\n",
       "    </tr>\n",
       "  </tbody>\n",
       "</table>\n",
       "</div>"
      ],
      "text/plain": [
       "   Unnamed: 0                                        description  \\\n",
       "0           0  Auto arī dzīvē tāds kā bildēs. Virsbūve ļoti l...   \n",
       "1           1  Auto labā tehniskā un vizuālā stāvoklī, auto i...   \n",
       "2           2  Volvo XC 90 2.4 D5 Edition 147 KW / Webasto / ...   \n",
       "3           3  Tikko No Vacijas. Facelift Modelis. Mehaniska ...   \n",
       "4           4  Volvo V70 Facelift, viens no labākajiem un jau...   \n",
       "\n",
       "                                                 url Modelis  Gads Tilp.  \\\n",
       "0  https://ss.com/msg/lv/transport/cars/volvo/v70...     V70  2002  2.4D   \n",
       "1  https://ss.com/msg/lv/transport/cars/volvo/v70...     V70  2003  2.4D   \n",
       "2  https://ss.com/msg/lv/transport/cars/volvo/xc9...   XC 90  2011  2.0D   \n",
       "3  https://ss.com/msg/lv/transport/cars/volvo/xc9...   XC 90  2010  2.4D   \n",
       "4  https://ss.com/msg/lv/transport/cars/volvo/v70...     V70  2007  2.4D   \n",
       "\n",
       "     Nobrauk.       Cena  price  \n",
       "0  330 tūkst.   2,300  €   2300  \n",
       "1  390 tūkst.   2,600  €   2600  \n",
       "2  235 tūkst.  12,490  €  12490  \n",
       "3           -  11,650  €  11650  \n",
       "4  300 tūkst.   3,500  €   3500  "
      ]
     },
     "execution_count": 98,
     "metadata": {},
     "output_type": "execute_result"
    }
   ],
   "source": [
    "volvos[\"price\"] = volvos.Cena.str.split(' ').str[0]\n",
    "volvos.price = volvos.price.str.replace(\",\",\"\").astype('int32')\n",
    "volvos.head()"
   ]
  },
  {
   "cell_type": "code",
   "execution_count": 99,
   "metadata": {},
   "outputs": [
    {
     "data": {
      "text/html": [
       "<div>\n",
       "<style scoped>\n",
       "    .dataframe tbody tr th:only-of-type {\n",
       "        vertical-align: middle;\n",
       "    }\n",
       "\n",
       "    .dataframe tbody tr th {\n",
       "        vertical-align: top;\n",
       "    }\n",
       "\n",
       "    .dataframe thead th {\n",
       "        text-align: right;\n",
       "    }\n",
       "</style>\n",
       "<table border=\"1\" class=\"dataframe\">\n",
       "  <thead>\n",
       "    <tr style=\"text-align: right;\">\n",
       "      <th></th>\n",
       "      <th></th>\n",
       "      <th>count</th>\n",
       "      <th>min</th>\n",
       "      <th>max</th>\n",
       "      <th>mean</th>\n",
       "    </tr>\n",
       "    <tr>\n",
       "      <th>Gads</th>\n",
       "      <th>Modelis</th>\n",
       "      <th></th>\n",
       "      <th></th>\n",
       "      <th></th>\n",
       "      <th></th>\n",
       "    </tr>\n",
       "  </thead>\n",
       "  <tbody>\n",
       "    <tr>\n",
       "      <th>1987</th>\n",
       "      <th>240</th>\n",
       "      <td>1</td>\n",
       "      <td>4700</td>\n",
       "      <td>4700</td>\n",
       "      <td>4700.0</td>\n",
       "    </tr>\n",
       "    <tr>\n",
       "      <th>1989</th>\n",
       "      <th>740</th>\n",
       "      <td>1</td>\n",
       "      <td>4499</td>\n",
       "      <td>4499</td>\n",
       "      <td>4499.0</td>\n",
       "    </tr>\n",
       "    <tr>\n",
       "      <th rowspan=\"2\" valign=\"top\">1990</th>\n",
       "      <th>460</th>\n",
       "      <td>1</td>\n",
       "      <td>1500</td>\n",
       "      <td>1500</td>\n",
       "      <td>1500.0</td>\n",
       "    </tr>\n",
       "    <tr>\n",
       "      <th>740</th>\n",
       "      <td>1</td>\n",
       "      <td>3250</td>\n",
       "      <td>3250</td>\n",
       "      <td>3250.0</td>\n",
       "    </tr>\n",
       "    <tr>\n",
       "      <th>1992</th>\n",
       "      <th>740</th>\n",
       "      <td>1</td>\n",
       "      <td>1300</td>\n",
       "      <td>1300</td>\n",
       "      <td>1300.0</td>\n",
       "    </tr>\n",
       "    <tr>\n",
       "      <th>...</th>\n",
       "      <th>...</th>\n",
       "      <td>...</td>\n",
       "      <td>...</td>\n",
       "      <td>...</td>\n",
       "      <td>...</td>\n",
       "    </tr>\n",
       "    <tr>\n",
       "      <th rowspan=\"3\" valign=\"top\">2019</th>\n",
       "      <th>XC 40</th>\n",
       "      <td>3</td>\n",
       "      <td>29900</td>\n",
       "      <td>34590</td>\n",
       "      <td>32560.0</td>\n",
       "    </tr>\n",
       "    <tr>\n",
       "      <th>XC 60</th>\n",
       "      <td>3</td>\n",
       "      <td>28880</td>\n",
       "      <td>37500</td>\n",
       "      <td>33760.0</td>\n",
       "    </tr>\n",
       "    <tr>\n",
       "      <th>XC 90</th>\n",
       "      <td>1</td>\n",
       "      <td>47990</td>\n",
       "      <td>47990</td>\n",
       "      <td>47990.0</td>\n",
       "    </tr>\n",
       "    <tr>\n",
       "      <th rowspan=\"2\" valign=\"top\">2020</th>\n",
       "      <th>S60</th>\n",
       "      <td>1</td>\n",
       "      <td>27900</td>\n",
       "      <td>27900</td>\n",
       "      <td>27900.0</td>\n",
       "    </tr>\n",
       "    <tr>\n",
       "      <th>S90</th>\n",
       "      <td>1</td>\n",
       "      <td>40490</td>\n",
       "      <td>40490</td>\n",
       "      <td>40490.0</td>\n",
       "    </tr>\n",
       "  </tbody>\n",
       "</table>\n",
       "<p>178 rows × 4 columns</p>\n",
       "</div>"
      ],
      "text/plain": [
       "              count    min    max     mean\n",
       "Gads Modelis                              \n",
       "1987 240          1   4700   4700   4700.0\n",
       "1989 740          1   4499   4499   4499.0\n",
       "1990 460          1   1500   1500   1500.0\n",
       "     740          1   3250   3250   3250.0\n",
       "1992 740          1   1300   1300   1300.0\n",
       "...             ...    ...    ...      ...\n",
       "2019 XC 40        3  29900  34590  32560.0\n",
       "     XC 60        3  28880  37500  33760.0\n",
       "     XC 90        1  47990  47990  47990.0\n",
       "2020 S60          1  27900  27900  27900.0\n",
       "     S90          1  40490  40490  40490.0\n",
       "\n",
       "[178 rows x 4 columns]"
      ]
     },
     "execution_count": 99,
     "metadata": {},
     "output_type": "execute_result"
    }
   ],
   "source": [
    "\n",
    "gr_auto = volvos.groupby([\"Gads\",\"Modelis\"])[\"price\"].agg([\"count\", \"min\", \"max\", \"mean\", ])  #.head(n = 10)\n",
    "gr_auto"
   ]
  },
  {
   "cell_type": "code",
   "execution_count": null,
   "metadata": {},
   "outputs": [],
   "source": [
    "gr_auto.loc[gr_auto.index.get_level_values(0).str.contains(\"2015\")] # how to filter multi level index"
   ]
  },
  {
   "cell_type": "code",
   "execution_count": null,
   "metadata": {},
   "outputs": [],
   "source": [
    "gr_auto.loc[gr_auto.index.get_level_values(1).str.contains(\"S60\")]"
   ]
  },
  {
   "cell_type": "code",
   "execution_count": null,
   "metadata": {},
   "outputs": [],
   "source": [
    "gr_auto.loc[gr_auto.index.get_level_values(1).str.contains(\"S60\")].to_excel(\"S60.xlsx\")"
   ]
  },
  {
   "cell_type": "code",
   "execution_count": null,
   "metadata": {},
   "outputs": [],
   "source": [
    "print(dt.today())"
   ]
  },
  {
   "cell_type": "code",
   "execution_count": null,
   "metadata": {},
   "outputs": [],
   "source": [
    "suzuki_url = \"https://www.ss.com/lv/transport/cars/suzuki/\"\n",
    "# sdf = get_all_ads_df(suzuki_url, f\"suzuki_{dt.today()}.xlsx\")\n",
    "sdf = get_all_ads_df(suzuki_url, f\"suzuki.xlsx\")\n",
    "sdf.head()"
   ]
  },
  {
   "cell_type": "code",
   "execution_count": null,
   "metadata": {},
   "outputs": [],
   "source": [
    "sdf.info()"
   ]
  },
  {
   "cell_type": "code",
   "execution_count": null,
   "metadata": {},
   "outputs": [],
   "source": [
    "sdf[\"Tilp.\"] = sdf[\"Tilp.\"].str.replace(\"\\w\",\"\", regex=True)\n",
    "sdf.head()"
   ]
  },
  {
   "cell_type": "code",
   "execution_count": null,
   "metadata": {},
   "outputs": [],
   "source": [
    "sdf[\"Nobrauk.\"] = sdf[\"Nobrauk.\"].str.replace(\"\\D\",\"\", regex=True) # so no digits removed\n",
    "sdf.head()"
   ]
  },
  {
   "cell_type": "code",
   "execution_count": null,
   "metadata": {},
   "outputs": [],
   "source": [
    "sdf[\"Cena\"] = sdf[\"Cena\"].str.replace(\"\\D\",\"\", regex=True) # so no digits removed\n",
    "sdf.head()"
   ]
  },
  {
   "cell_type": "code",
   "execution_count": null,
   "metadata": {},
   "outputs": [],
   "source": [
    "sdf = sdf.dropna(how=\"any\", axis=0)\n",
    "sdf"
   ]
  },
  {
   "cell_type": "code",
   "execution_count": null,
   "metadata": {},
   "outputs": [],
   "source": [
    "sdf = sdf[sdf[\"Nobrauk.\"].str.len() > 0] # got rid of those empty rows finally\n",
    "sdf"
   ]
  },
  {
   "cell_type": "code",
   "execution_count": null,
   "metadata": {},
   "outputs": [],
   "source": []
  },
  {
   "cell_type": "code",
   "execution_count": null,
   "metadata": {},
   "outputs": [],
   "source": [
    "sdf[\"Cena\"] = sdf[\"Cena\"].astype(\"float32\")"
   ]
  },
  {
   "cell_type": "code",
   "execution_count": null,
   "metadata": {},
   "outputs": [],
   "source": [
    "gr_auto = sdf.groupby([\"Gads\",\"Modelis\"])[\"Cena\"].agg([\"count\",\"min\", \"max\", \"mean\"]) \n",
    "gr_auto"
   ]
  },
  {
   "cell_type": "code",
   "execution_count": null,
   "metadata": {},
   "outputs": [],
   "source": []
  }
 ],
 "metadata": {
  "kernelspec": {
   "display_name": "Python 3 (ipykernel)",
   "language": "python",
   "name": "python3"
  },
  "language_info": {
   "codemirror_mode": {
    "name": "ipython",
    "version": 3
   },
   "file_extension": ".py",
   "mimetype": "text/x-python",
   "name": "python",
   "nbconvert_exporter": "python",
   "pygments_lexer": "ipython3",
   "version": "3.9.7"
  }
 },
 "nbformat": 4,
 "nbformat_minor": 4
}
