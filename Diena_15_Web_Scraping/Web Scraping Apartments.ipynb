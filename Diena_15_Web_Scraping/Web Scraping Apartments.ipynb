{
 "cells": [
  {
   "cell_type": "code",
   "execution_count": 1,
   "metadata": {},
   "outputs": [],
   "source": [
    "# Requests for handling HTTP get and other requests\n",
    "import requests\n",
    "import time # import for playing nice and not getting blocked\n",
    "import pandas as pd\n",
    "# from BeautifulSoup4 import BeatifulSoup if installed through pip install BeautifulSoup4\n",
    "# \n",
    "from bs4 import BeautifulSoup"
   ]
  },
  {
   "cell_type": "code",
   "execution_count": null,
   "metadata": {},
   "outputs": [],
   "source": [
    "# if bs4 not found install it with\n",
    "#  !pip install beatifulsoup4\n",
    "# https://www.crummy.com/software/BeautifulSoup/"
   ]
  },
  {
   "cell_type": "code",
   "execution_count": null,
   "metadata": {},
   "outputs": [],
   "source": [
    "!dir\n",
    "# ar ! i can run command line commands"
   ]
  },
  {
   "cell_type": "code",
   "execution_count": null,
   "metadata": {},
   "outputs": [],
   "source": []
  },
  {
   "cell_type": "code",
   "execution_count": 2,
   "metadata": {},
   "outputs": [],
   "source": [
    "# centrs = \"https://www.ss.com/lv/real-estate/flats/riga/centre/sell/\"\n",
    "# url = \"https://www.ss.com/lv/real-estate/homes-summer-residences/riga-region/all/sell/\"\n",
    "url = \"https://www.ss.com/lv/real-estate/flats/riga/centre/sell/\""
   ]
  },
  {
   "cell_type": "code",
   "execution_count": 3,
   "metadata": {},
   "outputs": [
    {
     "data": {
      "text/plain": [
       "200"
      ]
     },
     "execution_count": 3,
     "metadata": {},
     "output_type": "execute_result"
    }
   ],
   "source": [
    "req = requests.get(url) # so here we make a call to webpage via HTTP GET request and get something back\n",
    "req.status_code # we could add if to check for 200"
   ]
  },
  {
   "cell_type": "code",
   "execution_count": 4,
   "metadata": {},
   "outputs": [
    {
     "data": {
      "text/plain": [
       "'<!DOCTYPE html>\\r\\n<HTML><HEAD>\\r\\n<title>SS.COM Dzīvokļi - Rīga - Centrs, Cenas, Pārdod - Sludinājumi</title>\\r\\n<meta http-equiv=\"Content-Type\" CONTENT=\"text/html; charset=UTF-8\">\\r\\n<meta name=\"viewport\" c'"
      ]
     },
     "execution_count": 4,
     "metadata": {},
     "output_type": "execute_result"
    }
   ],
   "source": [
    "req.text[:200]"
   ]
  },
  {
   "cell_type": "code",
   "execution_count": 5,
   "metadata": {},
   "outputs": [
    {
     "data": {
      "text/plain": [
       "2"
      ]
     },
     "execution_count": 5,
     "metadata": {},
     "output_type": "execute_result"
    }
   ],
   "source": [
    "req.text.count(\"Stabu\")  # we could parse it ourselves but why bother when we have libraries ?"
   ]
  },
  {
   "cell_type": "code",
   "execution_count": 6,
   "metadata": {},
   "outputs": [
    {
     "data": {
      "text/plain": [
       "15760"
      ]
     },
     "execution_count": 6,
     "metadata": {},
     "output_type": "execute_result"
    }
   ],
   "source": [
    "req.text.index(\"Stabu\")"
   ]
  },
  {
   "cell_type": "code",
   "execution_count": null,
   "metadata": {},
   "outputs": [],
   "source": [
    "type(req)"
   ]
  },
  {
   "cell_type": "code",
   "execution_count": null,
   "metadata": {},
   "outputs": [],
   "source": [
    "# req.json() will not work since this page is not JSON!"
   ]
  },
  {
   "cell_type": "code",
   "execution_count": null,
   "metadata": {},
   "outputs": [],
   "source": [
    "req.text[req.text.index(\"Stabu\"):req.text.index(\"Stabu\")+100] # we could do parsing by hand but usually we want to use a premade parser"
   ]
  },
  {
   "cell_type": "code",
   "execution_count": 8,
   "metadata": {},
   "outputs": [
    {
     "data": {
      "text/plain": [
       "<title>SS.COM Dzīvokļi - Rīga - Centrs, Cenas, Pārdod - Sludinājumi</title>"
      ]
     },
     "execution_count": 8,
     "metadata": {},
     "output_type": "execute_result"
    }
   ],
   "source": [
    "# parser means structuring your text into some structure\n",
    "soup = BeautifulSoup(req.text, 'lxml') # lxml is improved parser, a little bit more lenient\n",
    "# soup = BeautifulSoup(req.text) # could use Python's built in HTML parser\n",
    "soup.title"
   ]
  },
  {
   "cell_type": "code",
   "execution_count": 9,
   "metadata": {},
   "outputs": [
    {
     "data": {
      "text/plain": [
       "bs4.BeautifulSoup"
      ]
     },
     "execution_count": 9,
     "metadata": {},
     "output_type": "execute_result"
    }
   ],
   "source": [
    "type(soup)"
   ]
  },
  {
   "cell_type": "code",
   "execution_count": null,
   "metadata": {},
   "outputs": [],
   "source": []
  },
  {
   "cell_type": "code",
   "execution_count": 10,
   "metadata": {},
   "outputs": [
    {
     "data": {
      "text/plain": [
       "7"
      ]
     },
     "execution_count": 10,
     "metadata": {},
     "output_type": "execute_result"
    }
   ],
   "source": [
    "# https://www.crummy.com/software/BeautifulSoup/bs4/doc/#find-all\n",
    "# https://developer.mozilla.org/en-US/docs/Web/HTML/Element/table\n",
    "tables = soup.find_all(\"table\") # finds ALL elements matching our filter\n",
    "len(tables) "
   ]
  },
  {
   "cell_type": "code",
   "execution_count": 11,
   "metadata": {},
   "outputs": [
    {
     "data": {
      "text/plain": [
       "<tr id=\"head_line\">\n",
       "<td class=\"msg_column\" colspan=\"3\" width=\"70%\">\n",
       "<span style=\"float:left;\"> Sludinājumi\n",
       "</span>\n",
       "<span align=\"right\" class=\"msg_column\" style=\"float:right;text-align:right;padding-right:3px;\">\n",
       "<noindex>\n",
       "<a class=\"a19\" href=\"/lv/real-estate/flats/riga/centre/sell/fDgSeF4S.html\" rel=\"nofollow\">datums</a></noindex></span>\n",
       "</td>\n",
       "<td class=\"msg_column_td\" nowrap=\"\"><noindex><a class=\"a18\" href=\"/lv/real-estate/flats/riga/centre/sell/fDgSeF4SFDwT.html\" rel=\"nofollow\" title=\"\">Iela</a></noindex></td><td class=\"msg_column_td\" nowrap=\"\"><noindex><a class=\"a18\" href=\"/lv/real-estate/flats/riga/centre/sell/fDgSeF4SelM=.html\" rel=\"nofollow\" title=\"\">Ist.</a></noindex></td><td class=\"msg_column_td\" nowrap=\"\"><noindex><a class=\"a18\" href=\"/lv/real-estate/flats/riga/centre/sell/fDgSeF4QelM=.html\" rel=\"nofollow\" title=\"\">m2</a></noindex></td><td class=\"msg_column_td\" nowrap=\"\"><noindex><a class=\"a18\" href=\"/lv/real-estate/flats/riga/centre/sell/fDgSeF4XelM=.html\" rel=\"nofollow\" title=\"\">Stāvs</a></noindex></td><td class=\"msg_column_td\" nowrap=\"\"><noindex><a class=\"a18\" href=\"/lv/real-estate/flats/riga/centre/sell/fDgSeF4VelM=.html\" rel=\"nofollow\" title=\"\">Sērija</a></noindex></td><td background=\"https://i.ss.com/img/pl.gif\" class=\"msg_column\" nowrap=\"\" style=\"border-left:1px #FFFFFF solid;\"><noindex><a class=\"a18\" href=\"/lv/real-estate/flats/riga/centre/sell/fDgSeF4bRDwT.html\" rel=\"nofollow\">Cena, m2</a></noindex></td><td class=\"msg_column_td\" nowrap=\"\"><noindex><a class=\"a18\" href=\"/lv/real-estate/flats/riga/centre/sell/fDgSeF4belM=.html\" rel=\"nofollow\" title=\"\">Cena</a></noindex></td></tr>"
      ]
     },
     "execution_count": 11,
     "metadata": {},
     "output_type": "execute_result"
    }
   ],
   "source": [
    "# find finds just one match - first that matches\n",
    "# tr table row - https://developer.mozilla.org/en-US/docs/Web/HTML/Element/tr\n",
    "headline = soup.find(\"tr\", {\"id\":\"head_line\"}) # this is a shorter way of finding by tr AND this element having particular id\n",
    "headline"
   ]
  },
  {
   "cell_type": "code",
   "execution_count": 12,
   "metadata": {},
   "outputs": [
    {
     "data": {
      "text/plain": [
       "bs4.element.Tag"
      ]
     },
     "execution_count": 12,
     "metadata": {},
     "output_type": "execute_result"
    }
   ],
   "source": [
    "type(headline)"
   ]
  },
  {
   "cell_type": "code",
   "execution_count": 13,
   "metadata": {},
   "outputs": [
    {
     "data": {
      "text/plain": [
       "'\\n\\n\\xa0Sludinājumi\\r\\n\\n\\n\\ndatums\\n\\nIelaIst.m2StāvsSērijaCena, m2Cena'"
      ]
     },
     "execution_count": 13,
     "metadata": {},
     "output_type": "execute_result"
    }
   ],
   "source": [
    "headline.text  # i could use split here but we can go deeper!"
   ]
  },
  {
   "cell_type": "code",
   "execution_count": 14,
   "metadata": {},
   "outputs": [
    {
     "data": {
      "text/plain": [
       "['Sludinājumi', 'datums', 'IelaIst.m2StāvsSērijaCena,', 'm2Cena']"
      ]
     },
     "execution_count": 14,
     "metadata": {},
     "output_type": "execute_result"
    }
   ],
   "source": [
    "headline.text.split()"
   ]
  },
  {
   "cell_type": "code",
   "execution_count": 15,
   "metadata": {},
   "outputs": [
    {
     "data": {
      "text/plain": [
       "[<td class=\"msg_column\" colspan=\"3\" width=\"70%\">\n",
       " <span style=\"float:left;\"> Sludinājumi\n",
       " </span>\n",
       " <span align=\"right\" class=\"msg_column\" style=\"float:right;text-align:right;padding-right:3px;\">\n",
       " <noindex>\n",
       " <a class=\"a19\" href=\"/lv/real-estate/flats/riga/centre/sell/fDgSeF4S.html\" rel=\"nofollow\">datums</a></noindex></span>\n",
       " </td>,\n",
       " <td class=\"msg_column_td\" nowrap=\"\"><noindex><a class=\"a18\" href=\"/lv/real-estate/flats/riga/centre/sell/fDgSeF4SFDwT.html\" rel=\"nofollow\" title=\"\">Iela</a></noindex></td>,\n",
       " <td class=\"msg_column_td\" nowrap=\"\"><noindex><a class=\"a18\" href=\"/lv/real-estate/flats/riga/centre/sell/fDgSeF4SelM=.html\" rel=\"nofollow\" title=\"\">Ist.</a></noindex></td>,\n",
       " <td class=\"msg_column_td\" nowrap=\"\"><noindex><a class=\"a18\" href=\"/lv/real-estate/flats/riga/centre/sell/fDgSeF4QelM=.html\" rel=\"nofollow\" title=\"\">m2</a></noindex></td>,\n",
       " <td class=\"msg_column_td\" nowrap=\"\"><noindex><a class=\"a18\" href=\"/lv/real-estate/flats/riga/centre/sell/fDgSeF4XelM=.html\" rel=\"nofollow\" title=\"\">Stāvs</a></noindex></td>,\n",
       " <td class=\"msg_column_td\" nowrap=\"\"><noindex><a class=\"a18\" href=\"/lv/real-estate/flats/riga/centre/sell/fDgSeF4VelM=.html\" rel=\"nofollow\" title=\"\">Sērija</a></noindex></td>,\n",
       " <td background=\"https://i.ss.com/img/pl.gif\" class=\"msg_column\" nowrap=\"\" style=\"border-left:1px #FFFFFF solid;\"><noindex><a class=\"a18\" href=\"/lv/real-estate/flats/riga/centre/sell/fDgSeF4bRDwT.html\" rel=\"nofollow\">Cena, m2</a></noindex></td>,\n",
       " <td class=\"msg_column_td\" nowrap=\"\"><noindex><a class=\"a18\" href=\"/lv/real-estate/flats/riga/centre/sell/fDgSeF4belM=.html\" rel=\"nofollow\" title=\"\">Cena</a></noindex></td>]"
      ]
     },
     "execution_count": 15,
     "metadata": {},
     "output_type": "execute_result"
    }
   ],
   "source": [
    "headtds = headline.find_all(\"td\")  # get list of all td tags inside our headline tag only(not the whole document!)\n",
    "# td stands for table data\n",
    "# https://developer.mozilla.org/en-US/docs/Web/HTML/Element/td \n",
    "headtds"
   ]
  },
  {
   "cell_type": "code",
   "execution_count": 16,
   "metadata": {},
   "outputs": [
    {
     "data": {
      "text/plain": [
       "8"
      ]
     },
     "execution_count": 16,
     "metadata": {},
     "output_type": "execute_result"
    }
   ],
   "source": [
    "len(headtds) # so we have 8 table data elements"
   ]
  },
  {
   "cell_type": "code",
   "execution_count": null,
   "metadata": {},
   "outputs": [],
   "source": [
    "headline.text # this returns ALL text in headline and its children and grandchildren"
   ]
  },
  {
   "cell_type": "code",
   "execution_count": 17,
   "metadata": {},
   "outputs": [
    {
     "data": {
      "text/plain": [
       "'\\n\\xa0Sludinājumi\\r\\n\\n\\n\\ndatums\\n'"
      ]
     },
     "execution_count": 17,
     "metadata": {},
     "output_type": "execute_result"
    }
   ],
   "source": [
    "headtds[0].text # we do not need the first one"
   ]
  },
  {
   "cell_type": "code",
   "execution_count": 18,
   "metadata": {},
   "outputs": [
    {
     "data": {
      "text/plain": [
       "['Iela', 'Ist.', 'm2', 'Stāvs', 'Sērija', 'Cena, m2', 'Cena']"
      ]
     },
     "execution_count": 18,
     "metadata": {},
     "output_type": "execute_result"
    }
   ],
   "source": [
    "headcolumns = [el.text for el in headtds[1:]] #.text gets us content even from children and grandchildren\n",
    "headcolumns"
   ]
  },
  {
   "cell_type": "code",
   "execution_count": 22,
   "metadata": {},
   "outputs": [],
   "source": [
    "# lets combine the above cells into a function which will always get us columns\n",
    "def getColList(soup, default_cols=(\"description\",\"url\")):\n",
    "    column_list = list(default_cols) # we decided to that we need these two column names no matter the html\n",
    "    headline = soup.find(\"tr\", {\"id\":\"head_line\"})\n",
    "    headtds = headline.find_all(\"td\")\n",
    "    headcolumns = [el.text for el in headtds[1:]] # this will get all column names starting with 2nd in HTML\n",
    "    column_list += headcolumns  # merge both lists, could use extend\n",
    "    return column_list"
   ]
  },
  {
   "cell_type": "code",
   "execution_count": 23,
   "metadata": {},
   "outputs": [
    {
     "data": {
      "text/plain": [
       "['description',\n",
       " 'url',\n",
       " 'Iela',\n",
       " 'Ist.',\n",
       " 'm2',\n",
       " 'Stāvs',\n",
       " 'Sērija',\n",
       " 'Cena, m2',\n",
       " 'Cena']"
      ]
     },
     "execution_count": 23,
     "metadata": {},
     "output_type": "execute_result"
    }
   ],
   "source": [
    "column_names = getColList(soup)\n",
    "column_names # to be used later when creating our table"
   ]
  },
  {
   "cell_type": "code",
   "execution_count": 24,
   "metadata": {},
   "outputs": [
    {
     "data": {
      "text/plain": [
       "40"
      ]
     },
     "execution_count": 24,
     "metadata": {},
     "output_type": "execute_result"
    }
   ],
   "source": [
    "trows = soup.find_all('tr') # tr stands for table row\n",
    "len(trows)\n"
   ]
  },
  {
   "cell_type": "code",
   "execution_count": null,
   "metadata": {},
   "outputs": [],
   "source": [
    "# if i had no other choices I could find starting and end index by hand and hard code it\n",
    "# but that is liable to change between pages"
   ]
  },
  {
   "cell_type": "code",
   "execution_count": null,
   "metadata": {},
   "outputs": [],
   "source": [
    "trows[9] # we coudl do it by hand"
   ]
  },
  {
   "cell_type": "code",
   "execution_count": null,
   "metadata": {},
   "outputs": [],
   "source": [
    "trows[5] # so could take trows[6:35] downside is that this is fixed with magic numbers"
   ]
  },
  {
   "cell_type": "code",
   "execution_count": 25,
   "metadata": {},
   "outputs": [
    {
     "data": {
      "text/plain": [
       "('tr_51562634', 'tr_51602375')"
      ]
     },
     "execution_count": 25,
     "metadata": {},
     "output_type": "execute_result"
    }
   ],
   "source": [
    "trows[9][\"id\"], trows[5].get(\"id\") # get is safer since not all elements have ids"
   ]
  },
  {
   "cell_type": "code",
   "execution_count": 26,
   "metadata": {},
   "outputs": [
    {
     "data": {
      "text/plain": [
       "30"
      ]
     },
     "execution_count": 26,
     "metadata": {},
     "output_type": "execute_result"
    }
   ],
   "source": [
    "# hardest part in this \n",
    "# how to filter only specific rows\n",
    "# we need to find something that is unique to our apartment rows but not to the extra rows\n",
    "# remember we id is not guaranteed, so \"\" gives us default value when there is no id\n",
    "apt_rows = [row for row in trows if row.get('id',\"\").startswith(\"tr_\") and not row.get('id',\"\").startswith(\"tr_bnr\") ]\n",
    "len(apt_rows)"
   ]
  },
  {
   "cell_type": "code",
   "execution_count": 27,
   "metadata": {},
   "outputs": [
    {
     "data": {
      "text/plain": [
       "<tr id=\"tr_50885267\"><td class=\"msga2 pp0\"><input id=\"c50885267\" name=\"mid[]\" type=\"checkbox\" value=\"50885267_1106_0\"/></td><td class=\"msga2\"><a href=\"/msg/lv/real-estate/flats/riga/centre/egldf.html\" id=\"im50885267\"><img alt=\"\" class=\"isfoto foto_list\" src=\"https://i.ss.com/gallery/5/886/221278/44255568.th2.jpg\"/></a></td><td class=\"msg2\"><div class=\"d1\"><a class=\"am\" data=\"aiVBMGwlOTZrJUFDJUQ0ZiU5RGolOUFiJUE5JThGZyU5RmglOThjJUFGJTg4ZyU5N2glOTE=|5g8a2yX\" href=\"/msg/lv/real-estate/flats/riga/centre/egldf.html\" id=\"dm_50885267\">Продает хозяин Посольский район самый центр города Рига ресторан</a></div></td><td c=\"1\" class=\"msga2-o pp6\" nowrap=\"\">Ausekļa 5</td><td c=\"1\" class=\"msga2-o pp6\" nowrap=\"\">4</td><td c=\"1\" class=\"msga2-o pp6\" nowrap=\"\">150</td><td c=\"1\" class=\"msga2-o pp6\" nowrap=\"\">2/6</td><td c=\"1\" class=\"msga2-o pp6\" nowrap=\"\">Renov.</td><td c=\"1\" class=\"msga2-o pp6\" nowrap=\"\">3,000 €</td><td c=\"1\" class=\"msga2-o pp6\" nowrap=\"\">450,000  €</td></tr>"
      ]
     },
     "execution_count": 27,
     "metadata": {},
     "output_type": "execute_result"
    }
   ],
   "source": [
    "apt_rows[-1]"
   ]
  },
  {
   "cell_type": "code",
   "execution_count": 28,
   "metadata": {},
   "outputs": [
    {
     "data": {
      "text/plain": [
       "<tr id=\"tr_51602375\"><td class=\"msga2 pp0\"><input id=\"c51602375\" name=\"mid[]\" type=\"checkbox\" value=\"51602375_1106_0\"/></td><td class=\"msga2\"><a href=\"/msg/lv/real-estate/flats/riga/centre/gbnxc.html\" id=\"im51602375\"><img alt=\"\" class=\"isfoto foto_list\" src=\"https://i.ss.com/gallery/5/923/230540/46107908.th2.jpg\"/></a></td><td class=\"msg2\"><div class=\"d1\"><a class=\"am\" data=\"JTdCJTk0JUEwZyVBOSU5QSVGNiU5Q3h1JTlCJUE0bSVBNSU5QiVBQiVBMXd6JTk3JTlFayVBNCU5NSVBQQ==|Bdn6tezkB\" href=\"/msg/lv/real-estate/flats/riga/centre/gbnxc.html\" id=\"dm_51602375\">Augstvērtīgs 5 istabu dzīvoklis ar divām autostāvvietām un vienu</a></div></td><td c=\"1\" class=\"msga2-o pp6\" nowrap=\"\">J. Daliņa 8</td><td c=\"1\" class=\"msga2-o pp6\" nowrap=\"\">5</td><td c=\"1\" class=\"msga2-o pp6\" nowrap=\"\">200</td><td c=\"1\" class=\"msga2-o pp6\" nowrap=\"\">20/24</td><td c=\"1\" class=\"msga2-o pp6\" nowrap=\"\">Jaun.</td><td c=\"1\" class=\"msga2-o pp6\" nowrap=\"\">3,000 €</td><td c=\"1\" class=\"msga2-o pp6\" nowrap=\"\">600,000  €</td></tr>"
      ]
     },
     "execution_count": 28,
     "metadata": {},
     "output_type": "execute_result"
    }
   ],
   "source": [
    "apt_rows[0]"
   ]
  },
  {
   "cell_type": "code",
   "execution_count": 29,
   "metadata": {},
   "outputs": [],
   "source": [
    "# lets make a function from the above doodle and make it work on most pages on SS\n",
    "def getRowList(soup):\n",
    "    trows = soup.find_all('tr')\n",
    "    aprows = [row for row in trows if row.get('id',\"\").startswith(\"tr_\") and not row.get('id',\"\").startswith(\"tr_bnr\") ]\n",
    "    return aprows"
   ]
  },
  {
   "cell_type": "code",
   "execution_count": 30,
   "metadata": {},
   "outputs": [
    {
     "data": {
      "text/plain": [
       "30"
      ]
     },
     "execution_count": 30,
     "metadata": {},
     "output_type": "execute_result"
    }
   ],
   "source": [
    "apt_rows = getRowList(soup)\n",
    "len(apt_rows)"
   ]
  },
  {
   "cell_type": "code",
   "execution_count": 31,
   "metadata": {},
   "outputs": [
    {
     "data": {
      "text/plain": [
       "<tr id=\"tr_51602375\"><td class=\"msga2 pp0\"><input id=\"c51602375\" name=\"mid[]\" type=\"checkbox\" value=\"51602375_1106_0\"/></td><td class=\"msga2\"><a href=\"/msg/lv/real-estate/flats/riga/centre/gbnxc.html\" id=\"im51602375\"><img alt=\"\" class=\"isfoto foto_list\" src=\"https://i.ss.com/gallery/5/923/230540/46107908.th2.jpg\"/></a></td><td class=\"msg2\"><div class=\"d1\"><a class=\"am\" data=\"JTdCJTk0JUEwZyVBOSU5QSVGNiU5Q3h1JTlCJUE0bSVBNSU5QiVBQiVBMXd6JTk3JTlFayVBNCU5NSVBQQ==|Bdn6tezkB\" href=\"/msg/lv/real-estate/flats/riga/centre/gbnxc.html\" id=\"dm_51602375\">Augstvērtīgs 5 istabu dzīvoklis ar divām autostāvvietām un vienu</a></div></td><td c=\"1\" class=\"msga2-o pp6\" nowrap=\"\">J. Daliņa 8</td><td c=\"1\" class=\"msga2-o pp6\" nowrap=\"\">5</td><td c=\"1\" class=\"msga2-o pp6\" nowrap=\"\">200</td><td c=\"1\" class=\"msga2-o pp6\" nowrap=\"\">20/24</td><td c=\"1\" class=\"msga2-o pp6\" nowrap=\"\">Jaun.</td><td c=\"1\" class=\"msga2-o pp6\" nowrap=\"\">3,000 €</td><td c=\"1\" class=\"msga2-o pp6\" nowrap=\"\">600,000  €</td></tr>"
      ]
     },
     "execution_count": 31,
     "metadata": {},
     "output_type": "execute_result"
    }
   ],
   "source": [
    "first_ad = apt_rows[0]\n",
    "first_ad"
   ]
  },
  {
   "cell_type": "code",
   "execution_count": 32,
   "metadata": {},
   "outputs": [
    {
     "data": {
      "text/plain": [
       "10"
      ]
     },
     "execution_count": 32,
     "metadata": {},
     "output_type": "execute_result"
    }
   ],
   "source": [
    "row_tds = first_ad.find_all('td') # get all table data elements from first ad/row\n",
    "len(row_tds)"
   ]
  },
  {
   "cell_type": "code",
   "execution_count": 33,
   "metadata": {},
   "outputs": [
    {
     "data": {
      "text/plain": [
       "[<td class=\"msga2 pp0\"><input id=\"c51602375\" name=\"mid[]\" type=\"checkbox\" value=\"51602375_1106_0\"/></td>,\n",
       " <td class=\"msga2\"><a href=\"/msg/lv/real-estate/flats/riga/centre/gbnxc.html\" id=\"im51602375\"><img alt=\"\" class=\"isfoto foto_list\" src=\"https://i.ss.com/gallery/5/923/230540/46107908.th2.jpg\"/></a></td>,\n",
       " <td class=\"msg2\"><div class=\"d1\"><a class=\"am\" data=\"JTdCJTk0JUEwZyVBOSU5QSVGNiU5Q3h1JTlCJUE0bSVBNSU5QiVBQiVBMXd6JTk3JTlFayVBNCU5NSVBQQ==|Bdn6tezkB\" href=\"/msg/lv/real-estate/flats/riga/centre/gbnxc.html\" id=\"dm_51602375\">Augstvērtīgs 5 istabu dzīvoklis ar divām autostāvvietām un vienu</a></div></td>,\n",
       " <td c=\"1\" class=\"msga2-o pp6\" nowrap=\"\">J. Daliņa 8</td>,\n",
       " <td c=\"1\" class=\"msga2-o pp6\" nowrap=\"\">5</td>,\n",
       " <td c=\"1\" class=\"msga2-o pp6\" nowrap=\"\">200</td>,\n",
       " <td c=\"1\" class=\"msga2-o pp6\" nowrap=\"\">20/24</td>,\n",
       " <td c=\"1\" class=\"msga2-o pp6\" nowrap=\"\">Jaun.</td>,\n",
       " <td c=\"1\" class=\"msga2-o pp6\" nowrap=\"\">3,000 €</td>,\n",
       " <td c=\"1\" class=\"msga2-o pp6\" nowrap=\"\">600,000  €</td>]"
      ]
     },
     "execution_count": 33,
     "metadata": {},
     "output_type": "execute_result"
    }
   ],
   "source": [
    "row_tds"
   ]
  },
  {
   "cell_type": "code",
   "execution_count": 34,
   "metadata": {},
   "outputs": [
    {
     "data": {
      "text/plain": [
       "''"
      ]
     },
     "execution_count": 34,
     "metadata": {},
     "output_type": "execute_result"
    }
   ],
   "source": [
    "row_tds[0].text"
   ]
  },
  {
   "cell_type": "code",
   "execution_count": 35,
   "metadata": {},
   "outputs": [
    {
     "data": {
      "text/plain": [
       "''"
      ]
     },
     "execution_count": 35,
     "metadata": {},
     "output_type": "execute_result"
    }
   ],
   "source": [
    "row_tds[1].text"
   ]
  },
  {
   "cell_type": "code",
   "execution_count": 36,
   "metadata": {},
   "outputs": [
    {
     "data": {
      "text/plain": [
       "{'class': ['msga2']}"
      ]
     },
     "execution_count": 36,
     "metadata": {},
     "output_type": "execute_result"
    }
   ],
   "source": [
    "row_tds[1].attrs # we can see elements attributes"
   ]
  },
  {
   "cell_type": "code",
   "execution_count": 37,
   "metadata": {},
   "outputs": [
    {
     "data": {
      "text/plain": [
       "<img alt=\"\" class=\"isfoto foto_list\" src=\"https://i.ss.com/gallery/5/923/230540/46107908.th2.jpg\"/>"
      ]
     },
     "execution_count": 37,
     "metadata": {},
     "output_type": "execute_result"
    }
   ],
   "source": [
    "img = row_tds[1].find(\"img\")\n",
    "img"
   ]
  },
  {
   "cell_type": "code",
   "execution_count": null,
   "metadata": {},
   "outputs": [],
   "source": [
    "img.get(\"src\")"
   ]
  },
  {
   "cell_type": "code",
   "execution_count": 38,
   "metadata": {},
   "outputs": [
    {
     "data": {
      "text/plain": [
       "<a href=\"/msg/lv/real-estate/flats/riga/centre/gbnxc.html\" id=\"im51602375\"><img alt=\"\" class=\"isfoto foto_list\" src=\"https://i.ss.com/gallery/5/923/230540/46107908.th2.jpg\"/></a>"
      ]
     },
     "execution_count": 38,
     "metadata": {},
     "output_type": "execute_result"
    }
   ],
   "source": [
    "a = row_tds[1].find('a') # a tag is called anchor tag\n",
    "a"
   ]
  },
  {
   "cell_type": "code",
   "execution_count": 39,
   "metadata": {},
   "outputs": [
    {
     "data": {
      "text/plain": [
       "{'href': '/msg/lv/real-estate/flats/riga/centre/gbnxc.html',\n",
       " 'id': 'im51602375'}"
      ]
     },
     "execution_count": 39,
     "metadata": {},
     "output_type": "execute_result"
    }
   ],
   "source": [
    "a.attrs"
   ]
  },
  {
   "cell_type": "code",
   "execution_count": 40,
   "metadata": {},
   "outputs": [
    {
     "data": {
      "text/plain": [
       "('/msg/lv/real-estate/flats/riga/centre/gbnxc.html',\n",
       " '/msg/lv/real-estate/flats/riga/centre/gbnxc.html')"
      ]
     },
     "execution_count": 40,
     "metadata": {},
     "output_type": "execute_result"
    }
   ],
   "source": [
    "a.get('href'), a['href']"
   ]
  },
  {
   "cell_type": "code",
   "execution_count": 41,
   "metadata": {},
   "outputs": [
    {
     "data": {
      "text/plain": [
       "'https://www.ss.com/msg/lv/real-estate/flats/riga/centre/gbnxc.html'"
      ]
     },
     "execution_count": 41,
     "metadata": {},
     "output_type": "execute_result"
    }
   ],
   "source": [
    "prefix = \"https://www.ss.com\"\n",
    "prefix + a.get('href')"
   ]
  },
  {
   "cell_type": "code",
   "execution_count": 42,
   "metadata": {},
   "outputs": [
    {
     "data": {
      "text/plain": [
       "'Augstvērtīgs 5 istabu dzīvoklis ar divām autostāvvietām un vienu'"
      ]
     },
     "execution_count": 42,
     "metadata": {},
     "output_type": "execute_result"
    }
   ],
   "source": [
    "row_tds[2].text # 3rd element has the description"
   ]
  },
  {
   "cell_type": "code",
   "execution_count": 43,
   "metadata": {},
   "outputs": [
    {
     "data": {
      "text/plain": [
       "'600,000  €'"
      ]
     },
     "execution_count": 43,
     "metadata": {},
     "output_type": "execute_result"
    }
   ],
   "source": [
    "row_tds[-1].text # last element has the price"
   ]
  },
  {
   "cell_type": "code",
   "execution_count": 44,
   "metadata": {},
   "outputs": [
    {
     "data": {
      "text/plain": [
       "['description',\n",
       " 'url',\n",
       " 'Iela',\n",
       " 'Ist.',\n",
       " 'm2',\n",
       " 'Stāvs',\n",
       " 'Sērija',\n",
       " 'Cena, m2',\n",
       " 'Cena']"
      ]
     },
     "execution_count": 44,
     "metadata": {},
     "output_type": "execute_result"
    }
   ],
   "source": [
    "column_names # we got these first"
   ]
  },
  {
   "cell_type": "code",
   "execution_count": 45,
   "metadata": {},
   "outputs": [],
   "source": [
    "# from row get dictionary with values \n",
    "def getRow(row, colist=column_names):\n",
    "    row_tds = row.find_all('td')\n",
    "    rowDict = {}\n",
    "    if len(row_tds) < 3: # a little sanity check\n",
    "        print(\"Hmm bad row\")\n",
    "        return rowDict\n",
    "    \n",
    "    # we start with description\n",
    "    rowDict[colist[0]] = row_tds[2].text # so the big assumption is that we always get description in 3rd column\n",
    "    # then url\n",
    "    rowDict[colist[1]] = \"https://ss.com\" + row_tds[1].find('a').get('href')\n",
    "    # rest of columns can vary depending on type of ad\n",
    "    for key,td in zip(colist[2:],row_tds[3:]): \n",
    "        rowDict[key] = td.text\n",
    "    return rowDict"
   ]
  },
  {
   "cell_type": "code",
   "execution_count": 46,
   "metadata": {},
   "outputs": [
    {
     "data": {
      "text/plain": [
       "<tr id=\"tr_51602375\"><td class=\"msga2 pp0\"><input id=\"c51602375\" name=\"mid[]\" type=\"checkbox\" value=\"51602375_1106_0\"/></td><td class=\"msga2\"><a href=\"/msg/lv/real-estate/flats/riga/centre/gbnxc.html\" id=\"im51602375\"><img alt=\"\" class=\"isfoto foto_list\" src=\"https://i.ss.com/gallery/5/923/230540/46107908.th2.jpg\"/></a></td><td class=\"msg2\"><div class=\"d1\"><a class=\"am\" data=\"JTdCJTk0JUEwZyVBOSU5QSVGNiU5Q3h1JTlCJUE0bSVBNSU5QiVBQiVBMXd6JTk3JTlFayVBNCU5NSVBQQ==|Bdn6tezkB\" href=\"/msg/lv/real-estate/flats/riga/centre/gbnxc.html\" id=\"dm_51602375\">Augstvērtīgs 5 istabu dzīvoklis ar divām autostāvvietām un vienu</a></div></td><td c=\"1\" class=\"msga2-o pp6\" nowrap=\"\">J. Daliņa 8</td><td c=\"1\" class=\"msga2-o pp6\" nowrap=\"\">5</td><td c=\"1\" class=\"msga2-o pp6\" nowrap=\"\">200</td><td c=\"1\" class=\"msga2-o pp6\" nowrap=\"\">20/24</td><td c=\"1\" class=\"msga2-o pp6\" nowrap=\"\">Jaun.</td><td c=\"1\" class=\"msga2-o pp6\" nowrap=\"\">3,000 €</td><td c=\"1\" class=\"msga2-o pp6\" nowrap=\"\">600,000  €</td></tr>"
      ]
     },
     "execution_count": 46,
     "metadata": {},
     "output_type": "execute_result"
    }
   ],
   "source": [
    "apt_rows[0] # first row of ads"
   ]
  },
  {
   "cell_type": "code",
   "execution_count": 47,
   "metadata": {},
   "outputs": [
    {
     "data": {
      "text/plain": [
       "{'description': 'Augstvērtīgs 5 istabu dzīvoklis ar divām autostāvvietām un vienu',\n",
       " 'url': 'https://ss.com/msg/lv/real-estate/flats/riga/centre/gbnxc.html',\n",
       " 'Iela': 'J. Daliņa 8',\n",
       " 'Ist.': '5',\n",
       " 'm2': '200',\n",
       " 'Stāvs': '20/24',\n",
       " 'Sērija': 'Jaun.',\n",
       " 'Cena, m2': '3,000 €',\n",
       " 'Cena': '600,000  €'}"
      ]
     },
     "execution_count": 47,
     "metadata": {},
     "output_type": "execute_result"
    }
   ],
   "source": [
    "getRow(apt_rows[0])"
   ]
  },
  {
   "cell_type": "code",
   "execution_count": 48,
   "metadata": {},
   "outputs": [
    {
     "data": {
      "text/plain": [
       "{'description': 'Augstvērtīgs 5 istabu dzīvoklis ar divām autostāvvietām un vienu',\n",
       " 'url': 'https://ss.com/msg/lv/real-estate/flats/riga/centre/gbnxc.html',\n",
       " 'Iela': 'J. Daliņa 8',\n",
       " 'Ist.': '5',\n",
       " 'm2': '200',\n",
       " 'Stāvs': '20/24',\n",
       " 'Sērija': 'Jaun.',\n",
       " 'Cena, m2': '3,000 €',\n",
       " 'Cena': '600,000  €'}"
      ]
     },
     "execution_count": 48,
     "metadata": {},
     "output_type": "execute_result"
    }
   ],
   "source": [
    "getRow(first_ad)"
   ]
  },
  {
   "cell_type": "code",
   "execution_count": 49,
   "metadata": {},
   "outputs": [],
   "source": [
    "# so if we know how to work on single row then we can do process multiple rows\n",
    "def getRows(rowlist, colist=column_names):\n",
    "    return [getRow(row, colist=colist) for row in rowlist] # so return a list of dictionaries\n"
   ]
  },
  {
   "cell_type": "code",
   "execution_count": 50,
   "metadata": {},
   "outputs": [
    {
     "data": {
      "text/plain": [
       "[{'description': 'Pārdod plašu divu istabu dzīvokli Miera ielā, blakus diviem jaun',\n",
       "  'url': 'https://ss.com/msg/lv/real-estate/flats/riga/centre/ebdlk.html',\n",
       "  'Iela': 'Miera 82',\n",
       "  'Ist.': '2',\n",
       "  'm2': '68',\n",
       "  'Stāvs': '4/5',\n",
       "  'Sērija': 'P. kara',\n",
       "  'Cena, m2': '1,463 €',\n",
       "  'Cena': '99,500  €'},\n",
       " {'description': 'Ļoti kvalitatīvs, gaišs, skaists, ar pārdomātu un ērtu plānojumu',\n",
       "  'url': 'https://ss.com/msg/lv/real-estate/flats/riga/centre/bihoj.html',\n",
       "  'Iela': 'Blaumaņa 9',\n",
       "  'Ist.': '2',\n",
       "  'm2': '53',\n",
       "  'Stāvs': '5/6',\n",
       "  'Sērija': 'P. kara',\n",
       "  'Cena, m2': '2,774 €',\n",
       "  'Cena': '147,000  €'},\n",
       " {'description': 'Продает хозяин Посольский район самый центр города Рига ресторан',\n",
       "  'url': 'https://ss.com/msg/lv/real-estate/flats/riga/centre/egldf.html',\n",
       "  'Iela': 'Ausekļa 5',\n",
       "  'Ist.': '4',\n",
       "  'm2': '150',\n",
       "  'Stāvs': '2/6',\n",
       "  'Sērija': 'Renov.',\n",
       "  'Cena, m2': '3,000 €',\n",
       "  'Cena': '450,000  €'}]"
      ]
     },
     "execution_count": 50,
     "metadata": {},
     "output_type": "execute_result"
    }
   ],
   "source": [
    "row_ads = getRows(apt_rows)\n",
    "row_ads[-3:] # last 3 ads"
   ]
  },
  {
   "cell_type": "code",
   "execution_count": 51,
   "metadata": {},
   "outputs": [
    {
     "data": {
      "text/plain": [
       "list"
      ]
     },
     "execution_count": 51,
     "metadata": {},
     "output_type": "execute_result"
    }
   ],
   "source": [
    "type(row_ads)  # list of dictionaries for each ad"
   ]
  },
  {
   "cell_type": "code",
   "execution_count": null,
   "metadata": {},
   "outputs": [],
   "source": [
    "# such a list of dictionaries is easy to convert into a DataFrame in pandas"
   ]
  },
  {
   "cell_type": "code",
   "execution_count": 52,
   "metadata": {},
   "outputs": [
    {
     "data": {
      "text/plain": [
       "(30, 9)"
      ]
     },
     "execution_count": 52,
     "metadata": {},
     "output_type": "execute_result"
    }
   ],
   "source": [
    "dtemp = pd.DataFrame(row_ads, columns=column_names)\n",
    "dtemp.shape"
   ]
  },
  {
   "cell_type": "code",
   "execution_count": 53,
   "metadata": {},
   "outputs": [
    {
     "data": {
      "text/html": [
       "<div>\n",
       "<style scoped>\n",
       "    .dataframe tbody tr th:only-of-type {\n",
       "        vertical-align: middle;\n",
       "    }\n",
       "\n",
       "    .dataframe tbody tr th {\n",
       "        vertical-align: top;\n",
       "    }\n",
       "\n",
       "    .dataframe thead th {\n",
       "        text-align: right;\n",
       "    }\n",
       "</style>\n",
       "<table border=\"1\" class=\"dataframe\">\n",
       "  <thead>\n",
       "    <tr style=\"text-align: right;\">\n",
       "      <th></th>\n",
       "      <th>description</th>\n",
       "      <th>url</th>\n",
       "      <th>Iela</th>\n",
       "      <th>Ist.</th>\n",
       "      <th>m2</th>\n",
       "      <th>Stāvs</th>\n",
       "      <th>Sērija</th>\n",
       "      <th>Cena, m2</th>\n",
       "      <th>Cena</th>\n",
       "    </tr>\n",
       "  </thead>\n",
       "  <tbody>\n",
       "    <tr>\n",
       "      <th>0</th>\n",
       "      <td>Augstvērtīgs 5 istabu dzīvoklis ar divām autos...</td>\n",
       "      <td>https://ss.com/msg/lv/real-estate/flats/riga/c...</td>\n",
       "      <td>J. Daliņa 8</td>\n",
       "      <td>5</td>\n",
       "      <td>200</td>\n",
       "      <td>20/24</td>\n",
       "      <td>Jaun.</td>\n",
       "      <td>3,000 €</td>\n",
       "      <td>600,000  €</td>\n",
       "    </tr>\n",
       "    <tr>\n",
       "      <th>1</th>\n",
       "      <td>Dzīvoklis atrodas centrā , pretim LU Svešvalod...</td>\n",
       "      <td>https://ss.com/msg/lv/real-estate/flats/riga/c...</td>\n",
       "      <td>Visvalža 3a</td>\n",
       "      <td>2</td>\n",
       "      <td>52</td>\n",
       "      <td>5/5</td>\n",
       "      <td>P. kara</td>\n",
       "      <td>1,471 €</td>\n",
       "      <td>76,500  €</td>\n",
       "    </tr>\n",
       "    <tr>\n",
       "      <th>2</th>\n",
       "      <td>Remontēts 2 - istabu dzīvoklis pirmskara pagal...</td>\n",
       "      <td>https://ss.com/msg/lv/real-estate/flats/riga/c...</td>\n",
       "      <td>Miera 10</td>\n",
       "      <td>2</td>\n",
       "      <td>75</td>\n",
       "      <td>3/5</td>\n",
       "      <td>P. kara</td>\n",
       "      <td>1,700 €</td>\n",
       "      <td>127,500  €</td>\n",
       "    </tr>\n",
       "    <tr>\n",
       "      <th>3</th>\n",
       "      <td>Īpašnieks pārdod vienistabas dzīvokli 29 m2 pl...</td>\n",
       "      <td>https://ss.com/msg/lv/real-estate/flats/riga/c...</td>\n",
       "      <td>Tomsona 25</td>\n",
       "      <td>1</td>\n",
       "      <td>29</td>\n",
       "      <td>3/5</td>\n",
       "      <td>Hrušč.</td>\n",
       "      <td>1,717 €</td>\n",
       "      <td>49,800  €</td>\n",
       "    </tr>\n",
       "    <tr>\n",
       "      <th>4</th>\n",
       "      <td>Pārdošanā pilnībā mēbelētu dzīvokli pilsētas c...</td>\n",
       "      <td>https://ss.com/msg/lv/real-estate/flats/riga/c...</td>\n",
       "      <td>Tērbatas 26a</td>\n",
       "      <td>2</td>\n",
       "      <td>37</td>\n",
       "      <td>4/6</td>\n",
       "      <td>Renov.</td>\n",
       "      <td>3,108 €</td>\n",
       "      <td>115,000  €</td>\n",
       "    </tr>\n",
       "  </tbody>\n",
       "</table>\n",
       "</div>"
      ],
      "text/plain": [
       "                                         description  \\\n",
       "0  Augstvērtīgs 5 istabu dzīvoklis ar divām autos...   \n",
       "1  Dzīvoklis atrodas centrā , pretim LU Svešvalod...   \n",
       "2  Remontēts 2 - istabu dzīvoklis pirmskara pagal...   \n",
       "3  Īpašnieks pārdod vienistabas dzīvokli 29 m2 pl...   \n",
       "4  Pārdošanā pilnībā mēbelētu dzīvokli pilsētas c...   \n",
       "\n",
       "                                                 url          Iela Ist.   m2  \\\n",
       "0  https://ss.com/msg/lv/real-estate/flats/riga/c...   J. Daliņa 8    5  200   \n",
       "1  https://ss.com/msg/lv/real-estate/flats/riga/c...   Visvalža 3a    2   52   \n",
       "2  https://ss.com/msg/lv/real-estate/flats/riga/c...      Miera 10    2   75   \n",
       "3  https://ss.com/msg/lv/real-estate/flats/riga/c...    Tomsona 25    1   29   \n",
       "4  https://ss.com/msg/lv/real-estate/flats/riga/c...  Tērbatas 26a    2   37   \n",
       "\n",
       "   Stāvs   Sērija Cena, m2        Cena  \n",
       "0  20/24    Jaun.  3,000 €  600,000  €  \n",
       "1    5/5  P. kara  1,471 €   76,500  €  \n",
       "2    3/5  P. kara  1,700 €  127,500  €  \n",
       "3    3/5   Hrušč.  1,717 €   49,800  €  \n",
       "4    4/6   Renov.  3,108 €  115,000  €  "
      ]
     },
     "execution_count": 53,
     "metadata": {},
     "output_type": "execute_result"
    }
   ],
   "source": [
    "dtemp.head()"
   ]
  },
  {
   "cell_type": "code",
   "execution_count": 54,
   "metadata": {},
   "outputs": [],
   "source": [
    "dtemp.to_excel(\"rigas_rajons_jun30.xlsx\")"
   ]
  },
  {
   "cell_type": "code",
   "execution_count": 55,
   "metadata": {},
   "outputs": [],
   "source": [
    "# so with this function I can get full dataframe from a single page on ss.com not only apartments\n",
    "def getDFfromURL(url):\n",
    "    # print(\"getting data from\", url)\n",
    "    req = requests.get(url)\n",
    "    if req.status_code != 200:\n",
    "        print(\"Request Fail with\", req.status_code)\n",
    "        return None # maybe return empty dataframe here\n",
    "    soup = BeautifulSoup(req.text, 'lxml')\n",
    "    column_names = getColList(soup)\n",
    "    rowlist = getRowList(soup)\n",
    "    rows_dict = getRows(rowlist,colist=column_names)\n",
    "    return pd.DataFrame(rows_dict, columns=column_names)\n",
    "    "
   ]
  },
  {
   "cell_type": "code",
   "execution_count": null,
   "metadata": {},
   "outputs": [],
   "source": [
    "centrs = url\n",
    "centrs"
   ]
  },
  {
   "cell_type": "code",
   "execution_count": 56,
   "metadata": {},
   "outputs": [
    {
     "data": {
      "text/html": [
       "<div>\n",
       "<style scoped>\n",
       "    .dataframe tbody tr th:only-of-type {\n",
       "        vertical-align: middle;\n",
       "    }\n",
       "\n",
       "    .dataframe tbody tr th {\n",
       "        vertical-align: top;\n",
       "    }\n",
       "\n",
       "    .dataframe thead th {\n",
       "        text-align: right;\n",
       "    }\n",
       "</style>\n",
       "<table border=\"1\" class=\"dataframe\">\n",
       "  <thead>\n",
       "    <tr style=\"text-align: right;\">\n",
       "      <th></th>\n",
       "      <th>description</th>\n",
       "      <th>url</th>\n",
       "      <th>Iela</th>\n",
       "      <th>Ist.</th>\n",
       "      <th>m2</th>\n",
       "      <th>Stāvs</th>\n",
       "      <th>Sērija</th>\n",
       "      <th>Cena, m2</th>\n",
       "      <th>Cena</th>\n",
       "    </tr>\n",
       "  </thead>\n",
       "  <tbody>\n",
       "    <tr>\n",
       "      <th>0</th>\n",
       "      <td>Pārdošanā 3-istabu dzīvoklis ar lodžiju. Plāno...</td>\n",
       "      <td>https://ss.com/msg/lv/real-estate/flats/riga/i...</td>\n",
       "      <td>Kurzemes pr. 134</td>\n",
       "      <td>3</td>\n",
       "      <td>60</td>\n",
       "      <td>4/5</td>\n",
       "      <td>LT proj.</td>\n",
       "      <td>1,081 €</td>\n",
       "      <td>64,850  €</td>\n",
       "    </tr>\n",
       "    <tr>\n",
       "      <th>1</th>\n",
       "      <td>Очень красивая и уютная 4 комнатная квартира в...</td>\n",
       "      <td>https://ss.com/msg/lv/real-estate/flats/riga/i...</td>\n",
       "      <td>Anniņmuižas 43</td>\n",
       "      <td>4</td>\n",
       "      <td>137</td>\n",
       "      <td>19/24</td>\n",
       "      <td>Jaun.</td>\n",
       "      <td>2,044 €</td>\n",
       "      <td>280,000  €</td>\n",
       "    </tr>\n",
       "    <tr>\n",
       "      <th>2</th>\n",
       "      <td>Продаётся прекрасная однокомнатная квартира в ...</td>\n",
       "      <td>https://ss.com/msg/lv/real-estate/flats/riga/i...</td>\n",
       "      <td>M. Krūmu 10</td>\n",
       "      <td>1</td>\n",
       "      <td>34</td>\n",
       "      <td>4/9</td>\n",
       "      <td>602.</td>\n",
       "      <td>1,147 €</td>\n",
       "      <td>39,000  €</td>\n",
       "    </tr>\n",
       "    <tr>\n",
       "      <th>3</th>\n",
       "      <td>Gaišs un mājīgs dzīvoklis Imantā ļoti ainavisk...</td>\n",
       "      <td>https://ss.com/msg/lv/real-estate/flats/riga/i...</td>\n",
       "      <td>Slokas 111H</td>\n",
       "      <td>3</td>\n",
       "      <td>86</td>\n",
       "      <td>4/4</td>\n",
       "      <td>Jaun.</td>\n",
       "      <td>1,835 €</td>\n",
       "      <td>157,800  €</td>\n",
       "    </tr>\n",
       "    <tr>\n",
       "      <th>4</th>\n",
       "      <td>Tiek pārdots divu istabu dzīvoklis Imantā. \\r\\...</td>\n",
       "      <td>https://ss.com/msg/lv/real-estate/flats/riga/i...</td>\n",
       "      <td>Kurzemes pr. 152</td>\n",
       "      <td>2</td>\n",
       "      <td>52</td>\n",
       "      <td>5/9</td>\n",
       "      <td>602.</td>\n",
       "      <td>1,133 €</td>\n",
       "      <td>58,900  €</td>\n",
       "    </tr>\n",
       "  </tbody>\n",
       "</table>\n",
       "</div>"
      ],
      "text/plain": [
       "                                         description  \\\n",
       "0  Pārdošanā 3-istabu dzīvoklis ar lodžiju. Plāno...   \n",
       "1  Очень красивая и уютная 4 комнатная квартира в...   \n",
       "2  Продаётся прекрасная однокомнатная квартира в ...   \n",
       "3  Gaišs un mājīgs dzīvoklis Imantā ļoti ainavisk...   \n",
       "4  Tiek pārdots divu istabu dzīvoklis Imantā. \\r\\...   \n",
       "\n",
       "                                                 url              Iela Ist.  \\\n",
       "0  https://ss.com/msg/lv/real-estate/flats/riga/i...  Kurzemes pr. 134    3   \n",
       "1  https://ss.com/msg/lv/real-estate/flats/riga/i...    Anniņmuižas 43    4   \n",
       "2  https://ss.com/msg/lv/real-estate/flats/riga/i...       M. Krūmu 10    1   \n",
       "3  https://ss.com/msg/lv/real-estate/flats/riga/i...       Slokas 111H    3   \n",
       "4  https://ss.com/msg/lv/real-estate/flats/riga/i...  Kurzemes pr. 152    2   \n",
       "\n",
       "    m2  Stāvs    Sērija Cena, m2        Cena  \n",
       "0   60    4/5  LT proj.  1,081 €   64,850  €  \n",
       "1  137  19/24     Jaun.  2,044 €  280,000  €  \n",
       "2   34    4/9      602.  1,147 €   39,000  €  \n",
       "3   86    4/4     Jaun.  1,835 €  157,800  €  \n",
       "4   52    5/9      602.  1,133 €   58,900  €  "
      ]
     },
     "execution_count": 56,
     "metadata": {},
     "output_type": "execute_result"
    }
   ],
   "source": [
    "imanta = \"https://www.ss.com/lv/real-estate/flats/riga/imanta/sell/\"\n",
    "idf = getDFfromURL(imanta)\n",
    "idf.head()"
   ]
  },
  {
   "cell_type": "code",
   "execution_count": null,
   "metadata": {},
   "outputs": [],
   "source": [
    "df = getDFfromURL(centrs) # this will involve calling web page"
   ]
  },
  {
   "cell_type": "code",
   "execution_count": null,
   "metadata": {},
   "outputs": [],
   "source": [
    "url"
   ]
  },
  {
   "cell_type": "code",
   "execution_count": null,
   "metadata": {},
   "outputs": [],
   "source": [
    "df = getDFfromURL(url)\n",
    "df.shape"
   ]
  },
  {
   "cell_type": "code",
   "execution_count": null,
   "metadata": {},
   "outputs": [],
   "source": [
    "df.shape"
   ]
  },
  {
   "cell_type": "code",
   "execution_count": null,
   "metadata": {},
   "outputs": [],
   "source": [
    "df.head()"
   ]
  },
  {
   "cell_type": "code",
   "execution_count": 57,
   "metadata": {},
   "outputs": [
    {
     "data": {
      "text/plain": [
       "99"
      ]
     },
     "execution_count": 57,
     "metadata": {},
     "output_type": "execute_result"
    }
   ],
   "source": [
    "\n",
    "# https://developer.mozilla.org/en-US/docs/Web/HTML/Element/a\n",
    "anchors = soup.find_all(\"a\")\n",
    "len(anchors) # anchors are popular in pages"
   ]
  },
  {
   "cell_type": "code",
   "execution_count": 58,
   "metadata": {},
   "outputs": [
    {
     "data": {
      "text/plain": [
       "[<a href=\"/\" title=\"Sludinājumi\"><img alt=\"Sludinājumi\" border=\"0\" class=\"page_header_logo\" src=\"https://i.ss.com/img/p.gif\"/></a>,\n",
       " <a class=\"a_menu\" href=\"/lv/real-estate/flats/new/\" title=\"Iesniegt Sludinājumu\">Iesniegt Sludinājumu</a>,\n",
       " <a class=\"a_menu\" href=\"/lv/login/\" title=\"Mani Sludinājumi\">Mani Sludinājumi</a>,\n",
       " <a class=\"a_menu\" href=\"/lv/real-estate/flats/riga/centre/search/\" title=\"Meklēt sludinājumus\">Meklēšana</a>,\n",
       " <a class=\"a_menu\" href=\"/lv/favorites/\" title=\"Memo\">Memo</a>]"
      ]
     },
     "execution_count": 58,
     "metadata": {},
     "output_type": "execute_result"
    }
   ],
   "source": [
    "anchors[:5]"
   ]
  },
  {
   "cell_type": "code",
   "execution_count": 59,
   "metadata": {},
   "outputs": [
    {
     "data": {
      "text/plain": [
       "10"
      ]
     },
     "execution_count": 59,
     "metadata": {},
     "output_type": "execute_result"
    }
   ],
   "source": [
    "navs = [anchor for anchor in anchors if anchor.get(\"name\") == \"nav_id\"] # get will get us None if no \"name\" exists\n",
    "len(navs)"
   ]
  },
  {
   "cell_type": "code",
   "execution_count": null,
   "metadata": {},
   "outputs": [],
   "source": [
    "navs"
   ]
  },
  {
   "cell_type": "code",
   "execution_count": 60,
   "metadata": {},
   "outputs": [
    {
     "data": {
      "text/plain": [
       "<a class=\"navi\" href=\"/lv/real-estate/flats/riga/centre/sell/page23.html\" name=\"nav_id\" rel=\"prev\"><img border=\"0\" height=\"5\" src=\"https://i.ss.com/img/s_left.png\" style=\"padding-bottom:2px;\" width=\"9\"/> Iepriekšējie</a>"
      ]
     },
     "execution_count": 60,
     "metadata": {},
     "output_type": "execute_result"
    }
   ],
   "source": [
    "navs[0]"
   ]
  },
  {
   "cell_type": "code",
   "execution_count": 61,
   "metadata": {},
   "outputs": [
    {
     "data": {
      "text/plain": [
       "{'name': 'nav_id',\n",
       " 'rel': ['prev'],\n",
       " 'class': ['navi'],\n",
       " 'href': '/lv/real-estate/flats/riga/centre/sell/page23.html'}"
      ]
     },
     "execution_count": 61,
     "metadata": {},
     "output_type": "execute_result"
    }
   ],
   "source": [
    "navs[0].attrs"
   ]
  },
  {
   "cell_type": "code",
   "execution_count": 62,
   "metadata": {},
   "outputs": [
    {
     "data": {
      "text/plain": [
       "'/lv/real-estate/flats/riga/centre/sell/page23.html'"
      ]
     },
     "execution_count": 62,
     "metadata": {},
     "output_type": "execute_result"
    }
   ],
   "source": [
    "navs[0]['href']"
   ]
  },
  {
   "cell_type": "code",
   "execution_count": 63,
   "metadata": {},
   "outputs": [
    {
     "data": {
      "text/plain": [
       "'23.html'"
      ]
     },
     "execution_count": 63,
     "metadata": {},
     "output_type": "execute_result"
    }
   ],
   "source": [
    "# could use regular expression here but we can use split \n",
    "afterpage = navs[0]['href'].split(\"/page\")[-1] # -1 might be safer than 1 in case there is region with name page\n",
    "afterpage"
   ]
  },
  {
   "cell_type": "code",
   "execution_count": 64,
   "metadata": {},
   "outputs": [
    {
     "data": {
      "text/plain": [
       "'23'"
      ]
     },
     "execution_count": 64,
     "metadata": {},
     "output_type": "execute_result"
    }
   ],
   "source": [
    "beforedot = afterpage.split(\".html\")[0]\n",
    "beforedot"
   ]
  },
  {
   "cell_type": "code",
   "execution_count": 65,
   "metadata": {},
   "outputs": [
    {
     "data": {
      "text/plain": [
       "23"
      ]
     },
     "execution_count": 65,
     "metadata": {},
     "output_type": "execute_result"
    }
   ],
   "source": [
    "lastpage = int(beforedot)\n",
    "lastpage"
   ]
  },
  {
   "cell_type": "code",
   "execution_count": null,
   "metadata": {},
   "outputs": [],
   "source": [
    "# so now wbe put everything we just did in a single function"
   ]
  },
  {
   "cell_type": "code",
   "execution_count": 67,
   "metadata": {},
   "outputs": [
    {
     "data": {
      "text/plain": [
       "<a class=\"navi\" href=\"/lv/real-estate/flats/riga/centre/sell/page23.html\" name=\"nav_id\" rel=\"prev\"><img border=\"0\" height=\"5\" src=\"https://i.ss.com/img/s_left.png\" style=\"padding-bottom:2px;\" width=\"9\"/> Iepriekšējie</a>"
      ]
     },
     "execution_count": 67,
     "metadata": {},
     "output_type": "execute_result"
    }
   ],
   "source": [
    "prevanchor = soup.find('a', {\"rel\":\"prev\"})\n",
    "prevanchor"
   ]
  },
  {
   "cell_type": "code",
   "execution_count": 68,
   "metadata": {},
   "outputs": [],
   "source": [
    "def getAllLocalUrls(url):\n",
    "    \"\"\"Get a list of all urls including paginated pages\"\"\"\n",
    "    results = [url] # default is just the url if no extra pages found, teiksim Bolderājai...\n",
    "    req = requests.get(url)\n",
    "    if req.status_code != 200:\n",
    "        print(f\"Bad response! {req.status_code}\")\n",
    "        return []\n",
    "    soup = BeautifulSoup(req.text, 'lxml')\n",
    "    # we just need a one element\n",
    "    prevanchor = soup.find('a', {\"rel\":\"prev\"}) # find finds first match only\n",
    "    if prevanchor == None: # means there is only one page of ads\n",
    "        return results\n",
    "    href = prevanchor.attrs.get('href')\n",
    "    lastPageNum = int(href.split('/page')[-1].split('.html')[0])\n",
    "    print(\"Last page is\",lastPageNum)\n",
    "    nurls = [f\"{url}page{n}.html\" for n in range(2,lastPageNum+1)]\n",
    "    results += nurls\n",
    "    return results"
   ]
  },
  {
   "cell_type": "code",
   "execution_count": 69,
   "metadata": {},
   "outputs": [
    {
     "data": {
      "text/plain": [
       "'https://www.ss.com/lv/real-estate/flats/riga/centre/sell/'"
      ]
     },
     "execution_count": 69,
     "metadata": {},
     "output_type": "execute_result"
    }
   ],
   "source": [
    "url"
   ]
  },
  {
   "cell_type": "code",
   "execution_count": null,
   "metadata": {},
   "outputs": [],
   "source": [
    "centrs = url"
   ]
  },
  {
   "cell_type": "code",
   "execution_count": null,
   "metadata": {},
   "outputs": [],
   "source": [
    "url"
   ]
  },
  {
   "cell_type": "code",
   "execution_count": 70,
   "metadata": {},
   "outputs": [
    {
     "name": "stdout",
     "output_type": "stream",
     "text": [
      "Last page is 23\n"
     ]
    },
    {
     "data": {
      "text/plain": [
       "(23,\n",
       " ['https://www.ss.com/lv/real-estate/flats/riga/centre/sell/',\n",
       "  'https://www.ss.com/lv/real-estate/flats/riga/centre/sell/page2.html',\n",
       "  'https://www.ss.com/lv/real-estate/flats/riga/centre/sell/page3.html'],\n",
       " 'https://www.ss.com/lv/real-estate/flats/riga/centre/sell/page23.html')"
      ]
     },
     "execution_count": 70,
     "metadata": {},
     "output_type": "execute_result"
    }
   ],
   "source": [
    "local_urls = getAllLocalUrls(url)\n",
    "len(local_urls),local_urls[:3],local_urls[-1]"
   ]
  },
  {
   "cell_type": "code",
   "execution_count": 71,
   "metadata": {},
   "outputs": [
    {
     "data": {
      "text/plain": [
       "['https://www.ss.com/lv/real-estate/flats/riga/centre/sell/',\n",
       " 'https://www.ss.com/lv/real-estate/flats/riga/centre/sell/page2.html',\n",
       " 'https://www.ss.com/lv/real-estate/flats/riga/centre/sell/page3.html',\n",
       " 'https://www.ss.com/lv/real-estate/flats/riga/centre/sell/page4.html',\n",
       " 'https://www.ss.com/lv/real-estate/flats/riga/centre/sell/page5.html',\n",
       " 'https://www.ss.com/lv/real-estate/flats/riga/centre/sell/page6.html',\n",
       " 'https://www.ss.com/lv/real-estate/flats/riga/centre/sell/page7.html',\n",
       " 'https://www.ss.com/lv/real-estate/flats/riga/centre/sell/page8.html',\n",
       " 'https://www.ss.com/lv/real-estate/flats/riga/centre/sell/page9.html',\n",
       " 'https://www.ss.com/lv/real-estate/flats/riga/centre/sell/page10.html',\n",
       " 'https://www.ss.com/lv/real-estate/flats/riga/centre/sell/page11.html',\n",
       " 'https://www.ss.com/lv/real-estate/flats/riga/centre/sell/page12.html',\n",
       " 'https://www.ss.com/lv/real-estate/flats/riga/centre/sell/page13.html',\n",
       " 'https://www.ss.com/lv/real-estate/flats/riga/centre/sell/page14.html',\n",
       " 'https://www.ss.com/lv/real-estate/flats/riga/centre/sell/page15.html',\n",
       " 'https://www.ss.com/lv/real-estate/flats/riga/centre/sell/page16.html',\n",
       " 'https://www.ss.com/lv/real-estate/flats/riga/centre/sell/page17.html',\n",
       " 'https://www.ss.com/lv/real-estate/flats/riga/centre/sell/page18.html',\n",
       " 'https://www.ss.com/lv/real-estate/flats/riga/centre/sell/page19.html',\n",
       " 'https://www.ss.com/lv/real-estate/flats/riga/centre/sell/page20.html',\n",
       " 'https://www.ss.com/lv/real-estate/flats/riga/centre/sell/page21.html',\n",
       " 'https://www.ss.com/lv/real-estate/flats/riga/centre/sell/page22.html',\n",
       " 'https://www.ss.com/lv/real-estate/flats/riga/centre/sell/page23.html']"
      ]
     },
     "execution_count": 71,
     "metadata": {},
     "output_type": "execute_result"
    }
   ],
   "source": [
    "local_urls"
   ]
  },
  {
   "cell_type": "code",
   "execution_count": null,
   "metadata": {},
   "outputs": [],
   "source": [
    "dlast = getDFfromURL(local_urls[-1])\n",
    "dlast.shape"
   ]
  },
  {
   "cell_type": "code",
   "execution_count": null,
   "metadata": {
    "scrolled": true
   },
   "outputs": [],
   "source": [
    "dlast"
   ]
  },
  {
   "cell_type": "code",
   "execution_count": 72,
   "metadata": {},
   "outputs": [],
   "source": [
    "def get_all_ads_df(start_url, save_excel_path=None):\n",
    "    df_list=[] # so we will save our dataframes in a list\n",
    "    local_urls = getAllLocalUrls(start_url)\n",
    "    for url in local_urls:\n",
    "        print(f\"Gathering data from {url}\")\n",
    "        df_list.append(getDFfromURL(url))\n",
    "        time.sleep(0.3) # we need this to play nice! to avoid rate limit or IP ban!!\n",
    "    # https://pandas.pydata.org/pandas-docs/stable/reference/api/pandas.concat.html\n",
    "    big_df = pd.concat(df_list, ignore_index=True) # then make a big dataframe from all the small dataframes\n",
    "    if save_excel_path:\n",
    "        big_df.to_excel(save_excel_path)\n",
    "    return big_df\n",
    "    "
   ]
  },
  {
   "cell_type": "code",
   "execution_count": 73,
   "metadata": {},
   "outputs": [
    {
     "data": {
      "text/plain": [
       "'https://www.ss.com/lv/real-estate/flats/riga/centre/sell/'"
      ]
     },
     "execution_count": 73,
     "metadata": {},
     "output_type": "execute_result"
    }
   ],
   "source": [
    "centrs = url\n",
    "centrs"
   ]
  },
  {
   "cell_type": "code",
   "execution_count": 74,
   "metadata": {
    "scrolled": true
   },
   "outputs": [
    {
     "name": "stdout",
     "output_type": "stream",
     "text": [
      "Last page is 23\n",
      "Gathering data from https://www.ss.com/lv/real-estate/flats/riga/centre/sell/\n",
      "Gathering data from https://www.ss.com/lv/real-estate/flats/riga/centre/sell/page2.html\n",
      "Gathering data from https://www.ss.com/lv/real-estate/flats/riga/centre/sell/page3.html\n",
      "Gathering data from https://www.ss.com/lv/real-estate/flats/riga/centre/sell/page4.html\n",
      "Gathering data from https://www.ss.com/lv/real-estate/flats/riga/centre/sell/page5.html\n",
      "Gathering data from https://www.ss.com/lv/real-estate/flats/riga/centre/sell/page6.html\n",
      "Gathering data from https://www.ss.com/lv/real-estate/flats/riga/centre/sell/page7.html\n",
      "Gathering data from https://www.ss.com/lv/real-estate/flats/riga/centre/sell/page8.html\n",
      "Gathering data from https://www.ss.com/lv/real-estate/flats/riga/centre/sell/page9.html\n",
      "Gathering data from https://www.ss.com/lv/real-estate/flats/riga/centre/sell/page10.html\n",
      "Gathering data from https://www.ss.com/lv/real-estate/flats/riga/centre/sell/page11.html\n",
      "Gathering data from https://www.ss.com/lv/real-estate/flats/riga/centre/sell/page12.html\n",
      "Gathering data from https://www.ss.com/lv/real-estate/flats/riga/centre/sell/page13.html\n",
      "Gathering data from https://www.ss.com/lv/real-estate/flats/riga/centre/sell/page14.html\n",
      "Gathering data from https://www.ss.com/lv/real-estate/flats/riga/centre/sell/page15.html\n",
      "Gathering data from https://www.ss.com/lv/real-estate/flats/riga/centre/sell/page16.html\n",
      "Gathering data from https://www.ss.com/lv/real-estate/flats/riga/centre/sell/page17.html\n",
      "Gathering data from https://www.ss.com/lv/real-estate/flats/riga/centre/sell/page18.html\n",
      "Gathering data from https://www.ss.com/lv/real-estate/flats/riga/centre/sell/page19.html\n",
      "Gathering data from https://www.ss.com/lv/real-estate/flats/riga/centre/sell/page20.html\n",
      "Gathering data from https://www.ss.com/lv/real-estate/flats/riga/centre/sell/page21.html\n",
      "Gathering data from https://www.ss.com/lv/real-estate/flats/riga/centre/sell/page22.html\n",
      "Gathering data from https://www.ss.com/lv/real-estate/flats/riga/centre/sell/page23.html\n"
     ]
    }
   ],
   "source": [
    "centra_df = get_all_ads_df(centrs, save_excel_path=\"centrs_dzivokli_junijs30.xlsx\")"
   ]
  },
  {
   "cell_type": "code",
   "execution_count": 75,
   "metadata": {},
   "outputs": [
    {
     "data": {
      "text/html": [
       "<div>\n",
       "<style scoped>\n",
       "    .dataframe tbody tr th:only-of-type {\n",
       "        vertical-align: middle;\n",
       "    }\n",
       "\n",
       "    .dataframe tbody tr th {\n",
       "        vertical-align: top;\n",
       "    }\n",
       "\n",
       "    .dataframe thead th {\n",
       "        text-align: right;\n",
       "    }\n",
       "</style>\n",
       "<table border=\"1\" class=\"dataframe\">\n",
       "  <thead>\n",
       "    <tr style=\"text-align: right;\">\n",
       "      <th></th>\n",
       "      <th>description</th>\n",
       "      <th>url</th>\n",
       "      <th>Iela</th>\n",
       "      <th>Ist.</th>\n",
       "      <th>m2</th>\n",
       "      <th>Stāvs</th>\n",
       "      <th>Sērija</th>\n",
       "      <th>Cena, m2</th>\n",
       "      <th>Cena</th>\n",
       "    </tr>\n",
       "  </thead>\n",
       "  <tbody>\n",
       "    <tr>\n",
       "      <th>0</th>\n",
       "      <td>Pārdošanā plašs, miera pilns, pilnībā aprīkots...</td>\n",
       "      <td>https://ss.com/msg/lv/real-estate/flats/riga/c...</td>\n",
       "      <td>Ādmiņu 5</td>\n",
       "      <td>2</td>\n",
       "      <td>58</td>\n",
       "      <td>2/3</td>\n",
       "      <td>P. kara</td>\n",
       "      <td>1,483 €</td>\n",
       "      <td>86,000  €</td>\n",
       "    </tr>\n",
       "    <tr>\n",
       "      <th>1</th>\n",
       "      <td>Trīsistabu dzīvoklis ar noliktavu, plašu balko...</td>\n",
       "      <td>https://ss.com/msg/lv/real-estate/flats/riga/c...</td>\n",
       "      <td>Rūpniecības 21</td>\n",
       "      <td>3</td>\n",
       "      <td>94</td>\n",
       "      <td>3/7</td>\n",
       "      <td>Jaun.</td>\n",
       "      <td>2,713 €</td>\n",
       "      <td>255,000  €</td>\n",
       "    </tr>\n",
       "    <tr>\n",
       "      <th>2</th>\n",
       "      <td>Augstvērtīgs 5 istabu dzīvoklis ar divām autos...</td>\n",
       "      <td>https://ss.com/msg/lv/real-estate/flats/riga/c...</td>\n",
       "      <td>J. Daliņa 8</td>\n",
       "      <td>5</td>\n",
       "      <td>200</td>\n",
       "      <td>20/24</td>\n",
       "      <td>Jaun.</td>\n",
       "      <td>3,000 €</td>\n",
       "      <td>600,000  €</td>\n",
       "    </tr>\n",
       "    <tr>\n",
       "      <th>3</th>\n",
       "      <td>Dzīvoklis atrodas centrā , pretim LU Svešvalod...</td>\n",
       "      <td>https://ss.com/msg/lv/real-estate/flats/riga/c...</td>\n",
       "      <td>Visvalža 3a</td>\n",
       "      <td>2</td>\n",
       "      <td>52</td>\n",
       "      <td>5/5</td>\n",
       "      <td>P. kara</td>\n",
       "      <td>1,471 €</td>\n",
       "      <td>76,500  €</td>\n",
       "    </tr>\n",
       "    <tr>\n",
       "      <th>4</th>\n",
       "      <td>Remontēts 2 - istabu dzīvoklis pirmskara pagal...</td>\n",
       "      <td>https://ss.com/msg/lv/real-estate/flats/riga/c...</td>\n",
       "      <td>Miera 10</td>\n",
       "      <td>2</td>\n",
       "      <td>75</td>\n",
       "      <td>3/5</td>\n",
       "      <td>P. kara</td>\n",
       "      <td>1,700 €</td>\n",
       "      <td>127,500  €</td>\n",
       "    </tr>\n",
       "    <tr>\n",
       "      <th>5</th>\n",
       "      <td>Īpašnieks pārdod vienistabas dzīvokli 29 m2 pl...</td>\n",
       "      <td>https://ss.com/msg/lv/real-estate/flats/riga/c...</td>\n",
       "      <td>Tomsona 25</td>\n",
       "      <td>1</td>\n",
       "      <td>29</td>\n",
       "      <td>3/5</td>\n",
       "      <td>Hrušč.</td>\n",
       "      <td>1,717 €</td>\n",
       "      <td>49,800  €</td>\n",
       "    </tr>\n",
       "    <tr>\n",
       "      <th>6</th>\n",
       "      <td>Pārdošanā pilnībā mēbelētu dzīvokli pilsētas c...</td>\n",
       "      <td>https://ss.com/msg/lv/real-estate/flats/riga/c...</td>\n",
       "      <td>Tērbatas 26a</td>\n",
       "      <td>2</td>\n",
       "      <td>37</td>\n",
       "      <td>4/6</td>\n",
       "      <td>Renov.</td>\n",
       "      <td>3,108 €</td>\n",
       "      <td>115,000  €</td>\n",
       "    </tr>\n",
       "    <tr>\n",
       "      <th>7</th>\n",
       "      <td>Pārdod plašu un mājīgu dzīvokli klusajā centrā...</td>\n",
       "      <td>https://ss.com/msg/lv/real-estate/flats/riga/c...</td>\n",
       "      <td>Dzirnavu 10</td>\n",
       "      <td>3</td>\n",
       "      <td>88</td>\n",
       "      <td>3/5</td>\n",
       "      <td>Renov.</td>\n",
       "      <td>2,216 €</td>\n",
       "      <td>195,000  €</td>\n",
       "    </tr>\n",
       "    <tr>\n",
       "      <th>8</th>\n",
       "      <td>Dzīvoklis prestižā vietā - pretī Latvijas Naci...</td>\n",
       "      <td>https://ss.com/msg/lv/real-estate/flats/riga/c...</td>\n",
       "      <td>Raiņa bulv. 21</td>\n",
       "      <td>2</td>\n",
       "      <td>59</td>\n",
       "      <td>2/5</td>\n",
       "      <td>Renov.</td>\n",
       "      <td>2,847 €</td>\n",
       "      <td>168,000  €</td>\n",
       "    </tr>\n",
       "    <tr>\n",
       "      <th>9</th>\n",
       "      <td>Pārdodu gaumīgi iekārtotu, mājīgu un klusu div...</td>\n",
       "      <td>https://ss.com/msg/lv/real-estate/flats/riga/c...</td>\n",
       "      <td>Brīvības 134</td>\n",
       "      <td>2</td>\n",
       "      <td>49</td>\n",
       "      <td>3/6</td>\n",
       "      <td>P. kara</td>\n",
       "      <td>2,020 €</td>\n",
       "      <td>99,000  €</td>\n",
       "    </tr>\n",
       "  </tbody>\n",
       "</table>\n",
       "</div>"
      ],
      "text/plain": [
       "                                         description  \\\n",
       "0  Pārdošanā plašs, miera pilns, pilnībā aprīkots...   \n",
       "1  Trīsistabu dzīvoklis ar noliktavu, plašu balko...   \n",
       "2  Augstvērtīgs 5 istabu dzīvoklis ar divām autos...   \n",
       "3  Dzīvoklis atrodas centrā , pretim LU Svešvalod...   \n",
       "4  Remontēts 2 - istabu dzīvoklis pirmskara pagal...   \n",
       "5  Īpašnieks pārdod vienistabas dzīvokli 29 m2 pl...   \n",
       "6  Pārdošanā pilnībā mēbelētu dzīvokli pilsētas c...   \n",
       "7  Pārdod plašu un mājīgu dzīvokli klusajā centrā...   \n",
       "8  Dzīvoklis prestižā vietā - pretī Latvijas Naci...   \n",
       "9  Pārdodu gaumīgi iekārtotu, mājīgu un klusu div...   \n",
       "\n",
       "                                                 url            Iela Ist.  \\\n",
       "0  https://ss.com/msg/lv/real-estate/flats/riga/c...        Ādmiņu 5    2   \n",
       "1  https://ss.com/msg/lv/real-estate/flats/riga/c...  Rūpniecības 21    3   \n",
       "2  https://ss.com/msg/lv/real-estate/flats/riga/c...     J. Daliņa 8    5   \n",
       "3  https://ss.com/msg/lv/real-estate/flats/riga/c...     Visvalža 3a    2   \n",
       "4  https://ss.com/msg/lv/real-estate/flats/riga/c...        Miera 10    2   \n",
       "5  https://ss.com/msg/lv/real-estate/flats/riga/c...      Tomsona 25    1   \n",
       "6  https://ss.com/msg/lv/real-estate/flats/riga/c...    Tērbatas 26a    2   \n",
       "7  https://ss.com/msg/lv/real-estate/flats/riga/c...     Dzirnavu 10    3   \n",
       "8  https://ss.com/msg/lv/real-estate/flats/riga/c...  Raiņa bulv. 21    2   \n",
       "9  https://ss.com/msg/lv/real-estate/flats/riga/c...    Brīvības 134    2   \n",
       "\n",
       "    m2  Stāvs   Sērija Cena, m2        Cena  \n",
       "0   58    2/3  P. kara  1,483 €   86,000  €  \n",
       "1   94    3/7    Jaun.  2,713 €  255,000  €  \n",
       "2  200  20/24    Jaun.  3,000 €  600,000  €  \n",
       "3   52    5/5  P. kara  1,471 €   76,500  €  \n",
       "4   75    3/5  P. kara  1,700 €  127,500  €  \n",
       "5   29    3/5   Hrušč.  1,717 €   49,800  €  \n",
       "6   37    4/6   Renov.  3,108 €  115,000  €  \n",
       "7   88    3/5   Renov.  2,216 €  195,000  €  \n",
       "8   59    2/5   Renov.  2,847 €  168,000  €  \n",
       "9   49    3/6  P. kara  2,020 €   99,000  €  "
      ]
     },
     "execution_count": 75,
     "metadata": {},
     "output_type": "execute_result"
    }
   ],
   "source": [
    "centra_df.head(10)"
   ]
  },
  {
   "cell_type": "code",
   "execution_count": null,
   "metadata": {},
   "outputs": [],
   "source": [
    "url"
   ]
  },
  {
   "cell_type": "code",
   "execution_count": null,
   "metadata": {},
   "outputs": [],
   "source": [
    "riga_region = get_all_ads_df(url, \"riga_region_sep28.xlsx\")"
   ]
  },
  {
   "cell_type": "code",
   "execution_count": null,
   "metadata": {},
   "outputs": [],
   "source": [
    "riga_region.shape"
   ]
  },
  {
   "cell_type": "code",
   "execution_count": null,
   "metadata": {},
   "outputs": [],
   "source": [
    "riga_region.head(10)"
   ]
  },
  {
   "cell_type": "code",
   "execution_count": null,
   "metadata": {},
   "outputs": [],
   "source": [
    "riga_region.tail(10)"
   ]
  },
  {
   "cell_type": "code",
   "execution_count": 76,
   "metadata": {},
   "outputs": [
    {
     "name": "stdout",
     "output_type": "stream",
     "text": [
      "Last page is 5\n",
      "Gathering data from https://www.ss.com/lv/real-estate/flats/riga/agenskalns/sell/\n",
      "Gathering data from https://www.ss.com/lv/real-estate/flats/riga/agenskalns/sell/page2.html\n",
      "Gathering data from https://www.ss.com/lv/real-estate/flats/riga/agenskalns/sell/page3.html\n",
      "Gathering data from https://www.ss.com/lv/real-estate/flats/riga/agenskalns/sell/page4.html\n",
      "Gathering data from https://www.ss.com/lv/real-estate/flats/riga/agenskalns/sell/page5.html\n"
     ]
    },
    {
     "data": {
      "text/html": [
       "<div>\n",
       "<style scoped>\n",
       "    .dataframe tbody tr th:only-of-type {\n",
       "        vertical-align: middle;\n",
       "    }\n",
       "\n",
       "    .dataframe tbody tr th {\n",
       "        vertical-align: top;\n",
       "    }\n",
       "\n",
       "    .dataframe thead th {\n",
       "        text-align: right;\n",
       "    }\n",
       "</style>\n",
       "<table border=\"1\" class=\"dataframe\">\n",
       "  <thead>\n",
       "    <tr style=\"text-align: right;\">\n",
       "      <th></th>\n",
       "      <th>description</th>\n",
       "      <th>url</th>\n",
       "      <th>Iela</th>\n",
       "      <th>Ist.</th>\n",
       "      <th>m2</th>\n",
       "      <th>Stāvs</th>\n",
       "      <th>Sērija</th>\n",
       "      <th>Cena, m2</th>\n",
       "      <th>Cena</th>\n",
       "    </tr>\n",
       "  </thead>\n",
       "  <tbody>\n",
       "    <tr>\n",
       "      <th>0</th>\n",
       "      <td>Dzīvoklis vēsturiskā mājā ar stāvvietu un zaļo...</td>\n",
       "      <td>https://ss.com/msg/lv/real-estate/flats/riga/a...</td>\n",
       "      <td>Tukuma 3</td>\n",
       "      <td>1</td>\n",
       "      <td>27</td>\n",
       "      <td>3/3</td>\n",
       "      <td>P. kara</td>\n",
       "      <td>1,741 €</td>\n",
       "      <td>47,000  €</td>\n",
       "    </tr>\n",
       "    <tr>\n",
       "      <th>1</th>\n",
       "      <td>В продаже просторная, светлая, теплая, квартир...</td>\n",
       "      <td>https://ss.com/msg/lv/real-estate/flats/riga/a...</td>\n",
       "      <td>Nometņu 57</td>\n",
       "      <td>1</td>\n",
       "      <td>37</td>\n",
       "      <td>1/2</td>\n",
       "      <td>P. kara</td>\n",
       "      <td>673 €</td>\n",
       "      <td>24,900  €</td>\n",
       "    </tr>\n",
       "    <tr>\n",
       "      <th>2</th>\n",
       "      <td>Pārdodu plašu, gaišu, siltu dzīvokli. Privatiz...</td>\n",
       "      <td>https://ss.com/msg/lv/real-estate/flats/riga/a...</td>\n",
       "      <td>Daugavgrīvas 55</td>\n",
       "      <td>2</td>\n",
       "      <td>48</td>\n",
       "      <td>1/2</td>\n",
       "      <td>P. kara</td>\n",
       "      <td>913 €</td>\n",
       "      <td>43,800  €</td>\n",
       "    </tr>\n",
       "    <tr>\n",
       "      <th>3</th>\n",
       "      <td>Tiek piedāvāts dzīvoklis labā stāvoklī, bez pā...</td>\n",
       "      <td>https://ss.com/msg/lv/real-estate/flats/riga/a...</td>\n",
       "      <td>Mērsraga 13</td>\n",
       "      <td>2</td>\n",
       "      <td>41</td>\n",
       "      <td>1/4</td>\n",
       "      <td>Hrušč.</td>\n",
       "      <td>1,146 €</td>\n",
       "      <td>47,000  €</td>\n",
       "    </tr>\n",
       "    <tr>\n",
       "      <th>4</th>\n",
       "      <td>Pārdošanā dzīvoklis unikālā projektā Filozofu ...</td>\n",
       "      <td>https://ss.com/msg/lv/real-estate/flats/riga/a...</td>\n",
       "      <td>Raņķa d. 34</td>\n",
       "      <td>3</td>\n",
       "      <td>95</td>\n",
       "      <td>7/22</td>\n",
       "      <td>Jaun.</td>\n",
       "      <td>2,222 €</td>\n",
       "      <td>211,100  €</td>\n",
       "    </tr>\n",
       "  </tbody>\n",
       "</table>\n",
       "</div>"
      ],
      "text/plain": [
       "                                         description  \\\n",
       "0  Dzīvoklis vēsturiskā mājā ar stāvvietu un zaļo...   \n",
       "1  В продаже просторная, светлая, теплая, квартир...   \n",
       "2  Pārdodu plašu, gaišu, siltu dzīvokli. Privatiz...   \n",
       "3  Tiek piedāvāts dzīvoklis labā stāvoklī, bez pā...   \n",
       "4  Pārdošanā dzīvoklis unikālā projektā Filozofu ...   \n",
       "\n",
       "                                                 url             Iela Ist.  \\\n",
       "0  https://ss.com/msg/lv/real-estate/flats/riga/a...         Tukuma 3    1   \n",
       "1  https://ss.com/msg/lv/real-estate/flats/riga/a...       Nometņu 57    1   \n",
       "2  https://ss.com/msg/lv/real-estate/flats/riga/a...  Daugavgrīvas 55    2   \n",
       "3  https://ss.com/msg/lv/real-estate/flats/riga/a...      Mērsraga 13    2   \n",
       "4  https://ss.com/msg/lv/real-estate/flats/riga/a...      Raņķa d. 34    3   \n",
       "\n",
       "   m2 Stāvs   Sērija Cena, m2        Cena  \n",
       "0  27   3/3  P. kara  1,741 €   47,000  €  \n",
       "1  37   1/2  P. kara    673 €   24,900  €  \n",
       "2  48   1/2  P. kara    913 €   43,800  €  \n",
       "3  41   1/4   Hrušč.  1,146 €   47,000  €  \n",
       "4  95  7/22    Jaun.  2,222 €  211,100  €  "
      ]
     },
     "execution_count": 76,
     "metadata": {},
     "output_type": "execute_result"
    }
   ],
   "source": [
    "agens = \"https://www.ss.com/lv/real-estate/flats/riga/agenskalns/sell/\"\n",
    "df = get_all_ads_df(agens, \"agens_30_06.xlsx\")\n",
    "df.head()"
   ]
  },
  {
   "cell_type": "code",
   "execution_count": 77,
   "metadata": {},
   "outputs": [
    {
     "data": {
      "text/plain": [
       "(668, 9)"
      ]
     },
     "execution_count": 77,
     "metadata": {},
     "output_type": "execute_result"
    }
   ],
   "source": [
    "centra_df.shape"
   ]
  },
  {
   "cell_type": "code",
   "execution_count": 78,
   "metadata": {},
   "outputs": [
    {
     "data": {
      "text/plain": [
       "(668, 9)"
      ]
     },
     "execution_count": 78,
     "metadata": {},
     "output_type": "execute_result"
    }
   ],
   "source": [
    "df = centra_df  # alias\n",
    "df.shape"
   ]
  },
  {
   "cell_type": "code",
   "execution_count": null,
   "metadata": {},
   "outputs": [],
   "source": [
    "df.shape"
   ]
  },
  {
   "cell_type": "code",
   "execution_count": null,
   "metadata": {},
   "outputs": [],
   "source": [
    "df.columns"
   ]
  },
  {
   "cell_type": "code",
   "execution_count": 79,
   "metadata": {},
   "outputs": [
    {
     "name": "stdout",
     "output_type": "stream",
     "text": [
      "<class 'pandas.core.frame.DataFrame'>\n",
      "RangeIndex: 668 entries, 0 to 667\n",
      "Data columns (total 9 columns):\n",
      " #   Column       Non-Null Count  Dtype \n",
      "---  ------       --------------  ----- \n",
      " 0   description  668 non-null    object\n",
      " 1   url          668 non-null    object\n",
      " 2   Iela         668 non-null    object\n",
      " 3   Ist.         668 non-null    object\n",
      " 4   m2           668 non-null    object\n",
      " 5   Stāvs        668 non-null    object\n",
      " 6   Sērija       668 non-null    object\n",
      " 7   Cena, m2     668 non-null    object\n",
      " 8   Cena         668 non-null    object\n",
      "dtypes: object(9)\n",
      "memory usage: 47.1+ KB\n"
     ]
    }
   ],
   "source": [
    "df.info()"
   ]
  },
  {
   "cell_type": "code",
   "execution_count": null,
   "metadata": {},
   "outputs": [],
   "source": [
    "df = get_all_ads_df(centrs, \"centrs_27_09.xlsx\")"
   ]
  },
  {
   "cell_type": "code",
   "execution_count": null,
   "metadata": {},
   "outputs": [],
   "source": [
    "df = centra_df"
   ]
  },
  {
   "cell_type": "code",
   "execution_count": null,
   "metadata": {},
   "outputs": [],
   "source": [
    "df.shape"
   ]
  },
  {
   "cell_type": "code",
   "execution_count": null,
   "metadata": {},
   "outputs": [],
   "source": [
    "df.head()"
   ]
  },
  {
   "cell_type": "code",
   "execution_count": null,
   "metadata": {},
   "outputs": [],
   "source": [
    "df.tail()"
   ]
  },
  {
   "cell_type": "code",
   "execution_count": null,
   "metadata": {},
   "outputs": [],
   "source": [
    "df.shape"
   ]
  },
  {
   "cell_type": "code",
   "execution_count": 80,
   "metadata": {},
   "outputs": [
    {
     "data": {
      "text/html": [
       "<div>\n",
       "<style scoped>\n",
       "    .dataframe tbody tr th:only-of-type {\n",
       "        vertical-align: middle;\n",
       "    }\n",
       "\n",
       "    .dataframe tbody tr th {\n",
       "        vertical-align: top;\n",
       "    }\n",
       "\n",
       "    .dataframe thead th {\n",
       "        text-align: right;\n",
       "    }\n",
       "</style>\n",
       "<table border=\"1\" class=\"dataframe\">\n",
       "  <thead>\n",
       "    <tr style=\"text-align: right;\">\n",
       "      <th></th>\n",
       "      <th>description</th>\n",
       "      <th>url</th>\n",
       "      <th>Iela</th>\n",
       "      <th>Ist.</th>\n",
       "      <th>m2</th>\n",
       "      <th>Stāvs</th>\n",
       "      <th>Sērija</th>\n",
       "      <th>Cena, m2</th>\n",
       "      <th>Cena</th>\n",
       "      <th>Floor</th>\n",
       "      <th>MaxFloor</th>\n",
       "    </tr>\n",
       "  </thead>\n",
       "  <tbody>\n",
       "    <tr>\n",
       "      <th>0</th>\n",
       "      <td>Pārdošanā plašs, miera pilns, pilnībā aprīkots...</td>\n",
       "      <td>https://ss.com/msg/lv/real-estate/flats/riga/c...</td>\n",
       "      <td>Ādmiņu 5</td>\n",
       "      <td>2</td>\n",
       "      <td>58</td>\n",
       "      <td>2/3</td>\n",
       "      <td>P. kara</td>\n",
       "      <td>1,483 €</td>\n",
       "      <td>86,000  €</td>\n",
       "      <td>2</td>\n",
       "      <td>3</td>\n",
       "    </tr>\n",
       "    <tr>\n",
       "      <th>1</th>\n",
       "      <td>Trīsistabu dzīvoklis ar noliktavu, plašu balko...</td>\n",
       "      <td>https://ss.com/msg/lv/real-estate/flats/riga/c...</td>\n",
       "      <td>Rūpniecības 21</td>\n",
       "      <td>3</td>\n",
       "      <td>94</td>\n",
       "      <td>3/7</td>\n",
       "      <td>Jaun.</td>\n",
       "      <td>2,713 €</td>\n",
       "      <td>255,000  €</td>\n",
       "      <td>3</td>\n",
       "      <td>7</td>\n",
       "    </tr>\n",
       "    <tr>\n",
       "      <th>2</th>\n",
       "      <td>Augstvērtīgs 5 istabu dzīvoklis ar divām autos...</td>\n",
       "      <td>https://ss.com/msg/lv/real-estate/flats/riga/c...</td>\n",
       "      <td>J. Daliņa 8</td>\n",
       "      <td>5</td>\n",
       "      <td>200</td>\n",
       "      <td>20/24</td>\n",
       "      <td>Jaun.</td>\n",
       "      <td>3,000 €</td>\n",
       "      <td>600,000  €</td>\n",
       "      <td>20</td>\n",
       "      <td>24</td>\n",
       "    </tr>\n",
       "    <tr>\n",
       "      <th>3</th>\n",
       "      <td>Dzīvoklis atrodas centrā , pretim LU Svešvalod...</td>\n",
       "      <td>https://ss.com/msg/lv/real-estate/flats/riga/c...</td>\n",
       "      <td>Visvalža 3a</td>\n",
       "      <td>2</td>\n",
       "      <td>52</td>\n",
       "      <td>5/5</td>\n",
       "      <td>P. kara</td>\n",
       "      <td>1,471 €</td>\n",
       "      <td>76,500  €</td>\n",
       "      <td>5</td>\n",
       "      <td>5</td>\n",
       "    </tr>\n",
       "    <tr>\n",
       "      <th>4</th>\n",
       "      <td>Remontēts 2 - istabu dzīvoklis pirmskara pagal...</td>\n",
       "      <td>https://ss.com/msg/lv/real-estate/flats/riga/c...</td>\n",
       "      <td>Miera 10</td>\n",
       "      <td>2</td>\n",
       "      <td>75</td>\n",
       "      <td>3/5</td>\n",
       "      <td>P. kara</td>\n",
       "      <td>1,700 €</td>\n",
       "      <td>127,500  €</td>\n",
       "      <td>3</td>\n",
       "      <td>5</td>\n",
       "    </tr>\n",
       "  </tbody>\n",
       "</table>\n",
       "</div>"
      ],
      "text/plain": [
       "                                         description  \\\n",
       "0  Pārdošanā plašs, miera pilns, pilnībā aprīkots...   \n",
       "1  Trīsistabu dzīvoklis ar noliktavu, plašu balko...   \n",
       "2  Augstvērtīgs 5 istabu dzīvoklis ar divām autos...   \n",
       "3  Dzīvoklis atrodas centrā , pretim LU Svešvalod...   \n",
       "4  Remontēts 2 - istabu dzīvoklis pirmskara pagal...   \n",
       "\n",
       "                                                 url            Iela Ist.  \\\n",
       "0  https://ss.com/msg/lv/real-estate/flats/riga/c...        Ādmiņu 5    2   \n",
       "1  https://ss.com/msg/lv/real-estate/flats/riga/c...  Rūpniecības 21    3   \n",
       "2  https://ss.com/msg/lv/real-estate/flats/riga/c...     J. Daliņa 8    5   \n",
       "3  https://ss.com/msg/lv/real-estate/flats/riga/c...     Visvalža 3a    2   \n",
       "4  https://ss.com/msg/lv/real-estate/flats/riga/c...        Miera 10    2   \n",
       "\n",
       "    m2  Stāvs   Sērija Cena, m2        Cena Floor MaxFloor  \n",
       "0   58    2/3  P. kara  1,483 €   86,000  €     2        3  \n",
       "1   94    3/7    Jaun.  2,713 €  255,000  €     3        7  \n",
       "2  200  20/24    Jaun.  3,000 €  600,000  €    20       24  \n",
       "3   52    5/5  P. kara  1,471 €   76,500  €     5        5  \n",
       "4   75    3/5  P. kara  1,700 €  127,500  €     3        5  "
      ]
     },
     "execution_count": 80,
     "metadata": {},
     "output_type": "execute_result"
    }
   ],
   "source": [
    "#we can do more post processing - feature engineering using existing columns\n",
    "df[['Floor','MaxFloor']] = df.Stāvs.str.split(\"/\",expand=True) \n",
    "df.head()"
   ]
  },
  {
   "cell_type": "code",
   "execution_count": null,
   "metadata": {},
   "outputs": [],
   "source": [
    "df = riga_region # just a shortcut"
   ]
  },
  {
   "cell_type": "code",
   "execution_count": null,
   "metadata": {},
   "outputs": [],
   "source": [
    "df.info()"
   ]
  },
  {
   "cell_type": "code",
   "execution_count": null,
   "metadata": {},
   "outputs": [],
   "source": [
    "df.head()"
   ]
  },
  {
   "cell_type": "code",
   "execution_count": null,
   "metadata": {},
   "outputs": [],
   "source": [
    "df.info()"
   ]
  },
  {
   "cell_type": "code",
   "execution_count": 81,
   "metadata": {
    "scrolled": true
   },
   "outputs": [
    {
     "data": {
      "text/html": [
       "<div>\n",
       "<style scoped>\n",
       "    .dataframe tbody tr th:only-of-type {\n",
       "        vertical-align: middle;\n",
       "    }\n",
       "\n",
       "    .dataframe tbody tr th {\n",
       "        vertical-align: top;\n",
       "    }\n",
       "\n",
       "    .dataframe thead th {\n",
       "        text-align: right;\n",
       "    }\n",
       "</style>\n",
       "<table border=\"1\" class=\"dataframe\">\n",
       "  <thead>\n",
       "    <tr style=\"text-align: right;\">\n",
       "      <th></th>\n",
       "      <th>description</th>\n",
       "      <th>url</th>\n",
       "      <th>Iela</th>\n",
       "      <th>Ist.</th>\n",
       "      <th>m2</th>\n",
       "      <th>Stāvs</th>\n",
       "      <th>Sērija</th>\n",
       "      <th>Cena, m2</th>\n",
       "      <th>Cena</th>\n",
       "      <th>Floor</th>\n",
       "      <th>MaxFloor</th>\n",
       "      <th>price</th>\n",
       "    </tr>\n",
       "  </thead>\n",
       "  <tbody>\n",
       "    <tr>\n",
       "      <th>0</th>\n",
       "      <td>Pārdošanā plašs, miera pilns, pilnībā aprīkots...</td>\n",
       "      <td>https://ss.com/msg/lv/real-estate/flats/riga/c...</td>\n",
       "      <td>Ādmiņu 5</td>\n",
       "      <td>2</td>\n",
       "      <td>58</td>\n",
       "      <td>2/3</td>\n",
       "      <td>P. kara</td>\n",
       "      <td>1,483 €</td>\n",
       "      <td>86,000  €</td>\n",
       "      <td>2</td>\n",
       "      <td>3</td>\n",
       "      <td>86,000</td>\n",
       "    </tr>\n",
       "    <tr>\n",
       "      <th>1</th>\n",
       "      <td>Trīsistabu dzīvoklis ar noliktavu, plašu balko...</td>\n",
       "      <td>https://ss.com/msg/lv/real-estate/flats/riga/c...</td>\n",
       "      <td>Rūpniecības 21</td>\n",
       "      <td>3</td>\n",
       "      <td>94</td>\n",
       "      <td>3/7</td>\n",
       "      <td>Jaun.</td>\n",
       "      <td>2,713 €</td>\n",
       "      <td>255,000  €</td>\n",
       "      <td>3</td>\n",
       "      <td>7</td>\n",
       "      <td>255,000</td>\n",
       "    </tr>\n",
       "    <tr>\n",
       "      <th>2</th>\n",
       "      <td>Augstvērtīgs 5 istabu dzīvoklis ar divām autos...</td>\n",
       "      <td>https://ss.com/msg/lv/real-estate/flats/riga/c...</td>\n",
       "      <td>J. Daliņa 8</td>\n",
       "      <td>5</td>\n",
       "      <td>200</td>\n",
       "      <td>20/24</td>\n",
       "      <td>Jaun.</td>\n",
       "      <td>3,000 €</td>\n",
       "      <td>600,000  €</td>\n",
       "      <td>20</td>\n",
       "      <td>24</td>\n",
       "      <td>600,000</td>\n",
       "    </tr>\n",
       "    <tr>\n",
       "      <th>3</th>\n",
       "      <td>Dzīvoklis atrodas centrā , pretim LU Svešvalod...</td>\n",
       "      <td>https://ss.com/msg/lv/real-estate/flats/riga/c...</td>\n",
       "      <td>Visvalža 3a</td>\n",
       "      <td>2</td>\n",
       "      <td>52</td>\n",
       "      <td>5/5</td>\n",
       "      <td>P. kara</td>\n",
       "      <td>1,471 €</td>\n",
       "      <td>76,500  €</td>\n",
       "      <td>5</td>\n",
       "      <td>5</td>\n",
       "      <td>76,500</td>\n",
       "    </tr>\n",
       "    <tr>\n",
       "      <th>4</th>\n",
       "      <td>Remontēts 2 - istabu dzīvoklis pirmskara pagal...</td>\n",
       "      <td>https://ss.com/msg/lv/real-estate/flats/riga/c...</td>\n",
       "      <td>Miera 10</td>\n",
       "      <td>2</td>\n",
       "      <td>75</td>\n",
       "      <td>3/5</td>\n",
       "      <td>P. kara</td>\n",
       "      <td>1,700 €</td>\n",
       "      <td>127,500  €</td>\n",
       "      <td>3</td>\n",
       "      <td>5</td>\n",
       "      <td>127,500</td>\n",
       "    </tr>\n",
       "  </tbody>\n",
       "</table>\n",
       "</div>"
      ],
      "text/plain": [
       "                                         description  \\\n",
       "0  Pārdošanā plašs, miera pilns, pilnībā aprīkots...   \n",
       "1  Trīsistabu dzīvoklis ar noliktavu, plašu balko...   \n",
       "2  Augstvērtīgs 5 istabu dzīvoklis ar divām autos...   \n",
       "3  Dzīvoklis atrodas centrā , pretim LU Svešvalod...   \n",
       "4  Remontēts 2 - istabu dzīvoklis pirmskara pagal...   \n",
       "\n",
       "                                                 url            Iela Ist.  \\\n",
       "0  https://ss.com/msg/lv/real-estate/flats/riga/c...        Ādmiņu 5    2   \n",
       "1  https://ss.com/msg/lv/real-estate/flats/riga/c...  Rūpniecības 21    3   \n",
       "2  https://ss.com/msg/lv/real-estate/flats/riga/c...     J. Daliņa 8    5   \n",
       "3  https://ss.com/msg/lv/real-estate/flats/riga/c...     Visvalža 3a    2   \n",
       "4  https://ss.com/msg/lv/real-estate/flats/riga/c...        Miera 10    2   \n",
       "\n",
       "    m2  Stāvs   Sērija Cena, m2        Cena Floor MaxFloor    price  \n",
       "0   58    2/3  P. kara  1,483 €   86,000  €     2        3   86,000  \n",
       "1   94    3/7    Jaun.  2,713 €  255,000  €     3        7  255,000  \n",
       "2  200  20/24    Jaun.  3,000 €  600,000  €    20       24  600,000  \n",
       "3   52    5/5  P. kara  1,471 €   76,500  €     5        5   76,500  \n",
       "4   75    3/5  P. kara  1,700 €  127,500  €     3        5  127,500  "
      ]
     },
     "execution_count": 81,
     "metadata": {},
     "output_type": "execute_result"
    }
   ],
   "source": [
    "df[\"price\"] = df.Cena.str.split(' ').str[0]  # create a new column from price\n",
    "df.head()"
   ]
  },
  {
   "cell_type": "code",
   "execution_count": 82,
   "metadata": {},
   "outputs": [
    {
     "data": {
      "text/html": [
       "<div>\n",
       "<style scoped>\n",
       "    .dataframe tbody tr th:only-of-type {\n",
       "        vertical-align: middle;\n",
       "    }\n",
       "\n",
       "    .dataframe tbody tr th {\n",
       "        vertical-align: top;\n",
       "    }\n",
       "\n",
       "    .dataframe thead th {\n",
       "        text-align: right;\n",
       "    }\n",
       "</style>\n",
       "<table border=\"1\" class=\"dataframe\">\n",
       "  <thead>\n",
       "    <tr style=\"text-align: right;\">\n",
       "      <th></th>\n",
       "      <th>description</th>\n",
       "      <th>url</th>\n",
       "      <th>Iela</th>\n",
       "      <th>Ist.</th>\n",
       "      <th>m2</th>\n",
       "      <th>Stāvs</th>\n",
       "      <th>Sērija</th>\n",
       "      <th>Cena, m2</th>\n",
       "      <th>Cena</th>\n",
       "      <th>Floor</th>\n",
       "      <th>MaxFloor</th>\n",
       "      <th>price</th>\n",
       "    </tr>\n",
       "  </thead>\n",
       "  <tbody>\n",
       "    <tr>\n",
       "      <th>0</th>\n",
       "      <td>Pārdošanā plašs, miera pilns, pilnībā aprīkots...</td>\n",
       "      <td>https://ss.com/msg/lv/real-estate/flats/riga/c...</td>\n",
       "      <td>Ādmiņu 5</td>\n",
       "      <td>2</td>\n",
       "      <td>58</td>\n",
       "      <td>2/3</td>\n",
       "      <td>P. kara</td>\n",
       "      <td>1,483 €</td>\n",
       "      <td>86,000  €</td>\n",
       "      <td>2</td>\n",
       "      <td>3</td>\n",
       "      <td>86000</td>\n",
       "    </tr>\n",
       "    <tr>\n",
       "      <th>1</th>\n",
       "      <td>Trīsistabu dzīvoklis ar noliktavu, plašu balko...</td>\n",
       "      <td>https://ss.com/msg/lv/real-estate/flats/riga/c...</td>\n",
       "      <td>Rūpniecības 21</td>\n",
       "      <td>3</td>\n",
       "      <td>94</td>\n",
       "      <td>3/7</td>\n",
       "      <td>Jaun.</td>\n",
       "      <td>2,713 €</td>\n",
       "      <td>255,000  €</td>\n",
       "      <td>3</td>\n",
       "      <td>7</td>\n",
       "      <td>255000</td>\n",
       "    </tr>\n",
       "    <tr>\n",
       "      <th>2</th>\n",
       "      <td>Augstvērtīgs 5 istabu dzīvoklis ar divām autos...</td>\n",
       "      <td>https://ss.com/msg/lv/real-estate/flats/riga/c...</td>\n",
       "      <td>J. Daliņa 8</td>\n",
       "      <td>5</td>\n",
       "      <td>200</td>\n",
       "      <td>20/24</td>\n",
       "      <td>Jaun.</td>\n",
       "      <td>3,000 €</td>\n",
       "      <td>600,000  €</td>\n",
       "      <td>20</td>\n",
       "      <td>24</td>\n",
       "      <td>600000</td>\n",
       "    </tr>\n",
       "    <tr>\n",
       "      <th>3</th>\n",
       "      <td>Dzīvoklis atrodas centrā , pretim LU Svešvalod...</td>\n",
       "      <td>https://ss.com/msg/lv/real-estate/flats/riga/c...</td>\n",
       "      <td>Visvalža 3a</td>\n",
       "      <td>2</td>\n",
       "      <td>52</td>\n",
       "      <td>5/5</td>\n",
       "      <td>P. kara</td>\n",
       "      <td>1,471 €</td>\n",
       "      <td>76,500  €</td>\n",
       "      <td>5</td>\n",
       "      <td>5</td>\n",
       "      <td>76500</td>\n",
       "    </tr>\n",
       "    <tr>\n",
       "      <th>4</th>\n",
       "      <td>Remontēts 2 - istabu dzīvoklis pirmskara pagal...</td>\n",
       "      <td>https://ss.com/msg/lv/real-estate/flats/riga/c...</td>\n",
       "      <td>Miera 10</td>\n",
       "      <td>2</td>\n",
       "      <td>75</td>\n",
       "      <td>3/5</td>\n",
       "      <td>P. kara</td>\n",
       "      <td>1,700 €</td>\n",
       "      <td>127,500  €</td>\n",
       "      <td>3</td>\n",
       "      <td>5</td>\n",
       "      <td>127500</td>\n",
       "    </tr>\n",
       "  </tbody>\n",
       "</table>\n",
       "</div>"
      ],
      "text/plain": [
       "                                         description  \\\n",
       "0  Pārdošanā plašs, miera pilns, pilnībā aprīkots...   \n",
       "1  Trīsistabu dzīvoklis ar noliktavu, plašu balko...   \n",
       "2  Augstvērtīgs 5 istabu dzīvoklis ar divām autos...   \n",
       "3  Dzīvoklis atrodas centrā , pretim LU Svešvalod...   \n",
       "4  Remontēts 2 - istabu dzīvoklis pirmskara pagal...   \n",
       "\n",
       "                                                 url            Iela Ist.  \\\n",
       "0  https://ss.com/msg/lv/real-estate/flats/riga/c...        Ādmiņu 5    2   \n",
       "1  https://ss.com/msg/lv/real-estate/flats/riga/c...  Rūpniecības 21    3   \n",
       "2  https://ss.com/msg/lv/real-estate/flats/riga/c...     J. Daliņa 8    5   \n",
       "3  https://ss.com/msg/lv/real-estate/flats/riga/c...     Visvalža 3a    2   \n",
       "4  https://ss.com/msg/lv/real-estate/flats/riga/c...        Miera 10    2   \n",
       "\n",
       "    m2  Stāvs   Sērija Cena, m2        Cena Floor MaxFloor   price  \n",
       "0   58    2/3  P. kara  1,483 €   86,000  €     2        3   86000  \n",
       "1   94    3/7    Jaun.  2,713 €  255,000  €     3        7  255000  \n",
       "2  200  20/24    Jaun.  3,000 €  600,000  €    20       24  600000  \n",
       "3   52    5/5  P. kara  1,471 €   76,500  €     5        5   76500  \n",
       "4   75    3/5  P. kara  1,700 €  127,500  €     3        5  127500  "
      ]
     },
     "execution_count": 82,
     "metadata": {},
     "output_type": "execute_result"
    }
   ],
   "source": [
    "df.price = df.price.str.replace(\",\",\"\").astype('int32') # so clean string of , and then convert to integer int64 for larger\n",
    "df.head()"
   ]
  },
  {
   "cell_type": "code",
   "execution_count": 83,
   "metadata": {},
   "outputs": [
    {
     "name": "stdout",
     "output_type": "stream",
     "text": [
      "<class 'pandas.core.frame.DataFrame'>\n",
      "RangeIndex: 668 entries, 0 to 667\n",
      "Data columns (total 12 columns):\n",
      " #   Column       Non-Null Count  Dtype \n",
      "---  ------       --------------  ----- \n",
      " 0   description  668 non-null    object\n",
      " 1   url          668 non-null    object\n",
      " 2   Iela         668 non-null    object\n",
      " 3   Ist.         668 non-null    object\n",
      " 4   m2           668 non-null    object\n",
      " 5   Stāvs        668 non-null    object\n",
      " 6   Sērija       668 non-null    object\n",
      " 7   Cena, m2     668 non-null    object\n",
      " 8   Cena         668 non-null    object\n",
      " 9   Floor        668 non-null    object\n",
      " 10  MaxFloor     668 non-null    object\n",
      " 11  price        668 non-null    int32 \n",
      "dtypes: int32(1), object(11)\n",
      "memory usage: 60.1+ KB\n"
     ]
    }
   ],
   "source": [
    "df.info()"
   ]
  },
  {
   "cell_type": "code",
   "execution_count": 84,
   "metadata": {},
   "outputs": [],
   "source": [
    "df[\"floor\"] = df.Floor.astype('int32')"
   ]
  },
  {
   "cell_type": "code",
   "execution_count": 85,
   "metadata": {},
   "outputs": [],
   "source": [
    "df.m2 = df.m2.astype('int32')"
   ]
  },
  {
   "cell_type": "code",
   "execution_count": 86,
   "metadata": {},
   "outputs": [
    {
     "name": "stdout",
     "output_type": "stream",
     "text": [
      "<class 'pandas.core.frame.DataFrame'>\n",
      "RangeIndex: 668 entries, 0 to 667\n",
      "Data columns (total 13 columns):\n",
      " #   Column       Non-Null Count  Dtype \n",
      "---  ------       --------------  ----- \n",
      " 0   description  668 non-null    object\n",
      " 1   url          668 non-null    object\n",
      " 2   Iela         668 non-null    object\n",
      " 3   Ist.         668 non-null    object\n",
      " 4   m2           668 non-null    int32 \n",
      " 5   Stāvs        668 non-null    object\n",
      " 6   Sērija       668 non-null    object\n",
      " 7   Cena, m2     668 non-null    object\n",
      " 8   Cena         668 non-null    object\n",
      " 9   Floor        668 non-null    object\n",
      " 10  MaxFloor     668 non-null    object\n",
      " 11  price        668 non-null    int32 \n",
      " 12  floor        668 non-null    int32 \n",
      "dtypes: int32(3), object(10)\n",
      "memory usage: 60.1+ KB\n"
     ]
    }
   ],
   "source": [
    "df.info()"
   ]
  },
  {
   "cell_type": "code",
   "execution_count": 87,
   "metadata": {},
   "outputs": [
    {
     "data": {
      "text/html": [
       "<div>\n",
       "<style scoped>\n",
       "    .dataframe tbody tr th:only-of-type {\n",
       "        vertical-align: middle;\n",
       "    }\n",
       "\n",
       "    .dataframe tbody tr th {\n",
       "        vertical-align: top;\n",
       "    }\n",
       "\n",
       "    .dataframe thead th {\n",
       "        text-align: right;\n",
       "    }\n",
       "</style>\n",
       "<table border=\"1\" class=\"dataframe\">\n",
       "  <thead>\n",
       "    <tr style=\"text-align: right;\">\n",
       "      <th></th>\n",
       "      <th>description</th>\n",
       "      <th>url</th>\n",
       "      <th>Iela</th>\n",
       "      <th>Ist.</th>\n",
       "      <th>m2</th>\n",
       "      <th>Stāvs</th>\n",
       "      <th>Sērija</th>\n",
       "      <th>Cena, m2</th>\n",
       "      <th>Cena</th>\n",
       "      <th>Floor</th>\n",
       "      <th>MaxFloor</th>\n",
       "      <th>price</th>\n",
       "      <th>floor</th>\n",
       "    </tr>\n",
       "  </thead>\n",
       "  <tbody>\n",
       "    <tr>\n",
       "      <th>0</th>\n",
       "      <td>Pārdošanā plašs, miera pilns, pilnībā aprīkots...</td>\n",
       "      <td>https://ss.com/msg/lv/real-estate/flats/riga/c...</td>\n",
       "      <td>Ādmiņu 5</td>\n",
       "      <td>2</td>\n",
       "      <td>58</td>\n",
       "      <td>2/3</td>\n",
       "      <td>P. kara</td>\n",
       "      <td>1,483 €</td>\n",
       "      <td>86,000  €</td>\n",
       "      <td>2</td>\n",
       "      <td>3</td>\n",
       "      <td>86000</td>\n",
       "      <td>2</td>\n",
       "    </tr>\n",
       "    <tr>\n",
       "      <th>1</th>\n",
       "      <td>Trīsistabu dzīvoklis ar noliktavu, plašu balko...</td>\n",
       "      <td>https://ss.com/msg/lv/real-estate/flats/riga/c...</td>\n",
       "      <td>Rūpniecības 21</td>\n",
       "      <td>3</td>\n",
       "      <td>94</td>\n",
       "      <td>3/7</td>\n",
       "      <td>Jaun.</td>\n",
       "      <td>2,713 €</td>\n",
       "      <td>255,000  €</td>\n",
       "      <td>3</td>\n",
       "      <td>7</td>\n",
       "      <td>255000</td>\n",
       "      <td>3</td>\n",
       "    </tr>\n",
       "    <tr>\n",
       "      <th>2</th>\n",
       "      <td>Augstvērtīgs 5 istabu dzīvoklis ar divām autos...</td>\n",
       "      <td>https://ss.com/msg/lv/real-estate/flats/riga/c...</td>\n",
       "      <td>J. Daliņa 8</td>\n",
       "      <td>5</td>\n",
       "      <td>200</td>\n",
       "      <td>20/24</td>\n",
       "      <td>Jaun.</td>\n",
       "      <td>3,000 €</td>\n",
       "      <td>600,000  €</td>\n",
       "      <td>20</td>\n",
       "      <td>24</td>\n",
       "      <td>600000</td>\n",
       "      <td>20</td>\n",
       "    </tr>\n",
       "    <tr>\n",
       "      <th>3</th>\n",
       "      <td>Dzīvoklis atrodas centrā , pretim LU Svešvalod...</td>\n",
       "      <td>https://ss.com/msg/lv/real-estate/flats/riga/c...</td>\n",
       "      <td>Visvalža 3a</td>\n",
       "      <td>2</td>\n",
       "      <td>52</td>\n",
       "      <td>5/5</td>\n",
       "      <td>P. kara</td>\n",
       "      <td>1,471 €</td>\n",
       "      <td>76,500  €</td>\n",
       "      <td>5</td>\n",
       "      <td>5</td>\n",
       "      <td>76500</td>\n",
       "      <td>5</td>\n",
       "    </tr>\n",
       "    <tr>\n",
       "      <th>4</th>\n",
       "      <td>Remontēts 2 - istabu dzīvoklis pirmskara pagal...</td>\n",
       "      <td>https://ss.com/msg/lv/real-estate/flats/riga/c...</td>\n",
       "      <td>Miera 10</td>\n",
       "      <td>2</td>\n",
       "      <td>75</td>\n",
       "      <td>3/5</td>\n",
       "      <td>P. kara</td>\n",
       "      <td>1,700 €</td>\n",
       "      <td>127,500  €</td>\n",
       "      <td>3</td>\n",
       "      <td>5</td>\n",
       "      <td>127500</td>\n",
       "      <td>3</td>\n",
       "    </tr>\n",
       "  </tbody>\n",
       "</table>\n",
       "</div>"
      ],
      "text/plain": [
       "                                         description  \\\n",
       "0  Pārdošanā plašs, miera pilns, pilnībā aprīkots...   \n",
       "1  Trīsistabu dzīvoklis ar noliktavu, plašu balko...   \n",
       "2  Augstvērtīgs 5 istabu dzīvoklis ar divām autos...   \n",
       "3  Dzīvoklis atrodas centrā , pretim LU Svešvalod...   \n",
       "4  Remontēts 2 - istabu dzīvoklis pirmskara pagal...   \n",
       "\n",
       "                                                 url            Iela Ist.  \\\n",
       "0  https://ss.com/msg/lv/real-estate/flats/riga/c...        Ādmiņu 5    2   \n",
       "1  https://ss.com/msg/lv/real-estate/flats/riga/c...  Rūpniecības 21    3   \n",
       "2  https://ss.com/msg/lv/real-estate/flats/riga/c...     J. Daliņa 8    5   \n",
       "3  https://ss.com/msg/lv/real-estate/flats/riga/c...     Visvalža 3a    2   \n",
       "4  https://ss.com/msg/lv/real-estate/flats/riga/c...        Miera 10    2   \n",
       "\n",
       "    m2  Stāvs   Sērija Cena, m2        Cena Floor  MaxFloor   price  floor  \n",
       "0   58    2/3  P. kara  1,483 €   86,000  €     2         3   86000      2  \n",
       "1   94    3/7    Jaun.  2,713 €  255,000  €     3         7  255000      3  \n",
       "2  200  20/24    Jaun.  3,000 €  600,000  €    20        24  600000     20  \n",
       "3   52    5/5  P. kara  1,471 €   76,500  €     5         5   76500      5  \n",
       "4   75    3/5  P. kara  1,700 €  127,500  €     3         5  127500      3  "
      ]
     },
     "execution_count": 87,
     "metadata": {},
     "output_type": "execute_result"
    }
   ],
   "source": [
    "df.MaxFloor = df.MaxFloor.astype('int32')\n",
    "df.head()"
   ]
  },
  {
   "cell_type": "code",
   "execution_count": null,
   "metadata": {},
   "outputs": [],
   "source": [
    "df.head()"
   ]
  },
  {
   "cell_type": "code",
   "execution_count": 88,
   "metadata": {
    "scrolled": true
   },
   "outputs": [
    {
     "data": {
      "text/html": [
       "<div>\n",
       "<style scoped>\n",
       "    .dataframe tbody tr th:only-of-type {\n",
       "        vertical-align: middle;\n",
       "    }\n",
       "\n",
       "    .dataframe tbody tr th {\n",
       "        vertical-align: top;\n",
       "    }\n",
       "\n",
       "    .dataframe thead th {\n",
       "        text-align: right;\n",
       "    }\n",
       "</style>\n",
       "<table border=\"1\" class=\"dataframe\">\n",
       "  <thead>\n",
       "    <tr style=\"text-align: right;\">\n",
       "      <th></th>\n",
       "      <th>description</th>\n",
       "      <th>url</th>\n",
       "      <th>Iela</th>\n",
       "      <th>Ist.</th>\n",
       "      <th>m2</th>\n",
       "      <th>Stāvs</th>\n",
       "      <th>Sērija</th>\n",
       "      <th>Cena, m2</th>\n",
       "      <th>Cena</th>\n",
       "      <th>Floor</th>\n",
       "      <th>MaxFloor</th>\n",
       "      <th>price</th>\n",
       "      <th>floor</th>\n",
       "    </tr>\n",
       "  </thead>\n",
       "  <tbody>\n",
       "    <tr>\n",
       "      <th>20</th>\n",
       "      <td>Ekskluzīvi Lux apartamenti Rīgas centrā ar vis...</td>\n",
       "      <td>https://ss.com/msg/lv/real-estate/flats/riga/c...</td>\n",
       "      <td>Elizabetes 3</td>\n",
       "      <td>6</td>\n",
       "      <td>218</td>\n",
       "      <td>2/5</td>\n",
       "      <td>Renov.</td>\n",
       "      <td>8,028 €</td>\n",
       "      <td>1,750,000  €</td>\n",
       "      <td>2</td>\n",
       "      <td>5</td>\n",
       "      <td>1750000</td>\n",
       "      <td>2</td>\n",
       "    </tr>\n",
       "    <tr>\n",
       "      <th>283</th>\n",
       "      <td>Ekskluzīvs dzīvoklis vienā no nozīmīgākajiem a...</td>\n",
       "      <td>https://ss.com/msg/lv/real-estate/flats/riga/c...</td>\n",
       "      <td>Elizabetes 3</td>\n",
       "      <td>6</td>\n",
       "      <td>145</td>\n",
       "      <td>2/5</td>\n",
       "      <td>Renov.</td>\n",
       "      <td>10,172 €</td>\n",
       "      <td>1,475,000  €</td>\n",
       "      <td>2</td>\n",
       "      <td>5</td>\n",
       "      <td>1475000</td>\n",
       "      <td>2</td>\n",
       "    </tr>\n",
       "    <tr>\n",
       "      <th>348</th>\n",
       "      <td>Piedāvājam iegādei plašu un mūsdienīgu 4-istab...</td>\n",
       "      <td>https://ss.com/msg/lv/real-estate/flats/riga/c...</td>\n",
       "      <td>Lāčplēša 11</td>\n",
       "      <td>4</td>\n",
       "      <td>197</td>\n",
       "      <td>6/7</td>\n",
       "      <td>Jaun.</td>\n",
       "      <td>4,076 €</td>\n",
       "      <td>802,880  €</td>\n",
       "      <td>6</td>\n",
       "      <td>7</td>\n",
       "      <td>802880</td>\n",
       "      <td>6</td>\n",
       "    </tr>\n",
       "    <tr>\n",
       "      <th>141</th>\n",
       "      <td>Pārdod gaišu un plašu četru istabu dzīvokli Rī...</td>\n",
       "      <td>https://ss.com/msg/lv/real-estate/flats/riga/c...</td>\n",
       "      <td>Elizabetes 12</td>\n",
       "      <td>4</td>\n",
       "      <td>181</td>\n",
       "      <td>4/5</td>\n",
       "      <td>Renov.</td>\n",
       "      <td>4,004 €</td>\n",
       "      <td>724,800  €</td>\n",
       "      <td>4</td>\n",
       "      <td>5</td>\n",
       "      <td>724800</td>\n",
       "      <td>4</td>\n",
       "    </tr>\n",
       "    <tr>\n",
       "      <th>273</th>\n",
       "      <td>Pārdošanā ir ļoti plašs 4 istabu dzīvoklis ska...</td>\n",
       "      <td>https://ss.com/msg/lv/real-estate/flats/riga/c...</td>\n",
       "      <td>Pumpura 5</td>\n",
       "      <td>4</td>\n",
       "      <td>280</td>\n",
       "      <td>2/6</td>\n",
       "      <td>Renov.</td>\n",
       "      <td>2,500 €</td>\n",
       "      <td>700,000  €</td>\n",
       "      <td>2</td>\n",
       "      <td>6</td>\n",
       "      <td>700000</td>\n",
       "      <td>2</td>\n",
       "    </tr>\n",
       "  </tbody>\n",
       "</table>\n",
       "</div>"
      ],
      "text/plain": [
       "                                           description  \\\n",
       "20   Ekskluzīvi Lux apartamenti Rīgas centrā ar vis...   \n",
       "283  Ekskluzīvs dzīvoklis vienā no nozīmīgākajiem a...   \n",
       "348  Piedāvājam iegādei plašu un mūsdienīgu 4-istab...   \n",
       "141  Pārdod gaišu un plašu četru istabu dzīvokli Rī...   \n",
       "273  Pārdošanā ir ļoti plašs 4 istabu dzīvoklis ska...   \n",
       "\n",
       "                                                   url           Iela Ist.  \\\n",
       "20   https://ss.com/msg/lv/real-estate/flats/riga/c...   Elizabetes 3    6   \n",
       "283  https://ss.com/msg/lv/real-estate/flats/riga/c...   Elizabetes 3    6   \n",
       "348  https://ss.com/msg/lv/real-estate/flats/riga/c...    Lāčplēša 11    4   \n",
       "141  https://ss.com/msg/lv/real-estate/flats/riga/c...  Elizabetes 12    4   \n",
       "273  https://ss.com/msg/lv/real-estate/flats/riga/c...      Pumpura 5    4   \n",
       "\n",
       "      m2 Stāvs  Sērija  Cena, m2          Cena Floor  MaxFloor    price  floor  \n",
       "20   218   2/5  Renov.   8,028 €  1,750,000  €     2         5  1750000      2  \n",
       "283  145   2/5  Renov.  10,172 €  1,475,000  €     2         5  1475000      2  \n",
       "348  197   6/7   Jaun.   4,076 €    802,880  €     6         7   802880      6  \n",
       "141  181   4/5  Renov.   4,004 €    724,800  €     4         5   724800      4  \n",
       "273  280   2/6  Renov.   2,500 €    700,000  €     2         6   700000      2  "
      ]
     },
     "execution_count": 88,
     "metadata": {},
     "output_type": "execute_result"
    }
   ],
   "source": [
    "sorted_df = df.sort_values(by=\"price\",ascending=False)\n",
    "sorted_df.head()"
   ]
  },
  {
   "cell_type": "code",
   "execution_count": 89,
   "metadata": {},
   "outputs": [
    {
     "data": {
      "text/html": [
       "<div>\n",
       "<style scoped>\n",
       "    .dataframe tbody tr th:only-of-type {\n",
       "        vertical-align: middle;\n",
       "    }\n",
       "\n",
       "    .dataframe tbody tr th {\n",
       "        vertical-align: top;\n",
       "    }\n",
       "\n",
       "    .dataframe thead th {\n",
       "        text-align: right;\n",
       "    }\n",
       "</style>\n",
       "<table border=\"1\" class=\"dataframe\">\n",
       "  <thead>\n",
       "    <tr style=\"text-align: right;\">\n",
       "      <th></th>\n",
       "      <th>description</th>\n",
       "      <th>url</th>\n",
       "      <th>Iela</th>\n",
       "      <th>Ist.</th>\n",
       "      <th>m2</th>\n",
       "      <th>Stāvs</th>\n",
       "      <th>Sērija</th>\n",
       "      <th>Cena, m2</th>\n",
       "      <th>Cena</th>\n",
       "      <th>Floor</th>\n",
       "      <th>MaxFloor</th>\n",
       "      <th>price</th>\n",
       "      <th>floor</th>\n",
       "    </tr>\n",
       "  </thead>\n",
       "  <tbody>\n",
       "    <tr>\n",
       "      <th>417</th>\n",
       "      <td>Bildes vairāk what upā, katru dienu nebraucam ...</td>\n",
       "      <td>https://ss.com/msg/lv/real-estate/flats/riga/c...</td>\n",
       "      <td>Duntes 26</td>\n",
       "      <td>3</td>\n",
       "      <td>67</td>\n",
       "      <td>2/2</td>\n",
       "      <td>Specpr.</td>\n",
       "      <td>177 €</td>\n",
       "      <td>11,890  €</td>\n",
       "      <td>2</td>\n",
       "      <td>2</td>\n",
       "      <td>11890</td>\n",
       "      <td>2</td>\n",
       "    </tr>\n",
       "    <tr>\n",
       "      <th>365</th>\n",
       "      <td>Zemes nomas maksa 10 Eur/mēnesī, koka māja, pa...</td>\n",
       "      <td>https://ss.com/msg/lv/real-estate/flats/riga/c...</td>\n",
       "      <td>Zvaigžņu 15</td>\n",
       "      <td>1</td>\n",
       "      <td>19</td>\n",
       "      <td>2/2</td>\n",
       "      <td>P. kara</td>\n",
       "      <td>832 €</td>\n",
       "      <td>15,800  €</td>\n",
       "      <td>2</td>\n",
       "      <td>2</td>\n",
       "      <td>15800</td>\n",
       "      <td>2</td>\n",
       "    </tr>\n",
       "    <tr>\n",
       "      <th>150</th>\n",
       "      <td>Продается квартира со свежим ремонтом. \\r\\n\\r\\...</td>\n",
       "      <td>https://ss.com/msg/lv/real-estate/flats/riga/c...</td>\n",
       "      <td>Zvaigžņu 31</td>\n",
       "      <td>1</td>\n",
       "      <td>22</td>\n",
       "      <td>2/3</td>\n",
       "      <td>P. kara</td>\n",
       "      <td>805 €</td>\n",
       "      <td>17,700  €</td>\n",
       "      <td>2</td>\n",
       "      <td>3</td>\n",
       "      <td>17700</td>\n",
       "      <td>2</td>\n",
       "    </tr>\n",
       "    <tr>\n",
       "      <th>340</th>\n",
       "      <td>Продается квартира со свежим ремонтом. \\r\\n\\r\\...</td>\n",
       "      <td>https://ss.com/msg/lv/real-estate/flats/riga/c...</td>\n",
       "      <td>Zvaigžņu 31</td>\n",
       "      <td>1</td>\n",
       "      <td>22</td>\n",
       "      <td>2/3</td>\n",
       "      <td>P. kara</td>\n",
       "      <td>818 €</td>\n",
       "      <td>18,000  €</td>\n",
       "      <td>2</td>\n",
       "      <td>3</td>\n",
       "      <td>18000</td>\n",
       "      <td>2</td>\n",
       "    </tr>\n",
       "    <tr>\n",
       "      <th>473</th>\n",
       "      <td>Pārdod kompaktu dzīvokli Grīziņkalnā. Platība ...</td>\n",
       "      <td>https://ss.com/msg/lv/real-estate/flats/riga/c...</td>\n",
       "      <td>Vārnu 4</td>\n",
       "      <td>1</td>\n",
       "      <td>18</td>\n",
       "      <td>2/2</td>\n",
       "      <td>P. kara</td>\n",
       "      <td>1,000 €</td>\n",
       "      <td>18,000  €</td>\n",
       "      <td>2</td>\n",
       "      <td>2</td>\n",
       "      <td>18000</td>\n",
       "      <td>2</td>\n",
       "    </tr>\n",
       "  </tbody>\n",
       "</table>\n",
       "</div>"
      ],
      "text/plain": [
       "                                           description  \\\n",
       "417  Bildes vairāk what upā, katru dienu nebraucam ...   \n",
       "365  Zemes nomas maksa 10 Eur/mēnesī, koka māja, pa...   \n",
       "150  Продается квартира со свежим ремонтом. \\r\\n\\r\\...   \n",
       "340  Продается квартира со свежим ремонтом. \\r\\n\\r\\...   \n",
       "473  Pārdod kompaktu dzīvokli Grīziņkalnā. Platība ...   \n",
       "\n",
       "                                                   url         Iela Ist.  m2  \\\n",
       "417  https://ss.com/msg/lv/real-estate/flats/riga/c...    Duntes 26    3  67   \n",
       "365  https://ss.com/msg/lv/real-estate/flats/riga/c...  Zvaigžņu 15    1  19   \n",
       "150  https://ss.com/msg/lv/real-estate/flats/riga/c...  Zvaigžņu 31    1  22   \n",
       "340  https://ss.com/msg/lv/real-estate/flats/riga/c...  Zvaigžņu 31    1  22   \n",
       "473  https://ss.com/msg/lv/real-estate/flats/riga/c...      Vārnu 4    1  18   \n",
       "\n",
       "    Stāvs   Sērija Cena, m2       Cena Floor  MaxFloor  price  floor  \n",
       "417   2/2  Specpr.    177 €  11,890  €     2         2  11890      2  \n",
       "365   2/2  P. kara    832 €  15,800  €     2         2  15800      2  \n",
       "150   2/3  P. kara    805 €  17,700  €     2         3  17700      2  \n",
       "340   2/3  P. kara    818 €  18,000  €     2         3  18000      2  \n",
       "473   2/2  P. kara  1,000 €  18,000  €     2         2  18000      2  "
      ]
     },
     "execution_count": 89,
     "metadata": {},
     "output_type": "execute_result"
    }
   ],
   "source": [
    "df.sort_values(by=\"price\",ascending=True).head()"
   ]
  },
  {
   "cell_type": "code",
   "execution_count": null,
   "metadata": {},
   "outputs": [],
   "source": [
    "df.describe()"
   ]
  },
  {
   "cell_type": "code",
   "execution_count": 90,
   "metadata": {},
   "outputs": [
    {
     "data": {
      "text/html": [
       "<div>\n",
       "<style scoped>\n",
       "    .dataframe tbody tr th:only-of-type {\n",
       "        vertical-align: middle;\n",
       "    }\n",
       "\n",
       "    .dataframe tbody tr th {\n",
       "        vertical-align: top;\n",
       "    }\n",
       "\n",
       "    .dataframe thead th {\n",
       "        text-align: right;\n",
       "    }\n",
       "</style>\n",
       "<table border=\"1\" class=\"dataframe\">\n",
       "  <thead>\n",
       "    <tr style=\"text-align: right;\">\n",
       "      <th></th>\n",
       "      <th>description</th>\n",
       "      <th>url</th>\n",
       "      <th>Iela</th>\n",
       "      <th>Ist.</th>\n",
       "      <th>m2</th>\n",
       "      <th>Stāvs</th>\n",
       "      <th>Sērija</th>\n",
       "      <th>Cena, m2</th>\n",
       "      <th>Cena</th>\n",
       "      <th>Floor</th>\n",
       "      <th>MaxFloor</th>\n",
       "      <th>price</th>\n",
       "      <th>floor</th>\n",
       "    </tr>\n",
       "  </thead>\n",
       "  <tbody>\n",
       "    <tr>\n",
       "      <th>1</th>\n",
       "      <td>Trīsistabu dzīvoklis ar noliktavu, plašu balko...</td>\n",
       "      <td>https://ss.com/msg/lv/real-estate/flats/riga/c...</td>\n",
       "      <td>Rūpniecības 21</td>\n",
       "      <td>3</td>\n",
       "      <td>94</td>\n",
       "      <td>3/7</td>\n",
       "      <td>Jaun.</td>\n",
       "      <td>2,713 €</td>\n",
       "      <td>255,000  €</td>\n",
       "      <td>3</td>\n",
       "      <td>7</td>\n",
       "      <td>255000</td>\n",
       "      <td>3</td>\n",
       "    </tr>\n",
       "    <tr>\n",
       "      <th>2</th>\n",
       "      <td>Augstvērtīgs 5 istabu dzīvoklis ar divām autos...</td>\n",
       "      <td>https://ss.com/msg/lv/real-estate/flats/riga/c...</td>\n",
       "      <td>J. Daliņa 8</td>\n",
       "      <td>5</td>\n",
       "      <td>200</td>\n",
       "      <td>20/24</td>\n",
       "      <td>Jaun.</td>\n",
       "      <td>3,000 €</td>\n",
       "      <td>600,000  €</td>\n",
       "      <td>20</td>\n",
       "      <td>24</td>\n",
       "      <td>600000</td>\n",
       "      <td>20</td>\n",
       "    </tr>\n",
       "    <tr>\n",
       "      <th>3</th>\n",
       "      <td>Dzīvoklis atrodas centrā , pretim LU Svešvalod...</td>\n",
       "      <td>https://ss.com/msg/lv/real-estate/flats/riga/c...</td>\n",
       "      <td>Visvalža 3a</td>\n",
       "      <td>2</td>\n",
       "      <td>52</td>\n",
       "      <td>5/5</td>\n",
       "      <td>P. kara</td>\n",
       "      <td>1,471 €</td>\n",
       "      <td>76,500  €</td>\n",
       "      <td>5</td>\n",
       "      <td>5</td>\n",
       "      <td>76500</td>\n",
       "      <td>5</td>\n",
       "    </tr>\n",
       "    <tr>\n",
       "      <th>4</th>\n",
       "      <td>Remontēts 2 - istabu dzīvoklis pirmskara pagal...</td>\n",
       "      <td>https://ss.com/msg/lv/real-estate/flats/riga/c...</td>\n",
       "      <td>Miera 10</td>\n",
       "      <td>2</td>\n",
       "      <td>75</td>\n",
       "      <td>3/5</td>\n",
       "      <td>P. kara</td>\n",
       "      <td>1,700 €</td>\n",
       "      <td>127,500  €</td>\n",
       "      <td>3</td>\n",
       "      <td>5</td>\n",
       "      <td>127500</td>\n",
       "      <td>3</td>\n",
       "    </tr>\n",
       "    <tr>\n",
       "      <th>5</th>\n",
       "      <td>Īpašnieks pārdod vienistabas dzīvokli 29 m2 pl...</td>\n",
       "      <td>https://ss.com/msg/lv/real-estate/flats/riga/c...</td>\n",
       "      <td>Tomsona 25</td>\n",
       "      <td>1</td>\n",
       "      <td>29</td>\n",
       "      <td>3/5</td>\n",
       "      <td>Hrušč.</td>\n",
       "      <td>1,717 €</td>\n",
       "      <td>49,800  €</td>\n",
       "      <td>3</td>\n",
       "      <td>5</td>\n",
       "      <td>49800</td>\n",
       "      <td>3</td>\n",
       "    </tr>\n",
       "    <tr>\n",
       "      <th>...</th>\n",
       "      <td>...</td>\n",
       "      <td>...</td>\n",
       "      <td>...</td>\n",
       "      <td>...</td>\n",
       "      <td>...</td>\n",
       "      <td>...</td>\n",
       "      <td>...</td>\n",
       "      <td>...</td>\n",
       "      <td>...</td>\n",
       "      <td>...</td>\n",
       "      <td>...</td>\n",
       "      <td>...</td>\n",
       "      <td>...</td>\n",
       "    </tr>\n",
       "    <tr>\n",
       "      <th>657</th>\n",
       "      <td>Pārdod divistabu dzīvokli tuvu centram- Maskav...</td>\n",
       "      <td>https://ss.com/msg/lv/real-estate/flats/riga/c...</td>\n",
       "      <td>Maskavas 84</td>\n",
       "      <td>2</td>\n",
       "      <td>46</td>\n",
       "      <td>4/7</td>\n",
       "      <td>P. kara</td>\n",
       "      <td>1,520 €</td>\n",
       "      <td>69,900  €</td>\n",
       "      <td>4</td>\n",
       "      <td>7</td>\n",
       "      <td>69900</td>\n",
       "      <td>4</td>\n",
       "    </tr>\n",
       "    <tr>\n",
       "      <th>658</th>\n",
       "      <td>Divistabu dzīvoklis ar balkonu un vietu automa...</td>\n",
       "      <td>https://ss.com/msg/lv/real-estate/flats/riga/c...</td>\n",
       "      <td>Stabu 15</td>\n",
       "      <td>2</td>\n",
       "      <td>56</td>\n",
       "      <td>4/5</td>\n",
       "      <td>Staļina</td>\n",
       "      <td>2,143 €</td>\n",
       "      <td>120,000  €</td>\n",
       "      <td>4</td>\n",
       "      <td>5</td>\n",
       "      <td>120000</td>\n",
       "      <td>4</td>\n",
       "    </tr>\n",
       "    <tr>\n",
       "      <th>664</th>\n",
       "      <td>Pārdod siltu 2 - istabu dzīvokli lieliskā atra...</td>\n",
       "      <td>https://ss.com/msg/lv/real-estate/flats/riga/c...</td>\n",
       "      <td>Visvalža 3b</td>\n",
       "      <td>2</td>\n",
       "      <td>49</td>\n",
       "      <td>5/5</td>\n",
       "      <td>P. kara</td>\n",
       "      <td>1,561 €</td>\n",
       "      <td>76,500  €</td>\n",
       "      <td>5</td>\n",
       "      <td>5</td>\n",
       "      <td>76500</td>\n",
       "      <td>5</td>\n",
       "    </tr>\n",
       "    <tr>\n",
       "      <th>665</th>\n",
       "      <td>Autostāvvieta ēkas pagalmā. Dzīvoklis Rīgas ce...</td>\n",
       "      <td>https://ss.com/msg/lv/real-estate/flats/riga/c...</td>\n",
       "      <td>Pērnavas 10</td>\n",
       "      <td>3</td>\n",
       "      <td>80</td>\n",
       "      <td>5/5</td>\n",
       "      <td>Staļina</td>\n",
       "      <td>1,813 €</td>\n",
       "      <td>145,000  €</td>\n",
       "      <td>5</td>\n",
       "      <td>5</td>\n",
       "      <td>145000</td>\n",
       "      <td>5</td>\n",
       "    </tr>\n",
       "    <tr>\n",
       "      <th>667</th>\n",
       "      <td>Pārdodam modernu dzīvokli klusā ielā Rīgas cen...</td>\n",
       "      <td>https://ss.com/msg/lv/real-estate/flats/riga/c...</td>\n",
       "      <td>Ieroču 4</td>\n",
       "      <td>1</td>\n",
       "      <td>61</td>\n",
       "      <td>3/3</td>\n",
       "      <td>P. kara</td>\n",
       "      <td>1,623 €</td>\n",
       "      <td>99,000  €</td>\n",
       "      <td>3</td>\n",
       "      <td>3</td>\n",
       "      <td>99000</td>\n",
       "      <td>3</td>\n",
       "    </tr>\n",
       "  </tbody>\n",
       "</table>\n",
       "<p>381 rows × 13 columns</p>\n",
       "</div>"
      ],
      "text/plain": [
       "                                           description  \\\n",
       "1    Trīsistabu dzīvoklis ar noliktavu, plašu balko...   \n",
       "2    Augstvērtīgs 5 istabu dzīvoklis ar divām autos...   \n",
       "3    Dzīvoklis atrodas centrā , pretim LU Svešvalod...   \n",
       "4    Remontēts 2 - istabu dzīvoklis pirmskara pagal...   \n",
       "5    Īpašnieks pārdod vienistabas dzīvokli 29 m2 pl...   \n",
       "..                                                 ...   \n",
       "657  Pārdod divistabu dzīvokli tuvu centram- Maskav...   \n",
       "658  Divistabu dzīvoklis ar balkonu un vietu automa...   \n",
       "664  Pārdod siltu 2 - istabu dzīvokli lieliskā atra...   \n",
       "665  Autostāvvieta ēkas pagalmā. Dzīvoklis Rīgas ce...   \n",
       "667  Pārdodam modernu dzīvokli klusā ielā Rīgas cen...   \n",
       "\n",
       "                                                   url            Iela Ist.  \\\n",
       "1    https://ss.com/msg/lv/real-estate/flats/riga/c...  Rūpniecības 21    3   \n",
       "2    https://ss.com/msg/lv/real-estate/flats/riga/c...     J. Daliņa 8    5   \n",
       "3    https://ss.com/msg/lv/real-estate/flats/riga/c...     Visvalža 3a    2   \n",
       "4    https://ss.com/msg/lv/real-estate/flats/riga/c...        Miera 10    2   \n",
       "5    https://ss.com/msg/lv/real-estate/flats/riga/c...      Tomsona 25    1   \n",
       "..                                                 ...             ...  ...   \n",
       "657  https://ss.com/msg/lv/real-estate/flats/riga/c...     Maskavas 84    2   \n",
       "658  https://ss.com/msg/lv/real-estate/flats/riga/c...        Stabu 15    2   \n",
       "664  https://ss.com/msg/lv/real-estate/flats/riga/c...     Visvalža 3b    2   \n",
       "665  https://ss.com/msg/lv/real-estate/flats/riga/c...     Pērnavas 10    3   \n",
       "667  https://ss.com/msg/lv/real-estate/flats/riga/c...        Ieroču 4    1   \n",
       "\n",
       "      m2  Stāvs   Sērija Cena, m2        Cena Floor  MaxFloor   price  floor  \n",
       "1     94    3/7    Jaun.  2,713 €  255,000  €     3         7  255000      3  \n",
       "2    200  20/24    Jaun.  3,000 €  600,000  €    20        24  600000     20  \n",
       "3     52    5/5  P. kara  1,471 €   76,500  €     5         5   76500      5  \n",
       "4     75    3/5  P. kara  1,700 €  127,500  €     3         5  127500      3  \n",
       "5     29    3/5   Hrušč.  1,717 €   49,800  €     3         5   49800      3  \n",
       "..   ...    ...      ...      ...         ...   ...       ...     ...    ...  \n",
       "657   46    4/7  P. kara  1,520 €   69,900  €     4         7   69900      4  \n",
       "658   56    4/5  Staļina  2,143 €  120,000  €     4         5  120000      4  \n",
       "664   49    5/5  P. kara  1,561 €   76,500  €     5         5   76500      5  \n",
       "665   80    5/5  Staļina  1,813 €  145,000  €     5         5  145000      5  \n",
       "667   61    3/3  P. kara  1,623 €   99,000  €     3         3   99000      3  \n",
       "\n",
       "[381 rows x 13 columns]"
      ]
     },
     "execution_count": 90,
     "metadata": {},
     "output_type": "execute_result"
    }
   ],
   "source": [
    "df[df.floor > 2]"
   ]
  },
  {
   "cell_type": "code",
   "execution_count": null,
   "metadata": {},
   "outputs": [],
   "source": [
    "df.sort_values(by=\"MaxFloor\",ascending=False).head()"
   ]
  },
  {
   "cell_type": "code",
   "execution_count": null,
   "metadata": {},
   "outputs": [],
   "source": [
    "df.head()"
   ]
  },
  {
   "cell_type": "code",
   "execution_count": null,
   "metadata": {},
   "outputs": [],
   "source": [
    "df.columns"
   ]
  },
  {
   "cell_type": "code",
   "execution_count": 91,
   "metadata": {},
   "outputs": [
    {
     "data": {
      "text/html": [
       "<div>\n",
       "<style scoped>\n",
       "    .dataframe tbody tr th:only-of-type {\n",
       "        vertical-align: middle;\n",
       "    }\n",
       "\n",
       "    .dataframe tbody tr th {\n",
       "        vertical-align: top;\n",
       "    }\n",
       "\n",
       "    .dataframe thead th {\n",
       "        text-align: right;\n",
       "    }\n",
       "</style>\n",
       "<table border=\"1\" class=\"dataframe\">\n",
       "  <thead>\n",
       "    <tr style=\"text-align: right;\">\n",
       "      <th></th>\n",
       "      <th>count</th>\n",
       "      <th>min</th>\n",
       "      <th>max</th>\n",
       "      <th>mean</th>\n",
       "    </tr>\n",
       "    <tr>\n",
       "      <th>Iela</th>\n",
       "      <th></th>\n",
       "      <th></th>\n",
       "      <th></th>\n",
       "      <th></th>\n",
       "    </tr>\n",
       "  </thead>\n",
       "  <tbody>\n",
       "    <tr>\n",
       "      <th>13. janvāra 21</th>\n",
       "      <td>1</td>\n",
       "      <td>195000</td>\n",
       "      <td>195000</td>\n",
       "      <td>195000.0</td>\n",
       "    </tr>\n",
       "    <tr>\n",
       "      <th>Alauksta 12</th>\n",
       "      <td>1</td>\n",
       "      <td>34900</td>\n",
       "      <td>34900</td>\n",
       "      <td>34900.0</td>\n",
       "    </tr>\n",
       "    <tr>\n",
       "      <th>Alauksta 9</th>\n",
       "      <td>2</td>\n",
       "      <td>149500</td>\n",
       "      <td>260000</td>\n",
       "      <td>204750.0</td>\n",
       "    </tr>\n",
       "    <tr>\n",
       "      <th>Alunāna 6</th>\n",
       "      <td>1</td>\n",
       "      <td>320000</td>\n",
       "      <td>320000</td>\n",
       "      <td>320000.0</td>\n",
       "    </tr>\n",
       "    <tr>\n",
       "      <th>Alūksnes 3</th>\n",
       "      <td>1</td>\n",
       "      <td>197000</td>\n",
       "      <td>197000</td>\n",
       "      <td>197000.0</td>\n",
       "    </tr>\n",
       "    <tr>\n",
       "      <th>...</th>\n",
       "      <td>...</td>\n",
       "      <td>...</td>\n",
       "      <td>...</td>\n",
       "      <td>...</td>\n",
       "    </tr>\n",
       "    <tr>\n",
       "      <th>Ģertrūdes 78</th>\n",
       "      <td>1</td>\n",
       "      <td>105000</td>\n",
       "      <td>105000</td>\n",
       "      <td>105000.0</td>\n",
       "    </tr>\n",
       "    <tr>\n",
       "      <th>Ģertrūdes 9</th>\n",
       "      <td>1</td>\n",
       "      <td>565000</td>\n",
       "      <td>565000</td>\n",
       "      <td>565000.0</td>\n",
       "    </tr>\n",
       "    <tr>\n",
       "      <th>Ģertrūdes 91</th>\n",
       "      <td>1</td>\n",
       "      <td>25000</td>\n",
       "      <td>25000</td>\n",
       "      <td>25000.0</td>\n",
       "    </tr>\n",
       "    <tr>\n",
       "      <th>Ģertrūdes 99</th>\n",
       "      <td>1</td>\n",
       "      <td>55000</td>\n",
       "      <td>55000</td>\n",
       "      <td>55000.0</td>\n",
       "    </tr>\n",
       "    <tr>\n",
       "      <th>Ģertrūdes 99 k-2</th>\n",
       "      <td>1</td>\n",
       "      <td>45579</td>\n",
       "      <td>45579</td>\n",
       "      <td>45579.0</td>\n",
       "    </tr>\n",
       "  </tbody>\n",
       "</table>\n",
       "<p>435 rows × 4 columns</p>\n",
       "</div>"
      ],
      "text/plain": [
       "                  count     min     max      mean\n",
       "Iela                                             \n",
       "13. janvāra 21        1  195000  195000  195000.0\n",
       "Alauksta 12           1   34900   34900   34900.0\n",
       "Alauksta 9            2  149500  260000  204750.0\n",
       "Alunāna 6             1  320000  320000  320000.0\n",
       "Alūksnes 3            1  197000  197000  197000.0\n",
       "...                 ...     ...     ...       ...\n",
       "Ģertrūdes 78          1  105000  105000  105000.0\n",
       "Ģertrūdes 9           1  565000  565000  565000.0\n",
       "Ģertrūdes 91          1   25000   25000   25000.0\n",
       "Ģertrūdes 99          1   55000   55000   55000.0\n",
       "Ģertrūdes 99 k-2      1   45579   45579   45579.0\n",
       "\n",
       "[435 rows x 4 columns]"
      ]
     },
     "execution_count": 91,
     "metadata": {},
     "output_type": "execute_result"
    }
   ],
   "source": [
    "grouped_by_street = df.groupby(by=\"Iela\")['price'].agg([\"count\", \"min\", \"max\", \"mean\", ])\n",
    "grouped_by_street"
   ]
  },
  {
   "cell_type": "code",
   "execution_count": 94,
   "metadata": {},
   "outputs": [
    {
     "data": {
      "text/html": [
       "<div>\n",
       "<style scoped>\n",
       "    .dataframe tbody tr th:only-of-type {\n",
       "        vertical-align: middle;\n",
       "    }\n",
       "\n",
       "    .dataframe tbody tr th {\n",
       "        vertical-align: top;\n",
       "    }\n",
       "\n",
       "    .dataframe thead th {\n",
       "        text-align: right;\n",
       "    }\n",
       "</style>\n",
       "<table border=\"1\" class=\"dataframe\">\n",
       "  <thead>\n",
       "    <tr style=\"text-align: right;\">\n",
       "      <th></th>\n",
       "      <th>count</th>\n",
       "      <th>min</th>\n",
       "      <th>max</th>\n",
       "      <th>mean</th>\n",
       "    </tr>\n",
       "    <tr>\n",
       "      <th>Sērija</th>\n",
       "      <th></th>\n",
       "      <th></th>\n",
       "      <th></th>\n",
       "      <th></th>\n",
       "    </tr>\n",
       "  </thead>\n",
       "  <tbody>\n",
       "    <tr>\n",
       "      <th>103.</th>\n",
       "      <td>4</td>\n",
       "      <td>60900</td>\n",
       "      <td>135000</td>\n",
       "      <td>105225.000000</td>\n",
       "    </tr>\n",
       "    <tr>\n",
       "      <th>467.</th>\n",
       "      <td>2</td>\n",
       "      <td>67000</td>\n",
       "      <td>120000</td>\n",
       "      <td>93500.000000</td>\n",
       "    </tr>\n",
       "    <tr>\n",
       "      <th>Hrušč.</th>\n",
       "      <td>14</td>\n",
       "      <td>37000</td>\n",
       "      <td>88000</td>\n",
       "      <td>62374.642857</td>\n",
       "    </tr>\n",
       "    <tr>\n",
       "      <th>Jaun.</th>\n",
       "      <td>81</td>\n",
       "      <td>21000</td>\n",
       "      <td>802880</td>\n",
       "      <td>264379.617284</td>\n",
       "    </tr>\n",
       "    <tr>\n",
       "      <th>LT proj.</th>\n",
       "      <td>1</td>\n",
       "      <td>70000</td>\n",
       "      <td>70000</td>\n",
       "      <td>70000.000000</td>\n",
       "    </tr>\n",
       "    <tr>\n",
       "      <th>P. kara</th>\n",
       "      <td>309</td>\n",
       "      <td>15800</td>\n",
       "      <td>565000</td>\n",
       "      <td>136941.003236</td>\n",
       "    </tr>\n",
       "    <tr>\n",
       "      <th>Priv. m.</th>\n",
       "      <td>2</td>\n",
       "      <td>104000</td>\n",
       "      <td>188000</td>\n",
       "      <td>146000.000000</td>\n",
       "    </tr>\n",
       "    <tr>\n",
       "      <th>Renov.</th>\n",
       "      <td>195</td>\n",
       "      <td>39500</td>\n",
       "      <td>1750000</td>\n",
       "      <td>202631.410256</td>\n",
       "    </tr>\n",
       "    <tr>\n",
       "      <th>Specpr.</th>\n",
       "      <td>36</td>\n",
       "      <td>11890</td>\n",
       "      <td>279000</td>\n",
       "      <td>134016.805556</td>\n",
       "    </tr>\n",
       "    <tr>\n",
       "      <th>Staļina</th>\n",
       "      <td>21</td>\n",
       "      <td>27900</td>\n",
       "      <td>180000</td>\n",
       "      <td>111784.285714</td>\n",
       "    </tr>\n",
       "    <tr>\n",
       "      <th>Čehu pr.</th>\n",
       "      <td>3</td>\n",
       "      <td>67000</td>\n",
       "      <td>129700</td>\n",
       "      <td>98566.666667</td>\n",
       "    </tr>\n",
       "  </tbody>\n",
       "</table>\n",
       "</div>"
      ],
      "text/plain": [
       "          count     min      max           mean\n",
       "Sērija                                         \n",
       "103.          4   60900   135000  105225.000000\n",
       "467.          2   67000   120000   93500.000000\n",
       "Hrušč.       14   37000    88000   62374.642857\n",
       "Jaun.        81   21000   802880  264379.617284\n",
       "LT proj.      1   70000    70000   70000.000000\n",
       "P. kara     309   15800   565000  136941.003236\n",
       "Priv. m.      2  104000   188000  146000.000000\n",
       "Renov.      195   39500  1750000  202631.410256\n",
       "Specpr.      36   11890   279000  134016.805556\n",
       "Staļina      21   27900   180000  111784.285714\n",
       "Čehu pr.      3   67000   129700   98566.666667"
      ]
     },
     "execution_count": 94,
     "metadata": {},
     "output_type": "execute_result"
    }
   ],
   "source": [
    "grouped_by_series = df.groupby(by=\"Sērija\")['price'].agg([\"count\", \"min\", \"max\", \"mean\", ])\n",
    "grouped_by_series"
   ]
  },
  {
   "cell_type": "code",
   "execution_count": 95,
   "metadata": {},
   "outputs": [
    {
     "data": {
      "text/html": [
       "<div>\n",
       "<style scoped>\n",
       "    .dataframe tbody tr th:only-of-type {\n",
       "        vertical-align: middle;\n",
       "    }\n",
       "\n",
       "    .dataframe tbody tr th {\n",
       "        vertical-align: top;\n",
       "    }\n",
       "\n",
       "    .dataframe thead th {\n",
       "        text-align: right;\n",
       "    }\n",
       "</style>\n",
       "<table border=\"1\" class=\"dataframe\">\n",
       "  <thead>\n",
       "    <tr style=\"text-align: right;\">\n",
       "      <th></th>\n",
       "      <th>count</th>\n",
       "      <th>min</th>\n",
       "      <th>max</th>\n",
       "      <th>mean</th>\n",
       "    </tr>\n",
       "    <tr>\n",
       "      <th>floor</th>\n",
       "      <th></th>\n",
       "      <th></th>\n",
       "      <th></th>\n",
       "      <th></th>\n",
       "    </tr>\n",
       "  </thead>\n",
       "  <tbody>\n",
       "    <tr>\n",
       "      <th>1</th>\n",
       "      <td>119</td>\n",
       "      <td>19000</td>\n",
       "      <td>369000</td>\n",
       "      <td>104977.537815</td>\n",
       "    </tr>\n",
       "    <tr>\n",
       "      <th>2</th>\n",
       "      <td>168</td>\n",
       "      <td>11890</td>\n",
       "      <td>1750000</td>\n",
       "      <td>189899.696429</td>\n",
       "    </tr>\n",
       "    <tr>\n",
       "      <th>3</th>\n",
       "      <td>126</td>\n",
       "      <td>27500</td>\n",
       "      <td>463000</td>\n",
       "      <td>153661.119048</td>\n",
       "    </tr>\n",
       "    <tr>\n",
       "      <th>4</th>\n",
       "      <td>79</td>\n",
       "      <td>45579</td>\n",
       "      <td>724800</td>\n",
       "      <td>198776.822785</td>\n",
       "    </tr>\n",
       "    <tr>\n",
       "      <th>5</th>\n",
       "      <td>97</td>\n",
       "      <td>25000</td>\n",
       "      <td>439000</td>\n",
       "      <td>156083.938144</td>\n",
       "    </tr>\n",
       "    <tr>\n",
       "      <th>6</th>\n",
       "      <td>62</td>\n",
       "      <td>36000</td>\n",
       "      <td>802880</td>\n",
       "      <td>215051.387097</td>\n",
       "    </tr>\n",
       "    <tr>\n",
       "      <th>7</th>\n",
       "      <td>6</td>\n",
       "      <td>67000</td>\n",
       "      <td>595000</td>\n",
       "      <td>239783.333333</td>\n",
       "    </tr>\n",
       "    <tr>\n",
       "      <th>8</th>\n",
       "      <td>2</td>\n",
       "      <td>99000</td>\n",
       "      <td>99000</td>\n",
       "      <td>99000.000000</td>\n",
       "    </tr>\n",
       "    <tr>\n",
       "      <th>10</th>\n",
       "      <td>1</td>\n",
       "      <td>142300</td>\n",
       "      <td>142300</td>\n",
       "      <td>142300.000000</td>\n",
       "    </tr>\n",
       "    <tr>\n",
       "      <th>11</th>\n",
       "      <td>1</td>\n",
       "      <td>92000</td>\n",
       "      <td>92000</td>\n",
       "      <td>92000.000000</td>\n",
       "    </tr>\n",
       "    <tr>\n",
       "      <th>12</th>\n",
       "      <td>1</td>\n",
       "      <td>129700</td>\n",
       "      <td>129700</td>\n",
       "      <td>129700.000000</td>\n",
       "    </tr>\n",
       "    <tr>\n",
       "      <th>15</th>\n",
       "      <td>2</td>\n",
       "      <td>370000</td>\n",
       "      <td>420390</td>\n",
       "      <td>395195.000000</td>\n",
       "    </tr>\n",
       "    <tr>\n",
       "      <th>18</th>\n",
       "      <td>2</td>\n",
       "      <td>344000</td>\n",
       "      <td>405000</td>\n",
       "      <td>374500.000000</td>\n",
       "    </tr>\n",
       "    <tr>\n",
       "      <th>19</th>\n",
       "      <td>1</td>\n",
       "      <td>480000</td>\n",
       "      <td>480000</td>\n",
       "      <td>480000.000000</td>\n",
       "    </tr>\n",
       "    <tr>\n",
       "      <th>20</th>\n",
       "      <td>1</td>\n",
       "      <td>600000</td>\n",
       "      <td>600000</td>\n",
       "      <td>600000.000000</td>\n",
       "    </tr>\n",
       "  </tbody>\n",
       "</table>\n",
       "</div>"
      ],
      "text/plain": [
       "       count     min      max           mean\n",
       "floor                                       \n",
       "1        119   19000   369000  104977.537815\n",
       "2        168   11890  1750000  189899.696429\n",
       "3        126   27500   463000  153661.119048\n",
       "4         79   45579   724800  198776.822785\n",
       "5         97   25000   439000  156083.938144\n",
       "6         62   36000   802880  215051.387097\n",
       "7          6   67000   595000  239783.333333\n",
       "8          2   99000    99000   99000.000000\n",
       "10         1  142300   142300  142300.000000\n",
       "11         1   92000    92000   92000.000000\n",
       "12         1  129700   129700  129700.000000\n",
       "15         2  370000   420390  395195.000000\n",
       "18         2  344000   405000  374500.000000\n",
       "19         1  480000   480000  480000.000000\n",
       "20         1  600000   600000  600000.000000"
      ]
     },
     "execution_count": 95,
     "metadata": {},
     "output_type": "execute_result"
    }
   ],
   "source": [
    "grouped_by_floor = df.groupby(by=\"floor\")['price'].agg([\"count\", \"min\", \"max\", \"mean\", ])\n",
    "grouped_by_floor"
   ]
  },
  {
   "cell_type": "code",
   "execution_count": null,
   "metadata": {},
   "outputs": [],
   "source": [
    "len(grouped_by_floor)"
   ]
  },
  {
   "cell_type": "code",
   "execution_count": null,
   "metadata": {},
   "outputs": [],
   "source": [
    "grouped_by_floor.hist(bins=len(grouped_by_floor))"
   ]
  },
  {
   "cell_type": "code",
   "execution_count": null,
   "metadata": {},
   "outputs": [],
   "source": [
    "grouped_by_pag = df.groupby(by=\"Pagasts\")['price'].agg([\"count\", \"min\", \"max\", \"mean\", ])\n",
    "grouped_by_pag"
   ]
  },
  {
   "cell_type": "code",
   "execution_count": null,
   "metadata": {},
   "outputs": [],
   "source": [
    "grouped_by_pag.hist()"
   ]
  },
  {
   "cell_type": "code",
   "execution_count": null,
   "metadata": {},
   "outputs": [],
   "source": [
    "grouped_by_pag.plot(x=\"Pagasts\", y=\"mean\")"
   ]
  },
  {
   "cell_type": "code",
   "execution_count": null,
   "metadata": {},
   "outputs": [],
   "source": [
    "df.to_excel(\"c:/temp/my_apartments.xlsx\") # i could this with absolute path"
   ]
  },
  {
   "cell_type": "code",
   "execution_count": null,
   "metadata": {},
   "outputs": [],
   "source": [
    "from datetime import datetime as dt\n",
    "now = dt.now()\n",
    "now.month, now.day, now.hour, now.second"
   ]
  },
  {
   "cell_type": "code",
   "execution_count": null,
   "metadata": {},
   "outputs": [],
   "source": [
    "# url = \"https://www.ss.com/lv/real-estate/flats/riga/sarkandaugava/hand_over/\"\n",
    "url = centrs\n",
    "region = url.split(\"riga/\")[-1].split(\"/\")[0]\n",
    "now = dt.now()\n",
    "save_path = f\"../data/{region}_{now.day}_{now.month}__{now.hour}_{now.second}.xlsx\"\n",
    "save_path"
   ]
  },
  {
   "cell_type": "code",
   "execution_count": null,
   "metadata": {},
   "outputs": [],
   "source": [
    "url = \"https://www.ss.com/lv/real-estate/flats/riga/sarkandaugava/hand_over/\"\n",
    "region = url.split(\"riga/\")[-1].split(\"/\")[0]\n",
    "now = dt.now()\n",
    "save_path = f\"../data/{region}_{now.day}_{now.month}__{now.hour}_{now.second}.xlsx\"\n",
    "\n",
    "df = get_all_ads_df(url, save_path)"
   ]
  },
  {
   "cell_type": "code",
   "execution_count": null,
   "metadata": {},
   "outputs": [],
   "source": [
    "url = \"https://www.ss.com/lv/transport/cars/vaz/riga_f/\"\n",
    "df = get_all_ads_df(url, \"../data/vaz_18_03.xlsx\")"
   ]
  },
  {
   "cell_type": "markdown",
   "metadata": {},
   "source": [
    "# TODO \n",
    "# Try with different starting address not only centrs\n",
    "## Maybe combine regions\n",
    "## See how it would work with maybe cars\n",
    "## Data engineering make new columns based on existing ones, clean some columns\n",
    "### Changing floors 2/6 to columns 2 and 6, clean up Euro signs\n",
    "## Sorting, Describing, Grouping by regions etc"
   ]
  },
  {
   "cell_type": "code",
   "execution_count": null,
   "metadata": {},
   "outputs": [],
   "source": [
    "df = pd.read_excel(\"centrs_10_03.xlsx\")\n",
    "df.head()"
   ]
  },
  {
   "cell_type": "code",
   "execution_count": null,
   "metadata": {},
   "outputs": [],
   "source": [
    "df.shape"
   ]
  },
  {
   "cell_type": "code",
   "execution_count": null,
   "metadata": {},
   "outputs": [],
   "source": [
    "df[\"price\"] = df.Cena.str.split(' ').str[0]\n",
    "df.head()"
   ]
  },
  {
   "cell_type": "code",
   "execution_count": null,
   "metadata": {},
   "outputs": [],
   "source": [
    "df.price = df.price.str.replace(\",\",\"\").astype('int32') # so clean string of , and then convert to integer\n",
    "df.head()"
   ]
  },
  {
   "cell_type": "code",
   "execution_count": null,
   "metadata": {},
   "outputs": [],
   "source": [
    "df.price.hist()"
   ]
  },
  {
   "cell_type": "code",
   "execution_count": null,
   "metadata": {},
   "outputs": [],
   "source": [
    "df[['Floor','MaxFloor']] = df.Stāvs.str.split(\"/\",expand=True) \n",
    "df.info()"
   ]
  },
  {
   "cell_type": "code",
   "execution_count": null,
   "metadata": {},
   "outputs": [],
   "source": [
    "#typecasting example\n",
    "df.Floor = df.Floor.astype('int32')\n",
    "df.MaxFloor = df.MaxFloor.astype('int32')"
   ]
  },
  {
   "cell_type": "code",
   "execution_count": null,
   "metadata": {},
   "outputs": [],
   "source": [
    "df.head()"
   ]
  },
  {
   "cell_type": "code",
   "execution_count": null,
   "metadata": {},
   "outputs": [],
   "source": [
    "d23 = df[df.MaxFloor > 20]\n",
    "d23"
   ]
  },
  {
   "cell_type": "code",
   "execution_count": null,
   "metadata": {},
   "outputs": [],
   "source": [
    "df.describe().T # T is for transposing rows and columns"
   ]
  },
  {
   "cell_type": "code",
   "execution_count": null,
   "metadata": {},
   "outputs": [],
   "source": [
    "df.describe().T.to_csv(\"center_stats.csv\")"
   ]
  },
  {
   "cell_type": "code",
   "execution_count": null,
   "metadata": {},
   "outputs": [],
   "source": [
    "import plotly.express as px"
   ]
  },
  {
   "cell_type": "code",
   "execution_count": null,
   "metadata": {},
   "outputs": [],
   "source": [
    "fig = px.histogram(df, x=\"price\", nbins=100)\n",
    "fig.show()"
   ]
  },
  {
   "cell_type": "code",
   "execution_count": null,
   "metadata": {},
   "outputs": [],
   "source": [
    "import seaborn as sns # seaborn sits on top of matplotlib with better defaults\n",
    "import matplotlib.pyplot as plt\n"
   ]
  },
  {
   "cell_type": "code",
   "execution_count": null,
   "metadata": {},
   "outputs": [],
   "source": [
    "df.info()"
   ]
  },
  {
   "cell_type": "code",
   "execution_count": null,
   "metadata": {},
   "outputs": [],
   "source": [
    "# Basic correlogram\n",
    "sns.pairplot(df)\n",
    "\n"
   ]
  },
  {
   "cell_type": "code",
   "execution_count": null,
   "metadata": {},
   "outputs": [],
   "source": [
    "# Basic correlogram\n",
    "sns.pairplot(df)\n",
    "\n"
   ]
  },
  {
   "cell_type": "code",
   "execution_count": null,
   "metadata": {},
   "outputs": [],
   "source": [
    "volvo_url = \"https://www.ss.com/lv/transport/cars/volvo/sell/\"\n",
    "volvos = get_all_ads_df(volvo_url, \"../data/volvo_03_18.xlsx\")"
   ]
  },
  {
   "cell_type": "code",
   "execution_count": null,
   "metadata": {},
   "outputs": [],
   "source": [
    "volvos = pd.read_excel(\"volvo_270921.xlsx\")\n",
    "volvos.head()"
   ]
  },
  {
   "cell_type": "code",
   "execution_count": null,
   "metadata": {},
   "outputs": [],
   "source": [
    "volvos.shape"
   ]
  },
  {
   "cell_type": "code",
   "execution_count": null,
   "metadata": {},
   "outputs": [],
   "source": [
    "volvos.head(10)"
   ]
  },
  {
   "cell_type": "code",
   "execution_count": null,
   "metadata": {},
   "outputs": [],
   "source": [
    "gr_auto['Price'] = "
   ]
  },
  {
   "cell_type": "code",
   "execution_count": null,
   "metadata": {},
   "outputs": [],
   "source": [
    "volvos[\"price\"] = volvos.Cena.str.split(' ').str[0]\n",
    "volvos.price = volvos.price.str.replace(\",\",\"\").astype('int32')\n",
    "volvos.head()"
   ]
  },
  {
   "cell_type": "code",
   "execution_count": null,
   "metadata": {},
   "outputs": [],
   "source": [
    "\n",
    "gr_auto = volvos.groupby([\"Gads\",\"Modelis\"])[\"price\"].agg([\"count\", \"min\", \"max\", \"mean\", ])  #.head(n = 10)\n",
    "gr_auto"
   ]
  },
  {
   "cell_type": "code",
   "execution_count": null,
   "metadata": {},
   "outputs": [],
   "source": [
    "gr_auto.loc[gr_auto.index.get_level_values(0).str.contains(\"2015\")] # how to filter multi level index"
   ]
  },
  {
   "cell_type": "code",
   "execution_count": null,
   "metadata": {},
   "outputs": [],
   "source": [
    "gr_auto.loc[gr_auto.index.get_level_values(1).str.contains(\"S60\")]"
   ]
  },
  {
   "cell_type": "code",
   "execution_count": null,
   "metadata": {},
   "outputs": [],
   "source": [
    "gr_auto.loc[gr_auto.index.get_level_values(1).str.contains(\"S60\")].to_excel(\"S60.xlsx\")"
   ]
  },
  {
   "cell_type": "code",
   "execution_count": null,
   "metadata": {},
   "outputs": [],
   "source": [
    "print(dt.today())"
   ]
  },
  {
   "cell_type": "code",
   "execution_count": null,
   "metadata": {},
   "outputs": [],
   "source": [
    "suzuki_url = \"https://www.ss.com/lv/transport/cars/suzuki/\"\n",
    "# sdf = get_all_ads_df(suzuki_url, f\"suzuki_{dt.today()}.xlsx\")\n",
    "sdf = get_all_ads_df(suzuki_url, f\"suzuki.xlsx\")\n",
    "sdf.head()"
   ]
  },
  {
   "cell_type": "code",
   "execution_count": null,
   "metadata": {},
   "outputs": [],
   "source": [
    "sdf.info()"
   ]
  },
  {
   "cell_type": "code",
   "execution_count": null,
   "metadata": {},
   "outputs": [],
   "source": [
    "sdf[\"Tilp.\"] = sdf[\"Tilp.\"].str.replace(\"\\w\",\"\", regex=True)\n",
    "sdf.head()"
   ]
  },
  {
   "cell_type": "code",
   "execution_count": null,
   "metadata": {},
   "outputs": [],
   "source": [
    "sdf[\"Nobrauk.\"] = sdf[\"Nobrauk.\"].str.replace(\"\\D\",\"\", regex=True) # so no digits removed\n",
    "sdf.head()"
   ]
  },
  {
   "cell_type": "code",
   "execution_count": null,
   "metadata": {},
   "outputs": [],
   "source": [
    "sdf[\"Cena\"] = sdf[\"Cena\"].str.replace(\"\\D\",\"\", regex=True) # so no digits removed\n",
    "sdf.head()"
   ]
  },
  {
   "cell_type": "code",
   "execution_count": null,
   "metadata": {},
   "outputs": [],
   "source": [
    "sdf = sdf.dropna(how=\"any\", axis=0)\n",
    "sdf"
   ]
  },
  {
   "cell_type": "code",
   "execution_count": null,
   "metadata": {},
   "outputs": [],
   "source": [
    "sdf = sdf[sdf[\"Nobrauk.\"].str.len() > 0] # got rid of those empty rows finally\n",
    "sdf"
   ]
  },
  {
   "cell_type": "code",
   "execution_count": null,
   "metadata": {},
   "outputs": [],
   "source": []
  },
  {
   "cell_type": "code",
   "execution_count": null,
   "metadata": {},
   "outputs": [],
   "source": [
    "sdf[\"Cena\"] = sdf[\"Cena\"].astype(\"float32\")"
   ]
  },
  {
   "cell_type": "code",
   "execution_count": null,
   "metadata": {},
   "outputs": [],
   "source": [
    "gr_auto = sdf.groupby([\"Gads\",\"Modelis\"])[\"Cena\"].agg([\"count\",\"min\", \"max\", \"mean\"]) \n",
    "gr_auto"
   ]
  },
  {
   "cell_type": "code",
   "execution_count": null,
   "metadata": {},
   "outputs": [],
   "source": []
  }
 ],
 "metadata": {
  "kernelspec": {
   "display_name": "Python 3 (ipykernel)",
   "language": "python",
   "name": "python3"
  },
  "language_info": {
   "codemirror_mode": {
    "name": "ipython",
    "version": 3
   },
   "file_extension": ".py",
   "mimetype": "text/x-python",
   "name": "python",
   "nbconvert_exporter": "python",
   "pygments_lexer": "ipython3",
   "version": "3.9.7"
  }
 },
 "nbformat": 4,
 "nbformat_minor": 4
}
