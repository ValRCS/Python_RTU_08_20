{
 "cells": [
  {
   "cell_type": "code",
   "execution_count": null,
   "metadata": {},
   "outputs": [],
   "source": []
  },
  {
   "attachments": {},
   "cell_type": "markdown",
   "metadata": {},
   "source": [
    "# SQL lite"
   ]
  },
  {
   "cell_type": "code",
   "execution_count": 2,
   "metadata": {},
   "outputs": [
    {
     "data": {
      "text/plain": [
       "<sqlite3.Cursor at 0x1e304a9e2c0>"
      ]
     },
     "execution_count": 2,
     "metadata": {},
     "output_type": "execute_result"
    }
   ],
   "source": [
    "import sqlite3  # built in module standard library\n",
    "\n",
    "# Create a database in RAM\n",
    "# db = sqlite3.connect(':memory:')\n",
    "\n",
    "# create a new database in the file system\n",
    "db = sqlite3.connect('test.db')\n",
    "\n",
    "# get a cursor object\n",
    "cursor = db.cursor()\n",
    "\n",
    "# create a table\n",
    "cursor.execute('''\n",
    "    CREATE TABLE users(id INTEGER PRIMARY KEY, name TEXT, phone TEXT, email TEXT)\n",
    "''')"
   ]
  },
  {
   "cell_type": "code",
   "execution_count": 4,
   "metadata": {},
   "outputs": [
    {
     "data": {
      "text/plain": [
       "<sqlite3.Cursor at 0x1e304a9e2c0>"
      ]
     },
     "execution_count": 4,
     "metadata": {},
     "output_type": "execute_result"
    }
   ],
   "source": [
    "# insert some data\n",
    "cursor.execute('''INSERT INTO users(name, phone, email) \n",
    "VALUES('Valdis', '5557241', 'valdis.s.coding@gmail')\n",
    "''')\n",
    "cursor.execute('''INSERT INTO users(name, phone, email)\n",
    "VALUES('Voldemars', '5557242', 'voldemars@gmail.com')\n",
    "''')"
   ]
  },
  {
   "cell_type": "code",
   "execution_count": 5,
   "metadata": {},
   "outputs": [
    {
     "name": "stdout",
     "output_type": "stream",
     "text": [
      "('Valdis', 'valdis.s.coding@gmail', '5557241')\n",
      "('Valdis', 'valdis.s.coding@gmail', '5557241')\n",
      "('Voldemars', 'voldemars@gmail.com', '5557242')\n"
     ]
    }
   ],
   "source": [
    "# read some data from table\n",
    "# cursor.execute('''SELECT name, email, phone FROM users''')\n",
    "# user1 = cursor.fetchone()  # retrieve the first row\n",
    "# print all columns\n",
    "for row in cursor.execute('''SELECT name, email, phone FROM users'''):\n",
    "    print(row) # row is a tuple"
   ]
  },
  {
   "attachments": {},
   "cell_type": "markdown",
   "metadata": {},
   "source": [
    "## For more information see:\n",
    "## https://www.sqlitetutorial.net/sqlite-python/\n",
    "\n",
    "# We use databases to achieve persistence. \n",
    "# why not regular files?\n",
    "# - we need to store data in a structured way"
   ]
  },
  {
   "attachments": {},
   "cell_type": "markdown",
   "metadata": {},
   "source": [
    "## SQL Alchemy\n",
    "\n",
    "For more serious work, we can use SQL Alchemy.\n",
    "\n",
    "Install it with:\n",
    "\n",
    "```bash\n",
    "pip install sqlalchemy\n",
    "```\n",
    "\n",
    "https://www.sqlalchemy.org/\n",
    "\n",
    "Supports many different databases."
   ]
  }
 ],
 "metadata": {
  "kernelspec": {
   "display_name": "Python 3",
   "language": "python",
   "name": "python3"
  },
  "language_info": {
   "codemirror_mode": {
    "name": "ipython",
    "version": 3
   },
   "file_extension": ".py",
   "mimetype": "text/x-python",
   "name": "python",
   "nbconvert_exporter": "python",
   "pygments_lexer": "ipython3",
   "version": "3.11.3"
  },
  "orig_nbformat": 4
 },
 "nbformat": 4,
 "nbformat_minor": 2
}
