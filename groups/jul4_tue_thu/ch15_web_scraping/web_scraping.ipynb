{
 "cells": [
  {
   "cell_type": "markdown",
   "metadata": {},
   "source": [
    "# Web Scraping\n",
    "\n",
    "## Definition\n",
    "\n",
    "Web scraping is the process of extracting data from websites. It is also known as web harvesting or web data extraction. Basically, it is a technique to convert unstructured data on the web (HTML format) into structured data (database or spreadsheet or maybe JSON).\n",
    "\n",
    "## Why Web Scraping?\n",
    "\n",
    "Web scraping can be use for many purposes. For example, you can use web scraping to:\n",
    "\n",
    "*  Collect data for research\n",
    "* Monitor a website for new content\n",
    "* Gather data from a social media website\n",
    "* Scrape product information from an e-commerce website\n",
    "* Scrape online travel reviews\n",
    "* Electricy price monitoring (Nordpool)\n",
    "\n",
    "## When should you scrape?\n",
    "\n",
    "* The website does not provide an API\n",
    "\n",
    "## When scraping is harder\n",
    "\n",
    "* The website is built with JavaScript, if it loads the content dynamically\n",
    "then you need to use a headless browser like [Selenium](https://www.seleniumhq.org/)\n",
    "\n",
    "Today we will look at scraping HTML only."
   ]
  },
  {
   "cell_type": "markdown",
   "metadata": {},
   "source": [
    "## HTML Basics\n",
    "\n",
    "To scrape we need to understand the basics of HTML. HTML stands for HyperText Markup Language. It is the standard markup language for creating web pages. HTML describes the structure of a web page. HTML consists of a series of elements. HTML elements tell the browser how to display the content. HTML elements are represented by tags. HTML tags label pieces of content such as \"heading\", \"paragraph\", \"table\", and so on. Browsers do not display the HTML tags, but use them to render the content of the page.\n",
    "\n",
    "### DOcs on getting started from MDN\n",
    "\n",
    "MDN docs on [getting started with HTML](https://developer.mozilla.org/en-US/docs/Learn/HTML/Introduction_to_HTML/Getting_started)"
   ]
  },
  {
   "cell_type": "markdown",
   "metadata": {},
   "source": [
    "### Anatomy of an HTML element\n",
    "\n",
    "![Anatomy](https://developer.mozilla.org/en-US/docs/Learn/HTML/Introduction_to_HTML/Getting_started/grumpy-cat-small.png)"
   ]
  },
  {
   "cell_type": "markdown",
   "metadata": {},
   "source": [
    "## Self closing tags\n",
    "\n",
    "Note Markdown cells can also contain html.\n",
    "\n",
    "<img\n",
    "  src=\"https://raw.githubusercontent.com/mdn/beginner-html-site/gh-pages/images/firefox-icon.png\"\n",
    "  alt=\"Firefox icon\" />"
   ]
  },
  {
   "cell_type": "markdown",
   "metadata": {},
   "source": [
    "### Element attributes\n",
    "\n",
    "HTML elements can have attributes. Attributes provide additional information about an element. Attributes are always specified in the start tag. Attributes usually come in name/value pairs like: name=\"value\"\n",
    "\n",
    "![example](https://developer.mozilla.org/en-US/docs/Learn/HTML/Introduction_to_HTML/Getting_started/grumpy-cat-attribute-small.png)"
   ]
  },
  {
   "cell_type": "markdown",
   "metadata": {},
   "source": [
    "## Real estate in Latvia\n",
    "\n",
    "We will use ss.com for our scraping needs"
   ]
  },
  {
   "cell_type": "code",
   "execution_count": 1,
   "metadata": {},
   "outputs": [
    {
     "name": "stdout",
     "output_type": "stream",
     "text": [
      "Will scrape from https://www.ss.com/lv/real-estate/flats/riga/centre/sell/\n"
     ]
    }
   ],
   "source": [
    "# first we need an url for real estate listings in Riga\n",
    "# url = 'https://www.ss.com/lv/real-estate/flats/riga/today/sell/' # would work as well for all flats\n",
    "url = 'https://www.ss.com/lv/real-estate/flats/riga/centre/sell/'\n",
    "# will scrape from\n",
    "print(f\"Will scrape from {url}\")"
   ]
  },
  {
   "cell_type": "markdown",
   "metadata": {},
   "source": [
    "## using developer tools to inspect elements\n",
    "\n",
    "We can use built in developer tools to inspect elements on the page.\n",
    "In Chrome right click on the element and select inspect."
   ]
  },
  {
   "cell_type": "code",
   "execution_count": 2,
   "metadata": {},
   "outputs": [
    {
     "name": "stdout",
     "output_type": "stream",
     "text": [
      "Pandas version: 2.0.3\n"
     ]
    }
   ],
   "source": [
    "# first for quick data retrieval we can use pandas which can read html tables\n",
    "\n",
    "# pandas is a huge data analysis library, we will use only a small part of it\n",
    "\n",
    "# pandas docs: https://pandas.pydata.org/pandas-docs/stable/\n",
    "\n",
    "# pandas cheatsheet: https://pandas.pydata.org/Pandas_Cheat_Sheet.pdf\n",
    "\n",
    "# pandas is usually imported as pd\n",
    "import pandas as pd\n",
    "# if we do not have it installed, we can install it with pip install pandas\n",
    "# version   \n",
    "print(f\"Pandas version: {pd.__version__}\")"
   ]
  },
  {
   "cell_type": "code",
   "execution_count": 3,
   "metadata": {},
   "outputs": [
    {
     "name": "stdout",
     "output_type": "stream",
     "text": [
      "Found 6 tables\n"
     ]
    }
   ],
   "source": [
    "# pandas can read html tables from a url\n",
    "\n",
    "# mdn on tables: https://developer.mozilla.org/en-US/docs/Web/HTML/Element/table\n",
    "\n",
    "dfs = pd.read_html(url) # makes a get request to the url and tries to find tables in the html\n",
    "# how many?\n",
    "print(f\"Found {len(dfs)} tables\")"
   ]
  },
  {
   "cell_type": "code",
   "execution_count": 4,
   "metadata": {},
   "outputs": [
    {
     "data": {
      "text/html": [
       "<div>\n",
       "<style scoped>\n",
       "    .dataframe tbody tr th:only-of-type {\n",
       "        vertical-align: middle;\n",
       "    }\n",
       "\n",
       "    .dataframe tbody tr th {\n",
       "        vertical-align: top;\n",
       "    }\n",
       "\n",
       "    .dataframe thead th {\n",
       "        text-align: right;\n",
       "    }\n",
       "</style>\n",
       "<table border=\"1\" class=\"dataframe\">\n",
       "  <thead>\n",
       "    <tr style=\"text-align: right;\">\n",
       "      <th></th>\n",
       "      <th>0</th>\n",
       "      <th>1</th>\n",
       "      <th>2</th>\n",
       "      <th>3</th>\n",
       "      <th>4</th>\n",
       "      <th>5</th>\n",
       "      <th>6</th>\n",
       "      <th>7</th>\n",
       "      <th>8</th>\n",
       "      <th>9</th>\n",
       "    </tr>\n",
       "  </thead>\n",
       "  <tbody>\n",
       "    <tr>\n",
       "      <th>0</th>\n",
       "      <td>Sludinājumi \\tdatums</td>\n",
       "      <td>Sludinājumi \\tdatums</td>\n",
       "      <td>Sludinājumi \\tdatums</td>\n",
       "      <td>Iela</td>\n",
       "      <td>Ist.</td>\n",
       "      <td>m2</td>\n",
       "      <td>Stāvs</td>\n",
       "      <td>Sērija</td>\n",
       "      <td>Cena, m2</td>\n",
       "      <td>Cena</td>\n",
       "    </tr>\n",
       "    <tr>\n",
       "      <th>1</th>\n",
       "      <td>NaN</td>\n",
       "      <td>NaN</td>\n",
       "      <td>Piedāvājumā mēbelēts 1-istabas dzīvoklis Rīgas...</td>\n",
       "      <td>Lienes 6A</td>\n",
       "      <td>1</td>\n",
       "      <td>23</td>\n",
       "      <td>2/2</td>\n",
       "      <td>P. kara</td>\n",
       "      <td>796 €</td>\n",
       "      <td>18,300 €</td>\n",
       "    </tr>\n",
       "    <tr>\n",
       "      <th>2</th>\n",
       "      <td>NaN</td>\n",
       "      <td>NaN</td>\n",
       "      <td>Pārdod dzīvokli tikko pēc kvalitatīva kapitālā...</td>\n",
       "      <td>Stabu 86a</td>\n",
       "      <td>1</td>\n",
       "      <td>28</td>\n",
       "      <td>1/3</td>\n",
       "      <td>P. kara</td>\n",
       "      <td>1,607 €</td>\n",
       "      <td>45,000 €</td>\n",
       "    </tr>\n",
       "    <tr>\n",
       "      <th>3</th>\n",
       "      <td>NaN</td>\n",
       "      <td>NaN</td>\n",
       "      <td>Dzīvojamā platība 160 kv. m. Projekts Park Sid...</td>\n",
       "      <td>Rūpniecības 34A</td>\n",
       "      <td>4</td>\n",
       "      <td>160</td>\n",
       "      <td>5/6</td>\n",
       "      <td>Jaun.</td>\n",
       "      <td>1,997 €</td>\n",
       "      <td>319,500 €</td>\n",
       "    </tr>\n",
       "    <tr>\n",
       "      <th>4</th>\n",
       "      <td>NaN</td>\n",
       "      <td>NaN</td>\n",
       "      <td>Iespēja dzīvot vienā no modernākajiem Latvijas...</td>\n",
       "      <td>J. Daliņa 8</td>\n",
       "      <td>3</td>\n",
       "      <td>89</td>\n",
       "      <td>18/21</td>\n",
       "      <td>Jaun.</td>\n",
       "      <td>2,685 €</td>\n",
       "      <td>239,000 €</td>\n",
       "    </tr>\n",
       "  </tbody>\n",
       "</table>\n",
       "</div>"
      ],
      "text/plain": [
       "                      0                     1  \\\n",
       "0  Sludinājumi \\tdatums  Sludinājumi \\tdatums   \n",
       "1                   NaN                   NaN   \n",
       "2                   NaN                   NaN   \n",
       "3                   NaN                   NaN   \n",
       "4                   NaN                   NaN   \n",
       "\n",
       "                                                   2                3     4  \\\n",
       "0                               Sludinājumi \\tdatums             Iela  Ist.   \n",
       "1  Piedāvājumā mēbelēts 1-istabas dzīvoklis Rīgas...        Lienes 6A     1   \n",
       "2  Pārdod dzīvokli tikko pēc kvalitatīva kapitālā...        Stabu 86a     1   \n",
       "3  Dzīvojamā platība 160 kv. m. Projekts Park Sid...  Rūpniecības 34A     4   \n",
       "4  Iespēja dzīvot vienā no modernākajiem Latvijas...      J. Daliņa 8     3   \n",
       "\n",
       "     5      6        7         8          9  \n",
       "0   m2  Stāvs   Sērija  Cena, m2       Cena  \n",
       "1   23    2/2  P. kara     796 €   18,300 €  \n",
       "2   28    1/3  P. kara   1,607 €   45,000 €  \n",
       "3  160    5/6    Jaun.   1,997 €  319,500 €  \n",
       "4   89  18/21    Jaun.   2,685 €  239,000 €  "
      ]
     },
     "execution_count": 4,
     "metadata": {},
     "output_type": "execute_result"
    }
   ],
   "source": [
    "# so 5th table has our data\n",
    "df = dfs[4]\n",
    "# lets see what we have\n",
    "df.head()"
   ]
  },
  {
   "cell_type": "code",
   "execution_count": 5,
   "metadata": {},
   "outputs": [
    {
     "name": "stdout",
     "output_type": "stream",
     "text": [
      "Found 31 rows\n",
      "Shape: (31, 10)\n"
     ]
    }
   ],
   "source": [
    "# we have how many?\n",
    "print(f\"Found {len(df)} rows\")\n",
    "# shape\n",
    "print(f\"Shape: {df.shape}\")"
   ]
  },
  {
   "cell_type": "code",
   "execution_count": 7,
   "metadata": {},
   "outputs": [
    {
     "data": {
      "text/html": [
       "<div>\n",
       "<style scoped>\n",
       "    .dataframe tbody tr th:only-of-type {\n",
       "        vertical-align: middle;\n",
       "    }\n",
       "\n",
       "    .dataframe tbody tr th {\n",
       "        vertical-align: top;\n",
       "    }\n",
       "\n",
       "    .dataframe thead th {\n",
       "        text-align: right;\n",
       "    }\n",
       "</style>\n",
       "<table border=\"1\" class=\"dataframe\">\n",
       "  <thead>\n",
       "    <tr style=\"text-align: right;\">\n",
       "      <th></th>\n",
       "      <th>Sludinājumi \\tdatums</th>\n",
       "      <th>Sludinājumi \\tdatums</th>\n",
       "      <th>Sludinājumi \\tdatums</th>\n",
       "      <th>Iela</th>\n",
       "      <th>Ist.</th>\n",
       "      <th>m2</th>\n",
       "      <th>Stāvs</th>\n",
       "      <th>Sērija</th>\n",
       "      <th>Cena, m2</th>\n",
       "      <th>Cena</th>\n",
       "    </tr>\n",
       "  </thead>\n",
       "  <tbody>\n",
       "    <tr>\n",
       "      <th>1</th>\n",
       "      <td>NaN</td>\n",
       "      <td>NaN</td>\n",
       "      <td>Piedāvājumā mēbelēts 1-istabas dzīvoklis Rīgas...</td>\n",
       "      <td>Lienes 6A</td>\n",
       "      <td>1</td>\n",
       "      <td>23</td>\n",
       "      <td>2/2</td>\n",
       "      <td>P. kara</td>\n",
       "      <td>796 €</td>\n",
       "      <td>18,300 €</td>\n",
       "    </tr>\n",
       "    <tr>\n",
       "      <th>2</th>\n",
       "      <td>NaN</td>\n",
       "      <td>NaN</td>\n",
       "      <td>Pārdod dzīvokli tikko pēc kvalitatīva kapitālā...</td>\n",
       "      <td>Stabu 86a</td>\n",
       "      <td>1</td>\n",
       "      <td>28</td>\n",
       "      <td>1/3</td>\n",
       "      <td>P. kara</td>\n",
       "      <td>1,607 €</td>\n",
       "      <td>45,000 €</td>\n",
       "    </tr>\n",
       "    <tr>\n",
       "      <th>3</th>\n",
       "      <td>NaN</td>\n",
       "      <td>NaN</td>\n",
       "      <td>Dzīvojamā platība 160 kv. m. Projekts Park Sid...</td>\n",
       "      <td>Rūpniecības 34A</td>\n",
       "      <td>4</td>\n",
       "      <td>160</td>\n",
       "      <td>5/6</td>\n",
       "      <td>Jaun.</td>\n",
       "      <td>1,997 €</td>\n",
       "      <td>319,500 €</td>\n",
       "    </tr>\n",
       "    <tr>\n",
       "      <th>4</th>\n",
       "      <td>NaN</td>\n",
       "      <td>NaN</td>\n",
       "      <td>Iespēja dzīvot vienā no modernākajiem Latvijas...</td>\n",
       "      <td>J. Daliņa 8</td>\n",
       "      <td>3</td>\n",
       "      <td>89</td>\n",
       "      <td>18/21</td>\n",
       "      <td>Jaun.</td>\n",
       "      <td>2,685 €</td>\n",
       "      <td>239,000 €</td>\n",
       "    </tr>\n",
       "    <tr>\n",
       "      <th>5</th>\n",
       "      <td>NaN</td>\n",
       "      <td>NaN</td>\n",
       "      <td>Iespēja dzīvot vienā no modernākajiem Latvijas...</td>\n",
       "      <td>Skanstes 29A</td>\n",
       "      <td>4</td>\n",
       "      <td>125</td>\n",
       "      <td>3/21</td>\n",
       "      <td>Jaun.</td>\n",
       "      <td>2,040 €</td>\n",
       "      <td>255,000 €</td>\n",
       "    </tr>\n",
       "  </tbody>\n",
       "</table>\n",
       "</div>"
      ],
      "text/plain": [
       "0 Sludinājumi \\tdatums Sludinājumi \\tdatums  \\\n",
       "1                  NaN                  NaN   \n",
       "2                  NaN                  NaN   \n",
       "3                  NaN                  NaN   \n",
       "4                  NaN                  NaN   \n",
       "5                  NaN                  NaN   \n",
       "\n",
       "0                               Sludinājumi \\tdatums             Iela Ist.  \\\n",
       "1  Piedāvājumā mēbelēts 1-istabas dzīvoklis Rīgas...        Lienes 6A    1   \n",
       "2  Pārdod dzīvokli tikko pēc kvalitatīva kapitālā...        Stabu 86a    1   \n",
       "3  Dzīvojamā platība 160 kv. m. Projekts Park Sid...  Rūpniecības 34A    4   \n",
       "4  Iespēja dzīvot vienā no modernākajiem Latvijas...      J. Daliņa 8    3   \n",
       "5  Iespēja dzīvot vienā no modernākajiem Latvijas...     Skanstes 29A    4   \n",
       "\n",
       "0   m2  Stāvs   Sērija Cena, m2       Cena  \n",
       "1   23    2/2  P. kara    796 €   18,300 €  \n",
       "2   28    1/3  P. kara  1,607 €   45,000 €  \n",
       "3  160    5/6    Jaun.  1,997 €  319,500 €  \n",
       "4   89  18/21    Jaun.  2,685 €  239,000 €  \n",
       "5  125   3/21    Jaun.  2,040 €  255,000 €  "
      ]
     },
     "execution_count": 7,
     "metadata": {},
     "output_type": "execute_result"
    }
   ],
   "source": [
    "# use first row as column names\n",
    "df.columns = df.iloc[0]\n",
    "# remove first row\n",
    "df = df.iloc[1:]\n",
    "df.head()"
   ]
  },
  {
   "cell_type": "code",
   "execution_count": 8,
   "metadata": {},
   "outputs": [],
   "source": [
    "# so we need to find out the last page for our pagination\n",
    "\n",
    "# we will use requests and beautifulsoup4\n",
    "\n",
    "# requests docs: https://requests.readthedocs.io/en/master/\n",
    "\n",
    "# beutifulsoup4 docs: https://www.crummy.com/software/BeautifulSoup/bs4/doc/\n",
    "\n",
    "# beautiful soup is a html parser because html from requests is a just a big long string\n",
    "\n",
    "import requests\n",
    "from bs4 import BeautifulSoup\n",
    "# if you dot have it installed, you can install it with pip install beautifulsoup4\n",
    "# you might also need to install lxml with pip install lxml for better parsing"
   ]
  },
  {
   "cell_type": "code",
   "execution_count": 9,
   "metadata": {},
   "outputs": [
    {
     "name": "stdout",
     "output_type": "stream",
     "text": [
      "Status code: 200\n",
      "Encoding: UTF-8\n",
      "Text: <!DOCTYPE html>\n",
      "<HTML><HEAD>\n",
      "<title>SS.COM Dzīvokļi - Rīga - Centrs, Cenas, Pārdod - Sludinājumi</\n"
     ]
    }
   ],
   "source": [
    "# so we will make a request to the url\n",
    "r = requests.get(url)\n",
    "# we can check the status code\n",
    "print(f\"Status code: {r.status_code}\")\n",
    "# and the encoding\n",
    "print(f\"Encoding: {r.encoding}\")\n",
    "# first 100 characters\n",
    "print(f\"Text: {r.text[:100]}\")"
   ]
  },
  {
   "cell_type": "code",
   "execution_count": 10,
   "metadata": {},
   "outputs": [
    {
     "name": "stdout",
     "output_type": "stream",
     "text": [
      "Title: <title>SS.COM Dzīvokļi - Rīga - Centrs, Cenas, Pārdod - Sludinājumi</title>\n"
     ]
    }
   ],
   "source": [
    "# we could do parsing by hand but it is much easier with beautiful soup\n",
    "soup = BeautifulSoup(r.text, 'lxml') # lxml is optional, but it is faster\n",
    "# lets get title\n",
    "print(f\"Title: {soup.title}\")"
   ]
  },
  {
   "cell_type": "code",
   "execution_count": 11,
   "metadata": {},
   "outputs": [
    {
     "name": "stdout",
     "output_type": "stream",
     "text": [
      "Found 99 a tags\n"
     ]
    }
   ],
   "source": [
    "# we could find all anchor tags\n",
    "\n",
    "# anchor on mdn : https://developer.mozilla.org/en-US/docs/Web/HTML/Element/a\n",
    "\n",
    "# let's find all a tags\n",
    "a_tags = soup.find_all('a')\n",
    "# how many\n",
    "print(f\"Found {len(a_tags)} a tags\")"
   ]
  },
  {
   "cell_type": "code",
   "execution_count": 13,
   "metadata": {},
   "outputs": [
    {
     "data": {
      "text/plain": [
       "<a href=\"/lv/\" title=\"Sludinājumi\"><img alt=\"Sludinājumi\" border=\"0\" class=\"page_header_logo\" src=\"https://i.ss.com/img/p.gif\"/></a>"
      ]
     },
     "execution_count": 13,
     "metadata": {},
     "output_type": "execute_result"
    }
   ],
   "source": [
    "# if we knew that our anchor is always certain index, we could get it\n",
    "a_tag = a_tags[0]\n",
    "a_tag\n",
    "# but we do not know that, so we will find it by text"
   ]
  },
  {
   "cell_type": "code",
   "execution_count": 14,
   "metadata": {},
   "outputs": [
    {
     "data": {
      "text/plain": [
       "<a class=\"navi\" href=\"/lv/real-estate/flats/riga/centre/sell/page29.html\" name=\"nav_id\" rel=\"prev\"><img border=\"0\" height=\"5\" src=\"https://i.ss.com/img/s_left.png\" style=\"padding-bottom:2px;\" width=\"9\"/> Iepriekšējie</a>"
      ]
     },
     "execution_count": 14,
     "metadata": {},
     "output_type": "execute_result"
    }
   ],
   "source": [
    "# so our anchor has rel attribute and we want prev value\n",
    "# rel on mdn: https://developer.mozilla.org/en-US/docs/Web/HTML/Link_types\n",
    "\n",
    "prev_anchor = soup.find('a', {'rel': 'prev'})\n",
    "# lets see what we have\n",
    "prev_anchor"
   ]
  },
  {
   "cell_type": "code",
   "execution_count": 15,
   "metadata": {},
   "outputs": [
    {
     "data": {
      "text/plain": [
       "'/lv/real-estate/flats/riga/centre/sell/page29.html'"
      ]
     },
     "execution_count": 15,
     "metadata": {},
     "output_type": "execute_result"
    }
   ],
   "source": [
    "# so let's get the href attribute\n",
    "prev_href = prev_anchor.get('href') # so we use get because it is possible that there is no href in general\n",
    "# of cours anchor has href\n",
    "prev_href"
   ]
  },
  {
   "cell_type": "code",
   "execution_count": 17,
   "metadata": {},
   "outputs": [
    {
     "data": {
      "text/plain": [
       "'29'"
      ]
     },
     "execution_count": 17,
     "metadata": {},
     "output_type": "execute_result"
    }
   ],
   "source": [
    "# lets get the number our of our href using splits\n",
    "# split by page then by .\n",
    "number_str = prev_href.split('page')[-1].split('.')[0]\n",
    "number_str"
   ]
  },
  {
   "cell_type": "code",
   "execution_count": 18,
   "metadata": {},
   "outputs": [
    {
     "data": {
      "text/plain": [
       "29"
      ]
     },
     "execution_count": 18,
     "metadata": {},
     "output_type": "execute_result"
    }
   ],
   "source": [
    "last_page = int(number_str)\n",
    "last_page"
   ]
  },
  {
   "cell_type": "code",
   "execution_count": 19,
   "metadata": {},
   "outputs": [
    {
     "data": {
      "text/plain": [
       "['https://www.ss.com/lv/real-estate/flats/riga/centre/sell/',\n",
       " 'https://www.ss.com/lv/real-estate/flats/riga/centre/sell/page2.html',\n",
       " 'https://www.ss.com/lv/real-estate/flats/riga/centre/sell/page3.html',\n",
       " 'https://www.ss.com/lv/real-estate/flats/riga/centre/sell/page4.html',\n",
       " 'https://www.ss.com/lv/real-estate/flats/riga/centre/sell/page5.html',\n",
       " 'https://www.ss.com/lv/real-estate/flats/riga/centre/sell/page6.html',\n",
       " 'https://www.ss.com/lv/real-estate/flats/riga/centre/sell/page7.html',\n",
       " 'https://www.ss.com/lv/real-estate/flats/riga/centre/sell/page8.html',\n",
       " 'https://www.ss.com/lv/real-estate/flats/riga/centre/sell/page9.html',\n",
       " 'https://www.ss.com/lv/real-estate/flats/riga/centre/sell/page10.html',\n",
       " 'https://www.ss.com/lv/real-estate/flats/riga/centre/sell/page11.html',\n",
       " 'https://www.ss.com/lv/real-estate/flats/riga/centre/sell/page12.html',\n",
       " 'https://www.ss.com/lv/real-estate/flats/riga/centre/sell/page13.html',\n",
       " 'https://www.ss.com/lv/real-estate/flats/riga/centre/sell/page14.html',\n",
       " 'https://www.ss.com/lv/real-estate/flats/riga/centre/sell/page15.html',\n",
       " 'https://www.ss.com/lv/real-estate/flats/riga/centre/sell/page16.html',\n",
       " 'https://www.ss.com/lv/real-estate/flats/riga/centre/sell/page17.html',\n",
       " 'https://www.ss.com/lv/real-estate/flats/riga/centre/sell/page18.html',\n",
       " 'https://www.ss.com/lv/real-estate/flats/riga/centre/sell/page19.html',\n",
       " 'https://www.ss.com/lv/real-estate/flats/riga/centre/sell/page20.html',\n",
       " 'https://www.ss.com/lv/real-estate/flats/riga/centre/sell/page21.html',\n",
       " 'https://www.ss.com/lv/real-estate/flats/riga/centre/sell/page22.html',\n",
       " 'https://www.ss.com/lv/real-estate/flats/riga/centre/sell/page23.html',\n",
       " 'https://www.ss.com/lv/real-estate/flats/riga/centre/sell/page24.html',\n",
       " 'https://www.ss.com/lv/real-estate/flats/riga/centre/sell/page25.html',\n",
       " 'https://www.ss.com/lv/real-estate/flats/riga/centre/sell/page26.html',\n",
       " 'https://www.ss.com/lv/real-estate/flats/riga/centre/sell/page27.html',\n",
       " 'https://www.ss.com/lv/real-estate/flats/riga/centre/sell/page28.html',\n",
       " 'https://www.ss.com/lv/real-estate/flats/riga/centre/sell/page29.html']"
      ]
     },
     "execution_count": 19,
     "metadata": {},
     "output_type": "execute_result"
    }
   ],
   "source": [
    "# let's write a function to return a list of urls given url and the last page number\n",
    "def get_urls(url, last_page):\n",
    "    url_list = [url]\n",
    "    for i in range(2, last_page + 1): # we do not have page 1\n",
    "        url_list.append(url + f\"page{i}.html\")\n",
    "\n",
    "    return url_list\n",
    "\n",
    "# lets test it\n",
    "url_list = get_urls(url, last_page)\n",
    "url_list"
   ]
  },
  {
   "cell_type": "code",
   "execution_count": 20,
   "metadata": {},
   "outputs": [
    {
     "name": "stdout",
     "output_type": "stream",
     "text": [
      "Getting data from https://www.ss.com/lv/real-estate/flats/riga/centre/sell/\n",
      "Getting data from https://www.ss.com/lv/real-estate/flats/riga/centre/sell/page2.html\n",
      "Getting data from https://www.ss.com/lv/real-estate/flats/riga/centre/sell/page3.html\n",
      "Getting data from https://www.ss.com/lv/real-estate/flats/riga/centre/sell/page4.html\n",
      "Getting data from https://www.ss.com/lv/real-estate/flats/riga/centre/sell/page5.html\n",
      "Getting data from https://www.ss.com/lv/real-estate/flats/riga/centre/sell/page6.html\n",
      "Getting data from https://www.ss.com/lv/real-estate/flats/riga/centre/sell/page7.html\n",
      "Getting data from https://www.ss.com/lv/real-estate/flats/riga/centre/sell/page8.html\n",
      "Getting data from https://www.ss.com/lv/real-estate/flats/riga/centre/sell/page9.html\n",
      "Getting data from https://www.ss.com/lv/real-estate/flats/riga/centre/sell/page10.html\n",
      "Getting data from https://www.ss.com/lv/real-estate/flats/riga/centre/sell/page11.html\n",
      "Getting data from https://www.ss.com/lv/real-estate/flats/riga/centre/sell/page12.html\n",
      "Getting data from https://www.ss.com/lv/real-estate/flats/riga/centre/sell/page13.html\n",
      "Getting data from https://www.ss.com/lv/real-estate/flats/riga/centre/sell/page14.html\n",
      "Getting data from https://www.ss.com/lv/real-estate/flats/riga/centre/sell/page15.html\n",
      "Getting data from https://www.ss.com/lv/real-estate/flats/riga/centre/sell/page16.html\n",
      "Getting data from https://www.ss.com/lv/real-estate/flats/riga/centre/sell/page17.html\n",
      "Getting data from https://www.ss.com/lv/real-estate/flats/riga/centre/sell/page18.html\n",
      "Getting data from https://www.ss.com/lv/real-estate/flats/riga/centre/sell/page19.html\n",
      "Getting data from https://www.ss.com/lv/real-estate/flats/riga/centre/sell/page20.html\n",
      "Getting data from https://www.ss.com/lv/real-estate/flats/riga/centre/sell/page21.html\n",
      "Getting data from https://www.ss.com/lv/real-estate/flats/riga/centre/sell/page22.html\n",
      "Getting data from https://www.ss.com/lv/real-estate/flats/riga/centre/sell/page23.html\n",
      "Getting data from https://www.ss.com/lv/real-estate/flats/riga/centre/sell/page24.html\n",
      "Getting data from https://www.ss.com/lv/real-estate/flats/riga/centre/sell/page25.html\n",
      "Getting data from https://www.ss.com/lv/real-estate/flats/riga/centre/sell/page26.html\n",
      "Getting data from https://www.ss.com/lv/real-estate/flats/riga/centre/sell/page27.html\n",
      "Getting data from https://www.ss.com/lv/real-estate/flats/riga/centre/sell/page28.html\n",
      "Getting data from https://www.ss.com/lv/real-estate/flats/riga/centre/sell/page29.html\n"
     ]
    },
    {
     "data": {
      "text/html": [
       "<div>\n",
       "<style scoped>\n",
       "    .dataframe tbody tr th:only-of-type {\n",
       "        vertical-align: middle;\n",
       "    }\n",
       "\n",
       "    .dataframe tbody tr th {\n",
       "        vertical-align: top;\n",
       "    }\n",
       "\n",
       "    .dataframe thead th {\n",
       "        text-align: right;\n",
       "    }\n",
       "</style>\n",
       "<table border=\"1\" class=\"dataframe\">\n",
       "  <thead>\n",
       "    <tr style=\"text-align: right;\">\n",
       "      <th></th>\n",
       "      <th>0</th>\n",
       "      <th>1</th>\n",
       "      <th>2</th>\n",
       "      <th>3</th>\n",
       "      <th>4</th>\n",
       "      <th>5</th>\n",
       "      <th>6</th>\n",
       "      <th>7</th>\n",
       "      <th>8</th>\n",
       "      <th>9</th>\n",
       "    </tr>\n",
       "  </thead>\n",
       "  <tbody>\n",
       "    <tr>\n",
       "      <th>0</th>\n",
       "      <td>Sludinājumi \\tdatums</td>\n",
       "      <td>Sludinājumi \\tdatums</td>\n",
       "      <td>Sludinājumi \\tdatums</td>\n",
       "      <td>Iela</td>\n",
       "      <td>Ist.</td>\n",
       "      <td>m2</td>\n",
       "      <td>Stāvs</td>\n",
       "      <td>Sērija</td>\n",
       "      <td>Cena, m2</td>\n",
       "      <td>Cena</td>\n",
       "    </tr>\n",
       "    <tr>\n",
       "      <th>1</th>\n",
       "      <td>NaN</td>\n",
       "      <td>NaN</td>\n",
       "      <td>Greznā, skaistā ēkā tiek pārdots plašs, mēbelē...</td>\n",
       "      <td>Klijānu 6</td>\n",
       "      <td>2</td>\n",
       "      <td>53</td>\n",
       "      <td>3/9</td>\n",
       "      <td>Renov.</td>\n",
       "      <td>1,604 €</td>\n",
       "      <td>85,000 €</td>\n",
       "    </tr>\n",
       "  </tbody>\n",
       "</table>\n",
       "</div>"
      ],
      "text/plain": [
       "                      0                     1  \\\n",
       "0  Sludinājumi \\tdatums  Sludinājumi \\tdatums   \n",
       "1                   NaN                   NaN   \n",
       "\n",
       "                                                   2          3     4   5  \\\n",
       "0                               Sludinājumi \\tdatums       Iela  Ist.  m2   \n",
       "1  Greznā, skaistā ēkā tiek pārdots plašs, mēbelē...  Klijānu 6     2  53   \n",
       "\n",
       "       6       7         8         9  \n",
       "0  Stāvs  Sērija  Cena, m2      Cena  \n",
       "1    3/9  Renov.   1,604 €  85,000 €  "
      ]
     },
     "execution_count": 20,
     "metadata": {},
     "output_type": "execute_result"
    }
   ],
   "source": [
    "# now we have a list we can use our pandas to get all the data\n",
    "# only thing let's add a small delay 0.3-0.5 seconds between requests\n",
    "import time\n",
    "\n",
    "dfs = []\n",
    "for url in url_list:\n",
    "    print(f\"Getting data from {url}\")\n",
    "    dfs.append(pd.read_html(url)[4]) # remember we had to get 5th table\n",
    "    time.sleep(0.3)\n",
    "# we got a list of dataframes\n",
    "# let's print last one\n",
    "dfs[-1].head()"
   ]
  },
  {
   "cell_type": "code",
   "execution_count": 21,
   "metadata": {},
   "outputs": [
    {
     "name": "stdout",
     "output_type": "stream",
     "text": [
      "Shape: (870, 10)\n"
     ]
    }
   ],
   "source": [
    "# now let's add them all up\n",
    "df = pd.concat(dfs)\n",
    "# shape\n",
    "print(f\"Shape: {df.shape}\")"
   ]
  },
  {
   "cell_type": "code",
   "execution_count": 22,
   "metadata": {},
   "outputs": [
    {
     "data": {
      "text/html": [
       "<div>\n",
       "<style scoped>\n",
       "    .dataframe tbody tr th:only-of-type {\n",
       "        vertical-align: middle;\n",
       "    }\n",
       "\n",
       "    .dataframe tbody tr th {\n",
       "        vertical-align: top;\n",
       "    }\n",
       "\n",
       "    .dataframe thead th {\n",
       "        text-align: right;\n",
       "    }\n",
       "</style>\n",
       "<table border=\"1\" class=\"dataframe\">\n",
       "  <thead>\n",
       "    <tr style=\"text-align: right;\">\n",
       "      <th></th>\n",
       "      <th>0</th>\n",
       "      <th>1</th>\n",
       "      <th>2</th>\n",
       "      <th>3</th>\n",
       "      <th>4</th>\n",
       "      <th>5</th>\n",
       "      <th>6</th>\n",
       "      <th>7</th>\n",
       "      <th>8</th>\n",
       "      <th>9</th>\n",
       "    </tr>\n",
       "  </thead>\n",
       "  <tbody>\n",
       "    <tr>\n",
       "      <th>0</th>\n",
       "      <td>Sludinājumi \\tdatums</td>\n",
       "      <td>Sludinājumi \\tdatums</td>\n",
       "      <td>Sludinājumi \\tdatums</td>\n",
       "      <td>Iela</td>\n",
       "      <td>Ist.</td>\n",
       "      <td>m2</td>\n",
       "      <td>Stāvs</td>\n",
       "      <td>Sērija</td>\n",
       "      <td>Cena, m2</td>\n",
       "      <td>Cena</td>\n",
       "    </tr>\n",
       "    <tr>\n",
       "      <th>1</th>\n",
       "      <td>NaN</td>\n",
       "      <td>NaN</td>\n",
       "      <td>Pārdod 5 ist dzīvokli ar 2 ieejām arhitekta Re...</td>\n",
       "      <td>Skolas 36a</td>\n",
       "      <td>5</td>\n",
       "      <td>115</td>\n",
       "      <td>1/4</td>\n",
       "      <td>P. kara</td>\n",
       "      <td>1,591 €</td>\n",
       "      <td>183,000 €</td>\n",
       "    </tr>\n",
       "    <tr>\n",
       "      <th>2</th>\n",
       "      <td>NaN</td>\n",
       "      <td>NaN</td>\n",
       "      <td>Piedāvājumā mēbelēts 1-istabas dzīvoklis Rīgas...</td>\n",
       "      <td>Lienes 6A</td>\n",
       "      <td>1</td>\n",
       "      <td>23</td>\n",
       "      <td>2/2</td>\n",
       "      <td>P. kara</td>\n",
       "      <td>796 €</td>\n",
       "      <td>18,300 €</td>\n",
       "    </tr>\n",
       "    <tr>\n",
       "      <th>3</th>\n",
       "      <td>NaN</td>\n",
       "      <td>NaN</td>\n",
       "      <td>Pārdod dzīvokli tikko pēc kvalitatīva kapitālā...</td>\n",
       "      <td>Stabu 86a</td>\n",
       "      <td>1</td>\n",
       "      <td>28</td>\n",
       "      <td>1/3</td>\n",
       "      <td>P. kara</td>\n",
       "      <td>1,607 €</td>\n",
       "      <td>45,000 €</td>\n",
       "    </tr>\n",
       "    <tr>\n",
       "      <th>4</th>\n",
       "      <td>NaN</td>\n",
       "      <td>NaN</td>\n",
       "      <td>Dzīvojamā platība 160 kv. m. Projekts Park Sid...</td>\n",
       "      <td>Rūpniecības 34A</td>\n",
       "      <td>4</td>\n",
       "      <td>160</td>\n",
       "      <td>5/6</td>\n",
       "      <td>Jaun.</td>\n",
       "      <td>1,997 €</td>\n",
       "      <td>319,500 €</td>\n",
       "    </tr>\n",
       "    <tr>\n",
       "      <th>5</th>\n",
       "      <td>NaN</td>\n",
       "      <td>NaN</td>\n",
       "      <td>Iespēja dzīvot vienā no modernākajiem Latvijas...</td>\n",
       "      <td>J. Daliņa 8</td>\n",
       "      <td>3</td>\n",
       "      <td>89</td>\n",
       "      <td>18/21</td>\n",
       "      <td>Jaun.</td>\n",
       "      <td>2,685 €</td>\n",
       "      <td>239,000 €</td>\n",
       "    </tr>\n",
       "    <tr>\n",
       "      <th>6</th>\n",
       "      <td>NaN</td>\n",
       "      <td>NaN</td>\n",
       "      <td>Iespēja dzīvot vienā no modernākajiem Latvijas...</td>\n",
       "      <td>Skanstes 29A</td>\n",
       "      <td>4</td>\n",
       "      <td>125</td>\n",
       "      <td>3/21</td>\n",
       "      <td>Jaun.</td>\n",
       "      <td>2,040 €</td>\n",
       "      <td>255,000 €</td>\n",
       "    </tr>\n",
       "    <tr>\n",
       "      <th>7</th>\n",
       "      <td>NaN</td>\n",
       "      <td>NaN</td>\n",
       "      <td>Pārdodas gaišs, saulains, mājīgs un plašs dzīv...</td>\n",
       "      <td>Vīlandes 5</td>\n",
       "      <td>4</td>\n",
       "      <td>200</td>\n",
       "      <td>4/5</td>\n",
       "      <td>Renov.</td>\n",
       "      <td>2,250 €</td>\n",
       "      <td>450,000 €</td>\n",
       "    </tr>\n",
       "    <tr>\n",
       "      <th>8</th>\n",
       "      <td>NaN</td>\n",
       "      <td>NaN</td>\n",
       "      <td>Piedāvājam iegādāties gaišu četristabu dzīvokl...</td>\n",
       "      <td>Sporta 1</td>\n",
       "      <td>4</td>\n",
       "      <td>125</td>\n",
       "      <td>2/6</td>\n",
       "      <td>Specpr.</td>\n",
       "      <td>2,000 €</td>\n",
       "      <td>250,000 €</td>\n",
       "    </tr>\n",
       "    <tr>\n",
       "      <th>9</th>\n",
       "      <td>NaN</td>\n",
       "      <td>NaN</td>\n",
       "      <td>Īpašnieks pārdod daļu no vēsturiskās ēkas pašā...</td>\n",
       "      <td>Marijas 1</td>\n",
       "      <td>Citi</td>\n",
       "      <td>315</td>\n",
       "      <td>2/6</td>\n",
       "      <td>P. kara</td>\n",
       "      <td>1,556 €</td>\n",
       "      <td>490,000 €</td>\n",
       "    </tr>\n",
       "  </tbody>\n",
       "</table>\n",
       "</div>"
      ],
      "text/plain": [
       "                      0                     1  \\\n",
       "0  Sludinājumi \\tdatums  Sludinājumi \\tdatums   \n",
       "1                   NaN                   NaN   \n",
       "2                   NaN                   NaN   \n",
       "3                   NaN                   NaN   \n",
       "4                   NaN                   NaN   \n",
       "5                   NaN                   NaN   \n",
       "6                   NaN                   NaN   \n",
       "7                   NaN                   NaN   \n",
       "8                   NaN                   NaN   \n",
       "9                   NaN                   NaN   \n",
       "\n",
       "                                                   2                3     4  \\\n",
       "0                               Sludinājumi \\tdatums             Iela  Ist.   \n",
       "1  Pārdod 5 ist dzīvokli ar 2 ieejām arhitekta Re...       Skolas 36a     5   \n",
       "2  Piedāvājumā mēbelēts 1-istabas dzīvoklis Rīgas...        Lienes 6A     1   \n",
       "3  Pārdod dzīvokli tikko pēc kvalitatīva kapitālā...        Stabu 86a     1   \n",
       "4  Dzīvojamā platība 160 kv. m. Projekts Park Sid...  Rūpniecības 34A     4   \n",
       "5  Iespēja dzīvot vienā no modernākajiem Latvijas...      J. Daliņa 8     3   \n",
       "6  Iespēja dzīvot vienā no modernākajiem Latvijas...     Skanstes 29A     4   \n",
       "7  Pārdodas gaišs, saulains, mājīgs un plašs dzīv...       Vīlandes 5     4   \n",
       "8  Piedāvājam iegādāties gaišu četristabu dzīvokl...         Sporta 1     4   \n",
       "9  Īpašnieks pārdod daļu no vēsturiskās ēkas pašā...        Marijas 1  Citi   \n",
       "\n",
       "     5      6        7         8          9  \n",
       "0   m2  Stāvs   Sērija  Cena, m2       Cena  \n",
       "1  115    1/4  P. kara   1,591 €  183,000 €  \n",
       "2   23    2/2  P. kara     796 €   18,300 €  \n",
       "3   28    1/3  P. kara   1,607 €   45,000 €  \n",
       "4  160    5/6    Jaun.   1,997 €  319,500 €  \n",
       "5   89  18/21    Jaun.   2,685 €  239,000 €  \n",
       "6  125   3/21    Jaun.   2,040 €  255,000 €  \n",
       "7  200    4/5   Renov.   2,250 €  450,000 €  \n",
       "8  125    2/6  Specpr.   2,000 €  250,000 €  \n",
       "9  315    2/6  P. kara   1,556 €  490,000 €  "
      ]
     },
     "execution_count": 22,
     "metadata": {},
     "output_type": "execute_result"
    }
   ],
   "source": [
    "# first 10\n",
    "df.head(10)"
   ]
  },
  {
   "cell_type": "code",
   "execution_count": 23,
   "metadata": {},
   "outputs": [
    {
     "name": "stdout",
     "output_type": "stream",
     "text": [
      "Shape: (841, 10)\n"
     ]
    }
   ],
   "source": [
    "# use first row as column names\n",
    "df.columns = df.iloc[0]\n",
    "# then remove rows where Cena is in last column\n",
    "df = df[df['Cena'].str.contains('Cena') == False]\n",
    "# shape\n",
    "print(f\"Shape: {df.shape}\")"
   ]
  },
  {
   "cell_type": "code",
   "execution_count": 24,
   "metadata": {},
   "outputs": [
    {
     "name": "stdout",
     "output_type": "stream",
     "text": [
      "<class 'pandas.core.frame.DataFrame'>\n",
      "Index: 841 entries, 1 to 1\n",
      "Data columns (total 11 columns):\n",
      " #   Column               Non-Null Count  Dtype \n",
      "---  ------               --------------  ----- \n",
      " 0   Sludinājumi \tdatums  0 non-null      object\n",
      " 1   Sludinājumi \tdatums  0 non-null      object\n",
      " 2   Sludinājumi \tdatums  841 non-null    object\n",
      " 3   Iela                 841 non-null    object\n",
      " 4   Ist.                 841 non-null    object\n",
      " 5   m2                   841 non-null    object\n",
      " 6   Stāvs                841 non-null    object\n",
      " 7   Sērija               841 non-null    object\n",
      " 8   Cena, m2             841 non-null    object\n",
      " 9   Cena                 841 non-null    object\n",
      " 10  Price                841 non-null    int32 \n",
      "dtypes: int32(1), object(10)\n",
      "memory usage: 75.6+ KB\n"
     ]
    }
   ],
   "source": [
    "# lets make a price column that contains digits only from Cena\n",
    "df['Price'] = df['Cena'].str.extract('(\\d+)').astype(int)\n",
    "# get info about our dataframe\n",
    "df.info()"
   ]
  },
  {
   "cell_type": "code",
   "execution_count": 25,
   "metadata": {},
   "outputs": [
    {
     "data": {
      "text/html": [
       "<div>\n",
       "<style scoped>\n",
       "    .dataframe tbody tr th:only-of-type {\n",
       "        vertical-align: middle;\n",
       "    }\n",
       "\n",
       "    .dataframe tbody tr th {\n",
       "        vertical-align: top;\n",
       "    }\n",
       "\n",
       "    .dataframe thead th {\n",
       "        text-align: right;\n",
       "    }\n",
       "</style>\n",
       "<table border=\"1\" class=\"dataframe\">\n",
       "  <thead>\n",
       "    <tr style=\"text-align: right;\">\n",
       "      <th></th>\n",
       "      <th>Price</th>\n",
       "    </tr>\n",
       "  </thead>\n",
       "  <tbody>\n",
       "    <tr>\n",
       "      <th>count</th>\n",
       "      <td>841.000000</td>\n",
       "    </tr>\n",
       "    <tr>\n",
       "      <th>mean</th>\n",
       "      <td>149.219976</td>\n",
       "    </tr>\n",
       "    <tr>\n",
       "      <th>std</th>\n",
       "      <td>110.215667</td>\n",
       "    </tr>\n",
       "    <tr>\n",
       "      <th>min</th>\n",
       "      <td>1.000000</td>\n",
       "    </tr>\n",
       "    <tr>\n",
       "      <th>25%</th>\n",
       "      <td>73.000000</td>\n",
       "    </tr>\n",
       "    <tr>\n",
       "      <th>50%</th>\n",
       "      <td>117.000000</td>\n",
       "    </tr>\n",
       "    <tr>\n",
       "      <th>75%</th>\n",
       "      <td>195.000000</td>\n",
       "    </tr>\n",
       "    <tr>\n",
       "      <th>max</th>\n",
       "      <td>800.000000</td>\n",
       "    </tr>\n",
       "  </tbody>\n",
       "</table>\n",
       "</div>"
      ],
      "text/plain": [
       "0           Price\n",
       "count  841.000000\n",
       "mean   149.219976\n",
       "std    110.215667\n",
       "min      1.000000\n",
       "25%     73.000000\n",
       "50%    117.000000\n",
       "75%    195.000000\n",
       "max    800.000000"
      ]
     },
     "execution_count": 25,
     "metadata": {},
     "output_type": "execute_result"
    }
   ],
   "source": [
    "# we could get basic stats on price\n",
    "df.describe() # all numeric columns we only have one i think"
   ]
  },
  {
   "cell_type": "code",
   "execution_count": 26,
   "metadata": {},
   "outputs": [
    {
     "data": {
      "text/html": [
       "<div>\n",
       "<style scoped>\n",
       "    .dataframe tbody tr th:only-of-type {\n",
       "        vertical-align: middle;\n",
       "    }\n",
       "\n",
       "    .dataframe tbody tr th {\n",
       "        vertical-align: top;\n",
       "    }\n",
       "\n",
       "    .dataframe thead tr th {\n",
       "        text-align: left;\n",
       "    }\n",
       "\n",
       "    .dataframe thead tr:last-of-type th {\n",
       "        text-align: right;\n",
       "    }\n",
       "</style>\n",
       "<table border=\"1\" class=\"dataframe\">\n",
       "  <thead>\n",
       "    <tr>\n",
       "      <th></th>\n",
       "      <th colspan=\"8\" halign=\"left\">Price</th>\n",
       "    </tr>\n",
       "    <tr>\n",
       "      <th></th>\n",
       "      <th>count</th>\n",
       "      <th>mean</th>\n",
       "      <th>std</th>\n",
       "      <th>min</th>\n",
       "      <th>25%</th>\n",
       "      <th>50%</th>\n",
       "      <th>75%</th>\n",
       "      <th>max</th>\n",
       "    </tr>\n",
       "    <tr>\n",
       "      <th>Ist.</th>\n",
       "      <th></th>\n",
       "      <th></th>\n",
       "      <th></th>\n",
       "      <th></th>\n",
       "      <th></th>\n",
       "      <th></th>\n",
       "      <th></th>\n",
       "      <th></th>\n",
       "    </tr>\n",
       "  </thead>\n",
       "  <tbody>\n",
       "    <tr>\n",
       "      <th>1</th>\n",
       "      <td>121.0</td>\n",
       "      <td>56.413223</td>\n",
       "      <td>33.506634</td>\n",
       "      <td>11.0</td>\n",
       "      <td>37.00</td>\n",
       "      <td>45.0</td>\n",
       "      <td>64.00</td>\n",
       "      <td>210.0</td>\n",
       "    </tr>\n",
       "    <tr>\n",
       "      <th>2</th>\n",
       "      <td>292.0</td>\n",
       "      <td>96.691781</td>\n",
       "      <td>45.696303</td>\n",
       "      <td>19.0</td>\n",
       "      <td>64.75</td>\n",
       "      <td>89.5</td>\n",
       "      <td>116.25</td>\n",
       "      <td>350.0</td>\n",
       "    </tr>\n",
       "    <tr>\n",
       "      <th>3</th>\n",
       "      <td>251.0</td>\n",
       "      <td>182.055777</td>\n",
       "      <td>97.629856</td>\n",
       "      <td>9.0</td>\n",
       "      <td>117.00</td>\n",
       "      <td>161.0</td>\n",
       "      <td>220.00</td>\n",
       "      <td>681.0</td>\n",
       "    </tr>\n",
       "    <tr>\n",
       "      <th>4</th>\n",
       "      <td>107.0</td>\n",
       "      <td>239.747664</td>\n",
       "      <td>121.155529</td>\n",
       "      <td>1.0</td>\n",
       "      <td>145.00</td>\n",
       "      <td>226.0</td>\n",
       "      <td>295.00</td>\n",
       "      <td>690.0</td>\n",
       "    </tr>\n",
       "    <tr>\n",
       "      <th>5</th>\n",
       "      <td>39.0</td>\n",
       "      <td>281.435897</td>\n",
       "      <td>151.103275</td>\n",
       "      <td>1.0</td>\n",
       "      <td>193.00</td>\n",
       "      <td>249.0</td>\n",
       "      <td>326.50</td>\n",
       "      <td>800.0</td>\n",
       "    </tr>\n",
       "    <tr>\n",
       "      <th>6</th>\n",
       "      <td>25.0</td>\n",
       "      <td>271.720000</td>\n",
       "      <td>135.410955</td>\n",
       "      <td>75.0</td>\n",
       "      <td>187.00</td>\n",
       "      <td>245.0</td>\n",
       "      <td>318.00</td>\n",
       "      <td>650.0</td>\n",
       "    </tr>\n",
       "    <tr>\n",
       "      <th>Citi</th>\n",
       "      <td>6.0</td>\n",
       "      <td>219.333333</td>\n",
       "      <td>163.209885</td>\n",
       "      <td>89.0</td>\n",
       "      <td>106.75</td>\n",
       "      <td>142.5</td>\n",
       "      <td>303.50</td>\n",
       "      <td>490.0</td>\n",
       "    </tr>\n",
       "  </tbody>\n",
       "</table>\n",
       "</div>"
      ],
      "text/plain": [
       "0     Price                                                            \n",
       "      count        mean         std   min     25%    50%     75%    max\n",
       "Ist.                                                                   \n",
       "1     121.0   56.413223   33.506634  11.0   37.00   45.0   64.00  210.0\n",
       "2     292.0   96.691781   45.696303  19.0   64.75   89.5  116.25  350.0\n",
       "3     251.0  182.055777   97.629856   9.0  117.00  161.0  220.00  681.0\n",
       "4     107.0  239.747664  121.155529   1.0  145.00  226.0  295.00  690.0\n",
       "5      39.0  281.435897  151.103275   1.0  193.00  249.0  326.50  800.0\n",
       "6      25.0  271.720000  135.410955  75.0  187.00  245.0  318.00  650.0\n",
       "Citi    6.0  219.333333  163.209885  89.0  106.75  142.5  303.50  490.0"
      ]
     },
     "execution_count": 26,
     "metadata": {},
     "output_type": "execute_result"
    }
   ],
   "source": [
    "# let's group by Ist. and get price stats\n",
    "df.groupby('Ist.').describe()"
   ]
  },
  {
   "cell_type": "code",
   "execution_count": 31,
   "metadata": {},
   "outputs": [],
   "source": [
    "# i can resulsts in many formats\n",
    "# let's add datestamp to file name\n",
    "import datetime\n",
    "# get current date\n",
    "datestamp = datetime.datetime.now().strftime(\"%Y_%m_%d\")\n",
    "file_name_stem = f\"riga_centrs_{datestamp}\"\n",
    "\n",
    "# let's convert index to numeric sequence from 0 to len(df)\n",
    "df.reset_index(inplace=True, drop=True)\n",
    "# save to csv\n",
    "df.to_csv(file_name_stem + \".csv\", index=False)\n",
    "# save to excel\n",
    "df.to_excel(file_name_stem + \".xlsx\", index=False)\n",
    "# save to json\n",
    "# df.to_json(file_name_stem + \".json\", orient='records')\n",
    "# we could save to sql to and pickle and many other formats"
   ]
  },
  {
   "cell_type": "code",
   "execution_count": 32,
   "metadata": {},
   "outputs": [
    {
     "data": {
      "text/plain": [
       "<tr id=\"head_line\">\n",
       "<td class=\"msg_column\" colspan=\"3\" width=\"70%\">\n",
       "<span style=\"float:left;\"> Sludinājumi\n",
       "</span>\n",
       "<span align=\"right\" class=\"msg_column\" style=\"float:right;text-align:right;padding-right:3px;\">\n",
       "<noindex>\n",
       "<a class=\"a19\" href=\"/lv/real-estate/flats/riga/centre/sell/fDgSeF4S.html\" rel=\"nofollow\">datums</a></noindex></span>\n",
       "</td>\n",
       "<td class=\"msg_column_td\" nowrap=\"\"><noindex><a class=\"a18\" href=\"/lv/real-estate/flats/riga/centre/sell/fDgSeF4SFDwT.html\" rel=\"nofollow\" title=\"\">Iela</a></noindex></td><td class=\"msg_column_td\" nowrap=\"\"><noindex><a class=\"a18\" href=\"/lv/real-estate/flats/riga/centre/sell/fDgSeF4SelM=.html\" rel=\"nofollow\" title=\"\">Ist.</a></noindex></td><td class=\"msg_column_td\" nowrap=\"\"><noindex><a class=\"a18\" href=\"/lv/real-estate/flats/riga/centre/sell/fDgSeF4QelM=.html\" rel=\"nofollow\" title=\"\">m2</a></noindex></td><td class=\"msg_column_td\" nowrap=\"\"><noindex><a class=\"a18\" href=\"/lv/real-estate/flats/riga/centre/sell/fDgSeF4XelM=.html\" rel=\"nofollow\" title=\"\">Stāvs</a></noindex></td><td class=\"msg_column_td\" nowrap=\"\"><noindex><a class=\"a18\" href=\"/lv/real-estate/flats/riga/centre/sell/fDgSeF4VelM=.html\" rel=\"nofollow\" title=\"\">Sērija</a></noindex></td><td background=\"https://i.ss.com/img/pl.gif\" class=\"msg_column\" nowrap=\"\" style=\"border-left:1px #FFFFFF solid;\"><noindex><a class=\"a18\" href=\"/lv/real-estate/flats/riga/centre/sell/fDgSeF4bRDwT.html\" rel=\"nofollow\">Cena, m2</a></noindex></td><td class=\"msg_column_td\" nowrap=\"\"><noindex><a class=\"a18\" href=\"/lv/real-estate/flats/riga/centre/sell/fDgSeF4belM=.html\" rel=\"nofollow\" title=\"\">Cena</a></noindex></td></tr>"
      ]
     },
     "execution_count": 32,
     "metadata": {},
     "output_type": "execute_result"
    }
   ],
   "source": [
    "# IF my html does not have table or has extra requirments, i can use beautiful soup to get the data\n",
    "\n",
    "# i still have soup let's get column names\n",
    "# we want tr element with id = 'head_line'\n",
    "head_line = soup.find('tr', {'id': 'head_line'})\n",
    "# let's see what we have\n",
    "head_line"
   ]
  },
  {
   "cell_type": "code",
   "execution_count": 33,
   "metadata": {},
   "outputs": [
    {
     "name": "stdout",
     "output_type": "stream",
     "text": [
      "Found 8 tds\n"
     ]
    }
   ],
   "source": [
    "# i can get td from my head_line tr element\n",
    "tds = head_line.find_all('td')\n",
    "# how many\n",
    "print(f\"Found {len(tds)} tds\")"
   ]
  },
  {
   "cell_type": "code",
   "execution_count": 34,
   "metadata": {},
   "outputs": [
    {
     "data": {
      "text/plain": [
       "['\\n\\xa0Sludinājumi\\r\\n\\n\\n\\ndatums\\n',\n",
       " 'Iela',\n",
       " 'Ist.',\n",
       " 'm2',\n",
       " 'Stāvs',\n",
       " 'Sērija',\n",
       " 'Cena, m2',\n",
       " 'Cena']"
      ]
     },
     "execution_count": 34,
     "metadata": {},
     "output_type": "execute_result"
    }
   ],
   "source": [
    "# i can extract text for each td\n",
    "tds_text = [td.text for td in tds]\n",
    "tds_text"
   ]
  },
  {
   "cell_type": "code",
   "execution_count": 36,
   "metadata": {},
   "outputs": [
    {
     "name": "stdout",
     "output_type": "stream",
     "text": [
      "Found 39 tr tags\n",
      "Found 30 ads tr tags\n"
     ]
    }
   ],
   "source": [
    "# idea to get ads here look for tr elements whose ids start with tr_\n",
    "\n",
    "# let's get all tr elements\n",
    "tr_tags = soup.find_all('tr')\n",
    "# how many\n",
    "print(f\"Found {len(tr_tags)} tr tags\")\n",
    "# now only ads trs\n",
    "ads_tr_tags = [tr for tr in tr_tags if tr.get('id', '').startswith('tr_') and not tr['id'].startswith('tr_bnr')]\n",
    "# trick is to use get with default value of '' so we do not get None\n",
    "# because it is possible there id is not there then starswith would fail\n",
    "# now I can convert to list of texts\n",
    "# how many\n",
    "print(f\"Found {len(ads_tr_tags)} ads tr tags\")\n"
   ]
  },
  {
   "cell_type": "code",
   "execution_count": 43,
   "metadata": {},
   "outputs": [
    {
     "data": {
      "text/plain": [
       "[['',\n",
       "  '',\n",
       "  'Piedāvājumā mēbelēts 1-istabas dzīvoklis Rīgas centrā. Ķieģeļu m',\n",
       "  'Lienes 6A',\n",
       "  '1',\n",
       "  '23',\n",
       "  '2/2',\n",
       "  'P. kara',\n",
       "  '796 €',\n",
       "  '18,300  €'],\n",
       " ['',\n",
       "  '',\n",
       "  'Pārdod dzīvokli tikko pēc kvalitatīva kapitālā remonta ar logiem',\n",
       "  'Stabu 86a',\n",
       "  '1',\n",
       "  '28',\n",
       "  '1/3',\n",
       "  'P. kara',\n",
       "  '1,607 €',\n",
       "  '45,000  €']]"
      ]
     },
     "execution_count": 43,
     "metadata": {},
     "output_type": "execute_result"
    }
   ],
   "source": [
    "ads_texts = []\n",
    "for tr in ads_tr_tags:\n",
    "    tds = tr.find_all('td')\n",
    "    tds_text = [td.text for td in tds]\n",
    "    ads_texts.append(tds_text)\n",
    "# let's look at first 2\n",
    "ads_texts[:2]"
   ]
  },
  {
   "cell_type": "code",
   "execution_count": 44,
   "metadata": {},
   "outputs": [
    {
     "data": {
      "text/plain": [
       "['/msg/lv/real-estate/flats/riga/centre/dgogx.html',\n",
       " '/msg/lv/real-estate/flats/riga/centre/cdijn.html',\n",
       " '/msg/lv/real-estate/flats/riga/centre/bcomkb.html']"
      ]
     },
     "execution_count": 44,
     "metadata": {},
     "output_type": "execute_result"
    }
   ],
   "source": [
    "# now let's extract url for each ad from 2nd td anchor element hrefe\n",
    "# we can use list comprehension\n",
    "ads_urls = [tr.find_all('td')[1].find('a').get('href') for tr in ads_tr_tags]\n",
    "# first 3\n",
    "ads_urls[:3]"
   ]
  },
  {
   "cell_type": "code",
   "execution_count": 48,
   "metadata": {},
   "outputs": [
    {
     "data": {
      "text/plain": [
       "['https://www.ss.com/msg/lv/real-estate/flats/riga/centre/dgogx.html',\n",
       " 'https://www.ss.com/msg/lv/real-estate/flats/riga/centre/cdijn.html',\n",
       " 'https://www.ss.com/msg/lv/real-estate/flats/riga/centre/bcomkb.html']"
      ]
     },
     "execution_count": 48,
     "metadata": {},
     "output_type": "execute_result"
    }
   ],
   "source": [
    "# lets set url_prexi\n",
    "url_prefix = 'https://www.ss.com'\n",
    "# now we can add prefix to each url\n",
    "ads_urls = [url_prefix + url for url in ads_urls]\n",
    "# first 3\n",
    "ads_urls[:3]"
   ]
  },
  {
   "cell_type": "code",
   "execution_count": 50,
   "metadata": {},
   "outputs": [
    {
     "name": "stdout",
     "output_type": "stream",
     "text": [
      "['', '', 'Piedāvājumā mēbelēts 1-istabas dzīvoklis Rīgas centrā. Ķieģeļu m', 'Lienes 6A', '1', '23', '2/2', 'P. kara', '796 €', '18,300  €', '/msg/lv/real-estate/flats/riga/centre/dgogx.html', '/msg/lv/real-estate/flats/riga/centre/dgogx.html', 'https://www.ss.com/msg/lv/real-estate/flats/riga/centre/dgogx.html']\n",
      "https://www.ss.com/msg/lv/real-estate/flats/riga/centre/dgogx.html\n",
      "['', '', 'Pārdod dzīvokli tikko pēc kvalitatīva kapitālā remonta ar logiem', 'Stabu 86a', '1', '28', '1/3', 'P. kara', '1,607 €', '45,000  €', '/msg/lv/real-estate/flats/riga/centre/cdijn.html', '/msg/lv/real-estate/flats/riga/centre/cdijn.html', 'https://www.ss.com/msg/lv/real-estate/flats/riga/centre/cdijn.html']\n",
      "https://www.ss.com/msg/lv/real-estate/flats/riga/centre/cdijn.html\n",
      "['', '', 'Dzīvojamā platība 160 kv. m. Projekts Park Side. \\r\\nGriestu augst', 'Rūpniecības 34A', '4', '160', '5/6', 'Jaun.', '1,997 €', '319,500  €', '/msg/lv/real-estate/flats/riga/centre/bcomkb.html', '/msg/lv/real-estate/flats/riga/centre/bcomkb.html', 'https://www.ss.com/msg/lv/real-estate/flats/riga/centre/bcomkb.html']\n",
      "https://www.ss.com/msg/lv/real-estate/flats/riga/centre/bcomkb.html\n",
      "['', '', 'Iespēja dzīvot vienā no modernākajiem Latvijas projektiem \"Skans', 'J. Daliņa 8', '3', '89', '18/21', 'Jaun.', '2,685 €', '239,000  €', '/msg/lv/real-estate/flats/riga/centre/agiod.html', '/msg/lv/real-estate/flats/riga/centre/agiod.html', 'https://www.ss.com/msg/lv/real-estate/flats/riga/centre/agiod.html']\n",
      "https://www.ss.com/msg/lv/real-estate/flats/riga/centre/agiod.html\n",
      "['', '', 'Iespēja dzīvot vienā no modernākajiem Latvijas projektiem \"Skans', 'Skanstes 29A', '4', '125', '3/21', 'Jaun.', '2,040 €', '255,000  €', '/msg/lv/real-estate/flats/riga/centre/blhic.html', '/msg/lv/real-estate/flats/riga/centre/blhic.html', 'https://www.ss.com/msg/lv/real-estate/flats/riga/centre/blhic.html']\n",
      "https://www.ss.com/msg/lv/real-estate/flats/riga/centre/blhic.html\n",
      "['', '', 'Pārdodas gaišs, saulains, mājīgs un plašs dzīvoklis, ar 200 m2 k', 'Vīlandes 5', '4', '200', '4/5', 'Renov.', '2,250 €', '450,000  €', '/msg/lv/real-estate/flats/riga/centre/egkgj.html', '/msg/lv/real-estate/flats/riga/centre/egkgj.html', 'https://www.ss.com/msg/lv/real-estate/flats/riga/centre/egkgj.html']\n",
      "https://www.ss.com/msg/lv/real-estate/flats/riga/centre/egkgj.html\n",
      "['', '', 'Piedāvājam iegādāties gaišu četristabu dzīvokli ar plašiem panor', 'Sporta 1', '4', '125', '2/6', 'Specpr.', '2,000 €', '250,000  €', '/msg/lv/real-estate/flats/riga/centre/bfcne.html', '/msg/lv/real-estate/flats/riga/centre/bfcne.html', 'https://www.ss.com/msg/lv/real-estate/flats/riga/centre/bfcne.html']\n",
      "https://www.ss.com/msg/lv/real-estate/flats/riga/centre/bfcne.html\n",
      "['', '', 'Īpašnieks pārdod daļu no vēsturiskās ēkas pašā Rīgas centrā pie ', 'Marijas 1', 'Citi', '315', '2/6', 'P. kara', '1,556 €', '490,000  €', '/msg/lv/real-estate/flats/riga/centre/hdgbg.html', '/msg/lv/real-estate/flats/riga/centre/hdgbg.html', 'https://www.ss.com/msg/lv/real-estate/flats/riga/centre/hdgbg.html']\n",
      "https://www.ss.com/msg/lv/real-estate/flats/riga/centre/hdgbg.html\n",
      "['', '', 'Pārdod plašu 3 istabu dzīvokli ar kopējo platību 90 m2, centrā S', 'Valdemāra 79/81', '3', '90', '2/5', 'Staļina', '1,549 €', '139,400  €', '/msg/lv/real-estate/flats/riga/centre/bkgbn.html', '/msg/lv/real-estate/flats/riga/centre/bkgbn.html', 'https://www.ss.com/msg/lv/real-estate/flats/riga/centre/bkgbn.html']\n",
      "https://www.ss.com/msg/lv/real-estate/flats/riga/centre/bkgbn.html\n",
      "['', '', 'Kvalitatīvs, gaišs un gaumīgi iekārtots divistabu dzīvoklis tāla', 'Piena 4', '2', '46', '4/4', 'Renov.', '2,804 €', '129,000  €', '/msg/lv/real-estate/flats/riga/centre/bfckgb.html', '/msg/lv/real-estate/flats/riga/centre/bfckgb.html', 'https://www.ss.com/msg/lv/real-estate/flats/riga/centre/bfckgb.html']\n",
      "https://www.ss.com/msg/lv/real-estate/flats/riga/centre/bfckgb.html\n",
      "['', '', 'Piedāvājam iegādāties elegantu, interesantu un gaišu dzīvokli vi', 'Skolas 14', '4', '113', '2/6', 'Renov.', '3,451 €', '390,000  €', '/msg/lv/real-estate/flats/riga/centre/gnjio.html', '/msg/lv/real-estate/flats/riga/centre/gnjio.html', 'https://www.ss.com/msg/lv/real-estate/flats/riga/centre/gnjio.html']\n",
      "https://www.ss.com/msg/lv/real-estate/flats/riga/centre/gnjio.html\n",
      "['', '', 'Remontēts 2 istabu dzīvoklis ar panorāmas skatu no logiem. Dzīvo', 'Stabu 46/48', '2', '52', '6/6', 'P. kara', '1,558 €', '81,000  €', '/msg/lv/real-estate/flats/riga/centre/ajkgm.html', '/msg/lv/real-estate/flats/riga/centre/ajkgm.html', 'https://www.ss.com/msg/lv/real-estate/flats/riga/centre/ajkgm.html']\n",
      "https://www.ss.com/msg/lv/real-estate/flats/riga/centre/ajkgm.html\n",
      "['', '', 'Pārdod skaistu īpašumu Rīgas labākajā daļā. \\r\\nKlusais centrs, ar', 'Vīlandes 22', '4', '126', '5/6', 'Renov.', '2,341 €', '295,000  €', '/msg/lv/real-estate/flats/riga/centre/bcgmf.html', '/msg/lv/real-estate/flats/riga/centre/bcgmf.html', 'https://www.ss.com/msg/lv/real-estate/flats/riga/centre/bcgmf.html']\n",
      "https://www.ss.com/msg/lv/real-estate/flats/riga/centre/bcgmf.html\n",
      "['', '', 'Tiek pārdots tikko izremontēts 2 istabu dzīvoklis daudzdzīvokļu ', 'Stabu 46/48', '2', '52', '6/6', 'P. kara', '1,558 €', '81,000  €', '/msg/lv/real-estate/flats/riga/centre/eicfo.html', '/msg/lv/real-estate/flats/riga/centre/eicfo.html', 'https://www.ss.com/msg/lv/real-estate/flats/riga/centre/eicfo.html']\n",
      "https://www.ss.com/msg/lv/real-estate/flats/riga/centre/eicfo.html\n",
      "['', '', 'Piedāvājumā dzīvoklis pirmskara ēkā Ģertrūdes ielā, pie Satekles', 'Ģertrūdes 110', '2', '51', '4/6', 'P. kara', '922 €', '47,000  €', '/msg/lv/real-estate/flats/riga/centre/ffnkd.html', '/msg/lv/real-estate/flats/riga/centre/ffnkd.html', 'https://www.ss.com/msg/lv/real-estate/flats/riga/centre/ffnkd.html']\n",
      "https://www.ss.com/msg/lv/real-estate/flats/riga/centre/ffnkd.html\n",
      "['', '', 'Pārdod ļoti perspektīvu 3-istabu dzīvokli Rīgas klusajā centrā -', 'Ausekļa 2', '3', '71', '3/5', 'P. kara', '2,099 €', '149,000  €', '/msg/lv/real-estate/flats/riga/centre/ecbcm.html', '/msg/lv/real-estate/flats/riga/centre/ecbcm.html', 'https://www.ss.com/msg/lv/real-estate/flats/riga/centre/ecbcm.html']\n",
      "https://www.ss.com/msg/lv/real-estate/flats/riga/centre/ecbcm.html\n",
      "['', '', 'Pārdodas silts dzīvoklis ar remontētu, labā stāvoklī. Augstais p', 'Stabu 81', '4', '110', '1/5', 'P. kara', '854 €', '93,900  €', '/msg/lv/real-estate/flats/riga/centre/bhlin.html', '/msg/lv/real-estate/flats/riga/centre/bhlin.html', 'https://www.ss.com/msg/lv/real-estate/flats/riga/centre/bhlin.html']\n",
      "https://www.ss.com/msg/lv/real-estate/flats/riga/centre/bhlin.html\n",
      "['', '', 'Piedāvājam pārdošanai trīsistabu dzīvokli Rīgas vēsturiskajā cen', 'Blaumaņa 9', '3', '66', '5/6', 'Renov.', '2,394 €', '158,000  €', '/msg/lv/real-estate/flats/riga/centre/ajfxj.html', '/msg/lv/real-estate/flats/riga/centre/ajfxj.html', 'https://www.ss.com/msg/lv/real-estate/flats/riga/centre/ajfxj.html']\n",
      "https://www.ss.com/msg/lv/real-estate/flats/riga/centre/ajfxj.html\n",
      "['', '', 'Dzīvoklis ar nesen veiktu kapitālo remontu, mainītiem ūdens un k', 'Ieroču 4a', '2', '31', '1/4', 'P. kara', '1,471 €', '45,600  €', '/msg/lv/real-estate/flats/riga/centre/akcpo.html', '/msg/lv/real-estate/flats/riga/centre/akcpo.html', 'https://www.ss.com/msg/lv/real-estate/flats/riga/centre/akcpo.html']\n",
      "https://www.ss.com/msg/lv/real-estate/flats/riga/centre/akcpo.html\n",
      "['', '', 'Piedāvājumā gaumīgs dizaina dzīvoklis jaunajā projektā Klusajā c', 'Dzirnavu 37', '2', '75', '5/7', 'Jaun.', '3,987 €', '299,000  €', '/msg/lv/real-estate/flats/riga/centre/fdknl.html', '/msg/lv/real-estate/flats/riga/centre/fdknl.html', 'https://www.ss.com/msg/lv/real-estate/flats/riga/centre/fdknl.html']\n",
      "https://www.ss.com/msg/lv/real-estate/flats/riga/centre/fdknl.html\n",
      "['', '', 'Pārdod dzīvokli attīstītāja tikko pabeigtā ēku kompleksā. \\r\\nĒkā\\xa0', 'Avotu 46', '2', '52', '5/5', 'P. kara', '1,902 €', '98,900  €', '/msg/lv/real-estate/flats/riga/centre/bcikip.html', '/msg/lv/real-estate/flats/riga/centre/bcikip.html', 'https://www.ss.com/msg/lv/real-estate/flats/riga/centre/bcikip.html']\n",
      "https://www.ss.com/msg/lv/real-estate/flats/riga/centre/bcikip.html\n",
      "['', '', 'Īpašnieks pārdod siltu un saulainu dzīvokli. \\r\\nDzīvoklis ir prak', 'Tomsona 25', '2', '41', '5/5', 'Hrušč.', '1,354 €', '55,500  €', '/msg/lv/real-estate/flats/riga/centre/bemkif.html', '/msg/lv/real-estate/flats/riga/centre/bemkif.html', 'https://www.ss.com/msg/lv/real-estate/flats/riga/centre/bemkif.html']\n",
      "https://www.ss.com/msg/lv/real-estate/flats/riga/centre/bemkif.html\n",
      "['', '', 'Dzīvoklis atrodas pagalma mājas daļā, no kura logiem paveras lab', 'Lāčplēša 43/45', '3', '54', '3/5', 'P. kara', '1,519 €', '82,000  €', '/msg/lv/real-estate/flats/riga/centre/agnnp.html', '/msg/lv/real-estate/flats/riga/centre/agnnp.html', 'https://www.ss.com/msg/lv/real-estate/flats/riga/centre/agnnp.html']\n",
      "https://www.ss.com/msg/lv/real-estate/flats/riga/centre/agnnp.html\n",
      "['', '', 'Attīstītājs piedāvā 2-istabu dzīvokli pilnībā renovētā mājā Rīga', 'Čaka 26', '2', '44', '4/5', 'Renov.', '2,784 €', '122,500  €', '/msg/lv/real-estate/flats/riga/centre/aexkm.html', '/msg/lv/real-estate/flats/riga/centre/aexkm.html', 'https://www.ss.com/msg/lv/real-estate/flats/riga/centre/aexkm.html']\n",
      "https://www.ss.com/msg/lv/real-estate/flats/riga/centre/aexkm.html\n",
      "['', '', 'Pārdod 1-istabas dzīvokli jaunajā projektā. Dzīvoklis aprīkots a', 'Klusā 20', '1', '36', '1/9', 'Renov.', '953 €', '34,295  €', '/msg/lv/real-estate/flats/riga/centre/bciibj.html', '/msg/lv/real-estate/flats/riga/centre/bciibj.html', 'https://www.ss.com/msg/lv/real-estate/flats/riga/centre/bciibj.html']\n",
      "https://www.ss.com/msg/lv/real-estate/flats/riga/centre/bciibj.html\n",
      "['', '', 'No attīstitāja 4 ist. 2 limeņu mansarda dzīvokļis tiek piedāvāts', 'Avotu 5', '4', '88', '5/6', 'Renov.', '2,190 €', '192,720  €', '/msg/lv/real-estate/flats/riga/centre/gdgff.html', '/msg/lv/real-estate/flats/riga/centre/gdgff.html', 'https://www.ss.com/msg/lv/real-estate/flats/riga/centre/gdgff.html']\n",
      "https://www.ss.com/msg/lv/real-estate/flats/riga/centre/gdgff.html\n",
      "['', '', 'Moderns dzīvoklis jaunajā projektā \"Tomsona terass\". Plašs 3-ist', 'Tomsona 30', '3', '128', '3/9', 'Jaun.', '1,953 €', '250,000  €', '/msg/lv/real-estate/flats/riga/centre/dpbop.html', '/msg/lv/real-estate/flats/riga/centre/dpbop.html', 'https://www.ss.com/msg/lv/real-estate/flats/riga/centre/dpbop.html']\n",
      "https://www.ss.com/msg/lv/real-estate/flats/riga/centre/dpbop.html\n",
      "['', '', 'Piedāvājam iegādāties lielisku investīciju objektu Alfrēda Kalni', 'Kalniņa 2', '6', '174', '6/6', 'Renov.', '2,052 €', '357,000  €', '/msg/lv/real-estate/flats/riga/centre/bejxil.html', '/msg/lv/real-estate/flats/riga/centre/bejxil.html', 'https://www.ss.com/msg/lv/real-estate/flats/riga/centre/bejxil.html']\n",
      "https://www.ss.com/msg/lv/real-estate/flats/riga/centre/bejxil.html\n",
      "['', '', 'Pārdod 2 istabu dzīvokli augstajā 1.stāvā ar skatu uz pagalmu. \\r', 'Brīvības 95', '2', '65', '2/7', 'Renov.', '2,197 €', '142,780  €', '/msg/lv/real-estate/flats/riga/centre/bkeco.html', '/msg/lv/real-estate/flats/riga/centre/bkeco.html', 'https://www.ss.com/msg/lv/real-estate/flats/riga/centre/bkeco.html']\n",
      "https://www.ss.com/msg/lv/real-estate/flats/riga/centre/bkeco.html\n",
      "['', '', 'Piedāvājam iegādāties skaistu un saulainu dzīvokli Alfrēda Kalni', 'Kalniņa 2', '3', '86', '6/6', 'Renov.', '2,267 €', '195,000  €', '/msg/lv/real-estate/flats/riga/centre/fbhcm.html', '/msg/lv/real-estate/flats/riga/centre/fbhcm.html', 'https://www.ss.com/msg/lv/real-estate/flats/riga/centre/fbhcm.html']\n",
      "https://www.ss.com/msg/lv/real-estate/flats/riga/centre/fbhcm.html\n"
     ]
    }
   ],
   "source": [
    "# finally let's add it to our ads_texts using zip\n",
    "full_ads = []\n",
    "for texts, href in zip(ads_texts, ads_urls):\n",
    "    # print texts\n",
    "    print(texts)\n",
    "    # print href\n",
    "    print(href)\n",
    "    texts.append(href)\n",
    "    full_ads.append(texts)\n",
    "\n",
    "# first 3\n"
   ]
  },
  {
   "cell_type": "code",
   "execution_count": 47,
   "metadata": {},
   "outputs": [
    {
     "data": {
      "text/plain": [
       "[['',\n",
       "  '',\n",
       "  'Piedāvājumā mēbelēts 1-istabas dzīvoklis Rīgas centrā. Ķieģeļu m',\n",
       "  'Lienes 6A',\n",
       "  '1',\n",
       "  '23',\n",
       "  '2/2',\n",
       "  'P. kara',\n",
       "  '796 €',\n",
       "  '18,300  €',\n",
       "  '/msg/lv/real-estate/flats/riga/centre/dgogx.html',\n",
       "  '/msg/lv/real-estate/flats/riga/centre/dgogx.html'],\n",
       " ['',\n",
       "  '',\n",
       "  'Pārdod dzīvokli tikko pēc kvalitatīva kapitālā remonta ar logiem',\n",
       "  'Stabu 86a',\n",
       "  '1',\n",
       "  '28',\n",
       "  '1/3',\n",
       "  'P. kara',\n",
       "  '1,607 €',\n",
       "  '45,000  €',\n",
       "  '/msg/lv/real-estate/flats/riga/centre/cdijn.html',\n",
       "  '/msg/lv/real-estate/flats/riga/centre/cdijn.html'],\n",
       " ['',\n",
       "  '',\n",
       "  'Dzīvojamā platība 160 kv. m. Projekts Park Side. \\r\\nGriestu augst',\n",
       "  'Rūpniecības 34A',\n",
       "  '4',\n",
       "  '160',\n",
       "  '5/6',\n",
       "  'Jaun.',\n",
       "  '1,997 €',\n",
       "  '319,500  €',\n",
       "  '/msg/lv/real-estate/flats/riga/centre/bcomkb.html',\n",
       "  '/msg/lv/real-estate/flats/riga/centre/bcomkb.html']]"
      ]
     },
     "execution_count": 47,
     "metadata": {},
     "output_type": "execute_result"
    }
   ],
   "source": [
    "# first 3 full ads\n",
    "full_ads[:3]"
   ]
  },
  {
   "cell_type": "code",
   "execution_count": 51,
   "metadata": {},
   "outputs": [
    {
     "data": {
      "text/html": [
       "<div>\n",
       "<style scoped>\n",
       "    .dataframe tbody tr th:only-of-type {\n",
       "        vertical-align: middle;\n",
       "    }\n",
       "\n",
       "    .dataframe tbody tr th {\n",
       "        vertical-align: top;\n",
       "    }\n",
       "\n",
       "    .dataframe thead th {\n",
       "        text-align: right;\n",
       "    }\n",
       "</style>\n",
       "<table border=\"1\" class=\"dataframe\">\n",
       "  <thead>\n",
       "    <tr style=\"text-align: right;\">\n",
       "      <th></th>\n",
       "      <th>0</th>\n",
       "      <th>1</th>\n",
       "      <th>2</th>\n",
       "      <th>3</th>\n",
       "      <th>4</th>\n",
       "      <th>5</th>\n",
       "      <th>6</th>\n",
       "      <th>7</th>\n",
       "      <th>8</th>\n",
       "      <th>9</th>\n",
       "      <th>10</th>\n",
       "      <th>11</th>\n",
       "      <th>12</th>\n",
       "      <th>13</th>\n",
       "    </tr>\n",
       "  </thead>\n",
       "  <tbody>\n",
       "    <tr>\n",
       "      <th>0</th>\n",
       "      <td></td>\n",
       "      <td></td>\n",
       "      <td>Piedāvājumā mēbelēts 1-istabas dzīvoklis Rīgas...</td>\n",
       "      <td>Lienes 6A</td>\n",
       "      <td>1</td>\n",
       "      <td>23</td>\n",
       "      <td>2/2</td>\n",
       "      <td>P. kara</td>\n",
       "      <td>796 €</td>\n",
       "      <td>18,300  €</td>\n",
       "      <td>/msg/lv/real-estate/flats/riga/centre/dgogx.html</td>\n",
       "      <td>/msg/lv/real-estate/flats/riga/centre/dgogx.html</td>\n",
       "      <td>https://www.ss.com/msg/lv/real-estate/flats/ri...</td>\n",
       "      <td>https://www.ss.com/msg/lv/real-estate/flats/ri...</td>\n",
       "    </tr>\n",
       "    <tr>\n",
       "      <th>1</th>\n",
       "      <td></td>\n",
       "      <td></td>\n",
       "      <td>Pārdod dzīvokli tikko pēc kvalitatīva kapitālā...</td>\n",
       "      <td>Stabu 86a</td>\n",
       "      <td>1</td>\n",
       "      <td>28</td>\n",
       "      <td>1/3</td>\n",
       "      <td>P. kara</td>\n",
       "      <td>1,607 €</td>\n",
       "      <td>45,000  €</td>\n",
       "      <td>/msg/lv/real-estate/flats/riga/centre/cdijn.html</td>\n",
       "      <td>/msg/lv/real-estate/flats/riga/centre/cdijn.html</td>\n",
       "      <td>https://www.ss.com/msg/lv/real-estate/flats/ri...</td>\n",
       "      <td>https://www.ss.com/msg/lv/real-estate/flats/ri...</td>\n",
       "    </tr>\n",
       "    <tr>\n",
       "      <th>2</th>\n",
       "      <td></td>\n",
       "      <td></td>\n",
       "      <td>Dzīvojamā platība 160 kv. m. Projekts Park Sid...</td>\n",
       "      <td>Rūpniecības 34A</td>\n",
       "      <td>4</td>\n",
       "      <td>160</td>\n",
       "      <td>5/6</td>\n",
       "      <td>Jaun.</td>\n",
       "      <td>1,997 €</td>\n",
       "      <td>319,500  €</td>\n",
       "      <td>/msg/lv/real-estate/flats/riga/centre/bcomkb.html</td>\n",
       "      <td>/msg/lv/real-estate/flats/riga/centre/bcomkb.html</td>\n",
       "      <td>https://www.ss.com/msg/lv/real-estate/flats/ri...</td>\n",
       "      <td>https://www.ss.com/msg/lv/real-estate/flats/ri...</td>\n",
       "    </tr>\n",
       "  </tbody>\n",
       "</table>\n",
       "</div>"
      ],
      "text/plain": [
       "  0  1                                                  2                3   \\\n",
       "0        Piedāvājumā mēbelēts 1-istabas dzīvoklis Rīgas...        Lienes 6A   \n",
       "1        Pārdod dzīvokli tikko pēc kvalitatīva kapitālā...        Stabu 86a   \n",
       "2        Dzīvojamā platība 160 kv. m. Projekts Park Sid...  Rūpniecības 34A   \n",
       "\n",
       "  4    5    6        7        8           9   \\\n",
       "0  1   23  2/2  P. kara    796 €   18,300  €   \n",
       "1  1   28  1/3  P. kara  1,607 €   45,000  €   \n",
       "2  4  160  5/6    Jaun.  1,997 €  319,500  €   \n",
       "\n",
       "                                                  10  \\\n",
       "0   /msg/lv/real-estate/flats/riga/centre/dgogx.html   \n",
       "1   /msg/lv/real-estate/flats/riga/centre/cdijn.html   \n",
       "2  /msg/lv/real-estate/flats/riga/centre/bcomkb.html   \n",
       "\n",
       "                                                  11  \\\n",
       "0   /msg/lv/real-estate/flats/riga/centre/dgogx.html   \n",
       "1   /msg/lv/real-estate/flats/riga/centre/cdijn.html   \n",
       "2  /msg/lv/real-estate/flats/riga/centre/bcomkb.html   \n",
       "\n",
       "                                                  12  \\\n",
       "0  https://www.ss.com/msg/lv/real-estate/flats/ri...   \n",
       "1  https://www.ss.com/msg/lv/real-estate/flats/ri...   \n",
       "2  https://www.ss.com/msg/lv/real-estate/flats/ri...   \n",
       "\n",
       "                                                  13  \n",
       "0  https://www.ss.com/msg/lv/real-estate/flats/ri...  \n",
       "1  https://www.ss.com/msg/lv/real-estate/flats/ri...  \n",
       "2  https://www.ss.com/msg/lv/real-estate/flats/ri...  "
      ]
     },
     "execution_count": 51,
     "metadata": {},
     "output_type": "execute_result"
    }
   ],
   "source": [
    "# if we have 2d list we can convert it to dataframe\n",
    "df = pd.DataFrame(full_ads)\n",
    "# first 3\n",
    "df.head(3)"
   ]
  }
 ],
 "metadata": {
  "kernelspec": {
   "display_name": "my_virtual_env",
   "language": "python",
   "name": "python3"
  },
  "language_info": {
   "codemirror_mode": {
    "name": "ipython",
    "version": 3
   },
   "file_extension": ".py",
   "mimetype": "text/x-python",
   "name": "python",
   "nbconvert_exporter": "python",
   "pygments_lexer": "ipython3",
   "version": "3.11.4"
  },
  "orig_nbformat": 4
 },
 "nbformat": 4,
 "nbformat_minor": 2
}
