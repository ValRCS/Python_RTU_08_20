{
 "cells": [
  {
   "cell_type": "markdown",
   "metadata": {},
   "source": [
    "# JSON\n",
    "\n",
    "## Jupyter Notebook\n",
    "\n",
    "Jupyter Notebooks are a way to interactively run Python code in a web browser. They are a great way to learn Python and to share your work with others. This notebook is a Jupyter Notebook. It is made up of cells. Each cell can contain text or code. This cell contains text. The next cell contains code. To run the code in a cell, click on the cell and then click the \"Run\" button in the toolbar above. You can also run a cell by clicking on the cell and then pressing \"Shift + Enter\" on your keyboard.\n",
    "\n",
    "Name Jupyter is a combination of Julia, Python, and R. These are the three programming languages that Jupyter was originally designed to work with. Jupyter now supports many other programming languages, including C++, Java, and JavaScript. Jupyter is an open source project.\n",
    "\n",
    "Main Jupyter page is here: https://jupyter.org/\n",
    "\n",
    "## Markdown cells\n",
    "\n",
    "Markdown Cells can be formatted using Markdown. Markdown is a simple markup language. It is used to format text. Markdown is used in many places, including GitHub, Reddit, and Slack. Markdown is easy to learn. You can learn more about Markdown here: https://www.markdownguide.org/\n",
    "\n",
    "* [Markdown guide at GitHub](https://guides.github.com/features/mastering-markdown/) is also a good resource.\n",
    "\n",
    "I can insert images such as Python logo:\n",
    "![Python logo](https://www.python.org/static/community_logos/python-logo-master-v3-TM.png)"
   ]
  },
  {
   "cell_type": "code",
   "execution_count": 5,
   "metadata": {},
   "outputs": [
    {
     "name": "stdout",
     "output_type": "stream",
     "text": [
      "Python version is 3.11.4 (tags/v3.11.4:d2340ef, Jun  7 2023, 05:45:37) [MSC v.1934 64 bit (AMD64)]\n"
     ]
    }
   ],
   "source": [
    "# this is a program\n",
    "# let's print our python version\n",
    "import sys # this import will stay in place for the rest of the program\n",
    "print(\"Python version is\", sys.version)"
   ]
  },
  {
   "cell_type": "code",
   "execution_count": 6,
   "metadata": {},
   "outputs": [
    {
     "name": "stdout",
     "output_type": "stream",
     "text": [
      "Valdis 49\n"
     ]
    }
   ],
   "source": [
    "# variable persist through the program cells\n",
    "name = \"Valdis\"\n",
    "age = 49\n",
    "print(name, age)"
   ]
  },
  {
   "cell_type": "code",
   "execution_count": 7,
   "metadata": {},
   "outputs": [
    {
     "name": "stdout",
     "output_type": "stream",
     "text": [
      "New age is 50\n"
     ]
    }
   ],
   "source": [
    "age += 1\n",
    "# new age\n",
    "print(f\"New age is {age}\")\n",
    "# so I can run this cell multiple times and it will keep adding 1 to age"
   ]
  },
  {
   "cell_type": "code",
   "execution_count": 8,
   "metadata": {},
   "outputs": [],
   "source": [
    "## one critique of Notebook is that it is not easy to see the order of execution\n",
    "# you can execute cells out of order and that can be confusing\n",
    "\n",
    "# Your goal should be that notebook can be run from top to bottom and it should work"
   ]
  },
  {
   "cell_type": "code",
   "execution_count": 9,
   "metadata": {},
   "outputs": [
    {
     "name": "stdout",
     "output_type": "stream",
     "text": [
      "Python 3.11.4\n"
     ]
    }
   ],
   "source": [
    "# i can use ! syntax to run shell commands\n",
    "!python --version"
   ]
  },
  {
   "cell_type": "markdown",
   "metadata": {},
   "source": [
    "## JSON\n",
    "\n",
    "JSON stands for JavaScript Object Notation. It is a way to store data. It is used in many places, including web applications and APIs. JSON is easy to read and write. It is also easy for computers to parse and generate. JSON is a text format. It is human-readable. It is also machine-readable. JSON is a subset of JavaScript.\n",
    "\n",
    "JSON was popularized by Douglas Crockford. He wrote a book called \"JavaScript: The Good Parts\". He also created a website called JSON.org. JSON is a lightweight data-interchange format. It is easy for humans to read and write. It is also easy for machines to parse and generate. JSON is based on a subset of the JavaScript Programming Language. It is used in many places, including web applications and APIs. JSON is a text format. It is human-readable. It is also machine-readable. JSON is a subset of JavaScript.\n",
    "\n",
    "JSON is used for:\n",
    "\n",
    "* Configuration files (Visual Studio Code, etc.)\n",
    "* Data storage and transfer over network\n",
    "* Data exchange between web browser and server\n",
    "* Interstingly Jupyter Notebook files are also JSON files - .ipynb is just JSON file with special structure\n",
    "\n",
    "\n"
   ]
  },
  {
   "cell_type": "markdown",
   "metadata": {},
   "source": [
    "### JSON philosophy\n",
    "\n",
    "JSON is supposed to be easy for humans to read and write. It is also supposed to be easy for machines to parse and generate. It is human-readable. It is also machine-readable. JSON is a subset of JavaScript.\n",
    "\n",
    "**JSON is a text format. **"
   ]
  },
  {
   "cell_type": "code",
   "execution_count": 10,
   "metadata": {},
   "outputs": [],
   "source": [
    "## In Python we need json module to work with json data\n",
    "import json # standard library module"
   ]
  },
  {
   "cell_type": "code",
   "execution_count": 11,
   "metadata": {},
   "outputs": [],
   "source": [
    "my_data = {\n",
    "    \"name\": \"Valdis\",\n",
    "    \"age\": 49,\n",
    "    \"children\": (\"Rūta\", \"Maija\", \"Edīte\"),\n",
    "    \"isMarried\": True,\n",
    "    \"cars\": [\n",
    "        {\"model\": \"Tesla X\", \"year\": 2019},\n",
    "        {\"model\": \"Tesla S\", \"year\": 2017},\n",
    "    ],\n",
    "    \"friends\": [\n",
    "        {\"name\": \"Aivars\", \"age\": 49},\n",
    "        {\"name\": \"Aivis\", \"age\": 49},\n",
    "        {\"name\": \"Aigars\", \"age\": 49,\n",
    "         \"cars\": [\n",
    "             {\"model\": \"Tesla X\", \"year\": 2019},\n",
    "            {\"model\": \"Tesla 3\", \"year\": 2022},\n",
    "         ]\n",
    "        },\n",
    "\n",
    "    ]\n",
    "}\n",
    "# this is not JSON! This is Python dictionary"
   ]
  },
  {
   "cell_type": "code",
   "execution_count": 12,
   "metadata": {},
   "outputs": [
    {
     "name": "stdout",
     "output_type": "stream",
     "text": [
      "<class 'dict'>\n"
     ]
    }
   ],
   "source": [
    "# type\n",
    "print(type(my_data))"
   ]
  },
  {
   "cell_type": "code",
   "execution_count": 13,
   "metadata": {},
   "outputs": [
    {
     "name": "stdout",
     "output_type": "stream",
     "text": [
      "2022\n"
     ]
    }
   ],
   "source": [
    "# let's get year for my last friend's last car\n",
    "print(my_data[\"friends\"][-1][\"cars\"][-1][\"year\"])\n",
    "# so I have a dictionary some values are strings, some are numbers, some are lists, some are dictionaries\n",
    "# and then that list has dictionaries inside\n",
    "# and those dictionaries have lists inside\n",
    "# finally some of those lists have dictionaries inside\n",
    "\n",
    "# so data can be hierarchical - not tabular"
   ]
  },
  {
   "cell_type": "code",
   "execution_count": 14,
   "metadata": {},
   "outputs": [
    {
     "name": "stdout",
     "output_type": "stream",
     "text": [
      "{\"name\": \"Valdis\", \"age\": 49, \"children\": [\"R\\u016bta\", \"Maija\", \"Ed\\u012bte\"], \"isMarried\": true, \"cars\": [{\"model\": \"Tesla X\", \"year\": 2019}, {\"model\": \"Tesla S\", \"year\": 2017}], \"friends\": [{\"name\": \"Aivars\", \"age\": 49}, {\"name\": \"Aivis\", \"age\": 49}, {\"name\": \"Aigars\", \"age\": 49, \"cars\": [{\"model\": \"Tesla X\", \"year\": 2019}, {\"model\": \"Tesla 3\", \"year\": 2022}]}]}\n"
     ]
    }
   ],
   "source": [
    "# JSON is a text format for storing and transporting data\n",
    "# i can get a JSON string from my dictionary\n",
    "json_data = json.dumps(my_data) # note dumps not dump - it creates a string from Python data structure\n",
    "print(json_data)"
   ]
  },
  {
   "cell_type": "code",
   "execution_count": null,
   "metadata": {},
   "outputs": [],
   "source": [
    "# we see that some of the conversion is not perfect\n",
    "# some structures such as tuples do not have a direct JSON equivalent\n",
    "# so they are converted to lists"
   ]
  },
  {
   "cell_type": "code",
   "execution_count": 15,
   "metadata": {},
   "outputs": [],
   "source": [
    "# now i can save this json string to a file\n",
    "with open(\"my_data.json\", \"w\") as f:\n",
    "    f.write(json_data) #i just write the string to a file\n",
    "# for English and computer only files this would be fine but for user facing data it is not optimal"
   ]
  },
  {
   "cell_type": "code",
   "execution_count": 16,
   "metadata": {},
   "outputs": [],
   "source": [
    "# first let's fix indentation\n",
    "# also we can write directly form any Python data structure using json.dump\n",
    "with open(\"my_data_indented.json\", \"w\") as f:\n",
    "    # not dump not dumps since we are writing to a file immediately\n",
    "    json.dump(my_data, f, indent=4) # indent is optional but makes it easier to read"
   ]
  },
  {
   "cell_type": "code",
   "execution_count": 17,
   "metadata": {},
   "outputs": [],
   "source": [
    "# then we can fix our utf-8 encoding\n",
    "with open(\"my_data_indented_utf8.json\", \"w\", encoding=\"utf-8\") as f:\n",
    "    json.dump(my_data, \n",
    "              f, \n",
    "              indent=4, \n",
    "              ensure_ascii=False) # ensure_ascii=False will use utf-8 encoding"
   ]
  },
  {
   "cell_type": "markdown",
   "metadata": {},
   "source": [
    "## Reading JSON\n",
    "\n",
    "reading is also called parsing\n",
    "\n",
    "there is also serialization - writing JSON (and other formats)\n",
    "deserialization - reading JSON"
   ]
  },
  {
   "cell_type": "code",
   "execution_count": 18,
   "metadata": {},
   "outputs": [
    {
     "name": "stdout",
     "output_type": "stream",
     "text": [
      "<class 'dict'>\n"
     ]
    }
   ],
   "source": [
    "# lets read our utf-8 file back\n",
    "# we use r mode by default\n",
    "with open(\"my_data_indented_utf8.json\", encoding=\"utf-8\") as f:\n",
    "    new_data = json.load(f) # we read the file and convert it to Python data structure\n",
    "# so what data type?\n",
    "print(type(new_data)) # it is a dictionary"
   ]
  },
  {
   "cell_type": "code",
   "execution_count": 21,
   "metadata": {},
   "outputs": [
    {
     "name": "stdout",
     "output_type": "stream",
     "text": [
      "2022\n"
     ]
    }
   ],
   "source": [
    "# again let's get last car year for my last friend\n",
    "print(new_data[\"friends\"][-1][\"cars\"][-1][\"year\"])"
   ]
  },
  {
   "cell_type": "code",
   "execution_count": null,
   "metadata": {},
   "outputs": [],
   "source": [
    "# let's make a quick translation table between Python and JSON\n",
    "# Python -> JSON\n",
    "# dict -> object\n",
    "# list, tuple -> array\n",
    "# str -> string\n",
    "# int, float -> number\n",
    "# True -> true\n",
    "# False -> false\n",
    "# None -> null\n",
    "\n",
    "# JSON -> Python\n",
    "# object -> dict\n",
    "# array -> list\n",
    "# string -> str\n",
    "# number (int) -> int\n",
    "# number (real) -> float\n",
    "# true -> True\n",
    "# false -> False\n",
    "# null -> None\n"
   ]
  },
  {
   "cell_type": "code",
   "execution_count": 22,
   "metadata": {},
   "outputs": [
    {
     "name": "stdout",
     "output_type": "stream",
     "text": [
      "<class 'tuple'>\n",
      "<class 'list'>\n"
     ]
    }
   ],
   "source": [
    "# so if we compare data types for my children\n",
    "print(type(my_data[\"children\"])) # tuple\n",
    "print(type(new_data[\"children\"])) # list"
   ]
  },
  {
   "cell_type": "markdown",
   "metadata": {},
   "source": [
    "## Reading JSON data from web\n",
    "\n",
    "JSON is widely used by various web APIs. For example, we can get weather data from OpenWeatherMap API. We need to register and get API key. Then we can use it to get weather data for any city in the world.\n",
    "\n",
    "We will start by using fake JSON API from https://jsonplaceholder.typicode.com/\n",
    "\n",
    "We will use requests library to get data from web.\n",
    "\n",
    "Requests is just a wrapper around standard Python library urllib. It makes it easier to use."
   ]
  },
  {
   "cell_type": "code",
   "execution_count": 23,
   "metadata": {},
   "outputs": [
    {
     "name": "stdout",
     "output_type": "stream",
     "text": [
      "2.31.0\n"
     ]
    }
   ],
   "source": [
    "# if you do not have requests module installed you can install it with\n",
    "# !pip install requests from notebook cell\n",
    "# or pip install requests from command line - terminal\n",
    "import requests # we need to import requests module to make http requests\n",
    "# can we get version of requests module?\n",
    "print(requests.__version__) # should not really matter but it is good to know"
   ]
  },
  {
   "cell_type": "code",
   "execution_count": 24,
   "metadata": {},
   "outputs": [
    {
     "name": "stdout",
     "output_type": "stream",
     "text": [
      "Getting data from https://jsonplaceholder.typicode.com/users\n"
     ]
    }
   ],
   "source": [
    "# then we need url address which we want to get data from\n",
    "url = \"https://jsonplaceholder.typicode.com/users\"\n",
    "print(f\"Getting data from {url}\")"
   ]
  },
  {
   "cell_type": "code",
   "execution_count": 25,
   "metadata": {},
   "outputs": [
    {
     "name": "stdout",
     "output_type": "stream",
     "text": [
      "200\n"
     ]
    }
   ],
   "source": [
    "# making a get request to our url\n",
    "response = requests.get(url) # this makes a request to our url\n",
    "# there are many options\n",
    "# can use post, put, delete, patch, head, options\n",
    "# can put headers in our request for authorization, content type, etc.\n",
    "# first let's get a status code\n",
    "print(response.status_code) # 200 is good, 404 is not found, 500 is server error\n",
    "\n",
    "# full list of http status codes: https://en.wikipedia.org/wiki/\n",
    "\n",
    "# good one is 418 I'm a teapot\n",
    "# https://en.wikipedia.org/wiki/HTTP_418"
   ]
  },
  {
   "cell_type": "code",
   "execution_count": 26,
   "metadata": {},
   "outputs": [
    {
     "name": "stdout",
     "output_type": "stream",
     "text": [
      "[\n",
      "  {\n",
      "    \"id\": 1,\n",
      "    \"name\": \"Leanne Graham\",\n",
      "    \"username\": \"Bret\",\n",
      "    \"email\": \"Sincere@april.\n"
     ]
    }
   ],
   "source": [
    "# now that we have a response in our memory we can get data from it\n",
    "# let'' get pure text for now\n",
    "text_data = response.text # just a string\n",
    "# first 100 characters\n",
    "print(text_data[:100])"
   ]
  },
  {
   "cell_type": "code",
   "execution_count": 27,
   "metadata": {},
   "outputs": [
    {
     "name": "stdout",
     "output_type": "stream",
     "text": [
      "<class 'list'>\n"
     ]
    }
   ],
   "source": [
    "# we could change text(str) into our python data structure with\n",
    "json_data = json.loads(text_data) # loads from string\n",
    "print(type(json_data)) # list of dictionaries"
   ]
  },
  {
   "cell_type": "code",
   "execution_count": 28,
   "metadata": {},
   "outputs": [
    {
     "name": "stdout",
     "output_type": "stream",
     "text": [
      "Leanne Graham\n"
     ]
    }
   ],
   "source": [
    "# let's get first user's name\n",
    "print(json_data[0][\"name\"])"
   ]
  },
  {
   "cell_type": "code",
   "execution_count": 29,
   "metadata": {},
   "outputs": [
    {
     "name": "stdout",
     "output_type": "stream",
     "text": [
      "Leanne Graham\n"
     ]
    }
   ],
   "source": [
    "# we do not really need this two step process\n",
    "# requests can give us json data directly\n",
    "json_data_also = response.json() # this will convert json string to python data structure\n",
    "\n",
    "# let's get first user's name\n",
    "print(json_data_also[0][\"name\"])"
   ]
  },
  {
   "cell_type": "markdown",
   "metadata": {},
   "source": [
    "## Typical JSON structure\n",
    "\n",
    "Typically JSON data is a dictionary with keys and values. Values can be strings, numbers, lists, or other dictionaries.\n",
    "\n",
    "Alternatively, JSON data can be a list of dictionaries."
   ]
  },
  {
   "cell_type": "code",
   "execution_count": 30,
   "metadata": {},
   "outputs": [
    {
     "name": "stdout",
     "output_type": "stream",
     "text": [
      "81.1496\n"
     ]
    }
   ],
   "source": [
    "# so here if I want longitute of first person's address I would use\n",
    "print(json_data_also[0][\"address\"][\"geo\"][\"lng\"])"
   ]
  },
  {
   "cell_type": "markdown",
   "metadata": {},
   "source": [
    "## Awesome JSON APIs\n",
    "\n",
    "There is a cool list of curated JSON APIs here:\n",
    "* https://github.com/public-apis/public-apis\n",
    "\n",
    "Many APIs have rate limits, some need registration to get API key - we pass that in header\n",
    "\n",
    "Some APIs that are free can be down since they are volunteer based mostly."
   ]
  },
  {
   "cell_type": "code",
   "execution_count": 31,
   "metadata": {},
   "outputs": [
    {
     "name": "stdout",
     "output_type": "stream",
     "text": [
      "200\n"
     ]
    }
   ],
   "source": [
    "cat_url = \"https://cat-fact.herokuapp.com/facts\"\n",
    "cat_response = requests.get(cat_url)\n",
    "# status code\n",
    "print(cat_response.status_code) # we could use status code in if statement"
   ]
  },
  {
   "cell_type": "code",
   "execution_count": 32,
   "metadata": {},
   "outputs": [
    {
     "name": "stdout",
     "output_type": "stream",
     "text": [
      "<class 'list'>\n"
     ]
    }
   ],
   "source": [
    "cat_data = cat_response.json()\n",
    "# type\n",
    "print(type(cat_data)) # list"
   ]
  },
  {
   "cell_type": "code",
   "execution_count": 33,
   "metadata": {},
   "outputs": [
    {
     "name": "stdout",
     "output_type": "stream",
     "text": [
      "Owning a cat can reduce the risk of stroke and heart attack by a third.\n",
      "Most cats are lactose intolerant, and milk can cause painful stomach cramps and diarrhea. It's best to forego the milk and just give your cat the standard: clean, cool drinking water.\n",
      "Domestic cats spend about 70 percent of the day sleeping and 15 percent of the day grooming.\n"
     ]
    }
   ],
   "source": [
    "# let's print first 3 cat facts\n",
    "for cat_fact in cat_data[:3]:\n",
    "    print(cat_fact[\"text\"])"
   ]
  }
 ],
 "metadata": {
  "kernelspec": {
   "display_name": "my_virtual_env",
   "language": "python",
   "name": "python3"
  },
  "language_info": {
   "codemirror_mode": {
    "name": "ipython",
    "version": 3
   },
   "file_extension": ".py",
   "mimetype": "text/x-python",
   "name": "python",
   "nbconvert_exporter": "python",
   "pygments_lexer": "ipython3",
   "version": "3.11.4"
  },
  "orig_nbformat": 4
 },
 "nbformat": 4,
 "nbformat_minor": 2
}
