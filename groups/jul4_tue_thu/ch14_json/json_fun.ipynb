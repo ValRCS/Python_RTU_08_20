{
 "cells": [
  {
   "cell_type": "markdown",
   "metadata": {},
   "source": [
    "# JSON\n",
    "\n",
    "## Jupyter Notebook\n",
    "\n",
    "Jupyter Notebooks are a way to interactively run Python code in a web browser. They are a great way to learn Python and to share your work with others. This notebook is a Jupyter Notebook. It is made up of cells. Each cell can contain text or code. This cell contains text. The next cell contains code. To run the code in a cell, click on the cell and then click the \"Run\" button in the toolbar above. You can also run a cell by clicking on the cell and then pressing \"Shift + Enter\" on your keyboard.\n",
    "\n",
    "Name Jupyter is a combination of Julia, Python, and R. These are the three programming languages that Jupyter was originally designed to work with. Jupyter now supports many other programming languages, including C++, Java, and JavaScript. Jupyter is an open source project.\n",
    "\n",
    "Main Jupyter page is here: https://jupyter.org/\n",
    "\n",
    "## Markdown cells\n",
    "\n",
    "Markdown Cells can be formatted using Markdown. Markdown is a simple markup language. It is used to format text. Markdown is used in many places, including GitHub, Reddit, and Slack. Markdown is easy to learn. You can learn more about Markdown here: https://www.markdownguide.org/\n",
    "\n",
    "* [Markdown guide at GitHub](https://guides.github.com/features/mastering-markdown/) is also a good resource.\n",
    "\n",
    "I can insert images such as Python logo:\n",
    "![Python logo](https://www.python.org/static/community_logos/python-logo-master-v3-TM.png)"
   ]
  },
  {
   "cell_type": "code",
   "execution_count": 5,
   "metadata": {},
   "outputs": [
    {
     "name": "stdout",
     "output_type": "stream",
     "text": [
      "Python version is 3.11.4 (tags/v3.11.4:d2340ef, Jun  7 2023, 05:45:37) [MSC v.1934 64 bit (AMD64)]\n"
     ]
    }
   ],
   "source": [
    "# this is a program\n",
    "# let's print our python version\n",
    "import sys # this import will stay in place for the rest of the program\n",
    "print(\"Python version is\", sys.version)"
   ]
  },
  {
   "cell_type": "code",
   "execution_count": 6,
   "metadata": {},
   "outputs": [
    {
     "name": "stdout",
     "output_type": "stream",
     "text": [
      "Valdis 49\n"
     ]
    }
   ],
   "source": [
    "# variable persist through the program cells\n",
    "name = \"Valdis\"\n",
    "age = 49\n",
    "print(name, age)"
   ]
  },
  {
   "cell_type": "code",
   "execution_count": 7,
   "metadata": {},
   "outputs": [
    {
     "name": "stdout",
     "output_type": "stream",
     "text": [
      "New age is 50\n"
     ]
    }
   ],
   "source": [
    "age += 1\n",
    "# new age\n",
    "print(f\"New age is {age}\")\n",
    "# so I can run this cell multiple times and it will keep adding 1 to age"
   ]
  },
  {
   "cell_type": "code",
   "execution_count": 8,
   "metadata": {},
   "outputs": [],
   "source": [
    "## one critique of Notebook is that it is not easy to see the order of execution\n",
    "# you can execute cells out of order and that can be confusing\n",
    "\n",
    "# Your goald should be that notebook can be run from top to bottom and it should work"
   ]
  }
 ],
 "metadata": {
  "kernelspec": {
   "display_name": "my_virtual_env",
   "language": "python",
   "name": "python3"
  },
  "language_info": {
   "codemirror_mode": {
    "name": "ipython",
    "version": 3
   },
   "file_extension": ".py",
   "mimetype": "text/x-python",
   "name": "python",
   "nbconvert_exporter": "python",
   "pygments_lexer": "ipython3",
   "version": "3.11.4"
  },
  "orig_nbformat": 4
 },
 "nbformat": 4,
 "nbformat_minor": 2
}
