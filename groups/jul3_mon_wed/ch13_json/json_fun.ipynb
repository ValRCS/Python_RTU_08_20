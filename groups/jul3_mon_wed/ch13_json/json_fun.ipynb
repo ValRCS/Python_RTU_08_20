{
 "cells": [
  {
   "cell_type": "markdown",
   "metadata": {},
   "source": [
    "# JSON \n",
    "\n",
    "## Jupyter Notebooks\n",
    "\n",
    "Jupyter Notebook are a way to interactively run Python code in a web browser.  They are a great way to learn Python and to share your work with others.  This notebook is a Jupyter Notebook.  It is made up of cells.  Each cell can be either a code cell or a markdown cell.  This cell is a markdown cell.  It contains text and can be used to describe what is going on in the code cells.  The cell below is a code cell.  It contains Python code.  To run the code in a cell, click on the cell and then click the run button in the toolbar above.  You can also run a cell by clicking on the cell and then pressing shift-enter.\n",
    "\n",
    "### Markdown Cells\n",
    "\n",
    "Markdown cells can be formatted using markdown.  Markdown is a simple way to format text.  You can learn more about markdown here: https://www.markdownguide.org/basic-syntax/\n",
    "\n",
    "I can add links to websites such as [Jupyter Notebook](https://jupyter.org/)"
   ]
  },
  {
   "cell_type": "code",
   "execution_count": null,
   "metadata": {},
   "outputs": [],
   "source": []
  }
 ],
 "metadata": {
  "kernelspec": {
   "display_name": "my_virtual_env",
   "language": "python",
   "name": "python3"
  },
  "language_info": {
   "name": "python",
   "version": "3.11.4"
  },
  "orig_nbformat": 4
 },
 "nbformat": 4,
 "nbformat_minor": 2
}
