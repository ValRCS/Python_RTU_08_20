{
 "cells": [
  {
   "cell_type": "markdown",
   "metadata": {},
   "source": [
    "# JSON \n",
    "\n",
    "## Jupyter Notebooks\n",
    "\n",
    "Jupyter Notebook are a way to interactively run Python code in a web browser.  They are a great way to learn Python and to share your work with others.  This notebook is a Jupyter Notebook.  It is made up of cells.  Each cell can be either a code cell or a markdown cell.  This cell is a markdown cell.  It contains text and can be used to describe what is going on in the code cells.  The cell below is a code cell.  It contains Python code.  To run the code in a cell, click on the cell and then click the run button in the toolbar above.  You can also run a cell by clicking on the cell and then pressing shift-enter.\n",
    "\n",
    "### Markdown Cells\n",
    "\n",
    "Markdown cells can be formatted using markdown.  Markdown is a simple way to format text.  You can learn more about markdown here: https://www.markdownguide.org/basic-syntax/\n",
    "\n",
    "I can add links to websites such as [Jupyter Notebook](https://jupyter.org/)"
   ]
  },
  {
   "cell_type": "code",
   "execution_count": 1,
   "metadata": {},
   "outputs": [
    {
     "name": "stdout",
     "output_type": "stream",
     "text": [
      "3.11.4 (tags/v3.11.4:d2340ef, Jun  7 2023, 05:45:37) [MSC v.1934 64 bit (AMD64)]\n"
     ]
    }
   ],
   "source": [
    "# I can write any Python code in here\n",
    "# let's print version\n",
    "import sys\n",
    "print(sys.version)"
   ]
  },
  {
   "cell_type": "code",
   "execution_count": 2,
   "metadata": {},
   "outputs": [
    {
     "name": "stdout",
     "output_type": "stream",
     "text": [
      "Valdis\n"
     ]
    }
   ],
   "source": [
    "# variables persist between cells\n",
    "name = \"Valdis\"\n",
    "print(name)\n",
    "# i can call count here if count has been defined somewhere and run\n",
    "# print(\"Count is\", count) # better practice is for cells to go in order\n",
    "# best goal is that all cells can be run without errors in order"
   ]
  },
  {
   "cell_type": "code",
   "execution_count": 3,
   "metadata": {},
   "outputs": [
    {
     "name": "stdout",
     "output_type": "stream",
     "text": [
      "VALDIS\n"
     ]
    }
   ],
   "source": [
    "# name is available in other cells\n",
    "print(name.upper())"
   ]
  },
  {
   "cell_type": "code",
   "execution_count": 4,
   "metadata": {},
   "outputs": [
    {
     "name": "stdout",
     "output_type": "stream",
     "text": [
      "0\n"
     ]
    }
   ],
   "source": [
    "# i can run cells multiple times\n",
    "count = 0\n",
    "print(count)"
   ]
  },
  {
   "cell_type": "code",
   "execution_count": 5,
   "metadata": {},
   "outputs": [
    {
     "name": "stdout",
     "output_type": "stream",
     "text": [
      "Count is now 1\n"
     ]
    }
   ],
   "source": [
    "# so i can keep running this cell\n",
    "count += 1\n",
    "print(\"Count is now\", count)"
   ]
  },
  {
   "cell_type": "markdown",
   "metadata": {},
   "source": [
    "## JSON\n",
    "\n",
    "JSON stands for Javascript Object Notation.\n",
    "\n",
    "INventor: Douglas Crockford while working at Yahoo! in early 2000s\n",
    "\n",
    "Today JSON is the most common format for data transfer between web servers and web browsers.\n",
    "It is used for configuration files and storage of structured data.\n",
    "\n",
    "JSON is a good choice whenever we can't fit data into tabular format.\n",
    "\n",
    "JSON is defined at http://www.json.org/\n",
    "\n",
    "### JSON - text format\n",
    "\n",
    "JSON is a way of structuring data that is easy for humans to read and write and for machines to parse and generate.\n",
    "\n",
    "JSON is a text format - we will need to parse it and translate into Python data structures.\n"
   ]
  },
  {
   "cell_type": "code",
   "execution_count": 9,
   "metadata": {},
   "outputs": [],
   "source": [
    "# we will need json module\n",
    "import json # standard library\n"
   ]
  },
  {
   "cell_type": "code",
   "execution_count": 14,
   "metadata": {},
   "outputs": [
    {
     "name": "stdout",
     "output_type": "stream",
     "text": [
      "<class 'dict'>\n"
     ]
    }
   ],
   "source": [
    "mydata = {\n",
    "    \"name\": \"Valdis\",\n",
    "    \"age\": 99,\n",
    "    \"occupation\": \"Pythonist\",\n",
    "    \"likes\": [\"snowboarding\", \"programming\", \"eating\", \"šahs\"],\n",
    "    \"friends\": [\n",
    "        {\n",
    "            \"name\": \"Voldemars\",\n",
    "            \"age\": 101,\n",
    "            \"occupation\": \"Pythonist\",\n",
    "            \"likes\": (\"snowboarding\", \"programming\", \"eating\"),\n",
    "            \"is_cool\": True,\n",
    "        },\n",
    "        {\n",
    "            \"name\": \"Alice\",\n",
    "            \"age\": 98,\n",
    "            \"occupation\": \"Pythonista\",\n",
    "            \"likes\": [\"skating\", \"programming\", \"eating\"],\n",
    "            \"favorite_skating_rink\": None,\n",
    "        },\n",
    "    ],\n",
    "}\n",
    "# so I have hierarchical data structure in Python\n",
    "# type\n",
    "print(type(mydata)) # dictionary\n"
   ]
  },
  {
   "cell_type": "code",
   "execution_count": 7,
   "metadata": {},
   "outputs": [
    {
     "name": "stdout",
     "output_type": "stream",
     "text": [
      "skating\n"
     ]
    }
   ],
   "source": [
    "# i can get first item of what Alice likes\n",
    "print(mydata[\"friends\"][1][\"likes\"][0])"
   ]
  },
  {
   "cell_type": "code",
   "execution_count": 10,
   "metadata": {},
   "outputs": [],
   "source": [
    "# so let's convert our data to json string - again json is text !\n",
    "json_data = json.dumps(mydata) # this creates a valid json string"
   ]
  },
  {
   "cell_type": "code",
   "execution_count": 11,
   "metadata": {},
   "outputs": [
    {
     "name": "stdout",
     "output_type": "stream",
     "text": [
      "<class 'str'>\n",
      "{\"name\": \"Valdis\", \"age\": 99, \"occupation\": \"Pythonist\", \"likes\": [\"snowboarding\", \"programming\", \"e\n"
     ]
    }
   ],
   "source": [
    "# again json_data is a string !!\n",
    "print(type(json_data))\n",
    "# print first 100 characters\n",
    "print(json_data[:100])"
   ]
  },
  {
   "cell_type": "code",
   "execution_count": 12,
   "metadata": {},
   "outputs": [],
   "source": [
    "# if it is a string we can save it to a file just like any other string\n",
    "with open(\"mydata.json\", \"w\") as f:\n",
    "    f.write(json_data) # since it is a string we can write it to a file"
   ]
  },
  {
   "cell_type": "code",
   "execution_count": 15,
   "metadata": {},
   "outputs": [],
   "source": [
    "# typically we dump json to a file directly \n",
    "# also we want to indent it for readability\n",
    "\n",
    "with open(\"mydata_indented.json\", \"w\") as f:\n",
    "    json.dump(mydata, f, indent=4) # this creates a valid json string\n",
    "    # notice dump vs dumps \n",
    "    # dump is for file\n",
    "    # dumps is for string creation only"
   ]
  },
  {
   "cell_type": "code",
   "execution_count": 16,
   "metadata": {},
   "outputs": [],
   "source": [
    "# if we want to write utf-8 we can do it like this by making two adjustments\n",
    "with open(\"mydata_utf8.json\", \"w\", encoding=\"utf-8\") as f:\n",
    "    json.dump(mydata, f, indent=4, ensure_ascii=False) # this creates a valid json string"
   ]
  },
  {
   "cell_type": "code",
   "execution_count": 17,
   "metadata": {},
   "outputs": [
    {
     "name": "stdout",
     "output_type": "stream",
     "text": [
      "<class 'dict'>\n"
     ]
    }
   ],
   "source": [
    "# Now it is time to read the data back in\n",
    "# we will use json.load(s) for string and json.load(f) for file\n",
    "\n",
    "with open(\"mydata_utf8.json\", \"r\", encoding=\"utf-8\") as f:\n",
    "    loaded_data = json.load(f) # this creates a valid json string by parsing the file\n",
    "\n",
    "print(type(loaded_data)) # again we get a dictionaryb"
   ]
  },
  {
   "cell_type": "code",
   "execution_count": 18,
   "metadata": {},
   "outputs": [
    {
     "name": "stdout",
     "output_type": "stream",
     "text": [
      "skating\n"
     ]
    }
   ],
   "source": [
    "# again let's get first item that Alice likes\n",
    "print(loaded_data[\"friends\"][1][\"likes\"][0])"
   ]
  },
  {
   "cell_type": "code",
   "execution_count": 19,
   "metadata": {},
   "outputs": [
    {
     "name": "stdout",
     "output_type": "stream",
     "text": [
      "<class 'tuple'>\n",
      "<class 'list'>\n"
     ]
    }
   ],
   "source": [
    "# difference will be in data type for likes for Voldmears\n",
    "print(type(mydata[\"friends\"][0][\"likes\"])) # tuple\n",
    "print(type(loaded_data[\"friends\"][0][\"likes\"])) # list"
   ]
  },
  {
   "cell_type": "markdown",
   "metadata": {},
   "source": [
    "## Serializing - Deserializing JSON\n",
    "\n",
    "JSON is a text format - we will need to parse it and translate into Python data structures.\n",
    "\n",
    "Serializing - converting Python data structures into JSON text format.\n",
    "Deserializing - converting JSON text format into Python data structures."
   ]
  },
  {
   "cell_type": "markdown",
   "metadata": {},
   "source": [
    "## Reading JSON from web\n",
    "\n",
    "JSON is often offered by various web services as a way to transfer data.\n",
    "\n",
    "We will use the requests library to read JSON from the web.\n",
    "\n",
    "requests library is a very popular library for reading data from the web.\n",
    "\n",
    "It is a wrapper for  various built in Python libraries such as urllib, and makes it easy to read data from the web."
   ]
  },
  {
   "cell_type": "code",
   "execution_count": 21,
   "metadata": {},
   "outputs": [],
   "source": [
    "# if I do not have requests module installed I can install it from notebook\n",
    "# !pip install requests - call command line from notebook\n",
    "# or I could call from normal terminal pip install requests\n",
    "\n",
    "import requests # we will use requests module to get data from the web"
   ]
  },
  {
   "cell_type": "code",
   "execution_count": 23,
   "metadata": {},
   "outputs": [
    {
     "name": "stdout",
     "output_type": "stream",
     "text": [
      "200\n"
     ]
    }
   ],
   "source": [
    "# there is fake JSON API for testing\n",
    "# https://jsonplaceholder.typicode.com/\n",
    "\n",
    "# i will get all fake posts\n",
    "url = \"https://jsonplaceholder.typicode.com/posts\"\n",
    "response = requests.get(url) # so requests makes a get request to the url\n",
    "# above is where we make a call to the web\n",
    "# there are many options get,post, we can pass auth, headers, etc.\n",
    "# let's see our response status code\n",
    "print(response.status_code) # 200 is good\n",
    "# we could use if or try to check if we got a good response"
   ]
  },
  {
   "cell_type": "code",
   "execution_count": null,
   "metadata": {},
   "outputs": [],
   "source": [
    "# so 400 and 500 series are bad\n",
    "# list of HTTP status codes\n",
    "# https://en.wikipedia.org/wiki/List_of_HTTP_status_codes\n",
    "# 418 is I'm a teapot"
   ]
  },
  {
   "cell_type": "code",
   "execution_count": 25,
   "metadata": {},
   "outputs": [
    {
     "name": "stdout",
     "output_type": "stream",
     "text": [
      "[\n",
      "  {\n",
      "    \"userId\": 1,\n",
      "    \"id\": 1,\n",
      "    \"title\": \"sunt aut facere repellat provident occaecati excep\n"
     ]
    }
   ],
   "source": [
    "# i can get text from response\n",
    "text = response.text\n",
    "print(text[:100])"
   ]
  },
  {
   "cell_type": "code",
   "execution_count": 26,
   "metadata": {},
   "outputs": [
    {
     "name": "stdout",
     "output_type": "stream",
     "text": [
      "<class 'list'>\n",
      "{'userId': 1, 'id': 1, 'title': 'sunt aut facere repellat provident occaecati excepturi optio reprehenderit', 'body': 'quia et suscipit\\nsuscipit recusandae consequuntur expedita et cum\\nreprehenderit molestiae ut ut quas totam\\nnostrum rerum est autem sunt rem eveniet architecto'}\n"
     ]
    }
   ],
   "source": [
    "# then I could parse this string into a dictionary\n",
    "my_posts = json.loads(text) # this creates a valid json string by parsing the file\n",
    "print(type(my_posts)) # again we get a list of dictionaries\n",
    "# first post\n",
    "print(my_posts[0])"
   ]
  },
  {
   "cell_type": "code",
   "execution_count": 24,
   "metadata": {},
   "outputs": [],
   "source": [
    "# requests provides us with a json method to get json data\n",
    "# which much more convenient"
   ]
  },
  {
   "cell_type": "code",
   "execution_count": 27,
   "metadata": {},
   "outputs": [
    {
     "name": "stdout",
     "output_type": "stream",
     "text": [
      "{'userId': 1, 'id': 1, 'title': 'sunt aut facere repellat provident occaecati excepturi optio reprehenderit', 'body': 'quia et suscipit\\nsuscipit recusandae consequuntur expedita et cum\\nreprehenderit molestiae ut ut quas totam\\nnostrum rerum est autem sunt rem eveniet architecto'}\n"
     ]
    }
   ],
   "source": [
    "posts = response.json() # this will parse the json data into a list of dictionaries\n",
    "# first post\n",
    "print(posts[0])"
   ]
  },
  {
   "cell_type": "markdown",
   "metadata": {},
   "source": [
    "## Awesome JSON APIs\n",
    "\n",
    "THere is a curated list of awesome JSON APIs https://github.com/toddmotto/public-apis\n",
    "\n",
    "Keep in mind many APis have rate limits - you can only make a certain number of requests per day or per hour.\n",
    "\n",
    "Also not all are active - most are volunteer projects and may not be maintained. Especially now that Heroku is shutting down their free tier."
   ]
  },
  {
   "cell_type": "code",
   "execution_count": 28,
   "metadata": {},
   "outputs": [
    {
     "name": "stdout",
     "output_type": "stream",
     "text": [
      "200\n"
     ]
    }
   ],
   "source": [
    "cat_url = \"https://cat-fact.herokuapp.com/facts\"\n",
    "cat_response = requests.get(cat_url)\n",
    "print(cat_response.status_code)"
   ]
  },
  {
   "cell_type": "code",
   "execution_count": 29,
   "metadata": {},
   "outputs": [
    {
     "name": "stdout",
     "output_type": "stream",
     "text": [
      "<class 'list'>\n"
     ]
    }
   ],
   "source": [
    "cat_data = cat_response.json()\n",
    "print(type(cat_data)) # again we get a list of dictionaries"
   ]
  },
  {
   "cell_type": "code",
   "execution_count": 30,
   "metadata": {},
   "outputs": [
    {
     "name": "stdout",
     "output_type": "stream",
     "text": [
      "[{'status': {'verified': True, 'sentCount': 1}, '_id': '58e008780aac31001185ed05', 'user': '58e007480aac31001185ecef', 'text': 'Owning a cat can reduce the risk of stroke and heart attack by a third.', '__v': 0, 'source': 'user', 'updatedAt': '2020-08-23T20:20:01.611Z', 'type': 'cat', 'createdAt': '2018-03-29T20:20:03.844Z', 'deleted': False, 'used': False}, {'status': {'verified': True, 'sentCount': 1}, '_id': '58e009390aac31001185ed10', 'user': '58e007480aac31001185ecef', 'text': \"Most cats are lactose intolerant, and milk can cause painful stomach cramps and diarrhea. It's best to forego the milk and just give your cat the standard: clean, cool drinking water.\", '__v': 0, 'source': 'user', 'updatedAt': '2020-08-23T20:20:01.611Z', 'type': 'cat', 'createdAt': '2018-03-04T21:20:02.979Z', 'deleted': False, 'used': False}, {'status': {'verified': True, 'sentCount': 1}, '_id': '588e746706ac2b00110e59ff', 'user': '588e6e8806ac2b00110e59c3', 'text': 'Domestic cats spend about 70 percent of the day sleeping and 15 percent of the day grooming.', '__v': 0, 'source': 'user', 'updatedAt': '2020-08-26T20:20:02.359Z', 'type': 'cat', 'createdAt': '2018-01-14T21:20:02.750Z', 'deleted': False, 'used': True}]\n"
     ]
    }
   ],
   "source": [
    "# first 3 cat facts\n",
    "print(cat_data[:3])"
   ]
  },
  {
   "cell_type": "code",
   "execution_count": 31,
   "metadata": {},
   "outputs": [
    {
     "name": "stdout",
     "output_type": "stream",
     "text": [
      "Owning a cat can reduce the risk of stroke and heart attack by a third.\n"
     ]
    }
   ],
   "source": [
    "# TODO unwrap the first cat fact - we just  want the text\n",
    "print(cat_data[0][\"text\"])"
   ]
  }
 ],
 "metadata": {
  "kernelspec": {
   "display_name": "my_virtual_env",
   "language": "python",
   "name": "python3"
  },
  "language_info": {
   "codemirror_mode": {
    "name": "ipython",
    "version": 3
   },
   "file_extension": ".py",
   "mimetype": "text/x-python",
   "name": "python",
   "nbconvert_exporter": "python",
   "pygments_lexer": "ipython3",
   "version": "3.11.4"
  },
  "orig_nbformat": 4
 },
 "nbformat": 4,
 "nbformat_minor": 2
}
