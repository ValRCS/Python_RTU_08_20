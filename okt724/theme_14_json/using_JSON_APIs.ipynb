{
 "cells": [
  {
   "cell_type": "markdown",
   "metadata": {},
   "source": [
    "# JSON and JSON APIs\n",
    "\n",
    "## JSON - Javascript Object Notation\n",
    "\n",
    "JSON is the most widely format for data interchange on the web. It is a lightweight data interchange format that is easy for humans to read and write and easy for machines to parse and generate. It is based on a subset of the JavaScript Programming Language, Standard ECMA-262 3rd Edition - December 1999. JSON is a text format that is completely language independent but uses conventions that are familiar to programmers of the C-family of languages, including C, C++, C#, Java, JavaScript, Perl, Python, and many others. These properties make JSON an ideal data-interchange language.\n",
    "\n",
    "### Inventor - Douglas Crockford from Yahoo\n",
    "\n",
    "* Goal - To provide a simple data exchange format that is easy to read and write.\n",
    "* Human Readable - JSON is easy to read and write.\n",
    "* Machine Parsable - JSON is easy to parse and generate for computers.\n",
    "* JSON is language independent.\n",
    "* JSON is \"self-describing\" and easy to understand.\n",
    "* JSON is built on two structures:\n",
    "    * A collection of name/value pairs. In various languages, this is realized as an object, record, struct, dictionary, hash table, keyed list, or associative array.\n",
    "    * An ordered list of values. In most languages, this is realized as an array, vector, list, or sequence.\n",
    "\n",
    "\n",
    "### JSON Official Page\n",
    "\n",
    "[JSON Official Page](https://www.json.org/json-en.html)"
   ]
  },
  {
   "cell_type": "markdown",
   "metadata": {},
   "source": [
    "## JSON Syntax\n",
    "\n",
    "Main thing to remember is that JSON is a text format that is completely language independent but uses conventions that are familiar to programmers of the C-family of languages, including C, C++, C#, Java, JavaScript, Perl, Python, and many others."
   ]
  },
  {
   "cell_type": "code",
   "execution_count": null,
   "metadata": {},
   "outputs": [
    {
     "name": "stdout",
     "output_type": "stream",
     "text": [
      "Data type of foods: <class 'list'>\n",
      "Data type of first element in foods: <class 'dict'>\n"
     ]
    }
   ],
   "source": [
    "# let's make a simple JSON string\n",
    "import json # standard library # no pip install needed\n",
    "\n",
    "# let's make a simple list of dictionaries that describe my favorite foods\n",
    "foods = [{\"name\": \"pizza\", \"type\": \"Italian\", \"price\": 10.99},\n",
    "         {\"name\": \"sushi\", \"type\": \"Japanese\", \"price\": 24.99},\n",
    "         {\"name\": \"cheeseburger\", \"type\": \"American\", \"price\": 8.99}]\n",
    "\n",
    "# the keys and values could be anything really valid in Python\n",
    "\n",
    "# print data type of foods\n",
    "print(\"Data type of foods:\", type(foods))\n",
    "# print data type of first element in foods\n",
    "print(\"Data type of first element in foods:\", type(foods[0]))"
   ]
  },
  {
   "cell_type": "code",
   "execution_count": 3,
   "metadata": {},
   "outputs": [
    {
     "name": "stdout",
     "output_type": "stream",
     "text": [
      "Data type of foods_json: <class 'str'>\n"
     ]
    }
   ],
   "source": [
    "# now we will convert this list of dictionaries to a JSON string\n",
    "# it is called serialization in a programming context\n",
    "# why because Python data format is not understood by other programming languages\n",
    "# strings on other hand can be understood by other programming languages and humans\n",
    "foods_json = json.dumps(foods) # dumps takes any data type and converts it to a JSON string\n",
    "print(\"Data type of foods_json:\", type(foods_json))"
   ]
  },
  {
   "cell_type": "code",
   "execution_count": 4,
   "metadata": {},
   "outputs": [
    {
     "name": "stdout",
     "output_type": "stream",
     "text": [
      "foods_json:\n",
      " [{\"name\": \"pizza\", \"type\": \"Italian\", \"price\": 10.99}, {\"name\": \"sushi\", \"type\": \"Japanese\", \"price\": 24.99}, {\"name\": \"cheeseburger\", \"type\": \"American\", \"price\": 8.99}]\n"
     ]
    }
   ],
   "source": [
    "# print the JSON string\n",
    "print(\"foods_json:\\n\", foods_json)"
   ]
  },
  {
   "cell_type": "code",
   "execution_count": 5,
   "metadata": {},
   "outputs": [
    {
     "name": "stdout",
     "output_type": "stream",
     "text": [
      "Data type of foods_from_json: <class 'list'>\n"
     ]
    }
   ],
   "source": [
    "# let's get back the data from the JSON string\n",
    "# it is called deserialization in a programming context\n",
    "# we are converting a JSON string to a Python data type\n",
    "foods_from_json = json.loads(foods_json) # loads takes a JSON string and converts it to a Python data type\n",
    "print(\"Data type of foods_from_json:\", type(foods_from_json))"
   ]
  },
  {
   "cell_type": "code",
   "execution_count": 6,
   "metadata": {},
   "outputs": [
    {
     "name": "stdout",
     "output_type": "stream",
     "text": [
      "foods_from_json: [{'name': 'pizza', 'type': 'Italian', 'price': 10.99}, {'name': 'sushi', 'type': 'Japanese', 'price': 24.99}, {'name': 'cheeseburger', 'type': 'American', 'price': 8.99}]\n"
     ]
    }
   ],
   "source": [
    "# print all data\n",
    "print(\"foods_from_json:\", foods_from_json)"
   ]
  },
  {
   "cell_type": "markdown",
   "metadata": {},
   "source": [
    "## Saving data to JSON file"
   ]
  },
  {
   "cell_type": "code",
   "execution_count": 9,
   "metadata": {},
   "outputs": [
    {
     "name": "stdout",
     "output_type": "stream",
     "text": [
      "foods: [{'name': 'pizza', 'type': 'Italian', 'price': 10.99}, {'name': 'sushi', 'type': 'Japanese', 'price': 24.99}, {'name': 'cheeseburger', 'type': 'American', 'price': 8.99}, {'name': 'kartupeļi', 'type': 'Latvian', 'price': 3.99}]\n"
     ]
    }
   ],
   "source": [
    "# first let's add some latvian food item to our list\n",
    "foods.append({\"name\": \"kartupeļi\", \"type\": \"Latvian\", \"price\": 3.99})\n",
    "print(\"foods:\", foods)"
   ]
  },
  {
   "cell_type": "code",
   "execution_count": 10,
   "metadata": {},
   "outputs": [],
   "source": [
    "# let's save our data to a file\n",
    "with open(\"foods.json\", \"w\") as file:\n",
    "    json.dump(foods, file) # dump takes a Python data type and saves it to a file in JSON format\n",
    "    # note dump not dumps, dump takes also a file stream as second argument"
   ]
  },
  {
   "cell_type": "code",
   "execution_count": 11,
   "metadata": {},
   "outputs": [],
   "source": [
    "# let's add indent to make it more readable\n",
    "with open(\"foods_pretty.json\", \"w\") as file:\n",
    "    json.dump(foods, file, indent=4) # indent makes it more readable"
   ]
  },
  {
   "cell_type": "code",
   "execution_count": 13,
   "metadata": {},
   "outputs": [],
   "source": [
    "# let's add encoding utf-8 to make sure it is saved in utf-8 format\n",
    "with open(\"foods_utf8.json\", \"w\", encoding=\"utf-8\") as file:\n",
    "    json.dump(foods, file, indent=4, ensure_ascii=False) # ensure_ascii=False makes sure it is saved in utf-8 format"
   ]
  },
  {
   "cell_type": "markdown",
   "metadata": {},
   "source": [
    "## Reading JSON files\n",
    "\n"
   ]
  },
  {
   "cell_type": "code",
   "execution_count": 14,
   "metadata": {},
   "outputs": [
    {
     "name": "stdout",
     "output_type": "stream",
     "text": [
      "{'name': 'pizza', 'type': 'Italian', 'price': 10.99}\n",
      "{'name': 'sushi', 'type': 'Japanese', 'price': 18.99}\n",
      "{'name': 'cheeseburger', 'type': 'American', 'price': 8.99}\n",
      "{'name': 'kartupeļi', 'type': 'Latvian', 'price': 3.99}\n"
     ]
    }
   ],
   "source": [
    "# we will use load to read the data from the file\n",
    "# we will open the utf-8 file\n",
    "with open(\"foods_utf8.json\", \"r\", encoding=\"utf-8\") as file:\n",
    "    foods_from_file = json.load(file) # load takes a file stream and reads the JSON data from it\n",
    "\n",
    "# print what we loaded line by line\n",
    "for food in foods_from_file:\n",
    "    print(food)"
   ]
  }
 ],
 "metadata": {
  "kernelspec": {
   "display_name": "Python 3",
   "language": "python",
   "name": "python3"
  },
  "language_info": {
   "codemirror_mode": {
    "name": "ipython",
    "version": 3
   },
   "file_extension": ".py",
   "mimetype": "text/x-python",
   "name": "python",
   "nbconvert_exporter": "python",
   "pygments_lexer": "ipython3",
   "version": "3.13.0"
  }
 },
 "nbformat": 4,
 "nbformat_minor": 2
}
