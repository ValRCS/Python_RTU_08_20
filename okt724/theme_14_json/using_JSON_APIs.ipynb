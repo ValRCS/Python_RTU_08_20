{
 "cells": [
  {
   "cell_type": "markdown",
   "metadata": {},
   "source": [
    "# JSON and JSON APIs\n",
    "\n",
    "## JSON - Javascript Object Notation\n",
    "\n",
    "JSON is the most widely format for data interchange on the web. It is a lightweight data interchange format that is easy for humans to read and write and easy for machines to parse and generate. It is based on a subset of the JavaScript Programming Language, Standard ECMA-262 3rd Edition - December 1999. JSON is a text format that is completely language independent but uses conventions that are familiar to programmers of the C-family of languages, including C, C++, C#, Java, JavaScript, Perl, Python, and many others. These properties make JSON an ideal data-interchange language.\n",
    "\n",
    "### Inventor - Douglas Crockford from Yahoo\n",
    "\n",
    "* Goal - To provide a simple data exchange format that is easy to read and write.\n",
    "* Human Readable - JSON is easy to read and write.\n",
    "* Machine Parsable - JSON is easy to parse and generate for computers.\n",
    "* JSON is language independent.\n",
    "* JSON is \"self-describing\" and easy to understand.\n",
    "* JSON is built on two structures:\n",
    "    * A collection of name/value pairs. In various languages, this is realized as an object, record, struct, dictionary, hash table, keyed list, or associative array.\n",
    "    * An ordered list of values. In most languages, this is realized as an array, vector, list, or sequence.\n",
    "\n",
    "\n",
    "### JSON Official Page\n",
    "\n",
    "[JSON Official Page](https://www.json.org/json-en.html)"
   ]
  },
  {
   "cell_type": "markdown",
   "metadata": {},
   "source": [
    "## JSON Syntax\n",
    "\n",
    "Main thing to remember is that JSON is a text format that is completely language independent but uses conventions that are familiar to programmers of the C-family of languages, including C, C++, C#, Java, JavaScript, Perl, Python, and many others."
   ]
  },
  {
   "cell_type": "code",
   "execution_count": null,
   "metadata": {},
   "outputs": [
    {
     "name": "stdout",
     "output_type": "stream",
     "text": [
      "Data type of foods: <class 'list'>\n",
      "Data type of first element in foods: <class 'dict'>\n"
     ]
    }
   ],
   "source": [
    "# let's make a simple JSON string\n",
    "import json # standard library # no pip install needed\n",
    "\n",
    "# let's make a simple list of dictionaries that describe my favorite foods\n",
    "foods = [{\"name\": \"pizza\", \"type\": \"Italian\", \"price\": 10.99},\n",
    "         {\"name\": \"sushi\", \"type\": \"Japanese\", \"price\": 24.99},\n",
    "         {\"name\": \"cheeseburger\", \"type\": \"American\", \"price\": 8.99}]\n",
    "\n",
    "# the keys and values could be anything really valid in Python\n",
    "\n",
    "# print data type of foods\n",
    "print(\"Data type of foods:\", type(foods))\n",
    "# print data type of first element in foods\n",
    "print(\"Data type of first element in foods:\", type(foods[0]))"
   ]
  },
  {
   "cell_type": "code",
   "execution_count": 3,
   "metadata": {},
   "outputs": [
    {
     "name": "stdout",
     "output_type": "stream",
     "text": [
      "Data type of foods_json: <class 'str'>\n"
     ]
    }
   ],
   "source": [
    "# now we will convert this list of dictionaries to a JSON string\n",
    "# it is called serialization in a programming context\n",
    "# why because Python data format is not understood by other programming languages\n",
    "# strings on other hand can be understood by other programming languages and humans\n",
    "foods_json = json.dumps(foods) # dumps takes any data type and converts it to a JSON string\n",
    "print(\"Data type of foods_json:\", type(foods_json))"
   ]
  },
  {
   "cell_type": "code",
   "execution_count": 4,
   "metadata": {},
   "outputs": [
    {
     "name": "stdout",
     "output_type": "stream",
     "text": [
      "foods_json:\n",
      " [{\"name\": \"pizza\", \"type\": \"Italian\", \"price\": 10.99}, {\"name\": \"sushi\", \"type\": \"Japanese\", \"price\": 24.99}, {\"name\": \"cheeseburger\", \"type\": \"American\", \"price\": 8.99}]\n"
     ]
    }
   ],
   "source": [
    "# print the JSON string\n",
    "print(\"foods_json:\\n\", foods_json)"
   ]
  },
  {
   "cell_type": "code",
   "execution_count": 5,
   "metadata": {},
   "outputs": [
    {
     "name": "stdout",
     "output_type": "stream",
     "text": [
      "Data type of foods_from_json: <class 'list'>\n"
     ]
    }
   ],
   "source": [
    "# let's get back the data from the JSON string\n",
    "# it is called deserialization in a programming context\n",
    "# we are converting a JSON string to a Python data type\n",
    "foods_from_json = json.loads(foods_json) # loads takes a JSON string and converts it to a Python data type\n",
    "print(\"Data type of foods_from_json:\", type(foods_from_json))"
   ]
  },
  {
   "cell_type": "code",
   "execution_count": 6,
   "metadata": {},
   "outputs": [
    {
     "name": "stdout",
     "output_type": "stream",
     "text": [
      "foods_from_json: [{'name': 'pizza', 'type': 'Italian', 'price': 10.99}, {'name': 'sushi', 'type': 'Japanese', 'price': 24.99}, {'name': 'cheeseburger', 'type': 'American', 'price': 8.99}]\n"
     ]
    }
   ],
   "source": [
    "# print all data\n",
    "print(\"foods_from_json:\", foods_from_json)"
   ]
  },
  {
   "cell_type": "markdown",
   "metadata": {},
   "source": [
    "## Saving data to JSON file"
   ]
  },
  {
   "cell_type": "code",
   "execution_count": 9,
   "metadata": {},
   "outputs": [
    {
     "name": "stdout",
     "output_type": "stream",
     "text": [
      "foods: [{'name': 'pizza', 'type': 'Italian', 'price': 10.99}, {'name': 'sushi', 'type': 'Japanese', 'price': 24.99}, {'name': 'cheeseburger', 'type': 'American', 'price': 8.99}, {'name': 'kartupeļi', 'type': 'Latvian', 'price': 3.99}]\n"
     ]
    }
   ],
   "source": [
    "# first let's add some latvian food item to our list\n",
    "foods.append({\"name\": \"kartupeļi\", \"type\": \"Latvian\", \"price\": 3.99})\n",
    "print(\"foods:\", foods)"
   ]
  },
  {
   "cell_type": "code",
   "execution_count": 10,
   "metadata": {},
   "outputs": [],
   "source": [
    "# let's save our data to a file\n",
    "with open(\"foods.json\", \"w\") as file:\n",
    "    json.dump(foods, file) # dump takes a Python data type and saves it to a file in JSON format\n",
    "    # note dump not dumps, dump takes also a file stream as second argument"
   ]
  },
  {
   "cell_type": "code",
   "execution_count": 11,
   "metadata": {},
   "outputs": [],
   "source": [
    "# let's add indent to make it more readable\n",
    "with open(\"foods_pretty.json\", \"w\") as file:\n",
    "    json.dump(foods, file, indent=4) # indent makes it more readable"
   ]
  },
  {
   "cell_type": "code",
   "execution_count": 13,
   "metadata": {},
   "outputs": [],
   "source": [
    "# let's add encoding utf-8 to make sure it is saved in utf-8 format\n",
    "with open(\"foods_utf8.json\", \"w\", encoding=\"utf-8\") as file:\n",
    "    json.dump(foods, file, indent=4, ensure_ascii=False) # ensure_ascii=False makes sure it is saved in utf-8 format"
   ]
  },
  {
   "cell_type": "markdown",
   "metadata": {},
   "source": [
    "## Reading JSON files\n",
    "\n"
   ]
  },
  {
   "cell_type": "code",
   "execution_count": 14,
   "metadata": {},
   "outputs": [
    {
     "name": "stdout",
     "output_type": "stream",
     "text": [
      "{'name': 'pizza', 'type': 'Italian', 'price': 10.99}\n",
      "{'name': 'sushi', 'type': 'Japanese', 'price': 18.99}\n",
      "{'name': 'cheeseburger', 'type': 'American', 'price': 8.99}\n",
      "{'name': 'kartupeļi', 'type': 'Latvian', 'price': 3.99}\n"
     ]
    }
   ],
   "source": [
    "# we will use load to read the data from the file\n",
    "# we will open the utf-8 file\n",
    "with open(\"foods_utf8.json\", \"r\", encoding=\"utf-8\") as file:\n",
    "    foods_from_file = json.load(file) # load takes a file stream and reads the JSON data from it\n",
    "\n",
    "# print what we loaded line by line\n",
    "for food in foods_from_file:\n",
    "    print(food)"
   ]
  },
  {
   "cell_type": "markdown",
   "metadata": {},
   "source": [
    "## JSON vs Python data types\n",
    "\n",
    "Not all of Python's data types can be represented in JSON. JSON supports the following data types:\n",
    "* Number (integer, real, or floating point)\n",
    "* String (double-quoted Unicode with backslash escaping)\n",
    "* Boolean (true and false)\n",
    "* Array (an ordered sequence of values, comma-separated and enclosed in square brackets)\n",
    "* Object (collection of key/value pairs, comma-separated and enclosed in curly braces)\n",
    "\n",
    "JSON does not support:\n",
    "* NaN, Infinity, -Infinity\n",
    "* Date, datetime, time, timedelta\n",
    "* Set, frozenset\n",
    "* Bytes, bytearray\n",
    "* complex\n",
    "* comments"
   ]
  },
  {
   "cell_type": "code",
   "execution_count": 16,
   "metadata": {},
   "outputs": [
    {
     "name": "stdout",
     "output_type": "stream",
     "text": [
      "int: 1\n",
      "float: 1.1\n",
      "str: hello\n",
      "list: [1, 2, 3]\n",
      "dict: {'a': 1, 'b': 2}\n",
      "bool: True\n",
      "bool2: False\n",
      "none: None\n",
      "tuple: (1, 2, 3)\n"
     ]
    }
   ],
   "source": [
    "# let's see the loss of some types in action\n",
    "\n",
    "# let's make a dictionary with some data types\n",
    "data = {\"int\": 1, \n",
    "        \"float\": 1.1, \n",
    "        \"str\": \"hello\", \n",
    "        \"list\": [1, 2, 3], \n",
    "        \"dict\": {\"a\": 1, \"b\": 2},\n",
    "        \"bool\": True,\n",
    "        \"bool2\": False,\n",
    "        \"none\": None,\n",
    "        \"tuple\": (1, 2, 3)}\n",
    "\n",
    "# print data one by one\n",
    "for key, value in data.items():\n",
    "    print(f\"{key}: {value}\")"
   ]
  },
  {
   "cell_type": "code",
   "execution_count": 17,
   "metadata": {},
   "outputs": [
    {
     "name": "stdout",
     "output_type": "stream",
     "text": [
      "{\n",
      "    \"int\": 1,\n",
      "    \"float\": 1.1,\n",
      "    \"str\": \"hello\",\n",
      "    \"list\": [\n",
      "        1,\n",
      "        2,\n",
      "        3\n",
      "    ],\n",
      "    \"dict\": {\n",
      "        \"a\": 1,\n",
      "        \"b\": 2\n",
      "    },\n",
      "    \"bool\": true,\n",
      "    \"bool2\": false,\n",
      "    \"none\": null,\n",
      "    \"tuple\": [\n",
      "        1,\n",
      "        2,\n",
      "        3\n",
      "    ]\n",
      "}\n"
     ]
    }
   ],
   "source": [
    "# let's convert it to an indented JSON string\n",
    "data_json = json.dumps(data, indent=4)\n",
    "# print the JSON string - this will be multi-line\n",
    "print(data_json)"
   ]
  },
  {
   "cell_type": "code",
   "execution_count": 18,
   "metadata": {},
   "outputs": [
    {
     "name": "stdout",
     "output_type": "stream",
     "text": [
      "int: 1\n",
      "float: 1.1\n",
      "str: hello\n",
      "list: [1, 2, 3]\n",
      "dict: {'a': 1, 'b': 2}\n",
      "bool: True\n",
      "bool2: False\n",
      "none: None\n",
      "tuple: [1, 2, 3]\n"
     ]
    }
   ],
   "source": [
    "# therefore when we convert from JSON string back to Python data type\n",
    "# instead of original tuple we will get a list\n",
    "data_from_json = json.loads(data_json)\n",
    "# print data one by one\n",
    "for key, value in data_from_json.items():\n",
    "    print(f\"{key}: {value}\")"
   ]
  },
  {
   "cell_type": "markdown",
   "metadata": {},
   "source": [
    "## JSON APIs\n",
    "\n",
    "JSON data is often used in APIs. APIs are a set of rules and protocols that allow one software application to communicate with another.\n",
    "\n",
    "Often an internet API will return data in JSON format. This data can be used in your Python program.\n",
    "\n",
    "### Sources of free APIs for testing\n",
    "\n",
    "#### Testing APIs\n",
    "\n",
    "* [JSONPlaceholder](https://jsonplaceholder.typicode.com/) - Fake Online REST API for Testing and Prototyping\n"
   ]
  },
  {
   "cell_type": "code",
   "execution_count": null,
   "metadata": {},
   "outputs": [
    {
     "name": "stdout",
     "output_type": "stream",
     "text": [
      "requests library is installed\n"
     ]
    }
   ],
   "source": [
    "# we could use standard library tools to get data from internet\n",
    "# instead we will use requests library - which is not part of standard library\n",
    "# requests is a third party library - very popular for making HTTP requests\n",
    "# docs: https://docs.python-requests.org/en/master/\n",
    "\n",
    "# try to import requests\n",
    "try:\n",
    "    import requests\n",
    "    print(\"requests library is installed\")\n",
    "except ImportError:\n",
    "    print(\"requests library is not installed\")\n",
    "    print(\"please install it with: pip install requests\")"
   ]
  },
  {
   "cell_type": "code",
   "execution_count": 21,
   "metadata": {},
   "outputs": [
    {
     "name": "stdout",
     "output_type": "stream",
     "text": [
      "url: https://jsonplaceholder.typicode.com/todos\n"
     ]
    }
   ],
   "source": [
    "# to make a request we first need url - uniform resource locator\n",
    "url = \"https://jsonplaceholder.typicode.com/todos\"\n",
    "print(\"url:\", url)"
   ]
  },
  {
   "cell_type": "code",
   "execution_count": null,
   "metadata": {},
   "outputs": [
    {
     "name": "stdout",
     "output_type": "stream",
     "text": [
      "response code: 200\n"
     ]
    }
   ],
   "source": [
    "# now I will make a htpp GET request to the url\n",
    "# kind of similar to what a web browser does when you type in a url\n",
    "\n",
    "response = requests.get(url) # this connects to the url and gets the data\n",
    "# print response code - could check for 200 which means success\n",
    "print(\"response code:\", response.status_code)\n",
    "# wikipedia has a list of response codes: https://en.wikipedia.org/wiki/List_of_HTTP_status_codes"
   ]
  },
  {
   "cell_type": "code",
   "execution_count": 23,
   "metadata": {},
   "outputs": [
    {
     "name": "stdout",
     "output_type": "stream",
     "text": [
      "text: [\n",
      "  {\n",
      "    \"userId\": 1,\n",
      "    \"id\": 1,\n",
      "    \"title\": \"delectus aut autem\",\n",
      "    \"completed\": false\n",
      "  },\n",
      " \n"
     ]
    }
   ],
   "source": [
    "# now since response is 200 we are good to go\n",
    "# we could read the text from the response\n",
    "text = response.text\n",
    "# print first 100 characters of the text\n",
    "print(\"text:\", text[:100])"
   ]
  },
  {
   "cell_type": "code",
   "execution_count": 24,
   "metadata": {},
   "outputs": [
    {
     "name": "stdout",
     "output_type": "stream",
     "text": [
      "data type of data: <class 'list'>\n",
      "first element of data: {'userId': 1, 'id': 1, 'title': 'delectus aut autem', 'completed': False}\n"
     ]
    }
   ],
   "source": [
    "# looks like JSON string we can conver it to a Python data type\n",
    "data = json.loads(text)\n",
    "# print data type of data\n",
    "print(\"data type of data:\", type(data))\n",
    "# print first element of data\n",
    "print(\"first element of data:\", data[0])"
   ]
  },
  {
   "cell_type": "code",
   "execution_count": 25,
   "metadata": {},
   "outputs": [
    {
     "name": "stdout",
     "output_type": "stream",
     "text": [
      "data type of data: <class 'list'>\n",
      "first element of data: {'userId': 1, 'id': 1, 'title': 'delectus aut autem', 'completed': False}\n"
     ]
    }
   ],
   "source": [
    "# usually if we know our response is JSON we can use response.json() method immediately\n",
    "data = response.json() # very convenient\n",
    "# print data type of data\n",
    "print(\"data type of data:\", type(data))\n",
    "# print first element of data\n",
    "print(\"first element of data:\", data[0])"
   ]
  },
  {
   "cell_type": "markdown",
   "metadata": {},
   "source": [
    "### Awesome JSON APIs\n",
    "\n",
    "* [Awesome JSON Datasets](https://github.com/public-api-lists/public-api-lists)\n",
    "\n"
   ]
  },
  {
   "cell_type": "code",
   "execution_count": 26,
   "metadata": {},
   "outputs": [
    {
     "name": "stdout",
     "output_type": "stream",
     "text": [
      "cat_url: https://cat-fact.herokuapp.com/facts\n",
      "cat_facts: [{'status': {'verified': True, 'sentCount': 1}, '_id': '58e008780aac31001185ed05', 'user': '58e007480aac31001185ecef', 'text': 'Owning a cat can reduce the risk of stroke and heart attack by a third.', '__v': 0, 'source': 'user', 'updatedAt': '2020-08-23T20:20:01.611Z', 'type': 'cat', 'createdAt': '2018-03-29T20:20:03.844Z', 'deleted': False, 'used': False}, {'status': {'verified': True, 'sentCount': 1}, '_id': '58e009390aac31001185ed10', 'user': '58e007480aac31001185ecef', 'text': \"Most cats are lactose intolerant, and milk can cause painful stomach cramps and diarrhea. It's best to forego the milk and just give your cat the standard: clean, cool drinking water.\", '__v': 0, 'source': 'user', 'updatedAt': '2020-08-23T20:20:01.611Z', 'type': 'cat', 'createdAt': '2018-03-04T21:20:02.979Z', 'deleted': False, 'used': False}, {'status': {'verified': True, 'sentCount': 1}, '_id': '588e746706ac2b00110e59ff', 'user': '588e6e8806ac2b00110e59c3', 'text': 'Domestic cats spend about 70 percent of the day sleeping and 15 percent of the day grooming.', '__v': 0, 'source': 'user', 'updatedAt': '2020-08-26T20:20:02.359Z', 'type': 'cat', 'createdAt': '2018-01-14T21:20:02.750Z', 'deleted': False, 'used': True}, {'status': {'verified': True, 'sentCount': 1}, '_id': '58e008ad0aac31001185ed0c', 'user': '58e007480aac31001185ecef', 'text': \"The frequency of a domestic cat's purr is the same at which muscles and bones repair themselves.\", '__v': 0, 'source': 'user', 'updatedAt': '2020-08-24T20:20:01.867Z', 'type': 'cat', 'createdAt': '2018-03-15T20:20:03.281Z', 'deleted': False, 'used': True}, {'status': {'verified': True, 'sentCount': 1}, '_id': '58e007cc0aac31001185ecf5', 'user': '58e007480aac31001185ecef', 'text': 'Cats are the most popular pet in the United States: There are 88 million pet cats and 74 million dogs.', '__v': 0, 'source': 'user', 'updatedAt': '2020-08-23T20:20:01.611Z', 'type': 'cat', 'createdAt': '2018-03-01T21:20:02.713Z', 'deleted': False, 'used': False}]\n"
     ]
    }
   ],
   "source": [
    "# let's get some cat facts from the Cat Facts API\n",
    "\n",
    "cat_url = \"https://cat-fact.herokuapp.com/facts\"\n",
    "print(\"cat_url:\", cat_url)\n",
    "cat_facts  = requests.get(cat_url).json() # we assume it will not fail and is JSON\n",
    "# raw facts\n",
    "print(\"cat_facts:\", cat_facts)\n"
   ]
  },
  {
   "cell_type": "code",
   "execution_count": 28,
   "metadata": {},
   "outputs": [
    {
     "name": "stdout",
     "output_type": "stream",
     "text": [
      "Owning a cat can reduce the risk of stroke and heart attack by a third.\n",
      "Most cats are lactose intolerant, and milk can cause painful stomach cramps and diarrhea. It's best to forego the milk and just give your cat the standard: clean, cool drinking water.\n",
      "Domestic cats spend about 70 percent of the day sleeping and 15 percent of the day grooming.\n",
      "The frequency of a domestic cat's purr is the same at which muscles and bones repair themselves.\n",
      "Cats are the most popular pet in the United States: There are 88 million pet cats and 74 million dogs.\n"
     ]
    }
   ],
   "source": [
    "# let's get only facts from the cat facts\n",
    "# the facts are in the \"text\" key for each dictionary which we have a list of\n",
    "cat_facts_text = []\n",
    "for fact in cat_facts:\n",
    "    cat_facts_text.append(fact.get(\"text\", \"no fact\")) # the rest of keys we do not need\n",
    "\n",
    "# print cat facts one by one\n",
    "for fact in cat_facts_text:\n",
    "    print(fact)"
   ]
  }
 ],
 "metadata": {
  "kernelspec": {
   "display_name": "Python 3",
   "language": "python",
   "name": "python3"
  },
  "language_info": {
   "codemirror_mode": {
    "name": "ipython",
    "version": 3
   },
   "file_extension": ".py",
   "mimetype": "text/x-python",
   "name": "python",
   "nbconvert_exporter": "python",
   "pygments_lexer": "ipython3",
   "version": "3.13.0"
  }
 },
 "nbformat": 4,
 "nbformat_minor": 2
}
