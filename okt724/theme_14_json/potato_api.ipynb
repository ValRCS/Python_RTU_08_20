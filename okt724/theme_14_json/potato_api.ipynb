{
 "cells": [
  {
   "cell_type": "markdown",
   "metadata": {},
   "source": [
    "# Getting recipes from the internet\n",
    "\n",
    "We will use JSON API"
   ]
  },
  {
   "cell_type": "code",
   "execution_count": null,
   "metadata": {},
   "outputs": [
    {
     "name": "stdout",
     "output_type": "stream",
     "text": [
      "3 potato recipes have been saved to potato_recipes.json.\n",
      "2 soup recipes have been saved to soup_recipes.json.\n",
      "Garlic, minced,9\n",
      "Salt and pepper to taste,8\n",
      "Onions, finely chopped,7\n",
      "Salt to taste,6\n",
      "Sesame oil,4\n"
     ]
    }
   ],
   "source": [
    "import requests\n",
    "import json\n",
    "from collections import Counter\n",
    " \n",
    "url = \"https://dummyjson.com/recipes\"\n",
    "# good idea to check URL with a browser first to see the structure of the data\n",
    "response = requests.get(url)\n",
    " \n",
    "if response.status_code == 200: # 200 means OK\n",
    "    data = response.json() # we expect a JSON response\n",
    "    # if there is not valid JSON we will get an error here we can use try-except block to handle it\n",
    "    # JSON is just a structured string\n",
    "    #print(\"data type of data:\", type(data)) \n",
    "    # dict\n",
    "    recipes = data.get(\"recipes\")\n",
    "    # we know that our data is a dictionary and it has a key called \"recipes\"\n",
    "    #print(\"data type of data:\", type(recipes))\n",
    "    # list\n",
    " \n",
    "    # 1a. Izvelciet 5 receptes kas satur kartupeļus no sekojoša API:\n",
    "    find_ingredient = \"potato\"\n",
    "    count = 5\n",
    "    find_ingredient_recipes = []\n",
    "    for recipe in recipes:\n",
    "        for ingredient in recipe['ingredients']:\n",
    "            if find_ingredient in ingredient.lower():\n",
    "                find_ingredient_recipes.append(recipe)\n",
    "    #print(\"Potato recipes:\", find_ingredient_recipes)\n",
    "    find_ingredient_recipes = find_ingredient_recipes[:count]\n",
    " \n",
    "    # Save to a JSON file\n",
    "    json_file_name = find_ingredient + '_recipes.json'\n",
    "    with open(json_file_name, 'w', encoding='utf-8') as write_file:\n",
    "        json.dump(find_ingredient_recipes, write_file, indent=4, ensure_ascii=False)\n",
    " \n",
    "    print(f\"{len(find_ingredient_recipes)} {find_ingredient} recipes have been saved to {json_file_name}.\")\n",
    " \n",
    " \n",
    "# 1b. Izvelciet  visas  zupu receptes no tā API\n",
    "    find_meal = \"soup\"\n",
    "    find_meal_list = []\n",
    "    for recipe in recipes:\n",
    "        # There were no soup recepies in field \"mealType\", only in field \"tags\"\n",
    "        for meal in recipe['tags']:\n",
    "            if find_meal in meal.lower():\n",
    "                find_meal_list.append(recipe)\n",
    "    # Save to a JSON file\n",
    "    json_file_name = find_meal + '_recipes.json'\n",
    "    with open(json_file_name, 'w', encoding='utf-8') as write_file:\n",
    "        json.dump(find_meal_list, write_file, indent=4, ensure_ascii=False)\n",
    " \n",
    "    print(f\"{len(find_meal_list)} {find_meal} recipes have been saved to {json_file_name}.\")\n",
    " \n",
    " \n",
    "    # 1d Atrodied visvairāk izmantotos ingredients \n",
    "    ingredient_list = []\n",
    "    ingredient_counter = Counter(ingredient_list)\n",
    "    for recipe in recipes:\n",
    "        for ingredient in recipe['ingredients']:\n",
    "            ingredient_list.append(ingredient)\n",
    "    ingredient_counter.update(ingredient_list)\n",
    "    for ingredient, count in ingredient_counter.most_common(5):\n",
    "            print(f\"{ingredient},{count}\")\n",
    " \n",
    " \n",
    "else:\n",
    "    print(f\"Failed to get data from the API. Status code: {response.status_code}\")"
   ]
  },
  {
   "cell_type": "code",
   "execution_count": null,
   "metadata": {},
   "outputs": [
    {
     "name": "stdout",
     "output_type": "stream",
     "text": [
      "5 oil recipes have been found.\n"
     ]
    }
   ],
   "source": [
    "# let's make a function that given url and ingredient will return the n recipes with that ingredient\n",
    "def get_recipes(url, ingredient, num_recipes):\n",
    "    \"\"\"\n",
    "    Get num_recipes recipes with the given ingredient from the API at the given URL.\n",
    "    Args:\n",
    "    url (str): The URL of the API.\n",
    "    ingredient (str): The ingredient to search for.\n",
    "    num_recipes (int): The number of recipes to return.\n",
    "    Returns:\n",
    "    list: A list of recipes(as dictionary each) with the given ingredient.\n",
    "    \"\"\"\t\n",
    "\n",
    "    response = requests.get(url)\n",
    "    # let's return early if status code is not ok\n",
    "    if response.status_code != 200:\n",
    "        return [] # empty list represents no recipes found\n",
    "    # potentially we have no way of determining whether we get a valid JSON response\n",
    "    # or we got no matches for the ingredient\n",
    "    # we could have returned a list with a single dictionary with an error message\n",
    "\n",
    "    data = response.json() # we expect a JSON response\n",
    "    recipes = data.get(\"recipes\")\n",
    "    find_ingredient_recipes = []\n",
    "    for recipe in recipes:\n",
    "        for ing in recipe['ingredients']:\n",
    "            if ingredient in ing.lower():\n",
    "                find_ingredient_recipes.append(recipe)\n",
    "    find_ingredient_recipes = find_ingredient_recipes[:num_recipes]\n",
    "    return find_ingredient_recipes\n",
    "\n",
    "    \n",
    "# let's test the function with oil\n",
    "url = \"https://dummyjson.com/recipes\"\n",
    "ingredient = \"oil\"\n",
    "n = 5\n",
    "recipes = get_recipes(url, ingredient, n)\n",
    "print(f\"{len(recipes)} {ingredient} recipes have been found.\")"
   ]
  },
  {
   "cell_type": "code",
   "execution_count": 3,
   "metadata": {},
   "outputs": [
    {
     "name": "stdout",
     "output_type": "stream",
     "text": [
      "{'id': 1, 'name': 'Classic Margherita Pizza', 'ingredients': ['Pizza dough', 'Tomato sauce', 'Fresh mozzarella cheese', 'Fresh basil leaves', 'Olive oil', 'Salt and pepper to taste'], 'instructions': ['Preheat the oven to 475°F (245°C).', 'Roll out the pizza dough and spread tomato sauce evenly.', 'Top with slices of fresh mozzarella and fresh basil leaves.', 'Drizzle with olive oil and season with salt and pepper.', 'Bake in the preheated oven for 12-15 minutes or until the crust is golden brown.', 'Slice and serve hot.'], 'prepTimeMinutes': 20, 'cookTimeMinutes': 15, 'servings': 4, 'difficulty': 'Easy', 'cuisine': 'Italian', 'caloriesPerServing': 300, 'tags': ['Pizza', 'Italian'], 'userId': 166, 'image': 'https://cdn.dummyjson.com/recipe-images/1.webp', 'rating': 4.6, 'reviewCount': 98, 'mealType': ['Dinner']}\n"
     ]
    }
   ],
   "source": [
    "# first recipe\n",
    "print(recipes[0])"
   ]
  }
 ],
 "metadata": {
  "kernelspec": {
   "display_name": "my_virtual_env",
   "language": "python",
   "name": "python3"
  },
  "language_info": {
   "codemirror_mode": {
    "name": "ipython",
    "version": 3
   },
   "file_extension": ".py",
   "mimetype": "text/x-python",
   "name": "python",
   "nbconvert_exporter": "python",
   "pygments_lexer": "ipython3",
   "version": "3.11.4"
  }
 },
 "nbformat": 4,
 "nbformat_minor": 2
}
