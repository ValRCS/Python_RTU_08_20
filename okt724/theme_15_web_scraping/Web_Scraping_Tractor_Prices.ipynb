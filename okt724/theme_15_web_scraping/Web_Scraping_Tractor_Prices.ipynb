{
 "cells": [
  {
   "cell_type": "code",
   "execution_count": 1,
   "metadata": {},
   "outputs": [
    {
     "name": "stdout",
     "output_type": "stream",
     "text": [
      "Highest price: 30000 €\n",
      "Lowest price: 1500 €\n"
     ]
    }
   ],
   "source": [
    "import requests\n",
    "from bs4 import BeautifulSoup\n",
    " \n",
    "url = 'https://www.ss.com/lv/agriculture/agricultural-machinery/tractors/sell/'\n",
    "response = requests.get(url)\n",
    "soup = BeautifulSoup(response.content, 'html.parser')\n",
    " \n",
    " \n",
    "prices = []\n",
    "for price_tag in soup.find_all('td', class_='msga2-o pp6'):\n",
    "    price_text = price_tag.get_text(strip=True).replace('€', '').replace(' ', '').replace(',', '')\n",
    "    if price_text.isdigit():\n",
    "        prices.append(int(price_text))\n",
    " \n",
    " \n",
    "if prices:\n",
    "    highest_price = max(prices)\n",
    "    lowest_price = min(prices)\n",
    "    print(f'Highest price: {highest_price} €')\n",
    "    print(f'Lowest price: {lowest_price} €')\n",
    "else:\n",
    "    print('No prices found')"
   ]
  }
 ],
 "metadata": {
  "kernelspec": {
   "display_name": "my_virtual_env",
   "language": "python",
   "name": "python3"
  },
  "language_info": {
   "codemirror_mode": {
    "name": "ipython",
    "version": 3
   },
   "file_extension": ".py",
   "mimetype": "text/x-python",
   "name": "python",
   "nbconvert_exporter": "python",
   "pygments_lexer": "ipython3",
   "version": "3.11.4"
  }
 },
 "nbformat": 4,
 "nbformat_minor": 2
}
