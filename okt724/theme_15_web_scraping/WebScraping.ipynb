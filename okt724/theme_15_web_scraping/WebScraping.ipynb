{
 "cells": [
  {
   "cell_type": "markdown",
   "metadata": {},
   "source": [
    "## Web Scraping\n",
    "\n",
    "Web scraping, web harvesting, or web data extraction is data scraping used for extracting data from websites. Web scraping software may access the World Wide Web directly using the Hypertext Transfer Protocol, or through a web browser.\n",
    "\n",
    "![Robots](https://upload.wikimedia.org/wikipedia/commons/6/63/Web_Robots_Logo.png)\n",
    "\n",
    "\n",
    "## Scraping process\n",
    "\n",
    "* request URL\n",
    "* parse response\n",
    "* find required HTML elements and their content\n",
    "* save\n",
    "\n",
    "## Scraping guidelines\n",
    "\n",
    "* Check for other ways of accessing data(JSON API, CSV download etc.)\n",
    "* Play nice! Don't be an a.. (don't overload site with requests, etc)\n",
    "* Access publicly available data only\n",
    "* Respect robots.txt\n",
    "* difference between scraping something and usage(publishing etc.)\n",
    "\n",
    "### Legality\n",
    "\n",
    "Current(Sep 2019) direction is that it \"should\" be legal to scrape publicly available data provided you do not disturb the normal operation of the website.\n",
    "\n",
    "https://www.eff.org/deeplinks/2019/09/victory-ruling-hiq-v-linkedin-protects-scraping-public-data\n",
    "\n",
    "\n",
    "\n",
    "\n",
    "\n"
   ]
  },
  {
   "cell_type": "markdown",
   "metadata": {},
   "source": [
    "\n",
    "## Learning basics of HTML\n",
    "\n",
    "* https://developer.mozilla.org/en-US/docs/Web/HTML\n",
    "* https://developer.mozilla.org/en-US/docs/Learn/HTML/Introduction_to_HTML/Getting_started\n",
    "\n",
    "## HTTP protocol\n",
    "\n",
    "* https://developer.mozilla.org/en-US/docs/Web/HTTP/Overview\n",
    "\n",
    "## Chrome dev tools\n",
    "* https://developers.google.com/web/tools/chrome-devtools/open\n"
   ]
  },
  {
   "cell_type": "markdown",
   "metadata": {},
   "source": [
    "## Challenges\n",
    "\n",
    "* Variety - many differnet web pages all with HTML\n",
    "* Durability - pages sometimes change and die off or move"
   ]
  }
 ],
 "metadata": {
  "kernelspec": {
   "display_name": "Python 3",
   "language": "python",
   "name": "python3"
  },
  "language_info": {
   "codemirror_mode": {
    "name": "ipython",
    "version": 3
   },
   "file_extension": ".py",
   "mimetype": "text/x-python",
   "name": "python",
   "nbconvert_exporter": "python",
   "pygments_lexer": "ipython3",
   "version": "3.8.3"
  }
 },
 "nbformat": 4,
 "nbformat_minor": 4
}
