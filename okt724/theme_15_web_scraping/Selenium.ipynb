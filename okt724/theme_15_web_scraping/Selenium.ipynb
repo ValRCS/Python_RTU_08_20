{
 "cells": [
  {
   "cell_type": "code",
   "execution_count": 4,
   "metadata": {},
   "outputs": [
    {
     "name": "stdout",
     "output_type": "stream",
     "text": [
      " Volume in drive C has no label.\n",
      " Volume Serial Number is 3E61-0D96\n",
      "\n",
      " Directory of C:\\Users\\val-wd\\Github\\Python_RTU_08_20\\Diena_15_Web_Scraping\n",
      "\n",
      "05/12/2022  07:36 PM    <DIR>          .\n",
      "05/12/2022  07:36 PM    <DIR>          ..\n",
      "05/12/2022  07:36 PM    <DIR>          .ipynb_checkpoints\n",
      "05/20/2021  04:27 PM            48,109 Agenskalns SS lv.ipynb\n",
      "10/22/2021  02:53 PM            16,564 agens_27_09.xlsx\n",
      "05/20/2021  04:27 PM            43,382 Audi.ipynb\n",
      "04/05/2022  05:53 PM         3,844,526 bmw_7series_1.ipynb\n",
      "10/11/2020  08:44 PM            83,773 centrs.xlsx\n",
      "10/22/2021  02:53 PM            70,123 centrs_27_09.xlsx\n",
      "05/12/2022  07:22 PM            76,093 centrs_dzivokli_maijs12.xlsx\n",
      "04/05/2022  05:53 PM            90,677 dogs_121121.xlsx\n",
      "04/05/2022  05:53 PM            82,376 KD-RS.ipynb\n",
      "04/05/2022  05:53 PM         3,823,657 kengarags_8.ipynb\n",
      "11/13/2020  02:03 PM             1,343 my_Selenium.py\n",
      "05/12/2022  07:14 PM            10,008 rigas_rajons30.xlsx\n",
      "09/17/2021  05:17 PM            10,928 riga_center_60.xlsx\n",
      "04/05/2022  05:53 PM            18,326 Selenium.ipynb\n",
      "10/11/2020  08:44 PM            43,291 Untitled.ipynb\n",
      "10/11/2020  08:44 PM               297 using_selenium.py\n",
      "05/12/2022  07:33 PM           446,228 Web Scraping Apartments.ipynb\n",
      "05/12/2022  06:55 PM            20,109 Web Scraping with Pandas.ipynb\n",
      "05/20/2021  04:27 PM             2,661 WebScraping.ipynb\n",
      "05/12/2022  07:36 PM         3,756,891 Web_Scraping_Functions.ipynb\n",
      "04/05/2022  05:53 PM            51,801 Ziepniekkalns.ipynb\n",
      "              21 File(s)     12,541,163 bytes\n",
      "               3 Dir(s)  12,566,888,448 bytes free\n"
     ]
    }
   ],
   "source": [
    "!dir"
   ]
  },
  {
   "cell_type": "code",
   "execution_count": 5,
   "metadata": {},
   "outputs": [
    {
     "name": "stdout",
     "output_type": "stream",
     "text": [
      "Collecting selenium\n",
      "  Downloading selenium-4.1.5-py3-none-any.whl (979 kB)\n",
      "Requirement already satisfied: urllib3[secure,socks]~=1.26 in c:\\users\\val-wd\\appdata\\roaming\\python\\python39\\site-packages (from selenium) (1.26.4)\n",
      "Collecting trio-websocket~=0.9\n",
      "  Using cached trio_websocket-0.9.2-py3-none-any.whl (16 kB)\n",
      "Collecting trio~=0.17\n",
      "  Using cached trio-0.20.0-py3-none-any.whl (359 kB)\n",
      "Requirement already satisfied: idna in c:\\users\\val-wd\\appdata\\roaming\\python\\python39\\site-packages (from trio~=0.17->selenium) (2.10)\n",
      "Requirement already satisfied: sortedcontainers in c:\\users\\val-wd\\anaconda3\\lib\\site-packages (from trio~=0.17->selenium) (2.4.0)\n",
      "Requirement already satisfied: sniffio in c:\\users\\val-wd\\anaconda3\\lib\\site-packages (from trio~=0.17->selenium) (1.2.0)\n",
      "Collecting outcome\n",
      "  Using cached outcome-1.1.0-py2.py3-none-any.whl (9.7 kB)\n",
      "Requirement already satisfied: attrs>=19.2.0 in c:\\users\\val-wd\\anaconda3\\lib\\site-packages (from trio~=0.17->selenium) (21.2.0)\n",
      "Requirement already satisfied: async-generator>=1.9 in c:\\users\\val-wd\\anaconda3\\lib\\site-packages (from trio~=0.17->selenium) (1.10)\n",
      "Requirement already satisfied: cffi>=1.14 in c:\\users\\val-wd\\anaconda3\\lib\\site-packages (from trio~=0.17->selenium) (1.14.6)\n",
      "Requirement already satisfied: pycparser in c:\\users\\val-wd\\anaconda3\\lib\\site-packages (from cffi>=1.14->trio~=0.17->selenium) (2.20)\n",
      "Collecting wsproto>=0.14\n",
      "  Using cached wsproto-1.1.0-py3-none-any.whl (24 kB)\n",
      "Requirement already satisfied: PySocks!=1.5.7,<2.0,>=1.5.6 in c:\\users\\val-wd\\anaconda3\\lib\\site-packages (from urllib3[secure,socks]~=1.26->selenium) (1.7.1)\n",
      "Requirement already satisfied: certifi in c:\\users\\val-wd\\appdata\\roaming\\python\\python39\\site-packages (from urllib3[secure,socks]~=1.26->selenium) (2020.12.5)\n",
      "Requirement already satisfied: cryptography>=1.3.4 in c:\\users\\val-wd\\anaconda3\\lib\\site-packages (from urllib3[secure,socks]~=1.26->selenium) (3.4.8)\n",
      "Requirement already satisfied: pyOpenSSL>=0.14 in c:\\users\\val-wd\\anaconda3\\lib\\site-packages (from urllib3[secure,socks]~=1.26->selenium) (21.0.0)\n",
      "Requirement already satisfied: six>=1.5.2 in c:\\users\\val-wd\\appdata\\roaming\\python\\python39\\site-packages (from pyOpenSSL>=0.14->urllib3[secure,socks]~=1.26->selenium) (1.15.0)\n",
      "Collecting h11<1,>=0.9.0\n",
      "  Using cached h11-0.13.0-py3-none-any.whl (58 kB)\n",
      "Installing collected packages: outcome, h11, wsproto, trio, trio-websocket, selenium\n",
      "Successfully installed h11-0.13.0 outcome-1.1.0 selenium-4.1.5 trio-0.20.0 trio-websocket-0.9.2 wsproto-1.1.0\n"
     ]
    }
   ],
   "source": [
    "!pip install selenium\n",
    "# only once! ! is like using terminal"
   ]
  },
  {
   "cell_type": "code",
   "execution_count": 1,
   "metadata": {},
   "outputs": [],
   "source": [
    "# now drivers https://pypi.org/project/selenium/\n",
    "# https://sites.google.com/a/chromium.org/chromedriver/downloads\n",
    "# driver has to be a in a path that is in your System Enviroment Path"
   ]
  },
  {
   "cell_type": "code",
   "execution_count": 1,
   "metadata": {
    "scrolled": true
   },
   "outputs": [],
   "source": [
    "from selenium import webdriver\n",
    "from selenium.webdriver.common.keys import Keys\n",
    "\n",
    "browser = webdriver.Chrome() # so you need driver for the browser your Python folder is one option\n",
    "\n",
    "from selenium.webdriver.common.by import By"
   ]
  },
  {
   "cell_type": "code",
   "execution_count": null,
   "metadata": {},
   "outputs": [],
   "source": []
  },
  {
   "cell_type": "code",
   "execution_count": 2,
   "metadata": {},
   "outputs": [],
   "source": [
    "browser.get('http://www.ss.com')\n",
    "assert 'SS' in browser.title # so no error we are good"
   ]
  },
  {
   "cell_type": "code",
   "execution_count": null,
   "metadata": {},
   "outputs": [],
   "source": [
    "# elem = browser.find_element_by_name('p')  # Find the search box\n",
    "# elem.send_keys('seleniumhq' + Keys.RETURN)"
   ]
  },
  {
   "cell_type": "code",
   "execution_count": 3,
   "metadata": {},
   "outputs": [
    {
     "data": {
      "text/plain": [
       "'https://www.ss.com/'"
      ]
     },
     "execution_count": 3,
     "metadata": {},
     "output_type": "execute_result"
    }
   ],
   "source": [
    "browser.current_url"
   ]
  },
  {
   "cell_type": "code",
   "execution_count": 4,
   "metadata": {},
   "outputs": [
    {
     "name": "stderr",
     "output_type": "stream",
     "text": [
      "C:\\Users\\val-wd\\AppData\\Local\\Temp\\ipykernel_21752\\1829904084.py:1: DeprecationWarning: find_element_by_* commands are deprecated. Please use find_element() instead\n",
      "  cars = browser.find_element_by_id(\"mtd_97\")\n"
     ]
    },
    {
     "data": {
      "text/plain": [
       "selenium.webdriver.remote.webelement.WebElement"
      ]
     },
     "execution_count": 4,
     "metadata": {},
     "output_type": "execute_result"
    }
   ],
   "source": [
    "cars = browser.find_element_by_id(\"mtd_97\")\n",
    "type(cars)"
   ]
  },
  {
   "cell_type": "code",
   "execution_count": 5,
   "metadata": {},
   "outputs": [
    {
     "data": {
      "text/plain": [
       "'https://www.ss.com/lv/transport/cars/'"
      ]
     },
     "execution_count": 5,
     "metadata": {},
     "output_type": "execute_result"
    }
   ],
   "source": [
    "cars.get_attribute('href')"
   ]
  },
  {
   "cell_type": "code",
   "execution_count": 6,
   "metadata": {},
   "outputs": [
    {
     "data": {
      "text/plain": [
       "'Vieglie auto'"
      ]
     },
     "execution_count": 6,
     "metadata": {},
     "output_type": "execute_result"
    }
   ],
   "source": [
    "cars.get_attribute('title')"
   ]
  },
  {
   "cell_type": "code",
   "execution_count": 7,
   "metadata": {},
   "outputs": [
    {
     "data": {
      "text/plain": [
       "'Vieglie auto'"
      ]
     },
     "execution_count": 7,
     "metadata": {},
     "output_type": "execute_result"
    }
   ],
   "source": [
    "cars.text"
   ]
  },
  {
   "cell_type": "code",
   "execution_count": 8,
   "metadata": {},
   "outputs": [],
   "source": [
    "cars.click()  # we can also click in a specific area of our browser for harder cases"
   ]
  },
  {
   "cell_type": "code",
   "execution_count": 9,
   "metadata": {},
   "outputs": [],
   "source": [
    "browser.back()"
   ]
  },
  {
   "cell_type": "code",
   "execution_count": 10,
   "metadata": {},
   "outputs": [],
   "source": [
    "# https://devhints.io/xpath\n",
    "# apart = browser.find_element_by_xpath('//a[@title=\"Dzīvokļi\"]') # XPath is very powerful tool for finding elements\n",
    "apart = browser.find_element(by=By.XPATH, value='//a[@title=\"Dzīvokļi\"]')  # new recommended method"
   ]
  },
  {
   "cell_type": "code",
   "execution_count": null,
   "metadata": {},
   "outputs": [],
   "source": []
  },
  {
   "cell_type": "code",
   "execution_count": 11,
   "metadata": {
    "scrolled": true
   },
   "outputs": [
    {
     "data": {
      "text/plain": [
       "selenium.webdriver.remote.webelement.WebElement"
      ]
     },
     "execution_count": 11,
     "metadata": {},
     "output_type": "execute_result"
    }
   ],
   "source": [
    "type(apart)"
   ]
  },
  {
   "cell_type": "code",
   "execution_count": 12,
   "metadata": {},
   "outputs": [],
   "source": [
    "apart.click() # i can emulate a mouse click"
   ]
  },
  {
   "cell_type": "code",
   "execution_count": 13,
   "metadata": {},
   "outputs": [],
   "source": [
    "browser.back()"
   ]
  },
  {
   "cell_type": "code",
   "execution_count": 14,
   "metadata": {},
   "outputs": [],
   "source": [
    "browser.forward()"
   ]
  },
  {
   "cell_type": "code",
   "execution_count": null,
   "metadata": {},
   "outputs": [],
   "source": []
  },
  {
   "cell_type": "code",
   "execution_count": 15,
   "metadata": {},
   "outputs": [
    {
     "name": "stderr",
     "output_type": "stream",
     "text": [
      "C:\\Users\\val-wd\\AppData\\Local\\Temp\\ipykernel_21752\\4287490018.py:1: DeprecationWarning: find_element_by_xpath is deprecated. Please use find_element(by=By.XPATH, value=xpath) instead\n",
      "  riga = browser.find_element_by_xpath('//a[@title=\"Rīga, Sludinājumi\"]')\n"
     ]
    },
    {
     "data": {
      "text/plain": [
       "selenium.webdriver.remote.webelement.WebElement"
      ]
     },
     "execution_count": 15,
     "metadata": {},
     "output_type": "execute_result"
    }
   ],
   "source": [
    "riga = browser.find_element_by_xpath('//a[@title=\"Rīga, Sludinājumi\"]')\n",
    "type(riga)"
   ]
  },
  {
   "cell_type": "code",
   "execution_count": 16,
   "metadata": {},
   "outputs": [],
   "source": [
    "riga.click()"
   ]
  },
  {
   "cell_type": "code",
   "execution_count": 17,
   "metadata": {},
   "outputs": [
    {
     "data": {
      "text/plain": [
       "'https://www.ss.com/lv/real-estate/flats/riga/'"
      ]
     },
     "execution_count": 17,
     "metadata": {},
     "output_type": "execute_result"
    }
   ],
   "source": [
    "browser.current_url"
   ]
  },
  {
   "cell_type": "code",
   "execution_count": 20,
   "metadata": {},
   "outputs": [
    {
     "data": {
      "text/plain": [
       "{'width': 1550, 'height': 838}"
      ]
     },
     "execution_count": 20,
     "metadata": {},
     "output_type": "execute_result"
    }
   ],
   "source": [
    "browser.get_window_size()"
   ]
  },
  {
   "cell_type": "code",
   "execution_count": 21,
   "metadata": {
    "scrolled": true
   },
   "outputs": [
    {
     "data": {
      "text/plain": [
       "True"
      ]
     },
     "execution_count": 21,
     "metadata": {},
     "output_type": "execute_result"
    }
   ],
   "source": [
    "# save with Pillow graphibrowser.get_screenshot_as_png()\n",
    "\n",
    "browser.save_screenshot(\"riga_flats_jun30.png\")"
   ]
  },
  {
   "cell_type": "code",
   "execution_count": null,
   "metadata": {},
   "outputs": [],
   "source": []
  },
  {
   "cell_type": "code",
   "execution_count": 22,
   "metadata": {},
   "outputs": [
    {
     "name": "stderr",
     "output_type": "stream",
     "text": [
      "C:\\Users\\val-wd\\AppData\\Local\\Temp\\ipykernel_21752\\1556467103.py:1: DeprecationWarning: find_element_by_* commands are deprecated. Please use find_element() instead\n",
      "  myel = browser.find_element_by_id('ahc_1089')\n"
     ]
    }
   ],
   "source": [
    "myel = browser.find_element_by_id('ahc_1089')"
   ]
  },
  {
   "cell_type": "code",
   "execution_count": 23,
   "metadata": {},
   "outputs": [
    {
     "data": {
      "text/plain": [
       "'Bolderāja'"
      ]
     },
     "execution_count": 23,
     "metadata": {},
     "output_type": "execute_result"
    }
   ],
   "source": [
    "myel.text"
   ]
  },
  {
   "cell_type": "code",
   "execution_count": 24,
   "metadata": {},
   "outputs": [
    {
     "data": {
      "text/plain": [
       "'Bolderāja'"
      ]
     },
     "execution_count": 24,
     "metadata": {},
     "output_type": "execute_result"
    }
   ],
   "source": [
    "also_el = browser.find_element(by=By.ID, value='ahc_1089')  # ahc_1089 is the value for id attribute\n",
    "also_el.text"
   ]
  },
  {
   "cell_type": "code",
   "execution_count": 25,
   "metadata": {
    "scrolled": false
   },
   "outputs": [
    {
     "data": {
      "text/plain": [
       "[{'ATTRIBUTE_NODE': 2,\n",
       "  'CDATA_SECTION_NODE': 4,\n",
       "  'COMMENT_NODE': 8,\n",
       "  'DOCUMENT_FRAGMENT_NODE': 11,\n",
       "  'DOCUMENT_NODE': 9,\n",
       "  'DOCUMENT_POSITION_CONTAINED_BY': 16,\n",
       "  'DOCUMENT_POSITION_CONTAINS': 8,\n",
       "  'DOCUMENT_POSITION_DISCONNECTED': 1,\n",
       "  'DOCUMENT_POSITION_FOLLOWING': 4,\n",
       "  'DOCUMENT_POSITION_IMPLEMENTATION_SPECIFIC': 32,\n",
       "  'DOCUMENT_POSITION_PRECEDING': 2,\n",
       "  'DOCUMENT_TYPE_NODE': 10,\n",
       "  'ELEMENT_NODE': 1,\n",
       "  'ENTITY_NODE': 6,\n",
       "  'ENTITY_REFERENCE_NODE': 5,\n",
       "  'NOTATION_NODE': 12,\n",
       "  'PROCESSING_INSTRUCTION_NODE': 7,\n",
       "  'TEXT_NODE': 3,\n",
       "  'addEventListener': {},\n",
       "  'appendChild': {},\n",
       "  'baseURI': 'https://www.ss.com/',\n",
       "  'childNodes': [],\n",
       "  'cloneNode': {},\n",
       "  'compareDocumentPosition': {},\n",
       "  'contains': {},\n",
       "  'dispatchEvent': {},\n",
       "  'firstChild': None,\n",
       "  'getRootNode': {},\n",
       "  'hasChildNodes': {},\n",
       "  'insertBefore': {},\n",
       "  'isConnected': False,\n",
       "  'isDefaultNamespace': {},\n",
       "  'isEqualNode': {},\n",
       "  'isSameNode': {},\n",
       "  'lastChild': None,\n",
       "  'localName': 'id',\n",
       "  'lookupNamespaceURI': {},\n",
       "  'lookupPrefix': {},\n",
       "  'name': 'id',\n",
       "  'namespaceURI': None,\n",
       "  'nextSibling': None,\n",
       "  'nodeName': 'id',\n",
       "  'nodeType': 2,\n",
       "  'nodeValue': 'ahc_1089',\n",
       "  'normalize': {},\n",
       "  'ownerDocument': <selenium.webdriver.remote.webelement.WebElement (session=\"1e09ae08eba12bcbc5e68352ca1aaf44\", element=\"ee85d0ab-e320-479e-a235-1394daa95bd8\")>,\n",
       "  'ownerElement': <selenium.webdriver.remote.webelement.WebElement (session=\"1e09ae08eba12bcbc5e68352ca1aaf44\", element=\"7d5d5e7a-406a-4c13-9b5c-0ca884174ad9\")>,\n",
       "  'parentElement': None,\n",
       "  'parentNode': None,\n",
       "  'prefix': None,\n",
       "  'previousSibling': None,\n",
       "  'removeChild': {},\n",
       "  'removeEventListener': {},\n",
       "  'replaceChild': {},\n",
       "  'specified': True,\n",
       "  'textContent': 'ahc_1089',\n",
       "  'value': 'ahc_1089'},\n",
       " {'ATTRIBUTE_NODE': 2,\n",
       "  'CDATA_SECTION_NODE': 4,\n",
       "  'COMMENT_NODE': 8,\n",
       "  'DOCUMENT_FRAGMENT_NODE': 11,\n",
       "  'DOCUMENT_NODE': 9,\n",
       "  'DOCUMENT_POSITION_CONTAINED_BY': 16,\n",
       "  'DOCUMENT_POSITION_CONTAINS': 8,\n",
       "  'DOCUMENT_POSITION_DISCONNECTED': 1,\n",
       "  'DOCUMENT_POSITION_FOLLOWING': 4,\n",
       "  'DOCUMENT_POSITION_IMPLEMENTATION_SPECIFIC': 32,\n",
       "  'DOCUMENT_POSITION_PRECEDING': 2,\n",
       "  'DOCUMENT_TYPE_NODE': 10,\n",
       "  'ELEMENT_NODE': 1,\n",
       "  'ENTITY_NODE': 6,\n",
       "  'ENTITY_REFERENCE_NODE': 5,\n",
       "  'NOTATION_NODE': 12,\n",
       "  'PROCESSING_INSTRUCTION_NODE': 7,\n",
       "  'TEXT_NODE': 3,\n",
       "  'addEventListener': {},\n",
       "  'appendChild': {},\n",
       "  'baseURI': 'https://www.ss.com/',\n",
       "  'childNodes': [],\n",
       "  'cloneNode': {},\n",
       "  'compareDocumentPosition': {},\n",
       "  'contains': {},\n",
       "  'dispatchEvent': {},\n",
       "  'firstChild': None,\n",
       "  'getRootNode': {},\n",
       "  'hasChildNodes': {},\n",
       "  'insertBefore': {},\n",
       "  'isConnected': False,\n",
       "  'isDefaultNamespace': {},\n",
       "  'isEqualNode': {},\n",
       "  'isSameNode': {},\n",
       "  'lastChild': None,\n",
       "  'localName': 'href',\n",
       "  'lookupNamespaceURI': {},\n",
       "  'lookupPrefix': {},\n",
       "  'name': 'href',\n",
       "  'namespaceURI': None,\n",
       "  'nextSibling': None,\n",
       "  'nodeName': 'href',\n",
       "  'nodeType': 2,\n",
       "  'nodeValue': '/lv/real-estate/flats/riga/bolderaya/',\n",
       "  'normalize': {},\n",
       "  'ownerDocument': <selenium.webdriver.remote.webelement.WebElement (session=\"1e09ae08eba12bcbc5e68352ca1aaf44\", element=\"ee85d0ab-e320-479e-a235-1394daa95bd8\")>,\n",
       "  'ownerElement': <selenium.webdriver.remote.webelement.WebElement (session=\"1e09ae08eba12bcbc5e68352ca1aaf44\", element=\"7d5d5e7a-406a-4c13-9b5c-0ca884174ad9\")>,\n",
       "  'parentElement': None,\n",
       "  'parentNode': None,\n",
       "  'prefix': None,\n",
       "  'previousSibling': None,\n",
       "  'removeChild': {},\n",
       "  'removeEventListener': {},\n",
       "  'replaceChild': {},\n",
       "  'specified': True,\n",
       "  'textContent': '/lv/real-estate/flats/riga/bolderaya/',\n",
       "  'value': '/lv/real-estate/flats/riga/bolderaya/'},\n",
       " {'ATTRIBUTE_NODE': 2,\n",
       "  'CDATA_SECTION_NODE': 4,\n",
       "  'COMMENT_NODE': 8,\n",
       "  'DOCUMENT_FRAGMENT_NODE': 11,\n",
       "  'DOCUMENT_NODE': 9,\n",
       "  'DOCUMENT_POSITION_CONTAINED_BY': 16,\n",
       "  'DOCUMENT_POSITION_CONTAINS': 8,\n",
       "  'DOCUMENT_POSITION_DISCONNECTED': 1,\n",
       "  'DOCUMENT_POSITION_FOLLOWING': 4,\n",
       "  'DOCUMENT_POSITION_IMPLEMENTATION_SPECIFIC': 32,\n",
       "  'DOCUMENT_POSITION_PRECEDING': 2,\n",
       "  'DOCUMENT_TYPE_NODE': 10,\n",
       "  'ELEMENT_NODE': 1,\n",
       "  'ENTITY_NODE': 6,\n",
       "  'ENTITY_REFERENCE_NODE': 5,\n",
       "  'NOTATION_NODE': 12,\n",
       "  'PROCESSING_INSTRUCTION_NODE': 7,\n",
       "  'TEXT_NODE': 3,\n",
       "  'addEventListener': {},\n",
       "  'appendChild': {},\n",
       "  'baseURI': 'https://www.ss.com/',\n",
       "  'childNodes': [],\n",
       "  'cloneNode': {},\n",
       "  'compareDocumentPosition': {},\n",
       "  'contains': {},\n",
       "  'dispatchEvent': {},\n",
       "  'firstChild': None,\n",
       "  'getRootNode': {},\n",
       "  'hasChildNodes': {},\n",
       "  'insertBefore': {},\n",
       "  'isConnected': False,\n",
       "  'isDefaultNamespace': {},\n",
       "  'isEqualNode': {},\n",
       "  'isSameNode': {},\n",
       "  'lastChild': None,\n",
       "  'localName': 'class',\n",
       "  'lookupNamespaceURI': {},\n",
       "  'lookupPrefix': {},\n",
       "  'name': 'class',\n",
       "  'namespaceURI': None,\n",
       "  'nextSibling': None,\n",
       "  'nodeName': 'class',\n",
       "  'nodeType': 2,\n",
       "  'nodeValue': 'a_category',\n",
       "  'normalize': {},\n",
       "  'ownerDocument': <selenium.webdriver.remote.webelement.WebElement (session=\"1e09ae08eba12bcbc5e68352ca1aaf44\", element=\"ee85d0ab-e320-479e-a235-1394daa95bd8\")>,\n",
       "  'ownerElement': <selenium.webdriver.remote.webelement.WebElement (session=\"1e09ae08eba12bcbc5e68352ca1aaf44\", element=\"7d5d5e7a-406a-4c13-9b5c-0ca884174ad9\")>,\n",
       "  'parentElement': None,\n",
       "  'parentNode': None,\n",
       "  'prefix': None,\n",
       "  'previousSibling': None,\n",
       "  'removeChild': {},\n",
       "  'removeEventListener': {},\n",
       "  'replaceChild': {},\n",
       "  'specified': True,\n",
       "  'textContent': 'a_category',\n",
       "  'value': 'a_category'},\n",
       " {'ATTRIBUTE_NODE': 2,\n",
       "  'CDATA_SECTION_NODE': 4,\n",
       "  'COMMENT_NODE': 8,\n",
       "  'DOCUMENT_FRAGMENT_NODE': 11,\n",
       "  'DOCUMENT_NODE': 9,\n",
       "  'DOCUMENT_POSITION_CONTAINED_BY': 16,\n",
       "  'DOCUMENT_POSITION_CONTAINS': 8,\n",
       "  'DOCUMENT_POSITION_DISCONNECTED': 1,\n",
       "  'DOCUMENT_POSITION_FOLLOWING': 4,\n",
       "  'DOCUMENT_POSITION_IMPLEMENTATION_SPECIFIC': 32,\n",
       "  'DOCUMENT_POSITION_PRECEDING': 2,\n",
       "  'DOCUMENT_TYPE_NODE': 10,\n",
       "  'ELEMENT_NODE': 1,\n",
       "  'ENTITY_NODE': 6,\n",
       "  'ENTITY_REFERENCE_NODE': 5,\n",
       "  'NOTATION_NODE': 12,\n",
       "  'PROCESSING_INSTRUCTION_NODE': 7,\n",
       "  'TEXT_NODE': 3,\n",
       "  'addEventListener': {},\n",
       "  'appendChild': {},\n",
       "  'baseURI': 'https://www.ss.com/',\n",
       "  'childNodes': [],\n",
       "  'cloneNode': {},\n",
       "  'compareDocumentPosition': {},\n",
       "  'contains': {},\n",
       "  'dispatchEvent': {},\n",
       "  'firstChild': None,\n",
       "  'getRootNode': {},\n",
       "  'hasChildNodes': {},\n",
       "  'insertBefore': {},\n",
       "  'isConnected': False,\n",
       "  'isDefaultNamespace': {},\n",
       "  'isEqualNode': {},\n",
       "  'isSameNode': {},\n",
       "  'lastChild': None,\n",
       "  'localName': 'title',\n",
       "  'lookupNamespaceURI': {},\n",
       "  'lookupPrefix': {},\n",
       "  'name': 'title',\n",
       "  'namespaceURI': None,\n",
       "  'nextSibling': None,\n",
       "  'nodeName': 'title',\n",
       "  'nodeType': 2,\n",
       "  'nodeValue': 'Bolderāja, Sludinājumi',\n",
       "  'normalize': {},\n",
       "  'ownerDocument': <selenium.webdriver.remote.webelement.WebElement (session=\"1e09ae08eba12bcbc5e68352ca1aaf44\", element=\"ee85d0ab-e320-479e-a235-1394daa95bd8\")>,\n",
       "  'ownerElement': <selenium.webdriver.remote.webelement.WebElement (session=\"1e09ae08eba12bcbc5e68352ca1aaf44\", element=\"7d5d5e7a-406a-4c13-9b5c-0ca884174ad9\")>,\n",
       "  'parentElement': None,\n",
       "  'parentNode': None,\n",
       "  'prefix': None,\n",
       "  'previousSibling': None,\n",
       "  'removeChild': {},\n",
       "  'removeEventListener': {},\n",
       "  'replaceChild': {},\n",
       "  'specified': True,\n",
       "  'textContent': 'Bolderāja, Sludinājumi',\n",
       "  'value': 'Bolderāja, Sludinājumi'}]"
      ]
     },
     "execution_count": 25,
     "metadata": {},
     "output_type": "execute_result"
    }
   ],
   "source": [
    "myel.get_property('attributes')"
   ]
  },
  {
   "cell_type": "code",
   "execution_count": 26,
   "metadata": {},
   "outputs": [],
   "source": [
    "myel.click()"
   ]
  },
  {
   "cell_type": "code",
   "execution_count": 27,
   "metadata": {},
   "outputs": [
    {
     "name": "stderr",
     "output_type": "stream",
     "text": [
      "C:\\Users\\val-wd\\AppData\\Local\\Temp\\ipykernel_21752\\3516568360.py:1: DeprecationWarning: find_element_by_* commands are deprecated. Please use find_element() instead\n",
      "  headline_el = browser.find_element_by_id(\"head_line\")\n"
     ]
    },
    {
     "data": {
      "text/plain": [
       "' Sludinājumi\\ndatums\\nIela Ist. m2 Stāvs Sērija Cena, m2 Cena'"
      ]
     },
     "execution_count": 27,
     "metadata": {},
     "output_type": "execute_result"
    }
   ],
   "source": [
    "headline_el = browser.find_element_by_id(\"head_line\")\n",
    "headline_el.text"
   ]
  },
  {
   "cell_type": "code",
   "execution_count": null,
   "metadata": {},
   "outputs": [],
   "source": [
    "# https://stackoverflow.com/questions/23887592/find-next-sibling-element-in-selenium-python\n",
    "# TODO check this answer\n",
    "# next_sib = headline_el."
   ]
  },
  {
   "cell_type": "code",
   "execution_count": 31,
   "metadata": {},
   "outputs": [
    {
     "ename": "SyntaxError",
     "evalue": "invalid syntax (1759831495.py, line 1)",
     "output_type": "error",
     "traceback": [
      "\u001b[1;36m  Input \u001b[1;32mIn [31]\u001b[1;36m\u001b[0m\n\u001b[1;33m    <tr id=\"tr_49102686\" style=\"cursor: pointer; background-color: rgb(255, 255, 255);\"><td class=\"msga2 pp0\"><input type=\"checkbox\" id=\"c49102686\" name=\"mid[]\" value=\"49102686_1089_0\"></td><td class=\"msga2\"><a href=\"/msg/lv/real-estate/flats/riga/bolderaya/bcjpxe.html\" id=\"im49102686\"><img src=\"https://i.ss.com/img/buy/homes.lv.gif\" alt=\"\" class=\"isfoto foto_list\"></a></td><td class=\"msg2\"><div class=\"d1\"><a data=\"cCVBQiVBRSU5MWwlRTElN0YlODlkaGslQTQlQjIlOEFtJTlCJTgzJTg4ZWdqJUEzJUE5JTg4|8syX6eNS47\" id=\"dm_49102686\" class=\"am\" href=\"/msg/lv/real-estate/flats/riga/bolderaya/bcjpxe.html\"><b>Купим сразу -\u001b[0m\n\u001b[1;37m    ^\u001b[0m\n\u001b[1;31mSyntaxError\u001b[0m\u001b[1;31m:\u001b[0m invalid syntax\n"
     ]
    }
   ],
   "source": [
    "# <tr id=\"tr_49102686\" style=\"cursor: pointer; background-color: rgb(255, 255, 255);\"><td class=\"msga2 pp0\"><input type=\"checkbox\" id=\"c49102686\" name=\"mid[]\" value=\"49102686_1089_0\"></td><td class=\"msga2\"><a href=\"/msg/lv/real-estate/flats/riga/bolderaya/bcjpxe.html\" id=\"im49102686\"><img src=\"https://i.ss.com/img/buy/homes.lv.gif\" alt=\"\" class=\"isfoto foto_list\"></a></td><td class=\"msg2\"><div class=\"d1\"><a data=\"cCVBQiVBRSU5MWwlRTElN0YlODlkaGslQTQlQjIlOEFtJTlCJTgzJTg4ZWdqJUEzJUE5JTg4|8syX6eNS47\" id=\"dm_49102686\" class=\"am\" href=\"/msg/lv/real-estate/flats/riga/bolderaya/bcjpxe.html\"><b>Купим сразу -\n",
    "\n",
    "# - Если сроки для продажи квартиры критически ма</b></a></div></td><td class=\"msga2-o pp6\" nowrap=\"\" c=\"1\"><a onclick=\"return false;\" href=\"https://www.ss.com/msg/lv/real-estate/flats/riga/bolderaya/bcjpxe.html\" class=\"amopt\"><b>- 2021</b></a></td><td class=\"msga2-o pp6\" nowrap=\"\" c=\"1\"><a onclick=\"return false;\" href=\"https://www.ss.com/msg/lv/real-estate/flats/riga/bolderaya/bcjpxe.html\" class=\"amopt\"><b>Citi</b></a></td><td class=\"msga2-o pp6\" nowrap=\"\" c=\"1\"><a onclick=\"return false;\" href=\"https://www.ss.com/msg/lv/real-estate/flats/riga/bolderaya/bcjpxe.html\" class=\"amopt\"><b>2021</b></a></td><td class=\"msga2-o pp6\" nowrap=\"\" c=\"1\"><a onclick=\"return false;\" href=\"https://www.ss.com/msg/lv/real-estate/flats/riga/bolderaya/bcjpxe.html\" class=\"amopt\"><b>20/21</b></a></td><td class=\"msga2-o pp6\" nowrap=\"\" c=\"1\"><a onclick=\"return false;\" href=\"https://www.ss.com/msg/lv/real-estate/flats/riga/bolderaya/bcjpxe.html\" class=\"amopt\"><b>-</b></a></td><td class=\"msga2-o pp6\" nowrap=\"\" c=\"1\"><a onclick=\"return false;\" href=\"https://www.ss.com/msg/lv/real-estate/flats/riga/bolderaya/bcjpxe.html\" class=\"amopt\"><b>-</b></a></td><td class=\"msga2-o pp6\" nowrap=\"\" c=\"1\"><a onclick=\"return false;\" href=\"https://www.ss.com/msg/lv/real-estate/flats/riga/bolderaya/bcjpxe.html\" class=\"amopt\"><b>pērku</b> </a></td></tr>"
   ]
  },
  {
   "cell_type": "code",
   "execution_count": 30,
   "metadata": {},
   "outputs": [
    {
     "name": "stderr",
     "output_type": "stream",
     "text": [
      "C:\\Users\\val-wd\\AppData\\Local\\Temp\\ipykernel_22348\\2823608406.py:1: DeprecationWarning: find_element_by_* commands are deprecated. Please use find_element() instead\n",
      "  first_ad = browser.find_element_by_id(\"tr_49102686\") # #im51253566\n"
     ]
    },
    {
     "data": {
      "text/plain": [
       "'Купим сразу - - Если сроки для продажи квартиры критически ма\\n- 2021 Citi 2021 20/21 - - pērku'"
      ]
     },
     "execution_count": 30,
     "metadata": {},
     "output_type": "execute_result"
    }
   ],
   "source": [
    "first_ad = browser.find_element_by_id(\"tr_49102686\") # #im51253566\n",
    "first_ad.text"
   ]
  },
  {
   "cell_type": "code",
   "execution_count": 32,
   "metadata": {},
   "outputs": [],
   "source": [
    "first_ad.click()"
   ]
  },
  {
   "cell_type": "code",
   "execution_count": 36,
   "metadata": {},
   "outputs": [
    {
     "data": {
      "text/plain": [
       "<selenium.webdriver.remote.webelement.WebElement (session=\"e794804342ceb0cac59e716fb4d0d8ef\", element=\"bc2da998-4e8b-4877-bd07-cd41ff6d6fdf\")>"
      ]
     },
     "execution_count": 36,
     "metadata": {},
     "output_type": "execute_result"
    }
   ],
   "source": [
    "phone_el = browser.find_element(by='id', value=\"phdivz_1\")\n",
    "phone_el"
   ]
  },
  {
   "cell_type": "code",
   "execution_count": 37,
   "metadata": {},
   "outputs": [
    {
     "data": {
      "text/plain": [
       "[{'ATTRIBUTE_NODE': 2,\n",
       "  'CDATA_SECTION_NODE': 4,\n",
       "  'COMMENT_NODE': 8,\n",
       "  'DOCUMENT_FRAGMENT_NODE': 11,\n",
       "  'DOCUMENT_NODE': 9,\n",
       "  'DOCUMENT_POSITION_CONTAINED_BY': 16,\n",
       "  'DOCUMENT_POSITION_CONTAINS': 8,\n",
       "  'DOCUMENT_POSITION_DISCONNECTED': 1,\n",
       "  'DOCUMENT_POSITION_FOLLOWING': 4,\n",
       "  'DOCUMENT_POSITION_IMPLEMENTATION_SPECIFIC': 32,\n",
       "  'DOCUMENT_POSITION_PRECEDING': 2,\n",
       "  'DOCUMENT_TYPE_NODE': 10,\n",
       "  'ELEMENT_NODE': 1,\n",
       "  'ENTITY_NODE': 6,\n",
       "  'ENTITY_REFERENCE_NODE': 5,\n",
       "  'NOTATION_NODE': 12,\n",
       "  'PROCESSING_INSTRUCTION_NODE': 7,\n",
       "  'TEXT_NODE': 3,\n",
       "  'addEventListener': {},\n",
       "  'appendChild': {},\n",
       "  'baseURI': 'https://www.ss.com/',\n",
       "  'childNodes': [],\n",
       "  'cloneNode': {},\n",
       "  'compareDocumentPosition': {},\n",
       "  'contains': {},\n",
       "  'dispatchEvent': {},\n",
       "  'firstChild': None,\n",
       "  'getRootNode': {},\n",
       "  'hasChildNodes': {},\n",
       "  'insertBefore': {},\n",
       "  'isConnected': False,\n",
       "  'isDefaultNamespace': {},\n",
       "  'isEqualNode': {},\n",
       "  'isSameNode': {},\n",
       "  'lastChild': None,\n",
       "  'localName': 'id',\n",
       "  'lookupNamespaceURI': {},\n",
       "  'lookupPrefix': {},\n",
       "  'name': 'id',\n",
       "  'namespaceURI': None,\n",
       "  'nextSibling': None,\n",
       "  'nodeName': 'id',\n",
       "  'nodeType': 2,\n",
       "  'nodeValue': 'phdivz_1',\n",
       "  'normalize': {},\n",
       "  'ownerDocument': <selenium.webdriver.remote.webelement.WebElement (session=\"e794804342ceb0cac59e716fb4d0d8ef\", element=\"90b5f6db-7ceb-422c-9463-1e06943e12e5\")>,\n",
       "  'ownerElement': <selenium.webdriver.remote.webelement.WebElement (session=\"e794804342ceb0cac59e716fb4d0d8ef\", element=\"bc2da998-4e8b-4877-bd07-cd41ff6d6fdf\")>,\n",
       "  'parentElement': None,\n",
       "  'parentNode': None,\n",
       "  'prefix': None,\n",
       "  'previousSibling': None,\n",
       "  'removeChild': {},\n",
       "  'removeEventListener': {},\n",
       "  'replaceChild': {},\n",
       "  'specified': True,\n",
       "  'textContent': 'phdivz_1',\n",
       "  'value': 'phdivz_1'},\n",
       " {'ATTRIBUTE_NODE': 2,\n",
       "  'CDATA_SECTION_NODE': 4,\n",
       "  'COMMENT_NODE': 8,\n",
       "  'DOCUMENT_FRAGMENT_NODE': 11,\n",
       "  'DOCUMENT_NODE': 9,\n",
       "  'DOCUMENT_POSITION_CONTAINED_BY': 16,\n",
       "  'DOCUMENT_POSITION_CONTAINS': 8,\n",
       "  'DOCUMENT_POSITION_DISCONNECTED': 1,\n",
       "  'DOCUMENT_POSITION_FOLLOWING': 4,\n",
       "  'DOCUMENT_POSITION_IMPLEMENTATION_SPECIFIC': 32,\n",
       "  'DOCUMENT_POSITION_PRECEDING': 2,\n",
       "  'DOCUMENT_TYPE_NODE': 10,\n",
       "  'ELEMENT_NODE': 1,\n",
       "  'ENTITY_NODE': 6,\n",
       "  'ENTITY_REFERENCE_NODE': 5,\n",
       "  'NOTATION_NODE': 12,\n",
       "  'PROCESSING_INSTRUCTION_NODE': 7,\n",
       "  'TEXT_NODE': 3,\n",
       "  'addEventListener': {},\n",
       "  'appendChild': {},\n",
       "  'baseURI': 'https://www.ss.com/',\n",
       "  'childNodes': [],\n",
       "  'cloneNode': {},\n",
       "  'compareDocumentPosition': {},\n",
       "  'contains': {},\n",
       "  'dispatchEvent': {},\n",
       "  'firstChild': None,\n",
       "  'getRootNode': {},\n",
       "  'hasChildNodes': {},\n",
       "  'insertBefore': {},\n",
       "  'isConnected': False,\n",
       "  'isDefaultNamespace': {},\n",
       "  'isEqualNode': {},\n",
       "  'isSameNode': {},\n",
       "  'lastChild': None,\n",
       "  'localName': 'style',\n",
       "  'lookupNamespaceURI': {},\n",
       "  'lookupPrefix': {},\n",
       "  'name': 'style',\n",
       "  'namespaceURI': None,\n",
       "  'nextSibling': None,\n",
       "  'nodeName': 'style',\n",
       "  'nodeType': 2,\n",
       "  'nodeValue': 'display: inline-block;',\n",
       "  'normalize': {},\n",
       "  'ownerDocument': <selenium.webdriver.remote.webelement.WebElement (session=\"e794804342ceb0cac59e716fb4d0d8ef\", element=\"90b5f6db-7ceb-422c-9463-1e06943e12e5\")>,\n",
       "  'ownerElement': <selenium.webdriver.remote.webelement.WebElement (session=\"e794804342ceb0cac59e716fb4d0d8ef\", element=\"bc2da998-4e8b-4877-bd07-cd41ff6d6fdf\")>,\n",
       "  'parentElement': None,\n",
       "  'parentNode': None,\n",
       "  'prefix': None,\n",
       "  'previousSibling': None,\n",
       "  'removeChild': {},\n",
       "  'removeEventListener': {},\n",
       "  'replaceChild': {},\n",
       "  'specified': True,\n",
       "  'textContent': 'display: inline-block;',\n",
       "  'value': 'display: inline-block;'}]"
      ]
     },
     "execution_count": 37,
     "metadata": {},
     "output_type": "execute_result"
    }
   ],
   "source": [
    "phone_el.get_property('attributes')"
   ]
  },
  {
   "cell_type": "code",
   "execution_count": 38,
   "metadata": {},
   "outputs": [],
   "source": [
    "phone_el.click()"
   ]
  }
 ],
 "metadata": {
  "kernelspec": {
   "display_name": "Python 3 (ipykernel)",
   "language": "python",
   "name": "python3"
  },
  "language_info": {
   "codemirror_mode": {
    "name": "ipython",
    "version": 3
   },
   "file_extension": ".py",
   "mimetype": "text/x-python",
   "name": "python",
   "nbconvert_exporter": "python",
   "pygments_lexer": "ipython3",
   "version": "3.9.7"
  }
 },
 "nbformat": 4,
 "nbformat_minor": 4
}
