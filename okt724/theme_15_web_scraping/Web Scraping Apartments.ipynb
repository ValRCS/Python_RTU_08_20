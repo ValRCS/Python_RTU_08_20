{
 "cells": [
  {
   "cell_type": "code",
   "execution_count": 2,
   "metadata": {},
   "outputs": [],
   "source": [
    "# Requests for handling HTTP get and other requests\n",
    "import requests # for making HTTP requests\n",
    "import time # import from standard library for playing nice and not getting blocked\n",
    "import pandas as pd # to save the data in a dataframe\n",
    "# from BeautifulSoup4 import BeatifulSoup if installed through pip install BeautifulSoup4\n",
    "# \n",
    "try:\n",
    "    from bs4 import BeautifulSoup\n",
    "except ImportError:\n",
    "    print(\"Please install BeautifulSoup4 using pip install BeautifulSoup4\")\n",
    "\n",
    "# BeautifulSoup is a Python library for pulling data out of HTML and XML files."
   ]
  },
  {
   "cell_type": "code",
   "execution_count": 3,
   "metadata": {},
   "outputs": [
    {
     "data": {
      "text/plain": [
       "'2.0.3'"
      ]
     },
     "execution_count": 3,
     "metadata": {},
     "output_type": "execute_result"
    }
   ],
   "source": [
    "pd.__version__"
   ]
  },
  {
   "cell_type": "code",
   "execution_count": null,
   "metadata": {},
   "outputs": [],
   "source": [
    "# if bs4 not found install it with\n",
    "#  !pip install beatifulsoup4\n",
    "# https://www.crummy.com/software/BeautifulSoup/"
   ]
  },
  {
   "cell_type": "code",
   "execution_count": null,
   "metadata": {},
   "outputs": [],
   "source": [
    "!dir\n",
    "# ar ! i can run command line commands"
   ]
  },
  {
   "cell_type": "code",
   "execution_count": null,
   "metadata": {},
   "outputs": [],
   "source": []
  },
  {
   "cell_type": "code",
   "execution_count": 4,
   "metadata": {},
   "outputs": [],
   "source": [
    "# centrs = \"https://www.ss.com/lv/real-estate/flats/riga/centre/sell/\"\n",
    "# url = \"https://www.ss.com/lv/real-estate/homes-summer-residences/riga-region/all/sell/\"\n",
    "url = \"https://www.ss.com/lv/real-estate/flats/riga/centre/sell/\""
   ]
  },
  {
   "cell_type": "code",
   "execution_count": 5,
   "metadata": {},
   "outputs": [
    {
     "data": {
      "text/plain": [
       "200"
      ]
     },
     "execution_count": 5,
     "metadata": {},
     "output_type": "execute_result"
    }
   ],
   "source": [
    "req = requests.get(url) # so here we make a call to webpage via HTTP GET request and get something back\n",
    "req.status_code # we could add if to check for 200"
   ]
  },
  {
   "cell_type": "code",
   "execution_count": 7,
   "metadata": {},
   "outputs": [
    {
     "name": "stdout",
     "output_type": "stream",
     "text": [
      "<!DOCTYPE html>\n",
      "<HTML lang=\"lv\"><HEAD>\n",
      "<title>SS.COM Dzīvokļi - Rīga - Centrs, Cenas, Pārdod - Sludinājumi</title>\n",
      "<meta http-equiv=\"Content-Type\" CONTENT=\"text/html; charset=UTF-8\">\n",
      "<meta name=\"viewport\" content=\"user-scalable=1, width=device-width, initial-scale=1.0\"/>\n",
      "<meta name=\"keywords\" c\n"
     ]
    }
   ],
   "source": [
    "# response is just text - HTML\n",
    "# first 300 characters\n",
    "print(req.text[:300])"
   ]
  },
  {
   "cell_type": "code",
   "execution_count": null,
   "metadata": {},
   "outputs": [],
   "source": []
  },
  {
   "cell_type": "code",
   "execution_count": 8,
   "metadata": {},
   "outputs": [
    {
     "data": {
      "text/plain": [
       "2"
      ]
     },
     "execution_count": 8,
     "metadata": {},
     "output_type": "execute_result"
    }
   ],
   "source": [
    "req.text.count(\"Stabu\")  # we could parse it ourselves but why bother when we have libraries ?"
   ]
  },
  {
   "cell_type": "code",
   "execution_count": 9,
   "metadata": {},
   "outputs": [
    {
     "data": {
      "text/plain": [
       "16327"
      ]
     },
     "execution_count": 9,
     "metadata": {},
     "output_type": "execute_result"
    }
   ],
   "source": [
    "req.text.index(\"Stabu\")"
   ]
  },
  {
   "cell_type": "code",
   "execution_count": 10,
   "metadata": {},
   "outputs": [
    {
     "data": {
      "text/plain": [
       "requests.models.Response"
      ]
     },
     "execution_count": 10,
     "metadata": {},
     "output_type": "execute_result"
    }
   ],
   "source": [
    "type(req)"
   ]
  },
  {
   "cell_type": "code",
   "execution_count": null,
   "metadata": {},
   "outputs": [],
   "source": [
    "# req.json() will not work since this page is not JSON!"
   ]
  },
  {
   "cell_type": "code",
   "execution_count": 11,
   "metadata": {},
   "outputs": [
    {
     "data": {
      "text/plain": [
       "'Stabu</option><option value=\"5312\">Strēlnieku</option><option value=\"5353\">Tallinas</option><option '"
      ]
     },
     "execution_count": 11,
     "metadata": {},
     "output_type": "execute_result"
    }
   ],
   "source": [
    "req.text[req.text.index(\"Stabu\"):req.text.index(\"Stabu\")+100] # we could do parsing by hand but usually we want to use a premade parser"
   ]
  },
  {
   "cell_type": "code",
   "execution_count": null,
   "metadata": {},
   "outputs": [
    {
     "data": {
      "text/plain": [
       "-1"
      ]
     },
     "execution_count": 13,
     "metadata": {},
     "output_type": "execute_result"
    }
   ],
   "source": [
    "req.text.find(\"Kluss\")\n",
    "# - 1 Kluss is not found"
   ]
  },
  {
   "cell_type": "code",
   "execution_count": 10,
   "metadata": {},
   "outputs": [
    {
     "data": {
      "text/plain": [
       "'Kluss. Panorāmas skats no logiem. \\r\\nLaba plānojuma 5 istabu dzīv</a></div></td><td class=\"msga2-o pp'"
      ]
     },
     "execution_count": 10,
     "metadata": {},
     "output_type": "execute_result"
    }
   ],
   "source": [
    "req.text[req.text.index(\"Kluss\"):req.text.index(\"Kluss\")+100]"
   ]
  },
  {
   "cell_type": "markdown",
   "metadata": {},
   "source": [
    "## Using Beautiful Soup to extract data from a website\n",
    "\n",
    "Using string methods is not very efficient when it comes to extracting data from a website. In this notebook, we will use the Beautiful Soup library to extract data from a website. We will extract the title of the website and the first paragraph of the article."
   ]
  },
  {
   "cell_type": "code",
   "execution_count": 14,
   "metadata": {},
   "outputs": [
    {
     "data": {
      "text/plain": [
       "<title>SS.COM Dzīvokļi - Rīga - Centrs, Cenas, Pārdod - Sludinājumi</title>"
      ]
     },
     "execution_count": 14,
     "metadata": {},
     "output_type": "execute_result"
    }
   ],
   "source": [
    "# parser means structuring your text into some structure\n",
    "soup = BeautifulSoup(req.text, 'lxml') # lxml is improved parser, a little bit more lenient\n",
    "# soup = BeautifulSoup(req.text) # could use Python's built in HTML parser\n",
    "soup.title"
   ]
  },
  {
   "cell_type": "code",
   "execution_count": null,
   "metadata": {},
   "outputs": [
    {
     "data": {
      "text/plain": [
       "bs4.BeautifulSoup"
      ]
     },
     "execution_count": 15,
     "metadata": {},
     "output_type": "execute_result"
    }
   ],
   "source": [
    "type(soup) # so special type of object - BeautifulSoup"
   ]
  },
  {
   "cell_type": "code",
   "execution_count": 16,
   "metadata": {},
   "outputs": [
    {
     "name": "stdout",
     "output_type": "stream",
     "text": [
      "Tables found: 6\n"
     ]
    }
   ],
   "source": [
    "# https://www.crummy.com/software/BeautifulSoup/bs4/doc/#find-all\n",
    "# https://developer.mozilla.org/en-US/docs/Web/HTML/Element/table\n",
    "tables = soup.find_all(\"table\") # finds ALL elements matching our filter\n",
    "print(f\"Tables found: {len(tables)}\")"
   ]
  },
  {
   "cell_type": "code",
   "execution_count": 17,
   "metadata": {},
   "outputs": [
    {
     "data": {
      "text/plain": [
       "<tr id=\"head_line\">\n",
       "<td class=\"msg_column\" colspan=\"3\" width=\"70%\">\n",
       "<span style=\"float:left;\"> Sludinājumi\n",
       "</span>\n",
       "<span align=\"right\" class=\"msg_column\" style=\"float:right;text-align:right;padding-right:3px;\">\n",
       "<noindex>\n",
       "<a class=\"a19\" href=\"/lv/real-estate/flats/riga/centre/sell/fDgSeF4S.html\" rel=\"nofollow\">datums</a></noindex></span>\n",
       "</td>\n",
       "<td class=\"msg_column_td\" nowrap=\"\"><noindex><a class=\"a18\" href=\"/lv/real-estate/flats/riga/centre/sell/fDgSeF4SFDwT.html\" rel=\"nofollow\" title=\"\">Iela</a></noindex></td><td class=\"msg_column_td\" nowrap=\"\"><noindex><a class=\"a18\" href=\"/lv/real-estate/flats/riga/centre/sell/fDgSeF4SelM=.html\" rel=\"nofollow\" title=\"\">Ist.</a></noindex></td><td class=\"msg_column_td\" nowrap=\"\"><noindex><a class=\"a18\" href=\"/lv/real-estate/flats/riga/centre/sell/fDgSeF4QelM=.html\" rel=\"nofollow\" title=\"\">m2</a></noindex></td><td class=\"msg_column_td\" nowrap=\"\"><noindex><a class=\"a18\" href=\"/lv/real-estate/flats/riga/centre/sell/fDgSeF4XelM=.html\" rel=\"nofollow\" title=\"\">Stāvs</a></noindex></td><td class=\"msg_column_td\" nowrap=\"\"><noindex><a class=\"a18\" href=\"/lv/real-estate/flats/riga/centre/sell/fDgSeF4VelM=.html\" rel=\"nofollow\" title=\"\">Sērija</a></noindex></td><td background=\"https://i.ss.com/img/pl.gif\" class=\"msg_column\" nowrap=\"\" style=\"border-left:1px #FFFFFF solid;\"><noindex><a class=\"a18\" href=\"/lv/real-estate/flats/riga/centre/sell/fDgSeF4bRDwT.html\" rel=\"nofollow\">Cena, m2</a></noindex></td><td class=\"msg_column_td\" nowrap=\"\"><noindex><a class=\"a18\" href=\"/lv/real-estate/flats/riga/centre/sell/fDgSeF4belM=.html\" rel=\"nofollow\" title=\"\">Cena</a></noindex></td></tr>"
      ]
     },
     "execution_count": 17,
     "metadata": {},
     "output_type": "execute_result"
    }
   ],
   "source": [
    "# find finds just one match - first that matches\n",
    "# tr table row - https://developer.mozilla.org/en-US/docs/Web/HTML/Element/tr\n",
    "# we know that our headline row has id atrribute with value head_line\n",
    "headline = soup.find(\"tr\", {\"id\":\"head_line\"}) # this is a shorter way of finding by tr AND this element having particular id\n",
    "headline"
   ]
  },
  {
   "cell_type": "code",
   "execution_count": 18,
   "metadata": {},
   "outputs": [
    {
     "data": {
      "text/plain": [
       "bs4.element.Tag"
      ]
     },
     "execution_count": 18,
     "metadata": {},
     "output_type": "execute_result"
    }
   ],
   "source": [
    "type(headline)"
   ]
  },
  {
   "cell_type": "code",
   "execution_count": 19,
   "metadata": {},
   "outputs": [
    {
     "data": {
      "text/plain": [
       "'\\n\\n\\xa0Sludinājumi\\r\\n\\n\\n\\ndatums\\n\\nIelaIst.m2StāvsSērijaCena, m2Cena'"
      ]
     },
     "execution_count": 19,
     "metadata": {},
     "output_type": "execute_result"
    }
   ],
   "source": [
    "headline.text  # i could use split here but we can go deeper!"
   ]
  },
  {
   "cell_type": "code",
   "execution_count": 20,
   "metadata": {},
   "outputs": [
    {
     "data": {
      "text/plain": [
       "['Sludinājumi', 'datums', 'IelaIst.m2StāvsSērijaCena,', 'm2Cena']"
      ]
     },
     "execution_count": 20,
     "metadata": {},
     "output_type": "execute_result"
    }
   ],
   "source": [
    "# we could split by any whitespace\n",
    "headline.text.split()\n",
    "# but again we are not taking advantage of the structure of the HTML"
   ]
  },
  {
   "cell_type": "code",
   "execution_count": 21,
   "metadata": {},
   "outputs": [
    {
     "data": {
      "text/plain": [
       "[<td class=\"msg_column\" colspan=\"3\" width=\"70%\">\n",
       " <span style=\"float:left;\"> Sludinājumi\n",
       " </span>\n",
       " <span align=\"right\" class=\"msg_column\" style=\"float:right;text-align:right;padding-right:3px;\">\n",
       " <noindex>\n",
       " <a class=\"a19\" href=\"/lv/real-estate/flats/riga/centre/sell/fDgSeF4S.html\" rel=\"nofollow\">datums</a></noindex></span>\n",
       " </td>,\n",
       " <td class=\"msg_column_td\" nowrap=\"\"><noindex><a class=\"a18\" href=\"/lv/real-estate/flats/riga/centre/sell/fDgSeF4SFDwT.html\" rel=\"nofollow\" title=\"\">Iela</a></noindex></td>,\n",
       " <td class=\"msg_column_td\" nowrap=\"\"><noindex><a class=\"a18\" href=\"/lv/real-estate/flats/riga/centre/sell/fDgSeF4SelM=.html\" rel=\"nofollow\" title=\"\">Ist.</a></noindex></td>,\n",
       " <td class=\"msg_column_td\" nowrap=\"\"><noindex><a class=\"a18\" href=\"/lv/real-estate/flats/riga/centre/sell/fDgSeF4QelM=.html\" rel=\"nofollow\" title=\"\">m2</a></noindex></td>,\n",
       " <td class=\"msg_column_td\" nowrap=\"\"><noindex><a class=\"a18\" href=\"/lv/real-estate/flats/riga/centre/sell/fDgSeF4XelM=.html\" rel=\"nofollow\" title=\"\">Stāvs</a></noindex></td>,\n",
       " <td class=\"msg_column_td\" nowrap=\"\"><noindex><a class=\"a18\" href=\"/lv/real-estate/flats/riga/centre/sell/fDgSeF4VelM=.html\" rel=\"nofollow\" title=\"\">Sērija</a></noindex></td>,\n",
       " <td background=\"https://i.ss.com/img/pl.gif\" class=\"msg_column\" nowrap=\"\" style=\"border-left:1px #FFFFFF solid;\"><noindex><a class=\"a18\" href=\"/lv/real-estate/flats/riga/centre/sell/fDgSeF4bRDwT.html\" rel=\"nofollow\">Cena, m2</a></noindex></td>,\n",
       " <td class=\"msg_column_td\" nowrap=\"\"><noindex><a class=\"a18\" href=\"/lv/real-estate/flats/riga/centre/sell/fDgSeF4belM=.html\" rel=\"nofollow\" title=\"\">Cena</a></noindex></td>]"
      ]
     },
     "execution_count": 21,
     "metadata": {},
     "output_type": "execute_result"
    }
   ],
   "source": [
    "headtds = headline.find_all(\"td\")  # get list of all td tags inside our headline tag only(not the whole document!)\n",
    "# td stands for table data\n",
    "# https://developer.mozilla.org/en-US/docs/Web/HTML/Element/td \n",
    "headtds"
   ]
  },
  {
   "cell_type": "code",
   "execution_count": 22,
   "metadata": {},
   "outputs": [
    {
     "name": "stdout",
     "output_type": "stream",
     "text": [
      "Columns in the table: 8\n"
     ]
    }
   ],
   "source": [
    "print(f\"Columns in the table: {len(headtds)}\")"
   ]
  },
  {
   "cell_type": "code",
   "execution_count": null,
   "metadata": {},
   "outputs": [],
   "source": [
    "headline.text # this returns ALL text in headline and its children and grandchildren"
   ]
  },
  {
   "cell_type": "code",
   "execution_count": 23,
   "metadata": {},
   "outputs": [
    {
     "data": {
      "text/plain": [
       "'\\n\\xa0Sludinājumi\\r\\n\\n\\n\\ndatums\\n'"
      ]
     },
     "execution_count": 23,
     "metadata": {},
     "output_type": "execute_result"
    }
   ],
   "source": [
    "headtds[0].text # we do not need the first one"
   ]
  },
  {
   "cell_type": "code",
   "execution_count": 24,
   "metadata": {},
   "outputs": [
    {
     "data": {
      "text/plain": [
       "['Iela', 'Ist.', 'm2', 'Stāvs', 'Sērija', 'Cena, m2', 'Cena']"
      ]
     },
     "execution_count": 24,
     "metadata": {},
     "output_type": "execute_result"
    }
   ],
   "source": [
    "# so we make a decision to skip the first column\n",
    "headcolumns = [el.text for el in headtds[1:]] #.text gets us content even from children and grandchildren\n",
    "headcolumns"
   ]
  },
  {
   "cell_type": "code",
   "execution_count": 25,
   "metadata": {},
   "outputs": [],
   "source": [
    "# lets combine the above cells into a function which will always get us columns\n",
    "def getColList(soup, default_cols=(\"description\",\"url\")):\n",
    "    column_list = list(default_cols) # we decided to that we need these two column names no matter the html\n",
    "    headline = soup.find(\"tr\", {\"id\":\"head_line\"})\n",
    "    headtds = headline.find_all(\"td\")\n",
    "    headcolumns = [el.text for el in headtds[1:]] # this will get all column names starting with 2nd in HTML\n",
    "    column_list += headcolumns  # merge both lists, could use extend\n",
    "    return column_list"
   ]
  },
  {
   "cell_type": "code",
   "execution_count": 26,
   "metadata": {},
   "outputs": [
    {
     "data": {
      "text/plain": [
       "['description',\n",
       " 'url',\n",
       " 'Iela',\n",
       " 'Ist.',\n",
       " 'm2',\n",
       " 'Stāvs',\n",
       " 'Sērija',\n",
       " 'Cena, m2',\n",
       " 'Cena']"
      ]
     },
     "execution_count": 26,
     "metadata": {},
     "output_type": "execute_result"
    }
   ],
   "source": [
    "column_names = getColList(soup)\n",
    "column_names # to be used later when creating our table"
   ]
  },
  {
   "cell_type": "code",
   "execution_count": 27,
   "metadata": {},
   "outputs": [
    {
     "name": "stdout",
     "output_type": "stream",
     "text": [
      "Rows found: 39\n"
     ]
    }
   ],
   "source": [
    "trows = soup.find_all('tr') # tr stands for table row\n",
    "# how many rows do we have?\n",
    "print(f\"Rows found: {len(trows)}\")\n"
   ]
  },
  {
   "cell_type": "code",
   "execution_count": null,
   "metadata": {},
   "outputs": [],
   "source": [
    "# if i had no other choices I could find starting and end index by hand and hard code it\n",
    "# but that is liable to change between pages"
   ]
  },
  {
   "cell_type": "code",
   "execution_count": 28,
   "metadata": {},
   "outputs": [
    {
     "data": {
      "text/plain": [
       "<tr id=\"tr_55688999\"><td class=\"msga2 pp0\"><input id=\"c55688999\" name=\"mid[]\" type=\"checkbox\" value=\"55688999_1106_0\"/></td><td class=\"msga2\"><a href=\"/msg/lv/real-estate/flats/riga/centre/fcipn.html\" id=\"im55688999\"><img alt=\"\" class=\"isfoto foto_list\" src=\"https://i.ss.com/gallery/7/1294/323395/64678896.th2.jpg\"/></a></td><td class=\"msg2\"><div class=\"d1\"><a class=\"am\" data=\"JTlCYyU5QSVBMSVBQSVCMyVBNmslOUNsJTlDJUE0JUIxaCVBQmUlOUFjJTk1JUEwJUFDZyVBNWU=|d3epz7u5\" href=\"/msg/lv/real-estate/flats/riga/centre/fcipn.html\" id=\"dm_55688999\">Pārdod plašu, ērta plānojuma 4-istabu dzīvokli ērtā atrašanās vi</a></div></td><td c=\"1\" class=\"msga2-o pp6\" nowrap=\"\">Ģertrūdes 63</td><td c=\"1\" class=\"msga2-o pp6\" nowrap=\"\">4</td><td c=\"1\" class=\"msga2-o pp6\" nowrap=\"\">122</td><td c=\"1\" class=\"msga2-o pp6\" nowrap=\"\">5/6</td><td c=\"1\" class=\"msga2-o pp6\" nowrap=\"\">P. kara</td><td c=\"1\" class=\"msga2-o pp6\" nowrap=\"\">1,270 €</td><td c=\"1\" class=\"msga2-o pp6\" nowrap=\"\">155,000  €</td></tr>"
      ]
     },
     "execution_count": 28,
     "metadata": {},
     "output_type": "execute_result"
    }
   ],
   "source": [
    "trows[9] # we coudl do it by hand"
   ]
  },
  {
   "cell_type": "code",
   "execution_count": null,
   "metadata": {},
   "outputs": [],
   "source": [
    "trows[5] # so could take trows[6:35] downside is that this is fixed with magic numbers"
   ]
  },
  {
   "cell_type": "code",
   "execution_count": 29,
   "metadata": {},
   "outputs": [
    {
     "data": {
      "text/plain": [
       "('tr_55688999', 'tr_54352983')"
      ]
     },
     "execution_count": 29,
     "metadata": {},
     "output_type": "execute_result"
    }
   ],
   "source": [
    "trows[9][\"id\"], trows[5].get(\"id\") # get is safer since not all elements have ids"
   ]
  },
  {
   "cell_type": "code",
   "execution_count": 30,
   "metadata": {},
   "outputs": [
    {
     "data": {
      "text/plain": [
       "30"
      ]
     },
     "execution_count": 30,
     "metadata": {},
     "output_type": "execute_result"
    }
   ],
   "source": [
    "# hardest part in this \n",
    "# how to filter only specific rows\n",
    "# we need to find something that is unique to our apartment rows but not to the extra rows\n",
    "# remember we id is not guaranteed, so \"\" gives us default value when there is no id\n",
    "apt_rows = [row for row in trows if row.get('id',\"\").startswith(\"tr_\") and not row.get('id',\"\").startswith(\"tr_bnr\") ]\n",
    "len(apt_rows)"
   ]
  },
  {
   "cell_type": "code",
   "execution_count": 31,
   "metadata": {},
   "outputs": [
    {
     "name": "stdout",
     "output_type": "stream",
     "text": [
      "Apartment rows found: 30\n"
     ]
    }
   ],
   "source": [
    "# we could have written the above list comprehension as a for loop\n",
    "apt_rows_also = []\n",
    "for row in trows:\n",
    "    id = row.get('id') # default for no id is None\n",
    "    if id is not None:\n",
    "        if id.startswith(\"tr_\") and not id.startswith(\"tr_bnr\"):\n",
    "            apt_rows_also.append(row)\n",
    "\n",
    "print(f\"Apartment rows found: {len(apt_rows_also)}\")\n"
   ]
  },
  {
   "cell_type": "code",
   "execution_count": 32,
   "metadata": {},
   "outputs": [
    {
     "data": {
      "text/plain": [
       "<tr id=\"tr_55669749\"><td class=\"msga2 pp0\"><input id=\"c55669749\" name=\"mid[]\" type=\"checkbox\" value=\"55669749_1106_0\"/></td><td class=\"msga2\"><a href=\"/msg/lv/real-estate/flats/riga/centre/adign.html\" id=\"im55669749\"><img alt=\"\" class=\"isfoto foto_list\" src=\"https://i.ss.com/gallery/7/1294/323352/64670314.th2.jpg\"/></a></td><td class=\"msg2\"><div class=\"d1\"><a class=\"am\" data=\"JTdDJTdFJTdDbSU4QyU4OSVBNyVFMWglODIlN0V2aCU5MCU4QyVBNCU5RW4lN0MlODAlN0VmJThDJTgzJUE0JTk1|KKF6XSte7\" href=\"/msg/lv/real-estate/flats/riga/centre/adign.html\" id=\"dm_55669749\">Lv\n",
       "Pārdošanā gaišs un mājīgs divistabu dzīvoklis pēc tikko pabe</a></div></td><td c=\"1\" class=\"msga2-o pp6\" nowrap=\"\">Čaka 45</td><td c=\"1\" class=\"msga2-o pp6\" nowrap=\"\">2</td><td c=\"1\" class=\"msga2-o pp6\" nowrap=\"\">51</td><td c=\"1\" class=\"msga2-o pp6\" nowrap=\"\">3/4</td><td c=\"1\" class=\"msga2-o pp6\" nowrap=\"\">Renov.</td><td c=\"1\" class=\"msga2-o pp6\" nowrap=\"\">2,098 €</td><td c=\"1\" class=\"msga2-o pp6\" nowrap=\"\">107,000  €</td></tr>"
      ]
     },
     "execution_count": 32,
     "metadata": {},
     "output_type": "execute_result"
    }
   ],
   "source": [
    "apt_rows[-1] # last ad"
   ]
  },
  {
   "cell_type": "code",
   "execution_count": 33,
   "metadata": {},
   "outputs": [
    {
     "data": {
      "text/plain": [
       "<tr id=\"tr_54352983\"><td class=\"msga2 pp0\"><input id=\"c54352983\" name=\"mid[]\" type=\"checkbox\" value=\"54352983_1106_0\"/></td><td class=\"msga2\"><a href=\"/msg/lv/real-estate/flats/riga/centre/ccnfo.html\" id=\"im54352983\"><img alt=\"\" class=\"isfoto foto_list\" src=\"https://i.ss.com/gallery/7/1227/306572/61314360.th2.jpg\"/></a></td><td class=\"msg2\"><div class=\"d1\"><a class=\"am\" data=\"bSU4QW96JTg5JUUxJUExbyU4NWYlN0MlOEIlOTYlQTJqJTg2b3klOEYlOTUlQTJoJTgyZg==|8R6DXep\" href=\"/msg/lv/real-estate/flats/riga/centre/ccnfo.html\" id=\"dm_54352983\">Īpašnieks pārdod dzīvokli renovētā jūgendstila ēkā - Grīziņa Nam</a></div></td><td c=\"1\" class=\"msga2-o pp6\" nowrap=\"\">Augšiela 8</td><td c=\"1\" class=\"msga2-o pp6\" nowrap=\"\">1</td><td c=\"1\" class=\"msga2-o pp6\" nowrap=\"\">22</td><td c=\"1\" class=\"msga2-o pp6\" nowrap=\"\">5/6</td><td c=\"1\" class=\"msga2-o pp6\" nowrap=\"\">Renov.</td><td c=\"1\" class=\"msga2-o pp6\" nowrap=\"\">1,670 €</td><td c=\"1\" class=\"msga2-o pp6\" nowrap=\"\">36,750  €</td></tr>"
      ]
     },
     "execution_count": 33,
     "metadata": {},
     "output_type": "execute_result"
    }
   ],
   "source": [
    "apt_rows[0] # first ad"
   ]
  },
  {
   "cell_type": "code",
   "execution_count": 34,
   "metadata": {},
   "outputs": [],
   "source": [
    "# lets make a function from the above doodle and make it work on most pages on SS\n",
    "def getRowList(soup):\n",
    "    trows = soup.find_all('tr')\n",
    "    aprows = [row for row in trows if row.get('id',\"\").startswith(\"tr_\") and not row.get('id',\"\").startswith(\"tr_bnr\") ]\n",
    "    return aprows"
   ]
  },
  {
   "cell_type": "code",
   "execution_count": 35,
   "metadata": {},
   "outputs": [
    {
     "data": {
      "text/plain": [
       "30"
      ]
     },
     "execution_count": 35,
     "metadata": {},
     "output_type": "execute_result"
    }
   ],
   "source": [
    "apt_rows = getRowList(soup)\n",
    "len(apt_rows)"
   ]
  },
  {
   "cell_type": "code",
   "execution_count": 36,
   "metadata": {},
   "outputs": [
    {
     "data": {
      "text/plain": [
       "<tr id=\"tr_54352983\"><td class=\"msga2 pp0\"><input id=\"c54352983\" name=\"mid[]\" type=\"checkbox\" value=\"54352983_1106_0\"/></td><td class=\"msga2\"><a href=\"/msg/lv/real-estate/flats/riga/centre/ccnfo.html\" id=\"im54352983\"><img alt=\"\" class=\"isfoto foto_list\" src=\"https://i.ss.com/gallery/7/1227/306572/61314360.th2.jpg\"/></a></td><td class=\"msg2\"><div class=\"d1\"><a class=\"am\" data=\"bSU4QW96JTg5JUUxJUExbyU4NWYlN0MlOEIlOTYlQTJqJTg2b3klOEYlOTUlQTJoJTgyZg==|8R6DXep\" href=\"/msg/lv/real-estate/flats/riga/centre/ccnfo.html\" id=\"dm_54352983\">Īpašnieks pārdod dzīvokli renovētā jūgendstila ēkā - Grīziņa Nam</a></div></td><td c=\"1\" class=\"msga2-o pp6\" nowrap=\"\">Augšiela 8</td><td c=\"1\" class=\"msga2-o pp6\" nowrap=\"\">1</td><td c=\"1\" class=\"msga2-o pp6\" nowrap=\"\">22</td><td c=\"1\" class=\"msga2-o pp6\" nowrap=\"\">5/6</td><td c=\"1\" class=\"msga2-o pp6\" nowrap=\"\">Renov.</td><td c=\"1\" class=\"msga2-o pp6\" nowrap=\"\">1,670 €</td><td c=\"1\" class=\"msga2-o pp6\" nowrap=\"\">36,750  €</td></tr>"
      ]
     },
     "execution_count": 36,
     "metadata": {},
     "output_type": "execute_result"
    }
   ],
   "source": [
    "first_ad = apt_rows[0]\n",
    "first_ad"
   ]
  },
  {
   "cell_type": "code",
   "execution_count": 37,
   "metadata": {},
   "outputs": [
    {
     "data": {
      "text/plain": [
       "10"
      ]
     },
     "execution_count": 37,
     "metadata": {},
     "output_type": "execute_result"
    }
   ],
   "source": [
    "row_tds = first_ad.find_all('td') # get all table data elements from first ad/row\n",
    "len(row_tds)"
   ]
  },
  {
   "cell_type": "code",
   "execution_count": 38,
   "metadata": {},
   "outputs": [
    {
     "data": {
      "text/plain": [
       "[<td class=\"msga2 pp0\"><input id=\"c54352983\" name=\"mid[]\" type=\"checkbox\" value=\"54352983_1106_0\"/></td>,\n",
       " <td class=\"msga2\"><a href=\"/msg/lv/real-estate/flats/riga/centre/ccnfo.html\" id=\"im54352983\"><img alt=\"\" class=\"isfoto foto_list\" src=\"https://i.ss.com/gallery/7/1227/306572/61314360.th2.jpg\"/></a></td>,\n",
       " <td class=\"msg2\"><div class=\"d1\"><a class=\"am\" data=\"bSU4QW96JTg5JUUxJUExbyU4NWYlN0MlOEIlOTYlQTJqJTg2b3klOEYlOTUlQTJoJTgyZg==|8R6DXep\" href=\"/msg/lv/real-estate/flats/riga/centre/ccnfo.html\" id=\"dm_54352983\">Īpašnieks pārdod dzīvokli renovētā jūgendstila ēkā - Grīziņa Nam</a></div></td>,\n",
       " <td c=\"1\" class=\"msga2-o pp6\" nowrap=\"\">Augšiela 8</td>,\n",
       " <td c=\"1\" class=\"msga2-o pp6\" nowrap=\"\">1</td>,\n",
       " <td c=\"1\" class=\"msga2-o pp6\" nowrap=\"\">22</td>,\n",
       " <td c=\"1\" class=\"msga2-o pp6\" nowrap=\"\">5/6</td>,\n",
       " <td c=\"1\" class=\"msga2-o pp6\" nowrap=\"\">Renov.</td>,\n",
       " <td c=\"1\" class=\"msga2-o pp6\" nowrap=\"\">1,670 €</td>,\n",
       " <td c=\"1\" class=\"msga2-o pp6\" nowrap=\"\">36,750  €</td>]"
      ]
     },
     "execution_count": 38,
     "metadata": {},
     "output_type": "execute_result"
    }
   ],
   "source": [
    "# look at all the data we have\n",
    "row_tds"
   ]
  },
  {
   "cell_type": "code",
   "execution_count": 39,
   "metadata": {},
   "outputs": [
    {
     "data": {
      "text/plain": [
       "''"
      ]
     },
     "execution_count": 39,
     "metadata": {},
     "output_type": "execute_result"
    }
   ],
   "source": [
    "row_tds[0].text"
   ]
  },
  {
   "cell_type": "code",
   "execution_count": 40,
   "metadata": {},
   "outputs": [
    {
     "data": {
      "text/plain": [
       "''"
      ]
     },
     "execution_count": 40,
     "metadata": {},
     "output_type": "execute_result"
    }
   ],
   "source": [
    "row_tds[1].text"
   ]
  },
  {
   "cell_type": "code",
   "execution_count": 41,
   "metadata": {},
   "outputs": [
    {
     "data": {
      "text/plain": [
       "{'class': ['msga2']}"
      ]
     },
     "execution_count": 41,
     "metadata": {},
     "output_type": "execute_result"
    }
   ],
   "source": [
    "row_tds[1].attrs # we can see elements attributes"
   ]
  },
  {
   "cell_type": "code",
   "execution_count": 42,
   "metadata": {},
   "outputs": [
    {
     "data": {
      "text/plain": [
       "<img alt=\"\" class=\"isfoto foto_list\" src=\"https://i.ss.com/gallery/7/1227/306572/61314360.th2.jpg\"/>"
      ]
     },
     "execution_count": 42,
     "metadata": {},
     "output_type": "execute_result"
    }
   ],
   "source": [
    "# we can find elements inside our element\n",
    "img = row_tds[1].find(\"img\") # first img element inside our td element\n",
    "img"
   ]
  },
  {
   "cell_type": "code",
   "execution_count": 43,
   "metadata": {},
   "outputs": [
    {
     "data": {
      "text/plain": [
       "'https://i.ss.com/gallery/7/1227/306572/61314360.th2.jpg'"
      ]
     },
     "execution_count": 43,
     "metadata": {},
     "output_type": "execute_result"
    }
   ],
   "source": [
    "img.get(\"src\")"
   ]
  },
  {
   "cell_type": "code",
   "execution_count": 44,
   "metadata": {},
   "outputs": [
    {
     "data": {
      "text/plain": [
       "<a href=\"/msg/lv/real-estate/flats/riga/centre/ccnfo.html\" id=\"im54352983\"><img alt=\"\" class=\"isfoto foto_list\" src=\"https://i.ss.com/gallery/7/1227/306572/61314360.th2.jpg\"/></a>"
      ]
     },
     "execution_count": 44,
     "metadata": {},
     "output_type": "execute_result"
    }
   ],
   "source": [
    "# let's find for our 2nd td element the first a element, here there is only one\n",
    "a = row_tds[1].find('a') # a tag is called anchor tag\n",
    "a"
   ]
  },
  {
   "cell_type": "code",
   "execution_count": 45,
   "metadata": {},
   "outputs": [
    {
     "data": {
      "text/plain": [
       "{'href': '/msg/lv/real-estate/flats/riga/centre/ccnfo.html',\n",
       " 'id': 'im54352983'}"
      ]
     },
     "execution_count": 45,
     "metadata": {},
     "output_type": "execute_result"
    }
   ],
   "source": [
    "a.attrs"
   ]
  },
  {
   "cell_type": "code",
   "execution_count": null,
   "metadata": {},
   "outputs": [
    {
     "data": {
      "text/plain": [
       "('/msg/lv/real-estate/flats/riga/centre/ccnfo.html',\n",
       " '/msg/lv/real-estate/flats/riga/centre/ccnfo.html')"
      ]
     },
     "execution_count": 46,
     "metadata": {},
     "output_type": "execute_result"
    }
   ],
   "source": [
    "a.get('href'), a['href'] # anchors should have href attribute\n",
    "# in general get is safer since it does not throw an error if key is not found"
   ]
  },
  {
   "cell_type": "code",
   "execution_count": 47,
   "metadata": {},
   "outputs": [
    {
     "data": {
      "text/plain": [
       "'https://www.ss.com/msg/lv/real-estate/flats/riga/centre/ccnfo.html'"
      ]
     },
     "execution_count": 47,
     "metadata": {},
     "output_type": "execute_result"
    }
   ],
   "source": [
    "prefix = \"https://www.ss.com\"\n",
    "prefix + a.get('href')"
   ]
  },
  {
   "cell_type": "code",
   "execution_count": 48,
   "metadata": {},
   "outputs": [
    {
     "data": {
      "text/plain": [
       "'Īpašnieks pārdod dzīvokli renovētā jūgendstila ēkā - Grīziņa Nam'"
      ]
     },
     "execution_count": 48,
     "metadata": {},
     "output_type": "execute_result"
    }
   ],
   "source": [
    "row_tds[2].text # 3rd element has the description"
   ]
  },
  {
   "cell_type": "code",
   "execution_count": 49,
   "metadata": {},
   "outputs": [
    {
     "data": {
      "text/plain": [
       "'36,750  €'"
      ]
     },
     "execution_count": 49,
     "metadata": {},
     "output_type": "execute_result"
    }
   ],
   "source": [
    "row_tds[-1].text # last element has the price"
   ]
  },
  {
   "cell_type": "code",
   "execution_count": 50,
   "metadata": {},
   "outputs": [
    {
     "data": {
      "text/plain": [
       "['description',\n",
       " 'url',\n",
       " 'Iela',\n",
       " 'Ist.',\n",
       " 'm2',\n",
       " 'Stāvs',\n",
       " 'Sērija',\n",
       " 'Cena, m2',\n",
       " 'Cena']"
      ]
     },
     "execution_count": 50,
     "metadata": {},
     "output_type": "execute_result"
    }
   ],
   "source": [
    "column_names # we got these first"
   ]
  },
  {
   "cell_type": "code",
   "execution_count": 51,
   "metadata": {},
   "outputs": [],
   "source": [
    "# from row get dictionary with values \n",
    "def getRow(row, colist=column_names):\n",
    "    row_tds = row.find_all('td')\n",
    "    rowDict = {}\n",
    "    if len(row_tds) < 3: # a little sanity check\n",
    "        print(\"Hmm bad row\")\n",
    "        return rowDict\n",
    "    \n",
    "    # we start with description\n",
    "    rowDict[colist[0]] = row_tds[2].text # so the big assumption is that we always get description in 3rd column\n",
    "    # then url\n",
    "    rowDict[colist[1]] = \"https://ss.com\" + row_tds[1].find('a').get('href')\n",
    "    # rest of columns can vary depending on type of ad\n",
    "    # so we loop through all remaining columns\n",
    "    for key,td in zip(colist[2:],row_tds[3:]): \n",
    "        rowDict[key] = td.text\n",
    "    return rowDict"
   ]
  },
  {
   "cell_type": "code",
   "execution_count": 52,
   "metadata": {},
   "outputs": [
    {
     "data": {
      "text/plain": [
       "<tr id=\"tr_54352983\"><td class=\"msga2 pp0\"><input id=\"c54352983\" name=\"mid[]\" type=\"checkbox\" value=\"54352983_1106_0\"/></td><td class=\"msga2\"><a href=\"/msg/lv/real-estate/flats/riga/centre/ccnfo.html\" id=\"im54352983\"><img alt=\"\" class=\"isfoto foto_list\" src=\"https://i.ss.com/gallery/7/1227/306572/61314360.th2.jpg\"/></a></td><td class=\"msg2\"><div class=\"d1\"><a class=\"am\" data=\"bSU4QW96JTg5JUUxJUExbyU4NWYlN0MlOEIlOTYlQTJqJTg2b3klOEYlOTUlQTJoJTgyZg==|8R6DXep\" href=\"/msg/lv/real-estate/flats/riga/centre/ccnfo.html\" id=\"dm_54352983\">Īpašnieks pārdod dzīvokli renovētā jūgendstila ēkā - Grīziņa Nam</a></div></td><td c=\"1\" class=\"msga2-o pp6\" nowrap=\"\">Augšiela 8</td><td c=\"1\" class=\"msga2-o pp6\" nowrap=\"\">1</td><td c=\"1\" class=\"msga2-o pp6\" nowrap=\"\">22</td><td c=\"1\" class=\"msga2-o pp6\" nowrap=\"\">5/6</td><td c=\"1\" class=\"msga2-o pp6\" nowrap=\"\">Renov.</td><td c=\"1\" class=\"msga2-o pp6\" nowrap=\"\">1,670 €</td><td c=\"1\" class=\"msga2-o pp6\" nowrap=\"\">36,750  €</td></tr>"
      ]
     },
     "execution_count": 52,
     "metadata": {},
     "output_type": "execute_result"
    }
   ],
   "source": [
    "apt_rows[0] # first row of ads"
   ]
  },
  {
   "cell_type": "code",
   "execution_count": 53,
   "metadata": {},
   "outputs": [
    {
     "data": {
      "text/plain": [
       "{'description': 'Īpašnieks pārdod dzīvokli renovētā jūgendstila ēkā - Grīziņa Nam',\n",
       " 'url': 'https://ss.com/msg/lv/real-estate/flats/riga/centre/ccnfo.html',\n",
       " 'Iela': 'Augšiela 8',\n",
       " 'Ist.': '1',\n",
       " 'm2': '22',\n",
       " 'Stāvs': '5/6',\n",
       " 'Sērija': 'Renov.',\n",
       " 'Cena, m2': '1,670 €',\n",
       " 'Cena': '36,750  €'}"
      ]
     },
     "execution_count": 53,
     "metadata": {},
     "output_type": "execute_result"
    }
   ],
   "source": [
    "getRow(apt_rows[0])"
   ]
  },
  {
   "cell_type": "code",
   "execution_count": 54,
   "metadata": {},
   "outputs": [
    {
     "data": {
      "text/plain": [
       "{'description': 'Īpašnieks pārdod dzīvokli renovētā jūgendstila ēkā - Grīziņa Nam',\n",
       " 'url': 'https://ss.com/msg/lv/real-estate/flats/riga/centre/ccnfo.html',\n",
       " 'Iela': 'Augšiela 8',\n",
       " 'Ist.': '1',\n",
       " 'm2': '22',\n",
       " 'Stāvs': '5/6',\n",
       " 'Sērija': 'Renov.',\n",
       " 'Cena, m2': '1,670 €',\n",
       " 'Cena': '36,750  €'}"
      ]
     },
     "execution_count": 54,
     "metadata": {},
     "output_type": "execute_result"
    }
   ],
   "source": [
    "getRow(first_ad)"
   ]
  },
  {
   "cell_type": "code",
   "execution_count": 55,
   "metadata": {},
   "outputs": [],
   "source": [
    "# so if we know how to work on single row then we can do process multiple rows\n",
    "def getRows(rowlist, colist=column_names):\n",
    "    # we could use list comprehension\n",
    "    # return [getRow(row, colist=colist) for row in rowlist] # so return a list of dictionaries\n",
    "    # we could use regular for loop\n",
    "    rowdicts = []\n",
    "    # so for each row of ads we get a dictionary\n",
    "    for row in rowlist:\n",
    "        rowdicts.append(getRow(row, colist=colist))\n",
    "    return rowdicts"
   ]
  },
  {
   "cell_type": "code",
   "execution_count": 56,
   "metadata": {},
   "outputs": [
    {
     "data": {
      "text/plain": [
       "[{'description': 'Pārdod gaišu dzīvokli Blaumaņa ielā 11/13 pagalma mājā. \\r\\nDzīvok',\n",
       "  'url': 'https://ss.com/msg/lv/real-estate/flats/riga/centre/aenkm.html',\n",
       "  'Iela': 'Blaumaņa 11/13',\n",
       "  'Ist.': '4',\n",
       "  'm2': '108',\n",
       "  'Stāvs': '5/6',\n",
       "  'Sērija': 'P. kara',\n",
       "  'Cena, m2': '1,481 €',\n",
       "  'Cena': '160,000  €'},\n",
       " {'description': 'Pārdod dzīvokli Blaumaņa ielā 11/13 fasādes mājā. \\r\\nDzīvokļa kop',\n",
       "  'url': 'https://ss.com/msg/lv/real-estate/flats/riga/centre/bbkfc.html',\n",
       "  'Iela': 'Blaumaņa 11/13',\n",
       "  'Ist.': '5',\n",
       "  'm2': '128',\n",
       "  'Stāvs': '2/5',\n",
       "  'Sērija': 'P. kara',\n",
       "  'Cena, m2': '1,998 €',\n",
       "  'Cena': '255,800  €'},\n",
       " {'description': 'Lv\\r\\nPārdošanā gaišs un mājīgs divistabu dzīvoklis pēc tikko pabe',\n",
       "  'url': 'https://ss.com/msg/lv/real-estate/flats/riga/centre/adign.html',\n",
       "  'Iela': 'Čaka 45',\n",
       "  'Ist.': '2',\n",
       "  'm2': '51',\n",
       "  'Stāvs': '3/4',\n",
       "  'Sērija': 'Renov.',\n",
       "  'Cena, m2': '2,098 €',\n",
       "  'Cena': '107,000  €'}]"
      ]
     },
     "execution_count": 56,
     "metadata": {},
     "output_type": "execute_result"
    }
   ],
   "source": [
    "row_ads = getRows(apt_rows)\n",
    "row_ads[-3:] # last 3 ads"
   ]
  },
  {
   "cell_type": "code",
   "execution_count": 57,
   "metadata": {},
   "outputs": [
    {
     "data": {
      "text/plain": [
       "(list, 30)"
      ]
     },
     "execution_count": 57,
     "metadata": {},
     "output_type": "execute_result"
    }
   ],
   "source": [
    "type(row_ads), len(row_ads) # list of dictionaries for each ad"
   ]
  },
  {
   "cell_type": "code",
   "execution_count": null,
   "metadata": {},
   "outputs": [],
   "source": [
    "# such a list of dictionaries is easy to convert into a DataFrame in pandas"
   ]
  },
  {
   "cell_type": "code",
   "execution_count": null,
   "metadata": {},
   "outputs": [
    {
     "data": {
      "text/plain": [
       "(30, 9)"
      ]
     },
     "execution_count": 58,
     "metadata": {},
     "output_type": "execute_result"
    }
   ],
   "source": [
    "# i am converting my list of dictionaries into a DataFrame\n",
    "# dtemp = pd.DataFrame(row_ads, columns=column_names)\n",
    "dtemp = pd.DataFrame(row_ads) # no need for columns if we have them in the dictionary\n",
    "dtemp.shape"
   ]
  },
  {
   "cell_type": "code",
   "execution_count": 59,
   "metadata": {},
   "outputs": [
    {
     "data": {
      "text/html": [
       "<div>\n",
       "<style scoped>\n",
       "    .dataframe tbody tr th:only-of-type {\n",
       "        vertical-align: middle;\n",
       "    }\n",
       "\n",
       "    .dataframe tbody tr th {\n",
       "        vertical-align: top;\n",
       "    }\n",
       "\n",
       "    .dataframe thead th {\n",
       "        text-align: right;\n",
       "    }\n",
       "</style>\n",
       "<table border=\"1\" class=\"dataframe\">\n",
       "  <thead>\n",
       "    <tr style=\"text-align: right;\">\n",
       "      <th></th>\n",
       "      <th>description</th>\n",
       "      <th>url</th>\n",
       "      <th>Iela</th>\n",
       "      <th>Ist.</th>\n",
       "      <th>m2</th>\n",
       "      <th>Stāvs</th>\n",
       "      <th>Sērija</th>\n",
       "      <th>Cena, m2</th>\n",
       "      <th>Cena</th>\n",
       "    </tr>\n",
       "  </thead>\n",
       "  <tbody>\n",
       "    <tr>\n",
       "      <th>0</th>\n",
       "      <td>Īpašnieks pārdod dzīvokli renovētā jūgendstila...</td>\n",
       "      <td>https://ss.com/msg/lv/real-estate/flats/riga/c...</td>\n",
       "      <td>Augšiela 8</td>\n",
       "      <td>1</td>\n",
       "      <td>22</td>\n",
       "      <td>5/6</td>\n",
       "      <td>Renov.</td>\n",
       "      <td>1,670 €</td>\n",
       "      <td>36,750  €</td>\n",
       "    </tr>\n",
       "    <tr>\n",
       "      <th>1</th>\n",
       "      <td>Īpašnieks pārdod dzīvokli renovētā jūgendstila...</td>\n",
       "      <td>https://ss.com/msg/lv/real-estate/flats/riga/c...</td>\n",
       "      <td>Augšiela 8</td>\n",
       "      <td>2</td>\n",
       "      <td>30</td>\n",
       "      <td>6/6</td>\n",
       "      <td>Renov.</td>\n",
       "      <td>1,517 €</td>\n",
       "      <td>45,500  €</td>\n",
       "    </tr>\n",
       "    <tr>\n",
       "      <th>2</th>\n",
       "      <td>Projekta attīstītājs pārdod dzīvokli renovētā ...</td>\n",
       "      <td>https://ss.com/msg/lv/real-estate/flats/riga/c...</td>\n",
       "      <td>Augšiela 8</td>\n",
       "      <td>2</td>\n",
       "      <td>35</td>\n",
       "      <td>6/6</td>\n",
       "      <td>Renov.</td>\n",
       "      <td>1,484 €</td>\n",
       "      <td>51,950  €</td>\n",
       "    </tr>\n",
       "    <tr>\n",
       "      <th>3</th>\n",
       "      <td>Trīs istabu dzīvoklis atrodas neorenesanses ar...</td>\n",
       "      <td>https://ss.com/msg/lv/real-estate/flats/riga/c...</td>\n",
       "      <td>Baznīcas 26A</td>\n",
       "      <td>3</td>\n",
       "      <td>101</td>\n",
       "      <td>3/6</td>\n",
       "      <td>Renov.</td>\n",
       "      <td>2,228 €</td>\n",
       "      <td>225,000  €</td>\n",
       "    </tr>\n",
       "    <tr>\n",
       "      <th>4</th>\n",
       "      <td>Pārdod plašu, ērta plānojuma 4-istabu dzīvokli...</td>\n",
       "      <td>https://ss.com/msg/lv/real-estate/flats/riga/c...</td>\n",
       "      <td>Ģertrūdes 63</td>\n",
       "      <td>4</td>\n",
       "      <td>122</td>\n",
       "      <td>5/6</td>\n",
       "      <td>P. kara</td>\n",
       "      <td>1,270 €</td>\n",
       "      <td>155,000  €</td>\n",
       "    </tr>\n",
       "  </tbody>\n",
       "</table>\n",
       "</div>"
      ],
      "text/plain": [
       "                                         description  \\\n",
       "0  Īpašnieks pārdod dzīvokli renovētā jūgendstila...   \n",
       "1  Īpašnieks pārdod dzīvokli renovētā jūgendstila...   \n",
       "2  Projekta attīstītājs pārdod dzīvokli renovētā ...   \n",
       "3  Trīs istabu dzīvoklis atrodas neorenesanses ar...   \n",
       "4  Pārdod plašu, ērta plānojuma 4-istabu dzīvokli...   \n",
       "\n",
       "                                                 url          Iela Ist.   m2  \\\n",
       "0  https://ss.com/msg/lv/real-estate/flats/riga/c...    Augšiela 8    1   22   \n",
       "1  https://ss.com/msg/lv/real-estate/flats/riga/c...    Augšiela 8    2   30   \n",
       "2  https://ss.com/msg/lv/real-estate/flats/riga/c...    Augšiela 8    2   35   \n",
       "3  https://ss.com/msg/lv/real-estate/flats/riga/c...  Baznīcas 26A    3  101   \n",
       "4  https://ss.com/msg/lv/real-estate/flats/riga/c...  Ģertrūdes 63    4  122   \n",
       "\n",
       "  Stāvs   Sērija Cena, m2        Cena  \n",
       "0   5/6   Renov.  1,670 €   36,750  €  \n",
       "1   6/6   Renov.  1,517 €   45,500  €  \n",
       "2   6/6   Renov.  1,484 €   51,950  €  \n",
       "3   3/6   Renov.  2,228 €  225,000  €  \n",
       "4   5/6  P. kara  1,270 €  155,000  €  "
      ]
     },
     "execution_count": 59,
     "metadata": {},
     "output_type": "execute_result"
    }
   ],
   "source": [
    "dtemp.head() # first 5 rows"
   ]
  },
  {
   "cell_type": "code",
   "execution_count": 60,
   "metadata": {},
   "outputs": [],
   "source": [
    "dtemp.to_excel(\"rigas_centrs_nov11.xlsx\")"
   ]
  },
  {
   "cell_type": "code",
   "execution_count": 61,
   "metadata": {},
   "outputs": [],
   "source": [
    "# so with this function I can get full dataframe from a single page on ss.com not only apartments\n",
    "def getDFfromURL(url):\n",
    "    # print(\"getting data from\", url)\n",
    "    req = requests.get(url) # here we make a request to a server\n",
    "    if req.status_code != 200:\n",
    "        print(\"Request Fail with\", req.status_code)\n",
    "        return None # maybe return empty dataframe here\n",
    "    soup = BeautifulSoup(req.text, 'lxml')\n",
    "    column_names = getColList(soup)\n",
    "    rowlist = getRowList(soup)\n",
    "    rows_dict = getRows(rowlist,colist=column_names)\n",
    "    return pd.DataFrame(rows_dict)\n",
    "    "
   ]
  },
  {
   "cell_type": "code",
   "execution_count": 62,
   "metadata": {},
   "outputs": [
    {
     "data": {
      "text/plain": [
       "'https://www.ss.com/lv/real-estate/flats/riga/centre/sell/'"
      ]
     },
     "execution_count": 62,
     "metadata": {},
     "output_type": "execute_result"
    }
   ],
   "source": [
    "centrs = url\n",
    "centrs"
   ]
  },
  {
   "cell_type": "code",
   "execution_count": 63,
   "metadata": {},
   "outputs": [
    {
     "data": {
      "text/html": [
       "<div>\n",
       "<style scoped>\n",
       "    .dataframe tbody tr th:only-of-type {\n",
       "        vertical-align: middle;\n",
       "    }\n",
       "\n",
       "    .dataframe tbody tr th {\n",
       "        vertical-align: top;\n",
       "    }\n",
       "\n",
       "    .dataframe thead th {\n",
       "        text-align: right;\n",
       "    }\n",
       "</style>\n",
       "<table border=\"1\" class=\"dataframe\">\n",
       "  <thead>\n",
       "    <tr style=\"text-align: right;\">\n",
       "      <th></th>\n",
       "      <th>description</th>\n",
       "      <th>url</th>\n",
       "      <th>Iela</th>\n",
       "      <th>Ist.</th>\n",
       "      <th>m2</th>\n",
       "      <th>Stāvs</th>\n",
       "      <th>Sērija</th>\n",
       "      <th>Cena, m2</th>\n",
       "      <th>Cena</th>\n",
       "    </tr>\n",
       "  </thead>\n",
       "  <tbody>\n",
       "    <tr>\n",
       "      <th>0</th>\n",
       "      <td>Īpašnieks pārdod gaišu, siltu vienistabas dzīv...</td>\n",
       "      <td>https://ss.com/msg/lv/real-estate/flats/riga/i...</td>\n",
       "      <td>Kurzemes pr. 130</td>\n",
       "      <td>1</td>\n",
       "      <td>36</td>\n",
       "      <td>7/9</td>\n",
       "      <td>602.</td>\n",
       "      <td>1,528 €</td>\n",
       "      <td>55,000  €</td>\n",
       "    </tr>\n",
       "    <tr>\n",
       "      <th>1</th>\n",
       "      <td>Продает хозяин , все весь ремонт делался под с...</td>\n",
       "      <td>https://ss.com/msg/lv/real-estate/flats/riga/i...</td>\n",
       "      <td>Kleistu 15</td>\n",
       "      <td>1</td>\n",
       "      <td>36</td>\n",
       "      <td>2/8</td>\n",
       "      <td>602.</td>\n",
       "      <td>1,497 €</td>\n",
       "      <td>53,900  €</td>\n",
       "    </tr>\n",
       "    <tr>\n",
       "      <th>2</th>\n",
       "      <td>Elitārs dzīvoklis mājā ar trenažieru zāli, sau...</td>\n",
       "      <td>https://ss.com/msg/lv/real-estate/flats/riga/i...</td>\n",
       "      <td>Anniņmuižas 38</td>\n",
       "      <td>4</td>\n",
       "      <td>122</td>\n",
       "      <td>4/18</td>\n",
       "      <td>Jaun.</td>\n",
       "      <td>2,008 €</td>\n",
       "      <td>245,000  €</td>\n",
       "    </tr>\n",
       "    <tr>\n",
       "      <th>3</th>\n",
       "      <td>Mūsdienīgs trīs istabu dzīvoklis, mainīts plān...</td>\n",
       "      <td>https://ss.com/msg/lv/real-estate/flats/riga/i...</td>\n",
       "      <td>Progresa 2a</td>\n",
       "      <td>3</td>\n",
       "      <td>70</td>\n",
       "      <td>12/12</td>\n",
       "      <td>104.</td>\n",
       "      <td>1,427 €</td>\n",
       "      <td>99,900  €</td>\n",
       "    </tr>\n",
       "    <tr>\n",
       "      <th>4</th>\n",
       "      <td>Pārdošanā 2 istabu dzīvoklis ar parkošanās vie...</td>\n",
       "      <td>https://ss.com/msg/lv/real-estate/flats/riga/i...</td>\n",
       "      <td>Anniņmuižas 38/k3</td>\n",
       "      <td>2</td>\n",
       "      <td>60</td>\n",
       "      <td>4/18</td>\n",
       "      <td>Jaun.</td>\n",
       "      <td>1,817 €</td>\n",
       "      <td>109,000  €</td>\n",
       "    </tr>\n",
       "  </tbody>\n",
       "</table>\n",
       "</div>"
      ],
      "text/plain": [
       "                                         description  \\\n",
       "0  Īpašnieks pārdod gaišu, siltu vienistabas dzīv...   \n",
       "1  Продает хозяин , все весь ремонт делался под с...   \n",
       "2  Elitārs dzīvoklis mājā ar trenažieru zāli, sau...   \n",
       "3  Mūsdienīgs trīs istabu dzīvoklis, mainīts plān...   \n",
       "4  Pārdošanā 2 istabu dzīvoklis ar parkošanās vie...   \n",
       "\n",
       "                                                 url               Iela Ist.  \\\n",
       "0  https://ss.com/msg/lv/real-estate/flats/riga/i...   Kurzemes pr. 130    1   \n",
       "1  https://ss.com/msg/lv/real-estate/flats/riga/i...         Kleistu 15    1   \n",
       "2  https://ss.com/msg/lv/real-estate/flats/riga/i...     Anniņmuižas 38    4   \n",
       "3  https://ss.com/msg/lv/real-estate/flats/riga/i...        Progresa 2a    3   \n",
       "4  https://ss.com/msg/lv/real-estate/flats/riga/i...  Anniņmuižas 38/k3    2   \n",
       "\n",
       "    m2  Stāvs Sērija Cena, m2        Cena  \n",
       "0   36    7/9   602.  1,528 €   55,000  €  \n",
       "1   36    2/8   602.  1,497 €   53,900  €  \n",
       "2  122   4/18  Jaun.  2,008 €  245,000  €  \n",
       "3   70  12/12   104.  1,427 €   99,900  €  \n",
       "4   60   4/18  Jaun.  1,817 €  109,000  €  "
      ]
     },
     "execution_count": 63,
     "metadata": {},
     "output_type": "execute_result"
    }
   ],
   "source": [
    "imanta = \"https://www.ss.com/lv/real-estate/flats/riga/imanta/sell/\"\n",
    "idf = getDFfromURL(imanta)\n",
    "idf.head()"
   ]
  },
  {
   "cell_type": "code",
   "execution_count": 64,
   "metadata": {},
   "outputs": [],
   "source": [
    "df = getDFfromURL(centrs) # this will involve calling web page"
   ]
  },
  {
   "cell_type": "code",
   "execution_count": 65,
   "metadata": {},
   "outputs": [
    {
     "data": {
      "text/plain": [
       "'https://www.ss.com/lv/real-estate/flats/riga/centre/sell/'"
      ]
     },
     "execution_count": 65,
     "metadata": {},
     "output_type": "execute_result"
    }
   ],
   "source": [
    "url"
   ]
  },
  {
   "cell_type": "code",
   "execution_count": null,
   "metadata": {},
   "outputs": [],
   "source": [
    "df = getDFfromURL(url)\n",
    "df.shape"
   ]
  },
  {
   "cell_type": "code",
   "execution_count": 66,
   "metadata": {},
   "outputs": [
    {
     "data": {
      "text/plain": [
       "(30, 9)"
      ]
     },
     "execution_count": 66,
     "metadata": {},
     "output_type": "execute_result"
    }
   ],
   "source": [
    "df.shape"
   ]
  },
  {
   "cell_type": "code",
   "execution_count": 67,
   "metadata": {},
   "outputs": [
    {
     "data": {
      "text/html": [
       "<div>\n",
       "<style scoped>\n",
       "    .dataframe tbody tr th:only-of-type {\n",
       "        vertical-align: middle;\n",
       "    }\n",
       "\n",
       "    .dataframe tbody tr th {\n",
       "        vertical-align: top;\n",
       "    }\n",
       "\n",
       "    .dataframe thead th {\n",
       "        text-align: right;\n",
       "    }\n",
       "</style>\n",
       "<table border=\"1\" class=\"dataframe\">\n",
       "  <thead>\n",
       "    <tr style=\"text-align: right;\">\n",
       "      <th></th>\n",
       "      <th>description</th>\n",
       "      <th>url</th>\n",
       "      <th>Iela</th>\n",
       "      <th>Ist.</th>\n",
       "      <th>m2</th>\n",
       "      <th>Stāvs</th>\n",
       "      <th>Sērija</th>\n",
       "      <th>Cena, m2</th>\n",
       "      <th>Cena</th>\n",
       "    </tr>\n",
       "  </thead>\n",
       "  <tbody>\n",
       "    <tr>\n",
       "      <th>0</th>\n",
       "      <td>Dzīvoklis tikko pēc remonta. \\r\\nDzīvojamā ist...</td>\n",
       "      <td>https://ss.com/msg/lv/real-estate/flats/riga/c...</td>\n",
       "      <td>Valdemāra 73</td>\n",
       "      <td>3</td>\n",
       "      <td>66</td>\n",
       "      <td>6/6</td>\n",
       "      <td>P. kara</td>\n",
       "      <td>2,500 €</td>\n",
       "      <td>165,000  €</td>\n",
       "    </tr>\n",
       "    <tr>\n",
       "      <th>1</th>\n",
       "      <td>Tikko pēc kapitāla remonta. Augstais stāvs, k...</td>\n",
       "      <td>https://ss.com/msg/lv/real-estate/flats/riga/c...</td>\n",
       "      <td>Katrīnas d. 22</td>\n",
       "      <td>3</td>\n",
       "      <td>66</td>\n",
       "      <td>1/4</td>\n",
       "      <td>Specpr.</td>\n",
       "      <td>1,423 €</td>\n",
       "      <td>93,900  €</td>\n",
       "    </tr>\n",
       "    <tr>\n",
       "      <th>2</th>\n",
       "      <td>Kluss. Panorāmas skats no logiem. \\r\\nLaba plā...</td>\n",
       "      <td>https://ss.com/msg/lv/real-estate/flats/riga/c...</td>\n",
       "      <td>Teātra 12</td>\n",
       "      <td>5</td>\n",
       "      <td>136</td>\n",
       "      <td>6/7</td>\n",
       "      <td>P. kara</td>\n",
       "      <td>2,000 €</td>\n",
       "      <td>272,000  €</td>\n",
       "    </tr>\n",
       "    <tr>\n",
       "      <th>3</th>\n",
       "      <td>Vairāki pakāpieni uz leju. \\r\\nDaļa maksas var...</td>\n",
       "      <td>https://ss.com/msg/lv/real-estate/flats/riga/c...</td>\n",
       "      <td>Duntes 26</td>\n",
       "      <td>3</td>\n",
       "      <td>67</td>\n",
       "      <td>1/6</td>\n",
       "      <td>Specpr.</td>\n",
       "      <td>143 €</td>\n",
       "      <td>9,580  €</td>\n",
       "    </tr>\n",
       "    <tr>\n",
       "      <th>4</th>\n",
       "      <td>Pārdodam dzīvokļus ēkā ar vēstures garšu. Reno...</td>\n",
       "      <td>https://ss.com/msg/lv/real-estate/flats/riga/c...</td>\n",
       "      <td>Tomsona 33</td>\n",
       "      <td>3</td>\n",
       "      <td>64</td>\n",
       "      <td>4/5</td>\n",
       "      <td>Renov.</td>\n",
       "      <td>2,180 €</td>\n",
       "      <td>139,500  €</td>\n",
       "    </tr>\n",
       "  </tbody>\n",
       "</table>\n",
       "</div>"
      ],
      "text/plain": [
       "                                         description   \n",
       "0  Dzīvoklis tikko pēc remonta. \\r\\nDzīvojamā ist...  \\\n",
       "1   Tikko pēc kapitāla remonta. Augstais stāvs, k...   \n",
       "2  Kluss. Panorāmas skats no logiem. \\r\\nLaba plā...   \n",
       "3  Vairāki pakāpieni uz leju. \\r\\nDaļa maksas var...   \n",
       "4  Pārdodam dzīvokļus ēkā ar vēstures garšu. Reno...   \n",
       "\n",
       "                                                 url            Iela Ist.   \n",
       "0  https://ss.com/msg/lv/real-estate/flats/riga/c...    Valdemāra 73    3  \\\n",
       "1  https://ss.com/msg/lv/real-estate/flats/riga/c...  Katrīnas d. 22    3   \n",
       "2  https://ss.com/msg/lv/real-estate/flats/riga/c...       Teātra 12    5   \n",
       "3  https://ss.com/msg/lv/real-estate/flats/riga/c...       Duntes 26    3   \n",
       "4  https://ss.com/msg/lv/real-estate/flats/riga/c...      Tomsona 33    3   \n",
       "\n",
       "    m2 Stāvs   Sērija Cena, m2        Cena  \n",
       "0   66   6/6  P. kara  2,500 €  165,000  €  \n",
       "1   66   1/4  Specpr.  1,423 €   93,900  €  \n",
       "2  136   6/7  P. kara  2,000 €  272,000  €  \n",
       "3   67   1/6  Specpr.    143 €    9,580  €  \n",
       "4   64   4/5   Renov.  2,180 €  139,500  €  "
      ]
     },
     "execution_count": 67,
     "metadata": {},
     "output_type": "execute_result"
    }
   ],
   "source": [
    "df.head()"
   ]
  },
  {
   "cell_type": "code",
   "execution_count": 68,
   "metadata": {},
   "outputs": [
    {
     "name": "stdout",
     "output_type": "stream",
     "text": [
      "Found 99 anchor elements\n"
     ]
    }
   ],
   "source": [
    "# anchors are our friends - the basic building blocks of HTML - linking to other pages\n",
    "# https://developer.mozilla.org/en-US/docs/Web/HTML/Element/a\n",
    "anchors = soup.find_all(\"a\") # returns a list of all anchor elements\n",
    "print(f\"Found {len(anchors)} anchor elements\") # anchors are the basic building blocks of HTML"
   ]
  },
  {
   "cell_type": "code",
   "execution_count": 67,
   "metadata": {},
   "outputs": [
    {
     "data": {
      "text/plain": [
       "[<a href=\"/lv/\" title=\"Sludinājumi\"><img alt=\"Sludinājumi\" border=\"0\" class=\"page_header_logo\" src=\"https://i.ss.com/img/p.gif\"/></a>,\n",
       " <a class=\"a_menu\" href=\"/lv/real-estate/flats/new/\" title=\"Iesniegt Sludinājumu\">Iesniegt Sludinājumu</a>,\n",
       " <a class=\"a_menu\" href=\"/lv/login/\" title=\"Mani Sludinājumi\">Mani Sludinājumi</a>,\n",
       " <a class=\"a_menu\" href=\"/lv/real-estate/flats/riga/centre/search/\" title=\"Meklēt sludinājumus\">Meklēšana</a>,\n",
       " <a class=\"a_menu\" href=\"/lv/favorites/\" title=\"Memo\">Memo</a>]"
      ]
     },
     "execution_count": 67,
     "metadata": {},
     "output_type": "execute_result"
    }
   ],
   "source": [
    "anchors[:5]"
   ]
  },
  {
   "cell_type": "code",
   "execution_count": 69,
   "metadata": {},
   "outputs": [
    {
     "data": {
      "text/plain": [
       "10"
      ]
     },
     "execution_count": 69,
     "metadata": {},
     "output_type": "execute_result"
    }
   ],
   "source": [
    "navs = [anchor for anchor in anchors if anchor.get(\"name\") == \"nav_id\"] # get will get us None if no \"name\" exists\n",
    "len(navs)"
   ]
  },
  {
   "cell_type": "code",
   "execution_count": 70,
   "metadata": {},
   "outputs": [
    {
     "data": {
      "text/plain": [
       "[<a class=\"navi\" href=\"/lv/real-estate/flats/riga/centre/sell/page31.html\" name=\"nav_id\" rel=\"prev\"><img border=\"0\" height=\"5\" src=\"https://i.ss.com/img/s_left.png\" style=\"padding-bottom:2px;\" width=\"9\"/> Iepriekšējie</a>,\n",
       " <a class=\"navi\" href=\"/lv/real-estate/flats/riga/centre/sell/page2.html\" name=\"nav_id\" rel=\"next\">2</a>,\n",
       " <a class=\"navi\" href=\"/lv/real-estate/flats/riga/centre/sell/page3.html\" name=\"nav_id\" rel=\"next\">3</a>,\n",
       " <a class=\"navi\" href=\"/lv/real-estate/flats/riga/centre/sell/page4.html\" name=\"nav_id\" rel=\"next\">4</a>,\n",
       " <a class=\"navi\" href=\"/lv/real-estate/flats/riga/centre/sell/page5.html\" name=\"nav_id\" rel=\"next\">5</a>,\n",
       " <a class=\"navi\" href=\"/lv/real-estate/flats/riga/centre/sell/page6.html\" name=\"nav_id\" rel=\"next\">6</a>,\n",
       " <a class=\"navi\" href=\"/lv/real-estate/flats/riga/centre/sell/page7.html\" name=\"nav_id\" rel=\"next\">7</a>,\n",
       " <a class=\"navi\" href=\"/lv/real-estate/flats/riga/centre/sell/page8.html\" name=\"nav_id\" rel=\"next\">8</a>,\n",
       " <a class=\"navi\" href=\"/lv/real-estate/flats/riga/centre/sell/page9.html\" name=\"nav_id\" rel=\"next\">9</a>,\n",
       " <a class=\"navi\" href=\"/lv/real-estate/flats/riga/centre/sell/page2.html\" name=\"nav_id\" rel=\"next\">Nākamie <img border=\"0\" height=\"5\" src=\"https://i.ss.com/img/s_right.png\" style=\"padding-bottom:2px;\" width=\"9\"/></a>]"
      ]
     },
     "execution_count": 70,
     "metadata": {},
     "output_type": "execute_result"
    }
   ],
   "source": [
    "navs"
   ]
  },
  {
   "cell_type": "code",
   "execution_count": 71,
   "metadata": {},
   "outputs": [
    {
     "data": {
      "text/plain": [
       "<a class=\"navi\" href=\"/lv/real-estate/flats/riga/centre/sell/page31.html\" name=\"nav_id\" rel=\"prev\"><img border=\"0\" height=\"5\" src=\"https://i.ss.com/img/s_left.png\" style=\"padding-bottom:2px;\" width=\"9\"/> Iepriekšējie</a>"
      ]
     },
     "execution_count": 71,
     "metadata": {},
     "output_type": "execute_result"
    }
   ],
   "source": [
    "navs[0]"
   ]
  },
  {
   "cell_type": "code",
   "execution_count": 72,
   "metadata": {},
   "outputs": [
    {
     "data": {
      "text/plain": [
       "{'name': 'nav_id',\n",
       " 'rel': ['prev'],\n",
       " 'class': ['navi'],\n",
       " 'href': '/lv/real-estate/flats/riga/centre/sell/page31.html'}"
      ]
     },
     "execution_count": 72,
     "metadata": {},
     "output_type": "execute_result"
    }
   ],
   "source": [
    "navs[0].attrs"
   ]
  },
  {
   "cell_type": "code",
   "execution_count": 73,
   "metadata": {},
   "outputs": [
    {
     "data": {
      "text/plain": [
       "'/lv/real-estate/flats/riga/centre/sell/page31.html'"
      ]
     },
     "execution_count": 73,
     "metadata": {},
     "output_type": "execute_result"
    }
   ],
   "source": [
    "navs[0]['href']"
   ]
  },
  {
   "cell_type": "code",
   "execution_count": 74,
   "metadata": {},
   "outputs": [
    {
     "data": {
      "text/plain": [
       "'31.html'"
      ]
     },
     "execution_count": 74,
     "metadata": {},
     "output_type": "execute_result"
    }
   ],
   "source": [
    "# could use regular expression here but we can use split \n",
    "afterpage = navs[0]['href'].split(\"/page\")[-1] # -1 might be safer than 1 in case there is region with name page\n",
    "afterpage"
   ]
  },
  {
   "cell_type": "code",
   "execution_count": null,
   "metadata": {},
   "outputs": [
    {
     "data": {
      "text/plain": [
       "'31'"
      ]
     },
     "execution_count": 75,
     "metadata": {},
     "output_type": "execute_result"
    }
   ],
   "source": [
    "beforedot = afterpage.split(\".html\")[0]\n",
    "beforedot # we get a string of a number"
   ]
  },
  {
   "cell_type": "code",
   "execution_count": 76,
   "metadata": {},
   "outputs": [
    {
     "data": {
      "text/plain": [
       "31"
      ]
     },
     "execution_count": 76,
     "metadata": {},
     "output_type": "execute_result"
    }
   ],
   "source": [
    "# finally we need to convert string to integer\n",
    "lastpage = int(beforedot)\n",
    "lastpage"
   ]
  },
  {
   "cell_type": "code",
   "execution_count": null,
   "metadata": {},
   "outputs": [],
   "source": [
    "# so now wbe put everything we just did in a single function"
   ]
  },
  {
   "cell_type": "code",
   "execution_count": 77,
   "metadata": {},
   "outputs": [
    {
     "data": {
      "text/plain": [
       "<a class=\"navi\" href=\"/lv/real-estate/flats/riga/centre/sell/page31.html\" name=\"nav_id\" rel=\"prev\"><img border=\"0\" height=\"5\" src=\"https://i.ss.com/img/s_left.png\" style=\"padding-bottom:2px;\" width=\"9\"/> Iepriekšējie</a>"
      ]
     },
     "execution_count": 77,
     "metadata": {},
     "output_type": "execute_result"
    }
   ],
   "source": [
    "# instead of getting first element from list we can use find\n",
    "prevanchor = soup.find('a', {\"rel\":\"prev\"})\n",
    "prevanchor"
   ]
  },
  {
   "cell_type": "code",
   "execution_count": 78,
   "metadata": {},
   "outputs": [],
   "source": [
    "def getAllLocalUrls(url):\n",
    "    \"\"\"Get a list of all urls including paginated pages\"\"\"\n",
    "    results = [url] # default is just the url if no extra pages found, teiksim Bolderājai...\n",
    "    req = requests.get(url)\n",
    "    if req.status_code != 200:\n",
    "        print(f\"Bad response! {req.status_code}\")\n",
    "        return []\n",
    "    soup = BeautifulSoup(req.text, 'lxml')\n",
    "    # we just need a one element\n",
    "    prevanchor = soup.find('a', {\"rel\":\"prev\"}) # find finds first match only\n",
    "    if prevanchor == None: # means there is only one page of ads\n",
    "        return results # we return just the original first page\n",
    "    href = prevanchor.attrs.get('href')\n",
    "    # so split by /page and then take last element and split by .html and take first element\n",
    "    # finally convert to integer\n",
    "    lastPageNum = int(href.split('/page')[-1].split('.html')[0])\n",
    "    print(\"Last page is\",lastPageNum)\n",
    "    new_urls = [f\"{url}page{n}.html\" for n in range(2,lastPageNum+1)]\n",
    "    results += new_urls # add new urls to our list\n",
    "    return results"
   ]
  },
  {
   "cell_type": "code",
   "execution_count": 79,
   "metadata": {},
   "outputs": [
    {
     "data": {
      "text/plain": [
       "'https://www.ss.com/lv/real-estate/flats/riga/centre/sell/'"
      ]
     },
     "execution_count": 79,
     "metadata": {},
     "output_type": "execute_result"
    }
   ],
   "source": [
    "url"
   ]
  },
  {
   "cell_type": "code",
   "execution_count": null,
   "metadata": {},
   "outputs": [],
   "source": [
    "centrs = url # alias # not a copy"
   ]
  },
  {
   "cell_type": "code",
   "execution_count": 82,
   "metadata": {},
   "outputs": [
    {
     "name": "stdout",
     "output_type": "stream",
     "text": [
      "Last page is 30\n"
     ]
    },
    {
     "data": {
      "text/plain": [
       "(30,\n",
       " ['https://www.ss.com/lv/real-estate/flats/riga/centre/sell/',\n",
       "  'https://www.ss.com/lv/real-estate/flats/riga/centre/sell/page2.html',\n",
       "  'https://www.ss.com/lv/real-estate/flats/riga/centre/sell/page3.html'],\n",
       " 'https://www.ss.com/lv/real-estate/flats/riga/centre/sell/page30.html')"
      ]
     },
     "execution_count": 82,
     "metadata": {},
     "output_type": "execute_result"
    }
   ],
   "source": [
    "local_urls = getAllLocalUrls(url)\n",
    "len(local_urls),local_urls[:3],local_urls[-1]"
   ]
  },
  {
   "cell_type": "code",
   "execution_count": 71,
   "metadata": {},
   "outputs": [
    {
     "data": {
      "text/plain": [
       "['https://www.ss.com/lv/real-estate/flats/riga/centre/sell/',\n",
       " 'https://www.ss.com/lv/real-estate/flats/riga/centre/sell/page2.html',\n",
       " 'https://www.ss.com/lv/real-estate/flats/riga/centre/sell/page3.html',\n",
       " 'https://www.ss.com/lv/real-estate/flats/riga/centre/sell/page4.html',\n",
       " 'https://www.ss.com/lv/real-estate/flats/riga/centre/sell/page5.html',\n",
       " 'https://www.ss.com/lv/real-estate/flats/riga/centre/sell/page6.html',\n",
       " 'https://www.ss.com/lv/real-estate/flats/riga/centre/sell/page7.html',\n",
       " 'https://www.ss.com/lv/real-estate/flats/riga/centre/sell/page8.html',\n",
       " 'https://www.ss.com/lv/real-estate/flats/riga/centre/sell/page9.html',\n",
       " 'https://www.ss.com/lv/real-estate/flats/riga/centre/sell/page10.html',\n",
       " 'https://www.ss.com/lv/real-estate/flats/riga/centre/sell/page11.html',\n",
       " 'https://www.ss.com/lv/real-estate/flats/riga/centre/sell/page12.html',\n",
       " 'https://www.ss.com/lv/real-estate/flats/riga/centre/sell/page13.html',\n",
       " 'https://www.ss.com/lv/real-estate/flats/riga/centre/sell/page14.html',\n",
       " 'https://www.ss.com/lv/real-estate/flats/riga/centre/sell/page15.html',\n",
       " 'https://www.ss.com/lv/real-estate/flats/riga/centre/sell/page16.html',\n",
       " 'https://www.ss.com/lv/real-estate/flats/riga/centre/sell/page17.html',\n",
       " 'https://www.ss.com/lv/real-estate/flats/riga/centre/sell/page18.html',\n",
       " 'https://www.ss.com/lv/real-estate/flats/riga/centre/sell/page19.html',\n",
       " 'https://www.ss.com/lv/real-estate/flats/riga/centre/sell/page20.html',\n",
       " 'https://www.ss.com/lv/real-estate/flats/riga/centre/sell/page21.html',\n",
       " 'https://www.ss.com/lv/real-estate/flats/riga/centre/sell/page22.html',\n",
       " 'https://www.ss.com/lv/real-estate/flats/riga/centre/sell/page23.html']"
      ]
     },
     "execution_count": 71,
     "metadata": {},
     "output_type": "execute_result"
    }
   ],
   "source": [
    "local_urls"
   ]
  },
  {
   "cell_type": "code",
   "execution_count": 83,
   "metadata": {},
   "outputs": [
    {
     "data": {
      "text/plain": [
       "(30, 9)"
      ]
     },
     "execution_count": 83,
     "metadata": {},
     "output_type": "execute_result"
    }
   ],
   "source": [
    "dlast = getDFfromURL(local_urls[-1])\n",
    "dlast.shape"
   ]
  },
  {
   "cell_type": "code",
   "execution_count": 84,
   "metadata": {
    "scrolled": true
   },
   "outputs": [
    {
     "data": {
      "text/html": [
       "<div>\n",
       "<style scoped>\n",
       "    .dataframe tbody tr th:only-of-type {\n",
       "        vertical-align: middle;\n",
       "    }\n",
       "\n",
       "    .dataframe tbody tr th {\n",
       "        vertical-align: top;\n",
       "    }\n",
       "\n",
       "    .dataframe thead th {\n",
       "        text-align: right;\n",
       "    }\n",
       "</style>\n",
       "<table border=\"1\" class=\"dataframe\">\n",
       "  <thead>\n",
       "    <tr style=\"text-align: right;\">\n",
       "      <th></th>\n",
       "      <th>description</th>\n",
       "      <th>url</th>\n",
       "      <th>Iela</th>\n",
       "      <th>Ist.</th>\n",
       "      <th>m2</th>\n",
       "      <th>Stāvs</th>\n",
       "      <th>Sērija</th>\n",
       "      <th>Cena, m2</th>\n",
       "      <th>Cena</th>\n",
       "    </tr>\n",
       "  </thead>\n",
       "  <tbody>\n",
       "    <tr>\n",
       "      <th>0</th>\n",
       "      <td>Investīciju komplekss - 4 dzīvokļi vienā ēkā p...</td>\n",
       "      <td>https://ss.com/msg/lv/real-estate/flats/riga/c...</td>\n",
       "      <td>Dzirnavu 157</td>\n",
       "      <td>Citi</td>\n",
       "      <td>270</td>\n",
       "      <td>2/3</td>\n",
       "      <td>P. kara</td>\n",
       "      <td>722 €</td>\n",
       "      <td>195,000  €</td>\n",
       "    </tr>\n",
       "    <tr>\n",
       "      <th>1</th>\n",
       "      <td>Iegādei tiek piedāvāts elegants un plašs 5 ist...</td>\n",
       "      <td>https://ss.com/msg/lv/real-estate/flats/riga/c...</td>\n",
       "      <td>Alberta 4</td>\n",
       "      <td>5</td>\n",
       "      <td>193</td>\n",
       "      <td>2/4</td>\n",
       "      <td>P. kara</td>\n",
       "      <td>4,896 €</td>\n",
       "      <td>945,000  €</td>\n",
       "    </tr>\n",
       "    <tr>\n",
       "      <th>2</th>\n",
       "      <td>Dzīvoklim ir vides pieejamība. Piemērots arī m...</td>\n",
       "      <td>https://ss.com/msg/lv/real-estate/flats/riga/c...</td>\n",
       "      <td>Artilērijas 11</td>\n",
       "      <td>3</td>\n",
       "      <td>62</td>\n",
       "      <td>1/4</td>\n",
       "      <td>Renov.</td>\n",
       "      <td>1,355 €</td>\n",
       "      <td>84,000  €</td>\n",
       "    </tr>\n",
       "    <tr>\n",
       "      <th>3</th>\n",
       "      <td>Pārdod plašu 4 istabu dzīvokli Rīgas Klusajā C...</td>\n",
       "      <td>https://ss.com/msg/lv/real-estate/flats/riga/c...</td>\n",
       "      <td>Republikas laukums..</td>\n",
       "      <td>4</td>\n",
       "      <td>123</td>\n",
       "      <td>3/6</td>\n",
       "      <td>Jaun.</td>\n",
       "      <td>2,236 €</td>\n",
       "      <td>275,000  €</td>\n",
       "    </tr>\n",
       "    <tr>\n",
       "      <th>4</th>\n",
       "      <td>Tiek pārdtos 3-istabu dzīvoklis. Visas istabas...</td>\n",
       "      <td>https://ss.com/msg/lv/real-estate/flats/riga/c...</td>\n",
       "      <td>Gogoļa 13</td>\n",
       "      <td>3</td>\n",
       "      <td>75</td>\n",
       "      <td>5/6</td>\n",
       "      <td>P. kara</td>\n",
       "      <td>1,600 €</td>\n",
       "      <td>120,000  €</td>\n",
       "    </tr>\n",
       "    <tr>\n",
       "      <th>5</th>\n",
       "      <td>Jaunais projekts , Lilien” , kura nosaukums ra...</td>\n",
       "      <td>https://ss.com/msg/lv/real-estate/flats/riga/c...</td>\n",
       "      <td>Laboratorijas 5</td>\n",
       "      <td>3</td>\n",
       "      <td>68</td>\n",
       "      <td>2/5</td>\n",
       "      <td>Jaun.</td>\n",
       "      <td>2,424 €</td>\n",
       "      <td>164,800  €</td>\n",
       "    </tr>\n",
       "    <tr>\n",
       "      <th>6</th>\n",
       "      <td>Jaunais projekts , Lilien” , kura nosaukums ra...</td>\n",
       "      <td>https://ss.com/msg/lv/real-estate/flats/riga/c...</td>\n",
       "      <td>Laboratorijas 5</td>\n",
       "      <td>3</td>\n",
       "      <td>62</td>\n",
       "      <td>3/5</td>\n",
       "      <td>Jaun.</td>\n",
       "      <td>2,497 €</td>\n",
       "      <td>154,800  €</td>\n",
       "    </tr>\n",
       "    <tr>\n",
       "      <th>7</th>\n",
       "      <td>Divlīmeņu dzīvoklis renovētā mājā, kura atroda...</td>\n",
       "      <td>https://ss.com/msg/lv/real-estate/flats/riga/c...</td>\n",
       "      <td>Raiņa bulv. 9</td>\n",
       "      <td>3</td>\n",
       "      <td>144</td>\n",
       "      <td>6/6</td>\n",
       "      <td>Renov.</td>\n",
       "      <td>2,931 €</td>\n",
       "      <td>422,000  €</td>\n",
       "    </tr>\n",
       "    <tr>\n",
       "      <th>8</th>\n",
       "      <td>Pārdod 3 izolētu istabu dzīvokli\\r\\n\\r\\nDzīvok...</td>\n",
       "      <td>https://ss.com/msg/lv/real-estate/flats/riga/c...</td>\n",
       "      <td>Duntes 23</td>\n",
       "      <td>3</td>\n",
       "      <td>74</td>\n",
       "      <td>1/4</td>\n",
       "      <td>Staļina</td>\n",
       "      <td>782 €</td>\n",
       "      <td>57,900  €</td>\n",
       "    </tr>\n",
       "    <tr>\n",
       "      <th>9</th>\n",
       "      <td>2 - istabu dzīvoklis, atrodas 12 stāvu ēkā, no...</td>\n",
       "      <td>https://ss.com/msg/lv/real-estate/flats/riga/c...</td>\n",
       "      <td>Katrīnas d. 27</td>\n",
       "      <td>2</td>\n",
       "      <td>46</td>\n",
       "      <td>3/12</td>\n",
       "      <td>Renov.</td>\n",
       "      <td>2,000 €</td>\n",
       "      <td>92,000  €</td>\n",
       "    </tr>\n",
       "    <tr>\n",
       "      <th>10</th>\n",
       "      <td>Iespējams iegādāties tikko renovētu dzīvokli R...</td>\n",
       "      <td>https://ss.com/msg/lv/real-estate/flats/riga/c...</td>\n",
       "      <td>Matīsa 101</td>\n",
       "      <td>1</td>\n",
       "      <td>29</td>\n",
       "      <td>3/5</td>\n",
       "      <td>Renov.</td>\n",
       "      <td>2,276 €</td>\n",
       "      <td>66,000  €</td>\n",
       "    </tr>\n",
       "    <tr>\n",
       "      <th>11</th>\n",
       "      <td>Pārdošanā dzīvoklis ar kvalitatīvu, modernu un...</td>\n",
       "      <td>https://ss.com/msg/lv/real-estate/flats/riga/c...</td>\n",
       "      <td>Zvaigžņu 13C</td>\n",
       "      <td>1</td>\n",
       "      <td>27</td>\n",
       "      <td>3/6</td>\n",
       "      <td>P. kara</td>\n",
       "      <td>1,741 €</td>\n",
       "      <td>47,000  €</td>\n",
       "    </tr>\n",
       "    <tr>\n",
       "      <th>12</th>\n",
       "      <td>Vienas guļamistabas dzīvoklis Jūgendstila ēkā....</td>\n",
       "      <td>https://ss.com/msg/lv/real-estate/flats/riga/c...</td>\n",
       "      <td>Brīvības 99</td>\n",
       "      <td>1</td>\n",
       "      <td>42</td>\n",
       "      <td>6/6</td>\n",
       "      <td>P. kara</td>\n",
       "      <td>1,429 €</td>\n",
       "      <td>60,000  €</td>\n",
       "    </tr>\n",
       "    <tr>\n",
       "      <th>13</th>\n",
       "      <td>Citējot pasaulslaveno filozofu V. Benjaminu: T...</td>\n",
       "      <td>https://ss.com/msg/lv/real-estate/flats/riga/c...</td>\n",
       "      <td>Dzirnavu 53</td>\n",
       "      <td>3</td>\n",
       "      <td>128</td>\n",
       "      <td>2/6</td>\n",
       "      <td>Renov.</td>\n",
       "      <td>2,923 €</td>\n",
       "      <td>374,190  €</td>\n",
       "    </tr>\n",
       "    <tr>\n",
       "      <th>14</th>\n",
       "      <td>Piedāvājumā 2 istabu mansarda tipa dzīvoklis a...</td>\n",
       "      <td>https://ss.com/msg/lv/real-estate/flats/riga/c...</td>\n",
       "      <td>Brīvības 95</td>\n",
       "      <td>2</td>\n",
       "      <td>53</td>\n",
       "      <td>7/7</td>\n",
       "      <td>Renov.</td>\n",
       "      <td>2,758 €</td>\n",
       "      <td>146,200  €</td>\n",
       "    </tr>\n",
       "    <tr>\n",
       "      <th>15</th>\n",
       "      <td>Citējot pasaulslaveno filozofu V. Benjaminu: T...</td>\n",
       "      <td>https://ss.com/msg/lv/real-estate/flats/riga/c...</td>\n",
       "      <td>Dzirnavu 53</td>\n",
       "      <td>4</td>\n",
       "      <td>126</td>\n",
       "      <td>1/6</td>\n",
       "      <td>Renov.</td>\n",
       "      <td>3,062 €</td>\n",
       "      <td>385,784  €</td>\n",
       "    </tr>\n",
       "    <tr>\n",
       "      <th>16</th>\n",
       "      <td>Citējot pasaulslaveno filozofu V. Benjaminu: T...</td>\n",
       "      <td>https://ss.com/msg/lv/real-estate/flats/riga/c...</td>\n",
       "      <td>Dzirnavu 53</td>\n",
       "      <td>2</td>\n",
       "      <td>36</td>\n",
       "      <td>1/6</td>\n",
       "      <td>Renov.</td>\n",
       "      <td>3,801 €</td>\n",
       "      <td>136,832  €</td>\n",
       "    </tr>\n",
       "    <tr>\n",
       "      <th>17</th>\n",
       "      <td>Īpašnieks pārdod klusu divistabu dzīvokli ar s...</td>\n",
       "      <td>https://ss.com/msg/lv/real-estate/flats/riga/c...</td>\n",
       "      <td>Brīvības 142</td>\n",
       "      <td>2</td>\n",
       "      <td>51</td>\n",
       "      <td>4/7</td>\n",
       "      <td>P. kara</td>\n",
       "      <td>2,078 €</td>\n",
       "      <td>106,000  €</td>\n",
       "    </tr>\n",
       "    <tr>\n",
       "      <th>18</th>\n",
       "      <td>Pārdodu 2-istabu dzīvokli Pērnavas ielā 10, Rī...</td>\n",
       "      <td>https://ss.com/msg/lv/real-estate/flats/riga/c...</td>\n",
       "      <td>Pērnavas 10</td>\n",
       "      <td>2</td>\n",
       "      <td>47</td>\n",
       "      <td>1/5</td>\n",
       "      <td>Staļina</td>\n",
       "      <td>1,064 €</td>\n",
       "      <td>50,000  €</td>\n",
       "    </tr>\n",
       "    <tr>\n",
       "      <th>19</th>\n",
       "      <td>Dzīvoklis Klusajā Centrā. \\r\\nPiedāvājam iegād...</td>\n",
       "      <td>https://ss.com/msg/lv/real-estate/flats/riga/c...</td>\n",
       "      <td>Kalpaka bulv. 7</td>\n",
       "      <td>1</td>\n",
       "      <td>42</td>\n",
       "      <td>1/6</td>\n",
       "      <td>Renov.</td>\n",
       "      <td>3,214 €</td>\n",
       "      <td>135,000  €</td>\n",
       "    </tr>\n",
       "    <tr>\n",
       "      <th>20</th>\n",
       "      <td>3 istabu dzīvoklis ar terasi jaunajā projektā ...</td>\n",
       "      <td>https://ss.com/msg/lv/real-estate/flats/riga/c...</td>\n",
       "      <td>Miera 61</td>\n",
       "      <td>3</td>\n",
       "      <td>57</td>\n",
       "      <td>5/7</td>\n",
       "      <td>Jaun.</td>\n",
       "      <td>2,421 €</td>\n",
       "      <td>138,000  €</td>\n",
       "    </tr>\n",
       "    <tr>\n",
       "      <th>21</th>\n",
       "      <td>Interesants 2- līmeņu mansardtipa dzīvoklis. P...</td>\n",
       "      <td>https://ss.com/msg/lv/real-estate/flats/riga/c...</td>\n",
       "      <td>Ģertrūdes 113</td>\n",
       "      <td>2</td>\n",
       "      <td>44</td>\n",
       "      <td>6/7</td>\n",
       "      <td>P. kara</td>\n",
       "      <td>1,818 €</td>\n",
       "      <td>80,000  €</td>\n",
       "    </tr>\n",
       "    <tr>\n",
       "      <th>22</th>\n",
       "      <td>Par ekskluzīvu cenu tiek pārdots plašs un saul...</td>\n",
       "      <td>https://ss.com/msg/lv/real-estate/flats/riga/c...</td>\n",
       "      <td>Ganību d. 13 k-1</td>\n",
       "      <td>3</td>\n",
       "      <td>76</td>\n",
       "      <td>6/7</td>\n",
       "      <td>Jaun.</td>\n",
       "      <td>1,178 €</td>\n",
       "      <td>89,500  €</td>\n",
       "    </tr>\n",
       "    <tr>\n",
       "      <th>23</th>\n",
       "      <td>Īpašnieks pārdod divstāvu penthausu ar pilnu a...</td>\n",
       "      <td>https://ss.com/msg/lv/real-estate/flats/riga/c...</td>\n",
       "      <td>Rūpniecības 50</td>\n",
       "      <td>5</td>\n",
       "      <td>138</td>\n",
       "      <td>6/7</td>\n",
       "      <td>Jaun.</td>\n",
       "      <td>2,754 €</td>\n",
       "      <td>380,000  €</td>\n",
       "    </tr>\n",
       "    <tr>\n",
       "      <th>24</th>\n",
       "      <td>Īpašnieks pardot dzīvokli. \\r\\n\\r\\nВладелец пр...</td>\n",
       "      <td>https://ss.com/msg/lv/real-estate/flats/riga/c...</td>\n",
       "      <td>Rūpniecības 50</td>\n",
       "      <td>3</td>\n",
       "      <td>95</td>\n",
       "      <td>4/7</td>\n",
       "      <td>Jaun.</td>\n",
       "      <td>2,526 €</td>\n",
       "      <td>240,000  €</td>\n",
       "    </tr>\n",
       "    <tr>\n",
       "      <th>25</th>\n",
       "      <td>Saimnieks pārdošanā piedāvā plašu, saulainu če...</td>\n",
       "      <td>https://ss.com/msg/lv/real-estate/flats/riga/c...</td>\n",
       "      <td>Hospitāļu 1</td>\n",
       "      <td>4</td>\n",
       "      <td>89</td>\n",
       "      <td>6/7</td>\n",
       "      <td>Specpr.</td>\n",
       "      <td>1,461 €</td>\n",
       "      <td>130,000  €</td>\n",
       "    </tr>\n",
       "    <tr>\n",
       "      <th>26</th>\n",
       "      <td>Īpašnieks pārdod unikālas telpas gan biznesam,...</td>\n",
       "      <td>https://ss.com/msg/lv/real-estate/flats/riga/c...</td>\n",
       "      <td>Tallinas 32</td>\n",
       "      <td>2</td>\n",
       "      <td>52</td>\n",
       "      <td>1/4</td>\n",
       "      <td>P. kara</td>\n",
       "      <td>1,505 €</td>\n",
       "      <td>78,255  €</td>\n",
       "    </tr>\n",
       "    <tr>\n",
       "      <th>27</th>\n",
       "      <td>Tiek pārdots dzīvoklis pilnīgi renovētā ēkā pa...</td>\n",
       "      <td>https://ss.com/msg/lv/real-estate/flats/riga/c...</td>\n",
       "      <td>Ģertrūdes 23</td>\n",
       "      <td>3</td>\n",
       "      <td>81</td>\n",
       "      <td>2/7</td>\n",
       "      <td>Renov.</td>\n",
       "      <td>2,963 €</td>\n",
       "      <td>240,000  €</td>\n",
       "    </tr>\n",
       "    <tr>\n",
       "      <th>28</th>\n",
       "      <td>Privāts pagalms, sakārtota vide, tikko renovēt...</td>\n",
       "      <td>https://ss.com/msg/lv/real-estate/flats/riga/c...</td>\n",
       "      <td>Matīsa 29</td>\n",
       "      <td>1</td>\n",
       "      <td>29</td>\n",
       "      <td>1/3</td>\n",
       "      <td>Renov.</td>\n",
       "      <td>2,310 €</td>\n",
       "      <td>67,000  €</td>\n",
       "    </tr>\n",
       "    <tr>\n",
       "      <th>29</th>\n",
       "      <td>Pilsētas centrā tiek pārdots skaists vienas gu...</td>\n",
       "      <td>https://ss.com/msg/lv/real-estate/flats/riga/c...</td>\n",
       "      <td>Dzirnavu 149A</td>\n",
       "      <td>2</td>\n",
       "      <td>42</td>\n",
       "      <td>1/4</td>\n",
       "      <td>Staļina</td>\n",
       "      <td>1,310 €</td>\n",
       "      <td>55,000  €</td>\n",
       "    </tr>\n",
       "  </tbody>\n",
       "</table>\n",
       "</div>"
      ],
      "text/plain": [
       "                                          description  \\\n",
       "0   Investīciju komplekss - 4 dzīvokļi vienā ēkā p...   \n",
       "1   Iegādei tiek piedāvāts elegants un plašs 5 ist...   \n",
       "2   Dzīvoklim ir vides pieejamība. Piemērots arī m...   \n",
       "3   Pārdod plašu 4 istabu dzīvokli Rīgas Klusajā C...   \n",
       "4   Tiek pārdtos 3-istabu dzīvoklis. Visas istabas...   \n",
       "5   Jaunais projekts , Lilien” , kura nosaukums ra...   \n",
       "6   Jaunais projekts , Lilien” , kura nosaukums ra...   \n",
       "7   Divlīmeņu dzīvoklis renovētā mājā, kura atroda...   \n",
       "8   Pārdod 3 izolētu istabu dzīvokli\\r\\n\\r\\nDzīvok...   \n",
       "9   2 - istabu dzīvoklis, atrodas 12 stāvu ēkā, no...   \n",
       "10  Iespējams iegādāties tikko renovētu dzīvokli R...   \n",
       "11  Pārdošanā dzīvoklis ar kvalitatīvu, modernu un...   \n",
       "12  Vienas guļamistabas dzīvoklis Jūgendstila ēkā....   \n",
       "13  Citējot pasaulslaveno filozofu V. Benjaminu: T...   \n",
       "14  Piedāvājumā 2 istabu mansarda tipa dzīvoklis a...   \n",
       "15  Citējot pasaulslaveno filozofu V. Benjaminu: T...   \n",
       "16  Citējot pasaulslaveno filozofu V. Benjaminu: T...   \n",
       "17  Īpašnieks pārdod klusu divistabu dzīvokli ar s...   \n",
       "18  Pārdodu 2-istabu dzīvokli Pērnavas ielā 10, Rī...   \n",
       "19  Dzīvoklis Klusajā Centrā. \\r\\nPiedāvājam iegād...   \n",
       "20  3 istabu dzīvoklis ar terasi jaunajā projektā ...   \n",
       "21  Interesants 2- līmeņu mansardtipa dzīvoklis. P...   \n",
       "22  Par ekskluzīvu cenu tiek pārdots plašs un saul...   \n",
       "23  Īpašnieks pārdod divstāvu penthausu ar pilnu a...   \n",
       "24  Īpašnieks pardot dzīvokli. \\r\\n\\r\\nВладелец пр...   \n",
       "25  Saimnieks pārdošanā piedāvā plašu, saulainu če...   \n",
       "26  Īpašnieks pārdod unikālas telpas gan biznesam,...   \n",
       "27  Tiek pārdots dzīvoklis pilnīgi renovētā ēkā pa...   \n",
       "28  Privāts pagalms, sakārtota vide, tikko renovēt...   \n",
       "29  Pilsētas centrā tiek pārdots skaists vienas gu...   \n",
       "\n",
       "                                                  url                  Iela  \\\n",
       "0   https://ss.com/msg/lv/real-estate/flats/riga/c...          Dzirnavu 157   \n",
       "1   https://ss.com/msg/lv/real-estate/flats/riga/c...             Alberta 4   \n",
       "2   https://ss.com/msg/lv/real-estate/flats/riga/c...        Artilērijas 11   \n",
       "3   https://ss.com/msg/lv/real-estate/flats/riga/c...  Republikas laukums..   \n",
       "4   https://ss.com/msg/lv/real-estate/flats/riga/c...             Gogoļa 13   \n",
       "5   https://ss.com/msg/lv/real-estate/flats/riga/c...       Laboratorijas 5   \n",
       "6   https://ss.com/msg/lv/real-estate/flats/riga/c...       Laboratorijas 5   \n",
       "7   https://ss.com/msg/lv/real-estate/flats/riga/c...         Raiņa bulv. 9   \n",
       "8   https://ss.com/msg/lv/real-estate/flats/riga/c...             Duntes 23   \n",
       "9   https://ss.com/msg/lv/real-estate/flats/riga/c...        Katrīnas d. 27   \n",
       "10  https://ss.com/msg/lv/real-estate/flats/riga/c...            Matīsa 101   \n",
       "11  https://ss.com/msg/lv/real-estate/flats/riga/c...          Zvaigžņu 13C   \n",
       "12  https://ss.com/msg/lv/real-estate/flats/riga/c...           Brīvības 99   \n",
       "13  https://ss.com/msg/lv/real-estate/flats/riga/c...           Dzirnavu 53   \n",
       "14  https://ss.com/msg/lv/real-estate/flats/riga/c...           Brīvības 95   \n",
       "15  https://ss.com/msg/lv/real-estate/flats/riga/c...           Dzirnavu 53   \n",
       "16  https://ss.com/msg/lv/real-estate/flats/riga/c...           Dzirnavu 53   \n",
       "17  https://ss.com/msg/lv/real-estate/flats/riga/c...          Brīvības 142   \n",
       "18  https://ss.com/msg/lv/real-estate/flats/riga/c...           Pērnavas 10   \n",
       "19  https://ss.com/msg/lv/real-estate/flats/riga/c...       Kalpaka bulv. 7   \n",
       "20  https://ss.com/msg/lv/real-estate/flats/riga/c...              Miera 61   \n",
       "21  https://ss.com/msg/lv/real-estate/flats/riga/c...         Ģertrūdes 113   \n",
       "22  https://ss.com/msg/lv/real-estate/flats/riga/c...      Ganību d. 13 k-1   \n",
       "23  https://ss.com/msg/lv/real-estate/flats/riga/c...        Rūpniecības 50   \n",
       "24  https://ss.com/msg/lv/real-estate/flats/riga/c...        Rūpniecības 50   \n",
       "25  https://ss.com/msg/lv/real-estate/flats/riga/c...           Hospitāļu 1   \n",
       "26  https://ss.com/msg/lv/real-estate/flats/riga/c...           Tallinas 32   \n",
       "27  https://ss.com/msg/lv/real-estate/flats/riga/c...          Ģertrūdes 23   \n",
       "28  https://ss.com/msg/lv/real-estate/flats/riga/c...             Matīsa 29   \n",
       "29  https://ss.com/msg/lv/real-estate/flats/riga/c...         Dzirnavu 149A   \n",
       "\n",
       "    Ist.   m2 Stāvs   Sērija Cena, m2        Cena  \n",
       "0   Citi  270   2/3  P. kara    722 €  195,000  €  \n",
       "1      5  193   2/4  P. kara  4,896 €  945,000  €  \n",
       "2      3   62   1/4   Renov.  1,355 €   84,000  €  \n",
       "3      4  123   3/6    Jaun.  2,236 €  275,000  €  \n",
       "4      3   75   5/6  P. kara  1,600 €  120,000  €  \n",
       "5      3   68   2/5    Jaun.  2,424 €  164,800  €  \n",
       "6      3   62   3/5    Jaun.  2,497 €  154,800  €  \n",
       "7      3  144   6/6   Renov.  2,931 €  422,000  €  \n",
       "8      3   74   1/4  Staļina    782 €   57,900  €  \n",
       "9      2   46  3/12   Renov.  2,000 €   92,000  €  \n",
       "10     1   29   3/5   Renov.  2,276 €   66,000  €  \n",
       "11     1   27   3/6  P. kara  1,741 €   47,000  €  \n",
       "12     1   42   6/6  P. kara  1,429 €   60,000  €  \n",
       "13     3  128   2/6   Renov.  2,923 €  374,190  €  \n",
       "14     2   53   7/7   Renov.  2,758 €  146,200  €  \n",
       "15     4  126   1/6   Renov.  3,062 €  385,784  €  \n",
       "16     2   36   1/6   Renov.  3,801 €  136,832  €  \n",
       "17     2   51   4/7  P. kara  2,078 €  106,000  €  \n",
       "18     2   47   1/5  Staļina  1,064 €   50,000  €  \n",
       "19     1   42   1/6   Renov.  3,214 €  135,000  €  \n",
       "20     3   57   5/7    Jaun.  2,421 €  138,000  €  \n",
       "21     2   44   6/7  P. kara  1,818 €   80,000  €  \n",
       "22     3   76   6/7    Jaun.  1,178 €   89,500  €  \n",
       "23     5  138   6/7    Jaun.  2,754 €  380,000  €  \n",
       "24     3   95   4/7    Jaun.  2,526 €  240,000  €  \n",
       "25     4   89   6/7  Specpr.  1,461 €  130,000  €  \n",
       "26     2   52   1/4  P. kara  1,505 €   78,255  €  \n",
       "27     3   81   2/7   Renov.  2,963 €  240,000  €  \n",
       "28     1   29   1/3   Renov.  2,310 €   67,000  €  \n",
       "29     2   42   1/4  Staļina  1,310 €   55,000  €  "
      ]
     },
     "execution_count": 84,
     "metadata": {},
     "output_type": "execute_result"
    }
   ],
   "source": [
    "dlast"
   ]
  },
  {
   "cell_type": "code",
   "execution_count": 85,
   "metadata": {},
   "outputs": [],
   "source": [
    "def get_all_ads_df(start_url, save_excel_path=None, delay=0.3):\n",
    "    df_list=[] # so we will save our dataframes in a list\n",
    "    # first get the urls of all pages that we want to scrape\n",
    "    local_urls = getAllLocalUrls(start_url)\n",
    "    # simply loop through all urls and get the dataframes\n",
    "    for url in local_urls:\n",
    "        print(f\"Gathering data from {url}\")\n",
    "        df_list.append(getDFfromURL(url))\n",
    "        time.sleep(delay) # we need this to play nice! to avoid rate limit or IP ban!!\n",
    "    # https://pandas.pydata.org/pandas-docs/stable/reference/api/pandas.concat.html\n",
    "    big_df = pd.concat(df_list, ignore_index=True) # then make a big dataframe from all the small dataframes\n",
    "    if save_excel_path:\n",
    "        print(f\"Saving to {save_excel_path}\")\n",
    "        big_df.to_excel(save_excel_path)\n",
    "    return big_df\n",
    "    "
   ]
  },
  {
   "cell_type": "code",
   "execution_count": 86,
   "metadata": {},
   "outputs": [
    {
     "data": {
      "text/plain": [
       "'https://www.ss.com/lv/real-estate/flats/riga/centre/sell/'"
      ]
     },
     "execution_count": 86,
     "metadata": {},
     "output_type": "execute_result"
    }
   ],
   "source": [
    "centrs = url\n",
    "centrs"
   ]
  },
  {
   "cell_type": "code",
   "execution_count": 87,
   "metadata": {
    "scrolled": true
   },
   "outputs": [
    {
     "name": "stdout",
     "output_type": "stream",
     "text": [
      "Last page is 31\n",
      "Gathering data from https://www.ss.com/lv/real-estate/flats/riga/centre/sell/\n",
      "Gathering data from https://www.ss.com/lv/real-estate/flats/riga/centre/sell/page2.html\n",
      "Gathering data from https://www.ss.com/lv/real-estate/flats/riga/centre/sell/page3.html\n",
      "Gathering data from https://www.ss.com/lv/real-estate/flats/riga/centre/sell/page4.html\n",
      "Gathering data from https://www.ss.com/lv/real-estate/flats/riga/centre/sell/page5.html\n",
      "Gathering data from https://www.ss.com/lv/real-estate/flats/riga/centre/sell/page6.html\n",
      "Gathering data from https://www.ss.com/lv/real-estate/flats/riga/centre/sell/page7.html\n",
      "Gathering data from https://www.ss.com/lv/real-estate/flats/riga/centre/sell/page8.html\n",
      "Gathering data from https://www.ss.com/lv/real-estate/flats/riga/centre/sell/page9.html\n",
      "Gathering data from https://www.ss.com/lv/real-estate/flats/riga/centre/sell/page10.html\n",
      "Gathering data from https://www.ss.com/lv/real-estate/flats/riga/centre/sell/page11.html\n",
      "Gathering data from https://www.ss.com/lv/real-estate/flats/riga/centre/sell/page12.html\n",
      "Gathering data from https://www.ss.com/lv/real-estate/flats/riga/centre/sell/page13.html\n",
      "Gathering data from https://www.ss.com/lv/real-estate/flats/riga/centre/sell/page14.html\n",
      "Gathering data from https://www.ss.com/lv/real-estate/flats/riga/centre/sell/page15.html\n",
      "Gathering data from https://www.ss.com/lv/real-estate/flats/riga/centre/sell/page16.html\n",
      "Gathering data from https://www.ss.com/lv/real-estate/flats/riga/centre/sell/page17.html\n",
      "Gathering data from https://www.ss.com/lv/real-estate/flats/riga/centre/sell/page18.html\n",
      "Gathering data from https://www.ss.com/lv/real-estate/flats/riga/centre/sell/page19.html\n",
      "Gathering data from https://www.ss.com/lv/real-estate/flats/riga/centre/sell/page20.html\n",
      "Gathering data from https://www.ss.com/lv/real-estate/flats/riga/centre/sell/page21.html\n",
      "Gathering data from https://www.ss.com/lv/real-estate/flats/riga/centre/sell/page22.html\n",
      "Gathering data from https://www.ss.com/lv/real-estate/flats/riga/centre/sell/page23.html\n",
      "Gathering data from https://www.ss.com/lv/real-estate/flats/riga/centre/sell/page24.html\n",
      "Gathering data from https://www.ss.com/lv/real-estate/flats/riga/centre/sell/page25.html\n",
      "Gathering data from https://www.ss.com/lv/real-estate/flats/riga/centre/sell/page26.html\n",
      "Gathering data from https://www.ss.com/lv/real-estate/flats/riga/centre/sell/page27.html\n",
      "Gathering data from https://www.ss.com/lv/real-estate/flats/riga/centre/sell/page28.html\n",
      "Gathering data from https://www.ss.com/lv/real-estate/flats/riga/centre/sell/page29.html\n",
      "Gathering data from https://www.ss.com/lv/real-estate/flats/riga/centre/sell/page30.html\n",
      "Gathering data from https://www.ss.com/lv/real-estate/flats/riga/centre/sell/page31.html\n",
      "Saving to centrs_dzivokli_nov11.xlsx\n"
     ]
    }
   ],
   "source": [
    "centra_df = get_all_ads_df(centrs, save_excel_path=\"centrs_dzivokli_nov11.xlsx\")"
   ]
  },
  {
   "cell_type": "code",
   "execution_count": 88,
   "metadata": {},
   "outputs": [
    {
     "data": {
      "text/html": [
       "<div>\n",
       "<style scoped>\n",
       "    .dataframe tbody tr th:only-of-type {\n",
       "        vertical-align: middle;\n",
       "    }\n",
       "\n",
       "    .dataframe tbody tr th {\n",
       "        vertical-align: top;\n",
       "    }\n",
       "\n",
       "    .dataframe thead th {\n",
       "        text-align: right;\n",
       "    }\n",
       "</style>\n",
       "<table border=\"1\" class=\"dataframe\">\n",
       "  <thead>\n",
       "    <tr style=\"text-align: right;\">\n",
       "      <th></th>\n",
       "      <th>description</th>\n",
       "      <th>url</th>\n",
       "      <th>Iela</th>\n",
       "      <th>Ist.</th>\n",
       "      <th>m2</th>\n",
       "      <th>Stāvs</th>\n",
       "      <th>Sērija</th>\n",
       "      <th>Cena, m2</th>\n",
       "      <th>Cena</th>\n",
       "    </tr>\n",
       "  </thead>\n",
       "  <tbody>\n",
       "    <tr>\n",
       "      <th>0</th>\n",
       "      <td>Pārdošanā 4-istabu dzīvoklis ar 3 guļamistabām...</td>\n",
       "      <td>https://ss.com/msg/lv/real-estate/flats/riga/c...</td>\n",
       "      <td>Baznīcas 27/29</td>\n",
       "      <td>4</td>\n",
       "      <td>144</td>\n",
       "      <td>4/6</td>\n",
       "      <td>Renov.</td>\n",
       "      <td>2,118 €</td>\n",
       "      <td>305,000  €</td>\n",
       "    </tr>\n",
       "    <tr>\n",
       "      <th>1</th>\n",
       "      <td>Labs piedāvājums tiem, kas vēlas dzīvot pašā R...</td>\n",
       "      <td>https://ss.com/msg/lv/real-estate/flats/riga/c...</td>\n",
       "      <td>Tērbatas 50</td>\n",
       "      <td>3</td>\n",
       "      <td>80</td>\n",
       "      <td>2/5</td>\n",
       "      <td>P. kara</td>\n",
       "      <td>2,000 €</td>\n",
       "      <td>160,000  €</td>\n",
       "    </tr>\n",
       "    <tr>\n",
       "      <th>2</th>\n",
       "      <td>Īpašnieks pārdod dzīvokli renovētā jūgendstila...</td>\n",
       "      <td>https://ss.com/msg/lv/real-estate/flats/riga/c...</td>\n",
       "      <td>Augšiela 8</td>\n",
       "      <td>1</td>\n",
       "      <td>22</td>\n",
       "      <td>5/6</td>\n",
       "      <td>Renov.</td>\n",
       "      <td>1,670 €</td>\n",
       "      <td>36,750  €</td>\n",
       "    </tr>\n",
       "    <tr>\n",
       "      <th>3</th>\n",
       "      <td>Īpašnieks pārdod dzīvokli renovētā jūgendstila...</td>\n",
       "      <td>https://ss.com/msg/lv/real-estate/flats/riga/c...</td>\n",
       "      <td>Augšiela 8</td>\n",
       "      <td>2</td>\n",
       "      <td>30</td>\n",
       "      <td>6/6</td>\n",
       "      <td>Renov.</td>\n",
       "      <td>1,517 €</td>\n",
       "      <td>45,500  €</td>\n",
       "    </tr>\n",
       "    <tr>\n",
       "      <th>4</th>\n",
       "      <td>Projekta attīstītājs pārdod dzīvokli renovētā ...</td>\n",
       "      <td>https://ss.com/msg/lv/real-estate/flats/riga/c...</td>\n",
       "      <td>Augšiela 8</td>\n",
       "      <td>2</td>\n",
       "      <td>35</td>\n",
       "      <td>6/6</td>\n",
       "      <td>Renov.</td>\n",
       "      <td>1,484 €</td>\n",
       "      <td>51,950  €</td>\n",
       "    </tr>\n",
       "    <tr>\n",
       "      <th>5</th>\n",
       "      <td>Trīs istabu dzīvoklis atrodas neorenesanses ar...</td>\n",
       "      <td>https://ss.com/msg/lv/real-estate/flats/riga/c...</td>\n",
       "      <td>Baznīcas 26A</td>\n",
       "      <td>3</td>\n",
       "      <td>101</td>\n",
       "      <td>3/6</td>\n",
       "      <td>Renov.</td>\n",
       "      <td>2,228 €</td>\n",
       "      <td>225,000  €</td>\n",
       "    </tr>\n",
       "    <tr>\n",
       "      <th>6</th>\n",
       "      <td>Pārdod plašu, ērta plānojuma 4-istabu dzīvokli...</td>\n",
       "      <td>https://ss.com/msg/lv/real-estate/flats/riga/c...</td>\n",
       "      <td>Ģertrūdes 63</td>\n",
       "      <td>4</td>\n",
       "      <td>122</td>\n",
       "      <td>5/6</td>\n",
       "      <td>P. kara</td>\n",
       "      <td>1,270 €</td>\n",
       "      <td>155,000  €</td>\n",
       "    </tr>\n",
       "    <tr>\n",
       "      <th>7</th>\n",
       "      <td>Īpašnieks pārdod gaišu, mājīgu divu istabu dzī...</td>\n",
       "      <td>https://ss.com/msg/lv/real-estate/flats/riga/c...</td>\n",
       "      <td>Alauksta 9</td>\n",
       "      <td>2</td>\n",
       "      <td>74</td>\n",
       "      <td>3/6</td>\n",
       "      <td>Jaun.</td>\n",
       "      <td>1,948 €</td>\n",
       "      <td>144,119  €</td>\n",
       "    </tr>\n",
       "    <tr>\n",
       "      <th>8</th>\n",
       "      <td>Pārdod 2 istabu dzīvokli Eksporta ielā 10. Dzī...</td>\n",
       "      <td>https://ss.com/msg/lv/real-estate/flats/riga/c...</td>\n",
       "      <td>Eksporta 10</td>\n",
       "      <td>2</td>\n",
       "      <td>32</td>\n",
       "      <td>1/5</td>\n",
       "      <td>Staļina</td>\n",
       "      <td>1,823 €</td>\n",
       "      <td>58,320  €</td>\n",
       "    </tr>\n",
       "    <tr>\n",
       "      <th>9</th>\n",
       "      <td>Divstāvu dzīvoklis ar terasi un skatu uz Dauga...</td>\n",
       "      <td>https://ss.com/msg/lv/real-estate/flats/riga/c...</td>\n",
       "      <td>Eksporta 12</td>\n",
       "      <td>3</td>\n",
       "      <td>81</td>\n",
       "      <td>6/7</td>\n",
       "      <td>Staļina</td>\n",
       "      <td>2,099 €</td>\n",
       "      <td>170,000  €</td>\n",
       "    </tr>\n",
       "  </tbody>\n",
       "</table>\n",
       "</div>"
      ],
      "text/plain": [
       "                                         description  \\\n",
       "0  Pārdošanā 4-istabu dzīvoklis ar 3 guļamistabām...   \n",
       "1  Labs piedāvājums tiem, kas vēlas dzīvot pašā R...   \n",
       "2  Īpašnieks pārdod dzīvokli renovētā jūgendstila...   \n",
       "3  Īpašnieks pārdod dzīvokli renovētā jūgendstila...   \n",
       "4  Projekta attīstītājs pārdod dzīvokli renovētā ...   \n",
       "5  Trīs istabu dzīvoklis atrodas neorenesanses ar...   \n",
       "6  Pārdod plašu, ērta plānojuma 4-istabu dzīvokli...   \n",
       "7  Īpašnieks pārdod gaišu, mājīgu divu istabu dzī...   \n",
       "8  Pārdod 2 istabu dzīvokli Eksporta ielā 10. Dzī...   \n",
       "9  Divstāvu dzīvoklis ar terasi un skatu uz Dauga...   \n",
       "\n",
       "                                                 url            Iela Ist.  \\\n",
       "0  https://ss.com/msg/lv/real-estate/flats/riga/c...  Baznīcas 27/29    4   \n",
       "1  https://ss.com/msg/lv/real-estate/flats/riga/c...     Tērbatas 50    3   \n",
       "2  https://ss.com/msg/lv/real-estate/flats/riga/c...      Augšiela 8    1   \n",
       "3  https://ss.com/msg/lv/real-estate/flats/riga/c...      Augšiela 8    2   \n",
       "4  https://ss.com/msg/lv/real-estate/flats/riga/c...      Augšiela 8    2   \n",
       "5  https://ss.com/msg/lv/real-estate/flats/riga/c...    Baznīcas 26A    3   \n",
       "6  https://ss.com/msg/lv/real-estate/flats/riga/c...    Ģertrūdes 63    4   \n",
       "7  https://ss.com/msg/lv/real-estate/flats/riga/c...      Alauksta 9    2   \n",
       "8  https://ss.com/msg/lv/real-estate/flats/riga/c...     Eksporta 10    2   \n",
       "9  https://ss.com/msg/lv/real-estate/flats/riga/c...     Eksporta 12    3   \n",
       "\n",
       "    m2 Stāvs   Sērija Cena, m2        Cena  \n",
       "0  144   4/6   Renov.  2,118 €  305,000  €  \n",
       "1   80   2/5  P. kara  2,000 €  160,000  €  \n",
       "2   22   5/6   Renov.  1,670 €   36,750  €  \n",
       "3   30   6/6   Renov.  1,517 €   45,500  €  \n",
       "4   35   6/6   Renov.  1,484 €   51,950  €  \n",
       "5  101   3/6   Renov.  2,228 €  225,000  €  \n",
       "6  122   5/6  P. kara  1,270 €  155,000  €  \n",
       "7   74   3/6    Jaun.  1,948 €  144,119  €  \n",
       "8   32   1/5  Staļina  1,823 €   58,320  €  \n",
       "9   81   6/7  Staļina  2,099 €  170,000  €  "
      ]
     },
     "execution_count": 88,
     "metadata": {},
     "output_type": "execute_result"
    }
   ],
   "source": [
    "centra_df.head(10)"
   ]
  },
  {
   "cell_type": "code",
   "execution_count": null,
   "metadata": {},
   "outputs": [],
   "source": [
    "url"
   ]
  },
  {
   "cell_type": "code",
   "execution_count": null,
   "metadata": {},
   "outputs": [],
   "source": [
    "riga_region = get_all_ads_df(url, \"riga_region_sep28.xlsx\")"
   ]
  },
  {
   "cell_type": "code",
   "execution_count": null,
   "metadata": {},
   "outputs": [],
   "source": [
    "riga_region.shape"
   ]
  },
  {
   "cell_type": "code",
   "execution_count": null,
   "metadata": {},
   "outputs": [],
   "source": [
    "riga_region.head(10)"
   ]
  },
  {
   "cell_type": "code",
   "execution_count": null,
   "metadata": {},
   "outputs": [],
   "source": [
    "riga_region.tail(10)"
   ]
  },
  {
   "cell_type": "code",
   "execution_count": 76,
   "metadata": {},
   "outputs": [
    {
     "name": "stdout",
     "output_type": "stream",
     "text": [
      "Last page is 5\n",
      "Gathering data from https://www.ss.com/lv/real-estate/flats/riga/agenskalns/sell/\n",
      "Gathering data from https://www.ss.com/lv/real-estate/flats/riga/agenskalns/sell/page2.html\n",
      "Gathering data from https://www.ss.com/lv/real-estate/flats/riga/agenskalns/sell/page3.html\n",
      "Gathering data from https://www.ss.com/lv/real-estate/flats/riga/agenskalns/sell/page4.html\n",
      "Gathering data from https://www.ss.com/lv/real-estate/flats/riga/agenskalns/sell/page5.html\n"
     ]
    },
    {
     "data": {
      "text/html": [
       "<div>\n",
       "<style scoped>\n",
       "    .dataframe tbody tr th:only-of-type {\n",
       "        vertical-align: middle;\n",
       "    }\n",
       "\n",
       "    .dataframe tbody tr th {\n",
       "        vertical-align: top;\n",
       "    }\n",
       "\n",
       "    .dataframe thead th {\n",
       "        text-align: right;\n",
       "    }\n",
       "</style>\n",
       "<table border=\"1\" class=\"dataframe\">\n",
       "  <thead>\n",
       "    <tr style=\"text-align: right;\">\n",
       "      <th></th>\n",
       "      <th>description</th>\n",
       "      <th>url</th>\n",
       "      <th>Iela</th>\n",
       "      <th>Ist.</th>\n",
       "      <th>m2</th>\n",
       "      <th>Stāvs</th>\n",
       "      <th>Sērija</th>\n",
       "      <th>Cena, m2</th>\n",
       "      <th>Cena</th>\n",
       "    </tr>\n",
       "  </thead>\n",
       "  <tbody>\n",
       "    <tr>\n",
       "      <th>0</th>\n",
       "      <td>Dzīvoklis vēsturiskā mājā ar stāvvietu un zaļo...</td>\n",
       "      <td>https://ss.com/msg/lv/real-estate/flats/riga/a...</td>\n",
       "      <td>Tukuma 3</td>\n",
       "      <td>1</td>\n",
       "      <td>27</td>\n",
       "      <td>3/3</td>\n",
       "      <td>P. kara</td>\n",
       "      <td>1,741 €</td>\n",
       "      <td>47,000  €</td>\n",
       "    </tr>\n",
       "    <tr>\n",
       "      <th>1</th>\n",
       "      <td>В продаже просторная, светлая, теплая, квартир...</td>\n",
       "      <td>https://ss.com/msg/lv/real-estate/flats/riga/a...</td>\n",
       "      <td>Nometņu 57</td>\n",
       "      <td>1</td>\n",
       "      <td>37</td>\n",
       "      <td>1/2</td>\n",
       "      <td>P. kara</td>\n",
       "      <td>673 €</td>\n",
       "      <td>24,900  €</td>\n",
       "    </tr>\n",
       "    <tr>\n",
       "      <th>2</th>\n",
       "      <td>Pārdodu plašu, gaišu, siltu dzīvokli. Privatiz...</td>\n",
       "      <td>https://ss.com/msg/lv/real-estate/flats/riga/a...</td>\n",
       "      <td>Daugavgrīvas 55</td>\n",
       "      <td>2</td>\n",
       "      <td>48</td>\n",
       "      <td>1/2</td>\n",
       "      <td>P. kara</td>\n",
       "      <td>913 €</td>\n",
       "      <td>43,800  €</td>\n",
       "    </tr>\n",
       "    <tr>\n",
       "      <th>3</th>\n",
       "      <td>Tiek piedāvāts dzīvoklis labā stāvoklī, bez pā...</td>\n",
       "      <td>https://ss.com/msg/lv/real-estate/flats/riga/a...</td>\n",
       "      <td>Mērsraga 13</td>\n",
       "      <td>2</td>\n",
       "      <td>41</td>\n",
       "      <td>1/4</td>\n",
       "      <td>Hrušč.</td>\n",
       "      <td>1,146 €</td>\n",
       "      <td>47,000  €</td>\n",
       "    </tr>\n",
       "    <tr>\n",
       "      <th>4</th>\n",
       "      <td>Pārdošanā dzīvoklis unikālā projektā Filozofu ...</td>\n",
       "      <td>https://ss.com/msg/lv/real-estate/flats/riga/a...</td>\n",
       "      <td>Raņķa d. 34</td>\n",
       "      <td>3</td>\n",
       "      <td>95</td>\n",
       "      <td>7/22</td>\n",
       "      <td>Jaun.</td>\n",
       "      <td>2,222 €</td>\n",
       "      <td>211,100  €</td>\n",
       "    </tr>\n",
       "  </tbody>\n",
       "</table>\n",
       "</div>"
      ],
      "text/plain": [
       "                                         description  \\\n",
       "0  Dzīvoklis vēsturiskā mājā ar stāvvietu un zaļo...   \n",
       "1  В продаже просторная, светлая, теплая, квартир...   \n",
       "2  Pārdodu plašu, gaišu, siltu dzīvokli. Privatiz...   \n",
       "3  Tiek piedāvāts dzīvoklis labā stāvoklī, bez pā...   \n",
       "4  Pārdošanā dzīvoklis unikālā projektā Filozofu ...   \n",
       "\n",
       "                                                 url             Iela Ist.  \\\n",
       "0  https://ss.com/msg/lv/real-estate/flats/riga/a...         Tukuma 3    1   \n",
       "1  https://ss.com/msg/lv/real-estate/flats/riga/a...       Nometņu 57    1   \n",
       "2  https://ss.com/msg/lv/real-estate/flats/riga/a...  Daugavgrīvas 55    2   \n",
       "3  https://ss.com/msg/lv/real-estate/flats/riga/a...      Mērsraga 13    2   \n",
       "4  https://ss.com/msg/lv/real-estate/flats/riga/a...      Raņķa d. 34    3   \n",
       "\n",
       "   m2 Stāvs   Sērija Cena, m2        Cena  \n",
       "0  27   3/3  P. kara  1,741 €   47,000  €  \n",
       "1  37   1/2  P. kara    673 €   24,900  €  \n",
       "2  48   1/2  P. kara    913 €   43,800  €  \n",
       "3  41   1/4   Hrušč.  1,146 €   47,000  €  \n",
       "4  95  7/22    Jaun.  2,222 €  211,100  €  "
      ]
     },
     "execution_count": 76,
     "metadata": {},
     "output_type": "execute_result"
    }
   ],
   "source": [
    "agens = \"https://www.ss.com/lv/real-estate/flats/riga/agenskalns/sell/\"\n",
    "df = get_all_ads_df(agens, \"agens_30_06.xlsx\")\n",
    "df.head()"
   ]
  },
  {
   "cell_type": "code",
   "execution_count": 89,
   "metadata": {},
   "outputs": [
    {
     "data": {
      "text/plain": [
       "(901, 9)"
      ]
     },
     "execution_count": 89,
     "metadata": {},
     "output_type": "execute_result"
    }
   ],
   "source": [
    "centra_df.shape"
   ]
  },
  {
   "cell_type": "code",
   "execution_count": null,
   "metadata": {},
   "outputs": [
    {
     "data": {
      "text/plain": [
       "(901, 9)"
      ]
     },
     "execution_count": 90,
     "metadata": {},
     "output_type": "execute_result"
    }
   ],
   "source": [
    "df = centra_df  # alias it is common to use df as a variable name for a dataframe\n",
    "# that was not a copy but an alias!\n",
    "df.shape"
   ]
  },
  {
   "cell_type": "code",
   "execution_count": null,
   "metadata": {},
   "outputs": [],
   "source": [
    "df.shape"
   ]
  },
  {
   "cell_type": "code",
   "execution_count": 91,
   "metadata": {},
   "outputs": [
    {
     "data": {
      "text/plain": [
       "Index(['description', 'url', 'Iela', 'Ist.', 'm2', 'Stāvs', 'Sērija',\n",
       "       'Cena, m2', 'Cena'],\n",
       "      dtype='object')"
      ]
     },
     "execution_count": 91,
     "metadata": {},
     "output_type": "execute_result"
    }
   ],
   "source": [
    "df.columns"
   ]
  },
  {
   "cell_type": "markdown",
   "metadata": {},
   "source": [
    "## Some Data Wrangling with Pandas"
   ]
  },
  {
   "cell_type": "code",
   "execution_count": 92,
   "metadata": {},
   "outputs": [
    {
     "name": "stdout",
     "output_type": "stream",
     "text": [
      "<class 'pandas.core.frame.DataFrame'>\n",
      "RangeIndex: 901 entries, 0 to 900\n",
      "Data columns (total 9 columns):\n",
      " #   Column       Non-Null Count  Dtype \n",
      "---  ------       --------------  ----- \n",
      " 0   description  901 non-null    object\n",
      " 1   url          901 non-null    object\n",
      " 2   Iela         901 non-null    object\n",
      " 3   Ist.         901 non-null    object\n",
      " 4   m2           901 non-null    object\n",
      " 5   Stāvs        901 non-null    object\n",
      " 6   Sērija       901 non-null    object\n",
      " 7   Cena, m2     901 non-null    object\n",
      " 8   Cena         901 non-null    object\n",
      "dtypes: object(9)\n",
      "memory usage: 63.5+ KB\n"
     ]
    }
   ],
   "source": [
    "# we can get basic info about our dataframe\n",
    "df.info()\n",
    "# objects mean strings"
   ]
  },
  {
   "cell_type": "code",
   "execution_count": 93,
   "metadata": {},
   "outputs": [
    {
     "data": {
      "text/html": [
       "<div>\n",
       "<style scoped>\n",
       "    .dataframe tbody tr th:only-of-type {\n",
       "        vertical-align: middle;\n",
       "    }\n",
       "\n",
       "    .dataframe tbody tr th {\n",
       "        vertical-align: top;\n",
       "    }\n",
       "\n",
       "    .dataframe thead th {\n",
       "        text-align: right;\n",
       "    }\n",
       "</style>\n",
       "<table border=\"1\" class=\"dataframe\">\n",
       "  <thead>\n",
       "    <tr style=\"text-align: right;\">\n",
       "      <th></th>\n",
       "      <th>description</th>\n",
       "      <th>url</th>\n",
       "      <th>Iela</th>\n",
       "      <th>Ist.</th>\n",
       "      <th>m2</th>\n",
       "      <th>Stāvs</th>\n",
       "      <th>Sērija</th>\n",
       "      <th>Cena, m2</th>\n",
       "      <th>Cena</th>\n",
       "    </tr>\n",
       "  </thead>\n",
       "  <tbody>\n",
       "    <tr>\n",
       "      <th>896</th>\n",
       "      <td>Saimnieks pārdošanā piedāvā plašu, saulainu če...</td>\n",
       "      <td>https://ss.com/msg/lv/real-estate/flats/riga/c...</td>\n",
       "      <td>Hospitāļu 1</td>\n",
       "      <td>4</td>\n",
       "      <td>89</td>\n",
       "      <td>6/7</td>\n",
       "      <td>Specpr.</td>\n",
       "      <td>1,461 €</td>\n",
       "      <td>130,000  €</td>\n",
       "    </tr>\n",
       "    <tr>\n",
       "      <th>897</th>\n",
       "      <td>Īpašnieks pārdod unikālas telpas gan biznesam,...</td>\n",
       "      <td>https://ss.com/msg/lv/real-estate/flats/riga/c...</td>\n",
       "      <td>Tallinas 32</td>\n",
       "      <td>2</td>\n",
       "      <td>52</td>\n",
       "      <td>1/4</td>\n",
       "      <td>P. kara</td>\n",
       "      <td>1,505 €</td>\n",
       "      <td>78,255  €</td>\n",
       "    </tr>\n",
       "    <tr>\n",
       "      <th>898</th>\n",
       "      <td>Tiek pārdots dzīvoklis pilnīgi renovētā ēkā pa...</td>\n",
       "      <td>https://ss.com/msg/lv/real-estate/flats/riga/c...</td>\n",
       "      <td>Ģertrūdes 23</td>\n",
       "      <td>3</td>\n",
       "      <td>81</td>\n",
       "      <td>2/7</td>\n",
       "      <td>Renov.</td>\n",
       "      <td>2,963 €</td>\n",
       "      <td>240,000  €</td>\n",
       "    </tr>\n",
       "    <tr>\n",
       "      <th>899</th>\n",
       "      <td>Privāts pagalms, sakārtota vide, tikko renovēt...</td>\n",
       "      <td>https://ss.com/msg/lv/real-estate/flats/riga/c...</td>\n",
       "      <td>Matīsa 29</td>\n",
       "      <td>1</td>\n",
       "      <td>29</td>\n",
       "      <td>1/3</td>\n",
       "      <td>Renov.</td>\n",
       "      <td>2,310 €</td>\n",
       "      <td>67,000  €</td>\n",
       "    </tr>\n",
       "    <tr>\n",
       "      <th>900</th>\n",
       "      <td>Pilsētas centrā tiek pārdots skaists vienas gu...</td>\n",
       "      <td>https://ss.com/msg/lv/real-estate/flats/riga/c...</td>\n",
       "      <td>Dzirnavu 149A</td>\n",
       "      <td>2</td>\n",
       "      <td>42</td>\n",
       "      <td>1/4</td>\n",
       "      <td>Staļina</td>\n",
       "      <td>1,310 €</td>\n",
       "      <td>55,000  €</td>\n",
       "    </tr>\n",
       "  </tbody>\n",
       "</table>\n",
       "</div>"
      ],
      "text/plain": [
       "                                           description  \\\n",
       "896  Saimnieks pārdošanā piedāvā plašu, saulainu če...   \n",
       "897  Īpašnieks pārdod unikālas telpas gan biznesam,...   \n",
       "898  Tiek pārdots dzīvoklis pilnīgi renovētā ēkā pa...   \n",
       "899  Privāts pagalms, sakārtota vide, tikko renovēt...   \n",
       "900  Pilsētas centrā tiek pārdots skaists vienas gu...   \n",
       "\n",
       "                                                   url           Iela Ist.  \\\n",
       "896  https://ss.com/msg/lv/real-estate/flats/riga/c...    Hospitāļu 1    4   \n",
       "897  https://ss.com/msg/lv/real-estate/flats/riga/c...    Tallinas 32    2   \n",
       "898  https://ss.com/msg/lv/real-estate/flats/riga/c...   Ģertrūdes 23    3   \n",
       "899  https://ss.com/msg/lv/real-estate/flats/riga/c...      Matīsa 29    1   \n",
       "900  https://ss.com/msg/lv/real-estate/flats/riga/c...  Dzirnavu 149A    2   \n",
       "\n",
       "     m2 Stāvs   Sērija Cena, m2        Cena  \n",
       "896  89   6/7  Specpr.  1,461 €  130,000  €  \n",
       "897  52   1/4  P. kara  1,505 €   78,255  €  \n",
       "898  81   2/7   Renov.  2,963 €  240,000  €  \n",
       "899  29   1/3   Renov.  2,310 €   67,000  €  \n",
       "900  42   1/4  Staļina  1,310 €   55,000  €  "
      ]
     },
     "execution_count": 93,
     "metadata": {},
     "output_type": "execute_result"
    }
   ],
   "source": [
    "# last 5\n",
    "df.tail()"
   ]
  },
  {
   "cell_type": "code",
   "execution_count": 94,
   "metadata": {},
   "outputs": [
    {
     "data": {
      "text/html": [
       "<div>\n",
       "<style scoped>\n",
       "    .dataframe tbody tr th:only-of-type {\n",
       "        vertical-align: middle;\n",
       "    }\n",
       "\n",
       "    .dataframe tbody tr th {\n",
       "        vertical-align: top;\n",
       "    }\n",
       "\n",
       "    .dataframe thead th {\n",
       "        text-align: right;\n",
       "    }\n",
       "</style>\n",
       "<table border=\"1\" class=\"dataframe\">\n",
       "  <thead>\n",
       "    <tr style=\"text-align: right;\">\n",
       "      <th></th>\n",
       "      <th>description</th>\n",
       "      <th>url</th>\n",
       "      <th>Iela</th>\n",
       "      <th>Ist.</th>\n",
       "      <th>m2</th>\n",
       "      <th>Stāvs</th>\n",
       "      <th>Sērija</th>\n",
       "      <th>Cena, m2</th>\n",
       "      <th>Cena</th>\n",
       "      <th>Floor</th>\n",
       "      <th>MaxFloor</th>\n",
       "    </tr>\n",
       "  </thead>\n",
       "  <tbody>\n",
       "    <tr>\n",
       "      <th>0</th>\n",
       "      <td>Pārdošanā 4-istabu dzīvoklis ar 3 guļamistabām...</td>\n",
       "      <td>https://ss.com/msg/lv/real-estate/flats/riga/c...</td>\n",
       "      <td>Baznīcas 27/29</td>\n",
       "      <td>4</td>\n",
       "      <td>144</td>\n",
       "      <td>4/6</td>\n",
       "      <td>Renov.</td>\n",
       "      <td>2,118 €</td>\n",
       "      <td>305,000  €</td>\n",
       "      <td>4</td>\n",
       "      <td>6</td>\n",
       "    </tr>\n",
       "    <tr>\n",
       "      <th>1</th>\n",
       "      <td>Labs piedāvājums tiem, kas vēlas dzīvot pašā R...</td>\n",
       "      <td>https://ss.com/msg/lv/real-estate/flats/riga/c...</td>\n",
       "      <td>Tērbatas 50</td>\n",
       "      <td>3</td>\n",
       "      <td>80</td>\n",
       "      <td>2/5</td>\n",
       "      <td>P. kara</td>\n",
       "      <td>2,000 €</td>\n",
       "      <td>160,000  €</td>\n",
       "      <td>2</td>\n",
       "      <td>5</td>\n",
       "    </tr>\n",
       "    <tr>\n",
       "      <th>2</th>\n",
       "      <td>Īpašnieks pārdod dzīvokli renovētā jūgendstila...</td>\n",
       "      <td>https://ss.com/msg/lv/real-estate/flats/riga/c...</td>\n",
       "      <td>Augšiela 8</td>\n",
       "      <td>1</td>\n",
       "      <td>22</td>\n",
       "      <td>5/6</td>\n",
       "      <td>Renov.</td>\n",
       "      <td>1,670 €</td>\n",
       "      <td>36,750  €</td>\n",
       "      <td>5</td>\n",
       "      <td>6</td>\n",
       "    </tr>\n",
       "    <tr>\n",
       "      <th>3</th>\n",
       "      <td>Īpašnieks pārdod dzīvokli renovētā jūgendstila...</td>\n",
       "      <td>https://ss.com/msg/lv/real-estate/flats/riga/c...</td>\n",
       "      <td>Augšiela 8</td>\n",
       "      <td>2</td>\n",
       "      <td>30</td>\n",
       "      <td>6/6</td>\n",
       "      <td>Renov.</td>\n",
       "      <td>1,517 €</td>\n",
       "      <td>45,500  €</td>\n",
       "      <td>6</td>\n",
       "      <td>6</td>\n",
       "    </tr>\n",
       "    <tr>\n",
       "      <th>4</th>\n",
       "      <td>Projekta attīstītājs pārdod dzīvokli renovētā ...</td>\n",
       "      <td>https://ss.com/msg/lv/real-estate/flats/riga/c...</td>\n",
       "      <td>Augšiela 8</td>\n",
       "      <td>2</td>\n",
       "      <td>35</td>\n",
       "      <td>6/6</td>\n",
       "      <td>Renov.</td>\n",
       "      <td>1,484 €</td>\n",
       "      <td>51,950  €</td>\n",
       "      <td>6</td>\n",
       "      <td>6</td>\n",
       "    </tr>\n",
       "  </tbody>\n",
       "</table>\n",
       "</div>"
      ],
      "text/plain": [
       "                                         description  \\\n",
       "0  Pārdošanā 4-istabu dzīvoklis ar 3 guļamistabām...   \n",
       "1  Labs piedāvājums tiem, kas vēlas dzīvot pašā R...   \n",
       "2  Īpašnieks pārdod dzīvokli renovētā jūgendstila...   \n",
       "3  Īpašnieks pārdod dzīvokli renovētā jūgendstila...   \n",
       "4  Projekta attīstītājs pārdod dzīvokli renovētā ...   \n",
       "\n",
       "                                                 url            Iela Ist.  \\\n",
       "0  https://ss.com/msg/lv/real-estate/flats/riga/c...  Baznīcas 27/29    4   \n",
       "1  https://ss.com/msg/lv/real-estate/flats/riga/c...     Tērbatas 50    3   \n",
       "2  https://ss.com/msg/lv/real-estate/flats/riga/c...      Augšiela 8    1   \n",
       "3  https://ss.com/msg/lv/real-estate/flats/riga/c...      Augšiela 8    2   \n",
       "4  https://ss.com/msg/lv/real-estate/flats/riga/c...      Augšiela 8    2   \n",
       "\n",
       "    m2 Stāvs   Sērija Cena, m2        Cena Floor MaxFloor  \n",
       "0  144   4/6   Renov.  2,118 €  305,000  €     4        6  \n",
       "1   80   2/5  P. kara  2,000 €  160,000  €     2        5  \n",
       "2   22   5/6   Renov.  1,670 €   36,750  €     5        6  \n",
       "3   30   6/6   Renov.  1,517 €   45,500  €     6        6  \n",
       "4   35   6/6   Renov.  1,484 €   51,950  €     6        6  "
      ]
     },
     "execution_count": 94,
     "metadata": {},
     "output_type": "execute_result"
    }
   ],
   "source": [
    "#we can do more post processing - feature engineering using existing columns\n",
    "df[['Floor','MaxFloor']] = df.Stāvs.str.split(\"/\",expand=True) \n",
    "df.head()"
   ]
  },
  {
   "cell_type": "code",
   "execution_count": 95,
   "metadata": {},
   "outputs": [
    {
     "name": "stdout",
     "output_type": "stream",
     "text": [
      "<class 'pandas.core.frame.DataFrame'>\n",
      "RangeIndex: 901 entries, 0 to 900\n",
      "Data columns (total 11 columns):\n",
      " #   Column       Non-Null Count  Dtype \n",
      "---  ------       --------------  ----- \n",
      " 0   description  901 non-null    object\n",
      " 1   url          901 non-null    object\n",
      " 2   Iela         901 non-null    object\n",
      " 3   Ist.         901 non-null    object\n",
      " 4   m2           901 non-null    object\n",
      " 5   Stāvs        901 non-null    object\n",
      " 6   Sērija       901 non-null    object\n",
      " 7   Cena, m2     901 non-null    object\n",
      " 8   Cena         901 non-null    object\n",
      " 9   Floor        901 non-null    object\n",
      " 10  MaxFloor     901 non-null    object\n",
      "dtypes: object(11)\n",
      "memory usage: 77.6+ KB\n"
     ]
    }
   ],
   "source": [
    "df.info()"
   ]
  },
  {
   "cell_type": "code",
   "execution_count": 96,
   "metadata": {
    "scrolled": true
   },
   "outputs": [
    {
     "data": {
      "text/html": [
       "<div>\n",
       "<style scoped>\n",
       "    .dataframe tbody tr th:only-of-type {\n",
       "        vertical-align: middle;\n",
       "    }\n",
       "\n",
       "    .dataframe tbody tr th {\n",
       "        vertical-align: top;\n",
       "    }\n",
       "\n",
       "    .dataframe thead th {\n",
       "        text-align: right;\n",
       "    }\n",
       "</style>\n",
       "<table border=\"1\" class=\"dataframe\">\n",
       "  <thead>\n",
       "    <tr style=\"text-align: right;\">\n",
       "      <th></th>\n",
       "      <th>description</th>\n",
       "      <th>url</th>\n",
       "      <th>Iela</th>\n",
       "      <th>Ist.</th>\n",
       "      <th>m2</th>\n",
       "      <th>Stāvs</th>\n",
       "      <th>Sērija</th>\n",
       "      <th>Cena, m2</th>\n",
       "      <th>Cena</th>\n",
       "      <th>Floor</th>\n",
       "      <th>MaxFloor</th>\n",
       "      <th>price</th>\n",
       "    </tr>\n",
       "  </thead>\n",
       "  <tbody>\n",
       "    <tr>\n",
       "      <th>0</th>\n",
       "      <td>Pārdošanā 4-istabu dzīvoklis ar 3 guļamistabām...</td>\n",
       "      <td>https://ss.com/msg/lv/real-estate/flats/riga/c...</td>\n",
       "      <td>Baznīcas 27/29</td>\n",
       "      <td>4</td>\n",
       "      <td>144</td>\n",
       "      <td>4/6</td>\n",
       "      <td>Renov.</td>\n",
       "      <td>2,118 €</td>\n",
       "      <td>305,000  €</td>\n",
       "      <td>4</td>\n",
       "      <td>6</td>\n",
       "      <td>305,000</td>\n",
       "    </tr>\n",
       "    <tr>\n",
       "      <th>1</th>\n",
       "      <td>Labs piedāvājums tiem, kas vēlas dzīvot pašā R...</td>\n",
       "      <td>https://ss.com/msg/lv/real-estate/flats/riga/c...</td>\n",
       "      <td>Tērbatas 50</td>\n",
       "      <td>3</td>\n",
       "      <td>80</td>\n",
       "      <td>2/5</td>\n",
       "      <td>P. kara</td>\n",
       "      <td>2,000 €</td>\n",
       "      <td>160,000  €</td>\n",
       "      <td>2</td>\n",
       "      <td>5</td>\n",
       "      <td>160,000</td>\n",
       "    </tr>\n",
       "    <tr>\n",
       "      <th>2</th>\n",
       "      <td>Īpašnieks pārdod dzīvokli renovētā jūgendstila...</td>\n",
       "      <td>https://ss.com/msg/lv/real-estate/flats/riga/c...</td>\n",
       "      <td>Augšiela 8</td>\n",
       "      <td>1</td>\n",
       "      <td>22</td>\n",
       "      <td>5/6</td>\n",
       "      <td>Renov.</td>\n",
       "      <td>1,670 €</td>\n",
       "      <td>36,750  €</td>\n",
       "      <td>5</td>\n",
       "      <td>6</td>\n",
       "      <td>36,750</td>\n",
       "    </tr>\n",
       "    <tr>\n",
       "      <th>3</th>\n",
       "      <td>Īpašnieks pārdod dzīvokli renovētā jūgendstila...</td>\n",
       "      <td>https://ss.com/msg/lv/real-estate/flats/riga/c...</td>\n",
       "      <td>Augšiela 8</td>\n",
       "      <td>2</td>\n",
       "      <td>30</td>\n",
       "      <td>6/6</td>\n",
       "      <td>Renov.</td>\n",
       "      <td>1,517 €</td>\n",
       "      <td>45,500  €</td>\n",
       "      <td>6</td>\n",
       "      <td>6</td>\n",
       "      <td>45,500</td>\n",
       "    </tr>\n",
       "    <tr>\n",
       "      <th>4</th>\n",
       "      <td>Projekta attīstītājs pārdod dzīvokli renovētā ...</td>\n",
       "      <td>https://ss.com/msg/lv/real-estate/flats/riga/c...</td>\n",
       "      <td>Augšiela 8</td>\n",
       "      <td>2</td>\n",
       "      <td>35</td>\n",
       "      <td>6/6</td>\n",
       "      <td>Renov.</td>\n",
       "      <td>1,484 €</td>\n",
       "      <td>51,950  €</td>\n",
       "      <td>6</td>\n",
       "      <td>6</td>\n",
       "      <td>51,950</td>\n",
       "    </tr>\n",
       "  </tbody>\n",
       "</table>\n",
       "</div>"
      ],
      "text/plain": [
       "                                         description  \\\n",
       "0  Pārdošanā 4-istabu dzīvoklis ar 3 guļamistabām...   \n",
       "1  Labs piedāvājums tiem, kas vēlas dzīvot pašā R...   \n",
       "2  Īpašnieks pārdod dzīvokli renovētā jūgendstila...   \n",
       "3  Īpašnieks pārdod dzīvokli renovētā jūgendstila...   \n",
       "4  Projekta attīstītājs pārdod dzīvokli renovētā ...   \n",
       "\n",
       "                                                 url            Iela Ist.  \\\n",
       "0  https://ss.com/msg/lv/real-estate/flats/riga/c...  Baznīcas 27/29    4   \n",
       "1  https://ss.com/msg/lv/real-estate/flats/riga/c...     Tērbatas 50    3   \n",
       "2  https://ss.com/msg/lv/real-estate/flats/riga/c...      Augšiela 8    1   \n",
       "3  https://ss.com/msg/lv/real-estate/flats/riga/c...      Augšiela 8    2   \n",
       "4  https://ss.com/msg/lv/real-estate/flats/riga/c...      Augšiela 8    2   \n",
       "\n",
       "    m2 Stāvs   Sērija Cena, m2        Cena Floor MaxFloor    price  \n",
       "0  144   4/6   Renov.  2,118 €  305,000  €     4        6  305,000  \n",
       "1   80   2/5  P. kara  2,000 €  160,000  €     2        5  160,000  \n",
       "2   22   5/6   Renov.  1,670 €   36,750  €     5        6   36,750  \n",
       "3   30   6/6   Renov.  1,517 €   45,500  €     6        6   45,500  \n",
       "4   35   6/6   Renov.  1,484 €   51,950  €     6        6   51,950  "
      ]
     },
     "execution_count": 96,
     "metadata": {},
     "output_type": "execute_result"
    }
   ],
   "source": [
    "df[\"price\"] = df.Cena.str.split(' ').str[0]  # create a new column from price\n",
    "df.head()"
   ]
  },
  {
   "cell_type": "code",
   "execution_count": 97,
   "metadata": {},
   "outputs": [
    {
     "data": {
      "text/html": [
       "<div>\n",
       "<style scoped>\n",
       "    .dataframe tbody tr th:only-of-type {\n",
       "        vertical-align: middle;\n",
       "    }\n",
       "\n",
       "    .dataframe tbody tr th {\n",
       "        vertical-align: top;\n",
       "    }\n",
       "\n",
       "    .dataframe thead th {\n",
       "        text-align: right;\n",
       "    }\n",
       "</style>\n",
       "<table border=\"1\" class=\"dataframe\">\n",
       "  <thead>\n",
       "    <tr style=\"text-align: right;\">\n",
       "      <th></th>\n",
       "      <th>description</th>\n",
       "      <th>url</th>\n",
       "      <th>Iela</th>\n",
       "      <th>Ist.</th>\n",
       "      <th>m2</th>\n",
       "      <th>Stāvs</th>\n",
       "      <th>Sērija</th>\n",
       "      <th>Cena, m2</th>\n",
       "      <th>Cena</th>\n",
       "      <th>Floor</th>\n",
       "      <th>MaxFloor</th>\n",
       "      <th>price</th>\n",
       "    </tr>\n",
       "  </thead>\n",
       "  <tbody>\n",
       "    <tr>\n",
       "      <th>0</th>\n",
       "      <td>Pārdošanā 4-istabu dzīvoklis ar 3 guļamistabām...</td>\n",
       "      <td>https://ss.com/msg/lv/real-estate/flats/riga/c...</td>\n",
       "      <td>Baznīcas 27/29</td>\n",
       "      <td>4</td>\n",
       "      <td>144</td>\n",
       "      <td>4/6</td>\n",
       "      <td>Renov.</td>\n",
       "      <td>2,118 €</td>\n",
       "      <td>305,000  €</td>\n",
       "      <td>4</td>\n",
       "      <td>6</td>\n",
       "      <td>305000</td>\n",
       "    </tr>\n",
       "    <tr>\n",
       "      <th>1</th>\n",
       "      <td>Labs piedāvājums tiem, kas vēlas dzīvot pašā R...</td>\n",
       "      <td>https://ss.com/msg/lv/real-estate/flats/riga/c...</td>\n",
       "      <td>Tērbatas 50</td>\n",
       "      <td>3</td>\n",
       "      <td>80</td>\n",
       "      <td>2/5</td>\n",
       "      <td>P. kara</td>\n",
       "      <td>2,000 €</td>\n",
       "      <td>160,000  €</td>\n",
       "      <td>2</td>\n",
       "      <td>5</td>\n",
       "      <td>160000</td>\n",
       "    </tr>\n",
       "    <tr>\n",
       "      <th>2</th>\n",
       "      <td>Īpašnieks pārdod dzīvokli renovētā jūgendstila...</td>\n",
       "      <td>https://ss.com/msg/lv/real-estate/flats/riga/c...</td>\n",
       "      <td>Augšiela 8</td>\n",
       "      <td>1</td>\n",
       "      <td>22</td>\n",
       "      <td>5/6</td>\n",
       "      <td>Renov.</td>\n",
       "      <td>1,670 €</td>\n",
       "      <td>36,750  €</td>\n",
       "      <td>5</td>\n",
       "      <td>6</td>\n",
       "      <td>36750</td>\n",
       "    </tr>\n",
       "    <tr>\n",
       "      <th>3</th>\n",
       "      <td>Īpašnieks pārdod dzīvokli renovētā jūgendstila...</td>\n",
       "      <td>https://ss.com/msg/lv/real-estate/flats/riga/c...</td>\n",
       "      <td>Augšiela 8</td>\n",
       "      <td>2</td>\n",
       "      <td>30</td>\n",
       "      <td>6/6</td>\n",
       "      <td>Renov.</td>\n",
       "      <td>1,517 €</td>\n",
       "      <td>45,500  €</td>\n",
       "      <td>6</td>\n",
       "      <td>6</td>\n",
       "      <td>45500</td>\n",
       "    </tr>\n",
       "    <tr>\n",
       "      <th>4</th>\n",
       "      <td>Projekta attīstītājs pārdod dzīvokli renovētā ...</td>\n",
       "      <td>https://ss.com/msg/lv/real-estate/flats/riga/c...</td>\n",
       "      <td>Augšiela 8</td>\n",
       "      <td>2</td>\n",
       "      <td>35</td>\n",
       "      <td>6/6</td>\n",
       "      <td>Renov.</td>\n",
       "      <td>1,484 €</td>\n",
       "      <td>51,950  €</td>\n",
       "      <td>6</td>\n",
       "      <td>6</td>\n",
       "      <td>51950</td>\n",
       "    </tr>\n",
       "  </tbody>\n",
       "</table>\n",
       "</div>"
      ],
      "text/plain": [
       "                                         description  \\\n",
       "0  Pārdošanā 4-istabu dzīvoklis ar 3 guļamistabām...   \n",
       "1  Labs piedāvājums tiem, kas vēlas dzīvot pašā R...   \n",
       "2  Īpašnieks pārdod dzīvokli renovētā jūgendstila...   \n",
       "3  Īpašnieks pārdod dzīvokli renovētā jūgendstila...   \n",
       "4  Projekta attīstītājs pārdod dzīvokli renovētā ...   \n",
       "\n",
       "                                                 url            Iela Ist.  \\\n",
       "0  https://ss.com/msg/lv/real-estate/flats/riga/c...  Baznīcas 27/29    4   \n",
       "1  https://ss.com/msg/lv/real-estate/flats/riga/c...     Tērbatas 50    3   \n",
       "2  https://ss.com/msg/lv/real-estate/flats/riga/c...      Augšiela 8    1   \n",
       "3  https://ss.com/msg/lv/real-estate/flats/riga/c...      Augšiela 8    2   \n",
       "4  https://ss.com/msg/lv/real-estate/flats/riga/c...      Augšiela 8    2   \n",
       "\n",
       "    m2 Stāvs   Sērija Cena, m2        Cena Floor MaxFloor   price  \n",
       "0  144   4/6   Renov.  2,118 €  305,000  €     4        6  305000  \n",
       "1   80   2/5  P. kara  2,000 €  160,000  €     2        5  160000  \n",
       "2   22   5/6   Renov.  1,670 €   36,750  €     5        6   36750  \n",
       "3   30   6/6   Renov.  1,517 €   45,500  €     6        6   45500  \n",
       "4   35   6/6   Renov.  1,484 €   51,950  €     6        6   51950  "
      ]
     },
     "execution_count": 97,
     "metadata": {},
     "output_type": "execute_result"
    }
   ],
   "source": [
    "# so we remove , from price and convert it to integer at the same time\n",
    "# then we overwrite the old column with the new one\n",
    "df.price = df.price.str.replace(\",\",\"\").astype('int32') # so clean string of , and then convert to integer int64 for larger\n",
    "df.head()"
   ]
  },
  {
   "cell_type": "code",
   "execution_count": 98,
   "metadata": {},
   "outputs": [
    {
     "name": "stdout",
     "output_type": "stream",
     "text": [
      "<class 'pandas.core.frame.DataFrame'>\n",
      "RangeIndex: 901 entries, 0 to 900\n",
      "Data columns (total 12 columns):\n",
      " #   Column       Non-Null Count  Dtype \n",
      "---  ------       --------------  ----- \n",
      " 0   description  901 non-null    object\n",
      " 1   url          901 non-null    object\n",
      " 2   Iela         901 non-null    object\n",
      " 3   Ist.         901 non-null    object\n",
      " 4   m2           901 non-null    object\n",
      " 5   Stāvs        901 non-null    object\n",
      " 6   Sērija       901 non-null    object\n",
      " 7   Cena, m2     901 non-null    object\n",
      " 8   Cena         901 non-null    object\n",
      " 9   Floor        901 non-null    object\n",
      " 10  MaxFloor     901 non-null    object\n",
      " 11  price        901 non-null    int32 \n",
      "dtypes: int32(1), object(11)\n",
      "memory usage: 81.1+ KB\n"
     ]
    }
   ],
   "source": [
    "df.info()"
   ]
  },
  {
   "cell_type": "code",
   "execution_count": 99,
   "metadata": {},
   "outputs": [],
   "source": [
    "# convert to integer\n",
    "# we will createa a new column called floor - column names are case sensitive\n",
    "df[\"floor\"] = df.Floor.astype('int32')\n",
    "# in Pandas we can use df.column_name or df[\"column_name\"]\n",
    "# df[\"column_name\"] is more flexible as we can use variables \n",
    "# also df.column_name will not work if column name has spaces or special characters\n",
    "# also df.column_name will not work if column name is a number\n",
    "# finally df.column_name will not work if column name is a reserved word in Python or in Pandas"
   ]
  },
  {
   "cell_type": "code",
   "execution_count": 100,
   "metadata": {},
   "outputs": [],
   "source": [
    "df.m2 = df.m2.astype('int32')"
   ]
  },
  {
   "cell_type": "code",
   "execution_count": 101,
   "metadata": {},
   "outputs": [
    {
     "name": "stdout",
     "output_type": "stream",
     "text": [
      "<class 'pandas.core.frame.DataFrame'>\n",
      "RangeIndex: 901 entries, 0 to 900\n",
      "Data columns (total 13 columns):\n",
      " #   Column       Non-Null Count  Dtype \n",
      "---  ------       --------------  ----- \n",
      " 0   description  901 non-null    object\n",
      " 1   url          901 non-null    object\n",
      " 2   Iela         901 non-null    object\n",
      " 3   Ist.         901 non-null    object\n",
      " 4   m2           901 non-null    int32 \n",
      " 5   Stāvs        901 non-null    object\n",
      " 6   Sērija       901 non-null    object\n",
      " 7   Cena, m2     901 non-null    object\n",
      " 8   Cena         901 non-null    object\n",
      " 9   Floor        901 non-null    object\n",
      " 10  MaxFloor     901 non-null    object\n",
      " 11  price        901 non-null    int32 \n",
      " 12  floor        901 non-null    int32 \n",
      "dtypes: int32(3), object(10)\n",
      "memory usage: 81.1+ KB\n"
     ]
    }
   ],
   "source": [
    "df.info()"
   ]
  },
  {
   "cell_type": "code",
   "execution_count": 102,
   "metadata": {},
   "outputs": [
    {
     "data": {
      "text/html": [
       "<div>\n",
       "<style scoped>\n",
       "    .dataframe tbody tr th:only-of-type {\n",
       "        vertical-align: middle;\n",
       "    }\n",
       "\n",
       "    .dataframe tbody tr th {\n",
       "        vertical-align: top;\n",
       "    }\n",
       "\n",
       "    .dataframe thead th {\n",
       "        text-align: right;\n",
       "    }\n",
       "</style>\n",
       "<table border=\"1\" class=\"dataframe\">\n",
       "  <thead>\n",
       "    <tr style=\"text-align: right;\">\n",
       "      <th></th>\n",
       "      <th>description</th>\n",
       "      <th>url</th>\n",
       "      <th>Iela</th>\n",
       "      <th>Ist.</th>\n",
       "      <th>m2</th>\n",
       "      <th>Stāvs</th>\n",
       "      <th>Sērija</th>\n",
       "      <th>Cena, m2</th>\n",
       "      <th>Cena</th>\n",
       "      <th>Floor</th>\n",
       "      <th>MaxFloor</th>\n",
       "      <th>price</th>\n",
       "      <th>floor</th>\n",
       "    </tr>\n",
       "  </thead>\n",
       "  <tbody>\n",
       "    <tr>\n",
       "      <th>0</th>\n",
       "      <td>Pārdošanā 4-istabu dzīvoklis ar 3 guļamistabām...</td>\n",
       "      <td>https://ss.com/msg/lv/real-estate/flats/riga/c...</td>\n",
       "      <td>Baznīcas 27/29</td>\n",
       "      <td>4</td>\n",
       "      <td>144</td>\n",
       "      <td>4/6</td>\n",
       "      <td>Renov.</td>\n",
       "      <td>2,118 €</td>\n",
       "      <td>305,000  €</td>\n",
       "      <td>4</td>\n",
       "      <td>6</td>\n",
       "      <td>305000</td>\n",
       "      <td>4</td>\n",
       "    </tr>\n",
       "    <tr>\n",
       "      <th>1</th>\n",
       "      <td>Labs piedāvājums tiem, kas vēlas dzīvot pašā R...</td>\n",
       "      <td>https://ss.com/msg/lv/real-estate/flats/riga/c...</td>\n",
       "      <td>Tērbatas 50</td>\n",
       "      <td>3</td>\n",
       "      <td>80</td>\n",
       "      <td>2/5</td>\n",
       "      <td>P. kara</td>\n",
       "      <td>2,000 €</td>\n",
       "      <td>160,000  €</td>\n",
       "      <td>2</td>\n",
       "      <td>5</td>\n",
       "      <td>160000</td>\n",
       "      <td>2</td>\n",
       "    </tr>\n",
       "    <tr>\n",
       "      <th>2</th>\n",
       "      <td>Īpašnieks pārdod dzīvokli renovētā jūgendstila...</td>\n",
       "      <td>https://ss.com/msg/lv/real-estate/flats/riga/c...</td>\n",
       "      <td>Augšiela 8</td>\n",
       "      <td>1</td>\n",
       "      <td>22</td>\n",
       "      <td>5/6</td>\n",
       "      <td>Renov.</td>\n",
       "      <td>1,670 €</td>\n",
       "      <td>36,750  €</td>\n",
       "      <td>5</td>\n",
       "      <td>6</td>\n",
       "      <td>36750</td>\n",
       "      <td>5</td>\n",
       "    </tr>\n",
       "    <tr>\n",
       "      <th>3</th>\n",
       "      <td>Īpašnieks pārdod dzīvokli renovētā jūgendstila...</td>\n",
       "      <td>https://ss.com/msg/lv/real-estate/flats/riga/c...</td>\n",
       "      <td>Augšiela 8</td>\n",
       "      <td>2</td>\n",
       "      <td>30</td>\n",
       "      <td>6/6</td>\n",
       "      <td>Renov.</td>\n",
       "      <td>1,517 €</td>\n",
       "      <td>45,500  €</td>\n",
       "      <td>6</td>\n",
       "      <td>6</td>\n",
       "      <td>45500</td>\n",
       "      <td>6</td>\n",
       "    </tr>\n",
       "    <tr>\n",
       "      <th>4</th>\n",
       "      <td>Projekta attīstītājs pārdod dzīvokli renovētā ...</td>\n",
       "      <td>https://ss.com/msg/lv/real-estate/flats/riga/c...</td>\n",
       "      <td>Augšiela 8</td>\n",
       "      <td>2</td>\n",
       "      <td>35</td>\n",
       "      <td>6/6</td>\n",
       "      <td>Renov.</td>\n",
       "      <td>1,484 €</td>\n",
       "      <td>51,950  €</td>\n",
       "      <td>6</td>\n",
       "      <td>6</td>\n",
       "      <td>51950</td>\n",
       "      <td>6</td>\n",
       "    </tr>\n",
       "  </tbody>\n",
       "</table>\n",
       "</div>"
      ],
      "text/plain": [
       "                                         description  \\\n",
       "0  Pārdošanā 4-istabu dzīvoklis ar 3 guļamistabām...   \n",
       "1  Labs piedāvājums tiem, kas vēlas dzīvot pašā R...   \n",
       "2  Īpašnieks pārdod dzīvokli renovētā jūgendstila...   \n",
       "3  Īpašnieks pārdod dzīvokli renovētā jūgendstila...   \n",
       "4  Projekta attīstītājs pārdod dzīvokli renovētā ...   \n",
       "\n",
       "                                                 url            Iela Ist.  \\\n",
       "0  https://ss.com/msg/lv/real-estate/flats/riga/c...  Baznīcas 27/29    4   \n",
       "1  https://ss.com/msg/lv/real-estate/flats/riga/c...     Tērbatas 50    3   \n",
       "2  https://ss.com/msg/lv/real-estate/flats/riga/c...      Augšiela 8    1   \n",
       "3  https://ss.com/msg/lv/real-estate/flats/riga/c...      Augšiela 8    2   \n",
       "4  https://ss.com/msg/lv/real-estate/flats/riga/c...      Augšiela 8    2   \n",
       "\n",
       "    m2 Stāvs   Sērija Cena, m2        Cena Floor  MaxFloor   price  floor  \n",
       "0  144   4/6   Renov.  2,118 €  305,000  €     4         6  305000      4  \n",
       "1   80   2/5  P. kara  2,000 €  160,000  €     2         5  160000      2  \n",
       "2   22   5/6   Renov.  1,670 €   36,750  €     5         6   36750      5  \n",
       "3   30   6/6   Renov.  1,517 €   45,500  €     6         6   45500      6  \n",
       "4   35   6/6   Renov.  1,484 €   51,950  €     6         6   51950      6  "
      ]
     },
     "execution_count": 102,
     "metadata": {},
     "output_type": "execute_result"
    }
   ],
   "source": [
    "df.MaxFloor = df.MaxFloor.astype('int32')\n",
    "df.head()"
   ]
  },
  {
   "cell_type": "code",
   "execution_count": null,
   "metadata": {},
   "outputs": [],
   "source": [
    "df.head()"
   ]
  },
  {
   "cell_type": "code",
   "execution_count": 103,
   "metadata": {
    "scrolled": true
   },
   "outputs": [
    {
     "data": {
      "text/html": [
       "<div>\n",
       "<style scoped>\n",
       "    .dataframe tbody tr th:only-of-type {\n",
       "        vertical-align: middle;\n",
       "    }\n",
       "\n",
       "    .dataframe tbody tr th {\n",
       "        vertical-align: top;\n",
       "    }\n",
       "\n",
       "    .dataframe thead th {\n",
       "        text-align: right;\n",
       "    }\n",
       "</style>\n",
       "<table border=\"1\" class=\"dataframe\">\n",
       "  <thead>\n",
       "    <tr style=\"text-align: right;\">\n",
       "      <th></th>\n",
       "      <th>description</th>\n",
       "      <th>url</th>\n",
       "      <th>Iela</th>\n",
       "      <th>Ist.</th>\n",
       "      <th>m2</th>\n",
       "      <th>Stāvs</th>\n",
       "      <th>Sērija</th>\n",
       "      <th>Cena, m2</th>\n",
       "      <th>Cena</th>\n",
       "      <th>Floor</th>\n",
       "      <th>MaxFloor</th>\n",
       "      <th>price</th>\n",
       "      <th>floor</th>\n",
       "    </tr>\n",
       "  </thead>\n",
       "  <tbody>\n",
       "    <tr>\n",
       "      <th>733</th>\n",
       "      <td>Visaugstākajām prasībām atbilstošs dzīvoklis v...</td>\n",
       "      <td>https://ss.com/msg/lv/real-estate/flats/riga/c...</td>\n",
       "      <td>Lāčplēša 11</td>\n",
       "      <td>4</td>\n",
       "      <td>279</td>\n",
       "      <td>7/7</td>\n",
       "      <td>Jaun.</td>\n",
       "      <td>6,989 €</td>\n",
       "      <td>1,950,000  €</td>\n",
       "      <td>7</td>\n",
       "      <td>7</td>\n",
       "      <td>1950000</td>\n",
       "      <td>7</td>\n",
       "    </tr>\n",
       "    <tr>\n",
       "      <th>113</th>\n",
       "      <td>Ekskluzīvs penthauss centrā, Vecrīgas krastmal...</td>\n",
       "      <td>https://ss.com/msg/lv/real-estate/flats/riga/c...</td>\n",
       "      <td>Miesnieku 14</td>\n",
       "      <td>6</td>\n",
       "      <td>350</td>\n",
       "      <td>5/5</td>\n",
       "      <td>Renov.</td>\n",
       "      <td>3,200 €</td>\n",
       "      <td>1,120,000  €</td>\n",
       "      <td>5</td>\n",
       "      <td>5</td>\n",
       "      <td>1120000</td>\n",
       "      <td>5</td>\n",
       "    </tr>\n",
       "    <tr>\n",
       "      <th>185</th>\n",
       "      <td>Эксклюзивные двухуровневые апартаменты в одном...</td>\n",
       "      <td>https://ss.com/msg/lv/real-estate/flats/riga/c...</td>\n",
       "      <td>Ausekļa 2</td>\n",
       "      <td>5</td>\n",
       "      <td>247</td>\n",
       "      <td>1/5</td>\n",
       "      <td>Renov.</td>\n",
       "      <td>4,000 €</td>\n",
       "      <td>988,000  €</td>\n",
       "      <td>1</td>\n",
       "      <td>5</td>\n",
       "      <td>988000</td>\n",
       "      <td>1</td>\n",
       "    </tr>\n",
       "    <tr>\n",
       "      <th>181</th>\n",
       "      <td>Penthouse apartamenti jaunajā rekonstruētajā p...</td>\n",
       "      <td>https://ss.com/msg/lv/real-estate/flats/riga/c...</td>\n",
       "      <td>Ausekļa 14</td>\n",
       "      <td>4</td>\n",
       "      <td>253</td>\n",
       "      <td>6/6</td>\n",
       "      <td>Renov.</td>\n",
       "      <td>3,874 €</td>\n",
       "      <td>980,000  €</td>\n",
       "      <td>6</td>\n",
       "      <td>6</td>\n",
       "      <td>980000</td>\n",
       "      <td>6</td>\n",
       "    </tr>\n",
       "    <tr>\n",
       "      <th>872</th>\n",
       "      <td>Iegādei tiek piedāvāts elegants un plašs 5 ist...</td>\n",
       "      <td>https://ss.com/msg/lv/real-estate/flats/riga/c...</td>\n",
       "      <td>Alberta 4</td>\n",
       "      <td>5</td>\n",
       "      <td>193</td>\n",
       "      <td>2/4</td>\n",
       "      <td>P. kara</td>\n",
       "      <td>4,896 €</td>\n",
       "      <td>945,000  €</td>\n",
       "      <td>2</td>\n",
       "      <td>4</td>\n",
       "      <td>945000</td>\n",
       "      <td>2</td>\n",
       "    </tr>\n",
       "  </tbody>\n",
       "</table>\n",
       "</div>"
      ],
      "text/plain": [
       "                                           description  \\\n",
       "733  Visaugstākajām prasībām atbilstošs dzīvoklis v...   \n",
       "113  Ekskluzīvs penthauss centrā, Vecrīgas krastmal...   \n",
       "185  Эксклюзивные двухуровневые апартаменты в одном...   \n",
       "181  Penthouse apartamenti jaunajā rekonstruētajā p...   \n",
       "872  Iegādei tiek piedāvāts elegants un plašs 5 ist...   \n",
       "\n",
       "                                                   url          Iela Ist.  \\\n",
       "733  https://ss.com/msg/lv/real-estate/flats/riga/c...   Lāčplēša 11    4   \n",
       "113  https://ss.com/msg/lv/real-estate/flats/riga/c...  Miesnieku 14    6   \n",
       "185  https://ss.com/msg/lv/real-estate/flats/riga/c...     Ausekļa 2    5   \n",
       "181  https://ss.com/msg/lv/real-estate/flats/riga/c...    Ausekļa 14    4   \n",
       "872  https://ss.com/msg/lv/real-estate/flats/riga/c...     Alberta 4    5   \n",
       "\n",
       "      m2 Stāvs   Sērija Cena, m2          Cena Floor  MaxFloor    price  floor  \n",
       "733  279   7/7    Jaun.  6,989 €  1,950,000  €     7         7  1950000      7  \n",
       "113  350   5/5   Renov.  3,200 €  1,120,000  €     5         5  1120000      5  \n",
       "185  247   1/5   Renov.  4,000 €    988,000  €     1         5   988000      1  \n",
       "181  253   6/6   Renov.  3,874 €    980,000  €     6         6   980000      6  \n",
       "872  193   2/4  P. kara  4,896 €    945,000  €     2         4   945000      2  "
      ]
     },
     "execution_count": 103,
     "metadata": {},
     "output_type": "execute_result"
    }
   ],
   "source": [
    "# I can sort by column name\n",
    "sorted_df = df.sort_values(by=\"price\",ascending=False)\n",
    "sorted_df.head()"
   ]
  },
  {
   "cell_type": "code",
   "execution_count": 104,
   "metadata": {},
   "outputs": [
    {
     "data": {
      "text/html": [
       "<div>\n",
       "<style scoped>\n",
       "    .dataframe tbody tr th:only-of-type {\n",
       "        vertical-align: middle;\n",
       "    }\n",
       "\n",
       "    .dataframe tbody tr th {\n",
       "        vertical-align: top;\n",
       "    }\n",
       "\n",
       "    .dataframe thead th {\n",
       "        text-align: right;\n",
       "    }\n",
       "</style>\n",
       "<table border=\"1\" class=\"dataframe\">\n",
       "  <thead>\n",
       "    <tr style=\"text-align: right;\">\n",
       "      <th></th>\n",
       "      <th>description</th>\n",
       "      <th>url</th>\n",
       "      <th>Iela</th>\n",
       "      <th>Ist.</th>\n",
       "      <th>m2</th>\n",
       "      <th>Stāvs</th>\n",
       "      <th>Sērija</th>\n",
       "      <th>Cena, m2</th>\n",
       "      <th>Cena</th>\n",
       "      <th>Floor</th>\n",
       "      <th>MaxFloor</th>\n",
       "      <th>price</th>\n",
       "      <th>floor</th>\n",
       "    </tr>\n",
       "  </thead>\n",
       "  <tbody>\n",
       "    <tr>\n",
       "      <th>536</th>\n",
       "      <td>Nomaksa. Vairāki pakāpieni uz leju. \\r\\nDaļa m...</td>\n",
       "      <td>https://ss.com/msg/lv/real-estate/flats/riga/c...</td>\n",
       "      <td>Duntes 26</td>\n",
       "      <td>3</td>\n",
       "      <td>67</td>\n",
       "      <td>1/6</td>\n",
       "      <td>Specpr.</td>\n",
       "      <td>128 €</td>\n",
       "      <td>8,580  €</td>\n",
       "      <td>1</td>\n",
       "      <td>6</td>\n",
       "      <td>8580</td>\n",
       "      <td>1</td>\n",
       "    </tr>\n",
       "    <tr>\n",
       "      <th>149</th>\n",
       "      <td>Dzīvoklis ēkā, kas šobrīd ir neapdzīvojama un ...</td>\n",
       "      <td>https://ss.com/msg/lv/real-estate/flats/riga/c...</td>\n",
       "      <td>Valdemāra 40A</td>\n",
       "      <td>2</td>\n",
       "      <td>34</td>\n",
       "      <td>3/3</td>\n",
       "      <td>P. kara</td>\n",
       "      <td>279 €</td>\n",
       "      <td>9,500  €</td>\n",
       "      <td>3</td>\n",
       "      <td>3</td>\n",
       "      <td>9500</td>\n",
       "      <td>3</td>\n",
       "    </tr>\n",
       "    <tr>\n",
       "      <th>211</th>\n",
       "      <td>Pārdodam nelielu dzīvokli. \\r\\nPilnībā gatavs ...</td>\n",
       "      <td>https://ss.com/msg/lv/real-estate/flats/riga/c...</td>\n",
       "      <td>Ieroču 6</td>\n",
       "      <td>1</td>\n",
       "      <td>16</td>\n",
       "      <td>2/2</td>\n",
       "      <td>P. kara</td>\n",
       "      <td>656 €</td>\n",
       "      <td>10,500  €</td>\n",
       "      <td>2</td>\n",
       "      <td>2</td>\n",
       "      <td>10500</td>\n",
       "      <td>2</td>\n",
       "    </tr>\n",
       "    <tr>\n",
       "      <th>868</th>\n",
       "      <td>Pārdod studio tipa dzīvokli 16kv. m Brasas raj...</td>\n",
       "      <td>https://ss.com/msg/lv/real-estate/flats/riga/c...</td>\n",
       "      <td>Ieroču 6</td>\n",
       "      <td>1</td>\n",
       "      <td>16</td>\n",
       "      <td>1/2</td>\n",
       "      <td>P. kara</td>\n",
       "      <td>725 €</td>\n",
       "      <td>11,600  €</td>\n",
       "      <td>1</td>\n",
       "      <td>2</td>\n",
       "      <td>11600</td>\n",
       "      <td>1</td>\n",
       "    </tr>\n",
       "    <tr>\n",
       "      <th>420</th>\n",
       "      <td>Tiek pārdots divistabu dzīvoklis ar izolētām i...</td>\n",
       "      <td>https://ss.com/msg/lv/real-estate/flats/riga/c...</td>\n",
       "      <td>Ieroču 6</td>\n",
       "      <td>2</td>\n",
       "      <td>35</td>\n",
       "      <td>2/2</td>\n",
       "      <td>P. kara</td>\n",
       "      <td>366 €</td>\n",
       "      <td>12,800  €</td>\n",
       "      <td>2</td>\n",
       "      <td>2</td>\n",
       "      <td>12800</td>\n",
       "      <td>2</td>\n",
       "    </tr>\n",
       "  </tbody>\n",
       "</table>\n",
       "</div>"
      ],
      "text/plain": [
       "                                           description  \\\n",
       "536  Nomaksa. Vairāki pakāpieni uz leju. \\r\\nDaļa m...   \n",
       "149  Dzīvoklis ēkā, kas šobrīd ir neapdzīvojama un ...   \n",
       "211  Pārdodam nelielu dzīvokli. \\r\\nPilnībā gatavs ...   \n",
       "868  Pārdod studio tipa dzīvokli 16kv. m Brasas raj...   \n",
       "420  Tiek pārdots divistabu dzīvoklis ar izolētām i...   \n",
       "\n",
       "                                                   url           Iela Ist.  \\\n",
       "536  https://ss.com/msg/lv/real-estate/flats/riga/c...      Duntes 26    3   \n",
       "149  https://ss.com/msg/lv/real-estate/flats/riga/c...  Valdemāra 40A    2   \n",
       "211  https://ss.com/msg/lv/real-estate/flats/riga/c...       Ieroču 6    1   \n",
       "868  https://ss.com/msg/lv/real-estate/flats/riga/c...       Ieroču 6    1   \n",
       "420  https://ss.com/msg/lv/real-estate/flats/riga/c...       Ieroču 6    2   \n",
       "\n",
       "     m2 Stāvs   Sērija Cena, m2       Cena Floor  MaxFloor  price  floor  \n",
       "536  67   1/6  Specpr.    128 €   8,580  €     1         6   8580      1  \n",
       "149  34   3/3  P. kara    279 €   9,500  €     3         3   9500      3  \n",
       "211  16   2/2  P. kara    656 €  10,500  €     2         2  10500      2  \n",
       "868  16   1/2  P. kara    725 €  11,600  €     1         2  11600      1  \n",
       "420  35   2/2  P. kara    366 €  12,800  €     2         2  12800      2  "
      ]
     },
     "execution_count": 104,
     "metadata": {},
     "output_type": "execute_result"
    }
   ],
   "source": [
    "# we could see the cheapest\n",
    "df.sort_values(by=\"price\",ascending=True).head()"
   ]
  },
  {
   "cell_type": "code",
   "execution_count": 105,
   "metadata": {},
   "outputs": [
    {
     "data": {
      "text/html": [
       "<div>\n",
       "<style scoped>\n",
       "    .dataframe tbody tr th:only-of-type {\n",
       "        vertical-align: middle;\n",
       "    }\n",
       "\n",
       "    .dataframe tbody tr th {\n",
       "        vertical-align: top;\n",
       "    }\n",
       "\n",
       "    .dataframe thead th {\n",
       "        text-align: right;\n",
       "    }\n",
       "</style>\n",
       "<table border=\"1\" class=\"dataframe\">\n",
       "  <thead>\n",
       "    <tr style=\"text-align: right;\">\n",
       "      <th></th>\n",
       "      <th>m2</th>\n",
       "      <th>MaxFloor</th>\n",
       "      <th>price</th>\n",
       "      <th>floor</th>\n",
       "    </tr>\n",
       "  </thead>\n",
       "  <tbody>\n",
       "    <tr>\n",
       "      <th>count</th>\n",
       "      <td>901.000000</td>\n",
       "      <td>901.000000</td>\n",
       "      <td>9.010000e+02</td>\n",
       "      <td>901.000000</td>\n",
       "    </tr>\n",
       "    <tr>\n",
       "      <th>mean</th>\n",
       "      <td>79.469478</td>\n",
       "      <td>5.572697</td>\n",
       "      <td>1.641871e+05</td>\n",
       "      <td>3.336293</td>\n",
       "    </tr>\n",
       "    <tr>\n",
       "      <th>std</th>\n",
       "      <td>59.943255</td>\n",
       "      <td>2.507431</td>\n",
       "      <td>1.487232e+05</td>\n",
       "      <td>2.102671</td>\n",
       "    </tr>\n",
       "    <tr>\n",
       "      <th>min</th>\n",
       "      <td>16.000000</td>\n",
       "      <td>1.000000</td>\n",
       "      <td>8.580000e+03</td>\n",
       "      <td>1.000000</td>\n",
       "    </tr>\n",
       "    <tr>\n",
       "      <th>25%</th>\n",
       "      <td>45.000000</td>\n",
       "      <td>5.000000</td>\n",
       "      <td>7.500000e+04</td>\n",
       "      <td>2.000000</td>\n",
       "    </tr>\n",
       "    <tr>\n",
       "      <th>50%</th>\n",
       "      <td>63.000000</td>\n",
       "      <td>5.000000</td>\n",
       "      <td>1.250000e+05</td>\n",
       "      <td>3.000000</td>\n",
       "    </tr>\n",
       "    <tr>\n",
       "      <th>75%</th>\n",
       "      <td>97.000000</td>\n",
       "      <td>6.000000</td>\n",
       "      <td>1.968000e+05</td>\n",
       "      <td>5.000000</td>\n",
       "    </tr>\n",
       "    <tr>\n",
       "      <th>max</th>\n",
       "      <td>1000.000000</td>\n",
       "      <td>29.000000</td>\n",
       "      <td>1.950000e+06</td>\n",
       "      <td>23.000000</td>\n",
       "    </tr>\n",
       "  </tbody>\n",
       "</table>\n",
       "</div>"
      ],
      "text/plain": [
       "                m2    MaxFloor         price       floor\n",
       "count   901.000000  901.000000  9.010000e+02  901.000000\n",
       "mean     79.469478    5.572697  1.641871e+05    3.336293\n",
       "std      59.943255    2.507431  1.487232e+05    2.102671\n",
       "min      16.000000    1.000000  8.580000e+03    1.000000\n",
       "25%      45.000000    5.000000  7.500000e+04    2.000000\n",
       "50%      63.000000    5.000000  1.250000e+05    3.000000\n",
       "75%      97.000000    6.000000  1.968000e+05    5.000000\n",
       "max    1000.000000   29.000000  1.950000e+06   23.000000"
      ]
     },
     "execution_count": 105,
     "metadata": {},
     "output_type": "execute_result"
    }
   ],
   "source": [
    "# now that we have numerical values we can do some statistics\n",
    "df.describe() # describe will give us basic statistics for all numeric columns"
   ]
  },
  {
   "cell_type": "code",
   "execution_count": 106,
   "metadata": {},
   "outputs": [
    {
     "data": {
      "text/html": [
       "<div>\n",
       "<style scoped>\n",
       "    .dataframe tbody tr th:only-of-type {\n",
       "        vertical-align: middle;\n",
       "    }\n",
       "\n",
       "    .dataframe tbody tr th {\n",
       "        vertical-align: top;\n",
       "    }\n",
       "\n",
       "    .dataframe thead th {\n",
       "        text-align: right;\n",
       "    }\n",
       "</style>\n",
       "<table border=\"1\" class=\"dataframe\">\n",
       "  <thead>\n",
       "    <tr style=\"text-align: right;\">\n",
       "      <th></th>\n",
       "      <th>description</th>\n",
       "      <th>url</th>\n",
       "      <th>Iela</th>\n",
       "      <th>Ist.</th>\n",
       "      <th>m2</th>\n",
       "      <th>Stāvs</th>\n",
       "      <th>Sērija</th>\n",
       "      <th>Cena, m2</th>\n",
       "      <th>Cena</th>\n",
       "      <th>Floor</th>\n",
       "      <th>MaxFloor</th>\n",
       "      <th>price</th>\n",
       "      <th>floor</th>\n",
       "    </tr>\n",
       "  </thead>\n",
       "  <tbody>\n",
       "    <tr>\n",
       "      <th>0</th>\n",
       "      <td>Pārdošanā 4-istabu dzīvoklis ar 3 guļamistabām...</td>\n",
       "      <td>https://ss.com/msg/lv/real-estate/flats/riga/c...</td>\n",
       "      <td>Baznīcas 27/29</td>\n",
       "      <td>4</td>\n",
       "      <td>144</td>\n",
       "      <td>4/6</td>\n",
       "      <td>Renov.</td>\n",
       "      <td>2,118 €</td>\n",
       "      <td>305,000  €</td>\n",
       "      <td>4</td>\n",
       "      <td>6</td>\n",
       "      <td>305000</td>\n",
       "      <td>4</td>\n",
       "    </tr>\n",
       "    <tr>\n",
       "      <th>2</th>\n",
       "      <td>Īpašnieks pārdod dzīvokli renovētā jūgendstila...</td>\n",
       "      <td>https://ss.com/msg/lv/real-estate/flats/riga/c...</td>\n",
       "      <td>Augšiela 8</td>\n",
       "      <td>1</td>\n",
       "      <td>22</td>\n",
       "      <td>5/6</td>\n",
       "      <td>Renov.</td>\n",
       "      <td>1,670 €</td>\n",
       "      <td>36,750  €</td>\n",
       "      <td>5</td>\n",
       "      <td>6</td>\n",
       "      <td>36750</td>\n",
       "      <td>5</td>\n",
       "    </tr>\n",
       "    <tr>\n",
       "      <th>3</th>\n",
       "      <td>Īpašnieks pārdod dzīvokli renovētā jūgendstila...</td>\n",
       "      <td>https://ss.com/msg/lv/real-estate/flats/riga/c...</td>\n",
       "      <td>Augšiela 8</td>\n",
       "      <td>2</td>\n",
       "      <td>30</td>\n",
       "      <td>6/6</td>\n",
       "      <td>Renov.</td>\n",
       "      <td>1,517 €</td>\n",
       "      <td>45,500  €</td>\n",
       "      <td>6</td>\n",
       "      <td>6</td>\n",
       "      <td>45500</td>\n",
       "      <td>6</td>\n",
       "    </tr>\n",
       "    <tr>\n",
       "      <th>4</th>\n",
       "      <td>Projekta attīstītājs pārdod dzīvokli renovētā ...</td>\n",
       "      <td>https://ss.com/msg/lv/real-estate/flats/riga/c...</td>\n",
       "      <td>Augšiela 8</td>\n",
       "      <td>2</td>\n",
       "      <td>35</td>\n",
       "      <td>6/6</td>\n",
       "      <td>Renov.</td>\n",
       "      <td>1,484 €</td>\n",
       "      <td>51,950  €</td>\n",
       "      <td>6</td>\n",
       "      <td>6</td>\n",
       "      <td>51950</td>\n",
       "      <td>6</td>\n",
       "    </tr>\n",
       "    <tr>\n",
       "      <th>5</th>\n",
       "      <td>Trīs istabu dzīvoklis atrodas neorenesanses ar...</td>\n",
       "      <td>https://ss.com/msg/lv/real-estate/flats/riga/c...</td>\n",
       "      <td>Baznīcas 26A</td>\n",
       "      <td>3</td>\n",
       "      <td>101</td>\n",
       "      <td>3/6</td>\n",
       "      <td>Renov.</td>\n",
       "      <td>2,228 €</td>\n",
       "      <td>225,000  €</td>\n",
       "      <td>3</td>\n",
       "      <td>6</td>\n",
       "      <td>225000</td>\n",
       "      <td>3</td>\n",
       "    </tr>\n",
       "  </tbody>\n",
       "</table>\n",
       "</div>"
      ],
      "text/plain": [
       "                                         description  \\\n",
       "0  Pārdošanā 4-istabu dzīvoklis ar 3 guļamistabām...   \n",
       "2  Īpašnieks pārdod dzīvokli renovētā jūgendstila...   \n",
       "3  Īpašnieks pārdod dzīvokli renovētā jūgendstila...   \n",
       "4  Projekta attīstītājs pārdod dzīvokli renovētā ...   \n",
       "5  Trīs istabu dzīvoklis atrodas neorenesanses ar...   \n",
       "\n",
       "                                                 url            Iela Ist.  \\\n",
       "0  https://ss.com/msg/lv/real-estate/flats/riga/c...  Baznīcas 27/29    4   \n",
       "2  https://ss.com/msg/lv/real-estate/flats/riga/c...      Augšiela 8    1   \n",
       "3  https://ss.com/msg/lv/real-estate/flats/riga/c...      Augšiela 8    2   \n",
       "4  https://ss.com/msg/lv/real-estate/flats/riga/c...      Augšiela 8    2   \n",
       "5  https://ss.com/msg/lv/real-estate/flats/riga/c...    Baznīcas 26A    3   \n",
       "\n",
       "    m2 Stāvs  Sērija Cena, m2        Cena Floor  MaxFloor   price  floor  \n",
       "0  144   4/6  Renov.  2,118 €  305,000  €     4         6  305000      4  \n",
       "2   22   5/6  Renov.  1,670 €   36,750  €     5         6   36750      5  \n",
       "3   30   6/6  Renov.  1,517 €   45,500  €     6         6   45500      6  \n",
       "4   35   6/6  Renov.  1,484 €   51,950  €     6         6   51950      6  \n",
       "5  101   3/6  Renov.  2,228 €  225,000  €     3         6  225000      3  "
      ]
     },
     "execution_count": 106,
     "metadata": {},
     "output_type": "execute_result"
    }
   ],
   "source": [
    "# i can filter by column value\n",
    "# so here we will get all rows where floor is greater than 2\n",
    "df[df.floor > 2].head()"
   ]
  },
  {
   "cell_type": "code",
   "execution_count": 107,
   "metadata": {},
   "outputs": [
    {
     "data": {
      "text/html": [
       "<div>\n",
       "<style scoped>\n",
       "    .dataframe tbody tr th:only-of-type {\n",
       "        vertical-align: middle;\n",
       "    }\n",
       "\n",
       "    .dataframe tbody tr th {\n",
       "        vertical-align: top;\n",
       "    }\n",
       "\n",
       "    .dataframe thead th {\n",
       "        text-align: right;\n",
       "    }\n",
       "</style>\n",
       "<table border=\"1\" class=\"dataframe\">\n",
       "  <thead>\n",
       "    <tr style=\"text-align: right;\">\n",
       "      <th></th>\n",
       "      <th>description</th>\n",
       "      <th>url</th>\n",
       "      <th>Iela</th>\n",
       "      <th>Ist.</th>\n",
       "      <th>m2</th>\n",
       "      <th>Stāvs</th>\n",
       "      <th>Sērija</th>\n",
       "      <th>Cena, m2</th>\n",
       "      <th>Cena</th>\n",
       "      <th>Floor</th>\n",
       "      <th>MaxFloor</th>\n",
       "      <th>price</th>\n",
       "      <th>floor</th>\n",
       "    </tr>\n",
       "  </thead>\n",
       "  <tbody>\n",
       "    <tr>\n",
       "      <th>135</th>\n",
       "      <td>Pārdod tikko pēc remonta plašu 3-istabu dzīvok...</td>\n",
       "      <td>https://ss.com/msg/lv/real-estate/flats/riga/c...</td>\n",
       "      <td>Grostonas 25</td>\n",
       "      <td>3</td>\n",
       "      <td>86</td>\n",
       "      <td>6/29</td>\n",
       "      <td>Jaun.</td>\n",
       "      <td>2,713 €</td>\n",
       "      <td>233,280  €</td>\n",
       "      <td>6</td>\n",
       "      <td>29</td>\n",
       "      <td>233280</td>\n",
       "      <td>6</td>\n",
       "    </tr>\n",
       "    <tr>\n",
       "      <th>718</th>\n",
       "      <td>Pārdodu mēbelētu dzīvokli. Dzīvoklis sastāv no...</td>\n",
       "      <td>https://ss.com/msg/lv/real-estate/flats/riga/c...</td>\n",
       "      <td>Miera 93</td>\n",
       "      <td>2</td>\n",
       "      <td>51</td>\n",
       "      <td>2/25</td>\n",
       "      <td>Jaun.</td>\n",
       "      <td>2,353 €</td>\n",
       "      <td>120,000  €</td>\n",
       "      <td>2</td>\n",
       "      <td>25</td>\n",
       "      <td>120000</td>\n",
       "      <td>2</td>\n",
       "    </tr>\n",
       "    <tr>\n",
       "      <th>731</th>\n",
       "      <td>Вам важно жить в одном ритме с городом и при э...</td>\n",
       "      <td>https://ss.com/msg/lv/real-estate/flats/riga/c...</td>\n",
       "      <td>Skanstes 29а</td>\n",
       "      <td>3</td>\n",
       "      <td>229</td>\n",
       "      <td>23/24</td>\n",
       "      <td>Jaun.</td>\n",
       "      <td>2,336 €</td>\n",
       "      <td>535,000  €</td>\n",
       "      <td>23</td>\n",
       "      <td>24</td>\n",
       "      <td>535000</td>\n",
       "      <td>23</td>\n",
       "    </tr>\n",
       "    <tr>\n",
       "      <th>319</th>\n",
       "      <td>Dzīvoklis ar vietu pazemes stāvvietā un mantu ...</td>\n",
       "      <td>https://ss.com/msg/lv/real-estate/flats/riga/c...</td>\n",
       "      <td>Skanstes 29a</td>\n",
       "      <td>3</td>\n",
       "      <td>110</td>\n",
       "      <td>8/24</td>\n",
       "      <td>Jaun.</td>\n",
       "      <td>2,272 €</td>\n",
       "      <td>249,900  €</td>\n",
       "      <td>8</td>\n",
       "      <td>24</td>\n",
       "      <td>249900</td>\n",
       "      <td>8</td>\n",
       "    </tr>\n",
       "    <tr>\n",
       "      <th>24</th>\n",
       "      <td>Продается квартира c большой террасой в новом ...</td>\n",
       "      <td>https://ss.com/msg/lv/real-estate/flats/riga/c...</td>\n",
       "      <td>Skanstes 29</td>\n",
       "      <td>2</td>\n",
       "      <td>61</td>\n",
       "      <td>3/24</td>\n",
       "      <td>Jaun.</td>\n",
       "      <td>2,049 €</td>\n",
       "      <td>125,000  €</td>\n",
       "      <td>3</td>\n",
       "      <td>24</td>\n",
       "      <td>125000</td>\n",
       "      <td>3</td>\n",
       "    </tr>\n",
       "  </tbody>\n",
       "</table>\n",
       "</div>"
      ],
      "text/plain": [
       "                                           description  \\\n",
       "135  Pārdod tikko pēc remonta plašu 3-istabu dzīvok...   \n",
       "718  Pārdodu mēbelētu dzīvokli. Dzīvoklis sastāv no...   \n",
       "731  Вам важно жить в одном ритме с городом и при э...   \n",
       "319  Dzīvoklis ar vietu pazemes stāvvietā un mantu ...   \n",
       "24   Продается квартира c большой террасой в новом ...   \n",
       "\n",
       "                                                   url          Iela Ist.  \\\n",
       "135  https://ss.com/msg/lv/real-estate/flats/riga/c...  Grostonas 25    3   \n",
       "718  https://ss.com/msg/lv/real-estate/flats/riga/c...      Miera 93    2   \n",
       "731  https://ss.com/msg/lv/real-estate/flats/riga/c...  Skanstes 29а    3   \n",
       "319  https://ss.com/msg/lv/real-estate/flats/riga/c...  Skanstes 29a    3   \n",
       "24   https://ss.com/msg/lv/real-estate/flats/riga/c...   Skanstes 29    2   \n",
       "\n",
       "      m2  Stāvs Sērija Cena, m2        Cena Floor  MaxFloor   price  floor  \n",
       "135   86   6/29  Jaun.  2,713 €  233,280  €     6        29  233280      6  \n",
       "718   51   2/25  Jaun.  2,353 €  120,000  €     2        25  120000      2  \n",
       "731  229  23/24  Jaun.  2,336 €  535,000  €    23        24  535000     23  \n",
       "319  110   8/24  Jaun.  2,272 €  249,900  €     8        24  249900      8  \n",
       "24    61   3/24  Jaun.  2,049 €  125,000  €     3        24  125000      3  "
      ]
     },
     "execution_count": 107,
     "metadata": {},
     "output_type": "execute_result"
    }
   ],
   "source": [
    "df.sort_values(by=\"MaxFloor\",ascending=False).head()"
   ]
  },
  {
   "cell_type": "code",
   "execution_count": null,
   "metadata": {},
   "outputs": [],
   "source": [
    "df.head()"
   ]
  },
  {
   "cell_type": "code",
   "execution_count": null,
   "metadata": {},
   "outputs": [],
   "source": [
    "df.columns"
   ]
  },
  {
   "cell_type": "code",
   "execution_count": 108,
   "metadata": {},
   "outputs": [
    {
     "data": {
      "text/html": [
       "<div>\n",
       "<style scoped>\n",
       "    .dataframe tbody tr th:only-of-type {\n",
       "        vertical-align: middle;\n",
       "    }\n",
       "\n",
       "    .dataframe tbody tr th {\n",
       "        vertical-align: top;\n",
       "    }\n",
       "\n",
       "    .dataframe thead th {\n",
       "        text-align: right;\n",
       "    }\n",
       "</style>\n",
       "<table border=\"1\" class=\"dataframe\">\n",
       "  <thead>\n",
       "    <tr style=\"text-align: right;\">\n",
       "      <th></th>\n",
       "      <th>count</th>\n",
       "      <th>min</th>\n",
       "      <th>max</th>\n",
       "      <th>mean</th>\n",
       "    </tr>\n",
       "    <tr>\n",
       "      <th>Iela</th>\n",
       "      <th></th>\n",
       "      <th></th>\n",
       "      <th></th>\n",
       "      <th></th>\n",
       "    </tr>\n",
       "  </thead>\n",
       "  <tbody>\n",
       "    <tr>\n",
       "      <th>Akas 2</th>\n",
       "      <td>1</td>\n",
       "      <td>135000</td>\n",
       "      <td>135000</td>\n",
       "      <td>135000.0</td>\n",
       "    </tr>\n",
       "    <tr>\n",
       "      <th>Akas 8</th>\n",
       "      <td>1</td>\n",
       "      <td>300000</td>\n",
       "      <td>300000</td>\n",
       "      <td>300000.0</td>\n",
       "    </tr>\n",
       "    <tr>\n",
       "      <th>Alauksta 9</th>\n",
       "      <td>2</td>\n",
       "      <td>107000</td>\n",
       "      <td>144119</td>\n",
       "      <td>125559.5</td>\n",
       "    </tr>\n",
       "    <tr>\n",
       "      <th>Alberta 4</th>\n",
       "      <td>1</td>\n",
       "      <td>945000</td>\n",
       "      <td>945000</td>\n",
       "      <td>945000.0</td>\n",
       "    </tr>\n",
       "    <tr>\n",
       "      <th>Aldaru 6</th>\n",
       "      <td>1</td>\n",
       "      <td>170000</td>\n",
       "      <td>170000</td>\n",
       "      <td>170000.0</td>\n",
       "    </tr>\n",
       "    <tr>\n",
       "      <th>...</th>\n",
       "      <td>...</td>\n",
       "      <td>...</td>\n",
       "      <td>...</td>\n",
       "      <td>...</td>\n",
       "    </tr>\n",
       "    <tr>\n",
       "      <th>Ģertrūdes 63</th>\n",
       "      <td>1</td>\n",
       "      <td>155000</td>\n",
       "      <td>155000</td>\n",
       "      <td>155000.0</td>\n",
       "    </tr>\n",
       "    <tr>\n",
       "      <th>Ģertrūdes 65/2</th>\n",
       "      <td>8</td>\n",
       "      <td>99000</td>\n",
       "      <td>156000</td>\n",
       "      <td>130875.0</td>\n",
       "    </tr>\n",
       "    <tr>\n",
       "      <th>Ģertrūdes 77</th>\n",
       "      <td>1</td>\n",
       "      <td>187000</td>\n",
       "      <td>187000</td>\n",
       "      <td>187000.0</td>\n",
       "    </tr>\n",
       "    <tr>\n",
       "      <th>Ģertrūdes 9</th>\n",
       "      <td>1</td>\n",
       "      <td>378000</td>\n",
       "      <td>378000</td>\n",
       "      <td>378000.0</td>\n",
       "    </tr>\n",
       "    <tr>\n",
       "      <th>Ģertrūdes 99</th>\n",
       "      <td>1</td>\n",
       "      <td>28900</td>\n",
       "      <td>28900</td>\n",
       "      <td>28900.0</td>\n",
       "    </tr>\n",
       "  </tbody>\n",
       "</table>\n",
       "<p>544 rows × 4 columns</p>\n",
       "</div>"
      ],
      "text/plain": [
       "                count     min     max      mean\n",
       "Iela                                           \n",
       "Akas 2              1  135000  135000  135000.0\n",
       "Akas 8              1  300000  300000  300000.0\n",
       "Alauksta 9          2  107000  144119  125559.5\n",
       "Alberta 4           1  945000  945000  945000.0\n",
       "Aldaru 6            1  170000  170000  170000.0\n",
       "...               ...     ...     ...       ...\n",
       "Ģertrūdes 63        1  155000  155000  155000.0\n",
       "Ģertrūdes 65/2      8   99000  156000  130875.0\n",
       "Ģertrūdes 77        1  187000  187000  187000.0\n",
       "Ģertrūdes 9         1  378000  378000  378000.0\n",
       "Ģertrūdes 99        1   28900   28900   28900.0\n",
       "\n",
       "[544 rows x 4 columns]"
      ]
     },
     "execution_count": 108,
     "metadata": {},
     "output_type": "execute_result"
    }
   ],
   "source": [
    "grouped_by_street = df.groupby(by=\"Iela\")['price'].agg([\"count\", \"min\", \"max\", \"mean\", ])\n",
    "grouped_by_street"
   ]
  },
  {
   "cell_type": "code",
   "execution_count": 109,
   "metadata": {},
   "outputs": [
    {
     "data": {
      "text/html": [
       "<div>\n",
       "<style scoped>\n",
       "    .dataframe tbody tr th:only-of-type {\n",
       "        vertical-align: middle;\n",
       "    }\n",
       "\n",
       "    .dataframe tbody tr th {\n",
       "        vertical-align: top;\n",
       "    }\n",
       "\n",
       "    .dataframe thead th {\n",
       "        text-align: right;\n",
       "    }\n",
       "</style>\n",
       "<table border=\"1\" class=\"dataframe\">\n",
       "  <thead>\n",
       "    <tr style=\"text-align: right;\">\n",
       "      <th></th>\n",
       "      <th>count</th>\n",
       "      <th>min</th>\n",
       "      <th>max</th>\n",
       "      <th>mean</th>\n",
       "    </tr>\n",
       "    <tr>\n",
       "      <th>Sērija</th>\n",
       "      <th></th>\n",
       "      <th></th>\n",
       "      <th></th>\n",
       "      <th></th>\n",
       "    </tr>\n",
       "  </thead>\n",
       "  <tbody>\n",
       "    <tr>\n",
       "      <th>103.</th>\n",
       "      <td>5</td>\n",
       "      <td>43001</td>\n",
       "      <td>89900</td>\n",
       "      <td>59980.000000</td>\n",
       "    </tr>\n",
       "    <tr>\n",
       "      <th>467.</th>\n",
       "      <td>1</td>\n",
       "      <td>55000</td>\n",
       "      <td>55000</td>\n",
       "      <td>55000.000000</td>\n",
       "    </tr>\n",
       "    <tr>\n",
       "      <th>Hrušč.</th>\n",
       "      <td>18</td>\n",
       "      <td>36500</td>\n",
       "      <td>119000</td>\n",
       "      <td>60572.222222</td>\n",
       "    </tr>\n",
       "    <tr>\n",
       "      <th>Jaun.</th>\n",
       "      <td>135</td>\n",
       "      <td>38000</td>\n",
       "      <td>1950000</td>\n",
       "      <td>243141.948148</td>\n",
       "    </tr>\n",
       "    <tr>\n",
       "      <th>LT proj.</th>\n",
       "      <td>1</td>\n",
       "      <td>52000</td>\n",
       "      <td>52000</td>\n",
       "      <td>52000.000000</td>\n",
       "    </tr>\n",
       "    <tr>\n",
       "      <th>P. kara</th>\n",
       "      <td>373</td>\n",
       "      <td>9500</td>\n",
       "      <td>945000</td>\n",
       "      <td>139650.252011</td>\n",
       "    </tr>\n",
       "    <tr>\n",
       "      <th>Priv. m.</th>\n",
       "      <td>2</td>\n",
       "      <td>118900</td>\n",
       "      <td>140000</td>\n",
       "      <td>129450.000000</td>\n",
       "    </tr>\n",
       "    <tr>\n",
       "      <th>Renov.</th>\n",
       "      <td>290</td>\n",
       "      <td>35000</td>\n",
       "      <td>1120000</td>\n",
       "      <td>179396.506897</td>\n",
       "    </tr>\n",
       "    <tr>\n",
       "      <th>Specpr.</th>\n",
       "      <td>41</td>\n",
       "      <td>8580</td>\n",
       "      <td>475000</td>\n",
       "      <td>129810.731707</td>\n",
       "    </tr>\n",
       "    <tr>\n",
       "      <th>Staļina</th>\n",
       "      <td>34</td>\n",
       "      <td>22800</td>\n",
       "      <td>238600</td>\n",
       "      <td>111132.941176</td>\n",
       "    </tr>\n",
       "    <tr>\n",
       "      <th>Čehu pr.</th>\n",
       "      <td>1</td>\n",
       "      <td>137000</td>\n",
       "      <td>137000</td>\n",
       "      <td>137000.000000</td>\n",
       "    </tr>\n",
       "  </tbody>\n",
       "</table>\n",
       "</div>"
      ],
      "text/plain": [
       "          count     min      max           mean\n",
       "Sērija                                         \n",
       "103.          5   43001    89900   59980.000000\n",
       "467.          1   55000    55000   55000.000000\n",
       "Hrušč.       18   36500   119000   60572.222222\n",
       "Jaun.       135   38000  1950000  243141.948148\n",
       "LT proj.      1   52000    52000   52000.000000\n",
       "P. kara     373    9500   945000  139650.252011\n",
       "Priv. m.      2  118900   140000  129450.000000\n",
       "Renov.      290   35000  1120000  179396.506897\n",
       "Specpr.      41    8580   475000  129810.731707\n",
       "Staļina      34   22800   238600  111132.941176\n",
       "Čehu pr.      1  137000   137000  137000.000000"
      ]
     },
     "execution_count": 109,
     "metadata": {},
     "output_type": "execute_result"
    }
   ],
   "source": [
    "grouped_by_series = df.groupby(by=\"Sērija\")['price'].agg([\"count\", \"min\", \"max\", \"mean\", ])\n",
    "grouped_by_series"
   ]
  },
  {
   "cell_type": "code",
   "execution_count": null,
   "metadata": {},
   "outputs": [],
   "source": []
  },
  {
   "cell_type": "code",
   "execution_count": 110,
   "metadata": {},
   "outputs": [
    {
     "data": {
      "text/html": [
       "<div>\n",
       "<style scoped>\n",
       "    .dataframe tbody tr th:only-of-type {\n",
       "        vertical-align: middle;\n",
       "    }\n",
       "\n",
       "    .dataframe tbody tr th {\n",
       "        vertical-align: top;\n",
       "    }\n",
       "\n",
       "    .dataframe thead th {\n",
       "        text-align: right;\n",
       "    }\n",
       "</style>\n",
       "<table border=\"1\" class=\"dataframe\">\n",
       "  <thead>\n",
       "    <tr style=\"text-align: right;\">\n",
       "      <th></th>\n",
       "      <th>count</th>\n",
       "      <th>min</th>\n",
       "      <th>max</th>\n",
       "      <th>mean</th>\n",
       "    </tr>\n",
       "    <tr>\n",
       "      <th>floor</th>\n",
       "      <th></th>\n",
       "      <th></th>\n",
       "      <th></th>\n",
       "      <th></th>\n",
       "    </tr>\n",
       "  </thead>\n",
       "  <tbody>\n",
       "    <tr>\n",
       "      <th>1</th>\n",
       "      <td>178</td>\n",
       "      <td>8580</td>\n",
       "      <td>988000</td>\n",
       "      <td>105499.269663</td>\n",
       "    </tr>\n",
       "    <tr>\n",
       "      <th>2</th>\n",
       "      <td>196</td>\n",
       "      <td>10500</td>\n",
       "      <td>945000</td>\n",
       "      <td>149893.520408</td>\n",
       "    </tr>\n",
       "    <tr>\n",
       "      <th>3</th>\n",
       "      <td>141</td>\n",
       "      <td>9500</td>\n",
       "      <td>799000</td>\n",
       "      <td>162422.985816</td>\n",
       "    </tr>\n",
       "    <tr>\n",
       "      <th>4</th>\n",
       "      <td>136</td>\n",
       "      <td>21500</td>\n",
       "      <td>750000</td>\n",
       "      <td>166738.308824</td>\n",
       "    </tr>\n",
       "    <tr>\n",
       "      <th>5</th>\n",
       "      <td>131</td>\n",
       "      <td>36750</td>\n",
       "      <td>1120000</td>\n",
       "      <td>197266.969466</td>\n",
       "    </tr>\n",
       "    <tr>\n",
       "      <th>6</th>\n",
       "      <td>88</td>\n",
       "      <td>35200</td>\n",
       "      <td>980000</td>\n",
       "      <td>204203.045455</td>\n",
       "    </tr>\n",
       "    <tr>\n",
       "      <th>7</th>\n",
       "      <td>17</td>\n",
       "      <td>115000</td>\n",
       "      <td>1950000</td>\n",
       "      <td>427111.764706</td>\n",
       "    </tr>\n",
       "    <tr>\n",
       "      <th>8</th>\n",
       "      <td>7</td>\n",
       "      <td>89000</td>\n",
       "      <td>249900</td>\n",
       "      <td>156085.714286</td>\n",
       "    </tr>\n",
       "    <tr>\n",
       "      <th>11</th>\n",
       "      <td>2</td>\n",
       "      <td>55000</td>\n",
       "      <td>187162</td>\n",
       "      <td>121081.000000</td>\n",
       "    </tr>\n",
       "    <tr>\n",
       "      <th>14</th>\n",
       "      <td>1</td>\n",
       "      <td>285000</td>\n",
       "      <td>285000</td>\n",
       "      <td>285000.000000</td>\n",
       "    </tr>\n",
       "    <tr>\n",
       "      <th>15</th>\n",
       "      <td>1</td>\n",
       "      <td>305000</td>\n",
       "      <td>305000</td>\n",
       "      <td>305000.000000</td>\n",
       "    </tr>\n",
       "    <tr>\n",
       "      <th>18</th>\n",
       "      <td>1</td>\n",
       "      <td>265000</td>\n",
       "      <td>265000</td>\n",
       "      <td>265000.000000</td>\n",
       "    </tr>\n",
       "    <tr>\n",
       "      <th>19</th>\n",
       "      <td>1</td>\n",
       "      <td>399000</td>\n",
       "      <td>399000</td>\n",
       "      <td>399000.000000</td>\n",
       "    </tr>\n",
       "    <tr>\n",
       "      <th>23</th>\n",
       "      <td>1</td>\n",
       "      <td>535000</td>\n",
       "      <td>535000</td>\n",
       "      <td>535000.000000</td>\n",
       "    </tr>\n",
       "  </tbody>\n",
       "</table>\n",
       "</div>"
      ],
      "text/plain": [
       "       count     min      max           mean\n",
       "floor                                       \n",
       "1        178    8580   988000  105499.269663\n",
       "2        196   10500   945000  149893.520408\n",
       "3        141    9500   799000  162422.985816\n",
       "4        136   21500   750000  166738.308824\n",
       "5        131   36750  1120000  197266.969466\n",
       "6         88   35200   980000  204203.045455\n",
       "7         17  115000  1950000  427111.764706\n",
       "8          7   89000   249900  156085.714286\n",
       "11         2   55000   187162  121081.000000\n",
       "14         1  285000   285000  285000.000000\n",
       "15         1  305000   305000  305000.000000\n",
       "18         1  265000   265000  265000.000000\n",
       "19         1  399000   399000  399000.000000\n",
       "23         1  535000   535000  535000.000000"
      ]
     },
     "execution_count": 110,
     "metadata": {},
     "output_type": "execute_result"
    }
   ],
   "source": [
    "grouped_by_floor = df.groupby(by=\"floor\")['price'].agg([\"count\", \"min\", \"max\", \"mean\", ])\n",
    "grouped_by_floor"
   ]
  },
  {
   "cell_type": "code",
   "execution_count": 111,
   "metadata": {},
   "outputs": [
    {
     "data": {
      "text/plain": [
       "<Axes: >"
      ]
     },
     "execution_count": 111,
     "metadata": {},
     "output_type": "execute_result"
    },
    {
     "data": {
      "image/png": "[encoded data removed]",
      "text/plain": [
       "<Figure size 640x480 with 1 Axes>"
      ]
     },
     "metadata": {},
     "output_type": "display_data"
    }
   ],
   "source": [
    "## Let's plot price histogram for all prices\n",
    "df.price.hist(bins=100) # histogram is a way to show distribution of numerical data"
   ]
  },
  {
   "cell_type": "code",
   "execution_count": 112,
   "metadata": {},
   "outputs": [
    {
     "data": {
      "text/plain": [
       "<Axes: >"
      ]
     },
     "execution_count": 112,
     "metadata": {},
     "output_type": "execute_result"
    },
    {
     "data": {
      "image/png": "[encoded data removed]",
      "text/plain": [
       "<Figure size 640x480 with 1 Axes>"
      ]
     },
     "metadata": {},
     "output_type": "display_data"
    }
   ],
   "source": [
    "## lets plot price histogram ignoring top 5 and bottom 5 outliers\n",
    "df.price.hist(bins=100, range=(df.price.quantile(0.05),df.price.quantile(0.95)))"
   ]
  },
  {
   "cell_type": "code",
   "execution_count": null,
   "metadata": {},
   "outputs": [],
   "source": [
    "len(grouped_by_floor)"
   ]
  },
  {
   "cell_type": "code",
   "execution_count": null,
   "metadata": {},
   "outputs": [],
   "source": [
    "grouped_by_floor.hist(bins=len(grouped_by_floor))"
   ]
  },
  {
   "cell_type": "code",
   "execution_count": null,
   "metadata": {},
   "outputs": [],
   "source": [
    "grouped_by_pag = df.groupby(by=\"Pagasts\")['price'].agg([\"count\", \"min\", \"max\", \"mean\", ])\n",
    "grouped_by_pag"
   ]
  },
  {
   "cell_type": "code",
   "execution_count": null,
   "metadata": {},
   "outputs": [],
   "source": [
    "grouped_by_pag.hist()"
   ]
  },
  {
   "cell_type": "code",
   "execution_count": null,
   "metadata": {},
   "outputs": [],
   "source": [
    "grouped_by_pag.plot(x=\"Pagasts\", y=\"mean\")"
   ]
  },
  {
   "cell_type": "code",
   "execution_count": null,
   "metadata": {},
   "outputs": [],
   "source": [
    "df.to_excel(\"c:/temp/my_apartments.xlsx\") # i could this with absolute path"
   ]
  },
  {
   "cell_type": "code",
   "execution_count": 105,
   "metadata": {},
   "outputs": [
    {
     "data": {
      "text/plain": [
       "(5, 11, 20, 16)"
      ]
     },
     "execution_count": 105,
     "metadata": {},
     "output_type": "execute_result"
    }
   ],
   "source": [
    "from datetime import datetime as dt\n",
    "now = dt.now()\n",
    "now.month, now.day, now.hour, now.second"
   ]
  },
  {
   "cell_type": "code",
   "execution_count": null,
   "metadata": {},
   "outputs": [],
   "source": [
    "# url = \"https://www.ss.com/lv/real-estate/flats/riga/sarkandaugava/hand_over/\"\n",
    "url = centrs\n",
    "region = url.split(\"riga/\")[-1].split(\"/\")[0]\n",
    "now = dt.now()\n",
    "save_path = f\"../data/{region}_{now.day}_{now.month}__{now.hour}_{now.second}.xlsx\"\n",
    "save_path"
   ]
  },
  {
   "cell_type": "code",
   "execution_count": 106,
   "metadata": {},
   "outputs": [
    {
     "name": "stdout",
     "output_type": "stream",
     "text": [
      "Gathering data from https://www.ss.com/lv/real-estate/flats/riga/sarkandaugava/hand_over/\n",
      "Saving to ../data/sarkandaugava_11_5__20_28.xlsx\n"
     ]
    }
   ],
   "source": [
    "url = \"https://www.ss.com/lv/real-estate/flats/riga/sarkandaugava/hand_over/\"\n",
    "region = url.split(\"riga/\")[-1].split(\"/\")[0] # to automate the region name\n",
    "now = dt.now()\n",
    "save_path = f\"../data/{region}_{now.day}_{now.month}__{now.hour}_{now.second}.xlsx\"\n",
    "\n",
    "df = get_all_ads_df(url, save_path)"
   ]
  },
  {
   "cell_type": "code",
   "execution_count": null,
   "metadata": {},
   "outputs": [],
   "source": [
    "url = \"https://www.ss.com/lv/transport/cars/vaz/riga_f/\"\n",
    "df = get_all_ads_df(url, \"../data/vaz_18_03.xlsx\")"
   ]
  },
  {
   "attachments": {},
   "cell_type": "markdown",
   "metadata": {},
   "source": [
    "# TODO \n",
    "# Try with different starting address not only centrs\n",
    "## Maybe combine regions\n",
    "## See how it would work with maybe cars\n",
    "## Data engineering make new columns based on existing ones, clean some columns\n",
    "### Changing floors 2/6 to columns 2 and 6, clean up Euro signs\n",
    "## Sorting, Describing, Grouping by regions etc"
   ]
  },
  {
   "cell_type": "code",
   "execution_count": null,
   "metadata": {},
   "outputs": [],
   "source": [
    "df = pd.read_excel(\"centrs_10_03.xlsx\")\n",
    "df.head()"
   ]
  },
  {
   "cell_type": "code",
   "execution_count": null,
   "metadata": {},
   "outputs": [],
   "source": [
    "df.shape"
   ]
  },
  {
   "cell_type": "code",
   "execution_count": null,
   "metadata": {},
   "outputs": [],
   "source": [
    "df[\"price\"] = df.Cena.str.split(' ').str[0]\n",
    "df.head()"
   ]
  },
  {
   "cell_type": "code",
   "execution_count": null,
   "metadata": {},
   "outputs": [],
   "source": [
    "df.price = df.price.str.replace(\",\",\"\").astype('int32') # so clean string of , and then convert to integer\n",
    "df.head()"
   ]
  },
  {
   "cell_type": "code",
   "execution_count": null,
   "metadata": {},
   "outputs": [],
   "source": [
    "df.price.hist()"
   ]
  },
  {
   "cell_type": "code",
   "execution_count": null,
   "metadata": {},
   "outputs": [],
   "source": [
    "df[['Floor','MaxFloor']] = df.Stāvs.str.split(\"/\",expand=True) \n",
    "df.info()"
   ]
  },
  {
   "cell_type": "code",
   "execution_count": null,
   "metadata": {},
   "outputs": [],
   "source": [
    "#typecasting example\n",
    "df.Floor = df.Floor.astype('int32')\n",
    "df.MaxFloor = df.MaxFloor.astype('int32')"
   ]
  },
  {
   "cell_type": "code",
   "execution_count": null,
   "metadata": {},
   "outputs": [],
   "source": [
    "df.head()"
   ]
  },
  {
   "cell_type": "code",
   "execution_count": null,
   "metadata": {},
   "outputs": [],
   "source": [
    "d23 = df[df.MaxFloor > 20]\n",
    "d23"
   ]
  },
  {
   "cell_type": "code",
   "execution_count": null,
   "metadata": {},
   "outputs": [],
   "source": [
    "df.describe().T # T is for transposing rows and columns"
   ]
  },
  {
   "cell_type": "code",
   "execution_count": null,
   "metadata": {},
   "outputs": [],
   "source": [
    "df.describe().T.to_csv(\"center_stats.csv\")"
   ]
  },
  {
   "cell_type": "code",
   "execution_count": null,
   "metadata": {},
   "outputs": [],
   "source": [
    "import plotly.express as px"
   ]
  },
  {
   "cell_type": "code",
   "execution_count": null,
   "metadata": {},
   "outputs": [],
   "source": [
    "fig = px.histogram(df, x=\"price\", nbins=100)\n",
    "fig.show()"
   ]
  },
  {
   "cell_type": "code",
   "execution_count": null,
   "metadata": {},
   "outputs": [],
   "source": [
    "import seaborn as sns # seaborn sits on top of matplotlib with better defaults\n",
    "import matplotlib.pyplot as plt\n"
   ]
  },
  {
   "cell_type": "code",
   "execution_count": null,
   "metadata": {},
   "outputs": [],
   "source": [
    "df.info()"
   ]
  },
  {
   "cell_type": "code",
   "execution_count": null,
   "metadata": {},
   "outputs": [],
   "source": [
    "# Basic correlogram\n",
    "sns.pairplot(df)\n",
    "\n"
   ]
  },
  {
   "cell_type": "code",
   "execution_count": null,
   "metadata": {},
   "outputs": [],
   "source": [
    "# Basic correlogram\n",
    "sns.pairplot(df)\n",
    "\n"
   ]
  },
  {
   "cell_type": "code",
   "execution_count": null,
   "metadata": {},
   "outputs": [],
   "source": [
    "volvo_url = \"https://www.ss.com/lv/transport/cars/volvo/sell/\"\n",
    "volvos = get_all_ads_df(volvo_url, \"../data/volvo_03_18.xlsx\")"
   ]
  },
  {
   "cell_type": "code",
   "execution_count": null,
   "metadata": {},
   "outputs": [],
   "source": [
    "volvos = pd.read_excel(\"volvo_270921.xlsx\")\n",
    "volvos.head()"
   ]
  },
  {
   "cell_type": "code",
   "execution_count": null,
   "metadata": {},
   "outputs": [],
   "source": [
    "volvos.shape"
   ]
  },
  {
   "cell_type": "code",
   "execution_count": null,
   "metadata": {},
   "outputs": [],
   "source": [
    "volvos.head(10)"
   ]
  },
  {
   "cell_type": "code",
   "execution_count": null,
   "metadata": {},
   "outputs": [],
   "source": [
    "gr_auto['Price'] = "
   ]
  },
  {
   "cell_type": "code",
   "execution_count": null,
   "metadata": {},
   "outputs": [],
   "source": [
    "volvos[\"price\"] = volvos.Cena.str.split(' ').str[0]\n",
    "volvos.price = volvos.price.str.replace(\",\",\"\").astype('int32')\n",
    "volvos.head()"
   ]
  },
  {
   "cell_type": "code",
   "execution_count": null,
   "metadata": {},
   "outputs": [],
   "source": [
    "\n",
    "gr_auto = volvos.groupby([\"Gads\",\"Modelis\"])[\"price\"].agg([\"count\", \"min\", \"max\", \"mean\", ])  #.head(n = 10)\n",
    "gr_auto"
   ]
  },
  {
   "cell_type": "code",
   "execution_count": null,
   "metadata": {},
   "outputs": [],
   "source": [
    "gr_auto.loc[gr_auto.index.get_level_values(0).str.contains(\"2015\")] # how to filter multi level index"
   ]
  },
  {
   "cell_type": "code",
   "execution_count": null,
   "metadata": {},
   "outputs": [],
   "source": [
    "gr_auto.loc[gr_auto.index.get_level_values(1).str.contains(\"S60\")]"
   ]
  },
  {
   "cell_type": "code",
   "execution_count": null,
   "metadata": {},
   "outputs": [],
   "source": [
    "gr_auto.loc[gr_auto.index.get_level_values(1).str.contains(\"S60\")].to_excel(\"S60.xlsx\")"
   ]
  },
  {
   "cell_type": "code",
   "execution_count": null,
   "metadata": {},
   "outputs": [],
   "source": [
    "print(dt.today())"
   ]
  },
  {
   "cell_type": "code",
   "execution_count": null,
   "metadata": {},
   "outputs": [],
   "source": [
    "suzuki_url = \"https://www.ss.com/lv/transport/cars/suzuki/\"\n",
    "# sdf = get_all_ads_df(suzuki_url, f\"suzuki_{dt.today()}.xlsx\")\n",
    "sdf = get_all_ads_df(suzuki_url, f\"suzuki.xlsx\")\n",
    "sdf.head()"
   ]
  },
  {
   "cell_type": "code",
   "execution_count": null,
   "metadata": {},
   "outputs": [],
   "source": [
    "sdf.info()"
   ]
  },
  {
   "cell_type": "code",
   "execution_count": null,
   "metadata": {},
   "outputs": [],
   "source": [
    "sdf[\"Tilp.\"] = sdf[\"Tilp.\"].str.replace(\"\\w\",\"\", regex=True)\n",
    "sdf.head()"
   ]
  },
  {
   "cell_type": "code",
   "execution_count": null,
   "metadata": {},
   "outputs": [],
   "source": [
    "sdf[\"Nobrauk.\"] = sdf[\"Nobrauk.\"].str.replace(\"\\D\",\"\", regex=True) # so no digits removed\n",
    "sdf.head()"
   ]
  },
  {
   "cell_type": "code",
   "execution_count": null,
   "metadata": {},
   "outputs": [],
   "source": [
    "sdf[\"Cena\"] = sdf[\"Cena\"].str.replace(\"\\D\",\"\", regex=True) # so no digits removed\n",
    "sdf.head()"
   ]
  },
  {
   "cell_type": "code",
   "execution_count": null,
   "metadata": {},
   "outputs": [],
   "source": [
    "sdf = sdf.dropna(how=\"any\", axis=0)\n",
    "sdf"
   ]
  },
  {
   "cell_type": "code",
   "execution_count": null,
   "metadata": {},
   "outputs": [],
   "source": [
    "sdf = sdf[sdf[\"Nobrauk.\"].str.len() > 0] # got rid of those empty rows finally\n",
    "sdf"
   ]
  },
  {
   "cell_type": "code",
   "execution_count": null,
   "metadata": {},
   "outputs": [],
   "source": []
  },
  {
   "cell_type": "code",
   "execution_count": null,
   "metadata": {},
   "outputs": [],
   "source": [
    "sdf[\"Cena\"] = sdf[\"Cena\"].astype(\"float32\")"
   ]
  },
  {
   "cell_type": "code",
   "execution_count": null,
   "metadata": {},
   "outputs": [],
   "source": [
    "gr_auto = sdf.groupby([\"Gads\",\"Modelis\"])[\"Cena\"].agg([\"count\",\"min\", \"max\", \"mean\"]) \n",
    "gr_auto"
   ]
  },
  {
   "cell_type": "code",
   "execution_count": null,
   "metadata": {},
   "outputs": [],
   "source": []
  }
 ],
 "metadata": {
  "kernelspec": {
   "display_name": "my_virtual_env",
   "language": "python",
   "name": "python3"
  },
  "language_info": {
   "codemirror_mode": {
    "name": "ipython",
    "version": 3
   },
   "file_extension": ".py",
   "mimetype": "text/x-python",
   "name": "python",
   "nbconvert_exporter": "python",
   "pygments_lexer": "ipython3",
   "version": "3.11.4"
  }
 },
 "nbformat": 4,
 "nbformat_minor": 4
}
