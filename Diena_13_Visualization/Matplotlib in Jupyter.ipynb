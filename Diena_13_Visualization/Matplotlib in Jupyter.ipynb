{
 "cells": [
  {
   "cell_type": "code",
   "execution_count": null,
   "metadata": {},
   "outputs": [],
   "source": [
    "# Using MatplotLib in Jupyter\n",
    "# https://matplotlib.org/3.1.1/tutorials/index.html"
   ]
  },
  {
   "attachments": {},
   "cell_type": "markdown",
   "metadata": {},
   "source": []
  },
  {
   "attachments": {},
   "cell_type": "markdown",
   "metadata": {},
   "source": [
    "# Jupyter Notebooks\n",
    "\n",
    "A way to combine code and text\n",
    "\n",
    "## second level headline\n",
    "\n",
    "* bullet points\n",
    "* more bullets\n",
    "\n",
    "1. numbered list\n",
    "2. numbere list again\n",
    "\n",
    "![Jupyter](https://jupyter.org/assets/homepage/main-logo.svg)\n",
    "\n",
    "More on markdown: [Github Markdown guide](https://docs.github.com/en/get-started/writing-on-github/getting-started-with-writing-and-formatting-on-github/basic-writing-and-formatting-syntax)\n"
   ]
  },
  {
   "cell_type": "code",
   "execution_count": 1,
   "metadata": {},
   "outputs": [],
   "source": [
    "# import requests \n",
    "\n",
    "import matplotlib.pyplot as plt # Anaconda includes matplotlib\n",
    "\n",
    "from collections import Counter"
   ]
  },
  {
   "cell_type": "code",
   "execution_count": 2,
   "metadata": {},
   "outputs": [
    {
     "name": "stdout",
     "output_type": "stream",
     "text": [
      "I can run many cells at once, just select and run\n"
     ]
    }
   ],
   "source": [
    "print(\"I can run many cells at once, just select and run\")"
   ]
  },
  {
   "cell_type": "code",
   "execution_count": 3,
   "metadata": {},
   "outputs": [
    {
     "name": "stdout",
     "output_type": "stream",
     "text": [
      "5\n"
     ]
    }
   ],
   "source": [
    "a = 5\n",
    "print(a)"
   ]
  },
  {
   "cell_type": "code",
   "execution_count": 6,
   "metadata": {},
   "outputs": [
    {
     "data": {
      "text/plain": [
       "5"
      ]
     },
     "execution_count": 6,
     "metadata": {},
     "output_type": "execute_result"
    }
   ],
   "source": [
    "a"
   ]
  },
  {
   "cell_type": "code",
   "execution_count": 23,
   "metadata": {},
   "outputs": [
    {
     "data": {
      "text/plain": [
       "22"
      ]
     },
     "execution_count": 23,
     "metadata": {},
     "output_type": "execute_result"
    }
   ],
   "source": [
    "a += 1\n",
    "a"
   ]
  },
  {
   "cell_type": "code",
   "execution_count": 4,
   "metadata": {},
   "outputs": [
    {
     "data": {
      "image/png": "[encoded data removed]",
      "text/plain": [
       "<Figure size 640x480 with 1 Axes>"
      ]
     },
     "metadata": {},
     "output_type": "display_data"
    }
   ],
   "source": [
    "# fig = plt.figure()\n",
    "\n",
    "x = list(range(11))\n",
    "y = [n**2 for n in x]\n",
    "y2 = [n+5 for n in y]\n",
    "y3 = [n*1.5+35 for n in y]\n",
    "plt.bar(x, y)\n",
    "plt.plot(x, y2)\n",
    "plt.scatter(x, y3)\n",
    "# lets use current date for file name\n",
    "import datetime\n",
    "now = datetime.datetime.now()\n",
    "plt.savefig(\"../data/squares_\"+now.strftime(\"%b%d\")+\".png\")\n",
    "# plt.savefig(\"../data/squares_jun27.png\")\n",
    "\n",
    "plt.show()"
   ]
  },
  {
   "cell_type": "code",
   "execution_count": null,
   "metadata": {},
   "outputs": [],
   "source": [
    "print(\"shift-tab brings docstring\") # shift-tab for docstring help\n",
    "# regular tab brings code completion and suggestion"
   ]
  },
  {
   "attachments": {},
   "cell_type": "markdown",
   "metadata": {},
   "source": []
  },
  {
   "cell_type": "code",
   "execution_count": 26,
   "metadata": {},
   "outputs": [],
   "source": [
    "my_name = \"Valdis\"\n",
    "my_number = 42"
   ]
  },
  {
   "cell_type": "code",
   "execution_count": 27,
   "metadata": {},
   "outputs": [
    {
     "data": {
      "text/plain": [
       "42"
      ]
     },
     "execution_count": 27,
     "metadata": {},
     "output_type": "execute_result"
    }
   ],
   "source": [
    "my_number"
   ]
  },
  {
   "cell_type": "code",
   "execution_count": 28,
   "metadata": {},
   "outputs": [],
   "source": [
    "my_counter = 0"
   ]
  },
  {
   "cell_type": "code",
   "execution_count": 53,
   "metadata": {},
   "outputs": [
    {
     "name": "stdout",
     "output_type": "stream",
     "text": [
      "25\n"
     ]
    },
    {
     "data": {
      "text/plain": [
       "25"
      ]
     },
     "execution_count": 53,
     "metadata": {},
     "output_type": "execute_result"
    }
   ],
   "source": [
    "my_counter += 1\n",
    "print(my_counter)  # print to screen\n",
    "my_counter  # lazy without print output last line result"
   ]
  },
  {
   "cell_type": "code",
   "execution_count": 54,
   "metadata": {},
   "outputs": [
    {
     "data": {
      "text/plain": [
       "list"
      ]
     },
     "execution_count": 54,
     "metadata": {},
     "output_type": "execute_result"
    }
   ],
   "source": [
    "type(x)"
   ]
  },
  {
   "cell_type": "code",
   "execution_count": 55,
   "metadata": {},
   "outputs": [
    {
     "data": {
      "text/plain": [
       "[0, 1, 2, 3, 4, 5, 6, 7, 8, 9, 10]"
      ]
     },
     "execution_count": 55,
     "metadata": {},
     "output_type": "execute_result"
    }
   ],
   "source": [
    "x"
   ]
  },
  {
   "cell_type": "code",
   "execution_count": null,
   "metadata": {},
   "outputs": [],
   "source": [
    "# we can press some object and dot . and we will see the methods for that object"
   ]
  },
  {
   "cell_type": "code",
   "execution_count": null,
   "metadata": {},
   "outputs": [],
   "source": [
    "some_variable = 535252555"
   ]
  },
  {
   "cell_type": "code",
   "execution_count": null,
   "metadata": {},
   "outputs": [],
   "source": [
    "# press tab for tab completion start with som and then press\n",
    "some_variable\n"
   ]
  },
  {
   "cell_type": "code",
   "execution_count": 56,
   "metadata": {},
   "outputs": [
    {
     "name": "stdout",
     "output_type": "stream",
     "text": [
      "Python 3.9.7\n"
     ]
    }
   ],
   "source": [
    "!python --version #notice by ! we can run terminal commands in jupyter"
   ]
  },
  {
   "cell_type": "code",
   "execution_count": 57,
   "metadata": {},
   "outputs": [
    {
     "name": "stdout",
     "output_type": "stream",
     "text": [
      " Volume in drive C has no label.\n",
      " Volume Serial Number is 3E61-0D96\n",
      "\n",
      " Directory of C:\\Users\\val-wd\\Github\\Python_RTU_08_20\\Diena_13_Visualization\n",
      "\n",
      "06/27/2022  06:35 PM    <DIR>          .\n",
      "06/27/2022  06:35 PM    <DIR>          ..\n",
      "06/22/2022  08:51 PM    <DIR>          .ipynb_checkpoints\n",
      "10/22/2021  02:53 PM            29,598 A17_Uzd1.ipynb\n",
      "05/20/2021  04:27 PM             1,787 ARCGIS.ipynb\n",
      "05/09/2022  11:25 AM                 0 basics.txt\n",
      "04/05/2022  05:53 PM            95,474 country_gdp.xlsx\n",
      "10/22/2021  02:53 PM         3,616,513 d13_a16_u1.ipynb\n",
      "05/20/2021  04:27 PM               590 d13_f1_u1.py\n",
      "05/20/2021  04:27 PM               469 d13_g1_u1.py\n",
      "05/20/2021  04:27 PM            21,416 D13_g2_u1.ipynb\n",
      "05/20/2021  04:27 PM               298 d13_g2_u1.py\n",
      "05/20/2021  04:27 PM            17,262 D13_g2_u1b.ipynb\n",
      "10/22/2021  02:53 PM           104,457 d13_g2_u2.ipynb\n",
      "05/20/2021  04:27 PM         3,632,617 d13_g3_u1.ipynb\n",
      "05/09/2022  08:48 PM            35,545 d13_m28_u1.ipynb\n",
      "05/09/2022  08:40 PM               561 d13_m28_u1.py\n",
      "05/10/2022  08:38 PM            10,176 d13_m29_u1.ipynb\n",
      "05/10/2022  08:35 PM               913 d13_m29_u1.py\n",
      "06/22/2022  08:38 PM             1,264 d13_m30_u1.py\n",
      "11/05/2021  03:31 PM               543 d13_s27_u1.py\n",
      "04/05/2022  05:53 PM               347 d13_s28_u1.py\n",
      "05/20/2021  04:27 PM         3,741,751 d13_uzd2_VM.ipynb\n",
      "06/22/2022  08:45 PM            47,832 Day 13 S27 U1.ipynb\n",
      "06/22/2022  08:53 PM           108,164 Day 13 S28 U2.ipynb\n",
      "11/05/2021  03:31 PM            97,394 Day 13 Uzd 2 S27.ipynb\n",
      "04/05/2022  05:53 PM            42,984 Day13 S28 Group.ipynb\n",
      "06/22/2022  08:51 PM         3,808,215 Diena13_Uzd1_M30.ipynb\n",
      "05/20/2021  04:27 PM             2,143 Interact.ipynb\n",
      "05/20/2021  04:27 PM               756 Jan21Notebook.ipynb\n",
      "10/11/2020  08:44 PM               742 JaunsFails.ipynb\n",
      "10/11/2020  08:44 PM             2,277 Jupyter Group 1.ipynb\n",
      "06/22/2022  08:25 PM            29,271 Jupyter Introduction.ipynb\n",
      "05/20/2021  04:27 PM               659 Jupyter Introduction.py\n",
      "11/05/2021  03:31 PM         3,619,314 KD1_Raivis_S.ipynb\n",
      "11/05/2021  03:31 PM         3,811,094 KD2_Raivis_S.ipynb\n",
      "05/09/2022  08:38 PM         4,242,574 Klases_darbs_vizualizaacija.ipynb\n",
      "05/09/2022  07:06 PM            24,270 lu.csv\n",
      "05/10/2022  06:55 PM           206,145 Matlplotlib Full Example.ipynb\n",
      "06/27/2022  06:12 PM               846 matplot.py\n",
      "06/27/2022  06:35 PM            17,713 Matplotlib in Jupyter.ipynb\n",
      "05/20/2021  04:27 PM             4,078 mat_full.py\n",
      "10/22/2021  02:53 PM             6,069 monthly_stats.xlsx\n",
      "05/20/2021  04:27 PM         3,695,330 MyPracticeMar15.ipynb\n",
      "10/22/2021  02:53 PM            90,743 Nerezidenti.ipynb\n",
      "10/22/2021  02:53 PM           104,424 nonresidents_2020.xlsx\n",
      "04/05/2022  05:53 PM         3,917,443 Plotly Example.ipynb\n",
      "10/11/2020  08:44 PM    <DIR>          random\n",
      "05/20/2021  04:27 PM            15,052 Random Dice.ipynb\n",
      "10/22/2021  02:53 PM             8,237 Random_Dice_Sep24.ipynb\n",
      "10/22/2021  02:53 PM               154 random_example.py\n",
      "05/10/2022  07:25 PM         7,874,273 Reading Data with Pandas.ipynb\n",
      "05/20/2021  04:27 PM            12,798 RTU_Python_21_Jan_Dice_roll.ipynb\n",
      "10/11/2020  08:44 PM            17,562 simplegraph.png\n",
      "10/11/2020  08:44 PM                87 stack.py\n",
      "05/09/2022  08:57 PM           101,117 Travelers_Cesis.ipynb\n",
      "06/22/2022  06:42 PM                72 Untitled.ipynb\n",
      "05/20/2021  04:27 PM         3,672,473 Uzd1_g2.ipynb\n",
      "10/11/2020  08:44 PM               608 uzd1_g2.py\n",
      "10/11/2020  08:44 PM               369 uzd1_g2b.py\n",
      "10/11/2020  08:44 PM             1,108 uzd1_g2c.py\n",
      "05/20/2021  04:27 PM         5,527,436 Uzd1_group1_n16.ipynb\n",
      "05/20/2021  04:27 PM           123,921 Uzd2_g1_n16.ipynb\n",
      "              59 File(s)     52,547,328 bytes\n",
      "               4 Dir(s)  60,792,426,496 bytes free\n"
     ]
    }
   ],
   "source": [
    "!dir\n",
    " # any regular os command will work"
   ]
  },
  {
   "cell_type": "code",
   "execution_count": null,
   "metadata": {},
   "outputs": [],
   "source": [
    "# Notice not interactive by default in Jupyter?"
   ]
  },
  {
   "cell_type": "code",
   "execution_count": null,
   "metadata": {},
   "outputs": [],
   "source": [
    "plt.show() # nothing happens in new cell,we need a new figure"
   ]
  },
  {
   "cell_type": "code",
   "execution_count": null,
   "metadata": {
    "scrolled": true
   },
   "outputs": [],
   "source": [
    "# fig = plt.figure()\n",
    "\n",
    "x = list(range(11))\n",
    "y = [n**3 for n in x]\n",
    "y2 = [n+5 for n in y]\n",
    "y3 = [n+15 for n in y]\n",
    "plt.bar(x, y)\n",
    "plt.plot(x, y2)\n",
    "plt.scatter(x, y3)\n",
    "plt.savefig(\"../data/cubes.jpg\")\n",
    "\n",
    "plt.show()"
   ]
  },
  {
   "cell_type": "code",
   "execution_count": 5,
   "metadata": {},
   "outputs": [
    {
     "data": {
      "image/png": "[encoded data removed]",
      "text/plain": [
       "<Figure size 640x480 with 1 Axes>"
      ]
     },
     "metadata": {},
     "output_type": "display_data"
    }
   ],
   "source": [
    "plt.plot(list(\"kartupelis\"), y2[:10]) # kartupelis has 10 letters so we needed y axis also to have 10 values\n",
    "plt.show()"
   ]
  },
  {
   "cell_type": "code",
   "execution_count": null,
   "metadata": {},
   "outputs": [],
   "source": []
  }
 ],
 "metadata": {
  "kernelspec": {
   "display_name": "Python 3 (ipykernel)",
   "language": "python",
   "name": "python3"
  },
  "language_info": {
   "codemirror_mode": {
    "name": "ipython",
    "version": 3
   },
   "file_extension": ".py",
   "mimetype": "text/x-python",
   "name": "python",
   "nbconvert_exporter": "python",
   "pygments_lexer": "ipython3",
   "version": "3.11.3"
  }
 },
 "nbformat": 4,
 "nbformat_minor": 2
}
