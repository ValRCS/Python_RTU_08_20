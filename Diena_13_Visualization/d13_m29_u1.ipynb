{
 "cells": [
  {
   "cell_type": "code",
   "execution_count": 1,
   "id": "188c0bc0",
   "metadata": {},
   "outputs": [
    {
     "name": "stderr",
     "output_type": "stream",
     "text": [
      "100%|██████████| 1000000/1000000 [00:09<00:00, 105370.47it/s]\n"
     ]
    },
    {
     "data": {
      "image/png": "[encoded data removed]",
      "text/plain": [
       "<Figure size 432x288 with 1 Axes>"
      ]
     },
     "metadata": {
      "needs_background": "light"
     },
     "output_type": "display_data"
    }
   ],
   "source": [
    "import random\n",
    "from collections import Counter\n",
    "from tqdm import tqdm # tqdm: A Fast, Extensible Progress Bar for Python\n",
    "from matplotlib import pyplot as plt\n",
    " \n",
    "shots = 1_000_000\n",
    "throws = 6\n",
    "result=[]\n",
    "for i in tqdm(range(shots)): # so i can use tqdm on any iterable\n",
    "    sum=0\n",
    "    for j in range(throws):\n",
    "        sum += random.randint(1,6)\n",
    "    result.append(sum)\n",
    "count=Counter(result)\n",
    " \n",
    "plt.bar(count.keys(), count.values())\n",
    "plt.ylabel(\"Shots\")\n",
    "plt.title(\"Sum of six shots\")\n",
    "plt.show()"
   ]
  },
  {
   "cell_type": "code",
   "execution_count": 2,
   "id": "a0062b9e",
   "metadata": {},
   "outputs": [
    {
     "name": "stderr",
     "output_type": "stream",
     "text": [
      "100%|██████████| 10000000/10000000 [00:04<00:00, 2372166.38it/s]\n"
     ]
    },
    {
     "data": {
      "text/plain": [
       "10000000"
      ]
     },
     "execution_count": 2,
     "metadata": {},
     "output_type": "execute_result"
    }
   ],
   "source": [
    "cnt = 0\n",
    "for _ in tqdm(range(10_000_000)):\n",
    "    cnt+=1\n",
    "cnt"
   ]
  }
 ],
 "metadata": {
  "kernelspec": {
   "display_name": "Python 3 (ipykernel)",
   "language": "python",
   "name": "python3"
  },
  "language_info": {
   "codemirror_mode": {
    "name": "ipython",
    "version": 3
   },
   "file_extension": ".py",
   "mimetype": "text/x-python",
   "name": "python",
   "nbconvert_exporter": "python",
   "pygments_lexer": "ipython3",
   "version": "3.9.7"
  }
 },
 "nbformat": 4,
 "nbformat_minor": 5
}
