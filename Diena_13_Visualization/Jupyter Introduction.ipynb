{
  "cells": [
    {
      "cell_type": "markdown",
      "metadata": {
        "id": "rWMC40GRS695"
      },
      "source": [
        "# Introduction Jupyter Notebooks\n",
        "\n",
        "## Instructions \n",
        "\n",
        "* How to print \n",
        "* How to show last line output\n",
        "* Variables\n",
        "* Arithmethic\n",
        "\n",
        "![Logo](https://upload.wikimedia.org/wikipedia/commons/3/38/Jupyter_logo.svg)"
      ]
    },
    {
      "cell_type": "markdown",
      "metadata": {
        "id": "cB-L_yVrS69-"
      },
      "source": [
        "## How to write markdown\n",
        "\n",
        "* [Simple Markdown](https://docs.github.com/en/get-started/writing-on-github/getting-started-with-writing-and-formatting-on-github/basic-writing-and-formatting-syntax)"
      ]
    },
    {
      "cell_type": "code",
      "execution_count": null,
      "metadata": {
        "id": "itfVfUZGS69_",
        "outputId": "3e80d1a0-8e10-4085-828c-87bf43251ab8"
      },
      "outputs": [
        {
          "name": "stdout",
          "output_type": "stream",
          "text": [
            "Python 3.11.3\n"
          ]
        }
      ],
      "source": [
        "!python --version"
      ]
    },
    {
      "cell_type": "code",
      "execution_count": null,
      "metadata": {
        "id": "q5e1Q6azS6-B"
      },
      "outputs": [],
      "source": [
        "from datetime import datetime # remember datetime had that double module\n",
        "import os\n",
        "import sys"
      ]
    },
    {
      "cell_type": "code",
      "execution_count": null,
      "metadata": {
        "id": "uZppKm8fS6-C",
        "outputId": "b2177eda-aa8c-49d1-a903-b8d02253ac4c"
      },
      "outputs": [
        {
          "name": "stdout",
          "output_type": "stream",
          "text": [
            "d:\\Github\\Python_RTU_08_20\\Diena_13_Visualization\n"
          ]
        }
      ],
      "source": [
        "print(os.getcwd())"
      ]
    },
    {
      "cell_type": "code",
      "execution_count": null,
      "metadata": {
        "id": "Ouqd7jXuS6-E",
        "outputId": "09c2cbb0-cb05-47fc-87ea-069b4f5c2a2e"
      },
      "outputs": [
        {
          "name": "stdout",
          "output_type": "stream",
          "text": [
            "['C:\\\\Users\\\\val-wd\\\\Github\\\\Python_RTU_08_20\\\\Diena_13_Visualization', 'C:\\\\Users\\\\val-wd\\\\anaconda3\\\\python39.zip', 'C:\\\\Users\\\\val-wd\\\\anaconda3\\\\DLLs', 'C:\\\\Users\\\\val-wd\\\\anaconda3\\\\lib', 'C:\\\\Users\\\\val-wd\\\\anaconda3', '', 'C:\\\\Users\\\\val-wd\\\\AppData\\\\Roaming\\\\Python\\\\Python39\\\\site-packages', 'C:\\\\Users\\\\val-wd\\\\anaconda3\\\\lib\\\\site-packages', 'C:\\\\Users\\\\val-wd\\\\anaconda3\\\\lib\\\\site-packages\\\\locket-0.2.1-py3.9.egg', 'C:\\\\Users\\\\val-wd\\\\anaconda3\\\\lib\\\\site-packages\\\\win32', 'C:\\\\Users\\\\val-wd\\\\anaconda3\\\\lib\\\\site-packages\\\\win32\\\\lib', 'C:\\\\Users\\\\val-wd\\\\anaconda3\\\\lib\\\\site-packages\\\\Pythonwin', 'C:\\\\Users\\\\val-wd\\\\anaconda3\\\\lib\\\\site-packages\\\\IPython\\\\extensions', 'C:\\\\Users\\\\val-wd\\\\.ipython']\n"
          ]
        }
      ],
      "source": [
        "print(sys.path)"
      ]
    },
    {
      "cell_type": "code",
      "execution_count": null,
      "metadata": {
        "scrolled": false,
        "id": "MmXCT630S6-K",
        "outputId": "142ea0d0-f502-48d1-e3c1-2d0aaee45d15"
      },
      "outputs": [
        {
          "name": "stdout",
          "output_type": "stream",
          "text": [
            "Hello Jupyter Notebooks\n",
            "2023-05-09 18:39:39.322273\n"
          ]
        }
      ],
      "source": [
        "print(\"Hello Jupyter Notebooks\")\n",
        "print(datetime.now())"
      ]
    },
    {
      "cell_type": "code",
      "execution_count": null,
      "metadata": {
        "id": "zCB3JAThS6-M",
        "outputId": "79c61b1e-7424-4159-e892-f90b3eefd8ac"
      },
      "outputs": [
        {
          "data": {
            "text/plain": [
              "'Just test directly'"
            ]
          },
          "execution_count": 5,
          "metadata": {},
          "output_type": "execute_result"
        }
      ],
      "source": [
        "\"This line will be executed but not shown\"\n",
        "\"Just test directly\" # for the lazy in us the last line is printed "
      ]
    },
    {
      "cell_type": "markdown",
      "metadata": {
        "id": "PhZGsgqhS6-O"
      },
      "source": [
        "## Python Variables in Jupyter Notebooks\n",
        "\n",
        "Python variables are created with an equals sign. Variables can be strings, numbers, or booleans. \n",
        "\n"
      ]
    },
    {
      "cell_type": "code",
      "execution_count": 1,
      "metadata": {
        "id": "1xqvQofCS6-P",
        "outputId": "ae6bc9a3-a763-4a18-aff4-17605038bc44",
        "colab": {
          "base_uri": "https://localhost:8080/"
        }
      },
      "outputs": [
        {
          "output_type": "execute_result",
          "data": {
            "text/plain": [
              "33"
            ]
          },
          "metadata": {},
          "execution_count": 1
        }
      ],
      "source": [
        "a = 65\n",
        "b = 33\n",
        "a # this will not be shown without print\n",
        "b # last line will be shown"
      ]
    },
    {
      "cell_type": "code",
      "execution_count": null,
      "metadata": {
        "id": "TlaIx-bpS6-R"
      },
      "outputs": [],
      "source": [
        "c = a + b"
      ]
    },
    {
      "cell_type": "code",
      "execution_count": null,
      "metadata": {
        "id": "_LT1V70dS6-R",
        "outputId": "173f79dc-5c56-4963-d4bc-ed98118c9637"
      },
      "outputs": [
        {
          "name": "stdout",
          "output_type": "stream",
          "text": [
            "Value of c is 10198\n"
          ]
        }
      ],
      "source": [
        "c += 10_000\n",
        "print(f\"Value of c is {c}\")"
      ]
    },
    {
      "cell_type": "code",
      "execution_count": null,
      "metadata": {
        "id": "7MK-ci2kS6-S",
        "outputId": "f8d4660f-21b6-4353-94ff-afc696efefe9"
      },
      "outputs": [
        {
          "name": "stdout",
          "output_type": "stream",
          "text": [
            "a and b will be in our kernel memory if we run the above cell first!!\n",
            "Something\n",
            "65\n",
            "33\n"
          ]
        },
        {
          "data": {
            "text/plain": [
              "33"
            ]
          },
          "execution_count": 19,
          "metadata": {},
          "output_type": "execute_result"
        }
      ],
      "source": [
        "print(\"a and b will be in our kernel memory if we run the above cell first!!\")\n",
        "print(\"Something\")\n",
        "print(a)\n",
        "print(b)\n",
        "b  # lazy prints int output without print"
      ]
    },
    {
      "cell_type": "code",
      "execution_count": null,
      "metadata": {
        "id": "LWS3CMZrS6-U"
      },
      "outputs": [],
      "source": [
        "b = 150 # so Jupyter notebooks can be executed with cells out of order"
      ]
    },
    {
      "cell_type": "code",
      "execution_count": null,
      "metadata": {
        "id": "lAAR_WbTS6-V",
        "outputId": "3ee98127-394c-4c50-d83a-c1eefb95bd59"
      },
      "outputs": [
        {
          "data": {
            "text/plain": [
              "(4, 25, False, True)"
            ]
          },
          "execution_count": 21,
          "metadata": {},
          "output_type": "execute_result"
        }
      ],
      "source": [
        "2+2, 5**2, True and False, False or True"
      ]
    },
    {
      "cell_type": "code",
      "execution_count": null,
      "metadata": {
        "id": "HXj4bi97S6-b",
        "outputId": "0be26704-72e1-4abd-8182-26521344face"
      },
      "outputs": [
        {
          "name": "stdout",
          "output_type": "stream",
          "text": [
            "My name is Valdis\n"
          ]
        }
      ],
      "source": [
        "name = \"Valdis\"\n",
        "print(f\"My name is {name}\")"
      ]
    },
    {
      "cell_type": "code",
      "execution_count": null,
      "metadata": {
        "id": "qGXINhYMS6-g"
      },
      "outputs": [],
      "source": []
    },
    {
      "cell_type": "code",
      "execution_count": null,
      "metadata": {
        "id": "wBZG6y6ES6-i",
        "outputId": "9acd0d16-884a-40ab-cdb9-1639955bc486"
      },
      "outputs": [
        {
          "name": "stdout",
          "output_type": "stream",
          "text": [
            "Valdis 65\n"
          ]
        }
      ],
      "source": [
        "print(name, a) \n",
        "# as soon as cell is run, the contents are available in the notebook"
      ]
    },
    {
      "cell_type": "code",
      "execution_count": null,
      "metadata": {
        "id": "TMTlURs3S6-l"
      },
      "outputs": [],
      "source": [
        "# one confusing thing about Jupyter Notebooks\n",
        "# you can run cells out of order\n",
        "c = 77"
      ]
    },
    {
      "cell_type": "code",
      "execution_count": null,
      "metadata": {
        "scrolled": true,
        "id": "TFH5f0ipS6-o",
        "outputId": "347a861d-94c6-48a3-84b9-0d6420148509"
      },
      "outputs": [
        {
          "data": {
            "text/plain": [
              "77"
            ]
          },
          "execution_count": 13,
          "metadata": {},
          "output_type": "execute_result"
        }
      ],
      "source": [
        "c # it would be nicer to call in top down manner"
      ]
    },
    {
      "cell_type": "code",
      "execution_count": null,
      "metadata": {
        "id": "mp1VSuvGS6-q",
        "outputId": "7a7c7055-ff30-4cb5-a689-6fa1304a534f"
      },
      "outputs": [
        {
          "name": "stdout",
          "output_type": "stream",
          "text": [
            "Valdy\n"
          ]
        }
      ],
      "source": [
        "name = \"Valdy\"\n",
        "\n",
        "print(name)"
      ]
    },
    {
      "cell_type": "code",
      "execution_count": null,
      "metadata": {
        "id": "2KJJdujWS6-r"
      },
      "outputs": [],
      "source": [
        "cnt = 0"
      ]
    },
    {
      "cell_type": "code",
      "execution_count": null,
      "metadata": {
        "id": "osrq_Vm8S6-r",
        "outputId": "365287ea-e1a6-4b2b-b2a1-2b6555b1e426"
      },
      "outputs": [
        {
          "data": {
            "text/plain": [
              "10"
            ]
          },
          "execution_count": 36,
          "metadata": {},
          "output_type": "execute_result"
        }
      ],
      "source": [
        "cnt += 1 # I can run this cell multiple times and cnt will be incremented\n",
        "cnt"
      ]
    },
    {
      "cell_type": "code",
      "execution_count": null,
      "metadata": {
        "id": "4CqSFtl2S6-s",
        "outputId": "0e7fc701-30b7-421f-8516-985ed1a00633"
      },
      "outputs": [
        {
          "name": "stdout",
          "output_type": "stream",
          "text": [
            "Valdis\n"
          ]
        }
      ],
      "source": [
        "print(name)"
      ]
    },
    {
      "cell_type": "code",
      "execution_count": null,
      "metadata": {
        "id": "HuVo1ERDS6-t",
        "outputId": "e4c57821-df8c-43c6-9610-2952c2b3e60b"
      },
      "outputs": [
        {
          "name": "stdout",
          "output_type": "stream",
          "text": [
            "let's run this for the time:  27\n"
          ]
        }
      ],
      "source": [
        "# Shift-Enter\n",
        "# : run cell, select below\n",
        "# Ctrl-Enter\n",
        "# : run selected cells\n",
        "# Alt-Enter\n",
        "# : run cell and insert below\n",
        "cnt += 1\n",
        "print(\"let's run this for the time: \", cnt)"
      ]
    },
    {
      "cell_type": "code",
      "execution_count": null,
      "metadata": {
        "id": "XA_BUiJMS6-t",
        "outputId": "7fa597db-a280-4c77-8fd7-22dc4163e581"
      },
      "outputs": [
        {
          "name": "stdout",
          "output_type": "stream",
          "text": [
            "My name is still Valdis\n"
          ]
        }
      ],
      "source": [
        "name = \"Valdis\"\n",
        "\n",
        "print(f\"My name is still {name}\")\n",
        "\n",
        "### End of Introduction"
      ]
    },
    {
      "cell_type": "markdown",
      "metadata": {
        "id": "jL6gL4vAS6-u"
      },
      "source": [
        "## Executing Shell Commands in Jupyter\n",
        "\n",
        "Shell commands can be executed in Jupyter by using the exclamation mark. \n",
        "\n",
        "```python\n",
        "!pip install pandas\n",
        "```\n",
        "\n",
        "Above command will install pandas library - popular data analysis library."
      ]
    },
    {
      "cell_type": "code",
      "execution_count": null,
      "metadata": {
        "id": "EMV3BB-sS6-u",
        "outputId": "ea6b6b2b-aea0-4163-8d2d-fe881fef58dd"
      },
      "outputs": [
        {
          "name": "stdout",
          "output_type": "stream",
          "text": [
            " Volume in drive D is Data\n",
            " Volume Serial Number is 72A3-8E69\n",
            "\n",
            " Directory of d:\\Github\\Python_RTU_08_20\\Diena_13_Visualization\n",
            "\n",
            "\n",
            " Directory of d:\\Github\\Python_RTU_08_20\\Diena_13_Visualization\n",
            "\n",
            "\n",
            " Directory of d:\\Github\\Python_RTU_08_20\\Diena_13_Visualization\n",
            "\n",
            "\n",
            " Directory of d:\\Github\\Python_RTU_08_20\\Diena_13_Visualization\n",
            "\n",
            "\n",
            " Directory of d:\\Github\\Python_RTU_08_20\\Diena_13_Visualization\n",
            "\n",
            "\n",
            " Directory of d:\\Github\\Python_RTU_08_20\\Diena_13_Visualization\n",
            "\n",
            "\n",
            " Directory of d:\\Github\\Python_RTU_08_20\\Diena_13_Visualization\n",
            "\n"
          ]
        },
        {
          "name": "stderr",
          "output_type": "stream",
          "text": [
            "File Not Found\n"
          ]
        }
      ],
      "source": [
        "!dir  #with ! i can run terminal commands\n"
      ]
    },
    {
      "cell_type": "code",
      "execution_count": null,
      "metadata": {
        "id": "pvP6DhtuS6-v",
        "outputId": "759bc562-958c-44d1-94f9-3f928d493761"
      },
      "outputs": [
        {
          "name": "stdout",
          "output_type": "stream",
          "text": [
            "Package           Version\n",
            "----------------- -------\n",
            "asttokens         2.2.1\n",
            "backcall          0.2.0\n",
            "colorama          0.4.6\n",
            "comm              0.1.3\n",
            "contourpy         1.0.7\n",
            "cycler            0.11.0\n",
            "debugpy           1.6.7\n",
            "decorator         5.1.1\n",
            "executing         1.2.0\n",
            "fonttools         4.39.3\n",
            "ipykernel         6.22.0\n",
            "ipython           8.12.0\n",
            "jedi              0.18.2\n",
            "jupyter_client    8.2.0\n",
            "jupyter_core      5.3.0\n",
            "kiwisolver        1.4.4\n",
            "matplotlib        3.7.1\n",
            "matplotlib-inline 0.1.6\n",
            "nest-asyncio      1.5.6\n",
            "numpy             1.24.3\n",
            "packaging         23.1\n",
            "parso             0.8.3\n",
            "pickleshare       0.7.5\n",
            "Pillow            9.5.0\n",
            "pip               22.3.1\n",
            "platformdirs      3.2.0\n",
            "prompt-toolkit    3.0.38\n",
            "psutil            5.9.4\n",
            "pure-eval         0.2.2\n",
            "Pygments          2.15.0\n",
            "pyparsing         3.0.9\n",
            "python-dateutil   2.8.2\n",
            "pywin32           306\n",
            "pyzmq             25.0.2\n",
            "setuptools        65.5.0\n",
            "six               1.16.0\n",
            "stack-data        0.6.2\n",
            "tornado           6.2\n",
            "traitlets         5.9.0\n",
            "wcwidth           0.2.6\n"
          ]
        },
        {
          "name": "stderr",
          "output_type": "stream",
          "text": [
            "\n",
            "[notice] A new release of pip available: 22.3.1 -> 23.1.2\n",
            "[notice] To update, run: python.exe -m pip install --upgrade pip\n"
          ]
        }
      ],
      "source": [
        "!pip list"
      ]
    },
    {
      "cell_type": "code",
      "execution_count": null,
      "metadata": {
        "id": "pfUYHVvOS6-w"
      },
      "outputs": [],
      "source": []
    }
  ],
  "metadata": {
    "kernelspec": {
      "display_name": "Python 3 (ipykernel)",
      "language": "python",
      "name": "python3"
    },
    "language_info": {
      "codemirror_mode": {
        "name": "ipython",
        "version": 3
      },
      "file_extension": ".py",
      "mimetype": "text/x-python",
      "name": "python",
      "nbconvert_exporter": "python",
      "pygments_lexer": "ipython3",
      "version": "3.11.3"
    },
    "colab": {
      "provenance": [],
      "toc_visible": true
    }
  },
  "nbformat": 4,
  "nbformat_minor": 0
}