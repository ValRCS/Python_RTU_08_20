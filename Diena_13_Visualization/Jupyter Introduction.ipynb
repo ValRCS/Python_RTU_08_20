{
 "cells": [
  {
   "cell_type": "markdown",
   "metadata": {},
   "source": [
    "# Introduction Jupyter Notebooks\n",
    "\n",
    "## Instructions \n",
    "\n",
    "* How to print \n",
    "* How to show last line output\n",
    "* Variables\n",
    "* Arithmethic\n",
    "\n",
    "![Logo](https://upload.wikimedia.org/wikipedia/commons/3/38/Jupyter_logo.svg)"
   ]
  },
  {
   "cell_type": "code",
   "execution_count": 1,
   "metadata": {},
   "outputs": [
    {
     "name": "stdout",
     "output_type": "stream",
     "text": [
      "Python 3.9.7\n"
     ]
    }
   ],
   "source": [
    "!python --version"
   ]
  },
  {
   "cell_type": "code",
   "execution_count": 72,
   "metadata": {},
   "outputs": [],
   "source": [
    "from datetime import datetime # remember datetime had that double module\n",
    "import os\n",
    "import sys"
   ]
  },
  {
   "cell_type": "code",
   "execution_count": 70,
   "metadata": {},
   "outputs": [
    {
     "name": "stdout",
     "output_type": "stream",
     "text": [
      "C:\\Users\\val-wd\\Github\\Python_RTU_08_20\\Diena_13_Visualization\n"
     ]
    }
   ],
   "source": [
    "print(os.getcwd())"
   ]
  },
  {
   "cell_type": "code",
   "execution_count": 74,
   "metadata": {},
   "outputs": [
    {
     "name": "stdout",
     "output_type": "stream",
     "text": [
      "['C:\\\\Users\\\\val-wd\\\\Github\\\\Python_RTU_08_20\\\\Diena_13_Visualization', 'C:\\\\Users\\\\val-wd\\\\anaconda3\\\\python39.zip', 'C:\\\\Users\\\\val-wd\\\\anaconda3\\\\DLLs', 'C:\\\\Users\\\\val-wd\\\\anaconda3\\\\lib', 'C:\\\\Users\\\\val-wd\\\\anaconda3', '', 'C:\\\\Users\\\\val-wd\\\\AppData\\\\Roaming\\\\Python\\\\Python39\\\\site-packages', 'C:\\\\Users\\\\val-wd\\\\anaconda3\\\\lib\\\\site-packages', 'C:\\\\Users\\\\val-wd\\\\anaconda3\\\\lib\\\\site-packages\\\\locket-0.2.1-py3.9.egg', 'C:\\\\Users\\\\val-wd\\\\anaconda3\\\\lib\\\\site-packages\\\\win32', 'C:\\\\Users\\\\val-wd\\\\anaconda3\\\\lib\\\\site-packages\\\\win32\\\\lib', 'C:\\\\Users\\\\val-wd\\\\anaconda3\\\\lib\\\\site-packages\\\\Pythonwin', 'C:\\\\Users\\\\val-wd\\\\anaconda3\\\\lib\\\\site-packages\\\\IPython\\\\extensions', 'C:\\\\Users\\\\val-wd\\\\.ipython']\n"
     ]
    }
   ],
   "source": [
    "print(sys.path)"
   ]
  },
  {
   "cell_type": "code",
   "execution_count": 2,
   "metadata": {
    "scrolled": false
   },
   "outputs": [
    {
     "name": "stdout",
     "output_type": "stream",
     "text": [
      "Hello Jupyter Notebooks\n",
      "2022-05-10 18:30:48.927182\n"
     ]
    }
   ],
   "source": [
    "print(\"Hello Jupyter Notebooks\")\n",
    "print(datetime.now())"
   ]
  },
  {
   "cell_type": "code",
   "execution_count": 3,
   "metadata": {},
   "outputs": [
    {
     "data": {
      "text/plain": [
       "'Just test directly'"
      ]
     },
     "execution_count": 3,
     "metadata": {},
     "output_type": "execute_result"
    }
   ],
   "source": [
    "\"This line will be executed but not shown\"\n",
    "\"Just test directly\" # for the lazy in us the last line is printed "
   ]
  },
  {
   "cell_type": "code",
   "execution_count": 4,
   "metadata": {},
   "outputs": [
    {
     "data": {
      "text/plain": [
       "33"
      ]
     },
     "execution_count": 4,
     "metadata": {},
     "output_type": "execute_result"
    }
   ],
   "source": [
    "a = 65\n",
    "b = 33\n",
    "a # this will not be shown without print\n",
    "b # last line will be shown"
   ]
  },
  {
   "cell_type": "code",
   "execution_count": 7,
   "metadata": {},
   "outputs": [
    {
     "name": "stdout",
     "output_type": "stream",
     "text": [
      "a and b will be in our kernel memory if we run the above cell first!!\n",
      "Something\n",
      "65\n",
      "150\n"
     ]
    },
    {
     "data": {
      "text/plain": [
       "150"
      ]
     },
     "execution_count": 7,
     "metadata": {},
     "output_type": "execute_result"
    }
   ],
   "source": [
    "print(\"a and b will be in our kernel memory if we run the above cell first!!\")\n",
    "print(\"Something\")\n",
    "print(a)\n",
    "print(b)\n",
    "b  # lazy prints int output without print"
   ]
  },
  {
   "cell_type": "code",
   "execution_count": 6,
   "metadata": {},
   "outputs": [],
   "source": [
    "b = 150 # so Jupyter notebooks can be executed with cells out of order"
   ]
  },
  {
   "cell_type": "code",
   "execution_count": 8,
   "metadata": {},
   "outputs": [
    {
     "data": {
      "text/plain": [
       "(4, 25, False, True)"
      ]
     },
     "execution_count": 8,
     "metadata": {},
     "output_type": "execute_result"
    }
   ],
   "source": [
    "2+2, 5**2, True and False, False or True"
   ]
  },
  {
   "cell_type": "code",
   "execution_count": 9,
   "metadata": {},
   "outputs": [
    {
     "name": "stdout",
     "output_type": "stream",
     "text": [
      "My name is Valdis\n"
     ]
    }
   ],
   "source": [
    "name = \"Valdis\"\n",
    "print(f\"My name is {name}\")"
   ]
  },
  {
   "cell_type": "code",
   "execution_count": 10,
   "metadata": {},
   "outputs": [
    {
     "name": "stdout",
     "output_type": "stream",
     "text": [
      "Valdis 65\n"
     ]
    }
   ],
   "source": [
    "print(name, a) \n",
    "# as soon as cell is run, the contents are available in the notebook"
   ]
  },
  {
   "cell_type": "code",
   "execution_count": 11,
   "metadata": {},
   "outputs": [],
   "source": [
    "# one confusing thing about Jupyter Notebooks\n",
    "# you can run cells out of order\n",
    "c = 77"
   ]
  },
  {
   "cell_type": "code",
   "execution_count": 13,
   "metadata": {
    "scrolled": true
   },
   "outputs": [
    {
     "data": {
      "text/plain": [
       "77"
      ]
     },
     "execution_count": 13,
     "metadata": {},
     "output_type": "execute_result"
    }
   ],
   "source": [
    "c # it would be nicer to call in top down manner"
   ]
  },
  {
   "cell_type": "code",
   "execution_count": 12,
   "metadata": {},
   "outputs": [
    {
     "name": "stdout",
     "output_type": "stream",
     "text": [
      "Valdy\n"
     ]
    }
   ],
   "source": [
    "name = \"Valdy\"\n",
    "\n",
    "print(name)"
   ]
  },
  {
   "cell_type": "code",
   "execution_count": 36,
   "metadata": {},
   "outputs": [],
   "source": [
    "cnt = 0"
   ]
  },
  {
   "cell_type": "code",
   "execution_count": 45,
   "metadata": {},
   "outputs": [
    {
     "data": {
      "text/plain": [
       "9"
      ]
     },
     "execution_count": 45,
     "metadata": {},
     "output_type": "execute_result"
    }
   ],
   "source": [
    "cnt += 1\n",
    "cnt"
   ]
  },
  {
   "cell_type": "code",
   "execution_count": 14,
   "metadata": {},
   "outputs": [
    {
     "name": "stdout",
     "output_type": "stream",
     "text": [
      "Valdis\n"
     ]
    }
   ],
   "source": [
    "print(name)"
   ]
  },
  {
   "cell_type": "code",
   "execution_count": 63,
   "metadata": {},
   "outputs": [
    {
     "name": "stdout",
     "output_type": "stream",
     "text": [
      "let's run this for the time:  27\n"
     ]
    }
   ],
   "source": [
    "# Shift-Enter\n",
    "# : run cell, select below\n",
    "# Ctrl-Enter\n",
    "# : run selected cells\n",
    "# Alt-Enter\n",
    "# : run cell and insert below\n",
    "cnt += 1\n",
    "print(\"let's run this for the time: \", cnt)"
   ]
  },
  {
   "cell_type": "code",
   "execution_count": 39,
   "metadata": {},
   "outputs": [
    {
     "name": "stdout",
     "output_type": "stream",
     "text": [
      "My name is still Valdis\n"
     ]
    }
   ],
   "source": [
    "name = \"Valdis\"\n",
    "\n",
    "print(f\"My name is still {name}\")\n",
    "\n",
    "### End of Introduction"
   ]
  },
  {
   "cell_type": "code",
   "execution_count": 64,
   "metadata": {},
   "outputs": [
    {
     "name": "stdout",
     "output_type": "stream",
     "text": [
      " Volume in drive C has no label.\n",
      " Volume Serial Number is 3E61-0D96\n",
      "\n",
      " Directory of C:\\Users\\val-wd\\Github\\Python_RTU_08_20\\Diena_13_Visualization\n",
      "\n",
      "05/10/2022  06:35 PM    <DIR>          .\n",
      "05/10/2022  06:35 PM    <DIR>          ..\n",
      "05/10/2022  06:29 PM    <DIR>          .ipynb_checkpoints\n",
      "10/22/2021  02:53 PM            29,598 A17_Uzd1.ipynb\n",
      "05/20/2021  04:27 PM             1,787 ARCGIS.ipynb\n",
      "05/09/2022  11:25 AM                 0 basics.txt\n",
      "04/05/2022  05:53 PM            95,474 country_gdp.xlsx\n",
      "10/22/2021  02:53 PM         3,616,513 d13_a16_u1.ipynb\n",
      "05/20/2021  04:27 PM               590 d13_f1_u1.py\n",
      "05/20/2021  04:27 PM               469 d13_g1_u1.py\n",
      "05/20/2021  04:27 PM            21,416 D13_g2_u1.ipynb\n",
      "05/20/2021  04:27 PM               298 d13_g2_u1.py\n",
      "05/20/2021  04:27 PM            17,262 D13_g2_u1b.ipynb\n",
      "10/22/2021  02:53 PM           104,457 d13_g2_u2.ipynb\n",
      "05/20/2021  04:27 PM         3,632,617 d13_g3_u1.ipynb\n",
      "05/09/2022  08:48 PM            35,545 d13_m28_u1.ipynb\n",
      "05/09/2022  08:40 PM               561 d13_m28_u1.py\n",
      "11/05/2021  03:31 PM               543 d13_s27_u1.py\n",
      "04/05/2022  05:53 PM               347 d13_s28_u1.py\n",
      "05/20/2021  04:27 PM         3,741,751 d13_uzd2_VM.ipynb\n",
      "11/05/2021  03:31 PM            48,872 Day 13 S27 U1.ipynb\n",
      "04/05/2022  05:53 PM           104,634 Day 13 S28 U2.ipynb\n",
      "11/05/2021  03:31 PM            97,394 Day 13 Uzd 2 S27.ipynb\n",
      "04/05/2022  05:53 PM            42,984 Day13 S28 Group.ipynb\n",
      "05/20/2021  04:27 PM             2,143 Interact.ipynb\n",
      "05/20/2021  04:27 PM               756 Jan21Notebook.ipynb\n",
      "10/11/2020  08:44 PM               742 JaunsFails.ipynb\n",
      "10/11/2020  08:44 PM             2,277 Jupyter Group 1.ipynb\n",
      "05/10/2022  06:35 PM             6,599 Jupyter Introduction.ipynb\n",
      "05/20/2021  04:27 PM               659 Jupyter Introduction.py\n",
      "11/05/2021  03:31 PM         3,619,314 KD1_Raivis_S.ipynb\n",
      "11/05/2021  03:31 PM         3,811,094 KD2_Raivis_S.ipynb\n",
      "05/09/2022  08:38 PM         4,242,574 Klases_darbs_vizualizaacija.ipynb\n",
      "05/09/2022  07:06 PM            24,270 lu.csv\n",
      "05/20/2021  04:27 PM           204,516 Matlplotlib Full Example.ipynb\n",
      "04/05/2022  05:53 PM               845 matplot.py\n",
      "05/09/2022  06:56 PM            43,403 Matplotlib in Jupyter.ipynb\n",
      "05/20/2021  04:27 PM             4,078 mat_full.py\n",
      "10/22/2021  02:53 PM             6,069 monthly_stats.xlsx\n",
      "05/20/2021  04:27 PM         3,695,330 MyPracticeMar15.ipynb\n",
      "10/22/2021  02:53 PM            90,743 Nerezidenti.ipynb\n",
      "10/22/2021  02:53 PM           104,424 nonresidents_2020.xlsx\n",
      "04/05/2022  05:53 PM         3,917,443 Plotly Example.ipynb\n",
      "10/11/2020  08:44 PM    <DIR>          random\n",
      "05/20/2021  04:27 PM            15,052 Random Dice.ipynb\n",
      "10/22/2021  02:53 PM             8,237 Random_Dice_Sep24.ipynb\n",
      "10/22/2021  02:53 PM               154 random_example.py\n",
      "04/05/2022  05:53 PM         4,003,250 Reading Data with Pandas.ipynb\n",
      "05/20/2021  04:27 PM            12,798 RTU_Python_21_Jan_Dice_roll.ipynb\n",
      "10/11/2020  08:44 PM            17,562 simplegraph.png\n",
      "10/11/2020  08:44 PM                87 stack.py\n",
      "05/09/2022  08:57 PM           101,117 Travelers_Cesis.ipynb\n",
      "05/20/2021  04:27 PM         3,672,473 Uzd1_g2.ipynb\n",
      "10/11/2020  08:44 PM               608 uzd1_g2.py\n",
      "10/11/2020  08:44 PM               369 uzd1_g2b.py\n",
      "10/11/2020  08:44 PM             1,108 uzd1_g2c.py\n",
      "05/20/2021  04:27 PM         5,527,436 Uzd1_group1_n16.ipynb\n",
      "05/20/2021  04:27 PM           123,921 Uzd2_g1_n16.ipynb\n",
      "              54 File(s)     44,854,563 bytes\n",
      "               4 Dir(s)  16,696,778,752 bytes free\n"
     ]
    }
   ],
   "source": [
    "!dir  #with ! i can run terminal commands\n"
   ]
  },
  {
   "cell_type": "code",
   "execution_count": 65,
   "metadata": {},
   "outputs": [
    {
     "name": "stdout",
     "output_type": "stream",
     "text": [
      "Package                            Version\n",
      "---------------------------------- --------------------\n",
      "alabaster                          0.7.12\n",
      "altgraph                           0.17\n",
      "anaconda-client                    1.9.0\n",
      "anaconda-navigator                 2.1.1\n",
      "anaconda-project                   0.10.1\n",
      "anyio                              2.2.0\n",
      "appdirs                            1.4.4\n",
      "argh                               0.26.2\n",
      "argon2-cffi                        20.1.0\n",
      "arrow                              0.13.1\n",
      "asn1crypto                         1.4.0\n",
      "astroid                            2.6.6\n",
      "astropy                            4.3.1\n",
      "async-generator                    1.10\n",
      "atomicwrites                       1.4.0\n",
      "attrs                              21.2.0\n",
      "autopep8                           1.5.7\n",
      "Babel                              2.9.1\n",
      "backcall                           0.2.0\n",
      "backports.functools-lru-cache      1.6.4\n",
      "backports.shutil-get-terminal-size 1.0.0\n",
      "backports.tempfile                 1.0\n",
      "backports.weakref                  1.0.post1\n",
      "bcrypt                             3.2.0\n",
      "beautifulsoup4                     4.10.0\n",
      "binaryornot                        0.4.4\n",
      "bitarray                           2.3.0\n",
      "bkcharts                           0.2\n",
      "black                              19.10b0\n",
      "bleach                             4.0.0\n",
      "bokeh                              2.4.1\n",
      "boto                               2.49.0\n",
      "boto3                              1.20.24\n",
      "botocore                           1.23.24\n",
      "Bottleneck                         1.3.2\n",
      "brotlipy                           0.7.0\n",
      "bz2file                            0.98\n",
      "cached-property                    1.5.2\n",
      "certifi                            2020.12.5\n",
      "cffi                               1.14.6\n",
      "chardet                            4.0.0\n",
      "charset-normalizer                 2.0.4\n",
      "click                              8.0.3\n",
      "cloudpickle                        2.0.0\n",
      "clyent                             1.2.2\n",
      "colorama                           0.4.4\n",
      "comtypes                           1.1.10\n",
      "conda                              4.11.0\n",
      "conda-build                        3.21.6\n",
      "conda-content-trust                0+unknown\n",
      "conda-pack                         0.6.0\n",
      "conda-package-handling             1.7.3\n",
      "conda-repo-cli                     1.0.4\n",
      "conda-token                        0.3.0\n",
      "conda-verify                       3.4.2\n",
      "configparse                        0.1.5\n",
      "contextlib2                        0.6.0.post1\n",
      "cookiecutter                       1.7.2\n",
      "cryptography                       3.4.8\n",
      "cycler                             0.11.0\n",
      "Cython                             0.29.24\n",
      "cytoolz                            0.11.0\n",
      "daal4py                            2021.3.0\n",
      "dask                               2021.10.0\n",
      "debugpy                            1.4.1\n",
      "decorator                          5.1.0\n",
      "defusedxml                         0.7.1\n",
      "diff-match-patch                   20200713\n",
      "distributed                        2021.10.0\n",
      "docutils                           0.17.1\n",
      "entrypoints                        0.3\n",
      "et-xmlfile                         1.0.1\n",
      "fastcache                          1.1.0\n",
      "filelock                           3.3.1\n",
      "flake8                             3.9.2\n",
      "Flask                              1.1.2\n",
      "fonttools                          4.33.3\n",
      "fsspec                             2021.10.1\n",
      "future                             0.18.2\n",
      "gensim                             3.8.3\n",
      "gevent                             21.8.0\n",
      "glob2                              0.7\n",
      "greenlet                           1.1.1\n",
      "h5py                               3.2.1\n",
      "HeapDict                           1.0.1\n",
      "html5lib                           1.1\n",
      "idna                               2.10\n",
      "imagecodecs                        2021.8.26\n",
      "imageio                            2.9.0\n",
      "imagesize                          1.2.0\n",
      "importlib-metadata                 4.8.1\n",
      "inflection                         0.5.1\n",
      "iniconfig                          1.1.1\n",
      "intervaltree                       3.1.0\n",
      "ipykernel                          6.4.1\n",
      "ipython                            7.29.0\n",
      "ipython-genutils                   0.2.0\n",
      "ipywidgets                         7.6.5\n",
      "isort                              5.9.3\n",
      "itsdangerous                       2.0.1\n",
      "jdcal                              1.4.1\n",
      "jedi                               0.18.0\n",
      "Jinja2                             2.11.3\n",
      "jinja2-time                        0.2.0\n",
      "jmespath                           0.10.0\n",
      "joblib                             1.1.0\n",
      "json5                              0.9.6\n",
      "jsonschema                         3.2.0\n",
      "jupyter                            1.0.0\n",
      "jupyter-client                     6.1.12\n",
      "jupyter-console                    6.4.0\n",
      "jupyter-core                       4.8.1\n",
      "jupyter-server                     1.4.1\n",
      "jupyterlab                         3.2.1\n",
      "jupyterlab-pygments                0.1.2\n",
      "jupyterlab-server                  2.8.2\n",
      "jupyterlab-widgets                 1.0.0\n",
      "keyring                            23.1.0\n",
      "kiwisolver                         1.4.2\n",
      "lazy-object-proxy                  1.6.0\n",
      "lexical-diversity                  0.1.1\n",
      "libarchive-c                       2.9\n",
      "llvmlite                           0.37.0\n",
      "locket                             0.2.1\n",
      "lxml                               4.6.3\n",
      "MarkupSafe                         1.1.1\n",
      "matplotlib                         3.5.2\n",
      "matplotlib-inline                  0.1.2\n",
      "mccabe                             0.6.1\n",
      "menuinst                           1.4.18\n",
      "mistune                            0.8.4\n",
      "mkl-fft                            1.3.1\n",
      "mkl-random                         1.2.2\n",
      "mkl-service                        2.4.0\n",
      "mock                               4.0.3\n",
      "more-itertools                     8.10.0\n",
      "mpmath                             1.2.1\n",
      "msgpack                            1.0.2\n",
      "multipledispatch                   0.6.0\n",
      "munkres                            1.1.4\n",
      "mypy-extensions                    0.4.3\n",
      "navigator-updater                  0.2.1\n",
      "nbclassic                          0.2.6\n",
      "nbclient                           0.5.3\n",
      "nbconvert                          6.1.0\n",
      "nbformat                           5.1.3\n",
      "nest-asyncio                       1.5.1\n",
      "networkx                           2.6.3\n",
      "nltk                               3.6.5\n",
      "nose                               1.3.7\n",
      "notebook                           6.4.5\n",
      "numba                              0.54.1\n",
      "numexpr                            2.7.3\n",
      "numpy                              1.20.2\n",
      "numpydoc                           1.1.0\n",
      "olefile                            0.46\n",
      "openpyxl                           3.0.7\n",
      "packaging                          21.3\n",
      "pandas                             1.2.3\n",
      "pandocfilters                      1.4.3\n",
      "paramiko                           2.7.2\n",
      "parso                              0.8.2\n",
      "partd                              1.2.0\n",
      "path                               16.0.0\n",
      "pathlib2                           2.3.6\n",
      "pathspec                           0.7.0\n",
      "patsy                              0.5.2\n",
      "pefile                             2019.4.18\n",
      "pep8                               1.7.1\n",
      "pexpect                            4.8.0\n",
      "pickleshare                        0.7.5\n",
      "Pillow                             9.1.0\n",
      "pip                                21.2.4\n",
      "pkginfo                            1.7.1\n",
      "plotly                             5.6.0\n",
      "pluggy                             0.13.1\n",
      "ply                                3.11\n",
      "poyo                               0.5.0\n",
      "praw                               7.5.0\n",
      "prawcore                           2.3.0\n",
      "prometheus-client                  0.11.0\n",
      "prompt-toolkit                     3.0.20\n",
      "psutil                             5.8.0\n",
      "ptyprocess                         0.7.0\n",
      "py                                 1.10.0\n",
      "pyarrow                            4.0.0\n",
      "pycodestyle                        2.7.0\n",
      "pycosat                            0.6.3\n",
      "pycparser                          2.20\n",
      "pycurl                             7.44.1\n",
      "pydocstyle                         6.1.1\n",
      "pyerfa                             2.0.0\n",
      "pyflakes                           2.3.1\n",
      "Pygments                           2.10.0\n",
      "pyinstaller                        4.2\n",
      "pyinstaller-hooks-contrib          2021.1\n",
      "PyJWT                              2.1.0\n",
      "pylint                             2.9.6\n",
      "pyls-spyder                        0.4.0\n",
      "PyNaCl                             1.4.0\n",
      "pyodbc                             4.0.0-unsupported\n",
      "pyOpenSSL                          21.0.0\n",
      "pyparsing                          3.0.8\n",
      "pyreadline                         2.1\n",
      "pyrsistent                         0.18.0\n",
      "PySocks                            1.7.1\n",
      "pytest                             6.2.4\n",
      "python-dateutil                    2.8.1\n",
      "python-lsp-black                   1.0.0\n",
      "python-lsp-jsonrpc                 1.0.0\n",
      "python-lsp-server                  1.2.4\n",
      "python-slugify                     5.0.2\n",
      "pytz                               2021.1\n",
      "PyWavelets                         1.1.1\n",
      "pywin32                            228\n",
      "pywin32-ctypes                     0.2.0\n",
      "pywinpty                           0.5.7\n",
      "PyYAML                             6.0\n",
      "pyzmq                              22.2.1\n",
      "QDarkStyle                         3.0.2\n",
      "qstylizer                          0.1.10\n",
      "QtAwesome                          1.0.2\n",
      "qtconsole                          5.1.1\n",
      "QtPy                               1.10.0\n",
      "regex                              2021.8.3\n",
      "requests                           2.25.1\n",
      "rope                               0.19.0\n",
      "Rtree                              0.9.7\n",
      "ruamel-yaml-conda                  0.15.100\n",
      "s3transfer                         0.5.0\n",
      "scikit-image                       0.18.3\n",
      "scikit-learn                       0.24.2\n",
      "scikit-learn-intelex               2021.20210714.120553\n",
      "scipy                              1.7.1\n",
      "seaborn                            0.11.2\n",
      "Send2Trash                         1.8.0\n",
      "setuptools                         58.0.4\n",
      "simplegeneric                      0.8.1\n",
      "singledispatch                     3.7.0\n",
      "sip                                4.19.13\n",
      "six                                1.15.0\n",
      "smart-open                         1.9.0\n",
      "sniffio                            1.2.0\n",
      "snowballstemmer                    2.1.0\n",
      "sortedcollections                  2.1.0\n",
      "sortedcontainers                   2.4.0\n",
      "soupsieve                          2.2.1\n",
      "Sphinx                             4.2.0\n",
      "sphinxcontrib-applehelp            1.0.2\n",
      "sphinxcontrib-devhelp              1.0.2\n",
      "sphinxcontrib-htmlhelp             2.0.0\n",
      "sphinxcontrib-jsmath               1.0.1\n",
      "sphinxcontrib-qthelp               1.0.3\n",
      "sphinxcontrib-serializinghtml      1.1.5\n",
      "sphinxcontrib-websupport           1.2.4\n",
      "spyder                             5.1.5\n",
      "spyder-kernels                     2.1.3\n",
      "SQLAlchemy                         1.4.22\n",
      "statsmodels                        0.12.2\n",
      "sympy                              1.9\n",
      "tables                             3.6.1\n",
      "TBB                                0.2\n",
      "tblib                              1.7.0\n",
      "tenacity                           8.0.1\n",
      "terminado                          0.9.4\n",
      "testpath                           0.5.0\n",
      "text-unidecode                     1.3\n",
      "textdistance                       4.2.1\n",
      "threadpoolctl                      2.2.0\n",
      "three-merge                        0.1.1\n",
      "tifffile                           2021.7.2\n",
      "tinycss                            0.4\n",
      "toml                               0.10.2\n",
      "toolz                              0.11.1\n",
      "tornado                            6.1\n",
      "tqdm                               4.62.3\n",
      "traitlets                          5.1.0\n",
      "typed-ast                          1.4.3\n",
      "typing-extensions                  3.10.0.2\n",
      "ujson                              4.0.2\n",
      "unicodecsv                         0.14.1\n",
      "Unidecode                          1.2.0\n",
      "update-checker                     0.18.0\n",
      "urllib3                            1.26.4\n",
      "watchdog                           2.1.3\n",
      "wcwidth                            0.2.5\n",
      "webencodings                       0.5.1\n",
      "websocket-client                   1.2.3\n",
      "Werkzeug                           2.0.2\n",
      "wheel                              0.37.0\n",
      "whichcraft                         0.6.1\n",
      "widgetsnbextension                 3.5.1\n",
      "win-inet-pton                      1.1.0\n",
      "win-unicode-console                0.5\n",
      "wincertstore                       0.2\n",
      "windows-curses                     2.2.0\n",
      "wordcloud                          1.8.1\n",
      "wrapt                              1.12.1\n",
      "xlrd                               2.0.1\n",
      "XlsxWriter                         3.0.1\n",
      "xlwings                            0.24.9\n",
      "xlwt                               1.3.0\n",
      "xmltodict                          0.12.0\n",
      "yapf                               0.31.0\n",
      "zict                               2.0.0\n",
      "zipp                               3.6.0\n",
      "zope.event                         4.5.0\n",
      "zope.interface                     5.4.0\n"
     ]
    }
   ],
   "source": [
    "!pip list"
   ]
  },
  {
   "cell_type": "code",
   "execution_count": null,
   "metadata": {},
   "outputs": [],
   "source": []
  }
 ],
 "metadata": {
  "kernelspec": {
   "display_name": "Python 3 (ipykernel)",
   "language": "python",
   "name": "python3"
  },
  "language_info": {
   "codemirror_mode": {
    "name": "ipython",
    "version": 3
   },
   "file_extension": ".py",
   "mimetype": "text/x-python",
   "name": "python",
   "nbconvert_exporter": "python",
   "pygments_lexer": "ipython3",
   "version": "3.9.7"
  }
 },
 "nbformat": 4,
 "nbformat_minor": 2
}
