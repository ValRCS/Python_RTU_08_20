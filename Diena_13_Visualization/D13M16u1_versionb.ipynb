{
 "cells": [
  {
   "cell_type": "code",
   "execution_count": 1,
   "id": "506e1af9",
   "metadata": {},
   "outputs": [],
   "source": [
    "import matplotlib.pyplot as plt\n",
    "import random\n",
    "from collections import Counter\n",
    " \n",
    "def cube_metiens():\n",
    "    cub_1 = random.randint(1, 6)\n",
    "    return cub_1\n",
    " \n",
    "num_simulations = 100000\n",
    "max_num_rolls = 6\n",
    "sum_6_try=0"
   ]
  },
  {
   "cell_type": "code",
   "execution_count": 2,
   "id": "1763f62a",
   "metadata": {},
   "outputs": [
    {
     "data": {
      "image/png": "[encoded data removed]",
      "text/plain": [
       "<Figure size 432x288 with 1 Axes>"
      ]
     },
     "metadata": {
      "needs_background": "light"
     },
     "output_type": "display_data"
    }
   ],
   "source": [
    "# array\n",
    "win_probability = []\n",
    "end_balance = []\n",
    "biezums = []\n",
    " \n",
    "fig = plt.figure()\n",
    "plt.title(\"Cube Game [\" + str(num_simulations) + \"simulations]\")\n",
    "plt.xlabel(\"Roll Number\")\n",
    "plt.ylabel(\"Balance [Eur]\")\n",
    "plt.xlim([0, max_num_rolls])\n",
    "plt.show()"
   ]
  },
  {
   "cell_type": "code",
   "execution_count": 4,
   "id": "8ea30554",
   "metadata": {},
   "outputs": [
    {
     "data": {
      "text/plain": [
       "<BarContainer object of 31 artists>"
      ]
     },
     "execution_count": 4,
     "metadata": {},
     "output_type": "execute_result"
    },
    {
     "data": {
      "image/png": "[encoded data removed]",
      "text/plain": [
       "<Figure size 432x288 with 1 Axes>"
      ]
     },
     "metadata": {
      "needs_background": "light"
     },
     "output_type": "display_data"
    }
   ],
   "source": [
    "\n",
    " \n",
    "\n",
    "balance = []\n",
    "for i in range(num_simulations):\n",
    "    total = 0\n",
    "    for dice in range(max_num_rolls):\n",
    "        total += cube_metiens()\n",
    "    balance.append(total)\n",
    " \n",
    "\n",
    " \n",
    " \n",
    " \n",
    "# grafikam\n",
    " \n",
    "biezums = Counter(balance)\n",
    "# win_probability.append(num_wins/num_rolls[-1])\n",
    "# end_balance.append(balance[-1])\n",
    "plt.bar(biezums.keys(), biezums.values())"
   ]
  }
 ],
 "metadata": {
  "kernelspec": {
   "display_name": "Python 3 (ipykernel)",
   "language": "python",
   "name": "python3"
  },
  "language_info": {
   "codemirror_mode": {
    "name": "ipython",
    "version": 3
   },
   "file_extension": ".py",
   "mimetype": "text/x-python",
   "name": "python",
   "nbconvert_exporter": "python",
   "pygments_lexer": "ipython3",
   "version": "3.9.7"
  }
 },
 "nbformat": 4,
 "nbformat_minor": 5
}
